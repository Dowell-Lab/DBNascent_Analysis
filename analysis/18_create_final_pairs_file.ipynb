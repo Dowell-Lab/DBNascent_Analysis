{
 "cells": [
  {
   "cell_type": "markdown",
   "metadata": {},
   "source": [
    "**Author :** Rutendo F. Sigauke\n",
    "\n",
    "**Input  :** \n",
    "\n",
    "1. Further filtered significant pairs\n",
    "\n",
    "        - sig_inter_nobs_dist_filtered.txt.gz\n",
    "\n",
    "2. Gene and bidirectional pairs that overlap GTEx eQTLs \n",
    "    \n",
    "        - sig_pairs_path_DT_filt_gtex_all_INTER.txt.gz\n",
    "        \n",
    "3. GENIE3 ranked bidirectional gene pairs  (*chr*_GENIE3_ranks.tsv.gz)\n",
    "\n",
    "\n",
    "**Output :**\n",
    "\n",
    "1. Final filtered significant pairs with GTEx supported pairs and GENIE3 ranks\n",
    "\n",
    "        - dbnascent_pairs_hg38.txt.gz\n"
   ]
  },
  {
   "cell_type": "markdown",
   "metadata": {},
   "source": [
    "# Load libraries"
   ]
  },
  {
   "cell_type": "code",
   "execution_count": 1,
   "metadata": {},
   "outputs": [],
   "source": [
    "library(data.table) "
   ]
  },
  {
   "cell_type": "markdown",
   "metadata": {},
   "source": [
    "# Import data"
   ]
  },
  {
   "cell_type": "markdown",
   "metadata": {},
   "source": [
    "## Significant pairs"
   ]
  },
  {
   "cell_type": "code",
   "execution_count": 2,
   "metadata": {},
   "outputs": [
    {
     "data": {
      "text/html": [
       "1440890"
      ],
      "text/latex": [
       "1440890"
      ],
      "text/markdown": [
       "1440890"
      ],
      "text/plain": [
       "[1] 1440890"
      ]
     },
     "metadata": {},
     "output_type": "display_data"
    },
    {
     "data": {
      "text/html": [
       "<table class=\"dataframe\">\n",
       "<caption>A data.table: 6 × 24</caption>\n",
       "<thead>\n",
       "\t<tr><th scope=col>transcript1_chrom</th><th scope=col>transcript1_start</th><th scope=col>transcript1_stop</th><th scope=col>transcript_1</th><th scope=col>transcript1_score</th><th scope=col>transcript1_strand</th><th scope=col>transcript2_chrom</th><th scope=col>transcript2_start</th><th scope=col>transcript2_stop</th><th scope=col>transcript_2</th><th scope=col>⋯</th><th scope=col>adj_p_BH</th><th scope=col>nObs</th><th scope=col>t</th><th scope=col>distance_tss</th><th scope=col>distance_tes</th><th scope=col>position</th><th scope=col>tissue</th><th scope=col>percent_transcribed_both</th><th scope=col>pair_id</th><th scope=col>pair_id_tissue</th></tr>\n",
       "\t<tr><th scope=col>&lt;chr&gt;</th><th scope=col>&lt;int&gt;</th><th scope=col>&lt;int&gt;</th><th scope=col>&lt;chr&gt;</th><th scope=col>&lt;chr&gt;</th><th scope=col>&lt;chr&gt;</th><th scope=col>&lt;chr&gt;</th><th scope=col>&lt;int&gt;</th><th scope=col>&lt;int&gt;</th><th scope=col>&lt;chr&gt;</th><th scope=col>⋯</th><th scope=col>&lt;dbl&gt;</th><th scope=col>&lt;int&gt;</th><th scope=col>&lt;dbl&gt;</th><th scope=col>&lt;dbl&gt;</th><th scope=col>&lt;dbl&gt;</th><th scope=col>&lt;chr&gt;</th><th scope=col>&lt;chr&gt;</th><th scope=col>&lt;dbl&gt;</th><th scope=col>&lt;chr&gt;</th><th scope=col>&lt;chr&gt;</th></tr>\n",
       "</thead>\n",
       "<tbody>\n",
       "\t<tr><td>chr1</td><td>33306765</td><td>33321098</td><td>A3GALT2:NM_001080438.1</td><td>.</td><td>-</td><td>chr1</td><td>33036652</td><td>33037238</td><td>chr1:33036652-33037238</td><td>⋯</td><td>9.631487e-23</td><td>215</td><td>11.984604</td><td>284153</td><td>269820</td><td>downstream</td><td>blood</td><td>96.846847</td><td>A3GALT2:NM_001080438.1~chr1:33036652-33037238</td><td>A3GALT2:NM_001080438.1~chr1:33036652-33037238~blood</td></tr>\n",
       "\t<tr><td>chr1</td><td>33306765</td><td>33321098</td><td>A3GALT2:NM_001080438.1</td><td>.</td><td>-</td><td>chr1</td><td>33224694</td><td>33224966</td><td>chr1:33224694-33224966</td><td>⋯</td><td>2.198101e-03</td><td> 16</td><td> 5.028114</td><td> 96268</td><td> 81935</td><td>downstream</td><td>blood</td><td> 7.207207</td><td>A3GALT2:NM_001080438.1~chr1:33224694-33224966</td><td>A3GALT2:NM_001080438.1~chr1:33224694-33224966~blood</td></tr>\n",
       "\t<tr><td>chr1</td><td>33306765</td><td>33321098</td><td>A3GALT2:NM_001080438.1</td><td>.</td><td>-</td><td>chr1</td><td>33242850</td><td>33243170</td><td>chr1:33242850-33243170</td><td>⋯</td><td>2.060092e-03</td><td> 22</td><td> 4.606764</td><td> 78088</td><td> 63755</td><td>downstream</td><td>blood</td><td> 9.909910</td><td>A3GALT2:NM_001080438.1~chr1:33242850-33243170</td><td>A3GALT2:NM_001080438.1~chr1:33242850-33243170~blood</td></tr>\n",
       "\t<tr><td>chr1</td><td>93992833</td><td>94121148</td><td>ABCA4:NM_000350.3     </td><td>.</td><td>-</td><td>chr1</td><td>93910534</td><td>93911046</td><td>chr1:93910534-93911046</td><td>⋯</td><td>6.731068e-11</td><td> 86</td><td> 8.504139</td><td>210358</td><td> 82043</td><td>downstream</td><td>blood</td><td>38.738739</td><td>ABCA4:NM_000350.3~chr1:93910534-93911046     </td><td>ABCA4:NM_000350.3~chr1:93910534-93911046~blood     </td></tr>\n",
       "\t<tr><td>chr1</td><td>93992833</td><td>94121148</td><td>ABCA4:NM_000350.3     </td><td>.</td><td>-</td><td>chr1</td><td>93931066</td><td>93931248</td><td>chr1:93931066-93931248</td><td>⋯</td><td>1.088703e-04</td><td> 35</td><td> 5.429220</td><td>189991</td><td> 61676</td><td>downstream</td><td>blood</td><td>15.765766</td><td>ABCA4:NM_000350.3~chr1:93931066-93931248     </td><td>ABCA4:NM_000350.3~chr1:93931066-93931248~blood     </td></tr>\n",
       "\t<tr><td>chr1</td><td>93992833</td><td>94121148</td><td>ABCA4:NM_000350.3     </td><td>.</td><td>-</td><td>chr1</td><td>93946840</td><td>93947120</td><td>chr1:93946840-93947120</td><td>⋯</td><td>6.991417e-06</td><td> 38</td><td> 6.376853</td><td>174168</td><td> 45853</td><td>downstream</td><td>blood</td><td>17.117117</td><td>ABCA4:NM_000350.3~chr1:93946840-93947120     </td><td>ABCA4:NM_000350.3~chr1:93946840-93947120~blood     </td></tr>\n",
       "</tbody>\n",
       "</table>\n"
      ],
      "text/latex": [
       "A data.table: 6 × 24\n",
       "\\begin{tabular}{lllllllllllllllllllll}\n",
       " transcript1\\_chrom & transcript1\\_start & transcript1\\_stop & transcript\\_1 & transcript1\\_score & transcript1\\_strand & transcript2\\_chrom & transcript2\\_start & transcript2\\_stop & transcript\\_2 & ⋯ & adj\\_p\\_BH & nObs & t & distance\\_tss & distance\\_tes & position & tissue & percent\\_transcribed\\_both & pair\\_id & pair\\_id\\_tissue\\\\\n",
       " <chr> & <int> & <int> & <chr> & <chr> & <chr> & <chr> & <int> & <int> & <chr> & ⋯ & <dbl> & <int> & <dbl> & <dbl> & <dbl> & <chr> & <chr> & <dbl> & <chr> & <chr>\\\\\n",
       "\\hline\n",
       "\t chr1 & 33306765 & 33321098 & A3GALT2:NM\\_001080438.1 & . & - & chr1 & 33036652 & 33037238 & chr1:33036652-33037238 & ⋯ & 9.631487e-23 & 215 & 11.984604 & 284153 & 269820 & downstream & blood & 96.846847 & A3GALT2:NM\\_001080438.1\\textasciitilde{}chr1:33036652-33037238 & A3GALT2:NM\\_001080438.1\\textasciitilde{}chr1:33036652-33037238\\textasciitilde{}blood\\\\\n",
       "\t chr1 & 33306765 & 33321098 & A3GALT2:NM\\_001080438.1 & . & - & chr1 & 33224694 & 33224966 & chr1:33224694-33224966 & ⋯ & 2.198101e-03 &  16 &  5.028114 &  96268 &  81935 & downstream & blood &  7.207207 & A3GALT2:NM\\_001080438.1\\textasciitilde{}chr1:33224694-33224966 & A3GALT2:NM\\_001080438.1\\textasciitilde{}chr1:33224694-33224966\\textasciitilde{}blood\\\\\n",
       "\t chr1 & 33306765 & 33321098 & A3GALT2:NM\\_001080438.1 & . & - & chr1 & 33242850 & 33243170 & chr1:33242850-33243170 & ⋯ & 2.060092e-03 &  22 &  4.606764 &  78088 &  63755 & downstream & blood &  9.909910 & A3GALT2:NM\\_001080438.1\\textasciitilde{}chr1:33242850-33243170 & A3GALT2:NM\\_001080438.1\\textasciitilde{}chr1:33242850-33243170\\textasciitilde{}blood\\\\\n",
       "\t chr1 & 93992833 & 94121148 & ABCA4:NM\\_000350.3      & . & - & chr1 & 93910534 & 93911046 & chr1:93910534-93911046 & ⋯ & 6.731068e-11 &  86 &  8.504139 & 210358 &  82043 & downstream & blood & 38.738739 & ABCA4:NM\\_000350.3\\textasciitilde{}chr1:93910534-93911046      & ABCA4:NM\\_000350.3\\textasciitilde{}chr1:93910534-93911046\\textasciitilde{}blood     \\\\\n",
       "\t chr1 & 93992833 & 94121148 & ABCA4:NM\\_000350.3      & . & - & chr1 & 93931066 & 93931248 & chr1:93931066-93931248 & ⋯ & 1.088703e-04 &  35 &  5.429220 & 189991 &  61676 & downstream & blood & 15.765766 & ABCA4:NM\\_000350.3\\textasciitilde{}chr1:93931066-93931248      & ABCA4:NM\\_000350.3\\textasciitilde{}chr1:93931066-93931248\\textasciitilde{}blood     \\\\\n",
       "\t chr1 & 93992833 & 94121148 & ABCA4:NM\\_000350.3      & . & - & chr1 & 93946840 & 93947120 & chr1:93946840-93947120 & ⋯ & 6.991417e-06 &  38 &  6.376853 & 174168 &  45853 & downstream & blood & 17.117117 & ABCA4:NM\\_000350.3\\textasciitilde{}chr1:93946840-93947120      & ABCA4:NM\\_000350.3\\textasciitilde{}chr1:93946840-93947120\\textasciitilde{}blood     \\\\\n",
       "\\end{tabular}\n"
      ],
      "text/markdown": [
       "\n",
       "A data.table: 6 × 24\n",
       "\n",
       "| transcript1_chrom &lt;chr&gt; | transcript1_start &lt;int&gt; | transcript1_stop &lt;int&gt; | transcript_1 &lt;chr&gt; | transcript1_score &lt;chr&gt; | transcript1_strand &lt;chr&gt; | transcript2_chrom &lt;chr&gt; | transcript2_start &lt;int&gt; | transcript2_stop &lt;int&gt; | transcript_2 &lt;chr&gt; | ⋯ ⋯ | adj_p_BH &lt;dbl&gt; | nObs &lt;int&gt; | t &lt;dbl&gt; | distance_tss &lt;dbl&gt; | distance_tes &lt;dbl&gt; | position &lt;chr&gt; | tissue &lt;chr&gt; | percent_transcribed_both &lt;dbl&gt; | pair_id &lt;chr&gt; | pair_id_tissue &lt;chr&gt; |\n",
       "|---|---|---|---|---|---|---|---|---|---|---|---|---|---|---|---|---|---|---|---|---|\n",
       "| chr1 | 33306765 | 33321098 | A3GALT2:NM_001080438.1 | . | - | chr1 | 33036652 | 33037238 | chr1:33036652-33037238 | ⋯ | 9.631487e-23 | 215 | 11.984604 | 284153 | 269820 | downstream | blood | 96.846847 | A3GALT2:NM_001080438.1~chr1:33036652-33037238 | A3GALT2:NM_001080438.1~chr1:33036652-33037238~blood |\n",
       "| chr1 | 33306765 | 33321098 | A3GALT2:NM_001080438.1 | . | - | chr1 | 33224694 | 33224966 | chr1:33224694-33224966 | ⋯ | 2.198101e-03 |  16 |  5.028114 |  96268 |  81935 | downstream | blood |  7.207207 | A3GALT2:NM_001080438.1~chr1:33224694-33224966 | A3GALT2:NM_001080438.1~chr1:33224694-33224966~blood |\n",
       "| chr1 | 33306765 | 33321098 | A3GALT2:NM_001080438.1 | . | - | chr1 | 33242850 | 33243170 | chr1:33242850-33243170 | ⋯ | 2.060092e-03 |  22 |  4.606764 |  78088 |  63755 | downstream | blood |  9.909910 | A3GALT2:NM_001080438.1~chr1:33242850-33243170 | A3GALT2:NM_001080438.1~chr1:33242850-33243170~blood |\n",
       "| chr1 | 93992833 | 94121148 | ABCA4:NM_000350.3      | . | - | chr1 | 93910534 | 93911046 | chr1:93910534-93911046 | ⋯ | 6.731068e-11 |  86 |  8.504139 | 210358 |  82043 | downstream | blood | 38.738739 | ABCA4:NM_000350.3~chr1:93910534-93911046      | ABCA4:NM_000350.3~chr1:93910534-93911046~blood      |\n",
       "| chr1 | 93992833 | 94121148 | ABCA4:NM_000350.3      | . | - | chr1 | 93931066 | 93931248 | chr1:93931066-93931248 | ⋯ | 1.088703e-04 |  35 |  5.429220 | 189991 |  61676 | downstream | blood | 15.765766 | ABCA4:NM_000350.3~chr1:93931066-93931248      | ABCA4:NM_000350.3~chr1:93931066-93931248~blood      |\n",
       "| chr1 | 93992833 | 94121148 | ABCA4:NM_000350.3      | . | - | chr1 | 93946840 | 93947120 | chr1:93946840-93947120 | ⋯ | 6.991417e-06 |  38 |  6.376853 | 174168 |  45853 | downstream | blood | 17.117117 | ABCA4:NM_000350.3~chr1:93946840-93947120      | ABCA4:NM_000350.3~chr1:93946840-93947120~blood      |\n",
       "\n"
      ],
      "text/plain": [
       "  transcript1_chrom transcript1_start transcript1_stop transcript_1          \n",
       "1 chr1              33306765          33321098         A3GALT2:NM_001080438.1\n",
       "2 chr1              33306765          33321098         A3GALT2:NM_001080438.1\n",
       "3 chr1              33306765          33321098         A3GALT2:NM_001080438.1\n",
       "4 chr1              93992833          94121148         ABCA4:NM_000350.3     \n",
       "5 chr1              93992833          94121148         ABCA4:NM_000350.3     \n",
       "6 chr1              93992833          94121148         ABCA4:NM_000350.3     \n",
       "  transcript1_score transcript1_strand transcript2_chrom transcript2_start\n",
       "1 .                 -                  chr1              33036652         \n",
       "2 .                 -                  chr1              33224694         \n",
       "3 .                 -                  chr1              33242850         \n",
       "4 .                 -                  chr1              93910534         \n",
       "5 .                 -                  chr1              93931066         \n",
       "6 .                 -                  chr1              93946840         \n",
       "  transcript2_stop transcript_2           ⋯ adj_p_BH     nObs t        \n",
       "1 33037238         chr1:33036652-33037238 ⋯ 9.631487e-23 215  11.984604\n",
       "2 33224966         chr1:33224694-33224966 ⋯ 2.198101e-03  16   5.028114\n",
       "3 33243170         chr1:33242850-33243170 ⋯ 2.060092e-03  22   4.606764\n",
       "4 93911046         chr1:93910534-93911046 ⋯ 6.731068e-11  86   8.504139\n",
       "5 93931248         chr1:93931066-93931248 ⋯ 1.088703e-04  35   5.429220\n",
       "6 93947120         chr1:93946840-93947120 ⋯ 6.991417e-06  38   6.376853\n",
       "  distance_tss distance_tes position   tissue percent_transcribed_both\n",
       "1 284153       269820       downstream blood  96.846847               \n",
       "2  96268        81935       downstream blood   7.207207               \n",
       "3  78088        63755       downstream blood   9.909910               \n",
       "4 210358        82043       downstream blood  38.738739               \n",
       "5 189991        61676       downstream blood  15.765766               \n",
       "6 174168        45853       downstream blood  17.117117               \n",
       "  pair_id                                      \n",
       "1 A3GALT2:NM_001080438.1~chr1:33036652-33037238\n",
       "2 A3GALT2:NM_001080438.1~chr1:33224694-33224966\n",
       "3 A3GALT2:NM_001080438.1~chr1:33242850-33243170\n",
       "4 ABCA4:NM_000350.3~chr1:93910534-93911046     \n",
       "5 ABCA4:NM_000350.3~chr1:93931066-93931248     \n",
       "6 ABCA4:NM_000350.3~chr1:93946840-93947120     \n",
       "  pair_id_tissue                                     \n",
       "1 A3GALT2:NM_001080438.1~chr1:33036652-33037238~blood\n",
       "2 A3GALT2:NM_001080438.1~chr1:33224694-33224966~blood\n",
       "3 A3GALT2:NM_001080438.1~chr1:33242850-33243170~blood\n",
       "4 ABCA4:NM_000350.3~chr1:93910534-93911046~blood     \n",
       "5 ABCA4:NM_000350.3~chr1:93931066-93931248~blood     \n",
       "6 ABCA4:NM_000350.3~chr1:93946840-93947120~blood     "
      ]
     },
     "metadata": {},
     "output_type": "display_data"
    }
   ],
   "source": [
    "sig_inter_nobs_dist_filtered <- data.table::fread(\"/scratch/Shares/dowell/rutendo/projects/DBNascent_Analysis/data/gene_bidir_significant_pairs/sig_inter_nobs_dist_filtered.txt.gz\")\n",
    "sig_inter_nobs_dist_filtered$pair_id <- paste0(sig_inter_nobs_dist_filtered$transcript_1,\n",
    "                                              \"~\",\n",
    "                                              sig_inter_nobs_dist_filtered$transcript_2)\n",
    "sig_inter_nobs_dist_filtered$pair_id_tissue <- paste0(sig_inter_nobs_dist_filtered$transcript_1,\n",
    "                                                      \"~\",\n",
    "                                                      sig_inter_nobs_dist_filtered$transcript_2,\n",
    "                                                      '~', \n",
    "                                                      sig_inter_nobs_dist_filtered$tissue)\n",
    "nrow(sig_inter_nobs_dist_filtered)\n",
    "head(sig_inter_nobs_dist_filtered)"
   ]
  },
  {
   "cell_type": "markdown",
   "metadata": {},
   "source": [
    "## GENIE3 results"
   ]
  },
  {
   "cell_type": "code",
   "execution_count": 3,
   "metadata": {},
   "outputs": [],
   "source": [
    "genie_path <- '/Users/rusi2317/projects/meta_analysis_qc/hg38/processed_data/genie3_ranked_bidir_gene_pairs'\n",
    "\n",
    "##get paths for the tables\n",
    "genie_path_files <- list.files(path=genie_path, \n",
    "                              pattern=\"*GENIE3_ranks.tsv.gz\", \n",
    "                                   full.names=TRUE)\n",
    "##load correlations\n",
    "genie_path_DT_list <- lapply(genie_path_files, \n",
    "                                   data.table::fread) "
   ]
  },
  {
   "cell_type": "code",
   "execution_count": 4,
   "metadata": {},
   "outputs": [
    {
     "data": {
      "text/html": [
       "1407498"
      ],
      "text/latex": [
       "1407498"
      ],
      "text/markdown": [
       "1407498"
      ],
      "text/plain": [
       "[1] 1407498"
      ]
     },
     "metadata": {},
     "output_type": "display_data"
    },
    {
     "data": {
      "text/html": [
       "<table class=\"dataframe\">\n",
       "<caption>A data.table: 6 × 7</caption>\n",
       "<thead>\n",
       "\t<tr><th scope=col>regulatoryGene</th><th scope=col>targetGene</th><th scope=col>weight</th><th scope=col>pair_id</th><th scope=col>gtex</th><th scope=col>tissue</th><th scope=col>genie3_ranks</th></tr>\n",
       "\t<tr><th scope=col>&lt;chr&gt;</th><th scope=col>&lt;chr&gt;</th><th scope=col>&lt;dbl&gt;</th><th scope=col>&lt;chr&gt;</th><th scope=col>&lt;int&gt;</th><th scope=col>&lt;chr&gt;</th><th scope=col>&lt;int&gt;</th></tr>\n",
       "</thead>\n",
       "<tbody>\n",
       "\t<tr><td>chr1:33036652-33037238</td><td>A3GALT2:NM_001080438.1</td><td>0.93466462</td><td>A3GALT2:NM_001080438.1~chr1:33036652-33037238</td><td>0</td><td>blood </td><td>1</td></tr>\n",
       "\t<tr><td>chr1:33242850-33243170</td><td>A3GALT2:NM_001080438.1</td><td>0.03795462</td><td>A3GALT2:NM_001080438.1~chr1:33242850-33243170</td><td>0</td><td>blood </td><td>2</td></tr>\n",
       "\t<tr><td>chr1:33224694-33224966</td><td>A3GALT2:NM_001080438.1</td><td>0.02738077</td><td>A3GALT2:NM_001080438.1~chr1:33224694-33224966</td><td>0</td><td>blood </td><td>3</td></tr>\n",
       "\t<tr><td>chr1:32349126-32349590</td><td>A3GALT2:NM_001080438.1</td><td>0.28754345</td><td>A3GALT2:NM_001080438.1~chr1:32349126-32349590</td><td>0</td><td>breast</td><td>1</td></tr>\n",
       "\t<tr><td>chr1:32992392-32992740</td><td>A3GALT2:NM_001080438.1</td><td>0.20546709</td><td>A3GALT2:NM_001080438.1~chr1:32992392-32992740</td><td>0</td><td>breast</td><td>2</td></tr>\n",
       "\t<tr><td>chr1:32989317-32989605</td><td>A3GALT2:NM_001080438.1</td><td>0.15960173</td><td>A3GALT2:NM_001080438.1~chr1:32989317-32989605</td><td>0</td><td>breast</td><td>3</td></tr>\n",
       "</tbody>\n",
       "</table>\n"
      ],
      "text/latex": [
       "A data.table: 6 × 7\n",
       "\\begin{tabular}{lllllll}\n",
       " regulatoryGene & targetGene & weight & pair\\_id & gtex & tissue & genie3\\_ranks\\\\\n",
       " <chr> & <chr> & <dbl> & <chr> & <int> & <chr> & <int>\\\\\n",
       "\\hline\n",
       "\t chr1:33036652-33037238 & A3GALT2:NM\\_001080438.1 & 0.93466462 & A3GALT2:NM\\_001080438.1\\textasciitilde{}chr1:33036652-33037238 & 0 & blood  & 1\\\\\n",
       "\t chr1:33242850-33243170 & A3GALT2:NM\\_001080438.1 & 0.03795462 & A3GALT2:NM\\_001080438.1\\textasciitilde{}chr1:33242850-33243170 & 0 & blood  & 2\\\\\n",
       "\t chr1:33224694-33224966 & A3GALT2:NM\\_001080438.1 & 0.02738077 & A3GALT2:NM\\_001080438.1\\textasciitilde{}chr1:33224694-33224966 & 0 & blood  & 3\\\\\n",
       "\t chr1:32349126-32349590 & A3GALT2:NM\\_001080438.1 & 0.28754345 & A3GALT2:NM\\_001080438.1\\textasciitilde{}chr1:32349126-32349590 & 0 & breast & 1\\\\\n",
       "\t chr1:32992392-32992740 & A3GALT2:NM\\_001080438.1 & 0.20546709 & A3GALT2:NM\\_001080438.1\\textasciitilde{}chr1:32992392-32992740 & 0 & breast & 2\\\\\n",
       "\t chr1:32989317-32989605 & A3GALT2:NM\\_001080438.1 & 0.15960173 & A3GALT2:NM\\_001080438.1\\textasciitilde{}chr1:32989317-32989605 & 0 & breast & 3\\\\\n",
       "\\end{tabular}\n"
      ],
      "text/markdown": [
       "\n",
       "A data.table: 6 × 7\n",
       "\n",
       "| regulatoryGene &lt;chr&gt; | targetGene &lt;chr&gt; | weight &lt;dbl&gt; | pair_id &lt;chr&gt; | gtex &lt;int&gt; | tissue &lt;chr&gt; | genie3_ranks &lt;int&gt; |\n",
       "|---|---|---|---|---|---|---|\n",
       "| chr1:33036652-33037238 | A3GALT2:NM_001080438.1 | 0.93466462 | A3GALT2:NM_001080438.1~chr1:33036652-33037238 | 0 | blood  | 1 |\n",
       "| chr1:33242850-33243170 | A3GALT2:NM_001080438.1 | 0.03795462 | A3GALT2:NM_001080438.1~chr1:33242850-33243170 | 0 | blood  | 2 |\n",
       "| chr1:33224694-33224966 | A3GALT2:NM_001080438.1 | 0.02738077 | A3GALT2:NM_001080438.1~chr1:33224694-33224966 | 0 | blood  | 3 |\n",
       "| chr1:32349126-32349590 | A3GALT2:NM_001080438.1 | 0.28754345 | A3GALT2:NM_001080438.1~chr1:32349126-32349590 | 0 | breast | 1 |\n",
       "| chr1:32992392-32992740 | A3GALT2:NM_001080438.1 | 0.20546709 | A3GALT2:NM_001080438.1~chr1:32992392-32992740 | 0 | breast | 2 |\n",
       "| chr1:32989317-32989605 | A3GALT2:NM_001080438.1 | 0.15960173 | A3GALT2:NM_001080438.1~chr1:32989317-32989605 | 0 | breast | 3 |\n",
       "\n"
      ],
      "text/plain": [
       "  regulatoryGene         targetGene             weight    \n",
       "1 chr1:33036652-33037238 A3GALT2:NM_001080438.1 0.93466462\n",
       "2 chr1:33242850-33243170 A3GALT2:NM_001080438.1 0.03795462\n",
       "3 chr1:33224694-33224966 A3GALT2:NM_001080438.1 0.02738077\n",
       "4 chr1:32349126-32349590 A3GALT2:NM_001080438.1 0.28754345\n",
       "5 chr1:32992392-32992740 A3GALT2:NM_001080438.1 0.20546709\n",
       "6 chr1:32989317-32989605 A3GALT2:NM_001080438.1 0.15960173\n",
       "  pair_id                                       gtex tissue genie3_ranks\n",
       "1 A3GALT2:NM_001080438.1~chr1:33036652-33037238 0    blood  1           \n",
       "2 A3GALT2:NM_001080438.1~chr1:33242850-33243170 0    blood  2           \n",
       "3 A3GALT2:NM_001080438.1~chr1:33224694-33224966 0    blood  3           \n",
       "4 A3GALT2:NM_001080438.1~chr1:32349126-32349590 0    breast 1           \n",
       "5 A3GALT2:NM_001080438.1~chr1:32992392-32992740 0    breast 2           \n",
       "6 A3GALT2:NM_001080438.1~chr1:32989317-32989605 0    breast 3           "
      ]
     },
     "metadata": {},
     "output_type": "display_data"
    }
   ],
   "source": [
    "genie_path_DT <- do.call(rbind, genie_path_DT_list)\n",
    "colnames(genie_path_DT)[7] <- \"genie3_ranks\" ##change the 7th column to \"genie3_ranks\"\n",
    "nrow(genie_path_DT)\n",
    "head(genie_path_DT)"
   ]
  },
  {
   "cell_type": "code",
   "execution_count": 5,
   "metadata": {},
   "outputs": [
    {
     "data": {
      "text/html": [
       "<table class=\"dataframe\">\n",
       "<caption>A data.table: 6 × 8</caption>\n",
       "<thead>\n",
       "\t<tr><th scope=col>regulatoryGene</th><th scope=col>targetGene</th><th scope=col>weight</th><th scope=col>pair_id</th><th scope=col>gtex</th><th scope=col>tissue</th><th scope=col>genie3_ranks</th><th scope=col>pair_id_tissue</th></tr>\n",
       "\t<tr><th scope=col>&lt;chr&gt;</th><th scope=col>&lt;chr&gt;</th><th scope=col>&lt;dbl&gt;</th><th scope=col>&lt;chr&gt;</th><th scope=col>&lt;int&gt;</th><th scope=col>&lt;chr&gt;</th><th scope=col>&lt;int&gt;</th><th scope=col>&lt;chr&gt;</th></tr>\n",
       "</thead>\n",
       "<tbody>\n",
       "\t<tr><td>chr1:33036652-33037238</td><td>A3GALT2:NM_001080438.1</td><td>0.93466462</td><td>A3GALT2:NM_001080438.1~chr1:33036652-33037238</td><td>0</td><td>blood </td><td>1</td><td>A3GALT2:NM_001080438.1~chr1:33036652-33037238~blood </td></tr>\n",
       "\t<tr><td>chr1:33242850-33243170</td><td>A3GALT2:NM_001080438.1</td><td>0.03795462</td><td>A3GALT2:NM_001080438.1~chr1:33242850-33243170</td><td>0</td><td>blood </td><td>2</td><td>A3GALT2:NM_001080438.1~chr1:33242850-33243170~blood </td></tr>\n",
       "\t<tr><td>chr1:33224694-33224966</td><td>A3GALT2:NM_001080438.1</td><td>0.02738077</td><td>A3GALT2:NM_001080438.1~chr1:33224694-33224966</td><td>0</td><td>blood </td><td>3</td><td>A3GALT2:NM_001080438.1~chr1:33224694-33224966~blood </td></tr>\n",
       "\t<tr><td>chr1:32349126-32349590</td><td>A3GALT2:NM_001080438.1</td><td>0.28754345</td><td>A3GALT2:NM_001080438.1~chr1:32349126-32349590</td><td>0</td><td>breast</td><td>1</td><td>A3GALT2:NM_001080438.1~chr1:32349126-32349590~breast</td></tr>\n",
       "\t<tr><td>chr1:32992392-32992740</td><td>A3GALT2:NM_001080438.1</td><td>0.20546709</td><td>A3GALT2:NM_001080438.1~chr1:32992392-32992740</td><td>0</td><td>breast</td><td>2</td><td>A3GALT2:NM_001080438.1~chr1:32992392-32992740~breast</td></tr>\n",
       "\t<tr><td>chr1:32989317-32989605</td><td>A3GALT2:NM_001080438.1</td><td>0.15960173</td><td>A3GALT2:NM_001080438.1~chr1:32989317-32989605</td><td>0</td><td>breast</td><td>3</td><td>A3GALT2:NM_001080438.1~chr1:32989317-32989605~breast</td></tr>\n",
       "</tbody>\n",
       "</table>\n"
      ],
      "text/latex": [
       "A data.table: 6 × 8\n",
       "\\begin{tabular}{llllllll}\n",
       " regulatoryGene & targetGene & weight & pair\\_id & gtex & tissue & genie3\\_ranks & pair\\_id\\_tissue\\\\\n",
       " <chr> & <chr> & <dbl> & <chr> & <int> & <chr> & <int> & <chr>\\\\\n",
       "\\hline\n",
       "\t chr1:33036652-33037238 & A3GALT2:NM\\_001080438.1 & 0.93466462 & A3GALT2:NM\\_001080438.1\\textasciitilde{}chr1:33036652-33037238 & 0 & blood  & 1 & A3GALT2:NM\\_001080438.1\\textasciitilde{}chr1:33036652-33037238\\textasciitilde{}blood \\\\\n",
       "\t chr1:33242850-33243170 & A3GALT2:NM\\_001080438.1 & 0.03795462 & A3GALT2:NM\\_001080438.1\\textasciitilde{}chr1:33242850-33243170 & 0 & blood  & 2 & A3GALT2:NM\\_001080438.1\\textasciitilde{}chr1:33242850-33243170\\textasciitilde{}blood \\\\\n",
       "\t chr1:33224694-33224966 & A3GALT2:NM\\_001080438.1 & 0.02738077 & A3GALT2:NM\\_001080438.1\\textasciitilde{}chr1:33224694-33224966 & 0 & blood  & 3 & A3GALT2:NM\\_001080438.1\\textasciitilde{}chr1:33224694-33224966\\textasciitilde{}blood \\\\\n",
       "\t chr1:32349126-32349590 & A3GALT2:NM\\_001080438.1 & 0.28754345 & A3GALT2:NM\\_001080438.1\\textasciitilde{}chr1:32349126-32349590 & 0 & breast & 1 & A3GALT2:NM\\_001080438.1\\textasciitilde{}chr1:32349126-32349590\\textasciitilde{}breast\\\\\n",
       "\t chr1:32992392-32992740 & A3GALT2:NM\\_001080438.1 & 0.20546709 & A3GALT2:NM\\_001080438.1\\textasciitilde{}chr1:32992392-32992740 & 0 & breast & 2 & A3GALT2:NM\\_001080438.1\\textasciitilde{}chr1:32992392-32992740\\textasciitilde{}breast\\\\\n",
       "\t chr1:32989317-32989605 & A3GALT2:NM\\_001080438.1 & 0.15960173 & A3GALT2:NM\\_001080438.1\\textasciitilde{}chr1:32989317-32989605 & 0 & breast & 3 & A3GALT2:NM\\_001080438.1\\textasciitilde{}chr1:32989317-32989605\\textasciitilde{}breast\\\\\n",
       "\\end{tabular}\n"
      ],
      "text/markdown": [
       "\n",
       "A data.table: 6 × 8\n",
       "\n",
       "| regulatoryGene &lt;chr&gt; | targetGene &lt;chr&gt; | weight &lt;dbl&gt; | pair_id &lt;chr&gt; | gtex &lt;int&gt; | tissue &lt;chr&gt; | genie3_ranks &lt;int&gt; | pair_id_tissue &lt;chr&gt; |\n",
       "|---|---|---|---|---|---|---|---|\n",
       "| chr1:33036652-33037238 | A3GALT2:NM_001080438.1 | 0.93466462 | A3GALT2:NM_001080438.1~chr1:33036652-33037238 | 0 | blood  | 1 | A3GALT2:NM_001080438.1~chr1:33036652-33037238~blood  |\n",
       "| chr1:33242850-33243170 | A3GALT2:NM_001080438.1 | 0.03795462 | A3GALT2:NM_001080438.1~chr1:33242850-33243170 | 0 | blood  | 2 | A3GALT2:NM_001080438.1~chr1:33242850-33243170~blood  |\n",
       "| chr1:33224694-33224966 | A3GALT2:NM_001080438.1 | 0.02738077 | A3GALT2:NM_001080438.1~chr1:33224694-33224966 | 0 | blood  | 3 | A3GALT2:NM_001080438.1~chr1:33224694-33224966~blood  |\n",
       "| chr1:32349126-32349590 | A3GALT2:NM_001080438.1 | 0.28754345 | A3GALT2:NM_001080438.1~chr1:32349126-32349590 | 0 | breast | 1 | A3GALT2:NM_001080438.1~chr1:32349126-32349590~breast |\n",
       "| chr1:32992392-32992740 | A3GALT2:NM_001080438.1 | 0.20546709 | A3GALT2:NM_001080438.1~chr1:32992392-32992740 | 0 | breast | 2 | A3GALT2:NM_001080438.1~chr1:32992392-32992740~breast |\n",
       "| chr1:32989317-32989605 | A3GALT2:NM_001080438.1 | 0.15960173 | A3GALT2:NM_001080438.1~chr1:32989317-32989605 | 0 | breast | 3 | A3GALT2:NM_001080438.1~chr1:32989317-32989605~breast |\n",
       "\n"
      ],
      "text/plain": [
       "  regulatoryGene         targetGene             weight    \n",
       "1 chr1:33036652-33037238 A3GALT2:NM_001080438.1 0.93466462\n",
       "2 chr1:33242850-33243170 A3GALT2:NM_001080438.1 0.03795462\n",
       "3 chr1:33224694-33224966 A3GALT2:NM_001080438.1 0.02738077\n",
       "4 chr1:32349126-32349590 A3GALT2:NM_001080438.1 0.28754345\n",
       "5 chr1:32992392-32992740 A3GALT2:NM_001080438.1 0.20546709\n",
       "6 chr1:32989317-32989605 A3GALT2:NM_001080438.1 0.15960173\n",
       "  pair_id                                       gtex tissue genie3_ranks\n",
       "1 A3GALT2:NM_001080438.1~chr1:33036652-33037238 0    blood  1           \n",
       "2 A3GALT2:NM_001080438.1~chr1:33242850-33243170 0    blood  2           \n",
       "3 A3GALT2:NM_001080438.1~chr1:33224694-33224966 0    blood  3           \n",
       "4 A3GALT2:NM_001080438.1~chr1:32349126-32349590 0    breast 1           \n",
       "5 A3GALT2:NM_001080438.1~chr1:32992392-32992740 0    breast 2           \n",
       "6 A3GALT2:NM_001080438.1~chr1:32989317-32989605 0    breast 3           \n",
       "  pair_id_tissue                                      \n",
       "1 A3GALT2:NM_001080438.1~chr1:33036652-33037238~blood \n",
       "2 A3GALT2:NM_001080438.1~chr1:33242850-33243170~blood \n",
       "3 A3GALT2:NM_001080438.1~chr1:33224694-33224966~blood \n",
       "4 A3GALT2:NM_001080438.1~chr1:32349126-32349590~breast\n",
       "5 A3GALT2:NM_001080438.1~chr1:32992392-32992740~breast\n",
       "6 A3GALT2:NM_001080438.1~chr1:32989317-32989605~breast"
      ]
     },
     "metadata": {},
     "output_type": "display_data"
    }
   ],
   "source": [
    "genie_path_DT$pair_id_tissue <- paste0(genie_path_DT$pair_id,\n",
    "                                       \"~\",\n",
    "                                       genie_path_DT$tissue)\n",
    "head(genie_path_DT)"
   ]
  },
  {
   "cell_type": "markdown",
   "metadata": {},
   "source": [
    "## GTEx pairs"
   ]
  },
  {
   "cell_type": "code",
   "execution_count": 6,
   "metadata": {},
   "outputs": [
    {
     "data": {
      "text/html": [
       "121132"
      ],
      "text/latex": [
       "121132"
      ],
      "text/markdown": [
       "121132"
      ],
      "text/plain": [
       "[1] 121132"
      ]
     },
     "metadata": {},
     "output_type": "display_data"
    },
    {
     "data": {
      "text/html": [
       "<table class=\"dataframe\">\n",
       "<caption>A data.table: 6 × 24</caption>\n",
       "<thead>\n",
       "\t<tr><th scope=col>transcript1_chrom</th><th scope=col>transcript1_start</th><th scope=col>transcript1_stop</th><th scope=col>transcript_1</th><th scope=col>transcript1_score</th><th scope=col>transcript1_strand</th><th scope=col>transcript2_chrom</th><th scope=col>transcript2_start</th><th scope=col>transcript2_stop</th><th scope=col>transcript_2</th><th scope=col>⋯</th><th scope=col>adj_p_BH</th><th scope=col>nObs</th><th scope=col>t</th><th scope=col>distance_tss</th><th scope=col>distance_tes</th><th scope=col>position</th><th scope=col>tissue</th><th scope=col>percent_transcribed_both</th><th scope=col>pair_id</th><th scope=col>gtex</th></tr>\n",
       "\t<tr><th scope=col>&lt;chr&gt;</th><th scope=col>&lt;int&gt;</th><th scope=col>&lt;int&gt;</th><th scope=col>&lt;chr&gt;</th><th scope=col>&lt;chr&gt;</th><th scope=col>&lt;chr&gt;</th><th scope=col>&lt;chr&gt;</th><th scope=col>&lt;int&gt;</th><th scope=col>&lt;int&gt;</th><th scope=col>&lt;chr&gt;</th><th scope=col>⋯</th><th scope=col>&lt;dbl&gt;</th><th scope=col>&lt;int&gt;</th><th scope=col>&lt;dbl&gt;</th><th scope=col>&lt;dbl&gt;</th><th scope=col>&lt;int&gt;</th><th scope=col>&lt;chr&gt;</th><th scope=col>&lt;chr&gt;</th><th scope=col>&lt;dbl&gt;</th><th scope=col>&lt;chr&gt;</th><th scope=col>&lt;int&gt;</th></tr>\n",
       "</thead>\n",
       "<tbody>\n",
       "\t<tr><td>chr1</td><td>94418388</td><td>94478723</td><td>ABCD3:NM_001122674.2</td><td>.</td><td>+</td><td>chr1</td><td>94310249</td><td>94311127</td><td>chr1:94310249-94311127</td><td>⋯</td><td>4.657652e-06</td><td>21</td><td>8.106376</td><td>-107700</td><td>-168035</td><td>upstream  </td><td>blood</td><td> 9.459459</td><td>ABCD3:NM_001122674.2~chr1:94310249-94311127</td><td>1</td></tr>\n",
       "\t<tr><td>chr1</td><td>94418388</td><td>94478723</td><td>ABCD3:NM_001122674.2</td><td>.</td><td>+</td><td>chr1</td><td>94347033</td><td>94348559</td><td>chr1:94347033-94348559</td><td>⋯</td><td>3.478977e-06</td><td>22</td><td>8.085675</td><td> -70592</td><td>-130927</td><td>upstream  </td><td>blood</td><td> 9.909910</td><td>ABCD3:NM_001122674.2~chr1:94347033-94348559</td><td>1</td></tr>\n",
       "\t<tr><td>chr1</td><td>94418388</td><td>94478723</td><td>ABCD3:NM_001122674.2</td><td>.</td><td>+</td><td>chr1</td><td>94382060</td><td>94382668</td><td>chr1:94382060-94382668</td><td>⋯</td><td>2.548884e-04</td><td>32</td><td>5.178511</td><td> -36024</td><td> -96359</td><td>upstream  </td><td>blood</td><td>14.414414</td><td>ABCD3:NM_001122674.2~chr1:94382060-94382668</td><td>1</td></tr>\n",
       "\t<tr><td>chr1</td><td>94418388</td><td>94478723</td><td>ABCD3:NM_001122674.2</td><td>.</td><td>+</td><td>chr1</td><td>94384921</td><td>94385259</td><td>chr1:94384921-94385259</td><td>⋯</td><td>1.933635e-07</td><td>78</td><td>6.659129</td><td> -33298</td><td> -93633</td><td>upstream  </td><td>blood</td><td>35.135135</td><td>ABCD3:NM_001122674.2~chr1:94384921-94385259</td><td>1</td></tr>\n",
       "\t<tr><td>chr1</td><td>94418388</td><td>94478723</td><td>ABCD3:NM_001122674.2</td><td>.</td><td>+</td><td>chr1</td><td>94566576</td><td>94567348</td><td>chr1:94566576-94567348</td><td>⋯</td><td>2.678685e-05</td><td>38</td><td>5.875028</td><td> 148574</td><td>  88239</td><td>downstream</td><td>blood</td><td>17.117117</td><td>ABCD3:NM_001122674.2~chr1:94566576-94567348</td><td>1</td></tr>\n",
       "\t<tr><td>chr1</td><td>94418388</td><td>94478723</td><td>ABCD3:NM_001122674.2</td><td>.</td><td>+</td><td>chr1</td><td>94590531</td><td>94591849</td><td>chr1:94590531-94591849</td><td>⋯</td><td>1.310936e-03</td><td>34</td><td>4.445454</td><td> 172802</td><td> 112467</td><td>downstream</td><td>blood</td><td>15.315315</td><td>ABCD3:NM_001122674.2~chr1:94590531-94591849</td><td>1</td></tr>\n",
       "</tbody>\n",
       "</table>\n"
      ],
      "text/latex": [
       "A data.table: 6 × 24\n",
       "\\begin{tabular}{lllllllllllllllllllll}\n",
       " transcript1\\_chrom & transcript1\\_start & transcript1\\_stop & transcript\\_1 & transcript1\\_score & transcript1\\_strand & transcript2\\_chrom & transcript2\\_start & transcript2\\_stop & transcript\\_2 & ⋯ & adj\\_p\\_BH & nObs & t & distance\\_tss & distance\\_tes & position & tissue & percent\\_transcribed\\_both & pair\\_id & gtex\\\\\n",
       " <chr> & <int> & <int> & <chr> & <chr> & <chr> & <chr> & <int> & <int> & <chr> & ⋯ & <dbl> & <int> & <dbl> & <dbl> & <int> & <chr> & <chr> & <dbl> & <chr> & <int>\\\\\n",
       "\\hline\n",
       "\t chr1 & 94418388 & 94478723 & ABCD3:NM\\_001122674.2 & . & + & chr1 & 94310249 & 94311127 & chr1:94310249-94311127 & ⋯ & 4.657652e-06 & 21 & 8.106376 & -107700 & -168035 & upstream   & blood &  9.459459 & ABCD3:NM\\_001122674.2\\textasciitilde{}chr1:94310249-94311127 & 1\\\\\n",
       "\t chr1 & 94418388 & 94478723 & ABCD3:NM\\_001122674.2 & . & + & chr1 & 94347033 & 94348559 & chr1:94347033-94348559 & ⋯ & 3.478977e-06 & 22 & 8.085675 &  -70592 & -130927 & upstream   & blood &  9.909910 & ABCD3:NM\\_001122674.2\\textasciitilde{}chr1:94347033-94348559 & 1\\\\\n",
       "\t chr1 & 94418388 & 94478723 & ABCD3:NM\\_001122674.2 & . & + & chr1 & 94382060 & 94382668 & chr1:94382060-94382668 & ⋯ & 2.548884e-04 & 32 & 5.178511 &  -36024 &  -96359 & upstream   & blood & 14.414414 & ABCD3:NM\\_001122674.2\\textasciitilde{}chr1:94382060-94382668 & 1\\\\\n",
       "\t chr1 & 94418388 & 94478723 & ABCD3:NM\\_001122674.2 & . & + & chr1 & 94384921 & 94385259 & chr1:94384921-94385259 & ⋯ & 1.933635e-07 & 78 & 6.659129 &  -33298 &  -93633 & upstream   & blood & 35.135135 & ABCD3:NM\\_001122674.2\\textasciitilde{}chr1:94384921-94385259 & 1\\\\\n",
       "\t chr1 & 94418388 & 94478723 & ABCD3:NM\\_001122674.2 & . & + & chr1 & 94566576 & 94567348 & chr1:94566576-94567348 & ⋯ & 2.678685e-05 & 38 & 5.875028 &  148574 &   88239 & downstream & blood & 17.117117 & ABCD3:NM\\_001122674.2\\textasciitilde{}chr1:94566576-94567348 & 1\\\\\n",
       "\t chr1 & 94418388 & 94478723 & ABCD3:NM\\_001122674.2 & . & + & chr1 & 94590531 & 94591849 & chr1:94590531-94591849 & ⋯ & 1.310936e-03 & 34 & 4.445454 &  172802 &  112467 & downstream & blood & 15.315315 & ABCD3:NM\\_001122674.2\\textasciitilde{}chr1:94590531-94591849 & 1\\\\\n",
       "\\end{tabular}\n"
      ],
      "text/markdown": [
       "\n",
       "A data.table: 6 × 24\n",
       "\n",
       "| transcript1_chrom &lt;chr&gt; | transcript1_start &lt;int&gt; | transcript1_stop &lt;int&gt; | transcript_1 &lt;chr&gt; | transcript1_score &lt;chr&gt; | transcript1_strand &lt;chr&gt; | transcript2_chrom &lt;chr&gt; | transcript2_start &lt;int&gt; | transcript2_stop &lt;int&gt; | transcript_2 &lt;chr&gt; | ⋯ ⋯ | adj_p_BH &lt;dbl&gt; | nObs &lt;int&gt; | t &lt;dbl&gt; | distance_tss &lt;dbl&gt; | distance_tes &lt;int&gt; | position &lt;chr&gt; | tissue &lt;chr&gt; | percent_transcribed_both &lt;dbl&gt; | pair_id &lt;chr&gt; | gtex &lt;int&gt; |\n",
       "|---|---|---|---|---|---|---|---|---|---|---|---|---|---|---|---|---|---|---|---|---|\n",
       "| chr1 | 94418388 | 94478723 | ABCD3:NM_001122674.2 | . | + | chr1 | 94310249 | 94311127 | chr1:94310249-94311127 | ⋯ | 4.657652e-06 | 21 | 8.106376 | -107700 | -168035 | upstream   | blood |  9.459459 | ABCD3:NM_001122674.2~chr1:94310249-94311127 | 1 |\n",
       "| chr1 | 94418388 | 94478723 | ABCD3:NM_001122674.2 | . | + | chr1 | 94347033 | 94348559 | chr1:94347033-94348559 | ⋯ | 3.478977e-06 | 22 | 8.085675 |  -70592 | -130927 | upstream   | blood |  9.909910 | ABCD3:NM_001122674.2~chr1:94347033-94348559 | 1 |\n",
       "| chr1 | 94418388 | 94478723 | ABCD3:NM_001122674.2 | . | + | chr1 | 94382060 | 94382668 | chr1:94382060-94382668 | ⋯ | 2.548884e-04 | 32 | 5.178511 |  -36024 |  -96359 | upstream   | blood | 14.414414 | ABCD3:NM_001122674.2~chr1:94382060-94382668 | 1 |\n",
       "| chr1 | 94418388 | 94478723 | ABCD3:NM_001122674.2 | . | + | chr1 | 94384921 | 94385259 | chr1:94384921-94385259 | ⋯ | 1.933635e-07 | 78 | 6.659129 |  -33298 |  -93633 | upstream   | blood | 35.135135 | ABCD3:NM_001122674.2~chr1:94384921-94385259 | 1 |\n",
       "| chr1 | 94418388 | 94478723 | ABCD3:NM_001122674.2 | . | + | chr1 | 94566576 | 94567348 | chr1:94566576-94567348 | ⋯ | 2.678685e-05 | 38 | 5.875028 |  148574 |   88239 | downstream | blood | 17.117117 | ABCD3:NM_001122674.2~chr1:94566576-94567348 | 1 |\n",
       "| chr1 | 94418388 | 94478723 | ABCD3:NM_001122674.2 | . | + | chr1 | 94590531 | 94591849 | chr1:94590531-94591849 | ⋯ | 1.310936e-03 | 34 | 4.445454 |  172802 |  112467 | downstream | blood | 15.315315 | ABCD3:NM_001122674.2~chr1:94590531-94591849 | 1 |\n",
       "\n"
      ],
      "text/plain": [
       "  transcript1_chrom transcript1_start transcript1_stop transcript_1        \n",
       "1 chr1              94418388          94478723         ABCD3:NM_001122674.2\n",
       "2 chr1              94418388          94478723         ABCD3:NM_001122674.2\n",
       "3 chr1              94418388          94478723         ABCD3:NM_001122674.2\n",
       "4 chr1              94418388          94478723         ABCD3:NM_001122674.2\n",
       "5 chr1              94418388          94478723         ABCD3:NM_001122674.2\n",
       "6 chr1              94418388          94478723         ABCD3:NM_001122674.2\n",
       "  transcript1_score transcript1_strand transcript2_chrom transcript2_start\n",
       "1 .                 +                  chr1              94310249         \n",
       "2 .                 +                  chr1              94347033         \n",
       "3 .                 +                  chr1              94382060         \n",
       "4 .                 +                  chr1              94384921         \n",
       "5 .                 +                  chr1              94566576         \n",
       "6 .                 +                  chr1              94590531         \n",
       "  transcript2_stop transcript_2           ⋯ adj_p_BH     nObs t       \n",
       "1 94311127         chr1:94310249-94311127 ⋯ 4.657652e-06 21   8.106376\n",
       "2 94348559         chr1:94347033-94348559 ⋯ 3.478977e-06 22   8.085675\n",
       "3 94382668         chr1:94382060-94382668 ⋯ 2.548884e-04 32   5.178511\n",
       "4 94385259         chr1:94384921-94385259 ⋯ 1.933635e-07 78   6.659129\n",
       "5 94567348         chr1:94566576-94567348 ⋯ 2.678685e-05 38   5.875028\n",
       "6 94591849         chr1:94590531-94591849 ⋯ 1.310936e-03 34   4.445454\n",
       "  distance_tss distance_tes position   tissue percent_transcribed_both\n",
       "1 -107700      -168035      upstream   blood   9.459459               \n",
       "2  -70592      -130927      upstream   blood   9.909910               \n",
       "3  -36024       -96359      upstream   blood  14.414414               \n",
       "4  -33298       -93633      upstream   blood  35.135135               \n",
       "5  148574        88239      downstream blood  17.117117               \n",
       "6  172802       112467      downstream blood  15.315315               \n",
       "  pair_id                                     gtex\n",
       "1 ABCD3:NM_001122674.2~chr1:94310249-94311127 1   \n",
       "2 ABCD3:NM_001122674.2~chr1:94347033-94348559 1   \n",
       "3 ABCD3:NM_001122674.2~chr1:94382060-94382668 1   \n",
       "4 ABCD3:NM_001122674.2~chr1:94384921-94385259 1   \n",
       "5 ABCD3:NM_001122674.2~chr1:94566576-94567348 1   \n",
       "6 ABCD3:NM_001122674.2~chr1:94590531-94591849 1   "
      ]
     },
     "metadata": {},
     "output_type": "display_data"
    }
   ],
   "source": [
    "sig_pairs_path_DT_filt_gtex_all <- data.table::fread(\"/Users/rusi2317/projects/meta_analysis_qc/hg38/processed_data/gtex_bidir_significant_pairs/sig_pairs_path_DT_filt_gtex_all_INTER.txt.gz\")\n",
    "nrow(sig_pairs_path_DT_filt_gtex_all)\n",
    "head(sig_pairs_path_DT_filt_gtex_all)"
   ]
  },
  {
   "cell_type": "markdown",
   "metadata": {},
   "source": [
    "# Merge datasets\n",
    "\n",
    "## `1:` Merge pairs with GENIE3 ranks"
   ]
  },
  {
   "cell_type": "code",
   "execution_count": 7,
   "metadata": {},
   "outputs": [
    {
     "data": {
      "text/html": [
       "1440890"
      ],
      "text/latex": [
       "1440890"
      ],
      "text/markdown": [
       "1440890"
      ],
      "text/plain": [
       "[1] 1440890"
      ]
     },
     "metadata": {},
     "output_type": "display_data"
    },
    {
     "data": {
      "text/html": [
       "<table class=\"dataframe\">\n",
       "<caption>A data.table: 3 × 25</caption>\n",
       "<thead>\n",
       "\t<tr><th scope=col>pair_id_tissue</th><th scope=col>transcript1_chrom</th><th scope=col>transcript1_start</th><th scope=col>transcript1_stop</th><th scope=col>transcript_1</th><th scope=col>transcript1_score</th><th scope=col>transcript1_strand</th><th scope=col>transcript2_chrom</th><th scope=col>transcript2_start</th><th scope=col>transcript2_stop</th><th scope=col>⋯</th><th scope=col>adj_p_BH</th><th scope=col>nObs</th><th scope=col>t</th><th scope=col>distance_tss</th><th scope=col>distance_tes</th><th scope=col>position</th><th scope=col>tissue</th><th scope=col>percent_transcribed_both</th><th scope=col>pair_id</th><th scope=col>genie3_ranks</th></tr>\n",
       "\t<tr><th scope=col>&lt;chr&gt;</th><th scope=col>&lt;chr&gt;</th><th scope=col>&lt;int&gt;</th><th scope=col>&lt;int&gt;</th><th scope=col>&lt;chr&gt;</th><th scope=col>&lt;chr&gt;</th><th scope=col>&lt;chr&gt;</th><th scope=col>&lt;chr&gt;</th><th scope=col>&lt;int&gt;</th><th scope=col>&lt;int&gt;</th><th scope=col>⋯</th><th scope=col>&lt;dbl&gt;</th><th scope=col>&lt;int&gt;</th><th scope=col>&lt;dbl&gt;</th><th scope=col>&lt;dbl&gt;</th><th scope=col>&lt;dbl&gt;</th><th scope=col>&lt;chr&gt;</th><th scope=col>&lt;chr&gt;</th><th scope=col>&lt;dbl&gt;</th><th scope=col>&lt;chr&gt;</th><th scope=col>&lt;int&gt;</th></tr>\n",
       "</thead>\n",
       "<tbody>\n",
       "\t<tr><td>A1BG-AS1:NR_015380.2~chr19:57479710-57479990~uterus  </td><td>chr19</td><td>58351969</td><td>58355183</td><td>A1BG-AS1:NR_015380.2</td><td>.</td><td>+</td><td>chr19</td><td>57479710</td><td>57479990</td><td>⋯</td><td>0.0034719478</td><td>26</td><td>4.310259</td><td>-872119</td><td>-875333</td><td>upstream</td><td>uterus  </td><td>44.82759</td><td>A1BG-AS1:NR_015380.2~chr19:57479710-57479990</td><td>5</td></tr>\n",
       "\t<tr><td>A1BG-AS1:NR_015380.2~chr19:57480338-57480600~prostate</td><td>chr19</td><td>58351969</td><td>58355183</td><td>A1BG-AS1:NR_015380.2</td><td>.</td><td>+</td><td>chr19</td><td>57480338</td><td>57480600</td><td>⋯</td><td>0.0017483223</td><td>18</td><td>4.871192</td><td>-871500</td><td>-874714</td><td>upstream</td><td>prostate</td><td>43.90244</td><td>A1BG-AS1:NR_015380.2~chr19:57480338-57480600</td><td>1</td></tr>\n",
       "\t<tr><td>A1BG-AS1:NR_015380.2~chr19:57480338-57480600~uterus  </td><td>chr19</td><td>58351969</td><td>58355183</td><td>A1BG-AS1:NR_015380.2</td><td>.</td><td>+</td><td>chr19</td><td>57480338</td><td>57480600</td><td>⋯</td><td>0.0009361908</td><td>23</td><td>5.122232</td><td>-871500</td><td>-874714</td><td>upstream</td><td>uterus  </td><td>39.65517</td><td>A1BG-AS1:NR_015380.2~chr19:57480338-57480600</td><td>1</td></tr>\n",
       "</tbody>\n",
       "</table>\n"
      ],
      "text/latex": [
       "A data.table: 3 × 25\n",
       "\\begin{tabular}{lllllllllllllllllllll}\n",
       " pair\\_id\\_tissue & transcript1\\_chrom & transcript1\\_start & transcript1\\_stop & transcript\\_1 & transcript1\\_score & transcript1\\_strand & transcript2\\_chrom & transcript2\\_start & transcript2\\_stop & ⋯ & adj\\_p\\_BH & nObs & t & distance\\_tss & distance\\_tes & position & tissue & percent\\_transcribed\\_both & pair\\_id & genie3\\_ranks\\\\\n",
       " <chr> & <chr> & <int> & <int> & <chr> & <chr> & <chr> & <chr> & <int> & <int> & ⋯ & <dbl> & <int> & <dbl> & <dbl> & <dbl> & <chr> & <chr> & <dbl> & <chr> & <int>\\\\\n",
       "\\hline\n",
       "\t A1BG-AS1:NR\\_015380.2\\textasciitilde{}chr19:57479710-57479990\\textasciitilde{}uterus   & chr19 & 58351969 & 58355183 & A1BG-AS1:NR\\_015380.2 & . & + & chr19 & 57479710 & 57479990 & ⋯ & 0.0034719478 & 26 & 4.310259 & -872119 & -875333 & upstream & uterus   & 44.82759 & A1BG-AS1:NR\\_015380.2\\textasciitilde{}chr19:57479710-57479990 & 5\\\\\n",
       "\t A1BG-AS1:NR\\_015380.2\\textasciitilde{}chr19:57480338-57480600\\textasciitilde{}prostate & chr19 & 58351969 & 58355183 & A1BG-AS1:NR\\_015380.2 & . & + & chr19 & 57480338 & 57480600 & ⋯ & 0.0017483223 & 18 & 4.871192 & -871500 & -874714 & upstream & prostate & 43.90244 & A1BG-AS1:NR\\_015380.2\\textasciitilde{}chr19:57480338-57480600 & 1\\\\\n",
       "\t A1BG-AS1:NR\\_015380.2\\textasciitilde{}chr19:57480338-57480600\\textasciitilde{}uterus   & chr19 & 58351969 & 58355183 & A1BG-AS1:NR\\_015380.2 & . & + & chr19 & 57480338 & 57480600 & ⋯ & 0.0009361908 & 23 & 5.122232 & -871500 & -874714 & upstream & uterus   & 39.65517 & A1BG-AS1:NR\\_015380.2\\textasciitilde{}chr19:57480338-57480600 & 1\\\\\n",
       "\\end{tabular}\n"
      ],
      "text/markdown": [
       "\n",
       "A data.table: 3 × 25\n",
       "\n",
       "| pair_id_tissue &lt;chr&gt; | transcript1_chrom &lt;chr&gt; | transcript1_start &lt;int&gt; | transcript1_stop &lt;int&gt; | transcript_1 &lt;chr&gt; | transcript1_score &lt;chr&gt; | transcript1_strand &lt;chr&gt; | transcript2_chrom &lt;chr&gt; | transcript2_start &lt;int&gt; | transcript2_stop &lt;int&gt; | ⋯ ⋯ | adj_p_BH &lt;dbl&gt; | nObs &lt;int&gt; | t &lt;dbl&gt; | distance_tss &lt;dbl&gt; | distance_tes &lt;dbl&gt; | position &lt;chr&gt; | tissue &lt;chr&gt; | percent_transcribed_both &lt;dbl&gt; | pair_id &lt;chr&gt; | genie3_ranks &lt;int&gt; |\n",
       "|---|---|---|---|---|---|---|---|---|---|---|---|---|---|---|---|---|---|---|---|---|\n",
       "| A1BG-AS1:NR_015380.2~chr19:57479710-57479990~uterus   | chr19 | 58351969 | 58355183 | A1BG-AS1:NR_015380.2 | . | + | chr19 | 57479710 | 57479990 | ⋯ | 0.0034719478 | 26 | 4.310259 | -872119 | -875333 | upstream | uterus   | 44.82759 | A1BG-AS1:NR_015380.2~chr19:57479710-57479990 | 5 |\n",
       "| A1BG-AS1:NR_015380.2~chr19:57480338-57480600~prostate | chr19 | 58351969 | 58355183 | A1BG-AS1:NR_015380.2 | . | + | chr19 | 57480338 | 57480600 | ⋯ | 0.0017483223 | 18 | 4.871192 | -871500 | -874714 | upstream | prostate | 43.90244 | A1BG-AS1:NR_015380.2~chr19:57480338-57480600 | 1 |\n",
       "| A1BG-AS1:NR_015380.2~chr19:57480338-57480600~uterus   | chr19 | 58351969 | 58355183 | A1BG-AS1:NR_015380.2 | . | + | chr19 | 57480338 | 57480600 | ⋯ | 0.0009361908 | 23 | 5.122232 | -871500 | -874714 | upstream | uterus   | 39.65517 | A1BG-AS1:NR_015380.2~chr19:57480338-57480600 | 1 |\n",
       "\n"
      ],
      "text/plain": [
       "  pair_id_tissue                                        transcript1_chrom\n",
       "1 A1BG-AS1:NR_015380.2~chr19:57479710-57479990~uterus   chr19            \n",
       "2 A1BG-AS1:NR_015380.2~chr19:57480338-57480600~prostate chr19            \n",
       "3 A1BG-AS1:NR_015380.2~chr19:57480338-57480600~uterus   chr19            \n",
       "  transcript1_start transcript1_stop transcript_1         transcript1_score\n",
       "1 58351969          58355183         A1BG-AS1:NR_015380.2 .                \n",
       "2 58351969          58355183         A1BG-AS1:NR_015380.2 .                \n",
       "3 58351969          58355183         A1BG-AS1:NR_015380.2 .                \n",
       "  transcript1_strand transcript2_chrom transcript2_start transcript2_stop ⋯\n",
       "1 +                  chr19             57479710          57479990         ⋯\n",
       "2 +                  chr19             57480338          57480600         ⋯\n",
       "3 +                  chr19             57480338          57480600         ⋯\n",
       "  adj_p_BH     nObs t        distance_tss distance_tes position tissue  \n",
       "1 0.0034719478 26   4.310259 -872119      -875333      upstream uterus  \n",
       "2 0.0017483223 18   4.871192 -871500      -874714      upstream prostate\n",
       "3 0.0009361908 23   5.122232 -871500      -874714      upstream uterus  \n",
       "  percent_transcribed_both pair_id                                     \n",
       "1 44.82759                 A1BG-AS1:NR_015380.2~chr19:57479710-57479990\n",
       "2 43.90244                 A1BG-AS1:NR_015380.2~chr19:57480338-57480600\n",
       "3 39.65517                 A1BG-AS1:NR_015380.2~chr19:57480338-57480600\n",
       "  genie3_ranks\n",
       "1 5           \n",
       "2 1           \n",
       "3 1           "
      ]
     },
     "metadata": {},
     "output_type": "display_data"
    }
   ],
   "source": [
    "sig_inter_nobs_dist_filtered_meta <- merge(sig_inter_nobs_dist_filtered, \n",
    "                                            genie_path_DT[, c(\"pair_id_tissue\",\"genie3_ranks\")],\n",
    "                                            by='pair_id_tissue',\n",
    "                                            all.x=TRUE)\n",
    "nrow(sig_inter_nobs_dist_filtered_meta)\n",
    "head(sig_inter_nobs_dist_filtered_meta, 3)\n"
   ]
  },
  {
   "cell_type": "code",
   "execution_count": 8,
   "metadata": {},
   "outputs": [],
   "source": [
    "na_ranks <- sig_inter_nobs_dist_filtered_meta[is.na(sig_inter_nobs_dist_filtered_meta$ranks),]\n",
    "no_na_ranks <- sig_inter_nobs_dist_filtered_meta[!is.na(sig_inter_nobs_dist_filtered_meta$ranks),]\n"
   ]
  },
  {
   "cell_type": "code",
   "execution_count": 9,
   "metadata": {
    "scrolled": true
   },
   "outputs": [
    {
     "data": {
      "text/html": [
       "0"
      ],
      "text/latex": [
       "0"
      ],
      "text/markdown": [
       "0"
      ],
      "text/plain": [
       "[1] 0"
      ]
     },
     "metadata": {},
     "output_type": "display_data"
    }
   ],
   "source": [
    "length(intersect(unique(na_ranks$transcript_1), unique(no_na_ranks$transcript_1)))"
   ]
  },
  {
   "cell_type": "code",
   "execution_count": 10,
   "metadata": {},
   "outputs": [
    {
     "data": {
      "text/html": [
       "0"
      ],
      "text/latex": [
       "0"
      ],
      "text/markdown": [
       "0"
      ],
      "text/plain": [
       "[1] 0"
      ]
     },
     "metadata": {},
     "output_type": "display_data"
    },
    {
     "data": {
      "text/html": [
       "0"
      ],
      "text/latex": [
       "0"
      ],
      "text/markdown": [
       "0"
      ],
      "text/plain": [
       "[1] 0"
      ]
     },
     "metadata": {},
     "output_type": "display_data"
    }
   ],
   "source": [
    "length(unique(na_ranks$transcript_1))\n",
    "length(unique(no_na_ranks$transcript_1))"
   ]
  },
  {
   "cell_type": "code",
   "execution_count": 11,
   "metadata": {},
   "outputs": [
    {
     "data": {
      "text/plain": [
       "< table of extent 0 >"
      ]
     },
     "metadata": {},
     "output_type": "display_data"
    }
   ],
   "source": [
    "table(na_ranks$tissue)"
   ]
  },
  {
   "cell_type": "code",
   "execution_count": 12,
   "metadata": {
    "scrolled": true
   },
   "outputs": [
    {
     "data": {
      "text/html": [
       "1094246"
      ],
      "text/latex": [
       "1094246"
      ],
      "text/markdown": [
       "1094246"
      ],
      "text/plain": [
       "[1] 1094246"
      ]
     },
     "metadata": {},
     "output_type": "display_data"
    },
    {
     "data": {
      "text/html": [
       "1094246"
      ],
      "text/latex": [
       "1094246"
      ],
      "text/markdown": [
       "1094246"
      ],
      "text/plain": [
       "[1] 1094246"
      ]
     },
     "metadata": {},
     "output_type": "display_data"
    }
   ],
   "source": [
    "##check recovery of pairs\n",
    "length(unique(sig_inter_nobs_dist_filtered$pair_id))\n",
    "length(unique(sig_inter_nobs_dist_filtered_meta$pair_id))"
   ]
  },
  {
   "cell_type": "code",
   "execution_count": 13,
   "metadata": {},
   "outputs": [
    {
     "data": {
      "text/html": [
       "1440890"
      ],
      "text/latex": [
       "1440890"
      ],
      "text/markdown": [
       "1440890"
      ],
      "text/plain": [
       "[1] 1440890"
      ]
     },
     "metadata": {},
     "output_type": "display_data"
    },
    {
     "data": {
      "text/html": [
       "1440890"
      ],
      "text/latex": [
       "1440890"
      ],
      "text/markdown": [
       "1440890"
      ],
      "text/plain": [
       "[1] 1440890"
      ]
     },
     "metadata": {},
     "output_type": "display_data"
    }
   ],
   "source": [
    "##check recovery of pairs by tissue\n",
    "nrow(unique(sig_inter_nobs_dist_filtered[,c(\"pair_id\", \"tissue\")]))\n",
    "nrow(unique(sig_inter_nobs_dist_filtered_meta[,c(\"pair_id\",\"tissue\")]))"
   ]
  },
  {
   "cell_type": "markdown",
   "metadata": {},
   "source": [
    "## `2:` Note the GTEx supported pairs"
   ]
  },
  {
   "cell_type": "code",
   "execution_count": 14,
   "metadata": {},
   "outputs": [
    {
     "data": {
      "text/html": [
       "1440890"
      ],
      "text/latex": [
       "1440890"
      ],
      "text/markdown": [
       "1440890"
      ],
      "text/plain": [
       "[1] 1440890"
      ]
     },
     "metadata": {},
     "output_type": "display_data"
    },
    {
     "data": {
      "text/html": [
       "<table class=\"dataframe\">\n",
       "<caption>A data.table: 3 × 26</caption>\n",
       "<thead>\n",
       "\t<tr><th scope=col>pair_id_tissue</th><th scope=col>transcript1_chrom</th><th scope=col>transcript1_start</th><th scope=col>transcript1_stop</th><th scope=col>transcript_1</th><th scope=col>transcript1_score</th><th scope=col>transcript1_strand</th><th scope=col>transcript2_chrom</th><th scope=col>transcript2_start</th><th scope=col>transcript2_stop</th><th scope=col>⋯</th><th scope=col>nObs</th><th scope=col>t</th><th scope=col>distance_tss</th><th scope=col>distance_tes</th><th scope=col>position</th><th scope=col>tissue</th><th scope=col>percent_transcribed_both</th><th scope=col>pair_id</th><th scope=col>genie3_ranks</th><th scope=col>gtex_supported</th></tr>\n",
       "\t<tr><th scope=col>&lt;chr&gt;</th><th scope=col>&lt;chr&gt;</th><th scope=col>&lt;int&gt;</th><th scope=col>&lt;int&gt;</th><th scope=col>&lt;chr&gt;</th><th scope=col>&lt;chr&gt;</th><th scope=col>&lt;chr&gt;</th><th scope=col>&lt;chr&gt;</th><th scope=col>&lt;int&gt;</th><th scope=col>&lt;int&gt;</th><th scope=col>⋯</th><th scope=col>&lt;int&gt;</th><th scope=col>&lt;dbl&gt;</th><th scope=col>&lt;dbl&gt;</th><th scope=col>&lt;dbl&gt;</th><th scope=col>&lt;chr&gt;</th><th scope=col>&lt;chr&gt;</th><th scope=col>&lt;dbl&gt;</th><th scope=col>&lt;chr&gt;</th><th scope=col>&lt;int&gt;</th><th scope=col>&lt;chr&gt;</th></tr>\n",
       "</thead>\n",
       "<tbody>\n",
       "\t<tr><td>A1BG-AS1:NR_015380.2~chr19:57479710-57479990~uterus  </td><td>chr19</td><td>58351969</td><td>58355183</td><td>A1BG-AS1:NR_015380.2</td><td>.</td><td>+</td><td>chr19</td><td>57479710</td><td>57479990</td><td>⋯</td><td>26</td><td>4.310259</td><td>-872119</td><td>-875333</td><td>upstream</td><td>uterus  </td><td>44.82759</td><td>A1BG-AS1:NR_015380.2~chr19:57479710-57479990</td><td>5</td><td>No</td></tr>\n",
       "\t<tr><td>A1BG-AS1:NR_015380.2~chr19:57480338-57480600~prostate</td><td>chr19</td><td>58351969</td><td>58355183</td><td>A1BG-AS1:NR_015380.2</td><td>.</td><td>+</td><td>chr19</td><td>57480338</td><td>57480600</td><td>⋯</td><td>18</td><td>4.871192</td><td>-871500</td><td>-874714</td><td>upstream</td><td>prostate</td><td>43.90244</td><td>A1BG-AS1:NR_015380.2~chr19:57480338-57480600</td><td>1</td><td>No</td></tr>\n",
       "\t<tr><td>A1BG-AS1:NR_015380.2~chr19:57480338-57480600~uterus  </td><td>chr19</td><td>58351969</td><td>58355183</td><td>A1BG-AS1:NR_015380.2</td><td>.</td><td>+</td><td>chr19</td><td>57480338</td><td>57480600</td><td>⋯</td><td>23</td><td>5.122232</td><td>-871500</td><td>-874714</td><td>upstream</td><td>uterus  </td><td>39.65517</td><td>A1BG-AS1:NR_015380.2~chr19:57480338-57480600</td><td>1</td><td>No</td></tr>\n",
       "</tbody>\n",
       "</table>\n"
      ],
      "text/latex": [
       "A data.table: 3 × 26\n",
       "\\begin{tabular}{lllllllllllllllllllll}\n",
       " pair\\_id\\_tissue & transcript1\\_chrom & transcript1\\_start & transcript1\\_stop & transcript\\_1 & transcript1\\_score & transcript1\\_strand & transcript2\\_chrom & transcript2\\_start & transcript2\\_stop & ⋯ & nObs & t & distance\\_tss & distance\\_tes & position & tissue & percent\\_transcribed\\_both & pair\\_id & genie3\\_ranks & gtex\\_supported\\\\\n",
       " <chr> & <chr> & <int> & <int> & <chr> & <chr> & <chr> & <chr> & <int> & <int> & ⋯ & <int> & <dbl> & <dbl> & <dbl> & <chr> & <chr> & <dbl> & <chr> & <int> & <chr>\\\\\n",
       "\\hline\n",
       "\t A1BG-AS1:NR\\_015380.2\\textasciitilde{}chr19:57479710-57479990\\textasciitilde{}uterus   & chr19 & 58351969 & 58355183 & A1BG-AS1:NR\\_015380.2 & . & + & chr19 & 57479710 & 57479990 & ⋯ & 26 & 4.310259 & -872119 & -875333 & upstream & uterus   & 44.82759 & A1BG-AS1:NR\\_015380.2\\textasciitilde{}chr19:57479710-57479990 & 5 & No\\\\\n",
       "\t A1BG-AS1:NR\\_015380.2\\textasciitilde{}chr19:57480338-57480600\\textasciitilde{}prostate & chr19 & 58351969 & 58355183 & A1BG-AS1:NR\\_015380.2 & . & + & chr19 & 57480338 & 57480600 & ⋯ & 18 & 4.871192 & -871500 & -874714 & upstream & prostate & 43.90244 & A1BG-AS1:NR\\_015380.2\\textasciitilde{}chr19:57480338-57480600 & 1 & No\\\\\n",
       "\t A1BG-AS1:NR\\_015380.2\\textasciitilde{}chr19:57480338-57480600\\textasciitilde{}uterus   & chr19 & 58351969 & 58355183 & A1BG-AS1:NR\\_015380.2 & . & + & chr19 & 57480338 & 57480600 & ⋯ & 23 & 5.122232 & -871500 & -874714 & upstream & uterus   & 39.65517 & A1BG-AS1:NR\\_015380.2\\textasciitilde{}chr19:57480338-57480600 & 1 & No\\\\\n",
       "\\end{tabular}\n"
      ],
      "text/markdown": [
       "\n",
       "A data.table: 3 × 26\n",
       "\n",
       "| pair_id_tissue &lt;chr&gt; | transcript1_chrom &lt;chr&gt; | transcript1_start &lt;int&gt; | transcript1_stop &lt;int&gt; | transcript_1 &lt;chr&gt; | transcript1_score &lt;chr&gt; | transcript1_strand &lt;chr&gt; | transcript2_chrom &lt;chr&gt; | transcript2_start &lt;int&gt; | transcript2_stop &lt;int&gt; | ⋯ ⋯ | nObs &lt;int&gt; | t &lt;dbl&gt; | distance_tss &lt;dbl&gt; | distance_tes &lt;dbl&gt; | position &lt;chr&gt; | tissue &lt;chr&gt; | percent_transcribed_both &lt;dbl&gt; | pair_id &lt;chr&gt; | genie3_ranks &lt;int&gt; | gtex_supported &lt;chr&gt; |\n",
       "|---|---|---|---|---|---|---|---|---|---|---|---|---|---|---|---|---|---|---|---|---|\n",
       "| A1BG-AS1:NR_015380.2~chr19:57479710-57479990~uterus   | chr19 | 58351969 | 58355183 | A1BG-AS1:NR_015380.2 | . | + | chr19 | 57479710 | 57479990 | ⋯ | 26 | 4.310259 | -872119 | -875333 | upstream | uterus   | 44.82759 | A1BG-AS1:NR_015380.2~chr19:57479710-57479990 | 5 | No |\n",
       "| A1BG-AS1:NR_015380.2~chr19:57480338-57480600~prostate | chr19 | 58351969 | 58355183 | A1BG-AS1:NR_015380.2 | . | + | chr19 | 57480338 | 57480600 | ⋯ | 18 | 4.871192 | -871500 | -874714 | upstream | prostate | 43.90244 | A1BG-AS1:NR_015380.2~chr19:57480338-57480600 | 1 | No |\n",
       "| A1BG-AS1:NR_015380.2~chr19:57480338-57480600~uterus   | chr19 | 58351969 | 58355183 | A1BG-AS1:NR_015380.2 | . | + | chr19 | 57480338 | 57480600 | ⋯ | 23 | 5.122232 | -871500 | -874714 | upstream | uterus   | 39.65517 | A1BG-AS1:NR_015380.2~chr19:57480338-57480600 | 1 | No |\n",
       "\n"
      ],
      "text/plain": [
       "  pair_id_tissue                                        transcript1_chrom\n",
       "1 A1BG-AS1:NR_015380.2~chr19:57479710-57479990~uterus   chr19            \n",
       "2 A1BG-AS1:NR_015380.2~chr19:57480338-57480600~prostate chr19            \n",
       "3 A1BG-AS1:NR_015380.2~chr19:57480338-57480600~uterus   chr19            \n",
       "  transcript1_start transcript1_stop transcript_1         transcript1_score\n",
       "1 58351969          58355183         A1BG-AS1:NR_015380.2 .                \n",
       "2 58351969          58355183         A1BG-AS1:NR_015380.2 .                \n",
       "3 58351969          58355183         A1BG-AS1:NR_015380.2 .                \n",
       "  transcript1_strand transcript2_chrom transcript2_start transcript2_stop ⋯\n",
       "1 +                  chr19             57479710          57479990         ⋯\n",
       "2 +                  chr19             57480338          57480600         ⋯\n",
       "3 +                  chr19             57480338          57480600         ⋯\n",
       "  nObs t        distance_tss distance_tes position tissue  \n",
       "1 26   4.310259 -872119      -875333      upstream uterus  \n",
       "2 18   4.871192 -871500      -874714      upstream prostate\n",
       "3 23   5.122232 -871500      -874714      upstream uterus  \n",
       "  percent_transcribed_both pair_id                                     \n",
       "1 44.82759                 A1BG-AS1:NR_015380.2~chr19:57479710-57479990\n",
       "2 43.90244                 A1BG-AS1:NR_015380.2~chr19:57480338-57480600\n",
       "3 39.65517                 A1BG-AS1:NR_015380.2~chr19:57480338-57480600\n",
       "  genie3_ranks gtex_supported\n",
       "1 5            No            \n",
       "2 1            No            \n",
       "3 1            No            "
      ]
     },
     "metadata": {},
     "output_type": "display_data"
    }
   ],
   "source": [
    "sig_inter_nobs_dist_filtered_meta$gtex_supported <- ifelse(sig_inter_nobs_dist_filtered_meta$pair_id %in%\n",
    "                                                  sig_pairs_path_DT_filt_gtex_all$pair_id, \"Yes\",\"No\")\n",
    "nrow(sig_inter_nobs_dist_filtered_meta)\n",
    "head(sig_inter_nobs_dist_filtered_meta, 3)"
   ]
  },
  {
   "cell_type": "code",
   "execution_count": 15,
   "metadata": {},
   "outputs": [
    {
     "data": {
      "text/plain": [
       "\n",
       "     No     Yes \n",
       "1319758  121132 "
      ]
     },
     "metadata": {},
     "output_type": "display_data"
    }
   ],
   "source": [
    "table(sig_inter_nobs_dist_filtered_meta$gtex)"
   ]
  },
  {
   "cell_type": "code",
   "execution_count": 16,
   "metadata": {},
   "outputs": [],
   "source": [
    "sig_inter_nobs_dist_filtered_meta[,c(\"pair_id_tissue\",\"pair_id\"):=NULL]"
   ]
  },
  {
   "cell_type": "code",
   "execution_count": 17,
   "metadata": {
    "code_folding": []
   },
   "outputs": [
    {
     "data": {
      "text/html": [
       "<table class=\"dataframe\">\n",
       "<caption>A data.table: 3 × 24</caption>\n",
       "<thead>\n",
       "\t<tr><th scope=col>transcript1_chrom</th><th scope=col>transcript1_start</th><th scope=col>transcript1_stop</th><th scope=col>transcript_1</th><th scope=col>transcript1_score</th><th scope=col>transcript1_strand</th><th scope=col>transcript2_chrom</th><th scope=col>transcript2_start</th><th scope=col>transcript2_stop</th><th scope=col>transcript_2</th><th scope=col>⋯</th><th scope=col>adj_p_BH</th><th scope=col>nObs</th><th scope=col>t</th><th scope=col>distance_tss</th><th scope=col>distance_tes</th><th scope=col>position</th><th scope=col>tissue</th><th scope=col>percent_transcribed_both</th><th scope=col>genie3_ranks</th><th scope=col>gtex_supported</th></tr>\n",
       "\t<tr><th scope=col>&lt;chr&gt;</th><th scope=col>&lt;int&gt;</th><th scope=col>&lt;int&gt;</th><th scope=col>&lt;chr&gt;</th><th scope=col>&lt;chr&gt;</th><th scope=col>&lt;chr&gt;</th><th scope=col>&lt;chr&gt;</th><th scope=col>&lt;int&gt;</th><th scope=col>&lt;int&gt;</th><th scope=col>&lt;chr&gt;</th><th scope=col>⋯</th><th scope=col>&lt;dbl&gt;</th><th scope=col>&lt;int&gt;</th><th scope=col>&lt;dbl&gt;</th><th scope=col>&lt;dbl&gt;</th><th scope=col>&lt;dbl&gt;</th><th scope=col>&lt;chr&gt;</th><th scope=col>&lt;chr&gt;</th><th scope=col>&lt;dbl&gt;</th><th scope=col>&lt;int&gt;</th><th scope=col>&lt;chr&gt;</th></tr>\n",
       "</thead>\n",
       "<tbody>\n",
       "\t<tr><td>chr19</td><td>58351969</td><td>58355183</td><td>A1BG-AS1:NR_015380.2</td><td>.</td><td>+</td><td>chr19</td><td>57479710</td><td>57479990</td><td>chr19:57479710-57479990</td><td>⋯</td><td>0.0034719478</td><td>26</td><td>4.310259</td><td>-872119</td><td>-875333</td><td>upstream</td><td>uterus  </td><td>44.82759</td><td>5</td><td>No</td></tr>\n",
       "\t<tr><td>chr19</td><td>58351969</td><td>58355183</td><td>A1BG-AS1:NR_015380.2</td><td>.</td><td>+</td><td>chr19</td><td>57480338</td><td>57480600</td><td>chr19:57480338-57480600</td><td>⋯</td><td>0.0017483223</td><td>18</td><td>4.871192</td><td>-871500</td><td>-874714</td><td>upstream</td><td>prostate</td><td>43.90244</td><td>1</td><td>No</td></tr>\n",
       "\t<tr><td>chr19</td><td>58351969</td><td>58355183</td><td>A1BG-AS1:NR_015380.2</td><td>.</td><td>+</td><td>chr19</td><td>57480338</td><td>57480600</td><td>chr19:57480338-57480600</td><td>⋯</td><td>0.0009361908</td><td>23</td><td>5.122232</td><td>-871500</td><td>-874714</td><td>upstream</td><td>uterus  </td><td>39.65517</td><td>1</td><td>No</td></tr>\n",
       "</tbody>\n",
       "</table>\n"
      ],
      "text/latex": [
       "A data.table: 3 × 24\n",
       "\\begin{tabular}{lllllllllllllllllllll}\n",
       " transcript1\\_chrom & transcript1\\_start & transcript1\\_stop & transcript\\_1 & transcript1\\_score & transcript1\\_strand & transcript2\\_chrom & transcript2\\_start & transcript2\\_stop & transcript\\_2 & ⋯ & adj\\_p\\_BH & nObs & t & distance\\_tss & distance\\_tes & position & tissue & percent\\_transcribed\\_both & genie3\\_ranks & gtex\\_supported\\\\\n",
       " <chr> & <int> & <int> & <chr> & <chr> & <chr> & <chr> & <int> & <int> & <chr> & ⋯ & <dbl> & <int> & <dbl> & <dbl> & <dbl> & <chr> & <chr> & <dbl> & <int> & <chr>\\\\\n",
       "\\hline\n",
       "\t chr19 & 58351969 & 58355183 & A1BG-AS1:NR\\_015380.2 & . & + & chr19 & 57479710 & 57479990 & chr19:57479710-57479990 & ⋯ & 0.0034719478 & 26 & 4.310259 & -872119 & -875333 & upstream & uterus   & 44.82759 & 5 & No\\\\\n",
       "\t chr19 & 58351969 & 58355183 & A1BG-AS1:NR\\_015380.2 & . & + & chr19 & 57480338 & 57480600 & chr19:57480338-57480600 & ⋯ & 0.0017483223 & 18 & 4.871192 & -871500 & -874714 & upstream & prostate & 43.90244 & 1 & No\\\\\n",
       "\t chr19 & 58351969 & 58355183 & A1BG-AS1:NR\\_015380.2 & . & + & chr19 & 57480338 & 57480600 & chr19:57480338-57480600 & ⋯ & 0.0009361908 & 23 & 5.122232 & -871500 & -874714 & upstream & uterus   & 39.65517 & 1 & No\\\\\n",
       "\\end{tabular}\n"
      ],
      "text/markdown": [
       "\n",
       "A data.table: 3 × 24\n",
       "\n",
       "| transcript1_chrom &lt;chr&gt; | transcript1_start &lt;int&gt; | transcript1_stop &lt;int&gt; | transcript_1 &lt;chr&gt; | transcript1_score &lt;chr&gt; | transcript1_strand &lt;chr&gt; | transcript2_chrom &lt;chr&gt; | transcript2_start &lt;int&gt; | transcript2_stop &lt;int&gt; | transcript_2 &lt;chr&gt; | ⋯ ⋯ | adj_p_BH &lt;dbl&gt; | nObs &lt;int&gt; | t &lt;dbl&gt; | distance_tss &lt;dbl&gt; | distance_tes &lt;dbl&gt; | position &lt;chr&gt; | tissue &lt;chr&gt; | percent_transcribed_both &lt;dbl&gt; | genie3_ranks &lt;int&gt; | gtex_supported &lt;chr&gt; |\n",
       "|---|---|---|---|---|---|---|---|---|---|---|---|---|---|---|---|---|---|---|---|---|\n",
       "| chr19 | 58351969 | 58355183 | A1BG-AS1:NR_015380.2 | . | + | chr19 | 57479710 | 57479990 | chr19:57479710-57479990 | ⋯ | 0.0034719478 | 26 | 4.310259 | -872119 | -875333 | upstream | uterus   | 44.82759 | 5 | No |\n",
       "| chr19 | 58351969 | 58355183 | A1BG-AS1:NR_015380.2 | . | + | chr19 | 57480338 | 57480600 | chr19:57480338-57480600 | ⋯ | 0.0017483223 | 18 | 4.871192 | -871500 | -874714 | upstream | prostate | 43.90244 | 1 | No |\n",
       "| chr19 | 58351969 | 58355183 | A1BG-AS1:NR_015380.2 | . | + | chr19 | 57480338 | 57480600 | chr19:57480338-57480600 | ⋯ | 0.0009361908 | 23 | 5.122232 | -871500 | -874714 | upstream | uterus   | 39.65517 | 1 | No |\n",
       "\n"
      ],
      "text/plain": [
       "  transcript1_chrom transcript1_start transcript1_stop transcript_1        \n",
       "1 chr19             58351969          58355183         A1BG-AS1:NR_015380.2\n",
       "2 chr19             58351969          58355183         A1BG-AS1:NR_015380.2\n",
       "3 chr19             58351969          58355183         A1BG-AS1:NR_015380.2\n",
       "  transcript1_score transcript1_strand transcript2_chrom transcript2_start\n",
       "1 .                 +                  chr19             57479710         \n",
       "2 .                 +                  chr19             57480338         \n",
       "3 .                 +                  chr19             57480338         \n",
       "  transcript2_stop transcript_2            ⋯ adj_p_BH     nObs t       \n",
       "1 57479990         chr19:57479710-57479990 ⋯ 0.0034719478 26   4.310259\n",
       "2 57480600         chr19:57480338-57480600 ⋯ 0.0017483223 18   4.871192\n",
       "3 57480600         chr19:57480338-57480600 ⋯ 0.0009361908 23   5.122232\n",
       "  distance_tss distance_tes position tissue   percent_transcribed_both\n",
       "1 -872119      -875333      upstream uterus   44.82759                \n",
       "2 -871500      -874714      upstream prostate 43.90244                \n",
       "3 -871500      -874714      upstream uterus   39.65517                \n",
       "  genie3_ranks gtex_supported\n",
       "1 5            No            \n",
       "2 1            No            \n",
       "3 1            No            "
      ]
     },
     "metadata": {},
     "output_type": "display_data"
    }
   ],
   "source": [
    "head(sig_inter_nobs_dist_filtered_meta, 3)"
   ]
  },
  {
   "cell_type": "markdown",
   "metadata": {},
   "source": [
    "# Save final pair file"
   ]
  },
  {
   "cell_type": "code",
   "execution_count": 19,
   "metadata": {},
   "outputs": [],
   "source": [
    "data.table::fwrite(sig_inter_nobs_dist_filtered_meta,\n",
    "                  \"/scratch/Shares/dowell/rutendo/projects/DBNascent_Analysis/data/gene_bidir_significant_pairs/dbnascent_pairs.txt.gz\",\n",
    "                  sep=\"\\t\")"
   ]
  },
  {
   "cell_type": "markdown",
   "metadata": {},
   "source": [
    "# Session Information "
   ]
  },
  {
   "cell_type": "code",
   "execution_count": 20,
   "metadata": {},
   "outputs": [
    {
     "data": {
      "text/plain": [
       "R version 3.6.0 (2019-04-26)\n",
       "Platform: x86_64-redhat-linux-gnu (64-bit)\n",
       "Running under: CentOS Linux 7 (Core)\n",
       "\n",
       "Matrix products: default\n",
       "BLAS/LAPACK: /usr/lib64/R/lib/libRblas.so\n",
       "\n",
       "locale:\n",
       " [1] LC_CTYPE=en_US.UTF-8       LC_NUMERIC=C              \n",
       " [3] LC_TIME=en_US.UTF-8        LC_COLLATE=en_US.UTF-8    \n",
       " [5] LC_MONETARY=en_US.UTF-8    LC_MESSAGES=en_US.UTF-8   \n",
       " [7] LC_PAPER=en_US.UTF-8       LC_NAME=C                 \n",
       " [9] LC_ADDRESS=C               LC_TELEPHONE=C            \n",
       "[11] LC_MEASUREMENT=en_US.UTF-8 LC_IDENTIFICATION=C       \n",
       "\n",
       "attached base packages:\n",
       "[1] stats     graphics  grDevices utils     datasets  methods   base     \n",
       "\n",
       "other attached packages:\n",
       "[1] data.table_1.14.2\n",
       "\n",
       "loaded via a namespace (and not attached):\n",
       " [1] fansi_1.0.3       crayon_1.5.1      digest_0.6.29     utf8_1.2.2       \n",
       " [5] R.methodsS3_1.8.2 IRdisplay_1.1     repr_1.1.4        lifecycle_1.0.3  \n",
       " [9] jsonlite_1.8.0    evaluate_0.16     pillar_1.8.1      rlang_1.0.6      \n",
       "[13] cli_3.4.1         uuid_1.1-0        R.oo_1.25.0       R.utils_2.12.0   \n",
       "[17] vctrs_0.5.0       IRkernel_1.3.2    tools_3.6.0       glue_1.6.2       \n",
       "[21] fastmap_1.1.0     compiler_3.6.0    base64enc_0.1-3   pbdZMQ_0.3-7     \n",
       "[25] htmltools_0.5.2  "
      ]
     },
     "metadata": {},
     "output_type": "display_data"
    }
   ],
   "source": [
    "sessionInfo()"
   ]
  }
 ],
 "metadata": {
  "kernelspec": {
   "display_name": "R",
   "language": "R",
   "name": "ir"
  },
  "language_info": {
   "codemirror_mode": "r",
   "file_extension": ".r",
   "mimetype": "text/x-r-source",
   "name": "R",
   "pygments_lexer": "r",
   "version": "3.6.0"
  },
  "toc": {
   "base_numbering": 1,
   "nav_menu": {},
   "number_sections": true,
   "sideBar": true,
   "skip_h1_title": false,
   "title_cell": "Table of Contents",
   "title_sidebar": "Contents",
   "toc_cell": false,
   "toc_position": {},
   "toc_section_display": true,
   "toc_window_display": true
  }
 },
 "nbformat": 4,
 "nbformat_minor": 2
}
