{
 "cells": [
  {
   "cell_type": "markdown",
   "metadata": {},
   "source": [
    "# Introduction"
   ]
  },
  {
   "cell_type": "markdown",
   "metadata": {},
   "source": [
    "**Author :** Rutendo F. Sigauke\n",
    "\n",
    "**Input  :** \n",
    "1. Annotation files (RefSeq and Genes)\n",
    "2. Overlap bed files between mumerged bidirectionals and genome features\n",
    "\n",
    "**Output :**\n",
    "\n",
    "Figures"
   ]
  },
  {
   "cell_type": "markdown",
   "metadata": {},
   "source": [
    "## Summary of methods\n",
    "\n",
    "Here regions of bidirectional transcription as called by dREG and Tfit are overlapped with RefSeq gene annotations from NCBI (`mm10_p6` and `hg38_p14`). The features overlapped include all transcript `promoters`(1kb upstream on TSS), `exons`,`intron` and `intergenic regions`. For the 50% or 60% overlaps, if a bidirectional overlapped a feature, it was only counted once as indicated by the `-u` flag.\n",
    "\n",
    "The script used to generate the overlaps is `06_master_mumerge_overlap_genome_features.sbatch`. The bidirectional transcript regions that overlap features are reported (either unique or all overlaps with number of base pairs covered).\n"
   ]
  },
  {
   "cell_type": "markdown",
   "metadata": {},
   "source": [
    "## Script "
   ]
  },
  {
   "cell_type": "markdown",
   "metadata": {},
   "source": [
    "```sh\n",
    "\n",
    "#!/bin/bash\n",
    "\n",
    "#SBATCH --job-name=overlaps_mumerged_bidirs_with_genome_features\n",
    "#SBATCH --output=/scratch/Users/rusi2317/e_and_o/%x_%j.out\n",
    "#SBATCH --error=/scratch/Users/rusi2317/e_and_o/%x_%j.err\n",
    "#SBATCH --time=00:05:00\n",
    "#SBATCH --nodes=1\n",
    "#SBATCH --ntasks=1\n",
    "#SBATCH --mem=50MB\n",
    "#SBATCH --partition short\n",
    "#SBATCH --mail-type=FAIL\n",
    "#SBATCH --mail-user=rutendo.sigauke@cuanschutz.edu\n",
    "\n",
    "module purge\n",
    "\n",
    "###########################################\n",
    "##initialize files                       ## \n",
    "###########################################\n",
    "wd=/scratch/Users/rusi2317/projects/master_mumerge/processed_data\n",
    "mm10_features=/scratch/Shares/dowell/genomes/mm10/ncbi\n",
    "hg38_features=/scratch/Shares/dowell/genomes/hg38/ncbi \n",
    "mumerge=/scratch/Shares/dowell/dbnascent/out/meta_analysis/mumerge/bidirectionals_dreg_tfit\n",
    "hg38_mumerge=${mumerge}/hg38_tfit_dreg_bidirectionals.bed\n",
    "mm10_mumerge=${mumerge}/mm10_tfit_dreg_bidirectionals.bed\n",
    "out=${wd}/genome_overlap\n",
    "\n",
    "mkdir -p ${out}\n",
    "\n",
    "###########################################\n",
    "##Get number ofr bidirectionals          ##\n",
    "##that overlap the following features    ##\n",
    "##intergenic, intronic, promoter, exonic ##\n",
    "###########################################\n",
    "\n",
    "##human annotations\n",
    "for feature in `ls ${hg38_features} | grep \".bed\" | grep 'intergenic\\|introns\\|promoters\\|exons'`; do\n",
    "\n",
    "    bedtools intersect -a ${hg38_mumerge} -b ${hg38_features}/${feature} -wa -u -f 0.5 > ${out}/${feature}.mumerge_overlap50perc.bed\n",
    "    bedtools intersect -a ${hg38_mumerge} -b ${hg38_features}/${feature} -wa -u -f 0.6 > ${out}/${feature}.mumerge_overlap60perc.bed\n",
    "    bedtools intersect -a ${hg38_mumerge} -b ${hg38_features}/${feature} -wa -u > ${out}/${feature}.mumerge_overlap.bed\n",
    "    bedtools intersect -a ${hg38_mumerge} -b ${hg38_features}/${feature} -wa > ${out}/${feature}.mumerge_overlapReportAll.bed\n",
    "    bedtools intersect -a ${hg38_mumerge} -b ${hg38_features}/${feature} -wo > ${out}/${feature}.mumerge_overlapReportAll_bp.bed\n",
    "    \n",
    "done \n",
    "\n",
    "##mouse annotations\n",
    "for feature in `ls ${mm10_features} | grep \".bed\" | grep 'intergenic\\|introns\\|promoters\\|exons'`; do\n",
    "    bedtools intersect -a ${mm10_mumerge} -b ${mm10_features}/${feature} -wa -u -f 0.5 > ${out}/${feature}.mumerge_overlap50perc.bed\n",
    "    bedtools intersect -a ${mm10_mumerge} -b ${mm10_features}/${feature} -wa -u -f 0.6 > ${out}/${feature}.mumerge_overlap60perc.bed\n",
    "    bedtools intersect -a ${mm10_mumerge} -b ${mm10_features}/${feature} -wa -u > ${out}/${feature}.mumerge_overlap.bed\n",
    "    bedtools intersect -a ${mm10_mumerge} -b ${mm10_features}/${feature} -wa > ${out}/${feature}.mumerge_overlapReportAll.bed\n",
    "    bedtools intersect -a ${mm10_mumerge} -b ${mm10_features}/${feature} -wo > ${out}/${feature}.mumerge_overlapReportAll_bp.bed\n",
    "    \n",
    "done \n",
    "\n",
    "\n",
    "```"
   ]
  },
  {
   "cell_type": "markdown",
   "metadata": {},
   "source": [
    "# Library loads"
   ]
  },
  {
   "cell_type": "code",
   "execution_count": 1,
   "metadata": {},
   "outputs": [
    {
     "name": "stderr",
     "output_type": "stream",
     "text": [
      "Loading required package: dplyr\n",
      "\n",
      "\n",
      "Attaching package: ‘dplyr’\n",
      "\n",
      "\n",
      "The following objects are masked from ‘package:data.table’:\n",
      "\n",
      "    between, first, last\n",
      "\n",
      "\n",
      "The following objects are masked from ‘package:stats’:\n",
      "\n",
      "    filter, lag\n",
      "\n",
      "\n",
      "The following objects are masked from ‘package:base’:\n",
      "\n",
      "    intersect, setdiff, setequal, union\n",
      "\n",
      "\n",
      "Loading required package: grid\n",
      "\n",
      "Loading required package: futile.logger\n",
      "\n"
     ]
    }
   ],
   "source": [
    "library(data.table) # easy import of large tables\n",
    "library(ggplot2)    # plotting\n",
    "library(cowplot)    # plotting\n",
    "library(scales)     # plotting\n",
    "library(ggvenn)       ## plot venn digram\n",
    "library(VennDiagram)  ## plot venn diagram"
   ]
  },
  {
   "cell_type": "markdown",
   "metadata": {},
   "source": [
    "# Summary of overlaps"
   ]
  },
  {
   "cell_type": "markdown",
   "metadata": {},
   "source": [
    "## hg38"
   ]
  },
  {
   "cell_type": "markdown",
   "metadata": {},
   "source": [
    "```sh\n",
    "\n",
    "rusi2317@fiji-2.colorado.edu$ wc -l hg38_refseq_*\n",
    "    38380 hg38_refseq_exons.bed.mumerge_overlap50perc.bed\n",
    "    31344 hg38_refseq_exons.bed.mumerge_overlap60perc.bed\n",
    "    99481 hg38_refseq_exons.bed.mumerge_overlap.bed\n",
    "   399047 hg38_refseq_exons.bed.mumerge_overlapReportAll.bed\n",
    "   399047 hg38_refseq_exons.bed.mumerge_overlapReportAll_bp.bed\n",
    "   319058 hg38_refseq_intergenic.bed.mumerge_overlap50perc.bed\n",
    "   318363 hg38_refseq_intergenic.bed.mumerge_overlap60perc.bed\n",
    "   322329 hg38_refseq_intergenic.bed.mumerge_overlap.bed\n",
    "   322329 hg38_refseq_intergenic.bed.mumerge_overlapReportAll.bed\n",
    "   322329 hg38_refseq_intergenic.bed.mumerge_overlapReportAll_bp.bed\n",
    "   459907 hg38_refseq_introns.bed.mumerge_overlap50perc.bed\n",
    "   450557 hg38_refseq_introns.bed.mumerge_overlap60perc.bed\n",
    "   482632 hg38_refseq_introns.bed.mumerge_overlap.bed\n",
    "  2406992 hg38_refseq_introns.bed.mumerge_overlapReportAll.bed\n",
    "  2406992 hg38_refseq_introns.bed.mumerge_overlapReportAll_bp.bed\n",
    "    26728 hg38_refseq_promoters.bed.mumerge_overlap50perc.bed\n",
    "    22425 hg38_refseq_promoters.bed.mumerge_overlap60perc.bed\n",
    "    33365 hg38_refseq_promoters.bed.mumerge_overlap.bed\n",
    "    95469 hg38_refseq_promoters.bed.mumerge_overlapReportAll.bed\n",
    "    95469 hg38_refseq_promoters.bed.mumerge_overlapReportAll_bp.bed\n",
    "```"
   ]
  },
  {
   "cell_type": "markdown",
   "metadata": {},
   "source": [
    "## mm10"
   ]
  },
  {
   "cell_type": "markdown",
   "metadata": {},
   "source": [
    "```sh\n",
    "\n",
    "rusi2317@fiji-2.colorado.edu$ wc -l mm10_refseq_*\n",
    "    31087 mm10_refseq_exons.bed.mumerge_overlap50perc.bed\n",
    "    25467 mm10_refseq_exons.bed.mumerge_overlap60perc.bed\n",
    "    79511 mm10_refseq_exons.bed.mumerge_overlap.bed\n",
    "   164219 mm10_refseq_exons.bed.mumerge_overlapReportAll.bed\n",
    "   164219 mm10_refseq_exons.bed.mumerge_overlapReportAll_bp.bed\n",
    "   286219 mm10_refseq_intergenic.bed.mumerge_overlap50perc.bed\n",
    "   285572 mm10_refseq_intergenic.bed.mumerge_overlap60perc.bed\n",
    "   289376 mm10_refseq_intergenic.bed.mumerge_overlap.bed\n",
    "   289376 mm10_refseq_intergenic.bed.mumerge_overlapReportAll.bed\n",
    "   289376 mm10_refseq_intergenic.bed.mumerge_overlapReportAll_bp.bed\n",
    "   330705 mm10_refseq_introns.bed.mumerge_overlap50perc.bed\n",
    "   323918 mm10_refseq_introns.bed.mumerge_overlap60perc.bed\n",
    "   350863 mm10_refseq_introns.bed.mumerge_overlap.bed\n",
    "   815730 mm10_refseq_introns.bed.mumerge_overlapReportAll.bed\n",
    "   815730 mm10_refseq_introns.bed.mumerge_overlapReportAll_bp.bed\n",
    "    22605 mm10_refseq_promoters.bed.mumerge_overlap50perc.bed\n",
    "    18476 mm10_refseq_promoters.bed.mumerge_overlap60perc.bed\n",
    "    28929 mm10_refseq_promoters.bed.mumerge_overlap.bed\n",
    "    50187 mm10_refseq_promoters.bed.mumerge_overlapReportAll.bed\n",
    "    50187 mm10_refseq_promoters.bed.mumerge_overlapReportAll_bp.bed\n",
    "\n",
    "```"
   ]
  },
  {
   "cell_type": "markdown",
   "metadata": {},
   "source": [
    "# Load samples"
   ]
  },
  {
   "cell_type": "markdown",
   "metadata": {},
   "source": [
    "## Overlap tables"
   ]
  },
  {
   "cell_type": "code",
   "execution_count": 2,
   "metadata": {
    "scrolled": true
   },
   "outputs": [
    {
     "data": {
      "text/html": [
       "<style>\n",
       ".list-inline {list-style: none; margin:0; padding: 0}\n",
       ".list-inline>li {display: inline-block}\n",
       ".list-inline>li:not(:last-child)::after {content: \"\\00b7\"; padding: 0 .5ex}\n",
       "</style>\n",
       "<ol class=list-inline><li>'/Users/rusi2317/projects/master_mumerge/processed_data/genome_overlap/hg38_refseq_exons.bed.mumerge_overlap.bed'</li><li>'/Users/rusi2317/projects/master_mumerge/processed_data/genome_overlap/hg38_refseq_exons.bed.mumerge_overlap50perc.bed'</li><li>'/Users/rusi2317/projects/master_mumerge/processed_data/genome_overlap/hg38_refseq_exons.bed.mumerge_overlap60perc.bed'</li><li>'/Users/rusi2317/projects/master_mumerge/processed_data/genome_overlap/hg38_refseq_exons.bed.mumerge_overlapReportAll_bp.bed'</li><li>'/Users/rusi2317/projects/master_mumerge/processed_data/genome_overlap/hg38_refseq_exons.bed.mumerge_overlapReportAll.bed'</li><li>'/Users/rusi2317/projects/master_mumerge/processed_data/genome_overlap/hg38_refseq_intergenic.bed.mumerge_overlap.bed'</li></ol>\n"
      ],
      "text/latex": [
       "\\begin{enumerate*}\n",
       "\\item '/Users/rusi2317/projects/master\\_mumerge/processed\\_data/genome\\_overlap/hg38\\_refseq\\_exons.bed.mumerge\\_overlap.bed'\n",
       "\\item '/Users/rusi2317/projects/master\\_mumerge/processed\\_data/genome\\_overlap/hg38\\_refseq\\_exons.bed.mumerge\\_overlap50perc.bed'\n",
       "\\item '/Users/rusi2317/projects/master\\_mumerge/processed\\_data/genome\\_overlap/hg38\\_refseq\\_exons.bed.mumerge\\_overlap60perc.bed'\n",
       "\\item '/Users/rusi2317/projects/master\\_mumerge/processed\\_data/genome\\_overlap/hg38\\_refseq\\_exons.bed.mumerge\\_overlapReportAll\\_bp.bed'\n",
       "\\item '/Users/rusi2317/projects/master\\_mumerge/processed\\_data/genome\\_overlap/hg38\\_refseq\\_exons.bed.mumerge\\_overlapReportAll.bed'\n",
       "\\item '/Users/rusi2317/projects/master\\_mumerge/processed\\_data/genome\\_overlap/hg38\\_refseq\\_intergenic.bed.mumerge\\_overlap.bed'\n",
       "\\end{enumerate*}\n"
      ],
      "text/markdown": [
       "1. '/Users/rusi2317/projects/master_mumerge/processed_data/genome_overlap/hg38_refseq_exons.bed.mumerge_overlap.bed'\n",
       "2. '/Users/rusi2317/projects/master_mumerge/processed_data/genome_overlap/hg38_refseq_exons.bed.mumerge_overlap50perc.bed'\n",
       "3. '/Users/rusi2317/projects/master_mumerge/processed_data/genome_overlap/hg38_refseq_exons.bed.mumerge_overlap60perc.bed'\n",
       "4. '/Users/rusi2317/projects/master_mumerge/processed_data/genome_overlap/hg38_refseq_exons.bed.mumerge_overlapReportAll_bp.bed'\n",
       "5. '/Users/rusi2317/projects/master_mumerge/processed_data/genome_overlap/hg38_refseq_exons.bed.mumerge_overlapReportAll.bed'\n",
       "6. '/Users/rusi2317/projects/master_mumerge/processed_data/genome_overlap/hg38_refseq_intergenic.bed.mumerge_overlap.bed'\n",
       "\n",
       "\n"
      ],
      "text/plain": [
       "[1] \"/Users/rusi2317/projects/master_mumerge/processed_data/genome_overlap/hg38_refseq_exons.bed.mumerge_overlap.bed\"            \n",
       "[2] \"/Users/rusi2317/projects/master_mumerge/processed_data/genome_overlap/hg38_refseq_exons.bed.mumerge_overlap50perc.bed\"      \n",
       "[3] \"/Users/rusi2317/projects/master_mumerge/processed_data/genome_overlap/hg38_refseq_exons.bed.mumerge_overlap60perc.bed\"      \n",
       "[4] \"/Users/rusi2317/projects/master_mumerge/processed_data/genome_overlap/hg38_refseq_exons.bed.mumerge_overlapReportAll_bp.bed\"\n",
       "[5] \"/Users/rusi2317/projects/master_mumerge/processed_data/genome_overlap/hg38_refseq_exons.bed.mumerge_overlapReportAll.bed\"   \n",
       "[6] \"/Users/rusi2317/projects/master_mumerge/processed_data/genome_overlap/hg38_refseq_intergenic.bed.mumerge_overlap.bed\"       "
      ]
     },
     "metadata": {},
     "output_type": "display_data"
    }
   ],
   "source": [
    "genome_overlap <- '/Users/rusi2317/projects/master_mumerge/processed_data/genome_overlap'\n",
    "\n",
    "genome_overlap_path <- list.files(path=genome_overlap, \n",
    "                              pattern=\"bed$\",full.names=TRUE)\n",
    "head(genome_overlap_path)"
   ]
  },
  {
   "cell_type": "code",
   "execution_count": 3,
   "metadata": {},
   "outputs": [
    {
     "data": {
      "text/html": [
       "<style>\n",
       ".list-inline {list-style: none; margin:0; padding: 0}\n",
       ".list-inline>li {display: inline-block}\n",
       ".list-inline>li:not(:last-child)::after {content: \"\\00b7\"; padding: 0 .5ex}\n",
       "</style>\n",
       "<ol class=list-inline><li>99481</li><li>6</li></ol>\n"
      ],
      "text/latex": [
       "\\begin{enumerate*}\n",
       "\\item 99481\n",
       "\\item 6\n",
       "\\end{enumerate*}\n"
      ],
      "text/markdown": [
       "1. 99481\n",
       "2. 6\n",
       "\n",
       "\n"
      ],
      "text/plain": [
       "[1] 99481     6"
      ]
     },
     "metadata": {},
     "output_type": "display_data"
    },
    {
     "data": {
      "text/html": [
       "<table class=\"dataframe\">\n",
       "<caption>A data.table: 3 × 6</caption>\n",
       "<thead>\n",
       "\t<tr><th scope=col>V1</th><th scope=col>V2</th><th scope=col>V3</th><th scope=col>V4</th><th scope=col>V5</th><th scope=col>V6</th></tr>\n",
       "\t<tr><th scope=col>&lt;chr&gt;</th><th scope=col>&lt;int&gt;</th><th scope=col>&lt;int&gt;</th><th scope=col>&lt;chr&gt;</th><th scope=col>&lt;int&gt;</th><th scope=col>&lt;chr&gt;</th></tr>\n",
       "</thead>\n",
       "<tbody>\n",
       "\t<tr><td>chr1</td><td>12182</td><td>12456</td><td>tfit,dreg</td><td> 1</td><td>.</td></tr>\n",
       "\t<tr><td>chr1</td><td>13264</td><td>13506</td><td>tfit     </td><td>14</td><td>.</td></tr>\n",
       "\t<tr><td>chr1</td><td>14655</td><td>14811</td><td>tfit,dreg</td><td>14</td><td>.</td></tr>\n",
       "</tbody>\n",
       "</table>\n"
      ],
      "text/latex": [
       "A data.table: 3 × 6\n",
       "\\begin{tabular}{llllll}\n",
       " V1 & V2 & V3 & V4 & V5 & V6\\\\\n",
       " <chr> & <int> & <int> & <chr> & <int> & <chr>\\\\\n",
       "\\hline\n",
       "\t chr1 & 12182 & 12456 & tfit,dreg &  1 & .\\\\\n",
       "\t chr1 & 13264 & 13506 & tfit      & 14 & .\\\\\n",
       "\t chr1 & 14655 & 14811 & tfit,dreg & 14 & .\\\\\n",
       "\\end{tabular}\n"
      ],
      "text/markdown": [
       "\n",
       "A data.table: 3 × 6\n",
       "\n",
       "| V1 &lt;chr&gt; | V2 &lt;int&gt; | V3 &lt;int&gt; | V4 &lt;chr&gt; | V5 &lt;int&gt; | V6 &lt;chr&gt; |\n",
       "|---|---|---|---|---|---|\n",
       "| chr1 | 12182 | 12456 | tfit,dreg |  1 | . |\n",
       "| chr1 | 13264 | 13506 | tfit      | 14 | . |\n",
       "| chr1 | 14655 | 14811 | tfit,dreg | 14 | . |\n",
       "\n"
      ],
      "text/plain": [
       "  V1   V2    V3    V4        V5 V6\n",
       "1 chr1 12182 12456 tfit,dreg  1 . \n",
       "2 chr1 13264 13506 tfit      14 . \n",
       "3 chr1 14655 14811 tfit,dreg 14 . "
      ]
     },
     "metadata": {},
     "output_type": "display_data"
    }
   ],
   "source": [
    "genome_overlap_DT <- lapply(genome_overlap_path, data.table::fread)\n",
    "dim(genome_overlap_DT[[1]])\n",
    "head(genome_overlap_DT[[1]], 3)"
   ]
  },
  {
   "cell_type": "code",
   "execution_count": 4,
   "metadata": {},
   "outputs": [
    {
     "data": {
      "text/html": [
       "<table class=\"dataframe\">\n",
       "<caption>A data.table: 3 × 16</caption>\n",
       "<thead>\n",
       "\t<tr><th scope=col>V1</th><th scope=col>V2</th><th scope=col>V3</th><th scope=col>V4</th><th scope=col>V5</th><th scope=col>V6</th><th scope=col>V7</th><th scope=col>V8</th><th scope=col>V9</th><th scope=col>V10</th><th scope=col>V11</th><th scope=col>V12</th><th scope=col>V13</th><th scope=col>bidir_width</th><th scope=col>exon_width</th><th scope=col>bidir_perc</th></tr>\n",
       "\t<tr><th scope=col>&lt;chr&gt;</th><th scope=col>&lt;int&gt;</th><th scope=col>&lt;int&gt;</th><th scope=col>&lt;chr&gt;</th><th scope=col>&lt;int&gt;</th><th scope=col>&lt;chr&gt;</th><th scope=col>&lt;chr&gt;</th><th scope=col>&lt;int&gt;</th><th scope=col>&lt;int&gt;</th><th scope=col>&lt;chr&gt;</th><th scope=col>&lt;chr&gt;</th><th scope=col>&lt;chr&gt;</th><th scope=col>&lt;int&gt;</th><th scope=col>&lt;dbl&gt;</th><th scope=col>&lt;dbl&gt;</th><th scope=col>&lt;dbl&gt;</th></tr>\n",
       "</thead>\n",
       "<tbody>\n",
       "\t<tr><td>chr1</td><td>12182</td><td>12456</td><td>tfit,dreg</td><td> 1</td><td>.</td><td>chr1</td><td>11873</td><td>12227</td><td>DDX11L1:NR_046018.2</td><td>.</td><td>+</td><td> 45</td><td>275</td><td> 355</td><td>16.36364</td></tr>\n",
       "\t<tr><td>chr1</td><td>13264</td><td>13506</td><td>tfit     </td><td>14</td><td>.</td><td>chr1</td><td>13220</td><td>14409</td><td>DDX11L1:NR_046018.2</td><td>.</td><td>+</td><td>242</td><td>243</td><td>1190</td><td>99.58848</td></tr>\n",
       "\t<tr><td>chr1</td><td>14655</td><td>14811</td><td>tfit,dreg</td><td>14</td><td>.</td><td>chr1</td><td>14361</td><td>14829</td><td>WASH7P:NR_024540.1 </td><td>.</td><td>-</td><td>156</td><td>157</td><td> 469</td><td>99.36306</td></tr>\n",
       "</tbody>\n",
       "</table>\n"
      ],
      "text/latex": [
       "A data.table: 3 × 16\n",
       "\\begin{tabular}{llllllllllllllll}\n",
       " V1 & V2 & V3 & V4 & V5 & V6 & V7 & V8 & V9 & V10 & V11 & V12 & V13 & bidir\\_width & exon\\_width & bidir\\_perc\\\\\n",
       " <chr> & <int> & <int> & <chr> & <int> & <chr> & <chr> & <int> & <int> & <chr> & <chr> & <chr> & <int> & <dbl> & <dbl> & <dbl>\\\\\n",
       "\\hline\n",
       "\t chr1 & 12182 & 12456 & tfit,dreg &  1 & . & chr1 & 11873 & 12227 & DDX11L1:NR\\_046018.2 & . & + &  45 & 275 &  355 & 16.36364\\\\\n",
       "\t chr1 & 13264 & 13506 & tfit      & 14 & . & chr1 & 13220 & 14409 & DDX11L1:NR\\_046018.2 & . & + & 242 & 243 & 1190 & 99.58848\\\\\n",
       "\t chr1 & 14655 & 14811 & tfit,dreg & 14 & . & chr1 & 14361 & 14829 & WASH7P:NR\\_024540.1  & . & - & 156 & 157 &  469 & 99.36306\\\\\n",
       "\\end{tabular}\n"
      ],
      "text/markdown": [
       "\n",
       "A data.table: 3 × 16\n",
       "\n",
       "| V1 &lt;chr&gt; | V2 &lt;int&gt; | V3 &lt;int&gt; | V4 &lt;chr&gt; | V5 &lt;int&gt; | V6 &lt;chr&gt; | V7 &lt;chr&gt; | V8 &lt;int&gt; | V9 &lt;int&gt; | V10 &lt;chr&gt; | V11 &lt;chr&gt; | V12 &lt;chr&gt; | V13 &lt;int&gt; | bidir_width &lt;dbl&gt; | exon_width &lt;dbl&gt; | bidir_perc &lt;dbl&gt; |\n",
       "|---|---|---|---|---|---|---|---|---|---|---|---|---|---|---|---|\n",
       "| chr1 | 12182 | 12456 | tfit,dreg |  1 | . | chr1 | 11873 | 12227 | DDX11L1:NR_046018.2 | . | + |  45 | 275 |  355 | 16.36364 |\n",
       "| chr1 | 13264 | 13506 | tfit      | 14 | . | chr1 | 13220 | 14409 | DDX11L1:NR_046018.2 | . | + | 242 | 243 | 1190 | 99.58848 |\n",
       "| chr1 | 14655 | 14811 | tfit,dreg | 14 | . | chr1 | 14361 | 14829 | WASH7P:NR_024540.1  | . | - | 156 | 157 |  469 | 99.36306 |\n",
       "\n"
      ],
      "text/plain": [
       "  V1   V2    V3    V4        V5 V6 V7   V8    V9    V10                 V11 V12\n",
       "1 chr1 12182 12456 tfit,dreg  1 .  chr1 11873 12227 DDX11L1:NR_046018.2 .   +  \n",
       "2 chr1 13264 13506 tfit      14 .  chr1 13220 14409 DDX11L1:NR_046018.2 .   +  \n",
       "3 chr1 14655 14811 tfit,dreg 14 .  chr1 14361 14829 WASH7P:NR_024540.1  .   -  \n",
       "  V13 bidir_width exon_width bidir_perc\n",
       "1  45 275          355       16.36364  \n",
       "2 242 243         1190       99.58848  \n",
       "3 156 157          469       99.36306  "
      ]
     },
     "metadata": {},
     "output_type": "display_data"
    }
   ],
   "source": [
    "hg38_exons <- genome_overlap_DT[[4]]\n",
    "hg38_exons$bidir_width <- hg38_exons$V3-hg38_exons$V2 +1\n",
    "hg38_exons$exon_width <- hg38_exons$V9-hg38_exons$V8 +1\n",
    "hg38_exons$bidir_perc <- (hg38_exons$V13/hg38_exons$bidir_width)*100\n",
    "head(hg38_exons, 3)"
   ]
  },
  {
   "cell_type": "code",
   "execution_count": 5,
   "metadata": {},
   "outputs": [
    {
     "name": "stdout",
     "output_type": "stream",
     "text": [
      "[1] \"Fraction of overlaps\"\n",
      "[1] \"Max = 99.9598876855195\"\n",
      "[1] \"Min = 0.0655737704918033\"\n"
     ]
    }
   ],
   "source": [
    "print(\"Fraction of overlaps\")\n",
    "print(paste0(\"Max = \", as.character(max(hg38_exons$bidir_perc))))\n",
    "print(paste0(\"Min = \", as.character(min(hg38_exons$bidir_perc))))"
   ]
  },
  {
   "cell_type": "code",
   "execution_count": 6,
   "metadata": {},
   "outputs": [
    {
     "name": "stdout",
     "output_type": "stream",
     "text": [
      "[1] \"Histogram with fraction of overlaps in exons\"\n"
     ]
    },
    {
     "data": {
      "image/png": "[encoded data removed]",
      "text/plain": [
       "Plot with title “Histogram of hg38_exons$bidir_perc”"
      ]
     },
     "metadata": {
      "image/png": {
       "height": 360,
       "width": 600
      }
     },
     "output_type": "display_data"
    }
   ],
   "source": [
    "options(repr.plot.width=10, repr.plot.height=6)\n",
    "print(\"Histogram with fraction of overlaps in exons\")\n",
    "hist(hg38_exons$bidir_perc)"
   ]
  },
  {
   "cell_type": "code",
   "execution_count": 7,
   "metadata": {},
   "outputs": [
    {
     "name": "stdout",
     "output_type": "stream",
     "text": [
      "[1] \"Filter to get regions greater tha 50%\"\n"
     ]
    },
    {
     "data": {
      "image/png": "[encoded data removed]",
      "text/plain": [
       "Plot with title “Histogram of subset(hg38_exons, bidir_perc > 50)$bidir_perc”"
      ]
     },
     "metadata": {
      "image/png": {
       "height": 360,
       "width": 600
      }
     },
     "output_type": "display_data"
    }
   ],
   "source": [
    "options(repr.plot.width=10, repr.plot.height=6)\n",
    "print(\"Filter to get regions greater tha 50%\")\n",
    "hist(subset(hg38_exons, bidir_perc> 50)$bidir_perc)"
   ]
  },
  {
   "cell_type": "code",
   "execution_count": 8,
   "metadata": {},
   "outputs": [
    {
     "name": "stdout",
     "output_type": "stream",
     "text": [
      "[1] \"Get number of overlaps (1) All >50% (2) Unique bidirectiobals > 50% (3) Unique bidirectiobals > 60%\"\n"
     ]
    },
    {
     "data": {
      "text/html": [
       "134046"
      ],
      "text/latex": [
       "134046"
      ],
      "text/markdown": [
       "134046"
      ],
      "text/plain": [
       "[1] 134046"
      ]
     },
     "metadata": {},
     "output_type": "display_data"
    },
    {
     "data": {
      "text/html": [
       "38070"
      ],
      "text/latex": [
       "38070"
      ],
      "text/markdown": [
       "38070"
      ],
      "text/plain": [
       "[1] 38070"
      ]
     },
     "metadata": {},
     "output_type": "display_data"
    },
    {
     "data": {
      "text/html": [
       "31224"
      ],
      "text/latex": [
       "31224"
      ],
      "text/markdown": [
       "31224"
      ],
      "text/plain": [
       "[1] 31224"
      ]
     },
     "metadata": {},
     "output_type": "display_data"
    }
   ],
   "source": [
    "print(\"Get number of overlaps (1) All >50% (2) Unique bidirectiobals > 50% (3) Unique bidirectiobals > 60%\")\n",
    "nrow(subset(hg38_exons, bidir_perc> 50))\n",
    "nrow(unique(subset(hg38_exons, bidir_perc>= 50)[,c(1:4)]))\n",
    "nrow(unique(subset(hg38_exons, bidir_perc>= 60)[,c(1:4)])) #31344"
   ]
  },
  {
   "cell_type": "markdown",
   "metadata": {},
   "source": [
    "## Transcript annotations"
   ]
  },
  {
   "cell_type": "markdown",
   "metadata": {},
   "source": [
    "### hg38"
   ]
  },
  {
   "cell_type": "code",
   "execution_count": 9,
   "metadata": {},
   "outputs": [
    {
     "data": {
      "text/html": [
       "<style>\n",
       ".list-inline {list-style: none; margin:0; padding: 0}\n",
       ".list-inline>li {display: inline-block}\n",
       ".list-inline>li:not(:last-child)::after {content: \"\\00b7\"; padding: 0 .5ex}\n",
       "</style>\n",
       "<ol class=list-inline><li>847521</li><li>8</li></ol>\n"
      ],
      "text/latex": [
       "\\begin{enumerate*}\n",
       "\\item 847521\n",
       "\\item 8\n",
       "\\end{enumerate*}\n"
      ],
      "text/markdown": [
       "1. 847521\n",
       "2. 8\n",
       "\n",
       "\n"
      ],
      "text/plain": [
       "[1] 847521      8"
      ]
     },
     "metadata": {},
     "output_type": "display_data"
    },
    {
     "data": {
      "text/html": [
       "<table class=\"dataframe\">\n",
       "<caption>A data.table: 3 × 8</caption>\n",
       "<thead>\n",
       "\t<tr><th scope=col>chrom</th><th scope=col>start</th><th scope=col>stop</th><th scope=col>id</th><th scope=col>score</th><th scope=col>strand</th><th scope=col>width</th><th scope=col>type</th></tr>\n",
       "\t<tr><th scope=col>&lt;chr&gt;</th><th scope=col>&lt;int&gt;</th><th scope=col>&lt;int&gt;</th><th scope=col>&lt;chr&gt;</th><th scope=col>&lt;int&gt;</th><th scope=col>&lt;chr&gt;</th><th scope=col>&lt;dbl&gt;</th><th scope=col>&lt;chr&gt;</th></tr>\n",
       "</thead>\n",
       "<tbody>\n",
       "\t<tr><td>chr1</td><td>3917</td><td>4919</td><td>dreg</td><td>14</td><td>.</td><td>1003</td><td>Bidirectional</td></tr>\n",
       "\t<tr><td>chr1</td><td>5632</td><td>6042</td><td>dreg</td><td>14</td><td>.</td><td> 411</td><td>Bidirectional</td></tr>\n",
       "\t<tr><td>chr1</td><td>6132</td><td>6486</td><td>dreg</td><td> 7</td><td>.</td><td> 355</td><td>Bidirectional</td></tr>\n",
       "</tbody>\n",
       "</table>\n"
      ],
      "text/latex": [
       "A data.table: 3 × 8\n",
       "\\begin{tabular}{llllllll}\n",
       " chrom & start & stop & id & score & strand & width & type\\\\\n",
       " <chr> & <int> & <int> & <chr> & <int> & <chr> & <dbl> & <chr>\\\\\n",
       "\\hline\n",
       "\t chr1 & 3917 & 4919 & dreg & 14 & . & 1003 & Bidirectional\\\\\n",
       "\t chr1 & 5632 & 6042 & dreg & 14 & . &  411 & Bidirectional\\\\\n",
       "\t chr1 & 6132 & 6486 & dreg &  7 & . &  355 & Bidirectional\\\\\n",
       "\\end{tabular}\n"
      ],
      "text/markdown": [
       "\n",
       "A data.table: 3 × 8\n",
       "\n",
       "| chrom &lt;chr&gt; | start &lt;int&gt; | stop &lt;int&gt; | id &lt;chr&gt; | score &lt;int&gt; | strand &lt;chr&gt; | width &lt;dbl&gt; | type &lt;chr&gt; |\n",
       "|---|---|---|---|---|---|---|---|\n",
       "| chr1 | 3917 | 4919 | dreg | 14 | . | 1003 | Bidirectional |\n",
       "| chr1 | 5632 | 6042 | dreg | 14 | . |  411 | Bidirectional |\n",
       "| chr1 | 6132 | 6486 | dreg |  7 | . |  355 | Bidirectional |\n",
       "\n"
      ],
      "text/plain": [
       "  chrom start stop id   score strand width type         \n",
       "1 chr1  3917  4919 dreg 14    .      1003  Bidirectional\n",
       "2 chr1  5632  6042 dreg 14    .       411  Bidirectional\n",
       "3 chr1  6132  6486 dreg  7    .       355  Bidirectional"
      ]
     },
     "metadata": {},
     "output_type": "display_data"
    }
   ],
   "source": [
    "##bidirectional annotations\n",
    "hg38_bidirs <- data.table::fread(\"/scratch/Shares/dowell/dbnascent/out/meta_analysis/mumerge/bidirectionals_dreg_tfit/hg38_tfit_dreg_bidirectionals.bed\")\n",
    "colnames(hg38_bidirs) <- c(\"chrom\",\"start\",\"stop\",\"id\",\"score\",\"strand\")\n",
    "hg38_bidirs$width <- hg38_bidirs$stop - hg38_bidirs$start + 1\n",
    "hg38_bidirs$type <- \"Bidirectional\"\n",
    "dim(hg38_bidirs)\n",
    "head(hg38_bidirs, 3)"
   ]
  },
  {
   "cell_type": "code",
   "execution_count": 10,
   "metadata": {},
   "outputs": [
    {
     "data": {
      "text/html": [
       "<style>\n",
       ".list-inline {list-style: none; margin:0; padding: 0}\n",
       ".list-inline>li {display: inline-block}\n",
       ".list-inline>li:not(:last-child)::after {content: \"\\00b7\"; padding: 0 .5ex}\n",
       "</style>\n",
       "<ol class=list-inline><li>87314</li><li>8</li></ol>\n"
      ],
      "text/latex": [
       "\\begin{enumerate*}\n",
       "\\item 87314\n",
       "\\item 8\n",
       "\\end{enumerate*}\n"
      ],
      "text/markdown": [
       "1. 87314\n",
       "2. 8\n",
       "\n",
       "\n"
      ],
      "text/plain": [
       "[1] 87314     8"
      ]
     },
     "metadata": {},
     "output_type": "display_data"
    },
    {
     "data": {
      "text/html": [
       "<table class=\"dataframe\">\n",
       "<caption>A data.table: 3 × 8</caption>\n",
       "<thead>\n",
       "\t<tr><th scope=col>chrom</th><th scope=col>start</th><th scope=col>stop</th><th scope=col>id</th><th scope=col>score</th><th scope=col>strand</th><th scope=col>width</th><th scope=col>type</th></tr>\n",
       "\t<tr><th scope=col>&lt;chr&gt;</th><th scope=col>&lt;int&gt;</th><th scope=col>&lt;int&gt;</th><th scope=col>&lt;chr&gt;</th><th scope=col>&lt;chr&gt;</th><th scope=col>&lt;chr&gt;</th><th scope=col>&lt;dbl&gt;</th><th scope=col>&lt;chr&gt;</th></tr>\n",
       "</thead>\n",
       "<tbody>\n",
       "\t<tr><td>chr1</td><td>11873</td><td>14409</td><td>DDX11L1:NR_046018.2  </td><td>.</td><td>+</td><td> 2537</td><td>RefSeq</td></tr>\n",
       "\t<tr><td>chr1</td><td>14361</td><td>29370</td><td>WASH7P:NR_024540.1   </td><td>.</td><td>-</td><td>15010</td><td>RefSeq</td></tr>\n",
       "\t<tr><td>chr1</td><td>17368</td><td>17436</td><td>MIR6859-1:NR_106918.1</td><td>.</td><td>-</td><td>   69</td><td>RefSeq</td></tr>\n",
       "</tbody>\n",
       "</table>\n"
      ],
      "text/latex": [
       "A data.table: 3 × 8\n",
       "\\begin{tabular}{llllllll}\n",
       " chrom & start & stop & id & score & strand & width & type\\\\\n",
       " <chr> & <int> & <int> & <chr> & <chr> & <chr> & <dbl> & <chr>\\\\\n",
       "\\hline\n",
       "\t chr1 & 11873 & 14409 & DDX11L1:NR\\_046018.2   & . & + &  2537 & RefSeq\\\\\n",
       "\t chr1 & 14361 & 29370 & WASH7P:NR\\_024540.1    & . & - & 15010 & RefSeq\\\\\n",
       "\t chr1 & 17368 & 17436 & MIR6859-1:NR\\_106918.1 & . & - &    69 & RefSeq\\\\\n",
       "\\end{tabular}\n"
      ],
      "text/markdown": [
       "\n",
       "A data.table: 3 × 8\n",
       "\n",
       "| chrom &lt;chr&gt; | start &lt;int&gt; | stop &lt;int&gt; | id &lt;chr&gt; | score &lt;chr&gt; | strand &lt;chr&gt; | width &lt;dbl&gt; | type &lt;chr&gt; |\n",
       "|---|---|---|---|---|---|---|---|\n",
       "| chr1 | 11873 | 14409 | DDX11L1:NR_046018.2   | . | + |  2537 | RefSeq |\n",
       "| chr1 | 14361 | 29370 | WASH7P:NR_024540.1    | . | - | 15010 | RefSeq |\n",
       "| chr1 | 17368 | 17436 | MIR6859-1:NR_106918.1 | . | - |    69 | RefSeq |\n",
       "\n"
      ],
      "text/plain": [
       "  chrom start stop  id                    score strand width type  \n",
       "1 chr1  11873 14409 DDX11L1:NR_046018.2   .     +       2537 RefSeq\n",
       "2 chr1  14361 29370 WASH7P:NR_024540.1    .     -      15010 RefSeq\n",
       "3 chr1  17368 17436 MIR6859-1:NR_106918.1 .     -         69 RefSeq"
      ]
     },
     "metadata": {},
     "output_type": "display_data"
    }
   ],
   "source": [
    "##gene transcript annotations\n",
    "hg38_refseq_all <- data.table::fread(\"/scratch/Shares/dowell/genomes/hg38/ncbi/hg38_refseq_transcripts.bed\")\n",
    "colnames(hg38_refseq_all) <- c(\"chrom\",\"start\",\"stop\",\"id\",\"score\",\"strand\")\n",
    "hg38_refseq <- hg38_refseq_all[hg38_refseq_all$chrom %in% c(paste0('chr', seq(1:22)),\"chrX\",\"chrY\"),]\n",
    "hg38_refseq$width <- hg38_refseq$stop - hg38_refseq$start + 1\n",
    "hg38_refseq$type <- \"RefSeq\"\n",
    "dim(hg38_refseq)\n",
    "head(hg38_refseq, 3)"
   ]
  },
  {
   "cell_type": "code",
   "execution_count": 11,
   "metadata": {},
   "outputs": [
    {
     "data": {
      "text/html": [
       "<style>\n",
       ".list-inline {list-style: none; margin:0; padding: 0}\n",
       ".list-inline>li {display: inline-block}\n",
       ".list-inline>li:not(:last-child)::after {content: \"\\00b7\"; padding: 0 .5ex}\n",
       "</style>\n",
       "<ol class=list-inline><li>934835</li><li>8</li></ol>\n"
      ],
      "text/latex": [
       "\\begin{enumerate*}\n",
       "\\item 934835\n",
       "\\item 8\n",
       "\\end{enumerate*}\n"
      ],
      "text/markdown": [
       "1. 934835\n",
       "2. 8\n",
       "\n",
       "\n"
      ],
      "text/plain": [
       "[1] 934835      8"
      ]
     },
     "metadata": {},
     "output_type": "display_data"
    }
   ],
   "source": [
    "##combine gene and bidirectional transcripts\n",
    "hg38_transcripts <- rbind(hg38_refseq, hg38_bidirs)\n",
    "dim(hg38_transcripts)"
   ]
  },
  {
   "cell_type": "markdown",
   "metadata": {},
   "source": [
    "### mm10"
   ]
  },
  {
   "cell_type": "code",
   "execution_count": 12,
   "metadata": {},
   "outputs": [
    {
     "data": {
      "text/html": [
       "<style>\n",
       ".list-inline {list-style: none; margin:0; padding: 0}\n",
       ".list-inline>li {display: inline-block}\n",
       ".list-inline>li:not(:last-child)::after {content: \"\\00b7\"; padding: 0 .5ex}\n",
       "</style>\n",
       "<ol class=list-inline><li>680735</li><li>8</li></ol>\n"
      ],
      "text/latex": [
       "\\begin{enumerate*}\n",
       "\\item 680735\n",
       "\\item 8\n",
       "\\end{enumerate*}\n"
      ],
      "text/markdown": [
       "1. 680735\n",
       "2. 8\n",
       "\n",
       "\n"
      ],
      "text/plain": [
       "[1] 680735      8"
      ]
     },
     "metadata": {},
     "output_type": "display_data"
    },
    {
     "data": {
      "text/html": [
       "<table class=\"dataframe\">\n",
       "<caption>A data.table: 3 × 8</caption>\n",
       "<thead>\n",
       "\t<tr><th scope=col>chrom</th><th scope=col>start</th><th scope=col>stop</th><th scope=col>id</th><th scope=col>score</th><th scope=col>strand</th><th scope=col>width</th><th scope=col>type</th></tr>\n",
       "\t<tr><th scope=col>&lt;chr&gt;</th><th scope=col>&lt;int&gt;</th><th scope=col>&lt;int&gt;</th><th scope=col>&lt;chr&gt;</th><th scope=col>&lt;int&gt;</th><th scope=col>&lt;chr&gt;</th><th scope=col>&lt;dbl&gt;</th><th scope=col>&lt;chr&gt;</th></tr>\n",
       "</thead>\n",
       "<tbody>\n",
       "\t<tr><td>chr1</td><td>6234</td><td>6612</td><td>dreg</td><td>4</td><td>.</td><td>379</td><td>Bidirectional</td></tr>\n",
       "\t<tr><td>chr1</td><td>6855</td><td>7341</td><td>dreg</td><td>1</td><td>.</td><td>487</td><td>Bidirectional</td></tr>\n",
       "\t<tr><td>chr1</td><td>7420</td><td>8220</td><td>dreg</td><td>1</td><td>.</td><td>801</td><td>Bidirectional</td></tr>\n",
       "</tbody>\n",
       "</table>\n"
      ],
      "text/latex": [
       "A data.table: 3 × 8\n",
       "\\begin{tabular}{llllllll}\n",
       " chrom & start & stop & id & score & strand & width & type\\\\\n",
       " <chr> & <int> & <int> & <chr> & <int> & <chr> & <dbl> & <chr>\\\\\n",
       "\\hline\n",
       "\t chr1 & 6234 & 6612 & dreg & 4 & . & 379 & Bidirectional\\\\\n",
       "\t chr1 & 6855 & 7341 & dreg & 1 & . & 487 & Bidirectional\\\\\n",
       "\t chr1 & 7420 & 8220 & dreg & 1 & . & 801 & Bidirectional\\\\\n",
       "\\end{tabular}\n"
      ],
      "text/markdown": [
       "\n",
       "A data.table: 3 × 8\n",
       "\n",
       "| chrom &lt;chr&gt; | start &lt;int&gt; | stop &lt;int&gt; | id &lt;chr&gt; | score &lt;int&gt; | strand &lt;chr&gt; | width &lt;dbl&gt; | type &lt;chr&gt; |\n",
       "|---|---|---|---|---|---|---|---|\n",
       "| chr1 | 6234 | 6612 | dreg | 4 | . | 379 | Bidirectional |\n",
       "| chr1 | 6855 | 7341 | dreg | 1 | . | 487 | Bidirectional |\n",
       "| chr1 | 7420 | 8220 | dreg | 1 | . | 801 | Bidirectional |\n",
       "\n"
      ],
      "text/plain": [
       "  chrom start stop id   score strand width type         \n",
       "1 chr1  6234  6612 dreg 4     .      379   Bidirectional\n",
       "2 chr1  6855  7341 dreg 1     .      487   Bidirectional\n",
       "3 chr1  7420  8220 dreg 1     .      801   Bidirectional"
      ]
     },
     "metadata": {},
     "output_type": "display_data"
    }
   ],
   "source": [
    "##bidirectional annotations\n",
    "mm10_bidirs <- data.table::fread(\"/scratch/Shares/dowell/dbnascent/out/meta_analysis/mumerge/bidirectionals_dreg_tfit/mm10_tfit_dreg_bidirectionals.bed\")\n",
    "colnames(mm10_bidirs) <- c(\"chrom\",\"start\",\"stop\",\"id\",\"score\",\"strand\")\n",
    "mm10_bidirs$width <- mm10_bidirs$stop - mm10_bidirs$start + 1\n",
    "mm10_bidirs$type <- \"Bidirectional\"\n",
    "dim(mm10_bidirs)\n",
    "head(mm10_bidirs, 3)\n"
   ]
  },
  {
   "cell_type": "code",
   "execution_count": 13,
   "metadata": {},
   "outputs": [
    {
     "data": {
      "text/html": [
       "<style>\n",
       ".list-inline {list-style: none; margin:0; padding: 0}\n",
       ".list-inline>li {display: inline-block}\n",
       ".list-inline>li:not(:last-child)::after {content: \"\\00b7\"; padding: 0 .5ex}\n",
       "</style>\n",
       "<ol class=list-inline><li>45756</li><li>8</li></ol>\n"
      ],
      "text/latex": [
       "\\begin{enumerate*}\n",
       "\\item 45756\n",
       "\\item 8\n",
       "\\end{enumerate*}\n"
      ],
      "text/markdown": [
       "1. 45756\n",
       "2. 8\n",
       "\n",
       "\n"
      ],
      "text/plain": [
       "[1] 45756     8"
      ]
     },
     "metadata": {},
     "output_type": "display_data"
    },
    {
     "data": {
      "text/html": [
       "<table class=\"dataframe\">\n",
       "<caption>A data.table: 3 × 8</caption>\n",
       "<thead>\n",
       "\t<tr><th scope=col>chrom</th><th scope=col>start</th><th scope=col>stop</th><th scope=col>id</th><th scope=col>score</th><th scope=col>strand</th><th scope=col>width</th><th scope=col>type</th></tr>\n",
       "\t<tr><th scope=col>&lt;chr&gt;</th><th scope=col>&lt;int&gt;</th><th scope=col>&lt;int&gt;</th><th scope=col>&lt;chr&gt;</th><th scope=col>&lt;chr&gt;</th><th scope=col>&lt;chr&gt;</th><th scope=col>&lt;dbl&gt;</th><th scope=col>&lt;chr&gt;</th></tr>\n",
       "</thead>\n",
       "<tbody>\n",
       "\t<tr><td>chr1</td><td>3214481</td><td>3671498</td><td>Xkr4:NM_001011874.1</td><td>.</td><td>-</td><td>457018</td><td>RefSeq</td></tr>\n",
       "\t<tr><td>chr1</td><td>4119865</td><td>4360303</td><td>Rp1:NM_001370921.1 </td><td>.</td><td>-</td><td>240439</td><td>RefSeq</td></tr>\n",
       "\t<tr><td>chr1</td><td>4290845</td><td>4409241</td><td>Rp1:NM_001195662.1 </td><td>.</td><td>-</td><td>118397</td><td>RefSeq</td></tr>\n",
       "</tbody>\n",
       "</table>\n"
      ],
      "text/latex": [
       "A data.table: 3 × 8\n",
       "\\begin{tabular}{llllllll}\n",
       " chrom & start & stop & id & score & strand & width & type\\\\\n",
       " <chr> & <int> & <int> & <chr> & <chr> & <chr> & <dbl> & <chr>\\\\\n",
       "\\hline\n",
       "\t chr1 & 3214481 & 3671498 & Xkr4:NM\\_001011874.1 & . & - & 457018 & RefSeq\\\\\n",
       "\t chr1 & 4119865 & 4360303 & Rp1:NM\\_001370921.1  & . & - & 240439 & RefSeq\\\\\n",
       "\t chr1 & 4290845 & 4409241 & Rp1:NM\\_001195662.1  & . & - & 118397 & RefSeq\\\\\n",
       "\\end{tabular}\n"
      ],
      "text/markdown": [
       "\n",
       "A data.table: 3 × 8\n",
       "\n",
       "| chrom &lt;chr&gt; | start &lt;int&gt; | stop &lt;int&gt; | id &lt;chr&gt; | score &lt;chr&gt; | strand &lt;chr&gt; | width &lt;dbl&gt; | type &lt;chr&gt; |\n",
       "|---|---|---|---|---|---|---|---|\n",
       "| chr1 | 3214481 | 3671498 | Xkr4:NM_001011874.1 | . | - | 457018 | RefSeq |\n",
       "| chr1 | 4119865 | 4360303 | Rp1:NM_001370921.1  | . | - | 240439 | RefSeq |\n",
       "| chr1 | 4290845 | 4409241 | Rp1:NM_001195662.1  | . | - | 118397 | RefSeq |\n",
       "\n"
      ],
      "text/plain": [
       "  chrom start   stop    id                  score strand width  type  \n",
       "1 chr1  3214481 3671498 Xkr4:NM_001011874.1 .     -      457018 RefSeq\n",
       "2 chr1  4119865 4360303 Rp1:NM_001370921.1  .     -      240439 RefSeq\n",
       "3 chr1  4290845 4409241 Rp1:NM_001195662.1  .     -      118397 RefSeq"
      ]
     },
     "metadata": {},
     "output_type": "display_data"
    }
   ],
   "source": [
    "##gene transcript annotations\n",
    "mm10_refseq_all <- data.table::fread(\"/scratch/Shares/dowell/genomes/mm10/ncbi/mm10_refseq_transcripts.bed\")\n",
    "colnames(mm10_refseq_all) <- c(\"chrom\",\"start\",\"stop\",\"id\",\"score\",\"strand\")\n",
    "mm10_refseq <- mm10_refseq_all[mm10_refseq_all$chrom %in% c(paste0('chr', seq(1:19)),\"chrX\",\"chrY\"),]\n",
    "mm10_refseq$width <- mm10_refseq$stop - mm10_refseq$start + 1\n",
    "mm10_refseq$type <- \"RefSeq\"\n",
    "dim(mm10_refseq)\n",
    "head(mm10_refseq, 3)"
   ]
  },
  {
   "cell_type": "code",
   "execution_count": 14,
   "metadata": {},
   "outputs": [
    {
     "data": {
      "text/html": [
       "<style>\n",
       ".list-inline {list-style: none; margin:0; padding: 0}\n",
       ".list-inline>li {display: inline-block}\n",
       ".list-inline>li:not(:last-child)::after {content: \"\\00b7\"; padding: 0 .5ex}\n",
       "</style>\n",
       "<ol class=list-inline><li>726491</li><li>8</li></ol>\n"
      ],
      "text/latex": [
       "\\begin{enumerate*}\n",
       "\\item 726491\n",
       "\\item 8\n",
       "\\end{enumerate*}\n"
      ],
      "text/markdown": [
       "1. 726491\n",
       "2. 8\n",
       "\n",
       "\n"
      ],
      "text/plain": [
       "[1] 726491      8"
      ]
     },
     "metadata": {},
     "output_type": "display_data"
    }
   ],
   "source": [
    "##combine gene and bidirectional transcripts\n",
    "mm10_transcripts <- rbind(mm10_refseq, mm10_bidirs)\n",
    "dim(mm10_transcripts)"
   ]
  },
  {
   "cell_type": "markdown",
   "metadata": {},
   "source": [
    "# Plots\n"
   ]
  },
  {
   "cell_type": "markdown",
   "metadata": {},
   "source": [
    "## Transcript summaries"
   ]
  },
  {
   "cell_type": "markdown",
   "metadata": {},
   "source": [
    "### hg38"
   ]
  },
  {
   "cell_type": "code",
   "execution_count": 15,
   "metadata": {},
   "outputs": [
    {
     "data": {
      "image/png": "[encoded data removed]",
      "text/plain": [
       "plot without title"
      ]
     },
     "metadata": {
      "image/png": {
       "height": 480,
       "width": 480
      }
     },
     "output_type": "display_data"
    }
   ],
   "source": [
    "options(repr.plot.width=8, repr.plot.height=8)\n",
    "hg38_lengths <- ggplot(hg38_transcripts, aes(x=type, \n",
    "                          y=log(width, base=10),\n",
    "                         fill=type)) + \n",
    "    geom_violin(trim=FALSE) +\n",
    "ylab(expression(paste(log[10],\" Length (bp)\", sep=' ')) )+\n",
    "xlab('Transcripts') + \n",
    "geom_boxplot(width=0.05, \n",
    "             fill='white',\n",
    "             color='black', \n",
    "             alpha=1, \n",
    "             outlier.size=-1,\n",
    "             position = position_dodge(0.9)) + \n",
    "scale_fill_manual(name=' ',\n",
    "                  values = c(\"#5e3c99\",\"#fdb863\"),\n",
    "                 labels = c(\"Bidirectional\",\"RefSeq\")) +\n",
    "annotate(\"text\", x=c(1,2), y=c(4,7.5), label= c(\"N=847,521\",\"N=87,314\"), size = 8) + \n",
    "theme_cowplot(24) +\n",
    "theme(plot.title = element_text(hjust = 0.5),\n",
    "      title = element_text(size = 34), \n",
    "      axis.title = element_text(size = 30), \n",
    "      axis.text.x = element_text(size = 24),\n",
    "      axis.text.y = element_text(size = 24),\n",
    "     legend.title = element_text(size = 26),\n",
    "     legend.text = element_text(size = 24),\n",
    "     legend.position = \"none\") \n",
    "\n",
    "hg38_lengths"
   ]
  },
  {
   "cell_type": "code",
   "execution_count": 16,
   "metadata": {},
   "outputs": [
    {
     "data": {
      "text/html": [
       "<style>\n",
       ".list-inline {list-style: none; margin:0; padding: 0}\n",
       ".list-inline>li {display: inline-block}\n",
       ".list-inline>li:not(:last-child)::after {content: \"\\00b7\"; padding: 0 .5ex}\n",
       "</style>\n",
       "<ol class=list-inline><li>847521</li><li>8</li></ol>\n"
      ],
      "text/latex": [
       "\\begin{enumerate*}\n",
       "\\item 847521\n",
       "\\item 8\n",
       "\\end{enumerate*}\n"
      ],
      "text/markdown": [
       "1. 847521\n",
       "2. 8\n",
       "\n",
       "\n"
      ],
      "text/plain": [
       "[1] 847521      8"
      ]
     },
     "metadata": {},
     "output_type": "display_data"
    },
    {
     "data": {
      "text/html": [
       "<style>\n",
       ".list-inline {list-style: none; margin:0; padding: 0}\n",
       ".list-inline>li {display: inline-block}\n",
       ".list-inline>li:not(:last-child)::after {content: \"\\00b7\"; padding: 0 .5ex}\n",
       "</style>\n",
       "<ol class=list-inline><li>87314</li><li>8</li></ol>\n"
      ],
      "text/latex": [
       "\\begin{enumerate*}\n",
       "\\item 87314\n",
       "\\item 8\n",
       "\\end{enumerate*}\n"
      ],
      "text/markdown": [
       "1. 87314\n",
       "2. 8\n",
       "\n",
       "\n"
      ],
      "text/plain": [
       "[1] 87314     8"
      ]
     },
     "metadata": {},
     "output_type": "display_data"
    }
   ],
   "source": [
    "dim(hg38_bidirs)\n",
    "dim(hg38_refseq)"
   ]
  },
  {
   "cell_type": "code",
   "execution_count": 17,
   "metadata": {},
   "outputs": [],
   "source": [
    "ggsave(hg38_lengths, width = 8, height = 8,\n",
    "       filename = \"/Users/rusi2317/projects/meta_analysis_qc/hg38/paper_figures/hg38_transcript_lengths.pdf\", \n",
    "       bg = \"transparent\")\n",
    "\n",
    "ggsave(hg38_lengths, width = 8, height = 8,\n",
    "       filename = \"/Users/rusi2317/projects/meta_analysis_qc/hg38/paper_figures/hg38_transcript_lengths.png\", \n",
    "       bg = \"transparent\")"
   ]
  },
  {
   "cell_type": "markdown",
   "metadata": {},
   "source": [
    "### mm10"
   ]
  },
  {
   "cell_type": "code",
   "execution_count": 18,
   "metadata": {},
   "outputs": [
    {
     "data": {
      "image/png": "[encoded data removed]",
      "text/plain": [
       "plot without title"
      ]
     },
     "metadata": {
      "image/png": {
       "height": 480,
       "width": 480
      }
     },
     "output_type": "display_data"
    }
   ],
   "source": [
    "options(repr.plot.width=8, repr.plot.height=8)\n",
    "mm10_lengths <- ggplot(mm10_transcripts, aes(x=type, \n",
    "                          y=log(width, base=10),\n",
    "                         fill=type)) + \n",
    "    geom_violin(trim=FALSE) +\n",
    "ylab(expression(paste(log[10],\" Length (bp)\", sep=' ')) )+\n",
    "xlab('Transcripts') + \n",
    "geom_boxplot(width=0.05, \n",
    "             fill='white',\n",
    "             color='black', \n",
    "             alpha=1, \n",
    "             outlier.size=-1,\n",
    "             position = position_dodge(0.9)) + \n",
    "scale_fill_manual(name=' ',\n",
    "                  values = c(\"#5e3c99\",\"#fdb863\"),\n",
    "                 labels = c(\"Bidirectional\",\"RefSeq\")) +\n",
    "annotate(\"text\", x=c(1,2), y=c(4,7.5), label= c(\"N=680,735\",\"N=45,756\"), size = 8) + \n",
    "theme_cowplot(24) +\n",
    "theme(plot.title = element_text(hjust = 0.5),\n",
    "      title = element_text(size = 34), \n",
    "      axis.title = element_text(size = 30), \n",
    "      axis.text.x = element_text(size = 24),\n",
    "      axis.text.y = element_text(size = 24),\n",
    "     legend.title = element_text(size = 26),\n",
    "     legend.text = element_text(size = 24),\n",
    "     legend.position = \"none\") \n",
    "\n",
    "mm10_lengths"
   ]
  },
  {
   "cell_type": "code",
   "execution_count": 19,
   "metadata": {},
   "outputs": [
    {
     "data": {
      "text/html": [
       "<style>\n",
       ".list-inline {list-style: none; margin:0; padding: 0}\n",
       ".list-inline>li {display: inline-block}\n",
       ".list-inline>li:not(:last-child)::after {content: \"\\00b7\"; padding: 0 .5ex}\n",
       "</style>\n",
       "<ol class=list-inline><li>680735</li><li>8</li></ol>\n"
      ],
      "text/latex": [
       "\\begin{enumerate*}\n",
       "\\item 680735\n",
       "\\item 8\n",
       "\\end{enumerate*}\n"
      ],
      "text/markdown": [
       "1. 680735\n",
       "2. 8\n",
       "\n",
       "\n"
      ],
      "text/plain": [
       "[1] 680735      8"
      ]
     },
     "metadata": {},
     "output_type": "display_data"
    },
    {
     "data": {
      "text/html": [
       "<style>\n",
       ".list-inline {list-style: none; margin:0; padding: 0}\n",
       ".list-inline>li {display: inline-block}\n",
       ".list-inline>li:not(:last-child)::after {content: \"\\00b7\"; padding: 0 .5ex}\n",
       "</style>\n",
       "<ol class=list-inline><li>45756</li><li>8</li></ol>\n"
      ],
      "text/latex": [
       "\\begin{enumerate*}\n",
       "\\item 45756\n",
       "\\item 8\n",
       "\\end{enumerate*}\n"
      ],
      "text/markdown": [
       "1. 45756\n",
       "2. 8\n",
       "\n",
       "\n"
      ],
      "text/plain": [
       "[1] 45756     8"
      ]
     },
     "metadata": {},
     "output_type": "display_data"
    }
   ],
   "source": [
    "dim(mm10_bidirs)\n",
    "dim(mm10_refseq)"
   ]
  },
  {
   "cell_type": "code",
   "execution_count": 20,
   "metadata": {},
   "outputs": [],
   "source": [
    "ggsave(mm10_lengths, width = 8, height = 8,\n",
    "       filename = \"/Users/rusi2317/projects/meta_analysis_qc/mm10/paper_figures/mm10_transcript_lengths.pdf\", \n",
    "       bg = \"transparent\")\n",
    "\n",
    "ggsave(mm10_lengths, width = 8, height = 8,\n",
    "       filename = \"/Users/rusi2317/projects/meta_analysis_qc/mm10/paper_figures/mm10_transcript_lengths.png\", \n",
    "       bg = \"transparent\")"
   ]
  },
  {
   "cell_type": "markdown",
   "metadata": {},
   "source": [
    "## Overlaps"
   ]
  },
  {
   "cell_type": "code",
   "execution_count": 21,
   "metadata": {},
   "outputs": [
    {
     "data": {
      "text/html": [
       "<style>\n",
       ".list-inline {list-style: none; margin:0; padding: 0}\n",
       ".list-inline>li {display: inline-block}\n",
       ".list-inline>li:not(:last-child)::after {content: \"\\00b7\"; padding: 0 .5ex}\n",
       "</style>\n",
       "<ol class=list-inline><li>99481</li><li>38380</li><li>31344</li><li>399047</li><li>399047</li><li>322329</li><li>319058</li><li>318363</li><li>322329</li><li>322329</li><li>482632</li><li>459907</li><li>450557</li><li>2406992</li><li>2406992</li><li>33365</li><li>26728</li><li>22425</li><li>95469</li><li>95469</li><li>79511</li><li>31087</li><li>25467</li><li>164219</li><li>164219</li><li>289376</li><li>286219</li><li>285572</li><li>289376</li><li>289376</li><li>350863</li><li>330705</li><li>323918</li><li>815730</li><li>815730</li><li>28929</li><li>22605</li><li>18476</li><li>50187</li><li>50187</li></ol>\n"
      ],
      "text/latex": [
       "\\begin{enumerate*}\n",
       "\\item 99481\n",
       "\\item 38380\n",
       "\\item 31344\n",
       "\\item 399047\n",
       "\\item 399047\n",
       "\\item 322329\n",
       "\\item 319058\n",
       "\\item 318363\n",
       "\\item 322329\n",
       "\\item 322329\n",
       "\\item 482632\n",
       "\\item 459907\n",
       "\\item 450557\n",
       "\\item 2406992\n",
       "\\item 2406992\n",
       "\\item 33365\n",
       "\\item 26728\n",
       "\\item 22425\n",
       "\\item 95469\n",
       "\\item 95469\n",
       "\\item 79511\n",
       "\\item 31087\n",
       "\\item 25467\n",
       "\\item 164219\n",
       "\\item 164219\n",
       "\\item 289376\n",
       "\\item 286219\n",
       "\\item 285572\n",
       "\\item 289376\n",
       "\\item 289376\n",
       "\\item 350863\n",
       "\\item 330705\n",
       "\\item 323918\n",
       "\\item 815730\n",
       "\\item 815730\n",
       "\\item 28929\n",
       "\\item 22605\n",
       "\\item 18476\n",
       "\\item 50187\n",
       "\\item 50187\n",
       "\\end{enumerate*}\n"
      ],
      "text/markdown": [
       "1. 99481\n",
       "2. 38380\n",
       "3. 31344\n",
       "4. 399047\n",
       "5. 399047\n",
       "6. 322329\n",
       "7. 319058\n",
       "8. 318363\n",
       "9. 322329\n",
       "10. 322329\n",
       "11. 482632\n",
       "12. 459907\n",
       "13. 450557\n",
       "14. 2406992\n",
       "15. 2406992\n",
       "16. 33365\n",
       "17. 26728\n",
       "18. 22425\n",
       "19. 95469\n",
       "20. 95469\n",
       "21. 79511\n",
       "22. 31087\n",
       "23. 25467\n",
       "24. 164219\n",
       "25. 164219\n",
       "26. 289376\n",
       "27. 286219\n",
       "28. 285572\n",
       "29. 289376\n",
       "30. 289376\n",
       "31. 350863\n",
       "32. 330705\n",
       "33. 323918\n",
       "34. 815730\n",
       "35. 815730\n",
       "36. 28929\n",
       "37. 22605\n",
       "38. 18476\n",
       "39. 50187\n",
       "40. 50187\n",
       "\n",
       "\n"
      ],
      "text/plain": [
       " [1]   99481   38380   31344  399047  399047  322329  319058  318363  322329\n",
       "[10]  322329  482632  459907  450557 2406992 2406992   33365   26728   22425\n",
       "[19]   95469   95469   79511   31087   25467  164219  164219  289376  286219\n",
       "[28]  285572  289376  289376  350863  330705  323918  815730  815730   28929\n",
       "[37]   22605   18476   50187   50187"
      ]
     },
     "metadata": {},
     "output_type": "display_data"
    }
   ],
   "source": [
    "genome_overlap_nrow <- as.numeric(lapply(genome_overlap_DT, nrow))\n",
    "genome_overlap_nrow"
   ]
  },
  {
   "cell_type": "code",
   "execution_count": 22,
   "metadata": {},
   "outputs": [
    {
     "data": {
      "text/html": [
       "<style>\n",
       ".list-inline {list-style: none; margin:0; padding: 0}\n",
       ".list-inline>li {display: inline-block}\n",
       ".list-inline>li:not(:last-child)::after {content: \"\\00b7\"; padding: 0 .5ex}\n",
       "</style>\n",
       "<ol class=list-inline><li>'hg38_refseq_exons.bed.mumerge_overlap.bed'</li><li>'hg38_refseq_exons.bed.mumerge_overlap50perc.bed'</li><li>'hg38_refseq_exons.bed.mumerge_overlap60perc.bed'</li><li>'hg38_refseq_exons.bed.mumerge_overlapReportAll_bp.bed'</li><li>'hg38_refseq_exons.bed.mumerge_overlapReportAll.bed'</li><li>'hg38_refseq_intergenic.bed.mumerge_overlap.bed'</li><li>'hg38_refseq_intergenic.bed.mumerge_overlap50perc.bed'</li><li>'hg38_refseq_intergenic.bed.mumerge_overlap60perc.bed'</li><li>'hg38_refseq_intergenic.bed.mumerge_overlapReportAll_bp.bed'</li><li>'hg38_refseq_intergenic.bed.mumerge_overlapReportAll.bed'</li><li>'hg38_refseq_introns.bed.mumerge_overlap.bed'</li><li>'hg38_refseq_introns.bed.mumerge_overlap50perc.bed'</li><li>'hg38_refseq_introns.bed.mumerge_overlap60perc.bed'</li><li>'hg38_refseq_introns.bed.mumerge_overlapReportAll_bp.bed'</li><li>'hg38_refseq_introns.bed.mumerge_overlapReportAll.bed'</li><li>'hg38_refseq_promoters.bed.mumerge_overlap.bed'</li><li>'hg38_refseq_promoters.bed.mumerge_overlap50perc.bed'</li><li>'hg38_refseq_promoters.bed.mumerge_overlap60perc.bed'</li><li>'hg38_refseq_promoters.bed.mumerge_overlapReportAll_bp.bed'</li><li>'hg38_refseq_promoters.bed.mumerge_overlapReportAll.bed'</li><li>'mm10_refseq_exons.bed.mumerge_overlap.bed'</li><li>'mm10_refseq_exons.bed.mumerge_overlap50perc.bed'</li><li>'mm10_refseq_exons.bed.mumerge_overlap60perc.bed'</li><li>'mm10_refseq_exons.bed.mumerge_overlapReportAll_bp.bed'</li><li>'mm10_refseq_exons.bed.mumerge_overlapReportAll.bed'</li><li>'mm10_refseq_intergenic.bed.mumerge_overlap.bed'</li><li>'mm10_refseq_intergenic.bed.mumerge_overlap50perc.bed'</li><li>'mm10_refseq_intergenic.bed.mumerge_overlap60perc.bed'</li><li>'mm10_refseq_intergenic.bed.mumerge_overlapReportAll_bp.bed'</li><li>'mm10_refseq_intergenic.bed.mumerge_overlapReportAll.bed'</li><li>'mm10_refseq_introns.bed.mumerge_overlap.bed'</li><li>'mm10_refseq_introns.bed.mumerge_overlap50perc.bed'</li><li>'mm10_refseq_introns.bed.mumerge_overlap60perc.bed'</li><li>'mm10_refseq_introns.bed.mumerge_overlapReportAll_bp.bed'</li><li>'mm10_refseq_introns.bed.mumerge_overlapReportAll.bed'</li><li>'mm10_refseq_promoters.bed.mumerge_overlap.bed'</li><li>'mm10_refseq_promoters.bed.mumerge_overlap50perc.bed'</li><li>'mm10_refseq_promoters.bed.mumerge_overlap60perc.bed'</li><li>'mm10_refseq_promoters.bed.mumerge_overlapReportAll_bp.bed'</li><li>'mm10_refseq_promoters.bed.mumerge_overlapReportAll.bed'</li></ol>\n"
      ],
      "text/latex": [
       "\\begin{enumerate*}\n",
       "\\item 'hg38\\_refseq\\_exons.bed.mumerge\\_overlap.bed'\n",
       "\\item 'hg38\\_refseq\\_exons.bed.mumerge\\_overlap50perc.bed'\n",
       "\\item 'hg38\\_refseq\\_exons.bed.mumerge\\_overlap60perc.bed'\n",
       "\\item 'hg38\\_refseq\\_exons.bed.mumerge\\_overlapReportAll\\_bp.bed'\n",
       "\\item 'hg38\\_refseq\\_exons.bed.mumerge\\_overlapReportAll.bed'\n",
       "\\item 'hg38\\_refseq\\_intergenic.bed.mumerge\\_overlap.bed'\n",
       "\\item 'hg38\\_refseq\\_intergenic.bed.mumerge\\_overlap50perc.bed'\n",
       "\\item 'hg38\\_refseq\\_intergenic.bed.mumerge\\_overlap60perc.bed'\n",
       "\\item 'hg38\\_refseq\\_intergenic.bed.mumerge\\_overlapReportAll\\_bp.bed'\n",
       "\\item 'hg38\\_refseq\\_intergenic.bed.mumerge\\_overlapReportAll.bed'\n",
       "\\item 'hg38\\_refseq\\_introns.bed.mumerge\\_overlap.bed'\n",
       "\\item 'hg38\\_refseq\\_introns.bed.mumerge\\_overlap50perc.bed'\n",
       "\\item 'hg38\\_refseq\\_introns.bed.mumerge\\_overlap60perc.bed'\n",
       "\\item 'hg38\\_refseq\\_introns.bed.mumerge\\_overlapReportAll\\_bp.bed'\n",
       "\\item 'hg38\\_refseq\\_introns.bed.mumerge\\_overlapReportAll.bed'\n",
       "\\item 'hg38\\_refseq\\_promoters.bed.mumerge\\_overlap.bed'\n",
       "\\item 'hg38\\_refseq\\_promoters.bed.mumerge\\_overlap50perc.bed'\n",
       "\\item 'hg38\\_refseq\\_promoters.bed.mumerge\\_overlap60perc.bed'\n",
       "\\item 'hg38\\_refseq\\_promoters.bed.mumerge\\_overlapReportAll\\_bp.bed'\n",
       "\\item 'hg38\\_refseq\\_promoters.bed.mumerge\\_overlapReportAll.bed'\n",
       "\\item 'mm10\\_refseq\\_exons.bed.mumerge\\_overlap.bed'\n",
       "\\item 'mm10\\_refseq\\_exons.bed.mumerge\\_overlap50perc.bed'\n",
       "\\item 'mm10\\_refseq\\_exons.bed.mumerge\\_overlap60perc.bed'\n",
       "\\item 'mm10\\_refseq\\_exons.bed.mumerge\\_overlapReportAll\\_bp.bed'\n",
       "\\item 'mm10\\_refseq\\_exons.bed.mumerge\\_overlapReportAll.bed'\n",
       "\\item 'mm10\\_refseq\\_intergenic.bed.mumerge\\_overlap.bed'\n",
       "\\item 'mm10\\_refseq\\_intergenic.bed.mumerge\\_overlap50perc.bed'\n",
       "\\item 'mm10\\_refseq\\_intergenic.bed.mumerge\\_overlap60perc.bed'\n",
       "\\item 'mm10\\_refseq\\_intergenic.bed.mumerge\\_overlapReportAll\\_bp.bed'\n",
       "\\item 'mm10\\_refseq\\_intergenic.bed.mumerge\\_overlapReportAll.bed'\n",
       "\\item 'mm10\\_refseq\\_introns.bed.mumerge\\_overlap.bed'\n",
       "\\item 'mm10\\_refseq\\_introns.bed.mumerge\\_overlap50perc.bed'\n",
       "\\item 'mm10\\_refseq\\_introns.bed.mumerge\\_overlap60perc.bed'\n",
       "\\item 'mm10\\_refseq\\_introns.bed.mumerge\\_overlapReportAll\\_bp.bed'\n",
       "\\item 'mm10\\_refseq\\_introns.bed.mumerge\\_overlapReportAll.bed'\n",
       "\\item 'mm10\\_refseq\\_promoters.bed.mumerge\\_overlap.bed'\n",
       "\\item 'mm10\\_refseq\\_promoters.bed.mumerge\\_overlap50perc.bed'\n",
       "\\item 'mm10\\_refseq\\_promoters.bed.mumerge\\_overlap60perc.bed'\n",
       "\\item 'mm10\\_refseq\\_promoters.bed.mumerge\\_overlapReportAll\\_bp.bed'\n",
       "\\item 'mm10\\_refseq\\_promoters.bed.mumerge\\_overlapReportAll.bed'\n",
       "\\end{enumerate*}\n"
      ],
      "text/markdown": [
       "1. 'hg38_refseq_exons.bed.mumerge_overlap.bed'\n",
       "2. 'hg38_refseq_exons.bed.mumerge_overlap50perc.bed'\n",
       "3. 'hg38_refseq_exons.bed.mumerge_overlap60perc.bed'\n",
       "4. 'hg38_refseq_exons.bed.mumerge_overlapReportAll_bp.bed'\n",
       "5. 'hg38_refseq_exons.bed.mumerge_overlapReportAll.bed'\n",
       "6. 'hg38_refseq_intergenic.bed.mumerge_overlap.bed'\n",
       "7. 'hg38_refseq_intergenic.bed.mumerge_overlap50perc.bed'\n",
       "8. 'hg38_refseq_intergenic.bed.mumerge_overlap60perc.bed'\n",
       "9. 'hg38_refseq_intergenic.bed.mumerge_overlapReportAll_bp.bed'\n",
       "10. 'hg38_refseq_intergenic.bed.mumerge_overlapReportAll.bed'\n",
       "11. 'hg38_refseq_introns.bed.mumerge_overlap.bed'\n",
       "12. 'hg38_refseq_introns.bed.mumerge_overlap50perc.bed'\n",
       "13. 'hg38_refseq_introns.bed.mumerge_overlap60perc.bed'\n",
       "14. 'hg38_refseq_introns.bed.mumerge_overlapReportAll_bp.bed'\n",
       "15. 'hg38_refseq_introns.bed.mumerge_overlapReportAll.bed'\n",
       "16. 'hg38_refseq_promoters.bed.mumerge_overlap.bed'\n",
       "17. 'hg38_refseq_promoters.bed.mumerge_overlap50perc.bed'\n",
       "18. 'hg38_refseq_promoters.bed.mumerge_overlap60perc.bed'\n",
       "19. 'hg38_refseq_promoters.bed.mumerge_overlapReportAll_bp.bed'\n",
       "20. 'hg38_refseq_promoters.bed.mumerge_overlapReportAll.bed'\n",
       "21. 'mm10_refseq_exons.bed.mumerge_overlap.bed'\n",
       "22. 'mm10_refseq_exons.bed.mumerge_overlap50perc.bed'\n",
       "23. 'mm10_refseq_exons.bed.mumerge_overlap60perc.bed'\n",
       "24. 'mm10_refseq_exons.bed.mumerge_overlapReportAll_bp.bed'\n",
       "25. 'mm10_refseq_exons.bed.mumerge_overlapReportAll.bed'\n",
       "26. 'mm10_refseq_intergenic.bed.mumerge_overlap.bed'\n",
       "27. 'mm10_refseq_intergenic.bed.mumerge_overlap50perc.bed'\n",
       "28. 'mm10_refseq_intergenic.bed.mumerge_overlap60perc.bed'\n",
       "29. 'mm10_refseq_intergenic.bed.mumerge_overlapReportAll_bp.bed'\n",
       "30. 'mm10_refseq_intergenic.bed.mumerge_overlapReportAll.bed'\n",
       "31. 'mm10_refseq_introns.bed.mumerge_overlap.bed'\n",
       "32. 'mm10_refseq_introns.bed.mumerge_overlap50perc.bed'\n",
       "33. 'mm10_refseq_introns.bed.mumerge_overlap60perc.bed'\n",
       "34. 'mm10_refseq_introns.bed.mumerge_overlapReportAll_bp.bed'\n",
       "35. 'mm10_refseq_introns.bed.mumerge_overlapReportAll.bed'\n",
       "36. 'mm10_refseq_promoters.bed.mumerge_overlap.bed'\n",
       "37. 'mm10_refseq_promoters.bed.mumerge_overlap50perc.bed'\n",
       "38. 'mm10_refseq_promoters.bed.mumerge_overlap60perc.bed'\n",
       "39. 'mm10_refseq_promoters.bed.mumerge_overlapReportAll_bp.bed'\n",
       "40. 'mm10_refseq_promoters.bed.mumerge_overlapReportAll.bed'\n",
       "\n",
       "\n"
      ],
      "text/plain": [
       " [1] \"hg38_refseq_exons.bed.mumerge_overlap.bed\"                 \n",
       " [2] \"hg38_refseq_exons.bed.mumerge_overlap50perc.bed\"           \n",
       " [3] \"hg38_refseq_exons.bed.mumerge_overlap60perc.bed\"           \n",
       " [4] \"hg38_refseq_exons.bed.mumerge_overlapReportAll_bp.bed\"     \n",
       " [5] \"hg38_refseq_exons.bed.mumerge_overlapReportAll.bed\"        \n",
       " [6] \"hg38_refseq_intergenic.bed.mumerge_overlap.bed\"            \n",
       " [7] \"hg38_refseq_intergenic.bed.mumerge_overlap50perc.bed\"      \n",
       " [8] \"hg38_refseq_intergenic.bed.mumerge_overlap60perc.bed\"      \n",
       " [9] \"hg38_refseq_intergenic.bed.mumerge_overlapReportAll_bp.bed\"\n",
       "[10] \"hg38_refseq_intergenic.bed.mumerge_overlapReportAll.bed\"   \n",
       "[11] \"hg38_refseq_introns.bed.mumerge_overlap.bed\"               \n",
       "[12] \"hg38_refseq_introns.bed.mumerge_overlap50perc.bed\"         \n",
       "[13] \"hg38_refseq_introns.bed.mumerge_overlap60perc.bed\"         \n",
       "[14] \"hg38_refseq_introns.bed.mumerge_overlapReportAll_bp.bed\"   \n",
       "[15] \"hg38_refseq_introns.bed.mumerge_overlapReportAll.bed\"      \n",
       "[16] \"hg38_refseq_promoters.bed.mumerge_overlap.bed\"             \n",
       "[17] \"hg38_refseq_promoters.bed.mumerge_overlap50perc.bed\"       \n",
       "[18] \"hg38_refseq_promoters.bed.mumerge_overlap60perc.bed\"       \n",
       "[19] \"hg38_refseq_promoters.bed.mumerge_overlapReportAll_bp.bed\" \n",
       "[20] \"hg38_refseq_promoters.bed.mumerge_overlapReportAll.bed\"    \n",
       "[21] \"mm10_refseq_exons.bed.mumerge_overlap.bed\"                 \n",
       "[22] \"mm10_refseq_exons.bed.mumerge_overlap50perc.bed\"           \n",
       "[23] \"mm10_refseq_exons.bed.mumerge_overlap60perc.bed\"           \n",
       "[24] \"mm10_refseq_exons.bed.mumerge_overlapReportAll_bp.bed\"     \n",
       "[25] \"mm10_refseq_exons.bed.mumerge_overlapReportAll.bed\"        \n",
       "[26] \"mm10_refseq_intergenic.bed.mumerge_overlap.bed\"            \n",
       "[27] \"mm10_refseq_intergenic.bed.mumerge_overlap50perc.bed\"      \n",
       "[28] \"mm10_refseq_intergenic.bed.mumerge_overlap60perc.bed\"      \n",
       "[29] \"mm10_refseq_intergenic.bed.mumerge_overlapReportAll_bp.bed\"\n",
       "[30] \"mm10_refseq_intergenic.bed.mumerge_overlapReportAll.bed\"   \n",
       "[31] \"mm10_refseq_introns.bed.mumerge_overlap.bed\"               \n",
       "[32] \"mm10_refseq_introns.bed.mumerge_overlap50perc.bed\"         \n",
       "[33] \"mm10_refseq_introns.bed.mumerge_overlap60perc.bed\"         \n",
       "[34] \"mm10_refseq_introns.bed.mumerge_overlapReportAll_bp.bed\"   \n",
       "[35] \"mm10_refseq_introns.bed.mumerge_overlapReportAll.bed\"      \n",
       "[36] \"mm10_refseq_promoters.bed.mumerge_overlap.bed\"             \n",
       "[37] \"mm10_refseq_promoters.bed.mumerge_overlap50perc.bed\"       \n",
       "[38] \"mm10_refseq_promoters.bed.mumerge_overlap60perc.bed\"       \n",
       "[39] \"mm10_refseq_promoters.bed.mumerge_overlapReportAll_bp.bed\" \n",
       "[40] \"mm10_refseq_promoters.bed.mumerge_overlapReportAll.bed\"    "
      ]
     },
     "metadata": {},
     "output_type": "display_data"
    }
   ],
   "source": [
    "basenames <- as.character(lapply(genome_overlap_path, base::basename))\n",
    "basenames"
   ]
  },
  {
   "cell_type": "code",
   "execution_count": 23,
   "metadata": {},
   "outputs": [],
   "source": [
    "genome <- as.character(lapply(strsplit(as.character(basenames), '_'), `[`, 1))\n",
    "feature <- as.character(lapply(strsplit(as.character(lapply(strsplit(as.character(basenames), '_'), `[`, 3)),'\\\\.'), `[`,1))\n",
    "overlap_type <- rep(c('1E-9','0.5','0.6','All Reported','All Reported bd'), 4)\n",
    "bidir_counts <- rep(c(847521, 680735), 1, each = 20) #16\n"
   ]
  },
  {
   "cell_type": "code",
   "execution_count": 24,
   "metadata": {},
   "outputs": [
    {
     "data": {
      "text/html": [
       "<table class=\"dataframe\">\n",
       "<caption>A data.frame: 40 × 5</caption>\n",
       "<thead>\n",
       "\t<tr><th scope=col>genome</th><th scope=col>feature</th><th scope=col>overlap_type</th><th scope=col>genome_overlap_nrow</th><th scope=col>bidir_counts</th></tr>\n",
       "\t<tr><th scope=col>&lt;fct&gt;</th><th scope=col>&lt;fct&gt;</th><th scope=col>&lt;fct&gt;</th><th scope=col>&lt;dbl&gt;</th><th scope=col>&lt;dbl&gt;</th></tr>\n",
       "</thead>\n",
       "<tbody>\n",
       "\t<tr><td>hg38</td><td>exons     </td><td>1E-9           </td><td>  99481</td><td>847521</td></tr>\n",
       "\t<tr><td>hg38</td><td>exons     </td><td>0.5            </td><td>  38380</td><td>847521</td></tr>\n",
       "\t<tr><td>hg38</td><td>exons     </td><td>0.6            </td><td>  31344</td><td>847521</td></tr>\n",
       "\t<tr><td>hg38</td><td>exons     </td><td>All Reported   </td><td> 399047</td><td>847521</td></tr>\n",
       "\t<tr><td>hg38</td><td>exons     </td><td>All Reported bd</td><td> 399047</td><td>847521</td></tr>\n",
       "\t<tr><td>hg38</td><td>intergenic</td><td>1E-9           </td><td> 322329</td><td>847521</td></tr>\n",
       "\t<tr><td>hg38</td><td>intergenic</td><td>0.5            </td><td> 319058</td><td>847521</td></tr>\n",
       "\t<tr><td>hg38</td><td>intergenic</td><td>0.6            </td><td> 318363</td><td>847521</td></tr>\n",
       "\t<tr><td>hg38</td><td>intergenic</td><td>All Reported   </td><td> 322329</td><td>847521</td></tr>\n",
       "\t<tr><td>hg38</td><td>intergenic</td><td>All Reported bd</td><td> 322329</td><td>847521</td></tr>\n",
       "\t<tr><td>hg38</td><td>introns   </td><td>1E-9           </td><td> 482632</td><td>847521</td></tr>\n",
       "\t<tr><td>hg38</td><td>introns   </td><td>0.5            </td><td> 459907</td><td>847521</td></tr>\n",
       "\t<tr><td>hg38</td><td>introns   </td><td>0.6            </td><td> 450557</td><td>847521</td></tr>\n",
       "\t<tr><td>hg38</td><td>introns   </td><td>All Reported   </td><td>2406992</td><td>847521</td></tr>\n",
       "\t<tr><td>hg38</td><td>introns   </td><td>All Reported bd</td><td>2406992</td><td>847521</td></tr>\n",
       "\t<tr><td>hg38</td><td>promoters </td><td>1E-9           </td><td>  33365</td><td>847521</td></tr>\n",
       "\t<tr><td>hg38</td><td>promoters </td><td>0.5            </td><td>  26728</td><td>847521</td></tr>\n",
       "\t<tr><td>hg38</td><td>promoters </td><td>0.6            </td><td>  22425</td><td>847521</td></tr>\n",
       "\t<tr><td>hg38</td><td>promoters </td><td>All Reported   </td><td>  95469</td><td>847521</td></tr>\n",
       "\t<tr><td>hg38</td><td>promoters </td><td>All Reported bd</td><td>  95469</td><td>847521</td></tr>\n",
       "\t<tr><td>mm10</td><td>exons     </td><td>1E-9           </td><td>  79511</td><td>680735</td></tr>\n",
       "\t<tr><td>mm10</td><td>exons     </td><td>0.5            </td><td>  31087</td><td>680735</td></tr>\n",
       "\t<tr><td>mm10</td><td>exons     </td><td>0.6            </td><td>  25467</td><td>680735</td></tr>\n",
       "\t<tr><td>mm10</td><td>exons     </td><td>All Reported   </td><td> 164219</td><td>680735</td></tr>\n",
       "\t<tr><td>mm10</td><td>exons     </td><td>All Reported bd</td><td> 164219</td><td>680735</td></tr>\n",
       "\t<tr><td>mm10</td><td>intergenic</td><td>1E-9           </td><td> 289376</td><td>680735</td></tr>\n",
       "\t<tr><td>mm10</td><td>intergenic</td><td>0.5            </td><td> 286219</td><td>680735</td></tr>\n",
       "\t<tr><td>mm10</td><td>intergenic</td><td>0.6            </td><td> 285572</td><td>680735</td></tr>\n",
       "\t<tr><td>mm10</td><td>intergenic</td><td>All Reported   </td><td> 289376</td><td>680735</td></tr>\n",
       "\t<tr><td>mm10</td><td>intergenic</td><td>All Reported bd</td><td> 289376</td><td>680735</td></tr>\n",
       "\t<tr><td>mm10</td><td>introns   </td><td>1E-9           </td><td> 350863</td><td>680735</td></tr>\n",
       "\t<tr><td>mm10</td><td>introns   </td><td>0.5            </td><td> 330705</td><td>680735</td></tr>\n",
       "\t<tr><td>mm10</td><td>introns   </td><td>0.6            </td><td> 323918</td><td>680735</td></tr>\n",
       "\t<tr><td>mm10</td><td>introns   </td><td>All Reported   </td><td> 815730</td><td>680735</td></tr>\n",
       "\t<tr><td>mm10</td><td>introns   </td><td>All Reported bd</td><td> 815730</td><td>680735</td></tr>\n",
       "\t<tr><td>mm10</td><td>promoters </td><td>1E-9           </td><td>  28929</td><td>680735</td></tr>\n",
       "\t<tr><td>mm10</td><td>promoters </td><td>0.5            </td><td>  22605</td><td>680735</td></tr>\n",
       "\t<tr><td>mm10</td><td>promoters </td><td>0.6            </td><td>  18476</td><td>680735</td></tr>\n",
       "\t<tr><td>mm10</td><td>promoters </td><td>All Reported   </td><td>  50187</td><td>680735</td></tr>\n",
       "\t<tr><td>mm10</td><td>promoters </td><td>All Reported bd</td><td>  50187</td><td>680735</td></tr>\n",
       "</tbody>\n",
       "</table>\n"
      ],
      "text/latex": [
       "A data.frame: 40 × 5\n",
       "\\begin{tabular}{lllll}\n",
       " genome & feature & overlap\\_type & genome\\_overlap\\_nrow & bidir\\_counts\\\\\n",
       " <fct> & <fct> & <fct> & <dbl> & <dbl>\\\\\n",
       "\\hline\n",
       "\t hg38 & exons      & 1E-9            &   99481 & 847521\\\\\n",
       "\t hg38 & exons      & 0.5             &   38380 & 847521\\\\\n",
       "\t hg38 & exons      & 0.6             &   31344 & 847521\\\\\n",
       "\t hg38 & exons      & All Reported    &  399047 & 847521\\\\\n",
       "\t hg38 & exons      & All Reported bd &  399047 & 847521\\\\\n",
       "\t hg38 & intergenic & 1E-9            &  322329 & 847521\\\\\n",
       "\t hg38 & intergenic & 0.5             &  319058 & 847521\\\\\n",
       "\t hg38 & intergenic & 0.6             &  318363 & 847521\\\\\n",
       "\t hg38 & intergenic & All Reported    &  322329 & 847521\\\\\n",
       "\t hg38 & intergenic & All Reported bd &  322329 & 847521\\\\\n",
       "\t hg38 & introns    & 1E-9            &  482632 & 847521\\\\\n",
       "\t hg38 & introns    & 0.5             &  459907 & 847521\\\\\n",
       "\t hg38 & introns    & 0.6             &  450557 & 847521\\\\\n",
       "\t hg38 & introns    & All Reported    & 2406992 & 847521\\\\\n",
       "\t hg38 & introns    & All Reported bd & 2406992 & 847521\\\\\n",
       "\t hg38 & promoters  & 1E-9            &   33365 & 847521\\\\\n",
       "\t hg38 & promoters  & 0.5             &   26728 & 847521\\\\\n",
       "\t hg38 & promoters  & 0.6             &   22425 & 847521\\\\\n",
       "\t hg38 & promoters  & All Reported    &   95469 & 847521\\\\\n",
       "\t hg38 & promoters  & All Reported bd &   95469 & 847521\\\\\n",
       "\t mm10 & exons      & 1E-9            &   79511 & 680735\\\\\n",
       "\t mm10 & exons      & 0.5             &   31087 & 680735\\\\\n",
       "\t mm10 & exons      & 0.6             &   25467 & 680735\\\\\n",
       "\t mm10 & exons      & All Reported    &  164219 & 680735\\\\\n",
       "\t mm10 & exons      & All Reported bd &  164219 & 680735\\\\\n",
       "\t mm10 & intergenic & 1E-9            &  289376 & 680735\\\\\n",
       "\t mm10 & intergenic & 0.5             &  286219 & 680735\\\\\n",
       "\t mm10 & intergenic & 0.6             &  285572 & 680735\\\\\n",
       "\t mm10 & intergenic & All Reported    &  289376 & 680735\\\\\n",
       "\t mm10 & intergenic & All Reported bd &  289376 & 680735\\\\\n",
       "\t mm10 & introns    & 1E-9            &  350863 & 680735\\\\\n",
       "\t mm10 & introns    & 0.5             &  330705 & 680735\\\\\n",
       "\t mm10 & introns    & 0.6             &  323918 & 680735\\\\\n",
       "\t mm10 & introns    & All Reported    &  815730 & 680735\\\\\n",
       "\t mm10 & introns    & All Reported bd &  815730 & 680735\\\\\n",
       "\t mm10 & promoters  & 1E-9            &   28929 & 680735\\\\\n",
       "\t mm10 & promoters  & 0.5             &   22605 & 680735\\\\\n",
       "\t mm10 & promoters  & 0.6             &   18476 & 680735\\\\\n",
       "\t mm10 & promoters  & All Reported    &   50187 & 680735\\\\\n",
       "\t mm10 & promoters  & All Reported bd &   50187 & 680735\\\\\n",
       "\\end{tabular}\n"
      ],
      "text/markdown": [
       "\n",
       "A data.frame: 40 × 5\n",
       "\n",
       "| genome &lt;fct&gt; | feature &lt;fct&gt; | overlap_type &lt;fct&gt; | genome_overlap_nrow &lt;dbl&gt; | bidir_counts &lt;dbl&gt; |\n",
       "|---|---|---|---|---|\n",
       "| hg38 | exons      | 1E-9            |   99481 | 847521 |\n",
       "| hg38 | exons      | 0.5             |   38380 | 847521 |\n",
       "| hg38 | exons      | 0.6             |   31344 | 847521 |\n",
       "| hg38 | exons      | All Reported    |  399047 | 847521 |\n",
       "| hg38 | exons      | All Reported bd |  399047 | 847521 |\n",
       "| hg38 | intergenic | 1E-9            |  322329 | 847521 |\n",
       "| hg38 | intergenic | 0.5             |  319058 | 847521 |\n",
       "| hg38 | intergenic | 0.6             |  318363 | 847521 |\n",
       "| hg38 | intergenic | All Reported    |  322329 | 847521 |\n",
       "| hg38 | intergenic | All Reported bd |  322329 | 847521 |\n",
       "| hg38 | introns    | 1E-9            |  482632 | 847521 |\n",
       "| hg38 | introns    | 0.5             |  459907 | 847521 |\n",
       "| hg38 | introns    | 0.6             |  450557 | 847521 |\n",
       "| hg38 | introns    | All Reported    | 2406992 | 847521 |\n",
       "| hg38 | introns    | All Reported bd | 2406992 | 847521 |\n",
       "| hg38 | promoters  | 1E-9            |   33365 | 847521 |\n",
       "| hg38 | promoters  | 0.5             |   26728 | 847521 |\n",
       "| hg38 | promoters  | 0.6             |   22425 | 847521 |\n",
       "| hg38 | promoters  | All Reported    |   95469 | 847521 |\n",
       "| hg38 | promoters  | All Reported bd |   95469 | 847521 |\n",
       "| mm10 | exons      | 1E-9            |   79511 | 680735 |\n",
       "| mm10 | exons      | 0.5             |   31087 | 680735 |\n",
       "| mm10 | exons      | 0.6             |   25467 | 680735 |\n",
       "| mm10 | exons      | All Reported    |  164219 | 680735 |\n",
       "| mm10 | exons      | All Reported bd |  164219 | 680735 |\n",
       "| mm10 | intergenic | 1E-9            |  289376 | 680735 |\n",
       "| mm10 | intergenic | 0.5             |  286219 | 680735 |\n",
       "| mm10 | intergenic | 0.6             |  285572 | 680735 |\n",
       "| mm10 | intergenic | All Reported    |  289376 | 680735 |\n",
       "| mm10 | intergenic | All Reported bd |  289376 | 680735 |\n",
       "| mm10 | introns    | 1E-9            |  350863 | 680735 |\n",
       "| mm10 | introns    | 0.5             |  330705 | 680735 |\n",
       "| mm10 | introns    | 0.6             |  323918 | 680735 |\n",
       "| mm10 | introns    | All Reported    |  815730 | 680735 |\n",
       "| mm10 | introns    | All Reported bd |  815730 | 680735 |\n",
       "| mm10 | promoters  | 1E-9            |   28929 | 680735 |\n",
       "| mm10 | promoters  | 0.5             |   22605 | 680735 |\n",
       "| mm10 | promoters  | 0.6             |   18476 | 680735 |\n",
       "| mm10 | promoters  | All Reported    |   50187 | 680735 |\n",
       "| mm10 | promoters  | All Reported bd |   50187 | 680735 |\n",
       "\n"
      ],
      "text/plain": [
       "   genome feature    overlap_type    genome_overlap_nrow bidir_counts\n",
       "1  hg38   exons      1E-9              99481             847521      \n",
       "2  hg38   exons      0.5               38380             847521      \n",
       "3  hg38   exons      0.6               31344             847521      \n",
       "4  hg38   exons      All Reported     399047             847521      \n",
       "5  hg38   exons      All Reported bd  399047             847521      \n",
       "6  hg38   intergenic 1E-9             322329             847521      \n",
       "7  hg38   intergenic 0.5              319058             847521      \n",
       "8  hg38   intergenic 0.6              318363             847521      \n",
       "9  hg38   intergenic All Reported     322329             847521      \n",
       "10 hg38   intergenic All Reported bd  322329             847521      \n",
       "11 hg38   introns    1E-9             482632             847521      \n",
       "12 hg38   introns    0.5              459907             847521      \n",
       "13 hg38   introns    0.6              450557             847521      \n",
       "14 hg38   introns    All Reported    2406992             847521      \n",
       "15 hg38   introns    All Reported bd 2406992             847521      \n",
       "16 hg38   promoters  1E-9              33365             847521      \n",
       "17 hg38   promoters  0.5               26728             847521      \n",
       "18 hg38   promoters  0.6               22425             847521      \n",
       "19 hg38   promoters  All Reported      95469             847521      \n",
       "20 hg38   promoters  All Reported bd   95469             847521      \n",
       "21 mm10   exons      1E-9              79511             680735      \n",
       "22 mm10   exons      0.5               31087             680735      \n",
       "23 mm10   exons      0.6               25467             680735      \n",
       "24 mm10   exons      All Reported     164219             680735      \n",
       "25 mm10   exons      All Reported bd  164219             680735      \n",
       "26 mm10   intergenic 1E-9             289376             680735      \n",
       "27 mm10   intergenic 0.5              286219             680735      \n",
       "28 mm10   intergenic 0.6              285572             680735      \n",
       "29 mm10   intergenic All Reported     289376             680735      \n",
       "30 mm10   intergenic All Reported bd  289376             680735      \n",
       "31 mm10   introns    1E-9             350863             680735      \n",
       "32 mm10   introns    0.5              330705             680735      \n",
       "33 mm10   introns    0.6              323918             680735      \n",
       "34 mm10   introns    All Reported     815730             680735      \n",
       "35 mm10   introns    All Reported bd  815730             680735      \n",
       "36 mm10   promoters  1E-9              28929             680735      \n",
       "37 mm10   promoters  0.5               22605             680735      \n",
       "38 mm10   promoters  0.6               18476             680735      \n",
       "39 mm10   promoters  All Reported      50187             680735      \n",
       "40 mm10   promoters  All Reported bd   50187             680735      "
      ]
     },
     "metadata": {},
     "output_type": "display_data"
    }
   ],
   "source": [
    "genome_overlap_summary <- data.frame(genome,\n",
    "                                     feature, \n",
    "                                     overlap_type, \n",
    "                                     genome_overlap_nrow, \n",
    "                                     bidir_counts)\n",
    "genome_overlap_summary"
   ]
  },
  {
   "cell_type": "code",
   "execution_count": 25,
   "metadata": {},
   "outputs": [
    {
     "data": {
      "text/html": [
       "<table class=\"dataframe\">\n",
       "<caption>A data.frame: 24 × 6</caption>\n",
       "<thead>\n",
       "\t<tr><th></th><th scope=col>genome</th><th scope=col>feature</th><th scope=col>overlap_type</th><th scope=col>genome_overlap_nrow</th><th scope=col>bidir_counts</th><th scope=col>genome_overlap_per</th></tr>\n",
       "\t<tr><th></th><th scope=col>&lt;fct&gt;</th><th scope=col>&lt;fct&gt;</th><th scope=col>&lt;fct&gt;</th><th scope=col>&lt;dbl&gt;</th><th scope=col>&lt;dbl&gt;</th><th scope=col>&lt;dbl&gt;</th></tr>\n",
       "</thead>\n",
       "<tbody>\n",
       "\t<tr><th scope=row>1</th><td>hg38</td><td>exons     </td><td>1E-9</td><td> 99481</td><td>847521</td><td>11.737880</td></tr>\n",
       "\t<tr><th scope=row>2</th><td>hg38</td><td>exons     </td><td>0.5 </td><td> 38380</td><td>847521</td><td> 4.528501</td></tr>\n",
       "\t<tr><th scope=row>3</th><td>hg38</td><td>exons     </td><td>0.6 </td><td> 31344</td><td>847521</td><td> 3.698315</td></tr>\n",
       "\t<tr><th scope=row>6</th><td>hg38</td><td>intergenic</td><td>1E-9</td><td>322329</td><td>847521</td><td>38.031978</td></tr>\n",
       "\t<tr><th scope=row>7</th><td>hg38</td><td>intergenic</td><td>0.5 </td><td>319058</td><td>847521</td><td>37.646029</td></tr>\n",
       "\t<tr><th scope=row>8</th><td>hg38</td><td>intergenic</td><td>0.6 </td><td>318363</td><td>847521</td><td>37.564025</td></tr>\n",
       "\t<tr><th scope=row>11</th><td>hg38</td><td>introns   </td><td>1E-9</td><td>482632</td><td>847521</td><td>56.946318</td></tr>\n",
       "\t<tr><th scope=row>12</th><td>hg38</td><td>introns   </td><td>0.5 </td><td>459907</td><td>847521</td><td>54.264968</td></tr>\n",
       "\t<tr><th scope=row>13</th><td>hg38</td><td>introns   </td><td>0.6 </td><td>450557</td><td>847521</td><td>53.161751</td></tr>\n",
       "\t<tr><th scope=row>16</th><td>hg38</td><td>promoters </td><td>1E-9</td><td> 33365</td><td>847521</td><td> 3.936776</td></tr>\n",
       "\t<tr><th scope=row>17</th><td>hg38</td><td>promoters </td><td>0.5 </td><td> 26728</td><td>847521</td><td> 3.153668</td></tr>\n",
       "\t<tr><th scope=row>18</th><td>hg38</td><td>promoters </td><td>0.6 </td><td> 22425</td><td>847521</td><td> 2.645952</td></tr>\n",
       "\t<tr><th scope=row>21</th><td>mm10</td><td>exons     </td><td>1E-9</td><td> 79511</td><td>680735</td><td>11.680169</td></tr>\n",
       "\t<tr><th scope=row>22</th><td>mm10</td><td>exons     </td><td>0.5 </td><td> 31087</td><td>680735</td><td> 4.566682</td></tr>\n",
       "\t<tr><th scope=row>23</th><td>mm10</td><td>exons     </td><td>0.6 </td><td> 25467</td><td>680735</td><td> 3.741103</td></tr>\n",
       "\t<tr><th scope=row>26</th><td>mm10</td><td>intergenic</td><td>1E-9</td><td>289376</td><td>680735</td><td>42.509347</td></tr>\n",
       "\t<tr><th scope=row>27</th><td>mm10</td><td>intergenic</td><td>0.5 </td><td>286219</td><td>680735</td><td>42.045583</td></tr>\n",
       "\t<tr><th scope=row>28</th><td>mm10</td><td>intergenic</td><td>0.6 </td><td>285572</td><td>680735</td><td>41.950539</td></tr>\n",
       "\t<tr><th scope=row>31</th><td>mm10</td><td>introns   </td><td>1E-9</td><td>350863</td><td>680735</td><td>51.541789</td></tr>\n",
       "\t<tr><th scope=row>32</th><td>mm10</td><td>introns   </td><td>0.5 </td><td>330705</td><td>680735</td><td>48.580578</td></tr>\n",
       "\t<tr><th scope=row>33</th><td>mm10</td><td>introns   </td><td>0.6 </td><td>323918</td><td>680735</td><td>47.583568</td></tr>\n",
       "\t<tr><th scope=row>36</th><td>mm10</td><td>promoters </td><td>1E-9</td><td> 28929</td><td>680735</td><td> 4.249671</td></tr>\n",
       "\t<tr><th scope=row>37</th><td>mm10</td><td>promoters </td><td>0.5 </td><td> 22605</td><td>680735</td><td> 3.320675</td></tr>\n",
       "\t<tr><th scope=row>38</th><td>mm10</td><td>promoters </td><td>0.6 </td><td> 18476</td><td>680735</td><td> 2.714125</td></tr>\n",
       "</tbody>\n",
       "</table>\n"
      ],
      "text/latex": [
       "A data.frame: 24 × 6\n",
       "\\begin{tabular}{r|llllll}\n",
       "  & genome & feature & overlap\\_type & genome\\_overlap\\_nrow & bidir\\_counts & genome\\_overlap\\_per\\\\\n",
       "  & <fct> & <fct> & <fct> & <dbl> & <dbl> & <dbl>\\\\\n",
       "\\hline\n",
       "\t1 & hg38 & exons      & 1E-9 &  99481 & 847521 & 11.737880\\\\\n",
       "\t2 & hg38 & exons      & 0.5  &  38380 & 847521 &  4.528501\\\\\n",
       "\t3 & hg38 & exons      & 0.6  &  31344 & 847521 &  3.698315\\\\\n",
       "\t6 & hg38 & intergenic & 1E-9 & 322329 & 847521 & 38.031978\\\\\n",
       "\t7 & hg38 & intergenic & 0.5  & 319058 & 847521 & 37.646029\\\\\n",
       "\t8 & hg38 & intergenic & 0.6  & 318363 & 847521 & 37.564025\\\\\n",
       "\t11 & hg38 & introns    & 1E-9 & 482632 & 847521 & 56.946318\\\\\n",
       "\t12 & hg38 & introns    & 0.5  & 459907 & 847521 & 54.264968\\\\\n",
       "\t13 & hg38 & introns    & 0.6  & 450557 & 847521 & 53.161751\\\\\n",
       "\t16 & hg38 & promoters  & 1E-9 &  33365 & 847521 &  3.936776\\\\\n",
       "\t17 & hg38 & promoters  & 0.5  &  26728 & 847521 &  3.153668\\\\\n",
       "\t18 & hg38 & promoters  & 0.6  &  22425 & 847521 &  2.645952\\\\\n",
       "\t21 & mm10 & exons      & 1E-9 &  79511 & 680735 & 11.680169\\\\\n",
       "\t22 & mm10 & exons      & 0.5  &  31087 & 680735 &  4.566682\\\\\n",
       "\t23 & mm10 & exons      & 0.6  &  25467 & 680735 &  3.741103\\\\\n",
       "\t26 & mm10 & intergenic & 1E-9 & 289376 & 680735 & 42.509347\\\\\n",
       "\t27 & mm10 & intergenic & 0.5  & 286219 & 680735 & 42.045583\\\\\n",
       "\t28 & mm10 & intergenic & 0.6  & 285572 & 680735 & 41.950539\\\\\n",
       "\t31 & mm10 & introns    & 1E-9 & 350863 & 680735 & 51.541789\\\\\n",
       "\t32 & mm10 & introns    & 0.5  & 330705 & 680735 & 48.580578\\\\\n",
       "\t33 & mm10 & introns    & 0.6  & 323918 & 680735 & 47.583568\\\\\n",
       "\t36 & mm10 & promoters  & 1E-9 &  28929 & 680735 &  4.249671\\\\\n",
       "\t37 & mm10 & promoters  & 0.5  &  22605 & 680735 &  3.320675\\\\\n",
       "\t38 & mm10 & promoters  & 0.6  &  18476 & 680735 &  2.714125\\\\\n",
       "\\end{tabular}\n"
      ],
      "text/markdown": [
       "\n",
       "A data.frame: 24 × 6\n",
       "\n",
       "| <!--/--> | genome &lt;fct&gt; | feature &lt;fct&gt; | overlap_type &lt;fct&gt; | genome_overlap_nrow &lt;dbl&gt; | bidir_counts &lt;dbl&gt; | genome_overlap_per &lt;dbl&gt; |\n",
       "|---|---|---|---|---|---|---|\n",
       "| 1 | hg38 | exons      | 1E-9 |  99481 | 847521 | 11.737880 |\n",
       "| 2 | hg38 | exons      | 0.5  |  38380 | 847521 |  4.528501 |\n",
       "| 3 | hg38 | exons      | 0.6  |  31344 | 847521 |  3.698315 |\n",
       "| 6 | hg38 | intergenic | 1E-9 | 322329 | 847521 | 38.031978 |\n",
       "| 7 | hg38 | intergenic | 0.5  | 319058 | 847521 | 37.646029 |\n",
       "| 8 | hg38 | intergenic | 0.6  | 318363 | 847521 | 37.564025 |\n",
       "| 11 | hg38 | introns    | 1E-9 | 482632 | 847521 | 56.946318 |\n",
       "| 12 | hg38 | introns    | 0.5  | 459907 | 847521 | 54.264968 |\n",
       "| 13 | hg38 | introns    | 0.6  | 450557 | 847521 | 53.161751 |\n",
       "| 16 | hg38 | promoters  | 1E-9 |  33365 | 847521 |  3.936776 |\n",
       "| 17 | hg38 | promoters  | 0.5  |  26728 | 847521 |  3.153668 |\n",
       "| 18 | hg38 | promoters  | 0.6  |  22425 | 847521 |  2.645952 |\n",
       "| 21 | mm10 | exons      | 1E-9 |  79511 | 680735 | 11.680169 |\n",
       "| 22 | mm10 | exons      | 0.5  |  31087 | 680735 |  4.566682 |\n",
       "| 23 | mm10 | exons      | 0.6  |  25467 | 680735 |  3.741103 |\n",
       "| 26 | mm10 | intergenic | 1E-9 | 289376 | 680735 | 42.509347 |\n",
       "| 27 | mm10 | intergenic | 0.5  | 286219 | 680735 | 42.045583 |\n",
       "| 28 | mm10 | intergenic | 0.6  | 285572 | 680735 | 41.950539 |\n",
       "| 31 | mm10 | introns    | 1E-9 | 350863 | 680735 | 51.541789 |\n",
       "| 32 | mm10 | introns    | 0.5  | 330705 | 680735 | 48.580578 |\n",
       "| 33 | mm10 | introns    | 0.6  | 323918 | 680735 | 47.583568 |\n",
       "| 36 | mm10 | promoters  | 1E-9 |  28929 | 680735 |  4.249671 |\n",
       "| 37 | mm10 | promoters  | 0.5  |  22605 | 680735 |  3.320675 |\n",
       "| 38 | mm10 | promoters  | 0.6  |  18476 | 680735 |  2.714125 |\n",
       "\n"
      ],
      "text/plain": [
       "   genome feature    overlap_type genome_overlap_nrow bidir_counts\n",
       "1  hg38   exons      1E-9          99481              847521      \n",
       "2  hg38   exons      0.5           38380              847521      \n",
       "3  hg38   exons      0.6           31344              847521      \n",
       "6  hg38   intergenic 1E-9         322329              847521      \n",
       "7  hg38   intergenic 0.5          319058              847521      \n",
       "8  hg38   intergenic 0.6          318363              847521      \n",
       "11 hg38   introns    1E-9         482632              847521      \n",
       "12 hg38   introns    0.5          459907              847521      \n",
       "13 hg38   introns    0.6          450557              847521      \n",
       "16 hg38   promoters  1E-9          33365              847521      \n",
       "17 hg38   promoters  0.5           26728              847521      \n",
       "18 hg38   promoters  0.6           22425              847521      \n",
       "21 mm10   exons      1E-9          79511              680735      \n",
       "22 mm10   exons      0.5           31087              680735      \n",
       "23 mm10   exons      0.6           25467              680735      \n",
       "26 mm10   intergenic 1E-9         289376              680735      \n",
       "27 mm10   intergenic 0.5          286219              680735      \n",
       "28 mm10   intergenic 0.6          285572              680735      \n",
       "31 mm10   introns    1E-9         350863              680735      \n",
       "32 mm10   introns    0.5          330705              680735      \n",
       "33 mm10   introns    0.6          323918              680735      \n",
       "36 mm10   promoters  1E-9          28929              680735      \n",
       "37 mm10   promoters  0.5           22605              680735      \n",
       "38 mm10   promoters  0.6           18476              680735      \n",
       "   genome_overlap_per\n",
       "1  11.737880         \n",
       "2   4.528501         \n",
       "3   3.698315         \n",
       "6  38.031978         \n",
       "7  37.646029         \n",
       "8  37.564025         \n",
       "11 56.946318         \n",
       "12 54.264968         \n",
       "13 53.161751         \n",
       "16  3.936776         \n",
       "17  3.153668         \n",
       "18  2.645952         \n",
       "21 11.680169         \n",
       "22  4.566682         \n",
       "23  3.741103         \n",
       "26 42.509347         \n",
       "27 42.045583         \n",
       "28 41.950539         \n",
       "31 51.541789         \n",
       "32 48.580578         \n",
       "33 47.583568         \n",
       "36  4.249671         \n",
       "37  3.320675         \n",
       "38  2.714125         "
      ]
     },
     "metadata": {},
     "output_type": "display_data"
    }
   ],
   "source": [
    "genome_overlap_summary_perc <- subset(genome_overlap_summary,\n",
    "                                      overlap_type != \"All Reported\" & \n",
    "                                     overlap_type != \"All Reported bd\")\n",
    "genome_overlap_summary_perc$genome_overlap_per <- (genome_overlap_summary_perc$genome_overlap_nrow/genome_overlap_summary_perc$bidir_counts)*100\n",
    "genome_overlap_summary_perc\n"
   ]
  },
  {
   "cell_type": "code",
   "execution_count": 26,
   "metadata": {},
   "outputs": [
    {
     "data": {
      "text/html": [
       "<table class=\"dataframe\">\n",
       "<caption>A data.frame: 8 × 6</caption>\n",
       "<thead>\n",
       "\t<tr><th></th><th scope=col>genome</th><th scope=col>feature</th><th scope=col>overlap_type</th><th scope=col>genome_overlap_nrow</th><th scope=col>bidir_counts</th><th scope=col>genome_overlap_per</th></tr>\n",
       "\t<tr><th></th><th scope=col>&lt;fct&gt;</th><th scope=col>&lt;fct&gt;</th><th scope=col>&lt;fct&gt;</th><th scope=col>&lt;dbl&gt;</th><th scope=col>&lt;dbl&gt;</th><th scope=col>&lt;dbl&gt;</th></tr>\n",
       "</thead>\n",
       "<tbody>\n",
       "\t<tr><th scope=row>2</th><td>hg38</td><td>exons     </td><td>0.5</td><td> 38380</td><td>847521</td><td> 4.528501</td></tr>\n",
       "\t<tr><th scope=row>7</th><td>hg38</td><td>intergenic</td><td>0.5</td><td>319058</td><td>847521</td><td>37.646029</td></tr>\n",
       "\t<tr><th scope=row>12</th><td>hg38</td><td>introns   </td><td>0.5</td><td>459907</td><td>847521</td><td>54.264968</td></tr>\n",
       "\t<tr><th scope=row>17</th><td>hg38</td><td>promoters </td><td>0.5</td><td> 26728</td><td>847521</td><td> 3.153668</td></tr>\n",
       "\t<tr><th scope=row>22</th><td>mm10</td><td>exons     </td><td>0.5</td><td> 31087</td><td>680735</td><td> 4.566682</td></tr>\n",
       "\t<tr><th scope=row>27</th><td>mm10</td><td>intergenic</td><td>0.5</td><td>286219</td><td>680735</td><td>42.045583</td></tr>\n",
       "\t<tr><th scope=row>32</th><td>mm10</td><td>introns   </td><td>0.5</td><td>330705</td><td>680735</td><td>48.580578</td></tr>\n",
       "\t<tr><th scope=row>37</th><td>mm10</td><td>promoters </td><td>0.5</td><td> 22605</td><td>680735</td><td> 3.320675</td></tr>\n",
       "</tbody>\n",
       "</table>\n"
      ],
      "text/latex": [
       "A data.frame: 8 × 6\n",
       "\\begin{tabular}{r|llllll}\n",
       "  & genome & feature & overlap\\_type & genome\\_overlap\\_nrow & bidir\\_counts & genome\\_overlap\\_per\\\\\n",
       "  & <fct> & <fct> & <fct> & <dbl> & <dbl> & <dbl>\\\\\n",
       "\\hline\n",
       "\t2 & hg38 & exons      & 0.5 &  38380 & 847521 &  4.528501\\\\\n",
       "\t7 & hg38 & intergenic & 0.5 & 319058 & 847521 & 37.646029\\\\\n",
       "\t12 & hg38 & introns    & 0.5 & 459907 & 847521 & 54.264968\\\\\n",
       "\t17 & hg38 & promoters  & 0.5 &  26728 & 847521 &  3.153668\\\\\n",
       "\t22 & mm10 & exons      & 0.5 &  31087 & 680735 &  4.566682\\\\\n",
       "\t27 & mm10 & intergenic & 0.5 & 286219 & 680735 & 42.045583\\\\\n",
       "\t32 & mm10 & introns    & 0.5 & 330705 & 680735 & 48.580578\\\\\n",
       "\t37 & mm10 & promoters  & 0.5 &  22605 & 680735 &  3.320675\\\\\n",
       "\\end{tabular}\n"
      ],
      "text/markdown": [
       "\n",
       "A data.frame: 8 × 6\n",
       "\n",
       "| <!--/--> | genome &lt;fct&gt; | feature &lt;fct&gt; | overlap_type &lt;fct&gt; | genome_overlap_nrow &lt;dbl&gt; | bidir_counts &lt;dbl&gt; | genome_overlap_per &lt;dbl&gt; |\n",
       "|---|---|---|---|---|---|---|\n",
       "| 2 | hg38 | exons      | 0.5 |  38380 | 847521 |  4.528501 |\n",
       "| 7 | hg38 | intergenic | 0.5 | 319058 | 847521 | 37.646029 |\n",
       "| 12 | hg38 | introns    | 0.5 | 459907 | 847521 | 54.264968 |\n",
       "| 17 | hg38 | promoters  | 0.5 |  26728 | 847521 |  3.153668 |\n",
       "| 22 | mm10 | exons      | 0.5 |  31087 | 680735 |  4.566682 |\n",
       "| 27 | mm10 | intergenic | 0.5 | 286219 | 680735 | 42.045583 |\n",
       "| 32 | mm10 | introns    | 0.5 | 330705 | 680735 | 48.580578 |\n",
       "| 37 | mm10 | promoters  | 0.5 |  22605 | 680735 |  3.320675 |\n",
       "\n"
      ],
      "text/plain": [
       "   genome feature    overlap_type genome_overlap_nrow bidir_counts\n",
       "2  hg38   exons      0.5           38380              847521      \n",
       "7  hg38   intergenic 0.5          319058              847521      \n",
       "12 hg38   introns    0.5          459907              847521      \n",
       "17 hg38   promoters  0.5           26728              847521      \n",
       "22 mm10   exons      0.5           31087              680735      \n",
       "27 mm10   intergenic 0.5          286219              680735      \n",
       "32 mm10   introns    0.5          330705              680735      \n",
       "37 mm10   promoters  0.5           22605              680735      \n",
       "   genome_overlap_per\n",
       "2   4.528501         \n",
       "7  37.646029         \n",
       "12 54.264968         \n",
       "17  3.153668         \n",
       "22  4.566682         \n",
       "27 42.045583         \n",
       "32 48.580578         \n",
       "37  3.320675         "
      ]
     },
     "metadata": {},
     "output_type": "display_data"
    }
   ],
   "source": [
    "genome_overlap_summary_perc <- subset(genome_overlap_summary_perc,\n",
    "                                       feature!='Transcript' &\n",
    "                                      overlap_type=='0.5')\n",
    "genome_overlap_summary_perc$feature <- factor(genome_overlap_summary_perc$feature, \n",
    "                                               levels = c(\"promoters\",\"exons\", \"intergenic\", \"introns\"))\n",
    "genome_overlap_summary_perc"
   ]
  },
  {
   "cell_type": "code",
   "execution_count": 27,
   "metadata": {},
   "outputs": [
    {
     "data": {
      "text/html": [
       "<table class=\"dataframe\">\n",
       "<caption>A data.frame: 8 × 6</caption>\n",
       "<thead>\n",
       "\t<tr><th></th><th scope=col>genome</th><th scope=col>feature</th><th scope=col>overlap_type</th><th scope=col>genome_overlap_nrow</th><th scope=col>bidir_counts</th><th scope=col>genome_overlap_per</th></tr>\n",
       "\t<tr><th></th><th scope=col>&lt;fct&gt;</th><th scope=col>&lt;fct&gt;</th><th scope=col>&lt;fct&gt;</th><th scope=col>&lt;dbl&gt;</th><th scope=col>&lt;dbl&gt;</th><th scope=col>&lt;dbl&gt;</th></tr>\n",
       "</thead>\n",
       "<tbody>\n",
       "\t<tr><th scope=row>17</th><td>hg38</td><td>promoters </td><td>0.5</td><td> 26728</td><td>847521</td><td> 3.153668</td></tr>\n",
       "\t<tr><th scope=row>37</th><td>mm10</td><td>promoters </td><td>0.5</td><td> 22605</td><td>680735</td><td> 3.320675</td></tr>\n",
       "\t<tr><th scope=row>2</th><td>hg38</td><td>exons     </td><td>0.5</td><td> 38380</td><td>847521</td><td> 4.528501</td></tr>\n",
       "\t<tr><th scope=row>22</th><td>mm10</td><td>exons     </td><td>0.5</td><td> 31087</td><td>680735</td><td> 4.566682</td></tr>\n",
       "\t<tr><th scope=row>7</th><td>hg38</td><td>intergenic</td><td>0.5</td><td>319058</td><td>847521</td><td>37.646029</td></tr>\n",
       "\t<tr><th scope=row>27</th><td>mm10</td><td>intergenic</td><td>0.5</td><td>286219</td><td>680735</td><td>42.045583</td></tr>\n",
       "\t<tr><th scope=row>12</th><td>hg38</td><td>introns   </td><td>0.5</td><td>459907</td><td>847521</td><td>54.264968</td></tr>\n",
       "\t<tr><th scope=row>32</th><td>mm10</td><td>introns   </td><td>0.5</td><td>330705</td><td>680735</td><td>48.580578</td></tr>\n",
       "</tbody>\n",
       "</table>\n"
      ],
      "text/latex": [
       "A data.frame: 8 × 6\n",
       "\\begin{tabular}{r|llllll}\n",
       "  & genome & feature & overlap\\_type & genome\\_overlap\\_nrow & bidir\\_counts & genome\\_overlap\\_per\\\\\n",
       "  & <fct> & <fct> & <fct> & <dbl> & <dbl> & <dbl>\\\\\n",
       "\\hline\n",
       "\t17 & hg38 & promoters  & 0.5 &  26728 & 847521 &  3.153668\\\\\n",
       "\t37 & mm10 & promoters  & 0.5 &  22605 & 680735 &  3.320675\\\\\n",
       "\t2 & hg38 & exons      & 0.5 &  38380 & 847521 &  4.528501\\\\\n",
       "\t22 & mm10 & exons      & 0.5 &  31087 & 680735 &  4.566682\\\\\n",
       "\t7 & hg38 & intergenic & 0.5 & 319058 & 847521 & 37.646029\\\\\n",
       "\t27 & mm10 & intergenic & 0.5 & 286219 & 680735 & 42.045583\\\\\n",
       "\t12 & hg38 & introns    & 0.5 & 459907 & 847521 & 54.264968\\\\\n",
       "\t32 & mm10 & introns    & 0.5 & 330705 & 680735 & 48.580578\\\\\n",
       "\\end{tabular}\n"
      ],
      "text/markdown": [
       "\n",
       "A data.frame: 8 × 6\n",
       "\n",
       "| <!--/--> | genome &lt;fct&gt; | feature &lt;fct&gt; | overlap_type &lt;fct&gt; | genome_overlap_nrow &lt;dbl&gt; | bidir_counts &lt;dbl&gt; | genome_overlap_per &lt;dbl&gt; |\n",
       "|---|---|---|---|---|---|---|\n",
       "| 17 | hg38 | promoters  | 0.5 |  26728 | 847521 |  3.153668 |\n",
       "| 37 | mm10 | promoters  | 0.5 |  22605 | 680735 |  3.320675 |\n",
       "| 2 | hg38 | exons      | 0.5 |  38380 | 847521 |  4.528501 |\n",
       "| 22 | mm10 | exons      | 0.5 |  31087 | 680735 |  4.566682 |\n",
       "| 7 | hg38 | intergenic | 0.5 | 319058 | 847521 | 37.646029 |\n",
       "| 27 | mm10 | intergenic | 0.5 | 286219 | 680735 | 42.045583 |\n",
       "| 12 | hg38 | introns    | 0.5 | 459907 | 847521 | 54.264968 |\n",
       "| 32 | mm10 | introns    | 0.5 | 330705 | 680735 | 48.580578 |\n",
       "\n"
      ],
      "text/plain": [
       "   genome feature    overlap_type genome_overlap_nrow bidir_counts\n",
       "17 hg38   promoters  0.5           26728              847521      \n",
       "37 mm10   promoters  0.5           22605              680735      \n",
       "2  hg38   exons      0.5           38380              847521      \n",
       "22 mm10   exons      0.5           31087              680735      \n",
       "7  hg38   intergenic 0.5          319058              847521      \n",
       "27 mm10   intergenic 0.5          286219              680735      \n",
       "12 hg38   introns    0.5          459907              847521      \n",
       "32 mm10   introns    0.5          330705              680735      \n",
       "   genome_overlap_per\n",
       "17  3.153668         \n",
       "37  3.320675         \n",
       "2   4.528501         \n",
       "22  4.566682         \n",
       "7  37.646029         \n",
       "27 42.045583         \n",
       "12 54.264968         \n",
       "32 48.580578         "
      ]
     },
     "metadata": {},
     "output_type": "display_data"
    }
   ],
   "source": [
    "genome_overlap_summary_perc_order <- with(genome_overlap_summary_perc, \n",
    "                                           genome_overlap_summary_perc[order(feature),])\n",
    "genome_overlap_summary_perc_order"
   ]
  },
  {
   "cell_type": "code",
   "execution_count": 28,
   "metadata": {},
   "outputs": [
    {
     "data": {
      "text/html": [
       "<style>\n",
       ".list-inline {list-style: none; margin:0; padding: 0}\n",
       ".list-inline>li {display: inline-block}\n",
       ".list-inline>li:not(:last-child)::after {content: \"\\00b7\"; padding: 0 .5ex}\n",
       "</style>\n",
       "<ol class=list-inline><li>' 26,728'</li><li>' 38,380'</li><li>'319,058'</li><li>'459,907'</li></ol>\n"
      ],
      "text/latex": [
       "\\begin{enumerate*}\n",
       "\\item ' 26,728'\n",
       "\\item ' 38,380'\n",
       "\\item '319,058'\n",
       "\\item '459,907'\n",
       "\\end{enumerate*}\n"
      ],
      "text/markdown": [
       "1. ' 26,728'\n",
       "2. ' 38,380'\n",
       "3. '319,058'\n",
       "4. '459,907'\n",
       "\n",
       "\n"
      ],
      "text/plain": [
       "[1] \" 26,728\" \" 38,380\" \"319,058\" \"459,907\""
      ]
     },
     "metadata": {},
     "output_type": "display_data"
    }
   ],
   "source": [
    "#format(big_number, scientific = FALSE, big.mark = ',')\n",
    "format(subset(genome_overlap_summary_perc_order,\n",
    "                       genome==\"hg38\")$genome_overlap_nrow, \n",
    "       scientific = FALSE, big.mark = ',')"
   ]
  },
  {
   "cell_type": "code",
   "execution_count": 29,
   "metadata": {},
   "outputs": [],
   "source": [
    "options(repr.plot.width=12, repr.plot.height=8)\n",
    "\n",
    "bidir_overlap_hg38 <- ggplot2::ggplot(subset(genome_overlap_summary_perc_order,\n",
    "                                             genome==\"hg38\"),\n",
    "       aes(x=feature, y=as.numeric(genome_overlap_per))) +\n",
    "geom_bar(stat=\"identity\", width=0.7, color='black',fill=\"gray65\")+\n",
    "  scale_y_continuous(expand = c(0, 0)) +\n",
    "labs(title=\"Human Bidirectionals\",\n",
    "     x=\"Feature\", \n",
    "     y = \"% Overlap\")+\n",
    "annotate(\"text\", x=c(1,2,3,4),\n",
    "         y=c(6,8,41,57), \n",
    "         label= paste(\"N =\", format(subset(genome_overlap_summary_perc_order,\n",
    "                       genome==\"hg38\")$genome_overlap_nrow, \n",
    "       scientific = FALSE, big.mark = ',')), size = 8) + \n",
    "theme_cowplot(24) +\n",
    "coord_cartesian(ylim=c(0, 60)) +\n",
    "theme(plot.title = element_text(hjust = 0.5),\n",
    "      title = element_text(size = 30), \n",
    "      axis.title = element_text(size = 30), \n",
    "      axis.text = element_text(size = 24),\n",
    "     axis.text.x = element_text(size = 24),\n",
    "     legend.position=\"none\") \n"
   ]
  },
  {
   "cell_type": "code",
   "execution_count": 30,
   "metadata": {},
   "outputs": [
    {
     "data": {
      "image/png": "[encoded data removed]",
      "text/plain": [
       "plot without title"
      ]
     },
     "metadata": {
      "image/png": {
       "height": 480,
       "width": 600
      }
     },
     "output_type": "display_data"
    }
   ],
   "source": [
    "options(repr.plot.width=10, repr.plot.height=8)\n",
    "\n",
    "bidir_overlap_hg38_noheader <- ggplot2::ggplot(subset(genome_overlap_summary_perc_order,genome==\"hg38\"),\n",
    "       aes(x=feature, y=as.numeric(genome_overlap_per))) +\n",
    "geom_bar(stat=\"identity\", width=0.5, color='black',fill=\"gray65\")+\n",
    "  scale_y_continuous(expand = c(0, 0)) +\n",
    "labs(title=\" \",\n",
    "     x=\"Features\", \n",
    "     y = \"% of bidirectionals overlapping\")+\n",
    "annotate(\"text\", x=c(1,2,3,4),\n",
    "         y=c(6,8,41,57), \n",
    "         label= paste(\"N =\", format(subset(genome_overlap_summary_perc_order,\n",
    "                       genome==\"hg38\")$genome_overlap_nrow, \n",
    "       scientific = FALSE, big.mark = ',')), size = 8) + \n",
    "theme_cowplot(24) +\n",
    "coord_cartesian(ylim=c(0, 60)) +\n",
    "theme(plot.title = element_text(hjust = 0.5),\n",
    "      title = element_text(size = 30), \n",
    "      axis.title = element_text(size = 30), \n",
    "      axis.text = element_text(size = 24),\n",
    "     axis.text.x = element_text(size = 24),\n",
    "     legend.position=\"none\") \n",
    "\n",
    "bidir_overlap_hg38_noheader"
   ]
  },
  {
   "cell_type": "code",
   "execution_count": 31,
   "metadata": {},
   "outputs": [],
   "source": [
    "ggsave(bidir_overlap_hg38_noheader, width = 10, height = 8,\n",
    "       filename = \"/Users/rusi2317/projects/meta_analysis_qc/hg38/paper_figures/hg38_refseq_overlap_with_dbnascent.pdf\", \n",
    "       bg = \"transparent\")\n",
    "\n",
    "ggsave(bidir_overlap_hg38_noheader, width = 10, height = 8,\n",
    "       filename = \"/Users/rusi2317/projects/meta_analysis_qc/hg38/paper_figures/hg38_refseq_overlap_with_dbnascent.png\", \n",
    "       bg = \"transparent\")"
   ]
  },
  {
   "cell_type": "code",
   "execution_count": 32,
   "metadata": {},
   "outputs": [],
   "source": [
    "options(repr.plot.width=12, repr.plot.height=8)\n",
    "\n",
    "bidir_overlap_mm10 <- ggplot2::ggplot(subset(genome_overlap_summary_perc_order,genome==\"mm10\"),\n",
    "       aes(x=feature, y=as.numeric(genome_overlap_per))) +\n",
    "geom_bar(stat=\"identity\", width=0.7, color='black',fill=\"gray65\")+\n",
    "  scale_y_continuous(expand = c(0, 0)) +\n",
    "labs(title=\"Mouse Bidirectionals\",\n",
    "     x=\"Feature\", \n",
    "     y = \"% Overlap\")+\n",
    "annotate(\"text\", x=c(1,2,3,4),\n",
    "         y=c(6,8,45,51), \n",
    "         label= paste(\"N =\", format(subset(genome_overlap_summary_perc_order,\n",
    "                       genome==\"mm10\")$genome_overlap_nrow, \n",
    "       scientific = FALSE, big.mark = ',')), size = 8) + \n",
    "theme_cowplot(24) +\n",
    "coord_cartesian(ylim=c(0, 55)) +\n",
    "theme(plot.title = element_text(hjust = 0.5),\n",
    "      title = element_text(size = 30), \n",
    "      axis.title = element_text(size = 30), \n",
    "      axis.text = element_text(size = 24),\n",
    "     axis.text.x = element_text(size = 24),\n",
    "     legend.position=\"none\") \n"
   ]
  },
  {
   "cell_type": "code",
   "execution_count": 33,
   "metadata": {},
   "outputs": [
    {
     "data": {
      "image/png": "[encoded data removed]",
      "text/plain": [
       "plot without title"
      ]
     },
     "metadata": {
      "image/png": {
       "height": 480,
       "width": 600
      }
     },
     "output_type": "display_data"
    }
   ],
   "source": [
    "options(repr.plot.width=10, repr.plot.height=8)\n",
    "\n",
    "bidir_overlap_mm10_noheader <- ggplot2::ggplot(subset(genome_overlap_summary_perc,genome==\"mm10\"),\n",
    "       aes(x=feature, y=as.numeric(genome_overlap_per))) +\n",
    "geom_bar(stat=\"identity\", width=0.5, color='black',fill=\"gray65\")+\n",
    "  scale_y_continuous(expand = c(0, 0)) +\n",
    "labs(title=\" \",\n",
    "     x=\"Features\", \n",
    "     y = \"% of bidirectionals overlapping\")+\n",
    "annotate(\"text\", x=c(1,2,3,4),\n",
    "         y=c(6,8,45,51), \n",
    "         label= paste(\"N =\", format(subset(genome_overlap_summary_perc_order,\n",
    "                       genome==\"mm10\")$genome_overlap_nrow, \n",
    "       scientific = FALSE, big.mark = ',')), size = 8) +\n",
    "theme_cowplot(24) +\n",
    "coord_cartesian(ylim=c(0, 55)) +\n",
    "theme(plot.title = element_text(hjust = 0.5),\n",
    "      title = element_text(size = 30), \n",
    "      axis.title = element_text(size = 30), \n",
    "      axis.text = element_text(size = 24)) \n",
    "\n",
    "bidir_overlap_mm10_noheader"
   ]
  },
  {
   "cell_type": "code",
   "execution_count": 34,
   "metadata": {},
   "outputs": [],
   "source": [
    "ggsave(bidir_overlap_mm10_noheader, width = 10, height = 8,\n",
    "       filename = \"/Users/rusi2317/projects/meta_analysis_qc/mm10/paper_figures/mm10_refseq_overlap_with_dbnascent.pdf\", \n",
    "       bg = \"transparent\")\n",
    "\n",
    "ggsave(bidir_overlap_mm10_noheader, width = 10, height = 8,\n",
    "       filename = \"/Users/rusi2317/projects/meta_analysis_qc/mm10/paper_figures/mm10_refseq_overlap_with_dbnascent.png\", \n",
    "       bg = \"transparent\")"
   ]
  },
  {
   "cell_type": "code",
   "execution_count": 35,
   "metadata": {},
   "outputs": [
    {
     "data": {
      "image/png": "[encoded data removed]",
      "text/plain": [
       "plot without title"
      ]
     },
     "metadata": {
      "image/png": {
       "height": 360,
       "width": 960
      }
     },
     "output_type": "display_data"
    }
   ],
   "source": [
    "options(repr.plot.width=16, repr.plot.height=6)\n",
    "\n",
    "plot_grid(bidir_overlap_hg38, bidir_overlap_mm10)\n"
   ]
  },
  {
   "cell_type": "markdown",
   "metadata": {},
   "source": [
    "# Session Information"
   ]
  },
  {
   "cell_type": "code",
   "execution_count": 61,
   "metadata": {},
   "outputs": [
    {
     "data": {
      "text/plain": [
       "R version 3.6.0 (2019-04-26)\n",
       "Platform: x86_64-redhat-linux-gnu (64-bit)\n",
       "Running under: CentOS Linux 7 (Core)\n",
       "\n",
       "Matrix products: default\n",
       "BLAS/LAPACK: /usr/lib64/R/lib/libRblas.so\n",
       "\n",
       "locale:\n",
       " [1] LC_CTYPE=en_US.UTF-8       LC_NUMERIC=C              \n",
       " [3] LC_TIME=en_US.UTF-8        LC_COLLATE=en_US.UTF-8    \n",
       " [5] LC_MONETARY=en_US.UTF-8    LC_MESSAGES=en_US.UTF-8   \n",
       " [7] LC_PAPER=en_US.UTF-8       LC_NAME=C                 \n",
       " [9] LC_ADDRESS=C               LC_TELEPHONE=C            \n",
       "[11] LC_MEASUREMENT=en_US.UTF-8 LC_IDENTIFICATION=C       \n",
       "\n",
       "attached base packages:\n",
       "[1] grid      stats     graphics  grDevices utils     datasets  methods  \n",
       "[8] base     \n",
       "\n",
       "other attached packages:\n",
       "[1] VennDiagram_1.7.3   futile.logger_1.4.3 ggvenn_0.1.9       \n",
       "[4] dplyr_1.0.10        scales_1.2.1        cowplot_1.1.1      \n",
       "[7] ggplot2_3.3.6       data.table_1.14.2  \n",
       "\n",
       "loaded via a namespace (and not attached):\n",
       " [1] formatR_1.12         pillar_1.8.1         compiler_3.6.0      \n",
       " [4] futile.options_1.0.1 base64enc_0.1-3      tools_3.6.0         \n",
       " [7] digest_0.6.29        uuid_1.1-0           jsonlite_1.8.0      \n",
       "[10] evaluate_0.16        lifecycle_1.0.3      tibble_3.1.8        \n",
       "[13] gtable_0.3.1         pkgconfig_2.0.3      rlang_1.0.6         \n",
       "[16] IRdisplay_1.1        cli_3.4.1            DBI_1.1.3           \n",
       "[19] IRkernel_1.3.2       fastmap_1.1.0        withr_2.5.0         \n",
       "[22] repr_1.1.4           systemfonts_1.0.4    generics_0.1.3      \n",
       "[25] vctrs_0.5.0          tidyselect_1.1.2     svglite_2.1.0       \n",
       "[28] glue_1.6.2           R6_2.5.1             textshaping_0.3.6   \n",
       "[31] fansi_1.0.3          pbdZMQ_0.3-7         farver_2.1.1        \n",
       "[34] lambda.r_1.2.4       purrr_0.3.4          magrittr_2.0.3      \n",
       "[37] htmltools_0.5.2      assertthat_0.2.1     colorspace_2.0-3    \n",
       "[40] ragg_1.2.2           labeling_0.4.2       utf8_1.2.2          \n",
       "[43] munsell_0.5.0        crayon_1.5.1        "
      ]
     },
     "metadata": {},
     "output_type": "display_data"
    }
   ],
   "source": [
    "sessionInfo()"
   ]
  }
 ],
 "metadata": {
  "kernelspec": {
   "display_name": "R",
   "language": "R",
   "name": "ir"
  },
  "language_info": {
   "codemirror_mode": "r",
   "file_extension": ".r",
   "mimetype": "text/x-r-source",
   "name": "R",
   "pygments_lexer": "r",
   "version": "3.6.0"
  },
  "toc": {
   "base_numbering": 1,
   "nav_menu": {},
   "number_sections": true,
   "sideBar": true,
   "skip_h1_title": false,
   "title_cell": "Table of Contents",
   "title_sidebar": "Contents",
   "toc_cell": false,
   "toc_position": {
    "height": "calc(100% - 180px)",
    "left": "10px",
    "top": "150px",
    "width": "322px"
   },
   "toc_section_display": true,
   "toc_window_display": true
  }
 },
 "nbformat": 4,
 "nbformat_minor": 2
}
