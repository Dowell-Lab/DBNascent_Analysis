{
 "cells": [
  {
   "cell_type": "markdown",
   "metadata": {},
   "source": [
    "**Author :** Rutendo F. Sigauke\n",
    "\n",
    "**Input  :** \n",
    "\n",
    "1. Normalized counts\n",
    "           \n",
    "        - gene_bidir_tpm_allBidirs_filteredSamples.tsv.gz\n",
    "        \n",
    "2. Summary of normalized counts        \n",
    "\n",
    "        - gene_bidir_tpm_summary_allBidirs_filteredSamples.tsv.gz\n",
    "\n",
    "3. List of high QC samples\n",
    "        \n",
    "        - human_samples_QC_GC_protocol_filtered.tsv.gz\n",
    "        \n",
    "4. Full gene length counts\n",
    "\n",
    "        - counts_filt_gene_stranded_counts.txt\n",
    "        \n",
    "5. Bidirectional transcripts that DO NO OVERLAP genes\n",
    "\n",
    "        - hg38_tfit_dreg_bidirectionals_non_genes.bed\n",
    "        \n",
    "6. Bidirectional transcripts that OVERLAP genes\n",
    "\n",
    "        - hg38_tfit_dreg_bidirectionals_in_genes.bed\n",
    "\n",
    "\n",
    "**Output :**\n",
    "\n",
    "1. Subset of counts and transcripts\n",
    "\n",
    "        a. Intergenic: `genes_inter_bidir_filtered.tsv.gz`\n",
    "        b. Intragenic: `genes_intra_bidir_filtered.tsv.gz`"
   ]
  },
  {
   "cell_type": "markdown",
   "metadata": {},
   "source": [
    "# Libraries"
   ]
  },
  {
   "cell_type": "code",
   "execution_count": 1,
   "metadata": {},
   "outputs": [],
   "source": [
    "library(data.table) "
   ]
  },
  {
   "cell_type": "markdown",
   "metadata": {},
   "source": [
    "# Load data"
   ]
  },
  {
   "cell_type": "markdown",
   "metadata": {},
   "source": [
    "## Metadata"
   ]
  },
  {
   "cell_type": "code",
   "execution_count": 2,
   "metadata": {},
   "outputs": [],
   "source": [
    "hg38_high_qc_gc <- data.table::fread(\"/Users/rusi2317/projects/meta_analysis_qc/hg38/processed_data/counts/normalized/human_samples_QC_GC_protocol_filtered.tsv.gz\",\n",
    "                  sep='\\t')"
   ]
  },
  {
   "cell_type": "code",
   "execution_count": 3,
   "metadata": {},
   "outputs": [
    {
     "data": {
      "text/html": [
       "<table class=\"dataframe\">\n",
       "<caption>A data.frame: 19 × 2</caption>\n",
       "<thead>\n",
       "\t<tr><th scope=col>Var1</th><th scope=col>Freq</th></tr>\n",
       "\t<tr><th scope=col>&lt;fct&gt;</th><th scope=col>&lt;int&gt;</th></tr>\n",
       "</thead>\n",
       "<tbody>\n",
       "\t<tr><td>blood         </td><td>222</td></tr>\n",
       "\t<tr><td>bone          </td><td>  4</td></tr>\n",
       "\t<tr><td>brain         </td><td>  6</td></tr>\n",
       "\t<tr><td>breast        </td><td>159</td></tr>\n",
       "\t<tr><td>embryo        </td><td> 27</td></tr>\n",
       "\t<tr><td>eye           </td><td>  1</td></tr>\n",
       "\t<tr><td>heart         </td><td> 22</td></tr>\n",
       "\t<tr><td>intestine     </td><td> 47</td></tr>\n",
       "\t<tr><td>kidney        </td><td> 63</td></tr>\n",
       "\t<tr><td>liver         </td><td>  7</td></tr>\n",
       "\t<tr><td>lung          </td><td> 27</td></tr>\n",
       "\t<tr><td>multiple      </td><td> 10</td></tr>\n",
       "\t<tr><td>muscle        </td><td>  5</td></tr>\n",
       "\t<tr><td>ovary         </td><td>  5</td></tr>\n",
       "\t<tr><td>prostate      </td><td> 41</td></tr>\n",
       "\t<tr><td>skin          </td><td> 27</td></tr>\n",
       "\t<tr><td>testis        </td><td>  1</td></tr>\n",
       "\t<tr><td>umbilical cord</td><td> 19</td></tr>\n",
       "\t<tr><td>uterus        </td><td> 58</td></tr>\n",
       "</tbody>\n",
       "</table>\n"
      ],
      "text/latex": [
       "A data.frame: 19 × 2\n",
       "\\begin{tabular}{ll}\n",
       " Var1 & Freq\\\\\n",
       " <fct> & <int>\\\\\n",
       "\\hline\n",
       "\t blood          & 222\\\\\n",
       "\t bone           &   4\\\\\n",
       "\t brain          &   6\\\\\n",
       "\t breast         & 159\\\\\n",
       "\t embryo         &  27\\\\\n",
       "\t eye            &   1\\\\\n",
       "\t heart          &  22\\\\\n",
       "\t intestine      &  47\\\\\n",
       "\t kidney         &  63\\\\\n",
       "\t liver          &   7\\\\\n",
       "\t lung           &  27\\\\\n",
       "\t multiple       &  10\\\\\n",
       "\t muscle         &   5\\\\\n",
       "\t ovary          &   5\\\\\n",
       "\t prostate       &  41\\\\\n",
       "\t skin           &  27\\\\\n",
       "\t testis         &   1\\\\\n",
       "\t umbilical cord &  19\\\\\n",
       "\t uterus         &  58\\\\\n",
       "\\end{tabular}\n"
      ],
      "text/markdown": [
       "\n",
       "A data.frame: 19 × 2\n",
       "\n",
       "| Var1 &lt;fct&gt; | Freq &lt;int&gt; |\n",
       "|---|---|\n",
       "| blood          | 222 |\n",
       "| bone           |   4 |\n",
       "| brain          |   6 |\n",
       "| breast         | 159 |\n",
       "| embryo         |  27 |\n",
       "| eye            |   1 |\n",
       "| heart          |  22 |\n",
       "| intestine      |  47 |\n",
       "| kidney         |  63 |\n",
       "| liver          |   7 |\n",
       "| lung           |  27 |\n",
       "| multiple       |  10 |\n",
       "| muscle         |   5 |\n",
       "| ovary          |   5 |\n",
       "| prostate       |  41 |\n",
       "| skin           |  27 |\n",
       "| testis         |   1 |\n",
       "| umbilical cord |  19 |\n",
       "| uterus         |  58 |\n",
       "\n"
      ],
      "text/plain": [
       "   Var1           Freq\n",
       "1  blood          222 \n",
       "2  bone             4 \n",
       "3  brain            6 \n",
       "4  breast         159 \n",
       "5  embryo          27 \n",
       "6  eye              1 \n",
       "7  heart           22 \n",
       "8  intestine       47 \n",
       "9  kidney          63 \n",
       "10 liver            7 \n",
       "11 lung            27 \n",
       "12 multiple        10 \n",
       "13 muscle           5 \n",
       "14 ovary            5 \n",
       "15 prostate        41 \n",
       "16 skin            27 \n",
       "17 testis           1 \n",
       "18 umbilical cord  19 \n",
       "19 uterus          58 "
      ]
     },
     "metadata": {},
     "output_type": "display_data"
    }
   ],
   "source": [
    "as.data.frame(table(hg38_high_qc_gc$tissue))"
   ]
  },
  {
   "cell_type": "markdown",
   "metadata": {},
   "source": [
    "## Normalized counts"
   ]
  },
  {
   "cell_type": "code",
   "execution_count": 4,
   "metadata": {},
   "outputs": [],
   "source": [
    "##All bidirectionals Filtered samples\n",
    "gene_all_bidir_tpm_filtered <- data.table::fread(\"/Users/rusi2317/projects/meta_analysis_qc/hg38/processed_data/counts/normalized/gene_bidir_tpm_allBidirs_filteredSamples.tsv.gz\")\n",
    "gene_all_bidir_tpm_filtered_summary <- data.table::fread(\"/Users/rusi2317/projects/meta_analysis_qc/hg38/processed_data/counts/normalized/gene_bidir_tpm_summary_allBidirs_filteredSamples.tsv.gz\")"
   ]
  },
  {
   "cell_type": "code",
   "execution_count": 5,
   "metadata": {},
   "outputs": [
    {
     "data": {
      "text/html": [
       "<style>\n",
       ".list-inline {list-style: none; margin:0; padding: 0}\n",
       ".list-inline>li {display: inline-block}\n",
       ".list-inline>li:not(:last-child)::after {content: \"\\00b7\"; padding: 0 .5ex}\n",
       "</style>\n",
       "<ol class=list-inline><li>876410</li><li>757</li></ol>\n"
      ],
      "text/latex": [
       "\\begin{enumerate*}\n",
       "\\item 876410\n",
       "\\item 757\n",
       "\\end{enumerate*}\n"
      ],
      "text/markdown": [
       "1. 876410\n",
       "2. 757\n",
       "\n",
       "\n"
      ],
      "text/plain": [
       "[1] 876410    757"
      ]
     },
     "metadata": {},
     "output_type": "display_data"
    },
    {
     "data": {
      "text/html": [
       "<table class=\"dataframe\">\n",
       "<caption>A data.table: 3 × 757</caption>\n",
       "<thead>\n",
       "\t<tr><th scope=col>chrom</th><th scope=col>start</th><th scope=col>stop</th><th scope=col>gene_transcript</th><th scope=col>score</th><th scope=col>strand</th><th scope=col>SRR7266931</th><th scope=col>SRR7266932</th><th scope=col>SRR7266933</th><th scope=col>SRR7266934</th><th scope=col>⋯</th><th scope=col>SRR3713715</th><th scope=col>SRR3713716</th><th scope=col>SRR3713717</th><th scope=col>SRR3713718</th><th scope=col>SRR8483105</th><th scope=col>SRR8483106</th><th scope=col>SRR8483107</th><th scope=col>SRR8483108</th><th scope=col>SRR8483109</th><th scope=col>SRR8483110</th></tr>\n",
       "\t<tr><th scope=col>&lt;chr&gt;</th><th scope=col>&lt;int&gt;</th><th scope=col>&lt;int&gt;</th><th scope=col>&lt;chr&gt;</th><th scope=col>&lt;chr&gt;</th><th scope=col>&lt;chr&gt;</th><th scope=col>&lt;dbl&gt;</th><th scope=col>&lt;dbl&gt;</th><th scope=col>&lt;dbl&gt;</th><th scope=col>&lt;dbl&gt;</th><th scope=col>⋯</th><th scope=col>&lt;dbl&gt;</th><th scope=col>&lt;dbl&gt;</th><th scope=col>&lt;dbl&gt;</th><th scope=col>&lt;dbl&gt;</th><th scope=col>&lt;dbl&gt;</th><th scope=col>&lt;dbl&gt;</th><th scope=col>&lt;dbl&gt;</th><th scope=col>&lt;dbl&gt;</th><th scope=col>&lt;dbl&gt;</th><th scope=col>&lt;dbl&gt;</th></tr>\n",
       "</thead>\n",
       "<tbody>\n",
       "\t<tr><td>chr1</td><td>12623</td><td>14409</td><td>DDX11L1:NR_046018.2  </td><td>.</td><td>+</td><td>0.0000000</td><td>0.00000000</td><td>0.0000000</td><td>0.0000000</td><td>⋯</td><td>0.00000000</td><td>0.00000000</td><td>0.00000000</td><td>0.0000000</td><td>0.0000000</td><td>0.0000000</td><td>0.0000000</td><td>0.0000000</td><td>0.0000000</td><td>0.0000000</td></tr>\n",
       "\t<tr><td>chr1</td><td>14361</td><td>28620</td><td>WASH7P:NR_024540.1   </td><td>.</td><td>-</td><td>0.1844719</td><td>0.03814665</td><td>0.1945557</td><td>0.1415614</td><td>⋯</td><td>0.06812888</td><td>0.04399975</td><td>0.05040534</td><td>0.2144871</td><td>0.3700028</td><td>0.4193475</td><td>0.3418568</td><td>0.2917163</td><td>0.3737646</td><td>0.4307619</td></tr>\n",
       "\t<tr><td>chr1</td><td>17368</td><td>17436</td><td>MIR6859-1:NR_106918.1</td><td>.</td><td>-</td><td>0.0000000</td><td>0.00000000</td><td>0.0000000</td><td>0.0000000</td><td>⋯</td><td>0.00000000</td><td>0.00000000</td><td>0.00000000</td><td>0.0000000</td><td>0.0000000</td><td>0.0000000</td><td>0.0000000</td><td>0.0000000</td><td>0.0000000</td><td>0.0000000</td></tr>\n",
       "</tbody>\n",
       "</table>\n"
      ],
      "text/latex": [
       "A data.table: 3 × 757\n",
       "\\begin{tabular}{lllllllllllllllllllll}\n",
       " chrom & start & stop & gene\\_transcript & score & strand & SRR7266931 & SRR7266932 & SRR7266933 & SRR7266934 & ⋯ & SRR3713715 & SRR3713716 & SRR3713717 & SRR3713718 & SRR8483105 & SRR8483106 & SRR8483107 & SRR8483108 & SRR8483109 & SRR8483110\\\\\n",
       " <chr> & <int> & <int> & <chr> & <chr> & <chr> & <dbl> & <dbl> & <dbl> & <dbl> & ⋯ & <dbl> & <dbl> & <dbl> & <dbl> & <dbl> & <dbl> & <dbl> & <dbl> & <dbl> & <dbl>\\\\\n",
       "\\hline\n",
       "\t chr1 & 12623 & 14409 & DDX11L1:NR\\_046018.2   & . & + & 0.0000000 & 0.00000000 & 0.0000000 & 0.0000000 & ⋯ & 0.00000000 & 0.00000000 & 0.00000000 & 0.0000000 & 0.0000000 & 0.0000000 & 0.0000000 & 0.0000000 & 0.0000000 & 0.0000000\\\\\n",
       "\t chr1 & 14361 & 28620 & WASH7P:NR\\_024540.1    & . & - & 0.1844719 & 0.03814665 & 0.1945557 & 0.1415614 & ⋯ & 0.06812888 & 0.04399975 & 0.05040534 & 0.2144871 & 0.3700028 & 0.4193475 & 0.3418568 & 0.2917163 & 0.3737646 & 0.4307619\\\\\n",
       "\t chr1 & 17368 & 17436 & MIR6859-1:NR\\_106918.1 & . & - & 0.0000000 & 0.00000000 & 0.0000000 & 0.0000000 & ⋯ & 0.00000000 & 0.00000000 & 0.00000000 & 0.0000000 & 0.0000000 & 0.0000000 & 0.0000000 & 0.0000000 & 0.0000000 & 0.0000000\\\\\n",
       "\\end{tabular}\n"
      ],
      "text/markdown": [
       "\n",
       "A data.table: 3 × 757\n",
       "\n",
       "| chrom &lt;chr&gt; | start &lt;int&gt; | stop &lt;int&gt; | gene_transcript &lt;chr&gt; | score &lt;chr&gt; | strand &lt;chr&gt; | SRR7266931 &lt;dbl&gt; | SRR7266932 &lt;dbl&gt; | SRR7266933 &lt;dbl&gt; | SRR7266934 &lt;dbl&gt; | ⋯ ⋯ | SRR3713715 &lt;dbl&gt; | SRR3713716 &lt;dbl&gt; | SRR3713717 &lt;dbl&gt; | SRR3713718 &lt;dbl&gt; | SRR8483105 &lt;dbl&gt; | SRR8483106 &lt;dbl&gt; | SRR8483107 &lt;dbl&gt; | SRR8483108 &lt;dbl&gt; | SRR8483109 &lt;dbl&gt; | SRR8483110 &lt;dbl&gt; |\n",
       "|---|---|---|---|---|---|---|---|---|---|---|---|---|---|---|---|---|---|---|---|---|\n",
       "| chr1 | 12623 | 14409 | DDX11L1:NR_046018.2   | . | + | 0.0000000 | 0.00000000 | 0.0000000 | 0.0000000 | ⋯ | 0.00000000 | 0.00000000 | 0.00000000 | 0.0000000 | 0.0000000 | 0.0000000 | 0.0000000 | 0.0000000 | 0.0000000 | 0.0000000 |\n",
       "| chr1 | 14361 | 28620 | WASH7P:NR_024540.1    | . | - | 0.1844719 | 0.03814665 | 0.1945557 | 0.1415614 | ⋯ | 0.06812888 | 0.04399975 | 0.05040534 | 0.2144871 | 0.3700028 | 0.4193475 | 0.3418568 | 0.2917163 | 0.3737646 | 0.4307619 |\n",
       "| chr1 | 17368 | 17436 | MIR6859-1:NR_106918.1 | . | - | 0.0000000 | 0.00000000 | 0.0000000 | 0.0000000 | ⋯ | 0.00000000 | 0.00000000 | 0.00000000 | 0.0000000 | 0.0000000 | 0.0000000 | 0.0000000 | 0.0000000 | 0.0000000 | 0.0000000 |\n",
       "\n"
      ],
      "text/plain": [
       "  chrom start stop  gene_transcript       score strand SRR7266931 SRR7266932\n",
       "1 chr1  12623 14409 DDX11L1:NR_046018.2   .     +      0.0000000  0.00000000\n",
       "2 chr1  14361 28620 WASH7P:NR_024540.1    .     -      0.1844719  0.03814665\n",
       "3 chr1  17368 17436 MIR6859-1:NR_106918.1 .     -      0.0000000  0.00000000\n",
       "  SRR7266933 SRR7266934 ⋯ SRR3713715 SRR3713716 SRR3713717 SRR3713718\n",
       "1 0.0000000  0.0000000  ⋯ 0.00000000 0.00000000 0.00000000 0.0000000 \n",
       "2 0.1945557  0.1415614  ⋯ 0.06812888 0.04399975 0.05040534 0.2144871 \n",
       "3 0.0000000  0.0000000  ⋯ 0.00000000 0.00000000 0.00000000 0.0000000 \n",
       "  SRR8483105 SRR8483106 SRR8483107 SRR8483108 SRR8483109 SRR8483110\n",
       "1 0.0000000  0.0000000  0.0000000  0.0000000  0.0000000  0.0000000 \n",
       "2 0.3700028  0.4193475  0.3418568  0.2917163  0.3737646  0.4307619 \n",
       "3 0.0000000  0.0000000  0.0000000  0.0000000  0.0000000  0.0000000 "
      ]
     },
     "metadata": {},
     "output_type": "display_data"
    }
   ],
   "source": [
    "dim(gene_all_bidir_tpm_filtered)\n",
    "head(gene_all_bidir_tpm_filtered, 3)"
   ]
  },
  {
   "cell_type": "markdown",
   "metadata": {},
   "source": [
    "## Full gene counts"
   ]
  },
  {
   "cell_type": "code",
   "execution_count": 6,
   "metadata": {
    "scrolled": true
   },
   "outputs": [
    {
     "data": {
      "text/html": [
       "<style>\n",
       ".list-inline {list-style: none; margin:0; padding: 0}\n",
       ".list-inline>li {display: inline-block}\n",
       ".list-inline>li:not(:last-child)::after {content: \"\\00b7\"; padding: 0 .5ex}\n",
       "</style>\n",
       "<ol class=list-inline><li>28889</li><li>1651</li></ol>\n"
      ],
      "text/latex": [
       "\\begin{enumerate*}\n",
       "\\item 28889\n",
       "\\item 1651\n",
       "\\end{enumerate*}\n"
      ],
      "text/markdown": [
       "1. 28889\n",
       "2. 1651\n",
       "\n",
       "\n"
      ],
      "text/plain": [
       "[1] 28889  1651"
      ]
     },
     "metadata": {},
     "output_type": "display_data"
    },
    {
     "data": {
      "text/html": [
       "<table class=\"dataframe\">\n",
       "<caption>A data.table: 3 × 1651</caption>\n",
       "<thead>\n",
       "\t<tr><th scope=col>chrom</th><th scope=col>start</th><th scope=col>stop</th><th scope=col>gene_transcript</th><th scope=col>score</th><th scope=col>strand</th><th scope=col>SRR7266931</th><th scope=col>SRR7266932</th><th scope=col>SRR7266933</th><th scope=col>SRR7266934</th><th scope=col>⋯</th><th scope=col>SRR3713716</th><th scope=col>SRR3713717</th><th scope=col>SRR3713718</th><th scope=col>SRR3713719</th><th scope=col>SRR8483105</th><th scope=col>SRR8483106</th><th scope=col>SRR8483107</th><th scope=col>SRR8483108</th><th scope=col>SRR8483109</th><th scope=col>SRR8483110</th></tr>\n",
       "\t<tr><th scope=col>&lt;chr&gt;</th><th scope=col>&lt;int&gt;</th><th scope=col>&lt;int&gt;</th><th scope=col>&lt;chr&gt;</th><th scope=col>&lt;chr&gt;</th><th scope=col>&lt;chr&gt;</th><th scope=col>&lt;int&gt;</th><th scope=col>&lt;int&gt;</th><th scope=col>&lt;int&gt;</th><th scope=col>&lt;int&gt;</th><th scope=col>⋯</th><th scope=col>&lt;int&gt;</th><th scope=col>&lt;int&gt;</th><th scope=col>&lt;int&gt;</th><th scope=col>&lt;int&gt;</th><th scope=col>&lt;int&gt;</th><th scope=col>&lt;int&gt;</th><th scope=col>&lt;int&gt;</th><th scope=col>&lt;int&gt;</th><th scope=col>&lt;int&gt;</th><th scope=col>&lt;int&gt;</th></tr>\n",
       "</thead>\n",
       "<tbody>\n",
       "\t<tr><td>chr1</td><td>11873</td><td>14409</td><td>DDX11L1:NR_046018.2  </td><td>.</td><td>+</td><td> 0</td><td>0</td><td> 0</td><td> 0</td><td>⋯</td><td> 0</td><td> 0</td><td> 0</td><td> 0</td><td> 0</td><td> 0</td><td> 0</td><td> 0</td><td> 0</td><td> 0</td></tr>\n",
       "\t<tr><td>chr1</td><td>14361</td><td>29370</td><td>WASH7P:NR_024540.1   </td><td>.</td><td>-</td><td>43</td><td>4</td><td>45</td><td>34</td><td>⋯</td><td>12</td><td>10</td><td>38</td><td>30</td><td>42</td><td>62</td><td>53</td><td>44</td><td>49</td><td>61</td></tr>\n",
       "\t<tr><td>chr1</td><td>17368</td><td>17436</td><td>MIR6859-1:NR_106918.1</td><td>.</td><td>-</td><td> 0</td><td>0</td><td> 0</td><td> 0</td><td>⋯</td><td> 0</td><td> 0</td><td> 0</td><td> 0</td><td> 0</td><td> 0</td><td> 0</td><td> 0</td><td> 0</td><td> 0</td></tr>\n",
       "</tbody>\n",
       "</table>\n"
      ],
      "text/latex": [
       "A data.table: 3 × 1651\n",
       "\\begin{tabular}{lllllllllllllllllllll}\n",
       " chrom & start & stop & gene\\_transcript & score & strand & SRR7266931 & SRR7266932 & SRR7266933 & SRR7266934 & ⋯ & SRR3713716 & SRR3713717 & SRR3713718 & SRR3713719 & SRR8483105 & SRR8483106 & SRR8483107 & SRR8483108 & SRR8483109 & SRR8483110\\\\\n",
       " <chr> & <int> & <int> & <chr> & <chr> & <chr> & <int> & <int> & <int> & <int> & ⋯ & <int> & <int> & <int> & <int> & <int> & <int> & <int> & <int> & <int> & <int>\\\\\n",
       "\\hline\n",
       "\t chr1 & 11873 & 14409 & DDX11L1:NR\\_046018.2   & . & + &  0 & 0 &  0 &  0 & ⋯ &  0 &  0 &  0 &  0 &  0 &  0 &  0 &  0 &  0 &  0\\\\\n",
       "\t chr1 & 14361 & 29370 & WASH7P:NR\\_024540.1    & . & - & 43 & 4 & 45 & 34 & ⋯ & 12 & 10 & 38 & 30 & 42 & 62 & 53 & 44 & 49 & 61\\\\\n",
       "\t chr1 & 17368 & 17436 & MIR6859-1:NR\\_106918.1 & . & - &  0 & 0 &  0 &  0 & ⋯ &  0 &  0 &  0 &  0 &  0 &  0 &  0 &  0 &  0 &  0\\\\\n",
       "\\end{tabular}\n"
      ],
      "text/markdown": [
       "\n",
       "A data.table: 3 × 1651\n",
       "\n",
       "| chrom &lt;chr&gt; | start &lt;int&gt; | stop &lt;int&gt; | gene_transcript &lt;chr&gt; | score &lt;chr&gt; | strand &lt;chr&gt; | SRR7266931 &lt;int&gt; | SRR7266932 &lt;int&gt; | SRR7266933 &lt;int&gt; | SRR7266934 &lt;int&gt; | ⋯ ⋯ | SRR3713716 &lt;int&gt; | SRR3713717 &lt;int&gt; | SRR3713718 &lt;int&gt; | SRR3713719 &lt;int&gt; | SRR8483105 &lt;int&gt; | SRR8483106 &lt;int&gt; | SRR8483107 &lt;int&gt; | SRR8483108 &lt;int&gt; | SRR8483109 &lt;int&gt; | SRR8483110 &lt;int&gt; |\n",
       "|---|---|---|---|---|---|---|---|---|---|---|---|---|---|---|---|---|---|---|---|---|\n",
       "| chr1 | 11873 | 14409 | DDX11L1:NR_046018.2   | . | + |  0 | 0 |  0 |  0 | ⋯ |  0 |  0 |  0 |  0 |  0 |  0 |  0 |  0 |  0 |  0 |\n",
       "| chr1 | 14361 | 29370 | WASH7P:NR_024540.1    | . | - | 43 | 4 | 45 | 34 | ⋯ | 12 | 10 | 38 | 30 | 42 | 62 | 53 | 44 | 49 | 61 |\n",
       "| chr1 | 17368 | 17436 | MIR6859-1:NR_106918.1 | . | - |  0 | 0 |  0 |  0 | ⋯ |  0 |  0 |  0 |  0 |  0 |  0 |  0 |  0 |  0 |  0 |\n",
       "\n"
      ],
      "text/plain": [
       "  chrom start stop  gene_transcript       score strand SRR7266931 SRR7266932\n",
       "1 chr1  11873 14409 DDX11L1:NR_046018.2   .     +       0         0         \n",
       "2 chr1  14361 29370 WASH7P:NR_024540.1    .     -      43         4         \n",
       "3 chr1  17368 17436 MIR6859-1:NR_106918.1 .     -       0         0         \n",
       "  SRR7266933 SRR7266934 ⋯ SRR3713716 SRR3713717 SRR3713718 SRR3713719\n",
       "1  0          0         ⋯  0          0          0          0        \n",
       "2 45         34         ⋯ 12         10         38         30        \n",
       "3  0          0         ⋯  0          0          0          0        \n",
       "  SRR8483105 SRR8483106 SRR8483107 SRR8483108 SRR8483109 SRR8483110\n",
       "1  0          0          0          0          0          0        \n",
       "2 42         62         53         44         49         61        \n",
       "3  0          0          0          0          0          0        "
      ]
     },
     "metadata": {},
     "output_type": "display_data"
    }
   ],
   "source": [
    "counts_genes_full <- data.table::fread('/Users/rusi2317/projects/meta_analysis_qc/hg38/processed_data/counts/genes/counts_filt_gene_stranded_counts.txt',\n",
    "                                 sep='\\t')\n",
    "dim(counts_genes_full)\n",
    "head(counts_genes_full, 3)"
   ]
  },
  {
   "cell_type": "markdown",
   "metadata": {},
   "source": [
    "# Subset transcripts"
   ]
  },
  {
   "cell_type": "markdown",
   "metadata": {},
   "source": [
    "## Intergenic bidirectionals "
   ]
  },
  {
   "cell_type": "code",
   "execution_count": 7,
   "metadata": {},
   "outputs": [
    {
     "data": {
      "text/html": [
       "<style>\n",
       ".list-inline {list-style: none; margin:0; padding: 0}\n",
       ".list-inline>li {display: inline-block}\n",
       ".list-inline>li:not(:last-child)::after {content: \"\\00b7\"; padding: 0 .5ex}\n",
       "</style>\n",
       "<ol class=list-inline><li>352645</li><li>6</li></ol>\n"
      ],
      "text/latex": [
       "\\begin{enumerate*}\n",
       "\\item 352645\n",
       "\\item 6\n",
       "\\end{enumerate*}\n"
      ],
      "text/markdown": [
       "1. 352645\n",
       "2. 6\n",
       "\n",
       "\n"
      ],
      "text/plain": [
       "[1] 352645      6"
      ]
     },
     "metadata": {},
     "output_type": "display_data"
    },
    {
     "data": {
      "text/html": [
       "<table class=\"dataframe\">\n",
       "<caption>A data.table: 3 × 6</caption>\n",
       "<thead>\n",
       "\t<tr><th scope=col>chrom</th><th scope=col>start</th><th scope=col>end</th><th scope=col>bidirs</th><th scope=col>score</th><th scope=col>strand</th></tr>\n",
       "\t<tr><th scope=col>&lt;chr&gt;</th><th scope=col>&lt;int&gt;</th><th scope=col>&lt;int&gt;</th><th scope=col>&lt;chr&gt;</th><th scope=col>&lt;int&gt;</th><th scope=col>&lt;chr&gt;</th></tr>\n",
       "</thead>\n",
       "<tbody>\n",
       "\t<tr><td>chr1</td><td>3917</td><td>4919</td><td>chr1:3917-4919</td><td>14</td><td>.</td></tr>\n",
       "\t<tr><td>chr1</td><td>5632</td><td>6042</td><td>chr1:5632-6042</td><td>14</td><td>.</td></tr>\n",
       "\t<tr><td>chr1</td><td>6132</td><td>6486</td><td>chr1:6132-6486</td><td> 7</td><td>.</td></tr>\n",
       "</tbody>\n",
       "</table>\n"
      ],
      "text/latex": [
       "A data.table: 3 × 6\n",
       "\\begin{tabular}{llllll}\n",
       " chrom & start & end & bidirs & score & strand\\\\\n",
       " <chr> & <int> & <int> & <chr> & <int> & <chr>\\\\\n",
       "\\hline\n",
       "\t chr1 & 3917 & 4919 & chr1:3917-4919 & 14 & .\\\\\n",
       "\t chr1 & 5632 & 6042 & chr1:5632-6042 & 14 & .\\\\\n",
       "\t chr1 & 6132 & 6486 & chr1:6132-6486 &  7 & .\\\\\n",
       "\\end{tabular}\n"
      ],
      "text/markdown": [
       "\n",
       "A data.table: 3 × 6\n",
       "\n",
       "| chrom &lt;chr&gt; | start &lt;int&gt; | end &lt;int&gt; | bidirs &lt;chr&gt; | score &lt;int&gt; | strand &lt;chr&gt; |\n",
       "|---|---|---|---|---|---|\n",
       "| chr1 | 3917 | 4919 | chr1:3917-4919 | 14 | . |\n",
       "| chr1 | 5632 | 6042 | chr1:5632-6042 | 14 | . |\n",
       "| chr1 | 6132 | 6486 | chr1:6132-6486 |  7 | . |\n",
       "\n"
      ],
      "text/plain": [
       "  chrom start end  bidirs         score strand\n",
       "1 chr1  3917  4919 chr1:3917-4919 14    .     \n",
       "2 chr1  5632  6042 chr1:5632-6042 14    .     \n",
       "3 chr1  6132  6486 chr1:6132-6486  7    .     "
      ]
     },
     "metadata": {},
     "output_type": "display_data"
    }
   ],
   "source": [
    "bidir_anno_non_genes <- data.table::fread('/scratch/Users/rusi2317/projects/meta_analysis_qc/hg38/annotations/hg38_tfit_dreg_bidirectionals_non_genes.bed',\n",
    "                                  sep='\\t')\n",
    "colnames(bidir_anno_non_genes) <- c('chrom','start','end','bidirs','score','strand')\n",
    "bidir_anno_non_genes$bidirs <- paste0(bidir_anno_non_genes$chrom,':',\n",
    "                                     bidir_anno_non_genes$start,'-',\n",
    "                                     bidir_anno_non_genes$end)\n",
    "dim(bidir_anno_non_genes)\n",
    "head(bidir_anno_non_genes, 3)"
   ]
  },
  {
   "cell_type": "code",
   "execution_count": 8,
   "metadata": {},
   "outputs": [
    {
     "data": {
      "text/html": [
       "<style>\n",
       ".list-inline {list-style: none; margin:0; padding: 0}\n",
       ".list-inline>li {display: inline-block}\n",
       ".list-inline>li:not(:last-child)::after {content: \"\\00b7\"; padding: 0 .5ex}\n",
       "</style>\n",
       "<ol class=list-inline><li>352645</li><li>757</li></ol>\n"
      ],
      "text/latex": [
       "\\begin{enumerate*}\n",
       "\\item 352645\n",
       "\\item 757\n",
       "\\end{enumerate*}\n"
      ],
      "text/markdown": [
       "1. 352645\n",
       "2. 757\n",
       "\n",
       "\n"
      ],
      "text/plain": [
       "[1] 352645    757"
      ]
     },
     "metadata": {},
     "output_type": "display_data"
    },
    {
     "data": {
      "text/html": [
       "<table class=\"dataframe\">\n",
       "<caption>A data.table: 3 × 757</caption>\n",
       "<thead>\n",
       "\t<tr><th scope=col>chrom</th><th scope=col>start</th><th scope=col>stop</th><th scope=col>gene_transcript</th><th scope=col>score</th><th scope=col>strand</th><th scope=col>SRR7266931</th><th scope=col>SRR7266932</th><th scope=col>SRR7266933</th><th scope=col>SRR7266934</th><th scope=col>⋯</th><th scope=col>SRR3713715</th><th scope=col>SRR3713716</th><th scope=col>SRR3713717</th><th scope=col>SRR3713718</th><th scope=col>SRR8483105</th><th scope=col>SRR8483106</th><th scope=col>SRR8483107</th><th scope=col>SRR8483108</th><th scope=col>SRR8483109</th><th scope=col>SRR8483110</th></tr>\n",
       "\t<tr><th scope=col>&lt;chr&gt;</th><th scope=col>&lt;int&gt;</th><th scope=col>&lt;int&gt;</th><th scope=col>&lt;chr&gt;</th><th scope=col>&lt;chr&gt;</th><th scope=col>&lt;chr&gt;</th><th scope=col>&lt;dbl&gt;</th><th scope=col>&lt;dbl&gt;</th><th scope=col>&lt;dbl&gt;</th><th scope=col>&lt;dbl&gt;</th><th scope=col>⋯</th><th scope=col>&lt;dbl&gt;</th><th scope=col>&lt;dbl&gt;</th><th scope=col>&lt;dbl&gt;</th><th scope=col>&lt;dbl&gt;</th><th scope=col>&lt;dbl&gt;</th><th scope=col>&lt;dbl&gt;</th><th scope=col>&lt;dbl&gt;</th><th scope=col>&lt;dbl&gt;</th><th scope=col>&lt;dbl&gt;</th><th scope=col>&lt;dbl&gt;</th></tr>\n",
       "</thead>\n",
       "<tbody>\n",
       "\t<tr><td>chr1</td><td>3917</td><td>4919</td><td>chr1:3917-4919</td><td>14</td><td>.</td><td>0</td><td>0</td><td>0</td><td>0</td><td>⋯</td><td>0</td><td>0</td><td>0</td><td>0</td><td>0</td><td>0</td><td>0</td><td>0</td><td>0</td><td>0</td></tr>\n",
       "\t<tr><td>chr1</td><td>5632</td><td>6042</td><td>chr1:5632-6042</td><td>14</td><td>.</td><td>0</td><td>0</td><td>0</td><td>0</td><td>⋯</td><td>0</td><td>0</td><td>0</td><td>0</td><td>0</td><td>0</td><td>0</td><td>0</td><td>0</td><td>0</td></tr>\n",
       "\t<tr><td>chr1</td><td>6132</td><td>6486</td><td>chr1:6132-6486</td><td>7 </td><td>.</td><td>0</td><td>0</td><td>0</td><td>0</td><td>⋯</td><td>0</td><td>0</td><td>0</td><td>0</td><td>0</td><td>0</td><td>0</td><td>0</td><td>0</td><td>0</td></tr>\n",
       "</tbody>\n",
       "</table>\n"
      ],
      "text/latex": [
       "A data.table: 3 × 757\n",
       "\\begin{tabular}{lllllllllllllllllllll}\n",
       " chrom & start & stop & gene\\_transcript & score & strand & SRR7266931 & SRR7266932 & SRR7266933 & SRR7266934 & ⋯ & SRR3713715 & SRR3713716 & SRR3713717 & SRR3713718 & SRR8483105 & SRR8483106 & SRR8483107 & SRR8483108 & SRR8483109 & SRR8483110\\\\\n",
       " <chr> & <int> & <int> & <chr> & <chr> & <chr> & <dbl> & <dbl> & <dbl> & <dbl> & ⋯ & <dbl> & <dbl> & <dbl> & <dbl> & <dbl> & <dbl> & <dbl> & <dbl> & <dbl> & <dbl>\\\\\n",
       "\\hline\n",
       "\t chr1 & 3917 & 4919 & chr1:3917-4919 & 14 & . & 0 & 0 & 0 & 0 & ⋯ & 0 & 0 & 0 & 0 & 0 & 0 & 0 & 0 & 0 & 0\\\\\n",
       "\t chr1 & 5632 & 6042 & chr1:5632-6042 & 14 & . & 0 & 0 & 0 & 0 & ⋯ & 0 & 0 & 0 & 0 & 0 & 0 & 0 & 0 & 0 & 0\\\\\n",
       "\t chr1 & 6132 & 6486 & chr1:6132-6486 & 7  & . & 0 & 0 & 0 & 0 & ⋯ & 0 & 0 & 0 & 0 & 0 & 0 & 0 & 0 & 0 & 0\\\\\n",
       "\\end{tabular}\n"
      ],
      "text/markdown": [
       "\n",
       "A data.table: 3 × 757\n",
       "\n",
       "| chrom &lt;chr&gt; | start &lt;int&gt; | stop &lt;int&gt; | gene_transcript &lt;chr&gt; | score &lt;chr&gt; | strand &lt;chr&gt; | SRR7266931 &lt;dbl&gt; | SRR7266932 &lt;dbl&gt; | SRR7266933 &lt;dbl&gt; | SRR7266934 &lt;dbl&gt; | ⋯ ⋯ | SRR3713715 &lt;dbl&gt; | SRR3713716 &lt;dbl&gt; | SRR3713717 &lt;dbl&gt; | SRR3713718 &lt;dbl&gt; | SRR8483105 &lt;dbl&gt; | SRR8483106 &lt;dbl&gt; | SRR8483107 &lt;dbl&gt; | SRR8483108 &lt;dbl&gt; | SRR8483109 &lt;dbl&gt; | SRR8483110 &lt;dbl&gt; |\n",
       "|---|---|---|---|---|---|---|---|---|---|---|---|---|---|---|---|---|---|---|---|---|\n",
       "| chr1 | 3917 | 4919 | chr1:3917-4919 | 14 | . | 0 | 0 | 0 | 0 | ⋯ | 0 | 0 | 0 | 0 | 0 | 0 | 0 | 0 | 0 | 0 |\n",
       "| chr1 | 5632 | 6042 | chr1:5632-6042 | 14 | . | 0 | 0 | 0 | 0 | ⋯ | 0 | 0 | 0 | 0 | 0 | 0 | 0 | 0 | 0 | 0 |\n",
       "| chr1 | 6132 | 6486 | chr1:6132-6486 | 7  | . | 0 | 0 | 0 | 0 | ⋯ | 0 | 0 | 0 | 0 | 0 | 0 | 0 | 0 | 0 | 0 |\n",
       "\n"
      ],
      "text/plain": [
       "  chrom start stop gene_transcript score strand SRR7266931 SRR7266932\n",
       "1 chr1  3917  4919 chr1:3917-4919  14    .      0          0         \n",
       "2 chr1  5632  6042 chr1:5632-6042  14    .      0          0         \n",
       "3 chr1  6132  6486 chr1:6132-6486  7     .      0          0         \n",
       "  SRR7266933 SRR7266934 ⋯ SRR3713715 SRR3713716 SRR3713717 SRR3713718\n",
       "1 0          0          ⋯ 0          0          0          0         \n",
       "2 0          0          ⋯ 0          0          0          0         \n",
       "3 0          0          ⋯ 0          0          0          0         \n",
       "  SRR8483105 SRR8483106 SRR8483107 SRR8483108 SRR8483109 SRR8483110\n",
       "1 0          0          0          0          0          0         \n",
       "2 0          0          0          0          0          0         \n",
       "3 0          0          0          0          0          0         "
      ]
     },
     "metadata": {},
     "output_type": "display_data"
    },
    {
     "data": {
      "text/html": [
       "<table class=\"dataframe\">\n",
       "<caption>A data.table: 3 × 757</caption>\n",
       "<thead>\n",
       "\t<tr><th scope=col>chrom</th><th scope=col>start</th><th scope=col>stop</th><th scope=col>gene_transcript</th><th scope=col>score</th><th scope=col>strand</th><th scope=col>SRR7266931</th><th scope=col>SRR7266932</th><th scope=col>SRR7266933</th><th scope=col>SRR7266934</th><th scope=col>⋯</th><th scope=col>SRR3713715</th><th scope=col>SRR3713716</th><th scope=col>SRR3713717</th><th scope=col>SRR3713718</th><th scope=col>SRR8483105</th><th scope=col>SRR8483106</th><th scope=col>SRR8483107</th><th scope=col>SRR8483108</th><th scope=col>SRR8483109</th><th scope=col>SRR8483110</th></tr>\n",
       "\t<tr><th scope=col>&lt;chr&gt;</th><th scope=col>&lt;int&gt;</th><th scope=col>&lt;int&gt;</th><th scope=col>&lt;chr&gt;</th><th scope=col>&lt;chr&gt;</th><th scope=col>&lt;chr&gt;</th><th scope=col>&lt;dbl&gt;</th><th scope=col>&lt;dbl&gt;</th><th scope=col>&lt;dbl&gt;</th><th scope=col>&lt;dbl&gt;</th><th scope=col>⋯</th><th scope=col>&lt;dbl&gt;</th><th scope=col>&lt;dbl&gt;</th><th scope=col>&lt;dbl&gt;</th><th scope=col>&lt;dbl&gt;</th><th scope=col>&lt;dbl&gt;</th><th scope=col>&lt;dbl&gt;</th><th scope=col>&lt;dbl&gt;</th><th scope=col>&lt;dbl&gt;</th><th scope=col>&lt;dbl&gt;</th><th scope=col>&lt;dbl&gt;</th></tr>\n",
       "</thead>\n",
       "<tbody>\n",
       "\t<tr><td>chrY</td><td>56881721</td><td>56881941</td><td>chrY:56881721-56881941</td><td>3</td><td>.</td><td>0</td><td>0</td><td>0</td><td>0</td><td>⋯</td><td>0</td><td>0</td><td>0</td><td>0</td><td>0</td><td>0</td><td>0.4161938</td><td>0</td><td>0</td><td>0</td></tr>\n",
       "\t<tr><td>chrY</td><td>56883158</td><td>56883488</td><td>chrY:56883158-56883488</td><td>2</td><td>.</td><td>0</td><td>0</td><td>0</td><td>0</td><td>⋯</td><td>0</td><td>0</td><td>0</td><td>0</td><td>0</td><td>0</td><td>0.0000000</td><td>0</td><td>0</td><td>0</td></tr>\n",
       "\t<tr><td>chrY</td><td>56884695</td><td>56885095</td><td>chrY:56884695-56885095</td><td>2</td><td>.</td><td>0</td><td>0</td><td>0</td><td>0</td><td>⋯</td><td>0</td><td>0</td><td>0</td><td>0</td><td>0</td><td>0</td><td>0.0000000</td><td>0</td><td>0</td><td>0</td></tr>\n",
       "</tbody>\n",
       "</table>\n"
      ],
      "text/latex": [
       "A data.table: 3 × 757\n",
       "\\begin{tabular}{lllllllllllllllllllll}\n",
       " chrom & start & stop & gene\\_transcript & score & strand & SRR7266931 & SRR7266932 & SRR7266933 & SRR7266934 & ⋯ & SRR3713715 & SRR3713716 & SRR3713717 & SRR3713718 & SRR8483105 & SRR8483106 & SRR8483107 & SRR8483108 & SRR8483109 & SRR8483110\\\\\n",
       " <chr> & <int> & <int> & <chr> & <chr> & <chr> & <dbl> & <dbl> & <dbl> & <dbl> & ⋯ & <dbl> & <dbl> & <dbl> & <dbl> & <dbl> & <dbl> & <dbl> & <dbl> & <dbl> & <dbl>\\\\\n",
       "\\hline\n",
       "\t chrY & 56881721 & 56881941 & chrY:56881721-56881941 & 3 & . & 0 & 0 & 0 & 0 & ⋯ & 0 & 0 & 0 & 0 & 0 & 0 & 0.4161938 & 0 & 0 & 0\\\\\n",
       "\t chrY & 56883158 & 56883488 & chrY:56883158-56883488 & 2 & . & 0 & 0 & 0 & 0 & ⋯ & 0 & 0 & 0 & 0 & 0 & 0 & 0.0000000 & 0 & 0 & 0\\\\\n",
       "\t chrY & 56884695 & 56885095 & chrY:56884695-56885095 & 2 & . & 0 & 0 & 0 & 0 & ⋯ & 0 & 0 & 0 & 0 & 0 & 0 & 0.0000000 & 0 & 0 & 0\\\\\n",
       "\\end{tabular}\n"
      ],
      "text/markdown": [
       "\n",
       "A data.table: 3 × 757\n",
       "\n",
       "| chrom &lt;chr&gt; | start &lt;int&gt; | stop &lt;int&gt; | gene_transcript &lt;chr&gt; | score &lt;chr&gt; | strand &lt;chr&gt; | SRR7266931 &lt;dbl&gt; | SRR7266932 &lt;dbl&gt; | SRR7266933 &lt;dbl&gt; | SRR7266934 &lt;dbl&gt; | ⋯ ⋯ | SRR3713715 &lt;dbl&gt; | SRR3713716 &lt;dbl&gt; | SRR3713717 &lt;dbl&gt; | SRR3713718 &lt;dbl&gt; | SRR8483105 &lt;dbl&gt; | SRR8483106 &lt;dbl&gt; | SRR8483107 &lt;dbl&gt; | SRR8483108 &lt;dbl&gt; | SRR8483109 &lt;dbl&gt; | SRR8483110 &lt;dbl&gt; |\n",
       "|---|---|---|---|---|---|---|---|---|---|---|---|---|---|---|---|---|---|---|---|---|\n",
       "| chrY | 56881721 | 56881941 | chrY:56881721-56881941 | 3 | . | 0 | 0 | 0 | 0 | ⋯ | 0 | 0 | 0 | 0 | 0 | 0 | 0.4161938 | 0 | 0 | 0 |\n",
       "| chrY | 56883158 | 56883488 | chrY:56883158-56883488 | 2 | . | 0 | 0 | 0 | 0 | ⋯ | 0 | 0 | 0 | 0 | 0 | 0 | 0.0000000 | 0 | 0 | 0 |\n",
       "| chrY | 56884695 | 56885095 | chrY:56884695-56885095 | 2 | . | 0 | 0 | 0 | 0 | ⋯ | 0 | 0 | 0 | 0 | 0 | 0 | 0.0000000 | 0 | 0 | 0 |\n",
       "\n"
      ],
      "text/plain": [
       "  chrom start    stop     gene_transcript        score strand SRR7266931\n",
       "1 chrY  56881721 56881941 chrY:56881721-56881941 3     .      0         \n",
       "2 chrY  56883158 56883488 chrY:56883158-56883488 2     .      0         \n",
       "3 chrY  56884695 56885095 chrY:56884695-56885095 2     .      0         \n",
       "  SRR7266932 SRR7266933 SRR7266934 ⋯ SRR3713715 SRR3713716 SRR3713717\n",
       "1 0          0          0          ⋯ 0          0          0         \n",
       "2 0          0          0          ⋯ 0          0          0         \n",
       "3 0          0          0          ⋯ 0          0          0         \n",
       "  SRR3713718 SRR8483105 SRR8483106 SRR8483107 SRR8483108 SRR8483109 SRR8483110\n",
       "1 0          0          0          0.4161938  0          0          0         \n",
       "2 0          0          0          0.0000000  0          0          0         \n",
       "3 0          0          0          0.0000000  0          0          0         "
      ]
     },
     "metadata": {},
     "output_type": "display_data"
    }
   ],
   "source": [
    "bidir_tpm_intergenic <- gene_all_bidir_tpm_filtered[gene_all_bidir_tpm_filtered$gene_transcript %in%\n",
    "                                                      unique(bidir_anno_non_genes$bidirs) , ] \n",
    "dim(bidir_tpm_intergenic)\n",
    "head(bidir_tpm_intergenic, 3)\n",
    "tail(bidir_tpm_intergenic, 3)"
   ]
  },
  {
   "cell_type": "code",
   "execution_count": 9,
   "metadata": {
    "scrolled": true
   },
   "outputs": [
    {
     "data": {
      "text/html": [
       "352645"
      ],
      "text/latex": [
       "352645"
      ],
      "text/markdown": [
       "352645"
      ],
      "text/plain": [
       "[1] 352645"
      ]
     },
     "metadata": {},
     "output_type": "display_data"
    },
    {
     "data": {
      "text/html": [
       "352645"
      ],
      "text/latex": [
       "352645"
      ],
      "text/markdown": [
       "352645"
      ],
      "text/plain": [
       "[1] 352645"
      ]
     },
     "metadata": {},
     "output_type": "display_data"
    }
   ],
   "source": [
    "length(bidir_tpm_intergenic$gene_transcript)\n",
    "length(unique(bidir_tpm_intergenic$gene_transcript))"
   ]
  },
  {
   "cell_type": "markdown",
   "metadata": {},
   "source": [
    "## Intragenic bidirectionals "
   ]
  },
  {
   "cell_type": "code",
   "execution_count": 10,
   "metadata": {},
   "outputs": [
    {
     "name": "stdout",
     "output_type": "stream",
     "text": [
      "[1] \"Number of overlaps: 873393\"\n",
      "[1] \"Unique bidirectionals overlapping: 494876\"\n"
     ]
    },
    {
     "data": {
      "text/html": [
       "<table class=\"dataframe\">\n",
       "<caption>A data.table: 3 × 13</caption>\n",
       "<thead>\n",
       "\t<tr><th scope=col>bidir_chrom</th><th scope=col>bidir_start</th><th scope=col>bidir_end</th><th scope=col>bidir_id</th><th scope=col>bidir_score</th><th scope=col>bidir_strand</th><th scope=col>gene_chrom</th><th scope=col>gene_start</th><th scope=col>gene_end</th><th scope=col>gene_id</th><th scope=col>gene_score</th><th scope=col>gene_strand</th><th scope=col>bidirs</th></tr>\n",
       "\t<tr><th scope=col>&lt;chr&gt;</th><th scope=col>&lt;int&gt;</th><th scope=col>&lt;int&gt;</th><th scope=col>&lt;chr&gt;</th><th scope=col>&lt;int&gt;</th><th scope=col>&lt;chr&gt;</th><th scope=col>&lt;chr&gt;</th><th scope=col>&lt;int&gt;</th><th scope=col>&lt;int&gt;</th><th scope=col>&lt;chr&gt;</th><th scope=col>&lt;chr&gt;</th><th scope=col>&lt;chr&gt;</th><th scope=col>&lt;chr&gt;</th></tr>\n",
       "</thead>\n",
       "<tbody>\n",
       "\t<tr><td>chr1</td><td>12182</td><td>12456</td><td>tfit,dreg</td><td> 1</td><td>.</td><td>chr1</td><td>11873</td><td>14409</td><td>DDX11L1:NR_046018.2</td><td>.</td><td>+</td><td>chr1:12182-12456</td></tr>\n",
       "\t<tr><td>chr1</td><td>13264</td><td>13506</td><td>tfit     </td><td>14</td><td>.</td><td>chr1</td><td>11873</td><td>14409</td><td>DDX11L1:NR_046018.2</td><td>.</td><td>+</td><td>chr1:13264-13506</td></tr>\n",
       "\t<tr><td>chr1</td><td>14655</td><td>14811</td><td>tfit,dreg</td><td>14</td><td>.</td><td>chr1</td><td>14361</td><td>29370</td><td>WASH7P:NR_024540.1 </td><td>.</td><td>-</td><td>chr1:14655-14811</td></tr>\n",
       "</tbody>\n",
       "</table>\n"
      ],
      "text/latex": [
       "A data.table: 3 × 13\n",
       "\\begin{tabular}{lllllllllllll}\n",
       " bidir\\_chrom & bidir\\_start & bidir\\_end & bidir\\_id & bidir\\_score & bidir\\_strand & gene\\_chrom & gene\\_start & gene\\_end & gene\\_id & gene\\_score & gene\\_strand & bidirs\\\\\n",
       " <chr> & <int> & <int> & <chr> & <int> & <chr> & <chr> & <int> & <int> & <chr> & <chr> & <chr> & <chr>\\\\\n",
       "\\hline\n",
       "\t chr1 & 12182 & 12456 & tfit,dreg &  1 & . & chr1 & 11873 & 14409 & DDX11L1:NR\\_046018.2 & . & + & chr1:12182-12456\\\\\n",
       "\t chr1 & 13264 & 13506 & tfit      & 14 & . & chr1 & 11873 & 14409 & DDX11L1:NR\\_046018.2 & . & + & chr1:13264-13506\\\\\n",
       "\t chr1 & 14655 & 14811 & tfit,dreg & 14 & . & chr1 & 14361 & 29370 & WASH7P:NR\\_024540.1  & . & - & chr1:14655-14811\\\\\n",
       "\\end{tabular}\n"
      ],
      "text/markdown": [
       "\n",
       "A data.table: 3 × 13\n",
       "\n",
       "| bidir_chrom &lt;chr&gt; | bidir_start &lt;int&gt; | bidir_end &lt;int&gt; | bidir_id &lt;chr&gt; | bidir_score &lt;int&gt; | bidir_strand &lt;chr&gt; | gene_chrom &lt;chr&gt; | gene_start &lt;int&gt; | gene_end &lt;int&gt; | gene_id &lt;chr&gt; | gene_score &lt;chr&gt; | gene_strand &lt;chr&gt; | bidirs &lt;chr&gt; |\n",
       "|---|---|---|---|---|---|---|---|---|---|---|---|---|\n",
       "| chr1 | 12182 | 12456 | tfit,dreg |  1 | . | chr1 | 11873 | 14409 | DDX11L1:NR_046018.2 | . | + | chr1:12182-12456 |\n",
       "| chr1 | 13264 | 13506 | tfit      | 14 | . | chr1 | 11873 | 14409 | DDX11L1:NR_046018.2 | . | + | chr1:13264-13506 |\n",
       "| chr1 | 14655 | 14811 | tfit,dreg | 14 | . | chr1 | 14361 | 29370 | WASH7P:NR_024540.1  | . | - | chr1:14655-14811 |\n",
       "\n"
      ],
      "text/plain": [
       "  bidir_chrom bidir_start bidir_end bidir_id  bidir_score bidir_strand\n",
       "1 chr1        12182       12456     tfit,dreg  1          .           \n",
       "2 chr1        13264       13506     tfit      14          .           \n",
       "3 chr1        14655       14811     tfit,dreg 14          .           \n",
       "  gene_chrom gene_start gene_end gene_id             gene_score gene_strand\n",
       "1 chr1       11873      14409    DDX11L1:NR_046018.2 .          +          \n",
       "2 chr1       11873      14409    DDX11L1:NR_046018.2 .          +          \n",
       "3 chr1       14361      29370    WASH7P:NR_024540.1  .          -          \n",
       "  bidirs          \n",
       "1 chr1:12182-12456\n",
       "2 chr1:13264-13506\n",
       "3 chr1:14655-14811"
      ]
     },
     "metadata": {},
     "output_type": "display_data"
    },
    {
     "data": {
      "text/html": [
       "<table class=\"dataframe\">\n",
       "<caption>A data.table: 3 × 13</caption>\n",
       "<thead>\n",
       "\t<tr><th scope=col>bidir_chrom</th><th scope=col>bidir_start</th><th scope=col>bidir_end</th><th scope=col>bidir_id</th><th scope=col>bidir_score</th><th scope=col>bidir_strand</th><th scope=col>gene_chrom</th><th scope=col>gene_start</th><th scope=col>gene_end</th><th scope=col>gene_id</th><th scope=col>gene_score</th><th scope=col>gene_strand</th><th scope=col>bidirs</th></tr>\n",
       "\t<tr><th scope=col>&lt;chr&gt;</th><th scope=col>&lt;int&gt;</th><th scope=col>&lt;int&gt;</th><th scope=col>&lt;chr&gt;</th><th scope=col>&lt;int&gt;</th><th scope=col>&lt;chr&gt;</th><th scope=col>&lt;chr&gt;</th><th scope=col>&lt;int&gt;</th><th scope=col>&lt;int&gt;</th><th scope=col>&lt;chr&gt;</th><th scope=col>&lt;chr&gt;</th><th scope=col>&lt;chr&gt;</th><th scope=col>&lt;chr&gt;</th></tr>\n",
       "</thead>\n",
       "<tbody>\n",
       "\t<tr><td>chrY</td><td>25390010</td><td>25390360</td><td>dreg</td><td>1</td><td>.</td><td>chrY</td><td>25378299</td><td>25394719</td><td>SEPTIN14P23:NR_174182.1</td><td>.</td><td>-</td><td>chrY:25390010-25390360</td></tr>\n",
       "\t<tr><td>chrY</td><td>25390600</td><td>25390950</td><td>dreg</td><td>3</td><td>.</td><td>chrY</td><td>25378299</td><td>25394719</td><td>SEPTIN14P23:NR_174182.1</td><td>.</td><td>-</td><td>chrY:25390600-25390950</td></tr>\n",
       "\t<tr><td>chrY</td><td>25392590</td><td>25393000</td><td>dreg</td><td>2</td><td>.</td><td>chrY</td><td>25378299</td><td>25394719</td><td>SEPTIN14P23:NR_174182.1</td><td>.</td><td>-</td><td>chrY:25392590-25393000</td></tr>\n",
       "</tbody>\n",
       "</table>\n"
      ],
      "text/latex": [
       "A data.table: 3 × 13\n",
       "\\begin{tabular}{lllllllllllll}\n",
       " bidir\\_chrom & bidir\\_start & bidir\\_end & bidir\\_id & bidir\\_score & bidir\\_strand & gene\\_chrom & gene\\_start & gene\\_end & gene\\_id & gene\\_score & gene\\_strand & bidirs\\\\\n",
       " <chr> & <int> & <int> & <chr> & <int> & <chr> & <chr> & <int> & <int> & <chr> & <chr> & <chr> & <chr>\\\\\n",
       "\\hline\n",
       "\t chrY & 25390010 & 25390360 & dreg & 1 & . & chrY & 25378299 & 25394719 & SEPTIN14P23:NR\\_174182.1 & . & - & chrY:25390010-25390360\\\\\n",
       "\t chrY & 25390600 & 25390950 & dreg & 3 & . & chrY & 25378299 & 25394719 & SEPTIN14P23:NR\\_174182.1 & . & - & chrY:25390600-25390950\\\\\n",
       "\t chrY & 25392590 & 25393000 & dreg & 2 & . & chrY & 25378299 & 25394719 & SEPTIN14P23:NR\\_174182.1 & . & - & chrY:25392590-25393000\\\\\n",
       "\\end{tabular}\n"
      ],
      "text/markdown": [
       "\n",
       "A data.table: 3 × 13\n",
       "\n",
       "| bidir_chrom &lt;chr&gt; | bidir_start &lt;int&gt; | bidir_end &lt;int&gt; | bidir_id &lt;chr&gt; | bidir_score &lt;int&gt; | bidir_strand &lt;chr&gt; | gene_chrom &lt;chr&gt; | gene_start &lt;int&gt; | gene_end &lt;int&gt; | gene_id &lt;chr&gt; | gene_score &lt;chr&gt; | gene_strand &lt;chr&gt; | bidirs &lt;chr&gt; |\n",
       "|---|---|---|---|---|---|---|---|---|---|---|---|---|\n",
       "| chrY | 25390010 | 25390360 | dreg | 1 | . | chrY | 25378299 | 25394719 | SEPTIN14P23:NR_174182.1 | . | - | chrY:25390010-25390360 |\n",
       "| chrY | 25390600 | 25390950 | dreg | 3 | . | chrY | 25378299 | 25394719 | SEPTIN14P23:NR_174182.1 | . | - | chrY:25390600-25390950 |\n",
       "| chrY | 25392590 | 25393000 | dreg | 2 | . | chrY | 25378299 | 25394719 | SEPTIN14P23:NR_174182.1 | . | - | chrY:25392590-25393000 |\n",
       "\n"
      ],
      "text/plain": [
       "  bidir_chrom bidir_start bidir_end bidir_id bidir_score bidir_strand\n",
       "1 chrY        25390010    25390360  dreg     1           .           \n",
       "2 chrY        25390600    25390950  dreg     3           .           \n",
       "3 chrY        25392590    25393000  dreg     2           .           \n",
       "  gene_chrom gene_start gene_end gene_id                 gene_score gene_strand\n",
       "1 chrY       25378299   25394719 SEPTIN14P23:NR_174182.1 .          -          \n",
       "2 chrY       25378299   25394719 SEPTIN14P23:NR_174182.1 .          -          \n",
       "3 chrY       25378299   25394719 SEPTIN14P23:NR_174182.1 .          -          \n",
       "  bidirs                \n",
       "1 chrY:25390010-25390360\n",
       "2 chrY:25390600-25390950\n",
       "3 chrY:25392590-25393000"
      ]
     },
     "metadata": {},
     "output_type": "display_data"
    }
   ],
   "source": [
    "bidir_anno_genes <- data.table::fread('/scratch/Users/rusi2317/projects/meta_analysis_qc/hg38/annotations/hg38_tfit_dreg_bidirectionals_in_genes.bed',\n",
    "                                     sep='\\t')\n",
    "\n",
    "colnames(bidir_anno_genes) <- c('bidir_chrom','bidir_start','bidir_end',\n",
    "                                'bidir_id','bidir_score','bidir_strand',\n",
    "                               'gene_chrom','gene_start','gene_end',\n",
    "                                'gene_id','gene_score','gene_strand')\n",
    "bidir_anno_genes$bidirs <- paste0(bidir_anno_genes$bidir_chrom,':',\n",
    "                                     bidir_anno_genes$bidir_start,'-',\n",
    "                                     bidir_anno_genes$bidir_end)\n",
    "\n",
    "print(paste0(\"Number of overlaps: \",nrow(bidir_anno_genes)))\n",
    "print(paste0(\"Unique bidirectionals overlapping: \", length(unique(bidir_anno_genes$bidirs))))\n",
    "head(bidir_anno_genes, 3)\n",
    "tail(bidir_anno_genes, 3)"
   ]
  },
  {
   "cell_type": "code",
   "execution_count": 11,
   "metadata": {},
   "outputs": [
    {
     "data": {
      "text/html": [
       "847521"
      ],
      "text/latex": [
       "847521"
      ],
      "text/markdown": [
       "847521"
      ],
      "text/plain": [
       "[1] 847521"
      ]
     },
     "metadata": {},
     "output_type": "display_data"
    }
   ],
   "source": [
    "length(unique(bidir_tpm_intergenic$gene_transcript)) + length(unique(bidir_anno_genes$bidirs))"
   ]
  },
  {
   "cell_type": "code",
   "execution_count": 12,
   "metadata": {},
   "outputs": [
    {
     "data": {
      "text/html": [
       "<style>\n",
       ".list-inline {list-style: none; margin:0; padding: 0}\n",
       ".list-inline>li {display: inline-block}\n",
       ".list-inline>li:not(:last-child)::after {content: \"\\00b7\"; padding: 0 .5ex}\n",
       "</style>\n",
       "<ol class=list-inline><li>494876</li><li>757</li></ol>\n"
      ],
      "text/latex": [
       "\\begin{enumerate*}\n",
       "\\item 494876\n",
       "\\item 757\n",
       "\\end{enumerate*}\n"
      ],
      "text/markdown": [
       "1. 494876\n",
       "2. 757\n",
       "\n",
       "\n"
      ],
      "text/plain": [
       "[1] 494876    757"
      ]
     },
     "metadata": {},
     "output_type": "display_data"
    },
    {
     "data": {
      "text/html": [
       "<table class=\"dataframe\">\n",
       "<caption>A data.table: 3 × 757</caption>\n",
       "<thead>\n",
       "\t<tr><th scope=col>chrom</th><th scope=col>start</th><th scope=col>stop</th><th scope=col>gene_transcript</th><th scope=col>score</th><th scope=col>strand</th><th scope=col>SRR7266931</th><th scope=col>SRR7266932</th><th scope=col>SRR7266933</th><th scope=col>SRR7266934</th><th scope=col>⋯</th><th scope=col>SRR3713715</th><th scope=col>SRR3713716</th><th scope=col>SRR3713717</th><th scope=col>SRR3713718</th><th scope=col>SRR8483105</th><th scope=col>SRR8483106</th><th scope=col>SRR8483107</th><th scope=col>SRR8483108</th><th scope=col>SRR8483109</th><th scope=col>SRR8483110</th></tr>\n",
       "\t<tr><th scope=col>&lt;chr&gt;</th><th scope=col>&lt;int&gt;</th><th scope=col>&lt;int&gt;</th><th scope=col>&lt;chr&gt;</th><th scope=col>&lt;chr&gt;</th><th scope=col>&lt;chr&gt;</th><th scope=col>&lt;dbl&gt;</th><th scope=col>&lt;dbl&gt;</th><th scope=col>&lt;dbl&gt;</th><th scope=col>&lt;dbl&gt;</th><th scope=col>⋯</th><th scope=col>&lt;dbl&gt;</th><th scope=col>&lt;dbl&gt;</th><th scope=col>&lt;dbl&gt;</th><th scope=col>&lt;dbl&gt;</th><th scope=col>&lt;dbl&gt;</th><th scope=col>&lt;dbl&gt;</th><th scope=col>&lt;dbl&gt;</th><th scope=col>&lt;dbl&gt;</th><th scope=col>&lt;dbl&gt;</th><th scope=col>&lt;dbl&gt;</th></tr>\n",
       "</thead>\n",
       "<tbody>\n",
       "\t<tr><td>chr1</td><td>14655</td><td>14811</td><td>chr1:14655-14811</td><td>14 </td><td>.</td><td>0</td><td>0</td><td>0</td><td>0</td><td>⋯</td><td>0</td><td>0</td><td>0.0000000</td><td>0</td><td>0</td><td>0</td><td>0</td><td>0</td><td>0</td><td>0</td></tr>\n",
       "\t<tr><td>chr1</td><td>15084</td><td>15360</td><td>chr1:15084-15360</td><td>9  </td><td>.</td><td>0</td><td>0</td><td>0</td><td>0</td><td>⋯</td><td>0</td><td>0</td><td>0.0000000</td><td>0</td><td>0</td><td>0</td><td>0</td><td>0</td><td>0</td><td>0</td></tr>\n",
       "\t<tr><td>chr1</td><td>16191</td><td>16429</td><td>chr1:16191-16429</td><td>128</td><td>.</td><td>0</td><td>0</td><td>0</td><td>0</td><td>⋯</td><td>0</td><td>0</td><td>0.3007449</td><td>0</td><td>0</td><td>0</td><td>0</td><td>0</td><td>0</td><td>0</td></tr>\n",
       "</tbody>\n",
       "</table>\n"
      ],
      "text/latex": [
       "A data.table: 3 × 757\n",
       "\\begin{tabular}{lllllllllllllllllllll}\n",
       " chrom & start & stop & gene\\_transcript & score & strand & SRR7266931 & SRR7266932 & SRR7266933 & SRR7266934 & ⋯ & SRR3713715 & SRR3713716 & SRR3713717 & SRR3713718 & SRR8483105 & SRR8483106 & SRR8483107 & SRR8483108 & SRR8483109 & SRR8483110\\\\\n",
       " <chr> & <int> & <int> & <chr> & <chr> & <chr> & <dbl> & <dbl> & <dbl> & <dbl> & ⋯ & <dbl> & <dbl> & <dbl> & <dbl> & <dbl> & <dbl> & <dbl> & <dbl> & <dbl> & <dbl>\\\\\n",
       "\\hline\n",
       "\t chr1 & 14655 & 14811 & chr1:14655-14811 & 14  & . & 0 & 0 & 0 & 0 & ⋯ & 0 & 0 & 0.0000000 & 0 & 0 & 0 & 0 & 0 & 0 & 0\\\\\n",
       "\t chr1 & 15084 & 15360 & chr1:15084-15360 & 9   & . & 0 & 0 & 0 & 0 & ⋯ & 0 & 0 & 0.0000000 & 0 & 0 & 0 & 0 & 0 & 0 & 0\\\\\n",
       "\t chr1 & 16191 & 16429 & chr1:16191-16429 & 128 & . & 0 & 0 & 0 & 0 & ⋯ & 0 & 0 & 0.3007449 & 0 & 0 & 0 & 0 & 0 & 0 & 0\\\\\n",
       "\\end{tabular}\n"
      ],
      "text/markdown": [
       "\n",
       "A data.table: 3 × 757\n",
       "\n",
       "| chrom &lt;chr&gt; | start &lt;int&gt; | stop &lt;int&gt; | gene_transcript &lt;chr&gt; | score &lt;chr&gt; | strand &lt;chr&gt; | SRR7266931 &lt;dbl&gt; | SRR7266932 &lt;dbl&gt; | SRR7266933 &lt;dbl&gt; | SRR7266934 &lt;dbl&gt; | ⋯ ⋯ | SRR3713715 &lt;dbl&gt; | SRR3713716 &lt;dbl&gt; | SRR3713717 &lt;dbl&gt; | SRR3713718 &lt;dbl&gt; | SRR8483105 &lt;dbl&gt; | SRR8483106 &lt;dbl&gt; | SRR8483107 &lt;dbl&gt; | SRR8483108 &lt;dbl&gt; | SRR8483109 &lt;dbl&gt; | SRR8483110 &lt;dbl&gt; |\n",
       "|---|---|---|---|---|---|---|---|---|---|---|---|---|---|---|---|---|---|---|---|---|\n",
       "| chr1 | 14655 | 14811 | chr1:14655-14811 | 14  | . | 0 | 0 | 0 | 0 | ⋯ | 0 | 0 | 0.0000000 | 0 | 0 | 0 | 0 | 0 | 0 | 0 |\n",
       "| chr1 | 15084 | 15360 | chr1:15084-15360 | 9   | . | 0 | 0 | 0 | 0 | ⋯ | 0 | 0 | 0.0000000 | 0 | 0 | 0 | 0 | 0 | 0 | 0 |\n",
       "| chr1 | 16191 | 16429 | chr1:16191-16429 | 128 | . | 0 | 0 | 0 | 0 | ⋯ | 0 | 0 | 0.3007449 | 0 | 0 | 0 | 0 | 0 | 0 | 0 |\n",
       "\n"
      ],
      "text/plain": [
       "  chrom start stop  gene_transcript  score strand SRR7266931 SRR7266932\n",
       "1 chr1  14655 14811 chr1:14655-14811 14    .      0          0         \n",
       "2 chr1  15084 15360 chr1:15084-15360 9     .      0          0         \n",
       "3 chr1  16191 16429 chr1:16191-16429 128   .      0          0         \n",
       "  SRR7266933 SRR7266934 ⋯ SRR3713715 SRR3713716 SRR3713717 SRR3713718\n",
       "1 0          0          ⋯ 0          0          0.0000000  0         \n",
       "2 0          0          ⋯ 0          0          0.0000000  0         \n",
       "3 0          0          ⋯ 0          0          0.3007449  0         \n",
       "  SRR8483105 SRR8483106 SRR8483107 SRR8483108 SRR8483109 SRR8483110\n",
       "1 0          0          0          0          0          0         \n",
       "2 0          0          0          0          0          0         \n",
       "3 0          0          0          0          0          0         "
      ]
     },
     "metadata": {},
     "output_type": "display_data"
    },
    {
     "data": {
      "text/html": [
       "<table class=\"dataframe\">\n",
       "<caption>A data.table: 3 × 757</caption>\n",
       "<thead>\n",
       "\t<tr><th scope=col>chrom</th><th scope=col>start</th><th scope=col>stop</th><th scope=col>gene_transcript</th><th scope=col>score</th><th scope=col>strand</th><th scope=col>SRR7266931</th><th scope=col>SRR7266932</th><th scope=col>SRR7266933</th><th scope=col>SRR7266934</th><th scope=col>⋯</th><th scope=col>SRR3713715</th><th scope=col>SRR3713716</th><th scope=col>SRR3713717</th><th scope=col>SRR3713718</th><th scope=col>SRR8483105</th><th scope=col>SRR8483106</th><th scope=col>SRR8483107</th><th scope=col>SRR8483108</th><th scope=col>SRR8483109</th><th scope=col>SRR8483110</th></tr>\n",
       "\t<tr><th scope=col>&lt;chr&gt;</th><th scope=col>&lt;int&gt;</th><th scope=col>&lt;int&gt;</th><th scope=col>&lt;chr&gt;</th><th scope=col>&lt;chr&gt;</th><th scope=col>&lt;chr&gt;</th><th scope=col>&lt;dbl&gt;</th><th scope=col>&lt;dbl&gt;</th><th scope=col>&lt;dbl&gt;</th><th scope=col>&lt;dbl&gt;</th><th scope=col>⋯</th><th scope=col>&lt;dbl&gt;</th><th scope=col>&lt;dbl&gt;</th><th scope=col>&lt;dbl&gt;</th><th scope=col>&lt;dbl&gt;</th><th scope=col>&lt;dbl&gt;</th><th scope=col>&lt;dbl&gt;</th><th scope=col>&lt;dbl&gt;</th><th scope=col>&lt;dbl&gt;</th><th scope=col>&lt;dbl&gt;</th><th scope=col>&lt;dbl&gt;</th></tr>\n",
       "</thead>\n",
       "<tbody>\n",
       "\t<tr><td>chrY</td><td>24849020</td><td>24849850</td><td>chrY:24849020-24849850</td><td>1</td><td>.</td><td>0</td><td>0</td><td>0</td><td>0</td><td>⋯</td><td>0</td><td>0</td><td>0</td><td>0</td><td>0</td><td>0</td><td>0</td><td>0</td><td>0</td><td>0</td></tr>\n",
       "\t<tr><td>chrY</td><td>24881508</td><td>24881926</td><td>chrY:24881508-24881926</td><td>2</td><td>.</td><td>0</td><td>0</td><td>0</td><td>0</td><td>⋯</td><td>0</td><td>0</td><td>0</td><td>0</td><td>0</td><td>0</td><td>0</td><td>0</td><td>0</td><td>0</td></tr>\n",
       "\t<tr><td>chrY</td><td>24903562</td><td>24903988</td><td>chrY:24903562-24903988</td><td>6</td><td>.</td><td>0</td><td>0</td><td>0</td><td>0</td><td>⋯</td><td>0</td><td>0</td><td>0</td><td>0</td><td>0</td><td>0</td><td>0</td><td>0</td><td>0</td><td>0</td></tr>\n",
       "</tbody>\n",
       "</table>\n"
      ],
      "text/latex": [
       "A data.table: 3 × 757\n",
       "\\begin{tabular}{lllllllllllllllllllll}\n",
       " chrom & start & stop & gene\\_transcript & score & strand & SRR7266931 & SRR7266932 & SRR7266933 & SRR7266934 & ⋯ & SRR3713715 & SRR3713716 & SRR3713717 & SRR3713718 & SRR8483105 & SRR8483106 & SRR8483107 & SRR8483108 & SRR8483109 & SRR8483110\\\\\n",
       " <chr> & <int> & <int> & <chr> & <chr> & <chr> & <dbl> & <dbl> & <dbl> & <dbl> & ⋯ & <dbl> & <dbl> & <dbl> & <dbl> & <dbl> & <dbl> & <dbl> & <dbl> & <dbl> & <dbl>\\\\\n",
       "\\hline\n",
       "\t chrY & 24849020 & 24849850 & chrY:24849020-24849850 & 1 & . & 0 & 0 & 0 & 0 & ⋯ & 0 & 0 & 0 & 0 & 0 & 0 & 0 & 0 & 0 & 0\\\\\n",
       "\t chrY & 24881508 & 24881926 & chrY:24881508-24881926 & 2 & . & 0 & 0 & 0 & 0 & ⋯ & 0 & 0 & 0 & 0 & 0 & 0 & 0 & 0 & 0 & 0\\\\\n",
       "\t chrY & 24903562 & 24903988 & chrY:24903562-24903988 & 6 & . & 0 & 0 & 0 & 0 & ⋯ & 0 & 0 & 0 & 0 & 0 & 0 & 0 & 0 & 0 & 0\\\\\n",
       "\\end{tabular}\n"
      ],
      "text/markdown": [
       "\n",
       "A data.table: 3 × 757\n",
       "\n",
       "| chrom &lt;chr&gt; | start &lt;int&gt; | stop &lt;int&gt; | gene_transcript &lt;chr&gt; | score &lt;chr&gt; | strand &lt;chr&gt; | SRR7266931 &lt;dbl&gt; | SRR7266932 &lt;dbl&gt; | SRR7266933 &lt;dbl&gt; | SRR7266934 &lt;dbl&gt; | ⋯ ⋯ | SRR3713715 &lt;dbl&gt; | SRR3713716 &lt;dbl&gt; | SRR3713717 &lt;dbl&gt; | SRR3713718 &lt;dbl&gt; | SRR8483105 &lt;dbl&gt; | SRR8483106 &lt;dbl&gt; | SRR8483107 &lt;dbl&gt; | SRR8483108 &lt;dbl&gt; | SRR8483109 &lt;dbl&gt; | SRR8483110 &lt;dbl&gt; |\n",
       "|---|---|---|---|---|---|---|---|---|---|---|---|---|---|---|---|---|---|---|---|---|\n",
       "| chrY | 24849020 | 24849850 | chrY:24849020-24849850 | 1 | . | 0 | 0 | 0 | 0 | ⋯ | 0 | 0 | 0 | 0 | 0 | 0 | 0 | 0 | 0 | 0 |\n",
       "| chrY | 24881508 | 24881926 | chrY:24881508-24881926 | 2 | . | 0 | 0 | 0 | 0 | ⋯ | 0 | 0 | 0 | 0 | 0 | 0 | 0 | 0 | 0 | 0 |\n",
       "| chrY | 24903562 | 24903988 | chrY:24903562-24903988 | 6 | . | 0 | 0 | 0 | 0 | ⋯ | 0 | 0 | 0 | 0 | 0 | 0 | 0 | 0 | 0 | 0 |\n",
       "\n"
      ],
      "text/plain": [
       "  chrom start    stop     gene_transcript        score strand SRR7266931\n",
       "1 chrY  24849020 24849850 chrY:24849020-24849850 1     .      0         \n",
       "2 chrY  24881508 24881926 chrY:24881508-24881926 2     .      0         \n",
       "3 chrY  24903562 24903988 chrY:24903562-24903988 6     .      0         \n",
       "  SRR7266932 SRR7266933 SRR7266934 ⋯ SRR3713715 SRR3713716 SRR3713717\n",
       "1 0          0          0          ⋯ 0          0          0         \n",
       "2 0          0          0          ⋯ 0          0          0         \n",
       "3 0          0          0          ⋯ 0          0          0         \n",
       "  SRR3713718 SRR8483105 SRR8483106 SRR8483107 SRR8483108 SRR8483109 SRR8483110\n",
       "1 0          0          0          0          0          0          0         \n",
       "2 0          0          0          0          0          0          0         \n",
       "3 0          0          0          0          0          0          0         "
      ]
     },
     "metadata": {},
     "output_type": "display_data"
    }
   ],
   "source": [
    "bidir_tpm_intragenic <- gene_all_bidir_tpm_filtered[gene_all_bidir_tpm_filtered$gene_transcript %in%\n",
    "                                                      unique(bidir_anno_genes$bidirs) , ] \n",
    "dim(bidir_tpm_intragenic)\n",
    "head(bidir_tpm_intragenic, 3)\n",
    "tail(bidir_tpm_intragenic, 3)"
   ]
  },
  {
   "cell_type": "markdown",
   "metadata": {},
   "source": [
    "## Genes"
   ]
  },
  {
   "cell_type": "code",
   "execution_count": 13,
   "metadata": {},
   "outputs": [
    {
     "data": {
      "text/html": [
       "<style>\n",
       ".list-inline {list-style: none; margin:0; padding: 0}\n",
       ".list-inline>li {display: inline-block}\n",
       ".list-inline>li:not(:last-child)::after {content: \"\\00b7\"; padding: 0 .5ex}\n",
       "</style>\n",
       "<ol class=list-inline><li>28889</li><li>757</li></ol>\n"
      ],
      "text/latex": [
       "\\begin{enumerate*}\n",
       "\\item 28889\n",
       "\\item 757\n",
       "\\end{enumerate*}\n"
      ],
      "text/markdown": [
       "1. 28889\n",
       "2. 757\n",
       "\n",
       "\n"
      ],
      "text/plain": [
       "[1] 28889   757"
      ]
     },
     "metadata": {},
     "output_type": "display_data"
    },
    {
     "data": {
      "text/html": [
       "<table class=\"dataframe\">\n",
       "<caption>A data.table: 3 × 757</caption>\n",
       "<thead>\n",
       "\t<tr><th scope=col>chrom</th><th scope=col>start</th><th scope=col>stop</th><th scope=col>gene_transcript</th><th scope=col>score</th><th scope=col>strand</th><th scope=col>SRR7266931</th><th scope=col>SRR7266932</th><th scope=col>SRR7266933</th><th scope=col>SRR7266934</th><th scope=col>⋯</th><th scope=col>SRR3713715</th><th scope=col>SRR3713716</th><th scope=col>SRR3713717</th><th scope=col>SRR3713718</th><th scope=col>SRR8483105</th><th scope=col>SRR8483106</th><th scope=col>SRR8483107</th><th scope=col>SRR8483108</th><th scope=col>SRR8483109</th><th scope=col>SRR8483110</th></tr>\n",
       "\t<tr><th scope=col>&lt;chr&gt;</th><th scope=col>&lt;int&gt;</th><th scope=col>&lt;int&gt;</th><th scope=col>&lt;chr&gt;</th><th scope=col>&lt;chr&gt;</th><th scope=col>&lt;chr&gt;</th><th scope=col>&lt;dbl&gt;</th><th scope=col>&lt;dbl&gt;</th><th scope=col>&lt;dbl&gt;</th><th scope=col>&lt;dbl&gt;</th><th scope=col>⋯</th><th scope=col>&lt;dbl&gt;</th><th scope=col>&lt;dbl&gt;</th><th scope=col>&lt;dbl&gt;</th><th scope=col>&lt;dbl&gt;</th><th scope=col>&lt;dbl&gt;</th><th scope=col>&lt;dbl&gt;</th><th scope=col>&lt;dbl&gt;</th><th scope=col>&lt;dbl&gt;</th><th scope=col>&lt;dbl&gt;</th><th scope=col>&lt;dbl&gt;</th></tr>\n",
       "</thead>\n",
       "<tbody>\n",
       "\t<tr><td>chr1</td><td>12623</td><td>14409</td><td>DDX11L1:NR_046018.2  </td><td>.</td><td>+</td><td>0.0000000</td><td>0.00000000</td><td>0.0000000</td><td>0.0000000</td><td>⋯</td><td>0.00000000</td><td>0.00000000</td><td>0.00000000</td><td>0.0000000</td><td>0.0000000</td><td>0.0000000</td><td>0.0000000</td><td>0.0000000</td><td>0.0000000</td><td>0.0000000</td></tr>\n",
       "\t<tr><td>chr1</td><td>14361</td><td>28620</td><td>WASH7P:NR_024540.1   </td><td>.</td><td>-</td><td>0.1844719</td><td>0.03814665</td><td>0.1945557</td><td>0.1415614</td><td>⋯</td><td>0.06812888</td><td>0.04399975</td><td>0.05040534</td><td>0.2144871</td><td>0.3700028</td><td>0.4193475</td><td>0.3418568</td><td>0.2917163</td><td>0.3737646</td><td>0.4307619</td></tr>\n",
       "\t<tr><td>chr1</td><td>17368</td><td>17436</td><td>MIR6859-1:NR_106918.1</td><td>.</td><td>-</td><td>0.0000000</td><td>0.00000000</td><td>0.0000000</td><td>0.0000000</td><td>⋯</td><td>0.00000000</td><td>0.00000000</td><td>0.00000000</td><td>0.0000000</td><td>0.0000000</td><td>0.0000000</td><td>0.0000000</td><td>0.0000000</td><td>0.0000000</td><td>0.0000000</td></tr>\n",
       "</tbody>\n",
       "</table>\n"
      ],
      "text/latex": [
       "A data.table: 3 × 757\n",
       "\\begin{tabular}{lllllllllllllllllllll}\n",
       " chrom & start & stop & gene\\_transcript & score & strand & SRR7266931 & SRR7266932 & SRR7266933 & SRR7266934 & ⋯ & SRR3713715 & SRR3713716 & SRR3713717 & SRR3713718 & SRR8483105 & SRR8483106 & SRR8483107 & SRR8483108 & SRR8483109 & SRR8483110\\\\\n",
       " <chr> & <int> & <int> & <chr> & <chr> & <chr> & <dbl> & <dbl> & <dbl> & <dbl> & ⋯ & <dbl> & <dbl> & <dbl> & <dbl> & <dbl> & <dbl> & <dbl> & <dbl> & <dbl> & <dbl>\\\\\n",
       "\\hline\n",
       "\t chr1 & 12623 & 14409 & DDX11L1:NR\\_046018.2   & . & + & 0.0000000 & 0.00000000 & 0.0000000 & 0.0000000 & ⋯ & 0.00000000 & 0.00000000 & 0.00000000 & 0.0000000 & 0.0000000 & 0.0000000 & 0.0000000 & 0.0000000 & 0.0000000 & 0.0000000\\\\\n",
       "\t chr1 & 14361 & 28620 & WASH7P:NR\\_024540.1    & . & - & 0.1844719 & 0.03814665 & 0.1945557 & 0.1415614 & ⋯ & 0.06812888 & 0.04399975 & 0.05040534 & 0.2144871 & 0.3700028 & 0.4193475 & 0.3418568 & 0.2917163 & 0.3737646 & 0.4307619\\\\\n",
       "\t chr1 & 17368 & 17436 & MIR6859-1:NR\\_106918.1 & . & - & 0.0000000 & 0.00000000 & 0.0000000 & 0.0000000 & ⋯ & 0.00000000 & 0.00000000 & 0.00000000 & 0.0000000 & 0.0000000 & 0.0000000 & 0.0000000 & 0.0000000 & 0.0000000 & 0.0000000\\\\\n",
       "\\end{tabular}\n"
      ],
      "text/markdown": [
       "\n",
       "A data.table: 3 × 757\n",
       "\n",
       "| chrom &lt;chr&gt; | start &lt;int&gt; | stop &lt;int&gt; | gene_transcript &lt;chr&gt; | score &lt;chr&gt; | strand &lt;chr&gt; | SRR7266931 &lt;dbl&gt; | SRR7266932 &lt;dbl&gt; | SRR7266933 &lt;dbl&gt; | SRR7266934 &lt;dbl&gt; | ⋯ ⋯ | SRR3713715 &lt;dbl&gt; | SRR3713716 &lt;dbl&gt; | SRR3713717 &lt;dbl&gt; | SRR3713718 &lt;dbl&gt; | SRR8483105 &lt;dbl&gt; | SRR8483106 &lt;dbl&gt; | SRR8483107 &lt;dbl&gt; | SRR8483108 &lt;dbl&gt; | SRR8483109 &lt;dbl&gt; | SRR8483110 &lt;dbl&gt; |\n",
       "|---|---|---|---|---|---|---|---|---|---|---|---|---|---|---|---|---|---|---|---|---|\n",
       "| chr1 | 12623 | 14409 | DDX11L1:NR_046018.2   | . | + | 0.0000000 | 0.00000000 | 0.0000000 | 0.0000000 | ⋯ | 0.00000000 | 0.00000000 | 0.00000000 | 0.0000000 | 0.0000000 | 0.0000000 | 0.0000000 | 0.0000000 | 0.0000000 | 0.0000000 |\n",
       "| chr1 | 14361 | 28620 | WASH7P:NR_024540.1    | . | - | 0.1844719 | 0.03814665 | 0.1945557 | 0.1415614 | ⋯ | 0.06812888 | 0.04399975 | 0.05040534 | 0.2144871 | 0.3700028 | 0.4193475 | 0.3418568 | 0.2917163 | 0.3737646 | 0.4307619 |\n",
       "| chr1 | 17368 | 17436 | MIR6859-1:NR_106918.1 | . | - | 0.0000000 | 0.00000000 | 0.0000000 | 0.0000000 | ⋯ | 0.00000000 | 0.00000000 | 0.00000000 | 0.0000000 | 0.0000000 | 0.0000000 | 0.0000000 | 0.0000000 | 0.0000000 | 0.0000000 |\n",
       "\n"
      ],
      "text/plain": [
       "  chrom start stop  gene_transcript       score strand SRR7266931 SRR7266932\n",
       "1 chr1  12623 14409 DDX11L1:NR_046018.2   .     +      0.0000000  0.00000000\n",
       "2 chr1  14361 28620 WASH7P:NR_024540.1    .     -      0.1844719  0.03814665\n",
       "3 chr1  17368 17436 MIR6859-1:NR_106918.1 .     -      0.0000000  0.00000000\n",
       "  SRR7266933 SRR7266934 ⋯ SRR3713715 SRR3713716 SRR3713717 SRR3713718\n",
       "1 0.0000000  0.0000000  ⋯ 0.00000000 0.00000000 0.00000000 0.0000000 \n",
       "2 0.1945557  0.1415614  ⋯ 0.06812888 0.04399975 0.05040534 0.2144871 \n",
       "3 0.0000000  0.0000000  ⋯ 0.00000000 0.00000000 0.00000000 0.0000000 \n",
       "  SRR8483105 SRR8483106 SRR8483107 SRR8483108 SRR8483109 SRR8483110\n",
       "1 0.0000000  0.0000000  0.0000000  0.0000000  0.0000000  0.0000000 \n",
       "2 0.3700028  0.4193475  0.3418568  0.2917163  0.3737646  0.4307619 \n",
       "3 0.0000000  0.0000000  0.0000000  0.0000000  0.0000000  0.0000000 "
      ]
     },
     "metadata": {},
     "output_type": "display_data"
    }
   ],
   "source": [
    "gene_trunc <- gene_all_bidir_tpm_filtered[gene_all_bidir_tpm_filtered$gene_transcript %in%\n",
    "                                          counts_genes_full$gene_transcript,]\n",
    "dim(gene_trunc)\n",
    "head(gene_trunc, 3)"
   ]
  },
  {
   "cell_type": "code",
   "execution_count": 14,
   "metadata": {},
   "outputs": [
    {
     "data": {
      "text/html": [
       "<table class=\"dataframe\">\n",
       "<caption>A data.table: 3 × 6</caption>\n",
       "<thead>\n",
       "\t<tr><th scope=col>chrom</th><th scope=col>start</th><th scope=col>stop</th><th scope=col>gene_transcript</th><th scope=col>score</th><th scope=col>strand</th></tr>\n",
       "\t<tr><th scope=col>&lt;chr&gt;</th><th scope=col>&lt;int&gt;</th><th scope=col>&lt;int&gt;</th><th scope=col>&lt;chr&gt;</th><th scope=col>&lt;chr&gt;</th><th scope=col>&lt;chr&gt;</th></tr>\n",
       "</thead>\n",
       "<tbody>\n",
       "\t<tr><td>chr1</td><td>11873</td><td>14409</td><td>DDX11L1:NR_046018.2  </td><td>.</td><td>+</td></tr>\n",
       "\t<tr><td>chr1</td><td>14361</td><td>29370</td><td>WASH7P:NR_024540.1   </td><td>.</td><td>-</td></tr>\n",
       "\t<tr><td>chr1</td><td>17368</td><td>17436</td><td>MIR6859-1:NR_106918.1</td><td>.</td><td>-</td></tr>\n",
       "</tbody>\n",
       "</table>\n"
      ],
      "text/latex": [
       "A data.table: 3 × 6\n",
       "\\begin{tabular}{llllll}\n",
       " chrom & start & stop & gene\\_transcript & score & strand\\\\\n",
       " <chr> & <int> & <int> & <chr> & <chr> & <chr>\\\\\n",
       "\\hline\n",
       "\t chr1 & 11873 & 14409 & DDX11L1:NR\\_046018.2   & . & +\\\\\n",
       "\t chr1 & 14361 & 29370 & WASH7P:NR\\_024540.1    & . & -\\\\\n",
       "\t chr1 & 17368 & 17436 & MIR6859-1:NR\\_106918.1 & . & -\\\\\n",
       "\\end{tabular}\n"
      ],
      "text/markdown": [
       "\n",
       "A data.table: 3 × 6\n",
       "\n",
       "| chrom &lt;chr&gt; | start &lt;int&gt; | stop &lt;int&gt; | gene_transcript &lt;chr&gt; | score &lt;chr&gt; | strand &lt;chr&gt; |\n",
       "|---|---|---|---|---|---|\n",
       "| chr1 | 11873 | 14409 | DDX11L1:NR_046018.2   | . | + |\n",
       "| chr1 | 14361 | 29370 | WASH7P:NR_024540.1    | . | - |\n",
       "| chr1 | 17368 | 17436 | MIR6859-1:NR_106918.1 | . | - |\n",
       "\n"
      ],
      "text/plain": [
       "  chrom start stop  gene_transcript       score strand\n",
       "1 chr1  11873 14409 DDX11L1:NR_046018.2   .     +     \n",
       "2 chr1  14361 29370 WASH7P:NR_024540.1    .     -     \n",
       "3 chr1  17368 17436 MIR6859-1:NR_106918.1 .     -     "
      ]
     },
     "metadata": {},
     "output_type": "display_data"
    },
    {
     "data": {
      "text/html": [
       "<table class=\"dataframe\">\n",
       "<caption>A data.table: 3 × 6</caption>\n",
       "<thead>\n",
       "\t<tr><th scope=col>chrom</th><th scope=col>start</th><th scope=col>stop</th><th scope=col>gene_transcript</th><th scope=col>score</th><th scope=col>strand</th></tr>\n",
       "\t<tr><th scope=col>&lt;chr&gt;</th><th scope=col>&lt;int&gt;</th><th scope=col>&lt;int&gt;</th><th scope=col>&lt;chr&gt;</th><th scope=col>&lt;chr&gt;</th><th scope=col>&lt;chr&gt;</th></tr>\n",
       "</thead>\n",
       "<tbody>\n",
       "\t<tr><td>chr1</td><td>12623</td><td>14409</td><td>DDX11L1:NR_046018.2  </td><td>.</td><td>+</td></tr>\n",
       "\t<tr><td>chr1</td><td>14361</td><td>28620</td><td>WASH7P:NR_024540.1   </td><td>.</td><td>-</td></tr>\n",
       "\t<tr><td>chr1</td><td>17368</td><td>17436</td><td>MIR6859-1:NR_106918.1</td><td>.</td><td>-</td></tr>\n",
       "</tbody>\n",
       "</table>\n"
      ],
      "text/latex": [
       "A data.table: 3 × 6\n",
       "\\begin{tabular}{llllll}\n",
       " chrom & start & stop & gene\\_transcript & score & strand\\\\\n",
       " <chr> & <int> & <int> & <chr> & <chr> & <chr>\\\\\n",
       "\\hline\n",
       "\t chr1 & 12623 & 14409 & DDX11L1:NR\\_046018.2   & . & +\\\\\n",
       "\t chr1 & 14361 & 28620 & WASH7P:NR\\_024540.1    & . & -\\\\\n",
       "\t chr1 & 17368 & 17436 & MIR6859-1:NR\\_106918.1 & . & -\\\\\n",
       "\\end{tabular}\n"
      ],
      "text/markdown": [
       "\n",
       "A data.table: 3 × 6\n",
       "\n",
       "| chrom &lt;chr&gt; | start &lt;int&gt; | stop &lt;int&gt; | gene_transcript &lt;chr&gt; | score &lt;chr&gt; | strand &lt;chr&gt; |\n",
       "|---|---|---|---|---|---|\n",
       "| chr1 | 12623 | 14409 | DDX11L1:NR_046018.2   | . | + |\n",
       "| chr1 | 14361 | 28620 | WASH7P:NR_024540.1    | . | - |\n",
       "| chr1 | 17368 | 17436 | MIR6859-1:NR_106918.1 | . | - |\n",
       "\n"
      ],
      "text/plain": [
       "  chrom start stop  gene_transcript       score strand\n",
       "1 chr1  12623 14409 DDX11L1:NR_046018.2   .     +     \n",
       "2 chr1  14361 28620 WASH7P:NR_024540.1    .     -     \n",
       "3 chr1  17368 17436 MIR6859-1:NR_106918.1 .     -     "
      ]
     },
     "metadata": {},
     "output_type": "display_data"
    }
   ],
   "source": [
    "head(counts_genes_full[,1:6], 3)\n",
    "head(gene_trunc[,1:6],3)"
   ]
  },
  {
   "cell_type": "code",
   "execution_count": 15,
   "metadata": {},
   "outputs": [
    {
     "data": {
      "text/html": [
       "<style>\n",
       ".list-inline {list-style: none; margin:0; padding: 0}\n",
       ".list-inline>li {display: inline-block}\n",
       ".list-inline>li:not(:last-child)::after {content: \"\\00b7\"; padding: 0 .5ex}\n",
       "</style>\n",
       "<ol class=list-inline><li>28889</li><li>757</li></ol>\n"
      ],
      "text/latex": [
       "\\begin{enumerate*}\n",
       "\\item 28889\n",
       "\\item 757\n",
       "\\end{enumerate*}\n"
      ],
      "text/markdown": [
       "1. 28889\n",
       "2. 757\n",
       "\n",
       "\n"
      ],
      "text/plain": [
       "[1] 28889   757"
      ]
     },
     "metadata": {},
     "output_type": "display_data"
    },
    {
     "data": {
      "text/html": [
       "<table class=\"dataframe\">\n",
       "<caption>A data.table: 3 × 757</caption>\n",
       "<thead>\n",
       "\t<tr><th scope=col>gene_transcript</th><th scope=col>chrom</th><th scope=col>start</th><th scope=col>stop</th><th scope=col>score</th><th scope=col>strand</th><th scope=col>SRR7266931</th><th scope=col>SRR7266932</th><th scope=col>SRR7266933</th><th scope=col>SRR7266934</th><th scope=col>⋯</th><th scope=col>SRR3713715</th><th scope=col>SRR3713716</th><th scope=col>SRR3713717</th><th scope=col>SRR3713718</th><th scope=col>SRR8483105</th><th scope=col>SRR8483106</th><th scope=col>SRR8483107</th><th scope=col>SRR8483108</th><th scope=col>SRR8483109</th><th scope=col>SRR8483110</th></tr>\n",
       "\t<tr><th scope=col>&lt;chr&gt;</th><th scope=col>&lt;chr&gt;</th><th scope=col>&lt;int&gt;</th><th scope=col>&lt;int&gt;</th><th scope=col>&lt;chr&gt;</th><th scope=col>&lt;chr&gt;</th><th scope=col>&lt;dbl&gt;</th><th scope=col>&lt;dbl&gt;</th><th scope=col>&lt;dbl&gt;</th><th scope=col>&lt;dbl&gt;</th><th scope=col>⋯</th><th scope=col>&lt;dbl&gt;</th><th scope=col>&lt;dbl&gt;</th><th scope=col>&lt;dbl&gt;</th><th scope=col>&lt;dbl&gt;</th><th scope=col>&lt;dbl&gt;</th><th scope=col>&lt;dbl&gt;</th><th scope=col>&lt;dbl&gt;</th><th scope=col>&lt;dbl&gt;</th><th scope=col>&lt;dbl&gt;</th><th scope=col>&lt;dbl&gt;</th></tr>\n",
       "</thead>\n",
       "<tbody>\n",
       "\t<tr><td>A1BG-AS1:NR_015380.2</td><td>chr19</td><td>58351969</td><td>58355183</td><td>.</td><td>+</td><td>0.4715395</td><td>0.275847512</td><td>0.350156404</td><td>0.289034470</td><td>⋯</td><td>4.7901330211</td><td>8.908832855</td><td>9.3601802570</td><td>1.126521e+01</td><td>24.003756</td><td>23.515781</td><td>22.649555</td><td>21.094696</td><td>23.696213379</td><td>22.427576708</td></tr>\n",
       "\t<tr><td>A1BG:NM_130786.4    </td><td>chr19</td><td>58345182</td><td>58353492</td><td>.</td><td>-</td><td>0.6391889</td><td>0.413680061</td><td>0.742015737</td><td>0.722426895</td><td>⋯</td><td>1.7346237696</td><td>1.293155683</td><td>1.3308983947</td><td>1.224210e+00</td><td> 2.425766</td><td> 1.773117</td><td> 2.165353</td><td> 2.375756</td><td> 2.301772168</td><td> 2.450560985</td></tr>\n",
       "\t<tr><td>A1CF:NM_014576.4    </td><td>chr10</td><td>50799408</td><td>50885627</td><td>.</td><td>-</td><td>0.0000000</td><td>0.001591118</td><td>0.002164006</td><td>0.002778636</td><td>⋯</td><td>0.0004371834</td><td>0.001835253</td><td>0.0008409737</td><td>9.417236e-04</td><td> 0.000000</td><td> 0.000000</td><td> 0.000000</td><td> 0.000000</td><td> 0.002545294</td><td> 0.001178184</td></tr>\n",
       "</tbody>\n",
       "</table>\n"
      ],
      "text/latex": [
       "A data.table: 3 × 757\n",
       "\\begin{tabular}{lllllllllllllllllllll}\n",
       " gene\\_transcript & chrom & start & stop & score & strand & SRR7266931 & SRR7266932 & SRR7266933 & SRR7266934 & ⋯ & SRR3713715 & SRR3713716 & SRR3713717 & SRR3713718 & SRR8483105 & SRR8483106 & SRR8483107 & SRR8483108 & SRR8483109 & SRR8483110\\\\\n",
       " <chr> & <chr> & <int> & <int> & <chr> & <chr> & <dbl> & <dbl> & <dbl> & <dbl> & ⋯ & <dbl> & <dbl> & <dbl> & <dbl> & <dbl> & <dbl> & <dbl> & <dbl> & <dbl> & <dbl>\\\\\n",
       "\\hline\n",
       "\t A1BG-AS1:NR\\_015380.2 & chr19 & 58351969 & 58355183 & . & + & 0.4715395 & 0.275847512 & 0.350156404 & 0.289034470 & ⋯ & 4.7901330211 & 8.908832855 & 9.3601802570 & 1.126521e+01 & 24.003756 & 23.515781 & 22.649555 & 21.094696 & 23.696213379 & 22.427576708\\\\\n",
       "\t A1BG:NM\\_130786.4     & chr19 & 58345182 & 58353492 & . & - & 0.6391889 & 0.413680061 & 0.742015737 & 0.722426895 & ⋯ & 1.7346237696 & 1.293155683 & 1.3308983947 & 1.224210e+00 &  2.425766 &  1.773117 &  2.165353 &  2.375756 &  2.301772168 &  2.450560985\\\\\n",
       "\t A1CF:NM\\_014576.4     & chr10 & 50799408 & 50885627 & . & - & 0.0000000 & 0.001591118 & 0.002164006 & 0.002778636 & ⋯ & 0.0004371834 & 0.001835253 & 0.0008409737 & 9.417236e-04 &  0.000000 &  0.000000 &  0.000000 &  0.000000 &  0.002545294 &  0.001178184\\\\\n",
       "\\end{tabular}\n"
      ],
      "text/markdown": [
       "\n",
       "A data.table: 3 × 757\n",
       "\n",
       "| gene_transcript &lt;chr&gt; | chrom &lt;chr&gt; | start &lt;int&gt; | stop &lt;int&gt; | score &lt;chr&gt; | strand &lt;chr&gt; | SRR7266931 &lt;dbl&gt; | SRR7266932 &lt;dbl&gt; | SRR7266933 &lt;dbl&gt; | SRR7266934 &lt;dbl&gt; | ⋯ ⋯ | SRR3713715 &lt;dbl&gt; | SRR3713716 &lt;dbl&gt; | SRR3713717 &lt;dbl&gt; | SRR3713718 &lt;dbl&gt; | SRR8483105 &lt;dbl&gt; | SRR8483106 &lt;dbl&gt; | SRR8483107 &lt;dbl&gt; | SRR8483108 &lt;dbl&gt; | SRR8483109 &lt;dbl&gt; | SRR8483110 &lt;dbl&gt; |\n",
       "|---|---|---|---|---|---|---|---|---|---|---|---|---|---|---|---|---|---|---|---|---|\n",
       "| A1BG-AS1:NR_015380.2 | chr19 | 58351969 | 58355183 | . | + | 0.4715395 | 0.275847512 | 0.350156404 | 0.289034470 | ⋯ | 4.7901330211 | 8.908832855 | 9.3601802570 | 1.126521e+01 | 24.003756 | 23.515781 | 22.649555 | 21.094696 | 23.696213379 | 22.427576708 |\n",
       "| A1BG:NM_130786.4     | chr19 | 58345182 | 58353492 | . | - | 0.6391889 | 0.413680061 | 0.742015737 | 0.722426895 | ⋯ | 1.7346237696 | 1.293155683 | 1.3308983947 | 1.224210e+00 |  2.425766 |  1.773117 |  2.165353 |  2.375756 |  2.301772168 |  2.450560985 |\n",
       "| A1CF:NM_014576.4     | chr10 | 50799408 | 50885627 | . | - | 0.0000000 | 0.001591118 | 0.002164006 | 0.002778636 | ⋯ | 0.0004371834 | 0.001835253 | 0.0008409737 | 9.417236e-04 |  0.000000 |  0.000000 |  0.000000 |  0.000000 |  0.002545294 |  0.001178184 |\n",
       "\n"
      ],
      "text/plain": [
       "  gene_transcript      chrom start    stop     score strand SRR7266931\n",
       "1 A1BG-AS1:NR_015380.2 chr19 58351969 58355183 .     +      0.4715395 \n",
       "2 A1BG:NM_130786.4     chr19 58345182 58353492 .     -      0.6391889 \n",
       "3 A1CF:NM_014576.4     chr10 50799408 50885627 .     -      0.0000000 \n",
       "  SRR7266932  SRR7266933  SRR7266934  ⋯ SRR3713715   SRR3713716  SRR3713717  \n",
       "1 0.275847512 0.350156404 0.289034470 ⋯ 4.7901330211 8.908832855 9.3601802570\n",
       "2 0.413680061 0.742015737 0.722426895 ⋯ 1.7346237696 1.293155683 1.3308983947\n",
       "3 0.001591118 0.002164006 0.002778636 ⋯ 0.0004371834 0.001835253 0.0008409737\n",
       "  SRR3713718   SRR8483105 SRR8483106 SRR8483107 SRR8483108 SRR8483109  \n",
       "1 1.126521e+01 24.003756  23.515781  22.649555  21.094696  23.696213379\n",
       "2 1.224210e+00  2.425766   1.773117   2.165353   2.375756   2.301772168\n",
       "3 9.417236e-04  0.000000   0.000000   0.000000   0.000000   0.002545294\n",
       "  SRR8483110  \n",
       "1 22.427576708\n",
       "2  2.450560985\n",
       "3  0.001178184"
      ]
     },
     "metadata": {},
     "output_type": "display_data"
    }
   ],
   "source": [
    "genes_merged <- merge(counts_genes_full[,1:6], \n",
    "                      gene_all_bidir_tpm_filtered[,c(4,7:757)], \n",
    "                     by = 'gene_transcript')\n",
    "dim(genes_merged)\n",
    "head(genes_merged, 3)"
   ]
  },
  {
   "cell_type": "code",
   "execution_count": 16,
   "metadata": {},
   "outputs": [
    {
     "data": {
      "text/html": [
       "<style>\n",
       ".list-inline {list-style: none; margin:0; padding: 0}\n",
       ".list-inline>li {display: inline-block}\n",
       ".list-inline>li:not(:last-child)::after {content: \"\\00b7\"; padding: 0 .5ex}\n",
       "</style>\n",
       "<ol class=list-inline><li>28889</li><li>757</li></ol>\n"
      ],
      "text/latex": [
       "\\begin{enumerate*}\n",
       "\\item 28889\n",
       "\\item 757\n",
       "\\end{enumerate*}\n"
      ],
      "text/markdown": [
       "1. 28889\n",
       "2. 757\n",
       "\n",
       "\n"
      ],
      "text/plain": [
       "[1] 28889   757"
      ]
     },
     "metadata": {},
     "output_type": "display_data"
    },
    {
     "data": {
      "text/html": [
       "<table class=\"dataframe\">\n",
       "<caption>A data.table: 3 × 757</caption>\n",
       "<thead>\n",
       "\t<tr><th scope=col>chrom</th><th scope=col>start</th><th scope=col>stop</th><th scope=col>gene_transcript</th><th scope=col>score</th><th scope=col>strand</th><th scope=col>SRR7266931</th><th scope=col>SRR7266932</th><th scope=col>SRR7266933</th><th scope=col>SRR7266934</th><th scope=col>⋯</th><th scope=col>SRR3713715</th><th scope=col>SRR3713716</th><th scope=col>SRR3713717</th><th scope=col>SRR3713718</th><th scope=col>SRR8483105</th><th scope=col>SRR8483106</th><th scope=col>SRR8483107</th><th scope=col>SRR8483108</th><th scope=col>SRR8483109</th><th scope=col>SRR8483110</th></tr>\n",
       "\t<tr><th scope=col>&lt;chr&gt;</th><th scope=col>&lt;int&gt;</th><th scope=col>&lt;int&gt;</th><th scope=col>&lt;chr&gt;</th><th scope=col>&lt;chr&gt;</th><th scope=col>&lt;chr&gt;</th><th scope=col>&lt;dbl&gt;</th><th scope=col>&lt;dbl&gt;</th><th scope=col>&lt;dbl&gt;</th><th scope=col>&lt;dbl&gt;</th><th scope=col>⋯</th><th scope=col>&lt;dbl&gt;</th><th scope=col>&lt;dbl&gt;</th><th scope=col>&lt;dbl&gt;</th><th scope=col>&lt;dbl&gt;</th><th scope=col>&lt;dbl&gt;</th><th scope=col>&lt;dbl&gt;</th><th scope=col>&lt;dbl&gt;</th><th scope=col>&lt;dbl&gt;</th><th scope=col>&lt;dbl&gt;</th><th scope=col>&lt;dbl&gt;</th></tr>\n",
       "</thead>\n",
       "<tbody>\n",
       "\t<tr><td>chr19</td><td>58351969</td><td>58355183</td><td>A1BG-AS1:NR_015380.2</td><td>.</td><td>+</td><td>0.4715395</td><td>0.275847512</td><td>0.350156404</td><td>0.289034470</td><td>⋯</td><td>4.7901330211</td><td>8.908832855</td><td>9.3601802570</td><td>1.126521e+01</td><td>24.003756</td><td>23.515781</td><td>22.649555</td><td>21.094696</td><td>23.696213379</td><td>22.427576708</td></tr>\n",
       "\t<tr><td>chr19</td><td>58345182</td><td>58353492</td><td>A1BG:NM_130786.4    </td><td>.</td><td>-</td><td>0.6391889</td><td>0.413680061</td><td>0.742015737</td><td>0.722426895</td><td>⋯</td><td>1.7346237696</td><td>1.293155683</td><td>1.3308983947</td><td>1.224210e+00</td><td> 2.425766</td><td> 1.773117</td><td> 2.165353</td><td> 2.375756</td><td> 2.301772168</td><td> 2.450560985</td></tr>\n",
       "\t<tr><td>chr10</td><td>50799408</td><td>50885627</td><td>A1CF:NM_014576.4    </td><td>.</td><td>-</td><td>0.0000000</td><td>0.001591118</td><td>0.002164006</td><td>0.002778636</td><td>⋯</td><td>0.0004371834</td><td>0.001835253</td><td>0.0008409737</td><td>9.417236e-04</td><td> 0.000000</td><td> 0.000000</td><td> 0.000000</td><td> 0.000000</td><td> 0.002545294</td><td> 0.001178184</td></tr>\n",
       "</tbody>\n",
       "</table>\n"
      ],
      "text/latex": [
       "A data.table: 3 × 757\n",
       "\\begin{tabular}{lllllllllllllllllllll}\n",
       " chrom & start & stop & gene\\_transcript & score & strand & SRR7266931 & SRR7266932 & SRR7266933 & SRR7266934 & ⋯ & SRR3713715 & SRR3713716 & SRR3713717 & SRR3713718 & SRR8483105 & SRR8483106 & SRR8483107 & SRR8483108 & SRR8483109 & SRR8483110\\\\\n",
       " <chr> & <int> & <int> & <chr> & <chr> & <chr> & <dbl> & <dbl> & <dbl> & <dbl> & ⋯ & <dbl> & <dbl> & <dbl> & <dbl> & <dbl> & <dbl> & <dbl> & <dbl> & <dbl> & <dbl>\\\\\n",
       "\\hline\n",
       "\t chr19 & 58351969 & 58355183 & A1BG-AS1:NR\\_015380.2 & . & + & 0.4715395 & 0.275847512 & 0.350156404 & 0.289034470 & ⋯ & 4.7901330211 & 8.908832855 & 9.3601802570 & 1.126521e+01 & 24.003756 & 23.515781 & 22.649555 & 21.094696 & 23.696213379 & 22.427576708\\\\\n",
       "\t chr19 & 58345182 & 58353492 & A1BG:NM\\_130786.4     & . & - & 0.6391889 & 0.413680061 & 0.742015737 & 0.722426895 & ⋯ & 1.7346237696 & 1.293155683 & 1.3308983947 & 1.224210e+00 &  2.425766 &  1.773117 &  2.165353 &  2.375756 &  2.301772168 &  2.450560985\\\\\n",
       "\t chr10 & 50799408 & 50885627 & A1CF:NM\\_014576.4     & . & - & 0.0000000 & 0.001591118 & 0.002164006 & 0.002778636 & ⋯ & 0.0004371834 & 0.001835253 & 0.0008409737 & 9.417236e-04 &  0.000000 &  0.000000 &  0.000000 &  0.000000 &  0.002545294 &  0.001178184\\\\\n",
       "\\end{tabular}\n"
      ],
      "text/markdown": [
       "\n",
       "A data.table: 3 × 757\n",
       "\n",
       "| chrom &lt;chr&gt; | start &lt;int&gt; | stop &lt;int&gt; | gene_transcript &lt;chr&gt; | score &lt;chr&gt; | strand &lt;chr&gt; | SRR7266931 &lt;dbl&gt; | SRR7266932 &lt;dbl&gt; | SRR7266933 &lt;dbl&gt; | SRR7266934 &lt;dbl&gt; | ⋯ ⋯ | SRR3713715 &lt;dbl&gt; | SRR3713716 &lt;dbl&gt; | SRR3713717 &lt;dbl&gt; | SRR3713718 &lt;dbl&gt; | SRR8483105 &lt;dbl&gt; | SRR8483106 &lt;dbl&gt; | SRR8483107 &lt;dbl&gt; | SRR8483108 &lt;dbl&gt; | SRR8483109 &lt;dbl&gt; | SRR8483110 &lt;dbl&gt; |\n",
       "|---|---|---|---|---|---|---|---|---|---|---|---|---|---|---|---|---|---|---|---|---|\n",
       "| chr19 | 58351969 | 58355183 | A1BG-AS1:NR_015380.2 | . | + | 0.4715395 | 0.275847512 | 0.350156404 | 0.289034470 | ⋯ | 4.7901330211 | 8.908832855 | 9.3601802570 | 1.126521e+01 | 24.003756 | 23.515781 | 22.649555 | 21.094696 | 23.696213379 | 22.427576708 |\n",
       "| chr19 | 58345182 | 58353492 | A1BG:NM_130786.4     | . | - | 0.6391889 | 0.413680061 | 0.742015737 | 0.722426895 | ⋯ | 1.7346237696 | 1.293155683 | 1.3308983947 | 1.224210e+00 |  2.425766 |  1.773117 |  2.165353 |  2.375756 |  2.301772168 |  2.450560985 |\n",
       "| chr10 | 50799408 | 50885627 | A1CF:NM_014576.4     | . | - | 0.0000000 | 0.001591118 | 0.002164006 | 0.002778636 | ⋯ | 0.0004371834 | 0.001835253 | 0.0008409737 | 9.417236e-04 |  0.000000 |  0.000000 |  0.000000 |  0.000000 |  0.002545294 |  0.001178184 |\n",
       "\n"
      ],
      "text/plain": [
       "  chrom start    stop     gene_transcript      score strand SRR7266931\n",
       "1 chr19 58351969 58355183 A1BG-AS1:NR_015380.2 .     +      0.4715395 \n",
       "2 chr19 58345182 58353492 A1BG:NM_130786.4     .     -      0.6391889 \n",
       "3 chr10 50799408 50885627 A1CF:NM_014576.4     .     -      0.0000000 \n",
       "  SRR7266932  SRR7266933  SRR7266934  ⋯ SRR3713715   SRR3713716  SRR3713717  \n",
       "1 0.275847512 0.350156404 0.289034470 ⋯ 4.7901330211 8.908832855 9.3601802570\n",
       "2 0.413680061 0.742015737 0.722426895 ⋯ 1.7346237696 1.293155683 1.3308983947\n",
       "3 0.001591118 0.002164006 0.002778636 ⋯ 0.0004371834 0.001835253 0.0008409737\n",
       "  SRR3713718   SRR8483105 SRR8483106 SRR8483107 SRR8483108 SRR8483109  \n",
       "1 1.126521e+01 24.003756  23.515781  22.649555  21.094696  23.696213379\n",
       "2 1.224210e+00  2.425766   1.773117   2.165353   2.375756   2.301772168\n",
       "3 9.417236e-04  0.000000   0.000000   0.000000   0.000000   0.002545294\n",
       "  SRR8483110  \n",
       "1 22.427576708\n",
       "2  2.450560985\n",
       "3  0.001178184"
      ]
     },
     "metadata": {},
     "output_type": "display_data"
    }
   ],
   "source": [
    "##oder the merged columns by the input files\n",
    "column_order <- colnames(gene_all_bidir_tpm_filtered)\n",
    "\n",
    "gene_new_annotations <- setcolorder(genes_merged, column_order)\n",
    "dim(gene_new_annotations)\n",
    "head(gene_new_annotations, 3)"
   ]
  },
  {
   "cell_type": "code",
   "execution_count": 17,
   "metadata": {},
   "outputs": [
    {
     "data": {
      "text/html": [
       "<table class=\"dataframe\">\n",
       "<caption>A data.table: 1 × 757</caption>\n",
       "<thead>\n",
       "\t<tr><th scope=col>chrom</th><th scope=col>start</th><th scope=col>stop</th><th scope=col>gene_transcript</th><th scope=col>score</th><th scope=col>strand</th><th scope=col>SRR7266931</th><th scope=col>SRR7266932</th><th scope=col>SRR7266933</th><th scope=col>SRR7266934</th><th scope=col>⋯</th><th scope=col>SRR3713715</th><th scope=col>SRR3713716</th><th scope=col>SRR3713717</th><th scope=col>SRR3713718</th><th scope=col>SRR8483105</th><th scope=col>SRR8483106</th><th scope=col>SRR8483107</th><th scope=col>SRR8483108</th><th scope=col>SRR8483109</th><th scope=col>SRR8483110</th></tr>\n",
       "\t<tr><th scope=col>&lt;chr&gt;</th><th scope=col>&lt;int&gt;</th><th scope=col>&lt;int&gt;</th><th scope=col>&lt;chr&gt;</th><th scope=col>&lt;chr&gt;</th><th scope=col>&lt;chr&gt;</th><th scope=col>&lt;dbl&gt;</th><th scope=col>&lt;dbl&gt;</th><th scope=col>&lt;dbl&gt;</th><th scope=col>&lt;dbl&gt;</th><th scope=col>⋯</th><th scope=col>&lt;dbl&gt;</th><th scope=col>&lt;dbl&gt;</th><th scope=col>&lt;dbl&gt;</th><th scope=col>&lt;dbl&gt;</th><th scope=col>&lt;dbl&gt;</th><th scope=col>&lt;dbl&gt;</th><th scope=col>&lt;dbl&gt;</th><th scope=col>&lt;dbl&gt;</th><th scope=col>&lt;dbl&gt;</th><th scope=col>&lt;dbl&gt;</th></tr>\n",
       "</thead>\n",
       "<tbody>\n",
       "\t<tr><td>chr19</td><td>58345182</td><td>58352742</td><td>A1BG:NM_130786.4</td><td>.</td><td>-</td><td>0.6391889</td><td>0.4136801</td><td>0.7420157</td><td>0.7224269</td><td>⋯</td><td>1.734624</td><td>1.293156</td><td>1.330898</td><td>1.22421</td><td>2.425766</td><td>1.773117</td><td>2.165353</td><td>2.375756</td><td>2.301772</td><td>2.450561</td></tr>\n",
       "</tbody>\n",
       "</table>\n"
      ],
      "text/latex": [
       "A data.table: 1 × 757\n",
       "\\begin{tabular}{lllllllllllllllllllll}\n",
       " chrom & start & stop & gene\\_transcript & score & strand & SRR7266931 & SRR7266932 & SRR7266933 & SRR7266934 & ⋯ & SRR3713715 & SRR3713716 & SRR3713717 & SRR3713718 & SRR8483105 & SRR8483106 & SRR8483107 & SRR8483108 & SRR8483109 & SRR8483110\\\\\n",
       " <chr> & <int> & <int> & <chr> & <chr> & <chr> & <dbl> & <dbl> & <dbl> & <dbl> & ⋯ & <dbl> & <dbl> & <dbl> & <dbl> & <dbl> & <dbl> & <dbl> & <dbl> & <dbl> & <dbl>\\\\\n",
       "\\hline\n",
       "\t chr19 & 58345182 & 58352742 & A1BG:NM\\_130786.4 & . & - & 0.6391889 & 0.4136801 & 0.7420157 & 0.7224269 & ⋯ & 1.734624 & 1.293156 & 1.330898 & 1.22421 & 2.425766 & 1.773117 & 2.165353 & 2.375756 & 2.301772 & 2.450561\\\\\n",
       "\\end{tabular}\n"
      ],
      "text/markdown": [
       "\n",
       "A data.table: 1 × 757\n",
       "\n",
       "| chrom &lt;chr&gt; | start &lt;int&gt; | stop &lt;int&gt; | gene_transcript &lt;chr&gt; | score &lt;chr&gt; | strand &lt;chr&gt; | SRR7266931 &lt;dbl&gt; | SRR7266932 &lt;dbl&gt; | SRR7266933 &lt;dbl&gt; | SRR7266934 &lt;dbl&gt; | ⋯ ⋯ | SRR3713715 &lt;dbl&gt; | SRR3713716 &lt;dbl&gt; | SRR3713717 &lt;dbl&gt; | SRR3713718 &lt;dbl&gt; | SRR8483105 &lt;dbl&gt; | SRR8483106 &lt;dbl&gt; | SRR8483107 &lt;dbl&gt; | SRR8483108 &lt;dbl&gt; | SRR8483109 &lt;dbl&gt; | SRR8483110 &lt;dbl&gt; |\n",
       "|---|---|---|---|---|---|---|---|---|---|---|---|---|---|---|---|---|---|---|---|---|\n",
       "| chr19 | 58345182 | 58352742 | A1BG:NM_130786.4 | . | - | 0.6391889 | 0.4136801 | 0.7420157 | 0.7224269 | ⋯ | 1.734624 | 1.293156 | 1.330898 | 1.22421 | 2.425766 | 1.773117 | 2.165353 | 2.375756 | 2.301772 | 2.450561 |\n",
       "\n"
      ],
      "text/plain": [
       "  chrom start    stop     gene_transcript  score strand SRR7266931 SRR7266932\n",
       "1 chr19 58345182 58352742 A1BG:NM_130786.4 .     -      0.6391889  0.4136801 \n",
       "  SRR7266933 SRR7266934 ⋯ SRR3713715 SRR3713716 SRR3713717 SRR3713718\n",
       "1 0.7420157  0.7224269  ⋯ 1.734624   1.293156   1.330898   1.22421   \n",
       "  SRR8483105 SRR8483106 SRR8483107 SRR8483108 SRR8483109 SRR8483110\n",
       "1 2.425766   1.773117   2.165353   2.375756   2.301772   2.450561  "
      ]
     },
     "metadata": {},
     "output_type": "display_data"
    },
    {
     "data": {
      "text/html": [
       "<table class=\"dataframe\">\n",
       "<caption>A data.table: 1 × 757</caption>\n",
       "<thead>\n",
       "\t<tr><th scope=col>chrom</th><th scope=col>start</th><th scope=col>stop</th><th scope=col>gene_transcript</th><th scope=col>score</th><th scope=col>strand</th><th scope=col>SRR7266931</th><th scope=col>SRR7266932</th><th scope=col>SRR7266933</th><th scope=col>SRR7266934</th><th scope=col>⋯</th><th scope=col>SRR3713715</th><th scope=col>SRR3713716</th><th scope=col>SRR3713717</th><th scope=col>SRR3713718</th><th scope=col>SRR8483105</th><th scope=col>SRR8483106</th><th scope=col>SRR8483107</th><th scope=col>SRR8483108</th><th scope=col>SRR8483109</th><th scope=col>SRR8483110</th></tr>\n",
       "\t<tr><th scope=col>&lt;chr&gt;</th><th scope=col>&lt;int&gt;</th><th scope=col>&lt;int&gt;</th><th scope=col>&lt;chr&gt;</th><th scope=col>&lt;chr&gt;</th><th scope=col>&lt;chr&gt;</th><th scope=col>&lt;dbl&gt;</th><th scope=col>&lt;dbl&gt;</th><th scope=col>&lt;dbl&gt;</th><th scope=col>&lt;dbl&gt;</th><th scope=col>⋯</th><th scope=col>&lt;dbl&gt;</th><th scope=col>&lt;dbl&gt;</th><th scope=col>&lt;dbl&gt;</th><th scope=col>&lt;dbl&gt;</th><th scope=col>&lt;dbl&gt;</th><th scope=col>&lt;dbl&gt;</th><th scope=col>&lt;dbl&gt;</th><th scope=col>&lt;dbl&gt;</th><th scope=col>&lt;dbl&gt;</th><th scope=col>&lt;dbl&gt;</th></tr>\n",
       "</thead>\n",
       "<tbody>\n",
       "\t<tr><td>chr19</td><td>58345182</td><td>58353492</td><td>A1BG:NM_130786.4</td><td>.</td><td>-</td><td>0.6391889</td><td>0.4136801</td><td>0.7420157</td><td>0.7224269</td><td>⋯</td><td>1.734624</td><td>1.293156</td><td>1.330898</td><td>1.22421</td><td>2.425766</td><td>1.773117</td><td>2.165353</td><td>2.375756</td><td>2.301772</td><td>2.450561</td></tr>\n",
       "</tbody>\n",
       "</table>\n"
      ],
      "text/latex": [
       "A data.table: 1 × 757\n",
       "\\begin{tabular}{lllllllllllllllllllll}\n",
       " chrom & start & stop & gene\\_transcript & score & strand & SRR7266931 & SRR7266932 & SRR7266933 & SRR7266934 & ⋯ & SRR3713715 & SRR3713716 & SRR3713717 & SRR3713718 & SRR8483105 & SRR8483106 & SRR8483107 & SRR8483108 & SRR8483109 & SRR8483110\\\\\n",
       " <chr> & <int> & <int> & <chr> & <chr> & <chr> & <dbl> & <dbl> & <dbl> & <dbl> & ⋯ & <dbl> & <dbl> & <dbl> & <dbl> & <dbl> & <dbl> & <dbl> & <dbl> & <dbl> & <dbl>\\\\\n",
       "\\hline\n",
       "\t chr19 & 58345182 & 58353492 & A1BG:NM\\_130786.4 & . & - & 0.6391889 & 0.4136801 & 0.7420157 & 0.7224269 & ⋯ & 1.734624 & 1.293156 & 1.330898 & 1.22421 & 2.425766 & 1.773117 & 2.165353 & 2.375756 & 2.301772 & 2.450561\\\\\n",
       "\\end{tabular}\n"
      ],
      "text/markdown": [
       "\n",
       "A data.table: 1 × 757\n",
       "\n",
       "| chrom &lt;chr&gt; | start &lt;int&gt; | stop &lt;int&gt; | gene_transcript &lt;chr&gt; | score &lt;chr&gt; | strand &lt;chr&gt; | SRR7266931 &lt;dbl&gt; | SRR7266932 &lt;dbl&gt; | SRR7266933 &lt;dbl&gt; | SRR7266934 &lt;dbl&gt; | ⋯ ⋯ | SRR3713715 &lt;dbl&gt; | SRR3713716 &lt;dbl&gt; | SRR3713717 &lt;dbl&gt; | SRR3713718 &lt;dbl&gt; | SRR8483105 &lt;dbl&gt; | SRR8483106 &lt;dbl&gt; | SRR8483107 &lt;dbl&gt; | SRR8483108 &lt;dbl&gt; | SRR8483109 &lt;dbl&gt; | SRR8483110 &lt;dbl&gt; |\n",
       "|---|---|---|---|---|---|---|---|---|---|---|---|---|---|---|---|---|---|---|---|---|\n",
       "| chr19 | 58345182 | 58353492 | A1BG:NM_130786.4 | . | - | 0.6391889 | 0.4136801 | 0.7420157 | 0.7224269 | ⋯ | 1.734624 | 1.293156 | 1.330898 | 1.22421 | 2.425766 | 1.773117 | 2.165353 | 2.375756 | 2.301772 | 2.450561 |\n",
       "\n"
      ],
      "text/plain": [
       "  chrom start    stop     gene_transcript  score strand SRR7266931 SRR7266932\n",
       "1 chr19 58345182 58353492 A1BG:NM_130786.4 .     -      0.6391889  0.4136801 \n",
       "  SRR7266933 SRR7266934 ⋯ SRR3713715 SRR3713716 SRR3713717 SRR3713718\n",
       "1 0.7420157  0.7224269  ⋯ 1.734624   1.293156   1.330898   1.22421   \n",
       "  SRR8483105 SRR8483106 SRR8483107 SRR8483108 SRR8483109 SRR8483110\n",
       "1 2.425766   1.773117   2.165353   2.375756   2.301772   2.450561  "
      ]
     },
     "metadata": {},
     "output_type": "display_data"
    }
   ],
   "source": [
    "##Check the annotations\n",
    "subset(gene_all_bidir_tpm_filtered, gene_transcript=='A1BG:NM_130786.4')\n",
    "subset(gene_new_annotations, gene_transcript=='A1BG:NM_130786.4')"
   ]
  },
  {
   "cell_type": "markdown",
   "metadata": {},
   "source": [
    "# Sets of transcripts"
   ]
  },
  {
   "cell_type": "markdown",
   "metadata": {},
   "source": [
    "## Genes + Intergenic"
   ]
  },
  {
   "cell_type": "code",
   "execution_count": 18,
   "metadata": {},
   "outputs": [
    {
     "data": {
      "text/html": [
       "<style>\n",
       ".list-inline {list-style: none; margin:0; padding: 0}\n",
       ".list-inline>li {display: inline-block}\n",
       ".list-inline>li:not(:last-child)::after {content: \"\\00b7\"; padding: 0 .5ex}\n",
       "</style>\n",
       "<ol class=list-inline><li>381534</li><li>757</li></ol>\n"
      ],
      "text/latex": [
       "\\begin{enumerate*}\n",
       "\\item 381534\n",
       "\\item 757\n",
       "\\end{enumerate*}\n"
      ],
      "text/markdown": [
       "1. 381534\n",
       "2. 757\n",
       "\n",
       "\n"
      ],
      "text/plain": [
       "[1] 381534    757"
      ]
     },
     "metadata": {},
     "output_type": "display_data"
    },
    {
     "data": {
      "text/html": [
       "<table class=\"dataframe\">\n",
       "<caption>A data.table: 3 × 757</caption>\n",
       "<thead>\n",
       "\t<tr><th scope=col>chrom</th><th scope=col>start</th><th scope=col>stop</th><th scope=col>gene_transcript</th><th scope=col>score</th><th scope=col>strand</th><th scope=col>SRR7266931</th><th scope=col>SRR7266932</th><th scope=col>SRR7266933</th><th scope=col>SRR7266934</th><th scope=col>⋯</th><th scope=col>SRR3713715</th><th scope=col>SRR3713716</th><th scope=col>SRR3713717</th><th scope=col>SRR3713718</th><th scope=col>SRR8483105</th><th scope=col>SRR8483106</th><th scope=col>SRR8483107</th><th scope=col>SRR8483108</th><th scope=col>SRR8483109</th><th scope=col>SRR8483110</th></tr>\n",
       "\t<tr><th scope=col>&lt;chr&gt;</th><th scope=col>&lt;int&gt;</th><th scope=col>&lt;int&gt;</th><th scope=col>&lt;chr&gt;</th><th scope=col>&lt;chr&gt;</th><th scope=col>&lt;chr&gt;</th><th scope=col>&lt;dbl&gt;</th><th scope=col>&lt;dbl&gt;</th><th scope=col>&lt;dbl&gt;</th><th scope=col>&lt;dbl&gt;</th><th scope=col>⋯</th><th scope=col>&lt;dbl&gt;</th><th scope=col>&lt;dbl&gt;</th><th scope=col>&lt;dbl&gt;</th><th scope=col>&lt;dbl&gt;</th><th scope=col>&lt;dbl&gt;</th><th scope=col>&lt;dbl&gt;</th><th scope=col>&lt;dbl&gt;</th><th scope=col>&lt;dbl&gt;</th><th scope=col>&lt;dbl&gt;</th><th scope=col>&lt;dbl&gt;</th></tr>\n",
       "</thead>\n",
       "<tbody>\n",
       "\t<tr><td>chr19</td><td>58351969</td><td>58355183</td><td>A1BG-AS1:NR_015380.2</td><td>.</td><td>+</td><td>0.4715395</td><td>0.275847512</td><td>0.350156404</td><td>0.289034470</td><td>⋯</td><td>4.7901330211</td><td>8.908832855</td><td>9.3601802570</td><td>1.126521e+01</td><td>24.003756</td><td>23.515781</td><td>22.649555</td><td>21.094696</td><td>23.696213379</td><td>22.427576708</td></tr>\n",
       "\t<tr><td>chr19</td><td>58345182</td><td>58353492</td><td>A1BG:NM_130786.4    </td><td>.</td><td>-</td><td>0.6391889</td><td>0.413680061</td><td>0.742015737</td><td>0.722426895</td><td>⋯</td><td>1.7346237696</td><td>1.293155683</td><td>1.3308983947</td><td>1.224210e+00</td><td> 2.425766</td><td> 1.773117</td><td> 2.165353</td><td> 2.375756</td><td> 2.301772168</td><td> 2.450560985</td></tr>\n",
       "\t<tr><td>chr10</td><td>50799408</td><td>50885627</td><td>A1CF:NM_014576.4    </td><td>.</td><td>-</td><td>0.0000000</td><td>0.001591118</td><td>0.002164006</td><td>0.002778636</td><td>⋯</td><td>0.0004371834</td><td>0.001835253</td><td>0.0008409737</td><td>9.417236e-04</td><td> 0.000000</td><td> 0.000000</td><td> 0.000000</td><td> 0.000000</td><td> 0.002545294</td><td> 0.001178184</td></tr>\n",
       "</tbody>\n",
       "</table>\n"
      ],
      "text/latex": [
       "A data.table: 3 × 757\n",
       "\\begin{tabular}{lllllllllllllllllllll}\n",
       " chrom & start & stop & gene\\_transcript & score & strand & SRR7266931 & SRR7266932 & SRR7266933 & SRR7266934 & ⋯ & SRR3713715 & SRR3713716 & SRR3713717 & SRR3713718 & SRR8483105 & SRR8483106 & SRR8483107 & SRR8483108 & SRR8483109 & SRR8483110\\\\\n",
       " <chr> & <int> & <int> & <chr> & <chr> & <chr> & <dbl> & <dbl> & <dbl> & <dbl> & ⋯ & <dbl> & <dbl> & <dbl> & <dbl> & <dbl> & <dbl> & <dbl> & <dbl> & <dbl> & <dbl>\\\\\n",
       "\\hline\n",
       "\t chr19 & 58351969 & 58355183 & A1BG-AS1:NR\\_015380.2 & . & + & 0.4715395 & 0.275847512 & 0.350156404 & 0.289034470 & ⋯ & 4.7901330211 & 8.908832855 & 9.3601802570 & 1.126521e+01 & 24.003756 & 23.515781 & 22.649555 & 21.094696 & 23.696213379 & 22.427576708\\\\\n",
       "\t chr19 & 58345182 & 58353492 & A1BG:NM\\_130786.4     & . & - & 0.6391889 & 0.413680061 & 0.742015737 & 0.722426895 & ⋯ & 1.7346237696 & 1.293155683 & 1.3308983947 & 1.224210e+00 &  2.425766 &  1.773117 &  2.165353 &  2.375756 &  2.301772168 &  2.450560985\\\\\n",
       "\t chr10 & 50799408 & 50885627 & A1CF:NM\\_014576.4     & . & - & 0.0000000 & 0.001591118 & 0.002164006 & 0.002778636 & ⋯ & 0.0004371834 & 0.001835253 & 0.0008409737 & 9.417236e-04 &  0.000000 &  0.000000 &  0.000000 &  0.000000 &  0.002545294 &  0.001178184\\\\\n",
       "\\end{tabular}\n"
      ],
      "text/markdown": [
       "\n",
       "A data.table: 3 × 757\n",
       "\n",
       "| chrom &lt;chr&gt; | start &lt;int&gt; | stop &lt;int&gt; | gene_transcript &lt;chr&gt; | score &lt;chr&gt; | strand &lt;chr&gt; | SRR7266931 &lt;dbl&gt; | SRR7266932 &lt;dbl&gt; | SRR7266933 &lt;dbl&gt; | SRR7266934 &lt;dbl&gt; | ⋯ ⋯ | SRR3713715 &lt;dbl&gt; | SRR3713716 &lt;dbl&gt; | SRR3713717 &lt;dbl&gt; | SRR3713718 &lt;dbl&gt; | SRR8483105 &lt;dbl&gt; | SRR8483106 &lt;dbl&gt; | SRR8483107 &lt;dbl&gt; | SRR8483108 &lt;dbl&gt; | SRR8483109 &lt;dbl&gt; | SRR8483110 &lt;dbl&gt; |\n",
       "|---|---|---|---|---|---|---|---|---|---|---|---|---|---|---|---|---|---|---|---|---|\n",
       "| chr19 | 58351969 | 58355183 | A1BG-AS1:NR_015380.2 | . | + | 0.4715395 | 0.275847512 | 0.350156404 | 0.289034470 | ⋯ | 4.7901330211 | 8.908832855 | 9.3601802570 | 1.126521e+01 | 24.003756 | 23.515781 | 22.649555 | 21.094696 | 23.696213379 | 22.427576708 |\n",
       "| chr19 | 58345182 | 58353492 | A1BG:NM_130786.4     | . | - | 0.6391889 | 0.413680061 | 0.742015737 | 0.722426895 | ⋯ | 1.7346237696 | 1.293155683 | 1.3308983947 | 1.224210e+00 |  2.425766 |  1.773117 |  2.165353 |  2.375756 |  2.301772168 |  2.450560985 |\n",
       "| chr10 | 50799408 | 50885627 | A1CF:NM_014576.4     | . | - | 0.0000000 | 0.001591118 | 0.002164006 | 0.002778636 | ⋯ | 0.0004371834 | 0.001835253 | 0.0008409737 | 9.417236e-04 |  0.000000 |  0.000000 |  0.000000 |  0.000000 |  0.002545294 |  0.001178184 |\n",
       "\n"
      ],
      "text/plain": [
       "  chrom start    stop     gene_transcript      score strand SRR7266931\n",
       "1 chr19 58351969 58355183 A1BG-AS1:NR_015380.2 .     +      0.4715395 \n",
       "2 chr19 58345182 58353492 A1BG:NM_130786.4     .     -      0.6391889 \n",
       "3 chr10 50799408 50885627 A1CF:NM_014576.4     .     -      0.0000000 \n",
       "  SRR7266932  SRR7266933  SRR7266934  ⋯ SRR3713715   SRR3713716  SRR3713717  \n",
       "1 0.275847512 0.350156404 0.289034470 ⋯ 4.7901330211 8.908832855 9.3601802570\n",
       "2 0.413680061 0.742015737 0.722426895 ⋯ 1.7346237696 1.293155683 1.3308983947\n",
       "3 0.001591118 0.002164006 0.002778636 ⋯ 0.0004371834 0.001835253 0.0008409737\n",
       "  SRR3713718   SRR8483105 SRR8483106 SRR8483107 SRR8483108 SRR8483109  \n",
       "1 1.126521e+01 24.003756  23.515781  22.649555  21.094696  23.696213379\n",
       "2 1.224210e+00  2.425766   1.773117   2.165353   2.375756   2.301772168\n",
       "3 9.417236e-04  0.000000   0.000000   0.000000   0.000000   0.002545294\n",
       "  SRR8483110  \n",
       "1 22.427576708\n",
       "2  2.450560985\n",
       "3  0.001178184"
      ]
     },
     "metadata": {},
     "output_type": "display_data"
    }
   ],
   "source": [
    "genes_inter_bidir <- rbind(gene_new_annotations,bidir_tpm_intergenic)\n",
    "dim(genes_inter_bidir)\n",
    "head(genes_inter_bidir, 3)"
   ]
  },
  {
   "cell_type": "code",
   "execution_count": 19,
   "metadata": {},
   "outputs": [
    {
     "data": {
      "text/html": [
       "<table class=\"dataframe\">\n",
       "<caption>A data.table: 6 × 18</caption>\n",
       "<thead>\n",
       "\t<tr><th scope=col>chrom</th><th scope=col>start</th><th scope=col>stop</th><th scope=col>gene_transcript</th><th scope=col>score</th><th scope=col>strand</th><th scope=col>length</th><th scope=col>stdev</th><th scope=col>variance</th><th scope=col>sum</th><th scope=col>mean</th><th scope=col>median</th><th scope=col>coefvar</th><th scope=col>max</th><th scope=col>min</th><th scope=col>num_transcribed</th><th scope=col>percent_transcribed</th><th scope=col>transcript_type</th></tr>\n",
       "\t<tr><th scope=col>&lt;chr&gt;</th><th scope=col>&lt;int&gt;</th><th scope=col>&lt;int&gt;</th><th scope=col>&lt;chr&gt;</th><th scope=col>&lt;chr&gt;</th><th scope=col>&lt;chr&gt;</th><th scope=col>&lt;int&gt;</th><th scope=col>&lt;dbl&gt;</th><th scope=col>&lt;dbl&gt;</th><th scope=col>&lt;dbl&gt;</th><th scope=col>&lt;dbl&gt;</th><th scope=col>&lt;dbl&gt;</th><th scope=col>&lt;dbl&gt;</th><th scope=col>&lt;dbl&gt;</th><th scope=col>&lt;dbl&gt;</th><th scope=col>&lt;int&gt;</th><th scope=col>&lt;dbl&gt;</th><th scope=col>&lt;chr&gt;</th></tr>\n",
       "</thead>\n",
       "<tbody>\n",
       "\t<tr><td>chr1</td><td>12623</td><td>14409</td><td>DDX11L1:NR_046018.2  </td><td>.</td><td>+</td><td> 1787</td><td>0.072099287</td><td>5.198307e-03</td><td>  6.76054154</td><td>9.002053e-03</td><td>0.0000000</td><td> 8.0092052</td><td>1.25232307</td><td>0</td><td> 29</td><td> 3.8615180</td><td>genes</td></tr>\n",
       "\t<tr><td>chr1</td><td>14361</td><td>28620</td><td>WASH7P:NR_024540.1   </td><td>.</td><td>-</td><td>14260</td><td>0.190457404</td><td>3.627402e-02</td><td>163.61697071</td><td>2.178655e-01</td><td>0.1674576</td><td> 0.8741973</td><td>1.58704620</td><td>0</td><td>749</td><td>99.7336884</td><td>genes</td></tr>\n",
       "\t<tr><td>chr1</td><td>17368</td><td>17436</td><td>MIR6859-1:NR_106918.1</td><td>.</td><td>-</td><td>   69</td><td>0.000000000</td><td>0.000000e+00</td><td>  0.00000000</td><td>0.000000e+00</td><td>0.0000000</td><td>        NA</td><td>0.00000000</td><td>0</td><td>  0</td><td> 0.0000000</td><td>genes</td></tr>\n",
       "\t<tr><td>chr1</td><td>30365</td><td>30503</td><td>MIR1302-2:NR_036051.1</td><td>.</td><td>+</td><td>  139</td><td>0.034063044</td><td>1.160291e-03</td><td>  0.93347658</td><td>1.242978e-03</td><td>0.0000000</td><td>27.4043792</td><td>0.93347658</td><td>0</td><td>  1</td><td> 0.1331558</td><td>genes</td></tr>\n",
       "\t<tr><td>chr1</td><td>34610</td><td>35591</td><td>FAM138A:NR_026818.1  </td><td>.</td><td>-</td><td>  982</td><td>0.002709721</td><td>7.342586e-06</td><td>  0.07425821</td><td>9.887911e-05</td><td>0.0000000</td><td>27.4043792</td><td>0.07425821</td><td>0</td><td>  1</td><td> 0.1331558</td><td>genes</td></tr>\n",
       "\t<tr><td>chr1</td><td>66168</td><td>71585</td><td>OR4F5:NM_001005484.2 </td><td>.</td><td>+</td><td> 5418</td><td>0.002555593</td><td>6.531054e-06</td><td>  0.18860450</td><td>2.511378e-04</td><td>0.0000000</td><td>10.1760572</td><td>0.04010044</td><td>0</td><td> 11</td><td> 1.4647137</td><td>genes</td></tr>\n",
       "</tbody>\n",
       "</table>\n"
      ],
      "text/latex": [
       "A data.table: 6 × 18\n",
       "\\begin{tabular}{llllllllllllllllll}\n",
       " chrom & start & stop & gene\\_transcript & score & strand & length & stdev & variance & sum & mean & median & coefvar & max & min & num\\_transcribed & percent\\_transcribed & transcript\\_type\\\\\n",
       " <chr> & <int> & <int> & <chr> & <chr> & <chr> & <int> & <dbl> & <dbl> & <dbl> & <dbl> & <dbl> & <dbl> & <dbl> & <dbl> & <int> & <dbl> & <chr>\\\\\n",
       "\\hline\n",
       "\t chr1 & 12623 & 14409 & DDX11L1:NR\\_046018.2   & . & + &  1787 & 0.072099287 & 5.198307e-03 &   6.76054154 & 9.002053e-03 & 0.0000000 &  8.0092052 & 1.25232307 & 0 &  29 &  3.8615180 & genes\\\\\n",
       "\t chr1 & 14361 & 28620 & WASH7P:NR\\_024540.1    & . & - & 14260 & 0.190457404 & 3.627402e-02 & 163.61697071 & 2.178655e-01 & 0.1674576 &  0.8741973 & 1.58704620 & 0 & 749 & 99.7336884 & genes\\\\\n",
       "\t chr1 & 17368 & 17436 & MIR6859-1:NR\\_106918.1 & . & - &    69 & 0.000000000 & 0.000000e+00 &   0.00000000 & 0.000000e+00 & 0.0000000 &         NA & 0.00000000 & 0 &   0 &  0.0000000 & genes\\\\\n",
       "\t chr1 & 30365 & 30503 & MIR1302-2:NR\\_036051.1 & . & + &   139 & 0.034063044 & 1.160291e-03 &   0.93347658 & 1.242978e-03 & 0.0000000 & 27.4043792 & 0.93347658 & 0 &   1 &  0.1331558 & genes\\\\\n",
       "\t chr1 & 34610 & 35591 & FAM138A:NR\\_026818.1   & . & - &   982 & 0.002709721 & 7.342586e-06 &   0.07425821 & 9.887911e-05 & 0.0000000 & 27.4043792 & 0.07425821 & 0 &   1 &  0.1331558 & genes\\\\\n",
       "\t chr1 & 66168 & 71585 & OR4F5:NM\\_001005484.2  & . & + &  5418 & 0.002555593 & 6.531054e-06 &   0.18860450 & 2.511378e-04 & 0.0000000 & 10.1760572 & 0.04010044 & 0 &  11 &  1.4647137 & genes\\\\\n",
       "\\end{tabular}\n"
      ],
      "text/markdown": [
       "\n",
       "A data.table: 6 × 18\n",
       "\n",
       "| chrom &lt;chr&gt; | start &lt;int&gt; | stop &lt;int&gt; | gene_transcript &lt;chr&gt; | score &lt;chr&gt; | strand &lt;chr&gt; | length &lt;int&gt; | stdev &lt;dbl&gt; | variance &lt;dbl&gt; | sum &lt;dbl&gt; | mean &lt;dbl&gt; | median &lt;dbl&gt; | coefvar &lt;dbl&gt; | max &lt;dbl&gt; | min &lt;dbl&gt; | num_transcribed &lt;int&gt; | percent_transcribed &lt;dbl&gt; | transcript_type &lt;chr&gt; |\n",
       "|---|---|---|---|---|---|---|---|---|---|---|---|---|---|---|---|---|---|\n",
       "| chr1 | 12623 | 14409 | DDX11L1:NR_046018.2   | . | + |  1787 | 0.072099287 | 5.198307e-03 |   6.76054154 | 9.002053e-03 | 0.0000000 |  8.0092052 | 1.25232307 | 0 |  29 |  3.8615180 | genes |\n",
       "| chr1 | 14361 | 28620 | WASH7P:NR_024540.1    | . | - | 14260 | 0.190457404 | 3.627402e-02 | 163.61697071 | 2.178655e-01 | 0.1674576 |  0.8741973 | 1.58704620 | 0 | 749 | 99.7336884 | genes |\n",
       "| chr1 | 17368 | 17436 | MIR6859-1:NR_106918.1 | . | - |    69 | 0.000000000 | 0.000000e+00 |   0.00000000 | 0.000000e+00 | 0.0000000 |         NA | 0.00000000 | 0 |   0 |  0.0000000 | genes |\n",
       "| chr1 | 30365 | 30503 | MIR1302-2:NR_036051.1 | . | + |   139 | 0.034063044 | 1.160291e-03 |   0.93347658 | 1.242978e-03 | 0.0000000 | 27.4043792 | 0.93347658 | 0 |   1 |  0.1331558 | genes |\n",
       "| chr1 | 34610 | 35591 | FAM138A:NR_026818.1   | . | - |   982 | 0.002709721 | 7.342586e-06 |   0.07425821 | 9.887911e-05 | 0.0000000 | 27.4043792 | 0.07425821 | 0 |   1 |  0.1331558 | genes |\n",
       "| chr1 | 66168 | 71585 | OR4F5:NM_001005484.2  | . | + |  5418 | 0.002555593 | 6.531054e-06 |   0.18860450 | 2.511378e-04 | 0.0000000 | 10.1760572 | 0.04010044 | 0 |  11 |  1.4647137 | genes |\n",
       "\n"
      ],
      "text/plain": [
       "  chrom start stop  gene_transcript       score strand length stdev      \n",
       "1 chr1  12623 14409 DDX11L1:NR_046018.2   .     +       1787  0.072099287\n",
       "2 chr1  14361 28620 WASH7P:NR_024540.1    .     -      14260  0.190457404\n",
       "3 chr1  17368 17436 MIR6859-1:NR_106918.1 .     -         69  0.000000000\n",
       "4 chr1  30365 30503 MIR1302-2:NR_036051.1 .     +        139  0.034063044\n",
       "5 chr1  34610 35591 FAM138A:NR_026818.1   .     -        982  0.002709721\n",
       "6 chr1  66168 71585 OR4F5:NM_001005484.2  .     +       5418  0.002555593\n",
       "  variance     sum          mean         median    coefvar    max        min\n",
       "1 5.198307e-03   6.76054154 9.002053e-03 0.0000000  8.0092052 1.25232307 0  \n",
       "2 3.627402e-02 163.61697071 2.178655e-01 0.1674576  0.8741973 1.58704620 0  \n",
       "3 0.000000e+00   0.00000000 0.000000e+00 0.0000000         NA 0.00000000 0  \n",
       "4 1.160291e-03   0.93347658 1.242978e-03 0.0000000 27.4043792 0.93347658 0  \n",
       "5 7.342586e-06   0.07425821 9.887911e-05 0.0000000 27.4043792 0.07425821 0  \n",
       "6 6.531054e-06   0.18860450 2.511378e-04 0.0000000 10.1760572 0.04010044 0  \n",
       "  num_transcribed percent_transcribed transcript_type\n",
       "1  29              3.8615180          genes          \n",
       "2 749             99.7336884          genes          \n",
       "3   0              0.0000000          genes          \n",
       "4   1              0.1331558          genes          \n",
       "5   1              0.1331558          genes          \n",
       "6  11              1.4647137          genes          "
      ]
     },
     "metadata": {},
     "output_type": "display_data"
    }
   ],
   "source": [
    "head(gene_all_bidir_tpm_filtered_summary)"
   ]
  },
  {
   "cell_type": "code",
   "execution_count": 20,
   "metadata": {},
   "outputs": [
    {
     "data": {
      "text/html": [
       "876410"
      ],
      "text/latex": [
       "876410"
      ],
      "text/markdown": [
       "876410"
      ],
      "text/plain": [
       "[1] 876410"
      ]
     },
     "metadata": {},
     "output_type": "display_data"
    },
    {
     "data": {
      "text/html": [
       "720273"
      ],
      "text/latex": [
       "720273"
      ],
      "text/markdown": [
       "720273"
      ],
      "text/plain": [
       "[1] 720273"
      ]
     },
     "metadata": {},
     "output_type": "display_data"
    },
    {
     "data": {
      "text/html": [
       "156137"
      ],
      "text/latex": [
       "156137"
      ],
      "text/markdown": [
       "156137"
      ],
      "text/plain": [
       "[1] 156137"
      ]
     },
     "metadata": {},
     "output_type": "display_data"
    }
   ],
   "source": [
    "#filter by transcripts by  transcription\n",
    "\n",
    "filtered <- subset(gene_all_bidir_tpm_filtered_summary, max > 1 & num_transcribed > 19)\n",
    "\n",
    "nrow(gene_all_bidir_tpm_filtered_summary)\n",
    "nrow(filtered)\n",
    "nrow(gene_all_bidir_tpm_filtered_summary)- nrow(filtered)"
   ]
  },
  {
   "cell_type": "code",
   "execution_count": 21,
   "metadata": {},
   "outputs": [
    {
     "data": {
      "text/html": [
       "<style>\n",
       ".list-inline {list-style: none; margin:0; padding: 0}\n",
       ".list-inline>li {display: inline-block}\n",
       ".list-inline>li:not(:last-child)::after {content: \"\\00b7\"; padding: 0 .5ex}\n",
       "</style>\n",
       "<ol class=list-inline><li>350859</li><li>757</li></ol>\n"
      ],
      "text/latex": [
       "\\begin{enumerate*}\n",
       "\\item 350859\n",
       "\\item 757\n",
       "\\end{enumerate*}\n"
      ],
      "text/markdown": [
       "1. 350859\n",
       "2. 757\n",
       "\n",
       "\n"
      ],
      "text/plain": [
       "[1] 350859    757"
      ]
     },
     "metadata": {},
     "output_type": "display_data"
    }
   ],
   "source": [
    "genes_inter_bidir_filtered <- genes_inter_bidir[genes_inter_bidir$gene_transcript %in%\n",
    "                                                filtered$gene_transcript,]\n",
    "dim(genes_inter_bidir_filtered)"
   ]
  },
  {
   "cell_type": "code",
   "execution_count": 22,
   "metadata": {},
   "outputs": [],
   "source": [
    "data.table::fwrite(genes_inter_bidir_filtered,\n",
    "                   \"/Users/rusi2317/projects/meta_analysis_qc/hg38/processed_data/counts/normalized/genes_inter_bidir_filtered.tsv.gz\",\n",
    "                  sep='\\t')"
   ]
  },
  {
   "cell_type": "markdown",
   "metadata": {},
   "source": [
    "## Genes + Intragenic"
   ]
  },
  {
   "cell_type": "code",
   "execution_count": 23,
   "metadata": {},
   "outputs": [
    {
     "data": {
      "text/html": [
       "<style>\n",
       ".list-inline {list-style: none; margin:0; padding: 0}\n",
       ".list-inline>li {display: inline-block}\n",
       ".list-inline>li:not(:last-child)::after {content: \"\\00b7\"; padding: 0 .5ex}\n",
       "</style>\n",
       "<ol class=list-inline><li>523765</li><li>757</li></ol>\n"
      ],
      "text/latex": [
       "\\begin{enumerate*}\n",
       "\\item 523765\n",
       "\\item 757\n",
       "\\end{enumerate*}\n"
      ],
      "text/markdown": [
       "1. 523765\n",
       "2. 757\n",
       "\n",
       "\n"
      ],
      "text/plain": [
       "[1] 523765    757"
      ]
     },
     "metadata": {},
     "output_type": "display_data"
    },
    {
     "data": {
      "text/html": [
       "<table class=\"dataframe\">\n",
       "<caption>A data.table: 3 × 757</caption>\n",
       "<thead>\n",
       "\t<tr><th scope=col>chrom</th><th scope=col>start</th><th scope=col>stop</th><th scope=col>gene_transcript</th><th scope=col>score</th><th scope=col>strand</th><th scope=col>SRR7266931</th><th scope=col>SRR7266932</th><th scope=col>SRR7266933</th><th scope=col>SRR7266934</th><th scope=col>⋯</th><th scope=col>SRR3713715</th><th scope=col>SRR3713716</th><th scope=col>SRR3713717</th><th scope=col>SRR3713718</th><th scope=col>SRR8483105</th><th scope=col>SRR8483106</th><th scope=col>SRR8483107</th><th scope=col>SRR8483108</th><th scope=col>SRR8483109</th><th scope=col>SRR8483110</th></tr>\n",
       "\t<tr><th scope=col>&lt;chr&gt;</th><th scope=col>&lt;int&gt;</th><th scope=col>&lt;int&gt;</th><th scope=col>&lt;chr&gt;</th><th scope=col>&lt;chr&gt;</th><th scope=col>&lt;chr&gt;</th><th scope=col>&lt;dbl&gt;</th><th scope=col>&lt;dbl&gt;</th><th scope=col>&lt;dbl&gt;</th><th scope=col>&lt;dbl&gt;</th><th scope=col>⋯</th><th scope=col>&lt;dbl&gt;</th><th scope=col>&lt;dbl&gt;</th><th scope=col>&lt;dbl&gt;</th><th scope=col>&lt;dbl&gt;</th><th scope=col>&lt;dbl&gt;</th><th scope=col>&lt;dbl&gt;</th><th scope=col>&lt;dbl&gt;</th><th scope=col>&lt;dbl&gt;</th><th scope=col>&lt;dbl&gt;</th><th scope=col>&lt;dbl&gt;</th></tr>\n",
       "</thead>\n",
       "<tbody>\n",
       "\t<tr><td>chr19</td><td>58351969</td><td>58355183</td><td>A1BG-AS1:NR_015380.2</td><td>.</td><td>+</td><td>0.4715395</td><td>0.275847512</td><td>0.350156404</td><td>0.289034470</td><td>⋯</td><td>4.7901330211</td><td>8.908832855</td><td>9.3601802570</td><td>1.126521e+01</td><td>24.003756</td><td>23.515781</td><td>22.649555</td><td>21.094696</td><td>23.696213379</td><td>22.427576708</td></tr>\n",
       "\t<tr><td>chr19</td><td>58345182</td><td>58353492</td><td>A1BG:NM_130786.4    </td><td>.</td><td>-</td><td>0.6391889</td><td>0.413680061</td><td>0.742015737</td><td>0.722426895</td><td>⋯</td><td>1.7346237696</td><td>1.293155683</td><td>1.3308983947</td><td>1.224210e+00</td><td> 2.425766</td><td> 1.773117</td><td> 2.165353</td><td> 2.375756</td><td> 2.301772168</td><td> 2.450560985</td></tr>\n",
       "\t<tr><td>chr10</td><td>50799408</td><td>50885627</td><td>A1CF:NM_014576.4    </td><td>.</td><td>-</td><td>0.0000000</td><td>0.001591118</td><td>0.002164006</td><td>0.002778636</td><td>⋯</td><td>0.0004371834</td><td>0.001835253</td><td>0.0008409737</td><td>9.417236e-04</td><td> 0.000000</td><td> 0.000000</td><td> 0.000000</td><td> 0.000000</td><td> 0.002545294</td><td> 0.001178184</td></tr>\n",
       "</tbody>\n",
       "</table>\n"
      ],
      "text/latex": [
       "A data.table: 3 × 757\n",
       "\\begin{tabular}{lllllllllllllllllllll}\n",
       " chrom & start & stop & gene\\_transcript & score & strand & SRR7266931 & SRR7266932 & SRR7266933 & SRR7266934 & ⋯ & SRR3713715 & SRR3713716 & SRR3713717 & SRR3713718 & SRR8483105 & SRR8483106 & SRR8483107 & SRR8483108 & SRR8483109 & SRR8483110\\\\\n",
       " <chr> & <int> & <int> & <chr> & <chr> & <chr> & <dbl> & <dbl> & <dbl> & <dbl> & ⋯ & <dbl> & <dbl> & <dbl> & <dbl> & <dbl> & <dbl> & <dbl> & <dbl> & <dbl> & <dbl>\\\\\n",
       "\\hline\n",
       "\t chr19 & 58351969 & 58355183 & A1BG-AS1:NR\\_015380.2 & . & + & 0.4715395 & 0.275847512 & 0.350156404 & 0.289034470 & ⋯ & 4.7901330211 & 8.908832855 & 9.3601802570 & 1.126521e+01 & 24.003756 & 23.515781 & 22.649555 & 21.094696 & 23.696213379 & 22.427576708\\\\\n",
       "\t chr19 & 58345182 & 58353492 & A1BG:NM\\_130786.4     & . & - & 0.6391889 & 0.413680061 & 0.742015737 & 0.722426895 & ⋯ & 1.7346237696 & 1.293155683 & 1.3308983947 & 1.224210e+00 &  2.425766 &  1.773117 &  2.165353 &  2.375756 &  2.301772168 &  2.450560985\\\\\n",
       "\t chr10 & 50799408 & 50885627 & A1CF:NM\\_014576.4     & . & - & 0.0000000 & 0.001591118 & 0.002164006 & 0.002778636 & ⋯ & 0.0004371834 & 0.001835253 & 0.0008409737 & 9.417236e-04 &  0.000000 &  0.000000 &  0.000000 &  0.000000 &  0.002545294 &  0.001178184\\\\\n",
       "\\end{tabular}\n"
      ],
      "text/markdown": [
       "\n",
       "A data.table: 3 × 757\n",
       "\n",
       "| chrom &lt;chr&gt; | start &lt;int&gt; | stop &lt;int&gt; | gene_transcript &lt;chr&gt; | score &lt;chr&gt; | strand &lt;chr&gt; | SRR7266931 &lt;dbl&gt; | SRR7266932 &lt;dbl&gt; | SRR7266933 &lt;dbl&gt; | SRR7266934 &lt;dbl&gt; | ⋯ ⋯ | SRR3713715 &lt;dbl&gt; | SRR3713716 &lt;dbl&gt; | SRR3713717 &lt;dbl&gt; | SRR3713718 &lt;dbl&gt; | SRR8483105 &lt;dbl&gt; | SRR8483106 &lt;dbl&gt; | SRR8483107 &lt;dbl&gt; | SRR8483108 &lt;dbl&gt; | SRR8483109 &lt;dbl&gt; | SRR8483110 &lt;dbl&gt; |\n",
       "|---|---|---|---|---|---|---|---|---|---|---|---|---|---|---|---|---|---|---|---|---|\n",
       "| chr19 | 58351969 | 58355183 | A1BG-AS1:NR_015380.2 | . | + | 0.4715395 | 0.275847512 | 0.350156404 | 0.289034470 | ⋯ | 4.7901330211 | 8.908832855 | 9.3601802570 | 1.126521e+01 | 24.003756 | 23.515781 | 22.649555 | 21.094696 | 23.696213379 | 22.427576708 |\n",
       "| chr19 | 58345182 | 58353492 | A1BG:NM_130786.4     | . | - | 0.6391889 | 0.413680061 | 0.742015737 | 0.722426895 | ⋯ | 1.7346237696 | 1.293155683 | 1.3308983947 | 1.224210e+00 |  2.425766 |  1.773117 |  2.165353 |  2.375756 |  2.301772168 |  2.450560985 |\n",
       "| chr10 | 50799408 | 50885627 | A1CF:NM_014576.4     | . | - | 0.0000000 | 0.001591118 | 0.002164006 | 0.002778636 | ⋯ | 0.0004371834 | 0.001835253 | 0.0008409737 | 9.417236e-04 |  0.000000 |  0.000000 |  0.000000 |  0.000000 |  0.002545294 |  0.001178184 |\n",
       "\n"
      ],
      "text/plain": [
       "  chrom start    stop     gene_transcript      score strand SRR7266931\n",
       "1 chr19 58351969 58355183 A1BG-AS1:NR_015380.2 .     +      0.4715395 \n",
       "2 chr19 58345182 58353492 A1BG:NM_130786.4     .     -      0.6391889 \n",
       "3 chr10 50799408 50885627 A1CF:NM_014576.4     .     -      0.0000000 \n",
       "  SRR7266932  SRR7266933  SRR7266934  ⋯ SRR3713715   SRR3713716  SRR3713717  \n",
       "1 0.275847512 0.350156404 0.289034470 ⋯ 4.7901330211 8.908832855 9.3601802570\n",
       "2 0.413680061 0.742015737 0.722426895 ⋯ 1.7346237696 1.293155683 1.3308983947\n",
       "3 0.001591118 0.002164006 0.002778636 ⋯ 0.0004371834 0.001835253 0.0008409737\n",
       "  SRR3713718   SRR8483105 SRR8483106 SRR8483107 SRR8483108 SRR8483109  \n",
       "1 1.126521e+01 24.003756  23.515781  22.649555  21.094696  23.696213379\n",
       "2 1.224210e+00  2.425766   1.773117   2.165353   2.375756   2.301772168\n",
       "3 9.417236e-04  0.000000   0.000000   0.000000   0.000000   0.002545294\n",
       "  SRR8483110  \n",
       "1 22.427576708\n",
       "2  2.450560985\n",
       "3  0.001178184"
      ]
     },
     "metadata": {},
     "output_type": "display_data"
    }
   ],
   "source": [
    "genes_intra_bidir <- rbind(gene_new_annotations, bidir_tpm_intragenic)\n",
    "dim(genes_intra_bidir)\n",
    "head(genes_intra_bidir, 3)"
   ]
  },
  {
   "cell_type": "code",
   "execution_count": 24,
   "metadata": {},
   "outputs": [
    {
     "data": {
      "text/html": [
       "<style>\n",
       ".list-inline {list-style: none; margin:0; padding: 0}\n",
       ".list-inline>li {display: inline-block}\n",
       ".list-inline>li:not(:last-child)::after {content: \"\\00b7\"; padding: 0 .5ex}\n",
       "</style>\n",
       "<ol class=list-inline><li>393891</li><li>757</li></ol>\n"
      ],
      "text/latex": [
       "\\begin{enumerate*}\n",
       "\\item 393891\n",
       "\\item 757\n",
       "\\end{enumerate*}\n"
      ],
      "text/markdown": [
       "1. 393891\n",
       "2. 757\n",
       "\n",
       "\n"
      ],
      "text/plain": [
       "[1] 393891    757"
      ]
     },
     "metadata": {},
     "output_type": "display_data"
    }
   ],
   "source": [
    "#filter by transcripts by  transcription\n",
    "genes_intra_bidir_filtered <- genes_intra_bidir[genes_intra_bidir$gene_transcript %in%\n",
    "                                                filtered$gene_transcript,]\n",
    "dim(genes_intra_bidir_filtered)"
   ]
  },
  {
   "cell_type": "code",
   "execution_count": 25,
   "metadata": {},
   "outputs": [],
   "source": [
    "data.table::fwrite(genes_intra_bidir_filtered,\n",
    "                   \"/Users/rusi2317/projects/meta_analysis_qc/hg38/processed_data/counts/normalized/genes_intra_bidir_filtered.tsv.gz\",\n",
    "                  sep='\\t')"
   ]
  },
  {
   "cell_type": "markdown",
   "metadata": {},
   "source": [
    "# Session Information"
   ]
  },
  {
   "cell_type": "code",
   "execution_count": 26,
   "metadata": {},
   "outputs": [
    {
     "data": {
      "text/plain": [
       "R version 3.6.0 (2019-04-26)\n",
       "Platform: x86_64-redhat-linux-gnu (64-bit)\n",
       "Running under: CentOS Linux 7 (Core)\n",
       "\n",
       "Matrix products: default\n",
       "BLAS/LAPACK: /usr/lib64/R/lib/libRblas.so\n",
       "\n",
       "locale:\n",
       " [1] LC_CTYPE=en_US.UTF-8       LC_NUMERIC=C              \n",
       " [3] LC_TIME=en_US.UTF-8        LC_COLLATE=en_US.UTF-8    \n",
       " [5] LC_MONETARY=en_US.UTF-8    LC_MESSAGES=en_US.UTF-8   \n",
       " [7] LC_PAPER=en_US.UTF-8       LC_NAME=C                 \n",
       " [9] LC_ADDRESS=C               LC_TELEPHONE=C            \n",
       "[11] LC_MEASUREMENT=en_US.UTF-8 LC_IDENTIFICATION=C       \n",
       "\n",
       "attached base packages:\n",
       "[1] stats     graphics  grDevices utils     datasets  methods   base     \n",
       "\n",
       "other attached packages:\n",
       "[1] data.table_1.14.2\n",
       "\n",
       "loaded via a namespace (and not attached):\n",
       " [1] fansi_1.0.3       crayon_1.5.1      digest_0.6.29     utf8_1.2.2       \n",
       " [5] R.methodsS3_1.8.2 IRdisplay_1.1     repr_1.1.4        lifecycle_1.0.3  \n",
       " [9] jsonlite_1.8.0    evaluate_0.16     pillar_1.8.1      rlang_1.0.6      \n",
       "[13] cli_3.4.1         uuid_1.1-0        R.oo_1.25.0       R.utils_2.12.0   \n",
       "[17] vctrs_0.5.0       IRkernel_1.3.2    tools_3.6.0       glue_1.6.2       \n",
       "[21] fastmap_1.1.0     compiler_3.6.0    base64enc_0.1-3   pbdZMQ_0.3-7     \n",
       "[25] htmltools_0.5.2  "
      ]
     },
     "metadata": {},
     "output_type": "display_data"
    }
   ],
   "source": [
    "sessionInfo()"
   ]
  }
 ],
 "metadata": {
  "kernelspec": {
   "display_name": "R",
   "language": "R",
   "name": "ir"
  },
  "language_info": {
   "codemirror_mode": "r",
   "file_extension": ".r",
   "mimetype": "text/x-r-source",
   "name": "R",
   "pygments_lexer": "r",
   "version": "3.6.0"
  },
  "toc": {
   "base_numbering": 1,
   "nav_menu": {},
   "number_sections": true,
   "sideBar": true,
   "skip_h1_title": false,
   "title_cell": "Table of Contents",
   "title_sidebar": "Contents",
   "toc_cell": false,
   "toc_position": {
    "height": "calc(100% - 180px)",
    "left": "10px",
    "top": "150px",
    "width": "322px"
   },
   "toc_section_display": true,
   "toc_window_display": true
  }
 },
 "nbformat": 4,
 "nbformat_minor": 2
}
