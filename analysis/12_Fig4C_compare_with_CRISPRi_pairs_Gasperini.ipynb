{
 "cells": [
  {
   "cell_type": "markdown",
   "metadata": {},
   "source": [
    "**Author :** Rutendo F. Sigauke\n",
    "\n",
    "**Input  :** \n",
    "\n",
    "1. Further filtered significant pairs\n",
    "\n",
    "2. Normalized counts for intergenic bidirectionals and genes\n",
    "\n",
    "        - sig_inter_nobs_dist_filtered.txt.gz\n",
    "       \n",
    "3. Gasperini and bidirectional overlaps\n",
    "\n",
    "        - gasperini_bidirCalls_overlap.bed\n",
    "\n",
    "**Output :**\n",
    "\n",
    "1. Figures (overlap with validated pairs)"
   ]
  },
  {
   "cell_type": "markdown",
   "metadata": {},
   "source": [
    "# Introduction"
   ]
  },
  {
   "cell_type": "markdown",
   "metadata": {},
   "source": [
    "We took validated enhancers from Gasperini et al. and checked the recovery from our pairs compared to random gene--bidirectional pairs. Overall, we recover a significant overlap with the current gene--bidirectional pairs compared to a random set.\n",
    "\n",
    "*Gasperini, Molly, et al. \"A genome-wide framework for mapping gene regulation via cellular genetic screens.\" Cell 176.1 (2019): 377-390.*"
   ]
  },
  {
   "cell_type": "markdown",
   "metadata": {},
   "source": [
    "# Load libraries"
   ]
  },
  {
   "cell_type": "code",
   "execution_count": 1,
   "metadata": {},
   "outputs": [],
   "source": [
    "library(ggplot2) ##plotting package\n",
    "library(cowplot) ##plots + arrange plots etc\n",
    "library(data.table) ## load files into R faster"
   ]
  },
  {
   "cell_type": "markdown",
   "metadata": {},
   "source": [
    "# Functions\n"
   ]
  },
  {
   "cell_type": "markdown",
   "metadata": {},
   "source": [
    "## Filter pairs"
   ]
  },
  {
   "cell_type": "code",
   "execution_count": 2,
   "metadata": {},
   "outputs": [],
   "source": [
    "removing_DoPAD_bidirs <- function(pairs, dist_DoPAD=15000, number_observed=10) {\n",
    "    #' Remove pairs where the bidirectionals transcript is Downstream of Polyadenylation Site (DoPAD)\n",
    "    #1. Subset by distance from TES\n",
    "    pairs_dopad <- subset(pairs, abs(distance_tes) < dist_DoPAD)\n",
    "    \n",
    "    #2. Label bidirectionals that fall closer to the TES than to the TSS\n",
    "    pairs_dopad$filter <- ifelse(abs(pairs_dopad$distance_tss) < abs(pairs_dopad$distance_tes),\n",
    "                                        FALSE, TRUE)\n",
    "    \n",
    "    pairs_dopad_removing <- pairs_dopad[pairs_dopad$filter=='TRUE',]\n",
    "\n",
    "    #This removes any pairs with bidirectionals in DoPAD as opposed to only removing the pair\n",
    "    pairs_keeping <- pairs[!pairs$transcript_2 %in% pairs_dopad_removing$transcript_2,]\n",
    "    \n",
    "    pairs_keeping_nObs <- subset(pairs_keeping, nObs > number_observed)\n",
    "    return(pairs_keeping_nObs)\n",
    "}"
   ]
  },
  {
   "cell_type": "markdown",
   "metadata": {},
   "source": [
    "## Get random pairs"
   ]
  },
  {
   "cell_type": "code",
   "execution_count": 3,
   "metadata": {},
   "outputs": [],
   "source": [
    "shuffle_genes <- function(pairs_DT, seed=1235){\n",
    "    #' shuffle genes within a chromosome pairs\n",
    "    set.seed(seed)\n",
    "    \n",
    "    #1. assign a new data.table\n",
    "    pairs_DT_shuffled_genes <- pairs_DT\n",
    "    \n",
    "    #2. reassigned gene names with a shuffled list\n",
    "    pairs_DT_shuffled_genes$transcript_1 <- sample(pairs_DT$transcript_1, \n",
    "                                                     nrow(pairs_DT)) \n",
    "    return(pairs_DT_shuffled_genes)\n",
    "   \n",
    "}"
   ]
  },
  {
   "cell_type": "markdown",
   "metadata": {},
   "source": [
    "## Get overlaps with true pairs"
   ]
  },
  {
   "cell_type": "code",
   "execution_count": 4,
   "metadata": {},
   "outputs": [],
   "source": [
    "map_overlaps <- function(overlap_DT, nascent_pairs) {\n",
    "    \n",
    "    #1. label the bidirectional IDs from a merged bed6 file\n",
    "    #where the columns 6,7 and 8 are the coordinates for bidirectionals\n",
    "    overlap_DT$bidirid <- paste0(overlap_DT$V6,':',\n",
    "                                 overlap_DT$V7,'-',\n",
    "                                 overlap_DT$V8)\n",
    "    \n",
    "    #2. get the annotations for genes and bidirectionals from nascent derived pairs \n",
    "    nascent_pairs_gene <- nascent_pairs[,c('transcript_1','transcript_2')]\n",
    "    \n",
    "    #3. add the gene id\n",
    "    nascent_pairs_gene$gene_id <- as.character(lapply(strsplit(nascent_pairs_gene$transcript_1, ':'),\n",
    "                                                      `[`, 1))\n",
    "    \n",
    "    #4. combine the overlap files with the nascent pairs file based in bidirectional id\n",
    "    # This returns bidirectionals that overlap a feature (e.g. CRISPR-QTLs variant),\n",
    "    # and the nascent pairs associated with than bidirectional\n",
    "    overlap_DT_updated <- merge(overlap_DT, \n",
    "                                nascent_pairs_gene,\n",
    "                                by.x='bidirid', by.y='transcript_2')\n",
    "    \n",
    "    #5. Get regions with matching gene ids from the bidirectional overlaps \n",
    "    # This final step ensures that both the pairs match. (i.e variant - gene/CRISPR-QTL == bidir - gene)\n",
    "    overlap_DT_overlaps <- unique(overlap_DT_updated[overlap_DT_updated$V4 == overlap_DT_updated$gene_id,])\n",
    "    \n",
    "    return(overlap_DT_overlaps)\n",
    "    \n",
    "}"
   ]
  },
  {
   "cell_type": "markdown",
   "metadata": {},
   "source": [
    "# Load data\n",
    "\n",
    "## Significant pairs"
   ]
  },
  {
   "cell_type": "code",
   "execution_count": 5,
   "metadata": {},
   "outputs": [],
   "source": [
    "sig_pairs_path <- '/scratch/Users/rusi2317/projects/meta_analysis_qc/hg38/processed_data/correlations/inter/significant'\n",
    "\n",
    "##get paths for the counts tables\n",
    "sig_pairs_path_files <- list.files(path=sig_pairs_path, \n",
    "                              pattern=\"*gz\", \n",
    "                                   full.names=TRUE)\n",
    "\n",
    "##load correlations\n",
    "sig_pairs_path_DT_list <- lapply(sig_pairs_path_files, \n",
    "                                   data.table::fread) \n"
   ]
  },
  {
   "cell_type": "code",
   "execution_count": 6,
   "metadata": {},
   "outputs": [
    {
     "data": {
      "text/html": [
       "<style>\n",
       ".list-inline {list-style: none; margin:0; padding: 0}\n",
       ".list-inline>li {display: inline-block}\n",
       ".list-inline>li:not(:last-child)::after {content: \"\\00b7\"; padding: 0 .5ex}\n",
       "</style>\n",
       "<ol class=list-inline><li>'chr1'</li><li>'chr10'</li><li>'chr11'</li><li>'chr12'</li><li>'chr13'</li><li>'chr14'</li><li>'chr15'</li><li>'chr16'</li><li>'chr17'</li><li>'chr18'</li><li>'chr19'</li><li>'chr2'</li><li>'chr20'</li><li>'chr21'</li><li>'chr22'</li><li>'chr3'</li><li>'chr4'</li><li>'chr5'</li><li>'chr6'</li><li>'chr7'</li><li>'chr8'</li><li>'chr9'</li><li>'chrX'</li><li>'chrY'</li></ol>\n"
      ],
      "text/latex": [
       "\\begin{enumerate*}\n",
       "\\item 'chr1'\n",
       "\\item 'chr10'\n",
       "\\item 'chr11'\n",
       "\\item 'chr12'\n",
       "\\item 'chr13'\n",
       "\\item 'chr14'\n",
       "\\item 'chr15'\n",
       "\\item 'chr16'\n",
       "\\item 'chr17'\n",
       "\\item 'chr18'\n",
       "\\item 'chr19'\n",
       "\\item 'chr2'\n",
       "\\item 'chr20'\n",
       "\\item 'chr21'\n",
       "\\item 'chr22'\n",
       "\\item 'chr3'\n",
       "\\item 'chr4'\n",
       "\\item 'chr5'\n",
       "\\item 'chr6'\n",
       "\\item 'chr7'\n",
       "\\item 'chr8'\n",
       "\\item 'chr9'\n",
       "\\item 'chrX'\n",
       "\\item 'chrY'\n",
       "\\end{enumerate*}\n"
      ],
      "text/markdown": [
       "1. 'chr1'\n",
       "2. 'chr10'\n",
       "3. 'chr11'\n",
       "4. 'chr12'\n",
       "5. 'chr13'\n",
       "6. 'chr14'\n",
       "7. 'chr15'\n",
       "8. 'chr16'\n",
       "9. 'chr17'\n",
       "10. 'chr18'\n",
       "11. 'chr19'\n",
       "12. 'chr2'\n",
       "13. 'chr20'\n",
       "14. 'chr21'\n",
       "15. 'chr22'\n",
       "16. 'chr3'\n",
       "17. 'chr4'\n",
       "18. 'chr5'\n",
       "19. 'chr6'\n",
       "20. 'chr7'\n",
       "21. 'chr8'\n",
       "22. 'chr9'\n",
       "23. 'chrX'\n",
       "24. 'chrY'\n",
       "\n",
       "\n"
      ],
      "text/plain": [
       " [1] \"chr1\"  \"chr10\" \"chr11\" \"chr12\" \"chr13\" \"chr14\" \"chr15\" \"chr16\" \"chr17\"\n",
       "[10] \"chr18\" \"chr19\" \"chr2\"  \"chr20\" \"chr21\" \"chr22\" \"chr3\"  \"chr4\"  \"chr5\" \n",
       "[19] \"chr6\"  \"chr7\"  \"chr8\"  \"chr9\"  \"chrX\"  \"chrY\" "
      ]
     },
     "metadata": {},
     "output_type": "display_data"
    }
   ],
   "source": [
    "##add tissue ids\n",
    "sig_pairs_file_names <- tools::file_path_sans_ext(basename(sig_pairs_path_files)) #as.character(lapply(strsplit(sig_pairs_path_files, '/'), `[`, 11))\n",
    "sig_pairs_names_chr <- gsub(\"-\", \" \", as.character(lapply(strsplit(sig_pairs_file_names, '_'), `[`, 1)))\n",
    "sig_pairs_names_chr"
   ]
  },
  {
   "cell_type": "code",
   "execution_count": 7,
   "metadata": {},
   "outputs": [
    {
     "data": {
      "text/html": [
       "<style>\n",
       ".list-inline {list-style: none; margin:0; padding: 0}\n",
       ".list-inline>li {display: inline-block}\n",
       ".list-inline>li:not(:last-child)::after {content: \"\\00b7\"; padding: 0 .5ex}\n",
       "</style>\n",
       "<ol class=list-inline><li>3663224</li><li>22</li></ol>\n"
      ],
      "text/latex": [
       "\\begin{enumerate*}\n",
       "\\item 3663224\n",
       "\\item 22\n",
       "\\end{enumerate*}\n"
      ],
      "text/markdown": [
       "1. 3663224\n",
       "2. 22\n",
       "\n",
       "\n"
      ],
      "text/plain": [
       "[1] 3663224      22"
      ]
     },
     "metadata": {},
     "output_type": "display_data"
    },
    {
     "data": {
      "text/html": [
       "<table class=\"dataframe\">\n",
       "<caption>A data.table: 3 × 22</caption>\n",
       "<thead>\n",
       "\t<tr><th scope=col>transcript1_chrom</th><th scope=col>transcript1_start</th><th scope=col>transcript1_stop</th><th scope=col>transcript_1</th><th scope=col>transcript1_score</th><th scope=col>transcript1_strand</th><th scope=col>transcript2_chrom</th><th scope=col>transcript2_start</th><th scope=col>transcript2_stop</th><th scope=col>transcript_2</th><th scope=col>⋯</th><th scope=col>pcc</th><th scope=col>pval</th><th scope=col>adj_p_BH</th><th scope=col>nObs</th><th scope=col>t</th><th scope=col>distance_tss</th><th scope=col>distance_tes</th><th scope=col>position</th><th scope=col>tissue</th><th scope=col>percent_transcribed_both</th></tr>\n",
       "\t<tr><th scope=col>&lt;chr&gt;</th><th scope=col>&lt;int&gt;</th><th scope=col>&lt;int&gt;</th><th scope=col>&lt;chr&gt;</th><th scope=col>&lt;chr&gt;</th><th scope=col>&lt;chr&gt;</th><th scope=col>&lt;chr&gt;</th><th scope=col>&lt;int&gt;</th><th scope=col>&lt;int&gt;</th><th scope=col>&lt;chr&gt;</th><th scope=col>⋯</th><th scope=col>&lt;dbl&gt;</th><th scope=col>&lt;dbl&gt;</th><th scope=col>&lt;dbl&gt;</th><th scope=col>&lt;int&gt;</th><th scope=col>&lt;dbl&gt;</th><th scope=col>&lt;dbl&gt;</th><th scope=col>&lt;dbl&gt;</th><th scope=col>&lt;chr&gt;</th><th scope=col>&lt;chr&gt;</th><th scope=col>&lt;dbl&gt;</th></tr>\n",
       "</thead>\n",
       "<tbody>\n",
       "\t<tr><td>chr1</td><td>33306765</td><td>33321098</td><td>A3GALT2:NM_001080438.1</td><td>.</td><td>-</td><td>chr1</td><td>33036652</td><td>33037238</td><td>chr1:33036652-33037238</td><td>⋯</td><td>-0.6346208</td><td>1.238535e-25</td><td>9.631487e-23</td><td>215</td><td>11.984604</td><td>284153</td><td>269820</td><td>downstream</td><td>blood</td><td>96.846847</td></tr>\n",
       "\t<tr><td>chr1</td><td>33306765</td><td>33321098</td><td>A3GALT2:NM_001080438.1</td><td>.</td><td>-</td><td>chr1</td><td>33224694</td><td>33224966</td><td>chr1:33224694-33224966</td><td>⋯</td><td> 0.8022481</td><td>1.846433e-04</td><td>2.198101e-03</td><td> 16</td><td> 5.028114</td><td> 96268</td><td> 81935</td><td>downstream</td><td>blood</td><td> 7.207207</td></tr>\n",
       "\t<tr><td>chr1</td><td>33306765</td><td>33321098</td><td>A3GALT2:NM_001080438.1</td><td>.</td><td>-</td><td>chr1</td><td>33242850</td><td>33243170</td><td>chr1:33242850-33243170</td><td>⋯</td><td> 0.7175133</td><td>1.706406e-04</td><td>2.060092e-03</td><td> 22</td><td> 4.606764</td><td> 78088</td><td> 63755</td><td>downstream</td><td>blood</td><td> 9.909910</td></tr>\n",
       "</tbody>\n",
       "</table>\n"
      ],
      "text/latex": [
       "A data.table: 3 × 22\n",
       "\\begin{tabular}{lllllllllllllllllllll}\n",
       " transcript1\\_chrom & transcript1\\_start & transcript1\\_stop & transcript\\_1 & transcript1\\_score & transcript1\\_strand & transcript2\\_chrom & transcript2\\_start & transcript2\\_stop & transcript\\_2 & ⋯ & pcc & pval & adj\\_p\\_BH & nObs & t & distance\\_tss & distance\\_tes & position & tissue & percent\\_transcribed\\_both\\\\\n",
       " <chr> & <int> & <int> & <chr> & <chr> & <chr> & <chr> & <int> & <int> & <chr> & ⋯ & <dbl> & <dbl> & <dbl> & <int> & <dbl> & <dbl> & <dbl> & <chr> & <chr> & <dbl>\\\\\n",
       "\\hline\n",
       "\t chr1 & 33306765 & 33321098 & A3GALT2:NM\\_001080438.1 & . & - & chr1 & 33036652 & 33037238 & chr1:33036652-33037238 & ⋯ & -0.6346208 & 1.238535e-25 & 9.631487e-23 & 215 & 11.984604 & 284153 & 269820 & downstream & blood & 96.846847\\\\\n",
       "\t chr1 & 33306765 & 33321098 & A3GALT2:NM\\_001080438.1 & . & - & chr1 & 33224694 & 33224966 & chr1:33224694-33224966 & ⋯ &  0.8022481 & 1.846433e-04 & 2.198101e-03 &  16 &  5.028114 &  96268 &  81935 & downstream & blood &  7.207207\\\\\n",
       "\t chr1 & 33306765 & 33321098 & A3GALT2:NM\\_001080438.1 & . & - & chr1 & 33242850 & 33243170 & chr1:33242850-33243170 & ⋯ &  0.7175133 & 1.706406e-04 & 2.060092e-03 &  22 &  4.606764 &  78088 &  63755 & downstream & blood &  9.909910\\\\\n",
       "\\end{tabular}\n"
      ],
      "text/markdown": [
       "\n",
       "A data.table: 3 × 22\n",
       "\n",
       "| transcript1_chrom &lt;chr&gt; | transcript1_start &lt;int&gt; | transcript1_stop &lt;int&gt; | transcript_1 &lt;chr&gt; | transcript1_score &lt;chr&gt; | transcript1_strand &lt;chr&gt; | transcript2_chrom &lt;chr&gt; | transcript2_start &lt;int&gt; | transcript2_stop &lt;int&gt; | transcript_2 &lt;chr&gt; | ⋯ ⋯ | pcc &lt;dbl&gt; | pval &lt;dbl&gt; | adj_p_BH &lt;dbl&gt; | nObs &lt;int&gt; | t &lt;dbl&gt; | distance_tss &lt;dbl&gt; | distance_tes &lt;dbl&gt; | position &lt;chr&gt; | tissue &lt;chr&gt; | percent_transcribed_both &lt;dbl&gt; |\n",
       "|---|---|---|---|---|---|---|---|---|---|---|---|---|---|---|---|---|---|---|---|---|\n",
       "| chr1 | 33306765 | 33321098 | A3GALT2:NM_001080438.1 | . | - | chr1 | 33036652 | 33037238 | chr1:33036652-33037238 | ⋯ | -0.6346208 | 1.238535e-25 | 9.631487e-23 | 215 | 11.984604 | 284153 | 269820 | downstream | blood | 96.846847 |\n",
       "| chr1 | 33306765 | 33321098 | A3GALT2:NM_001080438.1 | . | - | chr1 | 33224694 | 33224966 | chr1:33224694-33224966 | ⋯ |  0.8022481 | 1.846433e-04 | 2.198101e-03 |  16 |  5.028114 |  96268 |  81935 | downstream | blood |  7.207207 |\n",
       "| chr1 | 33306765 | 33321098 | A3GALT2:NM_001080438.1 | . | - | chr1 | 33242850 | 33243170 | chr1:33242850-33243170 | ⋯ |  0.7175133 | 1.706406e-04 | 2.060092e-03 |  22 |  4.606764 |  78088 |  63755 | downstream | blood |  9.909910 |\n",
       "\n"
      ],
      "text/plain": [
       "  transcript1_chrom transcript1_start transcript1_stop transcript_1          \n",
       "1 chr1              33306765          33321098         A3GALT2:NM_001080438.1\n",
       "2 chr1              33306765          33321098         A3GALT2:NM_001080438.1\n",
       "3 chr1              33306765          33321098         A3GALT2:NM_001080438.1\n",
       "  transcript1_score transcript1_strand transcript2_chrom transcript2_start\n",
       "1 .                 -                  chr1              33036652         \n",
       "2 .                 -                  chr1              33224694         \n",
       "3 .                 -                  chr1              33242850         \n",
       "  transcript2_stop transcript_2           ⋯ pcc        pval        \n",
       "1 33037238         chr1:33036652-33037238 ⋯ -0.6346208 1.238535e-25\n",
       "2 33224966         chr1:33224694-33224966 ⋯  0.8022481 1.846433e-04\n",
       "3 33243170         chr1:33242850-33243170 ⋯  0.7175133 1.706406e-04\n",
       "  adj_p_BH     nObs t         distance_tss distance_tes position   tissue\n",
       "1 9.631487e-23 215  11.984604 284153       269820       downstream blood \n",
       "2 2.198101e-03  16   5.028114  96268        81935       downstream blood \n",
       "3 2.060092e-03  22   4.606764  78088        63755       downstream blood \n",
       "  percent_transcribed_both\n",
       "1 96.846847               \n",
       "2  7.207207               \n",
       "3  9.909910               "
      ]
     },
     "metadata": {},
     "output_type": "display_data"
    }
   ],
   "source": [
    "##combine to one data.table\n",
    "sig_pairs_path_DT <- do.call(rbind, sig_pairs_path_DT_list)\n",
    "dim(sig_pairs_path_DT)\n",
    "head(sig_pairs_path_DT, 3)"
   ]
  },
  {
   "cell_type": "code",
   "execution_count": 8,
   "metadata": {},
   "outputs": [
    {
     "data": {
      "text/html": [
       "<table class=\"dataframe\">\n",
       "<caption>A data.table: 3 × 23</caption>\n",
       "<thead>\n",
       "\t<tr><th scope=col>transcript1_chrom</th><th scope=col>transcript1_start</th><th scope=col>transcript1_stop</th><th scope=col>transcript_1</th><th scope=col>transcript1_score</th><th scope=col>transcript1_strand</th><th scope=col>transcript2_chrom</th><th scope=col>transcript2_start</th><th scope=col>transcript2_stop</th><th scope=col>transcript_2</th><th scope=col>⋯</th><th scope=col>pval</th><th scope=col>adj_p_BH</th><th scope=col>nObs</th><th scope=col>t</th><th scope=col>distance_tss</th><th scope=col>distance_tes</th><th scope=col>position</th><th scope=col>tissue</th><th scope=col>percent_transcribed_both</th><th scope=col>gene_id</th></tr>\n",
       "\t<tr><th scope=col>&lt;chr&gt;</th><th scope=col>&lt;int&gt;</th><th scope=col>&lt;int&gt;</th><th scope=col>&lt;chr&gt;</th><th scope=col>&lt;chr&gt;</th><th scope=col>&lt;chr&gt;</th><th scope=col>&lt;chr&gt;</th><th scope=col>&lt;int&gt;</th><th scope=col>&lt;int&gt;</th><th scope=col>&lt;chr&gt;</th><th scope=col>⋯</th><th scope=col>&lt;dbl&gt;</th><th scope=col>&lt;dbl&gt;</th><th scope=col>&lt;int&gt;</th><th scope=col>&lt;dbl&gt;</th><th scope=col>&lt;dbl&gt;</th><th scope=col>&lt;dbl&gt;</th><th scope=col>&lt;chr&gt;</th><th scope=col>&lt;chr&gt;</th><th scope=col>&lt;dbl&gt;</th><th scope=col>&lt;chr&gt;</th></tr>\n",
       "</thead>\n",
       "<tbody>\n",
       "\t<tr><td>chr1</td><td>33306765</td><td>33321098</td><td>A3GALT2:NM_001080438.1</td><td>.</td><td>-</td><td>chr1</td><td>33036652</td><td>33037238</td><td>chr1:33036652-33037238</td><td>⋯</td><td>1.238535e-25</td><td>9.631487e-23</td><td>215</td><td>11.984604</td><td>284153</td><td>269820</td><td>downstream</td><td>blood</td><td>96.846847</td><td>A3GALT2</td></tr>\n",
       "\t<tr><td>chr1</td><td>33306765</td><td>33321098</td><td>A3GALT2:NM_001080438.1</td><td>.</td><td>-</td><td>chr1</td><td>33224694</td><td>33224966</td><td>chr1:33224694-33224966</td><td>⋯</td><td>1.846433e-04</td><td>2.198101e-03</td><td> 16</td><td> 5.028114</td><td> 96268</td><td> 81935</td><td>downstream</td><td>blood</td><td> 7.207207</td><td>A3GALT2</td></tr>\n",
       "\t<tr><td>chr1</td><td>33306765</td><td>33321098</td><td>A3GALT2:NM_001080438.1</td><td>.</td><td>-</td><td>chr1</td><td>33242850</td><td>33243170</td><td>chr1:33242850-33243170</td><td>⋯</td><td>1.706406e-04</td><td>2.060092e-03</td><td> 22</td><td> 4.606764</td><td> 78088</td><td> 63755</td><td>downstream</td><td>blood</td><td> 9.909910</td><td>A3GALT2</td></tr>\n",
       "</tbody>\n",
       "</table>\n"
      ],
      "text/latex": [
       "A data.table: 3 × 23\n",
       "\\begin{tabular}{lllllllllllllllllllll}\n",
       " transcript1\\_chrom & transcript1\\_start & transcript1\\_stop & transcript\\_1 & transcript1\\_score & transcript1\\_strand & transcript2\\_chrom & transcript2\\_start & transcript2\\_stop & transcript\\_2 & ⋯ & pval & adj\\_p\\_BH & nObs & t & distance\\_tss & distance\\_tes & position & tissue & percent\\_transcribed\\_both & gene\\_id\\\\\n",
       " <chr> & <int> & <int> & <chr> & <chr> & <chr> & <chr> & <int> & <int> & <chr> & ⋯ & <dbl> & <dbl> & <int> & <dbl> & <dbl> & <dbl> & <chr> & <chr> & <dbl> & <chr>\\\\\n",
       "\\hline\n",
       "\t chr1 & 33306765 & 33321098 & A3GALT2:NM\\_001080438.1 & . & - & chr1 & 33036652 & 33037238 & chr1:33036652-33037238 & ⋯ & 1.238535e-25 & 9.631487e-23 & 215 & 11.984604 & 284153 & 269820 & downstream & blood & 96.846847 & A3GALT2\\\\\n",
       "\t chr1 & 33306765 & 33321098 & A3GALT2:NM\\_001080438.1 & . & - & chr1 & 33224694 & 33224966 & chr1:33224694-33224966 & ⋯ & 1.846433e-04 & 2.198101e-03 &  16 &  5.028114 &  96268 &  81935 & downstream & blood &  7.207207 & A3GALT2\\\\\n",
       "\t chr1 & 33306765 & 33321098 & A3GALT2:NM\\_001080438.1 & . & - & chr1 & 33242850 & 33243170 & chr1:33242850-33243170 & ⋯ & 1.706406e-04 & 2.060092e-03 &  22 &  4.606764 &  78088 &  63755 & downstream & blood &  9.909910 & A3GALT2\\\\\n",
       "\\end{tabular}\n"
      ],
      "text/markdown": [
       "\n",
       "A data.table: 3 × 23\n",
       "\n",
       "| transcript1_chrom &lt;chr&gt; | transcript1_start &lt;int&gt; | transcript1_stop &lt;int&gt; | transcript_1 &lt;chr&gt; | transcript1_score &lt;chr&gt; | transcript1_strand &lt;chr&gt; | transcript2_chrom &lt;chr&gt; | transcript2_start &lt;int&gt; | transcript2_stop &lt;int&gt; | transcript_2 &lt;chr&gt; | ⋯ ⋯ | pval &lt;dbl&gt; | adj_p_BH &lt;dbl&gt; | nObs &lt;int&gt; | t &lt;dbl&gt; | distance_tss &lt;dbl&gt; | distance_tes &lt;dbl&gt; | position &lt;chr&gt; | tissue &lt;chr&gt; | percent_transcribed_both &lt;dbl&gt; | gene_id &lt;chr&gt; |\n",
       "|---|---|---|---|---|---|---|---|---|---|---|---|---|---|---|---|---|---|---|---|---|\n",
       "| chr1 | 33306765 | 33321098 | A3GALT2:NM_001080438.1 | . | - | chr1 | 33036652 | 33037238 | chr1:33036652-33037238 | ⋯ | 1.238535e-25 | 9.631487e-23 | 215 | 11.984604 | 284153 | 269820 | downstream | blood | 96.846847 | A3GALT2 |\n",
       "| chr1 | 33306765 | 33321098 | A3GALT2:NM_001080438.1 | . | - | chr1 | 33224694 | 33224966 | chr1:33224694-33224966 | ⋯ | 1.846433e-04 | 2.198101e-03 |  16 |  5.028114 |  96268 |  81935 | downstream | blood |  7.207207 | A3GALT2 |\n",
       "| chr1 | 33306765 | 33321098 | A3GALT2:NM_001080438.1 | . | - | chr1 | 33242850 | 33243170 | chr1:33242850-33243170 | ⋯ | 1.706406e-04 | 2.060092e-03 |  22 |  4.606764 |  78088 |  63755 | downstream | blood |  9.909910 | A3GALT2 |\n",
       "\n"
      ],
      "text/plain": [
       "  transcript1_chrom transcript1_start transcript1_stop transcript_1          \n",
       "1 chr1              33306765          33321098         A3GALT2:NM_001080438.1\n",
       "2 chr1              33306765          33321098         A3GALT2:NM_001080438.1\n",
       "3 chr1              33306765          33321098         A3GALT2:NM_001080438.1\n",
       "  transcript1_score transcript1_strand transcript2_chrom transcript2_start\n",
       "1 .                 -                  chr1              33036652         \n",
       "2 .                 -                  chr1              33224694         \n",
       "3 .                 -                  chr1              33242850         \n",
       "  transcript2_stop transcript_2           ⋯ pval         adj_p_BH     nObs\n",
       "1 33037238         chr1:33036652-33037238 ⋯ 1.238535e-25 9.631487e-23 215 \n",
       "2 33224966         chr1:33224694-33224966 ⋯ 1.846433e-04 2.198101e-03  16 \n",
       "3 33243170         chr1:33242850-33243170 ⋯ 1.706406e-04 2.060092e-03  22 \n",
       "  t         distance_tss distance_tes position   tissue\n",
       "1 11.984604 284153       269820       downstream blood \n",
       "2  5.028114  96268        81935       downstream blood \n",
       "3  4.606764  78088        63755       downstream blood \n",
       "  percent_transcribed_both gene_id\n",
       "1 96.846847                A3GALT2\n",
       "2  7.207207                A3GALT2\n",
       "3  9.909910                A3GALT2"
      ]
     },
     "metadata": {},
     "output_type": "display_data"
    }
   ],
   "source": [
    "sig_pairs_path_DT$gene_id <- as.character(lapply(strsplit(sig_pairs_path_DT$transcript_1, ':'),\n",
    "                                                      `[`, 1))\n",
    "head(sig_pairs_path_DT, 3)"
   ]
  },
  {
   "cell_type": "code",
   "execution_count": 9,
   "metadata": {},
   "outputs": [
    {
     "data": {
      "text/html": [
       "1440890"
      ],
      "text/latex": [
       "1440890"
      ],
      "text/markdown": [
       "1440890"
      ],
      "text/plain": [
       "[1] 1440890"
      ]
     },
     "metadata": {},
     "output_type": "display_data"
    },
    {
     "data": {
      "text/html": [
       "<table class=\"dataframe\">\n",
       "<caption>A data.table: 3 × 23</caption>\n",
       "<thead>\n",
       "\t<tr><th scope=col>transcript1_chrom</th><th scope=col>transcript1_start</th><th scope=col>transcript1_stop</th><th scope=col>transcript_1</th><th scope=col>transcript1_score</th><th scope=col>transcript1_strand</th><th scope=col>transcript2_chrom</th><th scope=col>transcript2_start</th><th scope=col>transcript2_stop</th><th scope=col>transcript_2</th><th scope=col>⋯</th><th scope=col>pval</th><th scope=col>adj_p_BH</th><th scope=col>nObs</th><th scope=col>t</th><th scope=col>distance_tss</th><th scope=col>distance_tes</th><th scope=col>position</th><th scope=col>tissue</th><th scope=col>percent_transcribed_both</th><th scope=col>gene_id</th></tr>\n",
       "\t<tr><th scope=col>&lt;chr&gt;</th><th scope=col>&lt;int&gt;</th><th scope=col>&lt;int&gt;</th><th scope=col>&lt;chr&gt;</th><th scope=col>&lt;chr&gt;</th><th scope=col>&lt;chr&gt;</th><th scope=col>&lt;chr&gt;</th><th scope=col>&lt;int&gt;</th><th scope=col>&lt;int&gt;</th><th scope=col>&lt;chr&gt;</th><th scope=col>⋯</th><th scope=col>&lt;dbl&gt;</th><th scope=col>&lt;dbl&gt;</th><th scope=col>&lt;int&gt;</th><th scope=col>&lt;dbl&gt;</th><th scope=col>&lt;dbl&gt;</th><th scope=col>&lt;dbl&gt;</th><th scope=col>&lt;chr&gt;</th><th scope=col>&lt;chr&gt;</th><th scope=col>&lt;dbl&gt;</th><th scope=col>&lt;chr&gt;</th></tr>\n",
       "</thead>\n",
       "<tbody>\n",
       "\t<tr><td>chr1</td><td>33306765</td><td>33321098</td><td>A3GALT2:NM_001080438.1</td><td>.</td><td>-</td><td>chr1</td><td>33036652</td><td>33037238</td><td>chr1:33036652-33037238</td><td>⋯</td><td>1.238535e-25</td><td>9.631487e-23</td><td>215</td><td>11.984604</td><td>284153</td><td>269820</td><td>downstream</td><td>blood</td><td>96.846847</td><td>A3GALT2</td></tr>\n",
       "\t<tr><td>chr1</td><td>33306765</td><td>33321098</td><td>A3GALT2:NM_001080438.1</td><td>.</td><td>-</td><td>chr1</td><td>33224694</td><td>33224966</td><td>chr1:33224694-33224966</td><td>⋯</td><td>1.846433e-04</td><td>2.198101e-03</td><td> 16</td><td> 5.028114</td><td> 96268</td><td> 81935</td><td>downstream</td><td>blood</td><td> 7.207207</td><td>A3GALT2</td></tr>\n",
       "\t<tr><td>chr1</td><td>33306765</td><td>33321098</td><td>A3GALT2:NM_001080438.1</td><td>.</td><td>-</td><td>chr1</td><td>33242850</td><td>33243170</td><td>chr1:33242850-33243170</td><td>⋯</td><td>1.706406e-04</td><td>2.060092e-03</td><td> 22</td><td> 4.606764</td><td> 78088</td><td> 63755</td><td>downstream</td><td>blood</td><td> 9.909910</td><td>A3GALT2</td></tr>\n",
       "</tbody>\n",
       "</table>\n"
      ],
      "text/latex": [
       "A data.table: 3 × 23\n",
       "\\begin{tabular}{lllllllllllllllllllll}\n",
       " transcript1\\_chrom & transcript1\\_start & transcript1\\_stop & transcript\\_1 & transcript1\\_score & transcript1\\_strand & transcript2\\_chrom & transcript2\\_start & transcript2\\_stop & transcript\\_2 & ⋯ & pval & adj\\_p\\_BH & nObs & t & distance\\_tss & distance\\_tes & position & tissue & percent\\_transcribed\\_both & gene\\_id\\\\\n",
       " <chr> & <int> & <int> & <chr> & <chr> & <chr> & <chr> & <int> & <int> & <chr> & ⋯ & <dbl> & <dbl> & <int> & <dbl> & <dbl> & <dbl> & <chr> & <chr> & <dbl> & <chr>\\\\\n",
       "\\hline\n",
       "\t chr1 & 33306765 & 33321098 & A3GALT2:NM\\_001080438.1 & . & - & chr1 & 33036652 & 33037238 & chr1:33036652-33037238 & ⋯ & 1.238535e-25 & 9.631487e-23 & 215 & 11.984604 & 284153 & 269820 & downstream & blood & 96.846847 & A3GALT2\\\\\n",
       "\t chr1 & 33306765 & 33321098 & A3GALT2:NM\\_001080438.1 & . & - & chr1 & 33224694 & 33224966 & chr1:33224694-33224966 & ⋯ & 1.846433e-04 & 2.198101e-03 &  16 &  5.028114 &  96268 &  81935 & downstream & blood &  7.207207 & A3GALT2\\\\\n",
       "\t chr1 & 33306765 & 33321098 & A3GALT2:NM\\_001080438.1 & . & - & chr1 & 33242850 & 33243170 & chr1:33242850-33243170 & ⋯ & 1.706406e-04 & 2.060092e-03 &  22 &  4.606764 &  78088 &  63755 & downstream & blood &  9.909910 & A3GALT2\\\\\n",
       "\\end{tabular}\n"
      ],
      "text/markdown": [
       "\n",
       "A data.table: 3 × 23\n",
       "\n",
       "| transcript1_chrom &lt;chr&gt; | transcript1_start &lt;int&gt; | transcript1_stop &lt;int&gt; | transcript_1 &lt;chr&gt; | transcript1_score &lt;chr&gt; | transcript1_strand &lt;chr&gt; | transcript2_chrom &lt;chr&gt; | transcript2_start &lt;int&gt; | transcript2_stop &lt;int&gt; | transcript_2 &lt;chr&gt; | ⋯ ⋯ | pval &lt;dbl&gt; | adj_p_BH &lt;dbl&gt; | nObs &lt;int&gt; | t &lt;dbl&gt; | distance_tss &lt;dbl&gt; | distance_tes &lt;dbl&gt; | position &lt;chr&gt; | tissue &lt;chr&gt; | percent_transcribed_both &lt;dbl&gt; | gene_id &lt;chr&gt; |\n",
       "|---|---|---|---|---|---|---|---|---|---|---|---|---|---|---|---|---|---|---|---|---|\n",
       "| chr1 | 33306765 | 33321098 | A3GALT2:NM_001080438.1 | . | - | chr1 | 33036652 | 33037238 | chr1:33036652-33037238 | ⋯ | 1.238535e-25 | 9.631487e-23 | 215 | 11.984604 | 284153 | 269820 | downstream | blood | 96.846847 | A3GALT2 |\n",
       "| chr1 | 33306765 | 33321098 | A3GALT2:NM_001080438.1 | . | - | chr1 | 33224694 | 33224966 | chr1:33224694-33224966 | ⋯ | 1.846433e-04 | 2.198101e-03 |  16 |  5.028114 |  96268 |  81935 | downstream | blood |  7.207207 | A3GALT2 |\n",
       "| chr1 | 33306765 | 33321098 | A3GALT2:NM_001080438.1 | . | - | chr1 | 33242850 | 33243170 | chr1:33242850-33243170 | ⋯ | 1.706406e-04 | 2.060092e-03 |  22 |  4.606764 |  78088 |  63755 | downstream | blood |  9.909910 | A3GALT2 |\n",
       "\n"
      ],
      "text/plain": [
       "  transcript1_chrom transcript1_start transcript1_stop transcript_1          \n",
       "1 chr1              33306765          33321098         A3GALT2:NM_001080438.1\n",
       "2 chr1              33306765          33321098         A3GALT2:NM_001080438.1\n",
       "3 chr1              33306765          33321098         A3GALT2:NM_001080438.1\n",
       "  transcript1_score transcript1_strand transcript2_chrom transcript2_start\n",
       "1 .                 -                  chr1              33036652         \n",
       "2 .                 -                  chr1              33224694         \n",
       "3 .                 -                  chr1              33242850         \n",
       "  transcript2_stop transcript_2           ⋯ pval         adj_p_BH     nObs\n",
       "1 33037238         chr1:33036652-33037238 ⋯ 1.238535e-25 9.631487e-23 215 \n",
       "2 33224966         chr1:33224694-33224966 ⋯ 1.846433e-04 2.198101e-03  16 \n",
       "3 33243170         chr1:33242850-33243170 ⋯ 1.706406e-04 2.060092e-03  22 \n",
       "  t         distance_tss distance_tes position   tissue\n",
       "1 11.984604 284153       269820       downstream blood \n",
       "2  5.028114  96268        81935       downstream blood \n",
       "3  4.606764  78088        63755       downstream blood \n",
       "  percent_transcribed_both gene_id\n",
       "1 96.846847                A3GALT2\n",
       "2  7.207207                A3GALT2\n",
       "3  9.909910                A3GALT2"
      ]
     },
     "metadata": {},
     "output_type": "display_data"
    }
   ],
   "source": [
    "sig_pairs_path_DT_filt <- removing_DoPAD_bidirs(sig_pairs_path_DT)\n",
    "nrow(sig_pairs_path_DT_filt)\n",
    "head(sig_pairs_path_DT_filt, 3)"
   ]
  },
  {
   "cell_type": "code",
   "execution_count": 10,
   "metadata": {},
   "outputs": [
    {
     "data": {
      "text/html": [
       "1094246"
      ],
      "text/latex": [
       "1094246"
      ],
      "text/markdown": [
       "1094246"
      ],
      "text/plain": [
       "[1] 1094246"
      ]
     },
     "metadata": {},
     "output_type": "display_data"
    },
    {
     "data": {
      "text/html": [
       "<table class=\"dataframe\">\n",
       "<caption>A data.table: 3 × 2</caption>\n",
       "<thead>\n",
       "\t<tr><th scope=col>transcript_1</th><th scope=col>transcript_2</th></tr>\n",
       "\t<tr><th scope=col>&lt;chr&gt;</th><th scope=col>&lt;chr&gt;</th></tr>\n",
       "</thead>\n",
       "<tbody>\n",
       "\t<tr><td>A3GALT2:NM_001080438.1</td><td>chr1:33036652-33037238</td></tr>\n",
       "\t<tr><td>A3GALT2:NM_001080438.1</td><td>chr1:33224694-33224966</td></tr>\n",
       "\t<tr><td>A3GALT2:NM_001080438.1</td><td>chr1:33242850-33243170</td></tr>\n",
       "</tbody>\n",
       "</table>\n"
      ],
      "text/latex": [
       "A data.table: 3 × 2\n",
       "\\begin{tabular}{ll}\n",
       " transcript\\_1 & transcript\\_2\\\\\n",
       " <chr> & <chr>\\\\\n",
       "\\hline\n",
       "\t A3GALT2:NM\\_001080438.1 & chr1:33036652-33037238\\\\\n",
       "\t A3GALT2:NM\\_001080438.1 & chr1:33224694-33224966\\\\\n",
       "\t A3GALT2:NM\\_001080438.1 & chr1:33242850-33243170\\\\\n",
       "\\end{tabular}\n"
      ],
      "text/markdown": [
       "\n",
       "A data.table: 3 × 2\n",
       "\n",
       "| transcript_1 &lt;chr&gt; | transcript_2 &lt;chr&gt; |\n",
       "|---|---|\n",
       "| A3GALT2:NM_001080438.1 | chr1:33036652-33037238 |\n",
       "| A3GALT2:NM_001080438.1 | chr1:33224694-33224966 |\n",
       "| A3GALT2:NM_001080438.1 | chr1:33242850-33243170 |\n",
       "\n"
      ],
      "text/plain": [
       "  transcript_1           transcript_2          \n",
       "1 A3GALT2:NM_001080438.1 chr1:33036652-33037238\n",
       "2 A3GALT2:NM_001080438.1 chr1:33224694-33224966\n",
       "3 A3GALT2:NM_001080438.1 chr1:33242850-33243170"
      ]
     },
     "metadata": {},
     "output_type": "display_data"
    }
   ],
   "source": [
    "##Get unique pairs from significant data\n",
    "unique_pairs <- unique(sig_pairs_path_DT_filt[,c('transcript_1',\n",
    "                                                 'transcript_2')])\n",
    "\n",
    "nrow(unique_pairs)\n",
    "head(unique_pairs, 3)"
   ]
  },
  {
   "cell_type": "markdown",
   "metadata": {},
   "source": [
    "## Counted transcripts used in correlation"
   ]
  },
  {
   "cell_type": "code",
   "execution_count": 11,
   "metadata": {},
   "outputs": [
    {
     "data": {
      "text/html": [
       "350859"
      ],
      "text/latex": [
       "350859"
      ],
      "text/markdown": [
       "350859"
      ],
      "text/plain": [
       "[1] 350859"
      ]
     },
     "metadata": {},
     "output_type": "display_data"
    },
    {
     "data": {
      "text/html": [
       "<table class=\"dataframe\">\n",
       "<caption>A data.table: 3 × 758</caption>\n",
       "<thead>\n",
       "\t<tr><th scope=col>chrom</th><th scope=col>start</th><th scope=col>stop</th><th scope=col>gene_transcript</th><th scope=col>score</th><th scope=col>strand</th><th scope=col>SRR7266931</th><th scope=col>SRR7266932</th><th scope=col>SRR7266933</th><th scope=col>SRR7266934</th><th scope=col>⋯</th><th scope=col>SRR3713716</th><th scope=col>SRR3713717</th><th scope=col>SRR3713718</th><th scope=col>SRR8483105</th><th scope=col>SRR8483106</th><th scope=col>SRR8483107</th><th scope=col>SRR8483108</th><th scope=col>SRR8483109</th><th scope=col>SRR8483110</th><th scope=col>gene_id</th></tr>\n",
       "\t<tr><th scope=col>&lt;chr&gt;</th><th scope=col>&lt;int&gt;</th><th scope=col>&lt;int&gt;</th><th scope=col>&lt;chr&gt;</th><th scope=col>&lt;chr&gt;</th><th scope=col>&lt;chr&gt;</th><th scope=col>&lt;dbl&gt;</th><th scope=col>&lt;dbl&gt;</th><th scope=col>&lt;dbl&gt;</th><th scope=col>&lt;dbl&gt;</th><th scope=col>⋯</th><th scope=col>&lt;dbl&gt;</th><th scope=col>&lt;dbl&gt;</th><th scope=col>&lt;dbl&gt;</th><th scope=col>&lt;dbl&gt;</th><th scope=col>&lt;dbl&gt;</th><th scope=col>&lt;dbl&gt;</th><th scope=col>&lt;dbl&gt;</th><th scope=col>&lt;dbl&gt;</th><th scope=col>&lt;dbl&gt;</th><th scope=col>&lt;chr&gt;</th></tr>\n",
       "</thead>\n",
       "<tbody>\n",
       "\t<tr><td>chr19</td><td>58351969</td><td>58355183</td><td>A1BG-AS1:NR_015380.2</td><td>.</td><td>+</td><td>0.4715395</td><td>0.275847512</td><td>0.350156404</td><td>0.289034470</td><td>⋯</td><td>8.908832855</td><td>9.3601802570</td><td>1.126521e+01</td><td>24.003756</td><td>23.515781</td><td>22.649555</td><td>21.094696</td><td>23.696213379</td><td>22.427576708</td><td>A1BG-AS1</td></tr>\n",
       "\t<tr><td>chr19</td><td>58345182</td><td>58353492</td><td>A1BG:NM_130786.4    </td><td>.</td><td>-</td><td>0.6391889</td><td>0.413680061</td><td>0.742015737</td><td>0.722426895</td><td>⋯</td><td>1.293155683</td><td>1.3308983947</td><td>1.224210e+00</td><td> 2.425766</td><td> 1.773117</td><td> 2.165353</td><td> 2.375756</td><td> 2.301772168</td><td> 2.450560985</td><td>A1BG    </td></tr>\n",
       "\t<tr><td>chr10</td><td>50799408</td><td>50885627</td><td>A1CF:NM_014576.4    </td><td>.</td><td>-</td><td>0.0000000</td><td>0.001591118</td><td>0.002164006</td><td>0.002778636</td><td>⋯</td><td>0.001835253</td><td>0.0008409737</td><td>9.417236e-04</td><td> 0.000000</td><td> 0.000000</td><td> 0.000000</td><td> 0.000000</td><td> 0.002545294</td><td> 0.001178184</td><td>A1CF    </td></tr>\n",
       "</tbody>\n",
       "</table>\n"
      ],
      "text/latex": [
       "A data.table: 3 × 758\n",
       "\\begin{tabular}{lllllllllllllllllllll}\n",
       " chrom & start & stop & gene\\_transcript & score & strand & SRR7266931 & SRR7266932 & SRR7266933 & SRR7266934 & ⋯ & SRR3713716 & SRR3713717 & SRR3713718 & SRR8483105 & SRR8483106 & SRR8483107 & SRR8483108 & SRR8483109 & SRR8483110 & gene\\_id\\\\\n",
       " <chr> & <int> & <int> & <chr> & <chr> & <chr> & <dbl> & <dbl> & <dbl> & <dbl> & ⋯ & <dbl> & <dbl> & <dbl> & <dbl> & <dbl> & <dbl> & <dbl> & <dbl> & <dbl> & <chr>\\\\\n",
       "\\hline\n",
       "\t chr19 & 58351969 & 58355183 & A1BG-AS1:NR\\_015380.2 & . & + & 0.4715395 & 0.275847512 & 0.350156404 & 0.289034470 & ⋯ & 8.908832855 & 9.3601802570 & 1.126521e+01 & 24.003756 & 23.515781 & 22.649555 & 21.094696 & 23.696213379 & 22.427576708 & A1BG-AS1\\\\\n",
       "\t chr19 & 58345182 & 58353492 & A1BG:NM\\_130786.4     & . & - & 0.6391889 & 0.413680061 & 0.742015737 & 0.722426895 & ⋯ & 1.293155683 & 1.3308983947 & 1.224210e+00 &  2.425766 &  1.773117 &  2.165353 &  2.375756 &  2.301772168 &  2.450560985 & A1BG    \\\\\n",
       "\t chr10 & 50799408 & 50885627 & A1CF:NM\\_014576.4     & . & - & 0.0000000 & 0.001591118 & 0.002164006 & 0.002778636 & ⋯ & 0.001835253 & 0.0008409737 & 9.417236e-04 &  0.000000 &  0.000000 &  0.000000 &  0.000000 &  0.002545294 &  0.001178184 & A1CF    \\\\\n",
       "\\end{tabular}\n"
      ],
      "text/markdown": [
       "\n",
       "A data.table: 3 × 758\n",
       "\n",
       "| chrom &lt;chr&gt; | start &lt;int&gt; | stop &lt;int&gt; | gene_transcript &lt;chr&gt; | score &lt;chr&gt; | strand &lt;chr&gt; | SRR7266931 &lt;dbl&gt; | SRR7266932 &lt;dbl&gt; | SRR7266933 &lt;dbl&gt; | SRR7266934 &lt;dbl&gt; | ⋯ ⋯ | SRR3713716 &lt;dbl&gt; | SRR3713717 &lt;dbl&gt; | SRR3713718 &lt;dbl&gt; | SRR8483105 &lt;dbl&gt; | SRR8483106 &lt;dbl&gt; | SRR8483107 &lt;dbl&gt; | SRR8483108 &lt;dbl&gt; | SRR8483109 &lt;dbl&gt; | SRR8483110 &lt;dbl&gt; | gene_id &lt;chr&gt; |\n",
       "|---|---|---|---|---|---|---|---|---|---|---|---|---|---|---|---|---|---|---|---|---|\n",
       "| chr19 | 58351969 | 58355183 | A1BG-AS1:NR_015380.2 | . | + | 0.4715395 | 0.275847512 | 0.350156404 | 0.289034470 | ⋯ | 8.908832855 | 9.3601802570 | 1.126521e+01 | 24.003756 | 23.515781 | 22.649555 | 21.094696 | 23.696213379 | 22.427576708 | A1BG-AS1 |\n",
       "| chr19 | 58345182 | 58353492 | A1BG:NM_130786.4     | . | - | 0.6391889 | 0.413680061 | 0.742015737 | 0.722426895 | ⋯ | 1.293155683 | 1.3308983947 | 1.224210e+00 |  2.425766 |  1.773117 |  2.165353 |  2.375756 |  2.301772168 |  2.450560985 | A1BG     |\n",
       "| chr10 | 50799408 | 50885627 | A1CF:NM_014576.4     | . | - | 0.0000000 | 0.001591118 | 0.002164006 | 0.002778636 | ⋯ | 0.001835253 | 0.0008409737 | 9.417236e-04 |  0.000000 |  0.000000 |  0.000000 |  0.000000 |  0.002545294 |  0.001178184 | A1CF     |\n",
       "\n"
      ],
      "text/plain": [
       "  chrom start    stop     gene_transcript      score strand SRR7266931\n",
       "1 chr19 58351969 58355183 A1BG-AS1:NR_015380.2 .     +      0.4715395 \n",
       "2 chr19 58345182 58353492 A1BG:NM_130786.4     .     -      0.6391889 \n",
       "3 chr10 50799408 50885627 A1CF:NM_014576.4     .     -      0.0000000 \n",
       "  SRR7266932  SRR7266933  SRR7266934  ⋯ SRR3713716  SRR3713717   SRR3713718  \n",
       "1 0.275847512 0.350156404 0.289034470 ⋯ 8.908832855 9.3601802570 1.126521e+01\n",
       "2 0.413680061 0.742015737 0.722426895 ⋯ 1.293155683 1.3308983947 1.224210e+00\n",
       "3 0.001591118 0.002164006 0.002778636 ⋯ 0.001835253 0.0008409737 9.417236e-04\n",
       "  SRR8483105 SRR8483106 SRR8483107 SRR8483108 SRR8483109   SRR8483110  \n",
       "1 24.003756  23.515781  22.649555  21.094696  23.696213379 22.427576708\n",
       "2  2.425766   1.773117   2.165353   2.375756   2.301772168  2.450560985\n",
       "3  0.000000   0.000000   0.000000   0.000000   0.002545294  0.001178184\n",
       "  gene_id \n",
       "1 A1BG-AS1\n",
       "2 A1BG    \n",
       "3 A1CF    "
      ]
     },
     "metadata": {},
     "output_type": "display_data"
    }
   ],
   "source": [
    "counted_txpts <- data.table::fread('/scratch/Users/rusi2317/projects/meta_analysis_qc/hg38/processed_data/counts/normalized/genes_inter_bidir_filtered.tsv.gz')\n",
    "counted_txpts$gene_id <- as.character(lapply(strsplit(counted_txpts$gene_transcript, ':'),\n",
    "                                                      `[`, 1)) \n",
    "nrow(counted_txpts)\n",
    "head(counted_txpts, 3)"
   ]
  },
  {
   "cell_type": "markdown",
   "metadata": {},
   "source": [
    "# Analysis\n",
    "\n",
    "## Randomize pairs"
   ]
  },
  {
   "cell_type": "code",
   "execution_count": 12,
   "metadata": {},
   "outputs": [
    {
     "data": {
      "text/html": [
       "<style>\n",
       ".list-inline {list-style: none; margin:0; padding: 0}\n",
       ".list-inline>li {display: inline-block}\n",
       ".list-inline>li:not(:last-child)::after {content: \"\\00b7\"; padding: 0 .5ex}\n",
       "</style>\n",
       "<ol class=list-inline><li>3663224</li><li>22</li></ol>\n"
      ],
      "text/latex": [
       "\\begin{enumerate*}\n",
       "\\item 3663224\n",
       "\\item 22\n",
       "\\end{enumerate*}\n"
      ],
      "text/markdown": [
       "1. 3663224\n",
       "2. 22\n",
       "\n",
       "\n"
      ],
      "text/plain": [
       "[1] 3663224      22"
      ]
     },
     "metadata": {},
     "output_type": "display_data"
    },
    {
     "data": {
      "text/html": [
       "<table class=\"dataframe\">\n",
       "<caption>A data.table: 3 × 22</caption>\n",
       "<thead>\n",
       "\t<tr><th scope=col>transcript1_chrom</th><th scope=col>transcript1_start</th><th scope=col>transcript1_stop</th><th scope=col>transcript_1</th><th scope=col>transcript1_score</th><th scope=col>transcript1_strand</th><th scope=col>transcript2_chrom</th><th scope=col>transcript2_start</th><th scope=col>transcript2_stop</th><th scope=col>transcript_2</th><th scope=col>⋯</th><th scope=col>pcc</th><th scope=col>pval</th><th scope=col>adj_p_BH</th><th scope=col>nObs</th><th scope=col>t</th><th scope=col>distance_tss</th><th scope=col>distance_tes</th><th scope=col>position</th><th scope=col>tissue</th><th scope=col>percent_transcribed_both</th></tr>\n",
       "\t<tr><th scope=col>&lt;chr&gt;</th><th scope=col>&lt;int&gt;</th><th scope=col>&lt;int&gt;</th><th scope=col>&lt;chr&gt;</th><th scope=col>&lt;chr&gt;</th><th scope=col>&lt;chr&gt;</th><th scope=col>&lt;chr&gt;</th><th scope=col>&lt;int&gt;</th><th scope=col>&lt;int&gt;</th><th scope=col>&lt;chr&gt;</th><th scope=col>⋯</th><th scope=col>&lt;dbl&gt;</th><th scope=col>&lt;dbl&gt;</th><th scope=col>&lt;dbl&gt;</th><th scope=col>&lt;int&gt;</th><th scope=col>&lt;dbl&gt;</th><th scope=col>&lt;dbl&gt;</th><th scope=col>&lt;dbl&gt;</th><th scope=col>&lt;chr&gt;</th><th scope=col>&lt;chr&gt;</th><th scope=col>&lt;dbl&gt;</th></tr>\n",
       "</thead>\n",
       "<tbody>\n",
       "\t<tr><td>chr1</td><td>33306765</td><td>33321098</td><td>CDC73:NM_024529.5   </td><td>.</td><td>-</td><td>chr1</td><td>33036652</td><td>33037238</td><td>chr1:33036652-33037238</td><td>⋯</td><td>-0.6346208</td><td>1.238535e-25</td><td>9.631487e-23</td><td>215</td><td>11.984604</td><td>284153</td><td>269820</td><td>downstream</td><td>blood</td><td>96.846847</td></tr>\n",
       "\t<tr><td>chr1</td><td>33306765</td><td>33321098</td><td>NBPF14:NM_015383.2  </td><td>.</td><td>-</td><td>chr1</td><td>33224694</td><td>33224966</td><td>chr1:33224694-33224966</td><td>⋯</td><td> 0.8022481</td><td>1.846433e-04</td><td>2.198101e-03</td><td> 16</td><td> 5.028114</td><td> 96268</td><td> 81935</td><td>downstream</td><td>blood</td><td> 7.207207</td></tr>\n",
       "\t<tr><td>chr1</td><td>33306765</td><td>33321098</td><td>ACTG1P20:NR_033926.1</td><td>.</td><td>-</td><td>chr1</td><td>33242850</td><td>33243170</td><td>chr1:33242850-33243170</td><td>⋯</td><td> 0.7175133</td><td>1.706406e-04</td><td>2.060092e-03</td><td> 22</td><td> 4.606764</td><td> 78088</td><td> 63755</td><td>downstream</td><td>blood</td><td> 9.909910</td></tr>\n",
       "</tbody>\n",
       "</table>\n"
      ],
      "text/latex": [
       "A data.table: 3 × 22\n",
       "\\begin{tabular}{lllllllllllllllllllll}\n",
       " transcript1\\_chrom & transcript1\\_start & transcript1\\_stop & transcript\\_1 & transcript1\\_score & transcript1\\_strand & transcript2\\_chrom & transcript2\\_start & transcript2\\_stop & transcript\\_2 & ⋯ & pcc & pval & adj\\_p\\_BH & nObs & t & distance\\_tss & distance\\_tes & position & tissue & percent\\_transcribed\\_both\\\\\n",
       " <chr> & <int> & <int> & <chr> & <chr> & <chr> & <chr> & <int> & <int> & <chr> & ⋯ & <dbl> & <dbl> & <dbl> & <int> & <dbl> & <dbl> & <dbl> & <chr> & <chr> & <dbl>\\\\\n",
       "\\hline\n",
       "\t chr1 & 33306765 & 33321098 & CDC73:NM\\_024529.5    & . & - & chr1 & 33036652 & 33037238 & chr1:33036652-33037238 & ⋯ & -0.6346208 & 1.238535e-25 & 9.631487e-23 & 215 & 11.984604 & 284153 & 269820 & downstream & blood & 96.846847\\\\\n",
       "\t chr1 & 33306765 & 33321098 & NBPF14:NM\\_015383.2   & . & - & chr1 & 33224694 & 33224966 & chr1:33224694-33224966 & ⋯ &  0.8022481 & 1.846433e-04 & 2.198101e-03 &  16 &  5.028114 &  96268 &  81935 & downstream & blood &  7.207207\\\\\n",
       "\t chr1 & 33306765 & 33321098 & ACTG1P20:NR\\_033926.1 & . & - & chr1 & 33242850 & 33243170 & chr1:33242850-33243170 & ⋯ &  0.7175133 & 1.706406e-04 & 2.060092e-03 &  22 &  4.606764 &  78088 &  63755 & downstream & blood &  9.909910\\\\\n",
       "\\end{tabular}\n"
      ],
      "text/markdown": [
       "\n",
       "A data.table: 3 × 22\n",
       "\n",
       "| transcript1_chrom &lt;chr&gt; | transcript1_start &lt;int&gt; | transcript1_stop &lt;int&gt; | transcript_1 &lt;chr&gt; | transcript1_score &lt;chr&gt; | transcript1_strand &lt;chr&gt; | transcript2_chrom &lt;chr&gt; | transcript2_start &lt;int&gt; | transcript2_stop &lt;int&gt; | transcript_2 &lt;chr&gt; | ⋯ ⋯ | pcc &lt;dbl&gt; | pval &lt;dbl&gt; | adj_p_BH &lt;dbl&gt; | nObs &lt;int&gt; | t &lt;dbl&gt; | distance_tss &lt;dbl&gt; | distance_tes &lt;dbl&gt; | position &lt;chr&gt; | tissue &lt;chr&gt; | percent_transcribed_both &lt;dbl&gt; |\n",
       "|---|---|---|---|---|---|---|---|---|---|---|---|---|---|---|---|---|---|---|---|---|\n",
       "| chr1 | 33306765 | 33321098 | CDC73:NM_024529.5    | . | - | chr1 | 33036652 | 33037238 | chr1:33036652-33037238 | ⋯ | -0.6346208 | 1.238535e-25 | 9.631487e-23 | 215 | 11.984604 | 284153 | 269820 | downstream | blood | 96.846847 |\n",
       "| chr1 | 33306765 | 33321098 | NBPF14:NM_015383.2   | . | - | chr1 | 33224694 | 33224966 | chr1:33224694-33224966 | ⋯ |  0.8022481 | 1.846433e-04 | 2.198101e-03 |  16 |  5.028114 |  96268 |  81935 | downstream | blood |  7.207207 |\n",
       "| chr1 | 33306765 | 33321098 | ACTG1P20:NR_033926.1 | . | - | chr1 | 33242850 | 33243170 | chr1:33242850-33243170 | ⋯ |  0.7175133 | 1.706406e-04 | 2.060092e-03 |  22 |  4.606764 |  78088 |  63755 | downstream | blood |  9.909910 |\n",
       "\n"
      ],
      "text/plain": [
       "  transcript1_chrom transcript1_start transcript1_stop transcript_1        \n",
       "1 chr1              33306765          33321098         CDC73:NM_024529.5   \n",
       "2 chr1              33306765          33321098         NBPF14:NM_015383.2  \n",
       "3 chr1              33306765          33321098         ACTG1P20:NR_033926.1\n",
       "  transcript1_score transcript1_strand transcript2_chrom transcript2_start\n",
       "1 .                 -                  chr1              33036652         \n",
       "2 .                 -                  chr1              33224694         \n",
       "3 .                 -                  chr1              33242850         \n",
       "  transcript2_stop transcript_2           ⋯ pcc        pval        \n",
       "1 33037238         chr1:33036652-33037238 ⋯ -0.6346208 1.238535e-25\n",
       "2 33224966         chr1:33224694-33224966 ⋯  0.8022481 1.846433e-04\n",
       "3 33243170         chr1:33242850-33243170 ⋯  0.7175133 1.706406e-04\n",
       "  adj_p_BH     nObs t         distance_tss distance_tes position   tissue\n",
       "1 9.631487e-23 215  11.984604 284153       269820       downstream blood \n",
       "2 2.198101e-03  16   5.028114  96268        81935       downstream blood \n",
       "3 2.060092e-03  22   4.606764  78088        63755       downstream blood \n",
       "  percent_transcribed_both\n",
       "1 96.846847               \n",
       "2  7.207207               \n",
       "3  9.909910               "
      ]
     },
     "metadata": {},
     "output_type": "display_data"
    }
   ],
   "source": [
    "## Get a shuffled gene list\n",
    "## This is done for list in each chromosome (hence before merge lists)\n",
    "sig_pairs_path_DT_shuffle_list <- lapply(sig_pairs_path_DT_list, \n",
    "                                         shuffle_genes)\n",
    "\n",
    "## merge the shuffled genes\n",
    "sig_pairs_path_DT_shuffle <- do.call(rbind, sig_pairs_path_DT_shuffle_list)\n",
    "dim(sig_pairs_path_DT_shuffle)\n",
    "head(sig_pairs_path_DT_shuffle, 3)"
   ]
  },
  {
   "cell_type": "code",
   "execution_count": 13,
   "metadata": {},
   "outputs": [
    {
     "data": {
      "text/html": [
       "<style>\n",
       ".list-inline {list-style: none; margin:0; padding: 0}\n",
       ".list-inline>li {display: inline-block}\n",
       ".list-inline>li:not(:last-child)::after {content: \"\\00b7\"; padding: 0 .5ex}\n",
       "</style>\n",
       "<ol class=list-inline><li>1440890</li><li>22</li></ol>\n"
      ],
      "text/latex": [
       "\\begin{enumerate*}\n",
       "\\item 1440890\n",
       "\\item 22\n",
       "\\end{enumerate*}\n"
      ],
      "text/markdown": [
       "1. 1440890\n",
       "2. 22\n",
       "\n",
       "\n"
      ],
      "text/plain": [
       "[1] 1440890      22"
      ]
     },
     "metadata": {},
     "output_type": "display_data"
    },
    {
     "data": {
      "text/html": [
       "<table class=\"dataframe\">\n",
       "<caption>A data.table: 3 × 22</caption>\n",
       "<thead>\n",
       "\t<tr><th scope=col>transcript1_chrom</th><th scope=col>transcript1_start</th><th scope=col>transcript1_stop</th><th scope=col>transcript_1</th><th scope=col>transcript1_score</th><th scope=col>transcript1_strand</th><th scope=col>transcript2_chrom</th><th scope=col>transcript2_start</th><th scope=col>transcript2_stop</th><th scope=col>transcript_2</th><th scope=col>⋯</th><th scope=col>pcc</th><th scope=col>pval</th><th scope=col>adj_p_BH</th><th scope=col>nObs</th><th scope=col>t</th><th scope=col>distance_tss</th><th scope=col>distance_tes</th><th scope=col>position</th><th scope=col>tissue</th><th scope=col>percent_transcribed_both</th></tr>\n",
       "\t<tr><th scope=col>&lt;chr&gt;</th><th scope=col>&lt;int&gt;</th><th scope=col>&lt;int&gt;</th><th scope=col>&lt;chr&gt;</th><th scope=col>&lt;chr&gt;</th><th scope=col>&lt;chr&gt;</th><th scope=col>&lt;chr&gt;</th><th scope=col>&lt;int&gt;</th><th scope=col>&lt;int&gt;</th><th scope=col>&lt;chr&gt;</th><th scope=col>⋯</th><th scope=col>&lt;dbl&gt;</th><th scope=col>&lt;dbl&gt;</th><th scope=col>&lt;dbl&gt;</th><th scope=col>&lt;int&gt;</th><th scope=col>&lt;dbl&gt;</th><th scope=col>&lt;dbl&gt;</th><th scope=col>&lt;dbl&gt;</th><th scope=col>&lt;chr&gt;</th><th scope=col>&lt;chr&gt;</th><th scope=col>&lt;dbl&gt;</th></tr>\n",
       "</thead>\n",
       "<tbody>\n",
       "\t<tr><td>chr1</td><td>33306765</td><td>33321098</td><td>CDC73:NM_024529.5   </td><td>.</td><td>-</td><td>chr1</td><td>33036652</td><td>33037238</td><td>chr1:33036652-33037238</td><td>⋯</td><td>-0.6346208</td><td>1.238535e-25</td><td>9.631487e-23</td><td>215</td><td>11.984604</td><td>284153</td><td>269820</td><td>downstream</td><td>blood</td><td>96.846847</td></tr>\n",
       "\t<tr><td>chr1</td><td>33306765</td><td>33321098</td><td>NBPF14:NM_015383.2  </td><td>.</td><td>-</td><td>chr1</td><td>33224694</td><td>33224966</td><td>chr1:33224694-33224966</td><td>⋯</td><td> 0.8022481</td><td>1.846433e-04</td><td>2.198101e-03</td><td> 16</td><td> 5.028114</td><td> 96268</td><td> 81935</td><td>downstream</td><td>blood</td><td> 7.207207</td></tr>\n",
       "\t<tr><td>chr1</td><td>33306765</td><td>33321098</td><td>ACTG1P20:NR_033926.1</td><td>.</td><td>-</td><td>chr1</td><td>33242850</td><td>33243170</td><td>chr1:33242850-33243170</td><td>⋯</td><td> 0.7175133</td><td>1.706406e-04</td><td>2.060092e-03</td><td> 22</td><td> 4.606764</td><td> 78088</td><td> 63755</td><td>downstream</td><td>blood</td><td> 9.909910</td></tr>\n",
       "</tbody>\n",
       "</table>\n"
      ],
      "text/latex": [
       "A data.table: 3 × 22\n",
       "\\begin{tabular}{lllllllllllllllllllll}\n",
       " transcript1\\_chrom & transcript1\\_start & transcript1\\_stop & transcript\\_1 & transcript1\\_score & transcript1\\_strand & transcript2\\_chrom & transcript2\\_start & transcript2\\_stop & transcript\\_2 & ⋯ & pcc & pval & adj\\_p\\_BH & nObs & t & distance\\_tss & distance\\_tes & position & tissue & percent\\_transcribed\\_both\\\\\n",
       " <chr> & <int> & <int> & <chr> & <chr> & <chr> & <chr> & <int> & <int> & <chr> & ⋯ & <dbl> & <dbl> & <dbl> & <int> & <dbl> & <dbl> & <dbl> & <chr> & <chr> & <dbl>\\\\\n",
       "\\hline\n",
       "\t chr1 & 33306765 & 33321098 & CDC73:NM\\_024529.5    & . & - & chr1 & 33036652 & 33037238 & chr1:33036652-33037238 & ⋯ & -0.6346208 & 1.238535e-25 & 9.631487e-23 & 215 & 11.984604 & 284153 & 269820 & downstream & blood & 96.846847\\\\\n",
       "\t chr1 & 33306765 & 33321098 & NBPF14:NM\\_015383.2   & . & - & chr1 & 33224694 & 33224966 & chr1:33224694-33224966 & ⋯ &  0.8022481 & 1.846433e-04 & 2.198101e-03 &  16 &  5.028114 &  96268 &  81935 & downstream & blood &  7.207207\\\\\n",
       "\t chr1 & 33306765 & 33321098 & ACTG1P20:NR\\_033926.1 & . & - & chr1 & 33242850 & 33243170 & chr1:33242850-33243170 & ⋯ &  0.7175133 & 1.706406e-04 & 2.060092e-03 &  22 &  4.606764 &  78088 &  63755 & downstream & blood &  9.909910\\\\\n",
       "\\end{tabular}\n"
      ],
      "text/markdown": [
       "\n",
       "A data.table: 3 × 22\n",
       "\n",
       "| transcript1_chrom &lt;chr&gt; | transcript1_start &lt;int&gt; | transcript1_stop &lt;int&gt; | transcript_1 &lt;chr&gt; | transcript1_score &lt;chr&gt; | transcript1_strand &lt;chr&gt; | transcript2_chrom &lt;chr&gt; | transcript2_start &lt;int&gt; | transcript2_stop &lt;int&gt; | transcript_2 &lt;chr&gt; | ⋯ ⋯ | pcc &lt;dbl&gt; | pval &lt;dbl&gt; | adj_p_BH &lt;dbl&gt; | nObs &lt;int&gt; | t &lt;dbl&gt; | distance_tss &lt;dbl&gt; | distance_tes &lt;dbl&gt; | position &lt;chr&gt; | tissue &lt;chr&gt; | percent_transcribed_both &lt;dbl&gt; |\n",
       "|---|---|---|---|---|---|---|---|---|---|---|---|---|---|---|---|---|---|---|---|---|\n",
       "| chr1 | 33306765 | 33321098 | CDC73:NM_024529.5    | . | - | chr1 | 33036652 | 33037238 | chr1:33036652-33037238 | ⋯ | -0.6346208 | 1.238535e-25 | 9.631487e-23 | 215 | 11.984604 | 284153 | 269820 | downstream | blood | 96.846847 |\n",
       "| chr1 | 33306765 | 33321098 | NBPF14:NM_015383.2   | . | - | chr1 | 33224694 | 33224966 | chr1:33224694-33224966 | ⋯ |  0.8022481 | 1.846433e-04 | 2.198101e-03 |  16 |  5.028114 |  96268 |  81935 | downstream | blood |  7.207207 |\n",
       "| chr1 | 33306765 | 33321098 | ACTG1P20:NR_033926.1 | . | - | chr1 | 33242850 | 33243170 | chr1:33242850-33243170 | ⋯ |  0.7175133 | 1.706406e-04 | 2.060092e-03 |  22 |  4.606764 |  78088 |  63755 | downstream | blood |  9.909910 |\n",
       "\n"
      ],
      "text/plain": [
       "  transcript1_chrom transcript1_start transcript1_stop transcript_1        \n",
       "1 chr1              33306765          33321098         CDC73:NM_024529.5   \n",
       "2 chr1              33306765          33321098         NBPF14:NM_015383.2  \n",
       "3 chr1              33306765          33321098         ACTG1P20:NR_033926.1\n",
       "  transcript1_score transcript1_strand transcript2_chrom transcript2_start\n",
       "1 .                 -                  chr1              33036652         \n",
       "2 .                 -                  chr1              33224694         \n",
       "3 .                 -                  chr1              33242850         \n",
       "  transcript2_stop transcript_2           ⋯ pcc        pval        \n",
       "1 33037238         chr1:33036652-33037238 ⋯ -0.6346208 1.238535e-25\n",
       "2 33224966         chr1:33224694-33224966 ⋯  0.8022481 1.846433e-04\n",
       "3 33243170         chr1:33242850-33243170 ⋯  0.7175133 1.706406e-04\n",
       "  adj_p_BH     nObs t         distance_tss distance_tes position   tissue\n",
       "1 9.631487e-23 215  11.984604 284153       269820       downstream blood \n",
       "2 2.198101e-03  16   5.028114  96268        81935       downstream blood \n",
       "3 2.060092e-03  22   4.606764  78088        63755       downstream blood \n",
       "  percent_transcribed_both\n",
       "1 96.846847               \n",
       "2  7.207207               \n",
       "3  9.909910               "
      ]
     },
     "metadata": {},
     "output_type": "display_data"
    }
   ],
   "source": [
    "##filter the pairs\n",
    "sig_pairs_path_DT_shuffle_filt <- removing_DoPAD_bidirs(sig_pairs_path_DT_shuffle)\n",
    "\n",
    "dim(sig_pairs_path_DT_shuffle_filt)\n",
    "head(sig_pairs_path_DT_shuffle_filt,3)"
   ]
  },
  {
   "cell_type": "markdown",
   "metadata": {},
   "source": [
    "## Gasperini pair overlaps"
   ]
  },
  {
   "cell_type": "markdown",
   "metadata": {},
   "source": [
    "Overlap between Gasperini crispr-QTLs with bidirectionals was done with `bedtools`.\n",
    "\n",
    "`16_bidir_gene_overlap_Gasperini2019.sbatch`\n",
    "\n"
   ]
  },
  {
   "cell_type": "markdown",
   "metadata": {},
   "source": [
    "```sh\n",
    "#!/bin/bash\n",
    "\n",
    "#SBATCH --job-name=nascent_pairs_overlap_gasperini2019\n",
    "#SBATCH --output=/scratch/Users/rusi2317/e_and_o/%x_%j.out\n",
    "#SBATCH --error=/scratch/Users/rusi2317/e_and_o/%x_%j.err\n",
    "#SBATCH --time=00:10:00\n",
    "#SBATCH --nodes=1\n",
    "#SBATCH --ntasks=1\n",
    "#SBATCH --mem=100MB\n",
    "#SBATCH --partition short\n",
    "#SBATCH --mail-type=FAIL\n",
    "#SBATCH --mail-user=rutendo.sigauke@cuanschutz.edu\n",
    "\n",
    "module purge\n",
    "module load bedtools/2.28.0\n",
    "\n",
    "###########################\n",
    "##initialize files       ## \n",
    "###########################\n",
    "wd=/scratch/Users/rusi2317/projects/meta_analysis_qc/hg38\n",
    "gasperini=${wd}/cre_gene_pairs/Gasperini2019/Gasperini_2019_enhancer_gene_pairs_hg38_sorted.bed\n",
    "bidirs=${wd}/processed_data/correlations/inter/significant\n",
    "outdir=${wd}/processed_data/gasperini_nascent_pairs\n",
    "\n",
    "mkdir -p ${outdir}\n",
    "\n",
    "bidirectional_calls=/scratch/Shares/dowell/dbnascent/out/meta_analysis/mumerge/bidirectionals_dreg_tfit/hg38_tfit_dreg_bidirectionals.bed\n",
    "\n",
    "###########################\n",
    "##Get overlaps ############\n",
    "###########################\n",
    "#1: get significant pairs from home directory\n",
    "\n",
    "#2: how many of the gRNA regions are in bidirectional regions\n",
    "bedtools intersect -a ${gasperini} -b ${bidirectional_calls} -wa -wb > ${outdir}/gasperini_bidirCalls_overlap.bed\n",
    "\n",
    "#3: get pair overlaps\n",
    "##Tissues\n",
    "##column 13 are the PCC and column 16 are the number of observations (i.e. number of samples in correlation)\n",
    "zcat ${bidirs}/* | grep -v 'transcript_1' |  awk -F'\\t' '{if ($13 < -0.6 || $13 > 0.6) print $0}' OFS='\\t' | awk -F'\\t' '{if ($16 >10) print $10}' OFS='\\t' | tr ':' '\\t' | tr '-' '\\t'| sort -k 1,1 -k2,2n | uniq | bedtools intersect -a ${gasperini} -b - -wa -wb | uniq > ${outdir}/gasperini_tissue_bidir_intersect_0.6.bed\n",
    "\n",
    "zcat ${bidirs}/* | grep -v 'transcript_1' |  awk -F'\\t' '{if ($13 < -0.7 || $13 > 0.7) print $0}' OFS='\\t' | awk -F'\\t' '{if ($16 >10) print $10}' OFS='\\t' | tr ':' '\\t' | tr '-' '\\t'| sort -k 1,1 -k2,2n | uniq | bedtools intersect -a ${gasperini} -b - -wa -wb | uniq > ${outdir}/gasperini_tissue_bidir_intersect_0.7.bed\n",
    "\n",
    "zcat ${bidirs}/* | grep -v 'transcript_1' |  awk -F'\\t' '{if ($13 < -0.8 || $13 > 0.8) print $0}' OFS='\\t' | awk -F'\\t' '{if ($16 >10) print $10}' OFS='\\t' | tr ':' '\\t' | tr '-' '\\t'| sort -k 1,1 -k2,2n | uniq | bedtools intersect -a ${gasperini} -b - -wa -wb | uniq > ${outdir}/gasperini_tissue_bidir_intersect_0.8.bed\n",
    "\n",
    "zcat ${bidirs}/* | grep -v 'transcript_1' |  awk -F'\\t' '{if ($13 < -0.9 || $13 > 0.9) print $0}' OFS='\\t' | awk -F'\\t' '{if ($16 >10) print $10}' OFS='\\t' | tr ':' '\\t' | tr '-' '\\t' | sort -k 1,1 -k2,2n | uniq | bedtools intersect -a ${gasperini} -b - -wa -wb | uniq > ${outdir}/gasperini_tissue_bidir_intersect_0.9.bed\n",
    "\n",
    "\n",
    "echo \"DONE!\"\n",
    "\n",
    "```"
   ]
  },
  {
   "cell_type": "markdown",
   "metadata": {},
   "source": [
    "### How many CRISPR-QTLs overlap bidirectional transcripts"
   ]
  },
  {
   "cell_type": "markdown",
   "metadata": {},
   "source": [
    "Total pairs from CRISP-QTLs = `664`"
   ]
  },
  {
   "cell_type": "code",
   "execution_count": 14,
   "metadata": {},
   "outputs": [
    {
     "data": {
      "text/html": [
       "<table class=\"dataframe\">\n",
       "<caption>A data.table: 3 × 12</caption>\n",
       "<thead>\n",
       "\t<tr><th scope=col>V1</th><th scope=col>V2</th><th scope=col>V3</th><th scope=col>V4</th><th scope=col>V5</th><th scope=col>V6</th><th scope=col>V7</th><th scope=col>V8</th><th scope=col>V9</th><th scope=col>V10</th><th scope=col>V11</th><th scope=col>bidir_id</th></tr>\n",
       "\t<tr><th scope=col>&lt;chr&gt;</th><th scope=col>&lt;int&gt;</th><th scope=col>&lt;int&gt;</th><th scope=col>&lt;chr&gt;</th><th scope=col>&lt;lgl&gt;</th><th scope=col>&lt;chr&gt;</th><th scope=col>&lt;int&gt;</th><th scope=col>&lt;int&gt;</th><th scope=col>&lt;chr&gt;</th><th scope=col>&lt;int&gt;</th><th scope=col>&lt;chr&gt;</th><th scope=col>&lt;chr&gt;</th></tr>\n",
       "</thead>\n",
       "<tbody>\n",
       "\t<tr><td>chr1</td><td> 1134850</td><td> 1135934</td><td>NADK</td><td>FALSE</td><td>chr1</td><td> 1134922</td><td> 1135218</td><td>tfit</td><td> 1</td><td>.</td><td>chr1:1134922-1135218  </td></tr>\n",
       "\t<tr><td>chr1</td><td> 1134850</td><td> 1135934</td><td>NADK</td><td>FALSE</td><td>chr1</td><td> 1135575</td><td> 1136169</td><td>dreg</td><td>35</td><td>.</td><td>chr1:1135575-1136169  </td></tr>\n",
       "\t<tr><td>chr1</td><td>12038249</td><td>12039371</td><td>MIIP</td><td>FALSE</td><td>chr1</td><td>12038675</td><td>12039055</td><td>dreg</td><td> 5</td><td>.</td><td>chr1:12038675-12039055</td></tr>\n",
       "</tbody>\n",
       "</table>\n"
      ],
      "text/latex": [
       "A data.table: 3 × 12\n",
       "\\begin{tabular}{llllllllllll}\n",
       " V1 & V2 & V3 & V4 & V5 & V6 & V7 & V8 & V9 & V10 & V11 & bidir\\_id\\\\\n",
       " <chr> & <int> & <int> & <chr> & <lgl> & <chr> & <int> & <int> & <chr> & <int> & <chr> & <chr>\\\\\n",
       "\\hline\n",
       "\t chr1 &  1134850 &  1135934 & NADK & FALSE & chr1 &  1134922 &  1135218 & tfit &  1 & . & chr1:1134922-1135218  \\\\\n",
       "\t chr1 &  1134850 &  1135934 & NADK & FALSE & chr1 &  1135575 &  1136169 & dreg & 35 & . & chr1:1135575-1136169  \\\\\n",
       "\t chr1 & 12038249 & 12039371 & MIIP & FALSE & chr1 & 12038675 & 12039055 & dreg &  5 & . & chr1:12038675-12039055\\\\\n",
       "\\end{tabular}\n"
      ],
      "text/markdown": [
       "\n",
       "A data.table: 3 × 12\n",
       "\n",
       "| V1 &lt;chr&gt; | V2 &lt;int&gt; | V3 &lt;int&gt; | V4 &lt;chr&gt; | V5 &lt;lgl&gt; | V6 &lt;chr&gt; | V7 &lt;int&gt; | V8 &lt;int&gt; | V9 &lt;chr&gt; | V10 &lt;int&gt; | V11 &lt;chr&gt; | bidir_id &lt;chr&gt; |\n",
       "|---|---|---|---|---|---|---|---|---|---|---|---|\n",
       "| chr1 |  1134850 |  1135934 | NADK | FALSE | chr1 |  1134922 |  1135218 | tfit |  1 | . | chr1:1134922-1135218   |\n",
       "| chr1 |  1134850 |  1135934 | NADK | FALSE | chr1 |  1135575 |  1136169 | dreg | 35 | . | chr1:1135575-1136169   |\n",
       "| chr1 | 12038249 | 12039371 | MIIP | FALSE | chr1 | 12038675 | 12039055 | dreg |  5 | . | chr1:12038675-12039055 |\n",
       "\n"
      ],
      "text/plain": [
       "  V1   V2       V3       V4   V5    V6   V7       V8       V9   V10 V11\n",
       "1 chr1  1134850  1135934 NADK FALSE chr1  1134922  1135218 tfit  1  .  \n",
       "2 chr1  1134850  1135934 NADK FALSE chr1  1135575  1136169 dreg 35  .  \n",
       "3 chr1 12038249 12039371 MIIP FALSE chr1 12038675 12039055 dreg  5  .  \n",
       "  bidir_id              \n",
       "1 chr1:1134922-1135218  \n",
       "2 chr1:1135575-1136169  \n",
       "3 chr1:12038675-12039055"
      ]
     },
     "metadata": {},
     "output_type": "display_data"
    },
    {
     "data": {
      "text/html": [
       "644"
      ],
      "text/latex": [
       "644"
      ],
      "text/markdown": [
       "644"
      ],
      "text/plain": [
       "[1] 644"
      ]
     },
     "metadata": {},
     "output_type": "display_data"
    },
    {
     "name": "stdout",
     "output_type": "stream",
     "text": [
      "[1] \"Pairs with enhancer overlapping bidirectionals = 579\"\n"
     ]
    }
   ],
   "source": [
    "gasperini_bidirectionals <- data.table::fread('/scratch/Users/rusi2317/projects/meta_analysis_qc/hg38/processed_data/gasperini_nascent_pairs/gasperini_bidirCalls_overlap.bed')\n",
    "gasperini_bidirectionals$bidir_id <- paste0(gasperini_bidirectionals$V6,':',\n",
    "                                           gasperini_bidirectionals$V7,'-',\n",
    "                                           gasperini_bidirectionals$V8)\n",
    "head(gasperini_bidirectionals, 3)\n",
    "nrow(gasperini_bidirectionals)\n",
    "print(paste(\"Pairs with enhancer overlapping bidirectionals =\", nrow(unique(gasperini_bidirectionals[,c(1,2,3,4)]))))"
   ]
  },
  {
   "cell_type": "code",
   "execution_count": 15,
   "metadata": {},
   "outputs": [
    {
     "data": {
      "text/html": [
       "<table class=\"dataframe\">\n",
       "<caption>A data.table: 3 × 4</caption>\n",
       "<thead>\n",
       "\t<tr><th scope=col>V1</th><th scope=col>V2</th><th scope=col>V3</th><th scope=col>V4</th></tr>\n",
       "\t<tr><th scope=col>&lt;chr&gt;</th><th scope=col>&lt;int&gt;</th><th scope=col>&lt;int&gt;</th><th scope=col>&lt;chr&gt;</th></tr>\n",
       "</thead>\n",
       "<tbody>\n",
       "\t<tr><td>chr1</td><td> 1134850</td><td> 1135934</td><td>NADK</td></tr>\n",
       "\t<tr><td>chr1</td><td>12038249</td><td>12039371</td><td>MIIP</td></tr>\n",
       "\t<tr><td>chr1</td><td>25933356</td><td>25934013</td><td>CD52</td></tr>\n",
       "</tbody>\n",
       "</table>\n"
      ],
      "text/latex": [
       "A data.table: 3 × 4\n",
       "\\begin{tabular}{llll}\n",
       " V1 & V2 & V3 & V4\\\\\n",
       " <chr> & <int> & <int> & <chr>\\\\\n",
       "\\hline\n",
       "\t chr1 &  1134850 &  1135934 & NADK\\\\\n",
       "\t chr1 & 12038249 & 12039371 & MIIP\\\\\n",
       "\t chr1 & 25933356 & 25934013 & CD52\\\\\n",
       "\\end{tabular}\n"
      ],
      "text/markdown": [
       "\n",
       "A data.table: 3 × 4\n",
       "\n",
       "| V1 &lt;chr&gt; | V2 &lt;int&gt; | V3 &lt;int&gt; | V4 &lt;chr&gt; |\n",
       "|---|---|---|---|\n",
       "| chr1 |  1134850 |  1135934 | NADK |\n",
       "| chr1 | 12038249 | 12039371 | MIIP |\n",
       "| chr1 | 25933356 | 25934013 | CD52 |\n",
       "\n"
      ],
      "text/plain": [
       "  V1   V2       V3       V4  \n",
       "1 chr1  1134850  1135934 NADK\n",
       "2 chr1 12038249 12039371 MIIP\n",
       "3 chr1 25933356 25934013 CD52"
      ]
     },
     "metadata": {},
     "output_type": "display_data"
    },
    {
     "name": "stdout",
     "output_type": "stream",
     "text": [
      "[1] \"Pairs that overlap bidirectionals that are trancribed = 565\"\n"
     ]
    }
   ],
   "source": [
    "#filter for bidirectionals that were intergenic and also transcribed (analyzed in correlations)\n",
    "gasperini_bidirectionals_transcribed <- gasperini_bidirectionals[gasperini_bidirectionals$bidir_id %in%\n",
    "                                                                 counted_txpts$gene_transcript,]\n",
    "\n",
    "#get unique CRISPR-QTL and Gene pairs\n",
    "gasperini_bidirectionals_unique <- unique(gasperini_bidirectionals_transcribed[,c('V1','V2','V3','V4')])\n",
    "head(gasperini_bidirectionals_unique, 3)\n",
    "print(paste(\"Pairs that overlap bidirectionals that are trancribed =\",nrow(gasperini_bidirectionals_unique)))"
   ]
  },
  {
   "cell_type": "code",
   "execution_count": 16,
   "metadata": {},
   "outputs": [
    {
     "data": {
      "text/html": [
       "<table class=\"dataframe\">\n",
       "<caption>A data.table: 3 × 4</caption>\n",
       "<thead>\n",
       "\t<tr><th scope=col>V1</th><th scope=col>V2</th><th scope=col>V3</th><th scope=col>V4</th></tr>\n",
       "\t<tr><th scope=col>&lt;chr&gt;</th><th scope=col>&lt;int&gt;</th><th scope=col>&lt;int&gt;</th><th scope=col>&lt;chr&gt;</th></tr>\n",
       "</thead>\n",
       "<tbody>\n",
       "\t<tr><td>chr1</td><td> 1134850</td><td> 1135934</td><td>NADK</td></tr>\n",
       "\t<tr><td>chr1</td><td>12038249</td><td>12039371</td><td>MIIP</td></tr>\n",
       "\t<tr><td>chr1</td><td>25933356</td><td>25934013</td><td>CD52</td></tr>\n",
       "</tbody>\n",
       "</table>\n"
      ],
      "text/latex": [
       "A data.table: 3 × 4\n",
       "\\begin{tabular}{llll}\n",
       " V1 & V2 & V3 & V4\\\\\n",
       " <chr> & <int> & <int> & <chr>\\\\\n",
       "\\hline\n",
       "\t chr1 &  1134850 &  1135934 & NADK\\\\\n",
       "\t chr1 & 12038249 & 12039371 & MIIP\\\\\n",
       "\t chr1 & 25933356 & 25934013 & CD52\\\\\n",
       "\\end{tabular}\n"
      ],
      "text/markdown": [
       "\n",
       "A data.table: 3 × 4\n",
       "\n",
       "| V1 &lt;chr&gt; | V2 &lt;int&gt; | V3 &lt;int&gt; | V4 &lt;chr&gt; |\n",
       "|---|---|---|---|\n",
       "| chr1 |  1134850 |  1135934 | NADK |\n",
       "| chr1 | 12038249 | 12039371 | MIIP |\n",
       "| chr1 | 25933356 | 25934013 | CD52 |\n",
       "\n"
      ],
      "text/plain": [
       "  V1   V2       V3       V4  \n",
       "1 chr1  1134850  1135934 NADK\n",
       "2 chr1 12038249 12039371 MIIP\n",
       "3 chr1 25933356 25934013 CD52"
      ]
     },
     "metadata": {},
     "output_type": "display_data"
    },
    {
     "name": "stdout",
     "output_type": "stream",
     "text": [
      "[1] \"Pairs that overlap bidirectionals AND genes that are trancribed = 536\"\n"
     ]
    }
   ],
   "source": [
    "#Also get pairs for which genes are also transcribed\n",
    "gasperini_bidirectionals_unique_transcribed_nascent <- gasperini_bidirectionals_unique[gasperini_bidirectionals_unique$V4\n",
    "                                                                                       %in%\n",
    "                                                                                       counted_txpts$gene_id,]\n",
    "head(gasperini_bidirectionals_unique_transcribed_nascent, 3)\n",
    "print(paste(\"Pairs that overlap bidirectionals AND genes that are trancribed =\",\n",
    "            nrow(gasperini_bidirectionals_unique_transcribed_nascent)))"
   ]
  },
  {
   "cell_type": "markdown",
   "metadata": {},
   "source": [
    "### Get overlaps with tissue pairs"
   ]
  },
  {
   "cell_type": "code",
   "execution_count": 17,
   "metadata": {},
   "outputs": [
    {
     "data": {
      "text/html": [
       "<table class=\"dataframe\">\n",
       "<caption>A data.table: 3 × 15</caption>\n",
       "<thead>\n",
       "\t<tr><th scope=col>bidirid</th><th scope=col>V1</th><th scope=col>V2</th><th scope=col>V3</th><th scope=col>V4</th><th scope=col>V5</th><th scope=col>V6</th><th scope=col>V7</th><th scope=col>V8</th><th scope=col>V9</th><th scope=col>V10</th><th scope=col>V11</th><th scope=col>bidir_id</th><th scope=col>transcript_1</th><th scope=col>gene_id</th></tr>\n",
       "\t<tr><th scope=col>&lt;chr&gt;</th><th scope=col>&lt;chr&gt;</th><th scope=col>&lt;int&gt;</th><th scope=col>&lt;int&gt;</th><th scope=col>&lt;chr&gt;</th><th scope=col>&lt;lgl&gt;</th><th scope=col>&lt;chr&gt;</th><th scope=col>&lt;int&gt;</th><th scope=col>&lt;int&gt;</th><th scope=col>&lt;chr&gt;</th><th scope=col>&lt;int&gt;</th><th scope=col>&lt;chr&gt;</th><th scope=col>&lt;chr&gt;</th><th scope=col>&lt;chr&gt;</th><th scope=col>&lt;chr&gt;</th></tr>\n",
       "</thead>\n",
       "<tbody>\n",
       "\t<tr><td>chr10:3805815-3806335</td><td>chr10</td><td>3805919</td><td>3806186</td><td>KLF6  </td><td>TRUE</td><td>chr10</td><td>3805815</td><td>3806335</td><td>tfit,dreg</td><td>112</td><td>.</td><td>chr10:3805815-3806335</td><td>KLF6:NM_001300.6  </td><td>KLF6  </td></tr>\n",
       "\t<tr><td>chr10:3809861-3810521</td><td>chr10</td><td>3810115</td><td>3810460</td><td>KLF6  </td><td>TRUE</td><td>chr10</td><td>3809861</td><td>3810521</td><td>tfit,dreg</td><td>112</td><td>.</td><td>chr10:3809861-3810521</td><td>KLF6:NM_001300.6  </td><td>KLF6  </td></tr>\n",
       "\t<tr><td>chr10:4941408-4941952</td><td>chr10</td><td>4941458</td><td>4942029</td><td>AKR1C1</td><td>TRUE</td><td>chr10</td><td>4941408</td><td>4941952</td><td>tfit,dreg</td><td> 58</td><td>.</td><td>chr10:4941408-4941952</td><td>AKR1C1:NM_001353.6</td><td>AKR1C1</td></tr>\n",
       "</tbody>\n",
       "</table>\n"
      ],
      "text/latex": [
       "A data.table: 3 × 15\n",
       "\\begin{tabular}{lllllllllllllll}\n",
       " bidirid & V1 & V2 & V3 & V4 & V5 & V6 & V7 & V8 & V9 & V10 & V11 & bidir\\_id & transcript\\_1 & gene\\_id\\\\\n",
       " <chr> & <chr> & <int> & <int> & <chr> & <lgl> & <chr> & <int> & <int> & <chr> & <int> & <chr> & <chr> & <chr> & <chr>\\\\\n",
       "\\hline\n",
       "\t chr10:3805815-3806335 & chr10 & 3805919 & 3806186 & KLF6   & TRUE & chr10 & 3805815 & 3806335 & tfit,dreg & 112 & . & chr10:3805815-3806335 & KLF6:NM\\_001300.6   & KLF6  \\\\\n",
       "\t chr10:3809861-3810521 & chr10 & 3810115 & 3810460 & KLF6   & TRUE & chr10 & 3809861 & 3810521 & tfit,dreg & 112 & . & chr10:3809861-3810521 & KLF6:NM\\_001300.6   & KLF6  \\\\\n",
       "\t chr10:4941408-4941952 & chr10 & 4941458 & 4942029 & AKR1C1 & TRUE & chr10 & 4941408 & 4941952 & tfit,dreg &  58 & . & chr10:4941408-4941952 & AKR1C1:NM\\_001353.6 & AKR1C1\\\\\n",
       "\\end{tabular}\n"
      ],
      "text/markdown": [
       "\n",
       "A data.table: 3 × 15\n",
       "\n",
       "| bidirid &lt;chr&gt; | V1 &lt;chr&gt; | V2 &lt;int&gt; | V3 &lt;int&gt; | V4 &lt;chr&gt; | V5 &lt;lgl&gt; | V6 &lt;chr&gt; | V7 &lt;int&gt; | V8 &lt;int&gt; | V9 &lt;chr&gt; | V10 &lt;int&gt; | V11 &lt;chr&gt; | bidir_id &lt;chr&gt; | transcript_1 &lt;chr&gt; | gene_id &lt;chr&gt; |\n",
       "|---|---|---|---|---|---|---|---|---|---|---|---|---|---|---|\n",
       "| chr10:3805815-3806335 | chr10 | 3805919 | 3806186 | KLF6   | TRUE | chr10 | 3805815 | 3806335 | tfit,dreg | 112 | . | chr10:3805815-3806335 | KLF6:NM_001300.6   | KLF6   |\n",
       "| chr10:3809861-3810521 | chr10 | 3810115 | 3810460 | KLF6   | TRUE | chr10 | 3809861 | 3810521 | tfit,dreg | 112 | . | chr10:3809861-3810521 | KLF6:NM_001300.6   | KLF6   |\n",
       "| chr10:4941408-4941952 | chr10 | 4941458 | 4942029 | AKR1C1 | TRUE | chr10 | 4941408 | 4941952 | tfit,dreg |  58 | . | chr10:4941408-4941952 | AKR1C1:NM_001353.6 | AKR1C1 |\n",
       "\n"
      ],
      "text/plain": [
       "  bidirid               V1    V2      V3      V4     V5   V6    V7      V8     \n",
       "1 chr10:3805815-3806335 chr10 3805919 3806186 KLF6   TRUE chr10 3805815 3806335\n",
       "2 chr10:3809861-3810521 chr10 3810115 3810460 KLF6   TRUE chr10 3809861 3810521\n",
       "3 chr10:4941408-4941952 chr10 4941458 4942029 AKR1C1 TRUE chr10 4941408 4941952\n",
       "  V9        V10 V11 bidir_id              transcript_1       gene_id\n",
       "1 tfit,dreg 112 .   chr10:3805815-3806335 KLF6:NM_001300.6   KLF6   \n",
       "2 tfit,dreg 112 .   chr10:3809861-3810521 KLF6:NM_001300.6   KLF6   \n",
       "3 tfit,dreg  58 .   chr10:4941408-4941952 AKR1C1:NM_001353.6 AKR1C1 "
      ]
     },
     "metadata": {},
     "output_type": "display_data"
    },
    {
     "name": "stdout",
     "output_type": "stream",
     "text": [
      "[1] \"Pairs from CRISPR-QTLs that overlap pairs from bidir~gene = 209\"\n"
     ]
    }
   ],
   "source": [
    "crisprQtl_bidirGene_overlaps <- map_overlaps(overlap_DT = gasperini_bidirectionals, \n",
    "                                             nascent_pairs = sig_pairs_path_DT_filt)\n",
    "head(crisprQtl_bidirGene_overlaps, 3)\n",
    "print(paste(\"Pairs from CRISPR-QTLs that overlap pairs from bidir~gene =\",\n",
    "           nrow(crisprQtl_bidirGene_overlaps)))"
   ]
  },
  {
   "cell_type": "code",
   "execution_count": 18,
   "metadata": {},
   "outputs": [
    {
     "name": "stdout",
     "output_type": "stream",
     "text": [
      "[1] \"Percent Overlap (All) = 31.48\"\n",
      "[1] \"Percent Overlap (Transcribed) = 38.99\"\n"
     ]
    }
   ],
   "source": [
    "percent_recovered_all <- (nrow(crisprQtl_bidirGene_overlaps)/664)*100\n",
    "percent_recovered_transcribed <- (nrow(crisprQtl_bidirGene_overlaps)/\n",
    "                                  nrow(gasperini_bidirectionals_unique_transcribed_nascent))*100\n",
    "print(paste(\"Percent Overlap (All) =\", signif(percent_recovered_all, 4)))\n",
    "print(paste(\"Percent Overlap (Transcribed) =\", signif(percent_recovered_transcribed, 4)))\n"
   ]
  },
  {
   "cell_type": "markdown",
   "metadata": {},
   "source": [
    "### Get overlaps with random pairs"
   ]
  },
  {
   "cell_type": "code",
   "execution_count": 19,
   "metadata": {},
   "outputs": [
    {
     "data": {
      "text/html": [
       "<table class=\"dataframe\">\n",
       "<caption>A data.table: 3 × 15</caption>\n",
       "<thead>\n",
       "\t<tr><th scope=col>bidirid</th><th scope=col>V1</th><th scope=col>V2</th><th scope=col>V3</th><th scope=col>V4</th><th scope=col>V5</th><th scope=col>V6</th><th scope=col>V7</th><th scope=col>V8</th><th scope=col>V9</th><th scope=col>V10</th><th scope=col>V11</th><th scope=col>bidir_id</th><th scope=col>transcript_1</th><th scope=col>gene_id</th></tr>\n",
       "\t<tr><th scope=col>&lt;chr&gt;</th><th scope=col>&lt;chr&gt;</th><th scope=col>&lt;int&gt;</th><th scope=col>&lt;int&gt;</th><th scope=col>&lt;chr&gt;</th><th scope=col>&lt;lgl&gt;</th><th scope=col>&lt;chr&gt;</th><th scope=col>&lt;int&gt;</th><th scope=col>&lt;int&gt;</th><th scope=col>&lt;chr&gt;</th><th scope=col>&lt;int&gt;</th><th scope=col>&lt;chr&gt;</th><th scope=col>&lt;chr&gt;</th><th scope=col>&lt;chr&gt;</th><th scope=col>&lt;chr&gt;</th></tr>\n",
       "</thead>\n",
       "<tbody>\n",
       "\t<tr><td>chr11:65421143-65421641</td><td>chr11</td><td>65421038</td><td>65421622</td><td>ATG2A   </td><td> TRUE</td><td>chr11</td><td>65421143</td><td>65421641</td><td>dreg     </td><td>187</td><td>.</td><td>chr11:65421143-65421641</td><td>ATG2A:NM_015104.3   </td><td>ATG2A   </td></tr>\n",
       "\t<tr><td>chr11:65471931-65472579</td><td>chr11</td><td>65471949</td><td>65472508</td><td>ATG2A   </td><td>FALSE</td><td>chr11</td><td>65471931</td><td>65472579</td><td>tfit,dreg</td><td>187</td><td>.</td><td>chr11:65471931-65472579</td><td>ATG2A:NM_015104.3   </td><td>ATG2A   </td></tr>\n",
       "\t<tr><td>chr11:75559074-75559648</td><td>chr11</td><td>75558947</td><td>75559797</td><td>SERPINH1</td><td> TRUE</td><td>chr11</td><td>75559074</td><td>75559648</td><td>tfit,dreg</td><td>176</td><td>.</td><td>chr11:75559074-75559648</td><td>SERPINH1:NM_001235.5</td><td>SERPINH1</td></tr>\n",
       "</tbody>\n",
       "</table>\n"
      ],
      "text/latex": [
       "A data.table: 3 × 15\n",
       "\\begin{tabular}{lllllllllllllll}\n",
       " bidirid & V1 & V2 & V3 & V4 & V5 & V6 & V7 & V8 & V9 & V10 & V11 & bidir\\_id & transcript\\_1 & gene\\_id\\\\\n",
       " <chr> & <chr> & <int> & <int> & <chr> & <lgl> & <chr> & <int> & <int> & <chr> & <int> & <chr> & <chr> & <chr> & <chr>\\\\\n",
       "\\hline\n",
       "\t chr11:65421143-65421641 & chr11 & 65421038 & 65421622 & ATG2A    &  TRUE & chr11 & 65421143 & 65421641 & dreg      & 187 & . & chr11:65421143-65421641 & ATG2A:NM\\_015104.3    & ATG2A   \\\\\n",
       "\t chr11:65471931-65472579 & chr11 & 65471949 & 65472508 & ATG2A    & FALSE & chr11 & 65471931 & 65472579 & tfit,dreg & 187 & . & chr11:65471931-65472579 & ATG2A:NM\\_015104.3    & ATG2A   \\\\\n",
       "\t chr11:75559074-75559648 & chr11 & 75558947 & 75559797 & SERPINH1 &  TRUE & chr11 & 75559074 & 75559648 & tfit,dreg & 176 & . & chr11:75559074-75559648 & SERPINH1:NM\\_001235.5 & SERPINH1\\\\\n",
       "\\end{tabular}\n"
      ],
      "text/markdown": [
       "\n",
       "A data.table: 3 × 15\n",
       "\n",
       "| bidirid &lt;chr&gt; | V1 &lt;chr&gt; | V2 &lt;int&gt; | V3 &lt;int&gt; | V4 &lt;chr&gt; | V5 &lt;lgl&gt; | V6 &lt;chr&gt; | V7 &lt;int&gt; | V8 &lt;int&gt; | V9 &lt;chr&gt; | V10 &lt;int&gt; | V11 &lt;chr&gt; | bidir_id &lt;chr&gt; | transcript_1 &lt;chr&gt; | gene_id &lt;chr&gt; |\n",
       "|---|---|---|---|---|---|---|---|---|---|---|---|---|---|---|\n",
       "| chr11:65421143-65421641 | chr11 | 65421038 | 65421622 | ATG2A    |  TRUE | chr11 | 65421143 | 65421641 | dreg      | 187 | . | chr11:65421143-65421641 | ATG2A:NM_015104.3    | ATG2A    |\n",
       "| chr11:65471931-65472579 | chr11 | 65471949 | 65472508 | ATG2A    | FALSE | chr11 | 65471931 | 65472579 | tfit,dreg | 187 | . | chr11:65471931-65472579 | ATG2A:NM_015104.3    | ATG2A    |\n",
       "| chr11:75559074-75559648 | chr11 | 75558947 | 75559797 | SERPINH1 |  TRUE | chr11 | 75559074 | 75559648 | tfit,dreg | 176 | . | chr11:75559074-75559648 | SERPINH1:NM_001235.5 | SERPINH1 |\n",
       "\n"
      ],
      "text/plain": [
       "  bidirid                 V1    V2       V3       V4       V5    V6    V7      \n",
       "1 chr11:65421143-65421641 chr11 65421038 65421622 ATG2A     TRUE chr11 65421143\n",
       "2 chr11:65471931-65472579 chr11 65471949 65472508 ATG2A    FALSE chr11 65471931\n",
       "3 chr11:75559074-75559648 chr11 75558947 75559797 SERPINH1  TRUE chr11 75559074\n",
       "  V8       V9        V10 V11 bidir_id                transcript_1        \n",
       "1 65421641 dreg      187 .   chr11:65421143-65421641 ATG2A:NM_015104.3   \n",
       "2 65472579 tfit,dreg 187 .   chr11:65471931-65472579 ATG2A:NM_015104.3   \n",
       "3 75559648 tfit,dreg 176 .   chr11:75559074-75559648 SERPINH1:NM_001235.5\n",
       "  gene_id \n",
       "1 ATG2A   \n",
       "2 ATG2A   \n",
       "3 SERPINH1"
      ]
     },
     "metadata": {},
     "output_type": "display_data"
    },
    {
     "name": "stdout",
     "output_type": "stream",
     "text": [
      "[1] \"Random pairs from CRISPR-QTLs that overlap pairs from bidir~gene = 10\"\n"
     ]
    }
   ],
   "source": [
    "crisprQtl_bidirGene_overlaps_random <- map_overlaps(overlap_DT = gasperini_bidirectionals, \n",
    "                                             nascent_pairs = sig_pairs_path_DT_shuffle_filt)\n",
    "head(crisprQtl_bidirGene_overlaps_random, 3)\n",
    "print(paste(\"Random pairs from CRISPR-QTLs that overlap pairs from bidir~gene =\",\n",
    "           nrow(crisprQtl_bidirGene_overlaps_random)))"
   ]
  },
  {
   "cell_type": "code",
   "execution_count": 20,
   "metadata": {},
   "outputs": [
    {
     "name": "stdout",
     "output_type": "stream",
     "text": [
      "[1] \"Percent Overlap Random (All) = 1.506\"\n",
      "[1] \"Percent Overlap Random (Transcribed) = 1.866\"\n"
     ]
    }
   ],
   "source": [
    "percent_random_all <- (nrow(crisprQtl_bidirGene_overlaps_random)/664)*100\n",
    "percent_random_transcribed <- (nrow(crisprQtl_bidirGene_overlaps_random)/\n",
    "                                  nrow(gasperini_bidirectionals_unique_transcribed_nascent))*100\n",
    "print(paste(\"Percent Overlap Random (All) =\", signif(percent_random_all, 4)))\n",
    "print(paste(\"Percent Overlap Random (Transcribed) =\", signif(percent_random_transcribed, 4)))"
   ]
  },
  {
   "cell_type": "markdown",
   "metadata": {},
   "source": [
    "### Assess multiple overlaps"
   ]
  },
  {
   "cell_type": "code",
   "execution_count": 21,
   "metadata": {},
   "outputs": [],
   "source": [
    "#1: Generate a list of seeds (here 1 to 1000)\n",
    "range_seeds <- seq(1, 1000, 1)\n",
    "\n",
    "#2: Initialize a list for populating the overlaps\n",
    "random_overlap <- list()\n",
    "\n",
    "for (i in 1:length(range_seeds)){\n",
    "    #3: shuffle gene names using the seeding above\n",
    "    sig_pairs_shuffle_list <- lapply(sig_pairs_path_DT_list, \n",
    "                                     shuffle_genes, \n",
    "                                     seed=i)\n",
    "    \n",
    "    #4: combine the shuffled gene-bidir data.tables\n",
    "    sig_pairs_shuffle <- do.call(rbind, sig_pairs_shuffle_list)\n",
    "\n",
    "    #5: filter the pairs as before\n",
    "    sig_pairs_shuffle_filt <- removing_DoPAD_bidirs(sig_pairs_shuffle)\n",
    "    \n",
    "    #6: Get overlaping pairs and store the values in list\n",
    "    random_overlap_dt <- map_overlaps(overlap_DT = gasperini_bidirectionals,\n",
    "                                      nascent_pairs = sig_pairs_shuffle_filt)\n",
    "    \n",
    "    #7: Count the overlaps\n",
    "    random_overlap[[i]] <- nrow(random_overlap_dt)\n",
    "    \n",
    "}"
   ]
  },
  {
   "cell_type": "code",
   "execution_count": 22,
   "metadata": {},
   "outputs": [
    {
     "data": {
      "text/html": [
       "<table class=\"dataframe\">\n",
       "<caption>A data.frame: 6 × 3</caption>\n",
       "<thead>\n",
       "\t<tr><th></th><th scope=col>random_overlap</th><th scope=col>percent_overlap_all</th><th scope=col>percent_overlap_transcribed</th></tr>\n",
       "\t<tr><th></th><th scope=col>&lt;dbl&gt;</th><th scope=col>&lt;dbl&gt;</th><th scope=col>&lt;dbl&gt;</th></tr>\n",
       "</thead>\n",
       "<tbody>\n",
       "\t<tr><th scope=row>1</th><td>10</td><td>1.506024</td><td>1.8656716</td></tr>\n",
       "\t<tr><th scope=row>2</th><td> 5</td><td>0.753012</td><td>0.9328358</td></tr>\n",
       "\t<tr><th scope=row>3</th><td> 7</td><td>1.054217</td><td>1.3059701</td></tr>\n",
       "\t<tr><th scope=row>4</th><td> 5</td><td>0.753012</td><td>0.9328358</td></tr>\n",
       "\t<tr><th scope=row>5</th><td> 7</td><td>1.054217</td><td>1.3059701</td></tr>\n",
       "\t<tr><th scope=row>6</th><td>10</td><td>1.506024</td><td>1.8656716</td></tr>\n",
       "</tbody>\n",
       "</table>\n"
      ],
      "text/latex": [
       "A data.frame: 6 × 3\n",
       "\\begin{tabular}{r|lll}\n",
       "  & random\\_overlap & percent\\_overlap\\_all & percent\\_overlap\\_transcribed\\\\\n",
       "  & <dbl> & <dbl> & <dbl>\\\\\n",
       "\\hline\n",
       "\t1 & 10 & 1.506024 & 1.8656716\\\\\n",
       "\t2 &  5 & 0.753012 & 0.9328358\\\\\n",
       "\t3 &  7 & 1.054217 & 1.3059701\\\\\n",
       "\t4 &  5 & 0.753012 & 0.9328358\\\\\n",
       "\t5 &  7 & 1.054217 & 1.3059701\\\\\n",
       "\t6 & 10 & 1.506024 & 1.8656716\\\\\n",
       "\\end{tabular}\n"
      ],
      "text/markdown": [
       "\n",
       "A data.frame: 6 × 3\n",
       "\n",
       "| <!--/--> | random_overlap &lt;dbl&gt; | percent_overlap_all &lt;dbl&gt; | percent_overlap_transcribed &lt;dbl&gt; |\n",
       "|---|---|---|---|\n",
       "| 1 | 10 | 1.506024 | 1.8656716 |\n",
       "| 2 |  5 | 0.753012 | 0.9328358 |\n",
       "| 3 |  7 | 1.054217 | 1.3059701 |\n",
       "| 4 |  5 | 0.753012 | 0.9328358 |\n",
       "| 5 |  7 | 1.054217 | 1.3059701 |\n",
       "| 6 | 10 | 1.506024 | 1.8656716 |\n",
       "\n"
      ],
      "text/plain": [
       "  random_overlap percent_overlap_all percent_overlap_transcribed\n",
       "1 10             1.506024            1.8656716                  \n",
       "2  5             0.753012            0.9328358                  \n",
       "3  7             1.054217            1.3059701                  \n",
       "4  5             0.753012            0.9328358                  \n",
       "5  7             1.054217            1.3059701                  \n",
       "6 10             1.506024            1.8656716                  "
      ]
     },
     "metadata": {},
     "output_type": "display_data"
    }
   ],
   "source": [
    "random_overlap_df <- data.frame(random_overlap=as.numeric(random_overlap))\n",
    "random_overlap_df$percent_overlap_all <- (as.numeric(random_overlap_df$random_overlap)/664)*100\n",
    "random_overlap_df$percent_overlap_transcribed <- (as.numeric(random_overlap_df$random_overlap)/\n",
    "                                                  nrow(gasperini_bidirectionals_unique_transcribed_nascent))*100\n",
    "\n",
    "head(random_overlap_df)"
   ]
  },
  {
   "cell_type": "code",
   "execution_count": 23,
   "metadata": {},
   "outputs": [
    {
     "data": {
      "image/png": "[encoded data removed]",
      "text/plain": [
       "plot without title"
      ]
     },
     "metadata": {
      "image/png": {
       "height": 360,
       "width": 960
      }
     },
     "output_type": "display_data"
    }
   ],
   "source": [
    "options(repr.plot.width=16, repr.plot.height=6)\n",
    "\n",
    "overlap_plotA <- ggplot(random_overlap_df, aes(x=random_overlap)) + \n",
    "geom_histogram(color=\"black\", fill=\"gray80\", bins = 100) +\n",
    "geom_vline(xintercept = nrow(crisprQtl_bidirGene_overlaps),\n",
    "           linetype=\"dotted\", \n",
    "                color = \"blue\", size=1.5) +\n",
    "scale_x_continuous(expand = c(0, 0),\n",
    "                   #limits = c(0, 220),\n",
    "                   breaks = seq(0,300,20)) +\n",
    "scale_y_continuous(expand = c(0, 0),\n",
    "                   limits = c(0,400),\n",
    "                   breaks = seq(0,400,100)) +\n",
    "annotate(geom=\"text\", size=8, x=190, y=300, label=\"True Pairs\",\n",
    "              color=\"blue\") +\n",
    "theme_cowplot(24) +\n",
    "  labs(title = \"Gasperini et al., 2019, Cell\", \n",
    "       y = \"Count\",\n",
    "       x = \"Random Bidirectional & Gene Pairs \\n Overlapping crisprQTL Pairs\") +\n",
    "theme(plot.title = element_text(hjust = 0.5),\n",
    "      title = element_text(size = 30), \n",
    "      axis.title = element_text(size = 28), \n",
    "      axis.text = element_text(size = 26)) +\n",
    "theme(plot.margin = margin(1,1,1.5,1.2, \"cm\"))\n",
    "\n",
    "overlap_plotA"
   ]
  },
  {
   "cell_type": "code",
   "execution_count": 24,
   "metadata": {},
   "outputs": [],
   "source": [
    "ggsave(overlap_plotA, width = 16, height = 6,\n",
    "       filename = '/Users/rusi2317/projects/meta_analysis_qc/hg38/paper_figures/gasperini_nascent_overlaps.pdf',\n",
    "      bg = \"transparent\")\n",
    "\n",
    "ggsave(overlap_plotA, width = 16, height = 6,\n",
    "       filename = '/Users/rusi2317/projects/meta_analysis_qc/hg38/paper_figures/gasperini_nascent_overlaps.png',\n",
    "      bg = \"transparent\")"
   ]
  },
  {
   "cell_type": "code",
   "execution_count": 27,
   "metadata": {},
   "outputs": [
    {
     "data": {
      "image/png": "[encoded data removed]",
      "text/plain": [
       "plot without title"
      ]
     },
     "metadata": {
      "image/png": {
       "height": 360,
       "width": 960
      }
     },
     "output_type": "display_data"
    }
   ],
   "source": [
    "options(repr.plot.width=16, repr.plot.height=6)\n",
    "\n",
    "overlap_plotB <- ggplot(random_overlap_df, aes(x=percent_overlap_transcribed)) + \n",
    "geom_histogram(color=\"black\", fill=\"gray80\", bins = 150) +\n",
    "geom_vline(xintercept = percent_recovered_transcribed,\n",
    "           linetype=\"dotted\", \n",
    "                color = \"blue\", size=1.5) +\n",
    "scale_x_continuous(expand = c(0, 0),\n",
    "                   breaks=seq(0,60,5)) +\n",
    "scale_y_continuous(expand = c(0, 0)) +\n",
    "annotate(geom=\"text\", size=9,\n",
    "         x=percent_recovered_transcribed-5,\n",
    "         y=220, \n",
    "         label=paste0(\"bidirectional region\\n and gene overlaps \\n (N=\",\n",
    "                      nrow(crisprQtl_bidirGene_overlaps),\")\"),\n",
    "         color=\"blue\") +\n",
    "coord_cartesian(xlim=c(0,40), ylim=c(0,300)) +\n",
    "theme_cowplot(24) +\n",
    "  labs(title = \" \", \n",
    "       y = \"Count\",\n",
    "       x = \"Recovered crisprQTL Pairs (%)\") +\n",
    "theme(plot.title = element_text(hjust = 0.5),\n",
    "      title = element_text(size = 30), \n",
    "      axis.title = element_text(size = 28), \n",
    "      axis.text = element_text(size = 26)) +\n",
    "theme(plot.margin = margin(0.5,1,0.5,0.5, \"cm\"))\n",
    "\n",
    "overlap_plotB"
   ]
  },
  {
   "cell_type": "code",
   "execution_count": 28,
   "metadata": {},
   "outputs": [],
   "source": [
    "ggsave(overlap_plotB, width = 16, height = 6,\n",
    "       filename = '/Users/rusi2317/projects/meta_analysis_qc/hg38/paper_figures/gasperini_nascent_overlaps_percent.pdf',\n",
    "      bg = \"transparent\")\n",
    "\n",
    "ggsave(overlap_plotB, width = 16, height = 6,\n",
    "       filename = '/Users/rusi2317/projects/meta_analysis_qc/hg38/paper_figures/gasperini_nascent_overlaps_percent.png',\n",
    "      bg = \"transparent\")"
   ]
  },
  {
   "cell_type": "markdown",
   "metadata": {},
   "source": [
    "### Calculate empirical p-value"
   ]
  },
  {
   "cell_type": "code",
   "execution_count": 29,
   "metadata": {},
   "outputs": [],
   "source": [
    "empirical_pval <- function(t_rep, t, alternative = c(\"two.sided\", \"less\", \"greater\")) {\n",
    "\n",
    "  alternative <- match.arg(alternative)\n",
    "\n",
    "  r <- sum(t_rep > t)\n",
    "  n <- length(t_rep)\n",
    "  p <- (r + 1) / (n + 1) # instead of r/n, since the r replicates and the data are assumed from the null\n",
    "\n",
    "  if (alternative == \"greater\") {\n",
    "    pval <- p\n",
    "  } else if (alternative == \"less\") {\n",
    "    pval <- 1 - p\n",
    "  } else if (alternative == \"two.sided\") {\n",
    "    pval <- 2 * min(p, 1 - p)\n",
    "  }\n",
    "  return(pval)\n",
    "}"
   ]
  },
  {
   "cell_type": "code",
   "execution_count": 30,
   "metadata": {},
   "outputs": [
    {
     "data": {
      "text/html": [
       "0.000999000999000999"
      ],
      "text/latex": [
       "0.000999000999000999"
      ],
      "text/markdown": [
       "0.000999000999000999"
      ],
      "text/plain": [
       "[1] 0.000999001"
      ]
     },
     "metadata": {},
     "output_type": "display_data"
    }
   ],
   "source": [
    "empirical_pval(as.numeric(random_overlap_df$random_overlap),\n",
    "               nrow(crisprQtl_bidirGene_overlaps), \n",
    "                    alternative = \"greater\")"
   ]
  },
  {
   "cell_type": "markdown",
   "metadata": {},
   "source": [
    "# Session Information"
   ]
  },
  {
   "cell_type": "code",
   "execution_count": 31,
   "metadata": {},
   "outputs": [
    {
     "data": {
      "text/plain": [
       "R version 3.6.0 (2019-04-26)\n",
       "Platform: x86_64-redhat-linux-gnu (64-bit)\n",
       "Running under: CentOS Linux 7 (Core)\n",
       "\n",
       "Matrix products: default\n",
       "BLAS/LAPACK: /usr/lib64/R/lib/libRblas.so\n",
       "\n",
       "locale:\n",
       " [1] LC_CTYPE=en_US.UTF-8       LC_NUMERIC=C              \n",
       " [3] LC_TIME=en_US.UTF-8        LC_COLLATE=en_US.UTF-8    \n",
       " [5] LC_MONETARY=en_US.UTF-8    LC_MESSAGES=en_US.UTF-8   \n",
       " [7] LC_PAPER=en_US.UTF-8       LC_NAME=C                 \n",
       " [9] LC_ADDRESS=C               LC_TELEPHONE=C            \n",
       "[11] LC_MEASUREMENT=en_US.UTF-8 LC_IDENTIFICATION=C       \n",
       "\n",
       "attached base packages:\n",
       "[1] stats     graphics  grDevices utils     datasets  methods   base     \n",
       "\n",
       "other attached packages:\n",
       "[1] data.table_1.14.2 cowplot_1.1.1     ggplot2_3.3.6    \n",
       "\n",
       "loaded via a namespace (and not attached):\n",
       " [1] pillar_1.8.1      compiler_3.6.0    R.methodsS3_1.8.2 R.utils_2.12.0   \n",
       " [5] base64enc_0.1-3   tools_3.6.0       digest_0.6.29     uuid_1.1-0       \n",
       " [9] jsonlite_1.8.0    evaluate_0.16     lifecycle_1.0.3   tibble_3.1.8     \n",
       "[13] gtable_0.3.1      pkgconfig_2.0.3   rlang_1.0.6       IRdisplay_1.1    \n",
       "[17] cli_3.4.1         DBI_1.1.3         IRkernel_1.3.2    fastmap_1.1.0    \n",
       "[21] withr_2.5.0       repr_1.1.4        dplyr_1.0.10      systemfonts_1.0.4\n",
       "[25] generics_0.1.3    vctrs_0.5.0       grid_3.6.0        tidyselect_1.1.2 \n",
       "[29] glue_1.6.2        R6_2.5.1          textshaping_0.3.6 fansi_1.0.3      \n",
       "[33] pbdZMQ_0.3-7      farver_2.1.1      purrr_0.3.4       magrittr_2.0.3   \n",
       "[37] scales_1.2.1      htmltools_0.5.2   assertthat_0.2.1  colorspace_2.0-3 \n",
       "[41] labeling_0.4.2    ragg_1.2.2        utf8_1.2.2        munsell_0.5.0    \n",
       "[45] crayon_1.5.1      R.oo_1.25.0      "
      ]
     },
     "metadata": {},
     "output_type": "display_data"
    }
   ],
   "source": [
    "sessionInfo()"
   ]
  }
 ],
 "metadata": {
  "kernelspec": {
   "display_name": "R",
   "language": "R",
   "name": "ir"
  },
  "language_info": {
   "codemirror_mode": "r",
   "file_extension": ".r",
   "mimetype": "text/x-r-source",
   "name": "R",
   "pygments_lexer": "r",
   "version": "3.6.0"
  },
  "toc": {
   "base_numbering": 1,
   "nav_menu": {},
   "number_sections": true,
   "sideBar": true,
   "skip_h1_title": false,
   "title_cell": "Table of Contents",
   "title_sidebar": "Contents",
   "toc_cell": false,
   "toc_position": {
    "height": "calc(100% - 180px)",
    "left": "10px",
    "top": "150px",
    "width": "322px"
   },
   "toc_section_display": true,
   "toc_window_display": true
  }
 },
 "nbformat": 4,
 "nbformat_minor": 2
}
