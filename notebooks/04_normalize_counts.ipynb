{
 "cells": [
  {
   "cell_type": "markdown",
   "metadata": {},
   "source": [
    "# Load libraries "
   ]
  },
  {
   "cell_type": "code",
   "execution_count": 1,
   "metadata": {},
   "outputs": [
    {
     "name": "stderr",
     "output_type": "stream",
     "text": [
      "Welcome! Want to learn more? See two factoextra-related books at https://goo.gl/ve3WBa\n",
      "\n",
      "\n",
      "Attaching package: ‘dplyr’\n",
      "\n",
      "\n",
      "The following objects are masked from ‘package:stats’:\n",
      "\n",
      "    filter, lag\n",
      "\n",
      "\n",
      "The following objects are masked from ‘package:base’:\n",
      "\n",
      "    intersect, setdiff, setequal, union\n",
      "\n",
      "\n"
     ]
    }
   ],
   "source": [
    "library(ggplot2) ##plotting package\n",
    "library(cowplot) ##plots + arrange plots etc\n",
    "library(factoextra) ##plot, PC plots .etc\n",
    "library(RColorBrewer) ## color palettes\n",
    "library(dplyr) ## for the R pipes\n",
    "library(tidyr) ## for tidying the dataframes"
   ]
  },
  {
   "cell_type": "markdown",
   "metadata": {},
   "source": [
    "# Functions for processing \n",
    "\n",
    "## TPM"
   ]
  },
  {
   "cell_type": "code",
   "execution_count": 2,
   "metadata": {},
   "outputs": [],
   "source": [
    "tpm <- function(feature_counts, input_raw=0) {\n",
    "    \n",
    "    #' calculate tpms for two dependent counts\n",
    "    #' \n",
    "    #' @description This function will calculate tpms for counts tables  \n",
    "    #' \n",
    "    #' @param feature_counts paths counts\n",
    "    #'\n",
    "    #' @usage tpm(feature_counts)\n",
    "    #' @return A dataframe with tpms values\n",
    "    #' @export\n",
    "    #' @importFrom base paste\n",
    "    \n",
    "    if (input_raw==0) {\n",
    "        #load counts .txt table\n",
    "        print(paste(\"Processing ----> \", feature_counts))\n",
    "        counts_tab <- read.table(feature_counts, head=TRUE)\n",
    "\n",
    "        #get number of columns\n",
    "        n_samples <- ncol(counts_tab)\n",
    "        print(n_samples)\n",
    "\n",
    "        #get only the counts columns\n",
    "        counts <- as.matrix(counts_tab[c(7:n_samples)])/counts_tab$Length\n",
    "        print(head(counts))\n",
    "\n",
    "        #calculate TPMs\n",
    "        tpm_mat <- t( t(counts) * 1e6 / colSums(counts) )\n",
    "        tpm_df <- as.data.frame(tpm_mat) \n",
    "        print(head(tpm_df))\n",
    "\n",
    "        #get column ids\n",
    "        colnames_id <- nrow(as.data.frame(strsplit(colnames(tpm_df), '\\\\.'))[1]) - 1\n",
    "        print(colnames_id)\n",
    "\n",
    "        new_colnames <- as.character(lapply(strsplit(colnames(tpm_df), '\\\\.'), `[`, colnames_id))\n",
    "        print(new_colnames)\n",
    "\n",
    "        colnames(tpm_df) <- new_colnames\n",
    "        rownames(tpm_df) <- counts_tab$Geneid\n",
    "\n",
    "        print(paste(\"Number of bidirectionals = \", nrow(tpm_df)))\n",
    "        print(\"DONE!\")\n",
    "\n",
    "        return(tpm_df)   \n",
    "        } else {\n",
    "        \n",
    "        print(paste(\"Processing ----> \", feature_counts))\n",
    "        \n",
    "        counts_tab <- feature_counts\n",
    "        \n",
    "        #get number of columns\n",
    "        n_samples <- ncol(counts_tab)\n",
    "        print(n_samples)\n",
    "\n",
    "        #get only the counts columns\n",
    "        counts <- as.matrix(counts_tab[c(7:n_samples)])/counts_tab$Length\n",
    "        print(head(counts))\n",
    "\n",
    "        #calculate TPMs\n",
    "        tpm_mat <- t( t(counts) * 1e6 / colSums(counts) )\n",
    "        tpm_df <- as.data.frame(tpm_mat) \n",
    "        print(head(tpm_df))\n",
    "\n",
    "        #get column ids\n",
    "        colnames_id <- nrow(as.data.frame(strsplit(colnames(tpm_df), '\\\\.'))[1]) - 1\n",
    "        print(colnames_id)\n",
    "\n",
    "        new_colnames <- as.character(lapply(strsplit(colnames(tpm_df), '\\\\.'), `[`, colnames_id))\n",
    "        print(new_colnames)\n",
    "\n",
    "        colnames(tpm_df) <- new_colnames\n",
    "        rownames(tpm_df) <- counts_tab$Geneid\n",
    "\n",
    "        print(paste(\"Number of bidirectionals = \", nrow(tpm_df)))\n",
    "        print(\"DONE!\")\n",
    "        return(tpm_df)  \n",
    "\n",
    "    }\n",
    "  \n",
    "}"
   ]
  },
  {
   "cell_type": "code",
   "execution_count": 3,
   "metadata": {},
   "outputs": [],
   "source": [
    "tpm_calculation <- function(count_g,len_g) {\n",
    "    \n",
    "    #' calculate tpms for two dependent counts #https://support.bioconductor.org/p/91218/\n",
    "    #' \n",
    "    #' @description This function will calculate tpms for counts table\n",
    "    #' derived from the same library.  \n",
    "    #' \n",
    "    #' @param count_g data.frame. first counts\n",
    "    #' \n",
    "    #' @param len_g list of integers. Transcript lengths corresponding to count_g\n",
    "    #' \n",
    "    #'\n",
    "    #' @usage tpm(count_g, len_g)\n",
    "    #' @return Matix with tpms values for genes in data.frame\n",
    "    #' @export\n",
    "\n",
    "    \n",
    "  g <- count_g/len_g\n",
    "\n",
    "  tot_tpms <- colSums(g)\n",
    "  \n",
    "  tpm_g <- t(t(g)*1e6/tot_tpms)\n",
    " \n",
    "    \n",
    "  return(tpm_g)   \n",
    "  \n",
    "}"
   ]
  },
  {
   "cell_type": "markdown",
   "metadata": {},
   "source": [
    "## Summary statistics for counts"
   ]
  },
  {
   "cell_type": "code",
   "execution_count": 4,
   "metadata": {},
   "outputs": [],
   "source": [
    "cal_summary_stats <- function(dataframe, num_samples) {\n",
    "        \n",
    "    #' return summary statistics such as mean, median, variance etc \n",
    "    #' for counts matrix in SAF format\n",
    "    #' \n",
    "    #' @description This function will calculate tpms for counts table\n",
    "    #' derived from the same library.  \n",
    "    #' \n",
    "    #' @param count_g data.frame. first counts\n",
    "    #' \n",
    "    #' @param len_g list of integers. Transcript lengths corresponding to count_g\n",
    "    #' \n",
    "    #'\n",
    "    #' @usage tpm(count_g, len_g)\n",
    "    #' @return Matix with tpms values for genes in data.frame\n",
    "    #' @export\n",
    "\n",
    "    \n",
    "    ##get summary statistics per gene across samples\n",
    "    #average TPMs \n",
    "    dataframe$mean <- apply(dataframe[c(6:num_samples + 5)], 1, mean)\n",
    "    \n",
    "    #median TPMs\n",
    "    dataframe$median <- apply(dataframe[c(6:num_samples + 5)], 1, median)\n",
    "\n",
    "    #standard deviation of counts\n",
    "    dataframe$stdev <- apply(dataframe[c(6:num_samples + 5)], 1, sd)\n",
    "    \n",
    "    #variance in counts\n",
    "    dataframe$variance <- apply(dataframe[c(6:num_samples + 5)], 1, var)\n",
    "    \n",
    "    #coefficiate of variation for normalized counts\n",
    "    dataframe$coefvar <- dataframe$stdev/dataframe$mean\n",
    "    \n",
    "}"
   ]
  },
  {
   "cell_type": "code",
   "execution_count": null,
   "metadata": {},
   "outputs": [],
   "source": []
  },
  {
   "cell_type": "code",
   "execution_count": null,
   "metadata": {},
   "outputs": [],
   "source": []
  },
  {
   "cell_type": "markdown",
   "metadata": {},
   "source": [
    "## CV"
   ]
  },
  {
   "cell_type": "code",
   "execution_count": 5,
   "metadata": {},
   "outputs": [],
   "source": [
    "cv <- function(x){\n",
    "    #' calculate coefficient of variation for set of values\n",
    "    #' \n",
    "    #' @description This function will calculate coefficient of variation\n",
    "    #' \n",
    "    #' @param x list of values\n",
    "    #' \n",
    "    #' @usage cv(x)\n",
    "    #' @return CV value\n",
    "    #' @export\n",
    "    \n",
    "    #sd(x, na.rm=TRUE)/mean(x, na.rm=TRUE)\n",
    "    sd(x)/mean(x)\n",
    "}"
   ]
  },
  {
   "cell_type": "markdown",
   "metadata": {},
   "source": [
    "## PCA plotting function"
   ]
  },
  {
   "cell_type": "code",
   "execution_count": 6,
   "metadata": {},
   "outputs": [],
   "source": [
    "gg_pca <- function(df,pc_a, pc_b,col_by,\n",
    "                   palette, title, xlable,ylable, legendlab ){\n",
    "    #' Generate PCA plot\n",
    "    #' \n",
    "    #' @description This function will return PCA plot \n",
    "    #' \n",
    "    #' @param df data.frame with PC values\n",
    "    #' @param pc_a string of PC to plot on the x axis\n",
    "    #' @param pc_b string of PC to plot on the y axis\n",
    "    #' @param col_by string representing how to group the colors\n",
    "    #' @param palette string string of color palette to use\n",
    "    #' @param title string of the plot title\n",
    "    #' @param xlable string\n",
    "    #' @param ylable string\n",
    "    #' @param lagendlab string\n",
    "    #' \n",
    "    #' @usage gg_pca(df,pc_a, pc_b,col_by,\n",
    "    #'               palette, title, xlable,ylable, legendlab )\n",
    "    #' @return PCA plot\n",
    "    #' @export\n",
    "    \n",
    "    ggplot(df, aes(pc_a, pc_b, fill=col_by)) +\n",
    "    ylab(ylable) + xlab(xlable) + ggtitle(title) +\n",
    "    geom_point(size=5,shape=21,color=\"gray40\") + theme_bw() +\n",
    "    scale_fill_brewer(name = legendlab,palette=palette)+\n",
    "    theme(panel.grid.major = element_blank(), \n",
    "          panel.grid.minor = element_blank(),\n",
    "          panel.background = element_rect(colour = \"black\", size=0.75))+\n",
    "    theme(plot.title = element_text(hjust = 0.5),\n",
    "          title = element_text(size = 24, face = \"bold\"), \n",
    "          axis.title = element_text(size = 20,face = \"bold\"), \n",
    "          axis.text = element_text(size = 18),\n",
    "         legend.title = element_text(size = 18),\n",
    "     legend.text = element_text(size = 16))\n",
    "    \n",
    "}"
   ]
  },
  {
   "cell_type": "markdown",
   "metadata": {},
   "source": [
    "# Load data\n",
    "\n",
    "## Metadata"
   ]
  },
  {
   "cell_type": "code",
   "execution_count": 7,
   "metadata": {},
   "outputs": [
    {
     "data": {
      "text/html": [
       "<style>\n",
       ".list-inline {list-style: none; margin:0; padding: 0}\n",
       ".list-inline>li {display: inline-block}\n",
       ".list-inline>li:not(:last-child)::after {content: \"\\00b7\"; padding: 0 .5ex}\n",
       "</style>\n",
       "<ol class=list-inline><li>2881</li><li>62</li></ol>\n"
      ],
      "text/latex": [
       "\\begin{enumerate*}\n",
       "\\item 2881\n",
       "\\item 62\n",
       "\\end{enumerate*}\n"
      ],
      "text/markdown": [
       "1. 2881\n",
       "2. 62\n",
       "\n",
       "\n"
      ],
      "text/plain": [
       "[1] 2881   62"
      ]
     },
     "metadata": {},
     "output_type": "display_data"
    },
    {
     "data": {
      "text/html": [
       "<table class=\"dataframe\">\n",
       "<caption>A data.frame: 6 × 62</caption>\n",
       "<thead>\n",
       "\t<tr><th></th><th scope=col>identifier</th><th scope=col>srp</th><th scope=col>srr</th><th scope=col>srz</th><th scope=col>replicate</th><th scope=col>protocol</th><th scope=col>organism</th><th scope=col>sample.type</th><th scope=col>cell.type</th><th scope=col>clone_individual</th><th scope=col>⋯</th><th scope=col>rseqc_five_utr</th><th scope=col>rseqc_three_utr</th><th scope=col>rseqc_intron</th><th scope=col>intron_rpk</th><th scope=col>exint_ratio</th><th scope=col>distinct_tenmillion_prop</th><th scope=col>genome_prop_cov</th><th scope=col>avg_fold_cov</th><th scope=col>samp_qc_score</th><th scope=col>samp_data_score</th></tr>\n",
       "\t<tr><th></th><th scope=col>&lt;fct&gt;</th><th scope=col>&lt;fct&gt;</th><th scope=col>&lt;fct&gt;</th><th scope=col>&lt;fct&gt;</th><th scope=col>&lt;fct&gt;</th><th scope=col>&lt;fct&gt;</th><th scope=col>&lt;fct&gt;</th><th scope=col>&lt;fct&gt;</th><th scope=col>&lt;fct&gt;</th><th scope=col>&lt;fct&gt;</th><th scope=col>⋯</th><th scope=col>&lt;int&gt;</th><th scope=col>&lt;int&gt;</th><th scope=col>&lt;int&gt;</th><th scope=col>&lt;dbl&gt;</th><th scope=col>&lt;dbl&gt;</th><th scope=col>&lt;dbl&gt;</th><th scope=col>&lt;dbl&gt;</th><th scope=col>&lt;dbl&gt;</th><th scope=col>&lt;int&gt;</th><th scope=col>&lt;int&gt;</th></tr>\n",
       "</thead>\n",
       "<tbody>\n",
       "\t<tr><th scope=row>1</th><td>Jiang2018multi </td><td>SRP133625</td><td>SRR6789175</td><td>SRR6789175</td><td>rep1</td><td>GRO-seq</td><td>H. sapiens</td><td>cell line</td><td>HCT116</td><td></td><td>⋯</td><td>13169755</td><td>1570971</td><td>13913192</td><td>10.35</td><td>4.005797</td><td>0.53434150</td><td>0.1616894204</td><td>1.69124924</td><td>2</td><td>2</td></tr>\n",
       "\t<tr><th scope=row>2</th><td>Jiang2018multi </td><td>SRP133625</td><td>SRR6789176</td><td>SRR6789176</td><td>rep2</td><td>GRO-seq</td><td>H. sapiens</td><td>cell line</td><td>HCT116</td><td></td><td>⋯</td><td> 8654825</td><td>2726810</td><td>25635316</td><td>19.07</td><td>3.274253</td><td>0.76100050</td><td>0.2179259333</td><td>1.54168071</td><td>1</td><td>2</td></tr>\n",
       "\t<tr><th scope=row>3</th><td>Orioli2016human</td><td>SRP064802</td><td>SRR2634645</td><td>SRR2634645</td><td>rep1</td><td>other  </td><td>H. sapiens</td><td>cell line</td><td>IMR90 </td><td></td><td>⋯</td><td> 3412166</td><td>3555460</td><td> 1989643</td><td> 1.48</td><td>2.020270</td><td>0.05481745</td><td>0.0079829801</td><td>0.57825595</td><td>4</td><td>5</td></tr>\n",
       "\t<tr><th scope=row>4</th><td>Orioli2016human</td><td>SRP064802</td><td>SRR2634646</td><td>SRR2634646</td><td>rep2</td><td>other  </td><td>H. sapiens</td><td>cell line</td><td>IMR90 </td><td></td><td>⋯</td><td> 3132307</td><td>3414405</td><td> 1863128</td><td> 1.39</td><td>2.223022</td><td>0.05493480</td><td>0.0078120794</td><td>0.54060952</td><td>4</td><td>5</td></tr>\n",
       "\t<tr><th scope=row>5</th><td>Orioli2016human</td><td>SRP064802</td><td>SRR2634647</td><td>SRR2634647</td><td>rep3</td><td>other  </td><td>H. sapiens</td><td>cell line</td><td>IMR90 </td><td></td><td>⋯</td><td> 3369366</td><td>3321637</td><td> 1621959</td><td> 1.21</td><td>3.553719</td><td>0.05111945</td><td>0.0064884831</td><td>0.55461626</td><td>4</td><td>5</td></tr>\n",
       "\t<tr><th scope=row>6</th><td>Orioli2016human</td><td>SRP064802</td><td>SRR2634648</td><td>SRR2634648</td><td>rep1</td><td>other  </td><td>H. sapiens</td><td>cell line</td><td>IMR90 </td><td></td><td>⋯</td><td>   46311</td><td>  19035</td><td>   28717</td><td> 0.02</td><td>0.500000</td><td>0.00785423</td><td>0.0003658053</td><td>0.04486242</td><td>5</td><td>5</td></tr>\n",
       "</tbody>\n",
       "</table>\n"
      ],
      "text/latex": [
       "A data.frame: 6 × 62\n",
       "\\begin{tabular}{r|lllllllllllllllllllll}\n",
       "  & identifier & srp & srr & srz & replicate & protocol & organism & sample.type & cell.type & clone\\_individual & ⋯ & rseqc\\_five\\_utr & rseqc\\_three\\_utr & rseqc\\_intron & intron\\_rpk & exint\\_ratio & distinct\\_tenmillion\\_prop & genome\\_prop\\_cov & avg\\_fold\\_cov & samp\\_qc\\_score & samp\\_data\\_score\\\\\n",
       "  & <fct> & <fct> & <fct> & <fct> & <fct> & <fct> & <fct> & <fct> & <fct> & <fct> & ⋯ & <int> & <int> & <int> & <dbl> & <dbl> & <dbl> & <dbl> & <dbl> & <int> & <int>\\\\\n",
       "\\hline\n",
       "\t1 & Jiang2018multi  & SRP133625 & SRR6789175 & SRR6789175 & rep1 & GRO-seq & H. sapiens & cell line & HCT116 &  & ⋯ & 13169755 & 1570971 & 13913192 & 10.35 & 4.005797 & 0.53434150 & 0.1616894204 & 1.69124924 & 2 & 2\\\\\n",
       "\t2 & Jiang2018multi  & SRP133625 & SRR6789176 & SRR6789176 & rep2 & GRO-seq & H. sapiens & cell line & HCT116 &  & ⋯ &  8654825 & 2726810 & 25635316 & 19.07 & 3.274253 & 0.76100050 & 0.2179259333 & 1.54168071 & 1 & 2\\\\\n",
       "\t3 & Orioli2016human & SRP064802 & SRR2634645 & SRR2634645 & rep1 & other   & H. sapiens & cell line & IMR90  &  & ⋯ &  3412166 & 3555460 &  1989643 &  1.48 & 2.020270 & 0.05481745 & 0.0079829801 & 0.57825595 & 4 & 5\\\\\n",
       "\t4 & Orioli2016human & SRP064802 & SRR2634646 & SRR2634646 & rep2 & other   & H. sapiens & cell line & IMR90  &  & ⋯ &  3132307 & 3414405 &  1863128 &  1.39 & 2.223022 & 0.05493480 & 0.0078120794 & 0.54060952 & 4 & 5\\\\\n",
       "\t5 & Orioli2016human & SRP064802 & SRR2634647 & SRR2634647 & rep3 & other   & H. sapiens & cell line & IMR90  &  & ⋯ &  3369366 & 3321637 &  1621959 &  1.21 & 3.553719 & 0.05111945 & 0.0064884831 & 0.55461626 & 4 & 5\\\\\n",
       "\t6 & Orioli2016human & SRP064802 & SRR2634648 & SRR2634648 & rep1 & other   & H. sapiens & cell line & IMR90  &  & ⋯ &    46311 &   19035 &    28717 &  0.02 & 0.500000 & 0.00785423 & 0.0003658053 & 0.04486242 & 5 & 5\\\\\n",
       "\\end{tabular}\n"
      ],
      "text/markdown": [
       "\n",
       "A data.frame: 6 × 62\n",
       "\n",
       "| <!--/--> | identifier &lt;fct&gt; | srp &lt;fct&gt; | srr &lt;fct&gt; | srz &lt;fct&gt; | replicate &lt;fct&gt; | protocol &lt;fct&gt; | organism &lt;fct&gt; | sample.type &lt;fct&gt; | cell.type &lt;fct&gt; | clone_individual &lt;fct&gt; | ⋯ ⋯ | rseqc_five_utr &lt;int&gt; | rseqc_three_utr &lt;int&gt; | rseqc_intron &lt;int&gt; | intron_rpk &lt;dbl&gt; | exint_ratio &lt;dbl&gt; | distinct_tenmillion_prop &lt;dbl&gt; | genome_prop_cov &lt;dbl&gt; | avg_fold_cov &lt;dbl&gt; | samp_qc_score &lt;int&gt; | samp_data_score &lt;int&gt; |\n",
       "|---|---|---|---|---|---|---|---|---|---|---|---|---|---|---|---|---|---|---|---|---|---|\n",
       "| 1 | Jiang2018multi  | SRP133625 | SRR6789175 | SRR6789175 | rep1 | GRO-seq | H. sapiens | cell line | HCT116 | <!----> | ⋯ | 13169755 | 1570971 | 13913192 | 10.35 | 4.005797 | 0.53434150 | 0.1616894204 | 1.69124924 | 2 | 2 |\n",
       "| 2 | Jiang2018multi  | SRP133625 | SRR6789176 | SRR6789176 | rep2 | GRO-seq | H. sapiens | cell line | HCT116 | <!----> | ⋯ |  8654825 | 2726810 | 25635316 | 19.07 | 3.274253 | 0.76100050 | 0.2179259333 | 1.54168071 | 1 | 2 |\n",
       "| 3 | Orioli2016human | SRP064802 | SRR2634645 | SRR2634645 | rep1 | other   | H. sapiens | cell line | IMR90  | <!----> | ⋯ |  3412166 | 3555460 |  1989643 |  1.48 | 2.020270 | 0.05481745 | 0.0079829801 | 0.57825595 | 4 | 5 |\n",
       "| 4 | Orioli2016human | SRP064802 | SRR2634646 | SRR2634646 | rep2 | other   | H. sapiens | cell line | IMR90  | <!----> | ⋯ |  3132307 | 3414405 |  1863128 |  1.39 | 2.223022 | 0.05493480 | 0.0078120794 | 0.54060952 | 4 | 5 |\n",
       "| 5 | Orioli2016human | SRP064802 | SRR2634647 | SRR2634647 | rep3 | other   | H. sapiens | cell line | IMR90  | <!----> | ⋯ |  3369366 | 3321637 |  1621959 |  1.21 | 3.553719 | 0.05111945 | 0.0064884831 | 0.55461626 | 4 | 5 |\n",
       "| 6 | Orioli2016human | SRP064802 | SRR2634648 | SRR2634648 | rep1 | other   | H. sapiens | cell line | IMR90  | <!----> | ⋯ |    46311 |   19035 |    28717 |  0.02 | 0.500000 | 0.00785423 | 0.0003658053 | 0.04486242 | 5 | 5 |\n",
       "\n"
      ],
      "text/plain": [
       "  identifier      srp       srr        srz        replicate protocol organism  \n",
       "1 Jiang2018multi  SRP133625 SRR6789175 SRR6789175 rep1      GRO-seq  H. sapiens\n",
       "2 Jiang2018multi  SRP133625 SRR6789176 SRR6789176 rep2      GRO-seq  H. sapiens\n",
       "3 Orioli2016human SRP064802 SRR2634645 SRR2634645 rep1      other    H. sapiens\n",
       "4 Orioli2016human SRP064802 SRR2634646 SRR2634646 rep2      other    H. sapiens\n",
       "5 Orioli2016human SRP064802 SRR2634647 SRR2634647 rep3      other    H. sapiens\n",
       "6 Orioli2016human SRP064802 SRR2634648 SRR2634648 rep1      other    H. sapiens\n",
       "  sample.type cell.type clone_individual ⋯ rseqc_five_utr rseqc_three_utr\n",
       "1 cell line   HCT116                     ⋯ 13169755       1570971        \n",
       "2 cell line   HCT116                     ⋯  8654825       2726810        \n",
       "3 cell line   IMR90                      ⋯  3412166       3555460        \n",
       "4 cell line   IMR90                      ⋯  3132307       3414405        \n",
       "5 cell line   IMR90                      ⋯  3369366       3321637        \n",
       "6 cell line   IMR90                      ⋯    46311         19035        \n",
       "  rseqc_intron intron_rpk exint_ratio distinct_tenmillion_prop genome_prop_cov\n",
       "1 13913192     10.35      4.005797    0.53434150               0.1616894204   \n",
       "2 25635316     19.07      3.274253    0.76100050               0.2179259333   \n",
       "3  1989643      1.48      2.020270    0.05481745               0.0079829801   \n",
       "4  1863128      1.39      2.223022    0.05493480               0.0078120794   \n",
       "5  1621959      1.21      3.553719    0.05111945               0.0064884831   \n",
       "6    28717      0.02      0.500000    0.00785423               0.0003658053   \n",
       "  avg_fold_cov samp_qc_score samp_data_score\n",
       "1 1.69124924   2             2              \n",
       "2 1.54168071   1             2              \n",
       "3 0.57825595   4             5              \n",
       "4 0.54060952   4             5              \n",
       "5 0.55461626   4             5              \n",
       "6 0.04486242   5             5              "
      ]
     },
     "metadata": {},
     "output_type": "display_data"
    }
   ],
   "source": [
    "metadata <- read.csv('/Users/rusi2317/projects/DBNascent_Analysis/data/metadata/20211026_db_output.csv')\n",
    "dim(metadata)\n",
    "head(metadata)"
   ]
  },
  {
   "cell_type": "markdown",
   "metadata": {},
   "source": [
    "## Counts \n",
    "\n",
    "### Genes"
   ]
  },
  {
   "cell_type": "code",
   "execution_count": 8,
   "metadata": {
    "scrolled": true
   },
   "outputs": [
    {
     "data": {
      "text/html": [
       "<style>\n",
       ".list-inline {list-style: none; margin:0; padding: 0}\n",
       ".list-inline>li {display: inline-block}\n",
       ".list-inline>li:not(:last-child)::after {content: \"\\00b7\"; padding: 0 .5ex}\n",
       "</style>\n",
       "<ol class=list-inline><li>28237</li><li>888</li></ol>\n"
      ],
      "text/latex": [
       "\\begin{enumerate*}\n",
       "\\item 28237\n",
       "\\item 888\n",
       "\\end{enumerate*}\n"
      ],
      "text/markdown": [
       "1. 28237\n",
       "2. 888\n",
       "\n",
       "\n"
      ],
      "text/plain": [
       "[1] 28237   888"
      ]
     },
     "metadata": {},
     "output_type": "display_data"
    },
    {
     "data": {
      "text/html": [
       "<table class=\"dataframe\">\n",
       "<caption>A data.table: 6 × 888</caption>\n",
       "<thead>\n",
       "\t<tr><th scope=col>GeneID</th><th scope=col>chromosome</th><th scope=col>start</th><th scope=col>end</th><th scope=col>strand</th><th scope=col>feature_id</th><th scope=col>TranscriptID</th><th scope=col>Length</th><th scope=col>SRZ1950491</th><th scope=col>SRZ1950493</th><th scope=col>⋯</th><th scope=col>SRR9833433</th><th scope=col>SRZ9833428</th><th scope=col>SRZ9833431</th><th scope=col>SRZ9833434</th><th scope=col>SRR11793825</th><th scope=col>SRR11793826</th><th scope=col>SRR11793827</th><th scope=col>SRR11793828</th><th scope=col>SRR11793829</th><th scope=col>SRR11793830</th></tr>\n",
       "\t<tr><th scope=col>&lt;chr&gt;</th><th scope=col>&lt;chr&gt;</th><th scope=col>&lt;int&gt;</th><th scope=col>&lt;int&gt;</th><th scope=col>&lt;chr&gt;</th><th scope=col>&lt;chr&gt;</th><th scope=col>&lt;chr&gt;</th><th scope=col>&lt;int&gt;</th><th scope=col>&lt;int&gt;</th><th scope=col>&lt;int&gt;</th><th scope=col>⋯</th><th scope=col>&lt;int&gt;</th><th scope=col>&lt;int&gt;</th><th scope=col>&lt;int&gt;</th><th scope=col>&lt;int&gt;</th><th scope=col>&lt;int&gt;</th><th scope=col>&lt;int&gt;</th><th scope=col>&lt;int&gt;</th><th scope=col>&lt;int&gt;</th><th scope=col>&lt;int&gt;</th><th scope=col>&lt;int&gt;</th></tr>\n",
       "</thead>\n",
       "<tbody>\n",
       "\t<tr><td>ZZZ3  </td><td>chr1 </td><td> 77562416</td><td> 77682658</td><td>-</td><td>gene_id \"\"ZZZ3\"\"; transcript_id \"\"NM_015534\"\"     </td><td>NM_015534   </td><td>120243</td><td>3327</td><td>4046</td><td>⋯</td><td>1719</td><td>15138</td><td>3474</td><td>3910</td><td>613</td><td>862</td><td>3035</td><td>2741</td><td>636</td><td>2503</td></tr>\n",
       "\t<tr><td>ZZEF1 </td><td>chr17</td><td>  4004445</td><td>  4143030</td><td>-</td><td>gene_id \"\"ZZEF1\"\"; transcript_id \"\"NM_015113\"\"    </td><td>NM_015113   </td><td>138586</td><td>1963</td><td>2068</td><td>⋯</td><td>1380</td><td> 6963</td><td>2774</td><td>3190</td><td>545</td><td>715</td><td>2303</td><td>1906</td><td>649</td><td>1834</td></tr>\n",
       "\t<tr><td>ZYX   </td><td>chr7 </td><td>143381345</td><td>143391111</td><td>+</td><td>gene_id \"\"ZYX\"\"; transcript_id \"\"NM_001362783\"\"   </td><td>NM_001362783</td><td>  9767</td><td>  71</td><td>  42</td><td>⋯</td><td> 857</td><td> 3315</td><td>1185</td><td>2507</td><td>143</td><td>177</td><td> 363</td><td> 345</td><td>123</td><td> 287</td></tr>\n",
       "\t<tr><td>ZYG11B</td><td>chr1 </td><td> 52726453</td><td> 52827336</td><td>+</td><td>gene_id \"\"ZYG11B\"\"; transcript_id \"\"NM_024646\"\"   </td><td>NM_024646   </td><td>100884</td><td>1111</td><td>1087</td><td>⋯</td><td>2300</td><td> 3676</td><td>4196</td><td>1716</td><td>375</td><td>500</td><td>1563</td><td>1332</td><td>449</td><td>1318</td></tr>\n",
       "\t<tr><td>ZYG11A</td><td>chr1 </td><td> 52842760</td><td> 52894995</td><td>+</td><td>gene_id \"\"ZYG11A\"\"; transcript_id \"\"NM_001004339\"\"</td><td>NM_001004339</td><td> 52236</td><td>   6</td><td>   0</td><td>⋯</td><td> 632</td><td>  892</td><td>1056</td><td> 591</td><td>303</td><td>434</td><td>1354</td><td>1164</td><td>457</td><td>1239</td></tr>\n",
       "\t<tr><td>ZXDC  </td><td>chr3 </td><td>126458901</td><td>126475919</td><td>-</td><td>gene_id \"\"ZXDC\"\"; transcript_id \"\"NM_001040653\"\"  </td><td>NM_001040653</td><td> 17019</td><td> 391</td><td> 375</td><td>⋯</td><td>1961</td><td> 1947</td><td>3550</td><td>2675</td><td>101</td><td>102</td><td> 291</td><td> 265</td><td> 95</td><td> 302</td></tr>\n",
       "</tbody>\n",
       "</table>\n"
      ],
      "text/latex": [
       "A data.table: 6 × 888\n",
       "\\begin{tabular}{lllllllllllllllllllll}\n",
       " GeneID & chromosome & start & end & strand & feature\\_id & TranscriptID & Length & SRZ1950491 & SRZ1950493 & ⋯ & SRR9833433 & SRZ9833428 & SRZ9833431 & SRZ9833434 & SRR11793825 & SRR11793826 & SRR11793827 & SRR11793828 & SRR11793829 & SRR11793830\\\\\n",
       " <chr> & <chr> & <int> & <int> & <chr> & <chr> & <chr> & <int> & <int> & <int> & ⋯ & <int> & <int> & <int> & <int> & <int> & <int> & <int> & <int> & <int> & <int>\\\\\n",
       "\\hline\n",
       "\t ZZZ3   & chr1  &  77562416 &  77682658 & - & gene\\_id \"\"ZZZ3\"\"; transcript\\_id \"\"NM\\_015534\"\"      & NM\\_015534    & 120243 & 3327 & 4046 & ⋯ & 1719 & 15138 & 3474 & 3910 & 613 & 862 & 3035 & 2741 & 636 & 2503\\\\\n",
       "\t ZZEF1  & chr17 &   4004445 &   4143030 & - & gene\\_id \"\"ZZEF1\"\"; transcript\\_id \"\"NM\\_015113\"\"     & NM\\_015113    & 138586 & 1963 & 2068 & ⋯ & 1380 &  6963 & 2774 & 3190 & 545 & 715 & 2303 & 1906 & 649 & 1834\\\\\n",
       "\t ZYX    & chr7  & 143381345 & 143391111 & + & gene\\_id \"\"ZYX\"\"; transcript\\_id \"\"NM\\_001362783\"\"    & NM\\_001362783 &   9767 &   71 &   42 & ⋯ &  857 &  3315 & 1185 & 2507 & 143 & 177 &  363 &  345 & 123 &  287\\\\\n",
       "\t ZYG11B & chr1  &  52726453 &  52827336 & + & gene\\_id \"\"ZYG11B\"\"; transcript\\_id \"\"NM\\_024646\"\"    & NM\\_024646    & 100884 & 1111 & 1087 & ⋯ & 2300 &  3676 & 4196 & 1716 & 375 & 500 & 1563 & 1332 & 449 & 1318\\\\\n",
       "\t ZYG11A & chr1  &  52842760 &  52894995 & + & gene\\_id \"\"ZYG11A\"\"; transcript\\_id \"\"NM\\_001004339\"\" & NM\\_001004339 &  52236 &    6 &    0 & ⋯ &  632 &   892 & 1056 &  591 & 303 & 434 & 1354 & 1164 & 457 & 1239\\\\\n",
       "\t ZXDC   & chr3  & 126458901 & 126475919 & - & gene\\_id \"\"ZXDC\"\"; transcript\\_id \"\"NM\\_001040653\"\"   & NM\\_001040653 &  17019 &  391 &  375 & ⋯ & 1961 &  1947 & 3550 & 2675 & 101 & 102 &  291 &  265 &  95 &  302\\\\\n",
       "\\end{tabular}\n"
      ],
      "text/markdown": [
       "\n",
       "A data.table: 6 × 888\n",
       "\n",
       "| GeneID &lt;chr&gt; | chromosome &lt;chr&gt; | start &lt;int&gt; | end &lt;int&gt; | strand &lt;chr&gt; | feature_id &lt;chr&gt; | TranscriptID &lt;chr&gt; | Length &lt;int&gt; | SRZ1950491 &lt;int&gt; | SRZ1950493 &lt;int&gt; | ⋯ ⋯ | SRR9833433 &lt;int&gt; | SRZ9833428 &lt;int&gt; | SRZ9833431 &lt;int&gt; | SRZ9833434 &lt;int&gt; | SRR11793825 &lt;int&gt; | SRR11793826 &lt;int&gt; | SRR11793827 &lt;int&gt; | SRR11793828 &lt;int&gt; | SRR11793829 &lt;int&gt; | SRR11793830 &lt;int&gt; |\n",
       "|---|---|---|---|---|---|---|---|---|---|---|---|---|---|---|---|---|---|---|---|---|\n",
       "| ZZZ3   | chr1  |  77562416 |  77682658 | - | gene_id \"\"ZZZ3\"\"; transcript_id \"\"NM_015534\"\"      | NM_015534    | 120243 | 3327 | 4046 | ⋯ | 1719 | 15138 | 3474 | 3910 | 613 | 862 | 3035 | 2741 | 636 | 2503 |\n",
       "| ZZEF1  | chr17 |   4004445 |   4143030 | - | gene_id \"\"ZZEF1\"\"; transcript_id \"\"NM_015113\"\"     | NM_015113    | 138586 | 1963 | 2068 | ⋯ | 1380 |  6963 | 2774 | 3190 | 545 | 715 | 2303 | 1906 | 649 | 1834 |\n",
       "| ZYX    | chr7  | 143381345 | 143391111 | + | gene_id \"\"ZYX\"\"; transcript_id \"\"NM_001362783\"\"    | NM_001362783 |   9767 |   71 |   42 | ⋯ |  857 |  3315 | 1185 | 2507 | 143 | 177 |  363 |  345 | 123 |  287 |\n",
       "| ZYG11B | chr1  |  52726453 |  52827336 | + | gene_id \"\"ZYG11B\"\"; transcript_id \"\"NM_024646\"\"    | NM_024646    | 100884 | 1111 | 1087 | ⋯ | 2300 |  3676 | 4196 | 1716 | 375 | 500 | 1563 | 1332 | 449 | 1318 |\n",
       "| ZYG11A | chr1  |  52842760 |  52894995 | + | gene_id \"\"ZYG11A\"\"; transcript_id \"\"NM_001004339\"\" | NM_001004339 |  52236 |    6 |    0 | ⋯ |  632 |   892 | 1056 |  591 | 303 | 434 | 1354 | 1164 | 457 | 1239 |\n",
       "| ZXDC   | chr3  | 126458901 | 126475919 | - | gene_id \"\"ZXDC\"\"; transcript_id \"\"NM_001040653\"\"   | NM_001040653 |  17019 |  391 |  375 | ⋯ | 1961 |  1947 | 3550 | 2675 | 101 | 102 |  291 |  265 |  95 |  302 |\n",
       "\n"
      ],
      "text/plain": [
       "  GeneID chromosome start     end       strand\n",
       "1 ZZZ3   chr1        77562416  77682658 -     \n",
       "2 ZZEF1  chr17        4004445   4143030 -     \n",
       "3 ZYX    chr7       143381345 143391111 +     \n",
       "4 ZYG11B chr1        52726453  52827336 +     \n",
       "5 ZYG11A chr1        52842760  52894995 +     \n",
       "6 ZXDC   chr3       126458901 126475919 -     \n",
       "  feature_id                                         TranscriptID Length\n",
       "1 gene_id \"\"ZZZ3\"\"; transcript_id \"\"NM_015534\"\"      NM_015534    120243\n",
       "2 gene_id \"\"ZZEF1\"\"; transcript_id \"\"NM_015113\"\"     NM_015113    138586\n",
       "3 gene_id \"\"ZYX\"\"; transcript_id \"\"NM_001362783\"\"    NM_001362783   9767\n",
       "4 gene_id \"\"ZYG11B\"\"; transcript_id \"\"NM_024646\"\"    NM_024646    100884\n",
       "5 gene_id \"\"ZYG11A\"\"; transcript_id \"\"NM_001004339\"\" NM_001004339  52236\n",
       "6 gene_id \"\"ZXDC\"\"; transcript_id \"\"NM_001040653\"\"   NM_001040653  17019\n",
       "  SRZ1950491 SRZ1950493 ⋯ SRR9833433 SRZ9833428 SRZ9833431 SRZ9833434\n",
       "1 3327       4046       ⋯ 1719       15138      3474       3910      \n",
       "2 1963       2068       ⋯ 1380        6963      2774       3190      \n",
       "3   71         42       ⋯  857        3315      1185       2507      \n",
       "4 1111       1087       ⋯ 2300        3676      4196       1716      \n",
       "5    6          0       ⋯  632         892      1056        591      \n",
       "6  391        375       ⋯ 1961        1947      3550       2675      \n",
       "  SRR11793825 SRR11793826 SRR11793827 SRR11793828 SRR11793829 SRR11793830\n",
       "1 613         862         3035        2741        636         2503       \n",
       "2 545         715         2303        1906        649         1834       \n",
       "3 143         177          363         345        123          287       \n",
       "4 375         500         1563        1332        449         1318       \n",
       "5 303         434         1354        1164        457         1239       \n",
       "6 101         102          291         265         95          302       "
      ]
     },
     "metadata": {},
     "output_type": "display_data"
    }
   ],
   "source": [
    "counts_genes <- data.table::fread('/Users/rusi2317/projects/DBNascent_Analysis/data/final_counts/counts_genes.tsv.gz',\n",
    "                                 sep='\\t')\n",
    "dim(counts_genes)\n",
    "head(counts_genes)"
   ]
  },
  {
   "cell_type": "markdown",
   "metadata": {},
   "source": [
    "### Genes : 5' truncated"
   ]
  },
  {
   "cell_type": "code",
   "execution_count": 9,
   "metadata": {},
   "outputs": [
    {
     "data": {
      "text/html": [
       "<style>\n",
       ".list-inline {list-style: none; margin:0; padding: 0}\n",
       ".list-inline>li {display: inline-block}\n",
       ".list-inline>li:not(:last-child)::after {content: \"\\00b7\"; padding: 0 .5ex}\n",
       "</style>\n",
       "<ol class=list-inline><li>28237</li><li>888</li></ol>\n"
      ],
      "text/latex": [
       "\\begin{enumerate*}\n",
       "\\item 28237\n",
       "\\item 888\n",
       "\\end{enumerate*}\n"
      ],
      "text/markdown": [
       "1. 28237\n",
       "2. 888\n",
       "\n",
       "\n"
      ],
      "text/plain": [
       "[1] 28237   888"
      ]
     },
     "metadata": {},
     "output_type": "display_data"
    },
    {
     "data": {
      "text/html": [
       "<table class=\"dataframe\">\n",
       "<caption>A data.table: 6 × 888</caption>\n",
       "<thead>\n",
       "\t<tr><th scope=col>GeneID</th><th scope=col>chromosome</th><th scope=col>start</th><th scope=col>end</th><th scope=col>strand</th><th scope=col>feature_id</th><th scope=col>TranscriptID</th><th scope=col>Length</th><th scope=col>SRZ1950491</th><th scope=col>SRZ1950493</th><th scope=col>⋯</th><th scope=col>SRR9833433</th><th scope=col>SRZ9833428</th><th scope=col>SRZ9833431</th><th scope=col>SRZ9833434</th><th scope=col>SRR11793825</th><th scope=col>SRR11793826</th><th scope=col>SRR11793827</th><th scope=col>SRR11793828</th><th scope=col>SRR11793829</th><th scope=col>SRR11793830</th></tr>\n",
       "\t<tr><th scope=col>&lt;chr&gt;</th><th scope=col>&lt;chr&gt;</th><th scope=col>&lt;int&gt;</th><th scope=col>&lt;int&gt;</th><th scope=col>&lt;chr&gt;</th><th scope=col>&lt;chr&gt;</th><th scope=col>&lt;chr&gt;</th><th scope=col>&lt;int&gt;</th><th scope=col>&lt;int&gt;</th><th scope=col>&lt;int&gt;</th><th scope=col>⋯</th><th scope=col>&lt;int&gt;</th><th scope=col>&lt;int&gt;</th><th scope=col>&lt;int&gt;</th><th scope=col>&lt;int&gt;</th><th scope=col>&lt;int&gt;</th><th scope=col>&lt;int&gt;</th><th scope=col>&lt;int&gt;</th><th scope=col>&lt;int&gt;</th><th scope=col>&lt;int&gt;</th><th scope=col>&lt;int&gt;</th></tr>\n",
       "</thead>\n",
       "<tbody>\n",
       "\t<tr><td>ZZZ3  </td><td>chr1 </td><td> 77562416</td><td> 77681908</td><td>-</td><td>gene_id \"\"ZZZ3\"\"; transcript_id \"\"NM_015534\"\"     </td><td>NM_015534   </td><td>119493</td><td>3207</td><td>3976</td><td>⋯</td><td>1447</td><td>14963</td><td>2733</td><td>3146</td><td>588</td><td>838</td><td>2977</td><td>2700</td><td>608</td><td>2435</td></tr>\n",
       "\t<tr><td>ZZEF1 </td><td>chr17</td><td>  4004445</td><td>  4142280</td><td>-</td><td>gene_id \"\"ZZEF1\"\"; transcript_id \"\"NM_015113\"\"    </td><td>NM_015113   </td><td>137836</td><td>1882</td><td>2026</td><td>⋯</td><td>1015</td><td> 6772</td><td>1756</td><td>2415</td><td>534</td><td>709</td><td>2286</td><td>1900</td><td>636</td><td>1826</td></tr>\n",
       "\t<tr><td>ZYX   </td><td>chr7 </td><td>143382095</td><td>143391111</td><td>+</td><td>gene_id \"\"ZYX\"\"; transcript_id \"\"NM_001362783\"\"   </td><td>NM_001362783</td><td>  9017</td><td>  55</td><td>  33</td><td>⋯</td><td> 329</td><td> 3052</td><td> 714</td><td>1434</td><td>123</td><td>156</td><td> 312</td><td> 306</td><td>118</td><td> 273</td></tr>\n",
       "\t<tr><td>ZYG11B</td><td>chr1 </td><td> 52727203</td><td> 52827336</td><td>+</td><td>gene_id \"\"ZYG11B\"\"; transcript_id \"\"NM_024646\"\"   </td><td>NM_024646   </td><td>100134</td><td>1043</td><td>1040</td><td>⋯</td><td>2087</td><td> 3632</td><td>3584</td><td>1112</td><td>344</td><td>462</td><td>1505</td><td>1301</td><td>421</td><td>1296</td></tr>\n",
       "\t<tr><td>ZYG11A</td><td>chr1 </td><td> 52843510</td><td> 52894995</td><td>+</td><td>gene_id \"\"ZYG11A\"\"; transcript_id \"\"NM_001004339\"\"</td><td>NM_001004339</td><td> 51486</td><td>   6</td><td>   0</td><td>⋯</td><td> 183</td><td>  802</td><td> 193</td><td> 209</td><td>275</td><td>380</td><td>1255</td><td>1091</td><td>400</td><td>1134</td></tr>\n",
       "\t<tr><td>ZXDC  </td><td>chr3 </td><td>126458901</td><td>126475169</td><td>-</td><td>gene_id \"\"ZXDC\"\"; transcript_id \"\"NM_001040653\"\"  </td><td>NM_001040653</td><td> 16269</td><td> 332</td><td> 334</td><td>⋯</td><td> 292</td><td> 1696</td><td> 589</td><td> 845</td><td> 83</td><td> 86</td><td> 259</td><td> 231</td><td> 69</td><td> 264</td></tr>\n",
       "</tbody>\n",
       "</table>\n"
      ],
      "text/latex": [
       "A data.table: 6 × 888\n",
       "\\begin{tabular}{lllllllllllllllllllll}\n",
       " GeneID & chromosome & start & end & strand & feature\\_id & TranscriptID & Length & SRZ1950491 & SRZ1950493 & ⋯ & SRR9833433 & SRZ9833428 & SRZ9833431 & SRZ9833434 & SRR11793825 & SRR11793826 & SRR11793827 & SRR11793828 & SRR11793829 & SRR11793830\\\\\n",
       " <chr> & <chr> & <int> & <int> & <chr> & <chr> & <chr> & <int> & <int> & <int> & ⋯ & <int> & <int> & <int> & <int> & <int> & <int> & <int> & <int> & <int> & <int>\\\\\n",
       "\\hline\n",
       "\t ZZZ3   & chr1  &  77562416 &  77681908 & - & gene\\_id \"\"ZZZ3\"\"; transcript\\_id \"\"NM\\_015534\"\"      & NM\\_015534    & 119493 & 3207 & 3976 & ⋯ & 1447 & 14963 & 2733 & 3146 & 588 & 838 & 2977 & 2700 & 608 & 2435\\\\\n",
       "\t ZZEF1  & chr17 &   4004445 &   4142280 & - & gene\\_id \"\"ZZEF1\"\"; transcript\\_id \"\"NM\\_015113\"\"     & NM\\_015113    & 137836 & 1882 & 2026 & ⋯ & 1015 &  6772 & 1756 & 2415 & 534 & 709 & 2286 & 1900 & 636 & 1826\\\\\n",
       "\t ZYX    & chr7  & 143382095 & 143391111 & + & gene\\_id \"\"ZYX\"\"; transcript\\_id \"\"NM\\_001362783\"\"    & NM\\_001362783 &   9017 &   55 &   33 & ⋯ &  329 &  3052 &  714 & 1434 & 123 & 156 &  312 &  306 & 118 &  273\\\\\n",
       "\t ZYG11B & chr1  &  52727203 &  52827336 & + & gene\\_id \"\"ZYG11B\"\"; transcript\\_id \"\"NM\\_024646\"\"    & NM\\_024646    & 100134 & 1043 & 1040 & ⋯ & 2087 &  3632 & 3584 & 1112 & 344 & 462 & 1505 & 1301 & 421 & 1296\\\\\n",
       "\t ZYG11A & chr1  &  52843510 &  52894995 & + & gene\\_id \"\"ZYG11A\"\"; transcript\\_id \"\"NM\\_001004339\"\" & NM\\_001004339 &  51486 &    6 &    0 & ⋯ &  183 &   802 &  193 &  209 & 275 & 380 & 1255 & 1091 & 400 & 1134\\\\\n",
       "\t ZXDC   & chr3  & 126458901 & 126475169 & - & gene\\_id \"\"ZXDC\"\"; transcript\\_id \"\"NM\\_001040653\"\"   & NM\\_001040653 &  16269 &  332 &  334 & ⋯ &  292 &  1696 &  589 &  845 &  83 &  86 &  259 &  231 &  69 &  264\\\\\n",
       "\\end{tabular}\n"
      ],
      "text/markdown": [
       "\n",
       "A data.table: 6 × 888\n",
       "\n",
       "| GeneID &lt;chr&gt; | chromosome &lt;chr&gt; | start &lt;int&gt; | end &lt;int&gt; | strand &lt;chr&gt; | feature_id &lt;chr&gt; | TranscriptID &lt;chr&gt; | Length &lt;int&gt; | SRZ1950491 &lt;int&gt; | SRZ1950493 &lt;int&gt; | ⋯ ⋯ | SRR9833433 &lt;int&gt; | SRZ9833428 &lt;int&gt; | SRZ9833431 &lt;int&gt; | SRZ9833434 &lt;int&gt; | SRR11793825 &lt;int&gt; | SRR11793826 &lt;int&gt; | SRR11793827 &lt;int&gt; | SRR11793828 &lt;int&gt; | SRR11793829 &lt;int&gt; | SRR11793830 &lt;int&gt; |\n",
       "|---|---|---|---|---|---|---|---|---|---|---|---|---|---|---|---|---|---|---|---|---|\n",
       "| ZZZ3   | chr1  |  77562416 |  77681908 | - | gene_id \"\"ZZZ3\"\"; transcript_id \"\"NM_015534\"\"      | NM_015534    | 119493 | 3207 | 3976 | ⋯ | 1447 | 14963 | 2733 | 3146 | 588 | 838 | 2977 | 2700 | 608 | 2435 |\n",
       "| ZZEF1  | chr17 |   4004445 |   4142280 | - | gene_id \"\"ZZEF1\"\"; transcript_id \"\"NM_015113\"\"     | NM_015113    | 137836 | 1882 | 2026 | ⋯ | 1015 |  6772 | 1756 | 2415 | 534 | 709 | 2286 | 1900 | 636 | 1826 |\n",
       "| ZYX    | chr7  | 143382095 | 143391111 | + | gene_id \"\"ZYX\"\"; transcript_id \"\"NM_001362783\"\"    | NM_001362783 |   9017 |   55 |   33 | ⋯ |  329 |  3052 |  714 | 1434 | 123 | 156 |  312 |  306 | 118 |  273 |\n",
       "| ZYG11B | chr1  |  52727203 |  52827336 | + | gene_id \"\"ZYG11B\"\"; transcript_id \"\"NM_024646\"\"    | NM_024646    | 100134 | 1043 | 1040 | ⋯ | 2087 |  3632 | 3584 | 1112 | 344 | 462 | 1505 | 1301 | 421 | 1296 |\n",
       "| ZYG11A | chr1  |  52843510 |  52894995 | + | gene_id \"\"ZYG11A\"\"; transcript_id \"\"NM_001004339\"\" | NM_001004339 |  51486 |    6 |    0 | ⋯ |  183 |   802 |  193 |  209 | 275 | 380 | 1255 | 1091 | 400 | 1134 |\n",
       "| ZXDC   | chr3  | 126458901 | 126475169 | - | gene_id \"\"ZXDC\"\"; transcript_id \"\"NM_001040653\"\"   | NM_001040653 |  16269 |  332 |  334 | ⋯ |  292 |  1696 |  589 |  845 |  83 |  86 |  259 |  231 |  69 |  264 |\n",
       "\n"
      ],
      "text/plain": [
       "  GeneID chromosome start     end       strand\n",
       "1 ZZZ3   chr1        77562416  77681908 -     \n",
       "2 ZZEF1  chr17        4004445   4142280 -     \n",
       "3 ZYX    chr7       143382095 143391111 +     \n",
       "4 ZYG11B chr1        52727203  52827336 +     \n",
       "5 ZYG11A chr1        52843510  52894995 +     \n",
       "6 ZXDC   chr3       126458901 126475169 -     \n",
       "  feature_id                                         TranscriptID Length\n",
       "1 gene_id \"\"ZZZ3\"\"; transcript_id \"\"NM_015534\"\"      NM_015534    119493\n",
       "2 gene_id \"\"ZZEF1\"\"; transcript_id \"\"NM_015113\"\"     NM_015113    137836\n",
       "3 gene_id \"\"ZYX\"\"; transcript_id \"\"NM_001362783\"\"    NM_001362783   9017\n",
       "4 gene_id \"\"ZYG11B\"\"; transcript_id \"\"NM_024646\"\"    NM_024646    100134\n",
       "5 gene_id \"\"ZYG11A\"\"; transcript_id \"\"NM_001004339\"\" NM_001004339  51486\n",
       "6 gene_id \"\"ZXDC\"\"; transcript_id \"\"NM_001040653\"\"   NM_001040653  16269\n",
       "  SRZ1950491 SRZ1950493 ⋯ SRR9833433 SRZ9833428 SRZ9833431 SRZ9833434\n",
       "1 3207       3976       ⋯ 1447       14963      2733       3146      \n",
       "2 1882       2026       ⋯ 1015        6772      1756       2415      \n",
       "3   55         33       ⋯  329        3052       714       1434      \n",
       "4 1043       1040       ⋯ 2087        3632      3584       1112      \n",
       "5    6          0       ⋯  183         802       193        209      \n",
       "6  332        334       ⋯  292        1696       589        845      \n",
       "  SRR11793825 SRR11793826 SRR11793827 SRR11793828 SRR11793829 SRR11793830\n",
       "1 588         838         2977        2700        608         2435       \n",
       "2 534         709         2286        1900        636         1826       \n",
       "3 123         156          312         306        118          273       \n",
       "4 344         462         1505        1301        421         1296       \n",
       "5 275         380         1255        1091        400         1134       \n",
       "6  83          86          259         231         69          264       "
      ]
     },
     "metadata": {},
     "output_type": "display_data"
    }
   ],
   "source": [
    "counts_genes_trunc <- data.table::fread('/Users/rusi2317/projects/DBNascent_Analysis/data/final_counts/counts_genes_5ptrunc.tsv.gz',\n",
    "                                 sep='\\t')\n",
    "dim(counts_genes_trunc)\n",
    "head(counts_genes_trunc)"
   ]
  },
  {
   "cell_type": "markdown",
   "metadata": {},
   "source": [
    "### Bidirectionals"
   ]
  },
  {
   "cell_type": "code",
   "execution_count": 10,
   "metadata": {},
   "outputs": [
    {
     "data": {
      "text/html": [
       "<style>\n",
       ".list-inline {list-style: none; margin:0; padding: 0}\n",
       ".list-inline>li {display: inline-block}\n",
       ".list-inline>li:not(:last-child)::after {content: \"\\00b7\"; padding: 0 .5ex}\n",
       "</style>\n",
       "<ol class=list-inline><li>652281</li><li>887</li></ol>\n"
      ],
      "text/latex": [
       "\\begin{enumerate*}\n",
       "\\item 652281\n",
       "\\item 887\n",
       "\\end{enumerate*}\n"
      ],
      "text/markdown": [
       "1. 652281\n",
       "2. 887\n",
       "\n",
       "\n"
      ],
      "text/plain": [
       "[1] 652281    887"
      ]
     },
     "metadata": {},
     "output_type": "display_data"
    },
    {
     "data": {
      "text/html": [
       "<table class=\"dataframe\">\n",
       "<caption>A data.table: 6 × 887</caption>\n",
       "<thead>\n",
       "\t<tr><th scope=col>chromosome</th><th scope=col>start</th><th scope=col>end</th><th scope=col>Length</th><th scope=col>Geneid</th><th scope=col>GeneID</th><th scope=col>Source</th><th scope=col>SRZ1950491</th><th scope=col>SRZ1950493</th><th scope=col>SRZ1950495</th><th scope=col>⋯</th><th scope=col>SRR9833433</th><th scope=col>SRZ9833428</th><th scope=col>SRZ9833431</th><th scope=col>SRZ9833434</th><th scope=col>SRR11793825</th><th scope=col>SRR11793826</th><th scope=col>SRR11793827</th><th scope=col>SRR11793828</th><th scope=col>SRR11793829</th><th scope=col>SRR11793830</th></tr>\n",
       "\t<tr><th scope=col>&lt;chr&gt;</th><th scope=col>&lt;int&gt;</th><th scope=col>&lt;int&gt;</th><th scope=col>&lt;int&gt;</th><th scope=col>&lt;chr&gt;</th><th scope=col>&lt;chr&gt;</th><th scope=col>&lt;chr&gt;</th><th scope=col>&lt;int&gt;</th><th scope=col>&lt;int&gt;</th><th scope=col>&lt;int&gt;</th><th scope=col>⋯</th><th scope=col>&lt;int&gt;</th><th scope=col>&lt;int&gt;</th><th scope=col>&lt;int&gt;</th><th scope=col>&lt;int&gt;</th><th scope=col>&lt;int&gt;</th><th scope=col>&lt;int&gt;</th><th scope=col>&lt;int&gt;</th><th scope=col>&lt;int&gt;</th><th scope=col>&lt;int&gt;</th><th scope=col>&lt;int&gt;</th></tr>\n",
       "</thead>\n",
       "<tbody>\n",
       "\t<tr><td>chr1</td><td> 3730</td><td> 7399</td><td>3669</td><td>chr1-3730-7399-dreg       </td><td>chr1:3730-7399  </td><td>dreg     </td><td> 0</td><td> 0</td><td> 0</td><td>⋯</td><td> 0</td><td>  0</td><td> 0</td><td> 0</td><td>0</td><td> 0</td><td> 0</td><td> 0</td><td>0</td><td> 0</td></tr>\n",
       "\t<tr><td>chr1</td><td>10152</td><td>11370</td><td>1218</td><td>chr1-10152-11370-tfit,dreg</td><td>chr1:10152-11370</td><td>tfit,dreg</td><td> 3</td><td> 1</td><td> 2</td><td>⋯</td><td> 1</td><td>  2</td><td> 6</td><td>16</td><td>0</td><td> 0</td><td> 0</td><td> 0</td><td>0</td><td> 0</td></tr>\n",
       "\t<tr><td>chr1</td><td>12345</td><td>12711</td><td> 366</td><td>chr1-12345-12711-dreg     </td><td>chr1:12345-12711</td><td>dreg     </td><td> 0</td><td> 0</td><td> 0</td><td>⋯</td><td> 0</td><td>  0</td><td> 0</td><td> 0</td><td>0</td><td> 0</td><td> 0</td><td> 0</td><td>0</td><td> 0</td></tr>\n",
       "\t<tr><td>chr1</td><td>13250</td><td>13756</td><td> 506</td><td>chr1-13250-13756-dreg     </td><td>chr1:13250-13756</td><td>dreg     </td><td> 7</td><td> 2</td><td> 6</td><td>⋯</td><td> 5</td><td> 38</td><td> 5</td><td>12</td><td>6</td><td> 7</td><td> 8</td><td>10</td><td>0</td><td> 5</td></tr>\n",
       "\t<tr><td>chr1</td><td>15111</td><td>15407</td><td> 296</td><td>chr1-15111-15407-dreg     </td><td>chr1:15111-15407</td><td>dreg     </td><td> 0</td><td> 0</td><td> 0</td><td>⋯</td><td> 4</td><td> 22</td><td> 3</td><td> 2</td><td>0</td><td> 1</td><td> 3</td><td> 0</td><td>0</td><td> 2</td></tr>\n",
       "\t<tr><td>chr1</td><td>16192</td><td>17624</td><td>1432</td><td>chr1-16192-17624-tfit,dreg</td><td>chr1:16192-17624</td><td>tfit,dreg</td><td>28</td><td>16</td><td>18</td><td>⋯</td><td>28</td><td>181</td><td>27</td><td>75</td><td>5</td><td>12</td><td>22</td><td>18</td><td>0</td><td>10</td></tr>\n",
       "</tbody>\n",
       "</table>\n"
      ],
      "text/latex": [
       "A data.table: 6 × 887\n",
       "\\begin{tabular}{lllllllllllllllllllll}\n",
       " chromosome & start & end & Length & Geneid & GeneID & Source & SRZ1950491 & SRZ1950493 & SRZ1950495 & ⋯ & SRR9833433 & SRZ9833428 & SRZ9833431 & SRZ9833434 & SRR11793825 & SRR11793826 & SRR11793827 & SRR11793828 & SRR11793829 & SRR11793830\\\\\n",
       " <chr> & <int> & <int> & <int> & <chr> & <chr> & <chr> & <int> & <int> & <int> & ⋯ & <int> & <int> & <int> & <int> & <int> & <int> & <int> & <int> & <int> & <int>\\\\\n",
       "\\hline\n",
       "\t chr1 &  3730 &  7399 & 3669 & chr1-3730-7399-dreg        & chr1:3730-7399   & dreg      &  0 &  0 &  0 & ⋯ &  0 &   0 &  0 &  0 & 0 &  0 &  0 &  0 & 0 &  0\\\\\n",
       "\t chr1 & 10152 & 11370 & 1218 & chr1-10152-11370-tfit,dreg & chr1:10152-11370 & tfit,dreg &  3 &  1 &  2 & ⋯ &  1 &   2 &  6 & 16 & 0 &  0 &  0 &  0 & 0 &  0\\\\\n",
       "\t chr1 & 12345 & 12711 &  366 & chr1-12345-12711-dreg      & chr1:12345-12711 & dreg      &  0 &  0 &  0 & ⋯ &  0 &   0 &  0 &  0 & 0 &  0 &  0 &  0 & 0 &  0\\\\\n",
       "\t chr1 & 13250 & 13756 &  506 & chr1-13250-13756-dreg      & chr1:13250-13756 & dreg      &  7 &  2 &  6 & ⋯ &  5 &  38 &  5 & 12 & 6 &  7 &  8 & 10 & 0 &  5\\\\\n",
       "\t chr1 & 15111 & 15407 &  296 & chr1-15111-15407-dreg      & chr1:15111-15407 & dreg      &  0 &  0 &  0 & ⋯ &  4 &  22 &  3 &  2 & 0 &  1 &  3 &  0 & 0 &  2\\\\\n",
       "\t chr1 & 16192 & 17624 & 1432 & chr1-16192-17624-tfit,dreg & chr1:16192-17624 & tfit,dreg & 28 & 16 & 18 & ⋯ & 28 & 181 & 27 & 75 & 5 & 12 & 22 & 18 & 0 & 10\\\\\n",
       "\\end{tabular}\n"
      ],
      "text/markdown": [
       "\n",
       "A data.table: 6 × 887\n",
       "\n",
       "| chromosome &lt;chr&gt; | start &lt;int&gt; | end &lt;int&gt; | Length &lt;int&gt; | Geneid &lt;chr&gt; | GeneID &lt;chr&gt; | Source &lt;chr&gt; | SRZ1950491 &lt;int&gt; | SRZ1950493 &lt;int&gt; | SRZ1950495 &lt;int&gt; | ⋯ ⋯ | SRR9833433 &lt;int&gt; | SRZ9833428 &lt;int&gt; | SRZ9833431 &lt;int&gt; | SRZ9833434 &lt;int&gt; | SRR11793825 &lt;int&gt; | SRR11793826 &lt;int&gt; | SRR11793827 &lt;int&gt; | SRR11793828 &lt;int&gt; | SRR11793829 &lt;int&gt; | SRR11793830 &lt;int&gt; |\n",
       "|---|---|---|---|---|---|---|---|---|---|---|---|---|---|---|---|---|---|---|---|---|\n",
       "| chr1 |  3730 |  7399 | 3669 | chr1-3730-7399-dreg        | chr1:3730-7399   | dreg      |  0 |  0 |  0 | ⋯ |  0 |   0 |  0 |  0 | 0 |  0 |  0 |  0 | 0 |  0 |\n",
       "| chr1 | 10152 | 11370 | 1218 | chr1-10152-11370-tfit,dreg | chr1:10152-11370 | tfit,dreg |  3 |  1 |  2 | ⋯ |  1 |   2 |  6 | 16 | 0 |  0 |  0 |  0 | 0 |  0 |\n",
       "| chr1 | 12345 | 12711 |  366 | chr1-12345-12711-dreg      | chr1:12345-12711 | dreg      |  0 |  0 |  0 | ⋯ |  0 |   0 |  0 |  0 | 0 |  0 |  0 |  0 | 0 |  0 |\n",
       "| chr1 | 13250 | 13756 |  506 | chr1-13250-13756-dreg      | chr1:13250-13756 | dreg      |  7 |  2 |  6 | ⋯ |  5 |  38 |  5 | 12 | 6 |  7 |  8 | 10 | 0 |  5 |\n",
       "| chr1 | 15111 | 15407 |  296 | chr1-15111-15407-dreg      | chr1:15111-15407 | dreg      |  0 |  0 |  0 | ⋯ |  4 |  22 |  3 |  2 | 0 |  1 |  3 |  0 | 0 |  2 |\n",
       "| chr1 | 16192 | 17624 | 1432 | chr1-16192-17624-tfit,dreg | chr1:16192-17624 | tfit,dreg | 28 | 16 | 18 | ⋯ | 28 | 181 | 27 | 75 | 5 | 12 | 22 | 18 | 0 | 10 |\n",
       "\n"
      ],
      "text/plain": [
       "  chromosome start end   Length Geneid                     GeneID          \n",
       "1 chr1        3730  7399 3669   chr1-3730-7399-dreg        chr1:3730-7399  \n",
       "2 chr1       10152 11370 1218   chr1-10152-11370-tfit,dreg chr1:10152-11370\n",
       "3 chr1       12345 12711  366   chr1-12345-12711-dreg      chr1:12345-12711\n",
       "4 chr1       13250 13756  506   chr1-13250-13756-dreg      chr1:13250-13756\n",
       "5 chr1       15111 15407  296   chr1-15111-15407-dreg      chr1:15111-15407\n",
       "6 chr1       16192 17624 1432   chr1-16192-17624-tfit,dreg chr1:16192-17624\n",
       "  Source    SRZ1950491 SRZ1950493 SRZ1950495 ⋯ SRR9833433 SRZ9833428 SRZ9833431\n",
       "1 dreg       0          0          0         ⋯  0           0         0        \n",
       "2 tfit,dreg  3          1          2         ⋯  1           2         6        \n",
       "3 dreg       0          0          0         ⋯  0           0         0        \n",
       "4 dreg       7          2          6         ⋯  5          38         5        \n",
       "5 dreg       0          0          0         ⋯  4          22         3        \n",
       "6 tfit,dreg 28         16         18         ⋯ 28         181        27        \n",
       "  SRZ9833434 SRR11793825 SRR11793826 SRR11793827 SRR11793828 SRR11793829\n",
       "1  0         0            0           0           0          0          \n",
       "2 16         0            0           0           0          0          \n",
       "3  0         0            0           0           0          0          \n",
       "4 12         6            7           8          10          0          \n",
       "5  2         0            1           3           0          0          \n",
       "6 75         5           12          22          18          0          \n",
       "  SRR11793830\n",
       "1  0         \n",
       "2  0         \n",
       "3  0         \n",
       "4  5         \n",
       "5  2         \n",
       "6 10         "
      ]
     },
     "metadata": {},
     "output_type": "display_data"
    }
   ],
   "source": [
    "counts_bidirs <- data.table::fread('/Users/rusi2317/projects/DBNascent_Analysis/data/final_counts/counts_bidirs.tsv.gz',\n",
    "                                  sep='\\t')\n",
    "#counts_bidirs$strand <- '*'\n",
    "#counts_bidirs <- data.table::setcolorder(counts_bidirs, \n",
    "#                                         c('Geneid','chromosome',\n",
    "#                                           'start','end','strand',\n",
    "#                                           'GeneID','Source','Length',\n",
    "#                                           names(counts_bidirs[,c(9:887)]))) \n",
    "dim(counts_bidirs)\n",
    "head(counts_bidirs)"
   ]
  },
  {
   "cell_type": "markdown",
   "metadata": {},
   "source": [
    "## Annotations\n",
    "\n",
    "### Bidirectionals NOT overlapping promoters or gene body\n",
    "\n",
    "The annotation file was generated as shown below:\n",
    "\n",
    "Promoter regions defines as 1kb upstream of gene. Additionally, a 100 bp buffer downstream of transcript was added for potential DoGs.\n",
    "\n",
    "- Non-promoter & Non-gene bidirectionals = `255,775` (filename: `hg38_qc_MASTER_tfit_dreg_NONPROMOTERS_NONGENES.bed`)\n",
    "- Promoter and Gene bidirectionas = `396,506` (file name: `hg38_qc_MASTER_tfit_dreg_PROMOTERS_GENES.bed`)\n",
    "\n",
    "\n",
    "Reducing the promoter region distance to 500 bp upstream of the TDD, we add `2,286` more regions.\n",
    "\n",
    "- Non-promoter & Non-gene bidirectionals = `258,061` (filename: `hg38_qc_MASTER_tfit_dreg_500bpNONPROMOTERS_NONGENES.bed`)\n",
    "- Promoter and Gene bidirectionas = `394,220` (filename: `hg38_qc_MASTER_tfit_dreg_500bpPROMOTERS_GENES.bed`)"
   ]
  },
  {
   "cell_type": "markdown",
   "metadata": {},
   "source": [
    "```sh\n",
    "module purge\n",
    "module load bedtools\n",
    "\n",
    "###########################                                                                                                                                                                                               \n",
    "##initialize files       ##                                                                                                                                                                                               \n",
    "###########################                                                                                                                                                                                               \n",
    "hg38_refseq=/scratch/Users/rusi2317/projects/meta_analysis_qc/hg38/annotations/hg38_refseq_diff53prime.gtf\n",
    "hg38_genome=/scratch/Shares/dowell/genomes/hg38/hg38.chrom.sizes\n",
    "\n",
    "hg38_bidirs=/scratch/Users/rusi2317/projects/meta_analysis_qc/hg38/annotations/hg38_qc4_gc50perc_tss50perc_MASTER_tfit_dreg.bed\n",
    "outdir=/scratch/Users/rusi2317/projects/meta_analysis_qc/hg38/annotations\n",
    "\n",
    "\n",
    "########################################################################                                                                                                                                                  \n",
    "#1: get bidirectionals overlapping promoter regions and gene bodies   ##                                                                                                                                                  \n",
    "########################################################################                                                                                                                                                  \n",
    "\n",
    "bedtools window -a ${hg38_refseq} -b ${hg38_bidirs} -l 1000 -r 100 -sw | cut -f 10,11,12,13 | sort | uniq  > ${outdir}/hg38_qc_MASTER_tfit_dreg_PROMOTERS_GENES.bed\n",
    "\n",
    "########################################################################                                                                                                                                                  \n",
    "#2: get bidirectionals NOT overlapping promoter regions or genes      ##                                                                                                                                                  \n",
    "########################################################################                                                                                                                                                  \n",
    "\n",
    "#bedtools window -a ${hg38_refseq} -b ${hg38_bidirs} -l 1000 -r 100 -sw -v > ${outdir}/hg38_qc_MASTER_tfit_dreg_NONPROMOTERS.bed                                                                                      \n",
    "\n",
    "bedtools intersect -a ${hg38_bidirs} -b ${outdir}/hg38_qc_MASTER_tfit_dreg_PROMOTERS_GENES.bed -v > ${outdir}/hg38_qc_MASTER_tfit_dreg_NONPROMOTERS_NONGENES.bed\n",
    "\n",
    "########################################################################                                                                                                                                                  \n",
    "#3: get bidirectionals NOT overlapping promoter regions BUT do genes  ##                                                                                                                                                  \n",
    "########################################################################                                                                                                                                                  \n",
    "#check if this is redundant and already captured by step 1.                                                                                                                                                               \n",
    "bedtools intersect -a ${outdir}/hg38_qc_MASTER_tfit_dreg_PROMOTERS_GENES.bed -b ${hg38_refseq} -wa | sort | uniq > ${outdir}/hg38_qc_MASTER_tfit_dreg_NONPROMOTERS_GENES.bed\n",
    "\n",
    "########################################################################                                                                                                                                                  \n",
    "#3: get bidirectionals NOT overlapping promoter regions BUT do genes  ##                                                                                                                                                  \n",
    "########################################################################                                                                                                                                                  \n",
    "#check if this is redundant and already captured by step 1.                                                                                                                                                               \n",
    "bedtools intersect -a ${outdir}/hg38_qc_MASTER_tfit_dreg_PROMOTERS_GENES.bed -b ${hg38_refseq} -v | sort | uniq > ${outdir}/hg38_qc_MASTER_tfit_dreg_PROMOTERS_DoGs.bed\n",
    "\n",
    "```"
   ]
  },
  {
   "cell_type": "code",
   "execution_count": 11,
   "metadata": {},
   "outputs": [
    {
     "data": {
      "text/html": [
       "<table class=\"dataframe\">\n",
       "<caption>A data.table: 6 × 5</caption>\n",
       "<thead>\n",
       "\t<tr><th scope=col>V1</th><th scope=col>V2</th><th scope=col>V3</th><th scope=col>V4</th><th scope=col>Geneid</th></tr>\n",
       "\t<tr><th scope=col>&lt;chr&gt;</th><th scope=col>&lt;int&gt;</th><th scope=col>&lt;int&gt;</th><th scope=col>&lt;chr&gt;</th><th scope=col>&lt;chr&gt;</th></tr>\n",
       "</thead>\n",
       "<tbody>\n",
       "\t<tr><td>chr1</td><td> 3729</td><td> 7400</td><td>dreg     </td><td>chr1-3730-7399-dreg       </td></tr>\n",
       "\t<tr><td>chr1</td><td>30879</td><td>31055</td><td>tfit     </td><td>chr1-30880-31054-tfit     </td></tr>\n",
       "\t<tr><td>chr1</td><td>32578</td><td>33068</td><td>dreg     </td><td>chr1-32579-33067-dreg     </td></tr>\n",
       "\t<tr><td>chr1</td><td>38766</td><td>38966</td><td>tfit,dreg</td><td>chr1-38767-38965-tfit,dreg</td></tr>\n",
       "\t<tr><td>chr1</td><td>41385</td><td>41765</td><td>dreg     </td><td>chr1-41386-41764-dreg     </td></tr>\n",
       "\t<tr><td>chr1</td><td>46613</td><td>47043</td><td>dreg     </td><td>chr1-46614-47042-dreg     </td></tr>\n",
       "</tbody>\n",
       "</table>\n"
      ],
      "text/latex": [
       "A data.table: 6 × 5\n",
       "\\begin{tabular}{lllll}\n",
       " V1 & V2 & V3 & V4 & Geneid\\\\\n",
       " <chr> & <int> & <int> & <chr> & <chr>\\\\\n",
       "\\hline\n",
       "\t chr1 &  3729 &  7400 & dreg      & chr1-3730-7399-dreg       \\\\\n",
       "\t chr1 & 30879 & 31055 & tfit      & chr1-30880-31054-tfit     \\\\\n",
       "\t chr1 & 32578 & 33068 & dreg      & chr1-32579-33067-dreg     \\\\\n",
       "\t chr1 & 38766 & 38966 & tfit,dreg & chr1-38767-38965-tfit,dreg\\\\\n",
       "\t chr1 & 41385 & 41765 & dreg      & chr1-41386-41764-dreg     \\\\\n",
       "\t chr1 & 46613 & 47043 & dreg      & chr1-46614-47042-dreg     \\\\\n",
       "\\end{tabular}\n"
      ],
      "text/markdown": [
       "\n",
       "A data.table: 6 × 5\n",
       "\n",
       "| V1 &lt;chr&gt; | V2 &lt;int&gt; | V3 &lt;int&gt; | V4 &lt;chr&gt; | Geneid &lt;chr&gt; |\n",
       "|---|---|---|---|---|\n",
       "| chr1 |  3729 |  7400 | dreg      | chr1-3730-7399-dreg        |\n",
       "| chr1 | 30879 | 31055 | tfit      | chr1-30880-31054-tfit      |\n",
       "| chr1 | 32578 | 33068 | dreg      | chr1-32579-33067-dreg      |\n",
       "| chr1 | 38766 | 38966 | tfit,dreg | chr1-38767-38965-tfit,dreg |\n",
       "| chr1 | 41385 | 41765 | dreg      | chr1-41386-41764-dreg      |\n",
       "| chr1 | 46613 | 47043 | dreg      | chr1-46614-47042-dreg      |\n",
       "\n"
      ],
      "text/plain": [
       "  V1   V2    V3    V4        Geneid                    \n",
       "1 chr1  3729  7400 dreg      chr1-3730-7399-dreg       \n",
       "2 chr1 30879 31055 tfit      chr1-30880-31054-tfit     \n",
       "3 chr1 32578 33068 dreg      chr1-32579-33067-dreg     \n",
       "4 chr1 38766 38966 tfit,dreg chr1-38767-38965-tfit,dreg\n",
       "5 chr1 41385 41765 dreg      chr1-41386-41764-dreg     \n",
       "6 chr1 46613 47043 dreg      chr1-46614-47042-dreg     "
      ]
     },
     "metadata": {},
     "output_type": "display_data"
    },
    {
     "data": {
      "text/html": [
       "<style>\n",
       ".list-inline {list-style: none; margin:0; padding: 0}\n",
       ".list-inline>li {display: inline-block}\n",
       ".list-inline>li:not(:last-child)::after {content: \"\\00b7\"; padding: 0 .5ex}\n",
       "</style>\n",
       "<ol class=list-inline><li>255775</li><li>5</li></ol>\n"
      ],
      "text/latex": [
       "\\begin{enumerate*}\n",
       "\\item 255775\n",
       "\\item 5\n",
       "\\end{enumerate*}\n"
      ],
      "text/markdown": [
       "1. 255775\n",
       "2. 5\n",
       "\n",
       "\n"
      ],
      "text/plain": [
       "[1] 255775      5"
      ]
     },
     "metadata": {},
     "output_type": "display_data"
    }
   ],
   "source": [
    "bidirs_no_ProGene <- data.table::fread(\"/Users/rusi2317/projects/DBNascent_Analysis/data/annotations/hg38_qc_MASTER_tfit_dreg_NONPROMOTERS_NONGENES.bed\", \n",
    "                                       sep='\\t')\n",
    "bidirs_no_ProGene$Geneid <- paste0(bidirs_no_ProGene$V1, '-',\n",
    "                                 bidirs_no_ProGene$V2+1, '-',\n",
    "                                 bidirs_no_ProGene$V3-1, '-',\n",
    "                                 bidirs_no_ProGene$V4)\n",
    "head(bidirs_no_ProGene)\n",
    "dim(bidirs_no_ProGene)"
   ]
  },
  {
   "cell_type": "code",
   "execution_count": 12,
   "metadata": {},
   "outputs": [
    {
     "data": {
      "text/html": [
       "<table class=\"dataframe\">\n",
       "<caption>A data.table: 6 × 5</caption>\n",
       "<thead>\n",
       "\t<tr><th scope=col>V1</th><th scope=col>V2</th><th scope=col>V3</th><th scope=col>V4</th><th scope=col>Geneid</th></tr>\n",
       "\t<tr><th scope=col>&lt;chr&gt;</th><th scope=col>&lt;int&gt;</th><th scope=col>&lt;int&gt;</th><th scope=col>&lt;chr&gt;</th><th scope=col>&lt;chr&gt;</th></tr>\n",
       "</thead>\n",
       "<tbody>\n",
       "\t<tr><td>chr1</td><td> 3729</td><td> 7400</td><td>dreg     </td><td>chr1-3730-7399-dreg       </td></tr>\n",
       "\t<tr><td>chr1</td><td>10151</td><td>11371</td><td>tfit,dreg</td><td>chr1-10152-11370-tfit,dreg</td></tr>\n",
       "\t<tr><td>chr1</td><td>30879</td><td>31055</td><td>tfit     </td><td>chr1-30880-31054-tfit     </td></tr>\n",
       "\t<tr><td>chr1</td><td>32578</td><td>33068</td><td>dreg     </td><td>chr1-32579-33067-dreg     </td></tr>\n",
       "\t<tr><td>chr1</td><td>38766</td><td>38966</td><td>tfit,dreg</td><td>chr1-38767-38965-tfit,dreg</td></tr>\n",
       "\t<tr><td>chr1</td><td>41385</td><td>41765</td><td>dreg     </td><td>chr1-41386-41764-dreg     </td></tr>\n",
       "</tbody>\n",
       "</table>\n"
      ],
      "text/latex": [
       "A data.table: 6 × 5\n",
       "\\begin{tabular}{lllll}\n",
       " V1 & V2 & V3 & V4 & Geneid\\\\\n",
       " <chr> & <int> & <int> & <chr> & <chr>\\\\\n",
       "\\hline\n",
       "\t chr1 &  3729 &  7400 & dreg      & chr1-3730-7399-dreg       \\\\\n",
       "\t chr1 & 10151 & 11371 & tfit,dreg & chr1-10152-11370-tfit,dreg\\\\\n",
       "\t chr1 & 30879 & 31055 & tfit      & chr1-30880-31054-tfit     \\\\\n",
       "\t chr1 & 32578 & 33068 & dreg      & chr1-32579-33067-dreg     \\\\\n",
       "\t chr1 & 38766 & 38966 & tfit,dreg & chr1-38767-38965-tfit,dreg\\\\\n",
       "\t chr1 & 41385 & 41765 & dreg      & chr1-41386-41764-dreg     \\\\\n",
       "\\end{tabular}\n"
      ],
      "text/markdown": [
       "\n",
       "A data.table: 6 × 5\n",
       "\n",
       "| V1 &lt;chr&gt; | V2 &lt;int&gt; | V3 &lt;int&gt; | V4 &lt;chr&gt; | Geneid &lt;chr&gt; |\n",
       "|---|---|---|---|---|\n",
       "| chr1 |  3729 |  7400 | dreg      | chr1-3730-7399-dreg        |\n",
       "| chr1 | 10151 | 11371 | tfit,dreg | chr1-10152-11370-tfit,dreg |\n",
       "| chr1 | 30879 | 31055 | tfit      | chr1-30880-31054-tfit      |\n",
       "| chr1 | 32578 | 33068 | dreg      | chr1-32579-33067-dreg      |\n",
       "| chr1 | 38766 | 38966 | tfit,dreg | chr1-38767-38965-tfit,dreg |\n",
       "| chr1 | 41385 | 41765 | dreg      | chr1-41386-41764-dreg      |\n",
       "\n"
      ],
      "text/plain": [
       "  V1   V2    V3    V4        Geneid                    \n",
       "1 chr1  3729  7400 dreg      chr1-3730-7399-dreg       \n",
       "2 chr1 10151 11371 tfit,dreg chr1-10152-11370-tfit,dreg\n",
       "3 chr1 30879 31055 tfit      chr1-30880-31054-tfit     \n",
       "4 chr1 32578 33068 dreg      chr1-32579-33067-dreg     \n",
       "5 chr1 38766 38966 tfit,dreg chr1-38767-38965-tfit,dreg\n",
       "6 chr1 41385 41765 dreg      chr1-41386-41764-dreg     "
      ]
     },
     "metadata": {},
     "output_type": "display_data"
    },
    {
     "data": {
      "text/html": [
       "<table class=\"dataframe\">\n",
       "<caption>A data.table: 6 × 5</caption>\n",
       "<thead>\n",
       "\t<tr><th scope=col>V1</th><th scope=col>V2</th><th scope=col>V3</th><th scope=col>V4</th><th scope=col>Geneid</th></tr>\n",
       "\t<tr><th scope=col>&lt;chr&gt;</th><th scope=col>&lt;int&gt;</th><th scope=col>&lt;int&gt;</th><th scope=col>&lt;chr&gt;</th><th scope=col>&lt;chr&gt;</th></tr>\n",
       "</thead>\n",
       "<tbody>\n",
       "\t<tr><td>chrY</td><td>56877878</td><td>56878050</td><td>tfit     </td><td>chrY-56877879-56878049-tfit     </td></tr>\n",
       "\t<tr><td>chrY</td><td>56878647</td><td>56878951</td><td>tfit,dreg</td><td>chrY-56878648-56878950-tfit,dreg</td></tr>\n",
       "\t<tr><td>chrY</td><td>56881702</td><td>56881988</td><td>tfit,dreg</td><td>chrY-56881703-56881987-tfit,dreg</td></tr>\n",
       "\t<tr><td>chrY</td><td>56883158</td><td>56883488</td><td>dreg     </td><td>chrY-56883159-56883487-dreg     </td></tr>\n",
       "\t<tr><td>chrY</td><td>56883554</td><td>56883772</td><td>tfit     </td><td>chrY-56883555-56883771-tfit     </td></tr>\n",
       "\t<tr><td>chrY</td><td>56884670</td><td>56885120</td><td>dreg     </td><td>chrY-56884671-56885119-dreg     </td></tr>\n",
       "</tbody>\n",
       "</table>\n"
      ],
      "text/latex": [
       "A data.table: 6 × 5\n",
       "\\begin{tabular}{lllll}\n",
       " V1 & V2 & V3 & V4 & Geneid\\\\\n",
       " <chr> & <int> & <int> & <chr> & <chr>\\\\\n",
       "\\hline\n",
       "\t chrY & 56877878 & 56878050 & tfit      & chrY-56877879-56878049-tfit     \\\\\n",
       "\t chrY & 56878647 & 56878951 & tfit,dreg & chrY-56878648-56878950-tfit,dreg\\\\\n",
       "\t chrY & 56881702 & 56881988 & tfit,dreg & chrY-56881703-56881987-tfit,dreg\\\\\n",
       "\t chrY & 56883158 & 56883488 & dreg      & chrY-56883159-56883487-dreg     \\\\\n",
       "\t chrY & 56883554 & 56883772 & tfit      & chrY-56883555-56883771-tfit     \\\\\n",
       "\t chrY & 56884670 & 56885120 & dreg      & chrY-56884671-56885119-dreg     \\\\\n",
       "\\end{tabular}\n"
      ],
      "text/markdown": [
       "\n",
       "A data.table: 6 × 5\n",
       "\n",
       "| V1 &lt;chr&gt; | V2 &lt;int&gt; | V3 &lt;int&gt; | V4 &lt;chr&gt; | Geneid &lt;chr&gt; |\n",
       "|---|---|---|---|---|\n",
       "| chrY | 56877878 | 56878050 | tfit      | chrY-56877879-56878049-tfit      |\n",
       "| chrY | 56878647 | 56878951 | tfit,dreg | chrY-56878648-56878950-tfit,dreg |\n",
       "| chrY | 56881702 | 56881988 | tfit,dreg | chrY-56881703-56881987-tfit,dreg |\n",
       "| chrY | 56883158 | 56883488 | dreg      | chrY-56883159-56883487-dreg      |\n",
       "| chrY | 56883554 | 56883772 | tfit      | chrY-56883555-56883771-tfit      |\n",
       "| chrY | 56884670 | 56885120 | dreg      | chrY-56884671-56885119-dreg      |\n",
       "\n"
      ],
      "text/plain": [
       "  V1   V2       V3       V4        Geneid                          \n",
       "1 chrY 56877878 56878050 tfit      chrY-56877879-56878049-tfit     \n",
       "2 chrY 56878647 56878951 tfit,dreg chrY-56878648-56878950-tfit,dreg\n",
       "3 chrY 56881702 56881988 tfit,dreg chrY-56881703-56881987-tfit,dreg\n",
       "4 chrY 56883158 56883488 dreg      chrY-56883159-56883487-dreg     \n",
       "5 chrY 56883554 56883772 tfit      chrY-56883555-56883771-tfit     \n",
       "6 chrY 56884670 56885120 dreg      chrY-56884671-56885119-dreg     "
      ]
     },
     "metadata": {},
     "output_type": "display_data"
    },
    {
     "data": {
      "text/html": [
       "<style>\n",
       ".list-inline {list-style: none; margin:0; padding: 0}\n",
       ".list-inline>li {display: inline-block}\n",
       ".list-inline>li:not(:last-child)::after {content: \"\\00b7\"; padding: 0 .5ex}\n",
       "</style>\n",
       "<ol class=list-inline><li>258061</li><li>5</li></ol>\n"
      ],
      "text/latex": [
       "\\begin{enumerate*}\n",
       "\\item 258061\n",
       "\\item 5\n",
       "\\end{enumerate*}\n"
      ],
      "text/markdown": [
       "1. 258061\n",
       "2. 5\n",
       "\n",
       "\n"
      ],
      "text/plain": [
       "[1] 258061      5"
      ]
     },
     "metadata": {},
     "output_type": "display_data"
    }
   ],
   "source": [
    "bidirs_no_ProGene500bp <- data.table::fread(\"/Users/rusi2317/projects/DBNascent_Analysis/data/annotations/hg38_qc_MASTER_tfit_dreg_500bpNONPROMOTERS_NONGENES.bed\", \n",
    "                                       sep='\\t')\n",
    "bidirs_no_ProGene500bp$Geneid <- paste0(bidirs_no_ProGene500bp$V1, '-',\n",
    "                                 bidirs_no_ProGene500bp$V2+1, '-',\n",
    "                                 bidirs_no_ProGene500bp$V3-1, '-',\n",
    "                                 bidirs_no_ProGene500bp$V4)\n",
    "head(bidirs_no_ProGene500bp)\n",
    "tail(bidirs_no_ProGene500bp)\n",
    "dim(bidirs_no_ProGene500bp)"
   ]
  },
  {
   "cell_type": "markdown",
   "metadata": {},
   "source": [
    "# Feature summary\n",
    "\n",
    "## Transcript lengths\n",
    "\n",
    "### Genes"
   ]
  },
  {
   "cell_type": "code",
   "execution_count": 13,
   "metadata": {},
   "outputs": [
    {
     "name": "stderr",
     "output_type": "stream",
     "text": [
      "Warning message:\n",
      "“Removed 2 rows containing missing values (geom_bar).”\n"
     ]
    },
    {
     "data": {
      "image/png": "[encoded data removed]",
      "text/plain": [
       "plot without title"
      ]
     },
     "metadata": {
      "image/png": {
       "height": 300,
       "width": 720
      }
     },
     "output_type": "display_data"
    }
   ],
   "source": [
    "options(repr.plot.width=12, repr.plot.height=5)\n",
    "gn_len2 <- ggplot(counts_genes, aes(x = log(Length, base=10))) + \n",
    "  geom_histogram(aes(y = stat(count) / sum(count)), \n",
    "                 bins = 50,fill=\"#c51b8a\",color='darkred') +\n",
    "theme_classic() +\n",
    "ggtitle('Length Distribution for Genes') +\n",
    "xlab(expression(paste(log[10],\" Length (bp)\", sep=' ')) )+\n",
    "ylab(\"Probability\") +\n",
    "scale_x_continuous(expand = c(0, 0), limits = c(0,7)) +\n",
    "  scale_y_continuous(expand = c(0, 0)) +\n",
    "theme(plot.title = element_text(hjust = 0.5, \n",
    "                                face = \"bold\",\n",
    "                               size = 28),\n",
    "      axis.title = element_text(size = 24), \n",
    "      axis.text = element_text(size = 22),\n",
    "      axis.text.x = element_text(size = 20),\n",
    "     legend.title = element_text(size = 17),\n",
    "     legend.text = element_text(size = 15))\n",
    "\n",
    "gn_len2"
   ]
  },
  {
   "cell_type": "code",
   "execution_count": 14,
   "metadata": {},
   "outputs": [
    {
     "name": "stderr",
     "output_type": "stream",
     "text": [
      "Warning message:\n",
      "“Removed 2 rows containing missing values (geom_bar).”\n"
     ]
    },
    {
     "data": {
      "image/png": "[encoded data removed]",
      "text/plain": [
       "plot without title"
      ]
     },
     "metadata": {
      "image/png": {
       "height": 300,
       "width": 720
      }
     },
     "output_type": "display_data"
    }
   ],
   "source": [
    "options(repr.plot.width=12, repr.plot.height=5)\n",
    "gn_len3 <- ggplot(counts_genes_trunc, aes(x = log(Length, base=10))) + \n",
    "  geom_histogram(aes(y = stat(count) / sum(count)), \n",
    "                 bins = 50,fill=\"#c51b8a\",color='darkred') +\n",
    "theme_classic() +\n",
    "ggtitle(\"Length Distribution for Genes (5' Truncated)\") +\n",
    "xlab(expression(paste(log[10],\" Length (bp)\", sep=' ')) )+\n",
    "ylab(\"Probability\") +\n",
    "scale_x_continuous(expand = c(0, 0), limits = c(0,7)) +\n",
    "  scale_y_continuous(expand = c(0, 0)) +\n",
    "theme(plot.title = element_text(hjust = 0.5, \n",
    "                                face = \"bold\",\n",
    "                               size = 28),\n",
    "      axis.title = element_text(size = 24), \n",
    "      axis.text = element_text(size = 22),\n",
    "      axis.text.x = element_text(size = 20),\n",
    "     legend.title = element_text(size = 17),\n",
    "     legend.text = element_text(size = 15))\n",
    "\n",
    "gn_len3"
   ]
  },
  {
   "cell_type": "markdown",
   "metadata": {},
   "source": [
    "### Bidirectionals\n"
   ]
  },
  {
   "cell_type": "code",
   "execution_count": 15,
   "metadata": {},
   "outputs": [
    {
     "name": "stderr",
     "output_type": "stream",
     "text": [
      "Warning message:\n",
      "“Removed 2 rows containing missing values (geom_bar).”\n"
     ]
    },
    {
     "data": {
      "image/png": "[encoded data removed]",
      "text/plain": [
       "plot without title"
      ]
     },
     "metadata": {
      "image/png": {
       "height": 300,
       "width": 720
      }
     },
     "output_type": "display_data"
    }
   ],
   "source": [
    "options(repr.plot.width=12, repr.plot.height=5)\n",
    "bd_len2 <- ggplot(counts_bidirs, aes(x = log(Length, base=10))) + \n",
    "  geom_histogram(aes(y = stat(count) / sum(count)), \n",
    "                 bins = 50,fill=\"#c51b8a\",color='darkred') +\n",
    "theme_classic() +\n",
    "ggtitle('Length Distribution for muMerge Regions (Tfit + dREG)') +\n",
    "xlab(expression(paste(log[10],\" Length (bp)\", sep=' ')) )+\n",
    "ylab(\"Probability\") +\n",
    "scale_x_continuous(expand = c(0, 0), limits = c(0,7)) +\n",
    "  scale_y_continuous(expand = c(0, 0)) +\n",
    "theme(plot.title = element_text(hjust = 0.5, \n",
    "                                face = \"bold\",\n",
    "                               size = 28),\n",
    "      axis.title = element_text(size = 24), \n",
    "      axis.text = element_text(size = 22),\n",
    "      axis.text.x = element_text(size = 20),\n",
    "     legend.title = element_text(size = 17),\n",
    "     legend.text = element_text(size = 15))\n",
    "\n",
    "bd_len2"
   ]
  },
  {
   "cell_type": "code",
   "execution_count": 16,
   "metadata": {},
   "outputs": [
    {
     "name": "stderr",
     "output_type": "stream",
     "text": [
      "Warning message:\n",
      "“Removed 2 rows containing missing values (geom_bar).”\n",
      "Warning message:\n",
      "“Removed 2 rows containing missing values (geom_bar).”\n"
     ]
    },
    {
     "data": {
      "image/png": "[encoded data removed]",
      "text/plain": [
       "plot without title"
      ]
     },
     "metadata": {
      "image/png": {
       "height": 480,
       "width": 720
      }
     },
     "output_type": "display_data"
    }
   ],
   "source": [
    "options(repr.plot.width=12, repr.plot.height=8)\n",
    "cowplot::plot_grid(gn_len2,bd_len2,\n",
    "          label_size = 24,\n",
    "         ncol = 1, nrow =2 )"
   ]
  },
  {
   "cell_type": "code",
   "execution_count": 17,
   "metadata": {},
   "outputs": [
    {
     "name": "stderr",
     "output_type": "stream",
     "text": [
      "Warning message:\n",
      "“Removed 2 rows containing missing values (geom_bar).”\n",
      "Warning message:\n",
      "“Removed 2 rows containing missing values (geom_bar).”\n",
      "Warning message:\n",
      "“Removed 2 rows containing missing values (geom_bar).”\n"
     ]
    },
    {
     "data": {
      "image/png": "[encoded data removed]",
      "text/plain": [
       "plot without title"
      ]
     },
     "metadata": {
      "image/png": {
       "height": 720,
       "width": 720
      }
     },
     "output_type": "display_data"
    }
   ],
   "source": [
    "options(repr.plot.width=12, repr.plot.height=12)\n",
    "cowplot::plot_grid(gn_len2,gn_len3,bd_len2,\n",
    "          label_size = 24,\n",
    "         ncol = 1, nrow =3 )"
   ]
  },
  {
   "cell_type": "markdown",
   "metadata": {},
   "source": [
    "## Sample counts\n",
    "\n",
    "### Genes\n",
    "\n",
    "The gene count ranges are similar to the smaller dataset.\n",
    "\n",
    "See: https://fiji-viz.colorado.edu/jupyterhub/user/rusi2317/notebooks/projects/example_genes_cotranscription_132samples/cotranscription_updated_nascentdb/analysis/01_counts_bidirectionals_genes.ipynb"
   ]
  },
  {
   "cell_type": "markdown",
   "metadata": {},
   "source": [
    "Average counts by columns"
   ]
  },
  {
   "cell_type": "code",
   "execution_count": 18,
   "metadata": {
    "scrolled": true
   },
   "outputs": [
    {
     "data": {
      "text/html": [
       "<style>\n",
       ".list-inline {list-style: none; margin:0; padding: 0}\n",
       ".list-inline>li {display: inline-block}\n",
       ".list-inline>li:not(:last-child)::after {content: \"\\00b7\"; padding: 0 .5ex}\n",
       "</style>\n",
       "<ol class=list-inline><li>16.2886638098948</li><li>3237.71870241173</li></ol>\n"
      ],
      "text/latex": [
       "\\begin{enumerate*}\n",
       "\\item 16.2886638098948\n",
       "\\item 3237.71870241173\n",
       "\\end{enumerate*}\n"
      ],
      "text/markdown": [
       "1. 16.2886638098948\n",
       "2. 3237.71870241173\n",
       "\n",
       "\n"
      ],
      "text/plain": [
       "[1]   16.28866 3237.71870"
      ]
     },
     "metadata": {},
     "output_type": "display_data"
    },
    {
     "data": {
      "text/html": [
       "404.502124871622"
      ],
      "text/latex": [
       "404.502124871622"
      ],
      "text/markdown": [
       "404.502124871622"
      ],
      "text/plain": [
       "[1] 404.5021"
      ]
     },
     "metadata": {},
     "output_type": "display_data"
    }
   ],
   "source": [
    "range(colMeans(counts_genes[,9:ncol(counts_genes)]))\n",
    "median(colMeans(counts_genes[,9:ncol(counts_genes)]))"
   ]
  },
  {
   "cell_type": "code",
   "execution_count": 19,
   "metadata": {},
   "outputs": [
    {
     "data": {
      "text/html": [
       "<style>\n",
       ".list-inline {list-style: none; margin:0; padding: 0}\n",
       ".list-inline>li {display: inline-block}\n",
       ".list-inline>li:not(:last-child)::after {content: \"\\00b7\"; padding: 0 .5ex}\n",
       "</style>\n",
       "<ol class=list-inline><li>14.6981265715196</li><li>2876.57460070121</li></ol>\n"
      ],
      "text/latex": [
       "\\begin{enumerate*}\n",
       "\\item 14.6981265715196\n",
       "\\item 2876.57460070121\n",
       "\\end{enumerate*}\n"
      ],
      "text/markdown": [
       "1. 14.6981265715196\n",
       "2. 2876.57460070121\n",
       "\n",
       "\n"
      ],
      "text/plain": [
       "[1]   14.69813 2876.57460"
      ]
     },
     "metadata": {},
     "output_type": "display_data"
    },
    {
     "data": {
      "text/html": [
       "338.428250168219"
      ],
      "text/latex": [
       "338.428250168219"
      ],
      "text/markdown": [
       "338.428250168219"
      ],
      "text/plain": [
       "[1] 338.4283"
      ]
     },
     "metadata": {},
     "output_type": "display_data"
    }
   ],
   "source": [
    "range(colMeans(counts_genes_trunc[,9:ncol(counts_genes_trunc)]))\n",
    "median(colMeans(counts_genes_trunc[,9:ncol(counts_genes_trunc)]))"
   ]
  },
  {
   "cell_type": "markdown",
   "metadata": {},
   "source": [
    "Count variance by column"
   ]
  },
  {
   "cell_type": "code",
   "execution_count": 20,
   "metadata": {},
   "outputs": [
    {
     "data": {
      "text/html": [
       "<style>\n",
       ".list-inline {list-style: none; margin:0; padding: 0}\n",
       ".list-inline>li {display: inline-block}\n",
       ".list-inline>li:not(:last-child)::after {content: \"\\00b7\"; padding: 0 .5ex}\n",
       "</style>\n",
       "<ol class=list-inline><li>2764.02889458692</li><li>280179162.440205</li></ol>\n"
      ],
      "text/latex": [
       "\\begin{enumerate*}\n",
       "\\item 2764.02889458692\n",
       "\\item 280179162.440205\n",
       "\\end{enumerate*}\n"
      ],
      "text/markdown": [
       "1. 2764.02889458692\n",
       "2. 280179162.440205\n",
       "\n",
       "\n"
      ],
      "text/plain": [
       "[1] 2.764029e+03 2.801792e+08"
      ]
     },
     "metadata": {},
     "output_type": "display_data"
    },
    {
     "data": {
      "text/html": [
       "2245127.45999056"
      ],
      "text/latex": [
       "2245127.45999056"
      ],
      "text/markdown": [
       "2245127.45999056"
      ],
      "text/plain": [
       "[1] 2245127"
      ]
     },
     "metadata": {},
     "output_type": "display_data"
    }
   ],
   "source": [
    "range(matrixStats::colVars(as.matrix(counts_genes[,9:ncol(counts_genes)])))\n",
    "median(matrixStats::colVars(as.matrix(counts_genes[,9:ncol(counts_genes)])))"
   ]
  },
  {
   "cell_type": "code",
   "execution_count": 21,
   "metadata": {},
   "outputs": [
    {
     "data": {
      "text/html": [
       "<style>\n",
       ".list-inline {list-style: none; margin:0; padding: 0}\n",
       ".list-inline>li {display: inline-block}\n",
       ".list-inline>li:not(:last-child)::after {content: \"\\00b7\"; padding: 0 .5ex}\n",
       "</style>\n",
       "<ol class=list-inline><li>2155.68390816384</li><li>189238189.152546</li></ol>\n"
      ],
      "text/latex": [
       "\\begin{enumerate*}\n",
       "\\item 2155.68390816384\n",
       "\\item 189238189.152546\n",
       "\\end{enumerate*}\n"
      ],
      "text/markdown": [
       "1. 2155.68390816384\n",
       "2. 189238189.152546\n",
       "\n",
       "\n"
      ],
      "text/plain": [
       "[1] 2.155684e+03 1.892382e+08"
      ]
     },
     "metadata": {},
     "output_type": "display_data"
    },
    {
     "data": {
      "text/html": [
       "1613227.91295013"
      ],
      "text/latex": [
       "1613227.91295013"
      ],
      "text/markdown": [
       "1613227.91295013"
      ],
      "text/plain": [
       "[1] 1613228"
      ]
     },
     "metadata": {},
     "output_type": "display_data"
    }
   ],
   "source": [
    "range(matrixStats::colVars(as.matrix(counts_genes_trunc[,9:ncol(counts_genes_trunc)])))\n",
    "median(matrixStats::colVars(as.matrix(counts_genes_trunc[,9:ncol(counts_genes_trunc)])))"
   ]
  },
  {
   "cell_type": "markdown",
   "metadata": {},
   "source": [
    "### Bidirectionals"
   ]
  },
  {
   "cell_type": "code",
   "execution_count": 22,
   "metadata": {},
   "outputs": [
    {
     "data": {
      "text/html": [
       "<style>\n",
       ".list-inline {list-style: none; margin:0; padding: 0}\n",
       ".list-inline>li {display: inline-block}\n",
       ".list-inline>li:not(:last-child)::after {content: \"\\00b7\"; padding: 0 .5ex}\n",
       "</style>\n",
       "<ol class=list-inline><li>0.327055364175869</li><li>94.8557630837017</li></ol>\n"
      ],
      "text/latex": [
       "\\begin{enumerate*}\n",
       "\\item 0.327055364175869\n",
       "\\item 94.8557630837017\n",
       "\\end{enumerate*}\n"
      ],
      "text/markdown": [
       "1. 0.327055364175869\n",
       "2. 94.8557630837017\n",
       "\n",
       "\n"
      ],
      "text/plain": [
       "[1]  0.3270554 94.8557631"
      ]
     },
     "metadata": {},
     "output_type": "display_data"
    },
    {
     "data": {
      "text/html": [
       "10.7734220374348"
      ],
      "text/latex": [
       "10.7734220374348"
      ],
      "text/markdown": [
       "10.7734220374348"
      ],
      "text/plain": [
       "[1] 10.77342"
      ]
     },
     "metadata": {},
     "output_type": "display_data"
    }
   ],
   "source": [
    "range(colMeans(counts_bidirs[,8:ncol(counts_bidirs)]))\n",
    "median(colMeans(counts_bidirs[,8:ncol(counts_bidirs)]))"
   ]
  },
  {
   "cell_type": "code",
   "execution_count": 23,
   "metadata": {},
   "outputs": [
    {
     "data": {
      "text/html": [
       "<style>\n",
       ".list-inline {list-style: none; margin:0; padding: 0}\n",
       ".list-inline>li {display: inline-block}\n",
       ".list-inline>li:not(:last-child)::after {content: \"\\00b7\"; padding: 0 .5ex}\n",
       "</style>\n",
       "<ol class=list-inline><li>16.8130779946</li><li>22049573.4078832</li></ol>\n"
      ],
      "text/latex": [
       "\\begin{enumerate*}\n",
       "\\item 16.8130779946\n",
       "\\item 22049573.4078832\n",
       "\\end{enumerate*}\n"
      ],
      "text/markdown": [
       "1. 16.8130779946\n",
       "2. 22049573.4078832\n",
       "\n",
       "\n"
      ],
      "text/plain": [
       "[1] 1.681308e+01 2.204957e+07"
      ]
     },
     "metadata": {},
     "output_type": "display_data"
    },
    {
     "data": {
      "text/html": [
       "12622.0226666928"
      ],
      "text/latex": [
       "12622.0226666928"
      ],
      "text/markdown": [
       "12622.0226666928"
      ],
      "text/plain": [
       "[1] 12622.02"
      ]
     },
     "metadata": {},
     "output_type": "display_data"
    }
   ],
   "source": [
    "range(matrixStats::colVars(as.matrix(counts_bidirs[,8:ncol(counts_bidirs)])))\n",
    "median(matrixStats::colVars(as.matrix(counts_bidirs[,8:ncol(counts_bidirs)])))"
   ]
  },
  {
   "cell_type": "markdown",
   "metadata": {},
   "source": [
    "# Gene and bidirectional transcripts\n",
    "\n",
    "## Merge gene and birectional transcripts\n",
    "\n",
    "Combine gene counts to bidirectional counts:\n",
    "\n",
    "1. Gene counts\n",
    "2. Bidirectional counts for bidirectionals NOT overlapping promoters and genes"
   ]
  },
  {
   "cell_type": "code",
   "execution_count": 24,
   "metadata": {},
   "outputs": [
    {
     "data": {
      "text/html": [
       "<style>\n",
       ".list-inline {list-style: none; margin:0; padding: 0}\n",
       ".list-inline>li {display: inline-block}\n",
       ".list-inline>li:not(:last-child)::after {content: \"\\00b7\"; padding: 0 .5ex}\n",
       "</style>\n",
       "<ol class=list-inline><li>'chr1-3730-7399-dreg'</li><li>'chr1-10152-11370-tfit,dreg'</li><li>'chr1-12345-12711-dreg'</li><li>'chr1-13250-13756-dreg'</li><li>'chr1-15111-15407-dreg'</li><li>'chr1-16192-17624-tfit,dreg'</li></ol>\n"
      ],
      "text/latex": [
       "\\begin{enumerate*}\n",
       "\\item 'chr1-3730-7399-dreg'\n",
       "\\item 'chr1-10152-11370-tfit,dreg'\n",
       "\\item 'chr1-12345-12711-dreg'\n",
       "\\item 'chr1-13250-13756-dreg'\n",
       "\\item 'chr1-15111-15407-dreg'\n",
       "\\item 'chr1-16192-17624-tfit,dreg'\n",
       "\\end{enumerate*}\n"
      ],
      "text/markdown": [
       "1. 'chr1-3730-7399-dreg'\n",
       "2. 'chr1-10152-11370-tfit,dreg'\n",
       "3. 'chr1-12345-12711-dreg'\n",
       "4. 'chr1-13250-13756-dreg'\n",
       "5. 'chr1-15111-15407-dreg'\n",
       "6. 'chr1-16192-17624-tfit,dreg'\n",
       "\n",
       "\n"
      ],
      "text/plain": [
       "[1] \"chr1-3730-7399-dreg\"        \"chr1-10152-11370-tfit,dreg\"\n",
       "[3] \"chr1-12345-12711-dreg\"      \"chr1-13250-13756-dreg\"     \n",
       "[5] \"chr1-15111-15407-dreg\"      \"chr1-16192-17624-tfit,dreg\""
      ]
     },
     "metadata": {},
     "output_type": "display_data"
    }
   ],
   "source": [
    "head(counts_bidirs$Geneid)"
   ]
  },
  {
   "cell_type": "code",
   "execution_count": 25,
   "metadata": {},
   "outputs": [
    {
     "data": {
      "text/html": [
       "<style>\n",
       ".list-inline {list-style: none; margin:0; padding: 0}\n",
       ".list-inline>li {display: inline-block}\n",
       ".list-inline>li:not(:last-child)::after {content: \"\\00b7\"; padding: 0 .5ex}\n",
       "</style>\n",
       "<ol class=list-inline><li>'chr1-3730-7399-dreg'</li><li>'chr1-30880-31054-tfit'</li><li>'chr1-32579-33067-dreg'</li><li>'chr1-38767-38965-tfit,dreg'</li><li>'chr1-41386-41764-dreg'</li><li>'chr1-46614-47042-dreg'</li></ol>\n"
      ],
      "text/latex": [
       "\\begin{enumerate*}\n",
       "\\item 'chr1-3730-7399-dreg'\n",
       "\\item 'chr1-30880-31054-tfit'\n",
       "\\item 'chr1-32579-33067-dreg'\n",
       "\\item 'chr1-38767-38965-tfit,dreg'\n",
       "\\item 'chr1-41386-41764-dreg'\n",
       "\\item 'chr1-46614-47042-dreg'\n",
       "\\end{enumerate*}\n"
      ],
      "text/markdown": [
       "1. 'chr1-3730-7399-dreg'\n",
       "2. 'chr1-30880-31054-tfit'\n",
       "3. 'chr1-32579-33067-dreg'\n",
       "4. 'chr1-38767-38965-tfit,dreg'\n",
       "5. 'chr1-41386-41764-dreg'\n",
       "6. 'chr1-46614-47042-dreg'\n",
       "\n",
       "\n"
      ],
      "text/plain": [
       "[1] \"chr1-3730-7399-dreg\"        \"chr1-30880-31054-tfit\"     \n",
       "[3] \"chr1-32579-33067-dreg\"      \"chr1-38767-38965-tfit,dreg\"\n",
       "[5] \"chr1-41386-41764-dreg\"      \"chr1-46614-47042-dreg\"     "
      ]
     },
     "metadata": {},
     "output_type": "display_data"
    }
   ],
   "source": [
    "head(bidirs_no_ProGene$Geneid)"
   ]
  },
  {
   "cell_type": "code",
   "execution_count": 26,
   "metadata": {},
   "outputs": [
    {
     "data": {
      "text/html": [
       "<style>\n",
       ".list-inline {list-style: none; margin:0; padding: 0}\n",
       ".list-inline>li {display: inline-block}\n",
       ".list-inline>li:not(:last-child)::after {content: \"\\00b7\"; padding: 0 .5ex}\n",
       "</style>\n",
       "<ol class=list-inline><li>'chr1-3730-7399-dreg'</li><li>'chr1-10152-11370-tfit,dreg'</li><li>'chr1-30880-31054-tfit'</li><li>'chr1-32579-33067-dreg'</li><li>'chr1-38767-38965-tfit,dreg'</li><li>'chr1-41386-41764-dreg'</li></ol>\n"
      ],
      "text/latex": [
       "\\begin{enumerate*}\n",
       "\\item 'chr1-3730-7399-dreg'\n",
       "\\item 'chr1-10152-11370-tfit,dreg'\n",
       "\\item 'chr1-30880-31054-tfit'\n",
       "\\item 'chr1-32579-33067-dreg'\n",
       "\\item 'chr1-38767-38965-tfit,dreg'\n",
       "\\item 'chr1-41386-41764-dreg'\n",
       "\\end{enumerate*}\n"
      ],
      "text/markdown": [
       "1. 'chr1-3730-7399-dreg'\n",
       "2. 'chr1-10152-11370-tfit,dreg'\n",
       "3. 'chr1-30880-31054-tfit'\n",
       "4. 'chr1-32579-33067-dreg'\n",
       "5. 'chr1-38767-38965-tfit,dreg'\n",
       "6. 'chr1-41386-41764-dreg'\n",
       "\n",
       "\n"
      ],
      "text/plain": [
       "[1] \"chr1-3730-7399-dreg\"        \"chr1-10152-11370-tfit,dreg\"\n",
       "[3] \"chr1-30880-31054-tfit\"      \"chr1-32579-33067-dreg\"     \n",
       "[5] \"chr1-38767-38965-tfit,dreg\" \"chr1-41386-41764-dreg\"     "
      ]
     },
     "metadata": {},
     "output_type": "display_data"
    }
   ],
   "source": [
    "head(bidirs_no_ProGene500bp$Geneid)"
   ]
  },
  {
   "cell_type": "code",
   "execution_count": 27,
   "metadata": {},
   "outputs": [
    {
     "data": {
      "text/html": [
       "652281"
      ],
      "text/latex": [
       "652281"
      ],
      "text/markdown": [
       "652281"
      ],
      "text/plain": [
       "[1] 652281"
      ]
     },
     "metadata": {},
     "output_type": "display_data"
    }
   ],
   "source": [
    "#counts_bidirs[counts_bidirs$Geneid %in% bidirs_no_ProGene500bp$Geneid,]\n",
    "length(counts_bidirs$Geneid)"
   ]
  },
  {
   "cell_type": "code",
   "execution_count": 28,
   "metadata": {},
   "outputs": [
    {
     "data": {
      "text/html": [
       "<table class=\"dataframe\">\n",
       "<caption>A data.table: 2286 × 5</caption>\n",
       "<thead>\n",
       "\t<tr><th scope=col>V1</th><th scope=col>V2</th><th scope=col>V3</th><th scope=col>V4</th><th scope=col>Geneid</th></tr>\n",
       "\t<tr><th scope=col>&lt;chr&gt;</th><th scope=col>&lt;int&gt;</th><th scope=col>&lt;int&gt;</th><th scope=col>&lt;chr&gt;</th><th scope=col>&lt;chr&gt;</th></tr>\n",
       "</thead>\n",
       "<tbody>\n",
       "\t<tr><td>chr1</td><td>   10151</td><td>   11371</td><td>tfit,dreg</td><td>chr1-10152-11370-tfit,dreg      </td></tr>\n",
       "\t<tr><td>chr1</td><td>  141243</td><td>  141851</td><td>dreg     </td><td>chr1-141244-141850-dreg         </td></tr>\n",
       "\t<tr><td>chr1</td><td>  180714</td><td>  181647</td><td>tfit     </td><td>chr1-180715-181646-tfit         </td></tr>\n",
       "\t<tr><td>chr1</td><td>  188610</td><td>  189441</td><td>dreg     </td><td>chr1-188611-189440-dreg         </td></tr>\n",
       "\t<tr><td>chr1</td><td>  207302</td><td>  207480</td><td>tfit,dreg</td><td>chr1-207303-207479-tfit,dreg    </td></tr>\n",
       "\t<tr><td>chr1</td><td>  629854</td><td>  629986</td><td>tfit,dreg</td><td>chr1-629855-629985-tfit,dreg    </td></tr>\n",
       "\t<tr><td>chr1</td><td>  779665</td><td>  781540</td><td>dreg     </td><td>chr1-779666-781539-dreg         </td></tr>\n",
       "\t<tr><td>chr1</td><td>  920273</td><td>  921321</td><td>dreg     </td><td>chr1-920274-921320-dreg         </td></tr>\n",
       "\t<tr><td>chr1</td><td>  982620</td><td>  983050</td><td>dreg     </td><td>chr1-982621-983049-dreg         </td></tr>\n",
       "\t<tr><td>chr1</td><td> 1134922</td><td> 1136018</td><td>tfit,dreg</td><td>chr1-1134923-1136017-tfit,dreg  </td></tr>\n",
       "\t<tr><td>chr1</td><td> 1247394</td><td> 1247858</td><td>tfit     </td><td>chr1-1247395-1247857-tfit       </td></tr>\n",
       "\t<tr><td>chr1</td><td> 1364053</td><td> 1364437</td><td>dreg     </td><td>chr1-1364054-1364436-dreg       </td></tr>\n",
       "\t<tr><td>chr1</td><td> 1408088</td><td> 1408406</td><td>tfit     </td><td>chr1-1408089-1408405-tfit       </td></tr>\n",
       "\t<tr><td>chr1</td><td> 2801542</td><td> 2803038</td><td>tfit     </td><td>chr1-2801543-2803037-tfit       </td></tr>\n",
       "\t<tr><td>chr1</td><td> 3748245</td><td> 3748629</td><td>dreg     </td><td>chr1-3748246-3748628-dreg       </td></tr>\n",
       "\t<tr><td>chr1</td><td> 6181108</td><td> 6181528</td><td>tfit     </td><td>chr1-6181109-6181527-tfit       </td></tr>\n",
       "\t<tr><td>chr1</td><td> 6394660</td><td> 6395952</td><td>tfit,dreg</td><td>chr1-6394661-6395951-tfit,dreg  </td></tr>\n",
       "\t<tr><td>chr1</td><td> 6423446</td><td> 6424008</td><td>tfit,dreg</td><td>chr1-6423447-6424007-tfit,dreg  </td></tr>\n",
       "\t<tr><td>chr1</td><td> 9027216</td><td> 9027862</td><td>tfit,dreg</td><td>chr1-9027217-9027861-tfit,dreg  </td></tr>\n",
       "\t<tr><td>chr1</td><td> 9072987</td><td> 9073545</td><td>dreg     </td><td>chr1-9072988-9073544-dreg       </td></tr>\n",
       "\t<tr><td>chr1</td><td> 9649960</td><td> 9650840</td><td>dreg     </td><td>chr1-9649961-9650839-dreg       </td></tr>\n",
       "\t<tr><td>chr1</td><td> 9825451</td><td> 9825939</td><td>tfit,dreg</td><td>chr1-9825452-9825938-tfit,dreg  </td></tr>\n",
       "\t<tr><td>chr1</td><td>10797590</td><td>10798064</td><td>tfit     </td><td>chr1-10797591-10798063-tfit     </td></tr>\n",
       "\t<tr><td>chr1</td><td>11848600</td><td>11849008</td><td>tfit     </td><td>chr1-11848601-11849007-tfit     </td></tr>\n",
       "\t<tr><td>chr1</td><td>11927350</td><td>11927646</td><td>tfit     </td><td>chr1-11927351-11927645-tfit     </td></tr>\n",
       "\t<tr><td>chr1</td><td>12745277</td><td>12745635</td><td>tfit,dreg</td><td>chr1-12745278-12745634-tfit,dreg</td></tr>\n",
       "\t<tr><td>chr1</td><td>12773644</td><td>12773860</td><td>tfit     </td><td>chr1-12773645-12773859-tfit     </td></tr>\n",
       "\t<tr><td>chr1</td><td>16042672</td><td>16042932</td><td>tfit,dreg</td><td>chr1-16042673-16042931-tfit,dreg</td></tr>\n",
       "\t<tr><td>chr1</td><td>16213453</td><td>16213677</td><td>tfit     </td><td>chr1-16213454-16213676-tfit     </td></tr>\n",
       "\t<tr><td>chr1</td><td>16353232</td><td>16353558</td><td>tfit     </td><td>chr1-16353233-16353557-tfit     </td></tr>\n",
       "\t<tr><td>⋮</td><td>⋮</td><td>⋮</td><td>⋮</td><td>⋮</td></tr>\n",
       "\t<tr><td>chrX</td><td>118973538</td><td>118973896</td><td>tfit     </td><td>chrX-118973539-118973895-tfit     </td></tr>\n",
       "\t<tr><td>chrX</td><td>120246144</td><td>120246842</td><td>dreg     </td><td>chrX-120246145-120246841-dreg     </td></tr>\n",
       "\t<tr><td>chrX</td><td>120576661</td><td>120576889</td><td>tfit     </td><td>chrX-120576662-120576888-tfit     </td></tr>\n",
       "\t<tr><td>chrX</td><td>123733843</td><td>123734135</td><td>dreg     </td><td>chrX-123733844-123734134-dreg     </td></tr>\n",
       "\t<tr><td>chrX</td><td>124331480</td><td>124331960</td><td>dreg     </td><td>chrX-124331481-124331959-dreg     </td></tr>\n",
       "\t<tr><td>chrX</td><td>124344269</td><td>124345509</td><td>tfit,dreg</td><td>chrX-124344270-124345508-tfit,dreg</td></tr>\n",
       "\t<tr><td>chrX</td><td>130337980</td><td>130338963</td><td>tfit,dreg</td><td>chrX-130337981-130338962-tfit,dreg</td></tr>\n",
       "\t<tr><td>chrX</td><td>135023265</td><td>135025689</td><td>tfit,dreg</td><td>chrX-135023266-135025688-tfit,dreg</td></tr>\n",
       "\t<tr><td>chrX</td><td>135053060</td><td>135054230</td><td>dreg     </td><td>chrX-135053061-135054229-dreg     </td></tr>\n",
       "\t<tr><td>chrX</td><td>135983680</td><td>135984638</td><td>tfit     </td><td>chrX-135983681-135984637-tfit     </td></tr>\n",
       "\t<tr><td>chrX</td><td>136145384</td><td>136145764</td><td>tfit     </td><td>chrX-136145385-136145763-tfit     </td></tr>\n",
       "\t<tr><td>chrX</td><td>141243136</td><td>141243356</td><td>tfit     </td><td>chrX-141243137-141243355-tfit     </td></tr>\n",
       "\t<tr><td>chrX</td><td>147226920</td><td>147228922</td><td>tfit,dreg</td><td>chrX-147226921-147228921-tfit,dreg</td></tr>\n",
       "\t<tr><td>chrX</td><td>149506043</td><td>149508133</td><td>tfit     </td><td>chrX-149506044-149508132-tfit     </td></tr>\n",
       "\t<tr><td>chrX</td><td>149595849</td><td>149596181</td><td>dreg     </td><td>chrX-149595850-149596180-dreg     </td></tr>\n",
       "\t<tr><td>chrX</td><td>149596204</td><td>149596444</td><td>tfit     </td><td>chrX-149596205-149596443-tfit     </td></tr>\n",
       "\t<tr><td>chrX</td><td>149773187</td><td>149773495</td><td>dreg     </td><td>chrX-149773188-149773494-dreg     </td></tr>\n",
       "\t<tr><td>chrX</td><td>150899492</td><td>150899834</td><td>tfit,dreg</td><td>chrX-150899493-150899833-tfit,dreg</td></tr>\n",
       "\t<tr><td>chrX</td><td>151395165</td><td>151395759</td><td>tfit     </td><td>chrX-151395166-151395758-tfit     </td></tr>\n",
       "\t<tr><td>chrX</td><td>152770520</td><td>152771100</td><td>dreg     </td><td>chrX-152770521-152771099-dreg     </td></tr>\n",
       "\t<tr><td>chrX</td><td>152913422</td><td>152913620</td><td>tfit,dreg</td><td>chrX-152913423-152913619-tfit,dreg</td></tr>\n",
       "\t<tr><td>chrX</td><td>153831697</td><td>153832743</td><td>tfit     </td><td>chrX-153831698-153832742-tfit     </td></tr>\n",
       "\t<tr><td>chrX</td><td>153927243</td><td>153927583</td><td>dreg     </td><td>chrX-153927244-153927582-dreg     </td></tr>\n",
       "\t<tr><td>chrX</td><td>154654454</td><td>154654714</td><td>tfit     </td><td>chrX-154654455-154654713-tfit     </td></tr>\n",
       "\t<tr><td>chrX</td><td>156028895</td><td>156029497</td><td>tfit     </td><td>chrX-156028896-156029496-tfit     </td></tr>\n",
       "\t<tr><td>chrY</td><td> 12699498</td><td> 12700434</td><td>tfit,dreg</td><td>chrY-12699499-12700433-tfit,dreg  </td></tr>\n",
       "\t<tr><td>chrY</td><td> 17580377</td><td> 17580563</td><td>tfit,dreg</td><td>chrY-17580378-17580562-tfit,dreg  </td></tr>\n",
       "\t<tr><td>chrY</td><td> 18325324</td><td> 18325622</td><td>tfit     </td><td>chrY-18325325-18325621-tfit       </td></tr>\n",
       "\t<tr><td>chrY</td><td> 20754880</td><td> 20755150</td><td>dreg     </td><td>chrY-20754881-20755149-dreg       </td></tr>\n",
       "\t<tr><td>chrY</td><td> 24215540</td><td> 24215780</td><td>dreg     </td><td>chrY-24215541-24215779-dreg       </td></tr>\n",
       "</tbody>\n",
       "</table>\n"
      ],
      "text/latex": [
       "A data.table: 2286 × 5\n",
       "\\begin{tabular}{lllll}\n",
       " V1 & V2 & V3 & V4 & Geneid\\\\\n",
       " <chr> & <int> & <int> & <chr> & <chr>\\\\\n",
       "\\hline\n",
       "\t chr1 &    10151 &    11371 & tfit,dreg & chr1-10152-11370-tfit,dreg      \\\\\n",
       "\t chr1 &   141243 &   141851 & dreg      & chr1-141244-141850-dreg         \\\\\n",
       "\t chr1 &   180714 &   181647 & tfit      & chr1-180715-181646-tfit         \\\\\n",
       "\t chr1 &   188610 &   189441 & dreg      & chr1-188611-189440-dreg         \\\\\n",
       "\t chr1 &   207302 &   207480 & tfit,dreg & chr1-207303-207479-tfit,dreg    \\\\\n",
       "\t chr1 &   629854 &   629986 & tfit,dreg & chr1-629855-629985-tfit,dreg    \\\\\n",
       "\t chr1 &   779665 &   781540 & dreg      & chr1-779666-781539-dreg         \\\\\n",
       "\t chr1 &   920273 &   921321 & dreg      & chr1-920274-921320-dreg         \\\\\n",
       "\t chr1 &   982620 &   983050 & dreg      & chr1-982621-983049-dreg         \\\\\n",
       "\t chr1 &  1134922 &  1136018 & tfit,dreg & chr1-1134923-1136017-tfit,dreg  \\\\\n",
       "\t chr1 &  1247394 &  1247858 & tfit      & chr1-1247395-1247857-tfit       \\\\\n",
       "\t chr1 &  1364053 &  1364437 & dreg      & chr1-1364054-1364436-dreg       \\\\\n",
       "\t chr1 &  1408088 &  1408406 & tfit      & chr1-1408089-1408405-tfit       \\\\\n",
       "\t chr1 &  2801542 &  2803038 & tfit      & chr1-2801543-2803037-tfit       \\\\\n",
       "\t chr1 &  3748245 &  3748629 & dreg      & chr1-3748246-3748628-dreg       \\\\\n",
       "\t chr1 &  6181108 &  6181528 & tfit      & chr1-6181109-6181527-tfit       \\\\\n",
       "\t chr1 &  6394660 &  6395952 & tfit,dreg & chr1-6394661-6395951-tfit,dreg  \\\\\n",
       "\t chr1 &  6423446 &  6424008 & tfit,dreg & chr1-6423447-6424007-tfit,dreg  \\\\\n",
       "\t chr1 &  9027216 &  9027862 & tfit,dreg & chr1-9027217-9027861-tfit,dreg  \\\\\n",
       "\t chr1 &  9072987 &  9073545 & dreg      & chr1-9072988-9073544-dreg       \\\\\n",
       "\t chr1 &  9649960 &  9650840 & dreg      & chr1-9649961-9650839-dreg       \\\\\n",
       "\t chr1 &  9825451 &  9825939 & tfit,dreg & chr1-9825452-9825938-tfit,dreg  \\\\\n",
       "\t chr1 & 10797590 & 10798064 & tfit      & chr1-10797591-10798063-tfit     \\\\\n",
       "\t chr1 & 11848600 & 11849008 & tfit      & chr1-11848601-11849007-tfit     \\\\\n",
       "\t chr1 & 11927350 & 11927646 & tfit      & chr1-11927351-11927645-tfit     \\\\\n",
       "\t chr1 & 12745277 & 12745635 & tfit,dreg & chr1-12745278-12745634-tfit,dreg\\\\\n",
       "\t chr1 & 12773644 & 12773860 & tfit      & chr1-12773645-12773859-tfit     \\\\\n",
       "\t chr1 & 16042672 & 16042932 & tfit,dreg & chr1-16042673-16042931-tfit,dreg\\\\\n",
       "\t chr1 & 16213453 & 16213677 & tfit      & chr1-16213454-16213676-tfit     \\\\\n",
       "\t chr1 & 16353232 & 16353558 & tfit      & chr1-16353233-16353557-tfit     \\\\\n",
       "\t ⋮ & ⋮ & ⋮ & ⋮ & ⋮\\\\\n",
       "\t chrX & 118973538 & 118973896 & tfit      & chrX-118973539-118973895-tfit     \\\\\n",
       "\t chrX & 120246144 & 120246842 & dreg      & chrX-120246145-120246841-dreg     \\\\\n",
       "\t chrX & 120576661 & 120576889 & tfit      & chrX-120576662-120576888-tfit     \\\\\n",
       "\t chrX & 123733843 & 123734135 & dreg      & chrX-123733844-123734134-dreg     \\\\\n",
       "\t chrX & 124331480 & 124331960 & dreg      & chrX-124331481-124331959-dreg     \\\\\n",
       "\t chrX & 124344269 & 124345509 & tfit,dreg & chrX-124344270-124345508-tfit,dreg\\\\\n",
       "\t chrX & 130337980 & 130338963 & tfit,dreg & chrX-130337981-130338962-tfit,dreg\\\\\n",
       "\t chrX & 135023265 & 135025689 & tfit,dreg & chrX-135023266-135025688-tfit,dreg\\\\\n",
       "\t chrX & 135053060 & 135054230 & dreg      & chrX-135053061-135054229-dreg     \\\\\n",
       "\t chrX & 135983680 & 135984638 & tfit      & chrX-135983681-135984637-tfit     \\\\\n",
       "\t chrX & 136145384 & 136145764 & tfit      & chrX-136145385-136145763-tfit     \\\\\n",
       "\t chrX & 141243136 & 141243356 & tfit      & chrX-141243137-141243355-tfit     \\\\\n",
       "\t chrX & 147226920 & 147228922 & tfit,dreg & chrX-147226921-147228921-tfit,dreg\\\\\n",
       "\t chrX & 149506043 & 149508133 & tfit      & chrX-149506044-149508132-tfit     \\\\\n",
       "\t chrX & 149595849 & 149596181 & dreg      & chrX-149595850-149596180-dreg     \\\\\n",
       "\t chrX & 149596204 & 149596444 & tfit      & chrX-149596205-149596443-tfit     \\\\\n",
       "\t chrX & 149773187 & 149773495 & dreg      & chrX-149773188-149773494-dreg     \\\\\n",
       "\t chrX & 150899492 & 150899834 & tfit,dreg & chrX-150899493-150899833-tfit,dreg\\\\\n",
       "\t chrX & 151395165 & 151395759 & tfit      & chrX-151395166-151395758-tfit     \\\\\n",
       "\t chrX & 152770520 & 152771100 & dreg      & chrX-152770521-152771099-dreg     \\\\\n",
       "\t chrX & 152913422 & 152913620 & tfit,dreg & chrX-152913423-152913619-tfit,dreg\\\\\n",
       "\t chrX & 153831697 & 153832743 & tfit      & chrX-153831698-153832742-tfit     \\\\\n",
       "\t chrX & 153927243 & 153927583 & dreg      & chrX-153927244-153927582-dreg     \\\\\n",
       "\t chrX & 154654454 & 154654714 & tfit      & chrX-154654455-154654713-tfit     \\\\\n",
       "\t chrX & 156028895 & 156029497 & tfit      & chrX-156028896-156029496-tfit     \\\\\n",
       "\t chrY &  12699498 &  12700434 & tfit,dreg & chrY-12699499-12700433-tfit,dreg  \\\\\n",
       "\t chrY &  17580377 &  17580563 & tfit,dreg & chrY-17580378-17580562-tfit,dreg  \\\\\n",
       "\t chrY &  18325324 &  18325622 & tfit      & chrY-18325325-18325621-tfit       \\\\\n",
       "\t chrY &  20754880 &  20755150 & dreg      & chrY-20754881-20755149-dreg       \\\\\n",
       "\t chrY &  24215540 &  24215780 & dreg      & chrY-24215541-24215779-dreg       \\\\\n",
       "\\end{tabular}\n"
      ],
      "text/markdown": [
       "\n",
       "A data.table: 2286 × 5\n",
       "\n",
       "| V1 &lt;chr&gt; | V2 &lt;int&gt; | V3 &lt;int&gt; | V4 &lt;chr&gt; | Geneid &lt;chr&gt; |\n",
       "|---|---|---|---|---|\n",
       "| chr1 |    10151 |    11371 | tfit,dreg | chr1-10152-11370-tfit,dreg       |\n",
       "| chr1 |   141243 |   141851 | dreg      | chr1-141244-141850-dreg          |\n",
       "| chr1 |   180714 |   181647 | tfit      | chr1-180715-181646-tfit          |\n",
       "| chr1 |   188610 |   189441 | dreg      | chr1-188611-189440-dreg          |\n",
       "| chr1 |   207302 |   207480 | tfit,dreg | chr1-207303-207479-tfit,dreg     |\n",
       "| chr1 |   629854 |   629986 | tfit,dreg | chr1-629855-629985-tfit,dreg     |\n",
       "| chr1 |   779665 |   781540 | dreg      | chr1-779666-781539-dreg          |\n",
       "| chr1 |   920273 |   921321 | dreg      | chr1-920274-921320-dreg          |\n",
       "| chr1 |   982620 |   983050 | dreg      | chr1-982621-983049-dreg          |\n",
       "| chr1 |  1134922 |  1136018 | tfit,dreg | chr1-1134923-1136017-tfit,dreg   |\n",
       "| chr1 |  1247394 |  1247858 | tfit      | chr1-1247395-1247857-tfit        |\n",
       "| chr1 |  1364053 |  1364437 | dreg      | chr1-1364054-1364436-dreg        |\n",
       "| chr1 |  1408088 |  1408406 | tfit      | chr1-1408089-1408405-tfit        |\n",
       "| chr1 |  2801542 |  2803038 | tfit      | chr1-2801543-2803037-tfit        |\n",
       "| chr1 |  3748245 |  3748629 | dreg      | chr1-3748246-3748628-dreg        |\n",
       "| chr1 |  6181108 |  6181528 | tfit      | chr1-6181109-6181527-tfit        |\n",
       "| chr1 |  6394660 |  6395952 | tfit,dreg | chr1-6394661-6395951-tfit,dreg   |\n",
       "| chr1 |  6423446 |  6424008 | tfit,dreg | chr1-6423447-6424007-tfit,dreg   |\n",
       "| chr1 |  9027216 |  9027862 | tfit,dreg | chr1-9027217-9027861-tfit,dreg   |\n",
       "| chr1 |  9072987 |  9073545 | dreg      | chr1-9072988-9073544-dreg        |\n",
       "| chr1 |  9649960 |  9650840 | dreg      | chr1-9649961-9650839-dreg        |\n",
       "| chr1 |  9825451 |  9825939 | tfit,dreg | chr1-9825452-9825938-tfit,dreg   |\n",
       "| chr1 | 10797590 | 10798064 | tfit      | chr1-10797591-10798063-tfit      |\n",
       "| chr1 | 11848600 | 11849008 | tfit      | chr1-11848601-11849007-tfit      |\n",
       "| chr1 | 11927350 | 11927646 | tfit      | chr1-11927351-11927645-tfit      |\n",
       "| chr1 | 12745277 | 12745635 | tfit,dreg | chr1-12745278-12745634-tfit,dreg |\n",
       "| chr1 | 12773644 | 12773860 | tfit      | chr1-12773645-12773859-tfit      |\n",
       "| chr1 | 16042672 | 16042932 | tfit,dreg | chr1-16042673-16042931-tfit,dreg |\n",
       "| chr1 | 16213453 | 16213677 | tfit      | chr1-16213454-16213676-tfit      |\n",
       "| chr1 | 16353232 | 16353558 | tfit      | chr1-16353233-16353557-tfit      |\n",
       "| ⋮ | ⋮ | ⋮ | ⋮ | ⋮ |\n",
       "| chrX | 118973538 | 118973896 | tfit      | chrX-118973539-118973895-tfit      |\n",
       "| chrX | 120246144 | 120246842 | dreg      | chrX-120246145-120246841-dreg      |\n",
       "| chrX | 120576661 | 120576889 | tfit      | chrX-120576662-120576888-tfit      |\n",
       "| chrX | 123733843 | 123734135 | dreg      | chrX-123733844-123734134-dreg      |\n",
       "| chrX | 124331480 | 124331960 | dreg      | chrX-124331481-124331959-dreg      |\n",
       "| chrX | 124344269 | 124345509 | tfit,dreg | chrX-124344270-124345508-tfit,dreg |\n",
       "| chrX | 130337980 | 130338963 | tfit,dreg | chrX-130337981-130338962-tfit,dreg |\n",
       "| chrX | 135023265 | 135025689 | tfit,dreg | chrX-135023266-135025688-tfit,dreg |\n",
       "| chrX | 135053060 | 135054230 | dreg      | chrX-135053061-135054229-dreg      |\n",
       "| chrX | 135983680 | 135984638 | tfit      | chrX-135983681-135984637-tfit      |\n",
       "| chrX | 136145384 | 136145764 | tfit      | chrX-136145385-136145763-tfit      |\n",
       "| chrX | 141243136 | 141243356 | tfit      | chrX-141243137-141243355-tfit      |\n",
       "| chrX | 147226920 | 147228922 | tfit,dreg | chrX-147226921-147228921-tfit,dreg |\n",
       "| chrX | 149506043 | 149508133 | tfit      | chrX-149506044-149508132-tfit      |\n",
       "| chrX | 149595849 | 149596181 | dreg      | chrX-149595850-149596180-dreg      |\n",
       "| chrX | 149596204 | 149596444 | tfit      | chrX-149596205-149596443-tfit      |\n",
       "| chrX | 149773187 | 149773495 | dreg      | chrX-149773188-149773494-dreg      |\n",
       "| chrX | 150899492 | 150899834 | tfit,dreg | chrX-150899493-150899833-tfit,dreg |\n",
       "| chrX | 151395165 | 151395759 | tfit      | chrX-151395166-151395758-tfit      |\n",
       "| chrX | 152770520 | 152771100 | dreg      | chrX-152770521-152771099-dreg      |\n",
       "| chrX | 152913422 | 152913620 | tfit,dreg | chrX-152913423-152913619-tfit,dreg |\n",
       "| chrX | 153831697 | 153832743 | tfit      | chrX-153831698-153832742-tfit      |\n",
       "| chrX | 153927243 | 153927583 | dreg      | chrX-153927244-153927582-dreg      |\n",
       "| chrX | 154654454 | 154654714 | tfit      | chrX-154654455-154654713-tfit      |\n",
       "| chrX | 156028895 | 156029497 | tfit      | chrX-156028896-156029496-tfit      |\n",
       "| chrY |  12699498 |  12700434 | tfit,dreg | chrY-12699499-12700433-tfit,dreg   |\n",
       "| chrY |  17580377 |  17580563 | tfit,dreg | chrY-17580378-17580562-tfit,dreg   |\n",
       "| chrY |  18325324 |  18325622 | tfit      | chrY-18325325-18325621-tfit        |\n",
       "| chrY |  20754880 |  20755150 | dreg      | chrY-20754881-20755149-dreg        |\n",
       "| chrY |  24215540 |  24215780 | dreg      | chrY-24215541-24215779-dreg        |\n",
       "\n"
      ],
      "text/plain": [
       "     V1   V2        V3        V4        Geneid                            \n",
       "1    chr1    10151     11371  tfit,dreg chr1-10152-11370-tfit,dreg        \n",
       "2    chr1   141243    141851  dreg      chr1-141244-141850-dreg           \n",
       "3    chr1   180714    181647  tfit      chr1-180715-181646-tfit           \n",
       "4    chr1   188610    189441  dreg      chr1-188611-189440-dreg           \n",
       "5    chr1   207302    207480  tfit,dreg chr1-207303-207479-tfit,dreg      \n",
       "6    chr1   629854    629986  tfit,dreg chr1-629855-629985-tfit,dreg      \n",
       "7    chr1   779665    781540  dreg      chr1-779666-781539-dreg           \n",
       "8    chr1   920273    921321  dreg      chr1-920274-921320-dreg           \n",
       "9    chr1   982620    983050  dreg      chr1-982621-983049-dreg           \n",
       "10   chr1  1134922   1136018  tfit,dreg chr1-1134923-1136017-tfit,dreg    \n",
       "11   chr1  1247394   1247858  tfit      chr1-1247395-1247857-tfit         \n",
       "12   chr1  1364053   1364437  dreg      chr1-1364054-1364436-dreg         \n",
       "13   chr1  1408088   1408406  tfit      chr1-1408089-1408405-tfit         \n",
       "14   chr1  2801542   2803038  tfit      chr1-2801543-2803037-tfit         \n",
       "15   chr1  3748245   3748629  dreg      chr1-3748246-3748628-dreg         \n",
       "16   chr1  6181108   6181528  tfit      chr1-6181109-6181527-tfit         \n",
       "17   chr1  6394660   6395952  tfit,dreg chr1-6394661-6395951-tfit,dreg    \n",
       "18   chr1  6423446   6424008  tfit,dreg chr1-6423447-6424007-tfit,dreg    \n",
       "19   chr1  9027216   9027862  tfit,dreg chr1-9027217-9027861-tfit,dreg    \n",
       "20   chr1  9072987   9073545  dreg      chr1-9072988-9073544-dreg         \n",
       "21   chr1  9649960   9650840  dreg      chr1-9649961-9650839-dreg         \n",
       "22   chr1  9825451   9825939  tfit,dreg chr1-9825452-9825938-tfit,dreg    \n",
       "23   chr1 10797590  10798064  tfit      chr1-10797591-10798063-tfit       \n",
       "24   chr1 11848600  11849008  tfit      chr1-11848601-11849007-tfit       \n",
       "25   chr1 11927350  11927646  tfit      chr1-11927351-11927645-tfit       \n",
       "26   chr1 12745277  12745635  tfit,dreg chr1-12745278-12745634-tfit,dreg  \n",
       "27   chr1 12773644  12773860  tfit      chr1-12773645-12773859-tfit       \n",
       "28   chr1 16042672  16042932  tfit,dreg chr1-16042673-16042931-tfit,dreg  \n",
       "29   chr1 16213453  16213677  tfit      chr1-16213454-16213676-tfit       \n",
       "30   chr1 16353232  16353558  tfit      chr1-16353233-16353557-tfit       \n",
       "⋮    ⋮    ⋮         ⋮         ⋮         ⋮                                 \n",
       "2257 chrX 118973538 118973896 tfit      chrX-118973539-118973895-tfit     \n",
       "2258 chrX 120246144 120246842 dreg      chrX-120246145-120246841-dreg     \n",
       "2259 chrX 120576661 120576889 tfit      chrX-120576662-120576888-tfit     \n",
       "2260 chrX 123733843 123734135 dreg      chrX-123733844-123734134-dreg     \n",
       "2261 chrX 124331480 124331960 dreg      chrX-124331481-124331959-dreg     \n",
       "2262 chrX 124344269 124345509 tfit,dreg chrX-124344270-124345508-tfit,dreg\n",
       "2263 chrX 130337980 130338963 tfit,dreg chrX-130337981-130338962-tfit,dreg\n",
       "2264 chrX 135023265 135025689 tfit,dreg chrX-135023266-135025688-tfit,dreg\n",
       "2265 chrX 135053060 135054230 dreg      chrX-135053061-135054229-dreg     \n",
       "2266 chrX 135983680 135984638 tfit      chrX-135983681-135984637-tfit     \n",
       "2267 chrX 136145384 136145764 tfit      chrX-136145385-136145763-tfit     \n",
       "2268 chrX 141243136 141243356 tfit      chrX-141243137-141243355-tfit     \n",
       "2269 chrX 147226920 147228922 tfit,dreg chrX-147226921-147228921-tfit,dreg\n",
       "2270 chrX 149506043 149508133 tfit      chrX-149506044-149508132-tfit     \n",
       "2271 chrX 149595849 149596181 dreg      chrX-149595850-149596180-dreg     \n",
       "2272 chrX 149596204 149596444 tfit      chrX-149596205-149596443-tfit     \n",
       "2273 chrX 149773187 149773495 dreg      chrX-149773188-149773494-dreg     \n",
       "2274 chrX 150899492 150899834 tfit,dreg chrX-150899493-150899833-tfit,dreg\n",
       "2275 chrX 151395165 151395759 tfit      chrX-151395166-151395758-tfit     \n",
       "2276 chrX 152770520 152771100 dreg      chrX-152770521-152771099-dreg     \n",
       "2277 chrX 152913422 152913620 tfit,dreg chrX-152913423-152913619-tfit,dreg\n",
       "2278 chrX 153831697 153832743 tfit      chrX-153831698-153832742-tfit     \n",
       "2279 chrX 153927243 153927583 dreg      chrX-153927244-153927582-dreg     \n",
       "2280 chrX 154654454 154654714 tfit      chrX-154654455-154654713-tfit     \n",
       "2281 chrX 156028895 156029497 tfit      chrX-156028896-156029496-tfit     \n",
       "2282 chrY  12699498  12700434 tfit,dreg chrY-12699499-12700433-tfit,dreg  \n",
       "2283 chrY  17580377  17580563 tfit,dreg chrY-17580378-17580562-tfit,dreg  \n",
       "2284 chrY  18325324  18325622 tfit      chrY-18325325-18325621-tfit       \n",
       "2285 chrY  20754880  20755150 dreg      chrY-20754881-20755149-dreg       \n",
       "2286 chrY  24215540  24215780 dreg      chrY-24215541-24215779-dreg       "
      ]
     },
     "metadata": {},
     "output_type": "display_data"
    }
   ],
   "source": [
    "bidirs_no_ProGene500bp[!bidirs_no_ProGene500bp$Geneid %in% bidirs_no_ProGene$Geneid,]"
   ]
  },
  {
   "cell_type": "code",
   "execution_count": 29,
   "metadata": {},
   "outputs": [
    {
     "data": {
      "text/html": [
       "<style>\n",
       ".list-inline {list-style: none; margin:0; padding: 0}\n",
       ".list-inline>li {display: inline-block}\n",
       ".list-inline>li:not(:last-child)::after {content: \"\\00b7\"; padding: 0 .5ex}\n",
       "</style>\n",
       "<ol class=list-inline><li>255775</li><li>887</li></ol>\n"
      ],
      "text/latex": [
       "\\begin{enumerate*}\n",
       "\\item 255775\n",
       "\\item 887\n",
       "\\end{enumerate*}\n"
      ],
      "text/markdown": [
       "1. 255775\n",
       "2. 887\n",
       "\n",
       "\n"
      ],
      "text/plain": [
       "[1] 255775    887"
      ]
     },
     "metadata": {},
     "output_type": "display_data"
    },
    {
     "data": {
      "text/html": [
       "<style>\n",
       ".list-inline {list-style: none; margin:0; padding: 0}\n",
       ".list-inline>li {display: inline-block}\n",
       ".list-inline>li:not(:last-child)::after {content: \"\\00b7\"; padding: 0 .5ex}\n",
       "</style>\n",
       "<ol class=list-inline><li>258061</li><li>887</li></ol>\n"
      ],
      "text/latex": [
       "\\begin{enumerate*}\n",
       "\\item 258061\n",
       "\\item 887\n",
       "\\end{enumerate*}\n"
      ],
      "text/markdown": [
       "1. 258061\n",
       "2. 887\n",
       "\n",
       "\n"
      ],
      "text/plain": [
       "[1] 258061    887"
      ]
     },
     "metadata": {},
     "output_type": "display_data"
    },
    {
     "data": {
      "text/html": [
       "<table class=\"dataframe\">\n",
       "<caption>A data.table: 3 × 887</caption>\n",
       "<thead>\n",
       "\t<tr><th scope=col>chromosome</th><th scope=col>start</th><th scope=col>end</th><th scope=col>Length</th><th scope=col>Geneid</th><th scope=col>GeneID</th><th scope=col>Source</th><th scope=col>SRZ1950491</th><th scope=col>SRZ1950493</th><th scope=col>SRZ1950495</th><th scope=col>⋯</th><th scope=col>SRR9833433</th><th scope=col>SRZ9833428</th><th scope=col>SRZ9833431</th><th scope=col>SRZ9833434</th><th scope=col>SRR11793825</th><th scope=col>SRR11793826</th><th scope=col>SRR11793827</th><th scope=col>SRR11793828</th><th scope=col>SRR11793829</th><th scope=col>SRR11793830</th></tr>\n",
       "\t<tr><th scope=col>&lt;chr&gt;</th><th scope=col>&lt;int&gt;</th><th scope=col>&lt;int&gt;</th><th scope=col>&lt;int&gt;</th><th scope=col>&lt;chr&gt;</th><th scope=col>&lt;chr&gt;</th><th scope=col>&lt;chr&gt;</th><th scope=col>&lt;int&gt;</th><th scope=col>&lt;int&gt;</th><th scope=col>&lt;int&gt;</th><th scope=col>⋯</th><th scope=col>&lt;int&gt;</th><th scope=col>&lt;int&gt;</th><th scope=col>&lt;int&gt;</th><th scope=col>&lt;int&gt;</th><th scope=col>&lt;int&gt;</th><th scope=col>&lt;int&gt;</th><th scope=col>&lt;int&gt;</th><th scope=col>&lt;int&gt;</th><th scope=col>&lt;int&gt;</th><th scope=col>&lt;int&gt;</th></tr>\n",
       "</thead>\n",
       "<tbody>\n",
       "\t<tr><td>chr1</td><td> 3730</td><td> 7399</td><td>3669</td><td>chr1-3730-7399-dreg       </td><td>chr1:3730-7399  </td><td>dreg     </td><td>0</td><td>0</td><td>0</td><td>⋯</td><td>0</td><td>0</td><td>0</td><td> 0</td><td>0</td><td>0</td><td>0</td><td>0</td><td>0</td><td>0</td></tr>\n",
       "\t<tr><td>chr1</td><td>10152</td><td>11370</td><td>1218</td><td>chr1-10152-11370-tfit,dreg</td><td>chr1:10152-11370</td><td>tfit,dreg</td><td>3</td><td>1</td><td>2</td><td>⋯</td><td>1</td><td>2</td><td>6</td><td>16</td><td>0</td><td>0</td><td>0</td><td>0</td><td>0</td><td>0</td></tr>\n",
       "\t<tr><td>chr1</td><td>30880</td><td>31054</td><td> 174</td><td>chr1-30880-31054-tfit     </td><td>chr1:30880-31054</td><td>tfit     </td><td>0</td><td>0</td><td>0</td><td>⋯</td><td>0</td><td>0</td><td>0</td><td> 0</td><td>2</td><td>0</td><td>0</td><td>0</td><td>0</td><td>0</td></tr>\n",
       "</tbody>\n",
       "</table>\n"
      ],
      "text/latex": [
       "A data.table: 3 × 887\n",
       "\\begin{tabular}{lllllllllllllllllllll}\n",
       " chromosome & start & end & Length & Geneid & GeneID & Source & SRZ1950491 & SRZ1950493 & SRZ1950495 & ⋯ & SRR9833433 & SRZ9833428 & SRZ9833431 & SRZ9833434 & SRR11793825 & SRR11793826 & SRR11793827 & SRR11793828 & SRR11793829 & SRR11793830\\\\\n",
       " <chr> & <int> & <int> & <int> & <chr> & <chr> & <chr> & <int> & <int> & <int> & ⋯ & <int> & <int> & <int> & <int> & <int> & <int> & <int> & <int> & <int> & <int>\\\\\n",
       "\\hline\n",
       "\t chr1 &  3730 &  7399 & 3669 & chr1-3730-7399-dreg        & chr1:3730-7399   & dreg      & 0 & 0 & 0 & ⋯ & 0 & 0 & 0 &  0 & 0 & 0 & 0 & 0 & 0 & 0\\\\\n",
       "\t chr1 & 10152 & 11370 & 1218 & chr1-10152-11370-tfit,dreg & chr1:10152-11370 & tfit,dreg & 3 & 1 & 2 & ⋯ & 1 & 2 & 6 & 16 & 0 & 0 & 0 & 0 & 0 & 0\\\\\n",
       "\t chr1 & 30880 & 31054 &  174 & chr1-30880-31054-tfit      & chr1:30880-31054 & tfit      & 0 & 0 & 0 & ⋯ & 0 & 0 & 0 &  0 & 2 & 0 & 0 & 0 & 0 & 0\\\\\n",
       "\\end{tabular}\n"
      ],
      "text/markdown": [
       "\n",
       "A data.table: 3 × 887\n",
       "\n",
       "| chromosome &lt;chr&gt; | start &lt;int&gt; | end &lt;int&gt; | Length &lt;int&gt; | Geneid &lt;chr&gt; | GeneID &lt;chr&gt; | Source &lt;chr&gt; | SRZ1950491 &lt;int&gt; | SRZ1950493 &lt;int&gt; | SRZ1950495 &lt;int&gt; | ⋯ ⋯ | SRR9833433 &lt;int&gt; | SRZ9833428 &lt;int&gt; | SRZ9833431 &lt;int&gt; | SRZ9833434 &lt;int&gt; | SRR11793825 &lt;int&gt; | SRR11793826 &lt;int&gt; | SRR11793827 &lt;int&gt; | SRR11793828 &lt;int&gt; | SRR11793829 &lt;int&gt; | SRR11793830 &lt;int&gt; |\n",
       "|---|---|---|---|---|---|---|---|---|---|---|---|---|---|---|---|---|---|---|---|---|\n",
       "| chr1 |  3730 |  7399 | 3669 | chr1-3730-7399-dreg        | chr1:3730-7399   | dreg      | 0 | 0 | 0 | ⋯ | 0 | 0 | 0 |  0 | 0 | 0 | 0 | 0 | 0 | 0 |\n",
       "| chr1 | 10152 | 11370 | 1218 | chr1-10152-11370-tfit,dreg | chr1:10152-11370 | tfit,dreg | 3 | 1 | 2 | ⋯ | 1 | 2 | 6 | 16 | 0 | 0 | 0 | 0 | 0 | 0 |\n",
       "| chr1 | 30880 | 31054 |  174 | chr1-30880-31054-tfit      | chr1:30880-31054 | tfit      | 0 | 0 | 0 | ⋯ | 0 | 0 | 0 |  0 | 2 | 0 | 0 | 0 | 0 | 0 |\n",
       "\n"
      ],
      "text/plain": [
       "  chromosome start end   Length Geneid                     GeneID          \n",
       "1 chr1        3730  7399 3669   chr1-3730-7399-dreg        chr1:3730-7399  \n",
       "2 chr1       10152 11370 1218   chr1-10152-11370-tfit,dreg chr1:10152-11370\n",
       "3 chr1       30880 31054  174   chr1-30880-31054-tfit      chr1:30880-31054\n",
       "  Source    SRZ1950491 SRZ1950493 SRZ1950495 ⋯ SRR9833433 SRZ9833428 SRZ9833431\n",
       "1 dreg      0          0          0          ⋯ 0          0          0         \n",
       "2 tfit,dreg 3          1          2          ⋯ 1          2          6         \n",
       "3 tfit      0          0          0          ⋯ 0          0          0         \n",
       "  SRZ9833434 SRR11793825 SRR11793826 SRR11793827 SRR11793828 SRR11793829\n",
       "1  0         0           0           0           0           0          \n",
       "2 16         0           0           0           0           0          \n",
       "3  0         2           0           0           0           0          \n",
       "  SRR11793830\n",
       "1 0          \n",
       "2 0          \n",
       "3 0          "
      ]
     },
     "metadata": {},
     "output_type": "display_data"
    }
   ],
   "source": [
    "##get bidirectionals not overlapping genes and gene promoters 1kb\n",
    "counts_bidirs_noProGene <- counts_bidirs[counts_bidirs$Geneid\n",
    "                                         %in% bidirs_no_ProGene$Geneid,]\n",
    "dim(counts_bidirs_noProGene)\n",
    "\n",
    "##get bidirectionals not overlapping genes and gene promoters 500bp\n",
    "counts_bidirs_noProGene500bp <- counts_bidirs[counts_bidirs$Geneid\n",
    "                                         %in% bidirs_no_ProGene500bp$Geneid,]\n",
    "dim(counts_bidirs_noProGene500bp)\n",
    "head(counts_bidirs_noProGene500bp,3)"
   ]
  },
  {
   "cell_type": "code",
   "execution_count": 30,
   "metadata": {
    "scrolled": true
   },
   "outputs": [
    {
     "data": {
      "text/html": [
       "<table class=\"dataframe\">\n",
       "<caption>A data.table: 6 × 885</caption>\n",
       "<thead>\n",
       "\t<tr><th scope=col>chromosome</th><th scope=col>start</th><th scope=col>end</th><th scope=col>Geneid</th><th scope=col>Length</th><th scope=col>SRZ1950491</th><th scope=col>SRZ1950493</th><th scope=col>SRZ1950495</th><th scope=col>SRZ1950497</th><th scope=col>SRZ1950499</th><th scope=col>⋯</th><th scope=col>SRR9833433</th><th scope=col>SRZ9833428</th><th scope=col>SRZ9833431</th><th scope=col>SRZ9833434</th><th scope=col>SRR11793825</th><th scope=col>SRR11793826</th><th scope=col>SRR11793827</th><th scope=col>SRR11793828</th><th scope=col>SRR11793829</th><th scope=col>SRR11793830</th></tr>\n",
       "\t<tr><th scope=col>&lt;chr&gt;</th><th scope=col>&lt;int&gt;</th><th scope=col>&lt;int&gt;</th><th scope=col>&lt;chr&gt;</th><th scope=col>&lt;int&gt;</th><th scope=col>&lt;int&gt;</th><th scope=col>&lt;int&gt;</th><th scope=col>&lt;int&gt;</th><th scope=col>&lt;int&gt;</th><th scope=col>&lt;int&gt;</th><th scope=col>⋯</th><th scope=col>&lt;int&gt;</th><th scope=col>&lt;int&gt;</th><th scope=col>&lt;int&gt;</th><th scope=col>&lt;int&gt;</th><th scope=col>&lt;int&gt;</th><th scope=col>&lt;int&gt;</th><th scope=col>&lt;int&gt;</th><th scope=col>&lt;int&gt;</th><th scope=col>&lt;int&gt;</th><th scope=col>&lt;int&gt;</th></tr>\n",
       "</thead>\n",
       "<tbody>\n",
       "\t<tr><td>chr1</td><td> 3730</td><td> 7399</td><td>chr1-3730-7399-dreg       </td><td>3669</td><td>0</td><td>0</td><td>0</td><td>0</td><td>0</td><td>⋯</td><td>0</td><td>0</td><td>0</td><td>0</td><td>0</td><td>0</td><td>0</td><td>0</td><td>0</td><td>0</td></tr>\n",
       "\t<tr><td>chr1</td><td>30880</td><td>31054</td><td>chr1-30880-31054-tfit     </td><td> 174</td><td>0</td><td>0</td><td>0</td><td>0</td><td>0</td><td>⋯</td><td>0</td><td>0</td><td>0</td><td>0</td><td>2</td><td>0</td><td>0</td><td>0</td><td>0</td><td>0</td></tr>\n",
       "\t<tr><td>chr1</td><td>32579</td><td>33067</td><td>chr1-32579-33067-dreg     </td><td> 488</td><td>0</td><td>0</td><td>0</td><td>0</td><td>0</td><td>⋯</td><td>0</td><td>0</td><td>0</td><td>0</td><td>0</td><td>0</td><td>0</td><td>0</td><td>0</td><td>0</td></tr>\n",
       "\t<tr><td>chr1</td><td>38767</td><td>38965</td><td>chr1-38767-38965-tfit,dreg</td><td> 198</td><td>0</td><td>0</td><td>0</td><td>0</td><td>0</td><td>⋯</td><td>0</td><td>0</td><td>0</td><td>0</td><td>0</td><td>0</td><td>0</td><td>0</td><td>0</td><td>0</td></tr>\n",
       "\t<tr><td>chr1</td><td>41386</td><td>41764</td><td>chr1-41386-41764-dreg     </td><td> 378</td><td>0</td><td>0</td><td>0</td><td>0</td><td>0</td><td>⋯</td><td>0</td><td>0</td><td>0</td><td>0</td><td>0</td><td>0</td><td>0</td><td>0</td><td>0</td><td>0</td></tr>\n",
       "\t<tr><td>chr1</td><td>46614</td><td>47042</td><td>chr1-46614-47042-dreg     </td><td> 428</td><td>0</td><td>0</td><td>0</td><td>0</td><td>0</td><td>⋯</td><td>0</td><td>0</td><td>0</td><td>0</td><td>0</td><td>0</td><td>1</td><td>0</td><td>0</td><td>0</td></tr>\n",
       "</tbody>\n",
       "</table>\n"
      ],
      "text/latex": [
       "A data.table: 6 × 885\n",
       "\\begin{tabular}{lllllllllllllllllllll}\n",
       " chromosome & start & end & Geneid & Length & SRZ1950491 & SRZ1950493 & SRZ1950495 & SRZ1950497 & SRZ1950499 & ⋯ & SRR9833433 & SRZ9833428 & SRZ9833431 & SRZ9833434 & SRR11793825 & SRR11793826 & SRR11793827 & SRR11793828 & SRR11793829 & SRR11793830\\\\\n",
       " <chr> & <int> & <int> & <chr> & <int> & <int> & <int> & <int> & <int> & <int> & ⋯ & <int> & <int> & <int> & <int> & <int> & <int> & <int> & <int> & <int> & <int>\\\\\n",
       "\\hline\n",
       "\t chr1 &  3730 &  7399 & chr1-3730-7399-dreg        & 3669 & 0 & 0 & 0 & 0 & 0 & ⋯ & 0 & 0 & 0 & 0 & 0 & 0 & 0 & 0 & 0 & 0\\\\\n",
       "\t chr1 & 30880 & 31054 & chr1-30880-31054-tfit      &  174 & 0 & 0 & 0 & 0 & 0 & ⋯ & 0 & 0 & 0 & 0 & 2 & 0 & 0 & 0 & 0 & 0\\\\\n",
       "\t chr1 & 32579 & 33067 & chr1-32579-33067-dreg      &  488 & 0 & 0 & 0 & 0 & 0 & ⋯ & 0 & 0 & 0 & 0 & 0 & 0 & 0 & 0 & 0 & 0\\\\\n",
       "\t chr1 & 38767 & 38965 & chr1-38767-38965-tfit,dreg &  198 & 0 & 0 & 0 & 0 & 0 & ⋯ & 0 & 0 & 0 & 0 & 0 & 0 & 0 & 0 & 0 & 0\\\\\n",
       "\t chr1 & 41386 & 41764 & chr1-41386-41764-dreg      &  378 & 0 & 0 & 0 & 0 & 0 & ⋯ & 0 & 0 & 0 & 0 & 0 & 0 & 0 & 0 & 0 & 0\\\\\n",
       "\t chr1 & 46614 & 47042 & chr1-46614-47042-dreg      &  428 & 0 & 0 & 0 & 0 & 0 & ⋯ & 0 & 0 & 0 & 0 & 0 & 0 & 1 & 0 & 0 & 0\\\\\n",
       "\\end{tabular}\n"
      ],
      "text/markdown": [
       "\n",
       "A data.table: 6 × 885\n",
       "\n",
       "| chromosome &lt;chr&gt; | start &lt;int&gt; | end &lt;int&gt; | Geneid &lt;chr&gt; | Length &lt;int&gt; | SRZ1950491 &lt;int&gt; | SRZ1950493 &lt;int&gt; | SRZ1950495 &lt;int&gt; | SRZ1950497 &lt;int&gt; | SRZ1950499 &lt;int&gt; | ⋯ ⋯ | SRR9833433 &lt;int&gt; | SRZ9833428 &lt;int&gt; | SRZ9833431 &lt;int&gt; | SRZ9833434 &lt;int&gt; | SRR11793825 &lt;int&gt; | SRR11793826 &lt;int&gt; | SRR11793827 &lt;int&gt; | SRR11793828 &lt;int&gt; | SRR11793829 &lt;int&gt; | SRR11793830 &lt;int&gt; |\n",
       "|---|---|---|---|---|---|---|---|---|---|---|---|---|---|---|---|---|---|---|---|---|\n",
       "| chr1 |  3730 |  7399 | chr1-3730-7399-dreg        | 3669 | 0 | 0 | 0 | 0 | 0 | ⋯ | 0 | 0 | 0 | 0 | 0 | 0 | 0 | 0 | 0 | 0 |\n",
       "| chr1 | 30880 | 31054 | chr1-30880-31054-tfit      |  174 | 0 | 0 | 0 | 0 | 0 | ⋯ | 0 | 0 | 0 | 0 | 2 | 0 | 0 | 0 | 0 | 0 |\n",
       "| chr1 | 32579 | 33067 | chr1-32579-33067-dreg      |  488 | 0 | 0 | 0 | 0 | 0 | ⋯ | 0 | 0 | 0 | 0 | 0 | 0 | 0 | 0 | 0 | 0 |\n",
       "| chr1 | 38767 | 38965 | chr1-38767-38965-tfit,dreg |  198 | 0 | 0 | 0 | 0 | 0 | ⋯ | 0 | 0 | 0 | 0 | 0 | 0 | 0 | 0 | 0 | 0 |\n",
       "| chr1 | 41386 | 41764 | chr1-41386-41764-dreg      |  378 | 0 | 0 | 0 | 0 | 0 | ⋯ | 0 | 0 | 0 | 0 | 0 | 0 | 0 | 0 | 0 | 0 |\n",
       "| chr1 | 46614 | 47042 | chr1-46614-47042-dreg      |  428 | 0 | 0 | 0 | 0 | 0 | ⋯ | 0 | 0 | 0 | 0 | 0 | 0 | 1 | 0 | 0 | 0 |\n",
       "\n"
      ],
      "text/plain": [
       "  chromosome start end   Geneid                     Length SRZ1950491\n",
       "1 chr1        3730  7399 chr1-3730-7399-dreg        3669   0         \n",
       "2 chr1       30880 31054 chr1-30880-31054-tfit       174   0         \n",
       "3 chr1       32579 33067 chr1-32579-33067-dreg       488   0         \n",
       "4 chr1       38767 38965 chr1-38767-38965-tfit,dreg  198   0         \n",
       "5 chr1       41386 41764 chr1-41386-41764-dreg       378   0         \n",
       "6 chr1       46614 47042 chr1-46614-47042-dreg       428   0         \n",
       "  SRZ1950493 SRZ1950495 SRZ1950497 SRZ1950499 ⋯ SRR9833433 SRZ9833428\n",
       "1 0          0          0          0          ⋯ 0          0         \n",
       "2 0          0          0          0          ⋯ 0          0         \n",
       "3 0          0          0          0          ⋯ 0          0         \n",
       "4 0          0          0          0          ⋯ 0          0         \n",
       "5 0          0          0          0          ⋯ 0          0         \n",
       "6 0          0          0          0          ⋯ 0          0         \n",
       "  SRZ9833431 SRZ9833434 SRR11793825 SRR11793826 SRR11793827 SRR11793828\n",
       "1 0          0          0           0           0           0          \n",
       "2 0          0          2           0           0           0          \n",
       "3 0          0          0           0           0           0          \n",
       "4 0          0          0           0           0           0          \n",
       "5 0          0          0           0           0           0          \n",
       "6 0          0          0           0           1           0          \n",
       "  SRR11793829 SRR11793830\n",
       "1 0           0          \n",
       "2 0           0          \n",
       "3 0           0          \n",
       "4 0           0          \n",
       "5 0           0          \n",
       "6 0           0          "
      ]
     },
     "metadata": {},
     "output_type": "display_data"
    }
   ],
   "source": [
    "head(counts_bidirs_noProGene[,c(1:3,5,4,8:887)])"
   ]
  },
  {
   "cell_type": "code",
   "execution_count": 31,
   "metadata": {},
   "outputs": [
    {
     "data": {
      "text/html": [
       "<table class=\"dataframe\">\n",
       "<caption>A data.table: 6 × 885</caption>\n",
       "<thead>\n",
       "\t<tr><th scope=col>chromosome</th><th scope=col>start</th><th scope=col>end</th><th scope=col>GeneID</th><th scope=col>Length</th><th scope=col>SRZ1950491</th><th scope=col>SRZ1950493</th><th scope=col>SRZ1950495</th><th scope=col>SRZ1950497</th><th scope=col>SRZ1950499</th><th scope=col>⋯</th><th scope=col>SRR9833433</th><th scope=col>SRZ9833428</th><th scope=col>SRZ9833431</th><th scope=col>SRZ9833434</th><th scope=col>SRR11793825</th><th scope=col>SRR11793826</th><th scope=col>SRR11793827</th><th scope=col>SRR11793828</th><th scope=col>SRR11793829</th><th scope=col>SRR11793830</th></tr>\n",
       "\t<tr><th scope=col>&lt;chr&gt;</th><th scope=col>&lt;int&gt;</th><th scope=col>&lt;int&gt;</th><th scope=col>&lt;chr&gt;</th><th scope=col>&lt;int&gt;</th><th scope=col>&lt;int&gt;</th><th scope=col>&lt;int&gt;</th><th scope=col>&lt;int&gt;</th><th scope=col>&lt;int&gt;</th><th scope=col>&lt;int&gt;</th><th scope=col>⋯</th><th scope=col>&lt;int&gt;</th><th scope=col>&lt;int&gt;</th><th scope=col>&lt;int&gt;</th><th scope=col>&lt;int&gt;</th><th scope=col>&lt;int&gt;</th><th scope=col>&lt;int&gt;</th><th scope=col>&lt;int&gt;</th><th scope=col>&lt;int&gt;</th><th scope=col>&lt;int&gt;</th><th scope=col>&lt;int&gt;</th></tr>\n",
       "</thead>\n",
       "<tbody>\n",
       "\t<tr><td>chr1 </td><td> 77562416</td><td> 77682658</td><td>ZZZ3  </td><td>120243</td><td>3327</td><td>4046</td><td>3113</td><td>3232</td><td>3944</td><td>⋯</td><td>1719</td><td>15138</td><td>3474</td><td>3910</td><td>613</td><td>862</td><td>3035</td><td>2741</td><td>636</td><td>2503</td></tr>\n",
       "\t<tr><td>chr17</td><td>  4004445</td><td>  4143030</td><td>ZZEF1 </td><td>138586</td><td>1963</td><td>2068</td><td>2066</td><td>1991</td><td>2687</td><td>⋯</td><td>1380</td><td> 6963</td><td>2774</td><td>3190</td><td>545</td><td>715</td><td>2303</td><td>1906</td><td>649</td><td>1834</td></tr>\n",
       "\t<tr><td>chr7 </td><td>143381345</td><td>143391111</td><td>ZYX   </td><td>  9767</td><td>  71</td><td>  42</td><td>  19</td><td>  20</td><td>  45</td><td>⋯</td><td> 857</td><td> 3315</td><td>1185</td><td>2507</td><td>143</td><td>177</td><td> 363</td><td> 345</td><td>123</td><td> 287</td></tr>\n",
       "\t<tr><td>chr1 </td><td> 52726453</td><td> 52827336</td><td>ZYG11B</td><td>100884</td><td>1111</td><td>1087</td><td> 723</td><td> 828</td><td>1179</td><td>⋯</td><td>2300</td><td> 3676</td><td>4196</td><td>1716</td><td>375</td><td>500</td><td>1563</td><td>1332</td><td>449</td><td>1318</td></tr>\n",
       "\t<tr><td>chr1 </td><td> 52842760</td><td> 52894995</td><td>ZYG11A</td><td> 52236</td><td>   6</td><td>   0</td><td>   2</td><td>   2</td><td>   3</td><td>⋯</td><td> 632</td><td>  892</td><td>1056</td><td> 591</td><td>303</td><td>434</td><td>1354</td><td>1164</td><td>457</td><td>1239</td></tr>\n",
       "\t<tr><td>chr3 </td><td>126458901</td><td>126475919</td><td>ZXDC  </td><td> 17019</td><td> 391</td><td> 375</td><td> 349</td><td> 320</td><td> 495</td><td>⋯</td><td>1961</td><td> 1947</td><td>3550</td><td>2675</td><td>101</td><td>102</td><td> 291</td><td> 265</td><td> 95</td><td> 302</td></tr>\n",
       "</tbody>\n",
       "</table>\n"
      ],
      "text/latex": [
       "A data.table: 6 × 885\n",
       "\\begin{tabular}{lllllllllllllllllllll}\n",
       " chromosome & start & end & GeneID & Length & SRZ1950491 & SRZ1950493 & SRZ1950495 & SRZ1950497 & SRZ1950499 & ⋯ & SRR9833433 & SRZ9833428 & SRZ9833431 & SRZ9833434 & SRR11793825 & SRR11793826 & SRR11793827 & SRR11793828 & SRR11793829 & SRR11793830\\\\\n",
       " <chr> & <int> & <int> & <chr> & <int> & <int> & <int> & <int> & <int> & <int> & ⋯ & <int> & <int> & <int> & <int> & <int> & <int> & <int> & <int> & <int> & <int>\\\\\n",
       "\\hline\n",
       "\t chr1  &  77562416 &  77682658 & ZZZ3   & 120243 & 3327 & 4046 & 3113 & 3232 & 3944 & ⋯ & 1719 & 15138 & 3474 & 3910 & 613 & 862 & 3035 & 2741 & 636 & 2503\\\\\n",
       "\t chr17 &   4004445 &   4143030 & ZZEF1  & 138586 & 1963 & 2068 & 2066 & 1991 & 2687 & ⋯ & 1380 &  6963 & 2774 & 3190 & 545 & 715 & 2303 & 1906 & 649 & 1834\\\\\n",
       "\t chr7  & 143381345 & 143391111 & ZYX    &   9767 &   71 &   42 &   19 &   20 &   45 & ⋯ &  857 &  3315 & 1185 & 2507 & 143 & 177 &  363 &  345 & 123 &  287\\\\\n",
       "\t chr1  &  52726453 &  52827336 & ZYG11B & 100884 & 1111 & 1087 &  723 &  828 & 1179 & ⋯ & 2300 &  3676 & 4196 & 1716 & 375 & 500 & 1563 & 1332 & 449 & 1318\\\\\n",
       "\t chr1  &  52842760 &  52894995 & ZYG11A &  52236 &    6 &    0 &    2 &    2 &    3 & ⋯ &  632 &   892 & 1056 &  591 & 303 & 434 & 1354 & 1164 & 457 & 1239\\\\\n",
       "\t chr3  & 126458901 & 126475919 & ZXDC   &  17019 &  391 &  375 &  349 &  320 &  495 & ⋯ & 1961 &  1947 & 3550 & 2675 & 101 & 102 &  291 &  265 &  95 &  302\\\\\n",
       "\\end{tabular}\n"
      ],
      "text/markdown": [
       "\n",
       "A data.table: 6 × 885\n",
       "\n",
       "| chromosome &lt;chr&gt; | start &lt;int&gt; | end &lt;int&gt; | GeneID &lt;chr&gt; | Length &lt;int&gt; | SRZ1950491 &lt;int&gt; | SRZ1950493 &lt;int&gt; | SRZ1950495 &lt;int&gt; | SRZ1950497 &lt;int&gt; | SRZ1950499 &lt;int&gt; | ⋯ ⋯ | SRR9833433 &lt;int&gt; | SRZ9833428 &lt;int&gt; | SRZ9833431 &lt;int&gt; | SRZ9833434 &lt;int&gt; | SRR11793825 &lt;int&gt; | SRR11793826 &lt;int&gt; | SRR11793827 &lt;int&gt; | SRR11793828 &lt;int&gt; | SRR11793829 &lt;int&gt; | SRR11793830 &lt;int&gt; |\n",
       "|---|---|---|---|---|---|---|---|---|---|---|---|---|---|---|---|---|---|---|---|---|\n",
       "| chr1  |  77562416 |  77682658 | ZZZ3   | 120243 | 3327 | 4046 | 3113 | 3232 | 3944 | ⋯ | 1719 | 15138 | 3474 | 3910 | 613 | 862 | 3035 | 2741 | 636 | 2503 |\n",
       "| chr17 |   4004445 |   4143030 | ZZEF1  | 138586 | 1963 | 2068 | 2066 | 1991 | 2687 | ⋯ | 1380 |  6963 | 2774 | 3190 | 545 | 715 | 2303 | 1906 | 649 | 1834 |\n",
       "| chr7  | 143381345 | 143391111 | ZYX    |   9767 |   71 |   42 |   19 |   20 |   45 | ⋯ |  857 |  3315 | 1185 | 2507 | 143 | 177 |  363 |  345 | 123 |  287 |\n",
       "| chr1  |  52726453 |  52827336 | ZYG11B | 100884 | 1111 | 1087 |  723 |  828 | 1179 | ⋯ | 2300 |  3676 | 4196 | 1716 | 375 | 500 | 1563 | 1332 | 449 | 1318 |\n",
       "| chr1  |  52842760 |  52894995 | ZYG11A |  52236 |    6 |    0 |    2 |    2 |    3 | ⋯ |  632 |   892 | 1056 |  591 | 303 | 434 | 1354 | 1164 | 457 | 1239 |\n",
       "| chr3  | 126458901 | 126475919 | ZXDC   |  17019 |  391 |  375 |  349 |  320 |  495 | ⋯ | 1961 |  1947 | 3550 | 2675 | 101 | 102 |  291 |  265 |  95 |  302 |\n",
       "\n"
      ],
      "text/plain": [
       "  chromosome start     end       GeneID Length SRZ1950491 SRZ1950493 SRZ1950495\n",
       "1 chr1        77562416  77682658 ZZZ3   120243 3327       4046       3113      \n",
       "2 chr17        4004445   4143030 ZZEF1  138586 1963       2068       2066      \n",
       "3 chr7       143381345 143391111 ZYX      9767   71         42         19      \n",
       "4 chr1        52726453  52827336 ZYG11B 100884 1111       1087        723      \n",
       "5 chr1        52842760  52894995 ZYG11A  52236    6          0          2      \n",
       "6 chr3       126458901 126475919 ZXDC    17019  391        375        349      \n",
       "  SRZ1950497 SRZ1950499 ⋯ SRR9833433 SRZ9833428 SRZ9833431 SRZ9833434\n",
       "1 3232       3944       ⋯ 1719       15138      3474       3910      \n",
       "2 1991       2687       ⋯ 1380        6963      2774       3190      \n",
       "3   20         45       ⋯  857        3315      1185       2507      \n",
       "4  828       1179       ⋯ 2300        3676      4196       1716      \n",
       "5    2          3       ⋯  632         892      1056        591      \n",
       "6  320        495       ⋯ 1961        1947      3550       2675      \n",
       "  SRR11793825 SRR11793826 SRR11793827 SRR11793828 SRR11793829 SRR11793830\n",
       "1 613         862         3035        2741        636         2503       \n",
       "2 545         715         2303        1906        649         1834       \n",
       "3 143         177          363         345        123          287       \n",
       "4 375         500         1563        1332        449         1318       \n",
       "5 303         434         1354        1164        457         1239       \n",
       "6 101         102          291         265         95          302       "
      ]
     },
     "metadata": {},
     "output_type": "display_data"
    }
   ],
   "source": [
    "head(counts_genes[,c(2:4,1,8,9:888)])"
   ]
  },
  {
   "cell_type": "markdown",
   "metadata": {},
   "source": [
    "### Full length genes & bidirectetionals"
   ]
  },
  {
   "cell_type": "code",
   "execution_count": 32,
   "metadata": {},
   "outputs": [
    {
     "data": {
      "text/html": [
       "<table class=\"dataframe\">\n",
       "<caption>A data.frame: 6 × 885</caption>\n",
       "<thead>\n",
       "\t<tr><th></th><th scope=col>chromosome</th><th scope=col>start</th><th scope=col>end</th><th scope=col>GeneID</th><th scope=col>Length</th><th scope=col>SRZ1950491</th><th scope=col>SRZ1950493</th><th scope=col>SRZ1950495</th><th scope=col>SRZ1950497</th><th scope=col>SRZ1950499</th><th scope=col>⋯</th><th scope=col>SRR9833433</th><th scope=col>SRZ9833428</th><th scope=col>SRZ9833431</th><th scope=col>SRZ9833434</th><th scope=col>SRR11793825</th><th scope=col>SRR11793826</th><th scope=col>SRR11793827</th><th scope=col>SRR11793828</th><th scope=col>SRR11793829</th><th scope=col>SRR11793830</th></tr>\n",
       "\t<tr><th></th><th scope=col>&lt;chr&gt;</th><th scope=col>&lt;int&gt;</th><th scope=col>&lt;int&gt;</th><th scope=col>&lt;chr&gt;</th><th scope=col>&lt;int&gt;</th><th scope=col>&lt;int&gt;</th><th scope=col>&lt;int&gt;</th><th scope=col>&lt;int&gt;</th><th scope=col>&lt;int&gt;</th><th scope=col>&lt;int&gt;</th><th scope=col>⋯</th><th scope=col>&lt;int&gt;</th><th scope=col>&lt;int&gt;</th><th scope=col>&lt;int&gt;</th><th scope=col>&lt;int&gt;</th><th scope=col>&lt;int&gt;</th><th scope=col>&lt;int&gt;</th><th scope=col>&lt;int&gt;</th><th scope=col>&lt;int&gt;</th><th scope=col>&lt;int&gt;</th><th scope=col>&lt;int&gt;</th></tr>\n",
       "</thead>\n",
       "<tbody>\n",
       "\t<tr><th scope=row>1</th><td>chr1 </td><td> 77562416</td><td> 77682658</td><td>ZZZ3  </td><td>120243</td><td>3327</td><td>4046</td><td>3113</td><td>3232</td><td>3944</td><td>⋯</td><td>1719</td><td>15138</td><td>3474</td><td>3910</td><td>613</td><td>862</td><td>3035</td><td>2741</td><td>636</td><td>2503</td></tr>\n",
       "\t<tr><th scope=row>2</th><td>chr17</td><td>  4004445</td><td>  4143030</td><td>ZZEF1 </td><td>138586</td><td>1963</td><td>2068</td><td>2066</td><td>1991</td><td>2687</td><td>⋯</td><td>1380</td><td> 6963</td><td>2774</td><td>3190</td><td>545</td><td>715</td><td>2303</td><td>1906</td><td>649</td><td>1834</td></tr>\n",
       "\t<tr><th scope=row>3</th><td>chr7 </td><td>143381345</td><td>143391111</td><td>ZYX   </td><td>  9767</td><td>  71</td><td>  42</td><td>  19</td><td>  20</td><td>  45</td><td>⋯</td><td> 857</td><td> 3315</td><td>1185</td><td>2507</td><td>143</td><td>177</td><td> 363</td><td> 345</td><td>123</td><td> 287</td></tr>\n",
       "\t<tr><th scope=row>4</th><td>chr1 </td><td> 52726453</td><td> 52827336</td><td>ZYG11B</td><td>100884</td><td>1111</td><td>1087</td><td> 723</td><td> 828</td><td>1179</td><td>⋯</td><td>2300</td><td> 3676</td><td>4196</td><td>1716</td><td>375</td><td>500</td><td>1563</td><td>1332</td><td>449</td><td>1318</td></tr>\n",
       "\t<tr><th scope=row>5</th><td>chr1 </td><td> 52842760</td><td> 52894995</td><td>ZYG11A</td><td> 52236</td><td>   6</td><td>   0</td><td>   2</td><td>   2</td><td>   3</td><td>⋯</td><td> 632</td><td>  892</td><td>1056</td><td> 591</td><td>303</td><td>434</td><td>1354</td><td>1164</td><td>457</td><td>1239</td></tr>\n",
       "\t<tr><th scope=row>6</th><td>chr3 </td><td>126458901</td><td>126475919</td><td>ZXDC  </td><td> 17019</td><td> 391</td><td> 375</td><td> 349</td><td> 320</td><td> 495</td><td>⋯</td><td>1961</td><td> 1947</td><td>3550</td><td>2675</td><td>101</td><td>102</td><td> 291</td><td> 265</td><td> 95</td><td> 302</td></tr>\n",
       "</tbody>\n",
       "</table>\n"
      ],
      "text/latex": [
       "A data.frame: 6 × 885\n",
       "\\begin{tabular}{r|lllllllllllllllllllll}\n",
       "  & chromosome & start & end & GeneID & Length & SRZ1950491 & SRZ1950493 & SRZ1950495 & SRZ1950497 & SRZ1950499 & ⋯ & SRR9833433 & SRZ9833428 & SRZ9833431 & SRZ9833434 & SRR11793825 & SRR11793826 & SRR11793827 & SRR11793828 & SRR11793829 & SRR11793830\\\\\n",
       "  & <chr> & <int> & <int> & <chr> & <int> & <int> & <int> & <int> & <int> & <int> & ⋯ & <int> & <int> & <int> & <int> & <int> & <int> & <int> & <int> & <int> & <int>\\\\\n",
       "\\hline\n",
       "\t1 & chr1  &  77562416 &  77682658 & ZZZ3   & 120243 & 3327 & 4046 & 3113 & 3232 & 3944 & ⋯ & 1719 & 15138 & 3474 & 3910 & 613 & 862 & 3035 & 2741 & 636 & 2503\\\\\n",
       "\t2 & chr17 &   4004445 &   4143030 & ZZEF1  & 138586 & 1963 & 2068 & 2066 & 1991 & 2687 & ⋯ & 1380 &  6963 & 2774 & 3190 & 545 & 715 & 2303 & 1906 & 649 & 1834\\\\\n",
       "\t3 & chr7  & 143381345 & 143391111 & ZYX    &   9767 &   71 &   42 &   19 &   20 &   45 & ⋯ &  857 &  3315 & 1185 & 2507 & 143 & 177 &  363 &  345 & 123 &  287\\\\\n",
       "\t4 & chr1  &  52726453 &  52827336 & ZYG11B & 100884 & 1111 & 1087 &  723 &  828 & 1179 & ⋯ & 2300 &  3676 & 4196 & 1716 & 375 & 500 & 1563 & 1332 & 449 & 1318\\\\\n",
       "\t5 & chr1  &  52842760 &  52894995 & ZYG11A &  52236 &    6 &    0 &    2 &    2 &    3 & ⋯ &  632 &   892 & 1056 &  591 & 303 & 434 & 1354 & 1164 & 457 & 1239\\\\\n",
       "\t6 & chr3  & 126458901 & 126475919 & ZXDC   &  17019 &  391 &  375 &  349 &  320 &  495 & ⋯ & 1961 &  1947 & 3550 & 2675 & 101 & 102 &  291 &  265 &  95 &  302\\\\\n",
       "\\end{tabular}\n"
      ],
      "text/markdown": [
       "\n",
       "A data.frame: 6 × 885\n",
       "\n",
       "| <!--/--> | chromosome &lt;chr&gt; | start &lt;int&gt; | end &lt;int&gt; | GeneID &lt;chr&gt; | Length &lt;int&gt; | SRZ1950491 &lt;int&gt; | SRZ1950493 &lt;int&gt; | SRZ1950495 &lt;int&gt; | SRZ1950497 &lt;int&gt; | SRZ1950499 &lt;int&gt; | ⋯ ⋯ | SRR9833433 &lt;int&gt; | SRZ9833428 &lt;int&gt; | SRZ9833431 &lt;int&gt; | SRZ9833434 &lt;int&gt; | SRR11793825 &lt;int&gt; | SRR11793826 &lt;int&gt; | SRR11793827 &lt;int&gt; | SRR11793828 &lt;int&gt; | SRR11793829 &lt;int&gt; | SRR11793830 &lt;int&gt; |\n",
       "|---|---|---|---|---|---|---|---|---|---|---|---|---|---|---|---|---|---|---|---|---|---|\n",
       "| 1 | chr1  |  77562416 |  77682658 | ZZZ3   | 120243 | 3327 | 4046 | 3113 | 3232 | 3944 | ⋯ | 1719 | 15138 | 3474 | 3910 | 613 | 862 | 3035 | 2741 | 636 | 2503 |\n",
       "| 2 | chr17 |   4004445 |   4143030 | ZZEF1  | 138586 | 1963 | 2068 | 2066 | 1991 | 2687 | ⋯ | 1380 |  6963 | 2774 | 3190 | 545 | 715 | 2303 | 1906 | 649 | 1834 |\n",
       "| 3 | chr7  | 143381345 | 143391111 | ZYX    |   9767 |   71 |   42 |   19 |   20 |   45 | ⋯ |  857 |  3315 | 1185 | 2507 | 143 | 177 |  363 |  345 | 123 |  287 |\n",
       "| 4 | chr1  |  52726453 |  52827336 | ZYG11B | 100884 | 1111 | 1087 |  723 |  828 | 1179 | ⋯ | 2300 |  3676 | 4196 | 1716 | 375 | 500 | 1563 | 1332 | 449 | 1318 |\n",
       "| 5 | chr1  |  52842760 |  52894995 | ZYG11A |  52236 |    6 |    0 |    2 |    2 |    3 | ⋯ |  632 |   892 | 1056 |  591 | 303 | 434 | 1354 | 1164 | 457 | 1239 |\n",
       "| 6 | chr3  | 126458901 | 126475919 | ZXDC   |  17019 |  391 |  375 |  349 |  320 |  495 | ⋯ | 1961 |  1947 | 3550 | 2675 | 101 | 102 |  291 |  265 |  95 |  302 |\n",
       "\n"
      ],
      "text/plain": [
       "  chromosome start     end       GeneID Length SRZ1950491 SRZ1950493 SRZ1950495\n",
       "1 chr1        77562416  77682658 ZZZ3   120243 3327       4046       3113      \n",
       "2 chr17        4004445   4143030 ZZEF1  138586 1963       2068       2066      \n",
       "3 chr7       143381345 143391111 ZYX      9767   71         42         19      \n",
       "4 chr1        52726453  52827336 ZYG11B 100884 1111       1087        723      \n",
       "5 chr1        52842760  52894995 ZYG11A  52236    6          0          2      \n",
       "6 chr3       126458901 126475919 ZXDC    17019  391        375        349      \n",
       "  SRZ1950497 SRZ1950499 ⋯ SRR9833433 SRZ9833428 SRZ9833431 SRZ9833434\n",
       "1 3232       3944       ⋯ 1719       15138      3474       3910      \n",
       "2 1991       2687       ⋯ 1380        6963      2774       3190      \n",
       "3   20         45       ⋯  857        3315      1185       2507      \n",
       "4  828       1179       ⋯ 2300        3676      4196       1716      \n",
       "5    2          3       ⋯  632         892      1056        591      \n",
       "6  320        495       ⋯ 1961        1947      3550       2675      \n",
       "  SRR11793825 SRR11793826 SRR11793827 SRR11793828 SRR11793829 SRR11793830\n",
       "1 613         862         3035        2741        636         2503       \n",
       "2 545         715         2303        1906        649         1834       \n",
       "3 143         177          363         345        123          287       \n",
       "4 375         500         1563        1332        449         1318       \n",
       "5 303         434         1354        1164        457         1239       \n",
       "6 101         102          291         265         95          302       "
      ]
     },
     "metadata": {},
     "output_type": "display_data"
    },
    {
     "data": {
      "text/html": [
       "<style>\n",
       ".list-inline {list-style: none; margin:0; padding: 0}\n",
       ".list-inline>li {display: inline-block}\n",
       ".list-inline>li:not(:last-child)::after {content: \"\\00b7\"; padding: 0 .5ex}\n",
       "</style>\n",
       "<ol class=list-inline><li>284012</li><li>885</li></ol>\n"
      ],
      "text/latex": [
       "\\begin{enumerate*}\n",
       "\\item 284012\n",
       "\\item 885\n",
       "\\end{enumerate*}\n"
      ],
      "text/markdown": [
       "1. 284012\n",
       "2. 885\n",
       "\n",
       "\n"
      ],
      "text/plain": [
       "[1] 284012    885"
      ]
     },
     "metadata": {},
     "output_type": "display_data"
    }
   ],
   "source": [
    "counts_bidir_genes <- as.data.frame(rbind(counts_genes[,c(2:4,1,8,9:888)], \n",
    "                                          counts_bidirs_noProGene[,c(1:3,5,4,8:887)],\n",
    "                                         use.names=FALSE))\n",
    "head(counts_bidir_genes)\n",
    "dim(counts_bidir_genes)"
   ]
  },
  {
   "cell_type": "code",
   "execution_count": 33,
   "metadata": {},
   "outputs": [
    {
     "data": {
      "text/html": [
       "<table class=\"dataframe\">\n",
       "<caption>A data.frame: 6 × 885</caption>\n",
       "<thead>\n",
       "\t<tr><th></th><th scope=col>chromosome</th><th scope=col>start</th><th scope=col>end</th><th scope=col>GeneID</th><th scope=col>Length</th><th scope=col>SRZ1950491</th><th scope=col>SRZ1950493</th><th scope=col>SRZ1950495</th><th scope=col>SRZ1950497</th><th scope=col>SRZ1950499</th><th scope=col>⋯</th><th scope=col>SRR9833433</th><th scope=col>SRZ9833428</th><th scope=col>SRZ9833431</th><th scope=col>SRZ9833434</th><th scope=col>SRR11793825</th><th scope=col>SRR11793826</th><th scope=col>SRR11793827</th><th scope=col>SRR11793828</th><th scope=col>SRR11793829</th><th scope=col>SRR11793830</th></tr>\n",
       "\t<tr><th></th><th scope=col>&lt;chr&gt;</th><th scope=col>&lt;int&gt;</th><th scope=col>&lt;int&gt;</th><th scope=col>&lt;chr&gt;</th><th scope=col>&lt;int&gt;</th><th scope=col>&lt;int&gt;</th><th scope=col>&lt;int&gt;</th><th scope=col>&lt;int&gt;</th><th scope=col>&lt;int&gt;</th><th scope=col>&lt;int&gt;</th><th scope=col>⋯</th><th scope=col>&lt;int&gt;</th><th scope=col>&lt;int&gt;</th><th scope=col>&lt;int&gt;</th><th scope=col>&lt;int&gt;</th><th scope=col>&lt;int&gt;</th><th scope=col>&lt;int&gt;</th><th scope=col>&lt;int&gt;</th><th scope=col>&lt;int&gt;</th><th scope=col>&lt;int&gt;</th><th scope=col>&lt;int&gt;</th></tr>\n",
       "</thead>\n",
       "<tbody>\n",
       "\t<tr><th scope=row>1</th><td>chr1 </td><td> 77562416</td><td> 77682658</td><td>ZZZ3  </td><td>120243</td><td>3327</td><td>4046</td><td>3113</td><td>3232</td><td>3944</td><td>⋯</td><td>1719</td><td>15138</td><td>3474</td><td>3910</td><td>613</td><td>862</td><td>3035</td><td>2741</td><td>636</td><td>2503</td></tr>\n",
       "\t<tr><th scope=row>2</th><td>chr17</td><td>  4004445</td><td>  4143030</td><td>ZZEF1 </td><td>138586</td><td>1963</td><td>2068</td><td>2066</td><td>1991</td><td>2687</td><td>⋯</td><td>1380</td><td> 6963</td><td>2774</td><td>3190</td><td>545</td><td>715</td><td>2303</td><td>1906</td><td>649</td><td>1834</td></tr>\n",
       "\t<tr><th scope=row>3</th><td>chr7 </td><td>143381345</td><td>143391111</td><td>ZYX   </td><td>  9767</td><td>  71</td><td>  42</td><td>  19</td><td>  20</td><td>  45</td><td>⋯</td><td> 857</td><td> 3315</td><td>1185</td><td>2507</td><td>143</td><td>177</td><td> 363</td><td> 345</td><td>123</td><td> 287</td></tr>\n",
       "\t<tr><th scope=row>4</th><td>chr1 </td><td> 52726453</td><td> 52827336</td><td>ZYG11B</td><td>100884</td><td>1111</td><td>1087</td><td> 723</td><td> 828</td><td>1179</td><td>⋯</td><td>2300</td><td> 3676</td><td>4196</td><td>1716</td><td>375</td><td>500</td><td>1563</td><td>1332</td><td>449</td><td>1318</td></tr>\n",
       "\t<tr><th scope=row>5</th><td>chr1 </td><td> 52842760</td><td> 52894995</td><td>ZYG11A</td><td> 52236</td><td>   6</td><td>   0</td><td>   2</td><td>   2</td><td>   3</td><td>⋯</td><td> 632</td><td>  892</td><td>1056</td><td> 591</td><td>303</td><td>434</td><td>1354</td><td>1164</td><td>457</td><td>1239</td></tr>\n",
       "\t<tr><th scope=row>6</th><td>chr3 </td><td>126458901</td><td>126475919</td><td>ZXDC  </td><td> 17019</td><td> 391</td><td> 375</td><td> 349</td><td> 320</td><td> 495</td><td>⋯</td><td>1961</td><td> 1947</td><td>3550</td><td>2675</td><td>101</td><td>102</td><td> 291</td><td> 265</td><td> 95</td><td> 302</td></tr>\n",
       "</tbody>\n",
       "</table>\n"
      ],
      "text/latex": [
       "A data.frame: 6 × 885\n",
       "\\begin{tabular}{r|lllllllllllllllllllll}\n",
       "  & chromosome & start & end & GeneID & Length & SRZ1950491 & SRZ1950493 & SRZ1950495 & SRZ1950497 & SRZ1950499 & ⋯ & SRR9833433 & SRZ9833428 & SRZ9833431 & SRZ9833434 & SRR11793825 & SRR11793826 & SRR11793827 & SRR11793828 & SRR11793829 & SRR11793830\\\\\n",
       "  & <chr> & <int> & <int> & <chr> & <int> & <int> & <int> & <int> & <int> & <int> & ⋯ & <int> & <int> & <int> & <int> & <int> & <int> & <int> & <int> & <int> & <int>\\\\\n",
       "\\hline\n",
       "\t1 & chr1  &  77562416 &  77682658 & ZZZ3   & 120243 & 3327 & 4046 & 3113 & 3232 & 3944 & ⋯ & 1719 & 15138 & 3474 & 3910 & 613 & 862 & 3035 & 2741 & 636 & 2503\\\\\n",
       "\t2 & chr17 &   4004445 &   4143030 & ZZEF1  & 138586 & 1963 & 2068 & 2066 & 1991 & 2687 & ⋯ & 1380 &  6963 & 2774 & 3190 & 545 & 715 & 2303 & 1906 & 649 & 1834\\\\\n",
       "\t3 & chr7  & 143381345 & 143391111 & ZYX    &   9767 &   71 &   42 &   19 &   20 &   45 & ⋯ &  857 &  3315 & 1185 & 2507 & 143 & 177 &  363 &  345 & 123 &  287\\\\\n",
       "\t4 & chr1  &  52726453 &  52827336 & ZYG11B & 100884 & 1111 & 1087 &  723 &  828 & 1179 & ⋯ & 2300 &  3676 & 4196 & 1716 & 375 & 500 & 1563 & 1332 & 449 & 1318\\\\\n",
       "\t5 & chr1  &  52842760 &  52894995 & ZYG11A &  52236 &    6 &    0 &    2 &    2 &    3 & ⋯ &  632 &   892 & 1056 &  591 & 303 & 434 & 1354 & 1164 & 457 & 1239\\\\\n",
       "\t6 & chr3  & 126458901 & 126475919 & ZXDC   &  17019 &  391 &  375 &  349 &  320 &  495 & ⋯ & 1961 &  1947 & 3550 & 2675 & 101 & 102 &  291 &  265 &  95 &  302\\\\\n",
       "\\end{tabular}\n"
      ],
      "text/markdown": [
       "\n",
       "A data.frame: 6 × 885\n",
       "\n",
       "| <!--/--> | chromosome &lt;chr&gt; | start &lt;int&gt; | end &lt;int&gt; | GeneID &lt;chr&gt; | Length &lt;int&gt; | SRZ1950491 &lt;int&gt; | SRZ1950493 &lt;int&gt; | SRZ1950495 &lt;int&gt; | SRZ1950497 &lt;int&gt; | SRZ1950499 &lt;int&gt; | ⋯ ⋯ | SRR9833433 &lt;int&gt; | SRZ9833428 &lt;int&gt; | SRZ9833431 &lt;int&gt; | SRZ9833434 &lt;int&gt; | SRR11793825 &lt;int&gt; | SRR11793826 &lt;int&gt; | SRR11793827 &lt;int&gt; | SRR11793828 &lt;int&gt; | SRR11793829 &lt;int&gt; | SRR11793830 &lt;int&gt; |\n",
       "|---|---|---|---|---|---|---|---|---|---|---|---|---|---|---|---|---|---|---|---|---|---|\n",
       "| 1 | chr1  |  77562416 |  77682658 | ZZZ3   | 120243 | 3327 | 4046 | 3113 | 3232 | 3944 | ⋯ | 1719 | 15138 | 3474 | 3910 | 613 | 862 | 3035 | 2741 | 636 | 2503 |\n",
       "| 2 | chr17 |   4004445 |   4143030 | ZZEF1  | 138586 | 1963 | 2068 | 2066 | 1991 | 2687 | ⋯ | 1380 |  6963 | 2774 | 3190 | 545 | 715 | 2303 | 1906 | 649 | 1834 |\n",
       "| 3 | chr7  | 143381345 | 143391111 | ZYX    |   9767 |   71 |   42 |   19 |   20 |   45 | ⋯ |  857 |  3315 | 1185 | 2507 | 143 | 177 |  363 |  345 | 123 |  287 |\n",
       "| 4 | chr1  |  52726453 |  52827336 | ZYG11B | 100884 | 1111 | 1087 |  723 |  828 | 1179 | ⋯ | 2300 |  3676 | 4196 | 1716 | 375 | 500 | 1563 | 1332 | 449 | 1318 |\n",
       "| 5 | chr1  |  52842760 |  52894995 | ZYG11A |  52236 |    6 |    0 |    2 |    2 |    3 | ⋯ |  632 |   892 | 1056 |  591 | 303 | 434 | 1354 | 1164 | 457 | 1239 |\n",
       "| 6 | chr3  | 126458901 | 126475919 | ZXDC   |  17019 |  391 |  375 |  349 |  320 |  495 | ⋯ | 1961 |  1947 | 3550 | 2675 | 101 | 102 |  291 |  265 |  95 |  302 |\n",
       "\n"
      ],
      "text/plain": [
       "  chromosome start     end       GeneID Length SRZ1950491 SRZ1950493 SRZ1950495\n",
       "1 chr1        77562416  77682658 ZZZ3   120243 3327       4046       3113      \n",
       "2 chr17        4004445   4143030 ZZEF1  138586 1963       2068       2066      \n",
       "3 chr7       143381345 143391111 ZYX      9767   71         42         19      \n",
       "4 chr1        52726453  52827336 ZYG11B 100884 1111       1087        723      \n",
       "5 chr1        52842760  52894995 ZYG11A  52236    6          0          2      \n",
       "6 chr3       126458901 126475919 ZXDC    17019  391        375        349      \n",
       "  SRZ1950497 SRZ1950499 ⋯ SRR9833433 SRZ9833428 SRZ9833431 SRZ9833434\n",
       "1 3232       3944       ⋯ 1719       15138      3474       3910      \n",
       "2 1991       2687       ⋯ 1380        6963      2774       3190      \n",
       "3   20         45       ⋯  857        3315      1185       2507      \n",
       "4  828       1179       ⋯ 2300        3676      4196       1716      \n",
       "5    2          3       ⋯  632         892      1056        591      \n",
       "6  320        495       ⋯ 1961        1947      3550       2675      \n",
       "  SRR11793825 SRR11793826 SRR11793827 SRR11793828 SRR11793829 SRR11793830\n",
       "1 613         862         3035        2741        636         2503       \n",
       "2 545         715         2303        1906        649         1834       \n",
       "3 143         177          363         345        123          287       \n",
       "4 375         500         1563        1332        449         1318       \n",
       "5 303         434         1354        1164        457         1239       \n",
       "6 101         102          291         265         95          302       "
      ]
     },
     "metadata": {},
     "output_type": "display_data"
    },
    {
     "data": {
      "text/html": [
       "<style>\n",
       ".list-inline {list-style: none; margin:0; padding: 0}\n",
       ".list-inline>li {display: inline-block}\n",
       ".list-inline>li:not(:last-child)::after {content: \"\\00b7\"; padding: 0 .5ex}\n",
       "</style>\n",
       "<ol class=list-inline><li>286298</li><li>885</li></ol>\n"
      ],
      "text/latex": [
       "\\begin{enumerate*}\n",
       "\\item 286298\n",
       "\\item 885\n",
       "\\end{enumerate*}\n"
      ],
      "text/markdown": [
       "1. 286298\n",
       "2. 885\n",
       "\n",
       "\n"
      ],
      "text/plain": [
       "[1] 286298    885"
      ]
     },
     "metadata": {},
     "output_type": "display_data"
    }
   ],
   "source": [
    "counts_bidir_genes500bp <- as.data.frame(rbind(counts_genes[,c(2:4,1,8,9:888)], \n",
    "                                          counts_bidirs_noProGene500bp[,c(1:3,5,4,8:887)],\n",
    "                                         use.names=FALSE))\n",
    "head(counts_bidir_genes500bp)\n",
    "dim(counts_bidir_genes500bp)"
   ]
  },
  {
   "cell_type": "markdown",
   "metadata": {},
   "source": [
    "### 5' truncated genes & bidirectionals "
   ]
  },
  {
   "cell_type": "code",
   "execution_count": 34,
   "metadata": {},
   "outputs": [
    {
     "data": {
      "text/html": [
       "<table class=\"dataframe\">\n",
       "<caption>A data.frame: 6 × 885</caption>\n",
       "<thead>\n",
       "\t<tr><th></th><th scope=col>chromosome</th><th scope=col>start</th><th scope=col>end</th><th scope=col>GeneID</th><th scope=col>Length</th><th scope=col>SRZ1950491</th><th scope=col>SRZ1950493</th><th scope=col>SRZ1950495</th><th scope=col>SRZ1950497</th><th scope=col>SRZ1950499</th><th scope=col>⋯</th><th scope=col>SRR9833433</th><th scope=col>SRZ9833428</th><th scope=col>SRZ9833431</th><th scope=col>SRZ9833434</th><th scope=col>SRR11793825</th><th scope=col>SRR11793826</th><th scope=col>SRR11793827</th><th scope=col>SRR11793828</th><th scope=col>SRR11793829</th><th scope=col>SRR11793830</th></tr>\n",
       "\t<tr><th></th><th scope=col>&lt;chr&gt;</th><th scope=col>&lt;int&gt;</th><th scope=col>&lt;int&gt;</th><th scope=col>&lt;chr&gt;</th><th scope=col>&lt;int&gt;</th><th scope=col>&lt;int&gt;</th><th scope=col>&lt;int&gt;</th><th scope=col>&lt;int&gt;</th><th scope=col>&lt;int&gt;</th><th scope=col>&lt;int&gt;</th><th scope=col>⋯</th><th scope=col>&lt;int&gt;</th><th scope=col>&lt;int&gt;</th><th scope=col>&lt;int&gt;</th><th scope=col>&lt;int&gt;</th><th scope=col>&lt;int&gt;</th><th scope=col>&lt;int&gt;</th><th scope=col>&lt;int&gt;</th><th scope=col>&lt;int&gt;</th><th scope=col>&lt;int&gt;</th><th scope=col>&lt;int&gt;</th></tr>\n",
       "</thead>\n",
       "<tbody>\n",
       "\t<tr><th scope=row>1</th><td>chr1 </td><td> 77562416</td><td> 77681908</td><td>ZZZ3  </td><td>119493</td><td>3207</td><td>3976</td><td>3058</td><td>3191</td><td>3896</td><td>⋯</td><td>1447</td><td>14963</td><td>2733</td><td>3146</td><td>588</td><td>838</td><td>2977</td><td>2700</td><td>608</td><td>2435</td></tr>\n",
       "\t<tr><th scope=row>2</th><td>chr17</td><td>  4004445</td><td>  4142280</td><td>ZZEF1 </td><td>137836</td><td>1882</td><td>2026</td><td>2031</td><td>1939</td><td>2630</td><td>⋯</td><td>1015</td><td> 6772</td><td>1756</td><td>2415</td><td>534</td><td>709</td><td>2286</td><td>1900</td><td>636</td><td>1826</td></tr>\n",
       "\t<tr><th scope=row>3</th><td>chr7 </td><td>143382095</td><td>143391111</td><td>ZYX   </td><td>  9017</td><td>  55</td><td>  33</td><td>  14</td><td>  19</td><td>  39</td><td>⋯</td><td> 329</td><td> 3052</td><td> 714</td><td>1434</td><td>123</td><td>156</td><td> 312</td><td> 306</td><td>118</td><td> 273</td></tr>\n",
       "\t<tr><th scope=row>4</th><td>chr1 </td><td> 52727203</td><td> 52827336</td><td>ZYG11B</td><td>100134</td><td>1043</td><td>1040</td><td> 702</td><td> 794</td><td>1152</td><td>⋯</td><td>2087</td><td> 3632</td><td>3584</td><td>1112</td><td>344</td><td>462</td><td>1505</td><td>1301</td><td>421</td><td>1296</td></tr>\n",
       "\t<tr><th scope=row>5</th><td>chr1 </td><td> 52843510</td><td> 52894995</td><td>ZYG11A</td><td> 51486</td><td>   6</td><td>   0</td><td>   2</td><td>   2</td><td>   3</td><td>⋯</td><td> 183</td><td>  802</td><td> 193</td><td> 209</td><td>275</td><td>380</td><td>1255</td><td>1091</td><td>400</td><td>1134</td></tr>\n",
       "\t<tr><th scope=row>6</th><td>chr3 </td><td>126458901</td><td>126475169</td><td>ZXDC  </td><td> 16269</td><td> 332</td><td> 334</td><td> 323</td><td> 281</td><td> 445</td><td>⋯</td><td> 292</td><td> 1696</td><td> 589</td><td> 845</td><td> 83</td><td> 86</td><td> 259</td><td> 231</td><td> 69</td><td> 264</td></tr>\n",
       "</tbody>\n",
       "</table>\n"
      ],
      "text/latex": [
       "A data.frame: 6 × 885\n",
       "\\begin{tabular}{r|lllllllllllllllllllll}\n",
       "  & chromosome & start & end & GeneID & Length & SRZ1950491 & SRZ1950493 & SRZ1950495 & SRZ1950497 & SRZ1950499 & ⋯ & SRR9833433 & SRZ9833428 & SRZ9833431 & SRZ9833434 & SRR11793825 & SRR11793826 & SRR11793827 & SRR11793828 & SRR11793829 & SRR11793830\\\\\n",
       "  & <chr> & <int> & <int> & <chr> & <int> & <int> & <int> & <int> & <int> & <int> & ⋯ & <int> & <int> & <int> & <int> & <int> & <int> & <int> & <int> & <int> & <int>\\\\\n",
       "\\hline\n",
       "\t1 & chr1  &  77562416 &  77681908 & ZZZ3   & 119493 & 3207 & 3976 & 3058 & 3191 & 3896 & ⋯ & 1447 & 14963 & 2733 & 3146 & 588 & 838 & 2977 & 2700 & 608 & 2435\\\\\n",
       "\t2 & chr17 &   4004445 &   4142280 & ZZEF1  & 137836 & 1882 & 2026 & 2031 & 1939 & 2630 & ⋯ & 1015 &  6772 & 1756 & 2415 & 534 & 709 & 2286 & 1900 & 636 & 1826\\\\\n",
       "\t3 & chr7  & 143382095 & 143391111 & ZYX    &   9017 &   55 &   33 &   14 &   19 &   39 & ⋯ &  329 &  3052 &  714 & 1434 & 123 & 156 &  312 &  306 & 118 &  273\\\\\n",
       "\t4 & chr1  &  52727203 &  52827336 & ZYG11B & 100134 & 1043 & 1040 &  702 &  794 & 1152 & ⋯ & 2087 &  3632 & 3584 & 1112 & 344 & 462 & 1505 & 1301 & 421 & 1296\\\\\n",
       "\t5 & chr1  &  52843510 &  52894995 & ZYG11A &  51486 &    6 &    0 &    2 &    2 &    3 & ⋯ &  183 &   802 &  193 &  209 & 275 & 380 & 1255 & 1091 & 400 & 1134\\\\\n",
       "\t6 & chr3  & 126458901 & 126475169 & ZXDC   &  16269 &  332 &  334 &  323 &  281 &  445 & ⋯ &  292 &  1696 &  589 &  845 &  83 &  86 &  259 &  231 &  69 &  264\\\\\n",
       "\\end{tabular}\n"
      ],
      "text/markdown": [
       "\n",
       "A data.frame: 6 × 885\n",
       "\n",
       "| <!--/--> | chromosome &lt;chr&gt; | start &lt;int&gt; | end &lt;int&gt; | GeneID &lt;chr&gt; | Length &lt;int&gt; | SRZ1950491 &lt;int&gt; | SRZ1950493 &lt;int&gt; | SRZ1950495 &lt;int&gt; | SRZ1950497 &lt;int&gt; | SRZ1950499 &lt;int&gt; | ⋯ ⋯ | SRR9833433 &lt;int&gt; | SRZ9833428 &lt;int&gt; | SRZ9833431 &lt;int&gt; | SRZ9833434 &lt;int&gt; | SRR11793825 &lt;int&gt; | SRR11793826 &lt;int&gt; | SRR11793827 &lt;int&gt; | SRR11793828 &lt;int&gt; | SRR11793829 &lt;int&gt; | SRR11793830 &lt;int&gt; |\n",
       "|---|---|---|---|---|---|---|---|---|---|---|---|---|---|---|---|---|---|---|---|---|---|\n",
       "| 1 | chr1  |  77562416 |  77681908 | ZZZ3   | 119493 | 3207 | 3976 | 3058 | 3191 | 3896 | ⋯ | 1447 | 14963 | 2733 | 3146 | 588 | 838 | 2977 | 2700 | 608 | 2435 |\n",
       "| 2 | chr17 |   4004445 |   4142280 | ZZEF1  | 137836 | 1882 | 2026 | 2031 | 1939 | 2630 | ⋯ | 1015 |  6772 | 1756 | 2415 | 534 | 709 | 2286 | 1900 | 636 | 1826 |\n",
       "| 3 | chr7  | 143382095 | 143391111 | ZYX    |   9017 |   55 |   33 |   14 |   19 |   39 | ⋯ |  329 |  3052 |  714 | 1434 | 123 | 156 |  312 |  306 | 118 |  273 |\n",
       "| 4 | chr1  |  52727203 |  52827336 | ZYG11B | 100134 | 1043 | 1040 |  702 |  794 | 1152 | ⋯ | 2087 |  3632 | 3584 | 1112 | 344 | 462 | 1505 | 1301 | 421 | 1296 |\n",
       "| 5 | chr1  |  52843510 |  52894995 | ZYG11A |  51486 |    6 |    0 |    2 |    2 |    3 | ⋯ |  183 |   802 |  193 |  209 | 275 | 380 | 1255 | 1091 | 400 | 1134 |\n",
       "| 6 | chr3  | 126458901 | 126475169 | ZXDC   |  16269 |  332 |  334 |  323 |  281 |  445 | ⋯ |  292 |  1696 |  589 |  845 |  83 |  86 |  259 |  231 |  69 |  264 |\n",
       "\n"
      ],
      "text/plain": [
       "  chromosome start     end       GeneID Length SRZ1950491 SRZ1950493 SRZ1950495\n",
       "1 chr1        77562416  77681908 ZZZ3   119493 3207       3976       3058      \n",
       "2 chr17        4004445   4142280 ZZEF1  137836 1882       2026       2031      \n",
       "3 chr7       143382095 143391111 ZYX      9017   55         33         14      \n",
       "4 chr1        52727203  52827336 ZYG11B 100134 1043       1040        702      \n",
       "5 chr1        52843510  52894995 ZYG11A  51486    6          0          2      \n",
       "6 chr3       126458901 126475169 ZXDC    16269  332        334        323      \n",
       "  SRZ1950497 SRZ1950499 ⋯ SRR9833433 SRZ9833428 SRZ9833431 SRZ9833434\n",
       "1 3191       3896       ⋯ 1447       14963      2733       3146      \n",
       "2 1939       2630       ⋯ 1015        6772      1756       2415      \n",
       "3   19         39       ⋯  329        3052       714       1434      \n",
       "4  794       1152       ⋯ 2087        3632      3584       1112      \n",
       "5    2          3       ⋯  183         802       193        209      \n",
       "6  281        445       ⋯  292        1696       589        845      \n",
       "  SRR11793825 SRR11793826 SRR11793827 SRR11793828 SRR11793829 SRR11793830\n",
       "1 588         838         2977        2700        608         2435       \n",
       "2 534         709         2286        1900        636         1826       \n",
       "3 123         156          312         306        118          273       \n",
       "4 344         462         1505        1301        421         1296       \n",
       "5 275         380         1255        1091        400         1134       \n",
       "6  83          86          259         231         69          264       "
      ]
     },
     "metadata": {},
     "output_type": "display_data"
    },
    {
     "data": {
      "text/html": [
       "<style>\n",
       ".list-inline {list-style: none; margin:0; padding: 0}\n",
       ".list-inline>li {display: inline-block}\n",
       ".list-inline>li:not(:last-child)::after {content: \"\\00b7\"; padding: 0 .5ex}\n",
       "</style>\n",
       "<ol class=list-inline><li>284012</li><li>885</li></ol>\n"
      ],
      "text/latex": [
       "\\begin{enumerate*}\n",
       "\\item 284012\n",
       "\\item 885\n",
       "\\end{enumerate*}\n"
      ],
      "text/markdown": [
       "1. 284012\n",
       "2. 885\n",
       "\n",
       "\n"
      ],
      "text/plain": [
       "[1] 284012    885"
      ]
     },
     "metadata": {},
     "output_type": "display_data"
    }
   ],
   "source": [
    "counts_bidir_genes_trunc <- as.data.frame(rbind(counts_genes_trunc[,c(2:4,1,8,9:888)], \n",
    "                                          counts_bidirs_noProGene[,c(1:3,5,4,8:887)],\n",
    "                                         use.names=FALSE))\n",
    "head(counts_bidir_genes_trunc)\n",
    "dim(counts_bidir_genes_trunc)"
   ]
  },
  {
   "cell_type": "code",
   "execution_count": 35,
   "metadata": {},
   "outputs": [
    {
     "data": {
      "text/html": [
       "<table class=\"dataframe\">\n",
       "<caption>A data.frame: 6 × 885</caption>\n",
       "<thead>\n",
       "\t<tr><th></th><th scope=col>chromosome</th><th scope=col>start</th><th scope=col>end</th><th scope=col>GeneID</th><th scope=col>Length</th><th scope=col>SRZ1950491</th><th scope=col>SRZ1950493</th><th scope=col>SRZ1950495</th><th scope=col>SRZ1950497</th><th scope=col>SRZ1950499</th><th scope=col>⋯</th><th scope=col>SRR9833433</th><th scope=col>SRZ9833428</th><th scope=col>SRZ9833431</th><th scope=col>SRZ9833434</th><th scope=col>SRR11793825</th><th scope=col>SRR11793826</th><th scope=col>SRR11793827</th><th scope=col>SRR11793828</th><th scope=col>SRR11793829</th><th scope=col>SRR11793830</th></tr>\n",
       "\t<tr><th></th><th scope=col>&lt;chr&gt;</th><th scope=col>&lt;int&gt;</th><th scope=col>&lt;int&gt;</th><th scope=col>&lt;chr&gt;</th><th scope=col>&lt;int&gt;</th><th scope=col>&lt;int&gt;</th><th scope=col>&lt;int&gt;</th><th scope=col>&lt;int&gt;</th><th scope=col>&lt;int&gt;</th><th scope=col>&lt;int&gt;</th><th scope=col>⋯</th><th scope=col>&lt;int&gt;</th><th scope=col>&lt;int&gt;</th><th scope=col>&lt;int&gt;</th><th scope=col>&lt;int&gt;</th><th scope=col>&lt;int&gt;</th><th scope=col>&lt;int&gt;</th><th scope=col>&lt;int&gt;</th><th scope=col>&lt;int&gt;</th><th scope=col>&lt;int&gt;</th><th scope=col>&lt;int&gt;</th></tr>\n",
       "</thead>\n",
       "<tbody>\n",
       "\t<tr><th scope=row>1</th><td>chr1 </td><td> 77562416</td><td> 77681908</td><td>ZZZ3  </td><td>119493</td><td>3207</td><td>3976</td><td>3058</td><td>3191</td><td>3896</td><td>⋯</td><td>1447</td><td>14963</td><td>2733</td><td>3146</td><td>588</td><td>838</td><td>2977</td><td>2700</td><td>608</td><td>2435</td></tr>\n",
       "\t<tr><th scope=row>2</th><td>chr17</td><td>  4004445</td><td>  4142280</td><td>ZZEF1 </td><td>137836</td><td>1882</td><td>2026</td><td>2031</td><td>1939</td><td>2630</td><td>⋯</td><td>1015</td><td> 6772</td><td>1756</td><td>2415</td><td>534</td><td>709</td><td>2286</td><td>1900</td><td>636</td><td>1826</td></tr>\n",
       "\t<tr><th scope=row>3</th><td>chr7 </td><td>143382095</td><td>143391111</td><td>ZYX   </td><td>  9017</td><td>  55</td><td>  33</td><td>  14</td><td>  19</td><td>  39</td><td>⋯</td><td> 329</td><td> 3052</td><td> 714</td><td>1434</td><td>123</td><td>156</td><td> 312</td><td> 306</td><td>118</td><td> 273</td></tr>\n",
       "\t<tr><th scope=row>4</th><td>chr1 </td><td> 52727203</td><td> 52827336</td><td>ZYG11B</td><td>100134</td><td>1043</td><td>1040</td><td> 702</td><td> 794</td><td>1152</td><td>⋯</td><td>2087</td><td> 3632</td><td>3584</td><td>1112</td><td>344</td><td>462</td><td>1505</td><td>1301</td><td>421</td><td>1296</td></tr>\n",
       "\t<tr><th scope=row>5</th><td>chr1 </td><td> 52843510</td><td> 52894995</td><td>ZYG11A</td><td> 51486</td><td>   6</td><td>   0</td><td>   2</td><td>   2</td><td>   3</td><td>⋯</td><td> 183</td><td>  802</td><td> 193</td><td> 209</td><td>275</td><td>380</td><td>1255</td><td>1091</td><td>400</td><td>1134</td></tr>\n",
       "\t<tr><th scope=row>6</th><td>chr3 </td><td>126458901</td><td>126475169</td><td>ZXDC  </td><td> 16269</td><td> 332</td><td> 334</td><td> 323</td><td> 281</td><td> 445</td><td>⋯</td><td> 292</td><td> 1696</td><td> 589</td><td> 845</td><td> 83</td><td> 86</td><td> 259</td><td> 231</td><td> 69</td><td> 264</td></tr>\n",
       "</tbody>\n",
       "</table>\n"
      ],
      "text/latex": [
       "A data.frame: 6 × 885\n",
       "\\begin{tabular}{r|lllllllllllllllllllll}\n",
       "  & chromosome & start & end & GeneID & Length & SRZ1950491 & SRZ1950493 & SRZ1950495 & SRZ1950497 & SRZ1950499 & ⋯ & SRR9833433 & SRZ9833428 & SRZ9833431 & SRZ9833434 & SRR11793825 & SRR11793826 & SRR11793827 & SRR11793828 & SRR11793829 & SRR11793830\\\\\n",
       "  & <chr> & <int> & <int> & <chr> & <int> & <int> & <int> & <int> & <int> & <int> & ⋯ & <int> & <int> & <int> & <int> & <int> & <int> & <int> & <int> & <int> & <int>\\\\\n",
       "\\hline\n",
       "\t1 & chr1  &  77562416 &  77681908 & ZZZ3   & 119493 & 3207 & 3976 & 3058 & 3191 & 3896 & ⋯ & 1447 & 14963 & 2733 & 3146 & 588 & 838 & 2977 & 2700 & 608 & 2435\\\\\n",
       "\t2 & chr17 &   4004445 &   4142280 & ZZEF1  & 137836 & 1882 & 2026 & 2031 & 1939 & 2630 & ⋯ & 1015 &  6772 & 1756 & 2415 & 534 & 709 & 2286 & 1900 & 636 & 1826\\\\\n",
       "\t3 & chr7  & 143382095 & 143391111 & ZYX    &   9017 &   55 &   33 &   14 &   19 &   39 & ⋯ &  329 &  3052 &  714 & 1434 & 123 & 156 &  312 &  306 & 118 &  273\\\\\n",
       "\t4 & chr1  &  52727203 &  52827336 & ZYG11B & 100134 & 1043 & 1040 &  702 &  794 & 1152 & ⋯ & 2087 &  3632 & 3584 & 1112 & 344 & 462 & 1505 & 1301 & 421 & 1296\\\\\n",
       "\t5 & chr1  &  52843510 &  52894995 & ZYG11A &  51486 &    6 &    0 &    2 &    2 &    3 & ⋯ &  183 &   802 &  193 &  209 & 275 & 380 & 1255 & 1091 & 400 & 1134\\\\\n",
       "\t6 & chr3  & 126458901 & 126475169 & ZXDC   &  16269 &  332 &  334 &  323 &  281 &  445 & ⋯ &  292 &  1696 &  589 &  845 &  83 &  86 &  259 &  231 &  69 &  264\\\\\n",
       "\\end{tabular}\n"
      ],
      "text/markdown": [
       "\n",
       "A data.frame: 6 × 885\n",
       "\n",
       "| <!--/--> | chromosome &lt;chr&gt; | start &lt;int&gt; | end &lt;int&gt; | GeneID &lt;chr&gt; | Length &lt;int&gt; | SRZ1950491 &lt;int&gt; | SRZ1950493 &lt;int&gt; | SRZ1950495 &lt;int&gt; | SRZ1950497 &lt;int&gt; | SRZ1950499 &lt;int&gt; | ⋯ ⋯ | SRR9833433 &lt;int&gt; | SRZ9833428 &lt;int&gt; | SRZ9833431 &lt;int&gt; | SRZ9833434 &lt;int&gt; | SRR11793825 &lt;int&gt; | SRR11793826 &lt;int&gt; | SRR11793827 &lt;int&gt; | SRR11793828 &lt;int&gt; | SRR11793829 &lt;int&gt; | SRR11793830 &lt;int&gt; |\n",
       "|---|---|---|---|---|---|---|---|---|---|---|---|---|---|---|---|---|---|---|---|---|---|\n",
       "| 1 | chr1  |  77562416 |  77681908 | ZZZ3   | 119493 | 3207 | 3976 | 3058 | 3191 | 3896 | ⋯ | 1447 | 14963 | 2733 | 3146 | 588 | 838 | 2977 | 2700 | 608 | 2435 |\n",
       "| 2 | chr17 |   4004445 |   4142280 | ZZEF1  | 137836 | 1882 | 2026 | 2031 | 1939 | 2630 | ⋯ | 1015 |  6772 | 1756 | 2415 | 534 | 709 | 2286 | 1900 | 636 | 1826 |\n",
       "| 3 | chr7  | 143382095 | 143391111 | ZYX    |   9017 |   55 |   33 |   14 |   19 |   39 | ⋯ |  329 |  3052 |  714 | 1434 | 123 | 156 |  312 |  306 | 118 |  273 |\n",
       "| 4 | chr1  |  52727203 |  52827336 | ZYG11B | 100134 | 1043 | 1040 |  702 |  794 | 1152 | ⋯ | 2087 |  3632 | 3584 | 1112 | 344 | 462 | 1505 | 1301 | 421 | 1296 |\n",
       "| 5 | chr1  |  52843510 |  52894995 | ZYG11A |  51486 |    6 |    0 |    2 |    2 |    3 | ⋯ |  183 |   802 |  193 |  209 | 275 | 380 | 1255 | 1091 | 400 | 1134 |\n",
       "| 6 | chr3  | 126458901 | 126475169 | ZXDC   |  16269 |  332 |  334 |  323 |  281 |  445 | ⋯ |  292 |  1696 |  589 |  845 |  83 |  86 |  259 |  231 |  69 |  264 |\n",
       "\n"
      ],
      "text/plain": [
       "  chromosome start     end       GeneID Length SRZ1950491 SRZ1950493 SRZ1950495\n",
       "1 chr1        77562416  77681908 ZZZ3   119493 3207       3976       3058      \n",
       "2 chr17        4004445   4142280 ZZEF1  137836 1882       2026       2031      \n",
       "3 chr7       143382095 143391111 ZYX      9017   55         33         14      \n",
       "4 chr1        52727203  52827336 ZYG11B 100134 1043       1040        702      \n",
       "5 chr1        52843510  52894995 ZYG11A  51486    6          0          2      \n",
       "6 chr3       126458901 126475169 ZXDC    16269  332        334        323      \n",
       "  SRZ1950497 SRZ1950499 ⋯ SRR9833433 SRZ9833428 SRZ9833431 SRZ9833434\n",
       "1 3191       3896       ⋯ 1447       14963      2733       3146      \n",
       "2 1939       2630       ⋯ 1015        6772      1756       2415      \n",
       "3   19         39       ⋯  329        3052       714       1434      \n",
       "4  794       1152       ⋯ 2087        3632      3584       1112      \n",
       "5    2          3       ⋯  183         802       193        209      \n",
       "6  281        445       ⋯  292        1696       589        845      \n",
       "  SRR11793825 SRR11793826 SRR11793827 SRR11793828 SRR11793829 SRR11793830\n",
       "1 588         838         2977        2700        608         2435       \n",
       "2 534         709         2286        1900        636         1826       \n",
       "3 123         156          312         306        118          273       \n",
       "4 344         462         1505        1301        421         1296       \n",
       "5 275         380         1255        1091        400         1134       \n",
       "6  83          86          259         231         69          264       "
      ]
     },
     "metadata": {},
     "output_type": "display_data"
    },
    {
     "data": {
      "text/html": [
       "<style>\n",
       ".list-inline {list-style: none; margin:0; padding: 0}\n",
       ".list-inline>li {display: inline-block}\n",
       ".list-inline>li:not(:last-child)::after {content: \"\\00b7\"; padding: 0 .5ex}\n",
       "</style>\n",
       "<ol class=list-inline><li>286298</li><li>885</li></ol>\n"
      ],
      "text/latex": [
       "\\begin{enumerate*}\n",
       "\\item 286298\n",
       "\\item 885\n",
       "\\end{enumerate*}\n"
      ],
      "text/markdown": [
       "1. 286298\n",
       "2. 885\n",
       "\n",
       "\n"
      ],
      "text/plain": [
       "[1] 286298    885"
      ]
     },
     "metadata": {},
     "output_type": "display_data"
    }
   ],
   "source": [
    "counts_bidir_genes_trunc500bp <- as.data.frame(rbind(counts_genes_trunc[,c(2:4,1,8,9:888)], \n",
    "                                          counts_bidirs_noProGene500bp[,c(1:3,5,4,8:887)],\n",
    "                                         use.names=FALSE))\n",
    "head(counts_bidir_genes_trunc500bp)\n",
    "dim(counts_bidir_genes_trunc500bp)"
   ]
  },
  {
   "cell_type": "markdown",
   "metadata": {},
   "source": [
    "## Calculate TPMs for all genes and bidirs\n",
    "\n",
    "### Genes"
   ]
  },
  {
   "cell_type": "code",
   "execution_count": 36,
   "metadata": {},
   "outputs": [
    {
     "data": {
      "text/html": [
       "<style>\n",
       ".list-inline {list-style: none; margin:0; padding: 0}\n",
       ".list-inline>li {display: inline-block}\n",
       ".list-inline>li:not(:last-child)::after {content: \"\\00b7\"; padding: 0 .5ex}\n",
       "</style>\n",
       "<ol class=list-inline><li>284012</li><li>885</li></ol>\n"
      ],
      "text/latex": [
       "\\begin{enumerate*}\n",
       "\\item 284012\n",
       "\\item 885\n",
       "\\end{enumerate*}\n"
      ],
      "text/markdown": [
       "1. 284012\n",
       "2. 885\n",
       "\n",
       "\n"
      ],
      "text/plain": [
       "[1] 284012    885"
      ]
     },
     "metadata": {},
     "output_type": "display_data"
    },
    {
     "data": {
      "text/html": [
       "<table class=\"dataframe\">\n",
       "<caption>A data.frame: 6 × 885</caption>\n",
       "<thead>\n",
       "\t<tr><th></th><th scope=col>chromosome</th><th scope=col>start</th><th scope=col>end</th><th scope=col>GeneID</th><th scope=col>Length</th><th scope=col>SRZ1950491</th><th scope=col>SRZ1950493</th><th scope=col>SRZ1950495</th><th scope=col>SRZ1950497</th><th scope=col>SRZ1950499</th><th scope=col>⋯</th><th scope=col>SRR9833433</th><th scope=col>SRZ9833428</th><th scope=col>SRZ9833431</th><th scope=col>SRZ9833434</th><th scope=col>SRR11793825</th><th scope=col>SRR11793826</th><th scope=col>SRR11793827</th><th scope=col>SRR11793828</th><th scope=col>SRR11793829</th><th scope=col>SRR11793830</th></tr>\n",
       "\t<tr><th></th><th scope=col>&lt;chr&gt;</th><th scope=col>&lt;int&gt;</th><th scope=col>&lt;int&gt;</th><th scope=col>&lt;chr&gt;</th><th scope=col>&lt;int&gt;</th><th scope=col>&lt;dbl&gt;</th><th scope=col>&lt;dbl&gt;</th><th scope=col>&lt;dbl&gt;</th><th scope=col>&lt;dbl&gt;</th><th scope=col>&lt;dbl&gt;</th><th scope=col>⋯</th><th scope=col>&lt;dbl&gt;</th><th scope=col>&lt;dbl&gt;</th><th scope=col>&lt;dbl&gt;</th><th scope=col>&lt;dbl&gt;</th><th scope=col>&lt;dbl&gt;</th><th scope=col>&lt;dbl&gt;</th><th scope=col>&lt;dbl&gt;</th><th scope=col>&lt;dbl&gt;</th><th scope=col>&lt;dbl&gt;</th><th scope=col>&lt;dbl&gt;</th></tr>\n",
       "</thead>\n",
       "<tbody>\n",
       "\t<tr><th scope=row>1</th><td>chr1 </td><td> 77562416</td><td> 77682658</td><td>ZZZ3  </td><td>120243</td><td>6.04104608</td><td>8.500381</td><td>6.128151747</td><td>6.32736293</td><td>6.43042127</td><td>⋯</td><td> 1.872764</td><td>10.191984</td><td> 1.575846</td><td> 1.9782447</td><td> 5.943808</td><td> 6.166874</td><td>5.773782</td><td>6.015668</td><td>0.5651401</td><td>4.867103</td></tr>\n",
       "\t<tr><th scope=row>2</th><td>chr17</td><td>  4004445</td><td>  4143030</td><td>ZZEF1 </td><td>138586</td><td>3.09257393</td><td>3.769672</td><td>3.528752108</td><td>3.38191819</td><td>3.80111167</td><td>⋯</td><td> 1.304448</td><td> 4.067495</td><td> 1.091769</td><td> 1.4003429</td><td> 4.585020</td><td> 4.438174</td><td>3.801334</td><td>3.629428</td><td>0.5003618</td><td>3.094207</td></tr>\n",
       "\t<tr><th scope=row>3</th><td>chr7 </td><td>143381345</td><td>143391111</td><td>ZYX   </td><td>  9767</td><td>1.58714393</td><td>1.086327</td><td>0.460471342</td><td>0.48203659</td><td>0.90326181</td><td>⋯</td><td>11.494406</td><td>27.477194</td><td> 6.617607</td><td>15.6155111</td><td>17.070213</td><td>15.589411</td><td>8.501723</td><td>9.321644</td><td>1.3455589</td><td>6.870529</td></tr>\n",
       "\t<tr><th scope=row>4</th><td>chr1 </td><td> 52726453</td><td> 52827336</td><td>ZYG11B</td><td>100884</td><td>2.40442324</td><td>2.721947</td><td>1.696391928</td><td>1.93205391</td><td>2.29115164</td><td>⋯</td><td> 2.986568</td><td> 2.949872</td><td> 2.268595</td><td> 1.0348039</td><td> 4.333842</td><td> 4.263491</td><td>3.544036</td><td>3.484308</td><td>0.4755354</td><td>3.054658</td></tr>\n",
       "\t<tr><th scope=row>5</th><td>chr1 </td><td> 52842760</td><td> 52894995</td><td>ZYG11A</td><td> 52236</td><td>0.02507844</td><td>0.000000</td><td>0.009062964</td><td>0.00901304</td><td>0.01125936</td><td>⋯</td><td> 1.584944</td><td> 1.382436</td><td> 1.102650</td><td> 0.6883045</td><td> 6.762960</td><td> 7.147225</td><td>5.929393</td><td>5.880546</td><td>0.9347707</td><td>5.545885</td></tr>\n",
       "\t<tr><th scope=row>6</th><td>chr3 </td><td>126458901</td><td>126475919</td><td>ZXDC  </td><td> 17019</td><td>5.01605015</td><td>5.566338</td><td>4.854020230</td><td>4.42616029</td><td>5.70208232</td><td>⋯</td><td>15.094212</td><td> 9.261513</td><td>11.377272</td><td> 9.5620895</td><td> 6.919129</td><td> 5.155654</td><td>3.911294</td><td>4.109098</td><td>0.5964147</td><td>4.148990</td></tr>\n",
       "</tbody>\n",
       "</table>\n"
      ],
      "text/latex": [
       "A data.frame: 6 × 885\n",
       "\\begin{tabular}{r|lllllllllllllllllllll}\n",
       "  & chromosome & start & end & GeneID & Length & SRZ1950491 & SRZ1950493 & SRZ1950495 & SRZ1950497 & SRZ1950499 & ⋯ & SRR9833433 & SRZ9833428 & SRZ9833431 & SRZ9833434 & SRR11793825 & SRR11793826 & SRR11793827 & SRR11793828 & SRR11793829 & SRR11793830\\\\\n",
       "  & <chr> & <int> & <int> & <chr> & <int> & <dbl> & <dbl> & <dbl> & <dbl> & <dbl> & ⋯ & <dbl> & <dbl> & <dbl> & <dbl> & <dbl> & <dbl> & <dbl> & <dbl> & <dbl> & <dbl>\\\\\n",
       "\\hline\n",
       "\t1 & chr1  &  77562416 &  77682658 & ZZZ3   & 120243 & 6.04104608 & 8.500381 & 6.128151747 & 6.32736293 & 6.43042127 & ⋯ &  1.872764 & 10.191984 &  1.575846 &  1.9782447 &  5.943808 &  6.166874 & 5.773782 & 6.015668 & 0.5651401 & 4.867103\\\\\n",
       "\t2 & chr17 &   4004445 &   4143030 & ZZEF1  & 138586 & 3.09257393 & 3.769672 & 3.528752108 & 3.38191819 & 3.80111167 & ⋯ &  1.304448 &  4.067495 &  1.091769 &  1.4003429 &  4.585020 &  4.438174 & 3.801334 & 3.629428 & 0.5003618 & 3.094207\\\\\n",
       "\t3 & chr7  & 143381345 & 143391111 & ZYX    &   9767 & 1.58714393 & 1.086327 & 0.460471342 & 0.48203659 & 0.90326181 & ⋯ & 11.494406 & 27.477194 &  6.617607 & 15.6155111 & 17.070213 & 15.589411 & 8.501723 & 9.321644 & 1.3455589 & 6.870529\\\\\n",
       "\t4 & chr1  &  52726453 &  52827336 & ZYG11B & 100884 & 2.40442324 & 2.721947 & 1.696391928 & 1.93205391 & 2.29115164 & ⋯ &  2.986568 &  2.949872 &  2.268595 &  1.0348039 &  4.333842 &  4.263491 & 3.544036 & 3.484308 & 0.4755354 & 3.054658\\\\\n",
       "\t5 & chr1  &  52842760 &  52894995 & ZYG11A &  52236 & 0.02507844 & 0.000000 & 0.009062964 & 0.00901304 & 0.01125936 & ⋯ &  1.584944 &  1.382436 &  1.102650 &  0.6883045 &  6.762960 &  7.147225 & 5.929393 & 5.880546 & 0.9347707 & 5.545885\\\\\n",
       "\t6 & chr3  & 126458901 & 126475919 & ZXDC   &  17019 & 5.01605015 & 5.566338 & 4.854020230 & 4.42616029 & 5.70208232 & ⋯ & 15.094212 &  9.261513 & 11.377272 &  9.5620895 &  6.919129 &  5.155654 & 3.911294 & 4.109098 & 0.5964147 & 4.148990\\\\\n",
       "\\end{tabular}\n"
      ],
      "text/markdown": [
       "\n",
       "A data.frame: 6 × 885\n",
       "\n",
       "| <!--/--> | chromosome &lt;chr&gt; | start &lt;int&gt; | end &lt;int&gt; | GeneID &lt;chr&gt; | Length &lt;int&gt; | SRZ1950491 &lt;dbl&gt; | SRZ1950493 &lt;dbl&gt; | SRZ1950495 &lt;dbl&gt; | SRZ1950497 &lt;dbl&gt; | SRZ1950499 &lt;dbl&gt; | ⋯ ⋯ | SRR9833433 &lt;dbl&gt; | SRZ9833428 &lt;dbl&gt; | SRZ9833431 &lt;dbl&gt; | SRZ9833434 &lt;dbl&gt; | SRR11793825 &lt;dbl&gt; | SRR11793826 &lt;dbl&gt; | SRR11793827 &lt;dbl&gt; | SRR11793828 &lt;dbl&gt; | SRR11793829 &lt;dbl&gt; | SRR11793830 &lt;dbl&gt; |\n",
       "|---|---|---|---|---|---|---|---|---|---|---|---|---|---|---|---|---|---|---|---|---|---|\n",
       "| 1 | chr1  |  77562416 |  77682658 | ZZZ3   | 120243 | 6.04104608 | 8.500381 | 6.128151747 | 6.32736293 | 6.43042127 | ⋯ |  1.872764 | 10.191984 |  1.575846 |  1.9782447 |  5.943808 |  6.166874 | 5.773782 | 6.015668 | 0.5651401 | 4.867103 |\n",
       "| 2 | chr17 |   4004445 |   4143030 | ZZEF1  | 138586 | 3.09257393 | 3.769672 | 3.528752108 | 3.38191819 | 3.80111167 | ⋯ |  1.304448 |  4.067495 |  1.091769 |  1.4003429 |  4.585020 |  4.438174 | 3.801334 | 3.629428 | 0.5003618 | 3.094207 |\n",
       "| 3 | chr7  | 143381345 | 143391111 | ZYX    |   9767 | 1.58714393 | 1.086327 | 0.460471342 | 0.48203659 | 0.90326181 | ⋯ | 11.494406 | 27.477194 |  6.617607 | 15.6155111 | 17.070213 | 15.589411 | 8.501723 | 9.321644 | 1.3455589 | 6.870529 |\n",
       "| 4 | chr1  |  52726453 |  52827336 | ZYG11B | 100884 | 2.40442324 | 2.721947 | 1.696391928 | 1.93205391 | 2.29115164 | ⋯ |  2.986568 |  2.949872 |  2.268595 |  1.0348039 |  4.333842 |  4.263491 | 3.544036 | 3.484308 | 0.4755354 | 3.054658 |\n",
       "| 5 | chr1  |  52842760 |  52894995 | ZYG11A |  52236 | 0.02507844 | 0.000000 | 0.009062964 | 0.00901304 | 0.01125936 | ⋯ |  1.584944 |  1.382436 |  1.102650 |  0.6883045 |  6.762960 |  7.147225 | 5.929393 | 5.880546 | 0.9347707 | 5.545885 |\n",
       "| 6 | chr3  | 126458901 | 126475919 | ZXDC   |  17019 | 5.01605015 | 5.566338 | 4.854020230 | 4.42616029 | 5.70208232 | ⋯ | 15.094212 |  9.261513 | 11.377272 |  9.5620895 |  6.919129 |  5.155654 | 3.911294 | 4.109098 | 0.5964147 | 4.148990 |\n",
       "\n"
      ],
      "text/plain": [
       "  chromosome start     end       GeneID Length SRZ1950491 SRZ1950493\n",
       "1 chr1        77562416  77682658 ZZZ3   120243 6.04104608 8.500381  \n",
       "2 chr17        4004445   4143030 ZZEF1  138586 3.09257393 3.769672  \n",
       "3 chr7       143381345 143391111 ZYX      9767 1.58714393 1.086327  \n",
       "4 chr1        52726453  52827336 ZYG11B 100884 2.40442324 2.721947  \n",
       "5 chr1        52842760  52894995 ZYG11A  52236 0.02507844 0.000000  \n",
       "6 chr3       126458901 126475919 ZXDC    17019 5.01605015 5.566338  \n",
       "  SRZ1950495  SRZ1950497 SRZ1950499 ⋯ SRR9833433 SRZ9833428 SRZ9833431\n",
       "1 6.128151747 6.32736293 6.43042127 ⋯  1.872764  10.191984   1.575846 \n",
       "2 3.528752108 3.38191819 3.80111167 ⋯  1.304448   4.067495   1.091769 \n",
       "3 0.460471342 0.48203659 0.90326181 ⋯ 11.494406  27.477194   6.617607 \n",
       "4 1.696391928 1.93205391 2.29115164 ⋯  2.986568   2.949872   2.268595 \n",
       "5 0.009062964 0.00901304 0.01125936 ⋯  1.584944   1.382436   1.102650 \n",
       "6 4.854020230 4.42616029 5.70208232 ⋯ 15.094212   9.261513  11.377272 \n",
       "  SRZ9833434 SRR11793825 SRR11793826 SRR11793827 SRR11793828 SRR11793829\n",
       "1  1.9782447  5.943808    6.166874   5.773782    6.015668    0.5651401  \n",
       "2  1.4003429  4.585020    4.438174   3.801334    3.629428    0.5003618  \n",
       "3 15.6155111 17.070213   15.589411   8.501723    9.321644    1.3455589  \n",
       "4  1.0348039  4.333842    4.263491   3.544036    3.484308    0.4755354  \n",
       "5  0.6883045  6.762960    7.147225   5.929393    5.880546    0.9347707  \n",
       "6  9.5620895  6.919129    5.155654   3.911294    4.109098    0.5964147  \n",
       "  SRR11793830\n",
       "1 4.867103   \n",
       "2 3.094207   \n",
       "3 6.870529   \n",
       "4 3.054658   \n",
       "5 5.545885   \n",
       "6 4.148990   "
      ]
     },
     "metadata": {},
     "output_type": "display_data"
    }
   ],
   "source": [
    "gene_bidir_tpms <- tpm_calculation(counts_bidir_genes[c(6:ncol(counts_bidir_genes))], \n",
    "                        counts_bidir_genes$Length)\n",
    "\n",
    "gene_bidir_tpm_df <- cbind(counts_bidir_genes[c(1:5)],\n",
    "                as.data.frame(gene_bidir_tpms))\n",
    "\n",
    "dim(gene_bidir_tpm_df)\n",
    "head(gene_bidir_tpm_df)"
   ]
  },
  {
   "cell_type": "markdown",
   "metadata": {},
   "source": [
    "#### Summary statistics"
   ]
  },
  {
   "cell_type": "code",
   "execution_count": 37,
   "metadata": {},
   "outputs": [
    {
     "data": {
      "text/html": [
       "885"
      ],
      "text/latex": [
       "885"
      ],
      "text/markdown": [
       "885"
      ],
      "text/plain": [
       "[1] 885"
      ]
     },
     "metadata": {},
     "output_type": "display_data"
    }
   ],
   "source": [
    "ncol(counts_bidir_genes)"
   ]
  },
  {
   "cell_type": "code",
   "execution_count": 38,
   "metadata": {},
   "outputs": [
    {
     "data": {
      "text/html": [
       "<table class=\"dataframe\">\n",
       "<caption>A data.frame: 6 × 891</caption>\n",
       "<thead>\n",
       "\t<tr><th></th><th scope=col>chromosome</th><th scope=col>start</th><th scope=col>end</th><th scope=col>GeneID</th><th scope=col>Length</th><th scope=col>SRZ1950491</th><th scope=col>SRZ1950493</th><th scope=col>SRZ1950495</th><th scope=col>SRZ1950497</th><th scope=col>SRZ1950499</th><th scope=col>⋯</th><th scope=col>SRR11793827</th><th scope=col>SRR11793828</th><th scope=col>SRR11793829</th><th scope=col>SRR11793830</th><th scope=col>stdev</th><th scope=col>variance</th><th scope=col>mean</th><th scope=col>median</th><th scope=col>coefvar</th><th scope=col>max</th></tr>\n",
       "\t<tr><th></th><th scope=col>&lt;chr&gt;</th><th scope=col>&lt;int&gt;</th><th scope=col>&lt;int&gt;</th><th scope=col>&lt;chr&gt;</th><th scope=col>&lt;int&gt;</th><th scope=col>&lt;dbl&gt;</th><th scope=col>&lt;dbl&gt;</th><th scope=col>&lt;dbl&gt;</th><th scope=col>&lt;dbl&gt;</th><th scope=col>&lt;dbl&gt;</th><th scope=col>⋯</th><th scope=col>&lt;dbl&gt;</th><th scope=col>&lt;dbl&gt;</th><th scope=col>&lt;dbl&gt;</th><th scope=col>&lt;dbl&gt;</th><th scope=col>&lt;dbl&gt;</th><th scope=col>&lt;dbl&gt;</th><th scope=col>&lt;dbl&gt;</th><th scope=col>&lt;dbl&gt;</th><th scope=col>&lt;dbl&gt;</th><th scope=col>&lt;dbl&gt;</th></tr>\n",
       "</thead>\n",
       "<tbody>\n",
       "\t<tr><th scope=row>1</th><td>chr1 </td><td> 77562416</td><td> 77682658</td><td>ZZZ3  </td><td>120243</td><td>6.04104608</td><td>8.500381</td><td>6.128151747</td><td>6.32736293</td><td>6.43042127</td><td>⋯</td><td>5.773782</td><td>6.015668</td><td>0.5651401</td><td>4.867103</td><td> 4.140656</td><td> 17.145028</td><td> 6.490899</td><td> 5.920378</td><td>0.6379171</td><td> 37.49324</td></tr>\n",
       "\t<tr><th scope=row>2</th><td>chr17</td><td>  4004445</td><td>  4143030</td><td>ZZEF1 </td><td>138586</td><td>3.09257393</td><td>3.769672</td><td>3.528752108</td><td>3.38191819</td><td>3.80111167</td><td>⋯</td><td>3.801334</td><td>3.629428</td><td>0.5003618</td><td>3.094207</td><td> 2.777647</td><td>  7.715321</td><td> 4.248136</td><td> 3.673690</td><td>0.6538507</td><td> 19.25574</td></tr>\n",
       "\t<tr><th scope=row>3</th><td>chr7 </td><td>143381345</td><td>143391111</td><td>ZYX   </td><td>  9767</td><td>1.58714393</td><td>1.086327</td><td>0.460471342</td><td>0.48203659</td><td>0.90326181</td><td>⋯</td><td>8.501723</td><td>9.321644</td><td>1.3455589</td><td>6.870529</td><td>19.334068</td><td>373.806188</td><td>16.423841</td><td>10.985491</td><td>1.1771953</td><td>188.58948</td></tr>\n",
       "\t<tr><th scope=row>4</th><td>chr1 </td><td> 52726453</td><td> 52827336</td><td>ZYG11B</td><td>100884</td><td>2.40442324</td><td>2.721947</td><td>1.696391928</td><td>1.93205391</td><td>2.29115164</td><td>⋯</td><td>3.544036</td><td>3.484308</td><td>0.4755354</td><td>3.054658</td><td> 2.250495</td><td>  5.064730</td><td> 2.776557</td><td> 2.320942</td><td>0.8105345</td><td> 22.18181</td></tr>\n",
       "\t<tr><th scope=row>5</th><td>chr1 </td><td> 52842760</td><td> 52894995</td><td>ZYG11A</td><td> 52236</td><td>0.02507844</td><td>0.000000</td><td>0.009062964</td><td>0.00901304</td><td>0.01125936</td><td>⋯</td><td>5.929393</td><td>5.880546</td><td>0.9347707</td><td>5.545885</td><td> 3.761215</td><td> 14.146738</td><td> 2.605882</td><td> 1.136030</td><td>1.4433557</td><td> 28.51244</td></tr>\n",
       "\t<tr><th scope=row>6</th><td>chr3 </td><td>126458901</td><td>126475919</td><td>ZXDC  </td><td> 17019</td><td>5.01605015</td><td>5.566338</td><td>4.854020230</td><td>4.42616029</td><td>5.70208232</td><td>⋯</td><td>3.911294</td><td>4.109098</td><td>0.5964147</td><td>4.148990</td><td> 5.833403</td><td> 34.028588</td><td> 9.555510</td><td> 8.504887</td><td>0.6104753</td><td> 47.13325</td></tr>\n",
       "</tbody>\n",
       "</table>\n"
      ],
      "text/latex": [
       "A data.frame: 6 × 891\n",
       "\\begin{tabular}{r|lllllllllllllllllllll}\n",
       "  & chromosome & start & end & GeneID & Length & SRZ1950491 & SRZ1950493 & SRZ1950495 & SRZ1950497 & SRZ1950499 & ⋯ & SRR11793827 & SRR11793828 & SRR11793829 & SRR11793830 & stdev & variance & mean & median & coefvar & max\\\\\n",
       "  & <chr> & <int> & <int> & <chr> & <int> & <dbl> & <dbl> & <dbl> & <dbl> & <dbl> & ⋯ & <dbl> & <dbl> & <dbl> & <dbl> & <dbl> & <dbl> & <dbl> & <dbl> & <dbl> & <dbl>\\\\\n",
       "\\hline\n",
       "\t1 & chr1  &  77562416 &  77682658 & ZZZ3   & 120243 & 6.04104608 & 8.500381 & 6.128151747 & 6.32736293 & 6.43042127 & ⋯ & 5.773782 & 6.015668 & 0.5651401 & 4.867103 &  4.140656 &  17.145028 &  6.490899 &  5.920378 & 0.6379171 &  37.49324\\\\\n",
       "\t2 & chr17 &   4004445 &   4143030 & ZZEF1  & 138586 & 3.09257393 & 3.769672 & 3.528752108 & 3.38191819 & 3.80111167 & ⋯ & 3.801334 & 3.629428 & 0.5003618 & 3.094207 &  2.777647 &   7.715321 &  4.248136 &  3.673690 & 0.6538507 &  19.25574\\\\\n",
       "\t3 & chr7  & 143381345 & 143391111 & ZYX    &   9767 & 1.58714393 & 1.086327 & 0.460471342 & 0.48203659 & 0.90326181 & ⋯ & 8.501723 & 9.321644 & 1.3455589 & 6.870529 & 19.334068 & 373.806188 & 16.423841 & 10.985491 & 1.1771953 & 188.58948\\\\\n",
       "\t4 & chr1  &  52726453 &  52827336 & ZYG11B & 100884 & 2.40442324 & 2.721947 & 1.696391928 & 1.93205391 & 2.29115164 & ⋯ & 3.544036 & 3.484308 & 0.4755354 & 3.054658 &  2.250495 &   5.064730 &  2.776557 &  2.320942 & 0.8105345 &  22.18181\\\\\n",
       "\t5 & chr1  &  52842760 &  52894995 & ZYG11A &  52236 & 0.02507844 & 0.000000 & 0.009062964 & 0.00901304 & 0.01125936 & ⋯ & 5.929393 & 5.880546 & 0.9347707 & 5.545885 &  3.761215 &  14.146738 &  2.605882 &  1.136030 & 1.4433557 &  28.51244\\\\\n",
       "\t6 & chr3  & 126458901 & 126475919 & ZXDC   &  17019 & 5.01605015 & 5.566338 & 4.854020230 & 4.42616029 & 5.70208232 & ⋯ & 3.911294 & 4.109098 & 0.5964147 & 4.148990 &  5.833403 &  34.028588 &  9.555510 &  8.504887 & 0.6104753 &  47.13325\\\\\n",
       "\\end{tabular}\n"
      ],
      "text/markdown": [
       "\n",
       "A data.frame: 6 × 891\n",
       "\n",
       "| <!--/--> | chromosome &lt;chr&gt; | start &lt;int&gt; | end &lt;int&gt; | GeneID &lt;chr&gt; | Length &lt;int&gt; | SRZ1950491 &lt;dbl&gt; | SRZ1950493 &lt;dbl&gt; | SRZ1950495 &lt;dbl&gt; | SRZ1950497 &lt;dbl&gt; | SRZ1950499 &lt;dbl&gt; | ⋯ ⋯ | SRR11793827 &lt;dbl&gt; | SRR11793828 &lt;dbl&gt; | SRR11793829 &lt;dbl&gt; | SRR11793830 &lt;dbl&gt; | stdev &lt;dbl&gt; | variance &lt;dbl&gt; | mean &lt;dbl&gt; | median &lt;dbl&gt; | coefvar &lt;dbl&gt; | max &lt;dbl&gt; |\n",
       "|---|---|---|---|---|---|---|---|---|---|---|---|---|---|---|---|---|---|---|---|---|---|\n",
       "| 1 | chr1  |  77562416 |  77682658 | ZZZ3   | 120243 | 6.04104608 | 8.500381 | 6.128151747 | 6.32736293 | 6.43042127 | ⋯ | 5.773782 | 6.015668 | 0.5651401 | 4.867103 |  4.140656 |  17.145028 |  6.490899 |  5.920378 | 0.6379171 |  37.49324 |\n",
       "| 2 | chr17 |   4004445 |   4143030 | ZZEF1  | 138586 | 3.09257393 | 3.769672 | 3.528752108 | 3.38191819 | 3.80111167 | ⋯ | 3.801334 | 3.629428 | 0.5003618 | 3.094207 |  2.777647 |   7.715321 |  4.248136 |  3.673690 | 0.6538507 |  19.25574 |\n",
       "| 3 | chr7  | 143381345 | 143391111 | ZYX    |   9767 | 1.58714393 | 1.086327 | 0.460471342 | 0.48203659 | 0.90326181 | ⋯ | 8.501723 | 9.321644 | 1.3455589 | 6.870529 | 19.334068 | 373.806188 | 16.423841 | 10.985491 | 1.1771953 | 188.58948 |\n",
       "| 4 | chr1  |  52726453 |  52827336 | ZYG11B | 100884 | 2.40442324 | 2.721947 | 1.696391928 | 1.93205391 | 2.29115164 | ⋯ | 3.544036 | 3.484308 | 0.4755354 | 3.054658 |  2.250495 |   5.064730 |  2.776557 |  2.320942 | 0.8105345 |  22.18181 |\n",
       "| 5 | chr1  |  52842760 |  52894995 | ZYG11A |  52236 | 0.02507844 | 0.000000 | 0.009062964 | 0.00901304 | 0.01125936 | ⋯ | 5.929393 | 5.880546 | 0.9347707 | 5.545885 |  3.761215 |  14.146738 |  2.605882 |  1.136030 | 1.4433557 |  28.51244 |\n",
       "| 6 | chr3  | 126458901 | 126475919 | ZXDC   |  17019 | 5.01605015 | 5.566338 | 4.854020230 | 4.42616029 | 5.70208232 | ⋯ | 3.911294 | 4.109098 | 0.5964147 | 4.148990 |  5.833403 |  34.028588 |  9.555510 |  8.504887 | 0.6104753 |  47.13325 |\n",
       "\n"
      ],
      "text/plain": [
       "  chromosome start     end       GeneID Length SRZ1950491 SRZ1950493\n",
       "1 chr1        77562416  77682658 ZZZ3   120243 6.04104608 8.500381  \n",
       "2 chr17        4004445   4143030 ZZEF1  138586 3.09257393 3.769672  \n",
       "3 chr7       143381345 143391111 ZYX      9767 1.58714393 1.086327  \n",
       "4 chr1        52726453  52827336 ZYG11B 100884 2.40442324 2.721947  \n",
       "5 chr1        52842760  52894995 ZYG11A  52236 0.02507844 0.000000  \n",
       "6 chr3       126458901 126475919 ZXDC    17019 5.01605015 5.566338  \n",
       "  SRZ1950495  SRZ1950497 SRZ1950499 ⋯ SRR11793827 SRR11793828 SRR11793829\n",
       "1 6.128151747 6.32736293 6.43042127 ⋯ 5.773782    6.015668    0.5651401  \n",
       "2 3.528752108 3.38191819 3.80111167 ⋯ 3.801334    3.629428    0.5003618  \n",
       "3 0.460471342 0.48203659 0.90326181 ⋯ 8.501723    9.321644    1.3455589  \n",
       "4 1.696391928 1.93205391 2.29115164 ⋯ 3.544036    3.484308    0.4755354  \n",
       "5 0.009062964 0.00901304 0.01125936 ⋯ 5.929393    5.880546    0.9347707  \n",
       "6 4.854020230 4.42616029 5.70208232 ⋯ 3.911294    4.109098    0.5964147  \n",
       "  SRR11793830 stdev     variance   mean      median    coefvar   max      \n",
       "1 4.867103     4.140656  17.145028  6.490899  5.920378 0.6379171  37.49324\n",
       "2 3.094207     2.777647   7.715321  4.248136  3.673690 0.6538507  19.25574\n",
       "3 6.870529    19.334068 373.806188 16.423841 10.985491 1.1771953 188.58948\n",
       "4 3.054658     2.250495   5.064730  2.776557  2.320942 0.8105345  22.18181\n",
       "5 5.545885     3.761215  14.146738  2.605882  1.136030 1.4433557  28.51244\n",
       "6 4.148990     5.833403  34.028588  9.555510  8.504887 0.6104753  47.13325"
      ]
     },
     "metadata": {},
     "output_type": "display_data"
    }
   ],
   "source": [
    "##get summary statistics\n",
    "gene_bidir_tpm_df$stdev <- apply(gene_bidir_tpm_df[c(6:ncol(counts_bidir_genes))], 1, sd)\n",
    "gene_bidir_tpm_df$variance <- apply(gene_bidir_tpm_df[c(6:ncol(counts_bidir_genes))], 1, var)\n",
    "gene_bidir_tpm_df$mean <- apply(gene_bidir_tpm_df[c(6:ncol(counts_bidir_genes))], 1, mean)\n",
    "gene_bidir_tpm_df$median <- apply(gene_bidir_tpm_df[c(6:ncol(counts_bidir_genes))], 1, median)\n",
    "gene_bidir_tpm_df$coefvar <- gene_bidir_tpm_df$stdev/gene_bidir_tpm_df$mean #apply(gene_bidir_tpm_df[c(6:ncol(counts_bidir_genes))], 1, cv)\n",
    "gene_bidir_tpm_df$max <- apply(gene_bidir_tpm_df[c(6:ncol(counts_bidir_genes))], 1, max)\n",
    "head(gene_bidir_tpm_df)"
   ]
  },
  {
   "cell_type": "code",
   "execution_count": 38,
   "metadata": {
    "code_folding": []
   },
   "outputs": [],
   "source": [
    "#gene_bidir_tpm_df$coefvar <- apply(gene_bidir_tpm_df[c(6:ncol(counts_bidir_genes))], 1, cv)"
   ]
  },
  {
   "cell_type": "markdown",
   "metadata": {},
   "source": [
    "#### Filter trancripts based on counts\n"
   ]
  },
  {
   "cell_type": "code",
   "execution_count": 39,
   "metadata": {},
   "outputs": [],
   "source": [
    "##filter rows with all TPM values not 0\n",
    "rows_without_zero <- apply(gene_bidir_tpm_df[7:ncol(counts_genes)], 1, function(row) any(row > 0 ))\n",
    "                        \n",
    "##Subset the rows that fulfill the above criteria\n",
    "tpm_df_genes_bidir_transcribed <- gene_bidir_tpm_df[rows_without_zero,]\n",
    "                           "
   ]
  },
  {
   "cell_type": "code",
   "execution_count": 40,
   "metadata": {},
   "outputs": [
    {
     "data": {
      "text/html": [
       "<style>\n",
       ".list-inline {list-style: none; margin:0; padding: 0}\n",
       ".list-inline>li {display: inline-block}\n",
       ".list-inline>li:not(:last-child)::after {content: \"\\00b7\"; padding: 0 .5ex}\n",
       "</style>\n",
       "<ol class=list-inline><li>282242</li><li>891</li></ol>\n"
      ],
      "text/latex": [
       "\\begin{enumerate*}\n",
       "\\item 282242\n",
       "\\item 891\n",
       "\\end{enumerate*}\n"
      ],
      "text/markdown": [
       "1. 282242\n",
       "2. 891\n",
       "\n",
       "\n"
      ],
      "text/plain": [
       "[1] 282242    891"
      ]
     },
     "metadata": {},
     "output_type": "display_data"
    }
   ],
   "source": [
    "dim(tpm_df_genes_bidir_transcribed)"
   ]
  },
  {
   "cell_type": "markdown",
   "metadata": {},
   "source": [
    "#### Add bidirectional/gene ID column"
   ]
  },
  {
   "cell_type": "code",
   "execution_count": 41,
   "metadata": {},
   "outputs": [
    {
     "data": {
      "text/html": [
       "<table class=\"dataframe\">\n",
       "<caption>A data.frame: 6 × 892</caption>\n",
       "<thead>\n",
       "\t<tr><th></th><th scope=col>chromosome</th><th scope=col>start</th><th scope=col>end</th><th scope=col>GeneID</th><th scope=col>Length</th><th scope=col>SRZ1950491</th><th scope=col>SRZ1950493</th><th scope=col>SRZ1950495</th><th scope=col>SRZ1950497</th><th scope=col>SRZ1950499</th><th scope=col>⋯</th><th scope=col>SRR11793828</th><th scope=col>SRR11793829</th><th scope=col>SRR11793830</th><th scope=col>stdev</th><th scope=col>variance</th><th scope=col>mean</th><th scope=col>median</th><th scope=col>coefvar</th><th scope=col>max</th><th scope=col>bidir</th></tr>\n",
       "\t<tr><th></th><th scope=col>&lt;chr&gt;</th><th scope=col>&lt;int&gt;</th><th scope=col>&lt;int&gt;</th><th scope=col>&lt;chr&gt;</th><th scope=col>&lt;int&gt;</th><th scope=col>&lt;dbl&gt;</th><th scope=col>&lt;dbl&gt;</th><th scope=col>&lt;dbl&gt;</th><th scope=col>&lt;dbl&gt;</th><th scope=col>&lt;dbl&gt;</th><th scope=col>⋯</th><th scope=col>&lt;dbl&gt;</th><th scope=col>&lt;dbl&gt;</th><th scope=col>&lt;dbl&gt;</th><th scope=col>&lt;dbl&gt;</th><th scope=col>&lt;dbl&gt;</th><th scope=col>&lt;dbl&gt;</th><th scope=col>&lt;dbl&gt;</th><th scope=col>&lt;dbl&gt;</th><th scope=col>&lt;dbl&gt;</th><th scope=col>&lt;chr&gt;</th></tr>\n",
       "</thead>\n",
       "<tbody>\n",
       "\t<tr><th scope=row>1</th><td>chr1 </td><td> 77562416</td><td> 77682658</td><td>ZZZ3  </td><td>120243</td><td>6.04104608</td><td>8.500381</td><td>6.128151747</td><td>6.32736293</td><td>6.43042127</td><td>⋯</td><td>6.015668</td><td>0.5651401</td><td>4.867103</td><td> 4.140656</td><td> 17.145028</td><td> 6.490899</td><td> 5.920378</td><td>0.6379171</td><td> 37.49324</td><td>NA</td></tr>\n",
       "\t<tr><th scope=row>2</th><td>chr17</td><td>  4004445</td><td>  4143030</td><td>ZZEF1 </td><td>138586</td><td>3.09257393</td><td>3.769672</td><td>3.528752108</td><td>3.38191819</td><td>3.80111167</td><td>⋯</td><td>3.629428</td><td>0.5003618</td><td>3.094207</td><td> 2.777647</td><td>  7.715321</td><td> 4.248136</td><td> 3.673690</td><td>0.6538507</td><td> 19.25574</td><td>NA</td></tr>\n",
       "\t<tr><th scope=row>3</th><td>chr7 </td><td>143381345</td><td>143391111</td><td>ZYX   </td><td>  9767</td><td>1.58714393</td><td>1.086327</td><td>0.460471342</td><td>0.48203659</td><td>0.90326181</td><td>⋯</td><td>9.321644</td><td>1.3455589</td><td>6.870529</td><td>19.334068</td><td>373.806188</td><td>16.423841</td><td>10.985491</td><td>1.1771953</td><td>188.58948</td><td>NA</td></tr>\n",
       "\t<tr><th scope=row>4</th><td>chr1 </td><td> 52726453</td><td> 52827336</td><td>ZYG11B</td><td>100884</td><td>2.40442324</td><td>2.721947</td><td>1.696391928</td><td>1.93205391</td><td>2.29115164</td><td>⋯</td><td>3.484308</td><td>0.4755354</td><td>3.054658</td><td> 2.250495</td><td>  5.064730</td><td> 2.776557</td><td> 2.320942</td><td>0.8105345</td><td> 22.18181</td><td>NA</td></tr>\n",
       "\t<tr><th scope=row>5</th><td>chr1 </td><td> 52842760</td><td> 52894995</td><td>ZYG11A</td><td> 52236</td><td>0.02507844</td><td>0.000000</td><td>0.009062964</td><td>0.00901304</td><td>0.01125936</td><td>⋯</td><td>5.880546</td><td>0.9347707</td><td>5.545885</td><td> 3.761215</td><td> 14.146738</td><td> 2.605882</td><td> 1.136030</td><td>1.4433557</td><td> 28.51244</td><td>NA</td></tr>\n",
       "\t<tr><th scope=row>6</th><td>chr3 </td><td>126458901</td><td>126475919</td><td>ZXDC  </td><td> 17019</td><td>5.01605015</td><td>5.566338</td><td>4.854020230</td><td>4.42616029</td><td>5.70208232</td><td>⋯</td><td>4.109098</td><td>0.5964147</td><td>4.148990</td><td> 5.833403</td><td> 34.028588</td><td> 9.555510</td><td> 8.504887</td><td>0.6104753</td><td> 47.13325</td><td>NA</td></tr>\n",
       "</tbody>\n",
       "</table>\n"
      ],
      "text/latex": [
       "A data.frame: 6 × 892\n",
       "\\begin{tabular}{r|lllllllllllllllllllll}\n",
       "  & chromosome & start & end & GeneID & Length & SRZ1950491 & SRZ1950493 & SRZ1950495 & SRZ1950497 & SRZ1950499 & ⋯ & SRR11793828 & SRR11793829 & SRR11793830 & stdev & variance & mean & median & coefvar & max & bidir\\\\\n",
       "  & <chr> & <int> & <int> & <chr> & <int> & <dbl> & <dbl> & <dbl> & <dbl> & <dbl> & ⋯ & <dbl> & <dbl> & <dbl> & <dbl> & <dbl> & <dbl> & <dbl> & <dbl> & <dbl> & <chr>\\\\\n",
       "\\hline\n",
       "\t1 & chr1  &  77562416 &  77682658 & ZZZ3   & 120243 & 6.04104608 & 8.500381 & 6.128151747 & 6.32736293 & 6.43042127 & ⋯ & 6.015668 & 0.5651401 & 4.867103 &  4.140656 &  17.145028 &  6.490899 &  5.920378 & 0.6379171 &  37.49324 & NA\\\\\n",
       "\t2 & chr17 &   4004445 &   4143030 & ZZEF1  & 138586 & 3.09257393 & 3.769672 & 3.528752108 & 3.38191819 & 3.80111167 & ⋯ & 3.629428 & 0.5003618 & 3.094207 &  2.777647 &   7.715321 &  4.248136 &  3.673690 & 0.6538507 &  19.25574 & NA\\\\\n",
       "\t3 & chr7  & 143381345 & 143391111 & ZYX    &   9767 & 1.58714393 & 1.086327 & 0.460471342 & 0.48203659 & 0.90326181 & ⋯ & 9.321644 & 1.3455589 & 6.870529 & 19.334068 & 373.806188 & 16.423841 & 10.985491 & 1.1771953 & 188.58948 & NA\\\\\n",
       "\t4 & chr1  &  52726453 &  52827336 & ZYG11B & 100884 & 2.40442324 & 2.721947 & 1.696391928 & 1.93205391 & 2.29115164 & ⋯ & 3.484308 & 0.4755354 & 3.054658 &  2.250495 &   5.064730 &  2.776557 &  2.320942 & 0.8105345 &  22.18181 & NA\\\\\n",
       "\t5 & chr1  &  52842760 &  52894995 & ZYG11A &  52236 & 0.02507844 & 0.000000 & 0.009062964 & 0.00901304 & 0.01125936 & ⋯ & 5.880546 & 0.9347707 & 5.545885 &  3.761215 &  14.146738 &  2.605882 &  1.136030 & 1.4433557 &  28.51244 & NA\\\\\n",
       "\t6 & chr3  & 126458901 & 126475919 & ZXDC   &  17019 & 5.01605015 & 5.566338 & 4.854020230 & 4.42616029 & 5.70208232 & ⋯ & 4.109098 & 0.5964147 & 4.148990 &  5.833403 &  34.028588 &  9.555510 &  8.504887 & 0.6104753 &  47.13325 & NA\\\\\n",
       "\\end{tabular}\n"
      ],
      "text/markdown": [
       "\n",
       "A data.frame: 6 × 892\n",
       "\n",
       "| <!--/--> | chromosome &lt;chr&gt; | start &lt;int&gt; | end &lt;int&gt; | GeneID &lt;chr&gt; | Length &lt;int&gt; | SRZ1950491 &lt;dbl&gt; | SRZ1950493 &lt;dbl&gt; | SRZ1950495 &lt;dbl&gt; | SRZ1950497 &lt;dbl&gt; | SRZ1950499 &lt;dbl&gt; | ⋯ ⋯ | SRR11793828 &lt;dbl&gt; | SRR11793829 &lt;dbl&gt; | SRR11793830 &lt;dbl&gt; | stdev &lt;dbl&gt; | variance &lt;dbl&gt; | mean &lt;dbl&gt; | median &lt;dbl&gt; | coefvar &lt;dbl&gt; | max &lt;dbl&gt; | bidir &lt;chr&gt; |\n",
       "|---|---|---|---|---|---|---|---|---|---|---|---|---|---|---|---|---|---|---|---|---|---|\n",
       "| 1 | chr1  |  77562416 |  77682658 | ZZZ3   | 120243 | 6.04104608 | 8.500381 | 6.128151747 | 6.32736293 | 6.43042127 | ⋯ | 6.015668 | 0.5651401 | 4.867103 |  4.140656 |  17.145028 |  6.490899 |  5.920378 | 0.6379171 |  37.49324 | NA |\n",
       "| 2 | chr17 |   4004445 |   4143030 | ZZEF1  | 138586 | 3.09257393 | 3.769672 | 3.528752108 | 3.38191819 | 3.80111167 | ⋯ | 3.629428 | 0.5003618 | 3.094207 |  2.777647 |   7.715321 |  4.248136 |  3.673690 | 0.6538507 |  19.25574 | NA |\n",
       "| 3 | chr7  | 143381345 | 143391111 | ZYX    |   9767 | 1.58714393 | 1.086327 | 0.460471342 | 0.48203659 | 0.90326181 | ⋯ | 9.321644 | 1.3455589 | 6.870529 | 19.334068 | 373.806188 | 16.423841 | 10.985491 | 1.1771953 | 188.58948 | NA |\n",
       "| 4 | chr1  |  52726453 |  52827336 | ZYG11B | 100884 | 2.40442324 | 2.721947 | 1.696391928 | 1.93205391 | 2.29115164 | ⋯ | 3.484308 | 0.4755354 | 3.054658 |  2.250495 |   5.064730 |  2.776557 |  2.320942 | 0.8105345 |  22.18181 | NA |\n",
       "| 5 | chr1  |  52842760 |  52894995 | ZYG11A |  52236 | 0.02507844 | 0.000000 | 0.009062964 | 0.00901304 | 0.01125936 | ⋯ | 5.880546 | 0.9347707 | 5.545885 |  3.761215 |  14.146738 |  2.605882 |  1.136030 | 1.4433557 |  28.51244 | NA |\n",
       "| 6 | chr3  | 126458901 | 126475919 | ZXDC   |  17019 | 5.01605015 | 5.566338 | 4.854020230 | 4.42616029 | 5.70208232 | ⋯ | 4.109098 | 0.5964147 | 4.148990 |  5.833403 |  34.028588 |  9.555510 |  8.504887 | 0.6104753 |  47.13325 | NA |\n",
       "\n"
      ],
      "text/plain": [
       "  chromosome start     end       GeneID Length SRZ1950491 SRZ1950493\n",
       "1 chr1        77562416  77682658 ZZZ3   120243 6.04104608 8.500381  \n",
       "2 chr17        4004445   4143030 ZZEF1  138586 3.09257393 3.769672  \n",
       "3 chr7       143381345 143391111 ZYX      9767 1.58714393 1.086327  \n",
       "4 chr1        52726453  52827336 ZYG11B 100884 2.40442324 2.721947  \n",
       "5 chr1        52842760  52894995 ZYG11A  52236 0.02507844 0.000000  \n",
       "6 chr3       126458901 126475919 ZXDC    17019 5.01605015 5.566338  \n",
       "  SRZ1950495  SRZ1950497 SRZ1950499 ⋯ SRR11793828 SRR11793829 SRR11793830\n",
       "1 6.128151747 6.32736293 6.43042127 ⋯ 6.015668    0.5651401   4.867103   \n",
       "2 3.528752108 3.38191819 3.80111167 ⋯ 3.629428    0.5003618   3.094207   \n",
       "3 0.460471342 0.48203659 0.90326181 ⋯ 9.321644    1.3455589   6.870529   \n",
       "4 1.696391928 1.93205391 2.29115164 ⋯ 3.484308    0.4755354   3.054658   \n",
       "5 0.009062964 0.00901304 0.01125936 ⋯ 5.880546    0.9347707   5.545885   \n",
       "6 4.854020230 4.42616029 5.70208232 ⋯ 4.109098    0.5964147   4.148990   \n",
       "  stdev     variance   mean      median    coefvar   max       bidir\n",
       "1  4.140656  17.145028  6.490899  5.920378 0.6379171  37.49324 NA   \n",
       "2  2.777647   7.715321  4.248136  3.673690 0.6538507  19.25574 NA   \n",
       "3 19.334068 373.806188 16.423841 10.985491 1.1771953 188.58948 NA   \n",
       "4  2.250495   5.064730  2.776557  2.320942 0.8105345  22.18181 NA   \n",
       "5  3.761215  14.146738  2.605882  1.136030 1.4433557  28.51244 NA   \n",
       "6  5.833403  34.028588  9.555510  8.504887 0.6104753  47.13325 NA   "
      ]
     },
     "metadata": {},
     "output_type": "display_data"
    },
    {
     "data": {
      "text/html": [
       "<table class=\"dataframe\">\n",
       "<caption>A data.frame: 6 × 892</caption>\n",
       "<thead>\n",
       "\t<tr><th></th><th scope=col>chromosome</th><th scope=col>start</th><th scope=col>end</th><th scope=col>GeneID</th><th scope=col>Length</th><th scope=col>SRZ1950491</th><th scope=col>SRZ1950493</th><th scope=col>SRZ1950495</th><th scope=col>SRZ1950497</th><th scope=col>SRZ1950499</th><th scope=col>⋯</th><th scope=col>SRR11793828</th><th scope=col>SRR11793829</th><th scope=col>SRR11793830</th><th scope=col>stdev</th><th scope=col>variance</th><th scope=col>mean</th><th scope=col>median</th><th scope=col>coefvar</th><th scope=col>max</th><th scope=col>bidir</th></tr>\n",
       "\t<tr><th></th><th scope=col>&lt;chr&gt;</th><th scope=col>&lt;int&gt;</th><th scope=col>&lt;int&gt;</th><th scope=col>&lt;chr&gt;</th><th scope=col>&lt;int&gt;</th><th scope=col>&lt;dbl&gt;</th><th scope=col>&lt;dbl&gt;</th><th scope=col>&lt;dbl&gt;</th><th scope=col>&lt;dbl&gt;</th><th scope=col>&lt;dbl&gt;</th><th scope=col>⋯</th><th scope=col>&lt;dbl&gt;</th><th scope=col>&lt;dbl&gt;</th><th scope=col>&lt;dbl&gt;</th><th scope=col>&lt;dbl&gt;</th><th scope=col>&lt;dbl&gt;</th><th scope=col>&lt;dbl&gt;</th><th scope=col>&lt;dbl&gt;</th><th scope=col>&lt;dbl&gt;</th><th scope=col>&lt;dbl&gt;</th><th scope=col>&lt;chr&gt;</th></tr>\n",
       "</thead>\n",
       "<tbody>\n",
       "\t<tr><th scope=row>284007</th><td>chrY</td><td>56877879</td><td>56878049</td><td>chrY-56877879-56878049-tfit     </td><td>170</td><td>0</td><td>0</td><td>0</td><td>0</td><td>0</td><td>⋯</td><td>0.0000000</td><td>0</td><td>0.0000000</td><td>0.8023843</td><td>0.64382063</td><td>0.11475204</td><td>0</td><td> 6.992332</td><td>13.203867</td><td>tfit     </td></tr>\n",
       "\t<tr><th scope=row>284008</th><td>chrY</td><td>56878648</td><td>56878950</td><td>chrY-56878648-56878950-tfit,dreg</td><td>302</td><td>0</td><td>0</td><td>0</td><td>0</td><td>0</td><td>⋯</td><td>0.8738315</td><td>0</td><td>0.7742167</td><td>2.0344029</td><td>4.13879508</td><td>0.35441159</td><td>0</td><td> 5.740227</td><td>32.251448</td><td>tfit,dreg</td></tr>\n",
       "\t<tr><th scope=row>284009</th><td>chrY</td><td>56881703</td><td>56881987</td><td>chrY-56881703-56881987-tfit,dreg</td><td>284</td><td>0</td><td>0</td><td>0</td><td>0</td><td>0</td><td>⋯</td><td>0.0000000</td><td>0</td><td>0.0000000</td><td>2.0231772</td><td>4.09324609</td><td>0.20457207</td><td>0</td><td> 9.889802</td><td>54.939976</td><td>tfit,dreg</td></tr>\n",
       "\t<tr><th scope=row>284010</th><td>chrY</td><td>56883159</td><td>56883487</td><td>chrY-56883159-56883487-dreg     </td><td>328</td><td>0</td><td>0</td><td>0</td><td>0</td><td>0</td><td>⋯</td><td>0.0000000</td><td>0</td><td>0.0000000</td><td>0.3458919</td><td>0.11964122</td><td>0.05826328</td><td>0</td><td> 5.936705</td><td> 6.670231</td><td>dreg     </td></tr>\n",
       "\t<tr><th scope=row>284011</th><td>chrY</td><td>56883555</td><td>56883771</td><td>chrY-56883555-56883771-tfit     </td><td>216</td><td>0</td><td>0</td><td>0</td><td>0</td><td>0</td><td>⋯</td><td>0.0000000</td><td>0</td><td>0.0000000</td><td>1.5781528</td><td>2.49056625</td><td>0.10278229</td><td>0</td><td>15.354327</td><td>45.723784</td><td>tfit     </td></tr>\n",
       "\t<tr><th scope=row>284012</th><td>chrY</td><td>56884671</td><td>56885119</td><td>chrY-56884671-56885119-dreg     </td><td>448</td><td>0</td><td>0</td><td>0</td><td>0</td><td>0</td><td>⋯</td><td>0.0000000</td><td>0</td><td>0.0000000</td><td>0.1623258</td><td>0.02634966</td><td>0.02185622</td><td>0</td><td> 7.426983</td><td> 2.646486</td><td>dreg     </td></tr>\n",
       "</tbody>\n",
       "</table>\n"
      ],
      "text/latex": [
       "A data.frame: 6 × 892\n",
       "\\begin{tabular}{r|lllllllllllllllllllll}\n",
       "  & chromosome & start & end & GeneID & Length & SRZ1950491 & SRZ1950493 & SRZ1950495 & SRZ1950497 & SRZ1950499 & ⋯ & SRR11793828 & SRR11793829 & SRR11793830 & stdev & variance & mean & median & coefvar & max & bidir\\\\\n",
       "  & <chr> & <int> & <int> & <chr> & <int> & <dbl> & <dbl> & <dbl> & <dbl> & <dbl> & ⋯ & <dbl> & <dbl> & <dbl> & <dbl> & <dbl> & <dbl> & <dbl> & <dbl> & <dbl> & <chr>\\\\\n",
       "\\hline\n",
       "\t284007 & chrY & 56877879 & 56878049 & chrY-56877879-56878049-tfit      & 170 & 0 & 0 & 0 & 0 & 0 & ⋯ & 0.0000000 & 0 & 0.0000000 & 0.8023843 & 0.64382063 & 0.11475204 & 0 &  6.992332 & 13.203867 & tfit     \\\\\n",
       "\t284008 & chrY & 56878648 & 56878950 & chrY-56878648-56878950-tfit,dreg & 302 & 0 & 0 & 0 & 0 & 0 & ⋯ & 0.8738315 & 0 & 0.7742167 & 2.0344029 & 4.13879508 & 0.35441159 & 0 &  5.740227 & 32.251448 & tfit,dreg\\\\\n",
       "\t284009 & chrY & 56881703 & 56881987 & chrY-56881703-56881987-tfit,dreg & 284 & 0 & 0 & 0 & 0 & 0 & ⋯ & 0.0000000 & 0 & 0.0000000 & 2.0231772 & 4.09324609 & 0.20457207 & 0 &  9.889802 & 54.939976 & tfit,dreg\\\\\n",
       "\t284010 & chrY & 56883159 & 56883487 & chrY-56883159-56883487-dreg      & 328 & 0 & 0 & 0 & 0 & 0 & ⋯ & 0.0000000 & 0 & 0.0000000 & 0.3458919 & 0.11964122 & 0.05826328 & 0 &  5.936705 &  6.670231 & dreg     \\\\\n",
       "\t284011 & chrY & 56883555 & 56883771 & chrY-56883555-56883771-tfit      & 216 & 0 & 0 & 0 & 0 & 0 & ⋯ & 0.0000000 & 0 & 0.0000000 & 1.5781528 & 2.49056625 & 0.10278229 & 0 & 15.354327 & 45.723784 & tfit     \\\\\n",
       "\t284012 & chrY & 56884671 & 56885119 & chrY-56884671-56885119-dreg      & 448 & 0 & 0 & 0 & 0 & 0 & ⋯ & 0.0000000 & 0 & 0.0000000 & 0.1623258 & 0.02634966 & 0.02185622 & 0 &  7.426983 &  2.646486 & dreg     \\\\\n",
       "\\end{tabular}\n"
      ],
      "text/markdown": [
       "\n",
       "A data.frame: 6 × 892\n",
       "\n",
       "| <!--/--> | chromosome &lt;chr&gt; | start &lt;int&gt; | end &lt;int&gt; | GeneID &lt;chr&gt; | Length &lt;int&gt; | SRZ1950491 &lt;dbl&gt; | SRZ1950493 &lt;dbl&gt; | SRZ1950495 &lt;dbl&gt; | SRZ1950497 &lt;dbl&gt; | SRZ1950499 &lt;dbl&gt; | ⋯ ⋯ | SRR11793828 &lt;dbl&gt; | SRR11793829 &lt;dbl&gt; | SRR11793830 &lt;dbl&gt; | stdev &lt;dbl&gt; | variance &lt;dbl&gt; | mean &lt;dbl&gt; | median &lt;dbl&gt; | coefvar &lt;dbl&gt; | max &lt;dbl&gt; | bidir &lt;chr&gt; |\n",
       "|---|---|---|---|---|---|---|---|---|---|---|---|---|---|---|---|---|---|---|---|---|---|\n",
       "| 284007 | chrY | 56877879 | 56878049 | chrY-56877879-56878049-tfit      | 170 | 0 | 0 | 0 | 0 | 0 | ⋯ | 0.0000000 | 0 | 0.0000000 | 0.8023843 | 0.64382063 | 0.11475204 | 0 |  6.992332 | 13.203867 | tfit      |\n",
       "| 284008 | chrY | 56878648 | 56878950 | chrY-56878648-56878950-tfit,dreg | 302 | 0 | 0 | 0 | 0 | 0 | ⋯ | 0.8738315 | 0 | 0.7742167 | 2.0344029 | 4.13879508 | 0.35441159 | 0 |  5.740227 | 32.251448 | tfit,dreg |\n",
       "| 284009 | chrY | 56881703 | 56881987 | chrY-56881703-56881987-tfit,dreg | 284 | 0 | 0 | 0 | 0 | 0 | ⋯ | 0.0000000 | 0 | 0.0000000 | 2.0231772 | 4.09324609 | 0.20457207 | 0 |  9.889802 | 54.939976 | tfit,dreg |\n",
       "| 284010 | chrY | 56883159 | 56883487 | chrY-56883159-56883487-dreg      | 328 | 0 | 0 | 0 | 0 | 0 | ⋯ | 0.0000000 | 0 | 0.0000000 | 0.3458919 | 0.11964122 | 0.05826328 | 0 |  5.936705 |  6.670231 | dreg      |\n",
       "| 284011 | chrY | 56883555 | 56883771 | chrY-56883555-56883771-tfit      | 216 | 0 | 0 | 0 | 0 | 0 | ⋯ | 0.0000000 | 0 | 0.0000000 | 1.5781528 | 2.49056625 | 0.10278229 | 0 | 15.354327 | 45.723784 | tfit      |\n",
       "| 284012 | chrY | 56884671 | 56885119 | chrY-56884671-56885119-dreg      | 448 | 0 | 0 | 0 | 0 | 0 | ⋯ | 0.0000000 | 0 | 0.0000000 | 0.1623258 | 0.02634966 | 0.02185622 | 0 |  7.426983 |  2.646486 | dreg      |\n",
       "\n"
      ],
      "text/plain": [
       "       chromosome start    end      GeneID                           Length\n",
       "284007 chrY       56877879 56878049 chrY-56877879-56878049-tfit      170   \n",
       "284008 chrY       56878648 56878950 chrY-56878648-56878950-tfit,dreg 302   \n",
       "284009 chrY       56881703 56881987 chrY-56881703-56881987-tfit,dreg 284   \n",
       "284010 chrY       56883159 56883487 chrY-56883159-56883487-dreg      328   \n",
       "284011 chrY       56883555 56883771 chrY-56883555-56883771-tfit      216   \n",
       "284012 chrY       56884671 56885119 chrY-56884671-56885119-dreg      448   \n",
       "       SRZ1950491 SRZ1950493 SRZ1950495 SRZ1950497 SRZ1950499 ⋯ SRR11793828\n",
       "284007 0          0          0          0          0          ⋯ 0.0000000  \n",
       "284008 0          0          0          0          0          ⋯ 0.8738315  \n",
       "284009 0          0          0          0          0          ⋯ 0.0000000  \n",
       "284010 0          0          0          0          0          ⋯ 0.0000000  \n",
       "284011 0          0          0          0          0          ⋯ 0.0000000  \n",
       "284012 0          0          0          0          0          ⋯ 0.0000000  \n",
       "       SRR11793829 SRR11793830 stdev     variance   mean       median coefvar  \n",
       "284007 0           0.0000000   0.8023843 0.64382063 0.11475204 0       6.992332\n",
       "284008 0           0.7742167   2.0344029 4.13879508 0.35441159 0       5.740227\n",
       "284009 0           0.0000000   2.0231772 4.09324609 0.20457207 0       9.889802\n",
       "284010 0           0.0000000   0.3458919 0.11964122 0.05826328 0       5.936705\n",
       "284011 0           0.0000000   1.5781528 2.49056625 0.10278229 0      15.354327\n",
       "284012 0           0.0000000   0.1623258 0.02634966 0.02185622 0       7.426983\n",
       "       max       bidir    \n",
       "284007 13.203867 tfit     \n",
       "284008 32.251448 tfit,dreg\n",
       "284009 54.939976 tfit,dreg\n",
       "284010  6.670231 dreg     \n",
       "284011 45.723784 tfit     \n",
       "284012  2.646486 dreg     "
      ]
     },
     "metadata": {},
     "output_type": "display_data"
    }
   ],
   "source": [
    "tpm_df_genes_bidir_transcribed$bidir <- as.character(lapply(strsplit(as.character(tpm_df_genes_bidir_transcribed$GeneID), '-'), `[`, 4))\n",
    "head(tpm_df_genes_bidir_transcribed)\n",
    "tail(tpm_df_genes_bidir_transcribed)"
   ]
  },
  {
   "cell_type": "code",
   "execution_count": 42,
   "metadata": {},
   "outputs": [
    {
     "data": {
      "text/html": [
       "<style>\n",
       ".list-inline {list-style: none; margin:0; padding: 0}\n",
       ".list-inline>li {display: inline-block}\n",
       ".list-inline>li:not(:last-child)::after {content: \"\\00b7\"; padding: 0 .5ex}\n",
       "</style>\n",
       "<ol class=list-inline><li>28018</li><li>892</li></ol>\n"
      ],
      "text/latex": [
       "\\begin{enumerate*}\n",
       "\\item 28018\n",
       "\\item 892\n",
       "\\end{enumerate*}\n"
      ],
      "text/markdown": [
       "1. 28018\n",
       "2. 892\n",
       "\n",
       "\n"
      ],
      "text/plain": [
       "[1] 28018   892"
      ]
     },
     "metadata": {},
     "output_type": "display_data"
    },
    {
     "data": {
      "text/html": [
       "<table class=\"dataframe\">\n",
       "<caption>A data.frame: 3 × 892</caption>\n",
       "<thead>\n",
       "\t<tr><th></th><th scope=col>chromosome</th><th scope=col>start</th><th scope=col>end</th><th scope=col>GeneID</th><th scope=col>Length</th><th scope=col>SRZ1950491</th><th scope=col>SRZ1950493</th><th scope=col>SRZ1950495</th><th scope=col>SRZ1950497</th><th scope=col>SRZ1950499</th><th scope=col>⋯</th><th scope=col>SRR11793828</th><th scope=col>SRR11793829</th><th scope=col>SRR11793830</th><th scope=col>stdev</th><th scope=col>variance</th><th scope=col>mean</th><th scope=col>median</th><th scope=col>coefvar</th><th scope=col>max</th><th scope=col>bidir</th></tr>\n",
       "\t<tr><th></th><th scope=col>&lt;chr&gt;</th><th scope=col>&lt;int&gt;</th><th scope=col>&lt;int&gt;</th><th scope=col>&lt;chr&gt;</th><th scope=col>&lt;int&gt;</th><th scope=col>&lt;dbl&gt;</th><th scope=col>&lt;dbl&gt;</th><th scope=col>&lt;dbl&gt;</th><th scope=col>&lt;dbl&gt;</th><th scope=col>&lt;dbl&gt;</th><th scope=col>⋯</th><th scope=col>&lt;dbl&gt;</th><th scope=col>&lt;dbl&gt;</th><th scope=col>&lt;dbl&gt;</th><th scope=col>&lt;dbl&gt;</th><th scope=col>&lt;dbl&gt;</th><th scope=col>&lt;dbl&gt;</th><th scope=col>&lt;dbl&gt;</th><th scope=col>&lt;dbl&gt;</th><th scope=col>&lt;dbl&gt;</th><th scope=col>&lt;chr&gt;</th></tr>\n",
       "</thead>\n",
       "<tbody>\n",
       "\t<tr><th scope=row>1</th><td>chr1 </td><td> 77562416</td><td> 77682658</td><td>ZZZ3 </td><td>120243</td><td>6.041046</td><td>8.500381</td><td>6.1281517</td><td>6.3273629</td><td>6.4304213</td><td>⋯</td><td>6.015668</td><td>0.5651401</td><td>4.867103</td><td> 4.140656</td><td> 17.145028</td><td> 6.490899</td><td> 5.920378</td><td>0.6379171</td><td> 37.49324</td><td>NA</td></tr>\n",
       "\t<tr><th scope=row>2</th><td>chr17</td><td>  4004445</td><td>  4143030</td><td>ZZEF1</td><td>138586</td><td>3.092574</td><td>3.769672</td><td>3.5287521</td><td>3.3819182</td><td>3.8011117</td><td>⋯</td><td>3.629428</td><td>0.5003618</td><td>3.094207</td><td> 2.777647</td><td>  7.715321</td><td> 4.248136</td><td> 3.673690</td><td>0.6538507</td><td> 19.25574</td><td>NA</td></tr>\n",
       "\t<tr><th scope=row>3</th><td>chr7 </td><td>143381345</td><td>143391111</td><td>ZYX  </td><td>  9767</td><td>1.587144</td><td>1.086327</td><td>0.4604713</td><td>0.4820366</td><td>0.9032618</td><td>⋯</td><td>9.321644</td><td>1.3455589</td><td>6.870529</td><td>19.334068</td><td>373.806188</td><td>16.423841</td><td>10.985491</td><td>1.1771953</td><td>188.58948</td><td>NA</td></tr>\n",
       "</tbody>\n",
       "</table>\n"
      ],
      "text/latex": [
       "A data.frame: 3 × 892\n",
       "\\begin{tabular}{r|lllllllllllllllllllll}\n",
       "  & chromosome & start & end & GeneID & Length & SRZ1950491 & SRZ1950493 & SRZ1950495 & SRZ1950497 & SRZ1950499 & ⋯ & SRR11793828 & SRR11793829 & SRR11793830 & stdev & variance & mean & median & coefvar & max & bidir\\\\\n",
       "  & <chr> & <int> & <int> & <chr> & <int> & <dbl> & <dbl> & <dbl> & <dbl> & <dbl> & ⋯ & <dbl> & <dbl> & <dbl> & <dbl> & <dbl> & <dbl> & <dbl> & <dbl> & <dbl> & <chr>\\\\\n",
       "\\hline\n",
       "\t1 & chr1  &  77562416 &  77682658 & ZZZ3  & 120243 & 6.041046 & 8.500381 & 6.1281517 & 6.3273629 & 6.4304213 & ⋯ & 6.015668 & 0.5651401 & 4.867103 &  4.140656 &  17.145028 &  6.490899 &  5.920378 & 0.6379171 &  37.49324 & NA\\\\\n",
       "\t2 & chr17 &   4004445 &   4143030 & ZZEF1 & 138586 & 3.092574 & 3.769672 & 3.5287521 & 3.3819182 & 3.8011117 & ⋯ & 3.629428 & 0.5003618 & 3.094207 &  2.777647 &   7.715321 &  4.248136 &  3.673690 & 0.6538507 &  19.25574 & NA\\\\\n",
       "\t3 & chr7  & 143381345 & 143391111 & ZYX   &   9767 & 1.587144 & 1.086327 & 0.4604713 & 0.4820366 & 0.9032618 & ⋯ & 9.321644 & 1.3455589 & 6.870529 & 19.334068 & 373.806188 & 16.423841 & 10.985491 & 1.1771953 & 188.58948 & NA\\\\\n",
       "\\end{tabular}\n"
      ],
      "text/markdown": [
       "\n",
       "A data.frame: 3 × 892\n",
       "\n",
       "| <!--/--> | chromosome &lt;chr&gt; | start &lt;int&gt; | end &lt;int&gt; | GeneID &lt;chr&gt; | Length &lt;int&gt; | SRZ1950491 &lt;dbl&gt; | SRZ1950493 &lt;dbl&gt; | SRZ1950495 &lt;dbl&gt; | SRZ1950497 &lt;dbl&gt; | SRZ1950499 &lt;dbl&gt; | ⋯ ⋯ | SRR11793828 &lt;dbl&gt; | SRR11793829 &lt;dbl&gt; | SRR11793830 &lt;dbl&gt; | stdev &lt;dbl&gt; | variance &lt;dbl&gt; | mean &lt;dbl&gt; | median &lt;dbl&gt; | coefvar &lt;dbl&gt; | max &lt;dbl&gt; | bidir &lt;chr&gt; |\n",
       "|---|---|---|---|---|---|---|---|---|---|---|---|---|---|---|---|---|---|---|---|---|---|\n",
       "| 1 | chr1  |  77562416 |  77682658 | ZZZ3  | 120243 | 6.041046 | 8.500381 | 6.1281517 | 6.3273629 | 6.4304213 | ⋯ | 6.015668 | 0.5651401 | 4.867103 |  4.140656 |  17.145028 |  6.490899 |  5.920378 | 0.6379171 |  37.49324 | NA |\n",
       "| 2 | chr17 |   4004445 |   4143030 | ZZEF1 | 138586 | 3.092574 | 3.769672 | 3.5287521 | 3.3819182 | 3.8011117 | ⋯ | 3.629428 | 0.5003618 | 3.094207 |  2.777647 |   7.715321 |  4.248136 |  3.673690 | 0.6538507 |  19.25574 | NA |\n",
       "| 3 | chr7  | 143381345 | 143391111 | ZYX   |   9767 | 1.587144 | 1.086327 | 0.4604713 | 0.4820366 | 0.9032618 | ⋯ | 9.321644 | 1.3455589 | 6.870529 | 19.334068 | 373.806188 | 16.423841 | 10.985491 | 1.1771953 | 188.58948 | NA |\n",
       "\n"
      ],
      "text/plain": [
       "  chromosome start     end       GeneID Length SRZ1950491 SRZ1950493 SRZ1950495\n",
       "1 chr1        77562416  77682658 ZZZ3   120243 6.041046   8.500381   6.1281517 \n",
       "2 chr17        4004445   4143030 ZZEF1  138586 3.092574   3.769672   3.5287521 \n",
       "3 chr7       143381345 143391111 ZYX      9767 1.587144   1.086327   0.4604713 \n",
       "  SRZ1950497 SRZ1950499 ⋯ SRR11793828 SRR11793829 SRR11793830 stdev    \n",
       "1 6.3273629  6.4304213  ⋯ 6.015668    0.5651401   4.867103     4.140656\n",
       "2 3.3819182  3.8011117  ⋯ 3.629428    0.5003618   3.094207     2.777647\n",
       "3 0.4820366  0.9032618  ⋯ 9.321644    1.3455589   6.870529    19.334068\n",
       "  variance   mean      median    coefvar   max       bidir\n",
       "1  17.145028  6.490899  5.920378 0.6379171  37.49324 NA   \n",
       "2   7.715321  4.248136  3.673690 0.6538507  19.25574 NA   \n",
       "3 373.806188 16.423841 10.985491 1.1771953 188.58948 NA   "
      ]
     },
     "metadata": {},
     "output_type": "display_data"
    },
    {
     "data": {
      "text/html": [
       "<table class=\"dataframe\">\n",
       "<caption>A data.frame: 3 × 892</caption>\n",
       "<thead>\n",
       "\t<tr><th></th><th scope=col>chromosome</th><th scope=col>start</th><th scope=col>end</th><th scope=col>GeneID</th><th scope=col>Length</th><th scope=col>SRZ1950491</th><th scope=col>SRZ1950493</th><th scope=col>SRZ1950495</th><th scope=col>SRZ1950497</th><th scope=col>SRZ1950499</th><th scope=col>⋯</th><th scope=col>SRR11793828</th><th scope=col>SRR11793829</th><th scope=col>SRR11793830</th><th scope=col>stdev</th><th scope=col>variance</th><th scope=col>mean</th><th scope=col>median</th><th scope=col>coefvar</th><th scope=col>max</th><th scope=col>bidir</th></tr>\n",
       "\t<tr><th></th><th scope=col>&lt;chr&gt;</th><th scope=col>&lt;int&gt;</th><th scope=col>&lt;int&gt;</th><th scope=col>&lt;chr&gt;</th><th scope=col>&lt;int&gt;</th><th scope=col>&lt;dbl&gt;</th><th scope=col>&lt;dbl&gt;</th><th scope=col>&lt;dbl&gt;</th><th scope=col>&lt;dbl&gt;</th><th scope=col>&lt;dbl&gt;</th><th scope=col>⋯</th><th scope=col>&lt;dbl&gt;</th><th scope=col>&lt;dbl&gt;</th><th scope=col>&lt;dbl&gt;</th><th scope=col>&lt;dbl&gt;</th><th scope=col>&lt;dbl&gt;</th><th scope=col>&lt;dbl&gt;</th><th scope=col>&lt;dbl&gt;</th><th scope=col>&lt;dbl&gt;</th><th scope=col>&lt;dbl&gt;</th><th scope=col>&lt;chr&gt;</th></tr>\n",
       "</thead>\n",
       "<tbody>\n",
       "\t<tr><th scope=row>28235</th><td>chr10</td><td>50799409</td><td>50885627</td><td>A1CF    </td><td>86219</td><td> 0.000000</td><td> 0.008790035</td><td> 0.00000</td><td>0.00000</td><td> 0.004547674</td><td>⋯</td><td>0.01836466</td><td>0.01115317</td><td>0.00542371</td><td> 1.081002</td><td>  1.168565</td><td>0.128504</td><td>0.002794921</td><td>8.412204</td><td> 15.36740</td><td>NA</td></tr>\n",
       "\t<tr><th scope=row>28236</th><td>chr19</td><td>58351970</td><td>58355183</td><td>A1BG-AS1</td><td> 3214</td><td>15.556388</td><td>11.004099353</td><td>13.03580</td><td>8.93563</td><td>10.552674749</td><td>⋯</td><td>9.03194801</td><td>0.99731920</td><td>6.83835182</td><td>13.765780</td><td>189.496707</td><td>8.733684</td><td>5.349873806</td><td>1.576171</td><td>240.33947</td><td>NA</td></tr>\n",
       "\t<tr><th scope=row>28237</th><td>chr19</td><td>58345183</td><td>58353492</td><td>A1BG    </td><td> 8310</td><td> 4.676685</td><td> 3.495981745</td><td> 2.13634</td><td>2.26621</td><td> 3.137710992</td><td>⋯</td><td>0.95269711</td><td>0.30858088</td><td>0.73154624</td><td> 3.195592</td><td> 10.211808</td><td>2.883564</td><td>1.903160061</td><td>1.108209</td><td> 31.43148</td><td>NA</td></tr>\n",
       "</tbody>\n",
       "</table>\n"
      ],
      "text/latex": [
       "A data.frame: 3 × 892\n",
       "\\begin{tabular}{r|lllllllllllllllllllll}\n",
       "  & chromosome & start & end & GeneID & Length & SRZ1950491 & SRZ1950493 & SRZ1950495 & SRZ1950497 & SRZ1950499 & ⋯ & SRR11793828 & SRR11793829 & SRR11793830 & stdev & variance & mean & median & coefvar & max & bidir\\\\\n",
       "  & <chr> & <int> & <int> & <chr> & <int> & <dbl> & <dbl> & <dbl> & <dbl> & <dbl> & ⋯ & <dbl> & <dbl> & <dbl> & <dbl> & <dbl> & <dbl> & <dbl> & <dbl> & <dbl> & <chr>\\\\\n",
       "\\hline\n",
       "\t28235 & chr10 & 50799409 & 50885627 & A1CF     & 86219 &  0.000000 &  0.008790035 &  0.00000 & 0.00000 &  0.004547674 & ⋯ & 0.01836466 & 0.01115317 & 0.00542371 &  1.081002 &   1.168565 & 0.128504 & 0.002794921 & 8.412204 &  15.36740 & NA\\\\\n",
       "\t28236 & chr19 & 58351970 & 58355183 & A1BG-AS1 &  3214 & 15.556388 & 11.004099353 & 13.03580 & 8.93563 & 10.552674749 & ⋯ & 9.03194801 & 0.99731920 & 6.83835182 & 13.765780 & 189.496707 & 8.733684 & 5.349873806 & 1.576171 & 240.33947 & NA\\\\\n",
       "\t28237 & chr19 & 58345183 & 58353492 & A1BG     &  8310 &  4.676685 &  3.495981745 &  2.13634 & 2.26621 &  3.137710992 & ⋯ & 0.95269711 & 0.30858088 & 0.73154624 &  3.195592 &  10.211808 & 2.883564 & 1.903160061 & 1.108209 &  31.43148 & NA\\\\\n",
       "\\end{tabular}\n"
      ],
      "text/markdown": [
       "\n",
       "A data.frame: 3 × 892\n",
       "\n",
       "| <!--/--> | chromosome &lt;chr&gt; | start &lt;int&gt; | end &lt;int&gt; | GeneID &lt;chr&gt; | Length &lt;int&gt; | SRZ1950491 &lt;dbl&gt; | SRZ1950493 &lt;dbl&gt; | SRZ1950495 &lt;dbl&gt; | SRZ1950497 &lt;dbl&gt; | SRZ1950499 &lt;dbl&gt; | ⋯ ⋯ | SRR11793828 &lt;dbl&gt; | SRR11793829 &lt;dbl&gt; | SRR11793830 &lt;dbl&gt; | stdev &lt;dbl&gt; | variance &lt;dbl&gt; | mean &lt;dbl&gt; | median &lt;dbl&gt; | coefvar &lt;dbl&gt; | max &lt;dbl&gt; | bidir &lt;chr&gt; |\n",
       "|---|---|---|---|---|---|---|---|---|---|---|---|---|---|---|---|---|---|---|---|---|---|\n",
       "| 28235 | chr10 | 50799409 | 50885627 | A1CF     | 86219 |  0.000000 |  0.008790035 |  0.00000 | 0.00000 |  0.004547674 | ⋯ | 0.01836466 | 0.01115317 | 0.00542371 |  1.081002 |   1.168565 | 0.128504 | 0.002794921 | 8.412204 |  15.36740 | NA |\n",
       "| 28236 | chr19 | 58351970 | 58355183 | A1BG-AS1 |  3214 | 15.556388 | 11.004099353 | 13.03580 | 8.93563 | 10.552674749 | ⋯ | 9.03194801 | 0.99731920 | 6.83835182 | 13.765780 | 189.496707 | 8.733684 | 5.349873806 | 1.576171 | 240.33947 | NA |\n",
       "| 28237 | chr19 | 58345183 | 58353492 | A1BG     |  8310 |  4.676685 |  3.495981745 |  2.13634 | 2.26621 |  3.137710992 | ⋯ | 0.95269711 | 0.30858088 | 0.73154624 |  3.195592 |  10.211808 | 2.883564 | 1.903160061 | 1.108209 |  31.43148 | NA |\n",
       "\n"
      ],
      "text/plain": [
       "      chromosome start    end      GeneID   Length SRZ1950491 SRZ1950493  \n",
       "28235 chr10      50799409 50885627 A1CF     86219   0.000000   0.008790035\n",
       "28236 chr19      58351970 58355183 A1BG-AS1  3214  15.556388  11.004099353\n",
       "28237 chr19      58345183 58353492 A1BG      8310   4.676685   3.495981745\n",
       "      SRZ1950495 SRZ1950497 SRZ1950499   ⋯ SRR11793828 SRR11793829 SRR11793830\n",
       "28235  0.00000   0.00000     0.004547674 ⋯ 0.01836466  0.01115317  0.00542371 \n",
       "28236 13.03580   8.93563    10.552674749 ⋯ 9.03194801  0.99731920  6.83835182 \n",
       "28237  2.13634   2.26621     3.137710992 ⋯ 0.95269711  0.30858088  0.73154624 \n",
       "      stdev     variance   mean     median      coefvar  max       bidir\n",
       "28235  1.081002   1.168565 0.128504 0.002794921 8.412204  15.36740 NA   \n",
       "28236 13.765780 189.496707 8.733684 5.349873806 1.576171 240.33947 NA   \n",
       "28237  3.195592  10.211808 2.883564 1.903160061 1.108209  31.43148 NA   "
      ]
     },
     "metadata": {},
     "output_type": "display_data"
    }
   ],
   "source": [
    "transcribed_geneid <- tpm_df_genes_bidir_transcribed[is.na(tpm_df_genes_bidir_transcribed$bidir),]\n",
    "dim(transcribed_geneid)\n",
    "head(transcribed_geneid, 3)\n",
    "tail(transcribed_geneid, 3)"
   ]
  },
  {
   "cell_type": "code",
   "execution_count": 43,
   "metadata": {},
   "outputs": [
    {
     "data": {
      "text/html": [
       "<style>\n",
       ".list-inline {list-style: none; margin:0; padding: 0}\n",
       ".list-inline>li {display: inline-block}\n",
       ".list-inline>li:not(:last-child)::after {content: \"\\00b7\"; padding: 0 .5ex}\n",
       "</style>\n",
       "<ol class=list-inline><li>105198</li><li>892</li></ol>\n"
      ],
      "text/latex": [
       "\\begin{enumerate*}\n",
       "\\item 105198\n",
       "\\item 892\n",
       "\\end{enumerate*}\n"
      ],
      "text/markdown": [
       "1. 105198\n",
       "2. 892\n",
       "\n",
       "\n"
      ],
      "text/plain": [
       "[1] 105198    892"
      ]
     },
     "metadata": {},
     "output_type": "display_data"
    }
   ],
   "source": [
    "gn_dreg_tfit_list <- (unique(c(rownames(tpm_df_genes_bidir_transcribed[grep(\"dreg,\", \n",
    "                                                                            tpm_df_genes_bidir_transcribed$bidir),]),\n",
    "                            rownames(tpm_df_genes_bidir_transcribed[grep(\"tfit,\",\n",
    "                                                                         tpm_df_genes_bidir_transcribed$bidir),]),\n",
    "                            rownames(tpm_df_genes_bidir_transcribed[grep(\",dreg\",\n",
    "                                                                         tpm_df_genes_bidir_transcribed$bidir),]),\n",
    "                            rownames(tpm_df_genes_bidir_transcribed[grep(\",tfit\",\n",
    "                                                                         tpm_df_genes_bidir_transcribed$bidir),]))))\n",
    "\n",
    "gn_tpm_tfit_dreg_df <- tpm_df_genes_bidir_transcribed[gn_dreg_tfit_list, ]\n",
    "dim(gn_tpm_tfit_dreg_df)"
   ]
  },
  {
   "cell_type": "code",
   "execution_count": 44,
   "metadata": {},
   "outputs": [
    {
     "data": {
      "text/html": [
       "<style>\n",
       ".list-inline {list-style: none; margin:0; padding: 0}\n",
       ".list-inline>li {display: inline-block}\n",
       ".list-inline>li:not(:last-child)::after {content: \"\\00b7\"; padding: 0 .5ex}\n",
       "</style>\n",
       "<ol class=list-inline><li>86749</li><li>892</li></ol>\n"
      ],
      "text/latex": [
       "\\begin{enumerate*}\n",
       "\\item 86749\n",
       "\\item 892\n",
       "\\end{enumerate*}\n"
      ],
      "text/markdown": [
       "1. 86749\n",
       "2. 892\n",
       "\n",
       "\n"
      ],
      "text/plain": [
       "[1] 86749   892"
      ]
     },
     "metadata": {},
     "output_type": "display_data"
    }
   ],
   "source": [
    "gn_tpm_dreg_df <- subset(tpm_df_genes_bidir_transcribed, bidir=='dreg')\n",
    "dim(gn_tpm_dreg_df)"
   ]
  },
  {
   "cell_type": "code",
   "execution_count": 45,
   "metadata": {},
   "outputs": [
    {
     "data": {
      "text/html": [
       "<style>\n",
       ".list-inline {list-style: none; margin:0; padding: 0}\n",
       ".list-inline>li {display: inline-block}\n",
       ".list-inline>li:not(:last-child)::after {content: \"\\00b7\"; padding: 0 .5ex}\n",
       "</style>\n",
       "<ol class=list-inline><li>62277</li><li>892</li></ol>\n"
      ],
      "text/latex": [
       "\\begin{enumerate*}\n",
       "\\item 62277\n",
       "\\item 892\n",
       "\\end{enumerate*}\n"
      ],
      "text/markdown": [
       "1. 62277\n",
       "2. 892\n",
       "\n",
       "\n"
      ],
      "text/plain": [
       "[1] 62277   892"
      ]
     },
     "metadata": {},
     "output_type": "display_data"
    }
   ],
   "source": [
    "gn_tpm_tfit_df <- subset(tpm_df_genes_bidir_transcribed, bidir=='tfit')\n",
    "dim(gn_tpm_tfit_df)"
   ]
  },
  {
   "cell_type": "code",
   "execution_count": 46,
   "metadata": {},
   "outputs": [
    {
     "data": {
      "text/html": [
       "<style>\n",
       ".list-inline {list-style: none; margin:0; padding: 0}\n",
       ".list-inline>li {display: inline-block}\n",
       ".list-inline>li:not(:last-child)::after {content: \"\\00b7\"; padding: 0 .5ex}\n",
       "</style>\n",
       "<ol class=list-inline><li>282242</li><li>893</li></ol>\n"
      ],
      "text/latex": [
       "\\begin{enumerate*}\n",
       "\\item 282242\n",
       "\\item 893\n",
       "\\end{enumerate*}\n"
      ],
      "text/markdown": [
       "1. 282242\n",
       "2. 893\n",
       "\n",
       "\n"
      ],
      "text/plain": [
       "[1] 282242    893"
      ]
     },
     "metadata": {},
     "output_type": "display_data"
    },
    {
     "data": {
      "text/html": [
       "<table class=\"dataframe\">\n",
       "<caption>A data.frame: 6 × 893</caption>\n",
       "<thead>\n",
       "\t<tr><th></th><th scope=col>chromosome</th><th scope=col>start</th><th scope=col>end</th><th scope=col>GeneID</th><th scope=col>Length</th><th scope=col>SRZ1950491</th><th scope=col>SRZ1950493</th><th scope=col>SRZ1950495</th><th scope=col>SRZ1950497</th><th scope=col>SRZ1950499</th><th scope=col>⋯</th><th scope=col>SRR11793829</th><th scope=col>SRR11793830</th><th scope=col>stdev</th><th scope=col>variance</th><th scope=col>mean</th><th scope=col>median</th><th scope=col>coefvar</th><th scope=col>max</th><th scope=col>bidir</th><th scope=col>bidir_id</th></tr>\n",
       "\t<tr><th></th><th scope=col>&lt;chr&gt;</th><th scope=col>&lt;int&gt;</th><th scope=col>&lt;int&gt;</th><th scope=col>&lt;chr&gt;</th><th scope=col>&lt;int&gt;</th><th scope=col>&lt;dbl&gt;</th><th scope=col>&lt;dbl&gt;</th><th scope=col>&lt;dbl&gt;</th><th scope=col>&lt;dbl&gt;</th><th scope=col>&lt;dbl&gt;</th><th scope=col>⋯</th><th scope=col>&lt;dbl&gt;</th><th scope=col>&lt;dbl&gt;</th><th scope=col>&lt;dbl&gt;</th><th scope=col>&lt;dbl&gt;</th><th scope=col>&lt;dbl&gt;</th><th scope=col>&lt;dbl&gt;</th><th scope=col>&lt;dbl&gt;</th><th scope=col>&lt;dbl&gt;</th><th scope=col>&lt;chr&gt;</th><th scope=col>&lt;chr&gt;</th></tr>\n",
       "</thead>\n",
       "<tbody>\n",
       "\t<tr><th scope=row>1</th><td>chr1 </td><td> 77562416</td><td> 77682658</td><td>ZZZ3  </td><td>120243</td><td>6.04104608</td><td>8.500381</td><td>6.128151747</td><td>6.32736293</td><td>6.43042127</td><td>⋯</td><td>0.5651401</td><td>4.867103</td><td> 4.140656</td><td> 17.145028</td><td> 6.490899</td><td> 5.920378</td><td>0.6379171</td><td> 37.49324</td><td>NA</td><td>Gene</td></tr>\n",
       "\t<tr><th scope=row>2</th><td>chr17</td><td>  4004445</td><td>  4143030</td><td>ZZEF1 </td><td>138586</td><td>3.09257393</td><td>3.769672</td><td>3.528752108</td><td>3.38191819</td><td>3.80111167</td><td>⋯</td><td>0.5003618</td><td>3.094207</td><td> 2.777647</td><td>  7.715321</td><td> 4.248136</td><td> 3.673690</td><td>0.6538507</td><td> 19.25574</td><td>NA</td><td>Gene</td></tr>\n",
       "\t<tr><th scope=row>3</th><td>chr7 </td><td>143381345</td><td>143391111</td><td>ZYX   </td><td>  9767</td><td>1.58714393</td><td>1.086327</td><td>0.460471342</td><td>0.48203659</td><td>0.90326181</td><td>⋯</td><td>1.3455589</td><td>6.870529</td><td>19.334068</td><td>373.806188</td><td>16.423841</td><td>10.985491</td><td>1.1771953</td><td>188.58948</td><td>NA</td><td>Gene</td></tr>\n",
       "\t<tr><th scope=row>4</th><td>chr1 </td><td> 52726453</td><td> 52827336</td><td>ZYG11B</td><td>100884</td><td>2.40442324</td><td>2.721947</td><td>1.696391928</td><td>1.93205391</td><td>2.29115164</td><td>⋯</td><td>0.4755354</td><td>3.054658</td><td> 2.250495</td><td>  5.064730</td><td> 2.776557</td><td> 2.320942</td><td>0.8105345</td><td> 22.18181</td><td>NA</td><td>Gene</td></tr>\n",
       "\t<tr><th scope=row>5</th><td>chr1 </td><td> 52842760</td><td> 52894995</td><td>ZYG11A</td><td> 52236</td><td>0.02507844</td><td>0.000000</td><td>0.009062964</td><td>0.00901304</td><td>0.01125936</td><td>⋯</td><td>0.9347707</td><td>5.545885</td><td> 3.761215</td><td> 14.146738</td><td> 2.605882</td><td> 1.136030</td><td>1.4433557</td><td> 28.51244</td><td>NA</td><td>Gene</td></tr>\n",
       "\t<tr><th scope=row>6</th><td>chr3 </td><td>126458901</td><td>126475919</td><td>ZXDC  </td><td> 17019</td><td>5.01605015</td><td>5.566338</td><td>4.854020230</td><td>4.42616029</td><td>5.70208232</td><td>⋯</td><td>0.5964147</td><td>4.148990</td><td> 5.833403</td><td> 34.028588</td><td> 9.555510</td><td> 8.504887</td><td>0.6104753</td><td> 47.13325</td><td>NA</td><td>Gene</td></tr>\n",
       "</tbody>\n",
       "</table>\n"
      ],
      "text/latex": [
       "A data.frame: 6 × 893\n",
       "\\begin{tabular}{r|lllllllllllllllllllll}\n",
       "  & chromosome & start & end & GeneID & Length & SRZ1950491 & SRZ1950493 & SRZ1950495 & SRZ1950497 & SRZ1950499 & ⋯ & SRR11793829 & SRR11793830 & stdev & variance & mean & median & coefvar & max & bidir & bidir\\_id\\\\\n",
       "  & <chr> & <int> & <int> & <chr> & <int> & <dbl> & <dbl> & <dbl> & <dbl> & <dbl> & ⋯ & <dbl> & <dbl> & <dbl> & <dbl> & <dbl> & <dbl> & <dbl> & <dbl> & <chr> & <chr>\\\\\n",
       "\\hline\n",
       "\t1 & chr1  &  77562416 &  77682658 & ZZZ3   & 120243 & 6.04104608 & 8.500381 & 6.128151747 & 6.32736293 & 6.43042127 & ⋯ & 0.5651401 & 4.867103 &  4.140656 &  17.145028 &  6.490899 &  5.920378 & 0.6379171 &  37.49324 & NA & Gene\\\\\n",
       "\t2 & chr17 &   4004445 &   4143030 & ZZEF1  & 138586 & 3.09257393 & 3.769672 & 3.528752108 & 3.38191819 & 3.80111167 & ⋯ & 0.5003618 & 3.094207 &  2.777647 &   7.715321 &  4.248136 &  3.673690 & 0.6538507 &  19.25574 & NA & Gene\\\\\n",
       "\t3 & chr7  & 143381345 & 143391111 & ZYX    &   9767 & 1.58714393 & 1.086327 & 0.460471342 & 0.48203659 & 0.90326181 & ⋯ & 1.3455589 & 6.870529 & 19.334068 & 373.806188 & 16.423841 & 10.985491 & 1.1771953 & 188.58948 & NA & Gene\\\\\n",
       "\t4 & chr1  &  52726453 &  52827336 & ZYG11B & 100884 & 2.40442324 & 2.721947 & 1.696391928 & 1.93205391 & 2.29115164 & ⋯ & 0.4755354 & 3.054658 &  2.250495 &   5.064730 &  2.776557 &  2.320942 & 0.8105345 &  22.18181 & NA & Gene\\\\\n",
       "\t5 & chr1  &  52842760 &  52894995 & ZYG11A &  52236 & 0.02507844 & 0.000000 & 0.009062964 & 0.00901304 & 0.01125936 & ⋯ & 0.9347707 & 5.545885 &  3.761215 &  14.146738 &  2.605882 &  1.136030 & 1.4433557 &  28.51244 & NA & Gene\\\\\n",
       "\t6 & chr3  & 126458901 & 126475919 & ZXDC   &  17019 & 5.01605015 & 5.566338 & 4.854020230 & 4.42616029 & 5.70208232 & ⋯ & 0.5964147 & 4.148990 &  5.833403 &  34.028588 &  9.555510 &  8.504887 & 0.6104753 &  47.13325 & NA & Gene\\\\\n",
       "\\end{tabular}\n"
      ],
      "text/markdown": [
       "\n",
       "A data.frame: 6 × 893\n",
       "\n",
       "| <!--/--> | chromosome &lt;chr&gt; | start &lt;int&gt; | end &lt;int&gt; | GeneID &lt;chr&gt; | Length &lt;int&gt; | SRZ1950491 &lt;dbl&gt; | SRZ1950493 &lt;dbl&gt; | SRZ1950495 &lt;dbl&gt; | SRZ1950497 &lt;dbl&gt; | SRZ1950499 &lt;dbl&gt; | ⋯ ⋯ | SRR11793829 &lt;dbl&gt; | SRR11793830 &lt;dbl&gt; | stdev &lt;dbl&gt; | variance &lt;dbl&gt; | mean &lt;dbl&gt; | median &lt;dbl&gt; | coefvar &lt;dbl&gt; | max &lt;dbl&gt; | bidir &lt;chr&gt; | bidir_id &lt;chr&gt; |\n",
       "|---|---|---|---|---|---|---|---|---|---|---|---|---|---|---|---|---|---|---|---|---|---|\n",
       "| 1 | chr1  |  77562416 |  77682658 | ZZZ3   | 120243 | 6.04104608 | 8.500381 | 6.128151747 | 6.32736293 | 6.43042127 | ⋯ | 0.5651401 | 4.867103 |  4.140656 |  17.145028 |  6.490899 |  5.920378 | 0.6379171 |  37.49324 | NA | Gene |\n",
       "| 2 | chr17 |   4004445 |   4143030 | ZZEF1  | 138586 | 3.09257393 | 3.769672 | 3.528752108 | 3.38191819 | 3.80111167 | ⋯ | 0.5003618 | 3.094207 |  2.777647 |   7.715321 |  4.248136 |  3.673690 | 0.6538507 |  19.25574 | NA | Gene |\n",
       "| 3 | chr7  | 143381345 | 143391111 | ZYX    |   9767 | 1.58714393 | 1.086327 | 0.460471342 | 0.48203659 | 0.90326181 | ⋯ | 1.3455589 | 6.870529 | 19.334068 | 373.806188 | 16.423841 | 10.985491 | 1.1771953 | 188.58948 | NA | Gene |\n",
       "| 4 | chr1  |  52726453 |  52827336 | ZYG11B | 100884 | 2.40442324 | 2.721947 | 1.696391928 | 1.93205391 | 2.29115164 | ⋯ | 0.4755354 | 3.054658 |  2.250495 |   5.064730 |  2.776557 |  2.320942 | 0.8105345 |  22.18181 | NA | Gene |\n",
       "| 5 | chr1  |  52842760 |  52894995 | ZYG11A |  52236 | 0.02507844 | 0.000000 | 0.009062964 | 0.00901304 | 0.01125936 | ⋯ | 0.9347707 | 5.545885 |  3.761215 |  14.146738 |  2.605882 |  1.136030 | 1.4433557 |  28.51244 | NA | Gene |\n",
       "| 6 | chr3  | 126458901 | 126475919 | ZXDC   |  17019 | 5.01605015 | 5.566338 | 4.854020230 | 4.42616029 | 5.70208232 | ⋯ | 0.5964147 | 4.148990 |  5.833403 |  34.028588 |  9.555510 |  8.504887 | 0.6104753 |  47.13325 | NA | Gene |\n",
       "\n"
      ],
      "text/plain": [
       "  chromosome start     end       GeneID Length SRZ1950491 SRZ1950493\n",
       "1 chr1        77562416  77682658 ZZZ3   120243 6.04104608 8.500381  \n",
       "2 chr17        4004445   4143030 ZZEF1  138586 3.09257393 3.769672  \n",
       "3 chr7       143381345 143391111 ZYX      9767 1.58714393 1.086327  \n",
       "4 chr1        52726453  52827336 ZYG11B 100884 2.40442324 2.721947  \n",
       "5 chr1        52842760  52894995 ZYG11A  52236 0.02507844 0.000000  \n",
       "6 chr3       126458901 126475919 ZXDC    17019 5.01605015 5.566338  \n",
       "  SRZ1950495  SRZ1950497 SRZ1950499 ⋯ SRR11793829 SRR11793830 stdev    \n",
       "1 6.128151747 6.32736293 6.43042127 ⋯ 0.5651401   4.867103     4.140656\n",
       "2 3.528752108 3.38191819 3.80111167 ⋯ 0.5003618   3.094207     2.777647\n",
       "3 0.460471342 0.48203659 0.90326181 ⋯ 1.3455589   6.870529    19.334068\n",
       "4 1.696391928 1.93205391 2.29115164 ⋯ 0.4755354   3.054658     2.250495\n",
       "5 0.009062964 0.00901304 0.01125936 ⋯ 0.9347707   5.545885     3.761215\n",
       "6 4.854020230 4.42616029 5.70208232 ⋯ 0.5964147   4.148990     5.833403\n",
       "  variance   mean      median    coefvar   max       bidir bidir_id\n",
       "1  17.145028  6.490899  5.920378 0.6379171  37.49324 NA    Gene    \n",
       "2   7.715321  4.248136  3.673690 0.6538507  19.25574 NA    Gene    \n",
       "3 373.806188 16.423841 10.985491 1.1771953 188.58948 NA    Gene    \n",
       "4   5.064730  2.776557  2.320942 0.8105345  22.18181 NA    Gene    \n",
       "5  14.146738  2.605882  1.136030 1.4433557  28.51244 NA    Gene    \n",
       "6  34.028588  9.555510  8.504887 0.6104753  47.13325 NA    Gene    "
      ]
     },
     "metadata": {},
     "output_type": "display_data"
    }
   ],
   "source": [
    "transcribed_geneid$bidir_id <- rep('Gene', nrow(transcribed_geneid))\n",
    "gn_tpm_tfit_dreg_df$bidir_id <- rep('Tfit & dREG', nrow(gn_tpm_tfit_dreg_df))\n",
    "gn_tpm_tfit_df$bidir_id <- rep('Tfit', nrow(gn_tpm_tfit_df))\n",
    "gn_tpm_dreg_df$bidir_id <- rep('dREG', nrow(gn_tpm_dreg_df))\n",
    "\n",
    "gn_bdr_tpm_updated_df <- rbind(transcribed_geneid,\n",
    "                               gn_tpm_tfit_dreg_df,\n",
    "                               gn_tpm_tfit_df,\n",
    "                               gn_tpm_dreg_df)\n",
    "\n",
    "dim(gn_bdr_tpm_updated_df)\n",
    "head(gn_bdr_tpm_updated_df)"
   ]
  },
  {
   "cell_type": "code",
   "execution_count": 47,
   "metadata": {},
   "outputs": [],
   "source": [
    "gn_bdr_tpm_updated_df$bidir_id <- factor(gn_bdr_tpm_updated_df$bidir_id, \n",
    "                                         levels = c('dREG','Tfit','Tfit & dREG','Gene'))"
   ]
  },
  {
   "cell_type": "code",
   "execution_count": 48,
   "metadata": {},
   "outputs": [
    {
     "data": {
      "text/html": [
       "<style>\n",
       ".list-inline {list-style: none; margin:0; padding: 0}\n",
       ".list-inline>li {display: inline-block}\n",
       ".list-inline>li:not(:last-child)::after {content: \"\\00b7\"; padding: 0 .5ex}\n",
       "</style>\n",
       "<ol class=list-inline><li>282242</li><li>886</li></ol>\n"
      ],
      "text/latex": [
       "\\begin{enumerate*}\n",
       "\\item 282242\n",
       "\\item 886\n",
       "\\end{enumerate*}\n"
      ],
      "text/markdown": [
       "1. 282242\n",
       "2. 886\n",
       "\n",
       "\n"
      ],
      "text/plain": [
       "[1] 282242    886"
      ]
     },
     "metadata": {},
     "output_type": "display_data"
    },
    {
     "data": {
      "text/html": [
       "<table class=\"dataframe\">\n",
       "<caption>A data.frame: 6 × 886</caption>\n",
       "<thead>\n",
       "\t<tr><th></th><th scope=col>GeneID</th><th scope=col>chromosome</th><th scope=col>start</th><th scope=col>end</th><th scope=col>Length</th><th scope=col>bidir_id</th><th scope=col>SRZ1950491</th><th scope=col>SRZ1950493</th><th scope=col>SRZ1950495</th><th scope=col>SRZ1950497</th><th scope=col>⋯</th><th scope=col>SRR9833433</th><th scope=col>SRZ9833428</th><th scope=col>SRZ9833431</th><th scope=col>SRZ9833434</th><th scope=col>SRR11793825</th><th scope=col>SRR11793826</th><th scope=col>SRR11793827</th><th scope=col>SRR11793828</th><th scope=col>SRR11793829</th><th scope=col>SRR11793830</th></tr>\n",
       "\t<tr><th></th><th scope=col>&lt;chr&gt;</th><th scope=col>&lt;chr&gt;</th><th scope=col>&lt;int&gt;</th><th scope=col>&lt;int&gt;</th><th scope=col>&lt;int&gt;</th><th scope=col>&lt;fct&gt;</th><th scope=col>&lt;dbl&gt;</th><th scope=col>&lt;dbl&gt;</th><th scope=col>&lt;dbl&gt;</th><th scope=col>&lt;dbl&gt;</th><th scope=col>⋯</th><th scope=col>&lt;dbl&gt;</th><th scope=col>&lt;dbl&gt;</th><th scope=col>&lt;dbl&gt;</th><th scope=col>&lt;dbl&gt;</th><th scope=col>&lt;dbl&gt;</th><th scope=col>&lt;dbl&gt;</th><th scope=col>&lt;dbl&gt;</th><th scope=col>&lt;dbl&gt;</th><th scope=col>&lt;dbl&gt;</th><th scope=col>&lt;dbl&gt;</th></tr>\n",
       "</thead>\n",
       "<tbody>\n",
       "\t<tr><th scope=row>283981</th><td>chrY-56679417-56679635-dreg</td><td>chrY</td><td>56679417</td><td>56679635</td><td> 218</td><td>dREG</td><td>0</td><td>0</td><td>0</td><td>0</td><td>⋯</td><td>0</td><td>0</td><td>0</td><td>0</td><td>0</td><td>0</td><td>0.0000000</td><td>0.000000</td><td>0</td><td>0.0000000</td></tr>\n",
       "\t<tr><th scope=row>283988</th><td>chrY-56823211-56825224-dreg</td><td>chrY</td><td>56823211</td><td>56825224</td><td>2013</td><td>dREG</td><td>0</td><td>0</td><td>0</td><td>0</td><td>⋯</td><td>0</td><td>0</td><td>0</td><td>0</td><td>0</td><td>0</td><td>0.3409094</td><td>1.179868</td><td>0</td><td>0.1161517</td></tr>\n",
       "\t<tr><th scope=row>283991</th><td>chrY-56829421-56829779-dreg</td><td>chrY</td><td>56829421</td><td>56829779</td><td> 358</td><td>dREG</td><td>0</td><td>0</td><td>0</td><td>0</td><td>⋯</td><td>0</td><td>0</td><td>0</td><td>0</td><td>0</td><td>0</td><td>0.0000000</td><td>0.000000</td><td>0</td><td>1.9593304</td></tr>\n",
       "\t<tr><th scope=row>284003</th><td>chrY-56864435-56864843-dreg</td><td>chrY</td><td>56864435</td><td>56864843</td><td> 408</td><td>dREG</td><td>0</td><td>0</td><td>0</td><td>0</td><td>⋯</td><td>0</td><td>0</td><td>0</td><td>0</td><td>0</td><td>0</td><td>0.5606623</td><td>0.000000</td><td>0</td><td>0.0000000</td></tr>\n",
       "\t<tr><th scope=row>284010</th><td>chrY-56883159-56883487-dreg</td><td>chrY</td><td>56883159</td><td>56883487</td><td> 328</td><td>dREG</td><td>0</td><td>0</td><td>0</td><td>0</td><td>⋯</td><td>0</td><td>0</td><td>0</td><td>0</td><td>0</td><td>0</td><td>0.0000000</td><td>0.000000</td><td>0</td><td>0.0000000</td></tr>\n",
       "\t<tr><th scope=row>284012</th><td>chrY-56884671-56885119-dreg</td><td>chrY</td><td>56884671</td><td>56885119</td><td> 448</td><td>dREG</td><td>0</td><td>0</td><td>0</td><td>0</td><td>⋯</td><td>0</td><td>0</td><td>0</td><td>0</td><td>0</td><td>0</td><td>0.0000000</td><td>0.000000</td><td>0</td><td>0.0000000</td></tr>\n",
       "</tbody>\n",
       "</table>\n"
      ],
      "text/latex": [
       "A data.frame: 6 × 886\n",
       "\\begin{tabular}{r|lllllllllllllllllllll}\n",
       "  & GeneID & chromosome & start & end & Length & bidir\\_id & SRZ1950491 & SRZ1950493 & SRZ1950495 & SRZ1950497 & ⋯ & SRR9833433 & SRZ9833428 & SRZ9833431 & SRZ9833434 & SRR11793825 & SRR11793826 & SRR11793827 & SRR11793828 & SRR11793829 & SRR11793830\\\\\n",
       "  & <chr> & <chr> & <int> & <int> & <int> & <fct> & <dbl> & <dbl> & <dbl> & <dbl> & ⋯ & <dbl> & <dbl> & <dbl> & <dbl> & <dbl> & <dbl> & <dbl> & <dbl> & <dbl> & <dbl>\\\\\n",
       "\\hline\n",
       "\t283981 & chrY-56679417-56679635-dreg & chrY & 56679417 & 56679635 &  218 & dREG & 0 & 0 & 0 & 0 & ⋯ & 0 & 0 & 0 & 0 & 0 & 0 & 0.0000000 & 0.000000 & 0 & 0.0000000\\\\\n",
       "\t283988 & chrY-56823211-56825224-dreg & chrY & 56823211 & 56825224 & 2013 & dREG & 0 & 0 & 0 & 0 & ⋯ & 0 & 0 & 0 & 0 & 0 & 0 & 0.3409094 & 1.179868 & 0 & 0.1161517\\\\\n",
       "\t283991 & chrY-56829421-56829779-dreg & chrY & 56829421 & 56829779 &  358 & dREG & 0 & 0 & 0 & 0 & ⋯ & 0 & 0 & 0 & 0 & 0 & 0 & 0.0000000 & 0.000000 & 0 & 1.9593304\\\\\n",
       "\t284003 & chrY-56864435-56864843-dreg & chrY & 56864435 & 56864843 &  408 & dREG & 0 & 0 & 0 & 0 & ⋯ & 0 & 0 & 0 & 0 & 0 & 0 & 0.5606623 & 0.000000 & 0 & 0.0000000\\\\\n",
       "\t284010 & chrY-56883159-56883487-dreg & chrY & 56883159 & 56883487 &  328 & dREG & 0 & 0 & 0 & 0 & ⋯ & 0 & 0 & 0 & 0 & 0 & 0 & 0.0000000 & 0.000000 & 0 & 0.0000000\\\\\n",
       "\t284012 & chrY-56884671-56885119-dreg & chrY & 56884671 & 56885119 &  448 & dREG & 0 & 0 & 0 & 0 & ⋯ & 0 & 0 & 0 & 0 & 0 & 0 & 0.0000000 & 0.000000 & 0 & 0.0000000\\\\\n",
       "\\end{tabular}\n"
      ],
      "text/markdown": [
       "\n",
       "A data.frame: 6 × 886\n",
       "\n",
       "| <!--/--> | GeneID &lt;chr&gt; | chromosome &lt;chr&gt; | start &lt;int&gt; | end &lt;int&gt; | Length &lt;int&gt; | bidir_id &lt;fct&gt; | SRZ1950491 &lt;dbl&gt; | SRZ1950493 &lt;dbl&gt; | SRZ1950495 &lt;dbl&gt; | SRZ1950497 &lt;dbl&gt; | ⋯ ⋯ | SRR9833433 &lt;dbl&gt; | SRZ9833428 &lt;dbl&gt; | SRZ9833431 &lt;dbl&gt; | SRZ9833434 &lt;dbl&gt; | SRR11793825 &lt;dbl&gt; | SRR11793826 &lt;dbl&gt; | SRR11793827 &lt;dbl&gt; | SRR11793828 &lt;dbl&gt; | SRR11793829 &lt;dbl&gt; | SRR11793830 &lt;dbl&gt; |\n",
       "|---|---|---|---|---|---|---|---|---|---|---|---|---|---|---|---|---|---|---|---|---|---|\n",
       "| 283981 | chrY-56679417-56679635-dreg | chrY | 56679417 | 56679635 |  218 | dREG | 0 | 0 | 0 | 0 | ⋯ | 0 | 0 | 0 | 0 | 0 | 0 | 0.0000000 | 0.000000 | 0 | 0.0000000 |\n",
       "| 283988 | chrY-56823211-56825224-dreg | chrY | 56823211 | 56825224 | 2013 | dREG | 0 | 0 | 0 | 0 | ⋯ | 0 | 0 | 0 | 0 | 0 | 0 | 0.3409094 | 1.179868 | 0 | 0.1161517 |\n",
       "| 283991 | chrY-56829421-56829779-dreg | chrY | 56829421 | 56829779 |  358 | dREG | 0 | 0 | 0 | 0 | ⋯ | 0 | 0 | 0 | 0 | 0 | 0 | 0.0000000 | 0.000000 | 0 | 1.9593304 |\n",
       "| 284003 | chrY-56864435-56864843-dreg | chrY | 56864435 | 56864843 |  408 | dREG | 0 | 0 | 0 | 0 | ⋯ | 0 | 0 | 0 | 0 | 0 | 0 | 0.5606623 | 0.000000 | 0 | 0.0000000 |\n",
       "| 284010 | chrY-56883159-56883487-dreg | chrY | 56883159 | 56883487 |  328 | dREG | 0 | 0 | 0 | 0 | ⋯ | 0 | 0 | 0 | 0 | 0 | 0 | 0.0000000 | 0.000000 | 0 | 0.0000000 |\n",
       "| 284012 | chrY-56884671-56885119-dreg | chrY | 56884671 | 56885119 |  448 | dREG | 0 | 0 | 0 | 0 | ⋯ | 0 | 0 | 0 | 0 | 0 | 0 | 0.0000000 | 0.000000 | 0 | 0.0000000 |\n",
       "\n"
      ],
      "text/plain": [
       "       GeneID                      chromosome start    end      Length bidir_id\n",
       "283981 chrY-56679417-56679635-dreg chrY       56679417 56679635  218   dREG    \n",
       "283988 chrY-56823211-56825224-dreg chrY       56823211 56825224 2013   dREG    \n",
       "283991 chrY-56829421-56829779-dreg chrY       56829421 56829779  358   dREG    \n",
       "284003 chrY-56864435-56864843-dreg chrY       56864435 56864843  408   dREG    \n",
       "284010 chrY-56883159-56883487-dreg chrY       56883159 56883487  328   dREG    \n",
       "284012 chrY-56884671-56885119-dreg chrY       56884671 56885119  448   dREG    \n",
       "       SRZ1950491 SRZ1950493 SRZ1950495 SRZ1950497 ⋯ SRR9833433 SRZ9833428\n",
       "283981 0          0          0          0          ⋯ 0          0         \n",
       "283988 0          0          0          0          ⋯ 0          0         \n",
       "283991 0          0          0          0          ⋯ 0          0         \n",
       "284003 0          0          0          0          ⋯ 0          0         \n",
       "284010 0          0          0          0          ⋯ 0          0         \n",
       "284012 0          0          0          0          ⋯ 0          0         \n",
       "       SRZ9833431 SRZ9833434 SRR11793825 SRR11793826 SRR11793827 SRR11793828\n",
       "283981 0          0          0           0           0.0000000   0.000000   \n",
       "283988 0          0          0           0           0.3409094   1.179868   \n",
       "283991 0          0          0           0           0.0000000   0.000000   \n",
       "284003 0          0          0           0           0.5606623   0.000000   \n",
       "284010 0          0          0           0           0.0000000   0.000000   \n",
       "284012 0          0          0           0           0.0000000   0.000000   \n",
       "       SRR11793829 SRR11793830\n",
       "283981 0           0.0000000  \n",
       "283988 0           0.1161517  \n",
       "283991 0           1.9593304  \n",
       "284003 0           0.0000000  \n",
       "284010 0           0.0000000  \n",
       "284012 0           0.0000000  "
      ]
     },
     "metadata": {},
     "output_type": "display_data"
    }
   ],
   "source": [
    "#filter just counts and metadata\n",
    "gn_bdr_tpm_minimal_df <- gn_bdr_tpm_updated_df[,c('GeneID','chromosome',\n",
    "                             'start','end','Length','bidir_id', \n",
    "                              colnames(gn_bdr_tpm_updated_df[c(6:885)]))]\n",
    "dim(gn_bdr_tpm_minimal_df)\n",
    "tail(gn_bdr_tpm_minimal_df)"
   ]
  },
  {
   "cell_type": "code",
   "execution_count": 49,
   "metadata": {},
   "outputs": [
    {
     "data": {
      "text/html": [
       "<table class=\"dataframe\">\n",
       "<caption>A data.frame: 6 × 886</caption>\n",
       "<thead>\n",
       "\t<tr><th></th><th scope=col>Geneid</th><th scope=col>Chr</th><th scope=col>Start</th><th scope=col>End</th><th scope=col>Length</th><th scope=col>Bidirid</th><th scope=col>SRZ1950491</th><th scope=col>SRZ1950493</th><th scope=col>SRZ1950495</th><th scope=col>SRZ1950497</th><th scope=col>⋯</th><th scope=col>SRR9833433</th><th scope=col>SRZ9833428</th><th scope=col>SRZ9833431</th><th scope=col>SRZ9833434</th><th scope=col>SRR11793825</th><th scope=col>SRR11793826</th><th scope=col>SRR11793827</th><th scope=col>SRR11793828</th><th scope=col>SRR11793829</th><th scope=col>SRR11793830</th></tr>\n",
       "\t<tr><th></th><th scope=col>&lt;chr&gt;</th><th scope=col>&lt;chr&gt;</th><th scope=col>&lt;int&gt;</th><th scope=col>&lt;int&gt;</th><th scope=col>&lt;int&gt;</th><th scope=col>&lt;fct&gt;</th><th scope=col>&lt;dbl&gt;</th><th scope=col>&lt;dbl&gt;</th><th scope=col>&lt;dbl&gt;</th><th scope=col>&lt;dbl&gt;</th><th scope=col>⋯</th><th scope=col>&lt;dbl&gt;</th><th scope=col>&lt;dbl&gt;</th><th scope=col>&lt;dbl&gt;</th><th scope=col>&lt;dbl&gt;</th><th scope=col>&lt;dbl&gt;</th><th scope=col>&lt;dbl&gt;</th><th scope=col>&lt;dbl&gt;</th><th scope=col>&lt;dbl&gt;</th><th scope=col>&lt;dbl&gt;</th><th scope=col>&lt;dbl&gt;</th></tr>\n",
       "</thead>\n",
       "<tbody>\n",
       "\t<tr><th scope=row>1</th><td>ZZZ3  </td><td>chr1 </td><td> 77562416</td><td> 77682658</td><td>120243</td><td>Gene</td><td>6.04104608</td><td>8.500381</td><td>6.128151747</td><td>6.32736293</td><td>⋯</td><td> 1.872764</td><td>10.191984</td><td> 1.575846</td><td> 1.9782447</td><td> 5.943808</td><td> 6.166874</td><td>5.773782</td><td>6.015668</td><td>0.5651401</td><td>4.867103</td></tr>\n",
       "\t<tr><th scope=row>2</th><td>ZZEF1 </td><td>chr17</td><td>  4004445</td><td>  4143030</td><td>138586</td><td>Gene</td><td>3.09257393</td><td>3.769672</td><td>3.528752108</td><td>3.38191819</td><td>⋯</td><td> 1.304448</td><td> 4.067495</td><td> 1.091769</td><td> 1.4003429</td><td> 4.585020</td><td> 4.438174</td><td>3.801334</td><td>3.629428</td><td>0.5003618</td><td>3.094207</td></tr>\n",
       "\t<tr><th scope=row>3</th><td>ZYX   </td><td>chr7 </td><td>143381345</td><td>143391111</td><td>  9767</td><td>Gene</td><td>1.58714393</td><td>1.086327</td><td>0.460471342</td><td>0.48203659</td><td>⋯</td><td>11.494406</td><td>27.477194</td><td> 6.617607</td><td>15.6155111</td><td>17.070213</td><td>15.589411</td><td>8.501723</td><td>9.321644</td><td>1.3455589</td><td>6.870529</td></tr>\n",
       "\t<tr><th scope=row>4</th><td>ZYG11B</td><td>chr1 </td><td> 52726453</td><td> 52827336</td><td>100884</td><td>Gene</td><td>2.40442324</td><td>2.721947</td><td>1.696391928</td><td>1.93205391</td><td>⋯</td><td> 2.986568</td><td> 2.949872</td><td> 2.268595</td><td> 1.0348039</td><td> 4.333842</td><td> 4.263491</td><td>3.544036</td><td>3.484308</td><td>0.4755354</td><td>3.054658</td></tr>\n",
       "\t<tr><th scope=row>5</th><td>ZYG11A</td><td>chr1 </td><td> 52842760</td><td> 52894995</td><td> 52236</td><td>Gene</td><td>0.02507844</td><td>0.000000</td><td>0.009062964</td><td>0.00901304</td><td>⋯</td><td> 1.584944</td><td> 1.382436</td><td> 1.102650</td><td> 0.6883045</td><td> 6.762960</td><td> 7.147225</td><td>5.929393</td><td>5.880546</td><td>0.9347707</td><td>5.545885</td></tr>\n",
       "\t<tr><th scope=row>6</th><td>ZXDC  </td><td>chr3 </td><td>126458901</td><td>126475919</td><td> 17019</td><td>Gene</td><td>5.01605015</td><td>5.566338</td><td>4.854020230</td><td>4.42616029</td><td>⋯</td><td>15.094212</td><td> 9.261513</td><td>11.377272</td><td> 9.5620895</td><td> 6.919129</td><td> 5.155654</td><td>3.911294</td><td>4.109098</td><td>0.5964147</td><td>4.148990</td></tr>\n",
       "</tbody>\n",
       "</table>\n"
      ],
      "text/latex": [
       "A data.frame: 6 × 886\n",
       "\\begin{tabular}{r|lllllllllllllllllllll}\n",
       "  & Geneid & Chr & Start & End & Length & Bidirid & SRZ1950491 & SRZ1950493 & SRZ1950495 & SRZ1950497 & ⋯ & SRR9833433 & SRZ9833428 & SRZ9833431 & SRZ9833434 & SRR11793825 & SRR11793826 & SRR11793827 & SRR11793828 & SRR11793829 & SRR11793830\\\\\n",
       "  & <chr> & <chr> & <int> & <int> & <int> & <fct> & <dbl> & <dbl> & <dbl> & <dbl> & ⋯ & <dbl> & <dbl> & <dbl> & <dbl> & <dbl> & <dbl> & <dbl> & <dbl> & <dbl> & <dbl>\\\\\n",
       "\\hline\n",
       "\t1 & ZZZ3   & chr1  &  77562416 &  77682658 & 120243 & Gene & 6.04104608 & 8.500381 & 6.128151747 & 6.32736293 & ⋯ &  1.872764 & 10.191984 &  1.575846 &  1.9782447 &  5.943808 &  6.166874 & 5.773782 & 6.015668 & 0.5651401 & 4.867103\\\\\n",
       "\t2 & ZZEF1  & chr17 &   4004445 &   4143030 & 138586 & Gene & 3.09257393 & 3.769672 & 3.528752108 & 3.38191819 & ⋯ &  1.304448 &  4.067495 &  1.091769 &  1.4003429 &  4.585020 &  4.438174 & 3.801334 & 3.629428 & 0.5003618 & 3.094207\\\\\n",
       "\t3 & ZYX    & chr7  & 143381345 & 143391111 &   9767 & Gene & 1.58714393 & 1.086327 & 0.460471342 & 0.48203659 & ⋯ & 11.494406 & 27.477194 &  6.617607 & 15.6155111 & 17.070213 & 15.589411 & 8.501723 & 9.321644 & 1.3455589 & 6.870529\\\\\n",
       "\t4 & ZYG11B & chr1  &  52726453 &  52827336 & 100884 & Gene & 2.40442324 & 2.721947 & 1.696391928 & 1.93205391 & ⋯ &  2.986568 &  2.949872 &  2.268595 &  1.0348039 &  4.333842 &  4.263491 & 3.544036 & 3.484308 & 0.4755354 & 3.054658\\\\\n",
       "\t5 & ZYG11A & chr1  &  52842760 &  52894995 &  52236 & Gene & 0.02507844 & 0.000000 & 0.009062964 & 0.00901304 & ⋯ &  1.584944 &  1.382436 &  1.102650 &  0.6883045 &  6.762960 &  7.147225 & 5.929393 & 5.880546 & 0.9347707 & 5.545885\\\\\n",
       "\t6 & ZXDC   & chr3  & 126458901 & 126475919 &  17019 & Gene & 5.01605015 & 5.566338 & 4.854020230 & 4.42616029 & ⋯ & 15.094212 &  9.261513 & 11.377272 &  9.5620895 &  6.919129 &  5.155654 & 3.911294 & 4.109098 & 0.5964147 & 4.148990\\\\\n",
       "\\end{tabular}\n"
      ],
      "text/markdown": [
       "\n",
       "A data.frame: 6 × 886\n",
       "\n",
       "| <!--/--> | Geneid &lt;chr&gt; | Chr &lt;chr&gt; | Start &lt;int&gt; | End &lt;int&gt; | Length &lt;int&gt; | Bidirid &lt;fct&gt; | SRZ1950491 &lt;dbl&gt; | SRZ1950493 &lt;dbl&gt; | SRZ1950495 &lt;dbl&gt; | SRZ1950497 &lt;dbl&gt; | ⋯ ⋯ | SRR9833433 &lt;dbl&gt; | SRZ9833428 &lt;dbl&gt; | SRZ9833431 &lt;dbl&gt; | SRZ9833434 &lt;dbl&gt; | SRR11793825 &lt;dbl&gt; | SRR11793826 &lt;dbl&gt; | SRR11793827 &lt;dbl&gt; | SRR11793828 &lt;dbl&gt; | SRR11793829 &lt;dbl&gt; | SRR11793830 &lt;dbl&gt; |\n",
       "|---|---|---|---|---|---|---|---|---|---|---|---|---|---|---|---|---|---|---|---|---|---|\n",
       "| 1 | ZZZ3   | chr1  |  77562416 |  77682658 | 120243 | Gene | 6.04104608 | 8.500381 | 6.128151747 | 6.32736293 | ⋯ |  1.872764 | 10.191984 |  1.575846 |  1.9782447 |  5.943808 |  6.166874 | 5.773782 | 6.015668 | 0.5651401 | 4.867103 |\n",
       "| 2 | ZZEF1  | chr17 |   4004445 |   4143030 | 138586 | Gene | 3.09257393 | 3.769672 | 3.528752108 | 3.38191819 | ⋯ |  1.304448 |  4.067495 |  1.091769 |  1.4003429 |  4.585020 |  4.438174 | 3.801334 | 3.629428 | 0.5003618 | 3.094207 |\n",
       "| 3 | ZYX    | chr7  | 143381345 | 143391111 |   9767 | Gene | 1.58714393 | 1.086327 | 0.460471342 | 0.48203659 | ⋯ | 11.494406 | 27.477194 |  6.617607 | 15.6155111 | 17.070213 | 15.589411 | 8.501723 | 9.321644 | 1.3455589 | 6.870529 |\n",
       "| 4 | ZYG11B | chr1  |  52726453 |  52827336 | 100884 | Gene | 2.40442324 | 2.721947 | 1.696391928 | 1.93205391 | ⋯ |  2.986568 |  2.949872 |  2.268595 |  1.0348039 |  4.333842 |  4.263491 | 3.544036 | 3.484308 | 0.4755354 | 3.054658 |\n",
       "| 5 | ZYG11A | chr1  |  52842760 |  52894995 |  52236 | Gene | 0.02507844 | 0.000000 | 0.009062964 | 0.00901304 | ⋯ |  1.584944 |  1.382436 |  1.102650 |  0.6883045 |  6.762960 |  7.147225 | 5.929393 | 5.880546 | 0.9347707 | 5.545885 |\n",
       "| 6 | ZXDC   | chr3  | 126458901 | 126475919 |  17019 | Gene | 5.01605015 | 5.566338 | 4.854020230 | 4.42616029 | ⋯ | 15.094212 |  9.261513 | 11.377272 |  9.5620895 |  6.919129 |  5.155654 | 3.911294 | 4.109098 | 0.5964147 | 4.148990 |\n",
       "\n"
      ],
      "text/plain": [
       "  Geneid Chr   Start     End       Length Bidirid SRZ1950491 SRZ1950493\n",
       "1 ZZZ3   chr1   77562416  77682658 120243 Gene    6.04104608 8.500381  \n",
       "2 ZZEF1  chr17   4004445   4143030 138586 Gene    3.09257393 3.769672  \n",
       "3 ZYX    chr7  143381345 143391111   9767 Gene    1.58714393 1.086327  \n",
       "4 ZYG11B chr1   52726453  52827336 100884 Gene    2.40442324 2.721947  \n",
       "5 ZYG11A chr1   52842760  52894995  52236 Gene    0.02507844 0.000000  \n",
       "6 ZXDC   chr3  126458901 126475919  17019 Gene    5.01605015 5.566338  \n",
       "  SRZ1950495  SRZ1950497 ⋯ SRR9833433 SRZ9833428 SRZ9833431 SRZ9833434\n",
       "1 6.128151747 6.32736293 ⋯  1.872764  10.191984   1.575846   1.9782447\n",
       "2 3.528752108 3.38191819 ⋯  1.304448   4.067495   1.091769   1.4003429\n",
       "3 0.460471342 0.48203659 ⋯ 11.494406  27.477194   6.617607  15.6155111\n",
       "4 1.696391928 1.93205391 ⋯  2.986568   2.949872   2.268595   1.0348039\n",
       "5 0.009062964 0.00901304 ⋯  1.584944   1.382436   1.102650   0.6883045\n",
       "6 4.854020230 4.42616029 ⋯ 15.094212   9.261513  11.377272   9.5620895\n",
       "  SRR11793825 SRR11793826 SRR11793827 SRR11793828 SRR11793829 SRR11793830\n",
       "1  5.943808    6.166874   5.773782    6.015668    0.5651401   4.867103   \n",
       "2  4.585020    4.438174   3.801334    3.629428    0.5003618   3.094207   \n",
       "3 17.070213   15.589411   8.501723    9.321644    1.3455589   6.870529   \n",
       "4  4.333842    4.263491   3.544036    3.484308    0.4755354   3.054658   \n",
       "5  6.762960    7.147225   5.929393    5.880546    0.9347707   5.545885   \n",
       "6  6.919129    5.155654   3.911294    4.109098    0.5964147   4.148990   "
      ]
     },
     "metadata": {},
     "output_type": "display_data"
    }
   ],
   "source": [
    "colnames(gn_bdr_tpm_minimal_df)[c(1:6)] <- c('Geneid','Chr','Start','End','Length','Bidirid')\n",
    "head(gn_bdr_tpm_minimal_df)"
   ]
  },
  {
   "cell_type": "markdown",
   "metadata": {},
   "source": [
    "### Genes : 5' truncated"
   ]
  },
  {
   "cell_type": "code",
   "execution_count": 50,
   "metadata": {},
   "outputs": [
    {
     "data": {
      "text/html": [
       "<style>\n",
       ".list-inline {list-style: none; margin:0; padding: 0}\n",
       ".list-inline>li {display: inline-block}\n",
       ".list-inline>li:not(:last-child)::after {content: \"\\00b7\"; padding: 0 .5ex}\n",
       "</style>\n",
       "<ol class=list-inline><li>284012</li><li>885</li></ol>\n"
      ],
      "text/latex": [
       "\\begin{enumerate*}\n",
       "\\item 284012\n",
       "\\item 885\n",
       "\\end{enumerate*}\n"
      ],
      "text/markdown": [
       "1. 284012\n",
       "2. 885\n",
       "\n",
       "\n"
      ],
      "text/plain": [
       "[1] 284012    885"
      ]
     },
     "metadata": {},
     "output_type": "display_data"
    },
    {
     "data": {
      "text/html": [
       "<table class=\"dataframe\">\n",
       "<caption>A data.frame: 6 × 885</caption>\n",
       "<thead>\n",
       "\t<tr><th></th><th scope=col>chromosome</th><th scope=col>start</th><th scope=col>end</th><th scope=col>GeneID</th><th scope=col>Length</th><th scope=col>SRZ1950491</th><th scope=col>SRZ1950493</th><th scope=col>SRZ1950495</th><th scope=col>SRZ1950497</th><th scope=col>SRZ1950499</th><th scope=col>⋯</th><th scope=col>SRR9833433</th><th scope=col>SRZ9833428</th><th scope=col>SRZ9833431</th><th scope=col>SRZ9833434</th><th scope=col>SRR11793825</th><th scope=col>SRR11793826</th><th scope=col>SRR11793827</th><th scope=col>SRR11793828</th><th scope=col>SRR11793829</th><th scope=col>SRR11793830</th></tr>\n",
       "\t<tr><th></th><th scope=col>&lt;chr&gt;</th><th scope=col>&lt;int&gt;</th><th scope=col>&lt;int&gt;</th><th scope=col>&lt;chr&gt;</th><th scope=col>&lt;int&gt;</th><th scope=col>&lt;dbl&gt;</th><th scope=col>&lt;dbl&gt;</th><th scope=col>&lt;dbl&gt;</th><th scope=col>&lt;dbl&gt;</th><th scope=col>&lt;dbl&gt;</th><th scope=col>⋯</th><th scope=col>&lt;dbl&gt;</th><th scope=col>&lt;dbl&gt;</th><th scope=col>&lt;dbl&gt;</th><th scope=col>&lt;dbl&gt;</th><th scope=col>&lt;dbl&gt;</th><th scope=col>&lt;dbl&gt;</th><th scope=col>&lt;dbl&gt;</th><th scope=col>&lt;dbl&gt;</th><th scope=col>&lt;dbl&gt;</th><th scope=col>&lt;dbl&gt;</th></tr>\n",
       "</thead>\n",
       "<tbody>\n",
       "\t<tr><th scope=row>1</th><td>chr1 </td><td> 77562416</td><td> 77681908</td><td>ZZZ3  </td><td>119493</td><td>5.89606855</td><td>8.4220380</td><td>6.065659968</td><td>6.340954238</td><td>6.4128030</td><td>⋯</td><td>1.6808694</td><td> 9.905381</td><td>1.3004700</td><td> 1.6615380</td><td> 5.678745</td><td> 5.980955</td><td>5.494260</td><td>5.735158</td><td>0.5292324</td><td>4.595830</td></tr>\n",
       "\t<tr><th scope=row>2</th><td>chr17</td><td>  4004445</td><td>  4142280</td><td>ZZEF1 </td><td>137836</td><td>2.99959752</td><td>3.7204037</td><td>3.492450878</td><td>3.340299643</td><td>3.7528785</td><td>⋯</td><td>1.0221421</td><td> 3.886416</td><td>0.7243776</td><td> 1.1057285</td><td> 4.470912</td><td> 4.386848</td><td>3.657518</td><td>3.498767</td><td>0.4799321</td><td>2.987759</td></tr>\n",
       "\t<tr><th scope=row>3</th><td>chr7 </td><td>143382095</td><td>143391111</td><td>ZYX   </td><td>  9017</td><td>1.34000571</td><td>0.9263288</td><td>0.368001010</td><td>0.500336067</td><td>0.8506951</td><td>⋯</td><td>5.0645602</td><td>26.774256</td><td>4.5023507</td><td>10.0364730</td><td>15.742024</td><td>14.754739</td><td>7.630717</td><td>8.613576</td><td>1.3611477</td><td>6.828229</td></tr>\n",
       "\t<tr><th scope=row>4</th><td>chr1 </td><td> 52727203</td><td> 52827336</td><td>ZYG11B</td><td>100134</td><td>2.28827793</td><td>2.6288455</td><td>1.661646325</td><td>1.882821794</td><td>2.2627800</td><td>⋯</td><td>2.8930024</td><td> 2.869189</td><td>2.0351181</td><td> 0.7008374</td><td> 3.964555</td><td> 3.934861</td><td>3.314574</td><td>3.297766</td><td>0.4373064</td><td>2.918979</td></tr>\n",
       "\t<tr><th scope=row>5</th><td>chr1 </td><td> 52843510</td><td> 52894995</td><td>ZYG11A</td><td> 51486</td><td>0.02560166</td><td>0.0000000</td><td>0.009207122</td><td>0.009223826</td><td>0.0114605</td><td>⋯</td><td>0.4933667</td><td> 1.232197</td><td>0.2131431</td><td> 0.2561835</td><td> 6.163978</td><td> 6.294532</td><td>5.375606</td><td>5.378482</td><td>0.8080834</td><td>4.967426</td></tr>\n",
       "\t<tr><th scope=row>6</th><td>chr3 </td><td>126458901</td><td>126475169</td><td>ZXDC  </td><td> 16269</td><td>4.48314983</td><td>5.1963559</td><td>4.705705105</td><td>4.101245248</td><td>5.3798550</td><td>⋯</td><td>2.4913222</td><td> 8.246315</td><td>2.0585319</td><td> 3.2778561</td><td> 5.887552</td><td> 4.508235</td><td>3.510846</td><td>3.603921</td><td>0.4411371</td><td>3.659743</td></tr>\n",
       "</tbody>\n",
       "</table>\n"
      ],
      "text/latex": [
       "A data.frame: 6 × 885\n",
       "\\begin{tabular}{r|lllllllllllllllllllll}\n",
       "  & chromosome & start & end & GeneID & Length & SRZ1950491 & SRZ1950493 & SRZ1950495 & SRZ1950497 & SRZ1950499 & ⋯ & SRR9833433 & SRZ9833428 & SRZ9833431 & SRZ9833434 & SRR11793825 & SRR11793826 & SRR11793827 & SRR11793828 & SRR11793829 & SRR11793830\\\\\n",
       "  & <chr> & <int> & <int> & <chr> & <int> & <dbl> & <dbl> & <dbl> & <dbl> & <dbl> & ⋯ & <dbl> & <dbl> & <dbl> & <dbl> & <dbl> & <dbl> & <dbl> & <dbl> & <dbl> & <dbl>\\\\\n",
       "\\hline\n",
       "\t1 & chr1  &  77562416 &  77681908 & ZZZ3   & 119493 & 5.89606855 & 8.4220380 & 6.065659968 & 6.340954238 & 6.4128030 & ⋯ & 1.6808694 &  9.905381 & 1.3004700 &  1.6615380 &  5.678745 &  5.980955 & 5.494260 & 5.735158 & 0.5292324 & 4.595830\\\\\n",
       "\t2 & chr17 &   4004445 &   4142280 & ZZEF1  & 137836 & 2.99959752 & 3.7204037 & 3.492450878 & 3.340299643 & 3.7528785 & ⋯ & 1.0221421 &  3.886416 & 0.7243776 &  1.1057285 &  4.470912 &  4.386848 & 3.657518 & 3.498767 & 0.4799321 & 2.987759\\\\\n",
       "\t3 & chr7  & 143382095 & 143391111 & ZYX    &   9017 & 1.34000571 & 0.9263288 & 0.368001010 & 0.500336067 & 0.8506951 & ⋯ & 5.0645602 & 26.774256 & 4.5023507 & 10.0364730 & 15.742024 & 14.754739 & 7.630717 & 8.613576 & 1.3611477 & 6.828229\\\\\n",
       "\t4 & chr1  &  52727203 &  52827336 & ZYG11B & 100134 & 2.28827793 & 2.6288455 & 1.661646325 & 1.882821794 & 2.2627800 & ⋯ & 2.8930024 &  2.869189 & 2.0351181 &  0.7008374 &  3.964555 &  3.934861 & 3.314574 & 3.297766 & 0.4373064 & 2.918979\\\\\n",
       "\t5 & chr1  &  52843510 &  52894995 & ZYG11A &  51486 & 0.02560166 & 0.0000000 & 0.009207122 & 0.009223826 & 0.0114605 & ⋯ & 0.4933667 &  1.232197 & 0.2131431 &  0.2561835 &  6.163978 &  6.294532 & 5.375606 & 5.378482 & 0.8080834 & 4.967426\\\\\n",
       "\t6 & chr3  & 126458901 & 126475169 & ZXDC   &  16269 & 4.48314983 & 5.1963559 & 4.705705105 & 4.101245248 & 5.3798550 & ⋯ & 2.4913222 &  8.246315 & 2.0585319 &  3.2778561 &  5.887552 &  4.508235 & 3.510846 & 3.603921 & 0.4411371 & 3.659743\\\\\n",
       "\\end{tabular}\n"
      ],
      "text/markdown": [
       "\n",
       "A data.frame: 6 × 885\n",
       "\n",
       "| <!--/--> | chromosome &lt;chr&gt; | start &lt;int&gt; | end &lt;int&gt; | GeneID &lt;chr&gt; | Length &lt;int&gt; | SRZ1950491 &lt;dbl&gt; | SRZ1950493 &lt;dbl&gt; | SRZ1950495 &lt;dbl&gt; | SRZ1950497 &lt;dbl&gt; | SRZ1950499 &lt;dbl&gt; | ⋯ ⋯ | SRR9833433 &lt;dbl&gt; | SRZ9833428 &lt;dbl&gt; | SRZ9833431 &lt;dbl&gt; | SRZ9833434 &lt;dbl&gt; | SRR11793825 &lt;dbl&gt; | SRR11793826 &lt;dbl&gt; | SRR11793827 &lt;dbl&gt; | SRR11793828 &lt;dbl&gt; | SRR11793829 &lt;dbl&gt; | SRR11793830 &lt;dbl&gt; |\n",
       "|---|---|---|---|---|---|---|---|---|---|---|---|---|---|---|---|---|---|---|---|---|---|\n",
       "| 1 | chr1  |  77562416 |  77681908 | ZZZ3   | 119493 | 5.89606855 | 8.4220380 | 6.065659968 | 6.340954238 | 6.4128030 | ⋯ | 1.6808694 |  9.905381 | 1.3004700 |  1.6615380 |  5.678745 |  5.980955 | 5.494260 | 5.735158 | 0.5292324 | 4.595830 |\n",
       "| 2 | chr17 |   4004445 |   4142280 | ZZEF1  | 137836 | 2.99959752 | 3.7204037 | 3.492450878 | 3.340299643 | 3.7528785 | ⋯ | 1.0221421 |  3.886416 | 0.7243776 |  1.1057285 |  4.470912 |  4.386848 | 3.657518 | 3.498767 | 0.4799321 | 2.987759 |\n",
       "| 3 | chr7  | 143382095 | 143391111 | ZYX    |   9017 | 1.34000571 | 0.9263288 | 0.368001010 | 0.500336067 | 0.8506951 | ⋯ | 5.0645602 | 26.774256 | 4.5023507 | 10.0364730 | 15.742024 | 14.754739 | 7.630717 | 8.613576 | 1.3611477 | 6.828229 |\n",
       "| 4 | chr1  |  52727203 |  52827336 | ZYG11B | 100134 | 2.28827793 | 2.6288455 | 1.661646325 | 1.882821794 | 2.2627800 | ⋯ | 2.8930024 |  2.869189 | 2.0351181 |  0.7008374 |  3.964555 |  3.934861 | 3.314574 | 3.297766 | 0.4373064 | 2.918979 |\n",
       "| 5 | chr1  |  52843510 |  52894995 | ZYG11A |  51486 | 0.02560166 | 0.0000000 | 0.009207122 | 0.009223826 | 0.0114605 | ⋯ | 0.4933667 |  1.232197 | 0.2131431 |  0.2561835 |  6.163978 |  6.294532 | 5.375606 | 5.378482 | 0.8080834 | 4.967426 |\n",
       "| 6 | chr3  | 126458901 | 126475169 | ZXDC   |  16269 | 4.48314983 | 5.1963559 | 4.705705105 | 4.101245248 | 5.3798550 | ⋯ | 2.4913222 |  8.246315 | 2.0585319 |  3.2778561 |  5.887552 |  4.508235 | 3.510846 | 3.603921 | 0.4411371 | 3.659743 |\n",
       "\n"
      ],
      "text/plain": [
       "  chromosome start     end       GeneID Length SRZ1950491 SRZ1950493\n",
       "1 chr1        77562416  77681908 ZZZ3   119493 5.89606855 8.4220380 \n",
       "2 chr17        4004445   4142280 ZZEF1  137836 2.99959752 3.7204037 \n",
       "3 chr7       143382095 143391111 ZYX      9017 1.34000571 0.9263288 \n",
       "4 chr1        52727203  52827336 ZYG11B 100134 2.28827793 2.6288455 \n",
       "5 chr1        52843510  52894995 ZYG11A  51486 0.02560166 0.0000000 \n",
       "6 chr3       126458901 126475169 ZXDC    16269 4.48314983 5.1963559 \n",
       "  SRZ1950495  SRZ1950497  SRZ1950499 ⋯ SRR9833433 SRZ9833428 SRZ9833431\n",
       "1 6.065659968 6.340954238 6.4128030  ⋯ 1.6808694   9.905381  1.3004700 \n",
       "2 3.492450878 3.340299643 3.7528785  ⋯ 1.0221421   3.886416  0.7243776 \n",
       "3 0.368001010 0.500336067 0.8506951  ⋯ 5.0645602  26.774256  4.5023507 \n",
       "4 1.661646325 1.882821794 2.2627800  ⋯ 2.8930024   2.869189  2.0351181 \n",
       "5 0.009207122 0.009223826 0.0114605  ⋯ 0.4933667   1.232197  0.2131431 \n",
       "6 4.705705105 4.101245248 5.3798550  ⋯ 2.4913222   8.246315  2.0585319 \n",
       "  SRZ9833434 SRR11793825 SRR11793826 SRR11793827 SRR11793828 SRR11793829\n",
       "1  1.6615380  5.678745    5.980955   5.494260    5.735158    0.5292324  \n",
       "2  1.1057285  4.470912    4.386848   3.657518    3.498767    0.4799321  \n",
       "3 10.0364730 15.742024   14.754739   7.630717    8.613576    1.3611477  \n",
       "4  0.7008374  3.964555    3.934861   3.314574    3.297766    0.4373064  \n",
       "5  0.2561835  6.163978    6.294532   5.375606    5.378482    0.8080834  \n",
       "6  3.2778561  5.887552    4.508235   3.510846    3.603921    0.4411371  \n",
       "  SRR11793830\n",
       "1 4.595830   \n",
       "2 2.987759   \n",
       "3 6.828229   \n",
       "4 2.918979   \n",
       "5 4.967426   \n",
       "6 3.659743   "
      ]
     },
     "metadata": {},
     "output_type": "display_data"
    }
   ],
   "source": [
    "gene_bidir_tpms_trunc <- tpm_calculation(counts_bidir_genes_trunc[c(6:ncol(counts_bidir_genes_trunc))], \n",
    "                        counts_bidir_genes_trunc$Length)\n",
    "\n",
    "gene_bidir_tpm_trunc_df <- cbind(counts_bidir_genes_trunc[c(1:5)],\n",
    "                as.data.frame(gene_bidir_tpms_trunc))\n",
    "\n",
    "dim(gene_bidir_tpm_trunc_df)\n",
    "head(gene_bidir_tpm_trunc_df)"
   ]
  },
  {
   "cell_type": "markdown",
   "metadata": {},
   "source": [
    "#### Summary statistics"
   ]
  },
  {
   "cell_type": "code",
   "execution_count": 51,
   "metadata": {},
   "outputs": [
    {
     "data": {
      "text/html": [
       "<table class=\"dataframe\">\n",
       "<caption>A data.frame: 6 × 891</caption>\n",
       "<thead>\n",
       "\t<tr><th></th><th scope=col>chromosome</th><th scope=col>start</th><th scope=col>end</th><th scope=col>GeneID</th><th scope=col>Length</th><th scope=col>SRZ1950491</th><th scope=col>SRZ1950493</th><th scope=col>SRZ1950495</th><th scope=col>SRZ1950497</th><th scope=col>SRZ1950499</th><th scope=col>⋯</th><th scope=col>SRR11793827</th><th scope=col>SRR11793828</th><th scope=col>SRR11793829</th><th scope=col>SRR11793830</th><th scope=col>stdev</th><th scope=col>variance</th><th scope=col>mean</th><th scope=col>median</th><th scope=col>coefvar</th><th scope=col>max</th></tr>\n",
       "\t<tr><th></th><th scope=col>&lt;chr&gt;</th><th scope=col>&lt;int&gt;</th><th scope=col>&lt;int&gt;</th><th scope=col>&lt;chr&gt;</th><th scope=col>&lt;int&gt;</th><th scope=col>&lt;dbl&gt;</th><th scope=col>&lt;dbl&gt;</th><th scope=col>&lt;dbl&gt;</th><th scope=col>&lt;dbl&gt;</th><th scope=col>&lt;dbl&gt;</th><th scope=col>⋯</th><th scope=col>&lt;dbl&gt;</th><th scope=col>&lt;dbl&gt;</th><th scope=col>&lt;dbl&gt;</th><th scope=col>&lt;dbl&gt;</th><th scope=col>&lt;dbl&gt;</th><th scope=col>&lt;dbl&gt;</th><th scope=col>&lt;dbl&gt;</th><th scope=col>&lt;dbl&gt;</th><th scope=col>&lt;dbl&gt;</th><th scope=col>&lt;dbl&gt;</th></tr>\n",
       "</thead>\n",
       "<tbody>\n",
       "\t<tr><th scope=row>1</th><td>chr1 </td><td> 77562416</td><td> 77681908</td><td>ZZZ3  </td><td>119493</td><td>5.89606855</td><td>8.4220380</td><td>6.065659968</td><td>6.340954238</td><td>6.4128030</td><td>⋯</td><td>5.494260</td><td>5.735158</td><td>0.5292324</td><td>4.595830</td><td> 4.099927</td><td> 16.809403</td><td> 6.350162</td><td>5.746589</td><td>0.6456414</td><td> 37.16213</td></tr>\n",
       "\t<tr><th scope=row>2</th><td>chr17</td><td>  4004445</td><td>  4142280</td><td>ZZEF1 </td><td>137836</td><td>2.99959752</td><td>3.7204037</td><td>3.492450878</td><td>3.340299643</td><td>3.7528785</td><td>⋯</td><td>3.657518</td><td>3.498767</td><td>0.4799321</td><td>2.987759</td><td> 2.784332</td><td>  7.752505</td><td> 4.213346</td><td>3.657366</td><td>0.6608363</td><td> 18.71432</td></tr>\n",
       "\t<tr><th scope=row>3</th><td>chr7 </td><td>143382095</td><td>143391111</td><td>ZYX   </td><td>  9017</td><td>1.34000571</td><td>0.9263288</td><td>0.368001010</td><td>0.500336067</td><td>0.8506951</td><td>⋯</td><td>7.630717</td><td>8.613576</td><td>1.3611477</td><td>6.828229</td><td>19.362806</td><td>374.918246</td><td>15.029889</td><td>8.398350</td><td>1.2882867</td><td>190.32745</td></tr>\n",
       "\t<tr><th scope=row>4</th><td>chr1 </td><td> 52727203</td><td> 52827336</td><td>ZYG11B</td><td>100134</td><td>2.28827793</td><td>2.6288455</td><td>1.661646325</td><td>1.882821794</td><td>2.2627800</td><td>⋯</td><td>3.314574</td><td>3.297766</td><td>0.4373064</td><td>2.918979</td><td> 2.150771</td><td>  4.625818</td><td> 2.584695</td><td>2.125551</td><td>0.8321180</td><td> 22.05660</td></tr>\n",
       "\t<tr><th scope=row>5</th><td>chr1 </td><td> 52843510</td><td> 52894995</td><td>ZYG11A</td><td> 51486</td><td>0.02560166</td><td>0.0000000</td><td>0.009207122</td><td>0.009223826</td><td>0.0114605</td><td>⋯</td><td>5.375606</td><td>5.378482</td><td>0.8080834</td><td>4.967426</td><td> 3.376006</td><td> 11.397417</td><td> 2.223047</td><td>1.007828</td><td>1.5186389</td><td> 29.01328</td></tr>\n",
       "\t<tr><th scope=row>6</th><td>chr3 </td><td>126458901</td><td>126475169</td><td>ZXDC  </td><td> 16269</td><td>4.48314983</td><td>5.1963559</td><td>4.705705105</td><td>4.101245248</td><td>5.3798550</td><td>⋯</td><td>3.510846</td><td>3.603921</td><td>0.4411371</td><td>3.659743</td><td> 5.610681</td><td> 31.479741</td><td> 8.468098</td><td>7.282790</td><td>0.6625669</td><td> 54.13730</td></tr>\n",
       "</tbody>\n",
       "</table>\n"
      ],
      "text/latex": [
       "A data.frame: 6 × 891\n",
       "\\begin{tabular}{r|lllllllllllllllllllll}\n",
       "  & chromosome & start & end & GeneID & Length & SRZ1950491 & SRZ1950493 & SRZ1950495 & SRZ1950497 & SRZ1950499 & ⋯ & SRR11793827 & SRR11793828 & SRR11793829 & SRR11793830 & stdev & variance & mean & median & coefvar & max\\\\\n",
       "  & <chr> & <int> & <int> & <chr> & <int> & <dbl> & <dbl> & <dbl> & <dbl> & <dbl> & ⋯ & <dbl> & <dbl> & <dbl> & <dbl> & <dbl> & <dbl> & <dbl> & <dbl> & <dbl> & <dbl>\\\\\n",
       "\\hline\n",
       "\t1 & chr1  &  77562416 &  77681908 & ZZZ3   & 119493 & 5.89606855 & 8.4220380 & 6.065659968 & 6.340954238 & 6.4128030 & ⋯ & 5.494260 & 5.735158 & 0.5292324 & 4.595830 &  4.099927 &  16.809403 &  6.350162 & 5.746589 & 0.6456414 &  37.16213\\\\\n",
       "\t2 & chr17 &   4004445 &   4142280 & ZZEF1  & 137836 & 2.99959752 & 3.7204037 & 3.492450878 & 3.340299643 & 3.7528785 & ⋯ & 3.657518 & 3.498767 & 0.4799321 & 2.987759 &  2.784332 &   7.752505 &  4.213346 & 3.657366 & 0.6608363 &  18.71432\\\\\n",
       "\t3 & chr7  & 143382095 & 143391111 & ZYX    &   9017 & 1.34000571 & 0.9263288 & 0.368001010 & 0.500336067 & 0.8506951 & ⋯ & 7.630717 & 8.613576 & 1.3611477 & 6.828229 & 19.362806 & 374.918246 & 15.029889 & 8.398350 & 1.2882867 & 190.32745\\\\\n",
       "\t4 & chr1  &  52727203 &  52827336 & ZYG11B & 100134 & 2.28827793 & 2.6288455 & 1.661646325 & 1.882821794 & 2.2627800 & ⋯ & 3.314574 & 3.297766 & 0.4373064 & 2.918979 &  2.150771 &   4.625818 &  2.584695 & 2.125551 & 0.8321180 &  22.05660\\\\\n",
       "\t5 & chr1  &  52843510 &  52894995 & ZYG11A &  51486 & 0.02560166 & 0.0000000 & 0.009207122 & 0.009223826 & 0.0114605 & ⋯ & 5.375606 & 5.378482 & 0.8080834 & 4.967426 &  3.376006 &  11.397417 &  2.223047 & 1.007828 & 1.5186389 &  29.01328\\\\\n",
       "\t6 & chr3  & 126458901 & 126475169 & ZXDC   &  16269 & 4.48314983 & 5.1963559 & 4.705705105 & 4.101245248 & 5.3798550 & ⋯ & 3.510846 & 3.603921 & 0.4411371 & 3.659743 &  5.610681 &  31.479741 &  8.468098 & 7.282790 & 0.6625669 &  54.13730\\\\\n",
       "\\end{tabular}\n"
      ],
      "text/markdown": [
       "\n",
       "A data.frame: 6 × 891\n",
       "\n",
       "| <!--/--> | chromosome &lt;chr&gt; | start &lt;int&gt; | end &lt;int&gt; | GeneID &lt;chr&gt; | Length &lt;int&gt; | SRZ1950491 &lt;dbl&gt; | SRZ1950493 &lt;dbl&gt; | SRZ1950495 &lt;dbl&gt; | SRZ1950497 &lt;dbl&gt; | SRZ1950499 &lt;dbl&gt; | ⋯ ⋯ | SRR11793827 &lt;dbl&gt; | SRR11793828 &lt;dbl&gt; | SRR11793829 &lt;dbl&gt; | SRR11793830 &lt;dbl&gt; | stdev &lt;dbl&gt; | variance &lt;dbl&gt; | mean &lt;dbl&gt; | median &lt;dbl&gt; | coefvar &lt;dbl&gt; | max &lt;dbl&gt; |\n",
       "|---|---|---|---|---|---|---|---|---|---|---|---|---|---|---|---|---|---|---|---|---|---|\n",
       "| 1 | chr1  |  77562416 |  77681908 | ZZZ3   | 119493 | 5.89606855 | 8.4220380 | 6.065659968 | 6.340954238 | 6.4128030 | ⋯ | 5.494260 | 5.735158 | 0.5292324 | 4.595830 |  4.099927 |  16.809403 |  6.350162 | 5.746589 | 0.6456414 |  37.16213 |\n",
       "| 2 | chr17 |   4004445 |   4142280 | ZZEF1  | 137836 | 2.99959752 | 3.7204037 | 3.492450878 | 3.340299643 | 3.7528785 | ⋯ | 3.657518 | 3.498767 | 0.4799321 | 2.987759 |  2.784332 |   7.752505 |  4.213346 | 3.657366 | 0.6608363 |  18.71432 |\n",
       "| 3 | chr7  | 143382095 | 143391111 | ZYX    |   9017 | 1.34000571 | 0.9263288 | 0.368001010 | 0.500336067 | 0.8506951 | ⋯ | 7.630717 | 8.613576 | 1.3611477 | 6.828229 | 19.362806 | 374.918246 | 15.029889 | 8.398350 | 1.2882867 | 190.32745 |\n",
       "| 4 | chr1  |  52727203 |  52827336 | ZYG11B | 100134 | 2.28827793 | 2.6288455 | 1.661646325 | 1.882821794 | 2.2627800 | ⋯ | 3.314574 | 3.297766 | 0.4373064 | 2.918979 |  2.150771 |   4.625818 |  2.584695 | 2.125551 | 0.8321180 |  22.05660 |\n",
       "| 5 | chr1  |  52843510 |  52894995 | ZYG11A |  51486 | 0.02560166 | 0.0000000 | 0.009207122 | 0.009223826 | 0.0114605 | ⋯ | 5.375606 | 5.378482 | 0.8080834 | 4.967426 |  3.376006 |  11.397417 |  2.223047 | 1.007828 | 1.5186389 |  29.01328 |\n",
       "| 6 | chr3  | 126458901 | 126475169 | ZXDC   |  16269 | 4.48314983 | 5.1963559 | 4.705705105 | 4.101245248 | 5.3798550 | ⋯ | 3.510846 | 3.603921 | 0.4411371 | 3.659743 |  5.610681 |  31.479741 |  8.468098 | 7.282790 | 0.6625669 |  54.13730 |\n",
       "\n"
      ],
      "text/plain": [
       "  chromosome start     end       GeneID Length SRZ1950491 SRZ1950493\n",
       "1 chr1        77562416  77681908 ZZZ3   119493 5.89606855 8.4220380 \n",
       "2 chr17        4004445   4142280 ZZEF1  137836 2.99959752 3.7204037 \n",
       "3 chr7       143382095 143391111 ZYX      9017 1.34000571 0.9263288 \n",
       "4 chr1        52727203  52827336 ZYG11B 100134 2.28827793 2.6288455 \n",
       "5 chr1        52843510  52894995 ZYG11A  51486 0.02560166 0.0000000 \n",
       "6 chr3       126458901 126475169 ZXDC    16269 4.48314983 5.1963559 \n",
       "  SRZ1950495  SRZ1950497  SRZ1950499 ⋯ SRR11793827 SRR11793828 SRR11793829\n",
       "1 6.065659968 6.340954238 6.4128030  ⋯ 5.494260    5.735158    0.5292324  \n",
       "2 3.492450878 3.340299643 3.7528785  ⋯ 3.657518    3.498767    0.4799321  \n",
       "3 0.368001010 0.500336067 0.8506951  ⋯ 7.630717    8.613576    1.3611477  \n",
       "4 1.661646325 1.882821794 2.2627800  ⋯ 3.314574    3.297766    0.4373064  \n",
       "5 0.009207122 0.009223826 0.0114605  ⋯ 5.375606    5.378482    0.8080834  \n",
       "6 4.705705105 4.101245248 5.3798550  ⋯ 3.510846    3.603921    0.4411371  \n",
       "  SRR11793830 stdev     variance   mean      median   coefvar   max      \n",
       "1 4.595830     4.099927  16.809403  6.350162 5.746589 0.6456414  37.16213\n",
       "2 2.987759     2.784332   7.752505  4.213346 3.657366 0.6608363  18.71432\n",
       "3 6.828229    19.362806 374.918246 15.029889 8.398350 1.2882867 190.32745\n",
       "4 2.918979     2.150771   4.625818  2.584695 2.125551 0.8321180  22.05660\n",
       "5 4.967426     3.376006  11.397417  2.223047 1.007828 1.5186389  29.01328\n",
       "6 3.659743     5.610681  31.479741  8.468098 7.282790 0.6625669  54.13730"
      ]
     },
     "metadata": {},
     "output_type": "display_data"
    }
   ],
   "source": [
    "##get summary statistics\n",
    "gene_bidir_tpm_trunc_df$stdev <- apply(gene_bidir_tpm_trunc_df[c(6:ncol(counts_bidir_genes))], 1, sd)\n",
    "gene_bidir_tpm_trunc_df$variance <- apply(gene_bidir_tpm_trunc_df[c(6:ncol(counts_bidir_genes))], 1, var)\n",
    "gene_bidir_tpm_trunc_df$mean <- apply(gene_bidir_tpm_trunc_df[c(6:ncol(counts_bidir_genes))], 1, mean)\n",
    "gene_bidir_tpm_trunc_df$median <- apply(gene_bidir_tpm_trunc_df[c(6:ncol(counts_bidir_genes))], 1, median)\n",
    "gene_bidir_tpm_trunc_df$coefvar <- gene_bidir_tpm_trunc_df$stdev/gene_bidir_tpm_trunc_df$mean #apply(gene_bidir_tpm_trunc_df[c(6:ncol(counts_bidir_genes))], 1, cv)\n",
    "gene_bidir_tpm_trunc_df$max <- apply(gene_bidir_tpm_trunc_df[c(6:ncol(counts_bidir_genes))], 1, max)\n",
    "head(gene_bidir_tpm_trunc_df)"
   ]
  },
  {
   "cell_type": "markdown",
   "metadata": {},
   "source": [
    "#### Filter transcripts based on counts "
   ]
  },
  {
   "cell_type": "code",
   "execution_count": 52,
   "metadata": {},
   "outputs": [],
   "source": [
    "##filter rows with all TPM values not 0\n",
    "rows_without_zero_trunc <- apply(gene_bidir_tpm_trunc_df[7:ncol(counts_genes_trunc)], 1, function(row) any(row > 0 ))\n",
    "                        \n",
    "##Subset the rows that fulfill the above criteria\n",
    "tpm_df_genes_bidir_transcribed_trunc <- gene_bidir_tpm_trunc_df[rows_without_zero_trunc,]\n",
    "                           "
   ]
  },
  {
   "cell_type": "code",
   "execution_count": 53,
   "metadata": {},
   "outputs": [
    {
     "data": {
      "text/html": [
       "<style>\n",
       ".list-inline {list-style: none; margin:0; padding: 0}\n",
       ".list-inline>li {display: inline-block}\n",
       ".list-inline>li:not(:last-child)::after {content: \"\\00b7\"; padding: 0 .5ex}\n",
       "</style>\n",
       "<ol class=list-inline><li>282165</li><li>891</li></ol>\n"
      ],
      "text/latex": [
       "\\begin{enumerate*}\n",
       "\\item 282165\n",
       "\\item 891\n",
       "\\end{enumerate*}\n"
      ],
      "text/markdown": [
       "1. 282165\n",
       "2. 891\n",
       "\n",
       "\n"
      ],
      "text/plain": [
       "[1] 282165    891"
      ]
     },
     "metadata": {},
     "output_type": "display_data"
    }
   ],
   "source": [
    "dim(tpm_df_genes_bidir_transcribed_trunc)"
   ]
  },
  {
   "cell_type": "markdown",
   "metadata": {},
   "source": [
    "#### Add bidirectional/gene ID column "
   ]
  },
  {
   "cell_type": "code",
   "execution_count": 54,
   "metadata": {},
   "outputs": [
    {
     "data": {
      "text/html": [
       "<table class=\"dataframe\">\n",
       "<caption>A data.frame: 6 × 892</caption>\n",
       "<thead>\n",
       "\t<tr><th></th><th scope=col>chromosome</th><th scope=col>start</th><th scope=col>end</th><th scope=col>GeneID</th><th scope=col>Length</th><th scope=col>SRZ1950491</th><th scope=col>SRZ1950493</th><th scope=col>SRZ1950495</th><th scope=col>SRZ1950497</th><th scope=col>SRZ1950499</th><th scope=col>⋯</th><th scope=col>SRR11793828</th><th scope=col>SRR11793829</th><th scope=col>SRR11793830</th><th scope=col>stdev</th><th scope=col>variance</th><th scope=col>mean</th><th scope=col>median</th><th scope=col>coefvar</th><th scope=col>max</th><th scope=col>bidir</th></tr>\n",
       "\t<tr><th></th><th scope=col>&lt;chr&gt;</th><th scope=col>&lt;int&gt;</th><th scope=col>&lt;int&gt;</th><th scope=col>&lt;chr&gt;</th><th scope=col>&lt;int&gt;</th><th scope=col>&lt;dbl&gt;</th><th scope=col>&lt;dbl&gt;</th><th scope=col>&lt;dbl&gt;</th><th scope=col>&lt;dbl&gt;</th><th scope=col>&lt;dbl&gt;</th><th scope=col>⋯</th><th scope=col>&lt;dbl&gt;</th><th scope=col>&lt;dbl&gt;</th><th scope=col>&lt;dbl&gt;</th><th scope=col>&lt;dbl&gt;</th><th scope=col>&lt;dbl&gt;</th><th scope=col>&lt;dbl&gt;</th><th scope=col>&lt;dbl&gt;</th><th scope=col>&lt;dbl&gt;</th><th scope=col>&lt;dbl&gt;</th><th scope=col>&lt;chr&gt;</th></tr>\n",
       "</thead>\n",
       "<tbody>\n",
       "\t<tr><th scope=row>1</th><td>chr1 </td><td> 77562416</td><td> 77681908</td><td>ZZZ3  </td><td>119493</td><td>5.89606855</td><td>8.4220380</td><td>6.065659968</td><td>6.340954238</td><td>6.4128030</td><td>⋯</td><td>5.735158</td><td>0.5292324</td><td>4.595830</td><td> 4.099927</td><td> 16.809403</td><td> 6.350162</td><td>5.746589</td><td>0.6456414</td><td> 37.16213</td><td>NA</td></tr>\n",
       "\t<tr><th scope=row>2</th><td>chr17</td><td>  4004445</td><td>  4142280</td><td>ZZEF1 </td><td>137836</td><td>2.99959752</td><td>3.7204037</td><td>3.492450878</td><td>3.340299643</td><td>3.7528785</td><td>⋯</td><td>3.498767</td><td>0.4799321</td><td>2.987759</td><td> 2.784332</td><td>  7.752505</td><td> 4.213346</td><td>3.657366</td><td>0.6608363</td><td> 18.71432</td><td>NA</td></tr>\n",
       "\t<tr><th scope=row>3</th><td>chr7 </td><td>143382095</td><td>143391111</td><td>ZYX   </td><td>  9017</td><td>1.34000571</td><td>0.9263288</td><td>0.368001010</td><td>0.500336067</td><td>0.8506951</td><td>⋯</td><td>8.613576</td><td>1.3611477</td><td>6.828229</td><td>19.362806</td><td>374.918246</td><td>15.029889</td><td>8.398350</td><td>1.2882867</td><td>190.32745</td><td>NA</td></tr>\n",
       "\t<tr><th scope=row>4</th><td>chr1 </td><td> 52727203</td><td> 52827336</td><td>ZYG11B</td><td>100134</td><td>2.28827793</td><td>2.6288455</td><td>1.661646325</td><td>1.882821794</td><td>2.2627800</td><td>⋯</td><td>3.297766</td><td>0.4373064</td><td>2.918979</td><td> 2.150771</td><td>  4.625818</td><td> 2.584695</td><td>2.125551</td><td>0.8321180</td><td> 22.05660</td><td>NA</td></tr>\n",
       "\t<tr><th scope=row>5</th><td>chr1 </td><td> 52843510</td><td> 52894995</td><td>ZYG11A</td><td> 51486</td><td>0.02560166</td><td>0.0000000</td><td>0.009207122</td><td>0.009223826</td><td>0.0114605</td><td>⋯</td><td>5.378482</td><td>0.8080834</td><td>4.967426</td><td> 3.376006</td><td> 11.397417</td><td> 2.223047</td><td>1.007828</td><td>1.5186389</td><td> 29.01328</td><td>NA</td></tr>\n",
       "\t<tr><th scope=row>6</th><td>chr3 </td><td>126458901</td><td>126475169</td><td>ZXDC  </td><td> 16269</td><td>4.48314983</td><td>5.1963559</td><td>4.705705105</td><td>4.101245248</td><td>5.3798550</td><td>⋯</td><td>3.603921</td><td>0.4411371</td><td>3.659743</td><td> 5.610681</td><td> 31.479741</td><td> 8.468098</td><td>7.282790</td><td>0.6625669</td><td> 54.13730</td><td>NA</td></tr>\n",
       "</tbody>\n",
       "</table>\n"
      ],
      "text/latex": [
       "A data.frame: 6 × 892\n",
       "\\begin{tabular}{r|lllllllllllllllllllll}\n",
       "  & chromosome & start & end & GeneID & Length & SRZ1950491 & SRZ1950493 & SRZ1950495 & SRZ1950497 & SRZ1950499 & ⋯ & SRR11793828 & SRR11793829 & SRR11793830 & stdev & variance & mean & median & coefvar & max & bidir\\\\\n",
       "  & <chr> & <int> & <int> & <chr> & <int> & <dbl> & <dbl> & <dbl> & <dbl> & <dbl> & ⋯ & <dbl> & <dbl> & <dbl> & <dbl> & <dbl> & <dbl> & <dbl> & <dbl> & <dbl> & <chr>\\\\\n",
       "\\hline\n",
       "\t1 & chr1  &  77562416 &  77681908 & ZZZ3   & 119493 & 5.89606855 & 8.4220380 & 6.065659968 & 6.340954238 & 6.4128030 & ⋯ & 5.735158 & 0.5292324 & 4.595830 &  4.099927 &  16.809403 &  6.350162 & 5.746589 & 0.6456414 &  37.16213 & NA\\\\\n",
       "\t2 & chr17 &   4004445 &   4142280 & ZZEF1  & 137836 & 2.99959752 & 3.7204037 & 3.492450878 & 3.340299643 & 3.7528785 & ⋯ & 3.498767 & 0.4799321 & 2.987759 &  2.784332 &   7.752505 &  4.213346 & 3.657366 & 0.6608363 &  18.71432 & NA\\\\\n",
       "\t3 & chr7  & 143382095 & 143391111 & ZYX    &   9017 & 1.34000571 & 0.9263288 & 0.368001010 & 0.500336067 & 0.8506951 & ⋯ & 8.613576 & 1.3611477 & 6.828229 & 19.362806 & 374.918246 & 15.029889 & 8.398350 & 1.2882867 & 190.32745 & NA\\\\\n",
       "\t4 & chr1  &  52727203 &  52827336 & ZYG11B & 100134 & 2.28827793 & 2.6288455 & 1.661646325 & 1.882821794 & 2.2627800 & ⋯ & 3.297766 & 0.4373064 & 2.918979 &  2.150771 &   4.625818 &  2.584695 & 2.125551 & 0.8321180 &  22.05660 & NA\\\\\n",
       "\t5 & chr1  &  52843510 &  52894995 & ZYG11A &  51486 & 0.02560166 & 0.0000000 & 0.009207122 & 0.009223826 & 0.0114605 & ⋯ & 5.378482 & 0.8080834 & 4.967426 &  3.376006 &  11.397417 &  2.223047 & 1.007828 & 1.5186389 &  29.01328 & NA\\\\\n",
       "\t6 & chr3  & 126458901 & 126475169 & ZXDC   &  16269 & 4.48314983 & 5.1963559 & 4.705705105 & 4.101245248 & 5.3798550 & ⋯ & 3.603921 & 0.4411371 & 3.659743 &  5.610681 &  31.479741 &  8.468098 & 7.282790 & 0.6625669 &  54.13730 & NA\\\\\n",
       "\\end{tabular}\n"
      ],
      "text/markdown": [
       "\n",
       "A data.frame: 6 × 892\n",
       "\n",
       "| <!--/--> | chromosome &lt;chr&gt; | start &lt;int&gt; | end &lt;int&gt; | GeneID &lt;chr&gt; | Length &lt;int&gt; | SRZ1950491 &lt;dbl&gt; | SRZ1950493 &lt;dbl&gt; | SRZ1950495 &lt;dbl&gt; | SRZ1950497 &lt;dbl&gt; | SRZ1950499 &lt;dbl&gt; | ⋯ ⋯ | SRR11793828 &lt;dbl&gt; | SRR11793829 &lt;dbl&gt; | SRR11793830 &lt;dbl&gt; | stdev &lt;dbl&gt; | variance &lt;dbl&gt; | mean &lt;dbl&gt; | median &lt;dbl&gt; | coefvar &lt;dbl&gt; | max &lt;dbl&gt; | bidir &lt;chr&gt; |\n",
       "|---|---|---|---|---|---|---|---|---|---|---|---|---|---|---|---|---|---|---|---|---|---|\n",
       "| 1 | chr1  |  77562416 |  77681908 | ZZZ3   | 119493 | 5.89606855 | 8.4220380 | 6.065659968 | 6.340954238 | 6.4128030 | ⋯ | 5.735158 | 0.5292324 | 4.595830 |  4.099927 |  16.809403 |  6.350162 | 5.746589 | 0.6456414 |  37.16213 | NA |\n",
       "| 2 | chr17 |   4004445 |   4142280 | ZZEF1  | 137836 | 2.99959752 | 3.7204037 | 3.492450878 | 3.340299643 | 3.7528785 | ⋯ | 3.498767 | 0.4799321 | 2.987759 |  2.784332 |   7.752505 |  4.213346 | 3.657366 | 0.6608363 |  18.71432 | NA |\n",
       "| 3 | chr7  | 143382095 | 143391111 | ZYX    |   9017 | 1.34000571 | 0.9263288 | 0.368001010 | 0.500336067 | 0.8506951 | ⋯ | 8.613576 | 1.3611477 | 6.828229 | 19.362806 | 374.918246 | 15.029889 | 8.398350 | 1.2882867 | 190.32745 | NA |\n",
       "| 4 | chr1  |  52727203 |  52827336 | ZYG11B | 100134 | 2.28827793 | 2.6288455 | 1.661646325 | 1.882821794 | 2.2627800 | ⋯ | 3.297766 | 0.4373064 | 2.918979 |  2.150771 |   4.625818 |  2.584695 | 2.125551 | 0.8321180 |  22.05660 | NA |\n",
       "| 5 | chr1  |  52843510 |  52894995 | ZYG11A |  51486 | 0.02560166 | 0.0000000 | 0.009207122 | 0.009223826 | 0.0114605 | ⋯ | 5.378482 | 0.8080834 | 4.967426 |  3.376006 |  11.397417 |  2.223047 | 1.007828 | 1.5186389 |  29.01328 | NA |\n",
       "| 6 | chr3  | 126458901 | 126475169 | ZXDC   |  16269 | 4.48314983 | 5.1963559 | 4.705705105 | 4.101245248 | 5.3798550 | ⋯ | 3.603921 | 0.4411371 | 3.659743 |  5.610681 |  31.479741 |  8.468098 | 7.282790 | 0.6625669 |  54.13730 | NA |\n",
       "\n"
      ],
      "text/plain": [
       "  chromosome start     end       GeneID Length SRZ1950491 SRZ1950493\n",
       "1 chr1        77562416  77681908 ZZZ3   119493 5.89606855 8.4220380 \n",
       "2 chr17        4004445   4142280 ZZEF1  137836 2.99959752 3.7204037 \n",
       "3 chr7       143382095 143391111 ZYX      9017 1.34000571 0.9263288 \n",
       "4 chr1        52727203  52827336 ZYG11B 100134 2.28827793 2.6288455 \n",
       "5 chr1        52843510  52894995 ZYG11A  51486 0.02560166 0.0000000 \n",
       "6 chr3       126458901 126475169 ZXDC    16269 4.48314983 5.1963559 \n",
       "  SRZ1950495  SRZ1950497  SRZ1950499 ⋯ SRR11793828 SRR11793829 SRR11793830\n",
       "1 6.065659968 6.340954238 6.4128030  ⋯ 5.735158    0.5292324   4.595830   \n",
       "2 3.492450878 3.340299643 3.7528785  ⋯ 3.498767    0.4799321   2.987759   \n",
       "3 0.368001010 0.500336067 0.8506951  ⋯ 8.613576    1.3611477   6.828229   \n",
       "4 1.661646325 1.882821794 2.2627800  ⋯ 3.297766    0.4373064   2.918979   \n",
       "5 0.009207122 0.009223826 0.0114605  ⋯ 5.378482    0.8080834   4.967426   \n",
       "6 4.705705105 4.101245248 5.3798550  ⋯ 3.603921    0.4411371   3.659743   \n",
       "  stdev     variance   mean      median   coefvar   max       bidir\n",
       "1  4.099927  16.809403  6.350162 5.746589 0.6456414  37.16213 NA   \n",
       "2  2.784332   7.752505  4.213346 3.657366 0.6608363  18.71432 NA   \n",
       "3 19.362806 374.918246 15.029889 8.398350 1.2882867 190.32745 NA   \n",
       "4  2.150771   4.625818  2.584695 2.125551 0.8321180  22.05660 NA   \n",
       "5  3.376006  11.397417  2.223047 1.007828 1.5186389  29.01328 NA   \n",
       "6  5.610681  31.479741  8.468098 7.282790 0.6625669  54.13730 NA   "
      ]
     },
     "metadata": {},
     "output_type": "display_data"
    },
    {
     "data": {
      "text/html": [
       "<table class=\"dataframe\">\n",
       "<caption>A data.frame: 6 × 892</caption>\n",
       "<thead>\n",
       "\t<tr><th></th><th scope=col>chromosome</th><th scope=col>start</th><th scope=col>end</th><th scope=col>GeneID</th><th scope=col>Length</th><th scope=col>SRZ1950491</th><th scope=col>SRZ1950493</th><th scope=col>SRZ1950495</th><th scope=col>SRZ1950497</th><th scope=col>SRZ1950499</th><th scope=col>⋯</th><th scope=col>SRR11793828</th><th scope=col>SRR11793829</th><th scope=col>SRR11793830</th><th scope=col>stdev</th><th scope=col>variance</th><th scope=col>mean</th><th scope=col>median</th><th scope=col>coefvar</th><th scope=col>max</th><th scope=col>bidir</th></tr>\n",
       "\t<tr><th></th><th scope=col>&lt;chr&gt;</th><th scope=col>&lt;int&gt;</th><th scope=col>&lt;int&gt;</th><th scope=col>&lt;chr&gt;</th><th scope=col>&lt;int&gt;</th><th scope=col>&lt;dbl&gt;</th><th scope=col>&lt;dbl&gt;</th><th scope=col>&lt;dbl&gt;</th><th scope=col>&lt;dbl&gt;</th><th scope=col>&lt;dbl&gt;</th><th scope=col>⋯</th><th scope=col>&lt;dbl&gt;</th><th scope=col>&lt;dbl&gt;</th><th scope=col>&lt;dbl&gt;</th><th scope=col>&lt;dbl&gt;</th><th scope=col>&lt;dbl&gt;</th><th scope=col>&lt;dbl&gt;</th><th scope=col>&lt;dbl&gt;</th><th scope=col>&lt;dbl&gt;</th><th scope=col>&lt;dbl&gt;</th><th scope=col>&lt;chr&gt;</th></tr>\n",
       "</thead>\n",
       "<tbody>\n",
       "\t<tr><th scope=row>284007</th><td>chrY</td><td>56877879</td><td>56878049</td><td>chrY-56877879-56878049-tfit     </td><td>170</td><td>0</td><td>0</td><td>0</td><td>0</td><td>0</td><td>⋯</td><td>0.0000000</td><td>0</td><td>0.0000000</td><td>0.8095698</td><td>0.65540328</td><td>0.11567695</td><td>0</td><td> 6.998541</td><td>13.313613</td><td>tfit     </td></tr>\n",
       "\t<tr><th scope=row>284008</th><td>chrY</td><td>56878648</td><td>56878950</td><td>chrY-56878648-56878950-tfit,dreg</td><td>302</td><td>0</td><td>0</td><td>0</td><td>0</td><td>0</td><td>⋯</td><td>0.8404602</td><td>0</td><td>0.7467935</td><td>2.0722355</td><td>4.29416002</td><td>0.35922014</td><td>0</td><td> 5.768706</td><td>33.037678</td><td>tfit,dreg</td></tr>\n",
       "\t<tr><th scope=row>284009</th><td>chrY</td><td>56881703</td><td>56881987</td><td>chrY-56881703-56881987-tfit,dreg</td><td>284</td><td>0</td><td>0</td><td>0</td><td>0</td><td>0</td><td>⋯</td><td>0.0000000</td><td>0</td><td>0.0000000</td><td>2.0950754</td><td>4.38934091</td><td>0.20971675</td><td>0</td><td> 9.990024</td><td>56.976454</td><td>tfit,dreg</td></tr>\n",
       "\t<tr><th scope=row>284010</th><td>chrY</td><td>56883159</td><td>56883487</td><td>chrY-56883159-56883487-dreg     </td><td>328</td><td>0</td><td>0</td><td>0</td><td>0</td><td>0</td><td>⋯</td><td>0.0000000</td><td>0</td><td>0.0000000</td><td>0.3531900</td><td>0.12474320</td><td>0.05909771</td><td>0</td><td> 5.976374</td><td> 6.816074</td><td>dreg     </td></tr>\n",
       "\t<tr><th scope=row>284011</th><td>chrY</td><td>56883555</td><td>56883771</td><td>chrY-56883555-56883771-tfit     </td><td>216</td><td>0</td><td>0</td><td>0</td><td>0</td><td>0</td><td>⋯</td><td>0.0000000</td><td>0</td><td>0.0000000</td><td>1.6345092</td><td>2.67162029</td><td>0.10523938</td><td>0</td><td>15.531345</td><td>47.418643</td><td>tfit     </td></tr>\n",
       "\t<tr><th scope=row>284012</th><td>chrY</td><td>56884671</td><td>56885119</td><td>chrY-56884671-56885119-dreg     </td><td>448</td><td>0</td><td>0</td><td>0</td><td>0</td><td>0</td><td>⋯</td><td>0.0000000</td><td>0</td><td>0.0000000</td><td>0.1655184</td><td>0.02739636</td><td>0.02214673</td><td>0</td><td> 7.473721</td><td> 2.737098</td><td>dreg     </td></tr>\n",
       "</tbody>\n",
       "</table>\n"
      ],
      "text/latex": [
       "A data.frame: 6 × 892\n",
       "\\begin{tabular}{r|lllllllllllllllllllll}\n",
       "  & chromosome & start & end & GeneID & Length & SRZ1950491 & SRZ1950493 & SRZ1950495 & SRZ1950497 & SRZ1950499 & ⋯ & SRR11793828 & SRR11793829 & SRR11793830 & stdev & variance & mean & median & coefvar & max & bidir\\\\\n",
       "  & <chr> & <int> & <int> & <chr> & <int> & <dbl> & <dbl> & <dbl> & <dbl> & <dbl> & ⋯ & <dbl> & <dbl> & <dbl> & <dbl> & <dbl> & <dbl> & <dbl> & <dbl> & <dbl> & <chr>\\\\\n",
       "\\hline\n",
       "\t284007 & chrY & 56877879 & 56878049 & chrY-56877879-56878049-tfit      & 170 & 0 & 0 & 0 & 0 & 0 & ⋯ & 0.0000000 & 0 & 0.0000000 & 0.8095698 & 0.65540328 & 0.11567695 & 0 &  6.998541 & 13.313613 & tfit     \\\\\n",
       "\t284008 & chrY & 56878648 & 56878950 & chrY-56878648-56878950-tfit,dreg & 302 & 0 & 0 & 0 & 0 & 0 & ⋯ & 0.8404602 & 0 & 0.7467935 & 2.0722355 & 4.29416002 & 0.35922014 & 0 &  5.768706 & 33.037678 & tfit,dreg\\\\\n",
       "\t284009 & chrY & 56881703 & 56881987 & chrY-56881703-56881987-tfit,dreg & 284 & 0 & 0 & 0 & 0 & 0 & ⋯ & 0.0000000 & 0 & 0.0000000 & 2.0950754 & 4.38934091 & 0.20971675 & 0 &  9.990024 & 56.976454 & tfit,dreg\\\\\n",
       "\t284010 & chrY & 56883159 & 56883487 & chrY-56883159-56883487-dreg      & 328 & 0 & 0 & 0 & 0 & 0 & ⋯ & 0.0000000 & 0 & 0.0000000 & 0.3531900 & 0.12474320 & 0.05909771 & 0 &  5.976374 &  6.816074 & dreg     \\\\\n",
       "\t284011 & chrY & 56883555 & 56883771 & chrY-56883555-56883771-tfit      & 216 & 0 & 0 & 0 & 0 & 0 & ⋯ & 0.0000000 & 0 & 0.0000000 & 1.6345092 & 2.67162029 & 0.10523938 & 0 & 15.531345 & 47.418643 & tfit     \\\\\n",
       "\t284012 & chrY & 56884671 & 56885119 & chrY-56884671-56885119-dreg      & 448 & 0 & 0 & 0 & 0 & 0 & ⋯ & 0.0000000 & 0 & 0.0000000 & 0.1655184 & 0.02739636 & 0.02214673 & 0 &  7.473721 &  2.737098 & dreg     \\\\\n",
       "\\end{tabular}\n"
      ],
      "text/markdown": [
       "\n",
       "A data.frame: 6 × 892\n",
       "\n",
       "| <!--/--> | chromosome &lt;chr&gt; | start &lt;int&gt; | end &lt;int&gt; | GeneID &lt;chr&gt; | Length &lt;int&gt; | SRZ1950491 &lt;dbl&gt; | SRZ1950493 &lt;dbl&gt; | SRZ1950495 &lt;dbl&gt; | SRZ1950497 &lt;dbl&gt; | SRZ1950499 &lt;dbl&gt; | ⋯ ⋯ | SRR11793828 &lt;dbl&gt; | SRR11793829 &lt;dbl&gt; | SRR11793830 &lt;dbl&gt; | stdev &lt;dbl&gt; | variance &lt;dbl&gt; | mean &lt;dbl&gt; | median &lt;dbl&gt; | coefvar &lt;dbl&gt; | max &lt;dbl&gt; | bidir &lt;chr&gt; |\n",
       "|---|---|---|---|---|---|---|---|---|---|---|---|---|---|---|---|---|---|---|---|---|---|\n",
       "| 284007 | chrY | 56877879 | 56878049 | chrY-56877879-56878049-tfit      | 170 | 0 | 0 | 0 | 0 | 0 | ⋯ | 0.0000000 | 0 | 0.0000000 | 0.8095698 | 0.65540328 | 0.11567695 | 0 |  6.998541 | 13.313613 | tfit      |\n",
       "| 284008 | chrY | 56878648 | 56878950 | chrY-56878648-56878950-tfit,dreg | 302 | 0 | 0 | 0 | 0 | 0 | ⋯ | 0.8404602 | 0 | 0.7467935 | 2.0722355 | 4.29416002 | 0.35922014 | 0 |  5.768706 | 33.037678 | tfit,dreg |\n",
       "| 284009 | chrY | 56881703 | 56881987 | chrY-56881703-56881987-tfit,dreg | 284 | 0 | 0 | 0 | 0 | 0 | ⋯ | 0.0000000 | 0 | 0.0000000 | 2.0950754 | 4.38934091 | 0.20971675 | 0 |  9.990024 | 56.976454 | tfit,dreg |\n",
       "| 284010 | chrY | 56883159 | 56883487 | chrY-56883159-56883487-dreg      | 328 | 0 | 0 | 0 | 0 | 0 | ⋯ | 0.0000000 | 0 | 0.0000000 | 0.3531900 | 0.12474320 | 0.05909771 | 0 |  5.976374 |  6.816074 | dreg      |\n",
       "| 284011 | chrY | 56883555 | 56883771 | chrY-56883555-56883771-tfit      | 216 | 0 | 0 | 0 | 0 | 0 | ⋯ | 0.0000000 | 0 | 0.0000000 | 1.6345092 | 2.67162029 | 0.10523938 | 0 | 15.531345 | 47.418643 | tfit      |\n",
       "| 284012 | chrY | 56884671 | 56885119 | chrY-56884671-56885119-dreg      | 448 | 0 | 0 | 0 | 0 | 0 | ⋯ | 0.0000000 | 0 | 0.0000000 | 0.1655184 | 0.02739636 | 0.02214673 | 0 |  7.473721 |  2.737098 | dreg      |\n",
       "\n"
      ],
      "text/plain": [
       "       chromosome start    end      GeneID                           Length\n",
       "284007 chrY       56877879 56878049 chrY-56877879-56878049-tfit      170   \n",
       "284008 chrY       56878648 56878950 chrY-56878648-56878950-tfit,dreg 302   \n",
       "284009 chrY       56881703 56881987 chrY-56881703-56881987-tfit,dreg 284   \n",
       "284010 chrY       56883159 56883487 chrY-56883159-56883487-dreg      328   \n",
       "284011 chrY       56883555 56883771 chrY-56883555-56883771-tfit      216   \n",
       "284012 chrY       56884671 56885119 chrY-56884671-56885119-dreg      448   \n",
       "       SRZ1950491 SRZ1950493 SRZ1950495 SRZ1950497 SRZ1950499 ⋯ SRR11793828\n",
       "284007 0          0          0          0          0          ⋯ 0.0000000  \n",
       "284008 0          0          0          0          0          ⋯ 0.8404602  \n",
       "284009 0          0          0          0          0          ⋯ 0.0000000  \n",
       "284010 0          0          0          0          0          ⋯ 0.0000000  \n",
       "284011 0          0          0          0          0          ⋯ 0.0000000  \n",
       "284012 0          0          0          0          0          ⋯ 0.0000000  \n",
       "       SRR11793829 SRR11793830 stdev     variance   mean       median coefvar  \n",
       "284007 0           0.0000000   0.8095698 0.65540328 0.11567695 0       6.998541\n",
       "284008 0           0.7467935   2.0722355 4.29416002 0.35922014 0       5.768706\n",
       "284009 0           0.0000000   2.0950754 4.38934091 0.20971675 0       9.990024\n",
       "284010 0           0.0000000   0.3531900 0.12474320 0.05909771 0       5.976374\n",
       "284011 0           0.0000000   1.6345092 2.67162029 0.10523938 0      15.531345\n",
       "284012 0           0.0000000   0.1655184 0.02739636 0.02214673 0       7.473721\n",
       "       max       bidir    \n",
       "284007 13.313613 tfit     \n",
       "284008 33.037678 tfit,dreg\n",
       "284009 56.976454 tfit,dreg\n",
       "284010  6.816074 dreg     \n",
       "284011 47.418643 tfit     \n",
       "284012  2.737098 dreg     "
      ]
     },
     "metadata": {},
     "output_type": "display_data"
    }
   ],
   "source": [
    "tpm_df_genes_bidir_transcribed_trunc$bidir <- as.character(lapply(strsplit(as.character(tpm_df_genes_bidir_transcribed_trunc$GeneID), '-'), `[`, 4))\n",
    "head(tpm_df_genes_bidir_transcribed_trunc)\n",
    "tail(tpm_df_genes_bidir_transcribed_trunc)"
   ]
  },
  {
   "cell_type": "code",
   "execution_count": 55,
   "metadata": {},
   "outputs": [
    {
     "data": {
      "text/html": [
       "<style>\n",
       ".list-inline {list-style: none; margin:0; padding: 0}\n",
       ".list-inline>li {display: inline-block}\n",
       ".list-inline>li:not(:last-child)::after {content: \"\\00b7\"; padding: 0 .5ex}\n",
       "</style>\n",
       "<ol class=list-inline><li>27941</li><li>892</li></ol>\n"
      ],
      "text/latex": [
       "\\begin{enumerate*}\n",
       "\\item 27941\n",
       "\\item 892\n",
       "\\end{enumerate*}\n"
      ],
      "text/markdown": [
       "1. 27941\n",
       "2. 892\n",
       "\n",
       "\n"
      ],
      "text/plain": [
       "[1] 27941   892"
      ]
     },
     "metadata": {},
     "output_type": "display_data"
    },
    {
     "data": {
      "text/html": [
       "<table class=\"dataframe\">\n",
       "<caption>A data.frame: 3 × 892</caption>\n",
       "<thead>\n",
       "\t<tr><th></th><th scope=col>chromosome</th><th scope=col>start</th><th scope=col>end</th><th scope=col>GeneID</th><th scope=col>Length</th><th scope=col>SRZ1950491</th><th scope=col>SRZ1950493</th><th scope=col>SRZ1950495</th><th scope=col>SRZ1950497</th><th scope=col>SRZ1950499</th><th scope=col>⋯</th><th scope=col>SRR11793828</th><th scope=col>SRR11793829</th><th scope=col>SRR11793830</th><th scope=col>stdev</th><th scope=col>variance</th><th scope=col>mean</th><th scope=col>median</th><th scope=col>coefvar</th><th scope=col>max</th><th scope=col>bidir</th></tr>\n",
       "\t<tr><th></th><th scope=col>&lt;chr&gt;</th><th scope=col>&lt;int&gt;</th><th scope=col>&lt;int&gt;</th><th scope=col>&lt;chr&gt;</th><th scope=col>&lt;int&gt;</th><th scope=col>&lt;dbl&gt;</th><th scope=col>&lt;dbl&gt;</th><th scope=col>&lt;dbl&gt;</th><th scope=col>&lt;dbl&gt;</th><th scope=col>&lt;dbl&gt;</th><th scope=col>⋯</th><th scope=col>&lt;dbl&gt;</th><th scope=col>&lt;dbl&gt;</th><th scope=col>&lt;dbl&gt;</th><th scope=col>&lt;dbl&gt;</th><th scope=col>&lt;dbl&gt;</th><th scope=col>&lt;dbl&gt;</th><th scope=col>&lt;dbl&gt;</th><th scope=col>&lt;dbl&gt;</th><th scope=col>&lt;dbl&gt;</th><th scope=col>&lt;chr&gt;</th></tr>\n",
       "</thead>\n",
       "<tbody>\n",
       "\t<tr><th scope=row>1</th><td>chr1 </td><td> 77562416</td><td> 77681908</td><td>ZZZ3 </td><td>119493</td><td>5.896069</td><td>8.4220380</td><td>6.065660</td><td>6.3409542</td><td>6.4128030</td><td>⋯</td><td>5.735158</td><td>0.5292324</td><td>4.595830</td><td> 4.099927</td><td> 16.809403</td><td> 6.350162</td><td>5.746589</td><td>0.6456414</td><td> 37.16213</td><td>NA</td></tr>\n",
       "\t<tr><th scope=row>2</th><td>chr17</td><td>  4004445</td><td>  4142280</td><td>ZZEF1</td><td>137836</td><td>2.999598</td><td>3.7204037</td><td>3.492451</td><td>3.3402996</td><td>3.7528785</td><td>⋯</td><td>3.498767</td><td>0.4799321</td><td>2.987759</td><td> 2.784332</td><td>  7.752505</td><td> 4.213346</td><td>3.657366</td><td>0.6608363</td><td> 18.71432</td><td>NA</td></tr>\n",
       "\t<tr><th scope=row>3</th><td>chr7 </td><td>143382095</td><td>143391111</td><td>ZYX  </td><td>  9017</td><td>1.340006</td><td>0.9263288</td><td>0.368001</td><td>0.5003361</td><td>0.8506951</td><td>⋯</td><td>8.613576</td><td>1.3611477</td><td>6.828229</td><td>19.362806</td><td>374.918246</td><td>15.029889</td><td>8.398350</td><td>1.2882867</td><td>190.32745</td><td>NA</td></tr>\n",
       "</tbody>\n",
       "</table>\n"
      ],
      "text/latex": [
       "A data.frame: 3 × 892\n",
       "\\begin{tabular}{r|lllllllllllllllllllll}\n",
       "  & chromosome & start & end & GeneID & Length & SRZ1950491 & SRZ1950493 & SRZ1950495 & SRZ1950497 & SRZ1950499 & ⋯ & SRR11793828 & SRR11793829 & SRR11793830 & stdev & variance & mean & median & coefvar & max & bidir\\\\\n",
       "  & <chr> & <int> & <int> & <chr> & <int> & <dbl> & <dbl> & <dbl> & <dbl> & <dbl> & ⋯ & <dbl> & <dbl> & <dbl> & <dbl> & <dbl> & <dbl> & <dbl> & <dbl> & <dbl> & <chr>\\\\\n",
       "\\hline\n",
       "\t1 & chr1  &  77562416 &  77681908 & ZZZ3  & 119493 & 5.896069 & 8.4220380 & 6.065660 & 6.3409542 & 6.4128030 & ⋯ & 5.735158 & 0.5292324 & 4.595830 &  4.099927 &  16.809403 &  6.350162 & 5.746589 & 0.6456414 &  37.16213 & NA\\\\\n",
       "\t2 & chr17 &   4004445 &   4142280 & ZZEF1 & 137836 & 2.999598 & 3.7204037 & 3.492451 & 3.3402996 & 3.7528785 & ⋯ & 3.498767 & 0.4799321 & 2.987759 &  2.784332 &   7.752505 &  4.213346 & 3.657366 & 0.6608363 &  18.71432 & NA\\\\\n",
       "\t3 & chr7  & 143382095 & 143391111 & ZYX   &   9017 & 1.340006 & 0.9263288 & 0.368001 & 0.5003361 & 0.8506951 & ⋯ & 8.613576 & 1.3611477 & 6.828229 & 19.362806 & 374.918246 & 15.029889 & 8.398350 & 1.2882867 & 190.32745 & NA\\\\\n",
       "\\end{tabular}\n"
      ],
      "text/markdown": [
       "\n",
       "A data.frame: 3 × 892\n",
       "\n",
       "| <!--/--> | chromosome &lt;chr&gt; | start &lt;int&gt; | end &lt;int&gt; | GeneID &lt;chr&gt; | Length &lt;int&gt; | SRZ1950491 &lt;dbl&gt; | SRZ1950493 &lt;dbl&gt; | SRZ1950495 &lt;dbl&gt; | SRZ1950497 &lt;dbl&gt; | SRZ1950499 &lt;dbl&gt; | ⋯ ⋯ | SRR11793828 &lt;dbl&gt; | SRR11793829 &lt;dbl&gt; | SRR11793830 &lt;dbl&gt; | stdev &lt;dbl&gt; | variance &lt;dbl&gt; | mean &lt;dbl&gt; | median &lt;dbl&gt; | coefvar &lt;dbl&gt; | max &lt;dbl&gt; | bidir &lt;chr&gt; |\n",
       "|---|---|---|---|---|---|---|---|---|---|---|---|---|---|---|---|---|---|---|---|---|---|\n",
       "| 1 | chr1  |  77562416 |  77681908 | ZZZ3  | 119493 | 5.896069 | 8.4220380 | 6.065660 | 6.3409542 | 6.4128030 | ⋯ | 5.735158 | 0.5292324 | 4.595830 |  4.099927 |  16.809403 |  6.350162 | 5.746589 | 0.6456414 |  37.16213 | NA |\n",
       "| 2 | chr17 |   4004445 |   4142280 | ZZEF1 | 137836 | 2.999598 | 3.7204037 | 3.492451 | 3.3402996 | 3.7528785 | ⋯ | 3.498767 | 0.4799321 | 2.987759 |  2.784332 |   7.752505 |  4.213346 | 3.657366 | 0.6608363 |  18.71432 | NA |\n",
       "| 3 | chr7  | 143382095 | 143391111 | ZYX   |   9017 | 1.340006 | 0.9263288 | 0.368001 | 0.5003361 | 0.8506951 | ⋯ | 8.613576 | 1.3611477 | 6.828229 | 19.362806 | 374.918246 | 15.029889 | 8.398350 | 1.2882867 | 190.32745 | NA |\n",
       "\n"
      ],
      "text/plain": [
       "  chromosome start     end       GeneID Length SRZ1950491 SRZ1950493 SRZ1950495\n",
       "1 chr1        77562416  77681908 ZZZ3   119493 5.896069   8.4220380  6.065660  \n",
       "2 chr17        4004445   4142280 ZZEF1  137836 2.999598   3.7204037  3.492451  \n",
       "3 chr7       143382095 143391111 ZYX      9017 1.340006   0.9263288  0.368001  \n",
       "  SRZ1950497 SRZ1950499 ⋯ SRR11793828 SRR11793829 SRR11793830 stdev    \n",
       "1 6.3409542  6.4128030  ⋯ 5.735158    0.5292324   4.595830     4.099927\n",
       "2 3.3402996  3.7528785  ⋯ 3.498767    0.4799321   2.987759     2.784332\n",
       "3 0.5003361  0.8506951  ⋯ 8.613576    1.3611477   6.828229    19.362806\n",
       "  variance   mean      median   coefvar   max       bidir\n",
       "1  16.809403  6.350162 5.746589 0.6456414  37.16213 NA   \n",
       "2   7.752505  4.213346 3.657366 0.6608363  18.71432 NA   \n",
       "3 374.918246 15.029889 8.398350 1.2882867 190.32745 NA   "
      ]
     },
     "metadata": {},
     "output_type": "display_data"
    },
    {
     "data": {
      "text/html": [
       "<table class=\"dataframe\">\n",
       "<caption>A data.frame: 3 × 892</caption>\n",
       "<thead>\n",
       "\t<tr><th></th><th scope=col>chromosome</th><th scope=col>start</th><th scope=col>end</th><th scope=col>GeneID</th><th scope=col>Length</th><th scope=col>SRZ1950491</th><th scope=col>SRZ1950493</th><th scope=col>SRZ1950495</th><th scope=col>SRZ1950497</th><th scope=col>SRZ1950499</th><th scope=col>⋯</th><th scope=col>SRR11793828</th><th scope=col>SRR11793829</th><th scope=col>SRR11793830</th><th scope=col>stdev</th><th scope=col>variance</th><th scope=col>mean</th><th scope=col>median</th><th scope=col>coefvar</th><th scope=col>max</th><th scope=col>bidir</th></tr>\n",
       "\t<tr><th></th><th scope=col>&lt;chr&gt;</th><th scope=col>&lt;int&gt;</th><th scope=col>&lt;int&gt;</th><th scope=col>&lt;chr&gt;</th><th scope=col>&lt;int&gt;</th><th scope=col>&lt;dbl&gt;</th><th scope=col>&lt;dbl&gt;</th><th scope=col>&lt;dbl&gt;</th><th scope=col>&lt;dbl&gt;</th><th scope=col>&lt;dbl&gt;</th><th scope=col>⋯</th><th scope=col>&lt;dbl&gt;</th><th scope=col>&lt;dbl&gt;</th><th scope=col>&lt;dbl&gt;</th><th scope=col>&lt;dbl&gt;</th><th scope=col>&lt;dbl&gt;</th><th scope=col>&lt;dbl&gt;</th><th scope=col>&lt;dbl&gt;</th><th scope=col>&lt;dbl&gt;</th><th scope=col>&lt;dbl&gt;</th><th scope=col>&lt;chr&gt;</th></tr>\n",
       "</thead>\n",
       "<tbody>\n",
       "\t<tr><th scope=row>28235</th><td>chr10</td><td>50799409</td><td>50884877</td><td>A1CF    </td><td>85469</td><td> 0.000000</td><td> 0.008884355</td><td> 0.000000</td><td>0.000000</td><td> 0.004602489</td><td>⋯</td><td>0.01781832</td><td>0.01095265</td><td>0.005277508</td><td> 1.069988</td><td>  1.144874</td><td> 0.1274451</td><td>0.002842652</td><td>8.395678</td><td> 15.35798</td><td>NA</td></tr>\n",
       "\t<tr><th scope=row>28236</th><td>chr19</td><td>58352720</td><td>58355183</td><td>A1BG-AS1</td><td> 2464</td><td>17.475169</td><td>13.148691932</td><td>14.236527</td><td>9.347626</td><td>11.255112150</td><td>⋯</td><td>9.88905172</td><td>1.09753396</td><td>7.963171096</td><td>17.964489</td><td>322.722851</td><td>10.4435742</td><td>5.988869978</td><td>1.720148</td><td>332.46806</td><td>NA</td></tr>\n",
       "\t<tr><th scope=row>28237</th><td>chr19</td><td>58345183</td><td>58352742</td><td>A1BG    </td><td> 7560</td><td> 4.998189</td><td> 3.850253540</td><td> 2.163268</td><td>2.449870</td><td> 3.304101219</td><td>⋯</td><td>1.00721823</td><td>0.33019825</td><td>0.656309035</td><td> 3.096994</td><td>  9.591372</td><td> 2.7291079</td><td>1.701776151</td><td>1.134801</td><td> 24.58384</td><td>NA</td></tr>\n",
       "</tbody>\n",
       "</table>\n"
      ],
      "text/latex": [
       "A data.frame: 3 × 892\n",
       "\\begin{tabular}{r|lllllllllllllllllllll}\n",
       "  & chromosome & start & end & GeneID & Length & SRZ1950491 & SRZ1950493 & SRZ1950495 & SRZ1950497 & SRZ1950499 & ⋯ & SRR11793828 & SRR11793829 & SRR11793830 & stdev & variance & mean & median & coefvar & max & bidir\\\\\n",
       "  & <chr> & <int> & <int> & <chr> & <int> & <dbl> & <dbl> & <dbl> & <dbl> & <dbl> & ⋯ & <dbl> & <dbl> & <dbl> & <dbl> & <dbl> & <dbl> & <dbl> & <dbl> & <dbl> & <chr>\\\\\n",
       "\\hline\n",
       "\t28235 & chr10 & 50799409 & 50884877 & A1CF     & 85469 &  0.000000 &  0.008884355 &  0.000000 & 0.000000 &  0.004602489 & ⋯ & 0.01781832 & 0.01095265 & 0.005277508 &  1.069988 &   1.144874 &  0.1274451 & 0.002842652 & 8.395678 &  15.35798 & NA\\\\\n",
       "\t28236 & chr19 & 58352720 & 58355183 & A1BG-AS1 &  2464 & 17.475169 & 13.148691932 & 14.236527 & 9.347626 & 11.255112150 & ⋯ & 9.88905172 & 1.09753396 & 7.963171096 & 17.964489 & 322.722851 & 10.4435742 & 5.988869978 & 1.720148 & 332.46806 & NA\\\\\n",
       "\t28237 & chr19 & 58345183 & 58352742 & A1BG     &  7560 &  4.998189 &  3.850253540 &  2.163268 & 2.449870 &  3.304101219 & ⋯ & 1.00721823 & 0.33019825 & 0.656309035 &  3.096994 &   9.591372 &  2.7291079 & 1.701776151 & 1.134801 &  24.58384 & NA\\\\\n",
       "\\end{tabular}\n"
      ],
      "text/markdown": [
       "\n",
       "A data.frame: 3 × 892\n",
       "\n",
       "| <!--/--> | chromosome &lt;chr&gt; | start &lt;int&gt; | end &lt;int&gt; | GeneID &lt;chr&gt; | Length &lt;int&gt; | SRZ1950491 &lt;dbl&gt; | SRZ1950493 &lt;dbl&gt; | SRZ1950495 &lt;dbl&gt; | SRZ1950497 &lt;dbl&gt; | SRZ1950499 &lt;dbl&gt; | ⋯ ⋯ | SRR11793828 &lt;dbl&gt; | SRR11793829 &lt;dbl&gt; | SRR11793830 &lt;dbl&gt; | stdev &lt;dbl&gt; | variance &lt;dbl&gt; | mean &lt;dbl&gt; | median &lt;dbl&gt; | coefvar &lt;dbl&gt; | max &lt;dbl&gt; | bidir &lt;chr&gt; |\n",
       "|---|---|---|---|---|---|---|---|---|---|---|---|---|---|---|---|---|---|---|---|---|---|\n",
       "| 28235 | chr10 | 50799409 | 50884877 | A1CF     | 85469 |  0.000000 |  0.008884355 |  0.000000 | 0.000000 |  0.004602489 | ⋯ | 0.01781832 | 0.01095265 | 0.005277508 |  1.069988 |   1.144874 |  0.1274451 | 0.002842652 | 8.395678 |  15.35798 | NA |\n",
       "| 28236 | chr19 | 58352720 | 58355183 | A1BG-AS1 |  2464 | 17.475169 | 13.148691932 | 14.236527 | 9.347626 | 11.255112150 | ⋯ | 9.88905172 | 1.09753396 | 7.963171096 | 17.964489 | 322.722851 | 10.4435742 | 5.988869978 | 1.720148 | 332.46806 | NA |\n",
       "| 28237 | chr19 | 58345183 | 58352742 | A1BG     |  7560 |  4.998189 |  3.850253540 |  2.163268 | 2.449870 |  3.304101219 | ⋯ | 1.00721823 | 0.33019825 | 0.656309035 |  3.096994 |   9.591372 |  2.7291079 | 1.701776151 | 1.134801 |  24.58384 | NA |\n",
       "\n"
      ],
      "text/plain": [
       "      chromosome start    end      GeneID   Length SRZ1950491 SRZ1950493  \n",
       "28235 chr10      50799409 50884877 A1CF     85469   0.000000   0.008884355\n",
       "28236 chr19      58352720 58355183 A1BG-AS1  2464  17.475169  13.148691932\n",
       "28237 chr19      58345183 58352742 A1BG      7560   4.998189   3.850253540\n",
       "      SRZ1950495 SRZ1950497 SRZ1950499   ⋯ SRR11793828 SRR11793829 SRR11793830\n",
       "28235  0.000000  0.000000    0.004602489 ⋯ 0.01781832  0.01095265  0.005277508\n",
       "28236 14.236527  9.347626   11.255112150 ⋯ 9.88905172  1.09753396  7.963171096\n",
       "28237  2.163268  2.449870    3.304101219 ⋯ 1.00721823  0.33019825  0.656309035\n",
       "      stdev     variance   mean       median      coefvar  max       bidir\n",
       "28235  1.069988   1.144874  0.1274451 0.002842652 8.395678  15.35798 NA   \n",
       "28236 17.964489 322.722851 10.4435742 5.988869978 1.720148 332.46806 NA   \n",
       "28237  3.096994   9.591372  2.7291079 1.701776151 1.134801  24.58384 NA   "
      ]
     },
     "metadata": {},
     "output_type": "display_data"
    }
   ],
   "source": [
    "transcribed_geneid_trunc <- tpm_df_genes_bidir_transcribed_trunc[is.na(tpm_df_genes_bidir_transcribed_trunc$bidir),]\n",
    "dim(transcribed_geneid_trunc)\n",
    "head(transcribed_geneid_trunc, 3)\n",
    "tail(transcribed_geneid_trunc, 3)"
   ]
  },
  {
   "cell_type": "code",
   "execution_count": 56,
   "metadata": {},
   "outputs": [
    {
     "data": {
      "text/html": [
       "<style>\n",
       ".list-inline {list-style: none; margin:0; padding: 0}\n",
       ".list-inline>li {display: inline-block}\n",
       ".list-inline>li:not(:last-child)::after {content: \"\\00b7\"; padding: 0 .5ex}\n",
       "</style>\n",
       "<ol class=list-inline><li>105198</li><li>892</li></ol>\n"
      ],
      "text/latex": [
       "\\begin{enumerate*}\n",
       "\\item 105198\n",
       "\\item 892\n",
       "\\end{enumerate*}\n"
      ],
      "text/markdown": [
       "1. 105198\n",
       "2. 892\n",
       "\n",
       "\n"
      ],
      "text/plain": [
       "[1] 105198    892"
      ]
     },
     "metadata": {},
     "output_type": "display_data"
    }
   ],
   "source": [
    "gn_dreg_tfit_list_trunc <- (unique(c(rownames(tpm_df_genes_bidir_transcribed_trunc[grep(\"dreg,\", \n",
    "                                                                            tpm_df_genes_bidir_transcribed_trunc$bidir),]),\n",
    "                            rownames(tpm_df_genes_bidir_transcribed_trunc[grep(\"tfit,\",\n",
    "                                                                         tpm_df_genes_bidir_transcribed_trunc$bidir),]),\n",
    "                            rownames(tpm_df_genes_bidir_transcribed_trunc[grep(\",dreg\",\n",
    "                                                                         tpm_df_genes_bidir_transcribed_trunc$bidir),]),\n",
    "                            rownames(tpm_df_genes_bidir_transcribed_trunc[grep(\",tfit\",\n",
    "                                                                         tpm_df_genes_bidir_transcribed_trunc$bidir),]))))\n",
    "\n",
    "gn_tpm_tfit_dreg_df_trunc <- tpm_df_genes_bidir_transcribed_trunc[gn_dreg_tfit_list_trunc, ]\n",
    "dim(gn_tpm_tfit_dreg_df_trunc)"
   ]
  },
  {
   "cell_type": "code",
   "execution_count": 57,
   "metadata": {},
   "outputs": [
    {
     "data": {
      "text/html": [
       "<style>\n",
       ".list-inline {list-style: none; margin:0; padding: 0}\n",
       ".list-inline>li {display: inline-block}\n",
       ".list-inline>li:not(:last-child)::after {content: \"\\00b7\"; padding: 0 .5ex}\n",
       "</style>\n",
       "<ol class=list-inline><li>86749</li><li>892</li></ol>\n"
      ],
      "text/latex": [
       "\\begin{enumerate*}\n",
       "\\item 86749\n",
       "\\item 892\n",
       "\\end{enumerate*}\n"
      ],
      "text/markdown": [
       "1. 86749\n",
       "2. 892\n",
       "\n",
       "\n"
      ],
      "text/plain": [
       "[1] 86749   892"
      ]
     },
     "metadata": {},
     "output_type": "display_data"
    }
   ],
   "source": [
    "gn_tpm_dreg_df_trunc <- subset(tpm_df_genes_bidir_transcribed_trunc, bidir=='dreg')\n",
    "dim(gn_tpm_dreg_df_trunc)"
   ]
  },
  {
   "cell_type": "code",
   "execution_count": 58,
   "metadata": {},
   "outputs": [
    {
     "data": {
      "text/html": [
       "<style>\n",
       ".list-inline {list-style: none; margin:0; padding: 0}\n",
       ".list-inline>li {display: inline-block}\n",
       ".list-inline>li:not(:last-child)::after {content: \"\\00b7\"; padding: 0 .5ex}\n",
       "</style>\n",
       "<ol class=list-inline><li>62277</li><li>892</li></ol>\n"
      ],
      "text/latex": [
       "\\begin{enumerate*}\n",
       "\\item 62277\n",
       "\\item 892\n",
       "\\end{enumerate*}\n"
      ],
      "text/markdown": [
       "1. 62277\n",
       "2. 892\n",
       "\n",
       "\n"
      ],
      "text/plain": [
       "[1] 62277   892"
      ]
     },
     "metadata": {},
     "output_type": "display_data"
    }
   ],
   "source": [
    "gn_tpm_tfit_df_trunc <- subset(tpm_df_genes_bidir_transcribed_trunc, bidir=='tfit')\n",
    "dim(gn_tpm_tfit_df_trunc)"
   ]
  },
  {
   "cell_type": "code",
   "execution_count": 59,
   "metadata": {},
   "outputs": [
    {
     "data": {
      "text/html": [
       "<style>\n",
       ".list-inline {list-style: none; margin:0; padding: 0}\n",
       ".list-inline>li {display: inline-block}\n",
       ".list-inline>li:not(:last-child)::after {content: \"\\00b7\"; padding: 0 .5ex}\n",
       "</style>\n",
       "<ol class=list-inline><li>282165</li><li>893</li></ol>\n"
      ],
      "text/latex": [
       "\\begin{enumerate*}\n",
       "\\item 282165\n",
       "\\item 893\n",
       "\\end{enumerate*}\n"
      ],
      "text/markdown": [
       "1. 282165\n",
       "2. 893\n",
       "\n",
       "\n"
      ],
      "text/plain": [
       "[1] 282165    893"
      ]
     },
     "metadata": {},
     "output_type": "display_data"
    },
    {
     "data": {
      "text/html": [
       "<table class=\"dataframe\">\n",
       "<caption>A data.frame: 6 × 893</caption>\n",
       "<thead>\n",
       "\t<tr><th></th><th scope=col>chromosome</th><th scope=col>start</th><th scope=col>end</th><th scope=col>GeneID</th><th scope=col>Length</th><th scope=col>SRZ1950491</th><th scope=col>SRZ1950493</th><th scope=col>SRZ1950495</th><th scope=col>SRZ1950497</th><th scope=col>SRZ1950499</th><th scope=col>⋯</th><th scope=col>SRR11793829</th><th scope=col>SRR11793830</th><th scope=col>stdev</th><th scope=col>variance</th><th scope=col>mean</th><th scope=col>median</th><th scope=col>coefvar</th><th scope=col>max</th><th scope=col>bidir</th><th scope=col>bidir_id</th></tr>\n",
       "\t<tr><th></th><th scope=col>&lt;chr&gt;</th><th scope=col>&lt;int&gt;</th><th scope=col>&lt;int&gt;</th><th scope=col>&lt;chr&gt;</th><th scope=col>&lt;int&gt;</th><th scope=col>&lt;dbl&gt;</th><th scope=col>&lt;dbl&gt;</th><th scope=col>&lt;dbl&gt;</th><th scope=col>&lt;dbl&gt;</th><th scope=col>&lt;dbl&gt;</th><th scope=col>⋯</th><th scope=col>&lt;dbl&gt;</th><th scope=col>&lt;dbl&gt;</th><th scope=col>&lt;dbl&gt;</th><th scope=col>&lt;dbl&gt;</th><th scope=col>&lt;dbl&gt;</th><th scope=col>&lt;dbl&gt;</th><th scope=col>&lt;dbl&gt;</th><th scope=col>&lt;dbl&gt;</th><th scope=col>&lt;chr&gt;</th><th scope=col>&lt;chr&gt;</th></tr>\n",
       "</thead>\n",
       "<tbody>\n",
       "\t<tr><th scope=row>1</th><td>chr1 </td><td> 77562416</td><td> 77681908</td><td>ZZZ3  </td><td>119493</td><td>5.89606855</td><td>8.4220380</td><td>6.065659968</td><td>6.340954238</td><td>6.4128030</td><td>⋯</td><td>0.5292324</td><td>4.595830</td><td> 4.099927</td><td> 16.809403</td><td> 6.350162</td><td>5.746589</td><td>0.6456414</td><td> 37.16213</td><td>NA</td><td>Gene</td></tr>\n",
       "\t<tr><th scope=row>2</th><td>chr17</td><td>  4004445</td><td>  4142280</td><td>ZZEF1 </td><td>137836</td><td>2.99959752</td><td>3.7204037</td><td>3.492450878</td><td>3.340299643</td><td>3.7528785</td><td>⋯</td><td>0.4799321</td><td>2.987759</td><td> 2.784332</td><td>  7.752505</td><td> 4.213346</td><td>3.657366</td><td>0.6608363</td><td> 18.71432</td><td>NA</td><td>Gene</td></tr>\n",
       "\t<tr><th scope=row>3</th><td>chr7 </td><td>143382095</td><td>143391111</td><td>ZYX   </td><td>  9017</td><td>1.34000571</td><td>0.9263288</td><td>0.368001010</td><td>0.500336067</td><td>0.8506951</td><td>⋯</td><td>1.3611477</td><td>6.828229</td><td>19.362806</td><td>374.918246</td><td>15.029889</td><td>8.398350</td><td>1.2882867</td><td>190.32745</td><td>NA</td><td>Gene</td></tr>\n",
       "\t<tr><th scope=row>4</th><td>chr1 </td><td> 52727203</td><td> 52827336</td><td>ZYG11B</td><td>100134</td><td>2.28827793</td><td>2.6288455</td><td>1.661646325</td><td>1.882821794</td><td>2.2627800</td><td>⋯</td><td>0.4373064</td><td>2.918979</td><td> 2.150771</td><td>  4.625818</td><td> 2.584695</td><td>2.125551</td><td>0.8321180</td><td> 22.05660</td><td>NA</td><td>Gene</td></tr>\n",
       "\t<tr><th scope=row>5</th><td>chr1 </td><td> 52843510</td><td> 52894995</td><td>ZYG11A</td><td> 51486</td><td>0.02560166</td><td>0.0000000</td><td>0.009207122</td><td>0.009223826</td><td>0.0114605</td><td>⋯</td><td>0.8080834</td><td>4.967426</td><td> 3.376006</td><td> 11.397417</td><td> 2.223047</td><td>1.007828</td><td>1.5186389</td><td> 29.01328</td><td>NA</td><td>Gene</td></tr>\n",
       "\t<tr><th scope=row>6</th><td>chr3 </td><td>126458901</td><td>126475169</td><td>ZXDC  </td><td> 16269</td><td>4.48314983</td><td>5.1963559</td><td>4.705705105</td><td>4.101245248</td><td>5.3798550</td><td>⋯</td><td>0.4411371</td><td>3.659743</td><td> 5.610681</td><td> 31.479741</td><td> 8.468098</td><td>7.282790</td><td>0.6625669</td><td> 54.13730</td><td>NA</td><td>Gene</td></tr>\n",
       "</tbody>\n",
       "</table>\n"
      ],
      "text/latex": [
       "A data.frame: 6 × 893\n",
       "\\begin{tabular}{r|lllllllllllllllllllll}\n",
       "  & chromosome & start & end & GeneID & Length & SRZ1950491 & SRZ1950493 & SRZ1950495 & SRZ1950497 & SRZ1950499 & ⋯ & SRR11793829 & SRR11793830 & stdev & variance & mean & median & coefvar & max & bidir & bidir\\_id\\\\\n",
       "  & <chr> & <int> & <int> & <chr> & <int> & <dbl> & <dbl> & <dbl> & <dbl> & <dbl> & ⋯ & <dbl> & <dbl> & <dbl> & <dbl> & <dbl> & <dbl> & <dbl> & <dbl> & <chr> & <chr>\\\\\n",
       "\\hline\n",
       "\t1 & chr1  &  77562416 &  77681908 & ZZZ3   & 119493 & 5.89606855 & 8.4220380 & 6.065659968 & 6.340954238 & 6.4128030 & ⋯ & 0.5292324 & 4.595830 &  4.099927 &  16.809403 &  6.350162 & 5.746589 & 0.6456414 &  37.16213 & NA & Gene\\\\\n",
       "\t2 & chr17 &   4004445 &   4142280 & ZZEF1  & 137836 & 2.99959752 & 3.7204037 & 3.492450878 & 3.340299643 & 3.7528785 & ⋯ & 0.4799321 & 2.987759 &  2.784332 &   7.752505 &  4.213346 & 3.657366 & 0.6608363 &  18.71432 & NA & Gene\\\\\n",
       "\t3 & chr7  & 143382095 & 143391111 & ZYX    &   9017 & 1.34000571 & 0.9263288 & 0.368001010 & 0.500336067 & 0.8506951 & ⋯ & 1.3611477 & 6.828229 & 19.362806 & 374.918246 & 15.029889 & 8.398350 & 1.2882867 & 190.32745 & NA & Gene\\\\\n",
       "\t4 & chr1  &  52727203 &  52827336 & ZYG11B & 100134 & 2.28827793 & 2.6288455 & 1.661646325 & 1.882821794 & 2.2627800 & ⋯ & 0.4373064 & 2.918979 &  2.150771 &   4.625818 &  2.584695 & 2.125551 & 0.8321180 &  22.05660 & NA & Gene\\\\\n",
       "\t5 & chr1  &  52843510 &  52894995 & ZYG11A &  51486 & 0.02560166 & 0.0000000 & 0.009207122 & 0.009223826 & 0.0114605 & ⋯ & 0.8080834 & 4.967426 &  3.376006 &  11.397417 &  2.223047 & 1.007828 & 1.5186389 &  29.01328 & NA & Gene\\\\\n",
       "\t6 & chr3  & 126458901 & 126475169 & ZXDC   &  16269 & 4.48314983 & 5.1963559 & 4.705705105 & 4.101245248 & 5.3798550 & ⋯ & 0.4411371 & 3.659743 &  5.610681 &  31.479741 &  8.468098 & 7.282790 & 0.6625669 &  54.13730 & NA & Gene\\\\\n",
       "\\end{tabular}\n"
      ],
      "text/markdown": [
       "\n",
       "A data.frame: 6 × 893\n",
       "\n",
       "| <!--/--> | chromosome &lt;chr&gt; | start &lt;int&gt; | end &lt;int&gt; | GeneID &lt;chr&gt; | Length &lt;int&gt; | SRZ1950491 &lt;dbl&gt; | SRZ1950493 &lt;dbl&gt; | SRZ1950495 &lt;dbl&gt; | SRZ1950497 &lt;dbl&gt; | SRZ1950499 &lt;dbl&gt; | ⋯ ⋯ | SRR11793829 &lt;dbl&gt; | SRR11793830 &lt;dbl&gt; | stdev &lt;dbl&gt; | variance &lt;dbl&gt; | mean &lt;dbl&gt; | median &lt;dbl&gt; | coefvar &lt;dbl&gt; | max &lt;dbl&gt; | bidir &lt;chr&gt; | bidir_id &lt;chr&gt; |\n",
       "|---|---|---|---|---|---|---|---|---|---|---|---|---|---|---|---|---|---|---|---|---|---|\n",
       "| 1 | chr1  |  77562416 |  77681908 | ZZZ3   | 119493 | 5.89606855 | 8.4220380 | 6.065659968 | 6.340954238 | 6.4128030 | ⋯ | 0.5292324 | 4.595830 |  4.099927 |  16.809403 |  6.350162 | 5.746589 | 0.6456414 |  37.16213 | NA | Gene |\n",
       "| 2 | chr17 |   4004445 |   4142280 | ZZEF1  | 137836 | 2.99959752 | 3.7204037 | 3.492450878 | 3.340299643 | 3.7528785 | ⋯ | 0.4799321 | 2.987759 |  2.784332 |   7.752505 |  4.213346 | 3.657366 | 0.6608363 |  18.71432 | NA | Gene |\n",
       "| 3 | chr7  | 143382095 | 143391111 | ZYX    |   9017 | 1.34000571 | 0.9263288 | 0.368001010 | 0.500336067 | 0.8506951 | ⋯ | 1.3611477 | 6.828229 | 19.362806 | 374.918246 | 15.029889 | 8.398350 | 1.2882867 | 190.32745 | NA | Gene |\n",
       "| 4 | chr1  |  52727203 |  52827336 | ZYG11B | 100134 | 2.28827793 | 2.6288455 | 1.661646325 | 1.882821794 | 2.2627800 | ⋯ | 0.4373064 | 2.918979 |  2.150771 |   4.625818 |  2.584695 | 2.125551 | 0.8321180 |  22.05660 | NA | Gene |\n",
       "| 5 | chr1  |  52843510 |  52894995 | ZYG11A |  51486 | 0.02560166 | 0.0000000 | 0.009207122 | 0.009223826 | 0.0114605 | ⋯ | 0.8080834 | 4.967426 |  3.376006 |  11.397417 |  2.223047 | 1.007828 | 1.5186389 |  29.01328 | NA | Gene |\n",
       "| 6 | chr3  | 126458901 | 126475169 | ZXDC   |  16269 | 4.48314983 | 5.1963559 | 4.705705105 | 4.101245248 | 5.3798550 | ⋯ | 0.4411371 | 3.659743 |  5.610681 |  31.479741 |  8.468098 | 7.282790 | 0.6625669 |  54.13730 | NA | Gene |\n",
       "\n"
      ],
      "text/plain": [
       "  chromosome start     end       GeneID Length SRZ1950491 SRZ1950493\n",
       "1 chr1        77562416  77681908 ZZZ3   119493 5.89606855 8.4220380 \n",
       "2 chr17        4004445   4142280 ZZEF1  137836 2.99959752 3.7204037 \n",
       "3 chr7       143382095 143391111 ZYX      9017 1.34000571 0.9263288 \n",
       "4 chr1        52727203  52827336 ZYG11B 100134 2.28827793 2.6288455 \n",
       "5 chr1        52843510  52894995 ZYG11A  51486 0.02560166 0.0000000 \n",
       "6 chr3       126458901 126475169 ZXDC    16269 4.48314983 5.1963559 \n",
       "  SRZ1950495  SRZ1950497  SRZ1950499 ⋯ SRR11793829 SRR11793830 stdev    \n",
       "1 6.065659968 6.340954238 6.4128030  ⋯ 0.5292324   4.595830     4.099927\n",
       "2 3.492450878 3.340299643 3.7528785  ⋯ 0.4799321   2.987759     2.784332\n",
       "3 0.368001010 0.500336067 0.8506951  ⋯ 1.3611477   6.828229    19.362806\n",
       "4 1.661646325 1.882821794 2.2627800  ⋯ 0.4373064   2.918979     2.150771\n",
       "5 0.009207122 0.009223826 0.0114605  ⋯ 0.8080834   4.967426     3.376006\n",
       "6 4.705705105 4.101245248 5.3798550  ⋯ 0.4411371   3.659743     5.610681\n",
       "  variance   mean      median   coefvar   max       bidir bidir_id\n",
       "1  16.809403  6.350162 5.746589 0.6456414  37.16213 NA    Gene    \n",
       "2   7.752505  4.213346 3.657366 0.6608363  18.71432 NA    Gene    \n",
       "3 374.918246 15.029889 8.398350 1.2882867 190.32745 NA    Gene    \n",
       "4   4.625818  2.584695 2.125551 0.8321180  22.05660 NA    Gene    \n",
       "5  11.397417  2.223047 1.007828 1.5186389  29.01328 NA    Gene    \n",
       "6  31.479741  8.468098 7.282790 0.6625669  54.13730 NA    Gene    "
      ]
     },
     "metadata": {},
     "output_type": "display_data"
    }
   ],
   "source": [
    "transcribed_geneid_trunc$bidir_id <- rep('Gene', nrow(transcribed_geneid_trunc))\n",
    "gn_tpm_tfit_dreg_df_trunc$bidir_id <- rep('Tfit & dREG', nrow(gn_tpm_tfit_dreg_df_trunc))\n",
    "gn_tpm_tfit_df_trunc$bidir_id <- rep('Tfit', nrow(gn_tpm_tfit_df_trunc))\n",
    "gn_tpm_dreg_df_trunc$bidir_id <- rep('dREG', nrow(gn_tpm_dreg_df_trunc))\n",
    "\n",
    "gn_bdr_tpm_updated_df_trunc <- rbind(transcribed_geneid_trunc,\n",
    "                               gn_tpm_tfit_dreg_df_trunc,\n",
    "                               gn_tpm_tfit_df_trunc,\n",
    "                               gn_tpm_dreg_df_trunc)\n",
    "\n",
    "dim(gn_bdr_tpm_updated_df_trunc)\n",
    "head(gn_bdr_tpm_updated_df_trunc)"
   ]
  },
  {
   "cell_type": "code",
   "execution_count": 60,
   "metadata": {},
   "outputs": [],
   "source": [
    "gn_bdr_tpm_updated_df_trunc$bidir_id <- factor(gn_bdr_tpm_updated_df_trunc$bidir_id, \n",
    "                                         levels = c('dREG','Tfit','Tfit & dREG','Gene'))"
   ]
  },
  {
   "cell_type": "code",
   "execution_count": 61,
   "metadata": {},
   "outputs": [
    {
     "data": {
      "text/html": [
       "<style>\n",
       ".list-inline {list-style: none; margin:0; padding: 0}\n",
       ".list-inline>li {display: inline-block}\n",
       ".list-inline>li:not(:last-child)::after {content: \"\\00b7\"; padding: 0 .5ex}\n",
       "</style>\n",
       "<ol class=list-inline><li>282165</li><li>886</li></ol>\n"
      ],
      "text/latex": [
       "\\begin{enumerate*}\n",
       "\\item 282165\n",
       "\\item 886\n",
       "\\end{enumerate*}\n"
      ],
      "text/markdown": [
       "1. 282165\n",
       "2. 886\n",
       "\n",
       "\n"
      ],
      "text/plain": [
       "[1] 282165    886"
      ]
     },
     "metadata": {},
     "output_type": "display_data"
    },
    {
     "data": {
      "text/html": [
       "<table class=\"dataframe\">\n",
       "<caption>A data.frame: 6 × 886</caption>\n",
       "<thead>\n",
       "\t<tr><th></th><th scope=col>GeneID</th><th scope=col>chromosome</th><th scope=col>start</th><th scope=col>end</th><th scope=col>Length</th><th scope=col>bidir_id</th><th scope=col>SRZ1950491</th><th scope=col>SRZ1950493</th><th scope=col>SRZ1950495</th><th scope=col>SRZ1950497</th><th scope=col>⋯</th><th scope=col>SRR9833433</th><th scope=col>SRZ9833428</th><th scope=col>SRZ9833431</th><th scope=col>SRZ9833434</th><th scope=col>SRR11793825</th><th scope=col>SRR11793826</th><th scope=col>SRR11793827</th><th scope=col>SRR11793828</th><th scope=col>SRR11793829</th><th scope=col>SRR11793830</th></tr>\n",
       "\t<tr><th></th><th scope=col>&lt;chr&gt;</th><th scope=col>&lt;chr&gt;</th><th scope=col>&lt;int&gt;</th><th scope=col>&lt;int&gt;</th><th scope=col>&lt;int&gt;</th><th scope=col>&lt;fct&gt;</th><th scope=col>&lt;dbl&gt;</th><th scope=col>&lt;dbl&gt;</th><th scope=col>&lt;dbl&gt;</th><th scope=col>&lt;dbl&gt;</th><th scope=col>⋯</th><th scope=col>&lt;dbl&gt;</th><th scope=col>&lt;dbl&gt;</th><th scope=col>&lt;dbl&gt;</th><th scope=col>&lt;dbl&gt;</th><th scope=col>&lt;dbl&gt;</th><th scope=col>&lt;dbl&gt;</th><th scope=col>&lt;dbl&gt;</th><th scope=col>&lt;dbl&gt;</th><th scope=col>&lt;dbl&gt;</th><th scope=col>&lt;dbl&gt;</th></tr>\n",
       "</thead>\n",
       "<tbody>\n",
       "\t<tr><th scope=row>283981</th><td>chrY-56679417-56679635-dreg</td><td>chrY</td><td>56679417</td><td>56679635</td><td> 218</td><td>dREG</td><td>0</td><td>0</td><td>0</td><td>0</td><td>⋯</td><td>0</td><td>0</td><td>0</td><td>0</td><td>0</td><td>0</td><td>0.0000000</td><td>0.000000</td><td>0</td><td>0.0000000</td></tr>\n",
       "\t<tr><th scope=row>283988</th><td>chrY-56823211-56825224-dreg</td><td>chrY</td><td>56823211</td><td>56825224</td><td>2013</td><td>dREG</td><td>0</td><td>0</td><td>0</td><td>0</td><td>⋯</td><td>0</td><td>0</td><td>0</td><td>0</td><td>0</td><td>0</td><td>0.3286626</td><td>1.134809</td><td>0</td><td>0.1120376</td></tr>\n",
       "\t<tr><th scope=row>283991</th><td>chrY-56829421-56829779-dreg</td><td>chrY</td><td>56829421</td><td>56829779</td><td> 358</td><td>dREG</td><td>0</td><td>0</td><td>0</td><td>0</td><td>⋯</td><td>0</td><td>0</td><td>0</td><td>0</td><td>0</td><td>0</td><td>0.0000000</td><td>0.000000</td><td>0</td><td>1.8899300</td></tr>\n",
       "\t<tr><th scope=row>284003</th><td>chrY-56864435-56864843-dreg</td><td>chrY</td><td>56864435</td><td>56864843</td><td> 408</td><td>dREG</td><td>0</td><td>0</td><td>0</td><td>0</td><td>⋯</td><td>0</td><td>0</td><td>0</td><td>0</td><td>0</td><td>0</td><td>0.5405211</td><td>0.000000</td><td>0</td><td>0.0000000</td></tr>\n",
       "\t<tr><th scope=row>284010</th><td>chrY-56883159-56883487-dreg</td><td>chrY</td><td>56883159</td><td>56883487</td><td> 328</td><td>dREG</td><td>0</td><td>0</td><td>0</td><td>0</td><td>⋯</td><td>0</td><td>0</td><td>0</td><td>0</td><td>0</td><td>0</td><td>0.0000000</td><td>0.000000</td><td>0</td><td>0.0000000</td></tr>\n",
       "\t<tr><th scope=row>284012</th><td>chrY-56884671-56885119-dreg</td><td>chrY</td><td>56884671</td><td>56885119</td><td> 448</td><td>dREG</td><td>0</td><td>0</td><td>0</td><td>0</td><td>⋯</td><td>0</td><td>0</td><td>0</td><td>0</td><td>0</td><td>0</td><td>0.0000000</td><td>0.000000</td><td>0</td><td>0.0000000</td></tr>\n",
       "</tbody>\n",
       "</table>\n"
      ],
      "text/latex": [
       "A data.frame: 6 × 886\n",
       "\\begin{tabular}{r|lllllllllllllllllllll}\n",
       "  & GeneID & chromosome & start & end & Length & bidir\\_id & SRZ1950491 & SRZ1950493 & SRZ1950495 & SRZ1950497 & ⋯ & SRR9833433 & SRZ9833428 & SRZ9833431 & SRZ9833434 & SRR11793825 & SRR11793826 & SRR11793827 & SRR11793828 & SRR11793829 & SRR11793830\\\\\n",
       "  & <chr> & <chr> & <int> & <int> & <int> & <fct> & <dbl> & <dbl> & <dbl> & <dbl> & ⋯ & <dbl> & <dbl> & <dbl> & <dbl> & <dbl> & <dbl> & <dbl> & <dbl> & <dbl> & <dbl>\\\\\n",
       "\\hline\n",
       "\t283981 & chrY-56679417-56679635-dreg & chrY & 56679417 & 56679635 &  218 & dREG & 0 & 0 & 0 & 0 & ⋯ & 0 & 0 & 0 & 0 & 0 & 0 & 0.0000000 & 0.000000 & 0 & 0.0000000\\\\\n",
       "\t283988 & chrY-56823211-56825224-dreg & chrY & 56823211 & 56825224 & 2013 & dREG & 0 & 0 & 0 & 0 & ⋯ & 0 & 0 & 0 & 0 & 0 & 0 & 0.3286626 & 1.134809 & 0 & 0.1120376\\\\\n",
       "\t283991 & chrY-56829421-56829779-dreg & chrY & 56829421 & 56829779 &  358 & dREG & 0 & 0 & 0 & 0 & ⋯ & 0 & 0 & 0 & 0 & 0 & 0 & 0.0000000 & 0.000000 & 0 & 1.8899300\\\\\n",
       "\t284003 & chrY-56864435-56864843-dreg & chrY & 56864435 & 56864843 &  408 & dREG & 0 & 0 & 0 & 0 & ⋯ & 0 & 0 & 0 & 0 & 0 & 0 & 0.5405211 & 0.000000 & 0 & 0.0000000\\\\\n",
       "\t284010 & chrY-56883159-56883487-dreg & chrY & 56883159 & 56883487 &  328 & dREG & 0 & 0 & 0 & 0 & ⋯ & 0 & 0 & 0 & 0 & 0 & 0 & 0.0000000 & 0.000000 & 0 & 0.0000000\\\\\n",
       "\t284012 & chrY-56884671-56885119-dreg & chrY & 56884671 & 56885119 &  448 & dREG & 0 & 0 & 0 & 0 & ⋯ & 0 & 0 & 0 & 0 & 0 & 0 & 0.0000000 & 0.000000 & 0 & 0.0000000\\\\\n",
       "\\end{tabular}\n"
      ],
      "text/markdown": [
       "\n",
       "A data.frame: 6 × 886\n",
       "\n",
       "| <!--/--> | GeneID &lt;chr&gt; | chromosome &lt;chr&gt; | start &lt;int&gt; | end &lt;int&gt; | Length &lt;int&gt; | bidir_id &lt;fct&gt; | SRZ1950491 &lt;dbl&gt; | SRZ1950493 &lt;dbl&gt; | SRZ1950495 &lt;dbl&gt; | SRZ1950497 &lt;dbl&gt; | ⋯ ⋯ | SRR9833433 &lt;dbl&gt; | SRZ9833428 &lt;dbl&gt; | SRZ9833431 &lt;dbl&gt; | SRZ9833434 &lt;dbl&gt; | SRR11793825 &lt;dbl&gt; | SRR11793826 &lt;dbl&gt; | SRR11793827 &lt;dbl&gt; | SRR11793828 &lt;dbl&gt; | SRR11793829 &lt;dbl&gt; | SRR11793830 &lt;dbl&gt; |\n",
       "|---|---|---|---|---|---|---|---|---|---|---|---|---|---|---|---|---|---|---|---|---|---|\n",
       "| 283981 | chrY-56679417-56679635-dreg | chrY | 56679417 | 56679635 |  218 | dREG | 0 | 0 | 0 | 0 | ⋯ | 0 | 0 | 0 | 0 | 0 | 0 | 0.0000000 | 0.000000 | 0 | 0.0000000 |\n",
       "| 283988 | chrY-56823211-56825224-dreg | chrY | 56823211 | 56825224 | 2013 | dREG | 0 | 0 | 0 | 0 | ⋯ | 0 | 0 | 0 | 0 | 0 | 0 | 0.3286626 | 1.134809 | 0 | 0.1120376 |\n",
       "| 283991 | chrY-56829421-56829779-dreg | chrY | 56829421 | 56829779 |  358 | dREG | 0 | 0 | 0 | 0 | ⋯ | 0 | 0 | 0 | 0 | 0 | 0 | 0.0000000 | 0.000000 | 0 | 1.8899300 |\n",
       "| 284003 | chrY-56864435-56864843-dreg | chrY | 56864435 | 56864843 |  408 | dREG | 0 | 0 | 0 | 0 | ⋯ | 0 | 0 | 0 | 0 | 0 | 0 | 0.5405211 | 0.000000 | 0 | 0.0000000 |\n",
       "| 284010 | chrY-56883159-56883487-dreg | chrY | 56883159 | 56883487 |  328 | dREG | 0 | 0 | 0 | 0 | ⋯ | 0 | 0 | 0 | 0 | 0 | 0 | 0.0000000 | 0.000000 | 0 | 0.0000000 |\n",
       "| 284012 | chrY-56884671-56885119-dreg | chrY | 56884671 | 56885119 |  448 | dREG | 0 | 0 | 0 | 0 | ⋯ | 0 | 0 | 0 | 0 | 0 | 0 | 0.0000000 | 0.000000 | 0 | 0.0000000 |\n",
       "\n"
      ],
      "text/plain": [
       "       GeneID                      chromosome start    end      Length bidir_id\n",
       "283981 chrY-56679417-56679635-dreg chrY       56679417 56679635  218   dREG    \n",
       "283988 chrY-56823211-56825224-dreg chrY       56823211 56825224 2013   dREG    \n",
       "283991 chrY-56829421-56829779-dreg chrY       56829421 56829779  358   dREG    \n",
       "284003 chrY-56864435-56864843-dreg chrY       56864435 56864843  408   dREG    \n",
       "284010 chrY-56883159-56883487-dreg chrY       56883159 56883487  328   dREG    \n",
       "284012 chrY-56884671-56885119-dreg chrY       56884671 56885119  448   dREG    \n",
       "       SRZ1950491 SRZ1950493 SRZ1950495 SRZ1950497 ⋯ SRR9833433 SRZ9833428\n",
       "283981 0          0          0          0          ⋯ 0          0         \n",
       "283988 0          0          0          0          ⋯ 0          0         \n",
       "283991 0          0          0          0          ⋯ 0          0         \n",
       "284003 0          0          0          0          ⋯ 0          0         \n",
       "284010 0          0          0          0          ⋯ 0          0         \n",
       "284012 0          0          0          0          ⋯ 0          0         \n",
       "       SRZ9833431 SRZ9833434 SRR11793825 SRR11793826 SRR11793827 SRR11793828\n",
       "283981 0          0          0           0           0.0000000   0.000000   \n",
       "283988 0          0          0           0           0.3286626   1.134809   \n",
       "283991 0          0          0           0           0.0000000   0.000000   \n",
       "284003 0          0          0           0           0.5405211   0.000000   \n",
       "284010 0          0          0           0           0.0000000   0.000000   \n",
       "284012 0          0          0           0           0.0000000   0.000000   \n",
       "       SRR11793829 SRR11793830\n",
       "283981 0           0.0000000  \n",
       "283988 0           0.1120376  \n",
       "283991 0           1.8899300  \n",
       "284003 0           0.0000000  \n",
       "284010 0           0.0000000  \n",
       "284012 0           0.0000000  "
      ]
     },
     "metadata": {},
     "output_type": "display_data"
    }
   ],
   "source": [
    "#filter just counts and metadata\n",
    "gn_bdr_tpm_minimal_df_trunc <- gn_bdr_tpm_updated_df_trunc[,c('GeneID','chromosome',\n",
    "                             'start','end','Length','bidir_id', \n",
    "                              colnames(gn_bdr_tpm_updated_df_trunc[c(6:885)]))]\n",
    "dim(gn_bdr_tpm_minimal_df_trunc)\n",
    "tail(gn_bdr_tpm_minimal_df_trunc)"
   ]
  },
  {
   "cell_type": "code",
   "execution_count": 62,
   "metadata": {},
   "outputs": [
    {
     "data": {
      "text/html": [
       "<table class=\"dataframe\">\n",
       "<caption>A data.frame: 6 × 886</caption>\n",
       "<thead>\n",
       "\t<tr><th></th><th scope=col>Geneid</th><th scope=col>Chr</th><th scope=col>Start</th><th scope=col>End</th><th scope=col>Length</th><th scope=col>Bidirid</th><th scope=col>SRZ1950491</th><th scope=col>SRZ1950493</th><th scope=col>SRZ1950495</th><th scope=col>SRZ1950497</th><th scope=col>⋯</th><th scope=col>SRR9833433</th><th scope=col>SRZ9833428</th><th scope=col>SRZ9833431</th><th scope=col>SRZ9833434</th><th scope=col>SRR11793825</th><th scope=col>SRR11793826</th><th scope=col>SRR11793827</th><th scope=col>SRR11793828</th><th scope=col>SRR11793829</th><th scope=col>SRR11793830</th></tr>\n",
       "\t<tr><th></th><th scope=col>&lt;chr&gt;</th><th scope=col>&lt;chr&gt;</th><th scope=col>&lt;int&gt;</th><th scope=col>&lt;int&gt;</th><th scope=col>&lt;int&gt;</th><th scope=col>&lt;fct&gt;</th><th scope=col>&lt;dbl&gt;</th><th scope=col>&lt;dbl&gt;</th><th scope=col>&lt;dbl&gt;</th><th scope=col>&lt;dbl&gt;</th><th scope=col>⋯</th><th scope=col>&lt;dbl&gt;</th><th scope=col>&lt;dbl&gt;</th><th scope=col>&lt;dbl&gt;</th><th scope=col>&lt;dbl&gt;</th><th scope=col>&lt;dbl&gt;</th><th scope=col>&lt;dbl&gt;</th><th scope=col>&lt;dbl&gt;</th><th scope=col>&lt;dbl&gt;</th><th scope=col>&lt;dbl&gt;</th><th scope=col>&lt;dbl&gt;</th></tr>\n",
       "</thead>\n",
       "<tbody>\n",
       "\t<tr><th scope=row>1</th><td>ZZZ3  </td><td>chr1 </td><td> 77562416</td><td> 77681908</td><td>119493</td><td>Gene</td><td>5.89606855</td><td>8.4220380</td><td>6.065659968</td><td>6.340954238</td><td>⋯</td><td>1.6808694</td><td> 9.905381</td><td>1.3004700</td><td> 1.6615380</td><td> 5.678745</td><td> 5.980955</td><td>5.494260</td><td>5.735158</td><td>0.5292324</td><td>4.595830</td></tr>\n",
       "\t<tr><th scope=row>2</th><td>ZZEF1 </td><td>chr17</td><td>  4004445</td><td>  4142280</td><td>137836</td><td>Gene</td><td>2.99959752</td><td>3.7204037</td><td>3.492450878</td><td>3.340299643</td><td>⋯</td><td>1.0221421</td><td> 3.886416</td><td>0.7243776</td><td> 1.1057285</td><td> 4.470912</td><td> 4.386848</td><td>3.657518</td><td>3.498767</td><td>0.4799321</td><td>2.987759</td></tr>\n",
       "\t<tr><th scope=row>3</th><td>ZYX   </td><td>chr7 </td><td>143382095</td><td>143391111</td><td>  9017</td><td>Gene</td><td>1.34000571</td><td>0.9263288</td><td>0.368001010</td><td>0.500336067</td><td>⋯</td><td>5.0645602</td><td>26.774256</td><td>4.5023507</td><td>10.0364730</td><td>15.742024</td><td>14.754739</td><td>7.630717</td><td>8.613576</td><td>1.3611477</td><td>6.828229</td></tr>\n",
       "\t<tr><th scope=row>4</th><td>ZYG11B</td><td>chr1 </td><td> 52727203</td><td> 52827336</td><td>100134</td><td>Gene</td><td>2.28827793</td><td>2.6288455</td><td>1.661646325</td><td>1.882821794</td><td>⋯</td><td>2.8930024</td><td> 2.869189</td><td>2.0351181</td><td> 0.7008374</td><td> 3.964555</td><td> 3.934861</td><td>3.314574</td><td>3.297766</td><td>0.4373064</td><td>2.918979</td></tr>\n",
       "\t<tr><th scope=row>5</th><td>ZYG11A</td><td>chr1 </td><td> 52843510</td><td> 52894995</td><td> 51486</td><td>Gene</td><td>0.02560166</td><td>0.0000000</td><td>0.009207122</td><td>0.009223826</td><td>⋯</td><td>0.4933667</td><td> 1.232197</td><td>0.2131431</td><td> 0.2561835</td><td> 6.163978</td><td> 6.294532</td><td>5.375606</td><td>5.378482</td><td>0.8080834</td><td>4.967426</td></tr>\n",
       "\t<tr><th scope=row>6</th><td>ZXDC  </td><td>chr3 </td><td>126458901</td><td>126475169</td><td> 16269</td><td>Gene</td><td>4.48314983</td><td>5.1963559</td><td>4.705705105</td><td>4.101245248</td><td>⋯</td><td>2.4913222</td><td> 8.246315</td><td>2.0585319</td><td> 3.2778561</td><td> 5.887552</td><td> 4.508235</td><td>3.510846</td><td>3.603921</td><td>0.4411371</td><td>3.659743</td></tr>\n",
       "</tbody>\n",
       "</table>\n"
      ],
      "text/latex": [
       "A data.frame: 6 × 886\n",
       "\\begin{tabular}{r|lllllllllllllllllllll}\n",
       "  & Geneid & Chr & Start & End & Length & Bidirid & SRZ1950491 & SRZ1950493 & SRZ1950495 & SRZ1950497 & ⋯ & SRR9833433 & SRZ9833428 & SRZ9833431 & SRZ9833434 & SRR11793825 & SRR11793826 & SRR11793827 & SRR11793828 & SRR11793829 & SRR11793830\\\\\n",
       "  & <chr> & <chr> & <int> & <int> & <int> & <fct> & <dbl> & <dbl> & <dbl> & <dbl> & ⋯ & <dbl> & <dbl> & <dbl> & <dbl> & <dbl> & <dbl> & <dbl> & <dbl> & <dbl> & <dbl>\\\\\n",
       "\\hline\n",
       "\t1 & ZZZ3   & chr1  &  77562416 &  77681908 & 119493 & Gene & 5.89606855 & 8.4220380 & 6.065659968 & 6.340954238 & ⋯ & 1.6808694 &  9.905381 & 1.3004700 &  1.6615380 &  5.678745 &  5.980955 & 5.494260 & 5.735158 & 0.5292324 & 4.595830\\\\\n",
       "\t2 & ZZEF1  & chr17 &   4004445 &   4142280 & 137836 & Gene & 2.99959752 & 3.7204037 & 3.492450878 & 3.340299643 & ⋯ & 1.0221421 &  3.886416 & 0.7243776 &  1.1057285 &  4.470912 &  4.386848 & 3.657518 & 3.498767 & 0.4799321 & 2.987759\\\\\n",
       "\t3 & ZYX    & chr7  & 143382095 & 143391111 &   9017 & Gene & 1.34000571 & 0.9263288 & 0.368001010 & 0.500336067 & ⋯ & 5.0645602 & 26.774256 & 4.5023507 & 10.0364730 & 15.742024 & 14.754739 & 7.630717 & 8.613576 & 1.3611477 & 6.828229\\\\\n",
       "\t4 & ZYG11B & chr1  &  52727203 &  52827336 & 100134 & Gene & 2.28827793 & 2.6288455 & 1.661646325 & 1.882821794 & ⋯ & 2.8930024 &  2.869189 & 2.0351181 &  0.7008374 &  3.964555 &  3.934861 & 3.314574 & 3.297766 & 0.4373064 & 2.918979\\\\\n",
       "\t5 & ZYG11A & chr1  &  52843510 &  52894995 &  51486 & Gene & 0.02560166 & 0.0000000 & 0.009207122 & 0.009223826 & ⋯ & 0.4933667 &  1.232197 & 0.2131431 &  0.2561835 &  6.163978 &  6.294532 & 5.375606 & 5.378482 & 0.8080834 & 4.967426\\\\\n",
       "\t6 & ZXDC   & chr3  & 126458901 & 126475169 &  16269 & Gene & 4.48314983 & 5.1963559 & 4.705705105 & 4.101245248 & ⋯ & 2.4913222 &  8.246315 & 2.0585319 &  3.2778561 &  5.887552 &  4.508235 & 3.510846 & 3.603921 & 0.4411371 & 3.659743\\\\\n",
       "\\end{tabular}\n"
      ],
      "text/markdown": [
       "\n",
       "A data.frame: 6 × 886\n",
       "\n",
       "| <!--/--> | Geneid &lt;chr&gt; | Chr &lt;chr&gt; | Start &lt;int&gt; | End &lt;int&gt; | Length &lt;int&gt; | Bidirid &lt;fct&gt; | SRZ1950491 &lt;dbl&gt; | SRZ1950493 &lt;dbl&gt; | SRZ1950495 &lt;dbl&gt; | SRZ1950497 &lt;dbl&gt; | ⋯ ⋯ | SRR9833433 &lt;dbl&gt; | SRZ9833428 &lt;dbl&gt; | SRZ9833431 &lt;dbl&gt; | SRZ9833434 &lt;dbl&gt; | SRR11793825 &lt;dbl&gt; | SRR11793826 &lt;dbl&gt; | SRR11793827 &lt;dbl&gt; | SRR11793828 &lt;dbl&gt; | SRR11793829 &lt;dbl&gt; | SRR11793830 &lt;dbl&gt; |\n",
       "|---|---|---|---|---|---|---|---|---|---|---|---|---|---|---|---|---|---|---|---|---|---|\n",
       "| 1 | ZZZ3   | chr1  |  77562416 |  77681908 | 119493 | Gene | 5.89606855 | 8.4220380 | 6.065659968 | 6.340954238 | ⋯ | 1.6808694 |  9.905381 | 1.3004700 |  1.6615380 |  5.678745 |  5.980955 | 5.494260 | 5.735158 | 0.5292324 | 4.595830 |\n",
       "| 2 | ZZEF1  | chr17 |   4004445 |   4142280 | 137836 | Gene | 2.99959752 | 3.7204037 | 3.492450878 | 3.340299643 | ⋯ | 1.0221421 |  3.886416 | 0.7243776 |  1.1057285 |  4.470912 |  4.386848 | 3.657518 | 3.498767 | 0.4799321 | 2.987759 |\n",
       "| 3 | ZYX    | chr7  | 143382095 | 143391111 |   9017 | Gene | 1.34000571 | 0.9263288 | 0.368001010 | 0.500336067 | ⋯ | 5.0645602 | 26.774256 | 4.5023507 | 10.0364730 | 15.742024 | 14.754739 | 7.630717 | 8.613576 | 1.3611477 | 6.828229 |\n",
       "| 4 | ZYG11B | chr1  |  52727203 |  52827336 | 100134 | Gene | 2.28827793 | 2.6288455 | 1.661646325 | 1.882821794 | ⋯ | 2.8930024 |  2.869189 | 2.0351181 |  0.7008374 |  3.964555 |  3.934861 | 3.314574 | 3.297766 | 0.4373064 | 2.918979 |\n",
       "| 5 | ZYG11A | chr1  |  52843510 |  52894995 |  51486 | Gene | 0.02560166 | 0.0000000 | 0.009207122 | 0.009223826 | ⋯ | 0.4933667 |  1.232197 | 0.2131431 |  0.2561835 |  6.163978 |  6.294532 | 5.375606 | 5.378482 | 0.8080834 | 4.967426 |\n",
       "| 6 | ZXDC   | chr3  | 126458901 | 126475169 |  16269 | Gene | 4.48314983 | 5.1963559 | 4.705705105 | 4.101245248 | ⋯ | 2.4913222 |  8.246315 | 2.0585319 |  3.2778561 |  5.887552 |  4.508235 | 3.510846 | 3.603921 | 0.4411371 | 3.659743 |\n",
       "\n"
      ],
      "text/plain": [
       "  Geneid Chr   Start     End       Length Bidirid SRZ1950491 SRZ1950493\n",
       "1 ZZZ3   chr1   77562416  77681908 119493 Gene    5.89606855 8.4220380 \n",
       "2 ZZEF1  chr17   4004445   4142280 137836 Gene    2.99959752 3.7204037 \n",
       "3 ZYX    chr7  143382095 143391111   9017 Gene    1.34000571 0.9263288 \n",
       "4 ZYG11B chr1   52727203  52827336 100134 Gene    2.28827793 2.6288455 \n",
       "5 ZYG11A chr1   52843510  52894995  51486 Gene    0.02560166 0.0000000 \n",
       "6 ZXDC   chr3  126458901 126475169  16269 Gene    4.48314983 5.1963559 \n",
       "  SRZ1950495  SRZ1950497  ⋯ SRR9833433 SRZ9833428 SRZ9833431 SRZ9833434\n",
       "1 6.065659968 6.340954238 ⋯ 1.6808694   9.905381  1.3004700   1.6615380\n",
       "2 3.492450878 3.340299643 ⋯ 1.0221421   3.886416  0.7243776   1.1057285\n",
       "3 0.368001010 0.500336067 ⋯ 5.0645602  26.774256  4.5023507  10.0364730\n",
       "4 1.661646325 1.882821794 ⋯ 2.8930024   2.869189  2.0351181   0.7008374\n",
       "5 0.009207122 0.009223826 ⋯ 0.4933667   1.232197  0.2131431   0.2561835\n",
       "6 4.705705105 4.101245248 ⋯ 2.4913222   8.246315  2.0585319   3.2778561\n",
       "  SRR11793825 SRR11793826 SRR11793827 SRR11793828 SRR11793829 SRR11793830\n",
       "1  5.678745    5.980955   5.494260    5.735158    0.5292324   4.595830   \n",
       "2  4.470912    4.386848   3.657518    3.498767    0.4799321   2.987759   \n",
       "3 15.742024   14.754739   7.630717    8.613576    1.3611477   6.828229   \n",
       "4  3.964555    3.934861   3.314574    3.297766    0.4373064   2.918979   \n",
       "5  6.163978    6.294532   5.375606    5.378482    0.8080834   4.967426   \n",
       "6  5.887552    4.508235   3.510846    3.603921    0.4411371   3.659743   "
      ]
     },
     "metadata": {},
     "output_type": "display_data"
    }
   ],
   "source": [
    "colnames(gn_bdr_tpm_minimal_df_trunc)[c(1:6)] <- c('Geneid','Chr','Start','End','Length','Bidirid')\n",
    "head(gn_bdr_tpm_minimal_df_trunc)"
   ]
  },
  {
   "cell_type": "markdown",
   "metadata": {},
   "source": [
    "### Genes : 5' truncated with 500bp promoter removed"
   ]
  },
  {
   "cell_type": "code",
   "execution_count": 63,
   "metadata": {},
   "outputs": [
    {
     "data": {
      "text/html": [
       "<style>\n",
       ".list-inline {list-style: none; margin:0; padding: 0}\n",
       ".list-inline>li {display: inline-block}\n",
       ".list-inline>li:not(:last-child)::after {content: \"\\00b7\"; padding: 0 .5ex}\n",
       "</style>\n",
       "<ol class=list-inline><li>286298</li><li>885</li></ol>\n"
      ],
      "text/latex": [
       "\\begin{enumerate*}\n",
       "\\item 286298\n",
       "\\item 885\n",
       "\\end{enumerate*}\n"
      ],
      "text/markdown": [
       "1. 286298\n",
       "2. 885\n",
       "\n",
       "\n"
      ],
      "text/plain": [
       "[1] 286298    885"
      ]
     },
     "metadata": {},
     "output_type": "display_data"
    },
    {
     "data": {
      "text/html": [
       "<table class=\"dataframe\">\n",
       "<caption>A data.frame: 6 × 885</caption>\n",
       "<thead>\n",
       "\t<tr><th></th><th scope=col>chromosome</th><th scope=col>start</th><th scope=col>end</th><th scope=col>GeneID</th><th scope=col>Length</th><th scope=col>SRZ1950491</th><th scope=col>SRZ1950493</th><th scope=col>SRZ1950495</th><th scope=col>SRZ1950497</th><th scope=col>SRZ1950499</th><th scope=col>⋯</th><th scope=col>SRR9833433</th><th scope=col>SRZ9833428</th><th scope=col>SRZ9833431</th><th scope=col>SRZ9833434</th><th scope=col>SRR11793825</th><th scope=col>SRR11793826</th><th scope=col>SRR11793827</th><th scope=col>SRR11793828</th><th scope=col>SRR11793829</th><th scope=col>SRR11793830</th></tr>\n",
       "\t<tr><th></th><th scope=col>&lt;chr&gt;</th><th scope=col>&lt;int&gt;</th><th scope=col>&lt;int&gt;</th><th scope=col>&lt;chr&gt;</th><th scope=col>&lt;int&gt;</th><th scope=col>&lt;dbl&gt;</th><th scope=col>&lt;dbl&gt;</th><th scope=col>&lt;dbl&gt;</th><th scope=col>&lt;dbl&gt;</th><th scope=col>&lt;dbl&gt;</th><th scope=col>⋯</th><th scope=col>&lt;dbl&gt;</th><th scope=col>&lt;dbl&gt;</th><th scope=col>&lt;dbl&gt;</th><th scope=col>&lt;dbl&gt;</th><th scope=col>&lt;dbl&gt;</th><th scope=col>&lt;dbl&gt;</th><th scope=col>&lt;dbl&gt;</th><th scope=col>&lt;dbl&gt;</th><th scope=col>&lt;dbl&gt;</th><th scope=col>&lt;dbl&gt;</th></tr>\n",
       "</thead>\n",
       "<tbody>\n",
       "\t<tr><th scope=row>1</th><td>chr1 </td><td> 77562416</td><td> 77681908</td><td>ZZZ3  </td><td>119493</td><td>5.82945457</td><td>8.3145779</td><td>5.980257048</td><td>6.282368367</td><td>6.34099874</td><td>⋯</td><td>1.6417523</td><td> 9.745789</td><td>1.2758497</td><td>1.6259456</td><td> 5.560293</td><td> 5.854207</td><td>5.407800</td><td>5.643423</td><td>0.5279793</td><td>4.530625</td></tr>\n",
       "\t<tr><th scope=row>2</th><td>chr17</td><td>  4004445</td><td>  4142280</td><td>ZZEF1 </td><td>137836</td><td>2.96570797</td><td>3.6729336</td><td>3.443278075</td><td>3.309437669</td><td>3.71085744</td><td>⋯</td><td>0.9983549</td><td> 3.823799</td><td>0.7106638</td><td>1.0820423</td><td> 4.377654</td><td> 4.293882</td><td>3.599961</td><td>3.442803</td><td>0.4787957</td><td>2.945369</td></tr>\n",
       "\t<tr><th scope=row>3</th><td>chr7 </td><td>143382095</td><td>143391111</td><td>ZYX   </td><td>  9017</td><td>1.32486628</td><td>0.9145094</td><td>0.362819651</td><td>0.495713321</td><td>0.84116989</td><td>⋯</td><td>4.9466981</td><td>26.342880</td><td>4.4171130</td><td>9.8214777</td><td>15.413663</td><td>14.442057</td><td>7.510637</td><td>8.475799</td><td>1.3579248</td><td>6.731350</td></tr>\n",
       "\t<tr><th scope=row>4</th><td>chr1 </td><td> 52727203</td><td> 52827336</td><td>ZYG11B</td><td>100134</td><td>2.26242489</td><td>2.5953030</td><td>1.638250776</td><td>1.865425871</td><td>2.23744361</td><td>⋯</td><td>2.8256766</td><td> 2.822962</td><td>1.9965896</td><td>0.6858245</td><td> 3.881858</td><td> 3.851474</td><td>3.262415</td><td>3.245017</td><td>0.4362710</td><td>2.877564</td></tr>\n",
       "\t<tr><th scope=row>5</th><td>chr1 </td><td> 52843510</td><td> 52894995</td><td>ZYG11A</td><td> 51486</td><td>0.02531241</td><td>0.0000000</td><td>0.009077488</td><td>0.009138605</td><td>0.01133218</td><td>⋯</td><td>0.4818851</td><td> 1.212344</td><td>0.2091079</td><td>0.2506957</td><td> 6.035404</td><td> 6.161138</td><td>5.291013</td><td>5.292451</td><td>0.8061700</td><td>4.896948</td></tr>\n",
       "\t<tr><th scope=row>6</th><td>chr3 </td><td>126458901</td><td>126475169</td><td>ZXDC  </td><td> 16269</td><td>4.43249906</td><td>5.1300536</td><td>4.639449997</td><td>4.063352682</td><td>5.31961664</td><td>⋯</td><td>2.4333443</td><td> 8.113454</td><td>2.0195602</td><td>3.2076399</td><td> 5.764744</td><td> 4.412697</td><td>3.455598</td><td>3.546275</td><td>0.4400926</td><td>3.607818</td></tr>\n",
       "</tbody>\n",
       "</table>\n"
      ],
      "text/latex": [
       "A data.frame: 6 × 885\n",
       "\\begin{tabular}{r|lllllllllllllllllllll}\n",
       "  & chromosome & start & end & GeneID & Length & SRZ1950491 & SRZ1950493 & SRZ1950495 & SRZ1950497 & SRZ1950499 & ⋯ & SRR9833433 & SRZ9833428 & SRZ9833431 & SRZ9833434 & SRR11793825 & SRR11793826 & SRR11793827 & SRR11793828 & SRR11793829 & SRR11793830\\\\\n",
       "  & <chr> & <int> & <int> & <chr> & <int> & <dbl> & <dbl> & <dbl> & <dbl> & <dbl> & ⋯ & <dbl> & <dbl> & <dbl> & <dbl> & <dbl> & <dbl> & <dbl> & <dbl> & <dbl> & <dbl>\\\\\n",
       "\\hline\n",
       "\t1 & chr1  &  77562416 &  77681908 & ZZZ3   & 119493 & 5.82945457 & 8.3145779 & 5.980257048 & 6.282368367 & 6.34099874 & ⋯ & 1.6417523 &  9.745789 & 1.2758497 & 1.6259456 &  5.560293 &  5.854207 & 5.407800 & 5.643423 & 0.5279793 & 4.530625\\\\\n",
       "\t2 & chr17 &   4004445 &   4142280 & ZZEF1  & 137836 & 2.96570797 & 3.6729336 & 3.443278075 & 3.309437669 & 3.71085744 & ⋯ & 0.9983549 &  3.823799 & 0.7106638 & 1.0820423 &  4.377654 &  4.293882 & 3.599961 & 3.442803 & 0.4787957 & 2.945369\\\\\n",
       "\t3 & chr7  & 143382095 & 143391111 & ZYX    &   9017 & 1.32486628 & 0.9145094 & 0.362819651 & 0.495713321 & 0.84116989 & ⋯ & 4.9466981 & 26.342880 & 4.4171130 & 9.8214777 & 15.413663 & 14.442057 & 7.510637 & 8.475799 & 1.3579248 & 6.731350\\\\\n",
       "\t4 & chr1  &  52727203 &  52827336 & ZYG11B & 100134 & 2.26242489 & 2.5953030 & 1.638250776 & 1.865425871 & 2.23744361 & ⋯ & 2.8256766 &  2.822962 & 1.9965896 & 0.6858245 &  3.881858 &  3.851474 & 3.262415 & 3.245017 & 0.4362710 & 2.877564\\\\\n",
       "\t5 & chr1  &  52843510 &  52894995 & ZYG11A &  51486 & 0.02531241 & 0.0000000 & 0.009077488 & 0.009138605 & 0.01133218 & ⋯ & 0.4818851 &  1.212344 & 0.2091079 & 0.2506957 &  6.035404 &  6.161138 & 5.291013 & 5.292451 & 0.8061700 & 4.896948\\\\\n",
       "\t6 & chr3  & 126458901 & 126475169 & ZXDC   &  16269 & 4.43249906 & 5.1300536 & 4.639449997 & 4.063352682 & 5.31961664 & ⋯ & 2.4333443 &  8.113454 & 2.0195602 & 3.2076399 &  5.764744 &  4.412697 & 3.455598 & 3.546275 & 0.4400926 & 3.607818\\\\\n",
       "\\end{tabular}\n"
      ],
      "text/markdown": [
       "\n",
       "A data.frame: 6 × 885\n",
       "\n",
       "| <!--/--> | chromosome &lt;chr&gt; | start &lt;int&gt; | end &lt;int&gt; | GeneID &lt;chr&gt; | Length &lt;int&gt; | SRZ1950491 &lt;dbl&gt; | SRZ1950493 &lt;dbl&gt; | SRZ1950495 &lt;dbl&gt; | SRZ1950497 &lt;dbl&gt; | SRZ1950499 &lt;dbl&gt; | ⋯ ⋯ | SRR9833433 &lt;dbl&gt; | SRZ9833428 &lt;dbl&gt; | SRZ9833431 &lt;dbl&gt; | SRZ9833434 &lt;dbl&gt; | SRR11793825 &lt;dbl&gt; | SRR11793826 &lt;dbl&gt; | SRR11793827 &lt;dbl&gt; | SRR11793828 &lt;dbl&gt; | SRR11793829 &lt;dbl&gt; | SRR11793830 &lt;dbl&gt; |\n",
       "|---|---|---|---|---|---|---|---|---|---|---|---|---|---|---|---|---|---|---|---|---|---|\n",
       "| 1 | chr1  |  77562416 |  77681908 | ZZZ3   | 119493 | 5.82945457 | 8.3145779 | 5.980257048 | 6.282368367 | 6.34099874 | ⋯ | 1.6417523 |  9.745789 | 1.2758497 | 1.6259456 |  5.560293 |  5.854207 | 5.407800 | 5.643423 | 0.5279793 | 4.530625 |\n",
       "| 2 | chr17 |   4004445 |   4142280 | ZZEF1  | 137836 | 2.96570797 | 3.6729336 | 3.443278075 | 3.309437669 | 3.71085744 | ⋯ | 0.9983549 |  3.823799 | 0.7106638 | 1.0820423 |  4.377654 |  4.293882 | 3.599961 | 3.442803 | 0.4787957 | 2.945369 |\n",
       "| 3 | chr7  | 143382095 | 143391111 | ZYX    |   9017 | 1.32486628 | 0.9145094 | 0.362819651 | 0.495713321 | 0.84116989 | ⋯ | 4.9466981 | 26.342880 | 4.4171130 | 9.8214777 | 15.413663 | 14.442057 | 7.510637 | 8.475799 | 1.3579248 | 6.731350 |\n",
       "| 4 | chr1  |  52727203 |  52827336 | ZYG11B | 100134 | 2.26242489 | 2.5953030 | 1.638250776 | 1.865425871 | 2.23744361 | ⋯ | 2.8256766 |  2.822962 | 1.9965896 | 0.6858245 |  3.881858 |  3.851474 | 3.262415 | 3.245017 | 0.4362710 | 2.877564 |\n",
       "| 5 | chr1  |  52843510 |  52894995 | ZYG11A |  51486 | 0.02531241 | 0.0000000 | 0.009077488 | 0.009138605 | 0.01133218 | ⋯ | 0.4818851 |  1.212344 | 0.2091079 | 0.2506957 |  6.035404 |  6.161138 | 5.291013 | 5.292451 | 0.8061700 | 4.896948 |\n",
       "| 6 | chr3  | 126458901 | 126475169 | ZXDC   |  16269 | 4.43249906 | 5.1300536 | 4.639449997 | 4.063352682 | 5.31961664 | ⋯ | 2.4333443 |  8.113454 | 2.0195602 | 3.2076399 |  5.764744 |  4.412697 | 3.455598 | 3.546275 | 0.4400926 | 3.607818 |\n",
       "\n"
      ],
      "text/plain": [
       "  chromosome start     end       GeneID Length SRZ1950491 SRZ1950493\n",
       "1 chr1        77562416  77681908 ZZZ3   119493 5.82945457 8.3145779 \n",
       "2 chr17        4004445   4142280 ZZEF1  137836 2.96570797 3.6729336 \n",
       "3 chr7       143382095 143391111 ZYX      9017 1.32486628 0.9145094 \n",
       "4 chr1        52727203  52827336 ZYG11B 100134 2.26242489 2.5953030 \n",
       "5 chr1        52843510  52894995 ZYG11A  51486 0.02531241 0.0000000 \n",
       "6 chr3       126458901 126475169 ZXDC    16269 4.43249906 5.1300536 \n",
       "  SRZ1950495  SRZ1950497  SRZ1950499 ⋯ SRR9833433 SRZ9833428 SRZ9833431\n",
       "1 5.980257048 6.282368367 6.34099874 ⋯ 1.6417523   9.745789  1.2758497 \n",
       "2 3.443278075 3.309437669 3.71085744 ⋯ 0.9983549   3.823799  0.7106638 \n",
       "3 0.362819651 0.495713321 0.84116989 ⋯ 4.9466981  26.342880  4.4171130 \n",
       "4 1.638250776 1.865425871 2.23744361 ⋯ 2.8256766   2.822962  1.9965896 \n",
       "5 0.009077488 0.009138605 0.01133218 ⋯ 0.4818851   1.212344  0.2091079 \n",
       "6 4.639449997 4.063352682 5.31961664 ⋯ 2.4333443   8.113454  2.0195602 \n",
       "  SRZ9833434 SRR11793825 SRR11793826 SRR11793827 SRR11793828 SRR11793829\n",
       "1 1.6259456   5.560293    5.854207   5.407800    5.643423    0.5279793  \n",
       "2 1.0820423   4.377654    4.293882   3.599961    3.442803    0.4787957  \n",
       "3 9.8214777  15.413663   14.442057   7.510637    8.475799    1.3579248  \n",
       "4 0.6858245   3.881858    3.851474   3.262415    3.245017    0.4362710  \n",
       "5 0.2506957   6.035404    6.161138   5.291013    5.292451    0.8061700  \n",
       "6 3.2076399   5.764744    4.412697   3.455598    3.546275    0.4400926  \n",
       "  SRR11793830\n",
       "1 4.530625   \n",
       "2 2.945369   \n",
       "3 6.731350   \n",
       "4 2.877564   \n",
       "5 4.896948   \n",
       "6 3.607818   "
      ]
     },
     "metadata": {},
     "output_type": "display_data"
    }
   ],
   "source": [
    "gene_bidir_tpms_trunc500bp <- tpm_calculation(counts_bidir_genes_trunc500bp[c(6:ncol(counts_bidir_genes_trunc500bp))], \n",
    "                        counts_bidir_genes_trunc500bp$Length)\n",
    "\n",
    "gene_bidir_tpm_trunc_df500bp <- cbind(counts_bidir_genes_trunc500bp[c(1:5)],\n",
    "                as.data.frame(gene_bidir_tpms_trunc500bp))\n",
    "\n",
    "dim(gene_bidir_tpm_trunc_df500bp)\n",
    "head(gene_bidir_tpm_trunc_df500bp)"
   ]
  },
  {
   "cell_type": "markdown",
   "metadata": {},
   "source": [
    "#### Summary statistics"
   ]
  },
  {
   "cell_type": "code",
   "execution_count": 64,
   "metadata": {},
   "outputs": [
    {
     "data": {
      "text/html": [
       "<table class=\"dataframe\">\n",
       "<caption>A data.frame: 6 × 891</caption>\n",
       "<thead>\n",
       "\t<tr><th></th><th scope=col>chromosome</th><th scope=col>start</th><th scope=col>end</th><th scope=col>GeneID</th><th scope=col>Length</th><th scope=col>SRZ1950491</th><th scope=col>SRZ1950493</th><th scope=col>SRZ1950495</th><th scope=col>SRZ1950497</th><th scope=col>SRZ1950499</th><th scope=col>⋯</th><th scope=col>SRR11793827</th><th scope=col>SRR11793828</th><th scope=col>SRR11793829</th><th scope=col>SRR11793830</th><th scope=col>stdev</th><th scope=col>variance</th><th scope=col>mean</th><th scope=col>median</th><th scope=col>coefvar</th><th scope=col>max</th></tr>\n",
       "\t<tr><th></th><th scope=col>&lt;chr&gt;</th><th scope=col>&lt;int&gt;</th><th scope=col>&lt;int&gt;</th><th scope=col>&lt;chr&gt;</th><th scope=col>&lt;int&gt;</th><th scope=col>&lt;dbl&gt;</th><th scope=col>&lt;dbl&gt;</th><th scope=col>&lt;dbl&gt;</th><th scope=col>&lt;dbl&gt;</th><th scope=col>&lt;dbl&gt;</th><th scope=col>⋯</th><th scope=col>&lt;dbl&gt;</th><th scope=col>&lt;dbl&gt;</th><th scope=col>&lt;dbl&gt;</th><th scope=col>&lt;dbl&gt;</th><th scope=col>&lt;dbl&gt;</th><th scope=col>&lt;dbl&gt;</th><th scope=col>&lt;dbl&gt;</th><th scope=col>&lt;dbl&gt;</th><th scope=col>&lt;dbl&gt;</th><th scope=col>&lt;dbl&gt;</th></tr>\n",
       "</thead>\n",
       "<tbody>\n",
       "\t<tr><th scope=row>1</th><td>chr1 </td><td> 77562416</td><td> 77681908</td><td>ZZZ3  </td><td>119493</td><td>5.82945457</td><td>8.3145779</td><td>5.980257048</td><td>6.282368367</td><td>6.34099874</td><td>⋯</td><td>5.407800</td><td>5.643423</td><td>0.5279793</td><td>4.530625</td><td> 4.004108</td><td> 16.032880</td><td> 6.242682</td><td>5.6444509</td><td>0.6414082</td><td> 36.13679</td></tr>\n",
       "\t<tr><th scope=row>2</th><td>chr17</td><td>  4004445</td><td>  4142280</td><td>ZZEF1 </td><td>137836</td><td>2.96570797</td><td>3.6729336</td><td>3.443278075</td><td>3.309437669</td><td>3.71085744</td><td>⋯</td><td>3.599961</td><td>3.442803</td><td>0.4787957</td><td>2.945369</td><td> 2.723936</td><td>  7.419826</td><td> 4.139845</td><td>3.6015431</td><td>0.6579801</td><td> 18.42629</td></tr>\n",
       "\t<tr><th scope=row>3</th><td>chr7 </td><td>143382095</td><td>143391111</td><td>ZYX   </td><td>  9017</td><td>1.32486628</td><td>0.9145094</td><td>0.362819651</td><td>0.495713321</td><td>0.84116989</td><td>⋯</td><td>7.510637</td><td>8.475799</td><td>1.3579248</td><td>6.731350</td><td>19.013528</td><td>361.514236</td><td>14.768354</td><td>8.2922904</td><td>1.2874507</td><td>185.82795</td></tr>\n",
       "\t<tr><th scope=row>4</th><td>chr1 </td><td> 52727203</td><td> 52827336</td><td>ZYG11B</td><td>100134</td><td>2.26242489</td><td>2.5953030</td><td>1.638250776</td><td>1.865425871</td><td>2.23744361</td><td>⋯</td><td>3.262415</td><td>3.245017</td><td>0.4362710</td><td>2.877564</td><td> 2.096393</td><td>  4.394865</td><td> 2.540616</td><td>2.0888459</td><td>0.8251515</td><td> 21.45492</td></tr>\n",
       "\t<tr><th scope=row>5</th><td>chr1 </td><td> 52843510</td><td> 52894995</td><td>ZYG11A</td><td> 51486</td><td>0.02531241</td><td>0.0000000</td><td>0.009077488</td><td>0.009138605</td><td>0.01133218</td><td>⋯</td><td>5.291013</td><td>5.292451</td><td>0.8061700</td><td>4.896948</td><td> 3.290928</td><td> 10.830205</td><td> 2.180554</td><td>0.9981141</td><td>1.5092163</td><td> 28.23736</td></tr>\n",
       "\t<tr><th scope=row>6</th><td>chr3 </td><td>126458901</td><td>126475169</td><td>ZXDC  </td><td> 16269</td><td>4.43249906</td><td>5.1300536</td><td>4.639449997</td><td>4.063352682</td><td>5.31961664</td><td>⋯</td><td>3.455598</td><td>3.546275</td><td>0.4400926</td><td>3.607818</td><td> 5.499086</td><td> 30.239947</td><td> 8.319729</td><td>7.1572096</td><td>0.6609694</td><td> 53.80431</td></tr>\n",
       "</tbody>\n",
       "</table>\n"
      ],
      "text/latex": [
       "A data.frame: 6 × 891\n",
       "\\begin{tabular}{r|lllllllllllllllllllll}\n",
       "  & chromosome & start & end & GeneID & Length & SRZ1950491 & SRZ1950493 & SRZ1950495 & SRZ1950497 & SRZ1950499 & ⋯ & SRR11793827 & SRR11793828 & SRR11793829 & SRR11793830 & stdev & variance & mean & median & coefvar & max\\\\\n",
       "  & <chr> & <int> & <int> & <chr> & <int> & <dbl> & <dbl> & <dbl> & <dbl> & <dbl> & ⋯ & <dbl> & <dbl> & <dbl> & <dbl> & <dbl> & <dbl> & <dbl> & <dbl> & <dbl> & <dbl>\\\\\n",
       "\\hline\n",
       "\t1 & chr1  &  77562416 &  77681908 & ZZZ3   & 119493 & 5.82945457 & 8.3145779 & 5.980257048 & 6.282368367 & 6.34099874 & ⋯ & 5.407800 & 5.643423 & 0.5279793 & 4.530625 &  4.004108 &  16.032880 &  6.242682 & 5.6444509 & 0.6414082 &  36.13679\\\\\n",
       "\t2 & chr17 &   4004445 &   4142280 & ZZEF1  & 137836 & 2.96570797 & 3.6729336 & 3.443278075 & 3.309437669 & 3.71085744 & ⋯ & 3.599961 & 3.442803 & 0.4787957 & 2.945369 &  2.723936 &   7.419826 &  4.139845 & 3.6015431 & 0.6579801 &  18.42629\\\\\n",
       "\t3 & chr7  & 143382095 & 143391111 & ZYX    &   9017 & 1.32486628 & 0.9145094 & 0.362819651 & 0.495713321 & 0.84116989 & ⋯ & 7.510637 & 8.475799 & 1.3579248 & 6.731350 & 19.013528 & 361.514236 & 14.768354 & 8.2922904 & 1.2874507 & 185.82795\\\\\n",
       "\t4 & chr1  &  52727203 &  52827336 & ZYG11B & 100134 & 2.26242489 & 2.5953030 & 1.638250776 & 1.865425871 & 2.23744361 & ⋯ & 3.262415 & 3.245017 & 0.4362710 & 2.877564 &  2.096393 &   4.394865 &  2.540616 & 2.0888459 & 0.8251515 &  21.45492\\\\\n",
       "\t5 & chr1  &  52843510 &  52894995 & ZYG11A &  51486 & 0.02531241 & 0.0000000 & 0.009077488 & 0.009138605 & 0.01133218 & ⋯ & 5.291013 & 5.292451 & 0.8061700 & 4.896948 &  3.290928 &  10.830205 &  2.180554 & 0.9981141 & 1.5092163 &  28.23736\\\\\n",
       "\t6 & chr3  & 126458901 & 126475169 & ZXDC   &  16269 & 4.43249906 & 5.1300536 & 4.639449997 & 4.063352682 & 5.31961664 & ⋯ & 3.455598 & 3.546275 & 0.4400926 & 3.607818 &  5.499086 &  30.239947 &  8.319729 & 7.1572096 & 0.6609694 &  53.80431\\\\\n",
       "\\end{tabular}\n"
      ],
      "text/markdown": [
       "\n",
       "A data.frame: 6 × 891\n",
       "\n",
       "| <!--/--> | chromosome &lt;chr&gt; | start &lt;int&gt; | end &lt;int&gt; | GeneID &lt;chr&gt; | Length &lt;int&gt; | SRZ1950491 &lt;dbl&gt; | SRZ1950493 &lt;dbl&gt; | SRZ1950495 &lt;dbl&gt; | SRZ1950497 &lt;dbl&gt; | SRZ1950499 &lt;dbl&gt; | ⋯ ⋯ | SRR11793827 &lt;dbl&gt; | SRR11793828 &lt;dbl&gt; | SRR11793829 &lt;dbl&gt; | SRR11793830 &lt;dbl&gt; | stdev &lt;dbl&gt; | variance &lt;dbl&gt; | mean &lt;dbl&gt; | median &lt;dbl&gt; | coefvar &lt;dbl&gt; | max &lt;dbl&gt; |\n",
       "|---|---|---|---|---|---|---|---|---|---|---|---|---|---|---|---|---|---|---|---|---|---|\n",
       "| 1 | chr1  |  77562416 |  77681908 | ZZZ3   | 119493 | 5.82945457 | 8.3145779 | 5.980257048 | 6.282368367 | 6.34099874 | ⋯ | 5.407800 | 5.643423 | 0.5279793 | 4.530625 |  4.004108 |  16.032880 |  6.242682 | 5.6444509 | 0.6414082 |  36.13679 |\n",
       "| 2 | chr17 |   4004445 |   4142280 | ZZEF1  | 137836 | 2.96570797 | 3.6729336 | 3.443278075 | 3.309437669 | 3.71085744 | ⋯ | 3.599961 | 3.442803 | 0.4787957 | 2.945369 |  2.723936 |   7.419826 |  4.139845 | 3.6015431 | 0.6579801 |  18.42629 |\n",
       "| 3 | chr7  | 143382095 | 143391111 | ZYX    |   9017 | 1.32486628 | 0.9145094 | 0.362819651 | 0.495713321 | 0.84116989 | ⋯ | 7.510637 | 8.475799 | 1.3579248 | 6.731350 | 19.013528 | 361.514236 | 14.768354 | 8.2922904 | 1.2874507 | 185.82795 |\n",
       "| 4 | chr1  |  52727203 |  52827336 | ZYG11B | 100134 | 2.26242489 | 2.5953030 | 1.638250776 | 1.865425871 | 2.23744361 | ⋯ | 3.262415 | 3.245017 | 0.4362710 | 2.877564 |  2.096393 |   4.394865 |  2.540616 | 2.0888459 | 0.8251515 |  21.45492 |\n",
       "| 5 | chr1  |  52843510 |  52894995 | ZYG11A |  51486 | 0.02531241 | 0.0000000 | 0.009077488 | 0.009138605 | 0.01133218 | ⋯ | 5.291013 | 5.292451 | 0.8061700 | 4.896948 |  3.290928 |  10.830205 |  2.180554 | 0.9981141 | 1.5092163 |  28.23736 |\n",
       "| 6 | chr3  | 126458901 | 126475169 | ZXDC   |  16269 | 4.43249906 | 5.1300536 | 4.639449997 | 4.063352682 | 5.31961664 | ⋯ | 3.455598 | 3.546275 | 0.4400926 | 3.607818 |  5.499086 |  30.239947 |  8.319729 | 7.1572096 | 0.6609694 |  53.80431 |\n",
       "\n"
      ],
      "text/plain": [
       "  chromosome start     end       GeneID Length SRZ1950491 SRZ1950493\n",
       "1 chr1        77562416  77681908 ZZZ3   119493 5.82945457 8.3145779 \n",
       "2 chr17        4004445   4142280 ZZEF1  137836 2.96570797 3.6729336 \n",
       "3 chr7       143382095 143391111 ZYX      9017 1.32486628 0.9145094 \n",
       "4 chr1        52727203  52827336 ZYG11B 100134 2.26242489 2.5953030 \n",
       "5 chr1        52843510  52894995 ZYG11A  51486 0.02531241 0.0000000 \n",
       "6 chr3       126458901 126475169 ZXDC    16269 4.43249906 5.1300536 \n",
       "  SRZ1950495  SRZ1950497  SRZ1950499 ⋯ SRR11793827 SRR11793828 SRR11793829\n",
       "1 5.980257048 6.282368367 6.34099874 ⋯ 5.407800    5.643423    0.5279793  \n",
       "2 3.443278075 3.309437669 3.71085744 ⋯ 3.599961    3.442803    0.4787957  \n",
       "3 0.362819651 0.495713321 0.84116989 ⋯ 7.510637    8.475799    1.3579248  \n",
       "4 1.638250776 1.865425871 2.23744361 ⋯ 3.262415    3.245017    0.4362710  \n",
       "5 0.009077488 0.009138605 0.01133218 ⋯ 5.291013    5.292451    0.8061700  \n",
       "6 4.639449997 4.063352682 5.31961664 ⋯ 3.455598    3.546275    0.4400926  \n",
       "  SRR11793830 stdev     variance   mean      median    coefvar   max      \n",
       "1 4.530625     4.004108  16.032880  6.242682 5.6444509 0.6414082  36.13679\n",
       "2 2.945369     2.723936   7.419826  4.139845 3.6015431 0.6579801  18.42629\n",
       "3 6.731350    19.013528 361.514236 14.768354 8.2922904 1.2874507 185.82795\n",
       "4 2.877564     2.096393   4.394865  2.540616 2.0888459 0.8251515  21.45492\n",
       "5 4.896948     3.290928  10.830205  2.180554 0.9981141 1.5092163  28.23736\n",
       "6 3.607818     5.499086  30.239947  8.319729 7.1572096 0.6609694  53.80431"
      ]
     },
     "metadata": {},
     "output_type": "display_data"
    }
   ],
   "source": [
    "##get summary statistics\n",
    "gene_bidir_tpm_trunc_df500bp$stdev <- apply(gene_bidir_tpm_trunc_df500bp[c(6:ncol(counts_bidir_genes))], 1, sd)\n",
    "gene_bidir_tpm_trunc_df500bp$variance <- apply(gene_bidir_tpm_trunc_df500bp[c(6:ncol(counts_bidir_genes))], 1, var)\n",
    "gene_bidir_tpm_trunc_df500bp$mean <- apply(gene_bidir_tpm_trunc_df500bp[c(6:ncol(counts_bidir_genes))], 1, mean)\n",
    "gene_bidir_tpm_trunc_df500bp$median <- apply(gene_bidir_tpm_trunc_df500bp[c(6:ncol(counts_bidir_genes))], 1, median)\n",
    "gene_bidir_tpm_trunc_df500bp$coefvar <- gene_bidir_tpm_trunc_df500bp$stdev/gene_bidir_tpm_trunc_df500bp$mean #apply(gene_bidir_tpm_trunc_df500bp[c(6:ncol(counts_bidir_genes))], 1, cv)\n",
    "gene_bidir_tpm_trunc_df500bp$max <- apply(gene_bidir_tpm_trunc_df500bp[c(6:ncol(counts_bidir_genes))], 1, max)\n",
    "head(gene_bidir_tpm_trunc_df500bp)"
   ]
  },
  {
   "cell_type": "markdown",
   "metadata": {},
   "source": [
    "#### Filter transcripts based on counts"
   ]
  },
  {
   "cell_type": "code",
   "execution_count": 65,
   "metadata": {},
   "outputs": [],
   "source": [
    "##filter rows with all TPM values not 0\n",
    "rows_without_zero_trunc500bp <- apply(gene_bidir_tpm_trunc_df500bp[7:ncol(counts_genes_trunc)], 1, function(row) any(row > 0 ))\n",
    "                        \n",
    "##Subset the rows that fulfill the above criteria\n",
    "tpm_df_genes_bidir_transcribed_trunc500bp <- gene_bidir_tpm_trunc_df500bp[rows_without_zero_trunc500bp,]\n",
    "                           "
   ]
  },
  {
   "cell_type": "code",
   "execution_count": 66,
   "metadata": {},
   "outputs": [
    {
     "data": {
      "text/html": [
       "<style>\n",
       ".list-inline {list-style: none; margin:0; padding: 0}\n",
       ".list-inline>li {display: inline-block}\n",
       ".list-inline>li:not(:last-child)::after {content: \"\\00b7\"; padding: 0 .5ex}\n",
       "</style>\n",
       "<ol class=list-inline><li>284441</li><li>891</li></ol>\n"
      ],
      "text/latex": [
       "\\begin{enumerate*}\n",
       "\\item 284441\n",
       "\\item 891\n",
       "\\end{enumerate*}\n"
      ],
      "text/markdown": [
       "1. 284441\n",
       "2. 891\n",
       "\n",
       "\n"
      ],
      "text/plain": [
       "[1] 284441    891"
      ]
     },
     "metadata": {},
     "output_type": "display_data"
    }
   ],
   "source": [
    "dim(tpm_df_genes_bidir_transcribed_trunc500bp)"
   ]
  },
  {
   "cell_type": "markdown",
   "metadata": {},
   "source": [
    "#### Add bidirection/gene ID column"
   ]
  },
  {
   "cell_type": "code",
   "execution_count": 67,
   "metadata": {},
   "outputs": [
    {
     "data": {
      "text/html": [
       "<table class=\"dataframe\">\n",
       "<caption>A data.frame: 6 × 892</caption>\n",
       "<thead>\n",
       "\t<tr><th></th><th scope=col>chromosome</th><th scope=col>start</th><th scope=col>end</th><th scope=col>GeneID</th><th scope=col>Length</th><th scope=col>SRZ1950491</th><th scope=col>SRZ1950493</th><th scope=col>SRZ1950495</th><th scope=col>SRZ1950497</th><th scope=col>SRZ1950499</th><th scope=col>⋯</th><th scope=col>SRR11793828</th><th scope=col>SRR11793829</th><th scope=col>SRR11793830</th><th scope=col>stdev</th><th scope=col>variance</th><th scope=col>mean</th><th scope=col>median</th><th scope=col>coefvar</th><th scope=col>max</th><th scope=col>bidir</th></tr>\n",
       "\t<tr><th></th><th scope=col>&lt;chr&gt;</th><th scope=col>&lt;int&gt;</th><th scope=col>&lt;int&gt;</th><th scope=col>&lt;chr&gt;</th><th scope=col>&lt;int&gt;</th><th scope=col>&lt;dbl&gt;</th><th scope=col>&lt;dbl&gt;</th><th scope=col>&lt;dbl&gt;</th><th scope=col>&lt;dbl&gt;</th><th scope=col>&lt;dbl&gt;</th><th scope=col>⋯</th><th scope=col>&lt;dbl&gt;</th><th scope=col>&lt;dbl&gt;</th><th scope=col>&lt;dbl&gt;</th><th scope=col>&lt;dbl&gt;</th><th scope=col>&lt;dbl&gt;</th><th scope=col>&lt;dbl&gt;</th><th scope=col>&lt;dbl&gt;</th><th scope=col>&lt;dbl&gt;</th><th scope=col>&lt;dbl&gt;</th><th scope=col>&lt;chr&gt;</th></tr>\n",
       "</thead>\n",
       "<tbody>\n",
       "\t<tr><th scope=row>1</th><td>chr1 </td><td> 77562416</td><td> 77681908</td><td>ZZZ3  </td><td>119493</td><td>5.82945457</td><td>8.3145779</td><td>5.980257048</td><td>6.282368367</td><td>6.34099874</td><td>⋯</td><td>5.643423</td><td>0.5279793</td><td>4.530625</td><td> 4.004108</td><td> 16.032880</td><td> 6.242682</td><td>5.6444509</td><td>0.6414082</td><td> 36.13679</td><td>NA</td></tr>\n",
       "\t<tr><th scope=row>2</th><td>chr17</td><td>  4004445</td><td>  4142280</td><td>ZZEF1 </td><td>137836</td><td>2.96570797</td><td>3.6729336</td><td>3.443278075</td><td>3.309437669</td><td>3.71085744</td><td>⋯</td><td>3.442803</td><td>0.4787957</td><td>2.945369</td><td> 2.723936</td><td>  7.419826</td><td> 4.139845</td><td>3.6015431</td><td>0.6579801</td><td> 18.42629</td><td>NA</td></tr>\n",
       "\t<tr><th scope=row>3</th><td>chr7 </td><td>143382095</td><td>143391111</td><td>ZYX   </td><td>  9017</td><td>1.32486628</td><td>0.9145094</td><td>0.362819651</td><td>0.495713321</td><td>0.84116989</td><td>⋯</td><td>8.475799</td><td>1.3579248</td><td>6.731350</td><td>19.013528</td><td>361.514236</td><td>14.768354</td><td>8.2922904</td><td>1.2874507</td><td>185.82795</td><td>NA</td></tr>\n",
       "\t<tr><th scope=row>4</th><td>chr1 </td><td> 52727203</td><td> 52827336</td><td>ZYG11B</td><td>100134</td><td>2.26242489</td><td>2.5953030</td><td>1.638250776</td><td>1.865425871</td><td>2.23744361</td><td>⋯</td><td>3.245017</td><td>0.4362710</td><td>2.877564</td><td> 2.096393</td><td>  4.394865</td><td> 2.540616</td><td>2.0888459</td><td>0.8251515</td><td> 21.45492</td><td>NA</td></tr>\n",
       "\t<tr><th scope=row>5</th><td>chr1 </td><td> 52843510</td><td> 52894995</td><td>ZYG11A</td><td> 51486</td><td>0.02531241</td><td>0.0000000</td><td>0.009077488</td><td>0.009138605</td><td>0.01133218</td><td>⋯</td><td>5.292451</td><td>0.8061700</td><td>4.896948</td><td> 3.290928</td><td> 10.830205</td><td> 2.180554</td><td>0.9981141</td><td>1.5092163</td><td> 28.23736</td><td>NA</td></tr>\n",
       "\t<tr><th scope=row>6</th><td>chr3 </td><td>126458901</td><td>126475169</td><td>ZXDC  </td><td> 16269</td><td>4.43249906</td><td>5.1300536</td><td>4.639449997</td><td>4.063352682</td><td>5.31961664</td><td>⋯</td><td>3.546275</td><td>0.4400926</td><td>3.607818</td><td> 5.499086</td><td> 30.239947</td><td> 8.319729</td><td>7.1572096</td><td>0.6609694</td><td> 53.80431</td><td>NA</td></tr>\n",
       "</tbody>\n",
       "</table>\n"
      ],
      "text/latex": [
       "A data.frame: 6 × 892\n",
       "\\begin{tabular}{r|lllllllllllllllllllll}\n",
       "  & chromosome & start & end & GeneID & Length & SRZ1950491 & SRZ1950493 & SRZ1950495 & SRZ1950497 & SRZ1950499 & ⋯ & SRR11793828 & SRR11793829 & SRR11793830 & stdev & variance & mean & median & coefvar & max & bidir\\\\\n",
       "  & <chr> & <int> & <int> & <chr> & <int> & <dbl> & <dbl> & <dbl> & <dbl> & <dbl> & ⋯ & <dbl> & <dbl> & <dbl> & <dbl> & <dbl> & <dbl> & <dbl> & <dbl> & <dbl> & <chr>\\\\\n",
       "\\hline\n",
       "\t1 & chr1  &  77562416 &  77681908 & ZZZ3   & 119493 & 5.82945457 & 8.3145779 & 5.980257048 & 6.282368367 & 6.34099874 & ⋯ & 5.643423 & 0.5279793 & 4.530625 &  4.004108 &  16.032880 &  6.242682 & 5.6444509 & 0.6414082 &  36.13679 & NA\\\\\n",
       "\t2 & chr17 &   4004445 &   4142280 & ZZEF1  & 137836 & 2.96570797 & 3.6729336 & 3.443278075 & 3.309437669 & 3.71085744 & ⋯ & 3.442803 & 0.4787957 & 2.945369 &  2.723936 &   7.419826 &  4.139845 & 3.6015431 & 0.6579801 &  18.42629 & NA\\\\\n",
       "\t3 & chr7  & 143382095 & 143391111 & ZYX    &   9017 & 1.32486628 & 0.9145094 & 0.362819651 & 0.495713321 & 0.84116989 & ⋯ & 8.475799 & 1.3579248 & 6.731350 & 19.013528 & 361.514236 & 14.768354 & 8.2922904 & 1.2874507 & 185.82795 & NA\\\\\n",
       "\t4 & chr1  &  52727203 &  52827336 & ZYG11B & 100134 & 2.26242489 & 2.5953030 & 1.638250776 & 1.865425871 & 2.23744361 & ⋯ & 3.245017 & 0.4362710 & 2.877564 &  2.096393 &   4.394865 &  2.540616 & 2.0888459 & 0.8251515 &  21.45492 & NA\\\\\n",
       "\t5 & chr1  &  52843510 &  52894995 & ZYG11A &  51486 & 0.02531241 & 0.0000000 & 0.009077488 & 0.009138605 & 0.01133218 & ⋯ & 5.292451 & 0.8061700 & 4.896948 &  3.290928 &  10.830205 &  2.180554 & 0.9981141 & 1.5092163 &  28.23736 & NA\\\\\n",
       "\t6 & chr3  & 126458901 & 126475169 & ZXDC   &  16269 & 4.43249906 & 5.1300536 & 4.639449997 & 4.063352682 & 5.31961664 & ⋯ & 3.546275 & 0.4400926 & 3.607818 &  5.499086 &  30.239947 &  8.319729 & 7.1572096 & 0.6609694 &  53.80431 & NA\\\\\n",
       "\\end{tabular}\n"
      ],
      "text/markdown": [
       "\n",
       "A data.frame: 6 × 892\n",
       "\n",
       "| <!--/--> | chromosome &lt;chr&gt; | start &lt;int&gt; | end &lt;int&gt; | GeneID &lt;chr&gt; | Length &lt;int&gt; | SRZ1950491 &lt;dbl&gt; | SRZ1950493 &lt;dbl&gt; | SRZ1950495 &lt;dbl&gt; | SRZ1950497 &lt;dbl&gt; | SRZ1950499 &lt;dbl&gt; | ⋯ ⋯ | SRR11793828 &lt;dbl&gt; | SRR11793829 &lt;dbl&gt; | SRR11793830 &lt;dbl&gt; | stdev &lt;dbl&gt; | variance &lt;dbl&gt; | mean &lt;dbl&gt; | median &lt;dbl&gt; | coefvar &lt;dbl&gt; | max &lt;dbl&gt; | bidir &lt;chr&gt; |\n",
       "|---|---|---|---|---|---|---|---|---|---|---|---|---|---|---|---|---|---|---|---|---|---|\n",
       "| 1 | chr1  |  77562416 |  77681908 | ZZZ3   | 119493 | 5.82945457 | 8.3145779 | 5.980257048 | 6.282368367 | 6.34099874 | ⋯ | 5.643423 | 0.5279793 | 4.530625 |  4.004108 |  16.032880 |  6.242682 | 5.6444509 | 0.6414082 |  36.13679 | NA |\n",
       "| 2 | chr17 |   4004445 |   4142280 | ZZEF1  | 137836 | 2.96570797 | 3.6729336 | 3.443278075 | 3.309437669 | 3.71085744 | ⋯ | 3.442803 | 0.4787957 | 2.945369 |  2.723936 |   7.419826 |  4.139845 | 3.6015431 | 0.6579801 |  18.42629 | NA |\n",
       "| 3 | chr7  | 143382095 | 143391111 | ZYX    |   9017 | 1.32486628 | 0.9145094 | 0.362819651 | 0.495713321 | 0.84116989 | ⋯ | 8.475799 | 1.3579248 | 6.731350 | 19.013528 | 361.514236 | 14.768354 | 8.2922904 | 1.2874507 | 185.82795 | NA |\n",
       "| 4 | chr1  |  52727203 |  52827336 | ZYG11B | 100134 | 2.26242489 | 2.5953030 | 1.638250776 | 1.865425871 | 2.23744361 | ⋯ | 3.245017 | 0.4362710 | 2.877564 |  2.096393 |   4.394865 |  2.540616 | 2.0888459 | 0.8251515 |  21.45492 | NA |\n",
       "| 5 | chr1  |  52843510 |  52894995 | ZYG11A |  51486 | 0.02531241 | 0.0000000 | 0.009077488 | 0.009138605 | 0.01133218 | ⋯ | 5.292451 | 0.8061700 | 4.896948 |  3.290928 |  10.830205 |  2.180554 | 0.9981141 | 1.5092163 |  28.23736 | NA |\n",
       "| 6 | chr3  | 126458901 | 126475169 | ZXDC   |  16269 | 4.43249906 | 5.1300536 | 4.639449997 | 4.063352682 | 5.31961664 | ⋯ | 3.546275 | 0.4400926 | 3.607818 |  5.499086 |  30.239947 |  8.319729 | 7.1572096 | 0.6609694 |  53.80431 | NA |\n",
       "\n"
      ],
      "text/plain": [
       "  chromosome start     end       GeneID Length SRZ1950491 SRZ1950493\n",
       "1 chr1        77562416  77681908 ZZZ3   119493 5.82945457 8.3145779 \n",
       "2 chr17        4004445   4142280 ZZEF1  137836 2.96570797 3.6729336 \n",
       "3 chr7       143382095 143391111 ZYX      9017 1.32486628 0.9145094 \n",
       "4 chr1        52727203  52827336 ZYG11B 100134 2.26242489 2.5953030 \n",
       "5 chr1        52843510  52894995 ZYG11A  51486 0.02531241 0.0000000 \n",
       "6 chr3       126458901 126475169 ZXDC    16269 4.43249906 5.1300536 \n",
       "  SRZ1950495  SRZ1950497  SRZ1950499 ⋯ SRR11793828 SRR11793829 SRR11793830\n",
       "1 5.980257048 6.282368367 6.34099874 ⋯ 5.643423    0.5279793   4.530625   \n",
       "2 3.443278075 3.309437669 3.71085744 ⋯ 3.442803    0.4787957   2.945369   \n",
       "3 0.362819651 0.495713321 0.84116989 ⋯ 8.475799    1.3579248   6.731350   \n",
       "4 1.638250776 1.865425871 2.23744361 ⋯ 3.245017    0.4362710   2.877564   \n",
       "5 0.009077488 0.009138605 0.01133218 ⋯ 5.292451    0.8061700   4.896948   \n",
       "6 4.639449997 4.063352682 5.31961664 ⋯ 3.546275    0.4400926   3.607818   \n",
       "  stdev     variance   mean      median    coefvar   max       bidir\n",
       "1  4.004108  16.032880  6.242682 5.6444509 0.6414082  36.13679 NA   \n",
       "2  2.723936   7.419826  4.139845 3.6015431 0.6579801  18.42629 NA   \n",
       "3 19.013528 361.514236 14.768354 8.2922904 1.2874507 185.82795 NA   \n",
       "4  2.096393   4.394865  2.540616 2.0888459 0.8251515  21.45492 NA   \n",
       "5  3.290928  10.830205  2.180554 0.9981141 1.5092163  28.23736 NA   \n",
       "6  5.499086  30.239947  8.319729 7.1572096 0.6609694  53.80431 NA   "
      ]
     },
     "metadata": {},
     "output_type": "display_data"
    },
    {
     "data": {
      "text/html": [
       "<table class=\"dataframe\">\n",
       "<caption>A data.frame: 6 × 892</caption>\n",
       "<thead>\n",
       "\t<tr><th></th><th scope=col>chromosome</th><th scope=col>start</th><th scope=col>end</th><th scope=col>GeneID</th><th scope=col>Length</th><th scope=col>SRZ1950491</th><th scope=col>SRZ1950493</th><th scope=col>SRZ1950495</th><th scope=col>SRZ1950497</th><th scope=col>SRZ1950499</th><th scope=col>⋯</th><th scope=col>SRR11793828</th><th scope=col>SRR11793829</th><th scope=col>SRR11793830</th><th scope=col>stdev</th><th scope=col>variance</th><th scope=col>mean</th><th scope=col>median</th><th scope=col>coefvar</th><th scope=col>max</th><th scope=col>bidir</th></tr>\n",
       "\t<tr><th></th><th scope=col>&lt;chr&gt;</th><th scope=col>&lt;int&gt;</th><th scope=col>&lt;int&gt;</th><th scope=col>&lt;chr&gt;</th><th scope=col>&lt;int&gt;</th><th scope=col>&lt;dbl&gt;</th><th scope=col>&lt;dbl&gt;</th><th scope=col>&lt;dbl&gt;</th><th scope=col>&lt;dbl&gt;</th><th scope=col>&lt;dbl&gt;</th><th scope=col>⋯</th><th scope=col>&lt;dbl&gt;</th><th scope=col>&lt;dbl&gt;</th><th scope=col>&lt;dbl&gt;</th><th scope=col>&lt;dbl&gt;</th><th scope=col>&lt;dbl&gt;</th><th scope=col>&lt;dbl&gt;</th><th scope=col>&lt;dbl&gt;</th><th scope=col>&lt;dbl&gt;</th><th scope=col>&lt;dbl&gt;</th><th scope=col>&lt;chr&gt;</th></tr>\n",
       "</thead>\n",
       "<tbody>\n",
       "\t<tr><th scope=row>286293</th><td>chrY</td><td>56877879</td><td>56878049</td><td>chrY-56877879-56878049-tfit     </td><td>170</td><td>0</td><td>0</td><td>0</td><td>0</td><td>0</td><td>⋯</td><td>0.0000000</td><td>0</td><td>0.000000</td><td>0.8021888</td><td>0.64350686</td><td>0.11468471</td><td>0</td><td> 6.994732</td><td>13.194732</td><td>tfit     </td></tr>\n",
       "\t<tr><th scope=row>286294</th><td>chrY</td><td>56878648</td><td>56878950</td><td>chrY-56878648-56878950-tfit,dreg</td><td>302</td><td>0</td><td>0</td><td>0</td><td>0</td><td>0</td><td>⋯</td><td>0.8270168</td><td>0</td><td>0.736198</td><td>2.0508293</td><td>4.20590062</td><td>0.35575469</td><td>0</td><td> 5.764729</td><td>32.675634</td><td>tfit,dreg</td></tr>\n",
       "\t<tr><th scope=row>286295</th><td>chrY</td><td>56881703</td><td>56881987</td><td>chrY-56881703-56881987-tfit,dreg</td><td>284</td><td>0</td><td>0</td><td>0</td><td>0</td><td>0</td><td>⋯</td><td>0.0000000</td><td>0</td><td>0.000000</td><td>2.0589588</td><td>4.23931152</td><td>0.20604669</td><td>0</td><td> 9.992681</td><td>56.024239</td><td>tfit,dreg</td></tr>\n",
       "\t<tr><th scope=row>286296</th><td>chrY</td><td>56883159</td><td>56883487</td><td>chrY-56883159-56883487-dreg     </td><td>328</td><td>0</td><td>0</td><td>0</td><td>0</td><td>0</td><td>⋯</td><td>0.0000000</td><td>0</td><td>0.000000</td><td>0.3478157</td><td>0.12097578</td><td>0.05826428</td><td>0</td><td> 5.969622</td><td> 6.738608</td><td>dreg     </td></tr>\n",
       "\t<tr><th scope=row>286297</th><td>chrY</td><td>56883555</td><td>56883771</td><td>chrY-56883555-56883771-tfit     </td><td>216</td><td>0</td><td>0</td><td>0</td><td>0</td><td>0</td><td>⋯</td><td>0.0000000</td><td>0</td><td>0.000000</td><td>1.6070600</td><td>2.58264188</td><td>0.10346048</td><td>0</td><td>15.533080</td><td>46.626162</td><td>tfit     </td></tr>\n",
       "\t<tr><th scope=row>286298</th><td>chrY</td><td>56884671</td><td>56885119</td><td>chrY-56884671-56885119-dreg     </td><td>448</td><td>0</td><td>0</td><td>0</td><td>0</td><td>0</td><td>⋯</td><td>0.0000000</td><td>0</td><td>0.000000</td><td>0.1627510</td><td>0.02648787</td><td>0.02181075</td><td>0</td><td> 7.461962</td><td> 2.692755</td><td>dreg     </td></tr>\n",
       "</tbody>\n",
       "</table>\n"
      ],
      "text/latex": [
       "A data.frame: 6 × 892\n",
       "\\begin{tabular}{r|lllllllllllllllllllll}\n",
       "  & chromosome & start & end & GeneID & Length & SRZ1950491 & SRZ1950493 & SRZ1950495 & SRZ1950497 & SRZ1950499 & ⋯ & SRR11793828 & SRR11793829 & SRR11793830 & stdev & variance & mean & median & coefvar & max & bidir\\\\\n",
       "  & <chr> & <int> & <int> & <chr> & <int> & <dbl> & <dbl> & <dbl> & <dbl> & <dbl> & ⋯ & <dbl> & <dbl> & <dbl> & <dbl> & <dbl> & <dbl> & <dbl> & <dbl> & <dbl> & <chr>\\\\\n",
       "\\hline\n",
       "\t286293 & chrY & 56877879 & 56878049 & chrY-56877879-56878049-tfit      & 170 & 0 & 0 & 0 & 0 & 0 & ⋯ & 0.0000000 & 0 & 0.000000 & 0.8021888 & 0.64350686 & 0.11468471 & 0 &  6.994732 & 13.194732 & tfit     \\\\\n",
       "\t286294 & chrY & 56878648 & 56878950 & chrY-56878648-56878950-tfit,dreg & 302 & 0 & 0 & 0 & 0 & 0 & ⋯ & 0.8270168 & 0 & 0.736198 & 2.0508293 & 4.20590062 & 0.35575469 & 0 &  5.764729 & 32.675634 & tfit,dreg\\\\\n",
       "\t286295 & chrY & 56881703 & 56881987 & chrY-56881703-56881987-tfit,dreg & 284 & 0 & 0 & 0 & 0 & 0 & ⋯ & 0.0000000 & 0 & 0.000000 & 2.0589588 & 4.23931152 & 0.20604669 & 0 &  9.992681 & 56.024239 & tfit,dreg\\\\\n",
       "\t286296 & chrY & 56883159 & 56883487 & chrY-56883159-56883487-dreg      & 328 & 0 & 0 & 0 & 0 & 0 & ⋯ & 0.0000000 & 0 & 0.000000 & 0.3478157 & 0.12097578 & 0.05826428 & 0 &  5.969622 &  6.738608 & dreg     \\\\\n",
       "\t286297 & chrY & 56883555 & 56883771 & chrY-56883555-56883771-tfit      & 216 & 0 & 0 & 0 & 0 & 0 & ⋯ & 0.0000000 & 0 & 0.000000 & 1.6070600 & 2.58264188 & 0.10346048 & 0 & 15.533080 & 46.626162 & tfit     \\\\\n",
       "\t286298 & chrY & 56884671 & 56885119 & chrY-56884671-56885119-dreg      & 448 & 0 & 0 & 0 & 0 & 0 & ⋯ & 0.0000000 & 0 & 0.000000 & 0.1627510 & 0.02648787 & 0.02181075 & 0 &  7.461962 &  2.692755 & dreg     \\\\\n",
       "\\end{tabular}\n"
      ],
      "text/markdown": [
       "\n",
       "A data.frame: 6 × 892\n",
       "\n",
       "| <!--/--> | chromosome &lt;chr&gt; | start &lt;int&gt; | end &lt;int&gt; | GeneID &lt;chr&gt; | Length &lt;int&gt; | SRZ1950491 &lt;dbl&gt; | SRZ1950493 &lt;dbl&gt; | SRZ1950495 &lt;dbl&gt; | SRZ1950497 &lt;dbl&gt; | SRZ1950499 &lt;dbl&gt; | ⋯ ⋯ | SRR11793828 &lt;dbl&gt; | SRR11793829 &lt;dbl&gt; | SRR11793830 &lt;dbl&gt; | stdev &lt;dbl&gt; | variance &lt;dbl&gt; | mean &lt;dbl&gt; | median &lt;dbl&gt; | coefvar &lt;dbl&gt; | max &lt;dbl&gt; | bidir &lt;chr&gt; |\n",
       "|---|---|---|---|---|---|---|---|---|---|---|---|---|---|---|---|---|---|---|---|---|---|\n",
       "| 286293 | chrY | 56877879 | 56878049 | chrY-56877879-56878049-tfit      | 170 | 0 | 0 | 0 | 0 | 0 | ⋯ | 0.0000000 | 0 | 0.000000 | 0.8021888 | 0.64350686 | 0.11468471 | 0 |  6.994732 | 13.194732 | tfit      |\n",
       "| 286294 | chrY | 56878648 | 56878950 | chrY-56878648-56878950-tfit,dreg | 302 | 0 | 0 | 0 | 0 | 0 | ⋯ | 0.8270168 | 0 | 0.736198 | 2.0508293 | 4.20590062 | 0.35575469 | 0 |  5.764729 | 32.675634 | tfit,dreg |\n",
       "| 286295 | chrY | 56881703 | 56881987 | chrY-56881703-56881987-tfit,dreg | 284 | 0 | 0 | 0 | 0 | 0 | ⋯ | 0.0000000 | 0 | 0.000000 | 2.0589588 | 4.23931152 | 0.20604669 | 0 |  9.992681 | 56.024239 | tfit,dreg |\n",
       "| 286296 | chrY | 56883159 | 56883487 | chrY-56883159-56883487-dreg      | 328 | 0 | 0 | 0 | 0 | 0 | ⋯ | 0.0000000 | 0 | 0.000000 | 0.3478157 | 0.12097578 | 0.05826428 | 0 |  5.969622 |  6.738608 | dreg      |\n",
       "| 286297 | chrY | 56883555 | 56883771 | chrY-56883555-56883771-tfit      | 216 | 0 | 0 | 0 | 0 | 0 | ⋯ | 0.0000000 | 0 | 0.000000 | 1.6070600 | 2.58264188 | 0.10346048 | 0 | 15.533080 | 46.626162 | tfit      |\n",
       "| 286298 | chrY | 56884671 | 56885119 | chrY-56884671-56885119-dreg      | 448 | 0 | 0 | 0 | 0 | 0 | ⋯ | 0.0000000 | 0 | 0.000000 | 0.1627510 | 0.02648787 | 0.02181075 | 0 |  7.461962 |  2.692755 | dreg      |\n",
       "\n"
      ],
      "text/plain": [
       "       chromosome start    end      GeneID                           Length\n",
       "286293 chrY       56877879 56878049 chrY-56877879-56878049-tfit      170   \n",
       "286294 chrY       56878648 56878950 chrY-56878648-56878950-tfit,dreg 302   \n",
       "286295 chrY       56881703 56881987 chrY-56881703-56881987-tfit,dreg 284   \n",
       "286296 chrY       56883159 56883487 chrY-56883159-56883487-dreg      328   \n",
       "286297 chrY       56883555 56883771 chrY-56883555-56883771-tfit      216   \n",
       "286298 chrY       56884671 56885119 chrY-56884671-56885119-dreg      448   \n",
       "       SRZ1950491 SRZ1950493 SRZ1950495 SRZ1950497 SRZ1950499 ⋯ SRR11793828\n",
       "286293 0          0          0          0          0          ⋯ 0.0000000  \n",
       "286294 0          0          0          0          0          ⋯ 0.8270168  \n",
       "286295 0          0          0          0          0          ⋯ 0.0000000  \n",
       "286296 0          0          0          0          0          ⋯ 0.0000000  \n",
       "286297 0          0          0          0          0          ⋯ 0.0000000  \n",
       "286298 0          0          0          0          0          ⋯ 0.0000000  \n",
       "       SRR11793829 SRR11793830 stdev     variance   mean       median coefvar  \n",
       "286293 0           0.000000    0.8021888 0.64350686 0.11468471 0       6.994732\n",
       "286294 0           0.736198    2.0508293 4.20590062 0.35575469 0       5.764729\n",
       "286295 0           0.000000    2.0589588 4.23931152 0.20604669 0       9.992681\n",
       "286296 0           0.000000    0.3478157 0.12097578 0.05826428 0       5.969622\n",
       "286297 0           0.000000    1.6070600 2.58264188 0.10346048 0      15.533080\n",
       "286298 0           0.000000    0.1627510 0.02648787 0.02181075 0       7.461962\n",
       "       max       bidir    \n",
       "286293 13.194732 tfit     \n",
       "286294 32.675634 tfit,dreg\n",
       "286295 56.024239 tfit,dreg\n",
       "286296  6.738608 dreg     \n",
       "286297 46.626162 tfit     \n",
       "286298  2.692755 dreg     "
      ]
     },
     "metadata": {},
     "output_type": "display_data"
    }
   ],
   "source": [
    "tpm_df_genes_bidir_transcribed_trunc500bp$bidir <- as.character(lapply(strsplit(as.character(tpm_df_genes_bidir_transcribed_trunc500bp$GeneID), '-'), `[`, 4))\n",
    "head(tpm_df_genes_bidir_transcribed_trunc500bp)\n",
    "tail(tpm_df_genes_bidir_transcribed_trunc500bp)"
   ]
  },
  {
   "cell_type": "code",
   "execution_count": 68,
   "metadata": {},
   "outputs": [
    {
     "data": {
      "text/html": [
       "<style>\n",
       ".list-inline {list-style: none; margin:0; padding: 0}\n",
       ".list-inline>li {display: inline-block}\n",
       ".list-inline>li:not(:last-child)::after {content: \"\\00b7\"; padding: 0 .5ex}\n",
       "</style>\n",
       "<ol class=list-inline><li>27941</li><li>892</li></ol>\n"
      ],
      "text/latex": [
       "\\begin{enumerate*}\n",
       "\\item 27941\n",
       "\\item 892\n",
       "\\end{enumerate*}\n"
      ],
      "text/markdown": [
       "1. 27941\n",
       "2. 892\n",
       "\n",
       "\n"
      ],
      "text/plain": [
       "[1] 27941   892"
      ]
     },
     "metadata": {},
     "output_type": "display_data"
    },
    {
     "data": {
      "text/html": [
       "<table class=\"dataframe\">\n",
       "<caption>A data.frame: 3 × 892</caption>\n",
       "<thead>\n",
       "\t<tr><th></th><th scope=col>chromosome</th><th scope=col>start</th><th scope=col>end</th><th scope=col>GeneID</th><th scope=col>Length</th><th scope=col>SRZ1950491</th><th scope=col>SRZ1950493</th><th scope=col>SRZ1950495</th><th scope=col>SRZ1950497</th><th scope=col>SRZ1950499</th><th scope=col>⋯</th><th scope=col>SRR11793828</th><th scope=col>SRR11793829</th><th scope=col>SRR11793830</th><th scope=col>stdev</th><th scope=col>variance</th><th scope=col>mean</th><th scope=col>median</th><th scope=col>coefvar</th><th scope=col>max</th><th scope=col>bidir</th></tr>\n",
       "\t<tr><th></th><th scope=col>&lt;chr&gt;</th><th scope=col>&lt;int&gt;</th><th scope=col>&lt;int&gt;</th><th scope=col>&lt;chr&gt;</th><th scope=col>&lt;int&gt;</th><th scope=col>&lt;dbl&gt;</th><th scope=col>&lt;dbl&gt;</th><th scope=col>&lt;dbl&gt;</th><th scope=col>&lt;dbl&gt;</th><th scope=col>&lt;dbl&gt;</th><th scope=col>⋯</th><th scope=col>&lt;dbl&gt;</th><th scope=col>&lt;dbl&gt;</th><th scope=col>&lt;dbl&gt;</th><th scope=col>&lt;dbl&gt;</th><th scope=col>&lt;dbl&gt;</th><th scope=col>&lt;dbl&gt;</th><th scope=col>&lt;dbl&gt;</th><th scope=col>&lt;dbl&gt;</th><th scope=col>&lt;dbl&gt;</th><th scope=col>&lt;chr&gt;</th></tr>\n",
       "</thead>\n",
       "<tbody>\n",
       "\t<tr><th scope=row>1</th><td>chr1 </td><td> 77562416</td><td> 77681908</td><td>ZZZ3 </td><td>119493</td><td>5.829455</td><td>8.3145779</td><td>5.9802570</td><td>6.2823684</td><td>6.3409987</td><td>⋯</td><td>5.643423</td><td>0.5279793</td><td>4.530625</td><td> 4.004108</td><td> 16.032880</td><td> 6.242682</td><td>5.644451</td><td>0.6414082</td><td> 36.13679</td><td>NA</td></tr>\n",
       "\t<tr><th scope=row>2</th><td>chr17</td><td>  4004445</td><td>  4142280</td><td>ZZEF1</td><td>137836</td><td>2.965708</td><td>3.6729336</td><td>3.4432781</td><td>3.3094377</td><td>3.7108574</td><td>⋯</td><td>3.442803</td><td>0.4787957</td><td>2.945369</td><td> 2.723936</td><td>  7.419826</td><td> 4.139845</td><td>3.601543</td><td>0.6579801</td><td> 18.42629</td><td>NA</td></tr>\n",
       "\t<tr><th scope=row>3</th><td>chr7 </td><td>143382095</td><td>143391111</td><td>ZYX  </td><td>  9017</td><td>1.324866</td><td>0.9145094</td><td>0.3628197</td><td>0.4957133</td><td>0.8411699</td><td>⋯</td><td>8.475799</td><td>1.3579248</td><td>6.731350</td><td>19.013528</td><td>361.514236</td><td>14.768354</td><td>8.292290</td><td>1.2874507</td><td>185.82795</td><td>NA</td></tr>\n",
       "</tbody>\n",
       "</table>\n"
      ],
      "text/latex": [
       "A data.frame: 3 × 892\n",
       "\\begin{tabular}{r|lllllllllllllllllllll}\n",
       "  & chromosome & start & end & GeneID & Length & SRZ1950491 & SRZ1950493 & SRZ1950495 & SRZ1950497 & SRZ1950499 & ⋯ & SRR11793828 & SRR11793829 & SRR11793830 & stdev & variance & mean & median & coefvar & max & bidir\\\\\n",
       "  & <chr> & <int> & <int> & <chr> & <int> & <dbl> & <dbl> & <dbl> & <dbl> & <dbl> & ⋯ & <dbl> & <dbl> & <dbl> & <dbl> & <dbl> & <dbl> & <dbl> & <dbl> & <dbl> & <chr>\\\\\n",
       "\\hline\n",
       "\t1 & chr1  &  77562416 &  77681908 & ZZZ3  & 119493 & 5.829455 & 8.3145779 & 5.9802570 & 6.2823684 & 6.3409987 & ⋯ & 5.643423 & 0.5279793 & 4.530625 &  4.004108 &  16.032880 &  6.242682 & 5.644451 & 0.6414082 &  36.13679 & NA\\\\\n",
       "\t2 & chr17 &   4004445 &   4142280 & ZZEF1 & 137836 & 2.965708 & 3.6729336 & 3.4432781 & 3.3094377 & 3.7108574 & ⋯ & 3.442803 & 0.4787957 & 2.945369 &  2.723936 &   7.419826 &  4.139845 & 3.601543 & 0.6579801 &  18.42629 & NA\\\\\n",
       "\t3 & chr7  & 143382095 & 143391111 & ZYX   &   9017 & 1.324866 & 0.9145094 & 0.3628197 & 0.4957133 & 0.8411699 & ⋯ & 8.475799 & 1.3579248 & 6.731350 & 19.013528 & 361.514236 & 14.768354 & 8.292290 & 1.2874507 & 185.82795 & NA\\\\\n",
       "\\end{tabular}\n"
      ],
      "text/markdown": [
       "\n",
       "A data.frame: 3 × 892\n",
       "\n",
       "| <!--/--> | chromosome &lt;chr&gt; | start &lt;int&gt; | end &lt;int&gt; | GeneID &lt;chr&gt; | Length &lt;int&gt; | SRZ1950491 &lt;dbl&gt; | SRZ1950493 &lt;dbl&gt; | SRZ1950495 &lt;dbl&gt; | SRZ1950497 &lt;dbl&gt; | SRZ1950499 &lt;dbl&gt; | ⋯ ⋯ | SRR11793828 &lt;dbl&gt; | SRR11793829 &lt;dbl&gt; | SRR11793830 &lt;dbl&gt; | stdev &lt;dbl&gt; | variance &lt;dbl&gt; | mean &lt;dbl&gt; | median &lt;dbl&gt; | coefvar &lt;dbl&gt; | max &lt;dbl&gt; | bidir &lt;chr&gt; |\n",
       "|---|---|---|---|---|---|---|---|---|---|---|---|---|---|---|---|---|---|---|---|---|---|\n",
       "| 1 | chr1  |  77562416 |  77681908 | ZZZ3  | 119493 | 5.829455 | 8.3145779 | 5.9802570 | 6.2823684 | 6.3409987 | ⋯ | 5.643423 | 0.5279793 | 4.530625 |  4.004108 |  16.032880 |  6.242682 | 5.644451 | 0.6414082 |  36.13679 | NA |\n",
       "| 2 | chr17 |   4004445 |   4142280 | ZZEF1 | 137836 | 2.965708 | 3.6729336 | 3.4432781 | 3.3094377 | 3.7108574 | ⋯ | 3.442803 | 0.4787957 | 2.945369 |  2.723936 |   7.419826 |  4.139845 | 3.601543 | 0.6579801 |  18.42629 | NA |\n",
       "| 3 | chr7  | 143382095 | 143391111 | ZYX   |   9017 | 1.324866 | 0.9145094 | 0.3628197 | 0.4957133 | 0.8411699 | ⋯ | 8.475799 | 1.3579248 | 6.731350 | 19.013528 | 361.514236 | 14.768354 | 8.292290 | 1.2874507 | 185.82795 | NA |\n",
       "\n"
      ],
      "text/plain": [
       "  chromosome start     end       GeneID Length SRZ1950491 SRZ1950493 SRZ1950495\n",
       "1 chr1        77562416  77681908 ZZZ3   119493 5.829455   8.3145779  5.9802570 \n",
       "2 chr17        4004445   4142280 ZZEF1  137836 2.965708   3.6729336  3.4432781 \n",
       "3 chr7       143382095 143391111 ZYX      9017 1.324866   0.9145094  0.3628197 \n",
       "  SRZ1950497 SRZ1950499 ⋯ SRR11793828 SRR11793829 SRR11793830 stdev    \n",
       "1 6.2823684  6.3409987  ⋯ 5.643423    0.5279793   4.530625     4.004108\n",
       "2 3.3094377  3.7108574  ⋯ 3.442803    0.4787957   2.945369     2.723936\n",
       "3 0.4957133  0.8411699  ⋯ 8.475799    1.3579248   6.731350    19.013528\n",
       "  variance   mean      median   coefvar   max       bidir\n",
       "1  16.032880  6.242682 5.644451 0.6414082  36.13679 NA   \n",
       "2   7.419826  4.139845 3.601543 0.6579801  18.42629 NA   \n",
       "3 361.514236 14.768354 8.292290 1.2874507 185.82795 NA   "
      ]
     },
     "metadata": {},
     "output_type": "display_data"
    },
    {
     "data": {
      "text/html": [
       "<table class=\"dataframe\">\n",
       "<caption>A data.frame: 3 × 892</caption>\n",
       "<thead>\n",
       "\t<tr><th></th><th scope=col>chromosome</th><th scope=col>start</th><th scope=col>end</th><th scope=col>GeneID</th><th scope=col>Length</th><th scope=col>SRZ1950491</th><th scope=col>SRZ1950493</th><th scope=col>SRZ1950495</th><th scope=col>SRZ1950497</th><th scope=col>SRZ1950499</th><th scope=col>⋯</th><th scope=col>SRR11793828</th><th scope=col>SRR11793829</th><th scope=col>SRR11793830</th><th scope=col>stdev</th><th scope=col>variance</th><th scope=col>mean</th><th scope=col>median</th><th scope=col>coefvar</th><th scope=col>max</th><th scope=col>bidir</th></tr>\n",
       "\t<tr><th></th><th scope=col>&lt;chr&gt;</th><th scope=col>&lt;int&gt;</th><th scope=col>&lt;int&gt;</th><th scope=col>&lt;chr&gt;</th><th scope=col>&lt;int&gt;</th><th scope=col>&lt;dbl&gt;</th><th scope=col>&lt;dbl&gt;</th><th scope=col>&lt;dbl&gt;</th><th scope=col>&lt;dbl&gt;</th><th scope=col>&lt;dbl&gt;</th><th scope=col>⋯</th><th scope=col>&lt;dbl&gt;</th><th scope=col>&lt;dbl&gt;</th><th scope=col>&lt;dbl&gt;</th><th scope=col>&lt;dbl&gt;</th><th scope=col>&lt;dbl&gt;</th><th scope=col>&lt;dbl&gt;</th><th scope=col>&lt;dbl&gt;</th><th scope=col>&lt;dbl&gt;</th><th scope=col>&lt;dbl&gt;</th><th scope=col>&lt;chr&gt;</th></tr>\n",
       "</thead>\n",
       "<tbody>\n",
       "\t<tr><th scope=row>28235</th><td>chr10</td><td>50799409</td><td>50884877</td><td>A1CF    </td><td>85469</td><td> 0.000000</td><td> 0.008770996</td><td> 0.00000</td><td>0.000000</td><td> 0.004550955</td><td>⋯</td><td>0.01753331</td><td>0.01092672</td><td>0.00520263</td><td> 1.055757</td><td>  1.114624</td><td> 0.1256642</td><td>0.002811234</td><td>8.401416</td><td> 15.19720</td><td>NA</td></tr>\n",
       "\t<tr><th scope=row>28236</th><td>chr19</td><td>58352720</td><td>58355183</td><td>A1BG-AS1</td><td> 2464</td><td>17.277734</td><td>12.980922585</td><td>14.03608</td><td>9.261260</td><td>11.129088418</td><td>⋯</td><td>9.73087299</td><td>1.09493525</td><td>7.85018927</td><td>17.770073</td><td>315.775491</td><td>10.2638205</td><td>5.922570850</td><td>1.731331</td><td>330.42311</td><td>NA</td></tr>\n",
       "\t<tr><th scope=row>28237</th><td>chr19</td><td>58345183</td><td>58352742</td><td>A1BG    </td><td> 7560</td><td> 4.941719</td><td> 3.801126636</td><td> 2.13281</td><td>2.427235</td><td> 3.267105126</td><td>⋯</td><td>0.99110743</td><td>0.32941642</td><td>0.64699729</td><td> 3.015811</td><td>  9.095114</td><td> 2.6757138</td><td>1.672775124</td><td>1.127105</td><td> 23.69394</td><td>NA</td></tr>\n",
       "</tbody>\n",
       "</table>\n"
      ],
      "text/latex": [
       "A data.frame: 3 × 892\n",
       "\\begin{tabular}{r|lllllllllllllllllllll}\n",
       "  & chromosome & start & end & GeneID & Length & SRZ1950491 & SRZ1950493 & SRZ1950495 & SRZ1950497 & SRZ1950499 & ⋯ & SRR11793828 & SRR11793829 & SRR11793830 & stdev & variance & mean & median & coefvar & max & bidir\\\\\n",
       "  & <chr> & <int> & <int> & <chr> & <int> & <dbl> & <dbl> & <dbl> & <dbl> & <dbl> & ⋯ & <dbl> & <dbl> & <dbl> & <dbl> & <dbl> & <dbl> & <dbl> & <dbl> & <dbl> & <chr>\\\\\n",
       "\\hline\n",
       "\t28235 & chr10 & 50799409 & 50884877 & A1CF     & 85469 &  0.000000 &  0.008770996 &  0.00000 & 0.000000 &  0.004550955 & ⋯ & 0.01753331 & 0.01092672 & 0.00520263 &  1.055757 &   1.114624 &  0.1256642 & 0.002811234 & 8.401416 &  15.19720 & NA\\\\\n",
       "\t28236 & chr19 & 58352720 & 58355183 & A1BG-AS1 &  2464 & 17.277734 & 12.980922585 & 14.03608 & 9.261260 & 11.129088418 & ⋯ & 9.73087299 & 1.09493525 & 7.85018927 & 17.770073 & 315.775491 & 10.2638205 & 5.922570850 & 1.731331 & 330.42311 & NA\\\\\n",
       "\t28237 & chr19 & 58345183 & 58352742 & A1BG     &  7560 &  4.941719 &  3.801126636 &  2.13281 & 2.427235 &  3.267105126 & ⋯ & 0.99110743 & 0.32941642 & 0.64699729 &  3.015811 &   9.095114 &  2.6757138 & 1.672775124 & 1.127105 &  23.69394 & NA\\\\\n",
       "\\end{tabular}\n"
      ],
      "text/markdown": [
       "\n",
       "A data.frame: 3 × 892\n",
       "\n",
       "| <!--/--> | chromosome &lt;chr&gt; | start &lt;int&gt; | end &lt;int&gt; | GeneID &lt;chr&gt; | Length &lt;int&gt; | SRZ1950491 &lt;dbl&gt; | SRZ1950493 &lt;dbl&gt; | SRZ1950495 &lt;dbl&gt; | SRZ1950497 &lt;dbl&gt; | SRZ1950499 &lt;dbl&gt; | ⋯ ⋯ | SRR11793828 &lt;dbl&gt; | SRR11793829 &lt;dbl&gt; | SRR11793830 &lt;dbl&gt; | stdev &lt;dbl&gt; | variance &lt;dbl&gt; | mean &lt;dbl&gt; | median &lt;dbl&gt; | coefvar &lt;dbl&gt; | max &lt;dbl&gt; | bidir &lt;chr&gt; |\n",
       "|---|---|---|---|---|---|---|---|---|---|---|---|---|---|---|---|---|---|---|---|---|---|\n",
       "| 28235 | chr10 | 50799409 | 50884877 | A1CF     | 85469 |  0.000000 |  0.008770996 |  0.00000 | 0.000000 |  0.004550955 | ⋯ | 0.01753331 | 0.01092672 | 0.00520263 |  1.055757 |   1.114624 |  0.1256642 | 0.002811234 | 8.401416 |  15.19720 | NA |\n",
       "| 28236 | chr19 | 58352720 | 58355183 | A1BG-AS1 |  2464 | 17.277734 | 12.980922585 | 14.03608 | 9.261260 | 11.129088418 | ⋯ | 9.73087299 | 1.09493525 | 7.85018927 | 17.770073 | 315.775491 | 10.2638205 | 5.922570850 | 1.731331 | 330.42311 | NA |\n",
       "| 28237 | chr19 | 58345183 | 58352742 | A1BG     |  7560 |  4.941719 |  3.801126636 |  2.13281 | 2.427235 |  3.267105126 | ⋯ | 0.99110743 | 0.32941642 | 0.64699729 |  3.015811 |   9.095114 |  2.6757138 | 1.672775124 | 1.127105 |  23.69394 | NA |\n",
       "\n"
      ],
      "text/plain": [
       "      chromosome start    end      GeneID   Length SRZ1950491 SRZ1950493  \n",
       "28235 chr10      50799409 50884877 A1CF     85469   0.000000   0.008770996\n",
       "28236 chr19      58352720 58355183 A1BG-AS1  2464  17.277734  12.980922585\n",
       "28237 chr19      58345183 58352742 A1BG      7560   4.941719   3.801126636\n",
       "      SRZ1950495 SRZ1950497 SRZ1950499   ⋯ SRR11793828 SRR11793829 SRR11793830\n",
       "28235  0.00000   0.000000    0.004550955 ⋯ 0.01753331  0.01092672  0.00520263 \n",
       "28236 14.03608   9.261260   11.129088418 ⋯ 9.73087299  1.09493525  7.85018927 \n",
       "28237  2.13281   2.427235    3.267105126 ⋯ 0.99110743  0.32941642  0.64699729 \n",
       "      stdev     variance   mean       median      coefvar  max       bidir\n",
       "28235  1.055757   1.114624  0.1256642 0.002811234 8.401416  15.19720 NA   \n",
       "28236 17.770073 315.775491 10.2638205 5.922570850 1.731331 330.42311 NA   \n",
       "28237  3.015811   9.095114  2.6757138 1.672775124 1.127105  23.69394 NA   "
      ]
     },
     "metadata": {},
     "output_type": "display_data"
    }
   ],
   "source": [
    "transcribed_geneid_trunc500bp <- tpm_df_genes_bidir_transcribed_trunc500bp[is.na(tpm_df_genes_bidir_transcribed_trunc500bp$bidir),]\n",
    "dim(transcribed_geneid_trunc500bp)\n",
    "head(transcribed_geneid_trunc500bp, 3)\n",
    "tail(transcribed_geneid_trunc500bp, 3)"
   ]
  },
  {
   "cell_type": "code",
   "execution_count": 69,
   "metadata": {},
   "outputs": [
    {
     "data": {
      "text/html": [
       "<style>\n",
       ".list-inline {list-style: none; margin:0; padding: 0}\n",
       ".list-inline>li {display: inline-block}\n",
       ".list-inline>li:not(:last-child)::after {content: \"\\00b7\"; padding: 0 .5ex}\n",
       "</style>\n",
       "<ol class=list-inline><li>105996</li><li>892</li></ol>\n"
      ],
      "text/latex": [
       "\\begin{enumerate*}\n",
       "\\item 105996\n",
       "\\item 892\n",
       "\\end{enumerate*}\n"
      ],
      "text/markdown": [
       "1. 105996\n",
       "2. 892\n",
       "\n",
       "\n"
      ],
      "text/plain": [
       "[1] 105996    892"
      ]
     },
     "metadata": {},
     "output_type": "display_data"
    }
   ],
   "source": [
    "gn_dreg_tfit_list_trunc500bp <- (unique(c(rownames(tpm_df_genes_bidir_transcribed_trunc500bp[grep(\"dreg,\", \n",
    "                                                                            tpm_df_genes_bidir_transcribed_trunc500bp$bidir),]),\n",
    "                            rownames(tpm_df_genes_bidir_transcribed_trunc500bp[grep(\"tfit,\",\n",
    "                                                                         tpm_df_genes_bidir_transcribed_trunc500bp$bidir),]),\n",
    "                            rownames(tpm_df_genes_bidir_transcribed_trunc500bp[grep(\",dreg\",\n",
    "                                                                         tpm_df_genes_bidir_transcribed_trunc500bp$bidir),]),\n",
    "                            rownames(tpm_df_genes_bidir_transcribed_trunc500bp[grep(\",tfit\",\n",
    "                                                                         tpm_df_genes_bidir_transcribed_trunc500bp$bidir),]))))\n",
    "\n",
    "gn_tpm_tfit_dreg_df_trunc500bp <- tpm_df_genes_bidir_transcribed_trunc500bp[gn_dreg_tfit_list_trunc500bp, ]\n",
    "dim(gn_tpm_tfit_dreg_df_trunc500bp)"
   ]
  },
  {
   "cell_type": "code",
   "execution_count": 70,
   "metadata": {},
   "outputs": [
    {
     "data": {
      "text/html": [
       "<style>\n",
       ".list-inline {list-style: none; margin:0; padding: 0}\n",
       ".list-inline>li {display: inline-block}\n",
       ".list-inline>li:not(:last-child)::after {content: \"\\00b7\"; padding: 0 .5ex}\n",
       "</style>\n",
       "<ol class=list-inline><li>87505</li><li>892</li></ol>\n"
      ],
      "text/latex": [
       "\\begin{enumerate*}\n",
       "\\item 87505\n",
       "\\item 892\n",
       "\\end{enumerate*}\n"
      ],
      "text/markdown": [
       "1. 87505\n",
       "2. 892\n",
       "\n",
       "\n"
      ],
      "text/plain": [
       "[1] 87505   892"
      ]
     },
     "metadata": {},
     "output_type": "display_data"
    }
   ],
   "source": [
    "gn_tpm_dreg_df_trunc500bp <- subset(tpm_df_genes_bidir_transcribed_trunc500bp, bidir=='dreg')\n",
    "dim(gn_tpm_dreg_df_trunc500bp)"
   ]
  },
  {
   "cell_type": "code",
   "execution_count": 71,
   "metadata": {},
   "outputs": [
    {
     "data": {
      "text/html": [
       "<style>\n",
       ".list-inline {list-style: none; margin:0; padding: 0}\n",
       ".list-inline>li {display: inline-block}\n",
       ".list-inline>li:not(:last-child)::after {content: \"\\00b7\"; padding: 0 .5ex}\n",
       "</style>\n",
       "<ol class=list-inline><li>62999</li><li>892</li></ol>\n"
      ],
      "text/latex": [
       "\\begin{enumerate*}\n",
       "\\item 62999\n",
       "\\item 892\n",
       "\\end{enumerate*}\n"
      ],
      "text/markdown": [
       "1. 62999\n",
       "2. 892\n",
       "\n",
       "\n"
      ],
      "text/plain": [
       "[1] 62999   892"
      ]
     },
     "metadata": {},
     "output_type": "display_data"
    }
   ],
   "source": [
    "gn_tpm_tfit_df_trunc500bp <- subset(tpm_df_genes_bidir_transcribed_trunc500bp, bidir=='tfit')\n",
    "dim(gn_tpm_tfit_df_trunc500bp)"
   ]
  },
  {
   "cell_type": "code",
   "execution_count": 72,
   "metadata": {},
   "outputs": [
    {
     "data": {
      "text/html": [
       "<style>\n",
       ".list-inline {list-style: none; margin:0; padding: 0}\n",
       ".list-inline>li {display: inline-block}\n",
       ".list-inline>li:not(:last-child)::after {content: \"\\00b7\"; padding: 0 .5ex}\n",
       "</style>\n",
       "<ol class=list-inline><li>284441</li><li>893</li></ol>\n"
      ],
      "text/latex": [
       "\\begin{enumerate*}\n",
       "\\item 284441\n",
       "\\item 893\n",
       "\\end{enumerate*}\n"
      ],
      "text/markdown": [
       "1. 284441\n",
       "2. 893\n",
       "\n",
       "\n"
      ],
      "text/plain": [
       "[1] 284441    893"
      ]
     },
     "metadata": {},
     "output_type": "display_data"
    },
    {
     "data": {
      "text/html": [
       "<table class=\"dataframe\">\n",
       "<caption>A data.frame: 6 × 893</caption>\n",
       "<thead>\n",
       "\t<tr><th></th><th scope=col>chromosome</th><th scope=col>start</th><th scope=col>end</th><th scope=col>GeneID</th><th scope=col>Length</th><th scope=col>SRZ1950491</th><th scope=col>SRZ1950493</th><th scope=col>SRZ1950495</th><th scope=col>SRZ1950497</th><th scope=col>SRZ1950499</th><th scope=col>⋯</th><th scope=col>SRR11793829</th><th scope=col>SRR11793830</th><th scope=col>stdev</th><th scope=col>variance</th><th scope=col>mean</th><th scope=col>median</th><th scope=col>coefvar</th><th scope=col>max</th><th scope=col>bidir</th><th scope=col>bidir_id</th></tr>\n",
       "\t<tr><th></th><th scope=col>&lt;chr&gt;</th><th scope=col>&lt;int&gt;</th><th scope=col>&lt;int&gt;</th><th scope=col>&lt;chr&gt;</th><th scope=col>&lt;int&gt;</th><th scope=col>&lt;dbl&gt;</th><th scope=col>&lt;dbl&gt;</th><th scope=col>&lt;dbl&gt;</th><th scope=col>&lt;dbl&gt;</th><th scope=col>&lt;dbl&gt;</th><th scope=col>⋯</th><th scope=col>&lt;dbl&gt;</th><th scope=col>&lt;dbl&gt;</th><th scope=col>&lt;dbl&gt;</th><th scope=col>&lt;dbl&gt;</th><th scope=col>&lt;dbl&gt;</th><th scope=col>&lt;dbl&gt;</th><th scope=col>&lt;dbl&gt;</th><th scope=col>&lt;dbl&gt;</th><th scope=col>&lt;chr&gt;</th><th scope=col>&lt;chr&gt;</th></tr>\n",
       "</thead>\n",
       "<tbody>\n",
       "\t<tr><th scope=row>1</th><td>chr1 </td><td> 77562416</td><td> 77681908</td><td>ZZZ3  </td><td>119493</td><td>5.82945457</td><td>8.3145779</td><td>5.980257048</td><td>6.282368367</td><td>6.34099874</td><td>⋯</td><td>0.5279793</td><td>4.530625</td><td> 4.004108</td><td> 16.032880</td><td> 6.242682</td><td>5.6444509</td><td>0.6414082</td><td> 36.13679</td><td>NA</td><td>Gene</td></tr>\n",
       "\t<tr><th scope=row>2</th><td>chr17</td><td>  4004445</td><td>  4142280</td><td>ZZEF1 </td><td>137836</td><td>2.96570797</td><td>3.6729336</td><td>3.443278075</td><td>3.309437669</td><td>3.71085744</td><td>⋯</td><td>0.4787957</td><td>2.945369</td><td> 2.723936</td><td>  7.419826</td><td> 4.139845</td><td>3.6015431</td><td>0.6579801</td><td> 18.42629</td><td>NA</td><td>Gene</td></tr>\n",
       "\t<tr><th scope=row>3</th><td>chr7 </td><td>143382095</td><td>143391111</td><td>ZYX   </td><td>  9017</td><td>1.32486628</td><td>0.9145094</td><td>0.362819651</td><td>0.495713321</td><td>0.84116989</td><td>⋯</td><td>1.3579248</td><td>6.731350</td><td>19.013528</td><td>361.514236</td><td>14.768354</td><td>8.2922904</td><td>1.2874507</td><td>185.82795</td><td>NA</td><td>Gene</td></tr>\n",
       "\t<tr><th scope=row>4</th><td>chr1 </td><td> 52727203</td><td> 52827336</td><td>ZYG11B</td><td>100134</td><td>2.26242489</td><td>2.5953030</td><td>1.638250776</td><td>1.865425871</td><td>2.23744361</td><td>⋯</td><td>0.4362710</td><td>2.877564</td><td> 2.096393</td><td>  4.394865</td><td> 2.540616</td><td>2.0888459</td><td>0.8251515</td><td> 21.45492</td><td>NA</td><td>Gene</td></tr>\n",
       "\t<tr><th scope=row>5</th><td>chr1 </td><td> 52843510</td><td> 52894995</td><td>ZYG11A</td><td> 51486</td><td>0.02531241</td><td>0.0000000</td><td>0.009077488</td><td>0.009138605</td><td>0.01133218</td><td>⋯</td><td>0.8061700</td><td>4.896948</td><td> 3.290928</td><td> 10.830205</td><td> 2.180554</td><td>0.9981141</td><td>1.5092163</td><td> 28.23736</td><td>NA</td><td>Gene</td></tr>\n",
       "\t<tr><th scope=row>6</th><td>chr3 </td><td>126458901</td><td>126475169</td><td>ZXDC  </td><td> 16269</td><td>4.43249906</td><td>5.1300536</td><td>4.639449997</td><td>4.063352682</td><td>5.31961664</td><td>⋯</td><td>0.4400926</td><td>3.607818</td><td> 5.499086</td><td> 30.239947</td><td> 8.319729</td><td>7.1572096</td><td>0.6609694</td><td> 53.80431</td><td>NA</td><td>Gene</td></tr>\n",
       "</tbody>\n",
       "</table>\n"
      ],
      "text/latex": [
       "A data.frame: 6 × 893\n",
       "\\begin{tabular}{r|lllllllllllllllllllll}\n",
       "  & chromosome & start & end & GeneID & Length & SRZ1950491 & SRZ1950493 & SRZ1950495 & SRZ1950497 & SRZ1950499 & ⋯ & SRR11793829 & SRR11793830 & stdev & variance & mean & median & coefvar & max & bidir & bidir\\_id\\\\\n",
       "  & <chr> & <int> & <int> & <chr> & <int> & <dbl> & <dbl> & <dbl> & <dbl> & <dbl> & ⋯ & <dbl> & <dbl> & <dbl> & <dbl> & <dbl> & <dbl> & <dbl> & <dbl> & <chr> & <chr>\\\\\n",
       "\\hline\n",
       "\t1 & chr1  &  77562416 &  77681908 & ZZZ3   & 119493 & 5.82945457 & 8.3145779 & 5.980257048 & 6.282368367 & 6.34099874 & ⋯ & 0.5279793 & 4.530625 &  4.004108 &  16.032880 &  6.242682 & 5.6444509 & 0.6414082 &  36.13679 & NA & Gene\\\\\n",
       "\t2 & chr17 &   4004445 &   4142280 & ZZEF1  & 137836 & 2.96570797 & 3.6729336 & 3.443278075 & 3.309437669 & 3.71085744 & ⋯ & 0.4787957 & 2.945369 &  2.723936 &   7.419826 &  4.139845 & 3.6015431 & 0.6579801 &  18.42629 & NA & Gene\\\\\n",
       "\t3 & chr7  & 143382095 & 143391111 & ZYX    &   9017 & 1.32486628 & 0.9145094 & 0.362819651 & 0.495713321 & 0.84116989 & ⋯ & 1.3579248 & 6.731350 & 19.013528 & 361.514236 & 14.768354 & 8.2922904 & 1.2874507 & 185.82795 & NA & Gene\\\\\n",
       "\t4 & chr1  &  52727203 &  52827336 & ZYG11B & 100134 & 2.26242489 & 2.5953030 & 1.638250776 & 1.865425871 & 2.23744361 & ⋯ & 0.4362710 & 2.877564 &  2.096393 &   4.394865 &  2.540616 & 2.0888459 & 0.8251515 &  21.45492 & NA & Gene\\\\\n",
       "\t5 & chr1  &  52843510 &  52894995 & ZYG11A &  51486 & 0.02531241 & 0.0000000 & 0.009077488 & 0.009138605 & 0.01133218 & ⋯ & 0.8061700 & 4.896948 &  3.290928 &  10.830205 &  2.180554 & 0.9981141 & 1.5092163 &  28.23736 & NA & Gene\\\\\n",
       "\t6 & chr3  & 126458901 & 126475169 & ZXDC   &  16269 & 4.43249906 & 5.1300536 & 4.639449997 & 4.063352682 & 5.31961664 & ⋯ & 0.4400926 & 3.607818 &  5.499086 &  30.239947 &  8.319729 & 7.1572096 & 0.6609694 &  53.80431 & NA & Gene\\\\\n",
       "\\end{tabular}\n"
      ],
      "text/markdown": [
       "\n",
       "A data.frame: 6 × 893\n",
       "\n",
       "| <!--/--> | chromosome &lt;chr&gt; | start &lt;int&gt; | end &lt;int&gt; | GeneID &lt;chr&gt; | Length &lt;int&gt; | SRZ1950491 &lt;dbl&gt; | SRZ1950493 &lt;dbl&gt; | SRZ1950495 &lt;dbl&gt; | SRZ1950497 &lt;dbl&gt; | SRZ1950499 &lt;dbl&gt; | ⋯ ⋯ | SRR11793829 &lt;dbl&gt; | SRR11793830 &lt;dbl&gt; | stdev &lt;dbl&gt; | variance &lt;dbl&gt; | mean &lt;dbl&gt; | median &lt;dbl&gt; | coefvar &lt;dbl&gt; | max &lt;dbl&gt; | bidir &lt;chr&gt; | bidir_id &lt;chr&gt; |\n",
       "|---|---|---|---|---|---|---|---|---|---|---|---|---|---|---|---|---|---|---|---|---|---|\n",
       "| 1 | chr1  |  77562416 |  77681908 | ZZZ3   | 119493 | 5.82945457 | 8.3145779 | 5.980257048 | 6.282368367 | 6.34099874 | ⋯ | 0.5279793 | 4.530625 |  4.004108 |  16.032880 |  6.242682 | 5.6444509 | 0.6414082 |  36.13679 | NA | Gene |\n",
       "| 2 | chr17 |   4004445 |   4142280 | ZZEF1  | 137836 | 2.96570797 | 3.6729336 | 3.443278075 | 3.309437669 | 3.71085744 | ⋯ | 0.4787957 | 2.945369 |  2.723936 |   7.419826 |  4.139845 | 3.6015431 | 0.6579801 |  18.42629 | NA | Gene |\n",
       "| 3 | chr7  | 143382095 | 143391111 | ZYX    |   9017 | 1.32486628 | 0.9145094 | 0.362819651 | 0.495713321 | 0.84116989 | ⋯ | 1.3579248 | 6.731350 | 19.013528 | 361.514236 | 14.768354 | 8.2922904 | 1.2874507 | 185.82795 | NA | Gene |\n",
       "| 4 | chr1  |  52727203 |  52827336 | ZYG11B | 100134 | 2.26242489 | 2.5953030 | 1.638250776 | 1.865425871 | 2.23744361 | ⋯ | 0.4362710 | 2.877564 |  2.096393 |   4.394865 |  2.540616 | 2.0888459 | 0.8251515 |  21.45492 | NA | Gene |\n",
       "| 5 | chr1  |  52843510 |  52894995 | ZYG11A |  51486 | 0.02531241 | 0.0000000 | 0.009077488 | 0.009138605 | 0.01133218 | ⋯ | 0.8061700 | 4.896948 |  3.290928 |  10.830205 |  2.180554 | 0.9981141 | 1.5092163 |  28.23736 | NA | Gene |\n",
       "| 6 | chr3  | 126458901 | 126475169 | ZXDC   |  16269 | 4.43249906 | 5.1300536 | 4.639449997 | 4.063352682 | 5.31961664 | ⋯ | 0.4400926 | 3.607818 |  5.499086 |  30.239947 |  8.319729 | 7.1572096 | 0.6609694 |  53.80431 | NA | Gene |\n",
       "\n"
      ],
      "text/plain": [
       "  chromosome start     end       GeneID Length SRZ1950491 SRZ1950493\n",
       "1 chr1        77562416  77681908 ZZZ3   119493 5.82945457 8.3145779 \n",
       "2 chr17        4004445   4142280 ZZEF1  137836 2.96570797 3.6729336 \n",
       "3 chr7       143382095 143391111 ZYX      9017 1.32486628 0.9145094 \n",
       "4 chr1        52727203  52827336 ZYG11B 100134 2.26242489 2.5953030 \n",
       "5 chr1        52843510  52894995 ZYG11A  51486 0.02531241 0.0000000 \n",
       "6 chr3       126458901 126475169 ZXDC    16269 4.43249906 5.1300536 \n",
       "  SRZ1950495  SRZ1950497  SRZ1950499 ⋯ SRR11793829 SRR11793830 stdev    \n",
       "1 5.980257048 6.282368367 6.34099874 ⋯ 0.5279793   4.530625     4.004108\n",
       "2 3.443278075 3.309437669 3.71085744 ⋯ 0.4787957   2.945369     2.723936\n",
       "3 0.362819651 0.495713321 0.84116989 ⋯ 1.3579248   6.731350    19.013528\n",
       "4 1.638250776 1.865425871 2.23744361 ⋯ 0.4362710   2.877564     2.096393\n",
       "5 0.009077488 0.009138605 0.01133218 ⋯ 0.8061700   4.896948     3.290928\n",
       "6 4.639449997 4.063352682 5.31961664 ⋯ 0.4400926   3.607818     5.499086\n",
       "  variance   mean      median    coefvar   max       bidir bidir_id\n",
       "1  16.032880  6.242682 5.6444509 0.6414082  36.13679 NA    Gene    \n",
       "2   7.419826  4.139845 3.6015431 0.6579801  18.42629 NA    Gene    \n",
       "3 361.514236 14.768354 8.2922904 1.2874507 185.82795 NA    Gene    \n",
       "4   4.394865  2.540616 2.0888459 0.8251515  21.45492 NA    Gene    \n",
       "5  10.830205  2.180554 0.9981141 1.5092163  28.23736 NA    Gene    \n",
       "6  30.239947  8.319729 7.1572096 0.6609694  53.80431 NA    Gene    "
      ]
     },
     "metadata": {},
     "output_type": "display_data"
    }
   ],
   "source": [
    "transcribed_geneid_trunc500bp$bidir_id <- rep('Gene', nrow(transcribed_geneid_trunc500bp))\n",
    "gn_tpm_tfit_dreg_df_trunc500bp$bidir_id <- rep('Tfit & dREG', nrow(gn_tpm_tfit_dreg_df_trunc500bp))\n",
    "gn_tpm_tfit_df_trunc500bp$bidir_id <- rep('Tfit', nrow(gn_tpm_tfit_df_trunc500bp))\n",
    "gn_tpm_dreg_df_trunc500bp$bidir_id <- rep('dREG', nrow(gn_tpm_dreg_df_trunc500bp))\n",
    "\n",
    "gn_bdr_tpm_updated_df_trunc500bp <- rbind(transcribed_geneid_trunc500bp,\n",
    "                               gn_tpm_tfit_dreg_df_trunc500bp,\n",
    "                               gn_tpm_tfit_df_trunc500bp,\n",
    "                               gn_tpm_dreg_df_trunc500bp)\n",
    "\n",
    "dim(gn_bdr_tpm_updated_df_trunc500bp)\n",
    "head(gn_bdr_tpm_updated_df_trunc500bp)"
   ]
  },
  {
   "cell_type": "code",
   "execution_count": 73,
   "metadata": {},
   "outputs": [],
   "source": [
    "gn_bdr_tpm_updated_df_trunc500bp$bidir_id <- factor(gn_bdr_tpm_updated_df_trunc500bp$bidir_id, \n",
    "                                         levels = c('dREG','Tfit','Tfit & dREG','Gene'))"
   ]
  },
  {
   "cell_type": "code",
   "execution_count": 74,
   "metadata": {},
   "outputs": [
    {
     "data": {
      "text/html": [
       "<style>\n",
       ".list-inline {list-style: none; margin:0; padding: 0}\n",
       ".list-inline>li {display: inline-block}\n",
       ".list-inline>li:not(:last-child)::after {content: \"\\00b7\"; padding: 0 .5ex}\n",
       "</style>\n",
       "<ol class=list-inline><li>284441</li><li>886</li></ol>\n"
      ],
      "text/latex": [
       "\\begin{enumerate*}\n",
       "\\item 284441\n",
       "\\item 886\n",
       "\\end{enumerate*}\n"
      ],
      "text/markdown": [
       "1. 284441\n",
       "2. 886\n",
       "\n",
       "\n"
      ],
      "text/plain": [
       "[1] 284441    886"
      ]
     },
     "metadata": {},
     "output_type": "display_data"
    },
    {
     "data": {
      "text/html": [
       "<table class=\"dataframe\">\n",
       "<caption>A data.frame: 6 × 886</caption>\n",
       "<thead>\n",
       "\t<tr><th></th><th scope=col>GeneID</th><th scope=col>chromosome</th><th scope=col>start</th><th scope=col>end</th><th scope=col>Length</th><th scope=col>bidir_id</th><th scope=col>SRZ1950491</th><th scope=col>SRZ1950493</th><th scope=col>SRZ1950495</th><th scope=col>SRZ1950497</th><th scope=col>⋯</th><th scope=col>SRR9833433</th><th scope=col>SRZ9833428</th><th scope=col>SRZ9833431</th><th scope=col>SRZ9833434</th><th scope=col>SRR11793825</th><th scope=col>SRR11793826</th><th scope=col>SRR11793827</th><th scope=col>SRR11793828</th><th scope=col>SRR11793829</th><th scope=col>SRR11793830</th></tr>\n",
       "\t<tr><th></th><th scope=col>&lt;chr&gt;</th><th scope=col>&lt;chr&gt;</th><th scope=col>&lt;int&gt;</th><th scope=col>&lt;int&gt;</th><th scope=col>&lt;int&gt;</th><th scope=col>&lt;fct&gt;</th><th scope=col>&lt;dbl&gt;</th><th scope=col>&lt;dbl&gt;</th><th scope=col>&lt;dbl&gt;</th><th scope=col>&lt;dbl&gt;</th><th scope=col>⋯</th><th scope=col>&lt;dbl&gt;</th><th scope=col>&lt;dbl&gt;</th><th scope=col>&lt;dbl&gt;</th><th scope=col>&lt;dbl&gt;</th><th scope=col>&lt;dbl&gt;</th><th scope=col>&lt;dbl&gt;</th><th scope=col>&lt;dbl&gt;</th><th scope=col>&lt;dbl&gt;</th><th scope=col>&lt;dbl&gt;</th><th scope=col>&lt;dbl&gt;</th></tr>\n",
       "</thead>\n",
       "<tbody>\n",
       "\t<tr><th scope=row>286267</th><td>chrY-56679417-56679635-dreg</td><td>chrY</td><td>56679417</td><td>56679635</td><td> 218</td><td>dREG</td><td>0</td><td>0</td><td>0</td><td>0</td><td>⋯</td><td>0</td><td>0</td><td>0</td><td>0</td><td>0</td><td>0</td><td>0.0000000</td><td>0.000000</td><td>0</td><td>0.000000</td></tr>\n",
       "\t<tr><th scope=row>286274</th><td>chrY-56823211-56825224-dreg</td><td>chrY</td><td>56823211</td><td>56825224</td><td>2013</td><td>dREG</td><td>0</td><td>0</td><td>0</td><td>0</td><td>⋯</td><td>0</td><td>0</td><td>0</td><td>0</td><td>0</td><td>0</td><td>0.3234907</td><td>1.116658</td><td>0</td><td>0.110448</td></tr>\n",
       "\t<tr><th scope=row>286277</th><td>chrY-56829421-56829779-dreg</td><td>chrY</td><td>56829421</td><td>56829779</td><td> 358</td><td>dREG</td><td>0</td><td>0</td><td>0</td><td>0</td><td>⋯</td><td>0</td><td>0</td><td>0</td><td>0</td><td>0</td><td>0</td><td>0.0000000</td><td>0.000000</td><td>0</td><td>1.863116</td></tr>\n",
       "\t<tr><th scope=row>286289</th><td>chrY-56864435-56864843-dreg</td><td>chrY</td><td>56864435</td><td>56864843</td><td> 408</td><td>dREG</td><td>0</td><td>0</td><td>0</td><td>0</td><td>⋯</td><td>0</td><td>0</td><td>0</td><td>0</td><td>0</td><td>0</td><td>0.5320153</td><td>0.000000</td><td>0</td><td>0.000000</td></tr>\n",
       "\t<tr><th scope=row>286296</th><td>chrY-56883159-56883487-dreg</td><td>chrY</td><td>56883159</td><td>56883487</td><td> 328</td><td>dREG</td><td>0</td><td>0</td><td>0</td><td>0</td><td>⋯</td><td>0</td><td>0</td><td>0</td><td>0</td><td>0</td><td>0</td><td>0.0000000</td><td>0.000000</td><td>0</td><td>0.000000</td></tr>\n",
       "\t<tr><th scope=row>286298</th><td>chrY-56884671-56885119-dreg</td><td>chrY</td><td>56884671</td><td>56885119</td><td> 448</td><td>dREG</td><td>0</td><td>0</td><td>0</td><td>0</td><td>⋯</td><td>0</td><td>0</td><td>0</td><td>0</td><td>0</td><td>0</td><td>0.0000000</td><td>0.000000</td><td>0</td><td>0.000000</td></tr>\n",
       "</tbody>\n",
       "</table>\n"
      ],
      "text/latex": [
       "A data.frame: 6 × 886\n",
       "\\begin{tabular}{r|lllllllllllllllllllll}\n",
       "  & GeneID & chromosome & start & end & Length & bidir\\_id & SRZ1950491 & SRZ1950493 & SRZ1950495 & SRZ1950497 & ⋯ & SRR9833433 & SRZ9833428 & SRZ9833431 & SRZ9833434 & SRR11793825 & SRR11793826 & SRR11793827 & SRR11793828 & SRR11793829 & SRR11793830\\\\\n",
       "  & <chr> & <chr> & <int> & <int> & <int> & <fct> & <dbl> & <dbl> & <dbl> & <dbl> & ⋯ & <dbl> & <dbl> & <dbl> & <dbl> & <dbl> & <dbl> & <dbl> & <dbl> & <dbl> & <dbl>\\\\\n",
       "\\hline\n",
       "\t286267 & chrY-56679417-56679635-dreg & chrY & 56679417 & 56679635 &  218 & dREG & 0 & 0 & 0 & 0 & ⋯ & 0 & 0 & 0 & 0 & 0 & 0 & 0.0000000 & 0.000000 & 0 & 0.000000\\\\\n",
       "\t286274 & chrY-56823211-56825224-dreg & chrY & 56823211 & 56825224 & 2013 & dREG & 0 & 0 & 0 & 0 & ⋯ & 0 & 0 & 0 & 0 & 0 & 0 & 0.3234907 & 1.116658 & 0 & 0.110448\\\\\n",
       "\t286277 & chrY-56829421-56829779-dreg & chrY & 56829421 & 56829779 &  358 & dREG & 0 & 0 & 0 & 0 & ⋯ & 0 & 0 & 0 & 0 & 0 & 0 & 0.0000000 & 0.000000 & 0 & 1.863116\\\\\n",
       "\t286289 & chrY-56864435-56864843-dreg & chrY & 56864435 & 56864843 &  408 & dREG & 0 & 0 & 0 & 0 & ⋯ & 0 & 0 & 0 & 0 & 0 & 0 & 0.5320153 & 0.000000 & 0 & 0.000000\\\\\n",
       "\t286296 & chrY-56883159-56883487-dreg & chrY & 56883159 & 56883487 &  328 & dREG & 0 & 0 & 0 & 0 & ⋯ & 0 & 0 & 0 & 0 & 0 & 0 & 0.0000000 & 0.000000 & 0 & 0.000000\\\\\n",
       "\t286298 & chrY-56884671-56885119-dreg & chrY & 56884671 & 56885119 &  448 & dREG & 0 & 0 & 0 & 0 & ⋯ & 0 & 0 & 0 & 0 & 0 & 0 & 0.0000000 & 0.000000 & 0 & 0.000000\\\\\n",
       "\\end{tabular}\n"
      ],
      "text/markdown": [
       "\n",
       "A data.frame: 6 × 886\n",
       "\n",
       "| <!--/--> | GeneID &lt;chr&gt; | chromosome &lt;chr&gt; | start &lt;int&gt; | end &lt;int&gt; | Length &lt;int&gt; | bidir_id &lt;fct&gt; | SRZ1950491 &lt;dbl&gt; | SRZ1950493 &lt;dbl&gt; | SRZ1950495 &lt;dbl&gt; | SRZ1950497 &lt;dbl&gt; | ⋯ ⋯ | SRR9833433 &lt;dbl&gt; | SRZ9833428 &lt;dbl&gt; | SRZ9833431 &lt;dbl&gt; | SRZ9833434 &lt;dbl&gt; | SRR11793825 &lt;dbl&gt; | SRR11793826 &lt;dbl&gt; | SRR11793827 &lt;dbl&gt; | SRR11793828 &lt;dbl&gt; | SRR11793829 &lt;dbl&gt; | SRR11793830 &lt;dbl&gt; |\n",
       "|---|---|---|---|---|---|---|---|---|---|---|---|---|---|---|---|---|---|---|---|---|---|\n",
       "| 286267 | chrY-56679417-56679635-dreg | chrY | 56679417 | 56679635 |  218 | dREG | 0 | 0 | 0 | 0 | ⋯ | 0 | 0 | 0 | 0 | 0 | 0 | 0.0000000 | 0.000000 | 0 | 0.000000 |\n",
       "| 286274 | chrY-56823211-56825224-dreg | chrY | 56823211 | 56825224 | 2013 | dREG | 0 | 0 | 0 | 0 | ⋯ | 0 | 0 | 0 | 0 | 0 | 0 | 0.3234907 | 1.116658 | 0 | 0.110448 |\n",
       "| 286277 | chrY-56829421-56829779-dreg | chrY | 56829421 | 56829779 |  358 | dREG | 0 | 0 | 0 | 0 | ⋯ | 0 | 0 | 0 | 0 | 0 | 0 | 0.0000000 | 0.000000 | 0 | 1.863116 |\n",
       "| 286289 | chrY-56864435-56864843-dreg | chrY | 56864435 | 56864843 |  408 | dREG | 0 | 0 | 0 | 0 | ⋯ | 0 | 0 | 0 | 0 | 0 | 0 | 0.5320153 | 0.000000 | 0 | 0.000000 |\n",
       "| 286296 | chrY-56883159-56883487-dreg | chrY | 56883159 | 56883487 |  328 | dREG | 0 | 0 | 0 | 0 | ⋯ | 0 | 0 | 0 | 0 | 0 | 0 | 0.0000000 | 0.000000 | 0 | 0.000000 |\n",
       "| 286298 | chrY-56884671-56885119-dreg | chrY | 56884671 | 56885119 |  448 | dREG | 0 | 0 | 0 | 0 | ⋯ | 0 | 0 | 0 | 0 | 0 | 0 | 0.0000000 | 0.000000 | 0 | 0.000000 |\n",
       "\n"
      ],
      "text/plain": [
       "       GeneID                      chromosome start    end      Length bidir_id\n",
       "286267 chrY-56679417-56679635-dreg chrY       56679417 56679635  218   dREG    \n",
       "286274 chrY-56823211-56825224-dreg chrY       56823211 56825224 2013   dREG    \n",
       "286277 chrY-56829421-56829779-dreg chrY       56829421 56829779  358   dREG    \n",
       "286289 chrY-56864435-56864843-dreg chrY       56864435 56864843  408   dREG    \n",
       "286296 chrY-56883159-56883487-dreg chrY       56883159 56883487  328   dREG    \n",
       "286298 chrY-56884671-56885119-dreg chrY       56884671 56885119  448   dREG    \n",
       "       SRZ1950491 SRZ1950493 SRZ1950495 SRZ1950497 ⋯ SRR9833433 SRZ9833428\n",
       "286267 0          0          0          0          ⋯ 0          0         \n",
       "286274 0          0          0          0          ⋯ 0          0         \n",
       "286277 0          0          0          0          ⋯ 0          0         \n",
       "286289 0          0          0          0          ⋯ 0          0         \n",
       "286296 0          0          0          0          ⋯ 0          0         \n",
       "286298 0          0          0          0          ⋯ 0          0         \n",
       "       SRZ9833431 SRZ9833434 SRR11793825 SRR11793826 SRR11793827 SRR11793828\n",
       "286267 0          0          0           0           0.0000000   0.000000   \n",
       "286274 0          0          0           0           0.3234907   1.116658   \n",
       "286277 0          0          0           0           0.0000000   0.000000   \n",
       "286289 0          0          0           0           0.5320153   0.000000   \n",
       "286296 0          0          0           0           0.0000000   0.000000   \n",
       "286298 0          0          0           0           0.0000000   0.000000   \n",
       "       SRR11793829 SRR11793830\n",
       "286267 0           0.000000   \n",
       "286274 0           0.110448   \n",
       "286277 0           1.863116   \n",
       "286289 0           0.000000   \n",
       "286296 0           0.000000   \n",
       "286298 0           0.000000   "
      ]
     },
     "metadata": {},
     "output_type": "display_data"
    }
   ],
   "source": [
    "#filter just counts and metadata\n",
    "gn_bdr_tpm_minimal_df_trunc500bp <- gn_bdr_tpm_updated_df_trunc500bp[,c('GeneID','chromosome',\n",
    "                             'start','end','Length','bidir_id', \n",
    "                              colnames(gn_bdr_tpm_updated_df_trunc500bp[c(6:885)]))]\n",
    "dim(gn_bdr_tpm_minimal_df_trunc500bp)\n",
    "tail(gn_bdr_tpm_minimal_df_trunc500bp)"
   ]
  },
  {
   "cell_type": "code",
   "execution_count": 75,
   "metadata": {},
   "outputs": [
    {
     "data": {
      "text/html": [
       "<table class=\"dataframe\">\n",
       "<caption>A data.frame: 6 × 886</caption>\n",
       "<thead>\n",
       "\t<tr><th></th><th scope=col>Geneid</th><th scope=col>Chr</th><th scope=col>Start</th><th scope=col>End</th><th scope=col>Length</th><th scope=col>Bidirid</th><th scope=col>SRZ1950491</th><th scope=col>SRZ1950493</th><th scope=col>SRZ1950495</th><th scope=col>SRZ1950497</th><th scope=col>⋯</th><th scope=col>SRR9833433</th><th scope=col>SRZ9833428</th><th scope=col>SRZ9833431</th><th scope=col>SRZ9833434</th><th scope=col>SRR11793825</th><th scope=col>SRR11793826</th><th scope=col>SRR11793827</th><th scope=col>SRR11793828</th><th scope=col>SRR11793829</th><th scope=col>SRR11793830</th></tr>\n",
       "\t<tr><th></th><th scope=col>&lt;chr&gt;</th><th scope=col>&lt;chr&gt;</th><th scope=col>&lt;int&gt;</th><th scope=col>&lt;int&gt;</th><th scope=col>&lt;int&gt;</th><th scope=col>&lt;fct&gt;</th><th scope=col>&lt;dbl&gt;</th><th scope=col>&lt;dbl&gt;</th><th scope=col>&lt;dbl&gt;</th><th scope=col>&lt;dbl&gt;</th><th scope=col>⋯</th><th scope=col>&lt;dbl&gt;</th><th scope=col>&lt;dbl&gt;</th><th scope=col>&lt;dbl&gt;</th><th scope=col>&lt;dbl&gt;</th><th scope=col>&lt;dbl&gt;</th><th scope=col>&lt;dbl&gt;</th><th scope=col>&lt;dbl&gt;</th><th scope=col>&lt;dbl&gt;</th><th scope=col>&lt;dbl&gt;</th><th scope=col>&lt;dbl&gt;</th></tr>\n",
       "</thead>\n",
       "<tbody>\n",
       "\t<tr><th scope=row>1</th><td>ZZZ3  </td><td>chr1 </td><td> 77562416</td><td> 77681908</td><td>119493</td><td>Gene</td><td>5.82945457</td><td>8.3145779</td><td>5.980257048</td><td>6.282368367</td><td>⋯</td><td>1.6417523</td><td> 9.745789</td><td>1.2758497</td><td>1.6259456</td><td> 5.560293</td><td> 5.854207</td><td>5.407800</td><td>5.643423</td><td>0.5279793</td><td>4.530625</td></tr>\n",
       "\t<tr><th scope=row>2</th><td>ZZEF1 </td><td>chr17</td><td>  4004445</td><td>  4142280</td><td>137836</td><td>Gene</td><td>2.96570797</td><td>3.6729336</td><td>3.443278075</td><td>3.309437669</td><td>⋯</td><td>0.9983549</td><td> 3.823799</td><td>0.7106638</td><td>1.0820423</td><td> 4.377654</td><td> 4.293882</td><td>3.599961</td><td>3.442803</td><td>0.4787957</td><td>2.945369</td></tr>\n",
       "\t<tr><th scope=row>3</th><td>ZYX   </td><td>chr7 </td><td>143382095</td><td>143391111</td><td>  9017</td><td>Gene</td><td>1.32486628</td><td>0.9145094</td><td>0.362819651</td><td>0.495713321</td><td>⋯</td><td>4.9466981</td><td>26.342880</td><td>4.4171130</td><td>9.8214777</td><td>15.413663</td><td>14.442057</td><td>7.510637</td><td>8.475799</td><td>1.3579248</td><td>6.731350</td></tr>\n",
       "\t<tr><th scope=row>4</th><td>ZYG11B</td><td>chr1 </td><td> 52727203</td><td> 52827336</td><td>100134</td><td>Gene</td><td>2.26242489</td><td>2.5953030</td><td>1.638250776</td><td>1.865425871</td><td>⋯</td><td>2.8256766</td><td> 2.822962</td><td>1.9965896</td><td>0.6858245</td><td> 3.881858</td><td> 3.851474</td><td>3.262415</td><td>3.245017</td><td>0.4362710</td><td>2.877564</td></tr>\n",
       "\t<tr><th scope=row>5</th><td>ZYG11A</td><td>chr1 </td><td> 52843510</td><td> 52894995</td><td> 51486</td><td>Gene</td><td>0.02531241</td><td>0.0000000</td><td>0.009077488</td><td>0.009138605</td><td>⋯</td><td>0.4818851</td><td> 1.212344</td><td>0.2091079</td><td>0.2506957</td><td> 6.035404</td><td> 6.161138</td><td>5.291013</td><td>5.292451</td><td>0.8061700</td><td>4.896948</td></tr>\n",
       "\t<tr><th scope=row>6</th><td>ZXDC  </td><td>chr3 </td><td>126458901</td><td>126475169</td><td> 16269</td><td>Gene</td><td>4.43249906</td><td>5.1300536</td><td>4.639449997</td><td>4.063352682</td><td>⋯</td><td>2.4333443</td><td> 8.113454</td><td>2.0195602</td><td>3.2076399</td><td> 5.764744</td><td> 4.412697</td><td>3.455598</td><td>3.546275</td><td>0.4400926</td><td>3.607818</td></tr>\n",
       "</tbody>\n",
       "</table>\n"
      ],
      "text/latex": [
       "A data.frame: 6 × 886\n",
       "\\begin{tabular}{r|lllllllllllllllllllll}\n",
       "  & Geneid & Chr & Start & End & Length & Bidirid & SRZ1950491 & SRZ1950493 & SRZ1950495 & SRZ1950497 & ⋯ & SRR9833433 & SRZ9833428 & SRZ9833431 & SRZ9833434 & SRR11793825 & SRR11793826 & SRR11793827 & SRR11793828 & SRR11793829 & SRR11793830\\\\\n",
       "  & <chr> & <chr> & <int> & <int> & <int> & <fct> & <dbl> & <dbl> & <dbl> & <dbl> & ⋯ & <dbl> & <dbl> & <dbl> & <dbl> & <dbl> & <dbl> & <dbl> & <dbl> & <dbl> & <dbl>\\\\\n",
       "\\hline\n",
       "\t1 & ZZZ3   & chr1  &  77562416 &  77681908 & 119493 & Gene & 5.82945457 & 8.3145779 & 5.980257048 & 6.282368367 & ⋯ & 1.6417523 &  9.745789 & 1.2758497 & 1.6259456 &  5.560293 &  5.854207 & 5.407800 & 5.643423 & 0.5279793 & 4.530625\\\\\n",
       "\t2 & ZZEF1  & chr17 &   4004445 &   4142280 & 137836 & Gene & 2.96570797 & 3.6729336 & 3.443278075 & 3.309437669 & ⋯ & 0.9983549 &  3.823799 & 0.7106638 & 1.0820423 &  4.377654 &  4.293882 & 3.599961 & 3.442803 & 0.4787957 & 2.945369\\\\\n",
       "\t3 & ZYX    & chr7  & 143382095 & 143391111 &   9017 & Gene & 1.32486628 & 0.9145094 & 0.362819651 & 0.495713321 & ⋯ & 4.9466981 & 26.342880 & 4.4171130 & 9.8214777 & 15.413663 & 14.442057 & 7.510637 & 8.475799 & 1.3579248 & 6.731350\\\\\n",
       "\t4 & ZYG11B & chr1  &  52727203 &  52827336 & 100134 & Gene & 2.26242489 & 2.5953030 & 1.638250776 & 1.865425871 & ⋯ & 2.8256766 &  2.822962 & 1.9965896 & 0.6858245 &  3.881858 &  3.851474 & 3.262415 & 3.245017 & 0.4362710 & 2.877564\\\\\n",
       "\t5 & ZYG11A & chr1  &  52843510 &  52894995 &  51486 & Gene & 0.02531241 & 0.0000000 & 0.009077488 & 0.009138605 & ⋯ & 0.4818851 &  1.212344 & 0.2091079 & 0.2506957 &  6.035404 &  6.161138 & 5.291013 & 5.292451 & 0.8061700 & 4.896948\\\\\n",
       "\t6 & ZXDC   & chr3  & 126458901 & 126475169 &  16269 & Gene & 4.43249906 & 5.1300536 & 4.639449997 & 4.063352682 & ⋯ & 2.4333443 &  8.113454 & 2.0195602 & 3.2076399 &  5.764744 &  4.412697 & 3.455598 & 3.546275 & 0.4400926 & 3.607818\\\\\n",
       "\\end{tabular}\n"
      ],
      "text/markdown": [
       "\n",
       "A data.frame: 6 × 886\n",
       "\n",
       "| <!--/--> | Geneid &lt;chr&gt; | Chr &lt;chr&gt; | Start &lt;int&gt; | End &lt;int&gt; | Length &lt;int&gt; | Bidirid &lt;fct&gt; | SRZ1950491 &lt;dbl&gt; | SRZ1950493 &lt;dbl&gt; | SRZ1950495 &lt;dbl&gt; | SRZ1950497 &lt;dbl&gt; | ⋯ ⋯ | SRR9833433 &lt;dbl&gt; | SRZ9833428 &lt;dbl&gt; | SRZ9833431 &lt;dbl&gt; | SRZ9833434 &lt;dbl&gt; | SRR11793825 &lt;dbl&gt; | SRR11793826 &lt;dbl&gt; | SRR11793827 &lt;dbl&gt; | SRR11793828 &lt;dbl&gt; | SRR11793829 &lt;dbl&gt; | SRR11793830 &lt;dbl&gt; |\n",
       "|---|---|---|---|---|---|---|---|---|---|---|---|---|---|---|---|---|---|---|---|---|---|\n",
       "| 1 | ZZZ3   | chr1  |  77562416 |  77681908 | 119493 | Gene | 5.82945457 | 8.3145779 | 5.980257048 | 6.282368367 | ⋯ | 1.6417523 |  9.745789 | 1.2758497 | 1.6259456 |  5.560293 |  5.854207 | 5.407800 | 5.643423 | 0.5279793 | 4.530625 |\n",
       "| 2 | ZZEF1  | chr17 |   4004445 |   4142280 | 137836 | Gene | 2.96570797 | 3.6729336 | 3.443278075 | 3.309437669 | ⋯ | 0.9983549 |  3.823799 | 0.7106638 | 1.0820423 |  4.377654 |  4.293882 | 3.599961 | 3.442803 | 0.4787957 | 2.945369 |\n",
       "| 3 | ZYX    | chr7  | 143382095 | 143391111 |   9017 | Gene | 1.32486628 | 0.9145094 | 0.362819651 | 0.495713321 | ⋯ | 4.9466981 | 26.342880 | 4.4171130 | 9.8214777 | 15.413663 | 14.442057 | 7.510637 | 8.475799 | 1.3579248 | 6.731350 |\n",
       "| 4 | ZYG11B | chr1  |  52727203 |  52827336 | 100134 | Gene | 2.26242489 | 2.5953030 | 1.638250776 | 1.865425871 | ⋯ | 2.8256766 |  2.822962 | 1.9965896 | 0.6858245 |  3.881858 |  3.851474 | 3.262415 | 3.245017 | 0.4362710 | 2.877564 |\n",
       "| 5 | ZYG11A | chr1  |  52843510 |  52894995 |  51486 | Gene | 0.02531241 | 0.0000000 | 0.009077488 | 0.009138605 | ⋯ | 0.4818851 |  1.212344 | 0.2091079 | 0.2506957 |  6.035404 |  6.161138 | 5.291013 | 5.292451 | 0.8061700 | 4.896948 |\n",
       "| 6 | ZXDC   | chr3  | 126458901 | 126475169 |  16269 | Gene | 4.43249906 | 5.1300536 | 4.639449997 | 4.063352682 | ⋯ | 2.4333443 |  8.113454 | 2.0195602 | 3.2076399 |  5.764744 |  4.412697 | 3.455598 | 3.546275 | 0.4400926 | 3.607818 |\n",
       "\n"
      ],
      "text/plain": [
       "  Geneid Chr   Start     End       Length Bidirid SRZ1950491 SRZ1950493\n",
       "1 ZZZ3   chr1   77562416  77681908 119493 Gene    5.82945457 8.3145779 \n",
       "2 ZZEF1  chr17   4004445   4142280 137836 Gene    2.96570797 3.6729336 \n",
       "3 ZYX    chr7  143382095 143391111   9017 Gene    1.32486628 0.9145094 \n",
       "4 ZYG11B chr1   52727203  52827336 100134 Gene    2.26242489 2.5953030 \n",
       "5 ZYG11A chr1   52843510  52894995  51486 Gene    0.02531241 0.0000000 \n",
       "6 ZXDC   chr3  126458901 126475169  16269 Gene    4.43249906 5.1300536 \n",
       "  SRZ1950495  SRZ1950497  ⋯ SRR9833433 SRZ9833428 SRZ9833431 SRZ9833434\n",
       "1 5.980257048 6.282368367 ⋯ 1.6417523   9.745789  1.2758497  1.6259456 \n",
       "2 3.443278075 3.309437669 ⋯ 0.9983549   3.823799  0.7106638  1.0820423 \n",
       "3 0.362819651 0.495713321 ⋯ 4.9466981  26.342880  4.4171130  9.8214777 \n",
       "4 1.638250776 1.865425871 ⋯ 2.8256766   2.822962  1.9965896  0.6858245 \n",
       "5 0.009077488 0.009138605 ⋯ 0.4818851   1.212344  0.2091079  0.2506957 \n",
       "6 4.639449997 4.063352682 ⋯ 2.4333443   8.113454  2.0195602  3.2076399 \n",
       "  SRR11793825 SRR11793826 SRR11793827 SRR11793828 SRR11793829 SRR11793830\n",
       "1  5.560293    5.854207   5.407800    5.643423    0.5279793   4.530625   \n",
       "2  4.377654    4.293882   3.599961    3.442803    0.4787957   2.945369   \n",
       "3 15.413663   14.442057   7.510637    8.475799    1.3579248   6.731350   \n",
       "4  3.881858    3.851474   3.262415    3.245017    0.4362710   2.877564   \n",
       "5  6.035404    6.161138   5.291013    5.292451    0.8061700   4.896948   \n",
       "6  5.764744    4.412697   3.455598    3.546275    0.4400926   3.607818   "
      ]
     },
     "metadata": {},
     "output_type": "display_data"
    }
   ],
   "source": [
    "colnames(gn_bdr_tpm_minimal_df_trunc500bp)[c(1:6)] <- c('Geneid','Chr','Start','End','Length','Bidirid')\n",
    "head(gn_bdr_tpm_minimal_df_trunc500bp)"
   ]
  },
  {
   "cell_type": "code",
   "execution_count": null,
   "metadata": {},
   "outputs": [],
   "source": []
  },
  {
   "cell_type": "markdown",
   "metadata": {},
   "source": [
    "# Save normalized counts\n",
    "\n",
    "## Genes & Bidirectionals"
   ]
  },
  {
   "cell_type": "code",
   "execution_count": 76,
   "metadata": {},
   "outputs": [],
   "source": [
    "data.table::fwrite(gn_bdr_tpm_updated_df,\n",
    "           '/Users/rusi2317/projects/DBNascent_Analysis/data/final_counts/genes_bidirectionals_tpm.tsv.gz',\n",
    "           sep='\\t')"
   ]
  },
  {
   "cell_type": "code",
   "execution_count": 77,
   "metadata": {},
   "outputs": [],
   "source": [
    "#data.table::fwrite(gn_bdr_tpm_minimal_df,\n",
    "#           '/Users/rusi2317/projects/DBNascent_Analysis/data/final_counts/genes_bidirectionals_tpm_samples.tsv.gz',\n",
    "#           sep='\\t')"
   ]
  },
  {
   "cell_type": "markdown",
   "metadata": {},
   "source": [
    "## Genes 5' Truncated & Bidirectionals "
   ]
  },
  {
   "cell_type": "code",
   "execution_count": 78,
   "metadata": {},
   "outputs": [],
   "source": [
    "data.table::fwrite(gn_bdr_tpm_updated_df_trunc,\n",
    "           '/Users/rusi2317/projects/DBNascent_Analysis/data/final_counts/genes_5ptrunc_bidirectionals_tpm.tsv.gz',\n",
    "           sep='\\t')"
   ]
  },
  {
   "cell_type": "code",
   "execution_count": 79,
   "metadata": {},
   "outputs": [],
   "source": [
    "#data.table::fwrite(gn_bdr_tpm_minimal_df_trunc,\n",
    "#           '/Users/rusi2317/projects/DBNascent_Analysis/data/final_counts/genes_5ptrunc_bidirectionals_tpm_samples.tsv.gz',\n",
    "#           sep='\\t')"
   ]
  },
  {
   "cell_type": "markdown",
   "metadata": {},
   "source": [
    "## Genes 5' Truncated & Bidirectionals with 500bp promoter removed"
   ]
  },
  {
   "cell_type": "code",
   "execution_count": 80,
   "metadata": {},
   "outputs": [],
   "source": [
    "data.table::fwrite(gn_bdr_tpm_updated_df_trunc500bp,\n",
    "           '/Users/rusi2317/projects/DBNascent_Analysis/data/final_counts/genes_5ptrunc_bidirectionals_tpm500bp_promoters.tsv.gz',\n",
    "           sep='\\t')"
   ]
  },
  {
   "cell_type": "code",
   "execution_count": 84,
   "metadata": {},
   "outputs": [],
   "source": [
    "data.table::fwrite(gn_bdr_tpm_minimal_df_trunc500bp,\n",
    "           '/Users/rusi2317/projects/DBNascent_Analysis/data/final_counts/genes_5ptrunc_bidirectionals_tpm500bp_promoters_samples.tsv.gz',\n",
    "           sep='\\t')"
   ]
  },
  {
   "cell_type": "markdown",
   "metadata": {},
   "source": [
    "# Session Information"
   ]
  },
  {
   "cell_type": "code",
   "execution_count": 82,
   "metadata": {},
   "outputs": [
    {
     "data": {
      "text/plain": [
       "R version 3.6.0 (2019-04-26)\n",
       "Platform: x86_64-redhat-linux-gnu (64-bit)\n",
       "Running under: CentOS Linux 7 (Core)\n",
       "\n",
       "Matrix products: default\n",
       "BLAS/LAPACK: /usr/lib64/R/lib/libRblas.so\n",
       "\n",
       "locale:\n",
       " [1] LC_CTYPE=en_US.UTF-8       LC_NUMERIC=C              \n",
       " [3] LC_TIME=en_US.UTF-8        LC_COLLATE=en_US.UTF-8    \n",
       " [5] LC_MONETARY=en_US.UTF-8    LC_MESSAGES=en_US.UTF-8   \n",
       " [7] LC_PAPER=en_US.UTF-8       LC_NAME=C                 \n",
       " [9] LC_ADDRESS=C               LC_TELEPHONE=C            \n",
       "[11] LC_MEASUREMENT=en_US.UTF-8 LC_IDENTIFICATION=C       \n",
       "\n",
       "attached base packages:\n",
       "[1] stats     graphics  grDevices utils     datasets  methods   base     \n",
       "\n",
       "other attached packages:\n",
       "[1] tidyr_1.2.1        dplyr_1.0.10       RColorBrewer_1.1-3 factoextra_1.0.7  \n",
       "[5] cowplot_1.1.1      ggplot2_3.3.6     \n",
       "\n",
       "loaded via a namespace (and not attached):\n",
       " [1] Rcpp_1.0.8.3       pillar_1.8.1       compiler_3.6.0     R.methodsS3_1.8.2 \n",
       " [5] R.utils_2.12.0     base64enc_0.1-3    tools_3.6.0        digest_0.6.29     \n",
       " [9] uuid_1.1-0         jsonlite_1.8.0     evaluate_0.16      lifecycle_1.0.3   \n",
       "[13] tibble_3.1.8       gtable_0.3.1       pkgconfig_2.0.3    rlang_1.0.6       \n",
       "[17] IRdisplay_1.1      cli_3.4.1          DBI_1.1.3          ggrepel_0.9.1     \n",
       "[21] IRkernel_1.3       fastmap_1.1.0      withr_2.5.0        repr_1.1.4        \n",
       "[25] generics_0.1.3     vctrs_0.5.0        grid_3.6.0         tidyselect_1.1.2  \n",
       "[29] data.table_1.14.2  glue_1.6.2         R6_2.5.1           fansi_1.0.3       \n",
       "[33] pbdZMQ_0.3-7       farver_2.1.1       purrr_0.3.4        magrittr_2.0.3    \n",
       "[37] matrixStats_0.62.0 scales_1.2.1       htmltools_0.5.2    assertthat_0.2.1  \n",
       "[41] colorspace_2.0-3   labeling_0.4.2     utf8_1.2.2         munsell_0.5.0     \n",
       "[45] crayon_1.5.1       R.oo_1.25.0       "
      ]
     },
     "metadata": {},
     "output_type": "display_data"
    }
   ],
   "source": [
    "sessionInfo()"
   ]
  },
  {
   "cell_type": "code",
   "execution_count": null,
   "metadata": {},
   "outputs": [],
   "source": []
  }
 ],
 "metadata": {
  "kernelspec": {
   "display_name": "R",
   "language": "R",
   "name": "ir"
  },
  "language_info": {
   "codemirror_mode": "r",
   "file_extension": ".r",
   "mimetype": "text/x-r-source",
   "name": "R",
   "pygments_lexer": "r",
   "version": "3.6.0"
  },
  "toc": {
   "base_numbering": 1,
   "nav_menu": {},
   "number_sections": true,
   "sideBar": true,
   "skip_h1_title": false,
   "title_cell": "Table of Contents",
   "title_sidebar": "Contents",
   "toc_cell": false,
   "toc_position": {
    "height": "calc(100% - 180px)",
    "left": "10px",
    "top": "150px",
    "width": "317px"
   },
   "toc_section_display": true,
   "toc_window_display": true
  }
 },
 "nbformat": 4,
 "nbformat_minor": 2
}
