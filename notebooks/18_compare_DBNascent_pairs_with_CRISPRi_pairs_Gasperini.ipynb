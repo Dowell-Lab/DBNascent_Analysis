{
 "cells": [
  {
   "cell_type": "markdown",
   "metadata": {},
   "source": [
    "**Author :** Rutendo F. Sigauke\n",
    "\n",
    "**Input  :** \n",
    "\n",
    "1. Further filtered significant pairs\n",
    "\n",
    "2. Gasperini and bidirectional overlaps\n",
    "\n",
    "        - gasperini_bidir_calls_overlap.bed\n",
    "\n",
    "**Output :**\n",
    "\n",
    "1. Figures (overlap with validated pairs)"
   ]
  },
  {
   "cell_type": "markdown",
   "metadata": {},
   "source": [
    "# Introduction"
   ]
  },
  {
   "cell_type": "markdown",
   "metadata": {},
   "source": [
    "We took validated enhancers from Gasperini et al. and checked the recovery from our pairs compared to random gene--bidirectional pairs. Overall, we recover a significant overlap with the current gene--bidirectional pairs compared to a random set.\n",
    "\n",
    "*Gasperini, Molly, et al. \"A genome-wide framework for mapping gene regulation via cellular genetic screens.\" Cell 176.1 (2019): 377-390.*"
   ]
  },
  {
   "cell_type": "markdown",
   "metadata": {},
   "source": [
    "# Load libraries"
   ]
  },
  {
   "cell_type": "code",
   "execution_count": 1,
   "metadata": {},
   "outputs": [],
   "source": [
    "library(ggplot2) ##plotting package\n",
    "library(cowplot) ##plots + arrange plots etc\n",
    "library(data.table) ## load files into R faster\n",
    "library(parallel)"
   ]
  },
  {
   "cell_type": "markdown",
   "metadata": {},
   "source": [
    "# Functions\n"
   ]
  },
  {
   "cell_type": "markdown",
   "metadata": {},
   "source": [
    "## Get random pairs"
   ]
  },
  {
   "cell_type": "code",
   "execution_count": 2,
   "metadata": {},
   "outputs": [],
   "source": [
    "shuffle_genes <- function(pairs_DT, seed=1235){\n",
    "    #' shuffle genes within a chromosome pairs\n",
    "    set.seed(seed)\n",
    "    \n",
    "    #1. assign a new data.table\n",
    "    pairs_DT_shuffled_genes <- pairs_DT\n",
    "    \n",
    "    #2. reassigned gene names with a shuffled list\n",
    "    pairs_DT_shuffled_genes$transcript_1 <- sample(pairs_DT$transcript_1, \n",
    "                                                     nrow(pairs_DT)) \n",
    "    return(pairs_DT_shuffled_genes)\n",
    "   \n",
    "}"
   ]
  },
  {
   "cell_type": "markdown",
   "metadata": {},
   "source": [
    "## Get overlaps with true pairs"
   ]
  },
  {
   "cell_type": "code",
   "execution_count": 3,
   "metadata": {},
   "outputs": [],
   "source": [
    "map_overlaps <- function(overlap_DT, nascent_pairs) {\n",
    "    \n",
    "    #1. label the bidirectional IDs from a merged bed6 file\n",
    "    #where the columns 6,7 and 8 are the coordinates for bidirectionals\n",
    "    overlap_DT$bidirid <- paste0(overlap_DT$V6,':',\n",
    "                                 overlap_DT$V7,'-',\n",
    "                                 overlap_DT$V8)\n",
    "    \n",
    "    #2. get the annotations for genes and bidirectionals from nascent derived pairs \n",
    "    nascent_pairs_gene <- unique(nascent_pairs[,\n",
    "                                               c('transcript_1',\n",
    "                                                 'transcript_2')])\n",
    "    \n",
    "    #3. add the gene id\n",
    "    nascent_pairs_gene$gene_id <- as.character(lapply(strsplit(nascent_pairs_gene$transcript_1, ':'),\n",
    "                                                      `[`, 1))\n",
    "    \n",
    "    #4. combine the overlap files with the nascent pairs file based in bidirectional id\n",
    "    # This returns bidirectionals that overlap a feature (e.g. CRISPR-QTLs variant),\n",
    "    # and the nascent pairs associated with than bidirectional\n",
    "    overlap_DT_updated <- merge(overlap_DT, \n",
    "                                nascent_pairs_gene,\n",
    "                                by.x='bidirid', by.y='transcript_2')\n",
    "    \n",
    "    #5. Get regions with matching gene ids from the bidirectional overlaps \n",
    "    # This final step ensures that both the pairs match. (i.e variant - gene/CRISPR-QTL == bidir - gene)\n",
    "    overlap_DT_overlaps <- unique(overlap_DT_updated[overlap_DT_updated$V4 == overlap_DT_updated$gene_id,])\n",
    "    \n",
    "    return(overlap_DT_overlaps)\n",
    "    \n",
    "}"
   ]
  },
  {
   "cell_type": "markdown",
   "metadata": {},
   "source": [
    "# Load data\n",
    "\n",
    "## Significant pairs"
   ]
  },
  {
   "cell_type": "code",
   "execution_count": 4,
   "metadata": {},
   "outputs": [],
   "source": [
    "#path to pairs\n",
    "sig_pairs_path <- \"/Users/rusi2317/projects/meta_analysis_qc_reviews/processed_data/correlations_significant\"\n",
    "\n",
    "##get paths for the tables\n",
    "corr_sig_files <- list.files(path=sig_pairs_path,\n",
    "                         pattern=\"tsv.gz\",\n",
    "                         full.names=TRUE)\n",
    "\n",
    "##load all correlation files \n",
    "corr_sig_DT_list <- lapply(corr_sig_files,\n",
    "                       data.table::fread,\n",
    "                       nThread = 10) \n"
   ]
  },
  {
   "cell_type": "code",
   "execution_count": 5,
   "metadata": {},
   "outputs": [
    {
     "data": {
      "text/html": [
       "<style>\n",
       ".list-inline {list-style: none; margin:0; padding: 0}\n",
       ".list-inline>li {display: inline-block}\n",
       ".list-inline>li:not(:last-child)::after {content: \"\\00b7\"; padding: 0 .5ex}\n",
       "</style>\n",
       "<ol class=list-inline><li>'blood'</li><li>'breast'</li><li>'embryo'</li><li>'heart'</li><li>'intestine'</li><li>'kidney'</li><li>'lung'</li><li>'prostate'</li><li>'skin'</li><li>'umbilical cord'</li><li>'uterus'</li></ol>\n"
      ],
      "text/latex": [
       "\\begin{enumerate*}\n",
       "\\item 'blood'\n",
       "\\item 'breast'\n",
       "\\item 'embryo'\n",
       "\\item 'heart'\n",
       "\\item 'intestine'\n",
       "\\item 'kidney'\n",
       "\\item 'lung'\n",
       "\\item 'prostate'\n",
       "\\item 'skin'\n",
       "\\item 'umbilical cord'\n",
       "\\item 'uterus'\n",
       "\\end{enumerate*}\n"
      ],
      "text/markdown": [
       "1. 'blood'\n",
       "2. 'breast'\n",
       "3. 'embryo'\n",
       "4. 'heart'\n",
       "5. 'intestine'\n",
       "6. 'kidney'\n",
       "7. 'lung'\n",
       "8. 'prostate'\n",
       "9. 'skin'\n",
       "10. 'umbilical cord'\n",
       "11. 'uterus'\n",
       "\n",
       "\n"
      ],
      "text/plain": [
       " [1] \"blood\"          \"breast\"         \"embryo\"         \"heart\"         \n",
       " [5] \"intestine\"      \"kidney\"         \"lung\"           \"prostate\"      \n",
       " [9] \"skin\"           \"umbilical cord\" \"uterus\"        "
      ]
     },
     "metadata": {},
     "output_type": "display_data"
    }
   ],
   "source": [
    "#get list of files\n",
    "sig_pairs_filenames <- list.files(path=sig_pairs_path,\n",
    "                         pattern=\"tsv.gz\",\n",
    "                         full.names=FALSE)\n",
    "\n",
    "#extract the tissue ids from file name\n",
    "tissue_ids <- as.character(lapply(strsplit(sig_pairs_filenames, '_'),\n",
    "                                                    `[`, 1)) \n",
    "\n",
    "#replace the dash with spaces\n",
    "tissue_ids_space <- gsub(\"-\", \" \", tissue_ids)\n",
    "tissue_ids_space"
   ]
  },
  {
   "cell_type": "code",
   "execution_count": 6,
   "metadata": {},
   "outputs": [
    {
     "data": {
      "text/html": [
       "<style>\n",
       ".list-inline {list-style: none; margin:0; padding: 0}\n",
       ".list-inline>li {display: inline-block}\n",
       ".list-inline>li:not(:last-child)::after {content: \"\\00b7\"; padding: 0 .5ex}\n",
       "</style>\n",
       "<ol class=list-inline><li>'blood'</li><li>'breast'</li><li>'embryo'</li><li>'heart'</li><li>'intestine'</li><li>'kidney'</li><li>'lung'</li><li>'prostate'</li><li>'skin'</li><li>'umbilical-cord'</li><li>'uterus'</li></ol>\n"
      ],
      "text/latex": [
       "\\begin{enumerate*}\n",
       "\\item 'blood'\n",
       "\\item 'breast'\n",
       "\\item 'embryo'\n",
       "\\item 'heart'\n",
       "\\item 'intestine'\n",
       "\\item 'kidney'\n",
       "\\item 'lung'\n",
       "\\item 'prostate'\n",
       "\\item 'skin'\n",
       "\\item 'umbilical-cord'\n",
       "\\item 'uterus'\n",
       "\\end{enumerate*}\n"
      ],
      "text/markdown": [
       "1. 'blood'\n",
       "2. 'breast'\n",
       "3. 'embryo'\n",
       "4. 'heart'\n",
       "5. 'intestine'\n",
       "6. 'kidney'\n",
       "7. 'lung'\n",
       "8. 'prostate'\n",
       "9. 'skin'\n",
       "10. 'umbilical-cord'\n",
       "11. 'uterus'\n",
       "\n",
       "\n"
      ],
      "text/plain": [
       " [1] \"blood\"          \"breast\"         \"embryo\"         \"heart\"         \n",
       " [5] \"intestine\"      \"kidney\"         \"lung\"           \"prostate\"      \n",
       " [9] \"skin\"           \"umbilical-cord\" \"uterus\"        "
      ]
     },
     "metadata": {},
     "output_type": "display_data"
    },
    {
     "data": {
      "text/html": [
       "<style>\n",
       ".list-inline {list-style: none; margin:0; padding: 0}\n",
       ".list-inline>li {display: inline-block}\n",
       ".list-inline>li:not(:last-child)::after {content: \"\\00b7\"; padding: 0 .5ex}\n",
       "</style>\n",
       "<ol class=list-inline><li>'blood'</li><li>'breast'</li><li>'embryo'</li><li>'heart'</li><li>'intestine'</li><li>'kidney'</li><li>'lung'</li><li>'prostate'</li><li>'skin'</li><li>'umbilical cord'</li><li>'uterus'</li></ol>\n"
      ],
      "text/latex": [
       "\\begin{enumerate*}\n",
       "\\item 'blood'\n",
       "\\item 'breast'\n",
       "\\item 'embryo'\n",
       "\\item 'heart'\n",
       "\\item 'intestine'\n",
       "\\item 'kidney'\n",
       "\\item 'lung'\n",
       "\\item 'prostate'\n",
       "\\item 'skin'\n",
       "\\item 'umbilical cord'\n",
       "\\item 'uterus'\n",
       "\\end{enumerate*}\n"
      ],
      "text/markdown": [
       "1. 'blood'\n",
       "2. 'breast'\n",
       "3. 'embryo'\n",
       "4. 'heart'\n",
       "5. 'intestine'\n",
       "6. 'kidney'\n",
       "7. 'lung'\n",
       "8. 'prostate'\n",
       "9. 'skin'\n",
       "10. 'umbilical cord'\n",
       "11. 'uterus'\n",
       "\n",
       "\n"
      ],
      "text/plain": [
       " [1] \"blood\"          \"breast\"         \"embryo\"         \"heart\"         \n",
       " [5] \"intestine\"      \"kidney\"         \"lung\"           \"prostate\"      \n",
       " [9] \"skin\"           \"umbilical cord\" \"uterus\"        "
      ]
     },
     "metadata": {},
     "output_type": "display_data"
    }
   ],
   "source": [
    "tissue_ids\n",
    "names(corr_sig_DT_list) <- tissue_ids_space #tissue_ids \n",
    "tissue_ids_space"
   ]
  },
  {
   "cell_type": "code",
   "execution_count": 8,
   "metadata": {},
   "outputs": [
    {
     "data": {
      "text/html": [
       "12697055"
      ],
      "text/latex": [
       "12697055"
      ],
      "text/markdown": [
       "12697055"
      ],
      "text/plain": [
       "[1] 12697055"
      ]
     },
     "metadata": {},
     "output_type": "display_data"
    },
    {
     "data": {
      "text/html": [
       "<table class=\"dataframe\">\n",
       "<caption>A data.table: 6 × 24</caption>\n",
       "<thead>\n",
       "\t<tr><th scope=col>transcript1_chrom</th><th scope=col>transcript1_start</th><th scope=col>transcript1_stop</th><th scope=col>transcript_1</th><th scope=col>transcript1_score</th><th scope=col>transcript1_strand</th><th scope=col>transcript2_chrom</th><th scope=col>transcript2_start</th><th scope=col>transcript2_stop</th><th scope=col>transcript_2</th><th scope=col>⋯</th><th scope=col>adj_p_BH</th><th scope=col>nObs</th><th scope=col>t</th><th scope=col>distance_tss</th><th scope=col>distance_tes</th><th scope=col>position</th><th scope=col>tissue</th><th scope=col>percent_transcribed_both</th><th scope=col>bidirectional_location</th><th scope=col>pair_id</th></tr>\n",
       "\t<tr><th scope=col>&lt;chr&gt;</th><th scope=col>&lt;int&gt;</th><th scope=col>&lt;int&gt;</th><th scope=col>&lt;chr&gt;</th><th scope=col>&lt;chr&gt;</th><th scope=col>&lt;chr&gt;</th><th scope=col>&lt;chr&gt;</th><th scope=col>&lt;int&gt;</th><th scope=col>&lt;int&gt;</th><th scope=col>&lt;chr&gt;</th><th scope=col>⋯</th><th scope=col>&lt;dbl&gt;</th><th scope=col>&lt;int&gt;</th><th scope=col>&lt;dbl&gt;</th><th scope=col>&lt;dbl&gt;</th><th scope=col>&lt;dbl&gt;</th><th scope=col>&lt;chr&gt;</th><th scope=col>&lt;chr&gt;</th><th scope=col>&lt;dbl&gt;</th><th scope=col>&lt;chr&gt;</th><th scope=col>&lt;chr&gt;</th></tr>\n",
       "</thead>\n",
       "<tbody>\n",
       "\t<tr><td>chr10</td><td>46887</td><td>48546</td><td>TUBB8:NM_177987.3</td><td>.</td><td>-</td><td>chr10</td><td>749695</td><td>750013</td><td>chr10:749695-750013</td><td>⋯</td><td>0.0003002834</td><td> 4</td><td>188.756638</td><td>-701308</td><td>-702967</td><td>upstream</td><td>blood</td><td> 1.801802</td><td>intergenic</td><td>TUBB8:NM_177987.3~chr10:749695-750013</td></tr>\n",
       "\t<tr><td>chr10</td><td>46887</td><td>48546</td><td>TUBB8:NM_177987.3</td><td>.</td><td>-</td><td>chr10</td><td>969848</td><td>970172</td><td>chr10:969848-970172</td><td>⋯</td><td>0.0026924465</td><td>40</td><td>  3.935736</td><td>-921464</td><td>-923123</td><td>upstream</td><td>blood</td><td>18.018018</td><td>intergenic</td><td>TUBB8:NM_177987.3~chr10:969848-970172</td></tr>\n",
       "\t<tr><td>chr10</td><td>46887</td><td>48546</td><td>TUBB8:NM_177987.3</td><td>.</td><td>-</td><td>chr10</td><td>972700</td><td>973240</td><td>chr10:972700-973240</td><td>⋯</td><td>0.0018123629</td><td>47</td><td>  4.024305</td><td>-924424</td><td>-926083</td><td>upstream</td><td>blood</td><td>21.171171</td><td>intergenic</td><td>TUBB8:NM_177987.3~chr10:972700-973240</td></tr>\n",
       "\t<tr><td>chr10</td><td>46887</td><td>48546</td><td>TUBB8:NM_177987.3</td><td>.</td><td>-</td><td>chr10</td><td>976990</td><td>977210</td><td>chr10:976990-977210</td><td>⋯</td><td>0.0065950765</td><td>44</td><td>  3.547069</td><td>-928554</td><td>-930213</td><td>upstream</td><td>blood</td><td>19.819820</td><td>intergenic</td><td>TUBB8:NM_177987.3~chr10:976990-977210</td></tr>\n",
       "\t<tr><td>chr10</td><td>46887</td><td>48546</td><td>TUBB8:NM_177987.3</td><td>.</td><td>-</td><td>chr10</td><td>978565</td><td>978731</td><td>chr10:978565-978731</td><td>⋯</td><td>0.0023978288</td><td>38</td><td>  4.003165</td><td>-930102</td><td>-931761</td><td>upstream</td><td>blood</td><td>17.117117</td><td>intergenic</td><td>TUBB8:NM_177987.3~chr10:978565-978731</td></tr>\n",
       "\t<tr><td>chr10</td><td>46887</td><td>48546</td><td>TUBB8:NM_177987.3</td><td>.</td><td>-</td><td>chr10</td><td>986401</td><td>986877</td><td>chr10:986401-986877</td><td>⋯</td><td>0.0002238290</td><td>48</td><td>  4.750869</td><td>-938093</td><td>-939752</td><td>upstream</td><td>blood</td><td>21.621622</td><td>intergenic</td><td>TUBB8:NM_177987.3~chr10:986401-986877</td></tr>\n",
       "</tbody>\n",
       "</table>\n"
      ],
      "text/latex": [
       "A data.table: 6 × 24\n",
       "\\begin{tabular}{lllllllllllllllllllll}\n",
       " transcript1\\_chrom & transcript1\\_start & transcript1\\_stop & transcript\\_1 & transcript1\\_score & transcript1\\_strand & transcript2\\_chrom & transcript2\\_start & transcript2\\_stop & transcript\\_2 & ⋯ & adj\\_p\\_BH & nObs & t & distance\\_tss & distance\\_tes & position & tissue & percent\\_transcribed\\_both & bidirectional\\_location & pair\\_id\\\\\n",
       " <chr> & <int> & <int> & <chr> & <chr> & <chr> & <chr> & <int> & <int> & <chr> & ⋯ & <dbl> & <int> & <dbl> & <dbl> & <dbl> & <chr> & <chr> & <dbl> & <chr> & <chr>\\\\\n",
       "\\hline\n",
       "\t chr10 & 46887 & 48546 & TUBB8:NM\\_177987.3 & . & - & chr10 & 749695 & 750013 & chr10:749695-750013 & ⋯ & 0.0003002834 &  4 & 188.756638 & -701308 & -702967 & upstream & blood &  1.801802 & intergenic & TUBB8:NM\\_177987.3\\textasciitilde{}chr10:749695-750013\\\\\n",
       "\t chr10 & 46887 & 48546 & TUBB8:NM\\_177987.3 & . & - & chr10 & 969848 & 970172 & chr10:969848-970172 & ⋯ & 0.0026924465 & 40 &   3.935736 & -921464 & -923123 & upstream & blood & 18.018018 & intergenic & TUBB8:NM\\_177987.3\\textasciitilde{}chr10:969848-970172\\\\\n",
       "\t chr10 & 46887 & 48546 & TUBB8:NM\\_177987.3 & . & - & chr10 & 972700 & 973240 & chr10:972700-973240 & ⋯ & 0.0018123629 & 47 &   4.024305 & -924424 & -926083 & upstream & blood & 21.171171 & intergenic & TUBB8:NM\\_177987.3\\textasciitilde{}chr10:972700-973240\\\\\n",
       "\t chr10 & 46887 & 48546 & TUBB8:NM\\_177987.3 & . & - & chr10 & 976990 & 977210 & chr10:976990-977210 & ⋯ & 0.0065950765 & 44 &   3.547069 & -928554 & -930213 & upstream & blood & 19.819820 & intergenic & TUBB8:NM\\_177987.3\\textasciitilde{}chr10:976990-977210\\\\\n",
       "\t chr10 & 46887 & 48546 & TUBB8:NM\\_177987.3 & . & - & chr10 & 978565 & 978731 & chr10:978565-978731 & ⋯ & 0.0023978288 & 38 &   4.003165 & -930102 & -931761 & upstream & blood & 17.117117 & intergenic & TUBB8:NM\\_177987.3\\textasciitilde{}chr10:978565-978731\\\\\n",
       "\t chr10 & 46887 & 48546 & TUBB8:NM\\_177987.3 & . & - & chr10 & 986401 & 986877 & chr10:986401-986877 & ⋯ & 0.0002238290 & 48 &   4.750869 & -938093 & -939752 & upstream & blood & 21.621622 & intergenic & TUBB8:NM\\_177987.3\\textasciitilde{}chr10:986401-986877\\\\\n",
       "\\end{tabular}\n"
      ],
      "text/markdown": [
       "\n",
       "A data.table: 6 × 24\n",
       "\n",
       "| transcript1_chrom &lt;chr&gt; | transcript1_start &lt;int&gt; | transcript1_stop &lt;int&gt; | transcript_1 &lt;chr&gt; | transcript1_score &lt;chr&gt; | transcript1_strand &lt;chr&gt; | transcript2_chrom &lt;chr&gt; | transcript2_start &lt;int&gt; | transcript2_stop &lt;int&gt; | transcript_2 &lt;chr&gt; | ⋯ ⋯ | adj_p_BH &lt;dbl&gt; | nObs &lt;int&gt; | t &lt;dbl&gt; | distance_tss &lt;dbl&gt; | distance_tes &lt;dbl&gt; | position &lt;chr&gt; | tissue &lt;chr&gt; | percent_transcribed_both &lt;dbl&gt; | bidirectional_location &lt;chr&gt; | pair_id &lt;chr&gt; |\n",
       "|---|---|---|---|---|---|---|---|---|---|---|---|---|---|---|---|---|---|---|---|---|\n",
       "| chr10 | 46887 | 48546 | TUBB8:NM_177987.3 | . | - | chr10 | 749695 | 750013 | chr10:749695-750013 | ⋯ | 0.0003002834 |  4 | 188.756638 | -701308 | -702967 | upstream | blood |  1.801802 | intergenic | TUBB8:NM_177987.3~chr10:749695-750013 |\n",
       "| chr10 | 46887 | 48546 | TUBB8:NM_177987.3 | . | - | chr10 | 969848 | 970172 | chr10:969848-970172 | ⋯ | 0.0026924465 | 40 |   3.935736 | -921464 | -923123 | upstream | blood | 18.018018 | intergenic | TUBB8:NM_177987.3~chr10:969848-970172 |\n",
       "| chr10 | 46887 | 48546 | TUBB8:NM_177987.3 | . | - | chr10 | 972700 | 973240 | chr10:972700-973240 | ⋯ | 0.0018123629 | 47 |   4.024305 | -924424 | -926083 | upstream | blood | 21.171171 | intergenic | TUBB8:NM_177987.3~chr10:972700-973240 |\n",
       "| chr10 | 46887 | 48546 | TUBB8:NM_177987.3 | . | - | chr10 | 976990 | 977210 | chr10:976990-977210 | ⋯ | 0.0065950765 | 44 |   3.547069 | -928554 | -930213 | upstream | blood | 19.819820 | intergenic | TUBB8:NM_177987.3~chr10:976990-977210 |\n",
       "| chr10 | 46887 | 48546 | TUBB8:NM_177987.3 | . | - | chr10 | 978565 | 978731 | chr10:978565-978731 | ⋯ | 0.0023978288 | 38 |   4.003165 | -930102 | -931761 | upstream | blood | 17.117117 | intergenic | TUBB8:NM_177987.3~chr10:978565-978731 |\n",
       "| chr10 | 46887 | 48546 | TUBB8:NM_177987.3 | . | - | chr10 | 986401 | 986877 | chr10:986401-986877 | ⋯ | 0.0002238290 | 48 |   4.750869 | -938093 | -939752 | upstream | blood | 21.621622 | intergenic | TUBB8:NM_177987.3~chr10:986401-986877 |\n",
       "\n"
      ],
      "text/plain": [
       "  transcript1_chrom transcript1_start transcript1_stop transcript_1     \n",
       "1 chr10             46887             48546            TUBB8:NM_177987.3\n",
       "2 chr10             46887             48546            TUBB8:NM_177987.3\n",
       "3 chr10             46887             48546            TUBB8:NM_177987.3\n",
       "4 chr10             46887             48546            TUBB8:NM_177987.3\n",
       "5 chr10             46887             48546            TUBB8:NM_177987.3\n",
       "6 chr10             46887             48546            TUBB8:NM_177987.3\n",
       "  transcript1_score transcript1_strand transcript2_chrom transcript2_start\n",
       "1 .                 -                  chr10             749695           \n",
       "2 .                 -                  chr10             969848           \n",
       "3 .                 -                  chr10             972700           \n",
       "4 .                 -                  chr10             976990           \n",
       "5 .                 -                  chr10             978565           \n",
       "6 .                 -                  chr10             986401           \n",
       "  transcript2_stop transcript_2        ⋯ adj_p_BH     nObs t         \n",
       "1 750013           chr10:749695-750013 ⋯ 0.0003002834  4   188.756638\n",
       "2 970172           chr10:969848-970172 ⋯ 0.0026924465 40     3.935736\n",
       "3 973240           chr10:972700-973240 ⋯ 0.0018123629 47     4.024305\n",
       "4 977210           chr10:976990-977210 ⋯ 0.0065950765 44     3.547069\n",
       "5 978731           chr10:978565-978731 ⋯ 0.0023978288 38     4.003165\n",
       "6 986877           chr10:986401-986877 ⋯ 0.0002238290 48     4.750869\n",
       "  distance_tss distance_tes position tissue percent_transcribed_both\n",
       "1 -701308      -702967      upstream blood   1.801802               \n",
       "2 -921464      -923123      upstream blood  18.018018               \n",
       "3 -924424      -926083      upstream blood  21.171171               \n",
       "4 -928554      -930213      upstream blood  19.819820               \n",
       "5 -930102      -931761      upstream blood  17.117117               \n",
       "6 -938093      -939752      upstream blood  21.621622               \n",
       "  bidirectional_location pair_id                              \n",
       "1 intergenic             TUBB8:NM_177987.3~chr10:749695-750013\n",
       "2 intergenic             TUBB8:NM_177987.3~chr10:969848-970172\n",
       "3 intergenic             TUBB8:NM_177987.3~chr10:972700-973240\n",
       "4 intergenic             TUBB8:NM_177987.3~chr10:976990-977210\n",
       "5 intergenic             TUBB8:NM_177987.3~chr10:978565-978731\n",
       "6 intergenic             TUBB8:NM_177987.3~chr10:986401-986877"
      ]
     },
     "metadata": {},
     "output_type": "display_data"
    }
   ],
   "source": [
    "# merge all the pair table\n",
    "corr_sig_DT <- do.call(rbind, corr_sig_DT_list)\n",
    "\n",
    "# add a pair id column\n",
    "corr_sig_DT$pair_id <- paste0(corr_sig_DT$transcript_1,\n",
    "                                \"~\",\n",
    "                              corr_sig_DT$transcript_2)\n",
    "nrow(corr_sig_DT)\n",
    "head(corr_sig_DT)"
   ]
  },
  {
   "cell_type": "code",
   "execution_count": 9,
   "metadata": {},
   "outputs": [
    {
     "data": {
      "text/html": [
       "6700460"
      ],
      "text/latex": [
       "6700460"
      ],
      "text/markdown": [
       "6700460"
      ],
      "text/plain": [
       "[1] 6700460"
      ]
     },
     "metadata": {},
     "output_type": "display_data"
    },
    {
     "data": {
      "text/html": [
       "<table class=\"dataframe\">\n",
       "<caption>A data.table: 3 × 2</caption>\n",
       "<thead>\n",
       "\t<tr><th scope=col>transcript_1</th><th scope=col>transcript_2</th></tr>\n",
       "\t<tr><th scope=col>&lt;chr&gt;</th><th scope=col>&lt;chr&gt;</th></tr>\n",
       "</thead>\n",
       "<tbody>\n",
       "\t<tr><td>TUBB8:NM_177987.3</td><td>chr10:749695-750013</td></tr>\n",
       "\t<tr><td>TUBB8:NM_177987.3</td><td>chr10:969848-970172</td></tr>\n",
       "\t<tr><td>TUBB8:NM_177987.3</td><td>chr10:972700-973240</td></tr>\n",
       "</tbody>\n",
       "</table>\n"
      ],
      "text/latex": [
       "A data.table: 3 × 2\n",
       "\\begin{tabular}{ll}\n",
       " transcript\\_1 & transcript\\_2\\\\\n",
       " <chr> & <chr>\\\\\n",
       "\\hline\n",
       "\t TUBB8:NM\\_177987.3 & chr10:749695-750013\\\\\n",
       "\t TUBB8:NM\\_177987.3 & chr10:969848-970172\\\\\n",
       "\t TUBB8:NM\\_177987.3 & chr10:972700-973240\\\\\n",
       "\\end{tabular}\n"
      ],
      "text/markdown": [
       "\n",
       "A data.table: 3 × 2\n",
       "\n",
       "| transcript_1 &lt;chr&gt; | transcript_2 &lt;chr&gt; |\n",
       "|---|---|\n",
       "| TUBB8:NM_177987.3 | chr10:749695-750013 |\n",
       "| TUBB8:NM_177987.3 | chr10:969848-970172 |\n",
       "| TUBB8:NM_177987.3 | chr10:972700-973240 |\n",
       "\n"
      ],
      "text/plain": [
       "  transcript_1      transcript_2       \n",
       "1 TUBB8:NM_177987.3 chr10:749695-750013\n",
       "2 TUBB8:NM_177987.3 chr10:969848-970172\n",
       "3 TUBB8:NM_177987.3 chr10:972700-973240"
      ]
     },
     "metadata": {},
     "output_type": "display_data"
    }
   ],
   "source": [
    "##Get unique pairs from significant data\n",
    "unique_pairs <- unique(corr_sig_DT[,c('transcript_1',\n",
    "                                      'transcript_2')])\n",
    "\n",
    "nrow(unique_pairs)\n",
    "head(unique_pairs, 3)"
   ]
  },
  {
   "cell_type": "markdown",
   "metadata": {},
   "source": [
    "## Swapped transcripts"
   ]
  },
  {
   "cell_type": "code",
   "execution_count": 10,
   "metadata": {},
   "outputs": [],
   "source": [
    "swapped_sig_pairs_path <- \"/Users/rusi2317/projects/meta_analysis_qc_reviews/processed_data/correlations_shuffled_significant\"\n",
    "\n",
    "##get paths for the tables\n",
    "swapped_corr_sig_files <- list.files(path=swapped_sig_pairs_path,\n",
    "                         pattern=\"tsv.gz\",\n",
    "                         full.names=TRUE)\n",
    "\n",
    "##load all correlation files \n",
    "swapped_corr_sig_DT_list <- lapply(swapped_corr_sig_files,\n",
    "                       data.table::fread,\n",
    "                       nThread = 10) \n"
   ]
  },
  {
   "cell_type": "code",
   "execution_count": 11,
   "metadata": {},
   "outputs": [],
   "source": [
    "names(swapped_corr_sig_DT_list) <- tissue_ids_space #tissue_ids "
   ]
  },
  {
   "cell_type": "code",
   "execution_count": 12,
   "metadata": {
    "scrolled": true
   },
   "outputs": [
    {
     "data": {
      "text/html": [
       "7280226"
      ],
      "text/latex": [
       "7280226"
      ],
      "text/markdown": [
       "7280226"
      ],
      "text/plain": [
       "[1] 7280226"
      ]
     },
     "metadata": {},
     "output_type": "display_data"
    }
   ],
   "source": [
    "#merge data.tables\n",
    "swapped_corr_sig_DT <- do.call(rbind, swapped_corr_sig_DT_list)\n",
    "nrow(swapped_corr_sig_DT)"
   ]
  },
  {
   "cell_type": "code",
   "execution_count": 13,
   "metadata": {},
   "outputs": [],
   "source": [
    "# add a pair id column\n",
    "swapped_corr_sig_DT$pair_id <- paste0(swapped_corr_sig_DT$transcript_1,\n",
    "                                \"~\",\n",
    "                              swapped_corr_sig_DT$transcript_2)"
   ]
  },
  {
   "cell_type": "code",
   "execution_count": 14,
   "metadata": {},
   "outputs": [
    {
     "data": {
      "text/html": [
       "<style>\n",
       ".list-inline {list-style: none; margin:0; padding: 0}\n",
       ".list-inline>li {display: inline-block}\n",
       ".list-inline>li:not(:last-child)::after {content: \"\\00b7\"; padding: 0 .5ex}\n",
       "</style>\n",
       "<ol class=list-inline><li>12697055</li><li>24</li></ol>\n"
      ],
      "text/latex": [
       "\\begin{enumerate*}\n",
       "\\item 12697055\n",
       "\\item 24\n",
       "\\end{enumerate*}\n"
      ],
      "text/markdown": [
       "1. 12697055\n",
       "2. 24\n",
       "\n",
       "\n"
      ],
      "text/plain": [
       "[1] 12697055       24"
      ]
     },
     "metadata": {},
     "output_type": "display_data"
    },
    {
     "data": {
      "text/html": [
       "<style>\n",
       ".list-inline {list-style: none; margin:0; padding: 0}\n",
       ".list-inline>li {display: inline-block}\n",
       ".list-inline>li:not(:last-child)::after {content: \"\\00b7\"; padding: 0 .5ex}\n",
       "</style>\n",
       "<ol class=list-inline><li>7280226</li><li>24</li></ol>\n"
      ],
      "text/latex": [
       "\\begin{enumerate*}\n",
       "\\item 7280226\n",
       "\\item 24\n",
       "\\end{enumerate*}\n"
      ],
      "text/markdown": [
       "1. 7280226\n",
       "2. 24\n",
       "\n",
       "\n"
      ],
      "text/plain": [
       "[1] 7280226      24"
      ]
     },
     "metadata": {},
     "output_type": "display_data"
    }
   ],
   "source": [
    "dim(corr_sig_DT)\n",
    "dim(swapped_corr_sig_DT)"
   ]
  },
  {
   "cell_type": "code",
   "execution_count": 15,
   "metadata": {},
   "outputs": [
    {
     "data": {
      "text/html": [
       "4786325"
      ],
      "text/latex": [
       "4786325"
      ],
      "text/markdown": [
       "4786325"
      ],
      "text/plain": [
       "[1] 4786325"
      ]
     },
     "metadata": {},
     "output_type": "display_data"
    },
    {
     "data": {
      "text/html": [
       "<table class=\"dataframe\">\n",
       "<caption>A data.table: 3 × 2</caption>\n",
       "<thead>\n",
       "\t<tr><th scope=col>transcript_1</th><th scope=col>transcript_2</th></tr>\n",
       "\t<tr><th scope=col>&lt;chr&gt;</th><th scope=col>&lt;chr&gt;</th></tr>\n",
       "</thead>\n",
       "<tbody>\n",
       "\t<tr><td>TUBB8:NM_177987.3     </td><td>chr10:787365-787695</td></tr>\n",
       "\t<tr><td>ZMYND11:NM_001202467.1</td><td>chr10:79981-81765  </td></tr>\n",
       "\t<tr><td>ZMYND11:NM_001202467.1</td><td>chr10:86080-86290  </td></tr>\n",
       "</tbody>\n",
       "</table>\n"
      ],
      "text/latex": [
       "A data.table: 3 × 2\n",
       "\\begin{tabular}{ll}\n",
       " transcript\\_1 & transcript\\_2\\\\\n",
       " <chr> & <chr>\\\\\n",
       "\\hline\n",
       "\t TUBB8:NM\\_177987.3      & chr10:787365-787695\\\\\n",
       "\t ZMYND11:NM\\_001202467.1 & chr10:79981-81765  \\\\\n",
       "\t ZMYND11:NM\\_001202467.1 & chr10:86080-86290  \\\\\n",
       "\\end{tabular}\n"
      ],
      "text/markdown": [
       "\n",
       "A data.table: 3 × 2\n",
       "\n",
       "| transcript_1 &lt;chr&gt; | transcript_2 &lt;chr&gt; |\n",
       "|---|---|\n",
       "| TUBB8:NM_177987.3      | chr10:787365-787695 |\n",
       "| ZMYND11:NM_001202467.1 | chr10:79981-81765   |\n",
       "| ZMYND11:NM_001202467.1 | chr10:86080-86290   |\n",
       "\n"
      ],
      "text/plain": [
       "  transcript_1           transcript_2       \n",
       "1 TUBB8:NM_177987.3      chr10:787365-787695\n",
       "2 ZMYND11:NM_001202467.1 chr10:79981-81765  \n",
       "3 ZMYND11:NM_001202467.1 chr10:86080-86290  "
      ]
     },
     "metadata": {},
     "output_type": "display_data"
    }
   ],
   "source": [
    "##Get unique pairs from significant data\n",
    "swapped_unique_pairs <- unique(swapped_corr_sig_DT[,c('transcript_1',\n",
    "                                      'transcript_2')])\n",
    "\n",
    "nrow(swapped_unique_pairs)\n",
    "head(swapped_unique_pairs, 3)"
   ]
  },
  {
   "cell_type": "markdown",
   "metadata": {},
   "source": [
    "## Counted transcripts used in correlation"
   ]
  },
  {
   "cell_type": "code",
   "execution_count": 16,
   "metadata": {},
   "outputs": [
    {
     "data": {
      "text/html": [
       "866772"
      ],
      "text/latex": [
       "866772"
      ],
      "text/markdown": [
       "866772"
      ],
      "text/plain": [
       "[1] 866772"
      ]
     },
     "metadata": {},
     "output_type": "display_data"
    },
    {
     "data": {
      "text/html": [
       "<table class=\"dataframe\">\n",
       "<caption>A data.table: 3 × 20</caption>\n",
       "<thead>\n",
       "\t<tr><th scope=col>chrom</th><th scope=col>start</th><th scope=col>stop</th><th scope=col>gene_transcript</th><th scope=col>score</th><th scope=col>strand</th><th scope=col>length</th><th scope=col>stdev</th><th scope=col>variance</th><th scope=col>sum</th><th scope=col>mean</th><th scope=col>median</th><th scope=col>coefvar</th><th scope=col>max</th><th scope=col>min</th><th scope=col>num_transcribed</th><th scope=col>percent_transcribed</th><th scope=col>transcript_type</th><th scope=col>bidirectional_type</th><th scope=col>gene_id</th></tr>\n",
       "\t<tr><th scope=col>&lt;chr&gt;</th><th scope=col>&lt;int&gt;</th><th scope=col>&lt;int&gt;</th><th scope=col>&lt;chr&gt;</th><th scope=col>&lt;chr&gt;</th><th scope=col>&lt;chr&gt;</th><th scope=col>&lt;int&gt;</th><th scope=col>&lt;dbl&gt;</th><th scope=col>&lt;dbl&gt;</th><th scope=col>&lt;dbl&gt;</th><th scope=col>&lt;dbl&gt;</th><th scope=col>&lt;dbl&gt;</th><th scope=col>&lt;dbl&gt;</th><th scope=col>&lt;dbl&gt;</th><th scope=col>&lt;dbl&gt;</th><th scope=col>&lt;int&gt;</th><th scope=col>&lt;dbl&gt;</th><th scope=col>&lt;chr&gt;</th><th scope=col>&lt;chr&gt;</th><th scope=col>&lt;chr&gt;</th></tr>\n",
       "</thead>\n",
       "<tbody>\n",
       "\t<tr><td>chr1</td><td>12623</td><td>14409</td><td>DDX11L1:NR_046018.2 </td><td>.</td><td>+</td><td> 1787</td><td>0.074963761</td><td>5.619565e-03</td><td>  7.3457785</td><td>0.0097813296</td><td>0.0000000</td><td>7.6639642</td><td>1.25617712</td><td>0</td><td> 29</td><td> 3.861518</td><td>genes</td><td>genes</td><td>DDX11L1</td></tr>\n",
       "\t<tr><td>chr1</td><td>14361</td><td>28620</td><td>WASH7P:NR_024540.1  </td><td>.</td><td>-</td><td>14260</td><td>0.203215831</td><td>4.129667e-02</td><td>186.4038071</td><td>0.2482074661</td><td>0.1942185</td><td>0.8187338</td><td>1.41713036</td><td>0</td><td>749</td><td>99.733688</td><td>genes</td><td>genes</td><td>WASH7P </td></tr>\n",
       "\t<tr><td>chr1</td><td>66168</td><td>71585</td><td>OR4F5:NM_001005484.2</td><td>.</td><td>+</td><td> 5418</td><td>0.002716696</td><td>7.380436e-06</td><td>  0.2073629</td><td>0.0002761157</td><td>0.0000000</td><td>9.8389775</td><td>0.04071455</td><td>0</td><td> 11</td><td> 1.464714</td><td>genes</td><td>genes</td><td>OR4F5  </td></tr>\n",
       "</tbody>\n",
       "</table>\n"
      ],
      "text/latex": [
       "A data.table: 3 × 20\n",
       "\\begin{tabular}{llllllllllllllllllll}\n",
       " chrom & start & stop & gene\\_transcript & score & strand & length & stdev & variance & sum & mean & median & coefvar & max & min & num\\_transcribed & percent\\_transcribed & transcript\\_type & bidirectional\\_type & gene\\_id\\\\\n",
       " <chr> & <int> & <int> & <chr> & <chr> & <chr> & <int> & <dbl> & <dbl> & <dbl> & <dbl> & <dbl> & <dbl> & <dbl> & <dbl> & <int> & <dbl> & <chr> & <chr> & <chr>\\\\\n",
       "\\hline\n",
       "\t chr1 & 12623 & 14409 & DDX11L1:NR\\_046018.2  & . & + &  1787 & 0.074963761 & 5.619565e-03 &   7.3457785 & 0.0097813296 & 0.0000000 & 7.6639642 & 1.25617712 & 0 &  29 &  3.861518 & genes & genes & DDX11L1\\\\\n",
       "\t chr1 & 14361 & 28620 & WASH7P:NR\\_024540.1   & . & - & 14260 & 0.203215831 & 4.129667e-02 & 186.4038071 & 0.2482074661 & 0.1942185 & 0.8187338 & 1.41713036 & 0 & 749 & 99.733688 & genes & genes & WASH7P \\\\\n",
       "\t chr1 & 66168 & 71585 & OR4F5:NM\\_001005484.2 & . & + &  5418 & 0.002716696 & 7.380436e-06 &   0.2073629 & 0.0002761157 & 0.0000000 & 9.8389775 & 0.04071455 & 0 &  11 &  1.464714 & genes & genes & OR4F5  \\\\\n",
       "\\end{tabular}\n"
      ],
      "text/markdown": [
       "\n",
       "A data.table: 3 × 20\n",
       "\n",
       "| chrom &lt;chr&gt; | start &lt;int&gt; | stop &lt;int&gt; | gene_transcript &lt;chr&gt; | score &lt;chr&gt; | strand &lt;chr&gt; | length &lt;int&gt; | stdev &lt;dbl&gt; | variance &lt;dbl&gt; | sum &lt;dbl&gt; | mean &lt;dbl&gt; | median &lt;dbl&gt; | coefvar &lt;dbl&gt; | max &lt;dbl&gt; | min &lt;dbl&gt; | num_transcribed &lt;int&gt; | percent_transcribed &lt;dbl&gt; | transcript_type &lt;chr&gt; | bidirectional_type &lt;chr&gt; | gene_id &lt;chr&gt; |\n",
       "|---|---|---|---|---|---|---|---|---|---|---|---|---|---|---|---|---|---|---|---|\n",
       "| chr1 | 12623 | 14409 | DDX11L1:NR_046018.2  | . | + |  1787 | 0.074963761 | 5.619565e-03 |   7.3457785 | 0.0097813296 | 0.0000000 | 7.6639642 | 1.25617712 | 0 |  29 |  3.861518 | genes | genes | DDX11L1 |\n",
       "| chr1 | 14361 | 28620 | WASH7P:NR_024540.1   | . | - | 14260 | 0.203215831 | 4.129667e-02 | 186.4038071 | 0.2482074661 | 0.1942185 | 0.8187338 | 1.41713036 | 0 | 749 | 99.733688 | genes | genes | WASH7P  |\n",
       "| chr1 | 66168 | 71585 | OR4F5:NM_001005484.2 | . | + |  5418 | 0.002716696 | 7.380436e-06 |   0.2073629 | 0.0002761157 | 0.0000000 | 9.8389775 | 0.04071455 | 0 |  11 |  1.464714 | genes | genes | OR4F5   |\n",
       "\n"
      ],
      "text/plain": [
       "  chrom start stop  gene_transcript      score strand length stdev      \n",
       "1 chr1  12623 14409 DDX11L1:NR_046018.2  .     +       1787  0.074963761\n",
       "2 chr1  14361 28620 WASH7P:NR_024540.1   .     -      14260  0.203215831\n",
       "3 chr1  66168 71585 OR4F5:NM_001005484.2 .     +       5418  0.002716696\n",
       "  variance     sum         mean         median    coefvar   max        min\n",
       "1 5.619565e-03   7.3457785 0.0097813296 0.0000000 7.6639642 1.25617712 0  \n",
       "2 4.129667e-02 186.4038071 0.2482074661 0.1942185 0.8187338 1.41713036 0  \n",
       "3 7.380436e-06   0.2073629 0.0002761157 0.0000000 9.8389775 0.04071455 0  \n",
       "  num_transcribed percent_transcribed transcript_type bidirectional_type\n",
       "1  29              3.861518           genes           genes             \n",
       "2 749             99.733688           genes           genes             \n",
       "3  11              1.464714           genes           genes             \n",
       "  gene_id\n",
       "1 DDX11L1\n",
       "2 WASH7P \n",
       "3 OR4F5  "
      ]
     },
     "metadata": {},
     "output_type": "display_data"
    }
   ],
   "source": [
    "gene_bidir_tpm_filtered_summary <- data.table::fread(\"/Users/rusi2317/projects/meta_analysis_qc_reviews/processed_data/normalized_counts/summary_gene_bidir_tpm_filtered.tsv.gz\",\n",
    "                                                     sep='\\t')\n",
    "\n",
    "#get transcripts in 3 or more samples of high QC\n",
    "transcripts_counted <- subset(gene_bidir_tpm_filtered_summary, num_transcribed >=3)\n",
    "transcripts_counted$gene_id <-  as.character(lapply(strsplit(transcripts_counted$gene_transcript, ':'),\n",
    "                                                      `[`, 1))\n",
    "nrow(transcripts_counted)\n",
    "head(transcripts_counted, 3)\n"
   ]
  },
  {
   "cell_type": "markdown",
   "metadata": {},
   "source": [
    "## Load the 1000 random overlaps"
   ]
  },
  {
   "cell_type": "markdown",
   "metadata": {},
   "source": [
    "The overlaps were run using the scripts `51_evaluated_pairs_with_crisprQTL.R` and `52_run_evaluated_pairs_with_crisprQTL.sbatch`."
   ]
  },
  {
   "cell_type": "markdown",
   "metadata": {},
   "source": [
    "`51_evaluated_pairs_with_crisprQTL.R`\n",
    "\n",
    "```R\n",
    "#! /usr/bin/env Rscript\n",
    "\n",
    "############################################\n",
    "##Add library paths                       ##\n",
    "############################################\n",
    "print(.libPaths())\n",
    ".libPaths( c( .libPaths(), \"/Users/rusi2317/R/x86_64-pc-linux-gnu-library/4.4\") )\n",
    "\n",
    "\n",
    "############################################\n",
    "##load packages                           ##\n",
    "############################################\n",
    "\n",
    "library(data.table)\n",
    "library(parallel)\n",
    "\n",
    "############################################\n",
    "##Functions                               ##\n",
    "############################################\n",
    "##-------------------------\n",
    "## get overlaps\n",
    "##-------------------------\n",
    "\n",
    "map_overlaps <- function(overlap_DT, nascent_pairs) {\n",
    "    \n",
    "    #1. label the bidirectional IDs from a merged bed6 file\n",
    "    #where the columns 6,7 and 8 are the coordinates for bidirectionals\n",
    "    overlap_DT$bidirid <- paste0(overlap_DT$V6,':',\n",
    "                                 overlap_DT$V7,'-',\n",
    "                                 overlap_DT$V8)\n",
    "    \n",
    "    #2. get the annotations for genes and bidirectionals from nascent derived pairs \n",
    "    nascent_pairs_gene <- nascent_pairs[,c('transcript_1','transcript_2')]\n",
    "    \n",
    "    #3. add the gene id\n",
    "    nascent_pairs_gene$gene_id <- as.character(lapply(strsplit(nascent_pairs_gene$transcript_1, ':'),\n",
    "                                                      `[`, 1))\n",
    "    \n",
    "    #4. combine the overlap files with the nascent pairs file based in bidirectional id\n",
    "    # This returns bidirectionals that overlap a feature (e.g. CRISPR-QTLs variant),\n",
    "    # and the nascent pairs associated with than bidirectional\n",
    "    overlap_DT_updated <- merge(overlap_DT, \n",
    "                                nascent_pairs_gene,\n",
    "                                by.x='bidirid', by.y='transcript_2')\n",
    "    \n",
    "    #5. Get regions with matching gene ids from the bidirectional overlaps \n",
    "    # This final step ensures that both the pairs match. (i.e variant - gene/CRISPR-QTL == bidir - gene)\n",
    "    overlap_DT_overlaps <- unique(overlap_DT_updated[overlap_DT_updated$V4 == overlap_DT_updated$gene_id,])\n",
    "    \n",
    "    return(overlap_DT_overlaps)\n",
    "    \n",
    "}\n",
    "\n",
    "##-------------------------\n",
    "#random pairs\n",
    "##-------------------------\n",
    "\n",
    "shuffle_genes <- function(pairs_DT, seed=1235){\n",
    "    #' shuffle genes within a chromosome pairs\n",
    "    set.seed(seed)\n",
    "    \n",
    "    #1. assign a new data.table\n",
    "    pairs_DT_shuffled_genes <- pairs_DT\n",
    "    \n",
    "    #2. reassigned gene names with a shuffled list\n",
    "    pairs_DT_shuffled_genes$transcript_1 <- sample(pairs_DT$transcript_1, \n",
    "                                                     nrow(pairs_DT)) \n",
    "    return(pairs_DT_shuffled_genes)\n",
    "   \n",
    "}\n",
    "\n",
    "############################################\n",
    "##Load data                               ##\n",
    "############################################\n",
    "##-------------------------\n",
    "## Correlations\n",
    "##-------------------------\n",
    "\n",
    "#These are pairs with the stringent adjusted p-value filter of 0.001\n",
    "#sig_pairs_path <- \"/scratch/Shares/dowell/dbnascent/out/meta_analysis/gene_bidir_significant_pairs\"\n",
    "\n",
    "#These are pairs with a loose adjusted p-value filter of <0.01\n",
    "sig_pairs_path <- \"/scratch/Users/rusi2317/projects/meta_analysis_qc_reviews/processed_data/correlations_significant\"\n",
    "\n",
    "##get paths for the tables\n",
    "corr_sig_files <- list.files(path=sig_pairs_path,\n",
    "                         pattern=\"tsv.gz\",\n",
    "                         full.names=TRUE)\n",
    "\n",
    "##load all correlation files \n",
    "corr_sig_DT_list <- lapply(corr_sig_files,\n",
    "                       data.table::fread,\n",
    "                       nThread = 10) \n",
    "\n",
    "# merge all the pair table\n",
    "corr_sig_strict_DT <- do.call(rbind, corr_sig_DT_list)\n",
    "\n",
    "# add gene id column\n",
    "corr_sig_strict_DT$gene_id <- as.character(lapply(strsplit(corr_sig_strict_DT$transcript_1, ':'),\n",
    "                                                    `[`, 1))\n",
    "\n",
    "# add a pair id column\n",
    "corr_sig_strict_DT$pair_id <- paste0(corr_sig_strict_DT$transcript_1,\n",
    "                                \"~\",\n",
    "                              corr_sig_strict_DT$transcript_2)\n",
    "\n",
    "# get unique pairs\n",
    "corr_sig_DT <- unique(corr_sig_strict_DT[,c('transcript1_chrom','transcript_1',\n",
    "                                      'transcript_2','gene_id')])\n",
    "##-------------------------\n",
    "## Get tpms for transcripts\n",
    "##-------------------------\n",
    "gene_bidir_tpm_file <- \"/scratch/Users/rusi2317/projects/meta_analysis_qc_reviews/processed_data/normalized_counts/summary_gene_bidir_tpm_filtered.tsv.gz\"\n",
    "gene_bidir_tpm_filtered_summary <- data.table::fread(gene_bidir_tpm_file,\n",
    "                                                     sep='\\t')\n",
    "\n",
    "#get transcripts in 3 or more samples of high QC\n",
    "transcripts_counted <- subset(gene_bidir_tpm_filtered_summary, num_transcribed >=3)\n",
    "transcripts_counted$gene_id <-  as.character(lapply(strsplit(transcripts_counted$gene_transcript, ':'),\n",
    "                                                      `[`, 1))\n",
    "\n",
    "##-------------------------\n",
    "## Bidirectionals overlap\n",
    "## with crisprQTL\n",
    "##-------------------------\n",
    "\n",
    "gasperini_overlap_bed <- '/scratch/Users/rusi2317/projects/meta_analysis_qc_reviews/processed_data/known_enhancers_overlaps/gasperini_bidir_calls_overlap.bed'\n",
    "gasperini_bidirectionals <- data.table::fread(gasperini_overlap_bed)\n",
    "gasperini_bidirectionals$bidir_id <- paste0(gasperini_bidirectionals$V6,':',\n",
    "                                           gasperini_bidirectionals$V7,'-',\n",
    "                                           gasperini_bidirectionals$V8)\n",
    "\n",
    "print(paste(\"Pairs with enhancer overlapping bidirectionals =\", \n",
    "            nrow(unique(gasperini_bidirectionals[,c(1,2,3,4)]))))\n",
    "\n",
    "#filter for bidirectionals that were also transcribed (analyzed in correlations)\n",
    "gasperini_bidirectionals_transcribed <- gasperini_bidirectionals[gasperini_bidirectionals$bidir_id %in%\n",
    "                                                                 transcripts_counted$gene_transcript,]\n",
    "\n",
    "#transcripts_counted$gene_id\n",
    "#get unique CRISPR-QTL and Gene pairs\n",
    "gasperini_bidirectionals_unique <- unique(gasperini_bidirectionals_transcribed[,c('V1','V2','V3','V4')])\n",
    "print(paste(\"Pairs that overlap bidirectionals that are transcribed =\",\n",
    "            nrow(gasperini_bidirectionals_unique)))\n",
    "\n",
    "#Also get pairs for which genes are also transcribed\n",
    "gasperini_bidirectionals_unique_transcribed_nascent <- gasperini_bidirectionals_unique[gasperini_bidirectionals_unique$V4\n",
    "                                                                                       %in%\n",
    "                                                                                       transcripts_counted$gene_id,]\n",
    "\n",
    "print(paste(\"Pairs that overlap bidirectionals AND genes that are transcribed =\",\n",
    "            nrow(gasperini_bidirectionals_unique_transcribed_nascent)))\n",
    "\n",
    "##############################\n",
    "##Process the overlaps      ## \n",
    "##############################\n",
    "##-----------------------------------\n",
    "##1. split the pairs into chromosomes\n",
    "##-----------------------------------\n",
    "#i: get the chromosomes in all pairs\n",
    "chroms <- unique(corr_sig_DT$transcript1_chrom)\n",
    "\n",
    "#ii: create an empty list to add the tables\n",
    "sig_pairs_path_DT_list <- list()\n",
    "\n",
    "#iii: loop through each chromosomes and filter the pairs\n",
    "for (i in chroms){\n",
    "    \n",
    "    print(paste0(\"Subsetting \", (i)))\n",
    "    \n",
    "    sig_pairs_path_DT_chrom <- subset(corr_sig_DT, \n",
    "                                     transcript1_chrom == i)\n",
    "    \n",
    "    sig_pairs_path_DT_list[[i]] <- sig_pairs_path_DT_chrom\n",
    "    \n",
    "}\n",
    "\n",
    "\n",
    "##----------------------------------------\n",
    "##2. Randominize pairs in each chromosome\n",
    "##----------------------------------------\n",
    "#i: Generate a list of seeds (here 1 to 1000)\n",
    "range_seeds <- seq(1, 1000, 1)\n",
    "\n",
    "#ii: Initialize a list for populating the overlaps\n",
    "random_overlap <- list()\n",
    "\n",
    "for (i in 1:length(range_seeds)){\n",
    "    #iii: Shuffle genes using the seeds in list    \n",
    "    sig_pairs_shuffle_list <- lapply(sig_pairs_path_DT_list, \n",
    "                                     shuffle_genes, \n",
    "                                     seed=i)\n",
    " \n",
    "    #iv: combine the shuffled gene-bidir data.tables\n",
    "    sig_pairs_shuffle <- do.call(rbind, sig_pairs_shuffle_list)\n",
    "    \n",
    "    #v: Get overlaping pairs and store the values in list\n",
    "    random_overlap_dt <- map_overlaps(overlap_DT = gasperini_bidirectionals,\n",
    "                                      nascent_pairs = sig_pairs_shuffle)\n",
    "    \n",
    "    #vi: Count the overlaps\n",
    "    random_overlap[[i]] <- nrow(random_overlap_dt)\n",
    "    \n",
    "}\n",
    "\n",
    "random_overlap_df <- data.frame(seeds=c(1:length(range_seeds)),\n",
    "\t\t\t\trandom_overlap=as.numeric(random_overlap))\n",
    "random_overlap_df$percent_overlap_all <- (as.numeric(random_overlap_df$random_overlap)/664)*100\n",
    "random_overlap_df$percent_overlap_transcribed <- (as.numeric(random_overlap_df$random_overlap)/\n",
    "                                                  nrow(gasperini_bidirectionals_unique_transcribed_nascent))*100\n",
    "\n",
    "print(random_overlap_df)\n",
    "\n",
    "##-------------------------\n",
    "##3. Save overlap summaries\n",
    "##-------------------------\n",
    "\n",
    "#random_overlap_file <- \"/scratch/Users/rusi2317/projects/meta_analysis_qc_reviews/processed_data/known_enhancers_overlaps/gasperini_random_DBNascent_overlaps.tsv\"\n",
    "random_overlap_file <- \"/scratch/Users/rusi2317/projects/meta_analysis_qc_reviews/processed_data/known_enhancers_overlaps/gasperini_random_DBNascent_p0.01_overlaps.tsv\"\n",
    "\n",
    "data.table::fwrite(random_overlap_df, \n",
    "\t\t  random_overlap_file,\n",
    "                   sep=\"\\t\")\n",
    "\n",
    "print(sessionInfo())\n",
    "```"
   ]
  },
  {
   "cell_type": "markdown",
   "metadata": {},
   "source": [
    "`52_run_evaluated_pairs_with_crisprQTL.sbatch`\n",
    "\n",
    "```sh\n",
    "#!/bin/bash                                                                                                                                                      \n",
    "\n",
    "#SBATCH --mail-type=FAIL # Mail events (NONE, BEGIN, END, FAIL, ALL)                                                                                         \n",
    "#SBATCH --mail-user=rutendo.sigauke@ucdenver.edu                                                                                             \n",
    "#SBATCH --nodes=1                                                                                                                                                \n",
    "#SBATCH --ntasks=20 # Num of CPU                                                                                                  \n",
    "#SBATCH --time=24:00:00 # Time limit                                                                                                                \n",
    "#SBATCH --partition short                                                                                                                                        \n",
    "#SBATCH --mem=50gb # Memory                                                                                                                                 \n",
    "#SBATCH --output=/scratch/Users/rusi2317/projects/meta_analysis_qc_reviews/e_and_o/%x_%j.out\n",
    "#SBATCH --error=/scratch/Users/rusi2317/projects/meta_analysis_qc_reviews/e_and_o/%x_%j.err                                                                  \n",
    "\n",
    "#module load R/3.6.0\n",
    "#. /Users/rusi2317/miniconda3/etc/profile.d/conda.sh \n",
    "#conda activate gene_bidir_pairs\n",
    "module load R/4.4.0\n",
    "which R \n",
    "\n",
    "echo \"BEGIN: Correlations Filtering...................\"\n",
    "\n",
    "#################################\n",
    "###get sample paths            ##\n",
    "#################################\n",
    "\n",
    "##run filter for INTERgenic bidirectional pairs\n",
    "WD=/scratch/Users/rusi2317/projects/meta_analysis_qc_reviews\n",
    "HOME=/Users/rusi2317/projects/meta_analysis_qc_reviews\n",
    "\n",
    "rsync -av ${HOME}/processed_data/correlations_significant ${WD}/processed_data\n",
    "                  \n",
    "FILTER=${WD}/scripts/51_evaluated_pairs_with_crisprQTL.R\n",
    "\n",
    "##################################  \n",
    "###run script                   ##\n",
    "##################################\n",
    "\n",
    "Rscript ${FILTER}\n",
    "\n",
    "echo \"DONE: Filtering complete!.......................\"\n",
    "\n",
    "```"
   ]
  },
  {
   "cell_type": "code",
   "execution_count": 17,
   "metadata": {},
   "outputs": [
    {
     "data": {
      "text/html": [
       "<style>\n",
       ".list-inline {list-style: none; margin:0; padding: 0}\n",
       ".list-inline>li {display: inline-block}\n",
       ".list-inline>li:not(:last-child)::after {content: \"\\00b7\"; padding: 0 .5ex}\n",
       "</style>\n",
       "<ol class=list-inline><li>1000</li><li>4</li></ol>\n"
      ],
      "text/latex": [
       "\\begin{enumerate*}\n",
       "\\item 1000\n",
       "\\item 4\n",
       "\\end{enumerate*}\n"
      ],
      "text/markdown": [
       "1. 1000\n",
       "2. 4\n",
       "\n",
       "\n"
      ],
      "text/plain": [
       "[1] 1000    4"
      ]
     },
     "metadata": {},
     "output_type": "display_data"
    },
    {
     "data": {
      "text/html": [
       "<table class=\"dataframe\">\n",
       "<caption>A data.table: 6 × 4</caption>\n",
       "<thead>\n",
       "\t<tr><th scope=col>seeds</th><th scope=col>random_overlap</th><th scope=col>percent_overlap_all</th><th scope=col>percent_overlap_transcribed</th></tr>\n",
       "\t<tr><th scope=col>&lt;int&gt;</th><th scope=col>&lt;int&gt;</th><th scope=col>&lt;dbl&gt;</th><th scope=col>&lt;dbl&gt;</th></tr>\n",
       "</thead>\n",
       "<tbody>\n",
       "\t<tr><td>1</td><td>23</td><td>3.463855</td><td>4.1894353</td></tr>\n",
       "\t<tr><td>2</td><td> 9</td><td>1.355422</td><td>1.6393443</td></tr>\n",
       "\t<tr><td>3</td><td> 5</td><td>0.753012</td><td>0.9107468</td></tr>\n",
       "\t<tr><td>4</td><td>15</td><td>2.259036</td><td>2.7322404</td></tr>\n",
       "\t<tr><td>5</td><td>12</td><td>1.807229</td><td>2.1857923</td></tr>\n",
       "\t<tr><td>6</td><td>13</td><td>1.957831</td><td>2.3679417</td></tr>\n",
       "</tbody>\n",
       "</table>\n"
      ],
      "text/latex": [
       "A data.table: 6 × 4\n",
       "\\begin{tabular}{llll}\n",
       " seeds & random\\_overlap & percent\\_overlap\\_all & percent\\_overlap\\_transcribed\\\\\n",
       " <int> & <int> & <dbl> & <dbl>\\\\\n",
       "\\hline\n",
       "\t 1 & 23 & 3.463855 & 4.1894353\\\\\n",
       "\t 2 &  9 & 1.355422 & 1.6393443\\\\\n",
       "\t 3 &  5 & 0.753012 & 0.9107468\\\\\n",
       "\t 4 & 15 & 2.259036 & 2.7322404\\\\\n",
       "\t 5 & 12 & 1.807229 & 2.1857923\\\\\n",
       "\t 6 & 13 & 1.957831 & 2.3679417\\\\\n",
       "\\end{tabular}\n"
      ],
      "text/markdown": [
       "\n",
       "A data.table: 6 × 4\n",
       "\n",
       "| seeds &lt;int&gt; | random_overlap &lt;int&gt; | percent_overlap_all &lt;dbl&gt; | percent_overlap_transcribed &lt;dbl&gt; |\n",
       "|---|---|---|---|\n",
       "| 1 | 23 | 3.463855 | 4.1894353 |\n",
       "| 2 |  9 | 1.355422 | 1.6393443 |\n",
       "| 3 |  5 | 0.753012 | 0.9107468 |\n",
       "| 4 | 15 | 2.259036 | 2.7322404 |\n",
       "| 5 | 12 | 1.807229 | 2.1857923 |\n",
       "| 6 | 13 | 1.957831 | 2.3679417 |\n",
       "\n"
      ],
      "text/plain": [
       "  seeds random_overlap percent_overlap_all percent_overlap_transcribed\n",
       "1 1     23             3.463855            4.1894353                  \n",
       "2 2      9             1.355422            1.6393443                  \n",
       "3 3      5             0.753012            0.9107468                  \n",
       "4 4     15             2.259036            2.7322404                  \n",
       "5 5     12             1.807229            2.1857923                  \n",
       "6 6     13             1.957831            2.3679417                  "
      ]
     },
     "metadata": {},
     "output_type": "display_data"
    }
   ],
   "source": [
    "##the random pairs calculated in the script\n",
    "random_overlaps_1000 <- data.table::fread(\"/scratch/Users/rusi2317/projects/meta_analysis_qc_reviews/processed_data/known_enhancers_overlaps/gasperini_random_DBNascent_p0.01_overlaps.tsv\")\n",
    "dim(random_overlaps_1000)\n",
    "head(random_overlaps_1000)"
   ]
  },
  {
   "cell_type": "markdown",
   "metadata": {},
   "source": [
    "# Analysis"
   ]
  },
  {
   "cell_type": "markdown",
   "metadata": {},
   "source": [
    "## Randomized pairs"
   ]
  },
  {
   "cell_type": "code",
   "execution_count": 18,
   "metadata": {},
   "outputs": [
    {
     "name": "stdout",
     "output_type": "stream",
     "text": [
      "[1] \"Subsetting chr10\"\n",
      "[1] \"Subsetting chr11\"\n",
      "[1] \"Subsetting chr12\"\n",
      "[1] \"Subsetting chr13\"\n",
      "[1] \"Subsetting chr14\"\n",
      "[1] \"Subsetting chr15\"\n",
      "[1] \"Subsetting chr16\"\n",
      "[1] \"Subsetting chr17\"\n",
      "[1] \"Subsetting chr18\"\n",
      "[1] \"Subsetting chr19\"\n",
      "[1] \"Subsetting chr1\"\n",
      "[1] \"Subsetting chr20\"\n",
      "[1] \"Subsetting chr21\"\n",
      "[1] \"Subsetting chr22\"\n",
      "[1] \"Subsetting chr2\"\n",
      "[1] \"Subsetting chr3\"\n",
      "[1] \"Subsetting chr4\"\n",
      "[1] \"Subsetting chr5\"\n",
      "[1] \"Subsetting chr6\"\n",
      "[1] \"Subsetting chr7\"\n",
      "[1] \"Subsetting chr8\"\n",
      "[1] \"Subsetting chr9\"\n",
      "[1] \"Subsetting chrX\"\n",
      "[1] \"Subsetting chrY\"\n"
     ]
    }
   ],
   "source": [
    "#1: split the pairs into chromosomes\n",
    "#i: get the chromosomes in all pairs\n",
    "chroms <- unique(corr_sig_DT$transcript1_chrom)\n",
    "\n",
    "#ii: create an empty list to add the tables\n",
    "sig_pairs_path_DT_list <- list()\n",
    "\n",
    "#iii: loop through each chromosomes and filter the pairs\n",
    "for (i in chroms){\n",
    "    \n",
    "    print(paste0(\"Subsetting \", (i)))\n",
    "    \n",
    "    sig_pairs_path_DT_chrom <- subset(corr_sig_DT, \n",
    "                                     transcript1_chrom == i)\n",
    "    \n",
    "    sig_pairs_path_DT_list[[i]] <- sig_pairs_path_DT_chrom\n",
    "    \n",
    "}"
   ]
  },
  {
   "cell_type": "code",
   "execution_count": 19,
   "metadata": {},
   "outputs": [
    {
     "data": {
      "text/html": [
       "<style>\n",
       ".list-inline {list-style: none; margin:0; padding: 0}\n",
       ".list-inline>li {display: inline-block}\n",
       ".list-inline>li:not(:last-child)::after {content: \"\\00b7\"; padding: 0 .5ex}\n",
       "</style>\n",
       "<ol class=list-inline><li>12697055</li><li>24</li></ol>\n"
      ],
      "text/latex": [
       "\\begin{enumerate*}\n",
       "\\item 12697055\n",
       "\\item 24\n",
       "\\end{enumerate*}\n"
      ],
      "text/markdown": [
       "1. 12697055\n",
       "2. 24\n",
       "\n",
       "\n"
      ],
      "text/plain": [
       "[1] 12697055       24"
      ]
     },
     "metadata": {},
     "output_type": "display_data"
    },
    {
     "data": {
      "text/html": [
       "<table class=\"dataframe\">\n",
       "<caption>A data.table: 3 × 24</caption>\n",
       "<thead>\n",
       "\t<tr><th scope=col>transcript1_chrom</th><th scope=col>transcript1_start</th><th scope=col>transcript1_stop</th><th scope=col>transcript_1</th><th scope=col>transcript1_score</th><th scope=col>transcript1_strand</th><th scope=col>transcript2_chrom</th><th scope=col>transcript2_start</th><th scope=col>transcript2_stop</th><th scope=col>transcript_2</th><th scope=col>⋯</th><th scope=col>adj_p_BH</th><th scope=col>nObs</th><th scope=col>t</th><th scope=col>distance_tss</th><th scope=col>distance_tes</th><th scope=col>position</th><th scope=col>tissue</th><th scope=col>percent_transcribed_both</th><th scope=col>bidirectional_location</th><th scope=col>pair_id</th></tr>\n",
       "\t<tr><th scope=col>&lt;chr&gt;</th><th scope=col>&lt;int&gt;</th><th scope=col>&lt;int&gt;</th><th scope=col>&lt;chr&gt;</th><th scope=col>&lt;chr&gt;</th><th scope=col>&lt;chr&gt;</th><th scope=col>&lt;chr&gt;</th><th scope=col>&lt;int&gt;</th><th scope=col>&lt;int&gt;</th><th scope=col>&lt;chr&gt;</th><th scope=col>⋯</th><th scope=col>&lt;dbl&gt;</th><th scope=col>&lt;int&gt;</th><th scope=col>&lt;dbl&gt;</th><th scope=col>&lt;dbl&gt;</th><th scope=col>&lt;dbl&gt;</th><th scope=col>&lt;chr&gt;</th><th scope=col>&lt;chr&gt;</th><th scope=col>&lt;dbl&gt;</th><th scope=col>&lt;chr&gt;</th><th scope=col>&lt;chr&gt;</th></tr>\n",
       "</thead>\n",
       "<tbody>\n",
       "\t<tr><td>chr10</td><td>46887</td><td>48546</td><td>LOC107984265:NR_160733.1</td><td>.</td><td>-</td><td>chr10</td><td>749695</td><td>750013</td><td>chr10:749695-750013</td><td>⋯</td><td>0.0003002834</td><td> 4</td><td>188.756638</td><td>-701308</td><td>-702967</td><td>upstream</td><td>blood</td><td> 1.801802</td><td>intergenic</td><td>TUBB8:NM_177987.3~chr10:749695-750013</td></tr>\n",
       "\t<tr><td>chr10</td><td>46887</td><td>48546</td><td>OPALIN:NM_001284323.2   </td><td>.</td><td>-</td><td>chr10</td><td>969848</td><td>970172</td><td>chr10:969848-970172</td><td>⋯</td><td>0.0026924465</td><td>40</td><td>  3.935736</td><td>-921464</td><td>-923123</td><td>upstream</td><td>blood</td><td>18.018018</td><td>intergenic</td><td>TUBB8:NM_177987.3~chr10:969848-970172</td></tr>\n",
       "\t<tr><td>chr10</td><td>46887</td><td>48546</td><td>CAMK1D:NM_001351032.2   </td><td>.</td><td>-</td><td>chr10</td><td>972700</td><td>973240</td><td>chr10:972700-973240</td><td>⋯</td><td>0.0018123629</td><td>47</td><td>  4.024305</td><td>-924424</td><td>-926083</td><td>upstream</td><td>blood</td><td>21.171171</td><td>intergenic</td><td>TUBB8:NM_177987.3~chr10:972700-973240</td></tr>\n",
       "</tbody>\n",
       "</table>\n"
      ],
      "text/latex": [
       "A data.table: 3 × 24\n",
       "\\begin{tabular}{lllllllllllllllllllll}\n",
       " transcript1\\_chrom & transcript1\\_start & transcript1\\_stop & transcript\\_1 & transcript1\\_score & transcript1\\_strand & transcript2\\_chrom & transcript2\\_start & transcript2\\_stop & transcript\\_2 & ⋯ & adj\\_p\\_BH & nObs & t & distance\\_tss & distance\\_tes & position & tissue & percent\\_transcribed\\_both & bidirectional\\_location & pair\\_id\\\\\n",
       " <chr> & <int> & <int> & <chr> & <chr> & <chr> & <chr> & <int> & <int> & <chr> & ⋯ & <dbl> & <int> & <dbl> & <dbl> & <dbl> & <chr> & <chr> & <dbl> & <chr> & <chr>\\\\\n",
       "\\hline\n",
       "\t chr10 & 46887 & 48546 & LOC107984265:NR\\_160733.1 & . & - & chr10 & 749695 & 750013 & chr10:749695-750013 & ⋯ & 0.0003002834 &  4 & 188.756638 & -701308 & -702967 & upstream & blood &  1.801802 & intergenic & TUBB8:NM\\_177987.3\\textasciitilde{}chr10:749695-750013\\\\\n",
       "\t chr10 & 46887 & 48546 & OPALIN:NM\\_001284323.2    & . & - & chr10 & 969848 & 970172 & chr10:969848-970172 & ⋯ & 0.0026924465 & 40 &   3.935736 & -921464 & -923123 & upstream & blood & 18.018018 & intergenic & TUBB8:NM\\_177987.3\\textasciitilde{}chr10:969848-970172\\\\\n",
       "\t chr10 & 46887 & 48546 & CAMK1D:NM\\_001351032.2    & . & - & chr10 & 972700 & 973240 & chr10:972700-973240 & ⋯ & 0.0018123629 & 47 &   4.024305 & -924424 & -926083 & upstream & blood & 21.171171 & intergenic & TUBB8:NM\\_177987.3\\textasciitilde{}chr10:972700-973240\\\\\n",
       "\\end{tabular}\n"
      ],
      "text/markdown": [
       "\n",
       "A data.table: 3 × 24\n",
       "\n",
       "| transcript1_chrom &lt;chr&gt; | transcript1_start &lt;int&gt; | transcript1_stop &lt;int&gt; | transcript_1 &lt;chr&gt; | transcript1_score &lt;chr&gt; | transcript1_strand &lt;chr&gt; | transcript2_chrom &lt;chr&gt; | transcript2_start &lt;int&gt; | transcript2_stop &lt;int&gt; | transcript_2 &lt;chr&gt; | ⋯ ⋯ | adj_p_BH &lt;dbl&gt; | nObs &lt;int&gt; | t &lt;dbl&gt; | distance_tss &lt;dbl&gt; | distance_tes &lt;dbl&gt; | position &lt;chr&gt; | tissue &lt;chr&gt; | percent_transcribed_both &lt;dbl&gt; | bidirectional_location &lt;chr&gt; | pair_id &lt;chr&gt; |\n",
       "|---|---|---|---|---|---|---|---|---|---|---|---|---|---|---|---|---|---|---|---|---|\n",
       "| chr10 | 46887 | 48546 | LOC107984265:NR_160733.1 | . | - | chr10 | 749695 | 750013 | chr10:749695-750013 | ⋯ | 0.0003002834 |  4 | 188.756638 | -701308 | -702967 | upstream | blood |  1.801802 | intergenic | TUBB8:NM_177987.3~chr10:749695-750013 |\n",
       "| chr10 | 46887 | 48546 | OPALIN:NM_001284323.2    | . | - | chr10 | 969848 | 970172 | chr10:969848-970172 | ⋯ | 0.0026924465 | 40 |   3.935736 | -921464 | -923123 | upstream | blood | 18.018018 | intergenic | TUBB8:NM_177987.3~chr10:969848-970172 |\n",
       "| chr10 | 46887 | 48546 | CAMK1D:NM_001351032.2    | . | - | chr10 | 972700 | 973240 | chr10:972700-973240 | ⋯ | 0.0018123629 | 47 |   4.024305 | -924424 | -926083 | upstream | blood | 21.171171 | intergenic | TUBB8:NM_177987.3~chr10:972700-973240 |\n",
       "\n"
      ],
      "text/plain": [
       "  transcript1_chrom transcript1_start transcript1_stop transcript_1            \n",
       "1 chr10             46887             48546            LOC107984265:NR_160733.1\n",
       "2 chr10             46887             48546            OPALIN:NM_001284323.2   \n",
       "3 chr10             46887             48546            CAMK1D:NM_001351032.2   \n",
       "  transcript1_score transcript1_strand transcript2_chrom transcript2_start\n",
       "1 .                 -                  chr10             749695           \n",
       "2 .                 -                  chr10             969848           \n",
       "3 .                 -                  chr10             972700           \n",
       "  transcript2_stop transcript_2        ⋯ adj_p_BH     nObs t         \n",
       "1 750013           chr10:749695-750013 ⋯ 0.0003002834  4   188.756638\n",
       "2 970172           chr10:969848-970172 ⋯ 0.0026924465 40     3.935736\n",
       "3 973240           chr10:972700-973240 ⋯ 0.0018123629 47     4.024305\n",
       "  distance_tss distance_tes position tissue percent_transcribed_both\n",
       "1 -701308      -702967      upstream blood   1.801802               \n",
       "2 -921464      -923123      upstream blood  18.018018               \n",
       "3 -924424      -926083      upstream blood  21.171171               \n",
       "  bidirectional_location pair_id                              \n",
       "1 intergenic             TUBB8:NM_177987.3~chr10:749695-750013\n",
       "2 intergenic             TUBB8:NM_177987.3~chr10:969848-970172\n",
       "3 intergenic             TUBB8:NM_177987.3~chr10:972700-973240"
      ]
     },
     "metadata": {},
     "output_type": "display_data"
    }
   ],
   "source": [
    "## Get a shuffled gene list\n",
    "## This is done for list in each chromosome (hence before merge lists)\n",
    "sig_pairs_path_DT_shuffle_list <- lapply(sig_pairs_path_DT_list, \n",
    "                                         shuffle_genes)\n",
    "\n",
    "## merge the shuffled genes\n",
    "sig_pairs_path_DT_shuffle <- do.call(rbind, sig_pairs_path_DT_shuffle_list)\n",
    "dim(sig_pairs_path_DT_shuffle)\n",
    "head(sig_pairs_path_DT_shuffle, 3)"
   ]
  },
  {
   "cell_type": "markdown",
   "metadata": {},
   "source": [
    "## Gasperini pair overlaps"
   ]
  },
  {
   "cell_type": "markdown",
   "metadata": {},
   "source": [
    "Overlap between Gasperini crispr-QTLs with bidirectionals was done with `bedtools`.\n",
    "\n",
    "`16_bidir_gene_overlap_Gasperini2019.sbatch`\n",
    "\n"
   ]
  },
  {
   "cell_type": "markdown",
   "metadata": {},
   "source": [
    "```sh\n",
    "#!/bin/bash\n",
    "\n",
    "#SBATCH --job-name=nascent_pairs_overlap_gasperini2019\n",
    "#SBATCH --output=/scratch/Users/rusi2317/e_and_o/%x_%j.out\n",
    "#SBATCH --error=/scratch/Users/rusi2317/e_and_o/%x_%j.err\n",
    "#SBATCH --time=00:10:00\n",
    "#SBATCH --nodes=1\n",
    "#SBATCH --ntasks=1\n",
    "#SBATCH --mem=100MB\n",
    "#SBATCH --partition short\n",
    "#SBATCH --mail-type=FAIL\n",
    "#SBATCH --mail-user=rutendo.sigauke@cuanschutz.edu\n",
    "\n",
    "module purge\n",
    "module load bedtools/2.28.0\n",
    "\n",
    "###########################\n",
    "##initialize files       ## \n",
    "###########################\n",
    "wd=/scratch/Users/rusi2317/projects/meta_analysis_qc/hg38\n",
    "gasperini=${wd}/cre_gene_pairs/Gasperini2019/Gasperini_2019_enhancer_gene_pairs_hg38_sorted.bed\n",
    "bidirs=${wd}/processed_data/correlations/inter/significant\n",
    "outdir=${wd}/processed_data/gasperini_nascent_pairs\n",
    "\n",
    "mkdir -p ${outdir}\n",
    "\n",
    "bidirectional_calls=/scratch/Shares/dowell/dbnascent/out/meta_analysis/mumerge/bidirectionals_dreg_tfit/hg38_tfit_dreg_bidirectionals.bed\n",
    "\n",
    "###########################\n",
    "##Get overlaps ############\n",
    "###########################\n",
    "#1: get significant pairs from home directory\n",
    "\n",
    "\n",
    "echo \"DONE!\"\n",
    "\n",
    "```"
   ]
  },
  {
   "cell_type": "markdown",
   "metadata": {},
   "source": [
    "### How many CRISPR-QTLs overlap bidirectional transcripts"
   ]
  },
  {
   "cell_type": "markdown",
   "metadata": {},
   "source": [
    "Total pairs from CRISP-QTLs = `664`"
   ]
  },
  {
   "cell_type": "code",
   "execution_count": 20,
   "metadata": {},
   "outputs": [
    {
     "data": {
      "text/html": [
       "<table class=\"dataframe\">\n",
       "<caption>A data.table: 3 × 12</caption>\n",
       "<thead>\n",
       "\t<tr><th scope=col>V1</th><th scope=col>V2</th><th scope=col>V3</th><th scope=col>V4</th><th scope=col>V5</th><th scope=col>V6</th><th scope=col>V7</th><th scope=col>V8</th><th scope=col>V9</th><th scope=col>V10</th><th scope=col>V11</th><th scope=col>bidir_id</th></tr>\n",
       "\t<tr><th scope=col>&lt;chr&gt;</th><th scope=col>&lt;int&gt;</th><th scope=col>&lt;int&gt;</th><th scope=col>&lt;chr&gt;</th><th scope=col>&lt;lgl&gt;</th><th scope=col>&lt;chr&gt;</th><th scope=col>&lt;int&gt;</th><th scope=col>&lt;int&gt;</th><th scope=col>&lt;chr&gt;</th><th scope=col>&lt;int&gt;</th><th scope=col>&lt;chr&gt;</th><th scope=col>&lt;chr&gt;</th></tr>\n",
       "</thead>\n",
       "<tbody>\n",
       "\t<tr><td>chr1</td><td> 1134850</td><td> 1135934</td><td>NADK</td><td>FALSE</td><td>chr1</td><td> 1134922</td><td> 1135218</td><td>tfit</td><td> 1</td><td>.</td><td>chr1:1134922-1135218  </td></tr>\n",
       "\t<tr><td>chr1</td><td> 1134850</td><td> 1135934</td><td>NADK</td><td>FALSE</td><td>chr1</td><td> 1135575</td><td> 1136169</td><td>dreg</td><td>35</td><td>.</td><td>chr1:1135575-1136169  </td></tr>\n",
       "\t<tr><td>chr1</td><td>12038249</td><td>12039371</td><td>MIIP</td><td>FALSE</td><td>chr1</td><td>12038675</td><td>12039055</td><td>dreg</td><td> 5</td><td>.</td><td>chr1:12038675-12039055</td></tr>\n",
       "</tbody>\n",
       "</table>\n"
      ],
      "text/latex": [
       "A data.table: 3 × 12\n",
       "\\begin{tabular}{llllllllllll}\n",
       " V1 & V2 & V3 & V4 & V5 & V6 & V7 & V8 & V9 & V10 & V11 & bidir\\_id\\\\\n",
       " <chr> & <int> & <int> & <chr> & <lgl> & <chr> & <int> & <int> & <chr> & <int> & <chr> & <chr>\\\\\n",
       "\\hline\n",
       "\t chr1 &  1134850 &  1135934 & NADK & FALSE & chr1 &  1134922 &  1135218 & tfit &  1 & . & chr1:1134922-1135218  \\\\\n",
       "\t chr1 &  1134850 &  1135934 & NADK & FALSE & chr1 &  1135575 &  1136169 & dreg & 35 & . & chr1:1135575-1136169  \\\\\n",
       "\t chr1 & 12038249 & 12039371 & MIIP & FALSE & chr1 & 12038675 & 12039055 & dreg &  5 & . & chr1:12038675-12039055\\\\\n",
       "\\end{tabular}\n"
      ],
      "text/markdown": [
       "\n",
       "A data.table: 3 × 12\n",
       "\n",
       "| V1 &lt;chr&gt; | V2 &lt;int&gt; | V3 &lt;int&gt; | V4 &lt;chr&gt; | V5 &lt;lgl&gt; | V6 &lt;chr&gt; | V7 &lt;int&gt; | V8 &lt;int&gt; | V9 &lt;chr&gt; | V10 &lt;int&gt; | V11 &lt;chr&gt; | bidir_id &lt;chr&gt; |\n",
       "|---|---|---|---|---|---|---|---|---|---|---|---|\n",
       "| chr1 |  1134850 |  1135934 | NADK | FALSE | chr1 |  1134922 |  1135218 | tfit |  1 | . | chr1:1134922-1135218   |\n",
       "| chr1 |  1134850 |  1135934 | NADK | FALSE | chr1 |  1135575 |  1136169 | dreg | 35 | . | chr1:1135575-1136169   |\n",
       "| chr1 | 12038249 | 12039371 | MIIP | FALSE | chr1 | 12038675 | 12039055 | dreg |  5 | . | chr1:12038675-12039055 |\n",
       "\n"
      ],
      "text/plain": [
       "  V1   V2       V3       V4   V5    V6   V7       V8       V9   V10 V11\n",
       "1 chr1  1134850  1135934 NADK FALSE chr1  1134922  1135218 tfit  1  .  \n",
       "2 chr1  1134850  1135934 NADK FALSE chr1  1135575  1136169 dreg 35  .  \n",
       "3 chr1 12038249 12039371 MIIP FALSE chr1 12038675 12039055 dreg  5  .  \n",
       "  bidir_id              \n",
       "1 chr1:1134922-1135218  \n",
       "2 chr1:1135575-1136169  \n",
       "3 chr1:12038675-12039055"
      ]
     },
     "metadata": {},
     "output_type": "display_data"
    },
    {
     "data": {
      "text/html": [
       "644"
      ],
      "text/latex": [
       "644"
      ],
      "text/markdown": [
       "644"
      ],
      "text/plain": [
       "[1] 644"
      ]
     },
     "metadata": {},
     "output_type": "display_data"
    },
    {
     "name": "stdout",
     "output_type": "stream",
     "text": [
      "[1] \"Pairs with enhancer overlapping bidirectionals = 579\"\n"
     ]
    }
   ],
   "source": [
    "gasperini_bidirectionals <- data.table::fread('/scratch/Users/rusi2317/projects/meta_analysis_qc_reviews/processed_data/known_enhancers_overlaps/gasperini_bidir_calls_overlap.bed')\n",
    "gasperini_bidirectionals$bidir_id <- paste0(gasperini_bidirectionals$V6,':',\n",
    "                                           gasperini_bidirectionals$V7,'-',\n",
    "                                           gasperini_bidirectionals$V8)\n",
    "head(gasperini_bidirectionals, 3)\n",
    "nrow(gasperini_bidirectionals)\n",
    "print(paste(\"Pairs with enhancer overlapping bidirectionals =\", \n",
    "            nrow(unique(gasperini_bidirectionals[,c(1,2,3,4)]))))"
   ]
  },
  {
   "cell_type": "code",
   "execution_count": 21,
   "metadata": {},
   "outputs": [
    {
     "data": {
      "text/html": [
       "<table class=\"dataframe\">\n",
       "<caption>A data.table: 3 × 4</caption>\n",
       "<thead>\n",
       "\t<tr><th scope=col>V1</th><th scope=col>V2</th><th scope=col>V3</th><th scope=col>V4</th></tr>\n",
       "\t<tr><th scope=col>&lt;chr&gt;</th><th scope=col>&lt;int&gt;</th><th scope=col>&lt;int&gt;</th><th scope=col>&lt;chr&gt;</th></tr>\n",
       "</thead>\n",
       "<tbody>\n",
       "\t<tr><td>chr1</td><td> 1134850</td><td> 1135934</td><td>NADK</td></tr>\n",
       "\t<tr><td>chr1</td><td>12038249</td><td>12039371</td><td>MIIP</td></tr>\n",
       "\t<tr><td>chr1</td><td>25933356</td><td>25934013</td><td>CD52</td></tr>\n",
       "</tbody>\n",
       "</table>\n"
      ],
      "text/latex": [
       "A data.table: 3 × 4\n",
       "\\begin{tabular}{llll}\n",
       " V1 & V2 & V3 & V4\\\\\n",
       " <chr> & <int> & <int> & <chr>\\\\\n",
       "\\hline\n",
       "\t chr1 &  1134850 &  1135934 & NADK\\\\\n",
       "\t chr1 & 12038249 & 12039371 & MIIP\\\\\n",
       "\t chr1 & 25933356 & 25934013 & CD52\\\\\n",
       "\\end{tabular}\n"
      ],
      "text/markdown": [
       "\n",
       "A data.table: 3 × 4\n",
       "\n",
       "| V1 &lt;chr&gt; | V2 &lt;int&gt; | V3 &lt;int&gt; | V4 &lt;chr&gt; |\n",
       "|---|---|---|---|\n",
       "| chr1 |  1134850 |  1135934 | NADK |\n",
       "| chr1 | 12038249 | 12039371 | MIIP |\n",
       "| chr1 | 25933356 | 25934013 | CD52 |\n",
       "\n"
      ],
      "text/plain": [
       "  V1   V2       V3       V4  \n",
       "1 chr1  1134850  1135934 NADK\n",
       "2 chr1 12038249 12039371 MIIP\n",
       "3 chr1 25933356 25934013 CD52"
      ]
     },
     "metadata": {},
     "output_type": "display_data"
    },
    {
     "name": "stdout",
     "output_type": "stream",
     "text": [
      "[1] \"Pairs that overlap bidirectionals that are transcribed = 579\"\n"
     ]
    }
   ],
   "source": [
    "#filter for bidirectionals that were intergenic and also transcribed (analyzed in correlations)\n",
    "gasperini_bidirectionals_transcribed <- gasperini_bidirectionals[gasperini_bidirectionals$bidir_id %in%\n",
    "                                                                 transcripts_counted$gene_transcript,]\n",
    "\n",
    "#transcripts_counted$gene_id\n",
    "#get unique CRISPR-QTL and Gene pairs\n",
    "gasperini_bidirectionals_unique <- unique(gasperini_bidirectionals_transcribed[,c('V1','V2','V3','V4')])\n",
    "head(gasperini_bidirectionals_unique, 3)\n",
    "print(paste(\"Pairs that overlap bidirectionals that are transcribed =\",\n",
    "            nrow(gasperini_bidirectionals_unique)))"
   ]
  },
  {
   "cell_type": "code",
   "execution_count": 22,
   "metadata": {},
   "outputs": [
    {
     "data": {
      "text/html": [
       "<table class=\"dataframe\">\n",
       "<caption>A data.table: 3 × 4</caption>\n",
       "<thead>\n",
       "\t<tr><th scope=col>V1</th><th scope=col>V2</th><th scope=col>V3</th><th scope=col>V4</th></tr>\n",
       "\t<tr><th scope=col>&lt;chr&gt;</th><th scope=col>&lt;int&gt;</th><th scope=col>&lt;int&gt;</th><th scope=col>&lt;chr&gt;</th></tr>\n",
       "</thead>\n",
       "<tbody>\n",
       "\t<tr><td>chr1</td><td> 1134850</td><td> 1135934</td><td>NADK</td></tr>\n",
       "\t<tr><td>chr1</td><td>12038249</td><td>12039371</td><td>MIIP</td></tr>\n",
       "\t<tr><td>chr1</td><td>25933356</td><td>25934013</td><td>CD52</td></tr>\n",
       "</tbody>\n",
       "</table>\n"
      ],
      "text/latex": [
       "A data.table: 3 × 4\n",
       "\\begin{tabular}{llll}\n",
       " V1 & V2 & V3 & V4\\\\\n",
       " <chr> & <int> & <int> & <chr>\\\\\n",
       "\\hline\n",
       "\t chr1 &  1134850 &  1135934 & NADK\\\\\n",
       "\t chr1 & 12038249 & 12039371 & MIIP\\\\\n",
       "\t chr1 & 25933356 & 25934013 & CD52\\\\\n",
       "\\end{tabular}\n"
      ],
      "text/markdown": [
       "\n",
       "A data.table: 3 × 4\n",
       "\n",
       "| V1 &lt;chr&gt; | V2 &lt;int&gt; | V3 &lt;int&gt; | V4 &lt;chr&gt; |\n",
       "|---|---|---|---|\n",
       "| chr1 |  1134850 |  1135934 | NADK |\n",
       "| chr1 | 12038249 | 12039371 | MIIP |\n",
       "| chr1 | 25933356 | 25934013 | CD52 |\n",
       "\n"
      ],
      "text/plain": [
       "  V1   V2       V3       V4  \n",
       "1 chr1  1134850  1135934 NADK\n",
       "2 chr1 12038249 12039371 MIIP\n",
       "3 chr1 25933356 25934013 CD52"
      ]
     },
     "metadata": {},
     "output_type": "display_data"
    },
    {
     "name": "stdout",
     "output_type": "stream",
     "text": [
      "[1] \"Pairs that overlap bidirectionals AND genes that are transcribed = 549\"\n"
     ]
    }
   ],
   "source": [
    "#Also get pairs for which genes are also transcribed\n",
    "gasperini_bidirectionals_unique_transcribed_nascent <- gasperini_bidirectionals_unique[gasperini_bidirectionals_unique$V4\n",
    "                                                                                       %in%\n",
    "                                                                                       transcripts_counted$gene_id,]\n",
    "head(gasperini_bidirectionals_unique_transcribed_nascent, 3)\n",
    "print(paste(\"Pairs that overlap bidirectionals AND genes that are transcribed =\",\n",
    "            nrow(gasperini_bidirectionals_unique_transcribed_nascent)))"
   ]
  },
  {
   "cell_type": "code",
   "execution_count": 23,
   "metadata": {},
   "outputs": [
    {
     "data": {
      "text/html": [
       "549"
      ],
      "text/latex": [
       "549"
      ],
      "text/markdown": [
       "549"
      ],
      "text/plain": [
       "[1] 549"
      ]
     },
     "metadata": {},
     "output_type": "display_data"
    }
   ],
   "source": [
    "nrow(gasperini_bidirectionals_unique_transcribed_nascent)"
   ]
  },
  {
   "cell_type": "code",
   "execution_count": 24,
   "metadata": {},
   "outputs": [
    {
     "data": {
      "text/html": [
       "38.0692167577413"
      ],
      "text/latex": [
       "38.0692167577413"
      ],
      "text/markdown": [
       "38.0692167577413"
      ],
      "text/plain": [
       "[1] 38.06922"
      ]
     },
     "metadata": {},
     "output_type": "display_data"
    }
   ],
   "source": [
    "(209/549)*100"
   ]
  },
  {
   "cell_type": "markdown",
   "metadata": {},
   "source": [
    "### Get overlaps with tissue pairs"
   ]
  },
  {
   "cell_type": "code",
   "execution_count": 25,
   "metadata": {},
   "outputs": [
    {
     "data": {
      "text/html": [
       "<table class=\"dataframe\">\n",
       "<caption>A data.table: 3 × 15</caption>\n",
       "<thead>\n",
       "\t<tr><th scope=col>bidirid</th><th scope=col>V1</th><th scope=col>V2</th><th scope=col>V3</th><th scope=col>V4</th><th scope=col>V5</th><th scope=col>V6</th><th scope=col>V7</th><th scope=col>V8</th><th scope=col>V9</th><th scope=col>V10</th><th scope=col>V11</th><th scope=col>bidir_id</th><th scope=col>transcript_1</th><th scope=col>gene_id</th></tr>\n",
       "\t<tr><th scope=col>&lt;chr&gt;</th><th scope=col>&lt;chr&gt;</th><th scope=col>&lt;int&gt;</th><th scope=col>&lt;int&gt;</th><th scope=col>&lt;chr&gt;</th><th scope=col>&lt;lgl&gt;</th><th scope=col>&lt;chr&gt;</th><th scope=col>&lt;int&gt;</th><th scope=col>&lt;int&gt;</th><th scope=col>&lt;chr&gt;</th><th scope=col>&lt;int&gt;</th><th scope=col>&lt;chr&gt;</th><th scope=col>&lt;chr&gt;</th><th scope=col>&lt;chr&gt;</th><th scope=col>&lt;chr&gt;</th></tr>\n",
       "</thead>\n",
       "<tbody>\n",
       "\t<tr><td>chr10:103197161-103197557</td><td>chr10</td><td>103197122</td><td>103197603</td><td>NT5C2 </td><td>FALSE</td><td>chr10</td><td>103197161</td><td>103197557</td><td>tfit,dreg</td><td>180</td><td>.</td><td>chr10:103197161-103197557</td><td>NT5C2:NM_001351174.1 </td><td>NT5C2 </td></tr>\n",
       "\t<tr><td>chr10:104339689-104340307</td><td>chr10</td><td>104339608</td><td>104341027</td><td>ITPRIP</td><td> TRUE</td><td>chr10</td><td>104339689</td><td>104340307</td><td>dreg     </td><td>170</td><td>.</td><td>chr10:104339689-104340307</td><td>ITPRIP:NM_001272012.2</td><td>ITPRIP</td></tr>\n",
       "\t<tr><td>chr10:11710704-11711058  </td><td>chr10</td><td> 11710630</td><td> 11711089</td><td>USP6NL</td><td> TRUE</td><td>chr10</td><td> 11710704</td><td> 11711058</td><td>tfit,dreg</td><td>  1</td><td>.</td><td>chr10:11710704-11711058  </td><td>USP6NL:NR_125732.2   </td><td>USP6NL</td></tr>\n",
       "</tbody>\n",
       "</table>\n"
      ],
      "text/latex": [
       "A data.table: 3 × 15\n",
       "\\begin{tabular}{lllllllllllllll}\n",
       " bidirid & V1 & V2 & V3 & V4 & V5 & V6 & V7 & V8 & V9 & V10 & V11 & bidir\\_id & transcript\\_1 & gene\\_id\\\\\n",
       " <chr> & <chr> & <int> & <int> & <chr> & <lgl> & <chr> & <int> & <int> & <chr> & <int> & <chr> & <chr> & <chr> & <chr>\\\\\n",
       "\\hline\n",
       "\t chr10:103197161-103197557 & chr10 & 103197122 & 103197603 & NT5C2  & FALSE & chr10 & 103197161 & 103197557 & tfit,dreg & 180 & . & chr10:103197161-103197557 & NT5C2:NM\\_001351174.1  & NT5C2 \\\\\n",
       "\t chr10:104339689-104340307 & chr10 & 104339608 & 104341027 & ITPRIP &  TRUE & chr10 & 104339689 & 104340307 & dreg      & 170 & . & chr10:104339689-104340307 & ITPRIP:NM\\_001272012.2 & ITPRIP\\\\\n",
       "\t chr10:11710704-11711058   & chr10 &  11710630 &  11711089 & USP6NL &  TRUE & chr10 &  11710704 &  11711058 & tfit,dreg &   1 & . & chr10:11710704-11711058   & USP6NL:NR\\_125732.2    & USP6NL\\\\\n",
       "\\end{tabular}\n"
      ],
      "text/markdown": [
       "\n",
       "A data.table: 3 × 15\n",
       "\n",
       "| bidirid &lt;chr&gt; | V1 &lt;chr&gt; | V2 &lt;int&gt; | V3 &lt;int&gt; | V4 &lt;chr&gt; | V5 &lt;lgl&gt; | V6 &lt;chr&gt; | V7 &lt;int&gt; | V8 &lt;int&gt; | V9 &lt;chr&gt; | V10 &lt;int&gt; | V11 &lt;chr&gt; | bidir_id &lt;chr&gt; | transcript_1 &lt;chr&gt; | gene_id &lt;chr&gt; |\n",
       "|---|---|---|---|---|---|---|---|---|---|---|---|---|---|---|\n",
       "| chr10:103197161-103197557 | chr10 | 103197122 | 103197603 | NT5C2  | FALSE | chr10 | 103197161 | 103197557 | tfit,dreg | 180 | . | chr10:103197161-103197557 | NT5C2:NM_001351174.1  | NT5C2  |\n",
       "| chr10:104339689-104340307 | chr10 | 104339608 | 104341027 | ITPRIP |  TRUE | chr10 | 104339689 | 104340307 | dreg      | 170 | . | chr10:104339689-104340307 | ITPRIP:NM_001272012.2 | ITPRIP |\n",
       "| chr10:11710704-11711058   | chr10 |  11710630 |  11711089 | USP6NL |  TRUE | chr10 |  11710704 |  11711058 | tfit,dreg |   1 | . | chr10:11710704-11711058   | USP6NL:NR_125732.2    | USP6NL |\n",
       "\n"
      ],
      "text/plain": [
       "  bidirid                   V1    V2        V3        V4     V5    V6   \n",
       "1 chr10:103197161-103197557 chr10 103197122 103197603 NT5C2  FALSE chr10\n",
       "2 chr10:104339689-104340307 chr10 104339608 104341027 ITPRIP  TRUE chr10\n",
       "3 chr10:11710704-11711058   chr10  11710630  11711089 USP6NL  TRUE chr10\n",
       "  V7        V8        V9        V10 V11 bidir_id                 \n",
       "1 103197161 103197557 tfit,dreg 180 .   chr10:103197161-103197557\n",
       "2 104339689 104340307 dreg      170 .   chr10:104339689-104340307\n",
       "3  11710704  11711058 tfit,dreg   1 .   chr10:11710704-11711058  \n",
       "  transcript_1          gene_id\n",
       "1 NT5C2:NM_001351174.1  NT5C2  \n",
       "2 ITPRIP:NM_001272012.2 ITPRIP \n",
       "3 USP6NL:NR_125732.2    USP6NL "
      ]
     },
     "metadata": {},
     "output_type": "display_data"
    },
    {
     "name": "stdout",
     "output_type": "stream",
     "text": [
      "[1] \"Pairs from CRISPR-QTLs that overlap pairs from bidir~gene = 434\"\n"
     ]
    }
   ],
   "source": [
    "crisprQtl_bidirGene_overlaps <- map_overlaps(overlap_DT = gasperini_bidirectionals, \n",
    "                                             nascent_pairs = corr_sig_DT)\n",
    "head(crisprQtl_bidirGene_overlaps, 3)\n",
    "print(paste(\"Pairs from CRISPR-QTLs that overlap pairs from bidir~gene =\",\n",
    "           nrow(crisprQtl_bidirGene_overlaps)))"
   ]
  },
  {
   "cell_type": "code",
   "execution_count": 26,
   "metadata": {},
   "outputs": [
    {
     "name": "stdout",
     "output_type": "stream",
     "text": [
      "[1] \"Percent Overlap (All) = 65.36\"\n",
      "[1] \"Percent Overlap (Transcribed) = 79.05\"\n"
     ]
    }
   ],
   "source": [
    "percent_recovered_all <- (nrow(crisprQtl_bidirGene_overlaps)/664)*100\n",
    "percent_recovered_transcribed <- (nrow(crisprQtl_bidirGene_overlaps)/\n",
    "                                  nrow(gasperini_bidirectionals_unique_transcribed_nascent))*100\n",
    "print(paste(\"Percent Overlap (All) =\", signif(percent_recovered_all, 4)))\n",
    "print(paste(\"Percent Overlap (Transcribed) =\", signif(percent_recovered_transcribed, 4)))\n"
   ]
  },
  {
   "cell_type": "markdown",
   "metadata": {},
   "source": [
    "### Get overlaps with shuffled transcription values"
   ]
  },
  {
   "cell_type": "code",
   "execution_count": 27,
   "metadata": {},
   "outputs": [
    {
     "data": {
      "text/html": [
       "<table class=\"dataframe\">\n",
       "<caption>A data.table: 3 × 15</caption>\n",
       "<thead>\n",
       "\t<tr><th scope=col>bidirid</th><th scope=col>V1</th><th scope=col>V2</th><th scope=col>V3</th><th scope=col>V4</th><th scope=col>V5</th><th scope=col>V6</th><th scope=col>V7</th><th scope=col>V8</th><th scope=col>V9</th><th scope=col>V10</th><th scope=col>V11</th><th scope=col>bidir_id</th><th scope=col>transcript_1</th><th scope=col>gene_id</th></tr>\n",
       "\t<tr><th scope=col>&lt;chr&gt;</th><th scope=col>&lt;chr&gt;</th><th scope=col>&lt;int&gt;</th><th scope=col>&lt;int&gt;</th><th scope=col>&lt;chr&gt;</th><th scope=col>&lt;lgl&gt;</th><th scope=col>&lt;chr&gt;</th><th scope=col>&lt;int&gt;</th><th scope=col>&lt;int&gt;</th><th scope=col>&lt;chr&gt;</th><th scope=col>&lt;int&gt;</th><th scope=col>&lt;chr&gt;</th><th scope=col>&lt;chr&gt;</th><th scope=col>&lt;chr&gt;</th><th scope=col>&lt;chr&gt;</th></tr>\n",
       "</thead>\n",
       "<tbody>\n",
       "\t<tr><td>chr10:103197161-103197557</td><td>chr10</td><td>103197122</td><td>103197603</td><td>NT5C2</td><td>FALSE</td><td>chr10</td><td>103197161</td><td>103197557</td><td>tfit,dreg</td><td>180</td><td>.</td><td>chr10:103197161-103197557</td><td>NT5C2:NM_001351174.1</td><td>NT5C2</td></tr>\n",
       "\t<tr><td>chr10:117408672-117409724</td><td>chr10</td><td>117408947</td><td>117409305</td><td>PDZD8</td><td> TRUE</td><td>chr10</td><td>117408672</td><td>117409724</td><td>tfit,dreg</td><td>  7</td><td>.</td><td>chr10:117408672-117409724</td><td>PDZD8:NM_173791.5   </td><td>PDZD8</td></tr>\n",
       "\t<tr><td>chr10:117411125-117411893</td><td>chr10</td><td>117411428</td><td>117411916</td><td>PDZD8</td><td>FALSE</td><td>chr10</td><td>117411125</td><td>117411893</td><td>tfit,dreg</td><td> 11</td><td>.</td><td>chr10:117411125-117411893</td><td>PDZD8:NM_173791.5   </td><td>PDZD8</td></tr>\n",
       "</tbody>\n",
       "</table>\n"
      ],
      "text/latex": [
       "A data.table: 3 × 15\n",
       "\\begin{tabular}{lllllllllllllll}\n",
       " bidirid & V1 & V2 & V3 & V4 & V5 & V6 & V7 & V8 & V9 & V10 & V11 & bidir\\_id & transcript\\_1 & gene\\_id\\\\\n",
       " <chr> & <chr> & <int> & <int> & <chr> & <lgl> & <chr> & <int> & <int> & <chr> & <int> & <chr> & <chr> & <chr> & <chr>\\\\\n",
       "\\hline\n",
       "\t chr10:103197161-103197557 & chr10 & 103197122 & 103197603 & NT5C2 & FALSE & chr10 & 103197161 & 103197557 & tfit,dreg & 180 & . & chr10:103197161-103197557 & NT5C2:NM\\_001351174.1 & NT5C2\\\\\n",
       "\t chr10:117408672-117409724 & chr10 & 117408947 & 117409305 & PDZD8 &  TRUE & chr10 & 117408672 & 117409724 & tfit,dreg &   7 & . & chr10:117408672-117409724 & PDZD8:NM\\_173791.5    & PDZD8\\\\\n",
       "\t chr10:117411125-117411893 & chr10 & 117411428 & 117411916 & PDZD8 & FALSE & chr10 & 117411125 & 117411893 & tfit,dreg &  11 & . & chr10:117411125-117411893 & PDZD8:NM\\_173791.5    & PDZD8\\\\\n",
       "\\end{tabular}\n"
      ],
      "text/markdown": [
       "\n",
       "A data.table: 3 × 15\n",
       "\n",
       "| bidirid &lt;chr&gt; | V1 &lt;chr&gt; | V2 &lt;int&gt; | V3 &lt;int&gt; | V4 &lt;chr&gt; | V5 &lt;lgl&gt; | V6 &lt;chr&gt; | V7 &lt;int&gt; | V8 &lt;int&gt; | V9 &lt;chr&gt; | V10 &lt;int&gt; | V11 &lt;chr&gt; | bidir_id &lt;chr&gt; | transcript_1 &lt;chr&gt; | gene_id &lt;chr&gt; |\n",
       "|---|---|---|---|---|---|---|---|---|---|---|---|---|---|---|\n",
       "| chr10:103197161-103197557 | chr10 | 103197122 | 103197603 | NT5C2 | FALSE | chr10 | 103197161 | 103197557 | tfit,dreg | 180 | . | chr10:103197161-103197557 | NT5C2:NM_001351174.1 | NT5C2 |\n",
       "| chr10:117408672-117409724 | chr10 | 117408947 | 117409305 | PDZD8 |  TRUE | chr10 | 117408672 | 117409724 | tfit,dreg |   7 | . | chr10:117408672-117409724 | PDZD8:NM_173791.5    | PDZD8 |\n",
       "| chr10:117411125-117411893 | chr10 | 117411428 | 117411916 | PDZD8 | FALSE | chr10 | 117411125 | 117411893 | tfit,dreg |  11 | . | chr10:117411125-117411893 | PDZD8:NM_173791.5    | PDZD8 |\n",
       "\n"
      ],
      "text/plain": [
       "  bidirid                   V1    V2        V3        V4    V5    V6   \n",
       "1 chr10:103197161-103197557 chr10 103197122 103197603 NT5C2 FALSE chr10\n",
       "2 chr10:117408672-117409724 chr10 117408947 117409305 PDZD8  TRUE chr10\n",
       "3 chr10:117411125-117411893 chr10 117411428 117411916 PDZD8 FALSE chr10\n",
       "  V7        V8        V9        V10 V11 bidir_id                 \n",
       "1 103197161 103197557 tfit,dreg 180 .   chr10:103197161-103197557\n",
       "2 117408672 117409724 tfit,dreg   7 .   chr10:117408672-117409724\n",
       "3 117411125 117411893 tfit,dreg  11 .   chr10:117411125-117411893\n",
       "  transcript_1         gene_id\n",
       "1 NT5C2:NM_001351174.1 NT5C2  \n",
       "2 PDZD8:NM_173791.5    PDZD8  \n",
       "3 PDZD8:NM_173791.5    PDZD8  "
      ]
     },
     "metadata": {},
     "output_type": "display_data"
    },
    {
     "name": "stdout",
     "output_type": "stream",
     "text": [
      "[1] \"Swapped pairs from CRISPR-QTLs that overlap pairs from bidir~gene = 172\"\n"
     ]
    }
   ],
   "source": [
    "crisprQtl_bidirGene_overlaps_swapped <- map_overlaps(overlap_DT = gasperini_bidirectionals, \n",
    "                                             nascent_pairs = swapped_corr_sig_DT)\n",
    "head(crisprQtl_bidirGene_overlaps_swapped, 3)\n",
    "print(paste(\"Swapped pairs from CRISPR-QTLs that overlap pairs from bidir~gene =\",\n",
    "           nrow(crisprQtl_bidirGene_overlaps_swapped)))"
   ]
  },
  {
   "cell_type": "code",
   "execution_count": 28,
   "metadata": {},
   "outputs": [
    {
     "name": "stdout",
     "output_type": "stream",
     "text": [
      "[1] \"Percent Overlap Swapped (All) = 25.9\"\n",
      "[1] \"Percent Overlap Swapped (Transcribed) = 31.33\"\n"
     ]
    }
   ],
   "source": [
    "percent_swapped_all <- (nrow(crisprQtl_bidirGene_overlaps_swapped)/664)*100\n",
    "percent_swapped_transcribed <- (nrow(crisprQtl_bidirGene_overlaps_swapped)/\n",
    "                                  nrow(gasperini_bidirectionals_unique_transcribed_nascent))*100\n",
    "print(paste(\"Percent Overlap Swapped (All) =\", signif(percent_swapped_all, 4)))\n",
    "print(paste(\"Percent Overlap Swapped (Transcribed) =\", signif(percent_swapped_transcribed, 4)))"
   ]
  },
  {
   "cell_type": "markdown",
   "metadata": {},
   "source": [
    "### Get overlaps with random pairs"
   ]
  },
  {
   "cell_type": "code",
   "execution_count": 29,
   "metadata": {},
   "outputs": [
    {
     "data": {
      "text/html": [
       "<table class=\"dataframe\">\n",
       "<caption>A data.table: 3 × 15</caption>\n",
       "<thead>\n",
       "\t<tr><th scope=col>bidirid</th><th scope=col>V1</th><th scope=col>V2</th><th scope=col>V3</th><th scope=col>V4</th><th scope=col>V5</th><th scope=col>V6</th><th scope=col>V7</th><th scope=col>V8</th><th scope=col>V9</th><th scope=col>V10</th><th scope=col>V11</th><th scope=col>bidir_id</th><th scope=col>transcript_1</th><th scope=col>gene_id</th></tr>\n",
       "\t<tr><th scope=col>&lt;chr&gt;</th><th scope=col>&lt;chr&gt;</th><th scope=col>&lt;int&gt;</th><th scope=col>&lt;int&gt;</th><th scope=col>&lt;chr&gt;</th><th scope=col>&lt;lgl&gt;</th><th scope=col>&lt;chr&gt;</th><th scope=col>&lt;int&gt;</th><th scope=col>&lt;int&gt;</th><th scope=col>&lt;chr&gt;</th><th scope=col>&lt;int&gt;</th><th scope=col>&lt;chr&gt;</th><th scope=col>&lt;chr&gt;</th><th scope=col>&lt;chr&gt;</th><th scope=col>&lt;chr&gt;</th></tr>\n",
       "</thead>\n",
       "<tbody>\n",
       "\t<tr><td>chr10:104339689-104340307</td><td>chr10</td><td>104339608</td><td>104341027</td><td>ITPRIP </td><td> TRUE</td><td>chr10</td><td>104339689</td><td>104340307</td><td>dreg     </td><td>170</td><td>.</td><td>chr10:104339689-104340307</td><td>ITPRIP:NM_001272012.2</td><td>ITPRIP </td></tr>\n",
       "\t<tr><td>chr11:60193818-60194092  </td><td>chr11</td><td> 60193683</td><td> 60193970</td><td>MRPL16 </td><td>FALSE</td><td>chr11</td><td> 60193818</td><td> 60194092</td><td>tfit,dreg</td><td> 21</td><td>.</td><td>chr11:60193818-60194092  </td><td>MRPL16:NM_017840.4   </td><td>MRPL16 </td></tr>\n",
       "\t<tr><td>chr11:64335057-64335573  </td><td>chr11</td><td> 64334935</td><td> 64335630</td><td>CCDC88B</td><td>FALSE</td><td>chr11</td><td> 64335057</td><td> 64335573</td><td>tfit,dreg</td><td>169</td><td>.</td><td>chr11:64335057-64335573  </td><td>CCDC88B:NM_032251.6  </td><td>CCDC88B</td></tr>\n",
       "</tbody>\n",
       "</table>\n"
      ],
      "text/latex": [
       "A data.table: 3 × 15\n",
       "\\begin{tabular}{lllllllllllllll}\n",
       " bidirid & V1 & V2 & V3 & V4 & V5 & V6 & V7 & V8 & V9 & V10 & V11 & bidir\\_id & transcript\\_1 & gene\\_id\\\\\n",
       " <chr> & <chr> & <int> & <int> & <chr> & <lgl> & <chr> & <int> & <int> & <chr> & <int> & <chr> & <chr> & <chr> & <chr>\\\\\n",
       "\\hline\n",
       "\t chr10:104339689-104340307 & chr10 & 104339608 & 104341027 & ITPRIP  &  TRUE & chr10 & 104339689 & 104340307 & dreg      & 170 & . & chr10:104339689-104340307 & ITPRIP:NM\\_001272012.2 & ITPRIP \\\\\n",
       "\t chr11:60193818-60194092   & chr11 &  60193683 &  60193970 & MRPL16  & FALSE & chr11 &  60193818 &  60194092 & tfit,dreg &  21 & . & chr11:60193818-60194092   & MRPL16:NM\\_017840.4    & MRPL16 \\\\\n",
       "\t chr11:64335057-64335573   & chr11 &  64334935 &  64335630 & CCDC88B & FALSE & chr11 &  64335057 &  64335573 & tfit,dreg & 169 & . & chr11:64335057-64335573   & CCDC88B:NM\\_032251.6   & CCDC88B\\\\\n",
       "\\end{tabular}\n"
      ],
      "text/markdown": [
       "\n",
       "A data.table: 3 × 15\n",
       "\n",
       "| bidirid &lt;chr&gt; | V1 &lt;chr&gt; | V2 &lt;int&gt; | V3 &lt;int&gt; | V4 &lt;chr&gt; | V5 &lt;lgl&gt; | V6 &lt;chr&gt; | V7 &lt;int&gt; | V8 &lt;int&gt; | V9 &lt;chr&gt; | V10 &lt;int&gt; | V11 &lt;chr&gt; | bidir_id &lt;chr&gt; | transcript_1 &lt;chr&gt; | gene_id &lt;chr&gt; |\n",
       "|---|---|---|---|---|---|---|---|---|---|---|---|---|---|---|\n",
       "| chr10:104339689-104340307 | chr10 | 104339608 | 104341027 | ITPRIP  |  TRUE | chr10 | 104339689 | 104340307 | dreg      | 170 | . | chr10:104339689-104340307 | ITPRIP:NM_001272012.2 | ITPRIP  |\n",
       "| chr11:60193818-60194092   | chr11 |  60193683 |  60193970 | MRPL16  | FALSE | chr11 |  60193818 |  60194092 | tfit,dreg |  21 | . | chr11:60193818-60194092   | MRPL16:NM_017840.4    | MRPL16  |\n",
       "| chr11:64335057-64335573   | chr11 |  64334935 |  64335630 | CCDC88B | FALSE | chr11 |  64335057 |  64335573 | tfit,dreg | 169 | . | chr11:64335057-64335573   | CCDC88B:NM_032251.6   | CCDC88B |\n",
       "\n"
      ],
      "text/plain": [
       "  bidirid                   V1    V2        V3        V4      V5    V6   \n",
       "1 chr10:104339689-104340307 chr10 104339608 104341027 ITPRIP   TRUE chr10\n",
       "2 chr11:60193818-60194092   chr11  60193683  60193970 MRPL16  FALSE chr11\n",
       "3 chr11:64335057-64335573   chr11  64334935  64335630 CCDC88B FALSE chr11\n",
       "  V7        V8        V9        V10 V11 bidir_id                 \n",
       "1 104339689 104340307 dreg      170 .   chr10:104339689-104340307\n",
       "2  60193818  60194092 tfit,dreg  21 .   chr11:60193818-60194092  \n",
       "3  64335057  64335573 tfit,dreg 169 .   chr11:64335057-64335573  \n",
       "  transcript_1          gene_id\n",
       "1 ITPRIP:NM_001272012.2 ITPRIP \n",
       "2 MRPL16:NM_017840.4    MRPL16 \n",
       "3 CCDC88B:NM_032251.6   CCDC88B"
      ]
     },
     "metadata": {},
     "output_type": "display_data"
    },
    {
     "name": "stdout",
     "output_type": "stream",
     "text": [
      "[1] \"Random pairs from CRISPR-QTLs that overlap pairs from bidir~gene = 25\"\n"
     ]
    }
   ],
   "source": [
    "crisprQtl_bidirGene_overlaps_random <- map_overlaps(overlap_DT = gasperini_bidirectionals, \n",
    "                                             nascent_pairs = sig_pairs_path_DT_shuffle)\n",
    "head(crisprQtl_bidirGene_overlaps_random, 3)\n",
    "print(paste(\"Random pairs from CRISPR-QTLs that overlap pairs from bidir~gene =\",\n",
    "           nrow(crisprQtl_bidirGene_overlaps_random)))"
   ]
  },
  {
   "cell_type": "code",
   "execution_count": 30,
   "metadata": {},
   "outputs": [
    {
     "name": "stdout",
     "output_type": "stream",
     "text": [
      "[1] \"Percent Overlap Random (All) = 3.765\"\n",
      "[1] \"Percent Overlap Random (Transcribed) = 4.554\"\n"
     ]
    }
   ],
   "source": [
    "percent_random_all <- (nrow(crisprQtl_bidirGene_overlaps_random)/664)*100\n",
    "percent_random_transcribed <- (nrow(crisprQtl_bidirGene_overlaps_random)/\n",
    "                                  nrow(gasperini_bidirectionals_unique_transcribed_nascent))*100\n",
    "print(paste(\"Percent Overlap Random (All) =\", signif(percent_random_all, 4)))\n",
    "print(paste(\"Percent Overlap Random (Transcribed) =\", signif(percent_random_transcribed, 4)))"
   ]
  },
  {
   "cell_type": "markdown",
   "metadata": {},
   "source": [
    "### Precision and Recall"
   ]
  },
  {
   "cell_type": "code",
   "execution_count": 31,
   "metadata": {},
   "outputs": [],
   "source": [
    "TP <- nrow(crisprQtl_bidirGene_overlaps)\n",
    "FP <- nrow(crisprQtl_bidirGene_overlaps_random)\n",
    "FN <- nrow(gasperini_bidirectionals_unique_transcribed_nascent) - nrow(crisprQtl_bidirGene_overlaps)\n",
    "\n",
    "prec <- TP/(TP+FP)\n",
    "\n",
    "reca <- TP/(TP+FN)"
   ]
  },
  {
   "cell_type": "code",
   "execution_count": 32,
   "metadata": {},
   "outputs": [
    {
     "data": {
      "text/html": [
       "0.945533769063181"
      ],
      "text/latex": [
       "0.945533769063181"
      ],
      "text/markdown": [
       "0.945533769063181"
      ],
      "text/plain": [
       "[1] 0.9455338"
      ]
     },
     "metadata": {},
     "output_type": "display_data"
    }
   ],
   "source": [
    "prec"
   ]
  },
  {
   "cell_type": "code",
   "execution_count": 33,
   "metadata": {},
   "outputs": [
    {
     "data": {
      "text/html": [
       "0.790528233151184"
      ],
      "text/latex": [
       "0.790528233151184"
      ],
      "text/markdown": [
       "0.790528233151184"
      ],
      "text/plain": [
       "[1] 0.7905282"
      ]
     },
     "metadata": {},
     "output_type": "display_data"
    }
   ],
   "source": [
    "reca"
   ]
  },
  {
   "cell_type": "markdown",
   "metadata": {},
   "source": [
    "### Plot distributions"
   ]
  },
  {
   "cell_type": "code",
   "execution_count": 34,
   "metadata": {},
   "outputs": [
    {
     "name": "stderr",
     "output_type": "stream",
     "text": [
      "Warning message:\n",
      "“\u001b[1m\u001b[22mUsing `size` aesthetic for lines was deprecated in ggplot2 3.4.0.\n",
      "\u001b[36mℹ\u001b[39m Please use `linewidth` instead.”\n"
     ]
    },
    {
     "data": {
      "image/png": "[encoded data removed]",
      "text/plain": [
       "plot without title"
      ]
     },
     "metadata": {
      "image/png": {
       "height": 360,
       "width": 960
      }
     },
     "output_type": "display_data"
    }
   ],
   "source": [
    "options(repr.plot.width=16, repr.plot.height=6)\n",
    "\n",
    "overlap_plotAnum <- ggplot(random_overlaps_1000, aes(x=random_overlap)) + \n",
    "geom_histogram(color=\"black\", fill=\"gray80\", bins = 100) +\n",
    "geom_vline(xintercept = nrow(crisprQtl_bidirGene_overlaps),\n",
    "           linetype=\"dotted\", \n",
    "                color = \"blue\", size=1.5) +\n",
    "geom_vline(xintercept = nrow(crisprQtl_bidirGene_overlaps_swapped),\n",
    "           linetype=\"dotted\", \n",
    "                color = \"lightblue\", size=1.5) +\n",
    "scale_x_continuous(expand = c(0, 0),\n",
    "                   #limits = c(0, 220),\n",
    "                   breaks = seq(0,600,20)) +\n",
    "scale_y_continuous(expand = c(0, 0),\n",
    "                   #limits = c(0,450),\n",
    "                   breaks = seq(0,450,100)) +\n",
    "annotate(geom=\"text\", size=8, x=400, y=410, label=\"True Pairs\",\n",
    "              color=\"blue\") +\n",
    "annotate(geom=\"text\", size=8, x=120, y=410, label=\"Swapped Values\",\n",
    "              color=\"lightblue\") +\n",
    "theme_cowplot(24) +\n",
    "  labs(title = \"Gasperini et al., 2019, Cell\", \n",
    "       y = \"Count\",\n",
    "       x = \"Random Bidirectional & Gene Pairs \\n Overlapping crisprQTL Pairs\") +\n",
    "theme(plot.title = element_text(hjust = 0.5),\n",
    "      title = element_text(size = 30), \n",
    "      axis.title = element_text(size = 28), \n",
    "      axis.text = element_text(size = 26)) +\n",
    "theme(plot.margin = margin(1,1,1.5,1.2, \"cm\"))\n",
    "\n",
    "overlap_plotAnum"
   ]
  },
  {
   "cell_type": "code",
   "execution_count": 35,
   "metadata": {},
   "outputs": [
    {
     "data": {
      "text/html": [
       "13.468"
      ],
      "text/latex": [
       "13.468"
      ],
      "text/markdown": [
       "13.468"
      ],
      "text/plain": [
       "[1] 13.468"
      ]
     },
     "metadata": {},
     "output_type": "display_data"
    }
   ],
   "source": [
    "signif(mean(random_overlaps_1000$random_overlap))"
   ]
  },
  {
   "cell_type": "code",
   "execution_count": 37,
   "metadata": {},
   "outputs": [
    {
     "name": "stderr",
     "output_type": "stream",
     "text": [
      "Warning message:\n",
      "“\u001b[1m\u001b[22mRemoved 2 rows containing missing values or values outside the scale range\n",
      "(`geom_bar()`).”\n"
     ]
    },
    {
     "data": {
      "image/png": "[encoded data removed]",
      "text/plain": [
       "plot without title"
      ]
     },
     "metadata": {
      "image/png": {
       "height": 360,
       "width": 960
      }
     },
     "output_type": "display_data"
    }
   ],
   "source": [
    "options(repr.plot.width=16, repr.plot.height=6)\n",
    "\n",
    "overlap_plotA <- ggplot(random_overlaps_1000, aes(x=percent_overlap_transcribed)) + \n",
    "geom_histogram(color=\"black\", fill=\"gray80\", bins = 100) +\n",
    "geom_vline(xintercept = percent_recovered_transcribed,\n",
    "           linetype=\"dashed\", \n",
    "                color = \"#d7191c\", size=1) +\n",
    "geom_vline(xintercept = percent_swapped_transcribed,\n",
    "           linetype=\"dashed\", \n",
    "            color = \"#2c7bb6\", size=1) +\n",
    "geom_vline(xintercept = mean(random_overlaps_1000$percent_overlap_transcribed),\n",
    "           linetype=\"dashed\", \n",
    "            color = \"gray20\", size=1) +\n",
    "scale_x_continuous(expand = c(0, 0),\n",
    "                   limits = c(0, 85),\n",
    "                   breaks=seq(0,80,5)) +\n",
    "scale_y_continuous(expand = c(0, 0)) +\n",
    "annotate(geom=\"text\", size=9,\n",
    "         x=percent_recovered_transcribed-8,\n",
    "         y=450, \n",
    "         label=paste0(\"DBNascent Pairs \\n (N=\",\n",
    "                      nrow(crisprQtl_bidirGene_overlaps),\")\"),\n",
    "         color=\"#d7191c\") +\n",
    "annotate(geom=\"text\", size=9,\n",
    "         x=percent_swapped_transcribed+8,\n",
    "         y=450, \n",
    "         label=paste0(\"Shuffled Pairs \\n (N=\",\n",
    "                      nrow(crisprQtl_bidirGene_overlaps_swapped),\")\"),\n",
    "         color=\"#2c7bb6\") +\n",
    "annotate(geom=\"text\", size=9,\n",
    "         x=signif(mean(random_overlaps_1000$percent_overlap_transcribed),\n",
    "       2)+8,\n",
    "         y=450, \n",
    "         label=paste0(\"Random Pairs \\n (Average N=\",\n",
    "                      signif(mean(random_overlaps_1000$random_overlap),\n",
    "       2),\")\"),\n",
    "         color=\"gray20\") +\n",
    "#coord_cartesian(xlim=c(0,70), ylim=c(0,400)) +\n",
    "theme_cowplot(24) +\n",
    "  labs(title = \" \", \n",
    "       y = \"Count\",\n",
    "       x = \"Recovered crisprQTL Pairs (%)\") +\n",
    "theme(plot.title = element_text(hjust = 0.5),\n",
    "      title = element_text(size = 30), \n",
    "      axis.title = element_text(size = 28), \n",
    "      axis.text = element_text(size = 26)) +\n",
    "theme(plot.margin = margin(0.5,1,0.5,0.5, \"cm\"))\n",
    "\n",
    "overlap_plotA"
   ]
  },
  {
   "cell_type": "code",
   "execution_count": 38,
   "metadata": {},
   "outputs": [
    {
     "name": "stderr",
     "output_type": "stream",
     "text": [
      "Warning message:\n",
      "“\u001b[1m\u001b[22mRemoved 2 rows containing missing values or values outside the scale range\n",
      "(`geom_bar()`).”\n",
      "Warning message:\n",
      "“\u001b[1m\u001b[22mRemoved 2 rows containing missing values or values outside the scale range\n",
      "(`geom_bar()`).”\n"
     ]
    }
   ],
   "source": [
    "ggsave(overlap_plotA, width = 16, height = 6,\n",
    "       filename = '/Users/rusi2317/projects/meta_analysis_qc_reviews/paper_figures/gasperini_nascent_overlaps_percent_reviews.pdf',\n",
    "       bg = \"transparent\")\n",
    "\n",
    "ggsave(overlap_plotA, width = 16, height = 6,\n",
    "       filename = '/Users/rusi2317/projects/meta_analysis_qc_reviews/paper_figures/gasperini_nascent_overlaps_percent_reviews.png',\n",
    "       bg = \"transparent\")"
   ]
  },
  {
   "cell_type": "code",
   "execution_count": 39,
   "metadata": {},
   "outputs": [
    {
     "name": "stderr",
     "output_type": "stream",
     "text": [
      "Warning message:\n",
      "“\u001b[1m\u001b[22mRemoved 2 rows containing missing values or values outside the scale range\n",
      "(`geom_bar()`).”\n"
     ]
    },
    {
     "data": {
      "image/png": "[encoded data removed]",
      "text/plain": [
       "plot without title"
      ]
     },
     "metadata": {
      "image/png": {
       "height": 360,
       "width": 960
      }
     },
     "output_type": "display_data"
    }
   ],
   "source": [
    "options(repr.plot.width=16, repr.plot.height=6)\n",
    "\n",
    "overlap_plotB <- ggplot(random_overlaps_1000, aes(x=percent_overlap_transcribed)) + \n",
    "geom_histogram(color=\"black\", fill=\"gray80\", bins = 100) +\n",
    "geom_vline(xintercept = percent_recovered_transcribed,\n",
    "           linetype=\"dashed\", \n",
    "                color = \"red\", size=1) +\n",
    "scale_x_continuous(expand = c(0, 0),\n",
    "                   limits = c(0, 85),\n",
    "                   breaks=seq(0,80,5)) +\n",
    "scale_y_continuous(expand = c(0, 0)) +\n",
    "annotate(geom=\"text\", size=9,\n",
    "         x=percent_recovered_transcribed-8,\n",
    "         y=450, \n",
    "         label=paste0(\"DBNascent Pairs \\n (N=\",\n",
    "                      nrow(crisprQtl_bidirGene_overlaps),\")\"),\n",
    "         color=\"red\") +\n",
    "#coord_cartesian(xlim=c(0,70), ylim=c(0,400)) +\n",
    "theme_cowplot(24) +\n",
    "  labs(title = \" \", \n",
    "       y = \"Count\",\n",
    "       x = \"Recovered crisprQTL Pairs (%)\") +\n",
    "theme(plot.title = element_text(hjust = 0.5),\n",
    "      title = element_text(size = 30), \n",
    "      axis.title = element_text(size = 28), \n",
    "      axis.text = element_text(size = 26)) +\n",
    "theme(plot.margin = margin(0.5,1,0.5,0.5, \"cm\"))\n",
    "\n",
    "overlap_plotB"
   ]
  },
  {
   "cell_type": "code",
   "execution_count": 40,
   "metadata": {},
   "outputs": [
    {
     "name": "stderr",
     "output_type": "stream",
     "text": [
      "Warning message:\n",
      "“\u001b[1m\u001b[22mRemoved 2 rows containing missing values or values outside the scale range\n",
      "(`geom_bar()`).”\n"
     ]
    },
    {
     "data": {
      "image/png": "[encoded data removed]",
      "text/plain": [
       "plot without title"
      ]
     },
     "metadata": {
      "image/png": {
       "height": 360,
       "width": 960
      }
     },
     "output_type": "display_data"
    }
   ],
   "source": [
    "options(repr.plot.width=16, repr.plot.height=6)\n",
    "\n",
    "overlap_plotB_left <- ggplot(random_overlaps_1000, aes(x=percent_overlap_transcribed)) + \n",
    "geom_histogram(color=\"black\", fill=\"gray80\", bins = 110) +\n",
    "geom_vline(xintercept = percent_recovered_transcribed,\n",
    "           linetype=\"dashed\", \n",
    "                color = \"red\", size=1) +\n",
    "scale_x_continuous(expand = c(0, 0),\n",
    "                   limits = c(0, 85),\n",
    "                   breaks=seq(0,80,5)) +\n",
    "scale_y_continuous(expand = c(0, 0)) +\n",
    "annotate(geom=\"text\", size=9,\n",
    "         x=percent_recovered_transcribed-8,\n",
    "         y=450, \n",
    "         label=paste0(\"DBNascent Pairs \\n (N=\",\n",
    "                      nrow(crisprQtl_bidirGene_overlaps),\")\"),\n",
    "         color=\"red\") +\n",
    "coord_cartesian(xlim=c(0,10), ylim=c(0,650)) +\n",
    "theme_cowplot(24) +\n",
    "  labs(title = \" \", \n",
    "       y = \"Count\",\n",
    "       x = \"Recovered crisprQTL Pairs (%)\") +\n",
    "theme(plot.title = element_text(hjust = 0.5),\n",
    "      title = element_text(size = 30), \n",
    "      axis.title = element_text(size = 28), \n",
    "      axis.text = element_text(size = 26)) +\n",
    "theme(plot.margin = margin(0.5,1,0.5,0.5, \"cm\"))\n",
    "\n",
    "overlap_plotB_left"
   ]
  },
  {
   "cell_type": "markdown",
   "metadata": {},
   "source": [
    "# Session Information"
   ]
  },
  {
   "cell_type": "code",
   "execution_count": 41,
   "metadata": {},
   "outputs": [
    {
     "data": {
      "text/plain": [
       "R version 4.4.0 (2024-04-24)\n",
       "Platform: x86_64-pc-linux-gnu\n",
       "Running under: CentOS Linux 7 (Core)\n",
       "\n",
       "Matrix products: default\n",
       "BLAS/LAPACK: /usr/lib64/libopenblasp-r0.3.3.so;  LAPACK version 3.8.0\n",
       "\n",
       "locale:\n",
       " [1] LC_CTYPE=en_US.UTF-8       LC_NUMERIC=C              \n",
       " [3] LC_TIME=en_US.UTF-8        LC_COLLATE=en_US.UTF-8    \n",
       " [5] LC_MONETARY=en_US.UTF-8    LC_MESSAGES=en_US.UTF-8   \n",
       " [7] LC_PAPER=en_US.UTF-8       LC_NAME=C                 \n",
       " [9] LC_ADDRESS=C               LC_TELEPHONE=C            \n",
       "[11] LC_MEASUREMENT=en_US.UTF-8 LC_IDENTIFICATION=C       \n",
       "\n",
       "time zone: America/Denver\n",
       "tzcode source: system (glibc)\n",
       "\n",
       "attached base packages:\n",
       "[1] parallel  stats     graphics  grDevices utils     datasets  methods  \n",
       "[8] base     \n",
       "\n",
       "other attached packages:\n",
       "[1] data.table_1.16.2 cowplot_1.1.3     ggplot2_3.5.1    \n",
       "\n",
       "loaded via a namespace (and not attached):\n",
       " [1] gtable_0.3.6      jsonlite_1.8.9    dplyr_1.1.4       compiler_4.4.0   \n",
       " [5] crayon_1.5.3      tidyselect_1.2.1  IRdisplay_1.1     textshaping_0.4.0\n",
       " [9] systemfonts_1.1.0 scales_1.3.0      uuid_1.2-1        fastmap_1.2.0    \n",
       "[13] IRkernel_1.3.2    R6_2.5.1          labeling_0.4.3    generics_0.1.3   \n",
       "[17] tibble_3.2.1      munsell_0.5.1     pillar_1.9.0      R.utils_2.12.3   \n",
       "[21] rlang_1.1.4       utf8_1.2.4        repr_1.1.7        cli_3.6.3        \n",
       "[25] withr_3.0.2       magrittr_2.0.3    digest_0.6.37     grid_4.4.0       \n",
       "[29] base64enc_0.1-3   pbdZMQ_0.3-13     lifecycle_1.0.4   R.methodsS3_1.8.2\n",
       "[33] R.oo_1.27.0       vctrs_0.6.5       evaluate_1.0.1    glue_1.8.0       \n",
       "[37] farver_2.1.2      ragg_1.3.3        fansi_1.0.6       colorspace_2.1-1 \n",
       "[41] tools_4.4.0       pkgconfig_2.0.3   htmltools_0.5.8.1"
      ]
     },
     "metadata": {},
     "output_type": "display_data"
    }
   ],
   "source": [
    "sessionInfo()"
   ]
  }
 ],
 "metadata": {
  "kernelspec": {
   "display_name": "R",
   "language": "R",
   "name": "ir"
  },
  "language_info": {
   "codemirror_mode": "r",
   "file_extension": ".r",
   "mimetype": "text/x-r-source",
   "name": "R",
   "pygments_lexer": "r",
   "version": "4.4.0"
  },
  "toc": {
   "base_numbering": 1,
   "nav_menu": {},
   "number_sections": true,
   "sideBar": true,
   "skip_h1_title": false,
   "title_cell": "Table of Contents",
   "title_sidebar": "Contents",
   "toc_cell": false,
   "toc_position": {
    "height": "calc(100% - 180px)",
    "left": "10px",
    "top": "150px",
    "width": "322px"
   },
   "toc_section_display": true,
   "toc_window_display": true
  }
 },
 "nbformat": 4,
 "nbformat_minor": 2
}
