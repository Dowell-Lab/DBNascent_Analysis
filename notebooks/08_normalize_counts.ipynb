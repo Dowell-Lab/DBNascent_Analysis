{
 "cells": [
  {
   "cell_type": "markdown",
   "metadata": {},
   "source": [
    "**Author :** Rutendo F. Sigauke\n",
    "\n",
    "\n",
    "# Summary\n",
    "\n",
    "- Generate updated normalized counts\n",
    "\n",
    "- Take the opposite sense strand of gene counts if a bidirectional transcript overlaps a gene. This includes 15kb downstream on PAS and upstream of TSS by 250bp.\n"
   ]
  },
  {
   "cell_type": "markdown",
   "metadata": {},
   "source": [
    "# Load libraries"
   ]
  },
  {
   "cell_type": "code",
   "execution_count": 1,
   "metadata": {},
   "outputs": [],
   "source": [
    "library(data.table) ##fast loading of large tables"
   ]
  },
  {
   "cell_type": "markdown",
   "metadata": {},
   "source": [
    "# Functions for processing \n",
    "\n",
    "## TPM"
   ]
  },
  {
   "cell_type": "code",
   "execution_count": 2,
   "metadata": {},
   "outputs": [],
   "source": [
    "tpm_calculation <- function(count_g,len_g) {\n",
    "    \n",
    "    #' calculate tpms for counts #https://support.bioconductor.org/p/91218/\n",
    "    #' \n",
    "    #' @description This function will calculate tpms for counts table\n",
    "    #' derived from the same library.  \n",
    "    #' \n",
    "    #' @param count_g data.frame. first counts\n",
    "    #' \n",
    "    #' @param len_g list of integers. Transcript lengths corresponding to count_g\n",
    "    #' \n",
    "    #'\n",
    "    #' @usage tpm(count_g, len_g)\n",
    "    #' @return Matix with tpms values for genes as a data.frame\n",
    "    #' @export\n",
    "\n",
    "    #get length normalized counts\n",
    "    g <- count_g/len_g\n",
    "\n",
    "    #get sum of length normalized counts\n",
    "    tot_tpms <- colSums(g)\n",
    "\n",
    "    #calculate the TPMs\n",
    "    tpm_g <- t(t(g)*1e6/tot_tpms)\n",
    "\n",
    "    return(tpm_g)   \n",
    "  \n",
    "}"
   ]
  },
  {
   "cell_type": "markdown",
   "metadata": {},
   "source": [
    "## Get strand counts"
   ]
  },
  {
   "cell_type": "code",
   "execution_count": 3,
   "metadata": {},
   "outputs": [],
   "source": [
    "get_strand_counts <- function(counts, strands, strand_name){\n",
    "    \n",
    "    #subset bidirectionals based on the genes' strand\n",
    "    strands_filts <- subset(strands, gene_strand==strand_name)\n",
    "    \n",
    "    #get the counts from the filtered counts\n",
    "    counts_updated <- counts[counts$bidirs %in% strands_filts$bidirs,]\n",
    "    return(counts_updated)\n",
    "}"
   ]
  },
  {
   "cell_type": "markdown",
   "metadata": {},
   "source": [
    "## Coefficient of variation"
   ]
  },
  {
   "cell_type": "code",
   "execution_count": 4,
   "metadata": {},
   "outputs": [],
   "source": [
    "cv <- function(x){\n",
    "    #' calculate coefficient of variation for set of values\n",
    "    #' \n",
    "    #' @description This function will calculate coefficient of variation\n",
    "    #' \n",
    "    #' @param x list of values\n",
    "    #' \n",
    "    #' @usage cv(x)\n",
    "    #' @return CV value\n",
    "    #' @export\n",
    "    \n",
    "    #sd(x, na.rm=TRUE)/mean(x, na.rm=TRUE)\n",
    "    sd(x, na.rm=FALSE)/mean(x, na.rm=FALSE)\n",
    "}"
   ]
  },
  {
   "cell_type": "markdown",
   "metadata": {},
   "source": [
    "## Summary of transcripts"
   ]
  },
  {
   "cell_type": "code",
   "execution_count": 5,
   "metadata": {},
   "outputs": [],
   "source": [
    "get_summary_statistics <- function(counts_df, genenames, bidirnames){\n",
    "    \n",
    "    #1. transcript lenths\n",
    "    transcript_lengths <- (counts_df$stop - counts_df$start) +1\n",
    "\n",
    "    #2. number of columns in the dataframes\n",
    "    ncolumns <- ncol(counts_df)\n",
    "\n",
    "    \n",
    "    ##get summary statistics for bed6+counts data.frame\n",
    "    #3. transcript coordinated in bed6 format\n",
    "    df_summary <- counts_df[,1:6]\n",
    "\n",
    "    #4. get stats like length, st.dev, etc\n",
    "    df_summary$length <- transcript_lengths\n",
    "    df_summary$stdev <- apply(counts_df[c(7:ncolumns)], 1, sd)\n",
    "    df_summary$variance <- apply(counts_df[c(7:ncolumns)], 1, var)\n",
    "    df_summary$sum <- apply(counts_df[c(7:ncolumns)], 1, sum)\n",
    "    df_summary$mean <- apply(counts_df[c(7:ncolumns)], 1, mean)\n",
    "    df_summary$median <- apply(counts_df[c(7:ncolumns)], 1, median)\n",
    "    df_summary$coefvar <- apply(counts_df[c(7:ncolumns)], 1, cv)\n",
    "    df_summary$max <- apply(counts_df[c(7:ncolumns)], 1, max)\n",
    "    df_summary$min <- apply(counts_df[c(7:ncolumns)], 1, min)\n",
    "    df_summary$num_transcribed <- rowSums(counts_df[c(7:ncolumns)] != 0)\n",
    "    df_summary$percent_transcribed <- (df_summary$num_transcribed/(ncolumns-6))*100\n",
    "    df_summary$transcript_type <- ifelse(df_summary$gene_transcript %in% genenames,\n",
    "                                                 \"genes\",\n",
    "                                                 ifelse(df_summary$gene_transcript %in% bidirnames,\n",
    "                                                        \"bidirectional\",\"NA\"))\n",
    "    return(df_summary)\n",
    "    \n",
    "}"
   ]
  },
  {
   "cell_type": "markdown",
   "metadata": {},
   "source": [
    "# Import data"
   ]
  },
  {
   "cell_type": "markdown",
   "metadata": {},
   "source": [
    "## QC filtered samples\n",
    "\n",
    "These samples were filtered in the dbNascent paper based on GC content of sample and sample QC."
   ]
  },
  {
   "cell_type": "code",
   "execution_count": 6,
   "metadata": {},
   "outputs": [
    {
     "data": {
      "text/html": [
       "751"
      ],
      "text/latex": [
       "751"
      ],
      "text/markdown": [
       "751"
      ],
      "text/plain": [
       "[1] 751"
      ]
     },
     "metadata": {},
     "output_type": "display_data"
    },
    {
     "data": {
      "text/html": [
       "<table class=\"dataframe\">\n",
       "<caption>A data.table: 3 × 14</caption>\n",
       "<thead>\n",
       "\t<tr><th scope=col>organism</th><th scope=col>tissue</th><th scope=col>tissue_description</th><th scope=col>disease</th><th scope=col>srp</th><th scope=col>paper_id</th><th scope=col>protocol</th><th scope=col>sample_name</th><th scope=col>sample_type</th><th scope=col>cell_type</th><th scope=col>samp_qc_score</th><th scope=col>samp_data_score</th><th scope=col>replicate</th><th scope=col>control_experimental</th></tr>\n",
       "\t<tr><th scope=col>&lt;chr&gt;</th><th scope=col>&lt;chr&gt;</th><th scope=col>&lt;chr&gt;</th><th scope=col>&lt;int&gt;</th><th scope=col>&lt;chr&gt;</th><th scope=col>&lt;chr&gt;</th><th scope=col>&lt;chr&gt;</th><th scope=col>&lt;chr&gt;</th><th scope=col>&lt;chr&gt;</th><th scope=col>&lt;chr&gt;</th><th scope=col>&lt;int&gt;</th><th scope=col>&lt;int&gt;</th><th scope=col>&lt;int&gt;</th><th scope=col>&lt;chr&gt;</th></tr>\n",
       "</thead>\n",
       "<tbody>\n",
       "\t<tr><td>H. sapiens</td><td>blood</td><td>blood; biphenotypic B myelomonocytic leukemia</td><td>1</td><td>SRP149838</td><td>Aho2019displacement</td><td>PRO-seq</td><td>SRR7266931</td><td>cell line</td><td>MV4-11</td><td>1</td><td>2</td><td>1</td><td>control     </td></tr>\n",
       "\t<tr><td>H. sapiens</td><td>blood</td><td>blood; biphenotypic B myelomonocytic leukemia</td><td>1</td><td>SRP149838</td><td>Aho2019displacement</td><td>PRO-seq</td><td>SRR7266932</td><td>cell line</td><td>MV4-11</td><td>2</td><td>1</td><td>2</td><td>control     </td></tr>\n",
       "\t<tr><td>H. sapiens</td><td>blood</td><td>blood; biphenotypic B myelomonocytic leukemia</td><td>1</td><td>SRP149838</td><td>Aho2019displacement</td><td>PRO-seq</td><td>SRR7266933</td><td>cell line</td><td>MV4-11</td><td>1</td><td>2</td><td>1</td><td>experimental</td></tr>\n",
       "</tbody>\n",
       "</table>\n"
      ],
      "text/latex": [
       "A data.table: 3 × 14\n",
       "\\begin{tabular}{llllllllllllll}\n",
       " organism & tissue & tissue\\_description & disease & srp & paper\\_id & protocol & sample\\_name & sample\\_type & cell\\_type & samp\\_qc\\_score & samp\\_data\\_score & replicate & control\\_experimental\\\\\n",
       " <chr> & <chr> & <chr> & <int> & <chr> & <chr> & <chr> & <chr> & <chr> & <chr> & <int> & <int> & <int> & <chr>\\\\\n",
       "\\hline\n",
       "\t H. sapiens & blood & blood; biphenotypic B myelomonocytic leukemia & 1 & SRP149838 & Aho2019displacement & PRO-seq & SRR7266931 & cell line & MV4-11 & 1 & 2 & 1 & control     \\\\\n",
       "\t H. sapiens & blood & blood; biphenotypic B myelomonocytic leukemia & 1 & SRP149838 & Aho2019displacement & PRO-seq & SRR7266932 & cell line & MV4-11 & 2 & 1 & 2 & control     \\\\\n",
       "\t H. sapiens & blood & blood; biphenotypic B myelomonocytic leukemia & 1 & SRP149838 & Aho2019displacement & PRO-seq & SRR7266933 & cell line & MV4-11 & 1 & 2 & 1 & experimental\\\\\n",
       "\\end{tabular}\n"
      ],
      "text/markdown": [
       "\n",
       "A data.table: 3 × 14\n",
       "\n",
       "| organism &lt;chr&gt; | tissue &lt;chr&gt; | tissue_description &lt;chr&gt; | disease &lt;int&gt; | srp &lt;chr&gt; | paper_id &lt;chr&gt; | protocol &lt;chr&gt; | sample_name &lt;chr&gt; | sample_type &lt;chr&gt; | cell_type &lt;chr&gt; | samp_qc_score &lt;int&gt; | samp_data_score &lt;int&gt; | replicate &lt;int&gt; | control_experimental &lt;chr&gt; |\n",
       "|---|---|---|---|---|---|---|---|---|---|---|---|---|---|\n",
       "| H. sapiens | blood | blood; biphenotypic B myelomonocytic leukemia | 1 | SRP149838 | Aho2019displacement | PRO-seq | SRR7266931 | cell line | MV4-11 | 1 | 2 | 1 | control      |\n",
       "| H. sapiens | blood | blood; biphenotypic B myelomonocytic leukemia | 1 | SRP149838 | Aho2019displacement | PRO-seq | SRR7266932 | cell line | MV4-11 | 2 | 1 | 2 | control      |\n",
       "| H. sapiens | blood | blood; biphenotypic B myelomonocytic leukemia | 1 | SRP149838 | Aho2019displacement | PRO-seq | SRR7266933 | cell line | MV4-11 | 1 | 2 | 1 | experimental |\n",
       "\n"
      ],
      "text/plain": [
       "  organism   tissue tissue_description                            disease\n",
       "1 H. sapiens blood  blood; biphenotypic B myelomonocytic leukemia 1      \n",
       "2 H. sapiens blood  blood; biphenotypic B myelomonocytic leukemia 1      \n",
       "3 H. sapiens blood  blood; biphenotypic B myelomonocytic leukemia 1      \n",
       "  srp       paper_id            protocol sample_name sample_type cell_type\n",
       "1 SRP149838 Aho2019displacement PRO-seq  SRR7266931  cell line   MV4-11   \n",
       "2 SRP149838 Aho2019displacement PRO-seq  SRR7266932  cell line   MV4-11   \n",
       "3 SRP149838 Aho2019displacement PRO-seq  SRR7266933  cell line   MV4-11   \n",
       "  samp_qc_score samp_data_score replicate control_experimental\n",
       "1 1             2               1         control             \n",
       "2 2             1               2         control             \n",
       "3 1             2               1         experimental        "
      ]
     },
     "metadata": {},
     "output_type": "display_data"
    }
   ],
   "source": [
    "filtered_samples <- data.table::fread(\"/Users/rusi2317/projects/meta_analysis_qc/hg38/processed_data/counts/normalized/human_samples_QC_GC_protocol_filtered.tsv.gz\")\n",
    "nrow(filtered_samples)\n",
    "head(filtered_samples, 3)"
   ]
  },
  {
   "cell_type": "markdown",
   "metadata": {},
   "source": [
    "## Gene counts\n",
    "\n",
    "- There are `5' Truncated gene annotations` "
   ]
  },
  {
   "cell_type": "code",
   "execution_count": 7,
   "metadata": {},
   "outputs": [
    {
     "data": {
      "text/html": [
       "<style>\n",
       ".list-inline {list-style: none; margin:0; padding: 0}\n",
       ".list-inline>li {display: inline-block}\n",
       ".list-inline>li:not(:last-child)::after {content: \"\\00b7\"; padding: 0 .5ex}\n",
       "</style>\n",
       "<ol class=list-inline><li>28889</li><li>1651</li></ol>\n"
      ],
      "text/latex": [
       "\\begin{enumerate*}\n",
       "\\item 28889\n",
       "\\item 1651\n",
       "\\end{enumerate*}\n"
      ],
      "text/markdown": [
       "1. 28889\n",
       "2. 1651\n",
       "\n",
       "\n"
      ],
      "text/plain": [
       "[1] 28889  1651"
      ]
     },
     "metadata": {},
     "output_type": "display_data"
    },
    {
     "data": {
      "text/html": [
       "<table class=\"dataframe\">\n",
       "<caption>A data.table: 6 × 1651</caption>\n",
       "<thead>\n",
       "\t<tr><th scope=col>chrom</th><th scope=col>start</th><th scope=col>stop</th><th scope=col>gene_transcript</th><th scope=col>score</th><th scope=col>strand</th><th scope=col>SRR7266931</th><th scope=col>SRR7266932</th><th scope=col>SRR7266933</th><th scope=col>SRR7266934</th><th scope=col>⋯</th><th scope=col>SRR3713716</th><th scope=col>SRR3713717</th><th scope=col>SRR3713718</th><th scope=col>SRR3713719</th><th scope=col>SRR8483105</th><th scope=col>SRR8483106</th><th scope=col>SRR8483107</th><th scope=col>SRR8483108</th><th scope=col>SRR8483109</th><th scope=col>SRR8483110</th></tr>\n",
       "\t<tr><th scope=col>&lt;chr&gt;</th><th scope=col>&lt;int&gt;</th><th scope=col>&lt;int&gt;</th><th scope=col>&lt;chr&gt;</th><th scope=col>&lt;chr&gt;</th><th scope=col>&lt;chr&gt;</th><th scope=col>&lt;int&gt;</th><th scope=col>&lt;int&gt;</th><th scope=col>&lt;int&gt;</th><th scope=col>&lt;int&gt;</th><th scope=col>⋯</th><th scope=col>&lt;int&gt;</th><th scope=col>&lt;int&gt;</th><th scope=col>&lt;int&gt;</th><th scope=col>&lt;int&gt;</th><th scope=col>&lt;int&gt;</th><th scope=col>&lt;int&gt;</th><th scope=col>&lt;int&gt;</th><th scope=col>&lt;int&gt;</th><th scope=col>&lt;int&gt;</th><th scope=col>&lt;int&gt;</th></tr>\n",
       "</thead>\n",
       "<tbody>\n",
       "\t<tr><td>chr1</td><td>12623</td><td>14409</td><td>DDX11L1:NR_046018.2  </td><td>.</td><td>+</td><td> 0</td><td>0</td><td> 0</td><td> 0</td><td>⋯</td><td> 0</td><td> 0</td><td> 0</td><td> 0</td><td> 0</td><td> 0</td><td> 0</td><td> 0</td><td> 0</td><td> 0</td></tr>\n",
       "\t<tr><td>chr1</td><td>14361</td><td>28620</td><td>WASH7P:NR_024540.1   </td><td>.</td><td>-</td><td>43</td><td>4</td><td>45</td><td>34</td><td>⋯</td><td>12</td><td>10</td><td>38</td><td>30</td><td>42</td><td>62</td><td>53</td><td>44</td><td>49</td><td>61</td></tr>\n",
       "\t<tr><td>chr1</td><td>17368</td><td>17436</td><td>MIR6859-1:NR_106918.1</td><td>.</td><td>-</td><td> 0</td><td>0</td><td> 0</td><td> 0</td><td>⋯</td><td> 0</td><td> 0</td><td> 0</td><td> 0</td><td> 0</td><td> 0</td><td> 0</td><td> 0</td><td> 0</td><td> 0</td></tr>\n",
       "\t<tr><td>chr1</td><td>30365</td><td>30503</td><td>MIR1302-2:NR_036051.1</td><td>.</td><td>+</td><td> 0</td><td>0</td><td> 0</td><td> 0</td><td>⋯</td><td> 0</td><td> 0</td><td> 0</td><td> 0</td><td> 0</td><td> 0</td><td> 0</td><td> 0</td><td> 0</td><td> 0</td></tr>\n",
       "\t<tr><td>chr1</td><td>34610</td><td>35591</td><td>FAM138A:NR_026818.1  </td><td>.</td><td>-</td><td> 0</td><td>0</td><td> 0</td><td> 0</td><td>⋯</td><td> 0</td><td> 0</td><td> 0</td><td> 0</td><td> 0</td><td> 0</td><td> 0</td><td> 0</td><td> 0</td><td> 0</td></tr>\n",
       "\t<tr><td>chr1</td><td>66168</td><td>71585</td><td>OR4F5:NM_001005484.2 </td><td>.</td><td>+</td><td> 0</td><td>0</td><td> 0</td><td> 0</td><td>⋯</td><td> 0</td><td> 0</td><td> 0</td><td> 0</td><td> 0</td><td> 0</td><td> 0</td><td> 0</td><td> 0</td><td> 0</td></tr>\n",
       "</tbody>\n",
       "</table>\n"
      ],
      "text/latex": [
       "A data.table: 6 × 1651\n",
       "\\begin{tabular}{lllllllllllllllllllll}\n",
       " chrom & start & stop & gene\\_transcript & score & strand & SRR7266931 & SRR7266932 & SRR7266933 & SRR7266934 & ⋯ & SRR3713716 & SRR3713717 & SRR3713718 & SRR3713719 & SRR8483105 & SRR8483106 & SRR8483107 & SRR8483108 & SRR8483109 & SRR8483110\\\\\n",
       " <chr> & <int> & <int> & <chr> & <chr> & <chr> & <int> & <int> & <int> & <int> & ⋯ & <int> & <int> & <int> & <int> & <int> & <int> & <int> & <int> & <int> & <int>\\\\\n",
       "\\hline\n",
       "\t chr1 & 12623 & 14409 & DDX11L1:NR\\_046018.2   & . & + &  0 & 0 &  0 &  0 & ⋯ &  0 &  0 &  0 &  0 &  0 &  0 &  0 &  0 &  0 &  0\\\\\n",
       "\t chr1 & 14361 & 28620 & WASH7P:NR\\_024540.1    & . & - & 43 & 4 & 45 & 34 & ⋯ & 12 & 10 & 38 & 30 & 42 & 62 & 53 & 44 & 49 & 61\\\\\n",
       "\t chr1 & 17368 & 17436 & MIR6859-1:NR\\_106918.1 & . & - &  0 & 0 &  0 &  0 & ⋯ &  0 &  0 &  0 &  0 &  0 &  0 &  0 &  0 &  0 &  0\\\\\n",
       "\t chr1 & 30365 & 30503 & MIR1302-2:NR\\_036051.1 & . & + &  0 & 0 &  0 &  0 & ⋯ &  0 &  0 &  0 &  0 &  0 &  0 &  0 &  0 &  0 &  0\\\\\n",
       "\t chr1 & 34610 & 35591 & FAM138A:NR\\_026818.1   & . & - &  0 & 0 &  0 &  0 & ⋯ &  0 &  0 &  0 &  0 &  0 &  0 &  0 &  0 &  0 &  0\\\\\n",
       "\t chr1 & 66168 & 71585 & OR4F5:NM\\_001005484.2  & . & + &  0 & 0 &  0 &  0 & ⋯ &  0 &  0 &  0 &  0 &  0 &  0 &  0 &  0 &  0 &  0\\\\\n",
       "\\end{tabular}\n"
      ],
      "text/markdown": [
       "\n",
       "A data.table: 6 × 1651\n",
       "\n",
       "| chrom &lt;chr&gt; | start &lt;int&gt; | stop &lt;int&gt; | gene_transcript &lt;chr&gt; | score &lt;chr&gt; | strand &lt;chr&gt; | SRR7266931 &lt;int&gt; | SRR7266932 &lt;int&gt; | SRR7266933 &lt;int&gt; | SRR7266934 &lt;int&gt; | ⋯ ⋯ | SRR3713716 &lt;int&gt; | SRR3713717 &lt;int&gt; | SRR3713718 &lt;int&gt; | SRR3713719 &lt;int&gt; | SRR8483105 &lt;int&gt; | SRR8483106 &lt;int&gt; | SRR8483107 &lt;int&gt; | SRR8483108 &lt;int&gt; | SRR8483109 &lt;int&gt; | SRR8483110 &lt;int&gt; |\n",
       "|---|---|---|---|---|---|---|---|---|---|---|---|---|---|---|---|---|---|---|---|---|\n",
       "| chr1 | 12623 | 14409 | DDX11L1:NR_046018.2   | . | + |  0 | 0 |  0 |  0 | ⋯ |  0 |  0 |  0 |  0 |  0 |  0 |  0 |  0 |  0 |  0 |\n",
       "| chr1 | 14361 | 28620 | WASH7P:NR_024540.1    | . | - | 43 | 4 | 45 | 34 | ⋯ | 12 | 10 | 38 | 30 | 42 | 62 | 53 | 44 | 49 | 61 |\n",
       "| chr1 | 17368 | 17436 | MIR6859-1:NR_106918.1 | . | - |  0 | 0 |  0 |  0 | ⋯ |  0 |  0 |  0 |  0 |  0 |  0 |  0 |  0 |  0 |  0 |\n",
       "| chr1 | 30365 | 30503 | MIR1302-2:NR_036051.1 | . | + |  0 | 0 |  0 |  0 | ⋯ |  0 |  0 |  0 |  0 |  0 |  0 |  0 |  0 |  0 |  0 |\n",
       "| chr1 | 34610 | 35591 | FAM138A:NR_026818.1   | . | - |  0 | 0 |  0 |  0 | ⋯ |  0 |  0 |  0 |  0 |  0 |  0 |  0 |  0 |  0 |  0 |\n",
       "| chr1 | 66168 | 71585 | OR4F5:NM_001005484.2  | . | + |  0 | 0 |  0 |  0 | ⋯ |  0 |  0 |  0 |  0 |  0 |  0 |  0 |  0 |  0 |  0 |\n",
       "\n"
      ],
      "text/plain": [
       "  chrom start stop  gene_transcript       score strand SRR7266931 SRR7266932\n",
       "1 chr1  12623 14409 DDX11L1:NR_046018.2   .     +       0         0         \n",
       "2 chr1  14361 28620 WASH7P:NR_024540.1    .     -      43         4         \n",
       "3 chr1  17368 17436 MIR6859-1:NR_106918.1 .     -       0         0         \n",
       "4 chr1  30365 30503 MIR1302-2:NR_036051.1 .     +       0         0         \n",
       "5 chr1  34610 35591 FAM138A:NR_026818.1   .     -       0         0         \n",
       "6 chr1  66168 71585 OR4F5:NM_001005484.2  .     +       0         0         \n",
       "  SRR7266933 SRR7266934 ⋯ SRR3713716 SRR3713717 SRR3713718 SRR3713719\n",
       "1  0          0         ⋯  0          0          0          0        \n",
       "2 45         34         ⋯ 12         10         38         30        \n",
       "3  0          0         ⋯  0          0          0          0        \n",
       "4  0          0         ⋯  0          0          0          0        \n",
       "5  0          0         ⋯  0          0          0          0        \n",
       "6  0          0         ⋯  0          0          0          0        \n",
       "  SRR8483105 SRR8483106 SRR8483107 SRR8483108 SRR8483109 SRR8483110\n",
       "1  0          0          0          0          0          0        \n",
       "2 42         62         53         44         49         61        \n",
       "3  0          0          0          0          0          0        \n",
       "4  0          0          0          0          0          0        \n",
       "5  0          0          0          0          0          0        \n",
       "6  0          0          0          0          0          0        "
      ]
     },
     "metadata": {},
     "output_type": "display_data"
    }
   ],
   "source": [
    "counts_genes <- data.table::fread('/Users/rusi2317/projects/meta_analysis_qc/hg38/processed_data/counts/genes/counts_filt_5ptrunc_gene_stranded_counts.txt',\n",
    "                                 sep='\\t')\n",
    "dim(counts_genes)\n",
    "head(counts_genes)"
   ]
  },
  {
   "cell_type": "markdown",
   "metadata": {},
   "source": [
    "## Bidirectional counts"
   ]
  },
  {
   "cell_type": "code",
   "execution_count": 8,
   "metadata": {},
   "outputs": [
    {
     "data": {
      "text/html": [
       "<style>\n",
       ".list-inline {list-style: none; margin:0; padding: 0}\n",
       ".list-inline>li {display: inline-block}\n",
       ".list-inline>li:not(:last-child)::after {content: \"\\00b7\"; padding: 0 .5ex}\n",
       "</style>\n",
       "<ol class=list-inline><li>847521</li><li>1651</li></ol>\n"
      ],
      "text/latex": [
       "\\begin{enumerate*}\n",
       "\\item 847521\n",
       "\\item 1651\n",
       "\\end{enumerate*}\n"
      ],
      "text/markdown": [
       "1. 847521\n",
       "2. 1651\n",
       "\n",
       "\n"
      ],
      "text/plain": [
       "[1] 847521   1651"
      ]
     },
     "metadata": {},
     "output_type": "display_data"
    },
    {
     "data": {
      "text/html": [
       "<table class=\"dataframe\">\n",
       "<caption>A data.table: 3 × 1651</caption>\n",
       "<thead>\n",
       "\t<tr><th scope=col>chrom</th><th scope=col>start</th><th scope=col>end</th><th scope=col>bidirs</th><th scope=col>score</th><th scope=col>strand</th><th scope=col>SRR7266931</th><th scope=col>SRR7266932</th><th scope=col>SRR7266933</th><th scope=col>SRR7266934</th><th scope=col>⋯</th><th scope=col>SRR3713716</th><th scope=col>SRR3713717</th><th scope=col>SRR3713718</th><th scope=col>SRR3713719</th><th scope=col>SRR8483105</th><th scope=col>SRR8483106</th><th scope=col>SRR8483107</th><th scope=col>SRR8483108</th><th scope=col>SRR8483109</th><th scope=col>SRR8483110</th></tr>\n",
       "\t<tr><th scope=col>&lt;chr&gt;</th><th scope=col>&lt;int&gt;</th><th scope=col>&lt;int&gt;</th><th scope=col>&lt;chr&gt;</th><th scope=col>&lt;int&gt;</th><th scope=col>&lt;chr&gt;</th><th scope=col>&lt;int&gt;</th><th scope=col>&lt;int&gt;</th><th scope=col>&lt;int&gt;</th><th scope=col>&lt;int&gt;</th><th scope=col>⋯</th><th scope=col>&lt;int&gt;</th><th scope=col>&lt;int&gt;</th><th scope=col>&lt;int&gt;</th><th scope=col>&lt;int&gt;</th><th scope=col>&lt;int&gt;</th><th scope=col>&lt;int&gt;</th><th scope=col>&lt;int&gt;</th><th scope=col>&lt;int&gt;</th><th scope=col>&lt;int&gt;</th><th scope=col>&lt;int&gt;</th></tr>\n",
       "</thead>\n",
       "<tbody>\n",
       "\t<tr><td>chr1</td><td>3917</td><td>4919</td><td>chr1:3917-4919</td><td>14</td><td>.</td><td>0</td><td>0</td><td>0</td><td>0</td><td>⋯</td><td>0</td><td>0</td><td>0</td><td>0</td><td>0</td><td>0</td><td>0</td><td>0</td><td>0</td><td>0</td></tr>\n",
       "\t<tr><td>chr1</td><td>5632</td><td>6042</td><td>chr1:5632-6042</td><td>14</td><td>.</td><td>0</td><td>0</td><td>0</td><td>0</td><td>⋯</td><td>0</td><td>0</td><td>0</td><td>0</td><td>0</td><td>0</td><td>0</td><td>0</td><td>0</td><td>0</td></tr>\n",
       "\t<tr><td>chr1</td><td>6132</td><td>6486</td><td>chr1:6132-6486</td><td> 7</td><td>.</td><td>0</td><td>0</td><td>0</td><td>0</td><td>⋯</td><td>0</td><td>0</td><td>0</td><td>0</td><td>0</td><td>0</td><td>0</td><td>0</td><td>0</td><td>0</td></tr>\n",
       "</tbody>\n",
       "</table>\n"
      ],
      "text/latex": [
       "A data.table: 3 × 1651\n",
       "\\begin{tabular}{lllllllllllllllllllll}\n",
       " chrom & start & end & bidirs & score & strand & SRR7266931 & SRR7266932 & SRR7266933 & SRR7266934 & ⋯ & SRR3713716 & SRR3713717 & SRR3713718 & SRR3713719 & SRR8483105 & SRR8483106 & SRR8483107 & SRR8483108 & SRR8483109 & SRR8483110\\\\\n",
       " <chr> & <int> & <int> & <chr> & <int> & <chr> & <int> & <int> & <int> & <int> & ⋯ & <int> & <int> & <int> & <int> & <int> & <int> & <int> & <int> & <int> & <int>\\\\\n",
       "\\hline\n",
       "\t chr1 & 3917 & 4919 & chr1:3917-4919 & 14 & . & 0 & 0 & 0 & 0 & ⋯ & 0 & 0 & 0 & 0 & 0 & 0 & 0 & 0 & 0 & 0\\\\\n",
       "\t chr1 & 5632 & 6042 & chr1:5632-6042 & 14 & . & 0 & 0 & 0 & 0 & ⋯ & 0 & 0 & 0 & 0 & 0 & 0 & 0 & 0 & 0 & 0\\\\\n",
       "\t chr1 & 6132 & 6486 & chr1:6132-6486 &  7 & . & 0 & 0 & 0 & 0 & ⋯ & 0 & 0 & 0 & 0 & 0 & 0 & 0 & 0 & 0 & 0\\\\\n",
       "\\end{tabular}\n"
      ],
      "text/markdown": [
       "\n",
       "A data.table: 3 × 1651\n",
       "\n",
       "| chrom &lt;chr&gt; | start &lt;int&gt; | end &lt;int&gt; | bidirs &lt;chr&gt; | score &lt;int&gt; | strand &lt;chr&gt; | SRR7266931 &lt;int&gt; | SRR7266932 &lt;int&gt; | SRR7266933 &lt;int&gt; | SRR7266934 &lt;int&gt; | ⋯ ⋯ | SRR3713716 &lt;int&gt; | SRR3713717 &lt;int&gt; | SRR3713718 &lt;int&gt; | SRR3713719 &lt;int&gt; | SRR8483105 &lt;int&gt; | SRR8483106 &lt;int&gt; | SRR8483107 &lt;int&gt; | SRR8483108 &lt;int&gt; | SRR8483109 &lt;int&gt; | SRR8483110 &lt;int&gt; |\n",
       "|---|---|---|---|---|---|---|---|---|---|---|---|---|---|---|---|---|---|---|---|---|\n",
       "| chr1 | 3917 | 4919 | chr1:3917-4919 | 14 | . | 0 | 0 | 0 | 0 | ⋯ | 0 | 0 | 0 | 0 | 0 | 0 | 0 | 0 | 0 | 0 |\n",
       "| chr1 | 5632 | 6042 | chr1:5632-6042 | 14 | . | 0 | 0 | 0 | 0 | ⋯ | 0 | 0 | 0 | 0 | 0 | 0 | 0 | 0 | 0 | 0 |\n",
       "| chr1 | 6132 | 6486 | chr1:6132-6486 |  7 | . | 0 | 0 | 0 | 0 | ⋯ | 0 | 0 | 0 | 0 | 0 | 0 | 0 | 0 | 0 | 0 |\n",
       "\n"
      ],
      "text/plain": [
       "  chrom start end  bidirs         score strand SRR7266931 SRR7266932 SRR7266933\n",
       "1 chr1  3917  4919 chr1:3917-4919 14    .      0          0          0         \n",
       "2 chr1  5632  6042 chr1:5632-6042 14    .      0          0          0         \n",
       "3 chr1  6132  6486 chr1:6132-6486  7    .      0          0          0         \n",
       "  SRR7266934 ⋯ SRR3713716 SRR3713717 SRR3713718 SRR3713719 SRR8483105\n",
       "1 0          ⋯ 0          0          0          0          0         \n",
       "2 0          ⋯ 0          0          0          0          0         \n",
       "3 0          ⋯ 0          0          0          0          0         \n",
       "  SRR8483106 SRR8483107 SRR8483108 SRR8483109 SRR8483110\n",
       "1 0          0          0          0          0         \n",
       "2 0          0          0          0          0         \n",
       "3 0          0          0          0          0         "
      ]
     },
     "metadata": {},
     "output_type": "display_data"
    }
   ],
   "source": [
    "counts_neg_bidirs <- data.table::fread('/Users/rusi2317/projects/meta_analysis_qc/hg38/processed_data/counts/bidirectionals/counts_bidirectionals_neg.bed',\n",
    "                                  sep='\\t')\n",
    "counts_neg_bidirs$bidirs <- paste0(counts_neg_bidirs$chrom,':',\n",
    "                              counts_neg_bidirs$start,'-',\n",
    "                              counts_neg_bidirs$end)\n",
    "dim(counts_neg_bidirs)\n",
    "head(counts_neg_bidirs, 3)"
   ]
  },
  {
   "cell_type": "code",
   "execution_count": 9,
   "metadata": {},
   "outputs": [
    {
     "data": {
      "text/html": [
       "<style>\n",
       ".list-inline {list-style: none; margin:0; padding: 0}\n",
       ".list-inline>li {display: inline-block}\n",
       ".list-inline>li:not(:last-child)::after {content: \"\\00b7\"; padding: 0 .5ex}\n",
       "</style>\n",
       "<ol class=list-inline><li>847521</li><li>1651</li></ol>\n"
      ],
      "text/latex": [
       "\\begin{enumerate*}\n",
       "\\item 847521\n",
       "\\item 1651\n",
       "\\end{enumerate*}\n"
      ],
      "text/markdown": [
       "1. 847521\n",
       "2. 1651\n",
       "\n",
       "\n"
      ],
      "text/plain": [
       "[1] 847521   1651"
      ]
     },
     "metadata": {},
     "output_type": "display_data"
    },
    {
     "data": {
      "text/html": [
       "<table class=\"dataframe\">\n",
       "<caption>A data.table: 3 × 1651</caption>\n",
       "<thead>\n",
       "\t<tr><th scope=col>chrom</th><th scope=col>start</th><th scope=col>end</th><th scope=col>bidirs</th><th scope=col>score</th><th scope=col>strand</th><th scope=col>SRR7266931</th><th scope=col>SRR7266932</th><th scope=col>SRR7266933</th><th scope=col>SRR7266934</th><th scope=col>⋯</th><th scope=col>SRR3713716</th><th scope=col>SRR3713717</th><th scope=col>SRR3713718</th><th scope=col>SRR3713719</th><th scope=col>SRR8483105</th><th scope=col>SRR8483106</th><th scope=col>SRR8483107</th><th scope=col>SRR8483108</th><th scope=col>SRR8483109</th><th scope=col>SRR8483110</th></tr>\n",
       "\t<tr><th scope=col>&lt;chr&gt;</th><th scope=col>&lt;int&gt;</th><th scope=col>&lt;int&gt;</th><th scope=col>&lt;chr&gt;</th><th scope=col>&lt;int&gt;</th><th scope=col>&lt;chr&gt;</th><th scope=col>&lt;int&gt;</th><th scope=col>&lt;int&gt;</th><th scope=col>&lt;int&gt;</th><th scope=col>&lt;int&gt;</th><th scope=col>⋯</th><th scope=col>&lt;int&gt;</th><th scope=col>&lt;int&gt;</th><th scope=col>&lt;int&gt;</th><th scope=col>&lt;int&gt;</th><th scope=col>&lt;int&gt;</th><th scope=col>&lt;int&gt;</th><th scope=col>&lt;int&gt;</th><th scope=col>&lt;int&gt;</th><th scope=col>&lt;int&gt;</th><th scope=col>&lt;int&gt;</th></tr>\n",
       "</thead>\n",
       "<tbody>\n",
       "\t<tr><td>chr1</td><td>3917</td><td>4919</td><td>chr1:3917-4919</td><td>14</td><td>.</td><td>0</td><td>0</td><td>0</td><td>0</td><td>⋯</td><td>0</td><td>0</td><td>0</td><td>0</td><td>0</td><td>0</td><td>0</td><td>0</td><td>0</td><td>0</td></tr>\n",
       "\t<tr><td>chr1</td><td>5632</td><td>6042</td><td>chr1:5632-6042</td><td>14</td><td>.</td><td>0</td><td>0</td><td>0</td><td>0</td><td>⋯</td><td>0</td><td>0</td><td>0</td><td>0</td><td>0</td><td>0</td><td>0</td><td>0</td><td>0</td><td>0</td></tr>\n",
       "\t<tr><td>chr1</td><td>6132</td><td>6486</td><td>chr1:6132-6486</td><td> 7</td><td>.</td><td>0</td><td>0</td><td>0</td><td>0</td><td>⋯</td><td>0</td><td>0</td><td>0</td><td>0</td><td>0</td><td>0</td><td>0</td><td>0</td><td>0</td><td>0</td></tr>\n",
       "</tbody>\n",
       "</table>\n"
      ],
      "text/latex": [
       "A data.table: 3 × 1651\n",
       "\\begin{tabular}{lllllllllllllllllllll}\n",
       " chrom & start & end & bidirs & score & strand & SRR7266931 & SRR7266932 & SRR7266933 & SRR7266934 & ⋯ & SRR3713716 & SRR3713717 & SRR3713718 & SRR3713719 & SRR8483105 & SRR8483106 & SRR8483107 & SRR8483108 & SRR8483109 & SRR8483110\\\\\n",
       " <chr> & <int> & <int> & <chr> & <int> & <chr> & <int> & <int> & <int> & <int> & ⋯ & <int> & <int> & <int> & <int> & <int> & <int> & <int> & <int> & <int> & <int>\\\\\n",
       "\\hline\n",
       "\t chr1 & 3917 & 4919 & chr1:3917-4919 & 14 & . & 0 & 0 & 0 & 0 & ⋯ & 0 & 0 & 0 & 0 & 0 & 0 & 0 & 0 & 0 & 0\\\\\n",
       "\t chr1 & 5632 & 6042 & chr1:5632-6042 & 14 & . & 0 & 0 & 0 & 0 & ⋯ & 0 & 0 & 0 & 0 & 0 & 0 & 0 & 0 & 0 & 0\\\\\n",
       "\t chr1 & 6132 & 6486 & chr1:6132-6486 &  7 & . & 0 & 0 & 0 & 0 & ⋯ & 0 & 0 & 0 & 0 & 0 & 0 & 0 & 0 & 0 & 0\\\\\n",
       "\\end{tabular}\n"
      ],
      "text/markdown": [
       "\n",
       "A data.table: 3 × 1651\n",
       "\n",
       "| chrom &lt;chr&gt; | start &lt;int&gt; | end &lt;int&gt; | bidirs &lt;chr&gt; | score &lt;int&gt; | strand &lt;chr&gt; | SRR7266931 &lt;int&gt; | SRR7266932 &lt;int&gt; | SRR7266933 &lt;int&gt; | SRR7266934 &lt;int&gt; | ⋯ ⋯ | SRR3713716 &lt;int&gt; | SRR3713717 &lt;int&gt; | SRR3713718 &lt;int&gt; | SRR3713719 &lt;int&gt; | SRR8483105 &lt;int&gt; | SRR8483106 &lt;int&gt; | SRR8483107 &lt;int&gt; | SRR8483108 &lt;int&gt; | SRR8483109 &lt;int&gt; | SRR8483110 &lt;int&gt; |\n",
       "|---|---|---|---|---|---|---|---|---|---|---|---|---|---|---|---|---|---|---|---|---|\n",
       "| chr1 | 3917 | 4919 | chr1:3917-4919 | 14 | . | 0 | 0 | 0 | 0 | ⋯ | 0 | 0 | 0 | 0 | 0 | 0 | 0 | 0 | 0 | 0 |\n",
       "| chr1 | 5632 | 6042 | chr1:5632-6042 | 14 | . | 0 | 0 | 0 | 0 | ⋯ | 0 | 0 | 0 | 0 | 0 | 0 | 0 | 0 | 0 | 0 |\n",
       "| chr1 | 6132 | 6486 | chr1:6132-6486 |  7 | . | 0 | 0 | 0 | 0 | ⋯ | 0 | 0 | 0 | 0 | 0 | 0 | 0 | 0 | 0 | 0 |\n",
       "\n"
      ],
      "text/plain": [
       "  chrom start end  bidirs         score strand SRR7266931 SRR7266932 SRR7266933\n",
       "1 chr1  3917  4919 chr1:3917-4919 14    .      0          0          0         \n",
       "2 chr1  5632  6042 chr1:5632-6042 14    .      0          0          0         \n",
       "3 chr1  6132  6486 chr1:6132-6486  7    .      0          0          0         \n",
       "  SRR7266934 ⋯ SRR3713716 SRR3713717 SRR3713718 SRR3713719 SRR8483105\n",
       "1 0          ⋯ 0          0          0          0          0         \n",
       "2 0          ⋯ 0          0          0          0          0         \n",
       "3 0          ⋯ 0          0          0          0          0         \n",
       "  SRR8483106 SRR8483107 SRR8483108 SRR8483109 SRR8483110\n",
       "1 0          0          0          0          0         \n",
       "2 0          0          0          0          0         \n",
       "3 0          0          0          0          0         "
      ]
     },
     "metadata": {},
     "output_type": "display_data"
    }
   ],
   "source": [
    "counts_pos_bidirs <- data.table::fread('/Users/rusi2317/projects/meta_analysis_qc/hg38/processed_data/counts/bidirectionals/counts_bidirectionals_pos.bed',\n",
    "                                  sep='\\t')\n",
    "counts_pos_bidirs$bidirs <- paste0(counts_pos_bidirs$chrom,':',\n",
    "                              counts_pos_bidirs$start,'-',\n",
    "                              counts_pos_bidirs$end)\n",
    "dim(counts_pos_bidirs)\n",
    "head(counts_pos_bidirs, 3)"
   ]
  },
  {
   "cell_type": "code",
   "execution_count": 10,
   "metadata": {},
   "outputs": [
    {
     "data": {
      "text/html": [
       "<style>\n",
       ".list-inline {list-style: none; margin:0; padding: 0}\n",
       ".list-inline>li {display: inline-block}\n",
       ".list-inline>li:not(:last-child)::after {content: \"\\00b7\"; padding: 0 .5ex}\n",
       "</style>\n",
       "<ol class=list-inline><li>847521</li><li>1651</li></ol>\n"
      ],
      "text/latex": [
       "\\begin{enumerate*}\n",
       "\\item 847521\n",
       "\\item 1651\n",
       "\\end{enumerate*}\n"
      ],
      "text/markdown": [
       "1. 847521\n",
       "2. 1651\n",
       "\n",
       "\n"
      ],
      "text/plain": [
       "[1] 847521   1651"
      ]
     },
     "metadata": {},
     "output_type": "display_data"
    },
    {
     "data": {
      "text/html": [
       "<table class=\"dataframe\">\n",
       "<caption>A data.table: 3 × 1651</caption>\n",
       "<thead>\n",
       "\t<tr><th scope=col>chrom</th><th scope=col>start</th><th scope=col>end</th><th scope=col>bidirs</th><th scope=col>score</th><th scope=col>strand</th><th scope=col>SRR7266931</th><th scope=col>SRR7266932</th><th scope=col>SRR7266933</th><th scope=col>SRR7266934</th><th scope=col>⋯</th><th scope=col>SRR3713716</th><th scope=col>SRR3713717</th><th scope=col>SRR3713718</th><th scope=col>SRR3713719</th><th scope=col>SRR8483105</th><th scope=col>SRR8483106</th><th scope=col>SRR8483107</th><th scope=col>SRR8483108</th><th scope=col>SRR8483109</th><th scope=col>SRR8483110</th></tr>\n",
       "\t<tr><th scope=col>&lt;chr&gt;</th><th scope=col>&lt;int&gt;</th><th scope=col>&lt;int&gt;</th><th scope=col>&lt;chr&gt;</th><th scope=col>&lt;int&gt;</th><th scope=col>&lt;chr&gt;</th><th scope=col>&lt;int&gt;</th><th scope=col>&lt;int&gt;</th><th scope=col>&lt;int&gt;</th><th scope=col>&lt;int&gt;</th><th scope=col>⋯</th><th scope=col>&lt;int&gt;</th><th scope=col>&lt;int&gt;</th><th scope=col>&lt;int&gt;</th><th scope=col>&lt;int&gt;</th><th scope=col>&lt;int&gt;</th><th scope=col>&lt;int&gt;</th><th scope=col>&lt;int&gt;</th><th scope=col>&lt;int&gt;</th><th scope=col>&lt;int&gt;</th><th scope=col>&lt;int&gt;</th></tr>\n",
       "</thead>\n",
       "<tbody>\n",
       "\t<tr><td>chr1</td><td>3917</td><td>4919</td><td>chr1:3917-4919</td><td>14</td><td>.</td><td>0</td><td>0</td><td>0</td><td>0</td><td>⋯</td><td>0</td><td>0</td><td>0</td><td>0</td><td>0</td><td>0</td><td>0</td><td>0</td><td>0</td><td>0</td></tr>\n",
       "\t<tr><td>chr1</td><td>5632</td><td>6042</td><td>chr1:5632-6042</td><td>14</td><td>.</td><td>0</td><td>0</td><td>0</td><td>0</td><td>⋯</td><td>0</td><td>0</td><td>0</td><td>0</td><td>0</td><td>0</td><td>0</td><td>0</td><td>0</td><td>0</td></tr>\n",
       "\t<tr><td>chr1</td><td>6132</td><td>6486</td><td>chr1:6132-6486</td><td> 7</td><td>.</td><td>0</td><td>0</td><td>0</td><td>0</td><td>⋯</td><td>0</td><td>0</td><td>0</td><td>0</td><td>0</td><td>0</td><td>0</td><td>0</td><td>0</td><td>0</td></tr>\n",
       "</tbody>\n",
       "</table>\n"
      ],
      "text/latex": [
       "A data.table: 3 × 1651\n",
       "\\begin{tabular}{lllllllllllllllllllll}\n",
       " chrom & start & end & bidirs & score & strand & SRR7266931 & SRR7266932 & SRR7266933 & SRR7266934 & ⋯ & SRR3713716 & SRR3713717 & SRR3713718 & SRR3713719 & SRR8483105 & SRR8483106 & SRR8483107 & SRR8483108 & SRR8483109 & SRR8483110\\\\\n",
       " <chr> & <int> & <int> & <chr> & <int> & <chr> & <int> & <int> & <int> & <int> & ⋯ & <int> & <int> & <int> & <int> & <int> & <int> & <int> & <int> & <int> & <int>\\\\\n",
       "\\hline\n",
       "\t chr1 & 3917 & 4919 & chr1:3917-4919 & 14 & . & 0 & 0 & 0 & 0 & ⋯ & 0 & 0 & 0 & 0 & 0 & 0 & 0 & 0 & 0 & 0\\\\\n",
       "\t chr1 & 5632 & 6042 & chr1:5632-6042 & 14 & . & 0 & 0 & 0 & 0 & ⋯ & 0 & 0 & 0 & 0 & 0 & 0 & 0 & 0 & 0 & 0\\\\\n",
       "\t chr1 & 6132 & 6486 & chr1:6132-6486 &  7 & . & 0 & 0 & 0 & 0 & ⋯ & 0 & 0 & 0 & 0 & 0 & 0 & 0 & 0 & 0 & 0\\\\\n",
       "\\end{tabular}\n"
      ],
      "text/markdown": [
       "\n",
       "A data.table: 3 × 1651\n",
       "\n",
       "| chrom &lt;chr&gt; | start &lt;int&gt; | end &lt;int&gt; | bidirs &lt;chr&gt; | score &lt;int&gt; | strand &lt;chr&gt; | SRR7266931 &lt;int&gt; | SRR7266932 &lt;int&gt; | SRR7266933 &lt;int&gt; | SRR7266934 &lt;int&gt; | ⋯ ⋯ | SRR3713716 &lt;int&gt; | SRR3713717 &lt;int&gt; | SRR3713718 &lt;int&gt; | SRR3713719 &lt;int&gt; | SRR8483105 &lt;int&gt; | SRR8483106 &lt;int&gt; | SRR8483107 &lt;int&gt; | SRR8483108 &lt;int&gt; | SRR8483109 &lt;int&gt; | SRR8483110 &lt;int&gt; |\n",
       "|---|---|---|---|---|---|---|---|---|---|---|---|---|---|---|---|---|---|---|---|---|\n",
       "| chr1 | 3917 | 4919 | chr1:3917-4919 | 14 | . | 0 | 0 | 0 | 0 | ⋯ | 0 | 0 | 0 | 0 | 0 | 0 | 0 | 0 | 0 | 0 |\n",
       "| chr1 | 5632 | 6042 | chr1:5632-6042 | 14 | . | 0 | 0 | 0 | 0 | ⋯ | 0 | 0 | 0 | 0 | 0 | 0 | 0 | 0 | 0 | 0 |\n",
       "| chr1 | 6132 | 6486 | chr1:6132-6486 |  7 | . | 0 | 0 | 0 | 0 | ⋯ | 0 | 0 | 0 | 0 | 0 | 0 | 0 | 0 | 0 | 0 |\n",
       "\n"
      ],
      "text/plain": [
       "  chrom start end  bidirs         score strand SRR7266931 SRR7266932 SRR7266933\n",
       "1 chr1  3917  4919 chr1:3917-4919 14    .      0          0          0         \n",
       "2 chr1  5632  6042 chr1:5632-6042 14    .      0          0          0         \n",
       "3 chr1  6132  6486 chr1:6132-6486  7    .      0          0          0         \n",
       "  SRR7266934 ⋯ SRR3713716 SRR3713717 SRR3713718 SRR3713719 SRR8483105\n",
       "1 0          ⋯ 0          0          0          0          0         \n",
       "2 0          ⋯ 0          0          0          0          0         \n",
       "3 0          ⋯ 0          0          0          0          0         \n",
       "  SRR8483106 SRR8483107 SRR8483108 SRR8483109 SRR8483110\n",
       "1 0          0          0          0          0         \n",
       "2 0          0          0          0          0         \n",
       "3 0          0          0          0          0         "
      ]
     },
     "metadata": {},
     "output_type": "display_data"
    }
   ],
   "source": [
    "nsamples <- as.numeric(ncol(counts_pos_bidirs))\n",
    "\n",
    "counts_bidirs_pos_neg <- cbind(counts_pos_bidirs[,1:6],\n",
    "                       counts_pos_bidirs[,7:nsamples] + counts_neg_bidirs[,7:nsamples])\n",
    "dim(counts_bidirs_pos_neg)\n",
    "head(counts_bidirs_pos_neg, 3)"
   ]
  },
  {
   "cell_type": "markdown",
   "metadata": {},
   "source": [
    "## Bidirectional filters"
   ]
  },
  {
   "cell_type": "markdown",
   "metadata": {},
   "source": [
    "```sh\n",
    "\n",
    "module load bedtools/2.28.0\n",
    "\n",
    "###########################\n",
    "##0: initialize files    ## \n",
    "###########################\n",
    "wd=/scratch/Users/rusi2317/projects/meta_analysis_qc_reviews\n",
    "hg38_refseq=/scratch/Shares/dowell/genomes/hg38/ncbi/hg38_refseq_diff53prime_with_putatives.bed  \n",
    "hg38_bidirs=/scratch/Shares/dowell/dbnascent/out/meta_analysis/mumerge/bidirectionals_dreg_tfit/hg38_tfit_dreg_bidirectionals.bed\n",
    "genome=/scratch/Shares/dowell/genomes/hg38/ncbi/hg38.chrom.sizes_unsorted\n",
    "outdir=${wd}/annotations\n",
    "\n",
    "mkdir -p ${outdir}\n",
    "\n",
    "########################################################################\n",
    "#1: get bidirectionals NOT overlapping RefSeq truncated genes         ##\n",
    "########################################################################\n",
    "\n",
    "#filter RefSeq annotations so that only the curated gene list is used (NM,NR,NP)\n",
    "cat ${hg38_refseq} | grep \"NM_\\|NR_\\|NP_\" > ${outdir}/hg38_refseq_diff53prime_curated.bed\n",
    "\n",
    "#add slop 250 bp upstream of TSS (-l 250) and 15kb from PAS (-r 15000)\n",
    "bedtools slop -i ${hg38_refseq} -g ${genome} -l 250 -r 15000 -s > ${outdir}/hg38_refseq_diff53prime_with_putatives_SLOP.bed\n",
    "\n",
    "#i: get bidirectional transcripts NOT overlapping RefSeq\n",
    "#Takes the above steps and puts them together\n",
    "cat ${hg38_refseq} | grep \"NM_\\|NR_\\|NP_\" | bedtools slop -i - -g ${genome} -l 250 -r 15000 -s | bedtools intersect -a ${hg38_bidirs} -b - -wa -v > ${outdir}/hg38_tfit_dreg_bidirectionals_non_genes.bed\n",
    "\n",
    "#ii: get those that do overlap, along with the gene annotations\n",
    "#filter RefSeq annotations so that only the curated gene list is used (NM,NR,NP)\n",
    "#report the number of bases that overlap\n",
    "cat ${hg38_refseq} | grep \"NM_\\|NR_\\|NP_\" | bedtools slop -i - -g ${genome} -l 250 -r 15000 -s | bedtools intersect -a ${hg38_bidirs} -b - -wo > ${outdir}/hg38_tfit_dreg_bidirectionals_in_genes.bed \n",
    "\n",
    "########################################################################\n",
    "#2: get distances between genes and nearest genes. Used for filtering ##\n",
    "########################################################################\n",
    "#i: get distances between genes (used to filter those with close genes downstream)                                                                                                                                             \n",
    "#D - Use negative distances to report upstream features\n",
    "#a - Report distance with respect to A \n",
    "#-k report upto 2 closest\n",
    "#-S require opposite strandedness\n",
    "bedtools closest -a ${outdir}/hg38_refseq_diff53prime_curated.bed -b ${outdir}/hg38_refseq_diff53prime_curated.bed -S -D a -k 2 > ${outdir}/hg38_refseq_diff53prime_genes_distances.bed\n",
    "\n",
    "\n",
    "\n",
    "```"
   ]
  },
  {
   "cell_type": "markdown",
   "metadata": {},
   "source": [
    "### Bidirectional transcripts NOT overlapping genes"
   ]
  },
  {
   "cell_type": "code",
   "execution_count": 11,
   "metadata": {},
   "outputs": [
    {
     "data": {
      "text/html": [
       "258345"
      ],
      "text/latex": [
       "258345"
      ],
      "text/markdown": [
       "258345"
      ],
      "text/plain": [
       "[1] 258345"
      ]
     },
     "metadata": {},
     "output_type": "display_data"
    },
    {
     "data": {
      "text/html": [
       "<table class=\"dataframe\">\n",
       "<caption>A data.table: 6 × 6</caption>\n",
       "<thead>\n",
       "\t<tr><th scope=col>chrom</th><th scope=col>start</th><th scope=col>end</th><th scope=col>bidirs</th><th scope=col>score</th><th scope=col>strand</th></tr>\n",
       "\t<tr><th scope=col>&lt;chr&gt;</th><th scope=col>&lt;int&gt;</th><th scope=col>&lt;int&gt;</th><th scope=col>&lt;chr&gt;</th><th scope=col>&lt;int&gt;</th><th scope=col>&lt;chr&gt;</th></tr>\n",
       "</thead>\n",
       "<tbody>\n",
       "\t<tr><td>chr1</td><td>46585</td><td>47033</td><td>chr1:46585-47033</td><td>3</td><td>.</td></tr>\n",
       "\t<tr><td>chr1</td><td>53210</td><td>53580</td><td>chr1:53210-53580</td><td>1</td><td>.</td></tr>\n",
       "\t<tr><td>chr1</td><td>60170</td><td>60510</td><td>chr1:60170-60510</td><td>1</td><td>.</td></tr>\n",
       "\t<tr><td>chr1</td><td>61756</td><td>62124</td><td>chr1:61756-62124</td><td>1</td><td>.</td></tr>\n",
       "\t<tr><td>chr1</td><td>87654</td><td>88246</td><td>chr1:87654-88246</td><td>4</td><td>.</td></tr>\n",
       "\t<tr><td>chr1</td><td>88908</td><td>89232</td><td>chr1:88908-89232</td><td>7</td><td>.</td></tr>\n",
       "</tbody>\n",
       "</table>\n"
      ],
      "text/latex": [
       "A data.table: 6 × 6\n",
       "\\begin{tabular}{llllll}\n",
       " chrom & start & end & bidirs & score & strand\\\\\n",
       " <chr> & <int> & <int> & <chr> & <int> & <chr>\\\\\n",
       "\\hline\n",
       "\t chr1 & 46585 & 47033 & chr1:46585-47033 & 3 & .\\\\\n",
       "\t chr1 & 53210 & 53580 & chr1:53210-53580 & 1 & .\\\\\n",
       "\t chr1 & 60170 & 60510 & chr1:60170-60510 & 1 & .\\\\\n",
       "\t chr1 & 61756 & 62124 & chr1:61756-62124 & 1 & .\\\\\n",
       "\t chr1 & 87654 & 88246 & chr1:87654-88246 & 4 & .\\\\\n",
       "\t chr1 & 88908 & 89232 & chr1:88908-89232 & 7 & .\\\\\n",
       "\\end{tabular}\n"
      ],
      "text/markdown": [
       "\n",
       "A data.table: 6 × 6\n",
       "\n",
       "| chrom &lt;chr&gt; | start &lt;int&gt; | end &lt;int&gt; | bidirs &lt;chr&gt; | score &lt;int&gt; | strand &lt;chr&gt; |\n",
       "|---|---|---|---|---|---|\n",
       "| chr1 | 46585 | 47033 | chr1:46585-47033 | 3 | . |\n",
       "| chr1 | 53210 | 53580 | chr1:53210-53580 | 1 | . |\n",
       "| chr1 | 60170 | 60510 | chr1:60170-60510 | 1 | . |\n",
       "| chr1 | 61756 | 62124 | chr1:61756-62124 | 1 | . |\n",
       "| chr1 | 87654 | 88246 | chr1:87654-88246 | 4 | . |\n",
       "| chr1 | 88908 | 89232 | chr1:88908-89232 | 7 | . |\n",
       "\n"
      ],
      "text/plain": [
       "  chrom start end   bidirs           score strand\n",
       "1 chr1  46585 47033 chr1:46585-47033 3     .     \n",
       "2 chr1  53210 53580 chr1:53210-53580 1     .     \n",
       "3 chr1  60170 60510 chr1:60170-60510 1     .     \n",
       "4 chr1  61756 62124 chr1:61756-62124 1     .     \n",
       "5 chr1  87654 88246 chr1:87654-88246 4     .     \n",
       "6 chr1  88908 89232 chr1:88908-89232 7     .     "
      ]
     },
     "metadata": {},
     "output_type": "display_data"
    }
   ],
   "source": [
    "bidir_no_overlaps <- data.table::fread(\"/Users/rusi2317/projects/meta_analysis_qc_reviews/annotations/hg38_tfit_dreg_bidirectionals_non_genes.bed\",\n",
    "                                   sep=\"\\t\")\n",
    "colnames(bidir_no_overlaps) <- c('chrom','start','end','bidirs',\n",
    "                             'score','strand')\n",
    "bidir_no_overlaps$bidirs <- paste0(bidir_no_overlaps$chrom,':',\n",
    "                              bidir_no_overlaps$start,'-',\n",
    "                              bidir_no_overlaps$end)\n",
    "\n",
    "nrow(bidir_no_overlaps)\n",
    "head(bidir_no_overlaps)"
   ]
  },
  {
   "cell_type": "markdown",
   "metadata": {},
   "source": [
    "### Bidirectional transcripts DO overlap genes"
   ]
  },
  {
   "cell_type": "code",
   "execution_count": 12,
   "metadata": {},
   "outputs": [
    {
     "data": {
      "text/html": [
       "1177667"
      ],
      "text/latex": [
       "1177667"
      ],
      "text/markdown": [
       "1177667"
      ],
      "text/plain": [
       "[1] 1177667"
      ]
     },
     "metadata": {},
     "output_type": "display_data"
    },
    {
     "data": {
      "text/html": [
       "<table class=\"dataframe\">\n",
       "<caption>A data.table: 6 × 15</caption>\n",
       "<thead>\n",
       "\t<tr><th scope=col>chrom</th><th scope=col>start</th><th scope=col>end</th><th scope=col>bidirs</th><th scope=col>score</th><th scope=col>strand</th><th scope=col>gene_chrom</th><th scope=col>gene_start</th><th scope=col>gene_end</th><th scope=col>gene_id</th><th scope=col>gene_score</th><th scope=col>gene_strand</th><th scope=col>overlap_len</th><th scope=col>bidir_width</th><th scope=col>bidir_overlap_perc</th></tr>\n",
       "\t<tr><th scope=col>&lt;chr&gt;</th><th scope=col>&lt;int&gt;</th><th scope=col>&lt;int&gt;</th><th scope=col>&lt;chr&gt;</th><th scope=col>&lt;int&gt;</th><th scope=col>&lt;chr&gt;</th><th scope=col>&lt;chr&gt;</th><th scope=col>&lt;int&gt;</th><th scope=col>&lt;int&gt;</th><th scope=col>&lt;chr&gt;</th><th scope=col>&lt;chr&gt;</th><th scope=col>&lt;chr&gt;</th><th scope=col>&lt;int&gt;</th><th scope=col>&lt;dbl&gt;</th><th scope=col>&lt;dbl&gt;</th></tr>\n",
       "</thead>\n",
       "<tbody>\n",
       "\t<tr><td>chr1</td><td>3917</td><td>4919</td><td>chr1:3917-4919</td><td>14</td><td>.</td><td>chr1</td><td>   0</td><td>29620</td><td>WASH7P:NR_024540.1   </td><td>.</td><td>-</td><td>1002</td><td>1002</td><td>1</td></tr>\n",
       "\t<tr><td>chr1</td><td>3917</td><td>4919</td><td>chr1:3917-4919</td><td>14</td><td>.</td><td>chr1</td><td>2368</td><td>17686</td><td>MIR6859-1:NR_106918.1</td><td>.</td><td>-</td><td>1002</td><td>1002</td><td>1</td></tr>\n",
       "\t<tr><td>chr1</td><td>5632</td><td>6042</td><td>chr1:5632-6042</td><td>14</td><td>.</td><td>chr1</td><td>   0</td><td>29620</td><td>WASH7P:NR_024540.1   </td><td>.</td><td>-</td><td> 410</td><td> 410</td><td>1</td></tr>\n",
       "\t<tr><td>chr1</td><td>5632</td><td>6042</td><td>chr1:5632-6042</td><td>14</td><td>.</td><td>chr1</td><td>2368</td><td>17686</td><td>MIR6859-1:NR_106918.1</td><td>.</td><td>-</td><td> 410</td><td> 410</td><td>1</td></tr>\n",
       "\t<tr><td>chr1</td><td>6132</td><td>6486</td><td>chr1:6132-6486</td><td> 7</td><td>.</td><td>chr1</td><td>   0</td><td>29620</td><td>WASH7P:NR_024540.1   </td><td>.</td><td>-</td><td> 354</td><td> 354</td><td>1</td></tr>\n",
       "\t<tr><td>chr1</td><td>6132</td><td>6486</td><td>chr1:6132-6486</td><td> 7</td><td>.</td><td>chr1</td><td>2368</td><td>17686</td><td>MIR6859-1:NR_106918.1</td><td>.</td><td>-</td><td> 354</td><td> 354</td><td>1</td></tr>\n",
       "</tbody>\n",
       "</table>\n"
      ],
      "text/latex": [
       "A data.table: 6 × 15\n",
       "\\begin{tabular}{lllllllllllllll}\n",
       " chrom & start & end & bidirs & score & strand & gene\\_chrom & gene\\_start & gene\\_end & gene\\_id & gene\\_score & gene\\_strand & overlap\\_len & bidir\\_width & bidir\\_overlap\\_perc\\\\\n",
       " <chr> & <int> & <int> & <chr> & <int> & <chr> & <chr> & <int> & <int> & <chr> & <chr> & <chr> & <int> & <dbl> & <dbl>\\\\\n",
       "\\hline\n",
       "\t chr1 & 3917 & 4919 & chr1:3917-4919 & 14 & . & chr1 &    0 & 29620 & WASH7P:NR\\_024540.1    & . & - & 1002 & 1002 & 1\\\\\n",
       "\t chr1 & 3917 & 4919 & chr1:3917-4919 & 14 & . & chr1 & 2368 & 17686 & MIR6859-1:NR\\_106918.1 & . & - & 1002 & 1002 & 1\\\\\n",
       "\t chr1 & 5632 & 6042 & chr1:5632-6042 & 14 & . & chr1 &    0 & 29620 & WASH7P:NR\\_024540.1    & . & - &  410 &  410 & 1\\\\\n",
       "\t chr1 & 5632 & 6042 & chr1:5632-6042 & 14 & . & chr1 & 2368 & 17686 & MIR6859-1:NR\\_106918.1 & . & - &  410 &  410 & 1\\\\\n",
       "\t chr1 & 6132 & 6486 & chr1:6132-6486 &  7 & . & chr1 &    0 & 29620 & WASH7P:NR\\_024540.1    & . & - &  354 &  354 & 1\\\\\n",
       "\t chr1 & 6132 & 6486 & chr1:6132-6486 &  7 & . & chr1 & 2368 & 17686 & MIR6859-1:NR\\_106918.1 & . & - &  354 &  354 & 1\\\\\n",
       "\\end{tabular}\n"
      ],
      "text/markdown": [
       "\n",
       "A data.table: 6 × 15\n",
       "\n",
       "| chrom &lt;chr&gt; | start &lt;int&gt; | end &lt;int&gt; | bidirs &lt;chr&gt; | score &lt;int&gt; | strand &lt;chr&gt; | gene_chrom &lt;chr&gt; | gene_start &lt;int&gt; | gene_end &lt;int&gt; | gene_id &lt;chr&gt; | gene_score &lt;chr&gt; | gene_strand &lt;chr&gt; | overlap_len &lt;int&gt; | bidir_width &lt;dbl&gt; | bidir_overlap_perc &lt;dbl&gt; |\n",
       "|---|---|---|---|---|---|---|---|---|---|---|---|---|---|---|\n",
       "| chr1 | 3917 | 4919 | chr1:3917-4919 | 14 | . | chr1 |    0 | 29620 | WASH7P:NR_024540.1    | . | - | 1002 | 1002 | 1 |\n",
       "| chr1 | 3917 | 4919 | chr1:3917-4919 | 14 | . | chr1 | 2368 | 17686 | MIR6859-1:NR_106918.1 | . | - | 1002 | 1002 | 1 |\n",
       "| chr1 | 5632 | 6042 | chr1:5632-6042 | 14 | . | chr1 |    0 | 29620 | WASH7P:NR_024540.1    | . | - |  410 |  410 | 1 |\n",
       "| chr1 | 5632 | 6042 | chr1:5632-6042 | 14 | . | chr1 | 2368 | 17686 | MIR6859-1:NR_106918.1 | . | - |  410 |  410 | 1 |\n",
       "| chr1 | 6132 | 6486 | chr1:6132-6486 |  7 | . | chr1 |    0 | 29620 | WASH7P:NR_024540.1    | . | - |  354 |  354 | 1 |\n",
       "| chr1 | 6132 | 6486 | chr1:6132-6486 |  7 | . | chr1 | 2368 | 17686 | MIR6859-1:NR_106918.1 | . | - |  354 |  354 | 1 |\n",
       "\n"
      ],
      "text/plain": [
       "  chrom start end  bidirs         score strand gene_chrom gene_start gene_end\n",
       "1 chr1  3917  4919 chr1:3917-4919 14    .      chr1          0       29620   \n",
       "2 chr1  3917  4919 chr1:3917-4919 14    .      chr1       2368       17686   \n",
       "3 chr1  5632  6042 chr1:5632-6042 14    .      chr1          0       29620   \n",
       "4 chr1  5632  6042 chr1:5632-6042 14    .      chr1       2368       17686   \n",
       "5 chr1  6132  6486 chr1:6132-6486  7    .      chr1          0       29620   \n",
       "6 chr1  6132  6486 chr1:6132-6486  7    .      chr1       2368       17686   \n",
       "  gene_id               gene_score gene_strand overlap_len bidir_width\n",
       "1 WASH7P:NR_024540.1    .          -           1002        1002       \n",
       "2 MIR6859-1:NR_106918.1 .          -           1002        1002       \n",
       "3 WASH7P:NR_024540.1    .          -            410         410       \n",
       "4 MIR6859-1:NR_106918.1 .          -            410         410       \n",
       "5 WASH7P:NR_024540.1    .          -            354         354       \n",
       "6 MIR6859-1:NR_106918.1 .          -            354         354       \n",
       "  bidir_overlap_perc\n",
       "1 1                 \n",
       "2 1                 \n",
       "3 1                 \n",
       "4 1                 \n",
       "5 1                 \n",
       "6 1                 "
      ]
     },
     "metadata": {},
     "output_type": "display_data"
    }
   ],
   "source": [
    "##load bidirectionals overlapping genes\n",
    "bidir_overlaps <- data.table::fread(\"/Users/rusi2317/projects/meta_analysis_qc_reviews/annotations/hg38_tfit_dreg_bidirectionals_in_genes.bed\",\n",
    "                                   sep=\"\\t\")\n",
    "colnames(bidir_overlaps) <- c('chrom','start','end','bidirs',\n",
    "                             'score','strand', 'gene_chrom',\n",
    "                             'gene_start','gene_end','gene_id',\n",
    "                             'gene_score','gene_strand','overlap_len')\n",
    "bidir_overlaps$bidirs <- paste0(bidir_overlaps$chrom,':',\n",
    "                              bidir_overlaps$start,'-',\n",
    "                              bidir_overlaps$end)\n",
    "\n",
    "##bidirectional regions widths that overlap with genes\n",
    "bidir_overlaps$bidir_width <- as.numeric(bidir_overlaps$end) - as.numeric(bidir_overlaps$start)\n",
    "bidir_overlaps$bidir_overlap_perc <- bidir_overlaps$overlap_len/bidir_overlaps$bidir_width\n",
    "\n",
    "nrow(bidir_overlaps)\n",
    "head(bidir_overlaps)"
   ]
  },
  {
   "cell_type": "code",
   "execution_count": 13,
   "metadata": {},
   "outputs": [
    {
     "data": {
      "image/png": "[encoded data removed]",
      "text/plain": [
       "Plot with title “Histogram of bidir_overlaps$bidir_overlap_perc”"
      ]
     },
     "metadata": {
      "image/png": {
       "height": 420,
       "width": 420
      }
     },
     "output_type": "display_data"
    }
   ],
   "source": [
    "hist(bidir_overlaps$bidir_overlap_perc)"
   ]
  },
  {
   "cell_type": "code",
   "execution_count": 14,
   "metadata": {},
   "outputs": [
    {
     "name": "stdout",
     "output_type": "stream",
     "text": [
      "[1] \"Number of bidirectionals overlapping genes (250 upstram TSS AND 15kb downstream TES) = 589176\"\n"
     ]
    }
   ],
   "source": [
    "#the number of bidirectional transcripts overlapping genes\n",
    "print(paste(\"Number of bidirectionals overlapping genes (250 upstram TSS AND 15kb downstream TES) =\", \n",
    "            nrow(unique(bidir_overlaps[,c(1,2,3,4)]))))\n"
   ]
  },
  {
   "cell_type": "code",
   "execution_count": 15,
   "metadata": {
    "scrolled": true
   },
   "outputs": [
    {
     "data": {
      "text/html": [
       "847521"
      ],
      "text/latex": [
       "847521"
      ],
      "text/markdown": [
       "847521"
      ],
      "text/plain": [
       "[1] 847521"
      ]
     },
     "metadata": {},
     "output_type": "display_data"
    }
   ],
   "source": [
    "##check the total bidirectionals\n",
    "nrow(bidir_no_overlaps) + nrow(unique(bidir_overlaps[,c(1,2,3,4)]))"
   ]
  },
  {
   "cell_type": "markdown",
   "metadata": {},
   "source": [
    "### Gene to gene distances"
   ]
  },
  {
   "cell_type": "code",
   "execution_count": 16,
   "metadata": {},
   "outputs": [
    {
     "data": {
      "text/html": [
       "95357"
      ],
      "text/latex": [
       "95357"
      ],
      "text/markdown": [
       "95357"
      ],
      "text/plain": [
       "[1] 95357"
      ]
     },
     "metadata": {},
     "output_type": "display_data"
    },
    {
     "data": {
      "text/html": [
       "<table class=\"dataframe\">\n",
       "<caption>A data.table: 6 × 13</caption>\n",
       "<thead>\n",
       "\t<tr><th scope=col>V1</th><th scope=col>V2</th><th scope=col>V3</th><th scope=col>V4</th><th scope=col>V5</th><th scope=col>V6</th><th scope=col>V7</th><th scope=col>V8</th><th scope=col>V9</th><th scope=col>V10</th><th scope=col>V11</th><th scope=col>V12</th><th scope=col>V13</th></tr>\n",
       "\t<tr><th scope=col>&lt;chr&gt;</th><th scope=col>&lt;int&gt;</th><th scope=col>&lt;int&gt;</th><th scope=col>&lt;chr&gt;</th><th scope=col>&lt;chr&gt;</th><th scope=col>&lt;chr&gt;</th><th scope=col>&lt;chr&gt;</th><th scope=col>&lt;int&gt;</th><th scope=col>&lt;int&gt;</th><th scope=col>&lt;chr&gt;</th><th scope=col>&lt;chr&gt;</th><th scope=col>&lt;chr&gt;</th><th scope=col>&lt;int&gt;</th></tr>\n",
       "</thead>\n",
       "<tbody>\n",
       "\t<tr><td>chr1</td><td>11873</td><td>14409</td><td>DDX11L1:NR_046018.2  </td><td>.</td><td>+</td><td>chr1</td><td>14361</td><td>29370</td><td>WASH7P:NR_024540.1   </td><td>.</td><td>-</td><td>     0</td></tr>\n",
       "\t<tr><td>chr1</td><td>11873</td><td>14409</td><td>DDX11L1:NR_046018.2  </td><td>.</td><td>+</td><td>chr1</td><td>17368</td><td>17436</td><td>MIR6859-1:NR_106918.1</td><td>.</td><td>-</td><td>  2960</td></tr>\n",
       "\t<tr><td>chr1</td><td>14361</td><td>29370</td><td>WASH7P:NR_024540.1   </td><td>.</td><td>-</td><td>chr1</td><td>11873</td><td>14409</td><td>DDX11L1:NR_046018.2  </td><td>.</td><td>+</td><td>     0</td></tr>\n",
       "\t<tr><td>chr1</td><td>14361</td><td>29370</td><td>WASH7P:NR_024540.1   </td><td>.</td><td>-</td><td>chr1</td><td>30365</td><td>30503</td><td>MIR1302-2:NR_036051.1</td><td>.</td><td>+</td><td>  -996</td></tr>\n",
       "\t<tr><td>chr1</td><td>17368</td><td>17436</td><td>MIR6859-1:NR_106918.1</td><td>.</td><td>-</td><td>chr1</td><td>11873</td><td>14409</td><td>DDX11L1:NR_046018.2  </td><td>.</td><td>+</td><td>  2960</td></tr>\n",
       "\t<tr><td>chr1</td><td>17368</td><td>17436</td><td>MIR6859-1:NR_106918.1</td><td>.</td><td>-</td><td>chr1</td><td>30365</td><td>30503</td><td>MIR1302-2:NR_036051.1</td><td>.</td><td>+</td><td>-12930</td></tr>\n",
       "</tbody>\n",
       "</table>\n"
      ],
      "text/latex": [
       "A data.table: 6 × 13\n",
       "\\begin{tabular}{lllllllllllll}\n",
       " V1 & V2 & V3 & V4 & V5 & V6 & V7 & V8 & V9 & V10 & V11 & V12 & V13\\\\\n",
       " <chr> & <int> & <int> & <chr> & <chr> & <chr> & <chr> & <int> & <int> & <chr> & <chr> & <chr> & <int>\\\\\n",
       "\\hline\n",
       "\t chr1 & 11873 & 14409 & DDX11L1:NR\\_046018.2   & . & + & chr1 & 14361 & 29370 & WASH7P:NR\\_024540.1    & . & - &      0\\\\\n",
       "\t chr1 & 11873 & 14409 & DDX11L1:NR\\_046018.2   & . & + & chr1 & 17368 & 17436 & MIR6859-1:NR\\_106918.1 & . & - &   2960\\\\\n",
       "\t chr1 & 14361 & 29370 & WASH7P:NR\\_024540.1    & . & - & chr1 & 11873 & 14409 & DDX11L1:NR\\_046018.2   & . & + &      0\\\\\n",
       "\t chr1 & 14361 & 29370 & WASH7P:NR\\_024540.1    & . & - & chr1 & 30365 & 30503 & MIR1302-2:NR\\_036051.1 & . & + &   -996\\\\\n",
       "\t chr1 & 17368 & 17436 & MIR6859-1:NR\\_106918.1 & . & - & chr1 & 11873 & 14409 & DDX11L1:NR\\_046018.2   & . & + &   2960\\\\\n",
       "\t chr1 & 17368 & 17436 & MIR6859-1:NR\\_106918.1 & . & - & chr1 & 30365 & 30503 & MIR1302-2:NR\\_036051.1 & . & + & -12930\\\\\n",
       "\\end{tabular}\n"
      ],
      "text/markdown": [
       "\n",
       "A data.table: 6 × 13\n",
       "\n",
       "| V1 &lt;chr&gt; | V2 &lt;int&gt; | V3 &lt;int&gt; | V4 &lt;chr&gt; | V5 &lt;chr&gt; | V6 &lt;chr&gt; | V7 &lt;chr&gt; | V8 &lt;int&gt; | V9 &lt;int&gt; | V10 &lt;chr&gt; | V11 &lt;chr&gt; | V12 &lt;chr&gt; | V13 &lt;int&gt; |\n",
       "|---|---|---|---|---|---|---|---|---|---|---|---|---|\n",
       "| chr1 | 11873 | 14409 | DDX11L1:NR_046018.2   | . | + | chr1 | 14361 | 29370 | WASH7P:NR_024540.1    | . | - |      0 |\n",
       "| chr1 | 11873 | 14409 | DDX11L1:NR_046018.2   | . | + | chr1 | 17368 | 17436 | MIR6859-1:NR_106918.1 | . | - |   2960 |\n",
       "| chr1 | 14361 | 29370 | WASH7P:NR_024540.1    | . | - | chr1 | 11873 | 14409 | DDX11L1:NR_046018.2   | . | + |      0 |\n",
       "| chr1 | 14361 | 29370 | WASH7P:NR_024540.1    | . | - | chr1 | 30365 | 30503 | MIR1302-2:NR_036051.1 | . | + |   -996 |\n",
       "| chr1 | 17368 | 17436 | MIR6859-1:NR_106918.1 | . | - | chr1 | 11873 | 14409 | DDX11L1:NR_046018.2   | . | + |   2960 |\n",
       "| chr1 | 17368 | 17436 | MIR6859-1:NR_106918.1 | . | - | chr1 | 30365 | 30503 | MIR1302-2:NR_036051.1 | . | + | -12930 |\n",
       "\n"
      ],
      "text/plain": [
       "  V1   V2    V3    V4                    V5 V6 V7   V8    V9   \n",
       "1 chr1 11873 14409 DDX11L1:NR_046018.2   .  +  chr1 14361 29370\n",
       "2 chr1 11873 14409 DDX11L1:NR_046018.2   .  +  chr1 17368 17436\n",
       "3 chr1 14361 29370 WASH7P:NR_024540.1    .  -  chr1 11873 14409\n",
       "4 chr1 14361 29370 WASH7P:NR_024540.1    .  -  chr1 30365 30503\n",
       "5 chr1 17368 17436 MIR6859-1:NR_106918.1 .  -  chr1 11873 14409\n",
       "6 chr1 17368 17436 MIR6859-1:NR_106918.1 .  -  chr1 30365 30503\n",
       "  V10                   V11 V12 V13   \n",
       "1 WASH7P:NR_024540.1    .   -        0\n",
       "2 MIR6859-1:NR_106918.1 .   -     2960\n",
       "3 DDX11L1:NR_046018.2   .   +        0\n",
       "4 MIR1302-2:NR_036051.1 .   +     -996\n",
       "5 DDX11L1:NR_046018.2   .   +     2960\n",
       "6 MIR1302-2:NR_036051.1 .   +   -12930"
      ]
     },
     "metadata": {},
     "output_type": "display_data"
    }
   ],
   "source": [
    "#load the gene to gene distances\n",
    "gene_dist <- data.table::fread('/Users/rusi2317/projects/meta_analysis_qc_reviews/annotations/hg38_refseq_diff53prime_genes_distances.bed')\n",
    "nrow(gene_dist)\n",
    "head(gene_dist)"
   ]
  },
  {
   "cell_type": "code",
   "execution_count": 17,
   "metadata": {},
   "outputs": [
    {
     "data": {
      "text/html": [
       "10709"
      ],
      "text/latex": [
       "10709"
      ],
      "text/markdown": [
       "10709"
      ],
      "text/plain": [
       "[1] 10709"
      ]
     },
     "metadata": {},
     "output_type": "display_data"
    },
    {
     "data": {
      "text/html": [
       "<style>\n",
       ".list-inline {list-style: none; margin:0; padding: 0}\n",
       ".list-inline>li {display: inline-block}\n",
       ".list-inline>li:not(:last-child)::after {content: \"\\00b7\"; padding: 0 .5ex}\n",
       "</style>\n",
       "<ol class=list-inline><li>'DDX11L1:NR_046018.2'</li><li>'WASH7P:NR_024540.1'</li><li>'LOC107985728:NR_168405.1'</li><li>'SAMD11:NM_001385640.1,NM_001385641.1'</li><li>'SAMD11:NM_152486.4'</li><li>'NOC2L:NM_015658.4'</li></ol>\n"
      ],
      "text/latex": [
       "\\begin{enumerate*}\n",
       "\\item 'DDX11L1:NR\\_046018.2'\n",
       "\\item 'WASH7P:NR\\_024540.1'\n",
       "\\item 'LOC107985728:NR\\_168405.1'\n",
       "\\item 'SAMD11:NM\\_001385640.1,NM\\_001385641.1'\n",
       "\\item 'SAMD11:NM\\_152486.4'\n",
       "\\item 'NOC2L:NM\\_015658.4'\n",
       "\\end{enumerate*}\n"
      ],
      "text/markdown": [
       "1. 'DDX11L1:NR_046018.2'\n",
       "2. 'WASH7P:NR_024540.1'\n",
       "3. 'LOC107985728:NR_168405.1'\n",
       "4. 'SAMD11:NM_001385640.1,NM_001385641.1'\n",
       "5. 'SAMD11:NM_152486.4'\n",
       "6. 'NOC2L:NM_015658.4'\n",
       "\n",
       "\n"
      ],
      "text/plain": [
       "[1] \"DDX11L1:NR_046018.2\"                 \n",
       "[2] \"WASH7P:NR_024540.1\"                  \n",
       "[3] \"LOC107985728:NR_168405.1\"            \n",
       "[4] \"SAMD11:NM_001385640.1,NM_001385641.1\"\n",
       "[5] \"SAMD11:NM_152486.4\"                  \n",
       "[6] \"NOC2L:NM_015658.4\"                   "
      ]
     },
     "metadata": {},
     "output_type": "display_data"
    }
   ],
   "source": [
    "genes_overlap_opposite_strands_dt <- subset(gene_dist, V13==0)\n",
    "genes_overlap_opposite_strands <- unique(c(genes_overlap_opposite_strands_dt$V4,\n",
    "                                                  genes_overlap_opposite_strands_dt$V10))\n",
    "length(genes_overlap_opposite_strands)\n",
    "head(genes_overlap_opposite_strands)"
   ]
  },
  {
   "cell_type": "code",
   "execution_count": 18,
   "metadata": {
    "scrolled": true
   },
   "outputs": [
    {
     "data": {
      "text/html": [
       "78579"
      ],
      "text/latex": [
       "78579"
      ],
      "text/markdown": [
       "78579"
      ],
      "text/plain": [
       "[1] 78579"
      ]
     },
     "metadata": {},
     "output_type": "display_data"
    },
    {
     "data": {
      "text/html": [
       "<table class=\"dataframe\">\n",
       "<caption>A data.table: 6 × 13</caption>\n",
       "<thead>\n",
       "\t<tr><th scope=col>V1</th><th scope=col>V2</th><th scope=col>V3</th><th scope=col>V4</th><th scope=col>V5</th><th scope=col>V6</th><th scope=col>V7</th><th scope=col>V8</th><th scope=col>V9</th><th scope=col>V10</th><th scope=col>V11</th><th scope=col>V12</th><th scope=col>V13</th></tr>\n",
       "\t<tr><th scope=col>&lt;chr&gt;</th><th scope=col>&lt;int&gt;</th><th scope=col>&lt;int&gt;</th><th scope=col>&lt;chr&gt;</th><th scope=col>&lt;chr&gt;</th><th scope=col>&lt;chr&gt;</th><th scope=col>&lt;chr&gt;</th><th scope=col>&lt;int&gt;</th><th scope=col>&lt;int&gt;</th><th scope=col>&lt;chr&gt;</th><th scope=col>&lt;chr&gt;</th><th scope=col>&lt;chr&gt;</th><th scope=col>&lt;int&gt;</th></tr>\n",
       "</thead>\n",
       "<tbody>\n",
       "\t<tr><td>chr1</td><td>11873</td><td>14409</td><td>DDX11L1:NR_046018.2  </td><td>.</td><td>+</td><td>chr1</td><td>17368</td><td>17436</td><td>MIR6859-1:NR_106918.1</td><td>.</td><td>-</td><td>  2960</td></tr>\n",
       "\t<tr><td>chr1</td><td>14361</td><td>29370</td><td>WASH7P:NR_024540.1   </td><td>.</td><td>-</td><td>chr1</td><td>30365</td><td>30503</td><td>MIR1302-2:NR_036051.1</td><td>.</td><td>+</td><td>  -996</td></tr>\n",
       "\t<tr><td>chr1</td><td>17368</td><td>17436</td><td>MIR6859-1:NR_106918.1</td><td>.</td><td>-</td><td>chr1</td><td>11873</td><td>14409</td><td>DDX11L1:NR_046018.2  </td><td>.</td><td>+</td><td>  2960</td></tr>\n",
       "\t<tr><td>chr1</td><td>17368</td><td>17436</td><td>MIR6859-1:NR_106918.1</td><td>.</td><td>-</td><td>chr1</td><td>30365</td><td>30503</td><td>MIR1302-2:NR_036051.1</td><td>.</td><td>+</td><td>-12930</td></tr>\n",
       "\t<tr><td>chr1</td><td>30365</td><td>30503</td><td>MIR1302-2:NR_036051.1</td><td>.</td><td>+</td><td>chr1</td><td>14361</td><td>29370</td><td>WASH7P:NR_024540.1   </td><td>.</td><td>-</td><td>  -996</td></tr>\n",
       "\t<tr><td>chr1</td><td>30365</td><td>30503</td><td>MIR1302-2:NR_036051.1</td><td>.</td><td>+</td><td>chr1</td><td>34610</td><td>36081</td><td>FAM138A:NR_026818.1  </td><td>.</td><td>-</td><td>  4108</td></tr>\n",
       "</tbody>\n",
       "</table>\n"
      ],
      "text/latex": [
       "A data.table: 6 × 13\n",
       "\\begin{tabular}{lllllllllllll}\n",
       " V1 & V2 & V3 & V4 & V5 & V6 & V7 & V8 & V9 & V10 & V11 & V12 & V13\\\\\n",
       " <chr> & <int> & <int> & <chr> & <chr> & <chr> & <chr> & <int> & <int> & <chr> & <chr> & <chr> & <int>\\\\\n",
       "\\hline\n",
       "\t chr1 & 11873 & 14409 & DDX11L1:NR\\_046018.2   & . & + & chr1 & 17368 & 17436 & MIR6859-1:NR\\_106918.1 & . & - &   2960\\\\\n",
       "\t chr1 & 14361 & 29370 & WASH7P:NR\\_024540.1    & . & - & chr1 & 30365 & 30503 & MIR1302-2:NR\\_036051.1 & . & + &   -996\\\\\n",
       "\t chr1 & 17368 & 17436 & MIR6859-1:NR\\_106918.1 & . & - & chr1 & 11873 & 14409 & DDX11L1:NR\\_046018.2   & . & + &   2960\\\\\n",
       "\t chr1 & 17368 & 17436 & MIR6859-1:NR\\_106918.1 & . & - & chr1 & 30365 & 30503 & MIR1302-2:NR\\_036051.1 & . & + & -12930\\\\\n",
       "\t chr1 & 30365 & 30503 & MIR1302-2:NR\\_036051.1 & . & + & chr1 & 14361 & 29370 & WASH7P:NR\\_024540.1    & . & - &   -996\\\\\n",
       "\t chr1 & 30365 & 30503 & MIR1302-2:NR\\_036051.1 & . & + & chr1 & 34610 & 36081 & FAM138A:NR\\_026818.1   & . & - &   4108\\\\\n",
       "\\end{tabular}\n"
      ],
      "text/markdown": [
       "\n",
       "A data.table: 6 × 13\n",
       "\n",
       "| V1 &lt;chr&gt; | V2 &lt;int&gt; | V3 &lt;int&gt; | V4 &lt;chr&gt; | V5 &lt;chr&gt; | V6 &lt;chr&gt; | V7 &lt;chr&gt; | V8 &lt;int&gt; | V9 &lt;int&gt; | V10 &lt;chr&gt; | V11 &lt;chr&gt; | V12 &lt;chr&gt; | V13 &lt;int&gt; |\n",
       "|---|---|---|---|---|---|---|---|---|---|---|---|---|\n",
       "| chr1 | 11873 | 14409 | DDX11L1:NR_046018.2   | . | + | chr1 | 17368 | 17436 | MIR6859-1:NR_106918.1 | . | - |   2960 |\n",
       "| chr1 | 14361 | 29370 | WASH7P:NR_024540.1    | . | - | chr1 | 30365 | 30503 | MIR1302-2:NR_036051.1 | . | + |   -996 |\n",
       "| chr1 | 17368 | 17436 | MIR6859-1:NR_106918.1 | . | - | chr1 | 11873 | 14409 | DDX11L1:NR_046018.2   | . | + |   2960 |\n",
       "| chr1 | 17368 | 17436 | MIR6859-1:NR_106918.1 | . | - | chr1 | 30365 | 30503 | MIR1302-2:NR_036051.1 | . | + | -12930 |\n",
       "| chr1 | 30365 | 30503 | MIR1302-2:NR_036051.1 | . | + | chr1 | 14361 | 29370 | WASH7P:NR_024540.1    | . | - |   -996 |\n",
       "| chr1 | 30365 | 30503 | MIR1302-2:NR_036051.1 | . | + | chr1 | 34610 | 36081 | FAM138A:NR_026818.1   | . | - |   4108 |\n",
       "\n"
      ],
      "text/plain": [
       "  V1   V2    V3    V4                    V5 V6 V7   V8    V9   \n",
       "1 chr1 11873 14409 DDX11L1:NR_046018.2   .  +  chr1 17368 17436\n",
       "2 chr1 14361 29370 WASH7P:NR_024540.1    .  -  chr1 30365 30503\n",
       "3 chr1 17368 17436 MIR6859-1:NR_106918.1 .  -  chr1 11873 14409\n",
       "4 chr1 17368 17436 MIR6859-1:NR_106918.1 .  -  chr1 30365 30503\n",
       "5 chr1 30365 30503 MIR1302-2:NR_036051.1 .  +  chr1 14361 29370\n",
       "6 chr1 30365 30503 MIR1302-2:NR_036051.1 .  +  chr1 34610 36081\n",
       "  V10                   V11 V12 V13   \n",
       "1 MIR6859-1:NR_106918.1 .   -     2960\n",
       "2 MIR1302-2:NR_036051.1 .   +     -996\n",
       "3 DDX11L1:NR_046018.2   .   +     2960\n",
       "4 MIR1302-2:NR_036051.1 .   +   -12930\n",
       "5 WASH7P:NR_024540.1    .   -     -996\n",
       "6 FAM138A:NR_026818.1   .   -     4108"
      ]
     },
     "metadata": {},
     "output_type": "display_data"
    }
   ],
   "source": [
    "#remove gene overlapping other opposite strand genes\n",
    "gene_dist_other_overlaps <- subset(gene_dist, V13!=0)\n",
    "nrow(gene_dist_other_overlaps)\n",
    "head(gene_dist_other_overlaps)"
   ]
  },
  {
   "cell_type": "code",
   "execution_count": 19,
   "metadata": {},
   "outputs": [
    {
     "data": {
      "image/png": "[encoded data removed]",
      "text/plain": [
       "Plot with title “Histogram of gene_dist$V13”"
      ]
     },
     "metadata": {
      "image/png": {
       "height": 420,
       "width": 420
      }
     },
     "output_type": "display_data"
    }
   ],
   "source": [
    "hist(gene_dist$V13)"
   ]
  },
  {
   "cell_type": "code",
   "execution_count": 20,
   "metadata": {},
   "outputs": [
    {
     "data": {
      "text/html": [
       "9177"
      ],
      "text/latex": [
       "9177"
      ],
      "text/markdown": [
       "9177"
      ],
      "text/plain": [
       "[1] 9177"
      ]
     },
     "metadata": {},
     "output_type": "display_data"
    },
    {
     "data": {
      "text/html": [
       "<table class=\"dataframe\">\n",
       "<caption>A data.table: 6 × 13</caption>\n",
       "<thead>\n",
       "\t<tr><th scope=col>V1</th><th scope=col>V2</th><th scope=col>V3</th><th scope=col>V4</th><th scope=col>V5</th><th scope=col>V6</th><th scope=col>V7</th><th scope=col>V8</th><th scope=col>V9</th><th scope=col>V10</th><th scope=col>V11</th><th scope=col>V12</th><th scope=col>V13</th></tr>\n",
       "\t<tr><th scope=col>&lt;chr&gt;</th><th scope=col>&lt;int&gt;</th><th scope=col>&lt;int&gt;</th><th scope=col>&lt;chr&gt;</th><th scope=col>&lt;chr&gt;</th><th scope=col>&lt;chr&gt;</th><th scope=col>&lt;chr&gt;</th><th scope=col>&lt;int&gt;</th><th scope=col>&lt;int&gt;</th><th scope=col>&lt;chr&gt;</th><th scope=col>&lt;chr&gt;</th><th scope=col>&lt;chr&gt;</th><th scope=col>&lt;int&gt;</th></tr>\n",
       "</thead>\n",
       "<tbody>\n",
       "\t<tr><td>chr1</td><td> 11873</td><td> 14409</td><td>DDX11L1:NR_046018.2  </td><td>.</td><td>+</td><td>chr1</td><td> 17368</td><td> 17436</td><td>MIR6859-1:NR_106918.1</td><td>.</td><td>-</td><td>2960</td></tr>\n",
       "\t<tr><td>chr1</td><td> 17368</td><td> 17436</td><td>MIR6859-1:NR_106918.1</td><td>.</td><td>-</td><td>chr1</td><td> 11873</td><td> 14409</td><td>DDX11L1:NR_046018.2  </td><td>.</td><td>+</td><td>2960</td></tr>\n",
       "\t<tr><td>chr1</td><td> 30365</td><td> 30503</td><td>MIR1302-2:NR_036051.1</td><td>.</td><td>+</td><td>chr1</td><td> 34610</td><td> 36081</td><td>FAM138A:NR_026818.1  </td><td>.</td><td>-</td><td>4108</td></tr>\n",
       "\t<tr><td>chr1</td><td> 34610</td><td> 36081</td><td>FAM138A:NR_026818.1  </td><td>.</td><td>-</td><td>chr1</td><td> 30365</td><td> 30503</td><td>MIR1302-2:NR_036051.1</td><td>.</td><td>+</td><td>4108</td></tr>\n",
       "\t<tr><td>chr1</td><td>182387</td><td>184878</td><td>DDX11L17:NR_148357.1 </td><td>.</td><td>+</td><td>chr1</td><td>187890</td><td>187958</td><td>MIR6859-2:NR_107062.1</td><td>.</td><td>-</td><td>3013</td></tr>\n",
       "\t<tr><td>chr1</td><td>187890</td><td>187958</td><td>MIR6859-2:NR_107062.1</td><td>.</td><td>-</td><td>chr1</td><td>182387</td><td>184878</td><td>DDX11L17:NR_148357.1 </td><td>.</td><td>+</td><td>3013</td></tr>\n",
       "</tbody>\n",
       "</table>\n"
      ],
      "text/latex": [
       "A data.table: 6 × 13\n",
       "\\begin{tabular}{lllllllllllll}\n",
       " V1 & V2 & V3 & V4 & V5 & V6 & V7 & V8 & V9 & V10 & V11 & V12 & V13\\\\\n",
       " <chr> & <int> & <int> & <chr> & <chr> & <chr> & <chr> & <int> & <int> & <chr> & <chr> & <chr> & <int>\\\\\n",
       "\\hline\n",
       "\t chr1 &  11873 &  14409 & DDX11L1:NR\\_046018.2   & . & + & chr1 &  17368 &  17436 & MIR6859-1:NR\\_106918.1 & . & - & 2960\\\\\n",
       "\t chr1 &  17368 &  17436 & MIR6859-1:NR\\_106918.1 & . & - & chr1 &  11873 &  14409 & DDX11L1:NR\\_046018.2   & . & + & 2960\\\\\n",
       "\t chr1 &  30365 &  30503 & MIR1302-2:NR\\_036051.1 & . & + & chr1 &  34610 &  36081 & FAM138A:NR\\_026818.1   & . & - & 4108\\\\\n",
       "\t chr1 &  34610 &  36081 & FAM138A:NR\\_026818.1   & . & - & chr1 &  30365 &  30503 & MIR1302-2:NR\\_036051.1 & . & + & 4108\\\\\n",
       "\t chr1 & 182387 & 184878 & DDX11L17:NR\\_148357.1  & . & + & chr1 & 187890 & 187958 & MIR6859-2:NR\\_107062.1 & . & - & 3013\\\\\n",
       "\t chr1 & 187890 & 187958 & MIR6859-2:NR\\_107062.1 & . & - & chr1 & 182387 & 184878 & DDX11L17:NR\\_148357.1  & . & + & 3013\\\\\n",
       "\\end{tabular}\n"
      ],
      "text/markdown": [
       "\n",
       "A data.table: 6 × 13\n",
       "\n",
       "| V1 &lt;chr&gt; | V2 &lt;int&gt; | V3 &lt;int&gt; | V4 &lt;chr&gt; | V5 &lt;chr&gt; | V6 &lt;chr&gt; | V7 &lt;chr&gt; | V8 &lt;int&gt; | V9 &lt;int&gt; | V10 &lt;chr&gt; | V11 &lt;chr&gt; | V12 &lt;chr&gt; | V13 &lt;int&gt; |\n",
       "|---|---|---|---|---|---|---|---|---|---|---|---|---|\n",
       "| chr1 |  11873 |  14409 | DDX11L1:NR_046018.2   | . | + | chr1 |  17368 |  17436 | MIR6859-1:NR_106918.1 | . | - | 2960 |\n",
       "| chr1 |  17368 |  17436 | MIR6859-1:NR_106918.1 | . | - | chr1 |  11873 |  14409 | DDX11L1:NR_046018.2   | . | + | 2960 |\n",
       "| chr1 |  30365 |  30503 | MIR1302-2:NR_036051.1 | . | + | chr1 |  34610 |  36081 | FAM138A:NR_026818.1   | . | - | 4108 |\n",
       "| chr1 |  34610 |  36081 | FAM138A:NR_026818.1   | . | - | chr1 |  30365 |  30503 | MIR1302-2:NR_036051.1 | . | + | 4108 |\n",
       "| chr1 | 182387 | 184878 | DDX11L17:NR_148357.1  | . | + | chr1 | 187890 | 187958 | MIR6859-2:NR_107062.1 | . | - | 3013 |\n",
       "| chr1 | 187890 | 187958 | MIR6859-2:NR_107062.1 | . | - | chr1 | 182387 | 184878 | DDX11L17:NR_148357.1  | . | + | 3013 |\n",
       "\n"
      ],
      "text/plain": [
       "  V1   V2     V3     V4                    V5 V6 V7   V8     V9    \n",
       "1 chr1  11873  14409 DDX11L1:NR_046018.2   .  +  chr1  17368  17436\n",
       "2 chr1  17368  17436 MIR6859-1:NR_106918.1 .  -  chr1  11873  14409\n",
       "3 chr1  30365  30503 MIR1302-2:NR_036051.1 .  +  chr1  34610  36081\n",
       "4 chr1  34610  36081 FAM138A:NR_026818.1   .  -  chr1  30365  30503\n",
       "5 chr1 182387 184878 DDX11L17:NR_148357.1  .  +  chr1 187890 187958\n",
       "6 chr1 187890 187958 MIR6859-2:NR_107062.1 .  -  chr1 182387 184878\n",
       "  V10                   V11 V12 V13 \n",
       "1 MIR6859-1:NR_106918.1 .   -   2960\n",
       "2 DDX11L1:NR_046018.2   .   +   2960\n",
       "3 FAM138A:NR_026818.1   .   -   4108\n",
       "4 MIR1302-2:NR_036051.1 .   +   4108\n",
       "5 MIR6859-2:NR_107062.1 .   -   3013\n",
       "6 DDX11L17:NR_148357.1  .   +   3013"
      ]
     },
     "metadata": {},
     "output_type": "display_data"
    },
    {
     "data": {
      "text/html": [
       "<table class=\"dataframe\">\n",
       "<caption>A data.table: 6 × 13</caption>\n",
       "<thead>\n",
       "\t<tr><th scope=col>V1</th><th scope=col>V2</th><th scope=col>V3</th><th scope=col>V4</th><th scope=col>V5</th><th scope=col>V6</th><th scope=col>V7</th><th scope=col>V8</th><th scope=col>V9</th><th scope=col>V10</th><th scope=col>V11</th><th scope=col>V12</th><th scope=col>V13</th></tr>\n",
       "\t<tr><th scope=col>&lt;chr&gt;</th><th scope=col>&lt;int&gt;</th><th scope=col>&lt;int&gt;</th><th scope=col>&lt;chr&gt;</th><th scope=col>&lt;chr&gt;</th><th scope=col>&lt;chr&gt;</th><th scope=col>&lt;chr&gt;</th><th scope=col>&lt;int&gt;</th><th scope=col>&lt;int&gt;</th><th scope=col>&lt;chr&gt;</th><th scope=col>&lt;chr&gt;</th><th scope=col>&lt;chr&gt;</th><th scope=col>&lt;int&gt;</th></tr>\n",
       "</thead>\n",
       "<tbody>\n",
       "\t<tr><td>chrY</td><td> 1386151</td><td> 1392113</td><td>SLC25A6_1:NM_001636.4_1           </td><td>.</td><td>-</td><td>chrY</td><td> 1336784</td><td> 1382689</td><td>IL3RA_1:NM_002183.4_1,NM_001267713.2_1,XM_005274780.6,XM_005274781.2,XM_017030043.3</td><td>.</td><td>+</td><td>3463</td></tr>\n",
       "\t<tr><td>chrY</td><td> 1397024</td><td> 1399412</td><td>LINC00106_1:NR_130733.1_1         </td><td>.</td><td>+</td><td>chrY</td><td> 1403138</td><td> 1452909</td><td>ASMTL_1:NM_004192.4_1,NM_001173474.2_1,XM_047442774.1                              </td><td>.</td><td>-</td><td>3727</td></tr>\n",
       "\t<tr><td>chrY</td><td> 1397024</td><td> 1399412</td><td>LINC00106_1:NR_130733.1_1         </td><td>.</td><td>+</td><td>chrY</td><td> 1403138</td><td> 1453756</td><td>ASMTL_1:NM_001173473.2_1,XM_005274783.4,XM_047442773.1                             </td><td>.</td><td>-</td><td>3727</td></tr>\n",
       "\t<tr><td>chrY</td><td> 2609190</td><td> 2609254</td><td>MIR6089_1:NR_106737.1_1           </td><td>.</td><td>+</td><td>chrY</td><td> 2612990</td><td> 2615347</td><td>LINC00102_1:NR_037842.1_1                                                          </td><td>.</td><td>-</td><td>3737</td></tr>\n",
       "\t<tr><td>chrY</td><td>57184215</td><td>57197337</td><td>IL9R_1:NM_002186.3_1,NM_176786.2_1</td><td>.</td><td>+</td><td>chrY</td><td>57201083</td><td>57203350</td><td>WASIR1_1:NR_138048.1_1                                                             </td><td>.</td><td>-</td><td>3747</td></tr>\n",
       "\t<tr><td>chrY</td><td>57201083</td><td>57203350</td><td>WASIR1_1:NR_138048.1_1            </td><td>.</td><td>-</td><td>chrY</td><td>57184215</td><td>57197337</td><td>IL9R_1:NM_002186.3_1,NM_176786.2_1                                                 </td><td>.</td><td>+</td><td>3747</td></tr>\n",
       "</tbody>\n",
       "</table>\n"
      ],
      "text/latex": [
       "A data.table: 6 × 13\n",
       "\\begin{tabular}{lllllllllllll}\n",
       " V1 & V2 & V3 & V4 & V5 & V6 & V7 & V8 & V9 & V10 & V11 & V12 & V13\\\\\n",
       " <chr> & <int> & <int> & <chr> & <chr> & <chr> & <chr> & <int> & <int> & <chr> & <chr> & <chr> & <int>\\\\\n",
       "\\hline\n",
       "\t chrY &  1386151 &  1392113 & SLC25A6\\_1:NM\\_001636.4\\_1            & . & - & chrY &  1336784 &  1382689 & IL3RA\\_1:NM\\_002183.4\\_1,NM\\_001267713.2\\_1,XM\\_005274780.6,XM\\_005274781.2,XM\\_017030043.3 & . & + & 3463\\\\\n",
       "\t chrY &  1397024 &  1399412 & LINC00106\\_1:NR\\_130733.1\\_1          & . & + & chrY &  1403138 &  1452909 & ASMTL\\_1:NM\\_004192.4\\_1,NM\\_001173474.2\\_1,XM\\_047442774.1                               & . & - & 3727\\\\\n",
       "\t chrY &  1397024 &  1399412 & LINC00106\\_1:NR\\_130733.1\\_1          & . & + & chrY &  1403138 &  1453756 & ASMTL\\_1:NM\\_001173473.2\\_1,XM\\_005274783.4,XM\\_047442773.1                              & . & - & 3727\\\\\n",
       "\t chrY &  2609190 &  2609254 & MIR6089\\_1:NR\\_106737.1\\_1            & . & + & chrY &  2612990 &  2615347 & LINC00102\\_1:NR\\_037842.1\\_1                                                           & . & - & 3737\\\\\n",
       "\t chrY & 57184215 & 57197337 & IL9R\\_1:NM\\_002186.3\\_1,NM\\_176786.2\\_1 & . & + & chrY & 57201083 & 57203350 & WASIR1\\_1:NR\\_138048.1\\_1                                                              & . & - & 3747\\\\\n",
       "\t chrY & 57201083 & 57203350 & WASIR1\\_1:NR\\_138048.1\\_1             & . & - & chrY & 57184215 & 57197337 & IL9R\\_1:NM\\_002186.3\\_1,NM\\_176786.2\\_1                                                  & . & + & 3747\\\\\n",
       "\\end{tabular}\n"
      ],
      "text/markdown": [
       "\n",
       "A data.table: 6 × 13\n",
       "\n",
       "| V1 &lt;chr&gt; | V2 &lt;int&gt; | V3 &lt;int&gt; | V4 &lt;chr&gt; | V5 &lt;chr&gt; | V6 &lt;chr&gt; | V7 &lt;chr&gt; | V8 &lt;int&gt; | V9 &lt;int&gt; | V10 &lt;chr&gt; | V11 &lt;chr&gt; | V12 &lt;chr&gt; | V13 &lt;int&gt; |\n",
       "|---|---|---|---|---|---|---|---|---|---|---|---|---|\n",
       "| chrY |  1386151 |  1392113 | SLC25A6_1:NM_001636.4_1            | . | - | chrY |  1336784 |  1382689 | IL3RA_1:NM_002183.4_1,NM_001267713.2_1,XM_005274780.6,XM_005274781.2,XM_017030043.3 | . | + | 3463 |\n",
       "| chrY |  1397024 |  1399412 | LINC00106_1:NR_130733.1_1          | . | + | chrY |  1403138 |  1452909 | ASMTL_1:NM_004192.4_1,NM_001173474.2_1,XM_047442774.1                               | . | - | 3727 |\n",
       "| chrY |  1397024 |  1399412 | LINC00106_1:NR_130733.1_1          | . | + | chrY |  1403138 |  1453756 | ASMTL_1:NM_001173473.2_1,XM_005274783.4,XM_047442773.1                              | . | - | 3727 |\n",
       "| chrY |  2609190 |  2609254 | MIR6089_1:NR_106737.1_1            | . | + | chrY |  2612990 |  2615347 | LINC00102_1:NR_037842.1_1                                                           | . | - | 3737 |\n",
       "| chrY | 57184215 | 57197337 | IL9R_1:NM_002186.3_1,NM_176786.2_1 | . | + | chrY | 57201083 | 57203350 | WASIR1_1:NR_138048.1_1                                                              | . | - | 3747 |\n",
       "| chrY | 57201083 | 57203350 | WASIR1_1:NR_138048.1_1             | . | - | chrY | 57184215 | 57197337 | IL9R_1:NM_002186.3_1,NM_176786.2_1                                                  | . | + | 3747 |\n",
       "\n"
      ],
      "text/plain": [
       "  V1   V2       V3       V4                                 V5 V6 V7   V8      \n",
       "1 chrY  1386151  1392113 SLC25A6_1:NM_001636.4_1            .  -  chrY  1336784\n",
       "2 chrY  1397024  1399412 LINC00106_1:NR_130733.1_1          .  +  chrY  1403138\n",
       "3 chrY  1397024  1399412 LINC00106_1:NR_130733.1_1          .  +  chrY  1403138\n",
       "4 chrY  2609190  2609254 MIR6089_1:NR_106737.1_1            .  +  chrY  2612990\n",
       "5 chrY 57184215 57197337 IL9R_1:NM_002186.3_1,NM_176786.2_1 .  +  chrY 57201083\n",
       "6 chrY 57201083 57203350 WASIR1_1:NR_138048.1_1             .  -  chrY 57184215\n",
       "  V9      \n",
       "1  1382689\n",
       "2  1452909\n",
       "3  1453756\n",
       "4  2615347\n",
       "5 57203350\n",
       "6 57197337\n",
       "  V10                                                                                \n",
       "1 IL3RA_1:NM_002183.4_1,NM_001267713.2_1,XM_005274780.6,XM_005274781.2,XM_017030043.3\n",
       "2 ASMTL_1:NM_004192.4_1,NM_001173474.2_1,XM_047442774.1                              \n",
       "3 ASMTL_1:NM_001173473.2_1,XM_005274783.4,XM_047442773.1                             \n",
       "4 LINC00102_1:NR_037842.1_1                                                          \n",
       "5 WASIR1_1:NR_138048.1_1                                                             \n",
       "6 IL9R_1:NM_002186.3_1,NM_176786.2_1                                                 \n",
       "  V11 V12 V13 \n",
       "1 .   +   3463\n",
       "2 .   -   3727\n",
       "3 .   -   3727\n",
       "4 .   -   3737\n",
       "5 .   -   3747\n",
       "6 .   +   3747"
      ]
     },
     "metadata": {},
     "output_type": "display_data"
    }
   ],
   "source": [
    "gene_dist_downstream_15kb_dt <- subset(gene_dist_other_overlaps, V13 >0 & V13 < 7500)\n",
    "nrow(gene_dist_downstream_15kb_dt)\n",
    "head(gene_dist_downstream_15kb_dt)\n",
    "tail(gene_dist_downstream_15kb_dt)"
   ]
  },
  {
   "cell_type": "code",
   "execution_count": 21,
   "metadata": {},
   "outputs": [
    {
     "data": {
      "text/html": [
       "7350"
      ],
      "text/latex": [
       "7350"
      ],
      "text/markdown": [
       "7350"
      ],
      "text/plain": [
       "[1] 7350"
      ]
     },
     "metadata": {},
     "output_type": "display_data"
    }
   ],
   "source": [
    "gene_dist_downstream_15kb <- unique(c(gene_dist_downstream_15kb_dt$V4, \n",
    "                                     gene_dist_downstream_15kb_dt$V10))\n",
    "length(gene_dist_downstream_15kb)"
   ]
  },
  {
   "cell_type": "code",
   "execution_count": 22,
   "metadata": {},
   "outputs": [
    {
     "data": {
      "text/html": [
       "16569"
      ],
      "text/latex": [
       "16569"
      ],
      "text/markdown": [
       "16569"
      ],
      "text/plain": [
       "[1] 16569"
      ]
     },
     "metadata": {},
     "output_type": "display_data"
    }
   ],
   "source": [
    "overlap_genes <- unique(c(genes_overlap_opposite_strands, \n",
    "                         gene_dist_downstream_15kb))\n",
    "length(overlap_genes)"
   ]
  },
  {
   "cell_type": "markdown",
   "metadata": {},
   "source": [
    "# Filter bidirectionals"
   ]
  },
  {
   "cell_type": "markdown",
   "metadata": {},
   "source": [
    "## Get bidirectionals on opposite strands of overapping genes"
   ]
  },
  {
   "cell_type": "code",
   "execution_count": 23,
   "metadata": {},
   "outputs": [
    {
     "data": {
      "text/html": [
       "<table class=\"dataframe\">\n",
       "<caption>A data.table: 3 × 15</caption>\n",
       "<thead>\n",
       "\t<tr><th scope=col>chrom</th><th scope=col>start</th><th scope=col>end</th><th scope=col>bidirs</th><th scope=col>score</th><th scope=col>strand</th><th scope=col>gene_chrom</th><th scope=col>gene_start</th><th scope=col>gene_end</th><th scope=col>gene_id</th><th scope=col>gene_score</th><th scope=col>gene_strand</th><th scope=col>overlap_len</th><th scope=col>bidir_width</th><th scope=col>bidir_overlap_perc</th></tr>\n",
       "\t<tr><th scope=col>&lt;chr&gt;</th><th scope=col>&lt;int&gt;</th><th scope=col>&lt;int&gt;</th><th scope=col>&lt;chr&gt;</th><th scope=col>&lt;int&gt;</th><th scope=col>&lt;chr&gt;</th><th scope=col>&lt;chr&gt;</th><th scope=col>&lt;int&gt;</th><th scope=col>&lt;int&gt;</th><th scope=col>&lt;chr&gt;</th><th scope=col>&lt;chr&gt;</th><th scope=col>&lt;chr&gt;</th><th scope=col>&lt;int&gt;</th><th scope=col>&lt;dbl&gt;</th><th scope=col>&lt;dbl&gt;</th></tr>\n",
       "</thead>\n",
       "<tbody>\n",
       "\t<tr><td>chr1</td><td>3917</td><td>4919</td><td>chr1:3917-4919</td><td>14</td><td>.</td><td>chr1</td><td>   0</td><td>29620</td><td>WASH7P:NR_024540.1   </td><td>.</td><td>-</td><td>1002</td><td>1002</td><td>1</td></tr>\n",
       "\t<tr><td>chr1</td><td>3917</td><td>4919</td><td>chr1:3917-4919</td><td>14</td><td>.</td><td>chr1</td><td>2368</td><td>17686</td><td>MIR6859-1:NR_106918.1</td><td>.</td><td>-</td><td>1002</td><td>1002</td><td>1</td></tr>\n",
       "\t<tr><td>chr1</td><td>5632</td><td>6042</td><td>chr1:5632-6042</td><td>14</td><td>.</td><td>chr1</td><td>   0</td><td>29620</td><td>WASH7P:NR_024540.1   </td><td>.</td><td>-</td><td> 410</td><td> 410</td><td>1</td></tr>\n",
       "</tbody>\n",
       "</table>\n"
      ],
      "text/latex": [
       "A data.table: 3 × 15\n",
       "\\begin{tabular}{lllllllllllllll}\n",
       " chrom & start & end & bidirs & score & strand & gene\\_chrom & gene\\_start & gene\\_end & gene\\_id & gene\\_score & gene\\_strand & overlap\\_len & bidir\\_width & bidir\\_overlap\\_perc\\\\\n",
       " <chr> & <int> & <int> & <chr> & <int> & <chr> & <chr> & <int> & <int> & <chr> & <chr> & <chr> & <int> & <dbl> & <dbl>\\\\\n",
       "\\hline\n",
       "\t chr1 & 3917 & 4919 & chr1:3917-4919 & 14 & . & chr1 &    0 & 29620 & WASH7P:NR\\_024540.1    & . & - & 1002 & 1002 & 1\\\\\n",
       "\t chr1 & 3917 & 4919 & chr1:3917-4919 & 14 & . & chr1 & 2368 & 17686 & MIR6859-1:NR\\_106918.1 & . & - & 1002 & 1002 & 1\\\\\n",
       "\t chr1 & 5632 & 6042 & chr1:5632-6042 & 14 & . & chr1 &    0 & 29620 & WASH7P:NR\\_024540.1    & . & - &  410 &  410 & 1\\\\\n",
       "\\end{tabular}\n"
      ],
      "text/markdown": [
       "\n",
       "A data.table: 3 × 15\n",
       "\n",
       "| chrom &lt;chr&gt; | start &lt;int&gt; | end &lt;int&gt; | bidirs &lt;chr&gt; | score &lt;int&gt; | strand &lt;chr&gt; | gene_chrom &lt;chr&gt; | gene_start &lt;int&gt; | gene_end &lt;int&gt; | gene_id &lt;chr&gt; | gene_score &lt;chr&gt; | gene_strand &lt;chr&gt; | overlap_len &lt;int&gt; | bidir_width &lt;dbl&gt; | bidir_overlap_perc &lt;dbl&gt; |\n",
       "|---|---|---|---|---|---|---|---|---|---|---|---|---|---|---|\n",
       "| chr1 | 3917 | 4919 | chr1:3917-4919 | 14 | . | chr1 |    0 | 29620 | WASH7P:NR_024540.1    | . | - | 1002 | 1002 | 1 |\n",
       "| chr1 | 3917 | 4919 | chr1:3917-4919 | 14 | . | chr1 | 2368 | 17686 | MIR6859-1:NR_106918.1 | . | - | 1002 | 1002 | 1 |\n",
       "| chr1 | 5632 | 6042 | chr1:5632-6042 | 14 | . | chr1 |    0 | 29620 | WASH7P:NR_024540.1    | . | - |  410 |  410 | 1 |\n",
       "\n"
      ],
      "text/plain": [
       "  chrom start end  bidirs         score strand gene_chrom gene_start gene_end\n",
       "1 chr1  3917  4919 chr1:3917-4919 14    .      chr1          0       29620   \n",
       "2 chr1  3917  4919 chr1:3917-4919 14    .      chr1       2368       17686   \n",
       "3 chr1  5632  6042 chr1:5632-6042 14    .      chr1          0       29620   \n",
       "  gene_id               gene_score gene_strand overlap_len bidir_width\n",
       "1 WASH7P:NR_024540.1    .          -           1002        1002       \n",
       "2 MIR6859-1:NR_106918.1 .          -           1002        1002       \n",
       "3 WASH7P:NR_024540.1    .          -            410         410       \n",
       "  bidir_overlap_perc\n",
       "1 1                 \n",
       "2 1                 \n",
       "3 1                 "
      ]
     },
     "metadata": {},
     "output_type": "display_data"
    }
   ],
   "source": [
    "head(bidir_overlaps, 3)"
   ]
  },
  {
   "cell_type": "code",
   "execution_count": 24,
   "metadata": {},
   "outputs": [
    {
     "data": {
      "text/html": [
       "529446"
      ],
      "text/latex": [
       "529446"
      ],
      "text/markdown": [
       "529446"
      ],
      "text/plain": [
       "[1] 529446"
      ]
     },
     "metadata": {},
     "output_type": "display_data"
    },
    {
     "data": {
      "text/html": [
       "<table class=\"dataframe\">\n",
       "<caption>A data.frame: 3 × 2</caption>\n",
       "<thead>\n",
       "\t<tr><th></th><th scope=col>Var1</th><th scope=col>Freq</th></tr>\n",
       "\t<tr><th></th><th scope=col>&lt;fct&gt;</th><th scope=col>&lt;int&gt;</th></tr>\n",
       "</thead>\n",
       "<tbody>\n",
       "\t<tr><th scope=row>1</th><td>chr1:1000004-1000574    </td><td>1</td></tr>\n",
       "\t<tr><th scope=row>2</th><td>chr1:100001920-100002206</td><td>1</td></tr>\n",
       "\t<tr><th scope=row>3</th><td>chr1:100002946-100003218</td><td>1</td></tr>\n",
       "</tbody>\n",
       "</table>\n"
      ],
      "text/latex": [
       "A data.frame: 3 × 2\n",
       "\\begin{tabular}{r|ll}\n",
       "  & Var1 & Freq\\\\\n",
       "  & <fct> & <int>\\\\\n",
       "\\hline\n",
       "\t1 & chr1:1000004-1000574     & 1\\\\\n",
       "\t2 & chr1:100001920-100002206 & 1\\\\\n",
       "\t3 & chr1:100002946-100003218 & 1\\\\\n",
       "\\end{tabular}\n"
      ],
      "text/markdown": [
       "\n",
       "A data.frame: 3 × 2\n",
       "\n",
       "| <!--/--> | Var1 &lt;fct&gt; | Freq &lt;int&gt; |\n",
       "|---|---|---|\n",
       "| 1 | chr1:1000004-1000574     | 1 |\n",
       "| 2 | chr1:100001920-100002206 | 1 |\n",
       "| 3 | chr1:100002946-100003218 | 1 |\n",
       "\n"
      ],
      "text/plain": [
       "  Var1                     Freq\n",
       "1 chr1:1000004-1000574     1   \n",
       "2 chr1:100001920-100002206 1   \n",
       "3 chr1:100002946-100003218 1   "
      ]
     },
     "metadata": {},
     "output_type": "display_data"
    }
   ],
   "source": [
    "#filter regions where bidirectional overlaps genes + 15kb downstream PAS plus 250bp upstream TSS\n",
    "overlaps_high <- subset(bidir_overlaps, bidir_overlap_perc > 0 ) ##keep this if you want to filter based on %overlap\n",
    "\n",
    "#get unique bidirectional transcripts by strand\n",
    "#meaning, if a bidirectional is overlapping more than 50% of two genes + 30kb dPAS\n",
    "#it is kept for both instances\n",
    "overlaps_bidirs_unique <- unique(overlaps_high[,c('bidirs','gene_strand')])\n",
    "\n",
    "#count to get bidirectional transcripts appearing based on strand with table()\n",
    "#`unique` will return all bidirectionals near same strand transcripts (Freq==1)\n",
    "#OR bidirectional transcripts near two opposite strand genes (Freq==2)\n",
    "overlaps_bidirs_counts <- as.data.frame(table(overlaps_bidirs_unique$bidirs))\n",
    "\n",
    "#get bidirectionals not overlapping two opposite strands\n",
    "overlaps_bidirs_non_multiple <- subset(overlaps_bidirs_counts, Freq < 2)\n",
    "nrow(overlaps_bidirs_non_multiple)\n",
    "head(overlaps_bidirs_non_multiple, 3)"
   ]
  },
  {
   "cell_type": "code",
   "execution_count": 25,
   "metadata": {},
   "outputs": [
    {
     "data": {
      "text/html": [
       "59730"
      ],
      "text/latex": [
       "59730"
      ],
      "text/markdown": [
       "59730"
      ],
      "text/plain": [
       "[1] 59730"
      ]
     },
     "metadata": {},
     "output_type": "display_data"
    },
    {
     "data": {
      "text/html": [
       "<table class=\"dataframe\">\n",
       "<caption>A data.frame: 3 × 2</caption>\n",
       "<thead>\n",
       "\t<tr><th></th><th scope=col>Var1</th><th scope=col>Freq</th></tr>\n",
       "\t<tr><th></th><th scope=col>&lt;fct&gt;</th><th scope=col>&lt;int&gt;</th></tr>\n",
       "</thead>\n",
       "<tbody>\n",
       "\t<tr><th scope=row>53</th><td>chr1:100069757-100070077</td><td>2</td></tr>\n",
       "\t<tr><th scope=row>54</th><td>chr1:100074130-100074330</td><td>2</td></tr>\n",
       "\t<tr><th scope=row>55</th><td>chr1:100074535-100074769</td><td>2</td></tr>\n",
       "</tbody>\n",
       "</table>\n"
      ],
      "text/latex": [
       "A data.frame: 3 × 2\n",
       "\\begin{tabular}{r|ll}\n",
       "  & Var1 & Freq\\\\\n",
       "  & <fct> & <int>\\\\\n",
       "\\hline\n",
       "\t53 & chr1:100069757-100070077 & 2\\\\\n",
       "\t54 & chr1:100074130-100074330 & 2\\\\\n",
       "\t55 & chr1:100074535-100074769 & 2\\\\\n",
       "\\end{tabular}\n"
      ],
      "text/markdown": [
       "\n",
       "A data.frame: 3 × 2\n",
       "\n",
       "| <!--/--> | Var1 &lt;fct&gt; | Freq &lt;int&gt; |\n",
       "|---|---|---|\n",
       "| 53 | chr1:100069757-100070077 | 2 |\n",
       "| 54 | chr1:100074130-100074330 | 2 |\n",
       "| 55 | chr1:100074535-100074769 | 2 |\n",
       "\n"
      ],
      "text/plain": [
       "   Var1                     Freq\n",
       "53 chr1:100069757-100070077 2   \n",
       "54 chr1:100074130-100074330 2   \n",
       "55 chr1:100074535-100074769 2   "
      ]
     },
     "metadata": {},
     "output_type": "display_data"
    },
    {
     "data": {
      "text/html": [
       "<table class=\"dataframe\">\n",
       "<caption>A data.frame: 3 × 2</caption>\n",
       "<thead>\n",
       "\t<tr><th></th><th scope=col>Var1</th><th scope=col>Freq</th></tr>\n",
       "\t<tr><th></th><th scope=col>&lt;fct&gt;</th><th scope=col>&lt;int&gt;</th></tr>\n",
       "</thead>\n",
       "<tbody>\n",
       "\t<tr><th scope=row>589169</th><td>chrY:9494767-9495735</td><td>2</td></tr>\n",
       "\t<tr><th scope=row>589174</th><td>chrY:9703970-9704450</td><td>2</td></tr>\n",
       "\t<tr><th scope=row>589175</th><td>chrY:9765870-9766390</td><td>2</td></tr>\n",
       "</tbody>\n",
       "</table>\n"
      ],
      "text/latex": [
       "A data.frame: 3 × 2\n",
       "\\begin{tabular}{r|ll}\n",
       "  & Var1 & Freq\\\\\n",
       "  & <fct> & <int>\\\\\n",
       "\\hline\n",
       "\t589169 & chrY:9494767-9495735 & 2\\\\\n",
       "\t589174 & chrY:9703970-9704450 & 2\\\\\n",
       "\t589175 & chrY:9765870-9766390 & 2\\\\\n",
       "\\end{tabular}\n"
      ],
      "text/markdown": [
       "\n",
       "A data.frame: 3 × 2\n",
       "\n",
       "| <!--/--> | Var1 &lt;fct&gt; | Freq &lt;int&gt; |\n",
       "|---|---|---|\n",
       "| 589169 | chrY:9494767-9495735 | 2 |\n",
       "| 589174 | chrY:9703970-9704450 | 2 |\n",
       "| 589175 | chrY:9765870-9766390 | 2 |\n",
       "\n"
      ],
      "text/plain": [
       "       Var1                 Freq\n",
       "589169 chrY:9494767-9495735 2   \n",
       "589174 chrY:9703970-9704450 2   \n",
       "589175 chrY:9765870-9766390 2   "
      ]
     },
     "metadata": {},
     "output_type": "display_data"
    }
   ],
   "source": [
    "#number of transcripts in overlapping genes\n",
    "overlaps_bidirs_multiple <- subset(overlaps_bidirs_counts, Freq >= 2)\n",
    "nrow(overlaps_bidirs_multiple)\n",
    "head(overlaps_bidirs_multiple, 3)\n",
    "tail(overlaps_bidirs_multiple, 3)"
   ]
  },
  {
   "cell_type": "code",
   "execution_count": 26,
   "metadata": {},
   "outputs": [
    {
     "data": {
      "text/html": [
       "589176"
      ],
      "text/latex": [
       "589176"
      ],
      "text/markdown": [
       "589176"
      ],
      "text/plain": [
       "[1] 589176"
      ]
     },
     "metadata": {},
     "output_type": "display_data"
    }
   ],
   "source": [
    "##check the number of overlaps\n",
    "nrow(overlaps_bidirs_non_multiple) + nrow(overlaps_bidirs_multiple)"
   ]
  },
  {
   "cell_type": "code",
   "execution_count": 27,
   "metadata": {},
   "outputs": [
    {
     "data": {
      "text/html": [
       "979466"
      ],
      "text/latex": [
       "979466"
      ],
      "text/markdown": [
       "979466"
      ],
      "text/plain": [
       "[1] 979466"
      ]
     },
     "metadata": {},
     "output_type": "display_data"
    },
    {
     "data": {
      "text/html": [
       "<table class=\"dataframe\">\n",
       "<caption>A data.table: 3 × 15</caption>\n",
       "<thead>\n",
       "\t<tr><th scope=col>chrom</th><th scope=col>start</th><th scope=col>end</th><th scope=col>bidirs</th><th scope=col>score</th><th scope=col>strand</th><th scope=col>gene_chrom</th><th scope=col>gene_start</th><th scope=col>gene_end</th><th scope=col>gene_id</th><th scope=col>gene_score</th><th scope=col>gene_strand</th><th scope=col>overlap_len</th><th scope=col>bidir_width</th><th scope=col>bidir_overlap_perc</th></tr>\n",
       "\t<tr><th scope=col>&lt;chr&gt;</th><th scope=col>&lt;int&gt;</th><th scope=col>&lt;int&gt;</th><th scope=col>&lt;chr&gt;</th><th scope=col>&lt;int&gt;</th><th scope=col>&lt;chr&gt;</th><th scope=col>&lt;chr&gt;</th><th scope=col>&lt;int&gt;</th><th scope=col>&lt;int&gt;</th><th scope=col>&lt;chr&gt;</th><th scope=col>&lt;chr&gt;</th><th scope=col>&lt;chr&gt;</th><th scope=col>&lt;int&gt;</th><th scope=col>&lt;dbl&gt;</th><th scope=col>&lt;dbl&gt;</th></tr>\n",
       "</thead>\n",
       "<tbody>\n",
       "\t<tr><td>chr1</td><td>3917</td><td>4919</td><td>chr1:3917-4919</td><td>14</td><td>.</td><td>chr1</td><td>   0</td><td>29620</td><td>WASH7P:NR_024540.1   </td><td>.</td><td>-</td><td>1002</td><td>1002</td><td>1</td></tr>\n",
       "\t<tr><td>chr1</td><td>3917</td><td>4919</td><td>chr1:3917-4919</td><td>14</td><td>.</td><td>chr1</td><td>2368</td><td>17686</td><td>MIR6859-1:NR_106918.1</td><td>.</td><td>-</td><td>1002</td><td>1002</td><td>1</td></tr>\n",
       "\t<tr><td>chr1</td><td>5632</td><td>6042</td><td>chr1:5632-6042</td><td>14</td><td>.</td><td>chr1</td><td>   0</td><td>29620</td><td>WASH7P:NR_024540.1   </td><td>.</td><td>-</td><td> 410</td><td> 410</td><td>1</td></tr>\n",
       "</tbody>\n",
       "</table>\n"
      ],
      "text/latex": [
       "A data.table: 3 × 15\n",
       "\\begin{tabular}{lllllllllllllll}\n",
       " chrom & start & end & bidirs & score & strand & gene\\_chrom & gene\\_start & gene\\_end & gene\\_id & gene\\_score & gene\\_strand & overlap\\_len & bidir\\_width & bidir\\_overlap\\_perc\\\\\n",
       " <chr> & <int> & <int> & <chr> & <int> & <chr> & <chr> & <int> & <int> & <chr> & <chr> & <chr> & <int> & <dbl> & <dbl>\\\\\n",
       "\\hline\n",
       "\t chr1 & 3917 & 4919 & chr1:3917-4919 & 14 & . & chr1 &    0 & 29620 & WASH7P:NR\\_024540.1    & . & - & 1002 & 1002 & 1\\\\\n",
       "\t chr1 & 3917 & 4919 & chr1:3917-4919 & 14 & . & chr1 & 2368 & 17686 & MIR6859-1:NR\\_106918.1 & . & - & 1002 & 1002 & 1\\\\\n",
       "\t chr1 & 5632 & 6042 & chr1:5632-6042 & 14 & . & chr1 &    0 & 29620 & WASH7P:NR\\_024540.1    & . & - &  410 &  410 & 1\\\\\n",
       "\\end{tabular}\n"
      ],
      "text/markdown": [
       "\n",
       "A data.table: 3 × 15\n",
       "\n",
       "| chrom &lt;chr&gt; | start &lt;int&gt; | end &lt;int&gt; | bidirs &lt;chr&gt; | score &lt;int&gt; | strand &lt;chr&gt; | gene_chrom &lt;chr&gt; | gene_start &lt;int&gt; | gene_end &lt;int&gt; | gene_id &lt;chr&gt; | gene_score &lt;chr&gt; | gene_strand &lt;chr&gt; | overlap_len &lt;int&gt; | bidir_width &lt;dbl&gt; | bidir_overlap_perc &lt;dbl&gt; |\n",
       "|---|---|---|---|---|---|---|---|---|---|---|---|---|---|---|\n",
       "| chr1 | 3917 | 4919 | chr1:3917-4919 | 14 | . | chr1 |    0 | 29620 | WASH7P:NR_024540.1    | . | - | 1002 | 1002 | 1 |\n",
       "| chr1 | 3917 | 4919 | chr1:3917-4919 | 14 | . | chr1 | 2368 | 17686 | MIR6859-1:NR_106918.1 | . | - | 1002 | 1002 | 1 |\n",
       "| chr1 | 5632 | 6042 | chr1:5632-6042 | 14 | . | chr1 |    0 | 29620 | WASH7P:NR_024540.1    | . | - |  410 |  410 | 1 |\n",
       "\n"
      ],
      "text/plain": [
       "  chrom start end  bidirs         score strand gene_chrom gene_start gene_end\n",
       "1 chr1  3917  4919 chr1:3917-4919 14    .      chr1          0       29620   \n",
       "2 chr1  3917  4919 chr1:3917-4919 14    .      chr1       2368       17686   \n",
       "3 chr1  5632  6042 chr1:5632-6042 14    .      chr1          0       29620   \n",
       "  gene_id               gene_score gene_strand overlap_len bidir_width\n",
       "1 WASH7P:NR_024540.1    .          -           1002        1002       \n",
       "2 MIR6859-1:NR_106918.1 .          -           1002        1002       \n",
       "3 WASH7P:NR_024540.1    .          -            410         410       \n",
       "  bidir_overlap_perc\n",
       "1 1                 \n",
       "2 1                 \n",
       "3 1                 "
      ]
     },
     "metadata": {},
     "output_type": "display_data"
    }
   ],
   "source": [
    "#get bidirectionals not overlapping multiple genes and dPAS\n",
    "overlaps_non_multiple <- overlaps_high[overlaps_high$bidirs %in% \n",
    "                                  as.character(overlaps_bidirs_non_multiple$Var1),]\n",
    "nrow(overlaps_non_multiple)\n",
    "head(overlaps_non_multiple, 3)"
   ]
  },
  {
   "cell_type": "code",
   "execution_count": 28,
   "metadata": {},
   "outputs": [
    {
     "data": {
      "text/html": [
       "529446"
      ],
      "text/latex": [
       "529446"
      ],
      "text/markdown": [
       "529446"
      ],
      "text/plain": [
       "[1] 529446"
      ]
     },
     "metadata": {},
     "output_type": "display_data"
    }
   ],
   "source": [
    "length(unique(overlaps_non_multiple$bidirs))"
   ]
  },
  {
   "cell_type": "code",
   "execution_count": 29,
   "metadata": {},
   "outputs": [
    {
     "data": {
      "text/html": [
       "260012"
      ],
      "text/latex": [
       "260012"
      ],
      "text/markdown": [
       "260012"
      ],
      "text/plain": [
       "[1] 260012"
      ]
     },
     "metadata": {},
     "output_type": "display_data"
    },
    {
     "data": {
      "text/html": [
       "<table class=\"dataframe\">\n",
       "<caption>A data.table: 3 × 1651</caption>\n",
       "<thead>\n",
       "\t<tr><th scope=col>chrom</th><th scope=col>start</th><th scope=col>end</th><th scope=col>bidirs</th><th scope=col>score</th><th scope=col>strand</th><th scope=col>SRR7266931</th><th scope=col>SRR7266932</th><th scope=col>SRR7266933</th><th scope=col>SRR7266934</th><th scope=col>⋯</th><th scope=col>SRR3713716</th><th scope=col>SRR3713717</th><th scope=col>SRR3713718</th><th scope=col>SRR3713719</th><th scope=col>SRR8483105</th><th scope=col>SRR8483106</th><th scope=col>SRR8483107</th><th scope=col>SRR8483108</th><th scope=col>SRR8483109</th><th scope=col>SRR8483110</th></tr>\n",
       "\t<tr><th scope=col>&lt;chr&gt;</th><th scope=col>&lt;int&gt;</th><th scope=col>&lt;int&gt;</th><th scope=col>&lt;chr&gt;</th><th scope=col>&lt;int&gt;</th><th scope=col>&lt;chr&gt;</th><th scope=col>&lt;int&gt;</th><th scope=col>&lt;int&gt;</th><th scope=col>&lt;int&gt;</th><th scope=col>&lt;int&gt;</th><th scope=col>⋯</th><th scope=col>&lt;int&gt;</th><th scope=col>&lt;int&gt;</th><th scope=col>&lt;int&gt;</th><th scope=col>&lt;int&gt;</th><th scope=col>&lt;int&gt;</th><th scope=col>&lt;int&gt;</th><th scope=col>&lt;int&gt;</th><th scope=col>&lt;int&gt;</th><th scope=col>&lt;int&gt;</th><th scope=col>&lt;int&gt;</th></tr>\n",
       "</thead>\n",
       "<tbody>\n",
       "\t<tr><td>chr1</td><td>3917</td><td>4919</td><td>chr1:3917-4919</td><td>14</td><td>.</td><td>0</td><td>0</td><td>0</td><td>0</td><td>⋯</td><td>0</td><td>0</td><td>0</td><td>0</td><td>0</td><td>0</td><td>0</td><td>0</td><td>0</td><td>0</td></tr>\n",
       "\t<tr><td>chr1</td><td>5632</td><td>6042</td><td>chr1:5632-6042</td><td>14</td><td>.</td><td>0</td><td>0</td><td>0</td><td>0</td><td>⋯</td><td>0</td><td>0</td><td>0</td><td>0</td><td>0</td><td>0</td><td>0</td><td>0</td><td>0</td><td>0</td></tr>\n",
       "\t<tr><td>chr1</td><td>6132</td><td>6486</td><td>chr1:6132-6486</td><td> 7</td><td>.</td><td>0</td><td>0</td><td>0</td><td>0</td><td>⋯</td><td>0</td><td>0</td><td>0</td><td>0</td><td>0</td><td>0</td><td>0</td><td>0</td><td>0</td><td>0</td></tr>\n",
       "</tbody>\n",
       "</table>\n"
      ],
      "text/latex": [
       "A data.table: 3 × 1651\n",
       "\\begin{tabular}{lllllllllllllllllllll}\n",
       " chrom & start & end & bidirs & score & strand & SRR7266931 & SRR7266932 & SRR7266933 & SRR7266934 & ⋯ & SRR3713716 & SRR3713717 & SRR3713718 & SRR3713719 & SRR8483105 & SRR8483106 & SRR8483107 & SRR8483108 & SRR8483109 & SRR8483110\\\\\n",
       " <chr> & <int> & <int> & <chr> & <int> & <chr> & <int> & <int> & <int> & <int> & ⋯ & <int> & <int> & <int> & <int> & <int> & <int> & <int> & <int> & <int> & <int>\\\\\n",
       "\\hline\n",
       "\t chr1 & 3917 & 4919 & chr1:3917-4919 & 14 & . & 0 & 0 & 0 & 0 & ⋯ & 0 & 0 & 0 & 0 & 0 & 0 & 0 & 0 & 0 & 0\\\\\n",
       "\t chr1 & 5632 & 6042 & chr1:5632-6042 & 14 & . & 0 & 0 & 0 & 0 & ⋯ & 0 & 0 & 0 & 0 & 0 & 0 & 0 & 0 & 0 & 0\\\\\n",
       "\t chr1 & 6132 & 6486 & chr1:6132-6486 &  7 & . & 0 & 0 & 0 & 0 & ⋯ & 0 & 0 & 0 & 0 & 0 & 0 & 0 & 0 & 0 & 0\\\\\n",
       "\\end{tabular}\n"
      ],
      "text/markdown": [
       "\n",
       "A data.table: 3 × 1651\n",
       "\n",
       "| chrom &lt;chr&gt; | start &lt;int&gt; | end &lt;int&gt; | bidirs &lt;chr&gt; | score &lt;int&gt; | strand &lt;chr&gt; | SRR7266931 &lt;int&gt; | SRR7266932 &lt;int&gt; | SRR7266933 &lt;int&gt; | SRR7266934 &lt;int&gt; | ⋯ ⋯ | SRR3713716 &lt;int&gt; | SRR3713717 &lt;int&gt; | SRR3713718 &lt;int&gt; | SRR3713719 &lt;int&gt; | SRR8483105 &lt;int&gt; | SRR8483106 &lt;int&gt; | SRR8483107 &lt;int&gt; | SRR8483108 &lt;int&gt; | SRR8483109 &lt;int&gt; | SRR8483110 &lt;int&gt; |\n",
       "|---|---|---|---|---|---|---|---|---|---|---|---|---|---|---|---|---|---|---|---|---|\n",
       "| chr1 | 3917 | 4919 | chr1:3917-4919 | 14 | . | 0 | 0 | 0 | 0 | ⋯ | 0 | 0 | 0 | 0 | 0 | 0 | 0 | 0 | 0 | 0 |\n",
       "| chr1 | 5632 | 6042 | chr1:5632-6042 | 14 | . | 0 | 0 | 0 | 0 | ⋯ | 0 | 0 | 0 | 0 | 0 | 0 | 0 | 0 | 0 | 0 |\n",
       "| chr1 | 6132 | 6486 | chr1:6132-6486 |  7 | . | 0 | 0 | 0 | 0 | ⋯ | 0 | 0 | 0 | 0 | 0 | 0 | 0 | 0 | 0 | 0 |\n",
       "\n"
      ],
      "text/plain": [
       "  chrom start end  bidirs         score strand SRR7266931 SRR7266932 SRR7266933\n",
       "1 chr1  3917  4919 chr1:3917-4919 14    .      0          0          0         \n",
       "2 chr1  5632  6042 chr1:5632-6042 14    .      0          0          0         \n",
       "3 chr1  6132  6486 chr1:6132-6486  7    .      0          0          0         \n",
       "  SRR7266934 ⋯ SRR3713716 SRR3713717 SRR3713718 SRR3713719 SRR8483105\n",
       "1 0          ⋯ 0          0          0          0          0         \n",
       "2 0          ⋯ 0          0          0          0          0         \n",
       "3 0          ⋯ 0          0          0          0          0         \n",
       "  SRR8483106 SRR8483107 SRR8483108 SRR8483109 SRR8483110\n",
       "1 0          0          0          0          0         \n",
       "2 0          0          0          0          0         \n",
       "3 0          0          0          0          0         "
      ]
     },
     "metadata": {},
     "output_type": "display_data"
    }
   ],
   "source": [
    "#get sense counts for bidirectionals overlapping the negative strand\n",
    "counts_pos_bidirs_overlaps <- get_strand_counts(counts_pos_bidirs,\n",
    "                                                overlaps_non_multiple,\n",
    "                                                \"-\")\n",
    "nrow(counts_pos_bidirs_overlaps)\n",
    "head(counts_pos_bidirs_overlaps, 3)"
   ]
  },
  {
   "cell_type": "code",
   "execution_count": 30,
   "metadata": {},
   "outputs": [
    {
     "data": {
      "text/html": [
       "269434"
      ],
      "text/latex": [
       "269434"
      ],
      "text/markdown": [
       "269434"
      ],
      "text/plain": [
       "[1] 269434"
      ]
     },
     "metadata": {},
     "output_type": "display_data"
    },
    {
     "data": {
      "text/html": [
       "<table class=\"dataframe\">\n",
       "<caption>A data.table: 3 × 1651</caption>\n",
       "<thead>\n",
       "\t<tr><th scope=col>chrom</th><th scope=col>start</th><th scope=col>end</th><th scope=col>bidirs</th><th scope=col>score</th><th scope=col>strand</th><th scope=col>SRR7266931</th><th scope=col>SRR7266932</th><th scope=col>SRR7266933</th><th scope=col>SRR7266934</th><th scope=col>⋯</th><th scope=col>SRR3713716</th><th scope=col>SRR3713717</th><th scope=col>SRR3713718</th><th scope=col>SRR3713719</th><th scope=col>SRR8483105</th><th scope=col>SRR8483106</th><th scope=col>SRR8483107</th><th scope=col>SRR8483108</th><th scope=col>SRR8483109</th><th scope=col>SRR8483110</th></tr>\n",
       "\t<tr><th scope=col>&lt;chr&gt;</th><th scope=col>&lt;int&gt;</th><th scope=col>&lt;int&gt;</th><th scope=col>&lt;chr&gt;</th><th scope=col>&lt;int&gt;</th><th scope=col>&lt;chr&gt;</th><th scope=col>&lt;int&gt;</th><th scope=col>&lt;int&gt;</th><th scope=col>&lt;int&gt;</th><th scope=col>&lt;int&gt;</th><th scope=col>⋯</th><th scope=col>&lt;int&gt;</th><th scope=col>&lt;int&gt;</th><th scope=col>&lt;int&gt;</th><th scope=col>&lt;int&gt;</th><th scope=col>&lt;int&gt;</th><th scope=col>&lt;int&gt;</th><th scope=col>&lt;int&gt;</th><th scope=col>&lt;int&gt;</th><th scope=col>&lt;int&gt;</th><th scope=col>&lt;int&gt;</th></tr>\n",
       "</thead>\n",
       "<tbody>\n",
       "\t<tr><td>chr1</td><td>36343</td><td>36775</td><td>chr1:36343-36775</td><td>58</td><td>.</td><td>0</td><td>0</td><td>0</td><td>0</td><td>⋯</td><td>0</td><td>0</td><td>0</td><td>0</td><td>0</td><td>0</td><td>0</td><td>0</td><td>0</td><td>0</td></tr>\n",
       "\t<tr><td>chr1</td><td>38375</td><td>38929</td><td>chr1:38375-38929</td><td>58</td><td>.</td><td>0</td><td>0</td><td>0</td><td>0</td><td>⋯</td><td>0</td><td>0</td><td>0</td><td>0</td><td>0</td><td>0</td><td>0</td><td>0</td><td>0</td><td>0</td></tr>\n",
       "\t<tr><td>chr1</td><td>41385</td><td>41765</td><td>chr1:41385-41765</td><td> 2</td><td>.</td><td>0</td><td>0</td><td>0</td><td>0</td><td>⋯</td><td>0</td><td>0</td><td>0</td><td>0</td><td>0</td><td>0</td><td>0</td><td>0</td><td>0</td><td>0</td></tr>\n",
       "</tbody>\n",
       "</table>\n"
      ],
      "text/latex": [
       "A data.table: 3 × 1651\n",
       "\\begin{tabular}{lllllllllllllllllllll}\n",
       " chrom & start & end & bidirs & score & strand & SRR7266931 & SRR7266932 & SRR7266933 & SRR7266934 & ⋯ & SRR3713716 & SRR3713717 & SRR3713718 & SRR3713719 & SRR8483105 & SRR8483106 & SRR8483107 & SRR8483108 & SRR8483109 & SRR8483110\\\\\n",
       " <chr> & <int> & <int> & <chr> & <int> & <chr> & <int> & <int> & <int> & <int> & ⋯ & <int> & <int> & <int> & <int> & <int> & <int> & <int> & <int> & <int> & <int>\\\\\n",
       "\\hline\n",
       "\t chr1 & 36343 & 36775 & chr1:36343-36775 & 58 & . & 0 & 0 & 0 & 0 & ⋯ & 0 & 0 & 0 & 0 & 0 & 0 & 0 & 0 & 0 & 0\\\\\n",
       "\t chr1 & 38375 & 38929 & chr1:38375-38929 & 58 & . & 0 & 0 & 0 & 0 & ⋯ & 0 & 0 & 0 & 0 & 0 & 0 & 0 & 0 & 0 & 0\\\\\n",
       "\t chr1 & 41385 & 41765 & chr1:41385-41765 &  2 & . & 0 & 0 & 0 & 0 & ⋯ & 0 & 0 & 0 & 0 & 0 & 0 & 0 & 0 & 0 & 0\\\\\n",
       "\\end{tabular}\n"
      ],
      "text/markdown": [
       "\n",
       "A data.table: 3 × 1651\n",
       "\n",
       "| chrom &lt;chr&gt; | start &lt;int&gt; | end &lt;int&gt; | bidirs &lt;chr&gt; | score &lt;int&gt; | strand &lt;chr&gt; | SRR7266931 &lt;int&gt; | SRR7266932 &lt;int&gt; | SRR7266933 &lt;int&gt; | SRR7266934 &lt;int&gt; | ⋯ ⋯ | SRR3713716 &lt;int&gt; | SRR3713717 &lt;int&gt; | SRR3713718 &lt;int&gt; | SRR3713719 &lt;int&gt; | SRR8483105 &lt;int&gt; | SRR8483106 &lt;int&gt; | SRR8483107 &lt;int&gt; | SRR8483108 &lt;int&gt; | SRR8483109 &lt;int&gt; | SRR8483110 &lt;int&gt; |\n",
       "|---|---|---|---|---|---|---|---|---|---|---|---|---|---|---|---|---|---|---|---|---|\n",
       "| chr1 | 36343 | 36775 | chr1:36343-36775 | 58 | . | 0 | 0 | 0 | 0 | ⋯ | 0 | 0 | 0 | 0 | 0 | 0 | 0 | 0 | 0 | 0 |\n",
       "| chr1 | 38375 | 38929 | chr1:38375-38929 | 58 | . | 0 | 0 | 0 | 0 | ⋯ | 0 | 0 | 0 | 0 | 0 | 0 | 0 | 0 | 0 | 0 |\n",
       "| chr1 | 41385 | 41765 | chr1:41385-41765 |  2 | . | 0 | 0 | 0 | 0 | ⋯ | 0 | 0 | 0 | 0 | 0 | 0 | 0 | 0 | 0 | 0 |\n",
       "\n"
      ],
      "text/plain": [
       "  chrom start end   bidirs           score strand SRR7266931 SRR7266932\n",
       "1 chr1  36343 36775 chr1:36343-36775 58    .      0          0         \n",
       "2 chr1  38375 38929 chr1:38375-38929 58    .      0          0         \n",
       "3 chr1  41385 41765 chr1:41385-41765  2    .      0          0         \n",
       "  SRR7266933 SRR7266934 ⋯ SRR3713716 SRR3713717 SRR3713718 SRR3713719\n",
       "1 0          0          ⋯ 0          0          0          0         \n",
       "2 0          0          ⋯ 0          0          0          0         \n",
       "3 0          0          ⋯ 0          0          0          0         \n",
       "  SRR8483105 SRR8483106 SRR8483107 SRR8483108 SRR8483109 SRR8483110\n",
       "1 0          0          0          0          0          0         \n",
       "2 0          0          0          0          0          0         \n",
       "3 0          0          0          0          0          0         "
      ]
     },
     "metadata": {},
     "output_type": "display_data"
    }
   ],
   "source": [
    "#get antisense counts for bidirectionals overlapping the positive strand\n",
    "counts_neg_bidirs_overlaps <- get_strand_counts(counts_neg_bidirs,\n",
    "                                                overlaps_non_multiple,\n",
    "                                                \"+\")\n",
    "nrow(counts_neg_bidirs_overlaps)\n",
    "head(counts_neg_bidirs_overlaps, 3)"
   ]
  },
  {
   "cell_type": "markdown",
   "metadata": {},
   "source": [
    "## Get non-gene-overlapping bidirectionals"
   ]
  },
  {
   "cell_type": "code",
   "execution_count": 31,
   "metadata": {},
   "outputs": [
    {
     "data": {
      "text/html": [
       "318075"
      ],
      "text/latex": [
       "318075"
      ],
      "text/markdown": [
       "318075"
      ],
      "text/plain": [
       "[1] 318075"
      ]
     },
     "metadata": {},
     "output_type": "display_data"
    },
    {
     "data": {
      "text/html": [
       "<table class=\"dataframe\">\n",
       "<caption>A data.table: 3 × 1651</caption>\n",
       "<thead>\n",
       "\t<tr><th scope=col>chrom</th><th scope=col>start</th><th scope=col>end</th><th scope=col>bidirs</th><th scope=col>score</th><th scope=col>strand</th><th scope=col>SRR7266931</th><th scope=col>SRR7266932</th><th scope=col>SRR7266933</th><th scope=col>SRR7266934</th><th scope=col>⋯</th><th scope=col>SRR3713716</th><th scope=col>SRR3713717</th><th scope=col>SRR3713718</th><th scope=col>SRR3713719</th><th scope=col>SRR8483105</th><th scope=col>SRR8483106</th><th scope=col>SRR8483107</th><th scope=col>SRR8483108</th><th scope=col>SRR8483109</th><th scope=col>SRR8483110</th></tr>\n",
       "\t<tr><th scope=col>&lt;chr&gt;</th><th scope=col>&lt;int&gt;</th><th scope=col>&lt;int&gt;</th><th scope=col>&lt;chr&gt;</th><th scope=col>&lt;int&gt;</th><th scope=col>&lt;chr&gt;</th><th scope=col>&lt;int&gt;</th><th scope=col>&lt;int&gt;</th><th scope=col>&lt;int&gt;</th><th scope=col>&lt;int&gt;</th><th scope=col>⋯</th><th scope=col>&lt;int&gt;</th><th scope=col>&lt;int&gt;</th><th scope=col>&lt;int&gt;</th><th scope=col>&lt;int&gt;</th><th scope=col>&lt;int&gt;</th><th scope=col>&lt;int&gt;</th><th scope=col>&lt;int&gt;</th><th scope=col>&lt;int&gt;</th><th scope=col>&lt;int&gt;</th><th scope=col>&lt;int&gt;</th></tr>\n",
       "</thead>\n",
       "<tbody>\n",
       "\t<tr><td>chr1</td><td>12182</td><td>12456</td><td>chr1:12182-12456</td><td> 1</td><td>.</td><td>0</td><td>0</td><td>0</td><td>0</td><td>⋯</td><td> 0</td><td>0</td><td>0</td><td>0</td><td>0</td><td>0</td><td>0</td><td>0</td><td>0</td><td>0</td></tr>\n",
       "\t<tr><td>chr1</td><td>13264</td><td>13506</td><td>chr1:13264-13506</td><td>14</td><td>.</td><td>4</td><td>3</td><td>8</td><td>6</td><td>⋯</td><td>11</td><td>9</td><td>5</td><td>4</td><td>2</td><td>2</td><td>4</td><td>2</td><td>0</td><td>6</td></tr>\n",
       "\t<tr><td>chr1</td><td>14655</td><td>14811</td><td>chr1:14655-14811</td><td>14</td><td>.</td><td>1</td><td>0</td><td>0</td><td>1</td><td>⋯</td><td> 1</td><td>0</td><td>0</td><td>0</td><td>0</td><td>0</td><td>0</td><td>0</td><td>0</td><td>0</td></tr>\n",
       "</tbody>\n",
       "</table>\n"
      ],
      "text/latex": [
       "A data.table: 3 × 1651\n",
       "\\begin{tabular}{lllllllllllllllllllll}\n",
       " chrom & start & end & bidirs & score & strand & SRR7266931 & SRR7266932 & SRR7266933 & SRR7266934 & ⋯ & SRR3713716 & SRR3713717 & SRR3713718 & SRR3713719 & SRR8483105 & SRR8483106 & SRR8483107 & SRR8483108 & SRR8483109 & SRR8483110\\\\\n",
       " <chr> & <int> & <int> & <chr> & <int> & <chr> & <int> & <int> & <int> & <int> & ⋯ & <int> & <int> & <int> & <int> & <int> & <int> & <int> & <int> & <int> & <int>\\\\\n",
       "\\hline\n",
       "\t chr1 & 12182 & 12456 & chr1:12182-12456 &  1 & . & 0 & 0 & 0 & 0 & ⋯ &  0 & 0 & 0 & 0 & 0 & 0 & 0 & 0 & 0 & 0\\\\\n",
       "\t chr1 & 13264 & 13506 & chr1:13264-13506 & 14 & . & 4 & 3 & 8 & 6 & ⋯ & 11 & 9 & 5 & 4 & 2 & 2 & 4 & 2 & 0 & 6\\\\\n",
       "\t chr1 & 14655 & 14811 & chr1:14655-14811 & 14 & . & 1 & 0 & 0 & 1 & ⋯ &  1 & 0 & 0 & 0 & 0 & 0 & 0 & 0 & 0 & 0\\\\\n",
       "\\end{tabular}\n"
      ],
      "text/markdown": [
       "\n",
       "A data.table: 3 × 1651\n",
       "\n",
       "| chrom &lt;chr&gt; | start &lt;int&gt; | end &lt;int&gt; | bidirs &lt;chr&gt; | score &lt;int&gt; | strand &lt;chr&gt; | SRR7266931 &lt;int&gt; | SRR7266932 &lt;int&gt; | SRR7266933 &lt;int&gt; | SRR7266934 &lt;int&gt; | ⋯ ⋯ | SRR3713716 &lt;int&gt; | SRR3713717 &lt;int&gt; | SRR3713718 &lt;int&gt; | SRR3713719 &lt;int&gt; | SRR8483105 &lt;int&gt; | SRR8483106 &lt;int&gt; | SRR8483107 &lt;int&gt; | SRR8483108 &lt;int&gt; | SRR8483109 &lt;int&gt; | SRR8483110 &lt;int&gt; |\n",
       "|---|---|---|---|---|---|---|---|---|---|---|---|---|---|---|---|---|---|---|---|---|\n",
       "| chr1 | 12182 | 12456 | chr1:12182-12456 |  1 | . | 0 | 0 | 0 | 0 | ⋯ |  0 | 0 | 0 | 0 | 0 | 0 | 0 | 0 | 0 | 0 |\n",
       "| chr1 | 13264 | 13506 | chr1:13264-13506 | 14 | . | 4 | 3 | 8 | 6 | ⋯ | 11 | 9 | 5 | 4 | 2 | 2 | 4 | 2 | 0 | 6 |\n",
       "| chr1 | 14655 | 14811 | chr1:14655-14811 | 14 | . | 1 | 0 | 0 | 1 | ⋯ |  1 | 0 | 0 | 0 | 0 | 0 | 0 | 0 | 0 | 0 |\n",
       "\n"
      ],
      "text/plain": [
       "  chrom start end   bidirs           score strand SRR7266931 SRR7266932\n",
       "1 chr1  12182 12456 chr1:12182-12456  1    .      0          0         \n",
       "2 chr1  13264 13506 chr1:13264-13506 14    .      4          3         \n",
       "3 chr1  14655 14811 chr1:14655-14811 14    .      1          0         \n",
       "  SRR7266933 SRR7266934 ⋯ SRR3713716 SRR3713717 SRR3713718 SRR3713719\n",
       "1 0          0          ⋯  0         0          0          0         \n",
       "2 8          6          ⋯ 11         9          5          4         \n",
       "3 0          1          ⋯  1         0          0          0         \n",
       "  SRR8483105 SRR8483106 SRR8483107 SRR8483108 SRR8483109 SRR8483110\n",
       "1 0          0          0          0          0          0         \n",
       "2 2          2          4          2          0          6         \n",
       "3 0          0          0          0          0          0         "
      ]
     },
     "metadata": {},
     "output_type": "display_data"
    }
   ],
   "source": [
    "#######################################################################################################\n",
    "##remove bidirectional transcripts overlapping genes\n",
    "##i: overlapping a single gene transcript region : overlaps_non_multiple, and\n",
    "##ii: overlapping +/- gene transcripts (these are removed) : overlaps_bidirs_multiple\n",
    "#counts_bidirs_nooverlaps <- counts_bidirs_pos_neg[!counts_bidirs_pos_neg$bidirs\n",
    "#                                                 %in%\n",
    "#                                                  unique(c(overlaps_non_multiple$bidirs, \n",
    "#                                                    as.character(overlaps_bidirs_multiple$Var1))),]\n",
    "#nrow(counts_bidirs_nooverlaps)\n",
    "#head(counts_bidirs_nooverlaps, 3)\n",
    "#######################################################################################################\n",
    "\n",
    "##Keep the transcripts overlapping multiple gene and filter after based on whether the upstream transcripts are \n",
    "##transcribed\n",
    "counts_bidirs_nooverlaps <- counts_bidirs_pos_neg[!counts_bidirs_pos_neg$bidirs\n",
    "                                                 %in%\n",
    "                                                  unique(overlaps_non_multiple$bidirs),]\n",
    "nrow(counts_bidirs_nooverlaps)\n",
    "head(counts_bidirs_nooverlaps, 3)"
   ]
  },
  {
   "cell_type": "code",
   "execution_count": 32,
   "metadata": {},
   "outputs": [
    {
     "data": {
      "text/html": [
       "589176"
      ],
      "text/latex": [
       "589176"
      ],
      "text/markdown": [
       "589176"
      ],
      "text/plain": [
       "[1] 589176"
      ]
     },
     "metadata": {},
     "output_type": "display_data"
    }
   ],
   "source": [
    "length(unique(c(overlaps_non_multiple$bidirs, as.character(overlaps_bidirs_multiple$Var1))))"
   ]
  },
  {
   "cell_type": "code",
   "execution_count": 33,
   "metadata": {},
   "outputs": [
    {
     "data": {
      "text/html": [
       "529446"
      ],
      "text/latex": [
       "529446"
      ],
      "text/markdown": [
       "529446"
      ],
      "text/plain": [
       "[1] 529446"
      ]
     },
     "metadata": {},
     "output_type": "display_data"
    }
   ],
   "source": [
    "length(unique(overlaps_non_multiple$bidirs))"
   ]
  },
  {
   "cell_type": "markdown",
   "metadata": {},
   "source": [
    "## Combine bidirection pos, neg and both strand counts"
   ]
  },
  {
   "cell_type": "code",
   "execution_count": 34,
   "metadata": {},
   "outputs": [
    {
     "data": {
      "text/html": [
       "847521"
      ],
      "text/latex": [
       "847521"
      ],
      "text/markdown": [
       "847521"
      ],
      "text/plain": [
       "[1] 847521"
      ]
     },
     "metadata": {},
     "output_type": "display_data"
    },
    {
     "data": {
      "text/html": [
       "<table class=\"dataframe\">\n",
       "<caption>A data.table: 3 × 1651</caption>\n",
       "<thead>\n",
       "\t<tr><th scope=col>chrom</th><th scope=col>start</th><th scope=col>end</th><th scope=col>bidirs</th><th scope=col>score</th><th scope=col>strand</th><th scope=col>SRR7266931</th><th scope=col>SRR7266932</th><th scope=col>SRR7266933</th><th scope=col>SRR7266934</th><th scope=col>⋯</th><th scope=col>SRR3713716</th><th scope=col>SRR3713717</th><th scope=col>SRR3713718</th><th scope=col>SRR3713719</th><th scope=col>SRR8483105</th><th scope=col>SRR8483106</th><th scope=col>SRR8483107</th><th scope=col>SRR8483108</th><th scope=col>SRR8483109</th><th scope=col>SRR8483110</th></tr>\n",
       "\t<tr><th scope=col>&lt;chr&gt;</th><th scope=col>&lt;int&gt;</th><th scope=col>&lt;int&gt;</th><th scope=col>&lt;chr&gt;</th><th scope=col>&lt;int&gt;</th><th scope=col>&lt;chr&gt;</th><th scope=col>&lt;int&gt;</th><th scope=col>&lt;int&gt;</th><th scope=col>&lt;int&gt;</th><th scope=col>&lt;int&gt;</th><th scope=col>⋯</th><th scope=col>&lt;int&gt;</th><th scope=col>&lt;int&gt;</th><th scope=col>&lt;int&gt;</th><th scope=col>&lt;int&gt;</th><th scope=col>&lt;int&gt;</th><th scope=col>&lt;int&gt;</th><th scope=col>&lt;int&gt;</th><th scope=col>&lt;int&gt;</th><th scope=col>&lt;int&gt;</th><th scope=col>&lt;int&gt;</th></tr>\n",
       "</thead>\n",
       "<tbody>\n",
       "\t<tr><td>chr1</td><td>12182</td><td>12456</td><td>chr1:12182-12456</td><td> 1</td><td>.</td><td>0</td><td>0</td><td>0</td><td>0</td><td>⋯</td><td> 0</td><td>0</td><td>0</td><td>0</td><td>0</td><td>0</td><td>0</td><td>0</td><td>0</td><td>0</td></tr>\n",
       "\t<tr><td>chr1</td><td>13264</td><td>13506</td><td>chr1:13264-13506</td><td>14</td><td>.</td><td>4</td><td>3</td><td>8</td><td>6</td><td>⋯</td><td>11</td><td>9</td><td>5</td><td>4</td><td>2</td><td>2</td><td>4</td><td>2</td><td>0</td><td>6</td></tr>\n",
       "\t<tr><td>chr1</td><td>14655</td><td>14811</td><td>chr1:14655-14811</td><td>14</td><td>.</td><td>1</td><td>0</td><td>0</td><td>1</td><td>⋯</td><td> 1</td><td>0</td><td>0</td><td>0</td><td>0</td><td>0</td><td>0</td><td>0</td><td>0</td><td>0</td></tr>\n",
       "</tbody>\n",
       "</table>\n"
      ],
      "text/latex": [
       "A data.table: 3 × 1651\n",
       "\\begin{tabular}{lllllllllllllllllllll}\n",
       " chrom & start & end & bidirs & score & strand & SRR7266931 & SRR7266932 & SRR7266933 & SRR7266934 & ⋯ & SRR3713716 & SRR3713717 & SRR3713718 & SRR3713719 & SRR8483105 & SRR8483106 & SRR8483107 & SRR8483108 & SRR8483109 & SRR8483110\\\\\n",
       " <chr> & <int> & <int> & <chr> & <int> & <chr> & <int> & <int> & <int> & <int> & ⋯ & <int> & <int> & <int> & <int> & <int> & <int> & <int> & <int> & <int> & <int>\\\\\n",
       "\\hline\n",
       "\t chr1 & 12182 & 12456 & chr1:12182-12456 &  1 & . & 0 & 0 & 0 & 0 & ⋯ &  0 & 0 & 0 & 0 & 0 & 0 & 0 & 0 & 0 & 0\\\\\n",
       "\t chr1 & 13264 & 13506 & chr1:13264-13506 & 14 & . & 4 & 3 & 8 & 6 & ⋯ & 11 & 9 & 5 & 4 & 2 & 2 & 4 & 2 & 0 & 6\\\\\n",
       "\t chr1 & 14655 & 14811 & chr1:14655-14811 & 14 & . & 1 & 0 & 0 & 1 & ⋯ &  1 & 0 & 0 & 0 & 0 & 0 & 0 & 0 & 0 & 0\\\\\n",
       "\\end{tabular}\n"
      ],
      "text/markdown": [
       "\n",
       "A data.table: 3 × 1651\n",
       "\n",
       "| chrom &lt;chr&gt; | start &lt;int&gt; | end &lt;int&gt; | bidirs &lt;chr&gt; | score &lt;int&gt; | strand &lt;chr&gt; | SRR7266931 &lt;int&gt; | SRR7266932 &lt;int&gt; | SRR7266933 &lt;int&gt; | SRR7266934 &lt;int&gt; | ⋯ ⋯ | SRR3713716 &lt;int&gt; | SRR3713717 &lt;int&gt; | SRR3713718 &lt;int&gt; | SRR3713719 &lt;int&gt; | SRR8483105 &lt;int&gt; | SRR8483106 &lt;int&gt; | SRR8483107 &lt;int&gt; | SRR8483108 &lt;int&gt; | SRR8483109 &lt;int&gt; | SRR8483110 &lt;int&gt; |\n",
       "|---|---|---|---|---|---|---|---|---|---|---|---|---|---|---|---|---|---|---|---|---|\n",
       "| chr1 | 12182 | 12456 | chr1:12182-12456 |  1 | . | 0 | 0 | 0 | 0 | ⋯ |  0 | 0 | 0 | 0 | 0 | 0 | 0 | 0 | 0 | 0 |\n",
       "| chr1 | 13264 | 13506 | chr1:13264-13506 | 14 | . | 4 | 3 | 8 | 6 | ⋯ | 11 | 9 | 5 | 4 | 2 | 2 | 4 | 2 | 0 | 6 |\n",
       "| chr1 | 14655 | 14811 | chr1:14655-14811 | 14 | . | 1 | 0 | 0 | 1 | ⋯ |  1 | 0 | 0 | 0 | 0 | 0 | 0 | 0 | 0 | 0 |\n",
       "\n"
      ],
      "text/plain": [
       "  chrom start end   bidirs           score strand SRR7266931 SRR7266932\n",
       "1 chr1  12182 12456 chr1:12182-12456  1    .      0          0         \n",
       "2 chr1  13264 13506 chr1:13264-13506 14    .      4          3         \n",
       "3 chr1  14655 14811 chr1:14655-14811 14    .      1          0         \n",
       "  SRR7266933 SRR7266934 ⋯ SRR3713716 SRR3713717 SRR3713718 SRR3713719\n",
       "1 0          0          ⋯  0         0          0          0         \n",
       "2 8          6          ⋯ 11         9          5          4         \n",
       "3 0          1          ⋯  1         0          0          0         \n",
       "  SRR8483105 SRR8483106 SRR8483107 SRR8483108 SRR8483109 SRR8483110\n",
       "1 0          0          0          0          0          0         \n",
       "2 2          2          4          2          0          6         \n",
       "3 0          0          0          0          0          0         "
      ]
     },
     "metadata": {},
     "output_type": "display_data"
    }
   ],
   "source": [
    "counts_bidirs <- rbind(counts_bidirs_nooverlaps,\n",
    "                       counts_pos_bidirs_overlaps, \n",
    "                       counts_neg_bidirs_overlaps)\n",
    "nrow(counts_bidirs)\n",
    "head(counts_bidirs, 3)"
   ]
  },
  {
   "cell_type": "markdown",
   "metadata": {},
   "source": [
    "# Combine all counts"
   ]
  },
  {
   "cell_type": "code",
   "execution_count": 35,
   "metadata": {},
   "outputs": [
    {
     "data": {
      "text/html": [
       "<style>\n",
       ".list-inline {list-style: none; margin:0; padding: 0}\n",
       ".list-inline>li {display: inline-block}\n",
       ".list-inline>li:not(:last-child)::after {content: \"\\00b7\"; padding: 0 .5ex}\n",
       "</style>\n",
       "<ol class=list-inline><li>876410</li><li>1651</li></ol>\n"
      ],
      "text/latex": [
       "\\begin{enumerate*}\n",
       "\\item 876410\n",
       "\\item 1651\n",
       "\\end{enumerate*}\n"
      ],
      "text/markdown": [
       "1. 876410\n",
       "2. 1651\n",
       "\n",
       "\n"
      ],
      "text/plain": [
       "[1] 876410   1651"
      ]
     },
     "metadata": {},
     "output_type": "display_data"
    },
    {
     "data": {
      "text/html": [
       "<table class=\"dataframe\">\n",
       "<caption>A data.frame: 3 × 1651</caption>\n",
       "<thead>\n",
       "\t<tr><th></th><th scope=col>chrom</th><th scope=col>start</th><th scope=col>stop</th><th scope=col>gene_transcript</th><th scope=col>score</th><th scope=col>strand</th><th scope=col>SRR7266931</th><th scope=col>SRR7266932</th><th scope=col>SRR7266933</th><th scope=col>SRR7266934</th><th scope=col>⋯</th><th scope=col>SRR3713716</th><th scope=col>SRR3713717</th><th scope=col>SRR3713718</th><th scope=col>SRR3713719</th><th scope=col>SRR8483105</th><th scope=col>SRR8483106</th><th scope=col>SRR8483107</th><th scope=col>SRR8483108</th><th scope=col>SRR8483109</th><th scope=col>SRR8483110</th></tr>\n",
       "\t<tr><th></th><th scope=col>&lt;chr&gt;</th><th scope=col>&lt;int&gt;</th><th scope=col>&lt;int&gt;</th><th scope=col>&lt;chr&gt;</th><th scope=col>&lt;chr&gt;</th><th scope=col>&lt;chr&gt;</th><th scope=col>&lt;int&gt;</th><th scope=col>&lt;int&gt;</th><th scope=col>&lt;int&gt;</th><th scope=col>&lt;int&gt;</th><th scope=col>⋯</th><th scope=col>&lt;int&gt;</th><th scope=col>&lt;int&gt;</th><th scope=col>&lt;int&gt;</th><th scope=col>&lt;int&gt;</th><th scope=col>&lt;int&gt;</th><th scope=col>&lt;int&gt;</th><th scope=col>&lt;int&gt;</th><th scope=col>&lt;int&gt;</th><th scope=col>&lt;int&gt;</th><th scope=col>&lt;int&gt;</th></tr>\n",
       "</thead>\n",
       "<tbody>\n",
       "\t<tr><th scope=row>1</th><td>chr1</td><td>12623</td><td>14409</td><td>DDX11L1:NR_046018.2  </td><td>.</td><td>+</td><td> 0</td><td>0</td><td> 0</td><td> 0</td><td>⋯</td><td> 0</td><td> 0</td><td> 0</td><td> 0</td><td> 0</td><td> 0</td><td> 0</td><td> 0</td><td> 0</td><td> 0</td></tr>\n",
       "\t<tr><th scope=row>2</th><td>chr1</td><td>14361</td><td>28620</td><td>WASH7P:NR_024540.1   </td><td>.</td><td>-</td><td>43</td><td>4</td><td>45</td><td>34</td><td>⋯</td><td>12</td><td>10</td><td>38</td><td>30</td><td>42</td><td>62</td><td>53</td><td>44</td><td>49</td><td>61</td></tr>\n",
       "\t<tr><th scope=row>3</th><td>chr1</td><td>17368</td><td>17436</td><td>MIR6859-1:NR_106918.1</td><td>.</td><td>-</td><td> 0</td><td>0</td><td> 0</td><td> 0</td><td>⋯</td><td> 0</td><td> 0</td><td> 0</td><td> 0</td><td> 0</td><td> 0</td><td> 0</td><td> 0</td><td> 0</td><td> 0</td></tr>\n",
       "</tbody>\n",
       "</table>\n"
      ],
      "text/latex": [
       "A data.frame: 3 × 1651\n",
       "\\begin{tabular}{r|lllllllllllllllllllll}\n",
       "  & chrom & start & stop & gene\\_transcript & score & strand & SRR7266931 & SRR7266932 & SRR7266933 & SRR7266934 & ⋯ & SRR3713716 & SRR3713717 & SRR3713718 & SRR3713719 & SRR8483105 & SRR8483106 & SRR8483107 & SRR8483108 & SRR8483109 & SRR8483110\\\\\n",
       "  & <chr> & <int> & <int> & <chr> & <chr> & <chr> & <int> & <int> & <int> & <int> & ⋯ & <int> & <int> & <int> & <int> & <int> & <int> & <int> & <int> & <int> & <int>\\\\\n",
       "\\hline\n",
       "\t1 & chr1 & 12623 & 14409 & DDX11L1:NR\\_046018.2   & . & + &  0 & 0 &  0 &  0 & ⋯ &  0 &  0 &  0 &  0 &  0 &  0 &  0 &  0 &  0 &  0\\\\\n",
       "\t2 & chr1 & 14361 & 28620 & WASH7P:NR\\_024540.1    & . & - & 43 & 4 & 45 & 34 & ⋯ & 12 & 10 & 38 & 30 & 42 & 62 & 53 & 44 & 49 & 61\\\\\n",
       "\t3 & chr1 & 17368 & 17436 & MIR6859-1:NR\\_106918.1 & . & - &  0 & 0 &  0 &  0 & ⋯ &  0 &  0 &  0 &  0 &  0 &  0 &  0 &  0 &  0 &  0\\\\\n",
       "\\end{tabular}\n"
      ],
      "text/markdown": [
       "\n",
       "A data.frame: 3 × 1651\n",
       "\n",
       "| <!--/--> | chrom &lt;chr&gt; | start &lt;int&gt; | stop &lt;int&gt; | gene_transcript &lt;chr&gt; | score &lt;chr&gt; | strand &lt;chr&gt; | SRR7266931 &lt;int&gt; | SRR7266932 &lt;int&gt; | SRR7266933 &lt;int&gt; | SRR7266934 &lt;int&gt; | ⋯ ⋯ | SRR3713716 &lt;int&gt; | SRR3713717 &lt;int&gt; | SRR3713718 &lt;int&gt; | SRR3713719 &lt;int&gt; | SRR8483105 &lt;int&gt; | SRR8483106 &lt;int&gt; | SRR8483107 &lt;int&gt; | SRR8483108 &lt;int&gt; | SRR8483109 &lt;int&gt; | SRR8483110 &lt;int&gt; |\n",
       "|---|---|---|---|---|---|---|---|---|---|---|---|---|---|---|---|---|---|---|---|---|---|\n",
       "| 1 | chr1 | 12623 | 14409 | DDX11L1:NR_046018.2   | . | + |  0 | 0 |  0 |  0 | ⋯ |  0 |  0 |  0 |  0 |  0 |  0 |  0 |  0 |  0 |  0 |\n",
       "| 2 | chr1 | 14361 | 28620 | WASH7P:NR_024540.1    | . | - | 43 | 4 | 45 | 34 | ⋯ | 12 | 10 | 38 | 30 | 42 | 62 | 53 | 44 | 49 | 61 |\n",
       "| 3 | chr1 | 17368 | 17436 | MIR6859-1:NR_106918.1 | . | - |  0 | 0 |  0 |  0 | ⋯ |  0 |  0 |  0 |  0 |  0 |  0 |  0 |  0 |  0 |  0 |\n",
       "\n"
      ],
      "text/plain": [
       "  chrom start stop  gene_transcript       score strand SRR7266931 SRR7266932\n",
       "1 chr1  12623 14409 DDX11L1:NR_046018.2   .     +       0         0         \n",
       "2 chr1  14361 28620 WASH7P:NR_024540.1    .     -      43         4         \n",
       "3 chr1  17368 17436 MIR6859-1:NR_106918.1 .     -       0         0         \n",
       "  SRR7266933 SRR7266934 ⋯ SRR3713716 SRR3713717 SRR3713718 SRR3713719\n",
       "1  0          0         ⋯  0          0          0          0        \n",
       "2 45         34         ⋯ 12         10         38         30        \n",
       "3  0          0         ⋯  0          0          0          0        \n",
       "  SRR8483105 SRR8483106 SRR8483107 SRR8483108 SRR8483109 SRR8483110\n",
       "1  0          0          0          0          0          0        \n",
       "2 42         62         53         44         49         61        \n",
       "3  0          0          0          0          0          0        "
      ]
     },
     "metadata": {},
     "output_type": "display_data"
    },
    {
     "data": {
      "text/html": [
       "<table class=\"dataframe\">\n",
       "<caption>A data.frame: 3 × 1651</caption>\n",
       "<thead>\n",
       "\t<tr><th></th><th scope=col>chrom</th><th scope=col>start</th><th scope=col>stop</th><th scope=col>gene_transcript</th><th scope=col>score</th><th scope=col>strand</th><th scope=col>SRR7266931</th><th scope=col>SRR7266932</th><th scope=col>SRR7266933</th><th scope=col>SRR7266934</th><th scope=col>⋯</th><th scope=col>SRR3713716</th><th scope=col>SRR3713717</th><th scope=col>SRR3713718</th><th scope=col>SRR3713719</th><th scope=col>SRR8483105</th><th scope=col>SRR8483106</th><th scope=col>SRR8483107</th><th scope=col>SRR8483108</th><th scope=col>SRR8483109</th><th scope=col>SRR8483110</th></tr>\n",
       "\t<tr><th></th><th scope=col>&lt;chr&gt;</th><th scope=col>&lt;int&gt;</th><th scope=col>&lt;int&gt;</th><th scope=col>&lt;chr&gt;</th><th scope=col>&lt;chr&gt;</th><th scope=col>&lt;chr&gt;</th><th scope=col>&lt;int&gt;</th><th scope=col>&lt;int&gt;</th><th scope=col>&lt;int&gt;</th><th scope=col>&lt;int&gt;</th><th scope=col>⋯</th><th scope=col>&lt;int&gt;</th><th scope=col>&lt;int&gt;</th><th scope=col>&lt;int&gt;</th><th scope=col>&lt;int&gt;</th><th scope=col>&lt;int&gt;</th><th scope=col>&lt;int&gt;</th><th scope=col>&lt;int&gt;</th><th scope=col>&lt;int&gt;</th><th scope=col>&lt;int&gt;</th><th scope=col>&lt;int&gt;</th></tr>\n",
       "</thead>\n",
       "<tbody>\n",
       "\t<tr><th scope=row>876408</th><td>chrY</td><td>25633930</td><td>25634690</td><td>chrY:25633930-25634690</td><td>1</td><td>.</td><td>0</td><td>0</td><td>0</td><td>0</td><td>⋯</td><td>0</td><td>0</td><td>0</td><td>0</td><td>0</td><td>0</td><td>0</td><td>0</td><td>0</td><td>0</td></tr>\n",
       "\t<tr><th scope=row>876409</th><td>chrY</td><td>25639750</td><td>25640170</td><td>chrY:25639750-25640170</td><td>1</td><td>.</td><td>0</td><td>0</td><td>0</td><td>0</td><td>⋯</td><td>0</td><td>0</td><td>0</td><td>0</td><td>0</td><td>0</td><td>0</td><td>0</td><td>0</td><td>0</td></tr>\n",
       "\t<tr><th scope=row>876410</th><td>chrY</td><td>25738260</td><td>25738790</td><td>chrY:25738260-25738790</td><td>1</td><td>.</td><td>1</td><td>0</td><td>0</td><td>0</td><td>⋯</td><td>0</td><td>0</td><td>0</td><td>0</td><td>0</td><td>0</td><td>0</td><td>0</td><td>0</td><td>0</td></tr>\n",
       "</tbody>\n",
       "</table>\n"
      ],
      "text/latex": [
       "A data.frame: 3 × 1651\n",
       "\\begin{tabular}{r|lllllllllllllllllllll}\n",
       "  & chrom & start & stop & gene\\_transcript & score & strand & SRR7266931 & SRR7266932 & SRR7266933 & SRR7266934 & ⋯ & SRR3713716 & SRR3713717 & SRR3713718 & SRR3713719 & SRR8483105 & SRR8483106 & SRR8483107 & SRR8483108 & SRR8483109 & SRR8483110\\\\\n",
       "  & <chr> & <int> & <int> & <chr> & <chr> & <chr> & <int> & <int> & <int> & <int> & ⋯ & <int> & <int> & <int> & <int> & <int> & <int> & <int> & <int> & <int> & <int>\\\\\n",
       "\\hline\n",
       "\t876408 & chrY & 25633930 & 25634690 & chrY:25633930-25634690 & 1 & . & 0 & 0 & 0 & 0 & ⋯ & 0 & 0 & 0 & 0 & 0 & 0 & 0 & 0 & 0 & 0\\\\\n",
       "\t876409 & chrY & 25639750 & 25640170 & chrY:25639750-25640170 & 1 & . & 0 & 0 & 0 & 0 & ⋯ & 0 & 0 & 0 & 0 & 0 & 0 & 0 & 0 & 0 & 0\\\\\n",
       "\t876410 & chrY & 25738260 & 25738790 & chrY:25738260-25738790 & 1 & . & 1 & 0 & 0 & 0 & ⋯ & 0 & 0 & 0 & 0 & 0 & 0 & 0 & 0 & 0 & 0\\\\\n",
       "\\end{tabular}\n"
      ],
      "text/markdown": [
       "\n",
       "A data.frame: 3 × 1651\n",
       "\n",
       "| <!--/--> | chrom &lt;chr&gt; | start &lt;int&gt; | stop &lt;int&gt; | gene_transcript &lt;chr&gt; | score &lt;chr&gt; | strand &lt;chr&gt; | SRR7266931 &lt;int&gt; | SRR7266932 &lt;int&gt; | SRR7266933 &lt;int&gt; | SRR7266934 &lt;int&gt; | ⋯ ⋯ | SRR3713716 &lt;int&gt; | SRR3713717 &lt;int&gt; | SRR3713718 &lt;int&gt; | SRR3713719 &lt;int&gt; | SRR8483105 &lt;int&gt; | SRR8483106 &lt;int&gt; | SRR8483107 &lt;int&gt; | SRR8483108 &lt;int&gt; | SRR8483109 &lt;int&gt; | SRR8483110 &lt;int&gt; |\n",
       "|---|---|---|---|---|---|---|---|---|---|---|---|---|---|---|---|---|---|---|---|---|---|\n",
       "| 876408 | chrY | 25633930 | 25634690 | chrY:25633930-25634690 | 1 | . | 0 | 0 | 0 | 0 | ⋯ | 0 | 0 | 0 | 0 | 0 | 0 | 0 | 0 | 0 | 0 |\n",
       "| 876409 | chrY | 25639750 | 25640170 | chrY:25639750-25640170 | 1 | . | 0 | 0 | 0 | 0 | ⋯ | 0 | 0 | 0 | 0 | 0 | 0 | 0 | 0 | 0 | 0 |\n",
       "| 876410 | chrY | 25738260 | 25738790 | chrY:25738260-25738790 | 1 | . | 1 | 0 | 0 | 0 | ⋯ | 0 | 0 | 0 | 0 | 0 | 0 | 0 | 0 | 0 | 0 |\n",
       "\n"
      ],
      "text/plain": [
       "       chrom start    stop     gene_transcript        score strand SRR7266931\n",
       "876408 chrY  25633930 25634690 chrY:25633930-25634690 1     .      0         \n",
       "876409 chrY  25639750 25640170 chrY:25639750-25640170 1     .      0         \n",
       "876410 chrY  25738260 25738790 chrY:25738260-25738790 1     .      1         \n",
       "       SRR7266932 SRR7266933 SRR7266934 ⋯ SRR3713716 SRR3713717 SRR3713718\n",
       "876408 0          0          0          ⋯ 0          0          0         \n",
       "876409 0          0          0          ⋯ 0          0          0         \n",
       "876410 0          0          0          ⋯ 0          0          0         \n",
       "       SRR3713719 SRR8483105 SRR8483106 SRR8483107 SRR8483108 SRR8483109\n",
       "876408 0          0          0          0          0          0         \n",
       "876409 0          0          0          0          0          0         \n",
       "876410 0          0          0          0          0          0         \n",
       "       SRR8483110\n",
       "876408 0         \n",
       "876409 0         \n",
       "876410 0         "
      ]
     },
     "metadata": {},
     "output_type": "display_data"
    }
   ],
   "source": [
    "counts_bidir_genes_trunc <- as.data.frame(rbind(counts_genes, \n",
    "                                          counts_bidirs,\n",
    "                                        use.names=FALSE))\n",
    "\n",
    "dim(counts_bidir_genes_trunc)\n",
    "head(counts_bidir_genes_trunc, 3)\n",
    "tail(counts_bidir_genes_trunc, 3)"
   ]
  },
  {
   "cell_type": "markdown",
   "metadata": {},
   "source": [
    "# Normalize counts"
   ]
  },
  {
   "cell_type": "code",
   "execution_count": 36,
   "metadata": {},
   "outputs": [
    {
     "data": {
      "text/html": [
       "<style>\n",
       ".list-inline {list-style: none; margin:0; padding: 0}\n",
       ".list-inline>li {display: inline-block}\n",
       ".list-inline>li:not(:last-child)::after {content: \"\\00b7\"; padding: 0 .5ex}\n",
       "</style>\n",
       "<ol class=list-inline><li>876410</li><li>1651</li></ol>\n"
      ],
      "text/latex": [
       "\\begin{enumerate*}\n",
       "\\item 876410\n",
       "\\item 1651\n",
       "\\end{enumerate*}\n"
      ],
      "text/markdown": [
       "1. 876410\n",
       "2. 1651\n",
       "\n",
       "\n"
      ],
      "text/plain": [
       "[1] 876410   1651"
      ]
     },
     "metadata": {},
     "output_type": "display_data"
    },
    {
     "data": {
      "text/html": [
       "<table class=\"dataframe\">\n",
       "<caption>A data.frame: 6 × 1651</caption>\n",
       "<thead>\n",
       "\t<tr><th></th><th scope=col>chrom</th><th scope=col>start</th><th scope=col>stop</th><th scope=col>gene_transcript</th><th scope=col>score</th><th scope=col>strand</th><th scope=col>SRR7266931</th><th scope=col>SRR7266932</th><th scope=col>SRR7266933</th><th scope=col>SRR7266934</th><th scope=col>⋯</th><th scope=col>SRR3713716</th><th scope=col>SRR3713717</th><th scope=col>SRR3713718</th><th scope=col>SRR3713719</th><th scope=col>SRR8483105</th><th scope=col>SRR8483106</th><th scope=col>SRR8483107</th><th scope=col>SRR8483108</th><th scope=col>SRR8483109</th><th scope=col>SRR8483110</th></tr>\n",
       "\t<tr><th></th><th scope=col>&lt;chr&gt;</th><th scope=col>&lt;int&gt;</th><th scope=col>&lt;int&gt;</th><th scope=col>&lt;chr&gt;</th><th scope=col>&lt;chr&gt;</th><th scope=col>&lt;chr&gt;</th><th scope=col>&lt;dbl&gt;</th><th scope=col>&lt;dbl&gt;</th><th scope=col>&lt;dbl&gt;</th><th scope=col>&lt;dbl&gt;</th><th scope=col>⋯</th><th scope=col>&lt;dbl&gt;</th><th scope=col>&lt;dbl&gt;</th><th scope=col>&lt;dbl&gt;</th><th scope=col>&lt;dbl&gt;</th><th scope=col>&lt;dbl&gt;</th><th scope=col>&lt;dbl&gt;</th><th scope=col>&lt;dbl&gt;</th><th scope=col>&lt;dbl&gt;</th><th scope=col>&lt;dbl&gt;</th><th scope=col>&lt;dbl&gt;</th></tr>\n",
       "</thead>\n",
       "<tbody>\n",
       "\t<tr><th scope=row>1</th><td>chr1</td><td>12623</td><td>14409</td><td>DDX11L1:NR_046018.2  </td><td>.</td><td>+</td><td>0.0000000</td><td>0.00000000</td><td>0.000000</td><td>0.000000</td><td>⋯</td><td>0.00000000</td><td>0.00000000</td><td>0.0000000</td><td>0.0000000</td><td>0.0000000</td><td>0.0000000</td><td>0.0000000</td><td>0.0000000</td><td>0.0000000</td><td>0.0000000</td></tr>\n",
       "\t<tr><th scope=row>2</th><td>chr1</td><td>14361</td><td>28620</td><td>WASH7P:NR_024540.1   </td><td>.</td><td>-</td><td>0.2372728</td><td>0.04812349</td><td>0.247163</td><td>0.180835</td><td>⋯</td><td>0.05880973</td><td>0.06709094</td><td>0.2776161</td><td>0.1448111</td><td>0.3800877</td><td>0.4256579</td><td>0.3585765</td><td>0.3028641</td><td>0.3857214</td><td>0.4399284</td></tr>\n",
       "\t<tr><th scope=row>3</th><td>chr1</td><td>17368</td><td>17436</td><td>MIR6859-1:NR_106918.1</td><td>.</td><td>-</td><td>0.0000000</td><td>0.00000000</td><td>0.000000</td><td>0.000000</td><td>⋯</td><td>0.00000000</td><td>0.00000000</td><td>0.0000000</td><td>0.0000000</td><td>0.0000000</td><td>0.0000000</td><td>0.0000000</td><td>0.0000000</td><td>0.0000000</td><td>0.0000000</td></tr>\n",
       "\t<tr><th scope=row>4</th><td>chr1</td><td>30365</td><td>30503</td><td>MIR1302-2:NR_036051.1</td><td>.</td><td>+</td><td>0.0000000</td><td>0.00000000</td><td>0.000000</td><td>0.000000</td><td>⋯</td><td>0.00000000</td><td>0.00000000</td><td>0.0000000</td><td>0.0000000</td><td>0.0000000</td><td>0.0000000</td><td>0.0000000</td><td>0.0000000</td><td>0.0000000</td><td>0.0000000</td></tr>\n",
       "\t<tr><th scope=row>5</th><td>chr1</td><td>34610</td><td>35591</td><td>FAM138A:NR_026818.1  </td><td>.</td><td>-</td><td>0.0000000</td><td>0.00000000</td><td>0.000000</td><td>0.000000</td><td>⋯</td><td>0.00000000</td><td>0.00000000</td><td>0.0000000</td><td>0.0000000</td><td>0.0000000</td><td>0.0000000</td><td>0.0000000</td><td>0.0000000</td><td>0.0000000</td><td>0.0000000</td></tr>\n",
       "\t<tr><th scope=row>6</th><td>chr1</td><td>66168</td><td>71585</td><td>OR4F5:NM_001005484.2 </td><td>.</td><td>+</td><td>0.0000000</td><td>0.00000000</td><td>0.000000</td><td>0.000000</td><td>⋯</td><td>0.00000000</td><td>0.00000000</td><td>0.0000000</td><td>0.0000000</td><td>0.0000000</td><td>0.0000000</td><td>0.0000000</td><td>0.0000000</td><td>0.0000000</td><td>0.0000000</td></tr>\n",
       "</tbody>\n",
       "</table>\n"
      ],
      "text/latex": [
       "A data.frame: 6 × 1651\n",
       "\\begin{tabular}{r|lllllllllllllllllllll}\n",
       "  & chrom & start & stop & gene\\_transcript & score & strand & SRR7266931 & SRR7266932 & SRR7266933 & SRR7266934 & ⋯ & SRR3713716 & SRR3713717 & SRR3713718 & SRR3713719 & SRR8483105 & SRR8483106 & SRR8483107 & SRR8483108 & SRR8483109 & SRR8483110\\\\\n",
       "  & <chr> & <int> & <int> & <chr> & <chr> & <chr> & <dbl> & <dbl> & <dbl> & <dbl> & ⋯ & <dbl> & <dbl> & <dbl> & <dbl> & <dbl> & <dbl> & <dbl> & <dbl> & <dbl> & <dbl>\\\\\n",
       "\\hline\n",
       "\t1 & chr1 & 12623 & 14409 & DDX11L1:NR\\_046018.2   & . & + & 0.0000000 & 0.00000000 & 0.000000 & 0.000000 & ⋯ & 0.00000000 & 0.00000000 & 0.0000000 & 0.0000000 & 0.0000000 & 0.0000000 & 0.0000000 & 0.0000000 & 0.0000000 & 0.0000000\\\\\n",
       "\t2 & chr1 & 14361 & 28620 & WASH7P:NR\\_024540.1    & . & - & 0.2372728 & 0.04812349 & 0.247163 & 0.180835 & ⋯ & 0.05880973 & 0.06709094 & 0.2776161 & 0.1448111 & 0.3800877 & 0.4256579 & 0.3585765 & 0.3028641 & 0.3857214 & 0.4399284\\\\\n",
       "\t3 & chr1 & 17368 & 17436 & MIR6859-1:NR\\_106918.1 & . & - & 0.0000000 & 0.00000000 & 0.000000 & 0.000000 & ⋯ & 0.00000000 & 0.00000000 & 0.0000000 & 0.0000000 & 0.0000000 & 0.0000000 & 0.0000000 & 0.0000000 & 0.0000000 & 0.0000000\\\\\n",
       "\t4 & chr1 & 30365 & 30503 & MIR1302-2:NR\\_036051.1 & . & + & 0.0000000 & 0.00000000 & 0.000000 & 0.000000 & ⋯ & 0.00000000 & 0.00000000 & 0.0000000 & 0.0000000 & 0.0000000 & 0.0000000 & 0.0000000 & 0.0000000 & 0.0000000 & 0.0000000\\\\\n",
       "\t5 & chr1 & 34610 & 35591 & FAM138A:NR\\_026818.1   & . & - & 0.0000000 & 0.00000000 & 0.000000 & 0.000000 & ⋯ & 0.00000000 & 0.00000000 & 0.0000000 & 0.0000000 & 0.0000000 & 0.0000000 & 0.0000000 & 0.0000000 & 0.0000000 & 0.0000000\\\\\n",
       "\t6 & chr1 & 66168 & 71585 & OR4F5:NM\\_001005484.2  & . & + & 0.0000000 & 0.00000000 & 0.000000 & 0.000000 & ⋯ & 0.00000000 & 0.00000000 & 0.0000000 & 0.0000000 & 0.0000000 & 0.0000000 & 0.0000000 & 0.0000000 & 0.0000000 & 0.0000000\\\\\n",
       "\\end{tabular}\n"
      ],
      "text/markdown": [
       "\n",
       "A data.frame: 6 × 1651\n",
       "\n",
       "| <!--/--> | chrom &lt;chr&gt; | start &lt;int&gt; | stop &lt;int&gt; | gene_transcript &lt;chr&gt; | score &lt;chr&gt; | strand &lt;chr&gt; | SRR7266931 &lt;dbl&gt; | SRR7266932 &lt;dbl&gt; | SRR7266933 &lt;dbl&gt; | SRR7266934 &lt;dbl&gt; | ⋯ ⋯ | SRR3713716 &lt;dbl&gt; | SRR3713717 &lt;dbl&gt; | SRR3713718 &lt;dbl&gt; | SRR3713719 &lt;dbl&gt; | SRR8483105 &lt;dbl&gt; | SRR8483106 &lt;dbl&gt; | SRR8483107 &lt;dbl&gt; | SRR8483108 &lt;dbl&gt; | SRR8483109 &lt;dbl&gt; | SRR8483110 &lt;dbl&gt; |\n",
       "|---|---|---|---|---|---|---|---|---|---|---|---|---|---|---|---|---|---|---|---|---|---|\n",
       "| 1 | chr1 | 12623 | 14409 | DDX11L1:NR_046018.2   | . | + | 0.0000000 | 0.00000000 | 0.000000 | 0.000000 | ⋯ | 0.00000000 | 0.00000000 | 0.0000000 | 0.0000000 | 0.0000000 | 0.0000000 | 0.0000000 | 0.0000000 | 0.0000000 | 0.0000000 |\n",
       "| 2 | chr1 | 14361 | 28620 | WASH7P:NR_024540.1    | . | - | 0.2372728 | 0.04812349 | 0.247163 | 0.180835 | ⋯ | 0.05880973 | 0.06709094 | 0.2776161 | 0.1448111 | 0.3800877 | 0.4256579 | 0.3585765 | 0.3028641 | 0.3857214 | 0.4399284 |\n",
       "| 3 | chr1 | 17368 | 17436 | MIR6859-1:NR_106918.1 | . | - | 0.0000000 | 0.00000000 | 0.000000 | 0.000000 | ⋯ | 0.00000000 | 0.00000000 | 0.0000000 | 0.0000000 | 0.0000000 | 0.0000000 | 0.0000000 | 0.0000000 | 0.0000000 | 0.0000000 |\n",
       "| 4 | chr1 | 30365 | 30503 | MIR1302-2:NR_036051.1 | . | + | 0.0000000 | 0.00000000 | 0.000000 | 0.000000 | ⋯ | 0.00000000 | 0.00000000 | 0.0000000 | 0.0000000 | 0.0000000 | 0.0000000 | 0.0000000 | 0.0000000 | 0.0000000 | 0.0000000 |\n",
       "| 5 | chr1 | 34610 | 35591 | FAM138A:NR_026818.1   | . | - | 0.0000000 | 0.00000000 | 0.000000 | 0.000000 | ⋯ | 0.00000000 | 0.00000000 | 0.0000000 | 0.0000000 | 0.0000000 | 0.0000000 | 0.0000000 | 0.0000000 | 0.0000000 | 0.0000000 |\n",
       "| 6 | chr1 | 66168 | 71585 | OR4F5:NM_001005484.2  | . | + | 0.0000000 | 0.00000000 | 0.000000 | 0.000000 | ⋯ | 0.00000000 | 0.00000000 | 0.0000000 | 0.0000000 | 0.0000000 | 0.0000000 | 0.0000000 | 0.0000000 | 0.0000000 | 0.0000000 |\n",
       "\n"
      ],
      "text/plain": [
       "  chrom start stop  gene_transcript       score strand SRR7266931 SRR7266932\n",
       "1 chr1  12623 14409 DDX11L1:NR_046018.2   .     +      0.0000000  0.00000000\n",
       "2 chr1  14361 28620 WASH7P:NR_024540.1    .     -      0.2372728  0.04812349\n",
       "3 chr1  17368 17436 MIR6859-1:NR_106918.1 .     -      0.0000000  0.00000000\n",
       "4 chr1  30365 30503 MIR1302-2:NR_036051.1 .     +      0.0000000  0.00000000\n",
       "5 chr1  34610 35591 FAM138A:NR_026818.1   .     -      0.0000000  0.00000000\n",
       "6 chr1  66168 71585 OR4F5:NM_001005484.2  .     +      0.0000000  0.00000000\n",
       "  SRR7266933 SRR7266934 ⋯ SRR3713716 SRR3713717 SRR3713718 SRR3713719\n",
       "1 0.000000   0.000000   ⋯ 0.00000000 0.00000000 0.0000000  0.0000000 \n",
       "2 0.247163   0.180835   ⋯ 0.05880973 0.06709094 0.2776161  0.1448111 \n",
       "3 0.000000   0.000000   ⋯ 0.00000000 0.00000000 0.0000000  0.0000000 \n",
       "4 0.000000   0.000000   ⋯ 0.00000000 0.00000000 0.0000000  0.0000000 \n",
       "5 0.000000   0.000000   ⋯ 0.00000000 0.00000000 0.0000000  0.0000000 \n",
       "6 0.000000   0.000000   ⋯ 0.00000000 0.00000000 0.0000000  0.0000000 \n",
       "  SRR8483105 SRR8483106 SRR8483107 SRR8483108 SRR8483109 SRR8483110\n",
       "1 0.0000000  0.0000000  0.0000000  0.0000000  0.0000000  0.0000000 \n",
       "2 0.3800877  0.4256579  0.3585765  0.3028641  0.3857214  0.4399284 \n",
       "3 0.0000000  0.0000000  0.0000000  0.0000000  0.0000000  0.0000000 \n",
       "4 0.0000000  0.0000000  0.0000000  0.0000000  0.0000000  0.0000000 \n",
       "5 0.0000000  0.0000000  0.0000000  0.0000000  0.0000000  0.0000000 \n",
       "6 0.0000000  0.0000000  0.0000000  0.0000000  0.0000000  0.0000000 "
      ]
     },
     "metadata": {},
     "output_type": "display_data"
    }
   ],
   "source": [
    "##get variables for the TPM calculation function\n",
    "##and calculate normalized counts\n",
    "\n",
    "#1. transcript lenths\n",
    "transcript_lengths <- (counts_bidir_genes_trunc$stop - counts_bidir_genes_trunc$start) +1\n",
    "\n",
    "#2. number of columns in the dataframes\n",
    "ncolumns <- ncol(counts_bidir_genes_trunc)\n",
    "\n",
    "#3. get normalized counts by sample\n",
    "gene_bidir_tpms <- tpm_calculation(counts_bidir_genes_trunc[,7:ncolumns], \n",
    "                        transcript_lengths)\n",
    "\n",
    "#4. merge the transcript annotations with normalized counts data.frame\n",
    "gene_bidir_tpm_df <- cbind(counts_bidir_genes_trunc[,1:6],\n",
    "                           as.data.frame(gene_bidir_tpms))\n",
    "\n",
    "#summary of data.frame\n",
    "dim(gene_bidir_tpm_df)\n",
    "head(gene_bidir_tpm_df)"
   ]
  },
  {
   "cell_type": "markdown",
   "metadata": {},
   "source": [
    "## Save normalized counts"
   ]
  },
  {
   "cell_type": "code",
   "execution_count": 37,
   "metadata": {},
   "outputs": [],
   "source": [
    "data.table::fwrite(gene_bidir_tpm_df,\n",
    "                   \"/Users/rusi2317/projects/meta_analysis_qc_reviews/processed_data/normalized_counts/gene_bidir_tpm.tsv.gz\",\n",
    "                  sep='\\t')"
   ]
  },
  {
   "cell_type": "code",
   "execution_count": null,
   "metadata": {},
   "outputs": [],
   "source": [
    "gene_bidir_tpm_qc <- gene_bidir_tpm_df[,colnames(gene_bidir_tpm_df) %in%\n",
    "                                         c('chrom','start','stop',\n",
    "                                            'gene_transcript','score',\n",
    "                                            'strand',metadata_celltype$sample_name),\n",
    "                                           with=FALSE]\n",
    "dim(gene_bidir_tpm_qc)\n",
    "head(gene_bidir_tpm_qc)"
   ]
  },
  {
   "cell_type": "code",
   "execution_count": null,
   "metadata": {},
   "outputs": [],
   "source": [
    "#binary for trancribed or not\n",
    "tpm_matrix_binary <- ifelse(gene_bidir_tpm_qc[,c(7:757)] != 0, 1, 0)\n",
    "head(tpm_matrix_binary)"
   ]
  },
  {
   "cell_type": "code",
   "execution_count": null,
   "metadata": {},
   "outputs": [],
   "source": [
    "gene_bidir_tpm_keep2 <- gene_bidir_tpm_qc[rowSums(tpm_matrix_binary)>2,]\n",
    "dim(gene_bidir_tpm_keep2)"
   ]
  },
  {
   "cell_type": "code",
   "execution_count": null,
   "metadata": {},
   "outputs": [],
   "source": [
    "data.table::fwrite(gene_bidir_tpm_keep2,\n",
    "                   \"/scratch/Users/rusi2317/projects/meta_analysis_qc_reviews/processed_data/counts/normalized_counts/gene_bidir_tpm_qc.tsv.gz\",\n",
    "                  sep='\\t')"
   ]
  },
  {
   "cell_type": "markdown",
   "metadata": {},
   "source": [
    "# Filter samples"
   ]
  },
  {
   "cell_type": "code",
   "execution_count": 39,
   "metadata": {},
   "outputs": [
    {
     "data": {
      "text/html": [
       "<style>\n",
       ".list-inline {list-style: none; margin:0; padding: 0}\n",
       ".list-inline>li {display: inline-block}\n",
       ".list-inline>li:not(:last-child)::after {content: \"\\00b7\"; padding: 0 .5ex}\n",
       "</style>\n",
       "<ol class=list-inline><li>876410</li><li>757</li></ol>\n"
      ],
      "text/latex": [
       "\\begin{enumerate*}\n",
       "\\item 876410\n",
       "\\item 757\n",
       "\\end{enumerate*}\n"
      ],
      "text/markdown": [
       "1. 876410\n",
       "2. 757\n",
       "\n",
       "\n"
      ],
      "text/plain": [
       "[1] 876410    757"
      ]
     },
     "metadata": {},
     "output_type": "display_data"
    },
    {
     "data": {
      "text/html": [
       "<table class=\"dataframe\">\n",
       "<caption>A data.frame: 3 × 757</caption>\n",
       "<thead>\n",
       "\t<tr><th></th><th scope=col>chrom</th><th scope=col>start</th><th scope=col>stop</th><th scope=col>gene_transcript</th><th scope=col>score</th><th scope=col>strand</th><th scope=col>SRR7266931</th><th scope=col>SRR7266932</th><th scope=col>SRR7266933</th><th scope=col>SRR7266934</th><th scope=col>⋯</th><th scope=col>SRR3713715</th><th scope=col>SRR3713716</th><th scope=col>SRR3713717</th><th scope=col>SRR3713718</th><th scope=col>SRR8483105</th><th scope=col>SRR8483106</th><th scope=col>SRR8483107</th><th scope=col>SRR8483108</th><th scope=col>SRR8483109</th><th scope=col>SRR8483110</th></tr>\n",
       "\t<tr><th></th><th scope=col>&lt;chr&gt;</th><th scope=col>&lt;int&gt;</th><th scope=col>&lt;int&gt;</th><th scope=col>&lt;chr&gt;</th><th scope=col>&lt;chr&gt;</th><th scope=col>&lt;chr&gt;</th><th scope=col>&lt;dbl&gt;</th><th scope=col>&lt;dbl&gt;</th><th scope=col>&lt;dbl&gt;</th><th scope=col>&lt;dbl&gt;</th><th scope=col>⋯</th><th scope=col>&lt;dbl&gt;</th><th scope=col>&lt;dbl&gt;</th><th scope=col>&lt;dbl&gt;</th><th scope=col>&lt;dbl&gt;</th><th scope=col>&lt;dbl&gt;</th><th scope=col>&lt;dbl&gt;</th><th scope=col>&lt;dbl&gt;</th><th scope=col>&lt;dbl&gt;</th><th scope=col>&lt;dbl&gt;</th><th scope=col>&lt;dbl&gt;</th></tr>\n",
       "</thead>\n",
       "<tbody>\n",
       "\t<tr><th scope=row>1</th><td>chr1</td><td>12623</td><td>14409</td><td>DDX11L1:NR_046018.2  </td><td>.</td><td>+</td><td>0.0000000</td><td>0.00000000</td><td>0.000000</td><td>0.000000</td><td>⋯</td><td>0.00000000</td><td>0.00000000</td><td>0.00000000</td><td>0.0000000</td><td>0.0000000</td><td>0.0000000</td><td>0.0000000</td><td>0.0000000</td><td>0.0000000</td><td>0.0000000</td></tr>\n",
       "\t<tr><th scope=row>2</th><td>chr1</td><td>14361</td><td>28620</td><td>WASH7P:NR_024540.1   </td><td>.</td><td>-</td><td>0.2372728</td><td>0.04812349</td><td>0.247163</td><td>0.180835</td><td>⋯</td><td>0.09228832</td><td>0.05880973</td><td>0.06709094</td><td>0.2776161</td><td>0.3800877</td><td>0.4256579</td><td>0.3585765</td><td>0.3028641</td><td>0.3857214</td><td>0.4399284</td></tr>\n",
       "\t<tr><th scope=row>3</th><td>chr1</td><td>17368</td><td>17436</td><td>MIR6859-1:NR_106918.1</td><td>.</td><td>-</td><td>0.0000000</td><td>0.00000000</td><td>0.000000</td><td>0.000000</td><td>⋯</td><td>0.00000000</td><td>0.00000000</td><td>0.00000000</td><td>0.0000000</td><td>0.0000000</td><td>0.0000000</td><td>0.0000000</td><td>0.0000000</td><td>0.0000000</td><td>0.0000000</td></tr>\n",
       "</tbody>\n",
       "</table>\n"
      ],
      "text/latex": [
       "A data.frame: 3 × 757\n",
       "\\begin{tabular}{r|lllllllllllllllllllll}\n",
       "  & chrom & start & stop & gene\\_transcript & score & strand & SRR7266931 & SRR7266932 & SRR7266933 & SRR7266934 & ⋯ & SRR3713715 & SRR3713716 & SRR3713717 & SRR3713718 & SRR8483105 & SRR8483106 & SRR8483107 & SRR8483108 & SRR8483109 & SRR8483110\\\\\n",
       "  & <chr> & <int> & <int> & <chr> & <chr> & <chr> & <dbl> & <dbl> & <dbl> & <dbl> & ⋯ & <dbl> & <dbl> & <dbl> & <dbl> & <dbl> & <dbl> & <dbl> & <dbl> & <dbl> & <dbl>\\\\\n",
       "\\hline\n",
       "\t1 & chr1 & 12623 & 14409 & DDX11L1:NR\\_046018.2   & . & + & 0.0000000 & 0.00000000 & 0.000000 & 0.000000 & ⋯ & 0.00000000 & 0.00000000 & 0.00000000 & 0.0000000 & 0.0000000 & 0.0000000 & 0.0000000 & 0.0000000 & 0.0000000 & 0.0000000\\\\\n",
       "\t2 & chr1 & 14361 & 28620 & WASH7P:NR\\_024540.1    & . & - & 0.2372728 & 0.04812349 & 0.247163 & 0.180835 & ⋯ & 0.09228832 & 0.05880973 & 0.06709094 & 0.2776161 & 0.3800877 & 0.4256579 & 0.3585765 & 0.3028641 & 0.3857214 & 0.4399284\\\\\n",
       "\t3 & chr1 & 17368 & 17436 & MIR6859-1:NR\\_106918.1 & . & - & 0.0000000 & 0.00000000 & 0.000000 & 0.000000 & ⋯ & 0.00000000 & 0.00000000 & 0.00000000 & 0.0000000 & 0.0000000 & 0.0000000 & 0.0000000 & 0.0000000 & 0.0000000 & 0.0000000\\\\\n",
       "\\end{tabular}\n"
      ],
      "text/markdown": [
       "\n",
       "A data.frame: 3 × 757\n",
       "\n",
       "| <!--/--> | chrom &lt;chr&gt; | start &lt;int&gt; | stop &lt;int&gt; | gene_transcript &lt;chr&gt; | score &lt;chr&gt; | strand &lt;chr&gt; | SRR7266931 &lt;dbl&gt; | SRR7266932 &lt;dbl&gt; | SRR7266933 &lt;dbl&gt; | SRR7266934 &lt;dbl&gt; | ⋯ ⋯ | SRR3713715 &lt;dbl&gt; | SRR3713716 &lt;dbl&gt; | SRR3713717 &lt;dbl&gt; | SRR3713718 &lt;dbl&gt; | SRR8483105 &lt;dbl&gt; | SRR8483106 &lt;dbl&gt; | SRR8483107 &lt;dbl&gt; | SRR8483108 &lt;dbl&gt; | SRR8483109 &lt;dbl&gt; | SRR8483110 &lt;dbl&gt; |\n",
       "|---|---|---|---|---|---|---|---|---|---|---|---|---|---|---|---|---|---|---|---|---|---|\n",
       "| 1 | chr1 | 12623 | 14409 | DDX11L1:NR_046018.2   | . | + | 0.0000000 | 0.00000000 | 0.000000 | 0.000000 | ⋯ | 0.00000000 | 0.00000000 | 0.00000000 | 0.0000000 | 0.0000000 | 0.0000000 | 0.0000000 | 0.0000000 | 0.0000000 | 0.0000000 |\n",
       "| 2 | chr1 | 14361 | 28620 | WASH7P:NR_024540.1    | . | - | 0.2372728 | 0.04812349 | 0.247163 | 0.180835 | ⋯ | 0.09228832 | 0.05880973 | 0.06709094 | 0.2776161 | 0.3800877 | 0.4256579 | 0.3585765 | 0.3028641 | 0.3857214 | 0.4399284 |\n",
       "| 3 | chr1 | 17368 | 17436 | MIR6859-1:NR_106918.1 | . | - | 0.0000000 | 0.00000000 | 0.000000 | 0.000000 | ⋯ | 0.00000000 | 0.00000000 | 0.00000000 | 0.0000000 | 0.0000000 | 0.0000000 | 0.0000000 | 0.0000000 | 0.0000000 | 0.0000000 |\n",
       "\n"
      ],
      "text/plain": [
       "  chrom start stop  gene_transcript       score strand SRR7266931 SRR7266932\n",
       "1 chr1  12623 14409 DDX11L1:NR_046018.2   .     +      0.0000000  0.00000000\n",
       "2 chr1  14361 28620 WASH7P:NR_024540.1    .     -      0.2372728  0.04812349\n",
       "3 chr1  17368 17436 MIR6859-1:NR_106918.1 .     -      0.0000000  0.00000000\n",
       "  SRR7266933 SRR7266934 ⋯ SRR3713715 SRR3713716 SRR3713717 SRR3713718\n",
       "1 0.000000   0.000000   ⋯ 0.00000000 0.00000000 0.00000000 0.0000000 \n",
       "2 0.247163   0.180835   ⋯ 0.09228832 0.05880973 0.06709094 0.2776161 \n",
       "3 0.000000   0.000000   ⋯ 0.00000000 0.00000000 0.00000000 0.0000000 \n",
       "  SRR8483105 SRR8483106 SRR8483107 SRR8483108 SRR8483109 SRR8483110\n",
       "1 0.0000000  0.0000000  0.0000000  0.0000000  0.0000000  0.0000000 \n",
       "2 0.3800877  0.4256579  0.3585765  0.3028641  0.3857214  0.4399284 \n",
       "3 0.0000000  0.0000000  0.0000000  0.0000000  0.0000000  0.0000000 "
      ]
     },
     "metadata": {},
     "output_type": "display_data"
    }
   ],
   "source": [
    "##filter all bidirectional and gene transcripts\n",
    "gene_bidir_tpm_samples_filtered <- cbind(gene_bidir_tpm_df[,1:6], \n",
    "                                         gene_bidir_tpm_df[,\n",
    "                                                           colnames(gene_bidir_tpm_df)\n",
    "                                                           %in% filtered_samples$sample_name])\n",
    "                                                           #with=FALSE])\n",
    "dim(gene_bidir_tpm_samples_filtered)\n",
    "head(gene_bidir_tpm_samples_filtered, 3)"
   ]
  },
  {
   "cell_type": "markdown",
   "metadata": {},
   "source": [
    "# Get summary statistics for counts"
   ]
  },
  {
   "cell_type": "code",
   "execution_count": 40,
   "metadata": {},
   "outputs": [
    {
     "data": {
      "text/html": [
       "<style>\n",
       ".list-inline {list-style: none; margin:0; padding: 0}\n",
       ".list-inline>li {display: inline-block}\n",
       ".list-inline>li:not(:last-child)::after {content: \"\\00b7\"; padding: 0 .5ex}\n",
       "</style>\n",
       "<ol class=list-inline><li>876410</li><li>18</li></ol>\n"
      ],
      "text/latex": [
       "\\begin{enumerate*}\n",
       "\\item 876410\n",
       "\\item 18\n",
       "\\end{enumerate*}\n"
      ],
      "text/markdown": [
       "1. 876410\n",
       "2. 18\n",
       "\n",
       "\n"
      ],
      "text/plain": [
       "[1] 876410     18"
      ]
     },
     "metadata": {},
     "output_type": "display_data"
    },
    {
     "data": {
      "text/html": [
       "<table class=\"dataframe\">\n",
       "<caption>A data.frame: 3 × 18</caption>\n",
       "<thead>\n",
       "\t<tr><th></th><th scope=col>chrom</th><th scope=col>start</th><th scope=col>stop</th><th scope=col>gene_transcript</th><th scope=col>score</th><th scope=col>strand</th><th scope=col>length</th><th scope=col>stdev</th><th scope=col>variance</th><th scope=col>sum</th><th scope=col>mean</th><th scope=col>median</th><th scope=col>coefvar</th><th scope=col>max</th><th scope=col>min</th><th scope=col>num_transcribed</th><th scope=col>percent_transcribed</th><th scope=col>transcript_type</th></tr>\n",
       "\t<tr><th></th><th scope=col>&lt;chr&gt;</th><th scope=col>&lt;int&gt;</th><th scope=col>&lt;int&gt;</th><th scope=col>&lt;chr&gt;</th><th scope=col>&lt;chr&gt;</th><th scope=col>&lt;chr&gt;</th><th scope=col>&lt;dbl&gt;</th><th scope=col>&lt;dbl&gt;</th><th scope=col>&lt;dbl&gt;</th><th scope=col>&lt;dbl&gt;</th><th scope=col>&lt;dbl&gt;</th><th scope=col>&lt;dbl&gt;</th><th scope=col>&lt;dbl&gt;</th><th scope=col>&lt;dbl&gt;</th><th scope=col>&lt;dbl&gt;</th><th scope=col>&lt;dbl&gt;</th><th scope=col>&lt;dbl&gt;</th><th scope=col>&lt;chr&gt;</th></tr>\n",
       "</thead>\n",
       "<tbody>\n",
       "\t<tr><th scope=row>1</th><td>chr1</td><td>12623</td><td>14409</td><td>DDX11L1:NR_046018.2  </td><td>.</td><td>+</td><td> 1787</td><td>0.07496376</td><td>0.005619565</td><td>  7.345779</td><td>0.00978133</td><td>0.0000000</td><td>7.6639642</td><td>1.256177</td><td>0</td><td> 29</td><td> 3.861518</td><td>genes</td></tr>\n",
       "\t<tr><th scope=row>2</th><td>chr1</td><td>14361</td><td>28620</td><td>WASH7P:NR_024540.1   </td><td>.</td><td>-</td><td>14260</td><td>0.20321583</td><td>0.041296674</td><td>186.403807</td><td>0.24820747</td><td>0.1942185</td><td>0.8187338</td><td>1.417130</td><td>0</td><td>749</td><td>99.733688</td><td>genes</td></tr>\n",
       "\t<tr><th scope=row>3</th><td>chr1</td><td>17368</td><td>17436</td><td>MIR6859-1:NR_106918.1</td><td>.</td><td>-</td><td>   69</td><td>0.00000000</td><td>0.000000000</td><td>  0.000000</td><td>0.00000000</td><td>0.0000000</td><td>      NaN</td><td>0.000000</td><td>0</td><td>  0</td><td> 0.000000</td><td>genes</td></tr>\n",
       "</tbody>\n",
       "</table>\n"
      ],
      "text/latex": [
       "A data.frame: 3 × 18\n",
       "\\begin{tabular}{r|llllllllllllllllll}\n",
       "  & chrom & start & stop & gene\\_transcript & score & strand & length & stdev & variance & sum & mean & median & coefvar & max & min & num\\_transcribed & percent\\_transcribed & transcript\\_type\\\\\n",
       "  & <chr> & <int> & <int> & <chr> & <chr> & <chr> & <dbl> & <dbl> & <dbl> & <dbl> & <dbl> & <dbl> & <dbl> & <dbl> & <dbl> & <dbl> & <dbl> & <chr>\\\\\n",
       "\\hline\n",
       "\t1 & chr1 & 12623 & 14409 & DDX11L1:NR\\_046018.2   & . & + &  1787 & 0.07496376 & 0.005619565 &   7.345779 & 0.00978133 & 0.0000000 & 7.6639642 & 1.256177 & 0 &  29 &  3.861518 & genes\\\\\n",
       "\t2 & chr1 & 14361 & 28620 & WASH7P:NR\\_024540.1    & . & - & 14260 & 0.20321583 & 0.041296674 & 186.403807 & 0.24820747 & 0.1942185 & 0.8187338 & 1.417130 & 0 & 749 & 99.733688 & genes\\\\\n",
       "\t3 & chr1 & 17368 & 17436 & MIR6859-1:NR\\_106918.1 & . & - &    69 & 0.00000000 & 0.000000000 &   0.000000 & 0.00000000 & 0.0000000 &       NaN & 0.000000 & 0 &   0 &  0.000000 & genes\\\\\n",
       "\\end{tabular}\n"
      ],
      "text/markdown": [
       "\n",
       "A data.frame: 3 × 18\n",
       "\n",
       "| <!--/--> | chrom &lt;chr&gt; | start &lt;int&gt; | stop &lt;int&gt; | gene_transcript &lt;chr&gt; | score &lt;chr&gt; | strand &lt;chr&gt; | length &lt;dbl&gt; | stdev &lt;dbl&gt; | variance &lt;dbl&gt; | sum &lt;dbl&gt; | mean &lt;dbl&gt; | median &lt;dbl&gt; | coefvar &lt;dbl&gt; | max &lt;dbl&gt; | min &lt;dbl&gt; | num_transcribed &lt;dbl&gt; | percent_transcribed &lt;dbl&gt; | transcript_type &lt;chr&gt; |\n",
       "|---|---|---|---|---|---|---|---|---|---|---|---|---|---|---|---|---|---|---|\n",
       "| 1 | chr1 | 12623 | 14409 | DDX11L1:NR_046018.2   | . | + |  1787 | 0.07496376 | 0.005619565 |   7.345779 | 0.00978133 | 0.0000000 | 7.6639642 | 1.256177 | 0 |  29 |  3.861518 | genes |\n",
       "| 2 | chr1 | 14361 | 28620 | WASH7P:NR_024540.1    | . | - | 14260 | 0.20321583 | 0.041296674 | 186.403807 | 0.24820747 | 0.1942185 | 0.8187338 | 1.417130 | 0 | 749 | 99.733688 | genes |\n",
       "| 3 | chr1 | 17368 | 17436 | MIR6859-1:NR_106918.1 | . | - |    69 | 0.00000000 | 0.000000000 |   0.000000 | 0.00000000 | 0.0000000 |       NaN | 0.000000 | 0 |   0 |  0.000000 | genes |\n",
       "\n"
      ],
      "text/plain": [
       "  chrom start stop  gene_transcript       score strand length stdev     \n",
       "1 chr1  12623 14409 DDX11L1:NR_046018.2   .     +       1787  0.07496376\n",
       "2 chr1  14361 28620 WASH7P:NR_024540.1    .     -      14260  0.20321583\n",
       "3 chr1  17368 17436 MIR6859-1:NR_106918.1 .     -         69  0.00000000\n",
       "  variance    sum        mean       median    coefvar   max      min\n",
       "1 0.005619565   7.345779 0.00978133 0.0000000 7.6639642 1.256177 0  \n",
       "2 0.041296674 186.403807 0.24820747 0.1942185 0.8187338 1.417130 0  \n",
       "3 0.000000000   0.000000 0.00000000 0.0000000       NaN 0.000000 0  \n",
       "  num_transcribed percent_transcribed transcript_type\n",
       "1  29              3.861518           genes          \n",
       "2 749             99.733688           genes          \n",
       "3   0              0.000000           genes          "
      ]
     },
     "metadata": {},
     "output_type": "display_data"
    }
   ],
   "source": [
    "#convert dt to df\n",
    "gene_bidir_tpm_samples_filtered_df <- as.data.frame(gene_bidir_tpm_samples_filtered) ##gene_bidir_tpm_df\n",
    "\n",
    "genes <- gene_bidir_tpm_df[!gene_bidir_tpm_df$gene_transcript \n",
    "                                         %in%\n",
    "                                         counts_bidirs$bidirs,]\n",
    "                                         \n",
    "##get summary statistics based on the filtered samples\n",
    "gene_bidir_tpm_filtered_summary <- get_summary_statistics(gene_bidir_tpm_samples_filtered_df,\n",
    "                                                genes$gene_transcript,\n",
    "                                                counts_bidirs$bidirs)\n",
    "dim(gene_bidir_tpm_filtered_summary)\n",
    "head(gene_bidir_tpm_filtered_summary, 3)"
   ]
  },
  {
   "cell_type": "code",
   "execution_count": 41,
   "metadata": {},
   "outputs": [],
   "source": [
    "##add a column with bidirectional types (intergenic, intragenic, intragenic and overlapping pos+neg genes)\n",
    "gene_bidir_tpm_filtered_summary$bidirectional_type <- ifelse(gene_bidir_tpm_filtered_summary$gene_transcript %in% counts_genes$gene_transcript,\n",
    "                                                 \"genes\",\n",
    "                                                 ifelse(gene_bidir_tpm_filtered_summary$gene_transcript %in% bidir_no_overlaps$bidirs,\n",
    "                                                        \"intergenic_bidirectional\",\n",
    "                                                       ifelse(gene_bidir_tpm_filtered_summary$gene_transcript %in% as.character(overlaps_bidirs_non_multiple$Var1),\n",
    "                                                             \"intragenic_bidirectional\",\n",
    "                                                             ifelse(gene_bidir_tpm_filtered_summary$gene_transcript %in% as.character(overlaps_bidirs_multiple$Var1),\n",
    "                                                                   \"intragenic_bidirectional_pos_neg\",\"NA\"))))"
   ]
  },
  {
   "cell_type": "code",
   "execution_count": 42,
   "metadata": {},
   "outputs": [
    {
     "data": {
      "text/plain": [
       "\n",
       "                           genes         intergenic_bidirectional \n",
       "                           28889                           258345 \n",
       "        intragenic_bidirectional intragenic_bidirectional_pos_neg \n",
       "                          529446                            59730 "
      ]
     },
     "metadata": {},
     "output_type": "display_data"
    }
   ],
   "source": [
    "table(gene_bidir_tpm_filtered_summary$bidirectional_type)"
   ]
  },
  {
   "cell_type": "code",
   "execution_count": 43,
   "metadata": {},
   "outputs": [],
   "source": [
    "data.table::fwrite(gene_bidir_tpm_filtered_summary,\n",
    "                   \"/Users/rusi2317/projects/meta_analysis_qc_reviews/processed_data/normalized_counts/summary_gene_bidir_tpm_filtered.tsv.gz\",\n",
    "                  sep='\\t')"
   ]
  },
  {
   "cell_type": "markdown",
   "metadata": {},
   "source": [
    "# Filter transcripts"
   ]
  },
  {
   "cell_type": "markdown",
   "metadata": {},
   "source": [
    "## Remove transcripts with 0 total counts"
   ]
  },
  {
   "cell_type": "code",
   "execution_count": 44,
   "metadata": {},
   "outputs": [
    {
     "data": {
      "text/html": [
       "837180"
      ],
      "text/latex": [
       "837180"
      ],
      "text/markdown": [
       "837180"
      ],
      "text/plain": [
       "[1] 837180"
      ]
     },
     "metadata": {},
     "output_type": "display_data"
    }
   ],
   "source": [
    "gene_bidir_tpm_filtered_summary_txped <- subset(gene_bidir_tpm_filtered_summary, \n",
    "                                                num_transcribed >=10)\n",
    "nrow(gene_bidir_tpm_filtered_summary_txped)"
   ]
  },
  {
   "cell_type": "code",
   "execution_count": 45,
   "metadata": {},
   "outputs": [
    {
     "data": {
      "text/html": [
       "837180"
      ],
      "text/latex": [
       "837180"
      ],
      "text/markdown": [
       "837180"
      ],
      "text/plain": [
       "[1] 837180"
      ]
     },
     "metadata": {},
     "output_type": "display_data"
    },
    {
     "data": {
      "text/html": [
       "<table class=\"dataframe\">\n",
       "<caption>A data.frame: 3 × 757</caption>\n",
       "<thead>\n",
       "\t<tr><th></th><th scope=col>chrom</th><th scope=col>start</th><th scope=col>stop</th><th scope=col>gene_transcript</th><th scope=col>score</th><th scope=col>strand</th><th scope=col>SRR7266931</th><th scope=col>SRR7266932</th><th scope=col>SRR7266933</th><th scope=col>SRR7266934</th><th scope=col>⋯</th><th scope=col>SRR3713715</th><th scope=col>SRR3713716</th><th scope=col>SRR3713717</th><th scope=col>SRR3713718</th><th scope=col>SRR8483105</th><th scope=col>SRR8483106</th><th scope=col>SRR8483107</th><th scope=col>SRR8483108</th><th scope=col>SRR8483109</th><th scope=col>SRR8483110</th></tr>\n",
       "\t<tr><th></th><th scope=col>&lt;chr&gt;</th><th scope=col>&lt;int&gt;</th><th scope=col>&lt;int&gt;</th><th scope=col>&lt;chr&gt;</th><th scope=col>&lt;chr&gt;</th><th scope=col>&lt;chr&gt;</th><th scope=col>&lt;dbl&gt;</th><th scope=col>&lt;dbl&gt;</th><th scope=col>&lt;dbl&gt;</th><th scope=col>&lt;dbl&gt;</th><th scope=col>⋯</th><th scope=col>&lt;dbl&gt;</th><th scope=col>&lt;dbl&gt;</th><th scope=col>&lt;dbl&gt;</th><th scope=col>&lt;dbl&gt;</th><th scope=col>&lt;dbl&gt;</th><th scope=col>&lt;dbl&gt;</th><th scope=col>&lt;dbl&gt;</th><th scope=col>&lt;dbl&gt;</th><th scope=col>&lt;dbl&gt;</th><th scope=col>&lt;dbl&gt;</th></tr>\n",
       "</thead>\n",
       "<tbody>\n",
       "\t<tr><th scope=row>1</th><td>chr1</td><td>12623</td><td>14409</td><td>DDX11L1:NR_046018.2 </td><td>.</td><td>+</td><td>0.0000000</td><td>0.00000000</td><td>0.000000</td><td>0.000000</td><td>⋯</td><td>0.00000000</td><td>0.00000000</td><td>0.00000000</td><td>0.0000000</td><td>0.0000000</td><td>0.0000000</td><td>0.0000000</td><td>0.0000000</td><td>0.0000000</td><td>0.0000000</td></tr>\n",
       "\t<tr><th scope=row>2</th><td>chr1</td><td>14361</td><td>28620</td><td>WASH7P:NR_024540.1  </td><td>.</td><td>-</td><td>0.2372728</td><td>0.04812349</td><td>0.247163</td><td>0.180835</td><td>⋯</td><td>0.09228832</td><td>0.05880973</td><td>0.06709094</td><td>0.2776161</td><td>0.3800877</td><td>0.4256579</td><td>0.3585765</td><td>0.3028641</td><td>0.3857214</td><td>0.4399284</td></tr>\n",
       "\t<tr><th scope=row>6</th><td>chr1</td><td>66168</td><td>71585</td><td>OR4F5:NM_001005484.2</td><td>.</td><td>+</td><td>0.0000000</td><td>0.00000000</td><td>0.000000</td><td>0.000000</td><td>⋯</td><td>0.00000000</td><td>0.00000000</td><td>0.00000000</td><td>0.0000000</td><td>0.0000000</td><td>0.0000000</td><td>0.0000000</td><td>0.0000000</td><td>0.0000000</td><td>0.0000000</td></tr>\n",
       "</tbody>\n",
       "</table>\n"
      ],
      "text/latex": [
       "A data.frame: 3 × 757\n",
       "\\begin{tabular}{r|lllllllllllllllllllll}\n",
       "  & chrom & start & stop & gene\\_transcript & score & strand & SRR7266931 & SRR7266932 & SRR7266933 & SRR7266934 & ⋯ & SRR3713715 & SRR3713716 & SRR3713717 & SRR3713718 & SRR8483105 & SRR8483106 & SRR8483107 & SRR8483108 & SRR8483109 & SRR8483110\\\\\n",
       "  & <chr> & <int> & <int> & <chr> & <chr> & <chr> & <dbl> & <dbl> & <dbl> & <dbl> & ⋯ & <dbl> & <dbl> & <dbl> & <dbl> & <dbl> & <dbl> & <dbl> & <dbl> & <dbl> & <dbl>\\\\\n",
       "\\hline\n",
       "\t1 & chr1 & 12623 & 14409 & DDX11L1:NR\\_046018.2  & . & + & 0.0000000 & 0.00000000 & 0.000000 & 0.000000 & ⋯ & 0.00000000 & 0.00000000 & 0.00000000 & 0.0000000 & 0.0000000 & 0.0000000 & 0.0000000 & 0.0000000 & 0.0000000 & 0.0000000\\\\\n",
       "\t2 & chr1 & 14361 & 28620 & WASH7P:NR\\_024540.1   & . & - & 0.2372728 & 0.04812349 & 0.247163 & 0.180835 & ⋯ & 0.09228832 & 0.05880973 & 0.06709094 & 0.2776161 & 0.3800877 & 0.4256579 & 0.3585765 & 0.3028641 & 0.3857214 & 0.4399284\\\\\n",
       "\t6 & chr1 & 66168 & 71585 & OR4F5:NM\\_001005484.2 & . & + & 0.0000000 & 0.00000000 & 0.000000 & 0.000000 & ⋯ & 0.00000000 & 0.00000000 & 0.00000000 & 0.0000000 & 0.0000000 & 0.0000000 & 0.0000000 & 0.0000000 & 0.0000000 & 0.0000000\\\\\n",
       "\\end{tabular}\n"
      ],
      "text/markdown": [
       "\n",
       "A data.frame: 3 × 757\n",
       "\n",
       "| <!--/--> | chrom &lt;chr&gt; | start &lt;int&gt; | stop &lt;int&gt; | gene_transcript &lt;chr&gt; | score &lt;chr&gt; | strand &lt;chr&gt; | SRR7266931 &lt;dbl&gt; | SRR7266932 &lt;dbl&gt; | SRR7266933 &lt;dbl&gt; | SRR7266934 &lt;dbl&gt; | ⋯ ⋯ | SRR3713715 &lt;dbl&gt; | SRR3713716 &lt;dbl&gt; | SRR3713717 &lt;dbl&gt; | SRR3713718 &lt;dbl&gt; | SRR8483105 &lt;dbl&gt; | SRR8483106 &lt;dbl&gt; | SRR8483107 &lt;dbl&gt; | SRR8483108 &lt;dbl&gt; | SRR8483109 &lt;dbl&gt; | SRR8483110 &lt;dbl&gt; |\n",
       "|---|---|---|---|---|---|---|---|---|---|---|---|---|---|---|---|---|---|---|---|---|---|\n",
       "| 1 | chr1 | 12623 | 14409 | DDX11L1:NR_046018.2  | . | + | 0.0000000 | 0.00000000 | 0.000000 | 0.000000 | ⋯ | 0.00000000 | 0.00000000 | 0.00000000 | 0.0000000 | 0.0000000 | 0.0000000 | 0.0000000 | 0.0000000 | 0.0000000 | 0.0000000 |\n",
       "| 2 | chr1 | 14361 | 28620 | WASH7P:NR_024540.1   | . | - | 0.2372728 | 0.04812349 | 0.247163 | 0.180835 | ⋯ | 0.09228832 | 0.05880973 | 0.06709094 | 0.2776161 | 0.3800877 | 0.4256579 | 0.3585765 | 0.3028641 | 0.3857214 | 0.4399284 |\n",
       "| 6 | chr1 | 66168 | 71585 | OR4F5:NM_001005484.2 | . | + | 0.0000000 | 0.00000000 | 0.000000 | 0.000000 | ⋯ | 0.00000000 | 0.00000000 | 0.00000000 | 0.0000000 | 0.0000000 | 0.0000000 | 0.0000000 | 0.0000000 | 0.0000000 | 0.0000000 |\n",
       "\n"
      ],
      "text/plain": [
       "  chrom start stop  gene_transcript      score strand SRR7266931 SRR7266932\n",
       "1 chr1  12623 14409 DDX11L1:NR_046018.2  .     +      0.0000000  0.00000000\n",
       "2 chr1  14361 28620 WASH7P:NR_024540.1   .     -      0.2372728  0.04812349\n",
       "6 chr1  66168 71585 OR4F5:NM_001005484.2 .     +      0.0000000  0.00000000\n",
       "  SRR7266933 SRR7266934 ⋯ SRR3713715 SRR3713716 SRR3713717 SRR3713718\n",
       "1 0.000000   0.000000   ⋯ 0.00000000 0.00000000 0.00000000 0.0000000 \n",
       "2 0.247163   0.180835   ⋯ 0.09228832 0.05880973 0.06709094 0.2776161 \n",
       "6 0.000000   0.000000   ⋯ 0.00000000 0.00000000 0.00000000 0.0000000 \n",
       "  SRR8483105 SRR8483106 SRR8483107 SRR8483108 SRR8483109 SRR8483110\n",
       "1 0.0000000  0.0000000  0.0000000  0.0000000  0.0000000  0.0000000 \n",
       "2 0.3800877  0.4256579  0.3585765  0.3028641  0.3857214  0.4399284 \n",
       "6 0.0000000  0.0000000  0.0000000  0.0000000  0.0000000  0.0000000 "
      ]
     },
     "metadata": {},
     "output_type": "display_data"
    }
   ],
   "source": [
    "##get transcripts with counts in 10 or more samples\n",
    "gene_bidir_tpm_samples_filtered_txped <- gene_bidir_tpm_samples_filtered[gene_bidir_tpm_samples_filtered$gene_transcript \n",
    "                                                                        %in%\n",
    "                                                                        gene_bidir_tpm_filtered_summary_txped$gene_transcript,]\n",
    "nrow(gene_bidir_tpm_samples_filtered_txped)\n",
    "head(gene_bidir_tpm_samples_filtered_txped, 3)"
   ]
  },
  {
   "cell_type": "markdown",
   "metadata": {},
   "source": [
    "## Split bidirectionals for easy processing"
   ]
  },
  {
   "cell_type": "markdown",
   "metadata": {},
   "source": [
    "### Intergenic bidirectionals"
   ]
  },
  {
   "cell_type": "code",
   "execution_count": 46,
   "metadata": {},
   "outputs": [
    {
     "data": {
      "text/html": [
       "287234"
      ],
      "text/latex": [
       "287234"
      ],
      "text/markdown": [
       "287234"
      ],
      "text/plain": [
       "[1] 287234"
      ]
     },
     "metadata": {},
     "output_type": "display_data"
    }
   ],
   "source": [
    "intergenic_bidirs_genes <- c(genes$gene_transcript,\n",
    "                             bidir_no_overlaps$bidirs)\n",
    "length(intergenic_bidirs_genes)"
   ]
  },
  {
   "cell_type": "code",
   "execution_count": 47,
   "metadata": {},
   "outputs": [
    {
     "data": {
      "text/html": [
       "<style>\n",
       ".list-inline {list-style: none; margin:0; padding: 0}\n",
       ".list-inline>li {display: inline-block}\n",
       ".list-inline>li:not(:last-child)::after {content: \"\\00b7\"; padding: 0 .5ex}\n",
       "</style>\n",
       "<ol class=list-inline><li>280180</li><li>757</li></ol>\n"
      ],
      "text/latex": [
       "\\begin{enumerate*}\n",
       "\\item 280180\n",
       "\\item 757\n",
       "\\end{enumerate*}\n"
      ],
      "text/markdown": [
       "1. 280180\n",
       "2. 757\n",
       "\n",
       "\n"
      ],
      "text/plain": [
       "[1] 280180    757"
      ]
     },
     "metadata": {},
     "output_type": "display_data"
    },
    {
     "data": {
      "text/html": [
       "<table class=\"dataframe\">\n",
       "<caption>A data.frame: 3 × 757</caption>\n",
       "<thead>\n",
       "\t<tr><th></th><th scope=col>chrom</th><th scope=col>start</th><th scope=col>stop</th><th scope=col>gene_transcript</th><th scope=col>score</th><th scope=col>strand</th><th scope=col>SRR7266931</th><th scope=col>SRR7266932</th><th scope=col>SRR7266933</th><th scope=col>SRR7266934</th><th scope=col>⋯</th><th scope=col>SRR3713715</th><th scope=col>SRR3713716</th><th scope=col>SRR3713717</th><th scope=col>SRR3713718</th><th scope=col>SRR8483105</th><th scope=col>SRR8483106</th><th scope=col>SRR8483107</th><th scope=col>SRR8483108</th><th scope=col>SRR8483109</th><th scope=col>SRR8483110</th></tr>\n",
       "\t<tr><th></th><th scope=col>&lt;chr&gt;</th><th scope=col>&lt;int&gt;</th><th scope=col>&lt;int&gt;</th><th scope=col>&lt;chr&gt;</th><th scope=col>&lt;chr&gt;</th><th scope=col>&lt;chr&gt;</th><th scope=col>&lt;dbl&gt;</th><th scope=col>&lt;dbl&gt;</th><th scope=col>&lt;dbl&gt;</th><th scope=col>&lt;dbl&gt;</th><th scope=col>⋯</th><th scope=col>&lt;dbl&gt;</th><th scope=col>&lt;dbl&gt;</th><th scope=col>&lt;dbl&gt;</th><th scope=col>&lt;dbl&gt;</th><th scope=col>&lt;dbl&gt;</th><th scope=col>&lt;dbl&gt;</th><th scope=col>&lt;dbl&gt;</th><th scope=col>&lt;dbl&gt;</th><th scope=col>&lt;dbl&gt;</th><th scope=col>&lt;dbl&gt;</th></tr>\n",
       "</thead>\n",
       "<tbody>\n",
       "\t<tr><th scope=row>1</th><td>chr1</td><td>12623</td><td>14409</td><td>DDX11L1:NR_046018.2 </td><td>.</td><td>+</td><td>0.0000000</td><td>0.00000000</td><td>0.000000</td><td>0.000000</td><td>⋯</td><td>0.00000000</td><td>0.00000000</td><td>0.00000000</td><td>0.0000000</td><td>0.0000000</td><td>0.0000000</td><td>0.0000000</td><td>0.0000000</td><td>0.0000000</td><td>0.0000000</td></tr>\n",
       "\t<tr><th scope=row>2</th><td>chr1</td><td>14361</td><td>28620</td><td>WASH7P:NR_024540.1  </td><td>.</td><td>-</td><td>0.2372728</td><td>0.04812349</td><td>0.247163</td><td>0.180835</td><td>⋯</td><td>0.09228832</td><td>0.05880973</td><td>0.06709094</td><td>0.2776161</td><td>0.3800877</td><td>0.4256579</td><td>0.3585765</td><td>0.3028641</td><td>0.3857214</td><td>0.4399284</td></tr>\n",
       "\t<tr><th scope=row>6</th><td>chr1</td><td>66168</td><td>71585</td><td>OR4F5:NM_001005484.2</td><td>.</td><td>+</td><td>0.0000000</td><td>0.00000000</td><td>0.000000</td><td>0.000000</td><td>⋯</td><td>0.00000000</td><td>0.00000000</td><td>0.00000000</td><td>0.0000000</td><td>0.0000000</td><td>0.0000000</td><td>0.0000000</td><td>0.0000000</td><td>0.0000000</td><td>0.0000000</td></tr>\n",
       "</tbody>\n",
       "</table>\n"
      ],
      "text/latex": [
       "A data.frame: 3 × 757\n",
       "\\begin{tabular}{r|lllllllllllllllllllll}\n",
       "  & chrom & start & stop & gene\\_transcript & score & strand & SRR7266931 & SRR7266932 & SRR7266933 & SRR7266934 & ⋯ & SRR3713715 & SRR3713716 & SRR3713717 & SRR3713718 & SRR8483105 & SRR8483106 & SRR8483107 & SRR8483108 & SRR8483109 & SRR8483110\\\\\n",
       "  & <chr> & <int> & <int> & <chr> & <chr> & <chr> & <dbl> & <dbl> & <dbl> & <dbl> & ⋯ & <dbl> & <dbl> & <dbl> & <dbl> & <dbl> & <dbl> & <dbl> & <dbl> & <dbl> & <dbl>\\\\\n",
       "\\hline\n",
       "\t1 & chr1 & 12623 & 14409 & DDX11L1:NR\\_046018.2  & . & + & 0.0000000 & 0.00000000 & 0.000000 & 0.000000 & ⋯ & 0.00000000 & 0.00000000 & 0.00000000 & 0.0000000 & 0.0000000 & 0.0000000 & 0.0000000 & 0.0000000 & 0.0000000 & 0.0000000\\\\\n",
       "\t2 & chr1 & 14361 & 28620 & WASH7P:NR\\_024540.1   & . & - & 0.2372728 & 0.04812349 & 0.247163 & 0.180835 & ⋯ & 0.09228832 & 0.05880973 & 0.06709094 & 0.2776161 & 0.3800877 & 0.4256579 & 0.3585765 & 0.3028641 & 0.3857214 & 0.4399284\\\\\n",
       "\t6 & chr1 & 66168 & 71585 & OR4F5:NM\\_001005484.2 & . & + & 0.0000000 & 0.00000000 & 0.000000 & 0.000000 & ⋯ & 0.00000000 & 0.00000000 & 0.00000000 & 0.0000000 & 0.0000000 & 0.0000000 & 0.0000000 & 0.0000000 & 0.0000000 & 0.0000000\\\\\n",
       "\\end{tabular}\n"
      ],
      "text/markdown": [
       "\n",
       "A data.frame: 3 × 757\n",
       "\n",
       "| <!--/--> | chrom &lt;chr&gt; | start &lt;int&gt; | stop &lt;int&gt; | gene_transcript &lt;chr&gt; | score &lt;chr&gt; | strand &lt;chr&gt; | SRR7266931 &lt;dbl&gt; | SRR7266932 &lt;dbl&gt; | SRR7266933 &lt;dbl&gt; | SRR7266934 &lt;dbl&gt; | ⋯ ⋯ | SRR3713715 &lt;dbl&gt; | SRR3713716 &lt;dbl&gt; | SRR3713717 &lt;dbl&gt; | SRR3713718 &lt;dbl&gt; | SRR8483105 &lt;dbl&gt; | SRR8483106 &lt;dbl&gt; | SRR8483107 &lt;dbl&gt; | SRR8483108 &lt;dbl&gt; | SRR8483109 &lt;dbl&gt; | SRR8483110 &lt;dbl&gt; |\n",
       "|---|---|---|---|---|---|---|---|---|---|---|---|---|---|---|---|---|---|---|---|---|---|\n",
       "| 1 | chr1 | 12623 | 14409 | DDX11L1:NR_046018.2  | . | + | 0.0000000 | 0.00000000 | 0.000000 | 0.000000 | ⋯ | 0.00000000 | 0.00000000 | 0.00000000 | 0.0000000 | 0.0000000 | 0.0000000 | 0.0000000 | 0.0000000 | 0.0000000 | 0.0000000 |\n",
       "| 2 | chr1 | 14361 | 28620 | WASH7P:NR_024540.1   | . | - | 0.2372728 | 0.04812349 | 0.247163 | 0.180835 | ⋯ | 0.09228832 | 0.05880973 | 0.06709094 | 0.2776161 | 0.3800877 | 0.4256579 | 0.3585765 | 0.3028641 | 0.3857214 | 0.4399284 |\n",
       "| 6 | chr1 | 66168 | 71585 | OR4F5:NM_001005484.2 | . | + | 0.0000000 | 0.00000000 | 0.000000 | 0.000000 | ⋯ | 0.00000000 | 0.00000000 | 0.00000000 | 0.0000000 | 0.0000000 | 0.0000000 | 0.0000000 | 0.0000000 | 0.0000000 | 0.0000000 |\n",
       "\n"
      ],
      "text/plain": [
       "  chrom start stop  gene_transcript      score strand SRR7266931 SRR7266932\n",
       "1 chr1  12623 14409 DDX11L1:NR_046018.2  .     +      0.0000000  0.00000000\n",
       "2 chr1  14361 28620 WASH7P:NR_024540.1   .     -      0.2372728  0.04812349\n",
       "6 chr1  66168 71585 OR4F5:NM_001005484.2 .     +      0.0000000  0.00000000\n",
       "  SRR7266933 SRR7266934 ⋯ SRR3713715 SRR3713716 SRR3713717 SRR3713718\n",
       "1 0.000000   0.000000   ⋯ 0.00000000 0.00000000 0.00000000 0.0000000 \n",
       "2 0.247163   0.180835   ⋯ 0.09228832 0.05880973 0.06709094 0.2776161 \n",
       "6 0.000000   0.000000   ⋯ 0.00000000 0.00000000 0.00000000 0.0000000 \n",
       "  SRR8483105 SRR8483106 SRR8483107 SRR8483108 SRR8483109 SRR8483110\n",
       "1 0.0000000  0.0000000  0.0000000  0.0000000  0.0000000  0.0000000 \n",
       "2 0.3800877  0.4256579  0.3585765  0.3028641  0.3857214  0.4399284 \n",
       "6 0.0000000  0.0000000  0.0000000  0.0000000  0.0000000  0.0000000 "
      ]
     },
     "metadata": {},
     "output_type": "display_data"
    }
   ],
   "source": [
    "gene_bidir_tpm_intergenic <- gene_bidir_tpm_samples_filtered_txped[gene_bidir_tpm_samples_filtered_txped$gene_transcript \n",
    "                                                                          %in%\n",
    "                                                                   intergenic_bidirs_genes,]\n",
    "dim(gene_bidir_tpm_intergenic)\n",
    "head(gene_bidir_tpm_intergenic, 3)"
   ]
  },
  {
   "cell_type": "code",
   "execution_count": 48,
   "metadata": {},
   "outputs": [
    {
     "data": {
      "text/plain": [
       "\n",
       "bidirectional         genes \n",
       "       252181         27999 "
      ]
     },
     "metadata": {},
     "output_type": "display_data"
    }
   ],
   "source": [
    "#how many bidirectionals and genes are in the set\n",
    "check_intergenic <- gene_bidir_tpm_filtered_summary[gene_bidir_tpm_filtered_summary$gene_transcript \n",
    "                                 %in% \n",
    "                                 gene_bidir_tpm_intergenic$gene_transcript,]\n",
    "\n",
    "table(check_intergenic$transcript_type)"
   ]
  },
  {
   "cell_type": "code",
   "execution_count": 49,
   "metadata": {},
   "outputs": [],
   "source": [
    "data.table::fwrite(gene_bidir_tpm_intergenic,\n",
    "                   \"/Users/rusi2317/projects/meta_analysis_qc_reviews/processed_data/normalized_counts/gene_bidir_tpm_intergenic.tsv.gz\",\n",
    "                  sep='\\t')"
   ]
  },
  {
   "cell_type": "markdown",
   "metadata": {},
   "source": [
    "### Intragenic bidirectionals"
   ]
  },
  {
   "cell_type": "code",
   "execution_count": 50,
   "metadata": {},
   "outputs": [
    {
     "data": {
      "text/html": [
       "589176"
      ],
      "text/latex": [
       "589176"
      ],
      "text/markdown": [
       "589176"
      ],
      "text/plain": [
       "[1] 589176"
      ]
     },
     "metadata": {},
     "output_type": "display_data"
    }
   ],
   "source": [
    "##list of all intergenic bidirectionals\n",
    "set.seed(42)\n",
    "\n",
    "#shuffle the list of bidirectionals so that when they are split into chunks,\n",
    "#there is roughly an even split of chromosomes\n",
    "bidir_overlaps_list <- sample(unique(bidir_overlaps$bidirs))\n",
    "length(bidir_overlaps_list)"
   ]
  },
  {
   "cell_type": "code",
   "execution_count": 51,
   "metadata": {},
   "outputs": [
    {
     "data": {
      "text/html": [
       "196392"
      ],
      "text/latex": [
       "196392"
      ],
      "text/markdown": [
       "196392"
      ],
      "text/plain": [
       "[1] 196392"
      ]
     },
     "metadata": {},
     "output_type": "display_data"
    }
   ],
   "source": [
    "#divide these transcripts into two sets\n",
    "length(bidir_overlaps_list)/3"
   ]
  },
  {
   "cell_type": "code",
   "execution_count": 52,
   "metadata": {},
   "outputs": [
    {
     "data": {
      "text/html": [
       "225281"
      ],
      "text/latex": [
       "225281"
      ],
      "text/markdown": [
       "225281"
      ],
      "text/plain": [
       "[1] 225281"
      ]
     },
     "metadata": {},
     "output_type": "display_data"
    }
   ],
   "source": [
    "intragenic_bidirs_genes_A <- c(genes$gene_transcript,\n",
    "                             head(bidir_overlaps_list, 196392))\n",
    "length(intragenic_bidirs_genes_A)"
   ]
  },
  {
   "cell_type": "code",
   "execution_count": 53,
   "metadata": {},
   "outputs": [
    {
     "data": {
      "text/html": [
       "225281"
      ],
      "text/latex": [
       "225281"
      ],
      "text/markdown": [
       "225281"
      ],
      "text/plain": [
       "[1] 225281"
      ]
     },
     "metadata": {},
     "output_type": "display_data"
    }
   ],
   "source": [
    "intragenic_bidirs_genes_B <- c(genes$gene_transcript,\n",
    "                             tail(bidir_overlaps_list, 196392))\n",
    "length(intragenic_bidirs_genes_B)"
   ]
  },
  {
   "cell_type": "code",
   "execution_count": 54,
   "metadata": {},
   "outputs": [
    {
     "data": {
      "text/html": [
       "225281"
      ],
      "text/latex": [
       "225281"
      ],
      "text/markdown": [
       "225281"
      ],
      "text/plain": [
       "[1] 225281"
      ]
     },
     "metadata": {},
     "output_type": "display_data"
    }
   ],
   "source": [
    "intragenic_bidirs_genes_C <- c(genes$gene_transcript, \n",
    "                               setdiff(bidir_overlaps_list,\n",
    "                                         c(intragenic_bidirs_genes_A,intragenic_bidirs_genes_B)))\n",
    "length(intragenic_bidirs_genes_C)"
   ]
  },
  {
   "cell_type": "code",
   "execution_count": 55,
   "metadata": {},
   "outputs": [
    {
     "data": {
      "text/html": [
       "'chr10:67151630-67151942'"
      ],
      "text/latex": [
       "'chr10:67151630-67151942'"
      ],
      "text/markdown": [
       "'chr10:67151630-67151942'"
      ],
      "text/plain": [
       "[1] \"chr10:67151630-67151942\""
      ]
     },
     "metadata": {},
     "output_type": "display_data"
    }
   ],
   "source": [
    "##Check that the bidirectional transcripts do not overlap\n",
    "intersect(tail(bidir_overlaps_list, 294588),\n",
    "         head(bidir_overlaps_list, 294589))"
   ]
  },
  {
   "cell_type": "code",
   "execution_count": 56,
   "metadata": {},
   "outputs": [
    {
     "data": {
      "text/html": [
       "<style>\n",
       ".list-inline {list-style: none; margin:0; padding: 0}\n",
       ".list-inline>li {display: inline-block}\n",
       ".list-inline>li:not(:last-child)::after {content: \"\\00b7\"; padding: 0 .5ex}\n",
       "</style>\n",
       "<ol class=list-inline><li>213784</li><li>757</li></ol>\n"
      ],
      "text/latex": [
       "\\begin{enumerate*}\n",
       "\\item 213784\n",
       "\\item 757\n",
       "\\end{enumerate*}\n"
      ],
      "text/markdown": [
       "1. 213784\n",
       "2. 757\n",
       "\n",
       "\n"
      ],
      "text/plain": [
       "[1] 213784    757"
      ]
     },
     "metadata": {},
     "output_type": "display_data"
    },
    {
     "data": {
      "text/html": [
       "<table class=\"dataframe\">\n",
       "<caption>A data.frame: 3 × 757</caption>\n",
       "<thead>\n",
       "\t<tr><th></th><th scope=col>chrom</th><th scope=col>start</th><th scope=col>stop</th><th scope=col>gene_transcript</th><th scope=col>score</th><th scope=col>strand</th><th scope=col>SRR7266931</th><th scope=col>SRR7266932</th><th scope=col>SRR7266933</th><th scope=col>SRR7266934</th><th scope=col>⋯</th><th scope=col>SRR3713715</th><th scope=col>SRR3713716</th><th scope=col>SRR3713717</th><th scope=col>SRR3713718</th><th scope=col>SRR8483105</th><th scope=col>SRR8483106</th><th scope=col>SRR8483107</th><th scope=col>SRR8483108</th><th scope=col>SRR8483109</th><th scope=col>SRR8483110</th></tr>\n",
       "\t<tr><th></th><th scope=col>&lt;chr&gt;</th><th scope=col>&lt;int&gt;</th><th scope=col>&lt;int&gt;</th><th scope=col>&lt;chr&gt;</th><th scope=col>&lt;chr&gt;</th><th scope=col>&lt;chr&gt;</th><th scope=col>&lt;dbl&gt;</th><th scope=col>&lt;dbl&gt;</th><th scope=col>&lt;dbl&gt;</th><th scope=col>&lt;dbl&gt;</th><th scope=col>⋯</th><th scope=col>&lt;dbl&gt;</th><th scope=col>&lt;dbl&gt;</th><th scope=col>&lt;dbl&gt;</th><th scope=col>&lt;dbl&gt;</th><th scope=col>&lt;dbl&gt;</th><th scope=col>&lt;dbl&gt;</th><th scope=col>&lt;dbl&gt;</th><th scope=col>&lt;dbl&gt;</th><th scope=col>&lt;dbl&gt;</th><th scope=col>&lt;dbl&gt;</th></tr>\n",
       "</thead>\n",
       "<tbody>\n",
       "\t<tr><th scope=row>1</th><td>chr1</td><td>12623</td><td>14409</td><td>DDX11L1:NR_046018.2 </td><td>.</td><td>+</td><td>0.0000000</td><td>0.00000000</td><td>0.000000</td><td>0.000000</td><td>⋯</td><td>0.00000000</td><td>0.00000000</td><td>0.00000000</td><td>0.0000000</td><td>0.0000000</td><td>0.0000000</td><td>0.0000000</td><td>0.0000000</td><td>0.0000000</td><td>0.0000000</td></tr>\n",
       "\t<tr><th scope=row>2</th><td>chr1</td><td>14361</td><td>28620</td><td>WASH7P:NR_024540.1  </td><td>.</td><td>-</td><td>0.2372728</td><td>0.04812349</td><td>0.247163</td><td>0.180835</td><td>⋯</td><td>0.09228832</td><td>0.05880973</td><td>0.06709094</td><td>0.2776161</td><td>0.3800877</td><td>0.4256579</td><td>0.3585765</td><td>0.3028641</td><td>0.3857214</td><td>0.4399284</td></tr>\n",
       "\t<tr><th scope=row>6</th><td>chr1</td><td>66168</td><td>71585</td><td>OR4F5:NM_001005484.2</td><td>.</td><td>+</td><td>0.0000000</td><td>0.00000000</td><td>0.000000</td><td>0.000000</td><td>⋯</td><td>0.00000000</td><td>0.00000000</td><td>0.00000000</td><td>0.0000000</td><td>0.0000000</td><td>0.0000000</td><td>0.0000000</td><td>0.0000000</td><td>0.0000000</td><td>0.0000000</td></tr>\n",
       "</tbody>\n",
       "</table>\n"
      ],
      "text/latex": [
       "A data.frame: 3 × 757\n",
       "\\begin{tabular}{r|lllllllllllllllllllll}\n",
       "  & chrom & start & stop & gene\\_transcript & score & strand & SRR7266931 & SRR7266932 & SRR7266933 & SRR7266934 & ⋯ & SRR3713715 & SRR3713716 & SRR3713717 & SRR3713718 & SRR8483105 & SRR8483106 & SRR8483107 & SRR8483108 & SRR8483109 & SRR8483110\\\\\n",
       "  & <chr> & <int> & <int> & <chr> & <chr> & <chr> & <dbl> & <dbl> & <dbl> & <dbl> & ⋯ & <dbl> & <dbl> & <dbl> & <dbl> & <dbl> & <dbl> & <dbl> & <dbl> & <dbl> & <dbl>\\\\\n",
       "\\hline\n",
       "\t1 & chr1 & 12623 & 14409 & DDX11L1:NR\\_046018.2  & . & + & 0.0000000 & 0.00000000 & 0.000000 & 0.000000 & ⋯ & 0.00000000 & 0.00000000 & 0.00000000 & 0.0000000 & 0.0000000 & 0.0000000 & 0.0000000 & 0.0000000 & 0.0000000 & 0.0000000\\\\\n",
       "\t2 & chr1 & 14361 & 28620 & WASH7P:NR\\_024540.1   & . & - & 0.2372728 & 0.04812349 & 0.247163 & 0.180835 & ⋯ & 0.09228832 & 0.05880973 & 0.06709094 & 0.2776161 & 0.3800877 & 0.4256579 & 0.3585765 & 0.3028641 & 0.3857214 & 0.4399284\\\\\n",
       "\t6 & chr1 & 66168 & 71585 & OR4F5:NM\\_001005484.2 & . & + & 0.0000000 & 0.00000000 & 0.000000 & 0.000000 & ⋯ & 0.00000000 & 0.00000000 & 0.00000000 & 0.0000000 & 0.0000000 & 0.0000000 & 0.0000000 & 0.0000000 & 0.0000000 & 0.0000000\\\\\n",
       "\\end{tabular}\n"
      ],
      "text/markdown": [
       "\n",
       "A data.frame: 3 × 757\n",
       "\n",
       "| <!--/--> | chrom &lt;chr&gt; | start &lt;int&gt; | stop &lt;int&gt; | gene_transcript &lt;chr&gt; | score &lt;chr&gt; | strand &lt;chr&gt; | SRR7266931 &lt;dbl&gt; | SRR7266932 &lt;dbl&gt; | SRR7266933 &lt;dbl&gt; | SRR7266934 &lt;dbl&gt; | ⋯ ⋯ | SRR3713715 &lt;dbl&gt; | SRR3713716 &lt;dbl&gt; | SRR3713717 &lt;dbl&gt; | SRR3713718 &lt;dbl&gt; | SRR8483105 &lt;dbl&gt; | SRR8483106 &lt;dbl&gt; | SRR8483107 &lt;dbl&gt; | SRR8483108 &lt;dbl&gt; | SRR8483109 &lt;dbl&gt; | SRR8483110 &lt;dbl&gt; |\n",
       "|---|---|---|---|---|---|---|---|---|---|---|---|---|---|---|---|---|---|---|---|---|---|\n",
       "| 1 | chr1 | 12623 | 14409 | DDX11L1:NR_046018.2  | . | + | 0.0000000 | 0.00000000 | 0.000000 | 0.000000 | ⋯ | 0.00000000 | 0.00000000 | 0.00000000 | 0.0000000 | 0.0000000 | 0.0000000 | 0.0000000 | 0.0000000 | 0.0000000 | 0.0000000 |\n",
       "| 2 | chr1 | 14361 | 28620 | WASH7P:NR_024540.1   | . | - | 0.2372728 | 0.04812349 | 0.247163 | 0.180835 | ⋯ | 0.09228832 | 0.05880973 | 0.06709094 | 0.2776161 | 0.3800877 | 0.4256579 | 0.3585765 | 0.3028641 | 0.3857214 | 0.4399284 |\n",
       "| 6 | chr1 | 66168 | 71585 | OR4F5:NM_001005484.2 | . | + | 0.0000000 | 0.00000000 | 0.000000 | 0.000000 | ⋯ | 0.00000000 | 0.00000000 | 0.00000000 | 0.0000000 | 0.0000000 | 0.0000000 | 0.0000000 | 0.0000000 | 0.0000000 | 0.0000000 |\n",
       "\n"
      ],
      "text/plain": [
       "  chrom start stop  gene_transcript      score strand SRR7266931 SRR7266932\n",
       "1 chr1  12623 14409 DDX11L1:NR_046018.2  .     +      0.0000000  0.00000000\n",
       "2 chr1  14361 28620 WASH7P:NR_024540.1   .     -      0.2372728  0.04812349\n",
       "6 chr1  66168 71585 OR4F5:NM_001005484.2 .     +      0.0000000  0.00000000\n",
       "  SRR7266933 SRR7266934 ⋯ SRR3713715 SRR3713716 SRR3713717 SRR3713718\n",
       "1 0.000000   0.000000   ⋯ 0.00000000 0.00000000 0.00000000 0.0000000 \n",
       "2 0.247163   0.180835   ⋯ 0.09228832 0.05880973 0.06709094 0.2776161 \n",
       "6 0.000000   0.000000   ⋯ 0.00000000 0.00000000 0.00000000 0.0000000 \n",
       "  SRR8483105 SRR8483106 SRR8483107 SRR8483108 SRR8483109 SRR8483110\n",
       "1 0.0000000  0.0000000  0.0000000  0.0000000  0.0000000  0.0000000 \n",
       "2 0.3800877  0.4256579  0.3585765  0.3028641  0.3857214  0.4399284 \n",
       "6 0.0000000  0.0000000  0.0000000  0.0000000  0.0000000  0.0000000 "
      ]
     },
     "metadata": {},
     "output_type": "display_data"
    }
   ],
   "source": [
    "gene_bidir_tpm_intragenic_A <- gene_bidir_tpm_samples_filtered_txped[gene_bidir_tpm_samples_filtered_txped$gene_transcript \n",
    "                                                                          %in%\n",
    "                                                                   intragenic_bidirs_genes_A,]\n",
    "dim(gene_bidir_tpm_intragenic_A)\n",
    "head(gene_bidir_tpm_intragenic_A, 3)"
   ]
  },
  {
   "cell_type": "code",
   "execution_count": 57,
   "metadata": {},
   "outputs": [
    {
     "data": {
      "text/html": [
       "<style>\n",
       ".list-inline {list-style: none; margin:0; padding: 0}\n",
       ".list-inline>li {display: inline-block}\n",
       ".list-inline>li:not(:last-child)::after {content: \"\\00b7\"; padding: 0 .5ex}\n",
       "</style>\n",
       "<ol class=list-inline><li>213646</li><li>757</li></ol>\n"
      ],
      "text/latex": [
       "\\begin{enumerate*}\n",
       "\\item 213646\n",
       "\\item 757\n",
       "\\end{enumerate*}\n"
      ],
      "text/markdown": [
       "1. 213646\n",
       "2. 757\n",
       "\n",
       "\n"
      ],
      "text/plain": [
       "[1] 213646    757"
      ]
     },
     "metadata": {},
     "output_type": "display_data"
    },
    {
     "data": {
      "text/html": [
       "<table class=\"dataframe\">\n",
       "<caption>A data.frame: 3 × 757</caption>\n",
       "<thead>\n",
       "\t<tr><th></th><th scope=col>chrom</th><th scope=col>start</th><th scope=col>stop</th><th scope=col>gene_transcript</th><th scope=col>score</th><th scope=col>strand</th><th scope=col>SRR7266931</th><th scope=col>SRR7266932</th><th scope=col>SRR7266933</th><th scope=col>SRR7266934</th><th scope=col>⋯</th><th scope=col>SRR3713715</th><th scope=col>SRR3713716</th><th scope=col>SRR3713717</th><th scope=col>SRR3713718</th><th scope=col>SRR8483105</th><th scope=col>SRR8483106</th><th scope=col>SRR8483107</th><th scope=col>SRR8483108</th><th scope=col>SRR8483109</th><th scope=col>SRR8483110</th></tr>\n",
       "\t<tr><th></th><th scope=col>&lt;chr&gt;</th><th scope=col>&lt;int&gt;</th><th scope=col>&lt;int&gt;</th><th scope=col>&lt;chr&gt;</th><th scope=col>&lt;chr&gt;</th><th scope=col>&lt;chr&gt;</th><th scope=col>&lt;dbl&gt;</th><th scope=col>&lt;dbl&gt;</th><th scope=col>&lt;dbl&gt;</th><th scope=col>&lt;dbl&gt;</th><th scope=col>⋯</th><th scope=col>&lt;dbl&gt;</th><th scope=col>&lt;dbl&gt;</th><th scope=col>&lt;dbl&gt;</th><th scope=col>&lt;dbl&gt;</th><th scope=col>&lt;dbl&gt;</th><th scope=col>&lt;dbl&gt;</th><th scope=col>&lt;dbl&gt;</th><th scope=col>&lt;dbl&gt;</th><th scope=col>&lt;dbl&gt;</th><th scope=col>&lt;dbl&gt;</th></tr>\n",
       "</thead>\n",
       "<tbody>\n",
       "\t<tr><th scope=row>1</th><td>chr1</td><td>12623</td><td>14409</td><td>DDX11L1:NR_046018.2 </td><td>.</td><td>+</td><td>0.0000000</td><td>0.00000000</td><td>0.000000</td><td>0.000000</td><td>⋯</td><td>0.00000000</td><td>0.00000000</td><td>0.00000000</td><td>0.0000000</td><td>0.0000000</td><td>0.0000000</td><td>0.0000000</td><td>0.0000000</td><td>0.0000000</td><td>0.0000000</td></tr>\n",
       "\t<tr><th scope=row>2</th><td>chr1</td><td>14361</td><td>28620</td><td>WASH7P:NR_024540.1  </td><td>.</td><td>-</td><td>0.2372728</td><td>0.04812349</td><td>0.247163</td><td>0.180835</td><td>⋯</td><td>0.09228832</td><td>0.05880973</td><td>0.06709094</td><td>0.2776161</td><td>0.3800877</td><td>0.4256579</td><td>0.3585765</td><td>0.3028641</td><td>0.3857214</td><td>0.4399284</td></tr>\n",
       "\t<tr><th scope=row>6</th><td>chr1</td><td>66168</td><td>71585</td><td>OR4F5:NM_001005484.2</td><td>.</td><td>+</td><td>0.0000000</td><td>0.00000000</td><td>0.000000</td><td>0.000000</td><td>⋯</td><td>0.00000000</td><td>0.00000000</td><td>0.00000000</td><td>0.0000000</td><td>0.0000000</td><td>0.0000000</td><td>0.0000000</td><td>0.0000000</td><td>0.0000000</td><td>0.0000000</td></tr>\n",
       "</tbody>\n",
       "</table>\n"
      ],
      "text/latex": [
       "A data.frame: 3 × 757\n",
       "\\begin{tabular}{r|lllllllllllllllllllll}\n",
       "  & chrom & start & stop & gene\\_transcript & score & strand & SRR7266931 & SRR7266932 & SRR7266933 & SRR7266934 & ⋯ & SRR3713715 & SRR3713716 & SRR3713717 & SRR3713718 & SRR8483105 & SRR8483106 & SRR8483107 & SRR8483108 & SRR8483109 & SRR8483110\\\\\n",
       "  & <chr> & <int> & <int> & <chr> & <chr> & <chr> & <dbl> & <dbl> & <dbl> & <dbl> & ⋯ & <dbl> & <dbl> & <dbl> & <dbl> & <dbl> & <dbl> & <dbl> & <dbl> & <dbl> & <dbl>\\\\\n",
       "\\hline\n",
       "\t1 & chr1 & 12623 & 14409 & DDX11L1:NR\\_046018.2  & . & + & 0.0000000 & 0.00000000 & 0.000000 & 0.000000 & ⋯ & 0.00000000 & 0.00000000 & 0.00000000 & 0.0000000 & 0.0000000 & 0.0000000 & 0.0000000 & 0.0000000 & 0.0000000 & 0.0000000\\\\\n",
       "\t2 & chr1 & 14361 & 28620 & WASH7P:NR\\_024540.1   & . & - & 0.2372728 & 0.04812349 & 0.247163 & 0.180835 & ⋯ & 0.09228832 & 0.05880973 & 0.06709094 & 0.2776161 & 0.3800877 & 0.4256579 & 0.3585765 & 0.3028641 & 0.3857214 & 0.4399284\\\\\n",
       "\t6 & chr1 & 66168 & 71585 & OR4F5:NM\\_001005484.2 & . & + & 0.0000000 & 0.00000000 & 0.000000 & 0.000000 & ⋯ & 0.00000000 & 0.00000000 & 0.00000000 & 0.0000000 & 0.0000000 & 0.0000000 & 0.0000000 & 0.0000000 & 0.0000000 & 0.0000000\\\\\n",
       "\\end{tabular}\n"
      ],
      "text/markdown": [
       "\n",
       "A data.frame: 3 × 757\n",
       "\n",
       "| <!--/--> | chrom &lt;chr&gt; | start &lt;int&gt; | stop &lt;int&gt; | gene_transcript &lt;chr&gt; | score &lt;chr&gt; | strand &lt;chr&gt; | SRR7266931 &lt;dbl&gt; | SRR7266932 &lt;dbl&gt; | SRR7266933 &lt;dbl&gt; | SRR7266934 &lt;dbl&gt; | ⋯ ⋯ | SRR3713715 &lt;dbl&gt; | SRR3713716 &lt;dbl&gt; | SRR3713717 &lt;dbl&gt; | SRR3713718 &lt;dbl&gt; | SRR8483105 &lt;dbl&gt; | SRR8483106 &lt;dbl&gt; | SRR8483107 &lt;dbl&gt; | SRR8483108 &lt;dbl&gt; | SRR8483109 &lt;dbl&gt; | SRR8483110 &lt;dbl&gt; |\n",
       "|---|---|---|---|---|---|---|---|---|---|---|---|---|---|---|---|---|---|---|---|---|---|\n",
       "| 1 | chr1 | 12623 | 14409 | DDX11L1:NR_046018.2  | . | + | 0.0000000 | 0.00000000 | 0.000000 | 0.000000 | ⋯ | 0.00000000 | 0.00000000 | 0.00000000 | 0.0000000 | 0.0000000 | 0.0000000 | 0.0000000 | 0.0000000 | 0.0000000 | 0.0000000 |\n",
       "| 2 | chr1 | 14361 | 28620 | WASH7P:NR_024540.1   | . | - | 0.2372728 | 0.04812349 | 0.247163 | 0.180835 | ⋯ | 0.09228832 | 0.05880973 | 0.06709094 | 0.2776161 | 0.3800877 | 0.4256579 | 0.3585765 | 0.3028641 | 0.3857214 | 0.4399284 |\n",
       "| 6 | chr1 | 66168 | 71585 | OR4F5:NM_001005484.2 | . | + | 0.0000000 | 0.00000000 | 0.000000 | 0.000000 | ⋯ | 0.00000000 | 0.00000000 | 0.00000000 | 0.0000000 | 0.0000000 | 0.0000000 | 0.0000000 | 0.0000000 | 0.0000000 | 0.0000000 |\n",
       "\n"
      ],
      "text/plain": [
       "  chrom start stop  gene_transcript      score strand SRR7266931 SRR7266932\n",
       "1 chr1  12623 14409 DDX11L1:NR_046018.2  .     +      0.0000000  0.00000000\n",
       "2 chr1  14361 28620 WASH7P:NR_024540.1   .     -      0.2372728  0.04812349\n",
       "6 chr1  66168 71585 OR4F5:NM_001005484.2 .     +      0.0000000  0.00000000\n",
       "  SRR7266933 SRR7266934 ⋯ SRR3713715 SRR3713716 SRR3713717 SRR3713718\n",
       "1 0.000000   0.000000   ⋯ 0.00000000 0.00000000 0.00000000 0.0000000 \n",
       "2 0.247163   0.180835   ⋯ 0.09228832 0.05880973 0.06709094 0.2776161 \n",
       "6 0.000000   0.000000   ⋯ 0.00000000 0.00000000 0.00000000 0.0000000 \n",
       "  SRR8483105 SRR8483106 SRR8483107 SRR8483108 SRR8483109 SRR8483110\n",
       "1 0.0000000  0.0000000  0.0000000  0.0000000  0.0000000  0.0000000 \n",
       "2 0.3800877  0.4256579  0.3585765  0.3028641  0.3857214  0.4399284 \n",
       "6 0.0000000  0.0000000  0.0000000  0.0000000  0.0000000  0.0000000 "
      ]
     },
     "metadata": {},
     "output_type": "display_data"
    }
   ],
   "source": [
    "gene_bidir_tpm_intragenic_B <- gene_bidir_tpm_samples_filtered_txped[gene_bidir_tpm_samples_filtered_txped$gene_transcript \n",
    "                                                                          %in%\n",
    "                                                                   intragenic_bidirs_genes_B,]\n",
    "dim(gene_bidir_tpm_intragenic_B)\n",
    "head(gene_bidir_tpm_intragenic_B, 3)"
   ]
  },
  {
   "cell_type": "code",
   "execution_count": 58,
   "metadata": {},
   "outputs": [
    {
     "data": {
      "text/html": [
       "<style>\n",
       ".list-inline {list-style: none; margin:0; padding: 0}\n",
       ".list-inline>li {display: inline-block}\n",
       ".list-inline>li:not(:last-child)::after {content: \"\\00b7\"; padding: 0 .5ex}\n",
       "</style>\n",
       "<ol class=list-inline><li>213567</li><li>757</li></ol>\n"
      ],
      "text/latex": [
       "\\begin{enumerate*}\n",
       "\\item 213567\n",
       "\\item 757\n",
       "\\end{enumerate*}\n"
      ],
      "text/markdown": [
       "1. 213567\n",
       "2. 757\n",
       "\n",
       "\n"
      ],
      "text/plain": [
       "[1] 213567    757"
      ]
     },
     "metadata": {},
     "output_type": "display_data"
    },
    {
     "data": {
      "text/html": [
       "<table class=\"dataframe\">\n",
       "<caption>A data.frame: 3 × 757</caption>\n",
       "<thead>\n",
       "\t<tr><th></th><th scope=col>chrom</th><th scope=col>start</th><th scope=col>stop</th><th scope=col>gene_transcript</th><th scope=col>score</th><th scope=col>strand</th><th scope=col>SRR7266931</th><th scope=col>SRR7266932</th><th scope=col>SRR7266933</th><th scope=col>SRR7266934</th><th scope=col>⋯</th><th scope=col>SRR3713715</th><th scope=col>SRR3713716</th><th scope=col>SRR3713717</th><th scope=col>SRR3713718</th><th scope=col>SRR8483105</th><th scope=col>SRR8483106</th><th scope=col>SRR8483107</th><th scope=col>SRR8483108</th><th scope=col>SRR8483109</th><th scope=col>SRR8483110</th></tr>\n",
       "\t<tr><th></th><th scope=col>&lt;chr&gt;</th><th scope=col>&lt;int&gt;</th><th scope=col>&lt;int&gt;</th><th scope=col>&lt;chr&gt;</th><th scope=col>&lt;chr&gt;</th><th scope=col>&lt;chr&gt;</th><th scope=col>&lt;dbl&gt;</th><th scope=col>&lt;dbl&gt;</th><th scope=col>&lt;dbl&gt;</th><th scope=col>&lt;dbl&gt;</th><th scope=col>⋯</th><th scope=col>&lt;dbl&gt;</th><th scope=col>&lt;dbl&gt;</th><th scope=col>&lt;dbl&gt;</th><th scope=col>&lt;dbl&gt;</th><th scope=col>&lt;dbl&gt;</th><th scope=col>&lt;dbl&gt;</th><th scope=col>&lt;dbl&gt;</th><th scope=col>&lt;dbl&gt;</th><th scope=col>&lt;dbl&gt;</th><th scope=col>&lt;dbl&gt;</th></tr>\n",
       "</thead>\n",
       "<tbody>\n",
       "\t<tr><th scope=row>1</th><td>chr1</td><td>12623</td><td>14409</td><td>DDX11L1:NR_046018.2 </td><td>.</td><td>+</td><td>0.0000000</td><td>0.00000000</td><td>0.000000</td><td>0.000000</td><td>⋯</td><td>0.00000000</td><td>0.00000000</td><td>0.00000000</td><td>0.0000000</td><td>0.0000000</td><td>0.0000000</td><td>0.0000000</td><td>0.0000000</td><td>0.0000000</td><td>0.0000000</td></tr>\n",
       "\t<tr><th scope=row>2</th><td>chr1</td><td>14361</td><td>28620</td><td>WASH7P:NR_024540.1  </td><td>.</td><td>-</td><td>0.2372728</td><td>0.04812349</td><td>0.247163</td><td>0.180835</td><td>⋯</td><td>0.09228832</td><td>0.05880973</td><td>0.06709094</td><td>0.2776161</td><td>0.3800877</td><td>0.4256579</td><td>0.3585765</td><td>0.3028641</td><td>0.3857214</td><td>0.4399284</td></tr>\n",
       "\t<tr><th scope=row>6</th><td>chr1</td><td>66168</td><td>71585</td><td>OR4F5:NM_001005484.2</td><td>.</td><td>+</td><td>0.0000000</td><td>0.00000000</td><td>0.000000</td><td>0.000000</td><td>⋯</td><td>0.00000000</td><td>0.00000000</td><td>0.00000000</td><td>0.0000000</td><td>0.0000000</td><td>0.0000000</td><td>0.0000000</td><td>0.0000000</td><td>0.0000000</td><td>0.0000000</td></tr>\n",
       "</tbody>\n",
       "</table>\n"
      ],
      "text/latex": [
       "A data.frame: 3 × 757\n",
       "\\begin{tabular}{r|lllllllllllllllllllll}\n",
       "  & chrom & start & stop & gene\\_transcript & score & strand & SRR7266931 & SRR7266932 & SRR7266933 & SRR7266934 & ⋯ & SRR3713715 & SRR3713716 & SRR3713717 & SRR3713718 & SRR8483105 & SRR8483106 & SRR8483107 & SRR8483108 & SRR8483109 & SRR8483110\\\\\n",
       "  & <chr> & <int> & <int> & <chr> & <chr> & <chr> & <dbl> & <dbl> & <dbl> & <dbl> & ⋯ & <dbl> & <dbl> & <dbl> & <dbl> & <dbl> & <dbl> & <dbl> & <dbl> & <dbl> & <dbl>\\\\\n",
       "\\hline\n",
       "\t1 & chr1 & 12623 & 14409 & DDX11L1:NR\\_046018.2  & . & + & 0.0000000 & 0.00000000 & 0.000000 & 0.000000 & ⋯ & 0.00000000 & 0.00000000 & 0.00000000 & 0.0000000 & 0.0000000 & 0.0000000 & 0.0000000 & 0.0000000 & 0.0000000 & 0.0000000\\\\\n",
       "\t2 & chr1 & 14361 & 28620 & WASH7P:NR\\_024540.1   & . & - & 0.2372728 & 0.04812349 & 0.247163 & 0.180835 & ⋯ & 0.09228832 & 0.05880973 & 0.06709094 & 0.2776161 & 0.3800877 & 0.4256579 & 0.3585765 & 0.3028641 & 0.3857214 & 0.4399284\\\\\n",
       "\t6 & chr1 & 66168 & 71585 & OR4F5:NM\\_001005484.2 & . & + & 0.0000000 & 0.00000000 & 0.000000 & 0.000000 & ⋯ & 0.00000000 & 0.00000000 & 0.00000000 & 0.0000000 & 0.0000000 & 0.0000000 & 0.0000000 & 0.0000000 & 0.0000000 & 0.0000000\\\\\n",
       "\\end{tabular}\n"
      ],
      "text/markdown": [
       "\n",
       "A data.frame: 3 × 757\n",
       "\n",
       "| <!--/--> | chrom &lt;chr&gt; | start &lt;int&gt; | stop &lt;int&gt; | gene_transcript &lt;chr&gt; | score &lt;chr&gt; | strand &lt;chr&gt; | SRR7266931 &lt;dbl&gt; | SRR7266932 &lt;dbl&gt; | SRR7266933 &lt;dbl&gt; | SRR7266934 &lt;dbl&gt; | ⋯ ⋯ | SRR3713715 &lt;dbl&gt; | SRR3713716 &lt;dbl&gt; | SRR3713717 &lt;dbl&gt; | SRR3713718 &lt;dbl&gt; | SRR8483105 &lt;dbl&gt; | SRR8483106 &lt;dbl&gt; | SRR8483107 &lt;dbl&gt; | SRR8483108 &lt;dbl&gt; | SRR8483109 &lt;dbl&gt; | SRR8483110 &lt;dbl&gt; |\n",
       "|---|---|---|---|---|---|---|---|---|---|---|---|---|---|---|---|---|---|---|---|---|---|\n",
       "| 1 | chr1 | 12623 | 14409 | DDX11L1:NR_046018.2  | . | + | 0.0000000 | 0.00000000 | 0.000000 | 0.000000 | ⋯ | 0.00000000 | 0.00000000 | 0.00000000 | 0.0000000 | 0.0000000 | 0.0000000 | 0.0000000 | 0.0000000 | 0.0000000 | 0.0000000 |\n",
       "| 2 | chr1 | 14361 | 28620 | WASH7P:NR_024540.1   | . | - | 0.2372728 | 0.04812349 | 0.247163 | 0.180835 | ⋯ | 0.09228832 | 0.05880973 | 0.06709094 | 0.2776161 | 0.3800877 | 0.4256579 | 0.3585765 | 0.3028641 | 0.3857214 | 0.4399284 |\n",
       "| 6 | chr1 | 66168 | 71585 | OR4F5:NM_001005484.2 | . | + | 0.0000000 | 0.00000000 | 0.000000 | 0.000000 | ⋯ | 0.00000000 | 0.00000000 | 0.00000000 | 0.0000000 | 0.0000000 | 0.0000000 | 0.0000000 | 0.0000000 | 0.0000000 | 0.0000000 |\n",
       "\n"
      ],
      "text/plain": [
       "  chrom start stop  gene_transcript      score strand SRR7266931 SRR7266932\n",
       "1 chr1  12623 14409 DDX11L1:NR_046018.2  .     +      0.0000000  0.00000000\n",
       "2 chr1  14361 28620 WASH7P:NR_024540.1   .     -      0.2372728  0.04812349\n",
       "6 chr1  66168 71585 OR4F5:NM_001005484.2 .     +      0.0000000  0.00000000\n",
       "  SRR7266933 SRR7266934 ⋯ SRR3713715 SRR3713716 SRR3713717 SRR3713718\n",
       "1 0.000000   0.000000   ⋯ 0.00000000 0.00000000 0.00000000 0.0000000 \n",
       "2 0.247163   0.180835   ⋯ 0.09228832 0.05880973 0.06709094 0.2776161 \n",
       "6 0.000000   0.000000   ⋯ 0.00000000 0.00000000 0.00000000 0.0000000 \n",
       "  SRR8483105 SRR8483106 SRR8483107 SRR8483108 SRR8483109 SRR8483110\n",
       "1 0.0000000  0.0000000  0.0000000  0.0000000  0.0000000  0.0000000 \n",
       "2 0.3800877  0.4256579  0.3585765  0.3028641  0.3857214  0.4399284 \n",
       "6 0.0000000  0.0000000  0.0000000  0.0000000  0.0000000  0.0000000 "
      ]
     },
     "metadata": {},
     "output_type": "display_data"
    }
   ],
   "source": [
    "gene_bidir_tpm_intragenic_C <- gene_bidir_tpm_samples_filtered_txped[gene_bidir_tpm_samples_filtered_txped$gene_transcript \n",
    "                                                                          %in%\n",
    "                                                                   intragenic_bidirs_genes_C,]\n",
    "dim(gene_bidir_tpm_intragenic_C)\n",
    "head(gene_bidir_tpm_intragenic_C, 3)"
   ]
  },
  {
   "cell_type": "code",
   "execution_count": 59,
   "metadata": {},
   "outputs": [],
   "source": [
    "data.table::fwrite(gene_bidir_tpm_intragenic_A,\n",
    "                   \"/Users/rusi2317/projects/meta_analysis_qc_reviews/processed_data/normalized_counts/gene_bidir_tpm_intragenic_A.tsv.gz\",\n",
    "                  sep='\\t')"
   ]
  },
  {
   "cell_type": "code",
   "execution_count": 60,
   "metadata": {},
   "outputs": [],
   "source": [
    "data.table::fwrite(gene_bidir_tpm_intragenic_B,\n",
    "                   \"/Users/rusi2317/projects/meta_analysis_qc_reviews/processed_data/normalized_counts/gene_bidir_tpm_intragenic_B.tsv.gz\",\n",
    "                  sep='\\t')"
   ]
  },
  {
   "cell_type": "code",
   "execution_count": 61,
   "metadata": {},
   "outputs": [],
   "source": [
    "data.table::fwrite(gene_bidir_tpm_intragenic_C,\n",
    "                   \"/Users/rusi2317/projects/meta_analysis_qc_reviews/processed_data/normalized_counts/gene_bidir_tpm_intragenic_C.tsv.gz\",\n",
    "                  sep='\\t')"
   ]
  },
  {
   "cell_type": "markdown",
   "metadata": {},
   "source": [
    "## Check per-chromosome number of transcripts"
   ]
  },
  {
   "cell_type": "code",
   "execution_count": 62,
   "metadata": {
    "scrolled": false
   },
   "outputs": [
    {
     "data": {
      "text/html": [
       "<table class=\"dataframe\">\n",
       "<caption>A data.frame: 24 × 2</caption>\n",
       "<thead>\n",
       "\t<tr><th scope=col>Var1</th><th scope=col>Freq</th></tr>\n",
       "\t<tr><th scope=col>&lt;fct&gt;</th><th scope=col>&lt;int&gt;</th></tr>\n",
       "</thead>\n",
       "<tbody>\n",
       "\t<tr><td>chr1 </td><td>23247</td></tr>\n",
       "\t<tr><td>chr10</td><td>12333</td></tr>\n",
       "\t<tr><td>chr11</td><td>11868</td></tr>\n",
       "\t<tr><td>chr12</td><td>13062</td></tr>\n",
       "\t<tr><td>chr13</td><td> 9058</td></tr>\n",
       "\t<tr><td>chr14</td><td> 8964</td></tr>\n",
       "\t<tr><td>chr15</td><td> 8094</td></tr>\n",
       "\t<tr><td>chr16</td><td> 7696</td></tr>\n",
       "\t<tr><td>chr17</td><td> 7634</td></tr>\n",
       "\t<tr><td>chr18</td><td> 6611</td></tr>\n",
       "\t<tr><td>chr19</td><td> 5344</td></tr>\n",
       "\t<tr><td>chr2 </td><td>24311</td></tr>\n",
       "\t<tr><td>chr20</td><td> 6843</td></tr>\n",
       "\t<tr><td>chr21</td><td> 4182</td></tr>\n",
       "\t<tr><td>chr22</td><td> 3809</td></tr>\n",
       "\t<tr><td>chr3 </td><td>17343</td></tr>\n",
       "\t<tr><td>chr4 </td><td>17130</td></tr>\n",
       "\t<tr><td>chr5 </td><td>17935</td></tr>\n",
       "\t<tr><td>chr6 </td><td>17753</td></tr>\n",
       "\t<tr><td>chr7 </td><td>14590</td></tr>\n",
       "\t<tr><td>chr8 </td><td>14599</td></tr>\n",
       "\t<tr><td>chr9 </td><td>12786</td></tr>\n",
       "\t<tr><td>chrX </td><td>13355</td></tr>\n",
       "\t<tr><td>chrY </td><td> 1633</td></tr>\n",
       "</tbody>\n",
       "</table>\n"
      ],
      "text/latex": [
       "A data.frame: 24 × 2\n",
       "\\begin{tabular}{ll}\n",
       " Var1 & Freq\\\\\n",
       " <fct> & <int>\\\\\n",
       "\\hline\n",
       "\t chr1  & 23247\\\\\n",
       "\t chr10 & 12333\\\\\n",
       "\t chr11 & 11868\\\\\n",
       "\t chr12 & 13062\\\\\n",
       "\t chr13 &  9058\\\\\n",
       "\t chr14 &  8964\\\\\n",
       "\t chr15 &  8094\\\\\n",
       "\t chr16 &  7696\\\\\n",
       "\t chr17 &  7634\\\\\n",
       "\t chr18 &  6611\\\\\n",
       "\t chr19 &  5344\\\\\n",
       "\t chr2  & 24311\\\\\n",
       "\t chr20 &  6843\\\\\n",
       "\t chr21 &  4182\\\\\n",
       "\t chr22 &  3809\\\\\n",
       "\t chr3  & 17343\\\\\n",
       "\t chr4  & 17130\\\\\n",
       "\t chr5  & 17935\\\\\n",
       "\t chr6  & 17753\\\\\n",
       "\t chr7  & 14590\\\\\n",
       "\t chr8  & 14599\\\\\n",
       "\t chr9  & 12786\\\\\n",
       "\t chrX  & 13355\\\\\n",
       "\t chrY  &  1633\\\\\n",
       "\\end{tabular}\n"
      ],
      "text/markdown": [
       "\n",
       "A data.frame: 24 × 2\n",
       "\n",
       "| Var1 &lt;fct&gt; | Freq &lt;int&gt; |\n",
       "|---|---|\n",
       "| chr1  | 23247 |\n",
       "| chr10 | 12333 |\n",
       "| chr11 | 11868 |\n",
       "| chr12 | 13062 |\n",
       "| chr13 |  9058 |\n",
       "| chr14 |  8964 |\n",
       "| chr15 |  8094 |\n",
       "| chr16 |  7696 |\n",
       "| chr17 |  7634 |\n",
       "| chr18 |  6611 |\n",
       "| chr19 |  5344 |\n",
       "| chr2  | 24311 |\n",
       "| chr20 |  6843 |\n",
       "| chr21 |  4182 |\n",
       "| chr22 |  3809 |\n",
       "| chr3  | 17343 |\n",
       "| chr4  | 17130 |\n",
       "| chr5  | 17935 |\n",
       "| chr6  | 17753 |\n",
       "| chr7  | 14590 |\n",
       "| chr8  | 14599 |\n",
       "| chr9  | 12786 |\n",
       "| chrX  | 13355 |\n",
       "| chrY  |  1633 |\n",
       "\n"
      ],
      "text/plain": [
       "   Var1  Freq \n",
       "1  chr1  23247\n",
       "2  chr10 12333\n",
       "3  chr11 11868\n",
       "4  chr12 13062\n",
       "5  chr13  9058\n",
       "6  chr14  8964\n",
       "7  chr15  8094\n",
       "8  chr16  7696\n",
       "9  chr17  7634\n",
       "10 chr18  6611\n",
       "11 chr19  5344\n",
       "12 chr2  24311\n",
       "13 chr20  6843\n",
       "14 chr21  4182\n",
       "15 chr22  3809\n",
       "16 chr3  17343\n",
       "17 chr4  17130\n",
       "18 chr5  17935\n",
       "19 chr6  17753\n",
       "20 chr7  14590\n",
       "21 chr8  14599\n",
       "22 chr9  12786\n",
       "23 chrX  13355\n",
       "24 chrY   1633"
      ]
     },
     "metadata": {},
     "output_type": "display_data"
    }
   ],
   "source": [
    "as.data.frame(table(gene_bidir_tpm_intergenic$chrom))"
   ]
  },
  {
   "cell_type": "code",
   "execution_count": 63,
   "metadata": {},
   "outputs": [
    {
     "data": {
      "text/html": [
       "<table class=\"dataframe\">\n",
       "<caption>A data.frame: 24 × 2</caption>\n",
       "<thead>\n",
       "\t<tr><th scope=col>Var1</th><th scope=col>Freq</th></tr>\n",
       "\t<tr><th scope=col>&lt;fct&gt;</th><th scope=col>&lt;int&gt;</th></tr>\n",
       "</thead>\n",
       "<tbody>\n",
       "\t<tr><td>chr1 </td><td>20462</td></tr>\n",
       "\t<tr><td>chr10</td><td>10011</td></tr>\n",
       "\t<tr><td>chr11</td><td>10635</td></tr>\n",
       "\t<tr><td>chr12</td><td>10961</td></tr>\n",
       "\t<tr><td>chr13</td><td> 5071</td></tr>\n",
       "\t<tr><td>chr14</td><td> 6800</td></tr>\n",
       "\t<tr><td>chr15</td><td> 7458</td></tr>\n",
       "\t<tr><td>chr16</td><td> 7505</td></tr>\n",
       "\t<tr><td>chr17</td><td>10301</td></tr>\n",
       "\t<tr><td>chr18</td><td> 4160</td></tr>\n",
       "\t<tr><td>chr19</td><td> 8875</td></tr>\n",
       "\t<tr><td>chr2 </td><td>16214</td></tr>\n",
       "\t<tr><td>chr20</td><td> 5393</td></tr>\n",
       "\t<tr><td>chr21</td><td> 2687</td></tr>\n",
       "\t<tr><td>chr22</td><td> 4429</td></tr>\n",
       "\t<tr><td>chr3 </td><td>13856</td></tr>\n",
       "\t<tr><td>chr4 </td><td> 9922</td></tr>\n",
       "\t<tr><td>chr5 </td><td>11643</td></tr>\n",
       "\t<tr><td>chr6 </td><td>11316</td></tr>\n",
       "\t<tr><td>chr7 </td><td>11376</td></tr>\n",
       "\t<tr><td>chr8 </td><td> 9092</td></tr>\n",
       "\t<tr><td>chr9 </td><td> 8738</td></tr>\n",
       "\t<tr><td>chrX </td><td> 6685</td></tr>\n",
       "\t<tr><td>chrY </td><td>  194</td></tr>\n",
       "</tbody>\n",
       "</table>\n"
      ],
      "text/latex": [
       "A data.frame: 24 × 2\n",
       "\\begin{tabular}{ll}\n",
       " Var1 & Freq\\\\\n",
       " <fct> & <int>\\\\\n",
       "\\hline\n",
       "\t chr1  & 20462\\\\\n",
       "\t chr10 & 10011\\\\\n",
       "\t chr11 & 10635\\\\\n",
       "\t chr12 & 10961\\\\\n",
       "\t chr13 &  5071\\\\\n",
       "\t chr14 &  6800\\\\\n",
       "\t chr15 &  7458\\\\\n",
       "\t chr16 &  7505\\\\\n",
       "\t chr17 & 10301\\\\\n",
       "\t chr18 &  4160\\\\\n",
       "\t chr19 &  8875\\\\\n",
       "\t chr2  & 16214\\\\\n",
       "\t chr20 &  5393\\\\\n",
       "\t chr21 &  2687\\\\\n",
       "\t chr22 &  4429\\\\\n",
       "\t chr3  & 13856\\\\\n",
       "\t chr4  &  9922\\\\\n",
       "\t chr5  & 11643\\\\\n",
       "\t chr6  & 11316\\\\\n",
       "\t chr7  & 11376\\\\\n",
       "\t chr8  &  9092\\\\\n",
       "\t chr9  &  8738\\\\\n",
       "\t chrX  &  6685\\\\\n",
       "\t chrY  &   194\\\\\n",
       "\\end{tabular}\n"
      ],
      "text/markdown": [
       "\n",
       "A data.frame: 24 × 2\n",
       "\n",
       "| Var1 &lt;fct&gt; | Freq &lt;int&gt; |\n",
       "|---|---|\n",
       "| chr1  | 20462 |\n",
       "| chr10 | 10011 |\n",
       "| chr11 | 10635 |\n",
       "| chr12 | 10961 |\n",
       "| chr13 |  5071 |\n",
       "| chr14 |  6800 |\n",
       "| chr15 |  7458 |\n",
       "| chr16 |  7505 |\n",
       "| chr17 | 10301 |\n",
       "| chr18 |  4160 |\n",
       "| chr19 |  8875 |\n",
       "| chr2  | 16214 |\n",
       "| chr20 |  5393 |\n",
       "| chr21 |  2687 |\n",
       "| chr22 |  4429 |\n",
       "| chr3  | 13856 |\n",
       "| chr4  |  9922 |\n",
       "| chr5  | 11643 |\n",
       "| chr6  | 11316 |\n",
       "| chr7  | 11376 |\n",
       "| chr8  |  9092 |\n",
       "| chr9  |  8738 |\n",
       "| chrX  |  6685 |\n",
       "| chrY  |   194 |\n",
       "\n"
      ],
      "text/plain": [
       "   Var1  Freq \n",
       "1  chr1  20462\n",
       "2  chr10 10011\n",
       "3  chr11 10635\n",
       "4  chr12 10961\n",
       "5  chr13  5071\n",
       "6  chr14  6800\n",
       "7  chr15  7458\n",
       "8  chr16  7505\n",
       "9  chr17 10301\n",
       "10 chr18  4160\n",
       "11 chr19  8875\n",
       "12 chr2  16214\n",
       "13 chr20  5393\n",
       "14 chr21  2687\n",
       "15 chr22  4429\n",
       "16 chr3  13856\n",
       "17 chr4   9922\n",
       "18 chr5  11643\n",
       "19 chr6  11316\n",
       "20 chr7  11376\n",
       "21 chr8   9092\n",
       "22 chr9   8738\n",
       "23 chrX   6685\n",
       "24 chrY    194"
      ]
     },
     "metadata": {},
     "output_type": "display_data"
    }
   ],
   "source": [
    "as.data.frame(table(gene_bidir_tpm_intragenic_A$chrom))"
   ]
  },
  {
   "cell_type": "code",
   "execution_count": 64,
   "metadata": {},
   "outputs": [
    {
     "data": {
      "text/html": [
       "<table class=\"dataframe\">\n",
       "<caption>A data.frame: 24 × 2</caption>\n",
       "<thead>\n",
       "\t<tr><th scope=col>Var1</th><th scope=col>Freq</th></tr>\n",
       "\t<tr><th scope=col>&lt;fct&gt;</th><th scope=col>&lt;int&gt;</th></tr>\n",
       "</thead>\n",
       "<tbody>\n",
       "\t<tr><td>chr1 </td><td>20635</td></tr>\n",
       "\t<tr><td>chr10</td><td> 9951</td></tr>\n",
       "\t<tr><td>chr11</td><td>10892</td></tr>\n",
       "\t<tr><td>chr12</td><td>10824</td></tr>\n",
       "\t<tr><td>chr13</td><td> 5165</td></tr>\n",
       "\t<tr><td>chr14</td><td> 6768</td></tr>\n",
       "\t<tr><td>chr15</td><td> 7403</td></tr>\n",
       "\t<tr><td>chr16</td><td> 7514</td></tr>\n",
       "\t<tr><td>chr17</td><td>10333</td></tr>\n",
       "\t<tr><td>chr18</td><td> 4199</td></tr>\n",
       "\t<tr><td>chr19</td><td> 8918</td></tr>\n",
       "\t<tr><td>chr2 </td><td>16139</td></tr>\n",
       "\t<tr><td>chr20</td><td> 5466</td></tr>\n",
       "\t<tr><td>chr21</td><td> 2654</td></tr>\n",
       "\t<tr><td>chr22</td><td> 4405</td></tr>\n",
       "\t<tr><td>chr3 </td><td>13532</td></tr>\n",
       "\t<tr><td>chr4 </td><td> 9908</td></tr>\n",
       "\t<tr><td>chr5 </td><td>11491</td></tr>\n",
       "\t<tr><td>chr6 </td><td>11406</td></tr>\n",
       "\t<tr><td>chr7 </td><td>11618</td></tr>\n",
       "\t<tr><td>chr8 </td><td> 8895</td></tr>\n",
       "\t<tr><td>chr9 </td><td> 8590</td></tr>\n",
       "\t<tr><td>chrX </td><td> 6772</td></tr>\n",
       "\t<tr><td>chrY </td><td>  168</td></tr>\n",
       "</tbody>\n",
       "</table>\n"
      ],
      "text/latex": [
       "A data.frame: 24 × 2\n",
       "\\begin{tabular}{ll}\n",
       " Var1 & Freq\\\\\n",
       " <fct> & <int>\\\\\n",
       "\\hline\n",
       "\t chr1  & 20635\\\\\n",
       "\t chr10 &  9951\\\\\n",
       "\t chr11 & 10892\\\\\n",
       "\t chr12 & 10824\\\\\n",
       "\t chr13 &  5165\\\\\n",
       "\t chr14 &  6768\\\\\n",
       "\t chr15 &  7403\\\\\n",
       "\t chr16 &  7514\\\\\n",
       "\t chr17 & 10333\\\\\n",
       "\t chr18 &  4199\\\\\n",
       "\t chr19 &  8918\\\\\n",
       "\t chr2  & 16139\\\\\n",
       "\t chr20 &  5466\\\\\n",
       "\t chr21 &  2654\\\\\n",
       "\t chr22 &  4405\\\\\n",
       "\t chr3  & 13532\\\\\n",
       "\t chr4  &  9908\\\\\n",
       "\t chr5  & 11491\\\\\n",
       "\t chr6  & 11406\\\\\n",
       "\t chr7  & 11618\\\\\n",
       "\t chr8  &  8895\\\\\n",
       "\t chr9  &  8590\\\\\n",
       "\t chrX  &  6772\\\\\n",
       "\t chrY  &   168\\\\\n",
       "\\end{tabular}\n"
      ],
      "text/markdown": [
       "\n",
       "A data.frame: 24 × 2\n",
       "\n",
       "| Var1 &lt;fct&gt; | Freq &lt;int&gt; |\n",
       "|---|---|\n",
       "| chr1  | 20635 |\n",
       "| chr10 |  9951 |\n",
       "| chr11 | 10892 |\n",
       "| chr12 | 10824 |\n",
       "| chr13 |  5165 |\n",
       "| chr14 |  6768 |\n",
       "| chr15 |  7403 |\n",
       "| chr16 |  7514 |\n",
       "| chr17 | 10333 |\n",
       "| chr18 |  4199 |\n",
       "| chr19 |  8918 |\n",
       "| chr2  | 16139 |\n",
       "| chr20 |  5466 |\n",
       "| chr21 |  2654 |\n",
       "| chr22 |  4405 |\n",
       "| chr3  | 13532 |\n",
       "| chr4  |  9908 |\n",
       "| chr5  | 11491 |\n",
       "| chr6  | 11406 |\n",
       "| chr7  | 11618 |\n",
       "| chr8  |  8895 |\n",
       "| chr9  |  8590 |\n",
       "| chrX  |  6772 |\n",
       "| chrY  |   168 |\n",
       "\n"
      ],
      "text/plain": [
       "   Var1  Freq \n",
       "1  chr1  20635\n",
       "2  chr10  9951\n",
       "3  chr11 10892\n",
       "4  chr12 10824\n",
       "5  chr13  5165\n",
       "6  chr14  6768\n",
       "7  chr15  7403\n",
       "8  chr16  7514\n",
       "9  chr17 10333\n",
       "10 chr18  4199\n",
       "11 chr19  8918\n",
       "12 chr2  16139\n",
       "13 chr20  5466\n",
       "14 chr21  2654\n",
       "15 chr22  4405\n",
       "16 chr3  13532\n",
       "17 chr4   9908\n",
       "18 chr5  11491\n",
       "19 chr6  11406\n",
       "20 chr7  11618\n",
       "21 chr8   8895\n",
       "22 chr9   8590\n",
       "23 chrX   6772\n",
       "24 chrY    168"
      ]
     },
     "metadata": {},
     "output_type": "display_data"
    }
   ],
   "source": [
    "as.data.frame(table(gene_bidir_tpm_intragenic_B$chrom))"
   ]
  },
  {
   "cell_type": "code",
   "execution_count": 65,
   "metadata": {},
   "outputs": [
    {
     "data": {
      "text/html": [
       "<table class=\"dataframe\">\n",
       "<caption>A data.frame: 24 × 2</caption>\n",
       "<thead>\n",
       "\t<tr><th scope=col>Var1</th><th scope=col>Freq</th></tr>\n",
       "\t<tr><th scope=col>&lt;fct&gt;</th><th scope=col>&lt;int&gt;</th></tr>\n",
       "</thead>\n",
       "<tbody>\n",
       "\t<tr><td>chr1 </td><td>20521</td></tr>\n",
       "\t<tr><td>chr10</td><td>10290</td></tr>\n",
       "\t<tr><td>chr11</td><td>10703</td></tr>\n",
       "\t<tr><td>chr12</td><td>10775</td></tr>\n",
       "\t<tr><td>chr13</td><td> 5137</td></tr>\n",
       "\t<tr><td>chr14</td><td> 6729</td></tr>\n",
       "\t<tr><td>chr15</td><td> 7535</td></tr>\n",
       "\t<tr><td>chr16</td><td> 7385</td></tr>\n",
       "\t<tr><td>chr17</td><td>10243</td></tr>\n",
       "\t<tr><td>chr18</td><td> 4234</td></tr>\n",
       "\t<tr><td>chr19</td><td> 8698</td></tr>\n",
       "\t<tr><td>chr2 </td><td>16107</td></tr>\n",
       "\t<tr><td>chr20</td><td> 5349</td></tr>\n",
       "\t<tr><td>chr21</td><td> 2745</td></tr>\n",
       "\t<tr><td>chr22</td><td> 4441</td></tr>\n",
       "\t<tr><td>chr3 </td><td>13753</td></tr>\n",
       "\t<tr><td>chr4 </td><td>10068</td></tr>\n",
       "\t<tr><td>chr5 </td><td>11456</td></tr>\n",
       "\t<tr><td>chr6 </td><td>11426</td></tr>\n",
       "\t<tr><td>chr7 </td><td>11372</td></tr>\n",
       "\t<tr><td>chr8 </td><td> 8956</td></tr>\n",
       "\t<tr><td>chr9 </td><td> 8674</td></tr>\n",
       "\t<tr><td>chrX </td><td> 6802</td></tr>\n",
       "\t<tr><td>chrY </td><td>  168</td></tr>\n",
       "</tbody>\n",
       "</table>\n"
      ],
      "text/latex": [
       "A data.frame: 24 × 2\n",
       "\\begin{tabular}{ll}\n",
       " Var1 & Freq\\\\\n",
       " <fct> & <int>\\\\\n",
       "\\hline\n",
       "\t chr1  & 20521\\\\\n",
       "\t chr10 & 10290\\\\\n",
       "\t chr11 & 10703\\\\\n",
       "\t chr12 & 10775\\\\\n",
       "\t chr13 &  5137\\\\\n",
       "\t chr14 &  6729\\\\\n",
       "\t chr15 &  7535\\\\\n",
       "\t chr16 &  7385\\\\\n",
       "\t chr17 & 10243\\\\\n",
       "\t chr18 &  4234\\\\\n",
       "\t chr19 &  8698\\\\\n",
       "\t chr2  & 16107\\\\\n",
       "\t chr20 &  5349\\\\\n",
       "\t chr21 &  2745\\\\\n",
       "\t chr22 &  4441\\\\\n",
       "\t chr3  & 13753\\\\\n",
       "\t chr4  & 10068\\\\\n",
       "\t chr5  & 11456\\\\\n",
       "\t chr6  & 11426\\\\\n",
       "\t chr7  & 11372\\\\\n",
       "\t chr8  &  8956\\\\\n",
       "\t chr9  &  8674\\\\\n",
       "\t chrX  &  6802\\\\\n",
       "\t chrY  &   168\\\\\n",
       "\\end{tabular}\n"
      ],
      "text/markdown": [
       "\n",
       "A data.frame: 24 × 2\n",
       "\n",
       "| Var1 &lt;fct&gt; | Freq &lt;int&gt; |\n",
       "|---|---|\n",
       "| chr1  | 20521 |\n",
       "| chr10 | 10290 |\n",
       "| chr11 | 10703 |\n",
       "| chr12 | 10775 |\n",
       "| chr13 |  5137 |\n",
       "| chr14 |  6729 |\n",
       "| chr15 |  7535 |\n",
       "| chr16 |  7385 |\n",
       "| chr17 | 10243 |\n",
       "| chr18 |  4234 |\n",
       "| chr19 |  8698 |\n",
       "| chr2  | 16107 |\n",
       "| chr20 |  5349 |\n",
       "| chr21 |  2745 |\n",
       "| chr22 |  4441 |\n",
       "| chr3  | 13753 |\n",
       "| chr4  | 10068 |\n",
       "| chr5  | 11456 |\n",
       "| chr6  | 11426 |\n",
       "| chr7  | 11372 |\n",
       "| chr8  |  8956 |\n",
       "| chr9  |  8674 |\n",
       "| chrX  |  6802 |\n",
       "| chrY  |   168 |\n",
       "\n"
      ],
      "text/plain": [
       "   Var1  Freq \n",
       "1  chr1  20521\n",
       "2  chr10 10290\n",
       "3  chr11 10703\n",
       "4  chr12 10775\n",
       "5  chr13  5137\n",
       "6  chr14  6729\n",
       "7  chr15  7535\n",
       "8  chr16  7385\n",
       "9  chr17 10243\n",
       "10 chr18  4234\n",
       "11 chr19  8698\n",
       "12 chr2  16107\n",
       "13 chr20  5349\n",
       "14 chr21  2745\n",
       "15 chr22  4441\n",
       "16 chr3  13753\n",
       "17 chr4  10068\n",
       "18 chr5  11456\n",
       "19 chr6  11426\n",
       "20 chr7  11372\n",
       "21 chr8   8956\n",
       "22 chr9   8674\n",
       "23 chrX   6802\n",
       "24 chrY    168"
      ]
     },
     "metadata": {},
     "output_type": "display_data"
    }
   ],
   "source": [
    "as.data.frame(table(gene_bidir_tpm_intragenic_C$chrom))"
   ]
  },
  {
   "cell_type": "markdown",
   "metadata": {},
   "source": [
    "# Session information"
   ]
  },
  {
   "cell_type": "code",
   "execution_count": 66,
   "metadata": {},
   "outputs": [
    {
     "data": {
      "text/plain": [
       "R version 3.6.0 (2019-04-26)\n",
       "Platform: x86_64-redhat-linux-gnu (64-bit)\n",
       "Running under: CentOS Linux 7 (Core)\n",
       "\n",
       "Matrix products: default\n",
       "BLAS/LAPACK: /usr/lib64/R/lib/libRblas.so\n",
       "\n",
       "locale:\n",
       " [1] LC_CTYPE=en_US.UTF-8       LC_NUMERIC=C              \n",
       " [3] LC_TIME=en_US.UTF-8        LC_COLLATE=en_US.UTF-8    \n",
       " [5] LC_MONETARY=en_US.UTF-8    LC_MESSAGES=en_US.UTF-8   \n",
       " [7] LC_PAPER=en_US.UTF-8       LC_NAME=C                 \n",
       " [9] LC_ADDRESS=C               LC_TELEPHONE=C            \n",
       "[11] LC_MEASUREMENT=en_US.UTF-8 LC_IDENTIFICATION=C       \n",
       "\n",
       "attached base packages:\n",
       "[1] stats     graphics  grDevices utils     datasets  methods   base     \n",
       "\n",
       "other attached packages:\n",
       "[1] data.table_1.14.2\n",
       "\n",
       "loaded via a namespace (and not attached):\n",
       " [1] fansi_1.0.3       crayon_1.5.1      digest_0.6.29     utf8_1.2.2       \n",
       " [5] R.methodsS3_1.8.2 IRdisplay_1.1     repr_1.1.4        lifecycle_1.0.3  \n",
       " [9] jsonlite_1.8.0    evaluate_0.16     pillar_1.8.1      rlang_1.0.6      \n",
       "[13] cli_3.4.1         uuid_1.1-0        R.oo_1.25.0       R.utils_2.12.0   \n",
       "[17] vctrs_0.5.0       IRkernel_1.3.2    tools_3.6.0       glue_1.6.2       \n",
       "[21] fastmap_1.1.0     compiler_3.6.0    base64enc_0.1-3   pbdZMQ_0.3-7     \n",
       "[25] htmltools_0.5.2  "
      ]
     },
     "metadata": {},
     "output_type": "display_data"
    }
   ],
   "source": [
    "sessionInfo()"
   ]
  }
 ],
 "metadata": {
  "kernelspec": {
   "display_name": "R",
   "language": "R",
   "name": "ir"
  },
  "language_info": {
   "codemirror_mode": "r",
   "file_extension": ".r",
   "mimetype": "text/x-r-source",
   "name": "R",
   "pygments_lexer": "r",
   "version": "4.4.0"
  },
  "toc": {
   "base_numbering": 1,
   "nav_menu": {},
   "number_sections": true,
   "sideBar": true,
   "skip_h1_title": false,
   "title_cell": "Table of Contents",
   "title_sidebar": "Contents",
   "toc_cell": false,
   "toc_position": {
    "height": "calc(100% - 180px)",
    "left": "10px",
    "top": "150px",
    "width": "283px"
   },
   "toc_section_display": true,
   "toc_window_display": true
  }
 },
 "nbformat": 4,
 "nbformat_minor": 2
}
