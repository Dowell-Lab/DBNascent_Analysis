{
 "cells": [
  {
   "cell_type": "markdown",
   "metadata": {},
   "source": [
    "# Load libraries"
   ]
  },
  {
   "cell_type": "code",
   "execution_count": 1,
   "metadata": {},
   "outputs": [
    {
     "name": "stderr",
     "output_type": "stream",
     "text": [
      "\n",
      "Attaching package: ‘dplyr’\n",
      "\n",
      "\n",
      "The following objects are masked from ‘package:stats’:\n",
      "\n",
      "    filter, lag\n",
      "\n",
      "\n",
      "The following objects are masked from ‘package:base’:\n",
      "\n",
      "    intersect, setdiff, setequal, union\n",
      "\n",
      "\n",
      "\n",
      "Attaching package: ‘data.table’\n",
      "\n",
      "\n",
      "The following objects are masked from ‘package:dplyr’:\n",
      "\n",
      "    between, first, last\n",
      "\n",
      "\n"
     ]
    }
   ],
   "source": [
    "library(dplyr) \n",
    "library(tidyr)\n",
    "library(data.table)"
   ]
  },
  {
   "cell_type": "markdown",
   "metadata": {},
   "source": [
    "# Load data\n",
    "\n"
   ]
  },
  {
   "cell_type": "markdown",
   "metadata": {},
   "source": [
    "## Gene annotations\n",
    "\n",
    "### Full length transcripts"
   ]
  },
  {
   "cell_type": "code",
   "execution_count": 2,
   "metadata": {},
   "outputs": [
    {
     "data": {
      "text/html": [
       "<table class=\"dataframe\">\n",
       "<caption>A data.table: 6 × 9</caption>\n",
       "<thead>\n",
       "\t<tr><th scope=col>V1</th><th scope=col>V2</th><th scope=col>V3</th><th scope=col>V4</th><th scope=col>V5</th><th scope=col>V6</th><th scope=col>V7</th><th scope=col>V8</th><th scope=col>V9</th></tr>\n",
       "\t<tr><th scope=col>&lt;chr&gt;</th><th scope=col>&lt;chr&gt;</th><th scope=col>&lt;chr&gt;</th><th scope=col>&lt;int&gt;</th><th scope=col>&lt;int&gt;</th><th scope=col>&lt;int&gt;</th><th scope=col>&lt;chr&gt;</th><th scope=col>&lt;chr&gt;</th><th scope=col>&lt;chr&gt;</th></tr>\n",
       "</thead>\n",
       "<tbody>\n",
       "\t<tr><td>chr1</td><td>hg38_refseq</td><td>gene_length</td><td>100038095</td><td>100083373</td><td>0</td><td>+</td><td>.</td><td>gene_id \"MFSD14A\"; transcript_id \"NM_033055\"  </td></tr>\n",
       "\t<tr><td>chr1</td><td>hg38_refseq</td><td>gene_length</td><td>100083570</td><td>100132930</td><td>0</td><td>-</td><td>.</td><td>gene_id \"SASS6\"; transcript_id \"NM_194292\"    </td></tr>\n",
       "\t<tr><td>chr1</td><td>hg38_refseq</td><td>gene_length</td><td>100133150</td><td>100150498</td><td>0</td><td>+</td><td>.</td><td>gene_id \"TRMT13\"; transcript_id \"NR_135078\"   </td></tr>\n",
       "\t<tr><td>chr1</td><td>hg38_refseq</td><td>gene_length</td><td>100148448</td><td>100178273</td><td>0</td><td>-</td><td>.</td><td>gene_id \"LRRC39\"; transcript_id \"NM_001256385\"</td></tr>\n",
       "\t<tr><td>chr1</td><td>hg38_refseq</td><td>gene_length</td><td>100186919</td><td>100249834</td><td>0</td><td>-</td><td>.</td><td>gene_id \"DBT\"; transcript_id \"NM_001918\"      </td></tr>\n",
       "\t<tr><td>chr1</td><td>hg38_refseq</td><td>gene_length</td><td>100264742</td><td>100266174</td><td>0</td><td>-</td><td>.</td><td>gene_id \"RTCA-AS1\"; transcript_id \"NR_110434\" </td></tr>\n",
       "</tbody>\n",
       "</table>\n"
      ],
      "text/latex": [
       "A data.table: 6 × 9\n",
       "\\begin{tabular}{lllllllll}\n",
       " V1 & V2 & V3 & V4 & V5 & V6 & V7 & V8 & V9\\\\\n",
       " <chr> & <chr> & <chr> & <int> & <int> & <int> & <chr> & <chr> & <chr>\\\\\n",
       "\\hline\n",
       "\t chr1 & hg38\\_refseq & gene\\_length & 100038095 & 100083373 & 0 & + & . & gene\\_id \"MFSD14A\"; transcript\\_id \"NM\\_033055\"  \\\\\n",
       "\t chr1 & hg38\\_refseq & gene\\_length & 100083570 & 100132930 & 0 & - & . & gene\\_id \"SASS6\"; transcript\\_id \"NM\\_194292\"    \\\\\n",
       "\t chr1 & hg38\\_refseq & gene\\_length & 100133150 & 100150498 & 0 & + & . & gene\\_id \"TRMT13\"; transcript\\_id \"NR\\_135078\"   \\\\\n",
       "\t chr1 & hg38\\_refseq & gene\\_length & 100148448 & 100178273 & 0 & - & . & gene\\_id \"LRRC39\"; transcript\\_id \"NM\\_001256385\"\\\\\n",
       "\t chr1 & hg38\\_refseq & gene\\_length & 100186919 & 100249834 & 0 & - & . & gene\\_id \"DBT\"; transcript\\_id \"NM\\_001918\"      \\\\\n",
       "\t chr1 & hg38\\_refseq & gene\\_length & 100264742 & 100266174 & 0 & - & . & gene\\_id \"RTCA-AS1\"; transcript\\_id \"NR\\_110434\" \\\\\n",
       "\\end{tabular}\n"
      ],
      "text/markdown": [
       "\n",
       "A data.table: 6 × 9\n",
       "\n",
       "| V1 &lt;chr&gt; | V2 &lt;chr&gt; | V3 &lt;chr&gt; | V4 &lt;int&gt; | V5 &lt;int&gt; | V6 &lt;int&gt; | V7 &lt;chr&gt; | V8 &lt;chr&gt; | V9 &lt;chr&gt; |\n",
       "|---|---|---|---|---|---|---|---|---|\n",
       "| chr1 | hg38_refseq | gene_length | 100038095 | 100083373 | 0 | + | . | gene_id \"MFSD14A\"; transcript_id \"NM_033055\"   |\n",
       "| chr1 | hg38_refseq | gene_length | 100083570 | 100132930 | 0 | - | . | gene_id \"SASS6\"; transcript_id \"NM_194292\"     |\n",
       "| chr1 | hg38_refseq | gene_length | 100133150 | 100150498 | 0 | + | . | gene_id \"TRMT13\"; transcript_id \"NR_135078\"    |\n",
       "| chr1 | hg38_refseq | gene_length | 100148448 | 100178273 | 0 | - | . | gene_id \"LRRC39\"; transcript_id \"NM_001256385\" |\n",
       "| chr1 | hg38_refseq | gene_length | 100186919 | 100249834 | 0 | - | . | gene_id \"DBT\"; transcript_id \"NM_001918\"       |\n",
       "| chr1 | hg38_refseq | gene_length | 100264742 | 100266174 | 0 | - | . | gene_id \"RTCA-AS1\"; transcript_id \"NR_110434\"  |\n",
       "\n"
      ],
      "text/plain": [
       "  V1   V2          V3          V4        V5        V6 V7 V8\n",
       "1 chr1 hg38_refseq gene_length 100038095 100083373 0  +  . \n",
       "2 chr1 hg38_refseq gene_length 100083570 100132930 0  -  . \n",
       "3 chr1 hg38_refseq gene_length 100133150 100150498 0  +  . \n",
       "4 chr1 hg38_refseq gene_length 100148448 100178273 0  -  . \n",
       "5 chr1 hg38_refseq gene_length 100186919 100249834 0  -  . \n",
       "6 chr1 hg38_refseq gene_length 100264742 100266174 0  -  . \n",
       "  V9                                            \n",
       "1 gene_id \"MFSD14A\"; transcript_id \"NM_033055\"  \n",
       "2 gene_id \"SASS6\"; transcript_id \"NM_194292\"    \n",
       "3 gene_id \"TRMT13\"; transcript_id \"NR_135078\"   \n",
       "4 gene_id \"LRRC39\"; transcript_id \"NM_001256385\"\n",
       "5 gene_id \"DBT\"; transcript_id \"NM_001918\"      \n",
       "6 gene_id \"RTCA-AS1\"; transcript_id \"NR_110434\" "
      ]
     },
     "metadata": {},
     "output_type": "display_data"
    }
   ],
   "source": [
    "hg38_refseq_gtf <- data.table::fread('/scratch/Shares/dowell/dbnascent/pipeline_assets/Bidirectional-Flow/assets/hg38_refseq_diff53prime.gtf',\n",
    "                              sep='\\t')\n",
    "head(hg38_refseq_gtf)"
   ]
  },
  {
   "cell_type": "code",
   "execution_count": 3,
   "metadata": {},
   "outputs": [
    {
     "data": {
      "text/html": [
       "<table class=\"dataframe\">\n",
       "<caption>A data.table: 6 × 5</caption>\n",
       "<thead>\n",
       "\t<tr><th scope=col>chromosome</th><th scope=col>start</th><th scope=col>end</th><th scope=col>strand</th><th scope=col>feature_id</th></tr>\n",
       "\t<tr><th scope=col>&lt;chr&gt;</th><th scope=col>&lt;int&gt;</th><th scope=col>&lt;int&gt;</th><th scope=col>&lt;chr&gt;</th><th scope=col>&lt;chr&gt;</th></tr>\n",
       "</thead>\n",
       "<tbody>\n",
       "\t<tr><td>chr1</td><td>100038095</td><td>100083373</td><td>+</td><td>gene_id \"MFSD14A\"; transcript_id \"NM_033055\"  </td></tr>\n",
       "\t<tr><td>chr1</td><td>100083570</td><td>100132930</td><td>-</td><td>gene_id \"SASS6\"; transcript_id \"NM_194292\"    </td></tr>\n",
       "\t<tr><td>chr1</td><td>100133150</td><td>100150498</td><td>+</td><td>gene_id \"TRMT13\"; transcript_id \"NR_135078\"   </td></tr>\n",
       "\t<tr><td>chr1</td><td>100148448</td><td>100178273</td><td>-</td><td>gene_id \"LRRC39\"; transcript_id \"NM_001256385\"</td></tr>\n",
       "\t<tr><td>chr1</td><td>100186919</td><td>100249834</td><td>-</td><td>gene_id \"DBT\"; transcript_id \"NM_001918\"      </td></tr>\n",
       "\t<tr><td>chr1</td><td>100264742</td><td>100266174</td><td>-</td><td>gene_id \"RTCA-AS1\"; transcript_id \"NR_110434\" </td></tr>\n",
       "</tbody>\n",
       "</table>\n"
      ],
      "text/latex": [
       "A data.table: 6 × 5\n",
       "\\begin{tabular}{lllll}\n",
       " chromosome & start & end & strand & feature\\_id\\\\\n",
       " <chr> & <int> & <int> & <chr> & <chr>\\\\\n",
       "\\hline\n",
       "\t chr1 & 100038095 & 100083373 & + & gene\\_id \"MFSD14A\"; transcript\\_id \"NM\\_033055\"  \\\\\n",
       "\t chr1 & 100083570 & 100132930 & - & gene\\_id \"SASS6\"; transcript\\_id \"NM\\_194292\"    \\\\\n",
       "\t chr1 & 100133150 & 100150498 & + & gene\\_id \"TRMT13\"; transcript\\_id \"NR\\_135078\"   \\\\\n",
       "\t chr1 & 100148448 & 100178273 & - & gene\\_id \"LRRC39\"; transcript\\_id \"NM\\_001256385\"\\\\\n",
       "\t chr1 & 100186919 & 100249834 & - & gene\\_id \"DBT\"; transcript\\_id \"NM\\_001918\"      \\\\\n",
       "\t chr1 & 100264742 & 100266174 & - & gene\\_id \"RTCA-AS1\"; transcript\\_id \"NR\\_110434\" \\\\\n",
       "\\end{tabular}\n"
      ],
      "text/markdown": [
       "\n",
       "A data.table: 6 × 5\n",
       "\n",
       "| chromosome &lt;chr&gt; | start &lt;int&gt; | end &lt;int&gt; | strand &lt;chr&gt; | feature_id &lt;chr&gt; |\n",
       "|---|---|---|---|---|\n",
       "| chr1 | 100038095 | 100083373 | + | gene_id \"MFSD14A\"; transcript_id \"NM_033055\"   |\n",
       "| chr1 | 100083570 | 100132930 | - | gene_id \"SASS6\"; transcript_id \"NM_194292\"     |\n",
       "| chr1 | 100133150 | 100150498 | + | gene_id \"TRMT13\"; transcript_id \"NR_135078\"    |\n",
       "| chr1 | 100148448 | 100178273 | - | gene_id \"LRRC39\"; transcript_id \"NM_001256385\" |\n",
       "| chr1 | 100186919 | 100249834 | - | gene_id \"DBT\"; transcript_id \"NM_001918\"       |\n",
       "| chr1 | 100264742 | 100266174 | - | gene_id \"RTCA-AS1\"; transcript_id \"NR_110434\"  |\n",
       "\n"
      ],
      "text/plain": [
       "  chromosome start     end       strand\n",
       "1 chr1       100038095 100083373 +     \n",
       "2 chr1       100083570 100132930 -     \n",
       "3 chr1       100133150 100150498 +     \n",
       "4 chr1       100148448 100178273 -     \n",
       "5 chr1       100186919 100249834 -     \n",
       "6 chr1       100264742 100266174 -     \n",
       "  feature_id                                    \n",
       "1 gene_id \"MFSD14A\"; transcript_id \"NM_033055\"  \n",
       "2 gene_id \"SASS6\"; transcript_id \"NM_194292\"    \n",
       "3 gene_id \"TRMT13\"; transcript_id \"NR_135078\"   \n",
       "4 gene_id \"LRRC39\"; transcript_id \"NM_001256385\"\n",
       "5 gene_id \"DBT\"; transcript_id \"NM_001918\"      \n",
       "6 gene_id \"RTCA-AS1\"; transcript_id \"NR_110434\" "
      ]
     },
     "metadata": {},
     "output_type": "display_data"
    }
   ],
   "source": [
    "hg38_refseq <- hg38_refseq_gtf[,c(1,4,5,7,9)]\n",
    "names(hg38_refseq) <- c('chromosome','start','end','strand','feature_id')\n",
    "head(hg38_refseq)"
   ]
  },
  {
   "cell_type": "markdown",
   "metadata": {},
   "source": [
    "### 5' truncated"
   ]
  },
  {
   "cell_type": "code",
   "execution_count": 4,
   "metadata": {},
   "outputs": [
    {
     "data": {
      "text/html": [
       "<table class=\"dataframe\">\n",
       "<caption>A data.table: 6 × 9</caption>\n",
       "<thead>\n",
       "\t<tr><th scope=col>V1</th><th scope=col>V2</th><th scope=col>V3</th><th scope=col>V4</th><th scope=col>V5</th><th scope=col>V6</th><th scope=col>V7</th><th scope=col>V8</th><th scope=col>V9</th></tr>\n",
       "\t<tr><th scope=col>&lt;chr&gt;</th><th scope=col>&lt;chr&gt;</th><th scope=col>&lt;chr&gt;</th><th scope=col>&lt;int&gt;</th><th scope=col>&lt;int&gt;</th><th scope=col>&lt;int&gt;</th><th scope=col>&lt;chr&gt;</th><th scope=col>&lt;chr&gt;</th><th scope=col>&lt;chr&gt;</th></tr>\n",
       "</thead>\n",
       "<tbody>\n",
       "\t<tr><td>chr1</td><td>hg38_refseq</td><td>gene_length</td><td>100038845</td><td>100083373</td><td>0</td><td>+</td><td>.</td><td>gene_id \"MFSD14A\"; transcript_id \"NM_033055\"  </td></tr>\n",
       "\t<tr><td>chr1</td><td>hg38_refseq</td><td>gene_length</td><td>100083570</td><td>100132180</td><td>0</td><td>-</td><td>.</td><td>gene_id \"SASS6\"; transcript_id \"NM_194292\"    </td></tr>\n",
       "\t<tr><td>chr1</td><td>hg38_refseq</td><td>gene_length</td><td>100133900</td><td>100150498</td><td>0</td><td>+</td><td>.</td><td>gene_id \"TRMT13\"; transcript_id \"NR_135078\"   </td></tr>\n",
       "\t<tr><td>chr1</td><td>hg38_refseq</td><td>gene_length</td><td>100148448</td><td>100177523</td><td>0</td><td>-</td><td>.</td><td>gene_id \"LRRC39\"; transcript_id \"NM_001256385\"</td></tr>\n",
       "\t<tr><td>chr1</td><td>hg38_refseq</td><td>gene_length</td><td>100186919</td><td>100249084</td><td>0</td><td>-</td><td>.</td><td>gene_id \"DBT\"; transcript_id \"NM_001918\"      </td></tr>\n",
       "\t<tr><td>chr1</td><td>hg38_refseq</td><td>gene_length</td><td>100264742</td><td>100265424</td><td>0</td><td>-</td><td>.</td><td>gene_id \"RTCA-AS1\"; transcript_id \"NR_110434\" </td></tr>\n",
       "</tbody>\n",
       "</table>\n"
      ],
      "text/latex": [
       "A data.table: 6 × 9\n",
       "\\begin{tabular}{lllllllll}\n",
       " V1 & V2 & V3 & V4 & V5 & V6 & V7 & V8 & V9\\\\\n",
       " <chr> & <chr> & <chr> & <int> & <int> & <int> & <chr> & <chr> & <chr>\\\\\n",
       "\\hline\n",
       "\t chr1 & hg38\\_refseq & gene\\_length & 100038845 & 100083373 & 0 & + & . & gene\\_id \"MFSD14A\"; transcript\\_id \"NM\\_033055\"  \\\\\n",
       "\t chr1 & hg38\\_refseq & gene\\_length & 100083570 & 100132180 & 0 & - & . & gene\\_id \"SASS6\"; transcript\\_id \"NM\\_194292\"    \\\\\n",
       "\t chr1 & hg38\\_refseq & gene\\_length & 100133900 & 100150498 & 0 & + & . & gene\\_id \"TRMT13\"; transcript\\_id \"NR\\_135078\"   \\\\\n",
       "\t chr1 & hg38\\_refseq & gene\\_length & 100148448 & 100177523 & 0 & - & . & gene\\_id \"LRRC39\"; transcript\\_id \"NM\\_001256385\"\\\\\n",
       "\t chr1 & hg38\\_refseq & gene\\_length & 100186919 & 100249084 & 0 & - & . & gene\\_id \"DBT\"; transcript\\_id \"NM\\_001918\"      \\\\\n",
       "\t chr1 & hg38\\_refseq & gene\\_length & 100264742 & 100265424 & 0 & - & . & gene\\_id \"RTCA-AS1\"; transcript\\_id \"NR\\_110434\" \\\\\n",
       "\\end{tabular}\n"
      ],
      "text/markdown": [
       "\n",
       "A data.table: 6 × 9\n",
       "\n",
       "| V1 &lt;chr&gt; | V2 &lt;chr&gt; | V3 &lt;chr&gt; | V4 &lt;int&gt; | V5 &lt;int&gt; | V6 &lt;int&gt; | V7 &lt;chr&gt; | V8 &lt;chr&gt; | V9 &lt;chr&gt; |\n",
       "|---|---|---|---|---|---|---|---|---|\n",
       "| chr1 | hg38_refseq | gene_length | 100038845 | 100083373 | 0 | + | . | gene_id \"MFSD14A\"; transcript_id \"NM_033055\"   |\n",
       "| chr1 | hg38_refseq | gene_length | 100083570 | 100132180 | 0 | - | . | gene_id \"SASS6\"; transcript_id \"NM_194292\"     |\n",
       "| chr1 | hg38_refseq | gene_length | 100133900 | 100150498 | 0 | + | . | gene_id \"TRMT13\"; transcript_id \"NR_135078\"    |\n",
       "| chr1 | hg38_refseq | gene_length | 100148448 | 100177523 | 0 | - | . | gene_id \"LRRC39\"; transcript_id \"NM_001256385\" |\n",
       "| chr1 | hg38_refseq | gene_length | 100186919 | 100249084 | 0 | - | . | gene_id \"DBT\"; transcript_id \"NM_001918\"       |\n",
       "| chr1 | hg38_refseq | gene_length | 100264742 | 100265424 | 0 | - | . | gene_id \"RTCA-AS1\"; transcript_id \"NR_110434\"  |\n",
       "\n"
      ],
      "text/plain": [
       "  V1   V2          V3          V4        V5        V6 V7 V8\n",
       "1 chr1 hg38_refseq gene_length 100038845 100083373 0  +  . \n",
       "2 chr1 hg38_refseq gene_length 100083570 100132180 0  -  . \n",
       "3 chr1 hg38_refseq gene_length 100133900 100150498 0  +  . \n",
       "4 chr1 hg38_refseq gene_length 100148448 100177523 0  -  . \n",
       "5 chr1 hg38_refseq gene_length 100186919 100249084 0  -  . \n",
       "6 chr1 hg38_refseq gene_length 100264742 100265424 0  -  . \n",
       "  V9                                            \n",
       "1 gene_id \"MFSD14A\"; transcript_id \"NM_033055\"  \n",
       "2 gene_id \"SASS6\"; transcript_id \"NM_194292\"    \n",
       "3 gene_id \"TRMT13\"; transcript_id \"NR_135078\"   \n",
       "4 gene_id \"LRRC39\"; transcript_id \"NM_001256385\"\n",
       "5 gene_id \"DBT\"; transcript_id \"NM_001918\"      \n",
       "6 gene_id \"RTCA-AS1\"; transcript_id \"NR_110434\" "
      ]
     },
     "metadata": {},
     "output_type": "display_data"
    }
   ],
   "source": [
    "hg38_refseq_trunc_gtf <- data.table::fread('/scratch/Shares/dowell/dbnascent/pipeline_assets/Bidirectional-Flow/assets/hg38_refseq_diff53prime_5ptrunc.gtf',\n",
    "                              sep='\\t')\n",
    "head(hg38_refseq_trunc_gtf)"
   ]
  },
  {
   "cell_type": "code",
   "execution_count": 5,
   "metadata": {},
   "outputs": [
    {
     "data": {
      "text/html": [
       "<table class=\"dataframe\">\n",
       "<caption>A data.table: 6 × 5</caption>\n",
       "<thead>\n",
       "\t<tr><th scope=col>chromosome</th><th scope=col>start</th><th scope=col>end</th><th scope=col>strand</th><th scope=col>feature_id</th></tr>\n",
       "\t<tr><th scope=col>&lt;chr&gt;</th><th scope=col>&lt;int&gt;</th><th scope=col>&lt;int&gt;</th><th scope=col>&lt;chr&gt;</th><th scope=col>&lt;chr&gt;</th></tr>\n",
       "</thead>\n",
       "<tbody>\n",
       "\t<tr><td>chr1</td><td>100038845</td><td>100083373</td><td>+</td><td>gene_id \"MFSD14A\"; transcript_id \"NM_033055\"  </td></tr>\n",
       "\t<tr><td>chr1</td><td>100083570</td><td>100132180</td><td>-</td><td>gene_id \"SASS6\"; transcript_id \"NM_194292\"    </td></tr>\n",
       "\t<tr><td>chr1</td><td>100133900</td><td>100150498</td><td>+</td><td>gene_id \"TRMT13\"; transcript_id \"NR_135078\"   </td></tr>\n",
       "\t<tr><td>chr1</td><td>100148448</td><td>100177523</td><td>-</td><td>gene_id \"LRRC39\"; transcript_id \"NM_001256385\"</td></tr>\n",
       "\t<tr><td>chr1</td><td>100186919</td><td>100249084</td><td>-</td><td>gene_id \"DBT\"; transcript_id \"NM_001918\"      </td></tr>\n",
       "\t<tr><td>chr1</td><td>100264742</td><td>100265424</td><td>-</td><td>gene_id \"RTCA-AS1\"; transcript_id \"NR_110434\" </td></tr>\n",
       "</tbody>\n",
       "</table>\n"
      ],
      "text/latex": [
       "A data.table: 6 × 5\n",
       "\\begin{tabular}{lllll}\n",
       " chromosome & start & end & strand & feature\\_id\\\\\n",
       " <chr> & <int> & <int> & <chr> & <chr>\\\\\n",
       "\\hline\n",
       "\t chr1 & 100038845 & 100083373 & + & gene\\_id \"MFSD14A\"; transcript\\_id \"NM\\_033055\"  \\\\\n",
       "\t chr1 & 100083570 & 100132180 & - & gene\\_id \"SASS6\"; transcript\\_id \"NM\\_194292\"    \\\\\n",
       "\t chr1 & 100133900 & 100150498 & + & gene\\_id \"TRMT13\"; transcript\\_id \"NR\\_135078\"   \\\\\n",
       "\t chr1 & 100148448 & 100177523 & - & gene\\_id \"LRRC39\"; transcript\\_id \"NM\\_001256385\"\\\\\n",
       "\t chr1 & 100186919 & 100249084 & - & gene\\_id \"DBT\"; transcript\\_id \"NM\\_001918\"      \\\\\n",
       "\t chr1 & 100264742 & 100265424 & - & gene\\_id \"RTCA-AS1\"; transcript\\_id \"NR\\_110434\" \\\\\n",
       "\\end{tabular}\n"
      ],
      "text/markdown": [
       "\n",
       "A data.table: 6 × 5\n",
       "\n",
       "| chromosome &lt;chr&gt; | start &lt;int&gt; | end &lt;int&gt; | strand &lt;chr&gt; | feature_id &lt;chr&gt; |\n",
       "|---|---|---|---|---|\n",
       "| chr1 | 100038845 | 100083373 | + | gene_id \"MFSD14A\"; transcript_id \"NM_033055\"   |\n",
       "| chr1 | 100083570 | 100132180 | - | gene_id \"SASS6\"; transcript_id \"NM_194292\"     |\n",
       "| chr1 | 100133900 | 100150498 | + | gene_id \"TRMT13\"; transcript_id \"NR_135078\"    |\n",
       "| chr1 | 100148448 | 100177523 | - | gene_id \"LRRC39\"; transcript_id \"NM_001256385\" |\n",
       "| chr1 | 100186919 | 100249084 | - | gene_id \"DBT\"; transcript_id \"NM_001918\"       |\n",
       "| chr1 | 100264742 | 100265424 | - | gene_id \"RTCA-AS1\"; transcript_id \"NR_110434\"  |\n",
       "\n"
      ],
      "text/plain": [
       "  chromosome start     end       strand\n",
       "1 chr1       100038845 100083373 +     \n",
       "2 chr1       100083570 100132180 -     \n",
       "3 chr1       100133900 100150498 +     \n",
       "4 chr1       100148448 100177523 -     \n",
       "5 chr1       100186919 100249084 -     \n",
       "6 chr1       100264742 100265424 -     \n",
       "  feature_id                                    \n",
       "1 gene_id \"MFSD14A\"; transcript_id \"NM_033055\"  \n",
       "2 gene_id \"SASS6\"; transcript_id \"NM_194292\"    \n",
       "3 gene_id \"TRMT13\"; transcript_id \"NR_135078\"   \n",
       "4 gene_id \"LRRC39\"; transcript_id \"NM_001256385\"\n",
       "5 gene_id \"DBT\"; transcript_id \"NM_001918\"      \n",
       "6 gene_id \"RTCA-AS1\"; transcript_id \"NR_110434\" "
      ]
     },
     "metadata": {},
     "output_type": "display_data"
    }
   ],
   "source": [
    "hg38_refseq_trunc <- hg38_refseq_trunc_gtf[,c(1,4,5,7,9)]\n",
    "names(hg38_refseq_trunc) <- c('chromosome','start','end','strand','feature_id')\n",
    "head(hg38_refseq_trunc)"
   ]
  },
  {
   "cell_type": "markdown",
   "metadata": {},
   "source": [
    "## Counts"
   ]
  },
  {
   "cell_type": "markdown",
   "metadata": {},
   "source": [
    "### Get papers that pass QC filter"
   ]
  },
  {
   "cell_type": "code",
   "execution_count": 6,
   "metadata": {},
   "outputs": [
    {
     "data": {
      "text/html": [
       "<table class=\"dataframe\">\n",
       "<caption>A data.frame: 6 × 2</caption>\n",
       "<thead>\n",
       "\t<tr><th></th><th scope=col>identifier</th><th scope=col>srz</th></tr>\n",
       "\t<tr><th></th><th scope=col>&lt;fct&gt;</th><th scope=col>&lt;fct&gt;</th></tr>\n",
       "</thead>\n",
       "<tbody>\n",
       "\t<tr><th scope=row>1</th><td>Teppo2016genome</td><td>SRZ1950491</td></tr>\n",
       "\t<tr><th scope=row>2</th><td>Teppo2016genome</td><td>SRZ1950493</td></tr>\n",
       "\t<tr><th scope=row>3</th><td>Teppo2016genome</td><td>SRZ1950495</td></tr>\n",
       "\t<tr><th scope=row>4</th><td>Teppo2016genome</td><td>SRZ1950497</td></tr>\n",
       "\t<tr><th scope=row>5</th><td>Teppo2016genome</td><td>SRZ1950499</td></tr>\n",
       "\t<tr><th scope=row>6</th><td>Teppo2016genome</td><td>SRZ1950501</td></tr>\n",
       "</tbody>\n",
       "</table>\n"
      ],
      "text/latex": [
       "A data.frame: 6 × 2\n",
       "\\begin{tabular}{r|ll}\n",
       "  & identifier & srz\\\\\n",
       "  & <fct> & <fct>\\\\\n",
       "\\hline\n",
       "\t1 & Teppo2016genome & SRZ1950491\\\\\n",
       "\t2 & Teppo2016genome & SRZ1950493\\\\\n",
       "\t3 & Teppo2016genome & SRZ1950495\\\\\n",
       "\t4 & Teppo2016genome & SRZ1950497\\\\\n",
       "\t5 & Teppo2016genome & SRZ1950499\\\\\n",
       "\t6 & Teppo2016genome & SRZ1950501\\\\\n",
       "\\end{tabular}\n"
      ],
      "text/markdown": [
       "\n",
       "A data.frame: 6 × 2\n",
       "\n",
       "| <!--/--> | identifier &lt;fct&gt; | srz &lt;fct&gt; |\n",
       "|---|---|---|\n",
       "| 1 | Teppo2016genome | SRZ1950491 |\n",
       "| 2 | Teppo2016genome | SRZ1950493 |\n",
       "| 3 | Teppo2016genome | SRZ1950495 |\n",
       "| 4 | Teppo2016genome | SRZ1950497 |\n",
       "| 5 | Teppo2016genome | SRZ1950499 |\n",
       "| 6 | Teppo2016genome | SRZ1950501 |\n",
       "\n"
      ],
      "text/plain": [
       "  identifier      srz       \n",
       "1 Teppo2016genome SRZ1950491\n",
       "2 Teppo2016genome SRZ1950493\n",
       "3 Teppo2016genome SRZ1950495\n",
       "4 Teppo2016genome SRZ1950497\n",
       "5 Teppo2016genome SRZ1950499\n",
       "6 Teppo2016genome SRZ1950501"
      ]
     },
     "metadata": {},
     "output_type": "display_data"
    },
    {
     "data": {
      "text/html": [
       "<style>\n",
       ".list-inline {list-style: none; margin:0; padding: 0}\n",
       ".list-inline>li {display: inline-block}\n",
       ".list-inline>li:not(:last-child)::after {content: \"\\00b7\"; padding: 0 .5ex}\n",
       "</style>\n",
       "<ol class=list-inline><li>907</li><li>2</li></ol>\n"
      ],
      "text/latex": [
       "\\begin{enumerate*}\n",
       "\\item 907\n",
       "\\item 2\n",
       "\\end{enumerate*}\n"
      ],
      "text/markdown": [
       "1. 907\n",
       "2. 2\n",
       "\n",
       "\n"
      ],
      "text/plain": [
       "[1] 907   2"
      ]
     },
     "metadata": {},
     "output_type": "display_data"
    }
   ],
   "source": [
    "## get samples that pass the QC filters\n",
    "qc_data_hg38 <- read.csv('/Users/rusi2317/projects/meta_analysis_qc/hg38/processed_data/qc_filtered_samples/qc_filtered_hg38.csv',\n",
    "                          fill = TRUE, sep=',', header=TRUE)\n",
    "head(qc_data_hg38)\n",
    "dim(qc_data_hg38)"
   ]
  },
  {
   "cell_type": "markdown",
   "metadata": {},
   "source": [
    "### Get list of paths\n",
    "\n",
    "#### Genes"
   ]
  },
  {
   "cell_type": "code",
   "execution_count": 7,
   "metadata": {},
   "outputs": [
    {
     "data": {
      "text/html": [
       "101"
      ],
      "text/latex": [
       "101"
      ],
      "text/markdown": [
       "101"
      ],
      "text/plain": [
       "[1] 101"
      ]
     },
     "metadata": {},
     "output_type": "display_data"
    }
   ],
   "source": [
    "author_lists <- unique(qc_data_hg38$identifier)\n",
    "shares <- '/Shares/dbnascent/'\n",
    "featurecounts <- '/featurecounts_genes'\n",
    "\n",
    "author_path_lists <- paste0(shares, \n",
    "                            author_lists,\n",
    "                            featurecounts)\n",
    "length(author_path_lists)"
   ]
  },
  {
   "cell_type": "code",
   "execution_count": 8,
   "metadata": {},
   "outputs": [
    {
     "data": {
      "text/html": [
       "893"
      ],
      "text/latex": [
       "893"
      ],
      "text/markdown": [
       "893"
      ],
      "text/plain": [
       "[1] 893"
      ]
     },
     "metadata": {},
     "output_type": "display_data"
    },
    {
     "data": {
      "text/html": [
       "'character'"
      ],
      "text/latex": [
       "'character'"
      ],
      "text/markdown": [
       "'character'"
      ],
      "text/plain": [
       "[1] \"character\""
      ]
     },
     "metadata": {},
     "output_type": "display_data"
    }
   ],
   "source": [
    "extension <- '.sorted.stranded.gene_counts.txt'\n",
    "\n",
    "counts_paths <- unlist(lapply(author_path_lists, \n",
    "                              list.files, \n",
    "                              pattern=extension,\n",
    "                              full.names=TRUE))\n",
    "\n",
    "length(counts_paths)\n",
    "class(counts_paths)"
   ]
  },
  {
   "cell_type": "code",
   "execution_count": 9,
   "metadata": {},
   "outputs": [
    {
     "data": {
      "text/html": [
       "893"
      ],
      "text/latex": [
       "893"
      ],
      "text/markdown": [
       "893"
      ],
      "text/plain": [
       "[1] 893"
      ]
     },
     "metadata": {},
     "output_type": "display_data"
    },
    {
     "data": {
      "text/html": [
       "'character'"
      ],
      "text/latex": [
       "'character'"
      ],
      "text/markdown": [
       "'character'"
      ],
      "text/plain": [
       "[1] \"character\""
      ]
     },
     "metadata": {},
     "output_type": "display_data"
    }
   ],
   "source": [
    "trunc_extension <- '.sorted.stranded.5ptrunc_gene_counts.txt'\n",
    "\n",
    "trunc_counts_paths <- unlist(lapply(author_path_lists, \n",
    "                              list.files, \n",
    "                              pattern=trunc_extension,\n",
    "                              full.names=TRUE))\n",
    "\n",
    "length(trunc_counts_paths)\n",
    "class(trunc_counts_paths)"
   ]
  },
  {
   "cell_type": "markdown",
   "metadata": {},
   "source": [
    "#### Bidirectionals "
   ]
  },
  {
   "cell_type": "code",
   "execution_count": 10,
   "metadata": {},
   "outputs": [
    {
     "data": {
      "text/html": [
       "101"
      ],
      "text/latex": [
       "101"
      ],
      "text/markdown": [
       "101"
      ],
      "text/plain": [
       "[1] 101"
      ]
     },
     "metadata": {},
     "output_type": "display_data"
    }
   ],
   "source": [
    "featurecounts_bidir <- '/featurecounts_bidirs'\n",
    "\n",
    "author_path_lists_bidir <- paste0(shares, \n",
    "                            author_lists,\n",
    "                            featurecounts_bidir)\n",
    "length(author_path_lists_bidir)"
   ]
  },
  {
   "cell_type": "code",
   "execution_count": 11,
   "metadata": {},
   "outputs": [
    {
     "data": {
      "text/html": [
       "893"
      ],
      "text/latex": [
       "893"
      ],
      "text/markdown": [
       "893"
      ],
      "text/plain": [
       "[1] 893"
      ]
     },
     "metadata": {},
     "output_type": "display_data"
    },
    {
     "data": {
      "text/html": [
       "'character'"
      ],
      "text/latex": [
       "'character'"
      ],
      "text/markdown": [
       "'character'"
      ],
      "text/plain": [
       "[1] \"character\""
      ]
     },
     "metadata": {},
     "output_type": "display_data"
    }
   ],
   "source": [
    "extension_pos <- '.sorted.pos.bidir_counts.txt'\n",
    "\n",
    "counts_paths_pos <- unlist(lapply(author_path_lists_bidir, \n",
    "                              list.files, \n",
    "                              pattern=extension_pos,\n",
    "                              full.names=TRUE))\n",
    "\n",
    "length(counts_paths_pos)\n",
    "class(counts_paths_pos)"
   ]
  },
  {
   "cell_type": "code",
   "execution_count": 12,
   "metadata": {},
   "outputs": [
    {
     "data": {
      "text/html": [
       "893"
      ],
      "text/latex": [
       "893"
      ],
      "text/markdown": [
       "893"
      ],
      "text/plain": [
       "[1] 893"
      ]
     },
     "metadata": {},
     "output_type": "display_data"
    },
    {
     "data": {
      "text/html": [
       "'character'"
      ],
      "text/latex": [
       "'character'"
      ],
      "text/markdown": [
       "'character'"
      ],
      "text/plain": [
       "[1] \"character\""
      ]
     },
     "metadata": {},
     "output_type": "display_data"
    }
   ],
   "source": [
    "extension_neg <- '.sorted.neg.bidir_counts.txt'\n",
    "\n",
    "counts_paths_neg <- unlist(lapply(author_path_lists_bidir, \n",
    "                              list.files, \n",
    "                              pattern=extension_neg,\n",
    "                              full.names=TRUE))\n",
    "\n",
    "length(counts_paths_neg)\n",
    "class(counts_paths_neg)"
   ]
  },
  {
   "cell_type": "markdown",
   "metadata": {},
   "source": [
    "### Load counts\n",
    "\n",
    "#### Genes"
   ]
  },
  {
   "cell_type": "code",
   "execution_count": 13,
   "metadata": {},
   "outputs": [
    {
     "data": {
      "text/html": [
       "<table class=\"dataframe\">\n",
       "<caption>A data.table: 6 × 4</caption>\n",
       "<thead>\n",
       "\t<tr><th scope=col>GeneID</th><th scope=col>TranscriptID</th><th scope=col>Length</th><th scope=col>SRR4090100.sorted.sorted.bam</th></tr>\n",
       "\t<tr><th scope=col>&lt;chr&gt;</th><th scope=col>&lt;chr&gt;</th><th scope=col>&lt;int&gt;</th><th scope=col>&lt;int&gt;</th></tr>\n",
       "</thead>\n",
       "<tbody>\n",
       "\t<tr><td>MFSD14A </td><td>NM_033055   </td><td>45279</td><td>7085</td></tr>\n",
       "\t<tr><td>SASS6   </td><td>NM_194292   </td><td>49361</td><td>4815</td></tr>\n",
       "\t<tr><td>TRMT13  </td><td>NR_135078   </td><td>17349</td><td>2604</td></tr>\n",
       "\t<tr><td>LRRC39  </td><td>NM_001256385</td><td>29826</td><td>1953</td></tr>\n",
       "\t<tr><td>DBT     </td><td>NM_001918   </td><td>62916</td><td>4963</td></tr>\n",
       "\t<tr><td>RTCA-AS1</td><td>NR_110434   </td><td> 1433</td><td> 760</td></tr>\n",
       "</tbody>\n",
       "</table>\n"
      ],
      "text/latex": [
       "A data.table: 6 × 4\n",
       "\\begin{tabular}{llll}\n",
       " GeneID & TranscriptID & Length & SRR4090100.sorted.sorted.bam\\\\\n",
       " <chr> & <chr> & <int> & <int>\\\\\n",
       "\\hline\n",
       "\t MFSD14A  & NM\\_033055    & 45279 & 7085\\\\\n",
       "\t SASS6    & NM\\_194292    & 49361 & 4815\\\\\n",
       "\t TRMT13   & NR\\_135078    & 17349 & 2604\\\\\n",
       "\t LRRC39   & NM\\_001256385 & 29826 & 1953\\\\\n",
       "\t DBT      & NM\\_001918    & 62916 & 4963\\\\\n",
       "\t RTCA-AS1 & NR\\_110434    &  1433 &  760\\\\\n",
       "\\end{tabular}\n"
      ],
      "text/markdown": [
       "\n",
       "A data.table: 6 × 4\n",
       "\n",
       "| GeneID &lt;chr&gt; | TranscriptID &lt;chr&gt; | Length &lt;int&gt; | SRR4090100.sorted.sorted.bam &lt;int&gt; |\n",
       "|---|---|---|---|\n",
       "| MFSD14A  | NM_033055    | 45279 | 7085 |\n",
       "| SASS6    | NM_194292    | 49361 | 4815 |\n",
       "| TRMT13   | NR_135078    | 17349 | 2604 |\n",
       "| LRRC39   | NM_001256385 | 29826 | 1953 |\n",
       "| DBT      | NM_001918    | 62916 | 4963 |\n",
       "| RTCA-AS1 | NR_110434    |  1433 |  760 |\n",
       "\n"
      ],
      "text/plain": [
       "  GeneID   TranscriptID Length SRR4090100.sorted.sorted.bam\n",
       "1 MFSD14A  NM_033055    45279  7085                        \n",
       "2 SASS6    NM_194292    49361  4815                        \n",
       "3 TRMT13   NR_135078    17349  2604                        \n",
       "4 LRRC39   NM_001256385 29826  1953                        \n",
       "5 DBT      NM_001918    62916  4963                        \n",
       "6 RTCA-AS1 NR_110434     1433   760                        "
      ]
     },
     "metadata": {},
     "output_type": "display_data"
    },
    {
     "data": {
      "text/html": [
       "<style>\n",
       ".list-inline {list-style: none; margin:0; padding: 0}\n",
       ".list-inline>li {display: inline-block}\n",
       ".list-inline>li:not(:last-child)::after {content: \"\\00b7\"; padding: 0 .5ex}\n",
       "</style>\n",
       "<ol class=list-inline><li>41813</li><li>4</li></ol>\n"
      ],
      "text/latex": [
       "\\begin{enumerate*}\n",
       "\\item 41813\n",
       "\\item 4\n",
       "\\end{enumerate*}\n"
      ],
      "text/markdown": [
       "1. 41813\n",
       "2. 4\n",
       "\n",
       "\n"
      ],
      "text/plain": [
       "[1] 41813     4"
      ]
     },
     "metadata": {},
     "output_type": "display_data"
    }
   ],
   "source": [
    "example_counts <- data.table::fread('/Shares/dbnascent/Andrysik2017identification/featurecounts_genes/SRR4090100.sorted.unstranded.gene_counts.txt')\n",
    "head(example_counts)\n",
    "dim(example_counts)"
   ]
  },
  {
   "cell_type": "code",
   "execution_count": 14,
   "metadata": {},
   "outputs": [],
   "source": [
    "#load all counts excluding the metadata columns\n",
    "counts_DT <- lapply(counts_paths, \n",
    "                    data.table::fread, \n",
    "                    drop = c('GeneID', 'TranscriptID', 'Length')) \n",
    "\n",
    "#make sure the counts are from human annotations with 41813 transcripts\n",
    "counts_DT_hg38 <- counts_DT[sapply(counts_DT, function(x) nrow(x) == 41813)]\n",
    "                         "
   ]
  },
  {
   "cell_type": "code",
   "execution_count": 15,
   "metadata": {
    "scrolled": true
   },
   "outputs": [
    {
     "data": {
      "text/html": [
       "<table class=\"dataframe\">\n",
       "<caption>A data.table: 6 × 880</caption>\n",
       "<thead>\n",
       "\t<tr><th scope=col>SRZ1950491</th><th scope=col>SRZ1950493</th><th scope=col>SRZ1950495</th><th scope=col>SRZ1950497</th><th scope=col>SRZ1950499</th><th scope=col>SRZ1950501</th><th scope=col>SRZ1950503</th><th scope=col>SRZ1950505</th><th scope=col>SRZ1950507</th><th scope=col>SRZ1950509</th><th scope=col>⋯</th><th scope=col>SRR9833433</th><th scope=col>SRZ9833428</th><th scope=col>SRZ9833431</th><th scope=col>SRZ9833434</th><th scope=col>SRR11793825</th><th scope=col>SRR11793826</th><th scope=col>SRR11793827</th><th scope=col>SRR11793828</th><th scope=col>SRR11793829</th><th scope=col>SRR11793830</th></tr>\n",
       "\t<tr><th scope=col>&lt;int&gt;</th><th scope=col>&lt;int&gt;</th><th scope=col>&lt;int&gt;</th><th scope=col>&lt;int&gt;</th><th scope=col>&lt;int&gt;</th><th scope=col>&lt;int&gt;</th><th scope=col>&lt;int&gt;</th><th scope=col>&lt;int&gt;</th><th scope=col>&lt;int&gt;</th><th scope=col>&lt;int&gt;</th><th scope=col>⋯</th><th scope=col>&lt;int&gt;</th><th scope=col>&lt;int&gt;</th><th scope=col>&lt;int&gt;</th><th scope=col>&lt;int&gt;</th><th scope=col>&lt;int&gt;</th><th scope=col>&lt;int&gt;</th><th scope=col>&lt;int&gt;</th><th scope=col>&lt;int&gt;</th><th scope=col>&lt;int&gt;</th><th scope=col>&lt;int&gt;</th></tr>\n",
       "</thead>\n",
       "<tbody>\n",
       "\t<tr><td>1187</td><td>1277</td><td>996</td><td>1021</td><td>1284</td><td>1319</td><td>1147</td><td>1071</td><td>1287</td><td>1016</td><td>⋯</td><td>3760</td><td>5652</td><td>5888</td><td>3746</td><td>438</td><td>573</td><td>1949</td><td>1639</td><td>453</td><td>1476</td></tr>\n",
       "\t<tr><td>1088</td><td>1425</td><td>862</td><td> 929</td><td>1133</td><td>1182</td><td> 935</td><td> 890</td><td>1221</td><td>1003</td><td>⋯</td><td> 423</td><td>2257</td><td> 882</td><td> 564</td><td>208</td><td>304</td><td>1067</td><td> 897</td><td>272</td><td> 760</td></tr>\n",
       "\t<tr><td> 496</td><td> 660</td><td>459</td><td> 582</td><td> 688</td><td> 821</td><td> 461</td><td> 520</td><td> 551</td><td> 511</td><td>⋯</td><td> 225</td><td> 736</td><td> 612</td><td> 532</td><td> 77</td><td>148</td><td> 459</td><td> 481</td><td> 56</td><td> 345</td></tr>\n",
       "\t<tr><td>  51</td><td>  60</td><td> 42</td><td>  47</td><td>  50</td><td>  63</td><td>  69</td><td>  53</td><td>  69</td><td>  53</td><td>⋯</td><td>  13</td><td> 120</td><td>  30</td><td>  22</td><td> 19</td><td> 31</td><td>  92</td><td>  79</td><td> 26</td><td>  78</td></tr>\n",
       "\t<tr><td> 832</td><td> 917</td><td>659</td><td> 594</td><td> 911</td><td> 809</td><td> 721</td><td> 707</td><td> 895</td><td> 699</td><td>⋯</td><td> 884</td><td>2979</td><td>1611</td><td>1729</td><td>254</td><td>353</td><td>1273</td><td>1257</td><td>765</td><td>1371</td></tr>\n",
       "\t<tr><td>  85</td><td> 107</td><td> 40</td><td>  39</td><td>  68</td><td>  60</td><td>  68</td><td>  91</td><td> 100</td><td>  78</td><td>⋯</td><td> 400</td><td> 115</td><td> 365</td><td> 230</td><td> 19</td><td> 33</td><td>  50</td><td>  64</td><td> 19</td><td>  40</td></tr>\n",
       "</tbody>\n",
       "</table>\n"
      ],
      "text/latex": [
       "A data.table: 6 × 880\n",
       "\\begin{tabular}{lllllllllllllllllllll}\n",
       " SRZ1950491 & SRZ1950493 & SRZ1950495 & SRZ1950497 & SRZ1950499 & SRZ1950501 & SRZ1950503 & SRZ1950505 & SRZ1950507 & SRZ1950509 & ⋯ & SRR9833433 & SRZ9833428 & SRZ9833431 & SRZ9833434 & SRR11793825 & SRR11793826 & SRR11793827 & SRR11793828 & SRR11793829 & SRR11793830\\\\\n",
       " <int> & <int> & <int> & <int> & <int> & <int> & <int> & <int> & <int> & <int> & ⋯ & <int> & <int> & <int> & <int> & <int> & <int> & <int> & <int> & <int> & <int>\\\\\n",
       "\\hline\n",
       "\t 1187 & 1277 & 996 & 1021 & 1284 & 1319 & 1147 & 1071 & 1287 & 1016 & ⋯ & 3760 & 5652 & 5888 & 3746 & 438 & 573 & 1949 & 1639 & 453 & 1476\\\\\n",
       "\t 1088 & 1425 & 862 &  929 & 1133 & 1182 &  935 &  890 & 1221 & 1003 & ⋯ &  423 & 2257 &  882 &  564 & 208 & 304 & 1067 &  897 & 272 &  760\\\\\n",
       "\t  496 &  660 & 459 &  582 &  688 &  821 &  461 &  520 &  551 &  511 & ⋯ &  225 &  736 &  612 &  532 &  77 & 148 &  459 &  481 &  56 &  345\\\\\n",
       "\t   51 &   60 &  42 &   47 &   50 &   63 &   69 &   53 &   69 &   53 & ⋯ &   13 &  120 &   30 &   22 &  19 &  31 &   92 &   79 &  26 &   78\\\\\n",
       "\t  832 &  917 & 659 &  594 &  911 &  809 &  721 &  707 &  895 &  699 & ⋯ &  884 & 2979 & 1611 & 1729 & 254 & 353 & 1273 & 1257 & 765 & 1371\\\\\n",
       "\t   85 &  107 &  40 &   39 &   68 &   60 &   68 &   91 &  100 &   78 & ⋯ &  400 &  115 &  365 &  230 &  19 &  33 &   50 &   64 &  19 &   40\\\\\n",
       "\\end{tabular}\n"
      ],
      "text/markdown": [
       "\n",
       "A data.table: 6 × 880\n",
       "\n",
       "| SRZ1950491 &lt;int&gt; | SRZ1950493 &lt;int&gt; | SRZ1950495 &lt;int&gt; | SRZ1950497 &lt;int&gt; | SRZ1950499 &lt;int&gt; | SRZ1950501 &lt;int&gt; | SRZ1950503 &lt;int&gt; | SRZ1950505 &lt;int&gt; | SRZ1950507 &lt;int&gt; | SRZ1950509 &lt;int&gt; | ⋯ ⋯ | SRR9833433 &lt;int&gt; | SRZ9833428 &lt;int&gt; | SRZ9833431 &lt;int&gt; | SRZ9833434 &lt;int&gt; | SRR11793825 &lt;int&gt; | SRR11793826 &lt;int&gt; | SRR11793827 &lt;int&gt; | SRR11793828 &lt;int&gt; | SRR11793829 &lt;int&gt; | SRR11793830 &lt;int&gt; |\n",
       "|---|---|---|---|---|---|---|---|---|---|---|---|---|---|---|---|---|---|---|---|---|\n",
       "| 1187 | 1277 | 996 | 1021 | 1284 | 1319 | 1147 | 1071 | 1287 | 1016 | ⋯ | 3760 | 5652 | 5888 | 3746 | 438 | 573 | 1949 | 1639 | 453 | 1476 |\n",
       "| 1088 | 1425 | 862 |  929 | 1133 | 1182 |  935 |  890 | 1221 | 1003 | ⋯ |  423 | 2257 |  882 |  564 | 208 | 304 | 1067 |  897 | 272 |  760 |\n",
       "|  496 |  660 | 459 |  582 |  688 |  821 |  461 |  520 |  551 |  511 | ⋯ |  225 |  736 |  612 |  532 |  77 | 148 |  459 |  481 |  56 |  345 |\n",
       "|   51 |   60 |  42 |   47 |   50 |   63 |   69 |   53 |   69 |   53 | ⋯ |   13 |  120 |   30 |   22 |  19 |  31 |   92 |   79 |  26 |   78 |\n",
       "|  832 |  917 | 659 |  594 |  911 |  809 |  721 |  707 |  895 |  699 | ⋯ |  884 | 2979 | 1611 | 1729 | 254 | 353 | 1273 | 1257 | 765 | 1371 |\n",
       "|   85 |  107 |  40 |   39 |   68 |   60 |   68 |   91 |  100 |   78 | ⋯ |  400 |  115 |  365 |  230 |  19 |  33 |   50 |   64 |  19 |   40 |\n",
       "\n"
      ],
      "text/plain": [
       "  SRZ1950491 SRZ1950493 SRZ1950495 SRZ1950497 SRZ1950499 SRZ1950501 SRZ1950503\n",
       "1 1187       1277       996        1021       1284       1319       1147      \n",
       "2 1088       1425       862         929       1133       1182        935      \n",
       "3  496        660       459         582        688        821        461      \n",
       "4   51         60        42          47         50         63         69      \n",
       "5  832        917       659         594        911        809        721      \n",
       "6   85        107        40          39         68         60         68      \n",
       "  SRZ1950505 SRZ1950507 SRZ1950509 ⋯ SRR9833433 SRZ9833428 SRZ9833431\n",
       "1 1071       1287       1016       ⋯ 3760       5652       5888      \n",
       "2  890       1221       1003       ⋯  423       2257        882      \n",
       "3  520        551        511       ⋯  225        736        612      \n",
       "4   53         69         53       ⋯   13        120         30      \n",
       "5  707        895        699       ⋯  884       2979       1611      \n",
       "6   91        100         78       ⋯  400        115        365      \n",
       "  SRZ9833434 SRR11793825 SRR11793826 SRR11793827 SRR11793828 SRR11793829\n",
       "1 3746       438         573         1949        1639        453        \n",
       "2  564       208         304         1067         897        272        \n",
       "3  532        77         148          459         481         56        \n",
       "4   22        19          31           92          79         26        \n",
       "5 1729       254         353         1273        1257        765        \n",
       "6  230        19          33           50          64         19        \n",
       "  SRR11793830\n",
       "1 1476       \n",
       "2  760       \n",
       "3  345       \n",
       "4   78       \n",
       "5 1371       \n",
       "6   40       "
      ]
     },
     "metadata": {},
     "output_type": "display_data"
    }
   ],
   "source": [
    "counts_DT_features_one <- dplyr::bind_cols(counts_DT_hg38)\n",
    "counts_DT_newnames <- setnames(counts_DT_features_one, names(counts_DT_features_one),\n",
    "                               as.character(lapply(strsplit(names(counts_DT_features_one), '\\\\.'), `[`, 1)))\n",
    "head(counts_DT_newnames)"
   ]
  },
  {
   "cell_type": "code",
   "execution_count": 16,
   "metadata": {},
   "outputs": [
    {
     "data": {
      "text/html": [
       "<table class=\"dataframe\">\n",
       "<caption>A data.table: 6 × 888</caption>\n",
       "<thead>\n",
       "\t<tr><th scope=col>chromosome</th><th scope=col>start</th><th scope=col>end</th><th scope=col>strand</th><th scope=col>feature_id</th><th scope=col>GeneID</th><th scope=col>TranscriptID</th><th scope=col>Length</th><th scope=col>SRZ1950491</th><th scope=col>SRZ1950493</th><th scope=col>⋯</th><th scope=col>SRR9833433</th><th scope=col>SRZ9833428</th><th scope=col>SRZ9833431</th><th scope=col>SRZ9833434</th><th scope=col>SRR11793825</th><th scope=col>SRR11793826</th><th scope=col>SRR11793827</th><th scope=col>SRR11793828</th><th scope=col>SRR11793829</th><th scope=col>SRR11793830</th></tr>\n",
       "\t<tr><th scope=col>&lt;chr&gt;</th><th scope=col>&lt;int&gt;</th><th scope=col>&lt;int&gt;</th><th scope=col>&lt;chr&gt;</th><th scope=col>&lt;chr&gt;</th><th scope=col>&lt;chr&gt;</th><th scope=col>&lt;chr&gt;</th><th scope=col>&lt;int&gt;</th><th scope=col>&lt;int&gt;</th><th scope=col>&lt;int&gt;</th><th scope=col>⋯</th><th scope=col>&lt;int&gt;</th><th scope=col>&lt;int&gt;</th><th scope=col>&lt;int&gt;</th><th scope=col>&lt;int&gt;</th><th scope=col>&lt;int&gt;</th><th scope=col>&lt;int&gt;</th><th scope=col>&lt;int&gt;</th><th scope=col>&lt;int&gt;</th><th scope=col>&lt;int&gt;</th><th scope=col>&lt;int&gt;</th></tr>\n",
       "</thead>\n",
       "<tbody>\n",
       "\t<tr><td>chr1</td><td>100038095</td><td>100083373</td><td>+</td><td>gene_id \"MFSD14A\"; transcript_id \"NM_033055\"  </td><td>MFSD14A </td><td>NM_033055   </td><td>45279</td><td>1187</td><td>1277</td><td>⋯</td><td>3760</td><td>5652</td><td>5888</td><td>3746</td><td>438</td><td>573</td><td>1949</td><td>1639</td><td>453</td><td>1476</td></tr>\n",
       "\t<tr><td>chr1</td><td>100083570</td><td>100132930</td><td>-</td><td>gene_id \"SASS6\"; transcript_id \"NM_194292\"    </td><td>SASS6   </td><td>NM_194292   </td><td>49361</td><td>1088</td><td>1425</td><td>⋯</td><td> 423</td><td>2257</td><td> 882</td><td> 564</td><td>208</td><td>304</td><td>1067</td><td> 897</td><td>272</td><td> 760</td></tr>\n",
       "\t<tr><td>chr1</td><td>100133150</td><td>100150498</td><td>+</td><td>gene_id \"TRMT13\"; transcript_id \"NR_135078\"   </td><td>TRMT13  </td><td>NR_135078   </td><td>17349</td><td> 496</td><td> 660</td><td>⋯</td><td> 225</td><td> 736</td><td> 612</td><td> 532</td><td> 77</td><td>148</td><td> 459</td><td> 481</td><td> 56</td><td> 345</td></tr>\n",
       "\t<tr><td>chr1</td><td>100148448</td><td>100178273</td><td>-</td><td>gene_id \"LRRC39\"; transcript_id \"NM_001256385\"</td><td>LRRC39  </td><td>NM_001256385</td><td>29826</td><td>  51</td><td>  60</td><td>⋯</td><td>  13</td><td> 120</td><td>  30</td><td>  22</td><td> 19</td><td> 31</td><td>  92</td><td>  79</td><td> 26</td><td>  78</td></tr>\n",
       "\t<tr><td>chr1</td><td>100186919</td><td>100249834</td><td>-</td><td>gene_id \"DBT\"; transcript_id \"NM_001918\"      </td><td>DBT     </td><td>NM_001918   </td><td>62916</td><td> 832</td><td> 917</td><td>⋯</td><td> 884</td><td>2979</td><td>1611</td><td>1729</td><td>254</td><td>353</td><td>1273</td><td>1257</td><td>765</td><td>1371</td></tr>\n",
       "\t<tr><td>chr1</td><td>100264742</td><td>100266174</td><td>-</td><td>gene_id \"RTCA-AS1\"; transcript_id \"NR_110434\" </td><td>RTCA-AS1</td><td>NR_110434   </td><td> 1433</td><td>  85</td><td> 107</td><td>⋯</td><td> 400</td><td> 115</td><td> 365</td><td> 230</td><td> 19</td><td> 33</td><td>  50</td><td>  64</td><td> 19</td><td>  40</td></tr>\n",
       "</tbody>\n",
       "</table>\n"
      ],
      "text/latex": [
       "A data.table: 6 × 888\n",
       "\\begin{tabular}{lllllllllllllllllllll}\n",
       " chromosome & start & end & strand & feature\\_id & GeneID & TranscriptID & Length & SRZ1950491 & SRZ1950493 & ⋯ & SRR9833433 & SRZ9833428 & SRZ9833431 & SRZ9833434 & SRR11793825 & SRR11793826 & SRR11793827 & SRR11793828 & SRR11793829 & SRR11793830\\\\\n",
       " <chr> & <int> & <int> & <chr> & <chr> & <chr> & <chr> & <int> & <int> & <int> & ⋯ & <int> & <int> & <int> & <int> & <int> & <int> & <int> & <int> & <int> & <int>\\\\\n",
       "\\hline\n",
       "\t chr1 & 100038095 & 100083373 & + & gene\\_id \"MFSD14A\"; transcript\\_id \"NM\\_033055\"   & MFSD14A  & NM\\_033055    & 45279 & 1187 & 1277 & ⋯ & 3760 & 5652 & 5888 & 3746 & 438 & 573 & 1949 & 1639 & 453 & 1476\\\\\n",
       "\t chr1 & 100083570 & 100132930 & - & gene\\_id \"SASS6\"; transcript\\_id \"NM\\_194292\"     & SASS6    & NM\\_194292    & 49361 & 1088 & 1425 & ⋯ &  423 & 2257 &  882 &  564 & 208 & 304 & 1067 &  897 & 272 &  760\\\\\n",
       "\t chr1 & 100133150 & 100150498 & + & gene\\_id \"TRMT13\"; transcript\\_id \"NR\\_135078\"    & TRMT13   & NR\\_135078    & 17349 &  496 &  660 & ⋯ &  225 &  736 &  612 &  532 &  77 & 148 &  459 &  481 &  56 &  345\\\\\n",
       "\t chr1 & 100148448 & 100178273 & - & gene\\_id \"LRRC39\"; transcript\\_id \"NM\\_001256385\" & LRRC39   & NM\\_001256385 & 29826 &   51 &   60 & ⋯ &   13 &  120 &   30 &   22 &  19 &  31 &   92 &   79 &  26 &   78\\\\\n",
       "\t chr1 & 100186919 & 100249834 & - & gene\\_id \"DBT\"; transcript\\_id \"NM\\_001918\"       & DBT      & NM\\_001918    & 62916 &  832 &  917 & ⋯ &  884 & 2979 & 1611 & 1729 & 254 & 353 & 1273 & 1257 & 765 & 1371\\\\\n",
       "\t chr1 & 100264742 & 100266174 & - & gene\\_id \"RTCA-AS1\"; transcript\\_id \"NR\\_110434\"  & RTCA-AS1 & NR\\_110434    &  1433 &   85 &  107 & ⋯ &  400 &  115 &  365 &  230 &  19 &  33 &   50 &   64 &  19 &   40\\\\\n",
       "\\end{tabular}\n"
      ],
      "text/markdown": [
       "\n",
       "A data.table: 6 × 888\n",
       "\n",
       "| chromosome &lt;chr&gt; | start &lt;int&gt; | end &lt;int&gt; | strand &lt;chr&gt; | feature_id &lt;chr&gt; | GeneID &lt;chr&gt; | TranscriptID &lt;chr&gt; | Length &lt;int&gt; | SRZ1950491 &lt;int&gt; | SRZ1950493 &lt;int&gt; | ⋯ ⋯ | SRR9833433 &lt;int&gt; | SRZ9833428 &lt;int&gt; | SRZ9833431 &lt;int&gt; | SRZ9833434 &lt;int&gt; | SRR11793825 &lt;int&gt; | SRR11793826 &lt;int&gt; | SRR11793827 &lt;int&gt; | SRR11793828 &lt;int&gt; | SRR11793829 &lt;int&gt; | SRR11793830 &lt;int&gt; |\n",
       "|---|---|---|---|---|---|---|---|---|---|---|---|---|---|---|---|---|---|---|---|---|\n",
       "| chr1 | 100038095 | 100083373 | + | gene_id \"MFSD14A\"; transcript_id \"NM_033055\"   | MFSD14A  | NM_033055    | 45279 | 1187 | 1277 | ⋯ | 3760 | 5652 | 5888 | 3746 | 438 | 573 | 1949 | 1639 | 453 | 1476 |\n",
       "| chr1 | 100083570 | 100132930 | - | gene_id \"SASS6\"; transcript_id \"NM_194292\"     | SASS6    | NM_194292    | 49361 | 1088 | 1425 | ⋯ |  423 | 2257 |  882 |  564 | 208 | 304 | 1067 |  897 | 272 |  760 |\n",
       "| chr1 | 100133150 | 100150498 | + | gene_id \"TRMT13\"; transcript_id \"NR_135078\"    | TRMT13   | NR_135078    | 17349 |  496 |  660 | ⋯ |  225 |  736 |  612 |  532 |  77 | 148 |  459 |  481 |  56 |  345 |\n",
       "| chr1 | 100148448 | 100178273 | - | gene_id \"LRRC39\"; transcript_id \"NM_001256385\" | LRRC39   | NM_001256385 | 29826 |   51 |   60 | ⋯ |   13 |  120 |   30 |   22 |  19 |  31 |   92 |   79 |  26 |   78 |\n",
       "| chr1 | 100186919 | 100249834 | - | gene_id \"DBT\"; transcript_id \"NM_001918\"       | DBT      | NM_001918    | 62916 |  832 |  917 | ⋯ |  884 | 2979 | 1611 | 1729 | 254 | 353 | 1273 | 1257 | 765 | 1371 |\n",
       "| chr1 | 100264742 | 100266174 | - | gene_id \"RTCA-AS1\"; transcript_id \"NR_110434\"  | RTCA-AS1 | NR_110434    |  1433 |   85 |  107 | ⋯ |  400 |  115 |  365 |  230 |  19 |  33 |   50 |   64 |  19 |   40 |\n",
       "\n"
      ],
      "text/plain": [
       "  chromosome start     end       strand\n",
       "1 chr1       100038095 100083373 +     \n",
       "2 chr1       100083570 100132930 -     \n",
       "3 chr1       100133150 100150498 +     \n",
       "4 chr1       100148448 100178273 -     \n",
       "5 chr1       100186919 100249834 -     \n",
       "6 chr1       100264742 100266174 -     \n",
       "  feature_id                                     GeneID   TranscriptID Length\n",
       "1 gene_id \"MFSD14A\"; transcript_id \"NM_033055\"   MFSD14A  NM_033055    45279 \n",
       "2 gene_id \"SASS6\"; transcript_id \"NM_194292\"     SASS6    NM_194292    49361 \n",
       "3 gene_id \"TRMT13\"; transcript_id \"NR_135078\"    TRMT13   NR_135078    17349 \n",
       "4 gene_id \"LRRC39\"; transcript_id \"NM_001256385\" LRRC39   NM_001256385 29826 \n",
       "5 gene_id \"DBT\"; transcript_id \"NM_001918\"       DBT      NM_001918    62916 \n",
       "6 gene_id \"RTCA-AS1\"; transcript_id \"NR_110434\"  RTCA-AS1 NR_110434     1433 \n",
       "  SRZ1950491 SRZ1950493 ⋯ SRR9833433 SRZ9833428 SRZ9833431 SRZ9833434\n",
       "1 1187       1277       ⋯ 3760       5652       5888       3746      \n",
       "2 1088       1425       ⋯  423       2257        882        564      \n",
       "3  496        660       ⋯  225        736        612        532      \n",
       "4   51         60       ⋯   13        120         30         22      \n",
       "5  832        917       ⋯  884       2979       1611       1729      \n",
       "6   85        107       ⋯  400        115        365        230      \n",
       "  SRR11793825 SRR11793826 SRR11793827 SRR11793828 SRR11793829 SRR11793830\n",
       "1 438         573         1949        1639        453         1476       \n",
       "2 208         304         1067         897        272          760       \n",
       "3  77         148          459         481         56          345       \n",
       "4  19          31           92          79         26           78       \n",
       "5 254         353         1273        1257        765         1371       \n",
       "6  19          33           50          64         19           40       "
      ]
     },
     "metadata": {},
     "output_type": "display_data"
    },
    {
     "data": {
      "text/html": [
       "<style>\n",
       ".list-inline {list-style: none; margin:0; padding: 0}\n",
       ".list-inline>li {display: inline-block}\n",
       ".list-inline>li:not(:last-child)::after {content: \"\\00b7\"; padding: 0 .5ex}\n",
       "</style>\n",
       "<ol class=list-inline><li>41813</li><li>888</li></ol>\n"
      ],
      "text/latex": [
       "\\begin{enumerate*}\n",
       "\\item 41813\n",
       "\\item 888\n",
       "\\end{enumerate*}\n"
      ],
      "text/markdown": [
       "1. 41813\n",
       "2. 888\n",
       "\n",
       "\n"
      ],
      "text/plain": [
       "[1] 41813   888"
      ]
     },
     "metadata": {},
     "output_type": "display_data"
    }
   ],
   "source": [
    "counts_DT_features <- cbind(hg38_refseq,\n",
    "                            example_counts[,c(1,2,3)], \n",
    "                            counts_DT_features_one)\n",
    "head(counts_DT_features)\n",
    "dim(counts_DT_features)"
   ]
  },
  {
   "cell_type": "code",
   "execution_count": 17,
   "metadata": {},
   "outputs": [
    {
     "data": {
      "text/html": [
       "<style>\n",
       ".list-inline {list-style: none; margin:0; padding: 0}\n",
       ".list-inline>li {display: inline-block}\n",
       ".list-inline>li:not(:last-child)::after {content: \"\\00b7\"; padding: 0 .5ex}\n",
       "</style>\n",
       "<ol class=list-inline><li>28237</li><li>888</li></ol>\n"
      ],
      "text/latex": [
       "\\begin{enumerate*}\n",
       "\\item 28237\n",
       "\\item 888\n",
       "\\end{enumerate*}\n"
      ],
      "text/markdown": [
       "1. 28237\n",
       "2. 888\n",
       "\n",
       "\n"
      ],
      "text/plain": [
       "[1] 28237   888"
      ]
     },
     "metadata": {},
     "output_type": "display_data"
    },
    {
     "data": {
      "text/html": [
       "<table class=\"dataframe\">\n",
       "<caption>A data.table: 6 × 888</caption>\n",
       "<thead>\n",
       "\t<tr><th scope=col>GeneID</th><th scope=col>chromosome</th><th scope=col>start</th><th scope=col>end</th><th scope=col>strand</th><th scope=col>feature_id</th><th scope=col>TranscriptID</th><th scope=col>Length</th><th scope=col>SRZ1950491</th><th scope=col>SRZ1950493</th><th scope=col>⋯</th><th scope=col>SRR9833433</th><th scope=col>SRZ9833428</th><th scope=col>SRZ9833431</th><th scope=col>SRZ9833434</th><th scope=col>SRR11793825</th><th scope=col>SRR11793826</th><th scope=col>SRR11793827</th><th scope=col>SRR11793828</th><th scope=col>SRR11793829</th><th scope=col>SRR11793830</th></tr>\n",
       "\t<tr><th scope=col>&lt;chr&gt;</th><th scope=col>&lt;chr&gt;</th><th scope=col>&lt;int&gt;</th><th scope=col>&lt;int&gt;</th><th scope=col>&lt;chr&gt;</th><th scope=col>&lt;chr&gt;</th><th scope=col>&lt;chr&gt;</th><th scope=col>&lt;int&gt;</th><th scope=col>&lt;int&gt;</th><th scope=col>&lt;int&gt;</th><th scope=col>⋯</th><th scope=col>&lt;int&gt;</th><th scope=col>&lt;int&gt;</th><th scope=col>&lt;int&gt;</th><th scope=col>&lt;int&gt;</th><th scope=col>&lt;int&gt;</th><th scope=col>&lt;int&gt;</th><th scope=col>&lt;int&gt;</th><th scope=col>&lt;int&gt;</th><th scope=col>&lt;int&gt;</th><th scope=col>&lt;int&gt;</th></tr>\n",
       "</thead>\n",
       "<tbody>\n",
       "\t<tr><td>ZZZ3  </td><td>chr1 </td><td> 77562416</td><td> 77682658</td><td>-</td><td>gene_id \"ZZZ3\"; transcript_id \"NM_015534\"     </td><td>NM_015534   </td><td>120243</td><td>3327</td><td>4046</td><td>⋯</td><td>1719</td><td>15138</td><td>3474</td><td>3910</td><td>613</td><td>862</td><td>3035</td><td>2741</td><td>636</td><td>2503</td></tr>\n",
       "\t<tr><td>ZZEF1 </td><td>chr17</td><td>  4004445</td><td>  4143030</td><td>-</td><td>gene_id \"ZZEF1\"; transcript_id \"NM_015113\"    </td><td>NM_015113   </td><td>138586</td><td>1963</td><td>2068</td><td>⋯</td><td>1380</td><td> 6963</td><td>2774</td><td>3190</td><td>545</td><td>715</td><td>2303</td><td>1906</td><td>649</td><td>1834</td></tr>\n",
       "\t<tr><td>ZYX   </td><td>chr7 </td><td>143381345</td><td>143391111</td><td>+</td><td>gene_id \"ZYX\"; transcript_id \"NM_001362783\"   </td><td>NM_001362783</td><td>  9767</td><td>  71</td><td>  42</td><td>⋯</td><td> 857</td><td> 3315</td><td>1185</td><td>2507</td><td>143</td><td>177</td><td> 363</td><td> 345</td><td>123</td><td> 287</td></tr>\n",
       "\t<tr><td>ZYG11B</td><td>chr1 </td><td> 52726453</td><td> 52827336</td><td>+</td><td>gene_id \"ZYG11B\"; transcript_id \"NM_024646\"   </td><td>NM_024646   </td><td>100884</td><td>1111</td><td>1087</td><td>⋯</td><td>2300</td><td> 3676</td><td>4196</td><td>1716</td><td>375</td><td>500</td><td>1563</td><td>1332</td><td>449</td><td>1318</td></tr>\n",
       "\t<tr><td>ZYG11A</td><td>chr1 </td><td> 52842760</td><td> 52894995</td><td>+</td><td>gene_id \"ZYG11A\"; transcript_id \"NM_001004339\"</td><td>NM_001004339</td><td> 52236</td><td>   6</td><td>   0</td><td>⋯</td><td> 632</td><td>  892</td><td>1056</td><td> 591</td><td>303</td><td>434</td><td>1354</td><td>1164</td><td>457</td><td>1239</td></tr>\n",
       "\t<tr><td>ZXDC  </td><td>chr3 </td><td>126458901</td><td>126475919</td><td>-</td><td>gene_id \"ZXDC\"; transcript_id \"NM_001040653\"  </td><td>NM_001040653</td><td> 17019</td><td> 391</td><td> 375</td><td>⋯</td><td>1961</td><td> 1947</td><td>3550</td><td>2675</td><td>101</td><td>102</td><td> 291</td><td> 265</td><td> 95</td><td> 302</td></tr>\n",
       "</tbody>\n",
       "</table>\n"
      ],
      "text/latex": [
       "A data.table: 6 × 888\n",
       "\\begin{tabular}{lllllllllllllllllllll}\n",
       " GeneID & chromosome & start & end & strand & feature\\_id & TranscriptID & Length & SRZ1950491 & SRZ1950493 & ⋯ & SRR9833433 & SRZ9833428 & SRZ9833431 & SRZ9833434 & SRR11793825 & SRR11793826 & SRR11793827 & SRR11793828 & SRR11793829 & SRR11793830\\\\\n",
       " <chr> & <chr> & <int> & <int> & <chr> & <chr> & <chr> & <int> & <int> & <int> & ⋯ & <int> & <int> & <int> & <int> & <int> & <int> & <int> & <int> & <int> & <int>\\\\\n",
       "\\hline\n",
       "\t ZZZ3   & chr1  &  77562416 &  77682658 & - & gene\\_id \"ZZZ3\"; transcript\\_id \"NM\\_015534\"      & NM\\_015534    & 120243 & 3327 & 4046 & ⋯ & 1719 & 15138 & 3474 & 3910 & 613 & 862 & 3035 & 2741 & 636 & 2503\\\\\n",
       "\t ZZEF1  & chr17 &   4004445 &   4143030 & - & gene\\_id \"ZZEF1\"; transcript\\_id \"NM\\_015113\"     & NM\\_015113    & 138586 & 1963 & 2068 & ⋯ & 1380 &  6963 & 2774 & 3190 & 545 & 715 & 2303 & 1906 & 649 & 1834\\\\\n",
       "\t ZYX    & chr7  & 143381345 & 143391111 & + & gene\\_id \"ZYX\"; transcript\\_id \"NM\\_001362783\"    & NM\\_001362783 &   9767 &   71 &   42 & ⋯ &  857 &  3315 & 1185 & 2507 & 143 & 177 &  363 &  345 & 123 &  287\\\\\n",
       "\t ZYG11B & chr1  &  52726453 &  52827336 & + & gene\\_id \"ZYG11B\"; transcript\\_id \"NM\\_024646\"    & NM\\_024646    & 100884 & 1111 & 1087 & ⋯ & 2300 &  3676 & 4196 & 1716 & 375 & 500 & 1563 & 1332 & 449 & 1318\\\\\n",
       "\t ZYG11A & chr1  &  52842760 &  52894995 & + & gene\\_id \"ZYG11A\"; transcript\\_id \"NM\\_001004339\" & NM\\_001004339 &  52236 &    6 &    0 & ⋯ &  632 &   892 & 1056 &  591 & 303 & 434 & 1354 & 1164 & 457 & 1239\\\\\n",
       "\t ZXDC   & chr3  & 126458901 & 126475919 & - & gene\\_id \"ZXDC\"; transcript\\_id \"NM\\_001040653\"   & NM\\_001040653 &  17019 &  391 &  375 & ⋯ & 1961 &  1947 & 3550 & 2675 & 101 & 102 &  291 &  265 &  95 &  302\\\\\n",
       "\\end{tabular}\n"
      ],
      "text/markdown": [
       "\n",
       "A data.table: 6 × 888\n",
       "\n",
       "| GeneID &lt;chr&gt; | chromosome &lt;chr&gt; | start &lt;int&gt; | end &lt;int&gt; | strand &lt;chr&gt; | feature_id &lt;chr&gt; | TranscriptID &lt;chr&gt; | Length &lt;int&gt; | SRZ1950491 &lt;int&gt; | SRZ1950493 &lt;int&gt; | ⋯ ⋯ | SRR9833433 &lt;int&gt; | SRZ9833428 &lt;int&gt; | SRZ9833431 &lt;int&gt; | SRZ9833434 &lt;int&gt; | SRR11793825 &lt;int&gt; | SRR11793826 &lt;int&gt; | SRR11793827 &lt;int&gt; | SRR11793828 &lt;int&gt; | SRR11793829 &lt;int&gt; | SRR11793830 &lt;int&gt; |\n",
       "|---|---|---|---|---|---|---|---|---|---|---|---|---|---|---|---|---|---|---|---|---|\n",
       "| ZZZ3   | chr1  |  77562416 |  77682658 | - | gene_id \"ZZZ3\"; transcript_id \"NM_015534\"      | NM_015534    | 120243 | 3327 | 4046 | ⋯ | 1719 | 15138 | 3474 | 3910 | 613 | 862 | 3035 | 2741 | 636 | 2503 |\n",
       "| ZZEF1  | chr17 |   4004445 |   4143030 | - | gene_id \"ZZEF1\"; transcript_id \"NM_015113\"     | NM_015113    | 138586 | 1963 | 2068 | ⋯ | 1380 |  6963 | 2774 | 3190 | 545 | 715 | 2303 | 1906 | 649 | 1834 |\n",
       "| ZYX    | chr7  | 143381345 | 143391111 | + | gene_id \"ZYX\"; transcript_id \"NM_001362783\"    | NM_001362783 |   9767 |   71 |   42 | ⋯ |  857 |  3315 | 1185 | 2507 | 143 | 177 |  363 |  345 | 123 |  287 |\n",
       "| ZYG11B | chr1  |  52726453 |  52827336 | + | gene_id \"ZYG11B\"; transcript_id \"NM_024646\"    | NM_024646    | 100884 | 1111 | 1087 | ⋯ | 2300 |  3676 | 4196 | 1716 | 375 | 500 | 1563 | 1332 | 449 | 1318 |\n",
       "| ZYG11A | chr1  |  52842760 |  52894995 | + | gene_id \"ZYG11A\"; transcript_id \"NM_001004339\" | NM_001004339 |  52236 |    6 |    0 | ⋯ |  632 |   892 | 1056 |  591 | 303 | 434 | 1354 | 1164 | 457 | 1239 |\n",
       "| ZXDC   | chr3  | 126458901 | 126475919 | - | gene_id \"ZXDC\"; transcript_id \"NM_001040653\"   | NM_001040653 |  17019 |  391 |  375 | ⋯ | 1961 |  1947 | 3550 | 2675 | 101 | 102 |  291 |  265 |  95 |  302 |\n",
       "\n"
      ],
      "text/plain": [
       "  GeneID chromosome start     end       strand\n",
       "1 ZZZ3   chr1        77562416  77682658 -     \n",
       "2 ZZEF1  chr17        4004445   4143030 -     \n",
       "3 ZYX    chr7       143381345 143391111 +     \n",
       "4 ZYG11B chr1        52726453  52827336 +     \n",
       "5 ZYG11A chr1        52842760  52894995 +     \n",
       "6 ZXDC   chr3       126458901 126475919 -     \n",
       "  feature_id                                     TranscriptID Length SRZ1950491\n",
       "1 gene_id \"ZZZ3\"; transcript_id \"NM_015534\"      NM_015534    120243 3327      \n",
       "2 gene_id \"ZZEF1\"; transcript_id \"NM_015113\"     NM_015113    138586 1963      \n",
       "3 gene_id \"ZYX\"; transcript_id \"NM_001362783\"    NM_001362783   9767   71      \n",
       "4 gene_id \"ZYG11B\"; transcript_id \"NM_024646\"    NM_024646    100884 1111      \n",
       "5 gene_id \"ZYG11A\"; transcript_id \"NM_001004339\" NM_001004339  52236    6      \n",
       "6 gene_id \"ZXDC\"; transcript_id \"NM_001040653\"   NM_001040653  17019  391      \n",
       "  SRZ1950493 ⋯ SRR9833433 SRZ9833428 SRZ9833431 SRZ9833434 SRR11793825\n",
       "1 4046       ⋯ 1719       15138      3474       3910       613        \n",
       "2 2068       ⋯ 1380        6963      2774       3190       545        \n",
       "3   42       ⋯  857        3315      1185       2507       143        \n",
       "4 1087       ⋯ 2300        3676      4196       1716       375        \n",
       "5    0       ⋯  632         892      1056        591       303        \n",
       "6  375       ⋯ 1961        1947      3550       2675       101        \n",
       "  SRR11793826 SRR11793827 SRR11793828 SRR11793829 SRR11793830\n",
       "1 862         3035        2741        636         2503       \n",
       "2 715         2303        1906        649         1834       \n",
       "3 177          363         345        123          287       \n",
       "4 500         1563        1332        449         1318       \n",
       "5 434         1354        1164        457         1239       \n",
       "6 102          291         265         95          302       "
      ]
     },
     "metadata": {},
     "output_type": "display_data"
    }
   ],
   "source": [
    "counts_DT_genes <- counts_DT_features[order(-GeneID, Length), \n",
    "                                      head(.SD, 1), by = GeneID]\n",
    "dim(counts_DT_genes)\n",
    "head(counts_DT_genes)"
   ]
  },
  {
   "cell_type": "markdown",
   "metadata": {},
   "source": [
    "#### Genes : 5' truncated "
   ]
  },
  {
   "cell_type": "code",
   "execution_count": 18,
   "metadata": {},
   "outputs": [
    {
     "data": {
      "text/html": [
       "<table class=\"dataframe\">\n",
       "<caption>A data.table: 6 × 4</caption>\n",
       "<thead>\n",
       "\t<tr><th scope=col>GeneID</th><th scope=col>TranscriptID</th><th scope=col>Length</th><th scope=col>SRR4090100.sorted.sorted.bam</th></tr>\n",
       "\t<tr><th scope=col>&lt;chr&gt;</th><th scope=col>&lt;chr&gt;</th><th scope=col>&lt;int&gt;</th><th scope=col>&lt;int&gt;</th></tr>\n",
       "</thead>\n",
       "<tbody>\n",
       "\t<tr><td>MFSD14A </td><td>NM_033055   </td><td>44529</td><td>4359</td></tr>\n",
       "\t<tr><td>SASS6   </td><td>NM_194292   </td><td>48611</td><td>2705</td></tr>\n",
       "\t<tr><td>TRMT13  </td><td>NR_135078   </td><td>16599</td><td>2034</td></tr>\n",
       "\t<tr><td>LRRC39  </td><td>NM_001256385</td><td>29076</td><td> 416</td></tr>\n",
       "\t<tr><td>DBT     </td><td>NM_001918   </td><td>62166</td><td>3843</td></tr>\n",
       "\t<tr><td>RTCA-AS1</td><td>NR_110434   </td><td>  683</td><td>  59</td></tr>\n",
       "</tbody>\n",
       "</table>\n"
      ],
      "text/latex": [
       "A data.table: 6 × 4\n",
       "\\begin{tabular}{llll}\n",
       " GeneID & TranscriptID & Length & SRR4090100.sorted.sorted.bam\\\\\n",
       " <chr> & <chr> & <int> & <int>\\\\\n",
       "\\hline\n",
       "\t MFSD14A  & NM\\_033055    & 44529 & 4359\\\\\n",
       "\t SASS6    & NM\\_194292    & 48611 & 2705\\\\\n",
       "\t TRMT13   & NR\\_135078    & 16599 & 2034\\\\\n",
       "\t LRRC39   & NM\\_001256385 & 29076 &  416\\\\\n",
       "\t DBT      & NM\\_001918    & 62166 & 3843\\\\\n",
       "\t RTCA-AS1 & NR\\_110434    &   683 &   59\\\\\n",
       "\\end{tabular}\n"
      ],
      "text/markdown": [
       "\n",
       "A data.table: 6 × 4\n",
       "\n",
       "| GeneID &lt;chr&gt; | TranscriptID &lt;chr&gt; | Length &lt;int&gt; | SRR4090100.sorted.sorted.bam &lt;int&gt; |\n",
       "|---|---|---|---|\n",
       "| MFSD14A  | NM_033055    | 44529 | 4359 |\n",
       "| SASS6    | NM_194292    | 48611 | 2705 |\n",
       "| TRMT13   | NR_135078    | 16599 | 2034 |\n",
       "| LRRC39   | NM_001256385 | 29076 |  416 |\n",
       "| DBT      | NM_001918    | 62166 | 3843 |\n",
       "| RTCA-AS1 | NR_110434    |   683 |   59 |\n",
       "\n"
      ],
      "text/plain": [
       "  GeneID   TranscriptID Length SRR4090100.sorted.sorted.bam\n",
       "1 MFSD14A  NM_033055    44529  4359                        \n",
       "2 SASS6    NM_194292    48611  2705                        \n",
       "3 TRMT13   NR_135078    16599  2034                        \n",
       "4 LRRC39   NM_001256385 29076   416                        \n",
       "5 DBT      NM_001918    62166  3843                        \n",
       "6 RTCA-AS1 NR_110434      683    59                        "
      ]
     },
     "metadata": {},
     "output_type": "display_data"
    },
    {
     "data": {
      "text/html": [
       "<style>\n",
       ".list-inline {list-style: none; margin:0; padding: 0}\n",
       ".list-inline>li {display: inline-block}\n",
       ".list-inline>li:not(:last-child)::after {content: \"\\00b7\"; padding: 0 .5ex}\n",
       "</style>\n",
       "<ol class=list-inline><li>41813</li><li>4</li></ol>\n"
      ],
      "text/latex": [
       "\\begin{enumerate*}\n",
       "\\item 41813\n",
       "\\item 4\n",
       "\\end{enumerate*}\n"
      ],
      "text/markdown": [
       "1. 41813\n",
       "2. 4\n",
       "\n",
       "\n"
      ],
      "text/plain": [
       "[1] 41813     4"
      ]
     },
     "metadata": {},
     "output_type": "display_data"
    }
   ],
   "source": [
    "trunc_example_counts <- data.table::fread('/Shares/dbnascent/Andrysik2017identification/featurecounts_genes/SRR4090100.sorted.stranded.5ptrunc_gene_counts.txt')\n",
    "head(trunc_example_counts)\n",
    "dim(trunc_example_counts)"
   ]
  },
  {
   "cell_type": "code",
   "execution_count": 19,
   "metadata": {},
   "outputs": [],
   "source": [
    "#load all counts excluding the metadata columns\n",
    "trunc_counts_DT <- lapply(trunc_counts_paths, \n",
    "                    data.table::fread, \n",
    "                    drop = c('GeneID', 'TranscriptID', 'Length')) \n",
    "\n",
    "#make sure the counts are from human annotations with 41813 transcripts\n",
    "trunc_counts_DT_hg38 <- trunc_counts_DT[sapply(trunc_counts_DT, function(x) nrow(x) == 41813)]\n",
    "                         "
   ]
  },
  {
   "cell_type": "code",
   "execution_count": 20,
   "metadata": {},
   "outputs": [
    {
     "data": {
      "text/html": [
       "<table class=\"dataframe\">\n",
       "<caption>A data.table: 6 × 880</caption>\n",
       "<thead>\n",
       "\t<tr><th scope=col>SRZ1950491</th><th scope=col>SRZ1950493</th><th scope=col>SRZ1950495</th><th scope=col>SRZ1950497</th><th scope=col>SRZ1950499</th><th scope=col>SRZ1950501</th><th scope=col>SRZ1950503</th><th scope=col>SRZ1950505</th><th scope=col>SRZ1950507</th><th scope=col>SRZ1950509</th><th scope=col>⋯</th><th scope=col>SRR9833433</th><th scope=col>SRZ9833428</th><th scope=col>SRZ9833431</th><th scope=col>SRZ9833434</th><th scope=col>SRR11793825</th><th scope=col>SRR11793826</th><th scope=col>SRR11793827</th><th scope=col>SRR11793828</th><th scope=col>SRR11793829</th><th scope=col>SRR11793830</th></tr>\n",
       "\t<tr><th scope=col>&lt;int&gt;</th><th scope=col>&lt;int&gt;</th><th scope=col>&lt;int&gt;</th><th scope=col>&lt;int&gt;</th><th scope=col>&lt;int&gt;</th><th scope=col>&lt;int&gt;</th><th scope=col>&lt;int&gt;</th><th scope=col>&lt;int&gt;</th><th scope=col>&lt;int&gt;</th><th scope=col>&lt;int&gt;</th><th scope=col>⋯</th><th scope=col>&lt;int&gt;</th><th scope=col>&lt;int&gt;</th><th scope=col>&lt;int&gt;</th><th scope=col>&lt;int&gt;</th><th scope=col>&lt;int&gt;</th><th scope=col>&lt;int&gt;</th><th scope=col>&lt;int&gt;</th><th scope=col>&lt;int&gt;</th><th scope=col>&lt;int&gt;</th><th scope=col>&lt;int&gt;</th></tr>\n",
       "</thead>\n",
       "<tbody>\n",
       "\t<tr><td> 898</td><td>1051</td><td>835</td><td>890</td><td>1060</td><td>1156</td><td>896</td><td>831</td><td>1018</td><td>853</td><td>⋯</td><td>822</td><td>5121</td><td>1487</td><td>1336</td><td>378</td><td>498</td><td>1843</td><td>1552</td><td>391</td><td>1374</td></tr>\n",
       "\t<tr><td>1011</td><td>1361</td><td>810</td><td>883</td><td>1075</td><td>1140</td><td>874</td><td>834</td><td>1143</td><td>948</td><td>⋯</td><td>223</td><td>2226</td><td> 430</td><td> 369</td><td>200</td><td>297</td><td>1034</td><td> 881</td><td>260</td><td> 734</td></tr>\n",
       "\t<tr><td> 446</td><td> 618</td><td>436</td><td>526</td><td> 631</td><td> 768</td><td>426</td><td>459</td><td> 508</td><td>481</td><td>⋯</td><td> 63</td><td> 691</td><td> 140</td><td> 224</td><td> 63</td><td>133</td><td> 415</td><td> 440</td><td> 52</td><td> 316</td></tr>\n",
       "\t<tr><td>  48</td><td>  53</td><td> 40</td><td> 46</td><td>  47</td><td>  59</td><td> 67</td><td> 46</td><td>  68</td><td> 50</td><td>⋯</td><td> 13</td><td> 118</td><td>  30</td><td>  21</td><td> 18</td><td> 31</td><td>  91</td><td>  77</td><td> 26</td><td>  74</td></tr>\n",
       "\t<tr><td> 706</td><td> 803</td><td>592</td><td>536</td><td> 828</td><td> 748</td><td>636</td><td>606</td><td> 788</td><td>609</td><td>⋯</td><td>263</td><td>2822</td><td> 514</td><td> 744</td><td>205</td><td>290</td><td> 965</td><td> 908</td><td>219</td><td> 878</td></tr>\n",
       "\t<tr><td>   3</td><td>   8</td><td>  8</td><td>  5</td><td>   9</td><td>  13</td><td>  8</td><td>  9</td><td>   7</td><td>  8</td><td>⋯</td><td> 22</td><td>  31</td><td>   8</td><td>  20</td><td>  5</td><td>  7</td><td>  26</td><td>  24</td><td>  0</td><td>  24</td></tr>\n",
       "</tbody>\n",
       "</table>\n"
      ],
      "text/latex": [
       "A data.table: 6 × 880\n",
       "\\begin{tabular}{lllllllllllllllllllll}\n",
       " SRZ1950491 & SRZ1950493 & SRZ1950495 & SRZ1950497 & SRZ1950499 & SRZ1950501 & SRZ1950503 & SRZ1950505 & SRZ1950507 & SRZ1950509 & ⋯ & SRR9833433 & SRZ9833428 & SRZ9833431 & SRZ9833434 & SRR11793825 & SRR11793826 & SRR11793827 & SRR11793828 & SRR11793829 & SRR11793830\\\\\n",
       " <int> & <int> & <int> & <int> & <int> & <int> & <int> & <int> & <int> & <int> & ⋯ & <int> & <int> & <int> & <int> & <int> & <int> & <int> & <int> & <int> & <int>\\\\\n",
       "\\hline\n",
       "\t  898 & 1051 & 835 & 890 & 1060 & 1156 & 896 & 831 & 1018 & 853 & ⋯ & 822 & 5121 & 1487 & 1336 & 378 & 498 & 1843 & 1552 & 391 & 1374\\\\\n",
       "\t 1011 & 1361 & 810 & 883 & 1075 & 1140 & 874 & 834 & 1143 & 948 & ⋯ & 223 & 2226 &  430 &  369 & 200 & 297 & 1034 &  881 & 260 &  734\\\\\n",
       "\t  446 &  618 & 436 & 526 &  631 &  768 & 426 & 459 &  508 & 481 & ⋯ &  63 &  691 &  140 &  224 &  63 & 133 &  415 &  440 &  52 &  316\\\\\n",
       "\t   48 &   53 &  40 &  46 &   47 &   59 &  67 &  46 &   68 &  50 & ⋯ &  13 &  118 &   30 &   21 &  18 &  31 &   91 &   77 &  26 &   74\\\\\n",
       "\t  706 &  803 & 592 & 536 &  828 &  748 & 636 & 606 &  788 & 609 & ⋯ & 263 & 2822 &  514 &  744 & 205 & 290 &  965 &  908 & 219 &  878\\\\\n",
       "\t    3 &    8 &   8 &   5 &    9 &   13 &   8 &   9 &    7 &   8 & ⋯ &  22 &   31 &    8 &   20 &   5 &   7 &   26 &   24 &   0 &   24\\\\\n",
       "\\end{tabular}\n"
      ],
      "text/markdown": [
       "\n",
       "A data.table: 6 × 880\n",
       "\n",
       "| SRZ1950491 &lt;int&gt; | SRZ1950493 &lt;int&gt; | SRZ1950495 &lt;int&gt; | SRZ1950497 &lt;int&gt; | SRZ1950499 &lt;int&gt; | SRZ1950501 &lt;int&gt; | SRZ1950503 &lt;int&gt; | SRZ1950505 &lt;int&gt; | SRZ1950507 &lt;int&gt; | SRZ1950509 &lt;int&gt; | ⋯ ⋯ | SRR9833433 &lt;int&gt; | SRZ9833428 &lt;int&gt; | SRZ9833431 &lt;int&gt; | SRZ9833434 &lt;int&gt; | SRR11793825 &lt;int&gt; | SRR11793826 &lt;int&gt; | SRR11793827 &lt;int&gt; | SRR11793828 &lt;int&gt; | SRR11793829 &lt;int&gt; | SRR11793830 &lt;int&gt; |\n",
       "|---|---|---|---|---|---|---|---|---|---|---|---|---|---|---|---|---|---|---|---|---|\n",
       "|  898 | 1051 | 835 | 890 | 1060 | 1156 | 896 | 831 | 1018 | 853 | ⋯ | 822 | 5121 | 1487 | 1336 | 378 | 498 | 1843 | 1552 | 391 | 1374 |\n",
       "| 1011 | 1361 | 810 | 883 | 1075 | 1140 | 874 | 834 | 1143 | 948 | ⋯ | 223 | 2226 |  430 |  369 | 200 | 297 | 1034 |  881 | 260 |  734 |\n",
       "|  446 |  618 | 436 | 526 |  631 |  768 | 426 | 459 |  508 | 481 | ⋯ |  63 |  691 |  140 |  224 |  63 | 133 |  415 |  440 |  52 |  316 |\n",
       "|   48 |   53 |  40 |  46 |   47 |   59 |  67 |  46 |   68 |  50 | ⋯ |  13 |  118 |   30 |   21 |  18 |  31 |   91 |   77 |  26 |   74 |\n",
       "|  706 |  803 | 592 | 536 |  828 |  748 | 636 | 606 |  788 | 609 | ⋯ | 263 | 2822 |  514 |  744 | 205 | 290 |  965 |  908 | 219 |  878 |\n",
       "|    3 |    8 |   8 |   5 |    9 |   13 |   8 |   9 |    7 |   8 | ⋯ |  22 |   31 |    8 |   20 |   5 |   7 |   26 |   24 |   0 |   24 |\n",
       "\n"
      ],
      "text/plain": [
       "  SRZ1950491 SRZ1950493 SRZ1950495 SRZ1950497 SRZ1950499 SRZ1950501 SRZ1950503\n",
       "1  898       1051       835        890        1060       1156       896       \n",
       "2 1011       1361       810        883        1075       1140       874       \n",
       "3  446        618       436        526         631        768       426       \n",
       "4   48         53        40         46          47         59        67       \n",
       "5  706        803       592        536         828        748       636       \n",
       "6    3          8         8          5           9         13         8       \n",
       "  SRZ1950505 SRZ1950507 SRZ1950509 ⋯ SRR9833433 SRZ9833428 SRZ9833431\n",
       "1 831        1018       853        ⋯ 822        5121       1487      \n",
       "2 834        1143       948        ⋯ 223        2226        430      \n",
       "3 459         508       481        ⋯  63         691        140      \n",
       "4  46          68        50        ⋯  13         118         30      \n",
       "5 606         788       609        ⋯ 263        2822        514      \n",
       "6   9           7         8        ⋯  22          31          8      \n",
       "  SRZ9833434 SRR11793825 SRR11793826 SRR11793827 SRR11793828 SRR11793829\n",
       "1 1336       378         498         1843        1552        391        \n",
       "2  369       200         297         1034         881        260        \n",
       "3  224        63         133          415         440         52        \n",
       "4   21        18          31           91          77         26        \n",
       "5  744       205         290          965         908        219        \n",
       "6   20         5           7           26          24          0        \n",
       "  SRR11793830\n",
       "1 1374       \n",
       "2  734       \n",
       "3  316       \n",
       "4   74       \n",
       "5  878       \n",
       "6   24       "
      ]
     },
     "metadata": {},
     "output_type": "display_data"
    }
   ],
   "source": [
    "trunc_counts_DT_features_one <- dplyr::bind_cols(trunc_counts_DT_hg38)\n",
    "trunc_counts_DT_newnames <- setnames(trunc_counts_DT_features_one, names(trunc_counts_DT_features_one),\n",
    "                               as.character(lapply(strsplit(names(trunc_counts_DT_features_one), '\\\\.'), `[`, 1)))\n",
    "head(trunc_counts_DT_newnames)"
   ]
  },
  {
   "cell_type": "code",
   "execution_count": 21,
   "metadata": {},
   "outputs": [
    {
     "data": {
      "text/html": [
       "<table class=\"dataframe\">\n",
       "<caption>A data.table: 6 × 888</caption>\n",
       "<thead>\n",
       "\t<tr><th scope=col>chromosome</th><th scope=col>start</th><th scope=col>end</th><th scope=col>strand</th><th scope=col>feature_id</th><th scope=col>GeneID</th><th scope=col>TranscriptID</th><th scope=col>Length</th><th scope=col>SRZ1950491</th><th scope=col>SRZ1950493</th><th scope=col>⋯</th><th scope=col>SRR9833433</th><th scope=col>SRZ9833428</th><th scope=col>SRZ9833431</th><th scope=col>SRZ9833434</th><th scope=col>SRR11793825</th><th scope=col>SRR11793826</th><th scope=col>SRR11793827</th><th scope=col>SRR11793828</th><th scope=col>SRR11793829</th><th scope=col>SRR11793830</th></tr>\n",
       "\t<tr><th scope=col>&lt;chr&gt;</th><th scope=col>&lt;int&gt;</th><th scope=col>&lt;int&gt;</th><th scope=col>&lt;chr&gt;</th><th scope=col>&lt;chr&gt;</th><th scope=col>&lt;chr&gt;</th><th scope=col>&lt;chr&gt;</th><th scope=col>&lt;int&gt;</th><th scope=col>&lt;int&gt;</th><th scope=col>&lt;int&gt;</th><th scope=col>⋯</th><th scope=col>&lt;int&gt;</th><th scope=col>&lt;int&gt;</th><th scope=col>&lt;int&gt;</th><th scope=col>&lt;int&gt;</th><th scope=col>&lt;int&gt;</th><th scope=col>&lt;int&gt;</th><th scope=col>&lt;int&gt;</th><th scope=col>&lt;int&gt;</th><th scope=col>&lt;int&gt;</th><th scope=col>&lt;int&gt;</th></tr>\n",
       "</thead>\n",
       "<tbody>\n",
       "\t<tr><td>chr1</td><td>100038845</td><td>100083373</td><td>+</td><td>gene_id \"MFSD14A\"; transcript_id \"NM_033055\"  </td><td>MFSD14A </td><td>NM_033055   </td><td>44529</td><td> 898</td><td>1051</td><td>⋯</td><td>822</td><td>5121</td><td>1487</td><td>1336</td><td>378</td><td>498</td><td>1843</td><td>1552</td><td>391</td><td>1374</td></tr>\n",
       "\t<tr><td>chr1</td><td>100083570</td><td>100132180</td><td>-</td><td>gene_id \"SASS6\"; transcript_id \"NM_194292\"    </td><td>SASS6   </td><td>NM_194292   </td><td>48611</td><td>1011</td><td>1361</td><td>⋯</td><td>223</td><td>2226</td><td> 430</td><td> 369</td><td>200</td><td>297</td><td>1034</td><td> 881</td><td>260</td><td> 734</td></tr>\n",
       "\t<tr><td>chr1</td><td>100133900</td><td>100150498</td><td>+</td><td>gene_id \"TRMT13\"; transcript_id \"NR_135078\"   </td><td>TRMT13  </td><td>NR_135078   </td><td>16599</td><td> 446</td><td> 618</td><td>⋯</td><td> 63</td><td> 691</td><td> 140</td><td> 224</td><td> 63</td><td>133</td><td> 415</td><td> 440</td><td> 52</td><td> 316</td></tr>\n",
       "\t<tr><td>chr1</td><td>100148448</td><td>100177523</td><td>-</td><td>gene_id \"LRRC39\"; transcript_id \"NM_001256385\"</td><td>LRRC39  </td><td>NM_001256385</td><td>29076</td><td>  48</td><td>  53</td><td>⋯</td><td> 13</td><td> 118</td><td>  30</td><td>  21</td><td> 18</td><td> 31</td><td>  91</td><td>  77</td><td> 26</td><td>  74</td></tr>\n",
       "\t<tr><td>chr1</td><td>100186919</td><td>100249084</td><td>-</td><td>gene_id \"DBT\"; transcript_id \"NM_001918\"      </td><td>DBT     </td><td>NM_001918   </td><td>62166</td><td> 706</td><td> 803</td><td>⋯</td><td>263</td><td>2822</td><td> 514</td><td> 744</td><td>205</td><td>290</td><td> 965</td><td> 908</td><td>219</td><td> 878</td></tr>\n",
       "\t<tr><td>chr1</td><td>100264742</td><td>100265424</td><td>-</td><td>gene_id \"RTCA-AS1\"; transcript_id \"NR_110434\" </td><td>RTCA-AS1</td><td>NR_110434   </td><td>  683</td><td>   3</td><td>   8</td><td>⋯</td><td> 22</td><td>  31</td><td>   8</td><td>  20</td><td>  5</td><td>  7</td><td>  26</td><td>  24</td><td>  0</td><td>  24</td></tr>\n",
       "</tbody>\n",
       "</table>\n"
      ],
      "text/latex": [
       "A data.table: 6 × 888\n",
       "\\begin{tabular}{lllllllllllllllllllll}\n",
       " chromosome & start & end & strand & feature\\_id & GeneID & TranscriptID & Length & SRZ1950491 & SRZ1950493 & ⋯ & SRR9833433 & SRZ9833428 & SRZ9833431 & SRZ9833434 & SRR11793825 & SRR11793826 & SRR11793827 & SRR11793828 & SRR11793829 & SRR11793830\\\\\n",
       " <chr> & <int> & <int> & <chr> & <chr> & <chr> & <chr> & <int> & <int> & <int> & ⋯ & <int> & <int> & <int> & <int> & <int> & <int> & <int> & <int> & <int> & <int>\\\\\n",
       "\\hline\n",
       "\t chr1 & 100038845 & 100083373 & + & gene\\_id \"MFSD14A\"; transcript\\_id \"NM\\_033055\"   & MFSD14A  & NM\\_033055    & 44529 &  898 & 1051 & ⋯ & 822 & 5121 & 1487 & 1336 & 378 & 498 & 1843 & 1552 & 391 & 1374\\\\\n",
       "\t chr1 & 100083570 & 100132180 & - & gene\\_id \"SASS6\"; transcript\\_id \"NM\\_194292\"     & SASS6    & NM\\_194292    & 48611 & 1011 & 1361 & ⋯ & 223 & 2226 &  430 &  369 & 200 & 297 & 1034 &  881 & 260 &  734\\\\\n",
       "\t chr1 & 100133900 & 100150498 & + & gene\\_id \"TRMT13\"; transcript\\_id \"NR\\_135078\"    & TRMT13   & NR\\_135078    & 16599 &  446 &  618 & ⋯ &  63 &  691 &  140 &  224 &  63 & 133 &  415 &  440 &  52 &  316\\\\\n",
       "\t chr1 & 100148448 & 100177523 & - & gene\\_id \"LRRC39\"; transcript\\_id \"NM\\_001256385\" & LRRC39   & NM\\_001256385 & 29076 &   48 &   53 & ⋯ &  13 &  118 &   30 &   21 &  18 &  31 &   91 &   77 &  26 &   74\\\\\n",
       "\t chr1 & 100186919 & 100249084 & - & gene\\_id \"DBT\"; transcript\\_id \"NM\\_001918\"       & DBT      & NM\\_001918    & 62166 &  706 &  803 & ⋯ & 263 & 2822 &  514 &  744 & 205 & 290 &  965 &  908 & 219 &  878\\\\\n",
       "\t chr1 & 100264742 & 100265424 & - & gene\\_id \"RTCA-AS1\"; transcript\\_id \"NR\\_110434\"  & RTCA-AS1 & NR\\_110434    &   683 &    3 &    8 & ⋯ &  22 &   31 &    8 &   20 &   5 &   7 &   26 &   24 &   0 &   24\\\\\n",
       "\\end{tabular}\n"
      ],
      "text/markdown": [
       "\n",
       "A data.table: 6 × 888\n",
       "\n",
       "| chromosome &lt;chr&gt; | start &lt;int&gt; | end &lt;int&gt; | strand &lt;chr&gt; | feature_id &lt;chr&gt; | GeneID &lt;chr&gt; | TranscriptID &lt;chr&gt; | Length &lt;int&gt; | SRZ1950491 &lt;int&gt; | SRZ1950493 &lt;int&gt; | ⋯ ⋯ | SRR9833433 &lt;int&gt; | SRZ9833428 &lt;int&gt; | SRZ9833431 &lt;int&gt; | SRZ9833434 &lt;int&gt; | SRR11793825 &lt;int&gt; | SRR11793826 &lt;int&gt; | SRR11793827 &lt;int&gt; | SRR11793828 &lt;int&gt; | SRR11793829 &lt;int&gt; | SRR11793830 &lt;int&gt; |\n",
       "|---|---|---|---|---|---|---|---|---|---|---|---|---|---|---|---|---|---|---|---|---|\n",
       "| chr1 | 100038845 | 100083373 | + | gene_id \"MFSD14A\"; transcript_id \"NM_033055\"   | MFSD14A  | NM_033055    | 44529 |  898 | 1051 | ⋯ | 822 | 5121 | 1487 | 1336 | 378 | 498 | 1843 | 1552 | 391 | 1374 |\n",
       "| chr1 | 100083570 | 100132180 | - | gene_id \"SASS6\"; transcript_id \"NM_194292\"     | SASS6    | NM_194292    | 48611 | 1011 | 1361 | ⋯ | 223 | 2226 |  430 |  369 | 200 | 297 | 1034 |  881 | 260 |  734 |\n",
       "| chr1 | 100133900 | 100150498 | + | gene_id \"TRMT13\"; transcript_id \"NR_135078\"    | TRMT13   | NR_135078    | 16599 |  446 |  618 | ⋯ |  63 |  691 |  140 |  224 |  63 | 133 |  415 |  440 |  52 |  316 |\n",
       "| chr1 | 100148448 | 100177523 | - | gene_id \"LRRC39\"; transcript_id \"NM_001256385\" | LRRC39   | NM_001256385 | 29076 |   48 |   53 | ⋯ |  13 |  118 |   30 |   21 |  18 |  31 |   91 |   77 |  26 |   74 |\n",
       "| chr1 | 100186919 | 100249084 | - | gene_id \"DBT\"; transcript_id \"NM_001918\"       | DBT      | NM_001918    | 62166 |  706 |  803 | ⋯ | 263 | 2822 |  514 |  744 | 205 | 290 |  965 |  908 | 219 |  878 |\n",
       "| chr1 | 100264742 | 100265424 | - | gene_id \"RTCA-AS1\"; transcript_id \"NR_110434\"  | RTCA-AS1 | NR_110434    |   683 |    3 |    8 | ⋯ |  22 |   31 |    8 |   20 |   5 |   7 |   26 |   24 |   0 |   24 |\n",
       "\n"
      ],
      "text/plain": [
       "  chromosome start     end       strand\n",
       "1 chr1       100038845 100083373 +     \n",
       "2 chr1       100083570 100132180 -     \n",
       "3 chr1       100133900 100150498 +     \n",
       "4 chr1       100148448 100177523 -     \n",
       "5 chr1       100186919 100249084 -     \n",
       "6 chr1       100264742 100265424 -     \n",
       "  feature_id                                     GeneID   TranscriptID Length\n",
       "1 gene_id \"MFSD14A\"; transcript_id \"NM_033055\"   MFSD14A  NM_033055    44529 \n",
       "2 gene_id \"SASS6\"; transcript_id \"NM_194292\"     SASS6    NM_194292    48611 \n",
       "3 gene_id \"TRMT13\"; transcript_id \"NR_135078\"    TRMT13   NR_135078    16599 \n",
       "4 gene_id \"LRRC39\"; transcript_id \"NM_001256385\" LRRC39   NM_001256385 29076 \n",
       "5 gene_id \"DBT\"; transcript_id \"NM_001918\"       DBT      NM_001918    62166 \n",
       "6 gene_id \"RTCA-AS1\"; transcript_id \"NR_110434\"  RTCA-AS1 NR_110434      683 \n",
       "  SRZ1950491 SRZ1950493 ⋯ SRR9833433 SRZ9833428 SRZ9833431 SRZ9833434\n",
       "1  898       1051       ⋯ 822        5121       1487       1336      \n",
       "2 1011       1361       ⋯ 223        2226        430        369      \n",
       "3  446        618       ⋯  63         691        140        224      \n",
       "4   48         53       ⋯  13         118         30         21      \n",
       "5  706        803       ⋯ 263        2822        514        744      \n",
       "6    3          8       ⋯  22          31          8         20      \n",
       "  SRR11793825 SRR11793826 SRR11793827 SRR11793828 SRR11793829 SRR11793830\n",
       "1 378         498         1843        1552        391         1374       \n",
       "2 200         297         1034         881        260          734       \n",
       "3  63         133          415         440         52          316       \n",
       "4  18          31           91          77         26           74       \n",
       "5 205         290          965         908        219          878       \n",
       "6   5           7           26          24          0           24       "
      ]
     },
     "metadata": {},
     "output_type": "display_data"
    },
    {
     "data": {
      "text/html": [
       "<style>\n",
       ".list-inline {list-style: none; margin:0; padding: 0}\n",
       ".list-inline>li {display: inline-block}\n",
       ".list-inline>li:not(:last-child)::after {content: \"\\00b7\"; padding: 0 .5ex}\n",
       "</style>\n",
       "<ol class=list-inline><li>41813</li><li>888</li></ol>\n"
      ],
      "text/latex": [
       "\\begin{enumerate*}\n",
       "\\item 41813\n",
       "\\item 888\n",
       "\\end{enumerate*}\n"
      ],
      "text/markdown": [
       "1. 41813\n",
       "2. 888\n",
       "\n",
       "\n"
      ],
      "text/plain": [
       "[1] 41813   888"
      ]
     },
     "metadata": {},
     "output_type": "display_data"
    }
   ],
   "source": [
    "trunc_counts_DT_features <- cbind(hg38_refseq_trunc,\n",
    "                            trunc_example_counts[,c(1,2,3)], \n",
    "                            trunc_counts_DT_features_one)\n",
    "head(trunc_counts_DT_features)\n",
    "dim(trunc_counts_DT_features)"
   ]
  },
  {
   "cell_type": "code",
   "execution_count": 22,
   "metadata": {
    "scrolled": true
   },
   "outputs": [
    {
     "data": {
      "text/html": [
       "<style>\n",
       ".list-inline {list-style: none; margin:0; padding: 0}\n",
       ".list-inline>li {display: inline-block}\n",
       ".list-inline>li:not(:last-child)::after {content: \"\\00b7\"; padding: 0 .5ex}\n",
       "</style>\n",
       "<ol class=list-inline><li>28237</li><li>888</li></ol>\n"
      ],
      "text/latex": [
       "\\begin{enumerate*}\n",
       "\\item 28237\n",
       "\\item 888\n",
       "\\end{enumerate*}\n"
      ],
      "text/markdown": [
       "1. 28237\n",
       "2. 888\n",
       "\n",
       "\n"
      ],
      "text/plain": [
       "[1] 28237   888"
      ]
     },
     "metadata": {},
     "output_type": "display_data"
    },
    {
     "data": {
      "text/html": [
       "<table class=\"dataframe\">\n",
       "<caption>A data.table: 6 × 888</caption>\n",
       "<thead>\n",
       "\t<tr><th scope=col>GeneID</th><th scope=col>chromosome</th><th scope=col>start</th><th scope=col>end</th><th scope=col>strand</th><th scope=col>feature_id</th><th scope=col>TranscriptID</th><th scope=col>Length</th><th scope=col>SRZ1950491</th><th scope=col>SRZ1950493</th><th scope=col>⋯</th><th scope=col>SRR9833433</th><th scope=col>SRZ9833428</th><th scope=col>SRZ9833431</th><th scope=col>SRZ9833434</th><th scope=col>SRR11793825</th><th scope=col>SRR11793826</th><th scope=col>SRR11793827</th><th scope=col>SRR11793828</th><th scope=col>SRR11793829</th><th scope=col>SRR11793830</th></tr>\n",
       "\t<tr><th scope=col>&lt;chr&gt;</th><th scope=col>&lt;chr&gt;</th><th scope=col>&lt;int&gt;</th><th scope=col>&lt;int&gt;</th><th scope=col>&lt;chr&gt;</th><th scope=col>&lt;chr&gt;</th><th scope=col>&lt;chr&gt;</th><th scope=col>&lt;int&gt;</th><th scope=col>&lt;int&gt;</th><th scope=col>&lt;int&gt;</th><th scope=col>⋯</th><th scope=col>&lt;int&gt;</th><th scope=col>&lt;int&gt;</th><th scope=col>&lt;int&gt;</th><th scope=col>&lt;int&gt;</th><th scope=col>&lt;int&gt;</th><th scope=col>&lt;int&gt;</th><th scope=col>&lt;int&gt;</th><th scope=col>&lt;int&gt;</th><th scope=col>&lt;int&gt;</th><th scope=col>&lt;int&gt;</th></tr>\n",
       "</thead>\n",
       "<tbody>\n",
       "\t<tr><td>ZZZ3  </td><td>chr1 </td><td> 77562416</td><td> 77681908</td><td>-</td><td>gene_id \"ZZZ3\"; transcript_id \"NM_015534\"     </td><td>NM_015534   </td><td>119493</td><td>3207</td><td>3976</td><td>⋯</td><td>1447</td><td>14963</td><td>2733</td><td>3146</td><td>588</td><td>838</td><td>2977</td><td>2700</td><td>608</td><td>2435</td></tr>\n",
       "\t<tr><td>ZZEF1 </td><td>chr17</td><td>  4004445</td><td>  4142280</td><td>-</td><td>gene_id \"ZZEF1\"; transcript_id \"NM_015113\"    </td><td>NM_015113   </td><td>137836</td><td>1882</td><td>2026</td><td>⋯</td><td>1015</td><td> 6772</td><td>1756</td><td>2415</td><td>534</td><td>709</td><td>2286</td><td>1900</td><td>636</td><td>1826</td></tr>\n",
       "\t<tr><td>ZYX   </td><td>chr7 </td><td>143382095</td><td>143391111</td><td>+</td><td>gene_id \"ZYX\"; transcript_id \"NM_001362783\"   </td><td>NM_001362783</td><td>  9017</td><td>  55</td><td>  33</td><td>⋯</td><td> 329</td><td> 3052</td><td> 714</td><td>1434</td><td>123</td><td>156</td><td> 312</td><td> 306</td><td>118</td><td> 273</td></tr>\n",
       "\t<tr><td>ZYG11B</td><td>chr1 </td><td> 52727203</td><td> 52827336</td><td>+</td><td>gene_id \"ZYG11B\"; transcript_id \"NM_024646\"   </td><td>NM_024646   </td><td>100134</td><td>1043</td><td>1040</td><td>⋯</td><td>2087</td><td> 3632</td><td>3584</td><td>1112</td><td>344</td><td>462</td><td>1505</td><td>1301</td><td>421</td><td>1296</td></tr>\n",
       "\t<tr><td>ZYG11A</td><td>chr1 </td><td> 52843510</td><td> 52894995</td><td>+</td><td>gene_id \"ZYG11A\"; transcript_id \"NM_001004339\"</td><td>NM_001004339</td><td> 51486</td><td>   6</td><td>   0</td><td>⋯</td><td> 183</td><td>  802</td><td> 193</td><td> 209</td><td>275</td><td>380</td><td>1255</td><td>1091</td><td>400</td><td>1134</td></tr>\n",
       "\t<tr><td>ZXDC  </td><td>chr3 </td><td>126458901</td><td>126475169</td><td>-</td><td>gene_id \"ZXDC\"; transcript_id \"NM_001040653\"  </td><td>NM_001040653</td><td> 16269</td><td> 332</td><td> 334</td><td>⋯</td><td> 292</td><td> 1696</td><td> 589</td><td> 845</td><td> 83</td><td> 86</td><td> 259</td><td> 231</td><td> 69</td><td> 264</td></tr>\n",
       "</tbody>\n",
       "</table>\n"
      ],
      "text/latex": [
       "A data.table: 6 × 888\n",
       "\\begin{tabular}{lllllllllllllllllllll}\n",
       " GeneID & chromosome & start & end & strand & feature\\_id & TranscriptID & Length & SRZ1950491 & SRZ1950493 & ⋯ & SRR9833433 & SRZ9833428 & SRZ9833431 & SRZ9833434 & SRR11793825 & SRR11793826 & SRR11793827 & SRR11793828 & SRR11793829 & SRR11793830\\\\\n",
       " <chr> & <chr> & <int> & <int> & <chr> & <chr> & <chr> & <int> & <int> & <int> & ⋯ & <int> & <int> & <int> & <int> & <int> & <int> & <int> & <int> & <int> & <int>\\\\\n",
       "\\hline\n",
       "\t ZZZ3   & chr1  &  77562416 &  77681908 & - & gene\\_id \"ZZZ3\"; transcript\\_id \"NM\\_015534\"      & NM\\_015534    & 119493 & 3207 & 3976 & ⋯ & 1447 & 14963 & 2733 & 3146 & 588 & 838 & 2977 & 2700 & 608 & 2435\\\\\n",
       "\t ZZEF1  & chr17 &   4004445 &   4142280 & - & gene\\_id \"ZZEF1\"; transcript\\_id \"NM\\_015113\"     & NM\\_015113    & 137836 & 1882 & 2026 & ⋯ & 1015 &  6772 & 1756 & 2415 & 534 & 709 & 2286 & 1900 & 636 & 1826\\\\\n",
       "\t ZYX    & chr7  & 143382095 & 143391111 & + & gene\\_id \"ZYX\"; transcript\\_id \"NM\\_001362783\"    & NM\\_001362783 &   9017 &   55 &   33 & ⋯ &  329 &  3052 &  714 & 1434 & 123 & 156 &  312 &  306 & 118 &  273\\\\\n",
       "\t ZYG11B & chr1  &  52727203 &  52827336 & + & gene\\_id \"ZYG11B\"; transcript\\_id \"NM\\_024646\"    & NM\\_024646    & 100134 & 1043 & 1040 & ⋯ & 2087 &  3632 & 3584 & 1112 & 344 & 462 & 1505 & 1301 & 421 & 1296\\\\\n",
       "\t ZYG11A & chr1  &  52843510 &  52894995 & + & gene\\_id \"ZYG11A\"; transcript\\_id \"NM\\_001004339\" & NM\\_001004339 &  51486 &    6 &    0 & ⋯ &  183 &   802 &  193 &  209 & 275 & 380 & 1255 & 1091 & 400 & 1134\\\\\n",
       "\t ZXDC   & chr3  & 126458901 & 126475169 & - & gene\\_id \"ZXDC\"; transcript\\_id \"NM\\_001040653\"   & NM\\_001040653 &  16269 &  332 &  334 & ⋯ &  292 &  1696 &  589 &  845 &  83 &  86 &  259 &  231 &  69 &  264\\\\\n",
       "\\end{tabular}\n"
      ],
      "text/markdown": [
       "\n",
       "A data.table: 6 × 888\n",
       "\n",
       "| GeneID &lt;chr&gt; | chromosome &lt;chr&gt; | start &lt;int&gt; | end &lt;int&gt; | strand &lt;chr&gt; | feature_id &lt;chr&gt; | TranscriptID &lt;chr&gt; | Length &lt;int&gt; | SRZ1950491 &lt;int&gt; | SRZ1950493 &lt;int&gt; | ⋯ ⋯ | SRR9833433 &lt;int&gt; | SRZ9833428 &lt;int&gt; | SRZ9833431 &lt;int&gt; | SRZ9833434 &lt;int&gt; | SRR11793825 &lt;int&gt; | SRR11793826 &lt;int&gt; | SRR11793827 &lt;int&gt; | SRR11793828 &lt;int&gt; | SRR11793829 &lt;int&gt; | SRR11793830 &lt;int&gt; |\n",
       "|---|---|---|---|---|---|---|---|---|---|---|---|---|---|---|---|---|---|---|---|---|\n",
       "| ZZZ3   | chr1  |  77562416 |  77681908 | - | gene_id \"ZZZ3\"; transcript_id \"NM_015534\"      | NM_015534    | 119493 | 3207 | 3976 | ⋯ | 1447 | 14963 | 2733 | 3146 | 588 | 838 | 2977 | 2700 | 608 | 2435 |\n",
       "| ZZEF1  | chr17 |   4004445 |   4142280 | - | gene_id \"ZZEF1\"; transcript_id \"NM_015113\"     | NM_015113    | 137836 | 1882 | 2026 | ⋯ | 1015 |  6772 | 1756 | 2415 | 534 | 709 | 2286 | 1900 | 636 | 1826 |\n",
       "| ZYX    | chr7  | 143382095 | 143391111 | + | gene_id \"ZYX\"; transcript_id \"NM_001362783\"    | NM_001362783 |   9017 |   55 |   33 | ⋯ |  329 |  3052 |  714 | 1434 | 123 | 156 |  312 |  306 | 118 |  273 |\n",
       "| ZYG11B | chr1  |  52727203 |  52827336 | + | gene_id \"ZYG11B\"; transcript_id \"NM_024646\"    | NM_024646    | 100134 | 1043 | 1040 | ⋯ | 2087 |  3632 | 3584 | 1112 | 344 | 462 | 1505 | 1301 | 421 | 1296 |\n",
       "| ZYG11A | chr1  |  52843510 |  52894995 | + | gene_id \"ZYG11A\"; transcript_id \"NM_001004339\" | NM_001004339 |  51486 |    6 |    0 | ⋯ |  183 |   802 |  193 |  209 | 275 | 380 | 1255 | 1091 | 400 | 1134 |\n",
       "| ZXDC   | chr3  | 126458901 | 126475169 | - | gene_id \"ZXDC\"; transcript_id \"NM_001040653\"   | NM_001040653 |  16269 |  332 |  334 | ⋯ |  292 |  1696 |  589 |  845 |  83 |  86 |  259 |  231 |  69 |  264 |\n",
       "\n"
      ],
      "text/plain": [
       "  GeneID chromosome start     end       strand\n",
       "1 ZZZ3   chr1        77562416  77681908 -     \n",
       "2 ZZEF1  chr17        4004445   4142280 -     \n",
       "3 ZYX    chr7       143382095 143391111 +     \n",
       "4 ZYG11B chr1        52727203  52827336 +     \n",
       "5 ZYG11A chr1        52843510  52894995 +     \n",
       "6 ZXDC   chr3       126458901 126475169 -     \n",
       "  feature_id                                     TranscriptID Length SRZ1950491\n",
       "1 gene_id \"ZZZ3\"; transcript_id \"NM_015534\"      NM_015534    119493 3207      \n",
       "2 gene_id \"ZZEF1\"; transcript_id \"NM_015113\"     NM_015113    137836 1882      \n",
       "3 gene_id \"ZYX\"; transcript_id \"NM_001362783\"    NM_001362783   9017   55      \n",
       "4 gene_id \"ZYG11B\"; transcript_id \"NM_024646\"    NM_024646    100134 1043      \n",
       "5 gene_id \"ZYG11A\"; transcript_id \"NM_001004339\" NM_001004339  51486    6      \n",
       "6 gene_id \"ZXDC\"; transcript_id \"NM_001040653\"   NM_001040653  16269  332      \n",
       "  SRZ1950493 ⋯ SRR9833433 SRZ9833428 SRZ9833431 SRZ9833434 SRR11793825\n",
       "1 3976       ⋯ 1447       14963      2733       3146       588        \n",
       "2 2026       ⋯ 1015        6772      1756       2415       534        \n",
       "3   33       ⋯  329        3052       714       1434       123        \n",
       "4 1040       ⋯ 2087        3632      3584       1112       344        \n",
       "5    0       ⋯  183         802       193        209       275        \n",
       "6  334       ⋯  292        1696       589        845        83        \n",
       "  SRR11793826 SRR11793827 SRR11793828 SRR11793829 SRR11793830\n",
       "1 838         2977        2700        608         2435       \n",
       "2 709         2286        1900        636         1826       \n",
       "3 156          312         306        118          273       \n",
       "4 462         1505        1301        421         1296       \n",
       "5 380         1255        1091        400         1134       \n",
       "6  86          259         231         69          264       "
      ]
     },
     "metadata": {},
     "output_type": "display_data"
    }
   ],
   "source": [
    "trunc_counts_DT_genes <- trunc_counts_DT_features[order(-GeneID, Length), \n",
    "                                      head(.SD, 1), by = GeneID]\n",
    "dim(trunc_counts_DT_genes)\n",
    "head(trunc_counts_DT_genes)"
   ]
  },
  {
   "cell_type": "markdown",
   "metadata": {},
   "source": [
    "#### Bidirectionals "
   ]
  },
  {
   "cell_type": "code",
   "execution_count": 23,
   "metadata": {
    "scrolled": true
   },
   "outputs": [
    {
     "data": {
      "text/html": [
       "<table class=\"dataframe\">\n",
       "<caption>A data.table: 6 × 3</caption>\n",
       "<thead>\n",
       "\t<tr><th scope=col>GeneID</th><th scope=col>Source</th><th scope=col>SRR4090100.sorted.sorted.bam</th></tr>\n",
       "\t<tr><th scope=col>&lt;chr&gt;</th><th scope=col>&lt;chr&gt;</th><th scope=col>&lt;int&gt;</th></tr>\n",
       "</thead>\n",
       "<tbody>\n",
       "\t<tr><td>chr1:3730-7399  </td><td>dreg     </td><td>0</td></tr>\n",
       "\t<tr><td>chr1:10152-11370</td><td>tfit,dreg</td><td>0</td></tr>\n",
       "\t<tr><td>chr1:12345-12711</td><td>dreg     </td><td>0</td></tr>\n",
       "\t<tr><td>chr1:13250-13756</td><td>dreg     </td><td>0</td></tr>\n",
       "\t<tr><td>chr1:15111-15407</td><td>dreg     </td><td>0</td></tr>\n",
       "\t<tr><td>chr1:16192-17624</td><td>tfit,dreg</td><td>0</td></tr>\n",
       "</tbody>\n",
       "</table>\n"
      ],
      "text/latex": [
       "A data.table: 6 × 3\n",
       "\\begin{tabular}{lll}\n",
       " GeneID & Source & SRR4090100.sorted.sorted.bam\\\\\n",
       " <chr> & <chr> & <int>\\\\\n",
       "\\hline\n",
       "\t chr1:3730-7399   & dreg      & 0\\\\\n",
       "\t chr1:10152-11370 & tfit,dreg & 0\\\\\n",
       "\t chr1:12345-12711 & dreg      & 0\\\\\n",
       "\t chr1:13250-13756 & dreg      & 0\\\\\n",
       "\t chr1:15111-15407 & dreg      & 0\\\\\n",
       "\t chr1:16192-17624 & tfit,dreg & 0\\\\\n",
       "\\end{tabular}\n"
      ],
      "text/markdown": [
       "\n",
       "A data.table: 6 × 3\n",
       "\n",
       "| GeneID &lt;chr&gt; | Source &lt;chr&gt; | SRR4090100.sorted.sorted.bam &lt;int&gt; |\n",
       "|---|---|---|\n",
       "| chr1:3730-7399   | dreg      | 0 |\n",
       "| chr1:10152-11370 | tfit,dreg | 0 |\n",
       "| chr1:12345-12711 | dreg      | 0 |\n",
       "| chr1:13250-13756 | dreg      | 0 |\n",
       "| chr1:15111-15407 | dreg      | 0 |\n",
       "| chr1:16192-17624 | tfit,dreg | 0 |\n",
       "\n"
      ],
      "text/plain": [
       "  GeneID           Source    SRR4090100.sorted.sorted.bam\n",
       "1 chr1:3730-7399   dreg      0                           \n",
       "2 chr1:10152-11370 tfit,dreg 0                           \n",
       "3 chr1:12345-12711 dreg      0                           \n",
       "4 chr1:13250-13756 dreg      0                           \n",
       "5 chr1:15111-15407 dreg      0                           \n",
       "6 chr1:16192-17624 tfit,dreg 0                           "
      ]
     },
     "metadata": {},
     "output_type": "display_data"
    },
    {
     "data": {
      "text/html": [
       "<style>\n",
       ".list-inline {list-style: none; margin:0; padding: 0}\n",
       ".list-inline>li {display: inline-block}\n",
       ".list-inline>li:not(:last-child)::after {content: \"\\00b7\"; padding: 0 .5ex}\n",
       "</style>\n",
       "<ol class=list-inline><li>652281</li><li>3</li></ol>\n"
      ],
      "text/latex": [
       "\\begin{enumerate*}\n",
       "\\item 652281\n",
       "\\item 3\n",
       "\\end{enumerate*}\n"
      ],
      "text/markdown": [
       "1. 652281\n",
       "2. 3\n",
       "\n",
       "\n"
      ],
      "text/plain": [
       "[1] 652281      3"
      ]
     },
     "metadata": {},
     "output_type": "display_data"
    }
   ],
   "source": [
    "example_pos <- data.table::fread('/Shares/dbnascent/Andrysik2017identification/featurecounts_bidirs/SRR4090100.sorted.pos.bidir_counts.txt')\n",
    "head(example_pos)\n",
    "dim(example_pos)"
   ]
  },
  {
   "cell_type": "code",
   "execution_count": 24,
   "metadata": {},
   "outputs": [
    {
     "data": {
      "text/html": [
       "<table class=\"dataframe\">\n",
       "<caption>A data.frame: 6 × 5</caption>\n",
       "<thead>\n",
       "\t<tr><th></th><th scope=col>chromosome</th><th scope=col>start</th><th scope=col>end</th><th scope=col>Length</th><th scope=col>Geneid</th></tr>\n",
       "\t<tr><th></th><th scope=col>&lt;fct&gt;</th><th scope=col>&lt;fct&gt;</th><th scope=col>&lt;fct&gt;</th><th scope=col>&lt;dbl&gt;</th><th scope=col>&lt;fct&gt;</th></tr>\n",
       "</thead>\n",
       "<tbody>\n",
       "\t<tr><th scope=row>1</th><td>chr1</td><td>3730 </td><td>7399 </td><td>3669</td><td>chr1-3730-7399-dreg       </td></tr>\n",
       "\t<tr><th scope=row>2</th><td>chr1</td><td>10152</td><td>11370</td><td>1218</td><td>chr1-10152-11370-tfit,dreg</td></tr>\n",
       "\t<tr><th scope=row>3</th><td>chr1</td><td>12345</td><td>12711</td><td> 366</td><td>chr1-12345-12711-dreg     </td></tr>\n",
       "\t<tr><th scope=row>4</th><td>chr1</td><td>13250</td><td>13756</td><td> 506</td><td>chr1-13250-13756-dreg     </td></tr>\n",
       "\t<tr><th scope=row>5</th><td>chr1</td><td>15111</td><td>15407</td><td> 296</td><td>chr1-15111-15407-dreg     </td></tr>\n",
       "\t<tr><th scope=row>6</th><td>chr1</td><td>16192</td><td>17624</td><td>1432</td><td>chr1-16192-17624-tfit,dreg</td></tr>\n",
       "</tbody>\n",
       "</table>\n"
      ],
      "text/latex": [
       "A data.frame: 6 × 5\n",
       "\\begin{tabular}{r|lllll}\n",
       "  & chromosome & start & end & Length & Geneid\\\\\n",
       "  & <fct> & <fct> & <fct> & <dbl> & <fct>\\\\\n",
       "\\hline\n",
       "\t1 & chr1 & 3730  & 7399  & 3669 & chr1-3730-7399-dreg       \\\\\n",
       "\t2 & chr1 & 10152 & 11370 & 1218 & chr1-10152-11370-tfit,dreg\\\\\n",
       "\t3 & chr1 & 12345 & 12711 &  366 & chr1-12345-12711-dreg     \\\\\n",
       "\t4 & chr1 & 13250 & 13756 &  506 & chr1-13250-13756-dreg     \\\\\n",
       "\t5 & chr1 & 15111 & 15407 &  296 & chr1-15111-15407-dreg     \\\\\n",
       "\t6 & chr1 & 16192 & 17624 & 1432 & chr1-16192-17624-tfit,dreg\\\\\n",
       "\\end{tabular}\n"
      ],
      "text/markdown": [
       "\n",
       "A data.frame: 6 × 5\n",
       "\n",
       "| <!--/--> | chromosome &lt;fct&gt; | start &lt;fct&gt; | end &lt;fct&gt; | Length &lt;dbl&gt; | Geneid &lt;fct&gt; |\n",
       "|---|---|---|---|---|---|\n",
       "| 1 | chr1 | 3730  | 7399  | 3669 | chr1-3730-7399-dreg        |\n",
       "| 2 | chr1 | 10152 | 11370 | 1218 | chr1-10152-11370-tfit,dreg |\n",
       "| 3 | chr1 | 12345 | 12711 |  366 | chr1-12345-12711-dreg      |\n",
       "| 4 | chr1 | 13250 | 13756 |  506 | chr1-13250-13756-dreg      |\n",
       "| 5 | chr1 | 15111 | 15407 |  296 | chr1-15111-15407-dreg      |\n",
       "| 6 | chr1 | 16192 | 17624 | 1432 | chr1-16192-17624-tfit,dreg |\n",
       "\n"
      ],
      "text/plain": [
       "  chromosome start end   Length Geneid                    \n",
       "1 chr1       3730  7399  3669   chr1-3730-7399-dreg       \n",
       "2 chr1       10152 11370 1218   chr1-10152-11370-tfit,dreg\n",
       "3 chr1       12345 12711  366   chr1-12345-12711-dreg     \n",
       "4 chr1       13250 13756  506   chr1-13250-13756-dreg     \n",
       "5 chr1       15111 15407  296   chr1-15111-15407-dreg     \n",
       "6 chr1       16192 17624 1432   chr1-16192-17624-tfit,dreg"
      ]
     },
     "metadata": {},
     "output_type": "display_data"
    }
   ],
   "source": [
    "chromosome <- as.character(lapply(strsplit(example_pos$GeneID,':'), `[`, 1))\n",
    "start_end <- as.character(lapply(strsplit(example_pos$GeneID,':'), `[`, 2))\n",
    "start <- as.character(lapply(strsplit(start_end,'-'), `[`, 1))\n",
    "end <- as.character(lapply(strsplit(start_end,'-'), `[`, 2))\n",
    "Length <- as.numeric(end)-as.numeric(start)\n",
    "Geneid <-paste0(chromosome,'-', start,'-',end,'-',example_pos$Source)\n",
    "\n",
    "bidir_coord <- data.frame(chromosome, start, end, Length, Geneid)\n",
    "head(bidir_coord)"
   ]
  },
  {
   "cell_type": "code",
   "execution_count": 25,
   "metadata": {},
   "outputs": [],
   "source": [
    "#load all counts excluding the metadata columns\n",
    "counts_bidir_pos_DT <- lapply(counts_paths_pos, \n",
    "                    data.table::fread, \n",
    "                    drop = c('GeneID', 'Source')) \n",
    "\n",
    "#make sure the counts are from human annotations with 41813 transcripts\n",
    "## Positive strand\n",
    "counts_bidir_pos <- counts_bidir_pos_DT [sapply(counts_bidir_pos_DT,\n",
    "                                                function(x) nrow(x) == 652281)]\n",
    "                         "
   ]
  },
  {
   "cell_type": "code",
   "execution_count": 26,
   "metadata": {},
   "outputs": [
    {
     "data": {
      "text/html": [
       "<style>\n",
       ".list-inline {list-style: none; margin:0; padding: 0}\n",
       ".list-inline>li {display: inline-block}\n",
       ".list-inline>li:not(:last-child)::after {content: \"\\00b7\"; padding: 0 .5ex}\n",
       "</style>\n",
       "<ol class=list-inline><li>652281</li><li>887</li></ol>\n"
      ],
      "text/latex": [
       "\\begin{enumerate*}\n",
       "\\item 652281\n",
       "\\item 887\n",
       "\\end{enumerate*}\n"
      ],
      "text/markdown": [
       "1. 652281\n",
       "2. 887\n",
       "\n",
       "\n"
      ],
      "text/plain": [
       "[1] 652281    887"
      ]
     },
     "metadata": {},
     "output_type": "display_data"
    },
    {
     "data": {
      "text/html": [
       "<table class=\"dataframe\">\n",
       "<caption>A data.frame: 6 × 887</caption>\n",
       "<thead>\n",
       "\t<tr><th></th><th scope=col>chromosome</th><th scope=col>start</th><th scope=col>end</th><th scope=col>Length</th><th scope=col>Geneid</th><th scope=col>GeneID</th><th scope=col>Source</th><th scope=col>SRZ1950491</th><th scope=col>SRZ1950493</th><th scope=col>SRZ1950495</th><th scope=col>⋯</th><th scope=col>SRR9833433</th><th scope=col>SRZ9833428</th><th scope=col>SRZ9833431</th><th scope=col>SRZ9833434</th><th scope=col>SRR11793825</th><th scope=col>SRR11793826</th><th scope=col>SRR11793827</th><th scope=col>SRR11793828</th><th scope=col>SRR11793829</th><th scope=col>SRR11793830</th></tr>\n",
       "\t<tr><th></th><th scope=col>&lt;fct&gt;</th><th scope=col>&lt;fct&gt;</th><th scope=col>&lt;fct&gt;</th><th scope=col>&lt;dbl&gt;</th><th scope=col>&lt;fct&gt;</th><th scope=col>&lt;chr&gt;</th><th scope=col>&lt;chr&gt;</th><th scope=col>&lt;int&gt;</th><th scope=col>&lt;int&gt;</th><th scope=col>&lt;int&gt;</th><th scope=col>⋯</th><th scope=col>&lt;int&gt;</th><th scope=col>&lt;int&gt;</th><th scope=col>&lt;int&gt;</th><th scope=col>&lt;int&gt;</th><th scope=col>&lt;int&gt;</th><th scope=col>&lt;int&gt;</th><th scope=col>&lt;int&gt;</th><th scope=col>&lt;int&gt;</th><th scope=col>&lt;int&gt;</th><th scope=col>&lt;int&gt;</th></tr>\n",
       "</thead>\n",
       "<tbody>\n",
       "\t<tr><th scope=row>1</th><td>chr1</td><td>3730 </td><td>7399 </td><td>3669</td><td>chr1-3730-7399-dreg       </td><td>chr1:3730-7399  </td><td>dreg     </td><td>0</td><td>0</td><td>0</td><td>⋯</td><td> 0</td><td>  0</td><td> 0</td><td> 0</td><td>0</td><td> 0</td><td> 0</td><td> 0</td><td>0</td><td> 0</td></tr>\n",
       "\t<tr><th scope=row>2</th><td>chr1</td><td>10152</td><td>11370</td><td>1218</td><td>chr1-10152-11370-tfit,dreg</td><td>chr1:10152-11370</td><td>tfit,dreg</td><td>0</td><td>0</td><td>0</td><td>⋯</td><td> 1</td><td>  2</td><td> 5</td><td>16</td><td>0</td><td> 0</td><td> 0</td><td> 0</td><td>0</td><td> 0</td></tr>\n",
       "\t<tr><th scope=row>3</th><td>chr1</td><td>12345</td><td>12711</td><td> 366</td><td>chr1-12345-12711-dreg     </td><td>chr1:12345-12711</td><td>dreg     </td><td>0</td><td>0</td><td>0</td><td>⋯</td><td> 0</td><td>  0</td><td> 0</td><td> 0</td><td>0</td><td> 0</td><td> 0</td><td> 0</td><td>0</td><td> 0</td></tr>\n",
       "\t<tr><th scope=row>4</th><td>chr1</td><td>13250</td><td>13756</td><td> 506</td><td>chr1-13250-13756-dreg     </td><td>chr1:13250-13756</td><td>dreg     </td><td>0</td><td>0</td><td>0</td><td>⋯</td><td> 5</td><td> 38</td><td> 5</td><td>12</td><td>6</td><td> 7</td><td> 8</td><td>10</td><td>0</td><td> 5</td></tr>\n",
       "\t<tr><th scope=row>5</th><td>chr1</td><td>15111</td><td>15407</td><td> 296</td><td>chr1-15111-15407-dreg     </td><td>chr1:15111-15407</td><td>dreg     </td><td>0</td><td>0</td><td>0</td><td>⋯</td><td> 3</td><td> 22</td><td> 3</td><td> 2</td><td>0</td><td> 1</td><td> 3</td><td> 0</td><td>0</td><td> 2</td></tr>\n",
       "\t<tr><th scope=row>6</th><td>chr1</td><td>16192</td><td>17624</td><td>1432</td><td>chr1-16192-17624-tfit,dreg</td><td>chr1:16192-17624</td><td>tfit,dreg</td><td>4</td><td>0</td><td>0</td><td>⋯</td><td>28</td><td>181</td><td>27</td><td>75</td><td>5</td><td>12</td><td>22</td><td>18</td><td>0</td><td>10</td></tr>\n",
       "</tbody>\n",
       "</table>\n"
      ],
      "text/latex": [
       "A data.frame: 6 × 887\n",
       "\\begin{tabular}{r|lllllllllllllllllllll}\n",
       "  & chromosome & start & end & Length & Geneid & GeneID & Source & SRZ1950491 & SRZ1950493 & SRZ1950495 & ⋯ & SRR9833433 & SRZ9833428 & SRZ9833431 & SRZ9833434 & SRR11793825 & SRR11793826 & SRR11793827 & SRR11793828 & SRR11793829 & SRR11793830\\\\\n",
       "  & <fct> & <fct> & <fct> & <dbl> & <fct> & <chr> & <chr> & <int> & <int> & <int> & ⋯ & <int> & <int> & <int> & <int> & <int> & <int> & <int> & <int> & <int> & <int>\\\\\n",
       "\\hline\n",
       "\t1 & chr1 & 3730  & 7399  & 3669 & chr1-3730-7399-dreg        & chr1:3730-7399   & dreg      & 0 & 0 & 0 & ⋯ &  0 &   0 &  0 &  0 & 0 &  0 &  0 &  0 & 0 &  0\\\\\n",
       "\t2 & chr1 & 10152 & 11370 & 1218 & chr1-10152-11370-tfit,dreg & chr1:10152-11370 & tfit,dreg & 0 & 0 & 0 & ⋯ &  1 &   2 &  5 & 16 & 0 &  0 &  0 &  0 & 0 &  0\\\\\n",
       "\t3 & chr1 & 12345 & 12711 &  366 & chr1-12345-12711-dreg      & chr1:12345-12711 & dreg      & 0 & 0 & 0 & ⋯ &  0 &   0 &  0 &  0 & 0 &  0 &  0 &  0 & 0 &  0\\\\\n",
       "\t4 & chr1 & 13250 & 13756 &  506 & chr1-13250-13756-dreg      & chr1:13250-13756 & dreg      & 0 & 0 & 0 & ⋯ &  5 &  38 &  5 & 12 & 6 &  7 &  8 & 10 & 0 &  5\\\\\n",
       "\t5 & chr1 & 15111 & 15407 &  296 & chr1-15111-15407-dreg      & chr1:15111-15407 & dreg      & 0 & 0 & 0 & ⋯ &  3 &  22 &  3 &  2 & 0 &  1 &  3 &  0 & 0 &  2\\\\\n",
       "\t6 & chr1 & 16192 & 17624 & 1432 & chr1-16192-17624-tfit,dreg & chr1:16192-17624 & tfit,dreg & 4 & 0 & 0 & ⋯ & 28 & 181 & 27 & 75 & 5 & 12 & 22 & 18 & 0 & 10\\\\\n",
       "\\end{tabular}\n"
      ],
      "text/markdown": [
       "\n",
       "A data.frame: 6 × 887\n",
       "\n",
       "| <!--/--> | chromosome &lt;fct&gt; | start &lt;fct&gt; | end &lt;fct&gt; | Length &lt;dbl&gt; | Geneid &lt;fct&gt; | GeneID &lt;chr&gt; | Source &lt;chr&gt; | SRZ1950491 &lt;int&gt; | SRZ1950493 &lt;int&gt; | SRZ1950495 &lt;int&gt; | ⋯ ⋯ | SRR9833433 &lt;int&gt; | SRZ9833428 &lt;int&gt; | SRZ9833431 &lt;int&gt; | SRZ9833434 &lt;int&gt; | SRR11793825 &lt;int&gt; | SRR11793826 &lt;int&gt; | SRR11793827 &lt;int&gt; | SRR11793828 &lt;int&gt; | SRR11793829 &lt;int&gt; | SRR11793830 &lt;int&gt; |\n",
       "|---|---|---|---|---|---|---|---|---|---|---|---|---|---|---|---|---|---|---|---|---|---|\n",
       "| 1 | chr1 | 3730  | 7399  | 3669 | chr1-3730-7399-dreg        | chr1:3730-7399   | dreg      | 0 | 0 | 0 | ⋯ |  0 |   0 |  0 |  0 | 0 |  0 |  0 |  0 | 0 |  0 |\n",
       "| 2 | chr1 | 10152 | 11370 | 1218 | chr1-10152-11370-tfit,dreg | chr1:10152-11370 | tfit,dreg | 0 | 0 | 0 | ⋯ |  1 |   2 |  5 | 16 | 0 |  0 |  0 |  0 | 0 |  0 |\n",
       "| 3 | chr1 | 12345 | 12711 |  366 | chr1-12345-12711-dreg      | chr1:12345-12711 | dreg      | 0 | 0 | 0 | ⋯ |  0 |   0 |  0 |  0 | 0 |  0 |  0 |  0 | 0 |  0 |\n",
       "| 4 | chr1 | 13250 | 13756 |  506 | chr1-13250-13756-dreg      | chr1:13250-13756 | dreg      | 0 | 0 | 0 | ⋯ |  5 |  38 |  5 | 12 | 6 |  7 |  8 | 10 | 0 |  5 |\n",
       "| 5 | chr1 | 15111 | 15407 |  296 | chr1-15111-15407-dreg      | chr1:15111-15407 | dreg      | 0 | 0 | 0 | ⋯ |  3 |  22 |  3 |  2 | 0 |  1 |  3 |  0 | 0 |  2 |\n",
       "| 6 | chr1 | 16192 | 17624 | 1432 | chr1-16192-17624-tfit,dreg | chr1:16192-17624 | tfit,dreg | 4 | 0 | 0 | ⋯ | 28 | 181 | 27 | 75 | 5 | 12 | 22 | 18 | 0 | 10 |\n",
       "\n"
      ],
      "text/plain": [
       "  chromosome start end   Length Geneid                     GeneID          \n",
       "1 chr1       3730  7399  3669   chr1-3730-7399-dreg        chr1:3730-7399  \n",
       "2 chr1       10152 11370 1218   chr1-10152-11370-tfit,dreg chr1:10152-11370\n",
       "3 chr1       12345 12711  366   chr1-12345-12711-dreg      chr1:12345-12711\n",
       "4 chr1       13250 13756  506   chr1-13250-13756-dreg      chr1:13250-13756\n",
       "5 chr1       15111 15407  296   chr1-15111-15407-dreg      chr1:15111-15407\n",
       "6 chr1       16192 17624 1432   chr1-16192-17624-tfit,dreg chr1:16192-17624\n",
       "  Source    SRZ1950491 SRZ1950493 SRZ1950495 ⋯ SRR9833433 SRZ9833428 SRZ9833431\n",
       "1 dreg      0          0          0          ⋯  0           0         0        \n",
       "2 tfit,dreg 0          0          0          ⋯  1           2         5        \n",
       "3 dreg      0          0          0          ⋯  0           0         0        \n",
       "4 dreg      0          0          0          ⋯  5          38         5        \n",
       "5 dreg      0          0          0          ⋯  3          22         3        \n",
       "6 tfit,dreg 4          0          0          ⋯ 28         181        27        \n",
       "  SRZ9833434 SRR11793825 SRR11793826 SRR11793827 SRR11793828 SRR11793829\n",
       "1  0         0            0           0           0          0          \n",
       "2 16         0            0           0           0          0          \n",
       "3  0         0            0           0           0          0          \n",
       "4 12         6            7           8          10          0          \n",
       "5  2         0            1           3           0          0          \n",
       "6 75         5           12          22          18          0          \n",
       "  SRR11793830\n",
       "1  0         \n",
       "2  0         \n",
       "3  0         \n",
       "4  5         \n",
       "5  2         \n",
       "6 10         "
      ]
     },
     "metadata": {},
     "output_type": "display_data"
    }
   ],
   "source": [
    "counts_bidir_pos_merge <- dplyr::bind_cols(counts_bidir_pos)\n",
    "counts_bidir_pos_newnames <- setnames(counts_bidir_pos_merge, names(counts_bidir_pos_merge),\n",
    "                               as.character(lapply(strsplit(names(counts_bidir_pos_merge), '\\\\.'), `[`, 1)))\n",
    "counts_bidir_pos_newnames_txpts <- cbind(bidir_coord,\n",
    "                                         example_pos[,c('GeneID', 'Source')],\n",
    "                                        counts_bidir_pos_newnames)\n",
    "                                         \n",
    "dim(counts_bidir_pos_newnames_txpts)\n",
    "head(counts_bidir_pos_newnames_txpts)\n"
   ]
  },
  {
   "cell_type": "code",
   "execution_count": 27,
   "metadata": {},
   "outputs": [],
   "source": [
    "#load all counts excluding the metadata columns\n",
    "counts_bidir_neg_DT <- lapply(counts_paths_neg, \n",
    "                    data.table::fread, \n",
    "                    drop = c('GeneID', 'Source')) \n",
    "\n",
    "#make sure the counts are from human annotations with 41813 transcripts\n",
    "## Positive strand\n",
    "counts_bidir_neg <- counts_bidir_neg_DT [sapply(counts_bidir_neg_DT,\n",
    "                                                function(x) nrow(x) == 652281)]\n",
    "                         "
   ]
  },
  {
   "cell_type": "code",
   "execution_count": 28,
   "metadata": {
    "code_folding": []
   },
   "outputs": [
    {
     "data": {
      "text/html": [
       "<style>\n",
       ".list-inline {list-style: none; margin:0; padding: 0}\n",
       ".list-inline>li {display: inline-block}\n",
       ".list-inline>li:not(:last-child)::after {content: \"\\00b7\"; padding: 0 .5ex}\n",
       "</style>\n",
       "<ol class=list-inline><li>652281</li><li>887</li></ol>\n"
      ],
      "text/latex": [
       "\\begin{enumerate*}\n",
       "\\item 652281\n",
       "\\item 887\n",
       "\\end{enumerate*}\n"
      ],
      "text/markdown": [
       "1. 652281\n",
       "2. 887\n",
       "\n",
       "\n"
      ],
      "text/plain": [
       "[1] 652281    887"
      ]
     },
     "metadata": {},
     "output_type": "display_data"
    },
    {
     "data": {
      "text/html": [
       "<table class=\"dataframe\">\n",
       "<caption>A data.frame: 6 × 887</caption>\n",
       "<thead>\n",
       "\t<tr><th></th><th scope=col>chromosome</th><th scope=col>start</th><th scope=col>end</th><th scope=col>Length</th><th scope=col>Geneid</th><th scope=col>GeneID</th><th scope=col>Source</th><th scope=col>SRZ1950491</th><th scope=col>SRZ1950493</th><th scope=col>SRZ1950495</th><th scope=col>⋯</th><th scope=col>SRR9833433</th><th scope=col>SRZ9833428</th><th scope=col>SRZ9833431</th><th scope=col>SRZ9833434</th><th scope=col>SRR11793825</th><th scope=col>SRR11793826</th><th scope=col>SRR11793827</th><th scope=col>SRR11793828</th><th scope=col>SRR11793829</th><th scope=col>SRR11793830</th></tr>\n",
       "\t<tr><th></th><th scope=col>&lt;fct&gt;</th><th scope=col>&lt;fct&gt;</th><th scope=col>&lt;fct&gt;</th><th scope=col>&lt;dbl&gt;</th><th scope=col>&lt;fct&gt;</th><th scope=col>&lt;chr&gt;</th><th scope=col>&lt;chr&gt;</th><th scope=col>&lt;int&gt;</th><th scope=col>&lt;int&gt;</th><th scope=col>&lt;int&gt;</th><th scope=col>⋯</th><th scope=col>&lt;int&gt;</th><th scope=col>&lt;int&gt;</th><th scope=col>&lt;int&gt;</th><th scope=col>&lt;int&gt;</th><th scope=col>&lt;int&gt;</th><th scope=col>&lt;int&gt;</th><th scope=col>&lt;int&gt;</th><th scope=col>&lt;int&gt;</th><th scope=col>&lt;int&gt;</th><th scope=col>&lt;int&gt;</th></tr>\n",
       "</thead>\n",
       "<tbody>\n",
       "\t<tr><th scope=row>1</th><td>chr1</td><td>3730 </td><td>7399 </td><td>3669</td><td>chr1-3730-7399-dreg       </td><td>chr1:3730-7399  </td><td>dreg     </td><td> 0</td><td> 0</td><td> 0</td><td>⋯</td><td>0</td><td>0</td><td>0</td><td>0</td><td>0</td><td>0</td><td>0</td><td>0</td><td>0</td><td>0</td></tr>\n",
       "\t<tr><th scope=row>2</th><td>chr1</td><td>10152</td><td>11370</td><td>1218</td><td>chr1-10152-11370-tfit,dreg</td><td>chr1:10152-11370</td><td>tfit,dreg</td><td> 3</td><td> 1</td><td> 2</td><td>⋯</td><td>0</td><td>0</td><td>1</td><td>0</td><td>0</td><td>0</td><td>0</td><td>0</td><td>0</td><td>0</td></tr>\n",
       "\t<tr><th scope=row>3</th><td>chr1</td><td>12345</td><td>12711</td><td> 366</td><td>chr1-12345-12711-dreg     </td><td>chr1:12345-12711</td><td>dreg     </td><td> 0</td><td> 0</td><td> 0</td><td>⋯</td><td>0</td><td>0</td><td>0</td><td>0</td><td>0</td><td>0</td><td>0</td><td>0</td><td>0</td><td>0</td></tr>\n",
       "\t<tr><th scope=row>4</th><td>chr1</td><td>13250</td><td>13756</td><td> 506</td><td>chr1-13250-13756-dreg     </td><td>chr1:13250-13756</td><td>dreg     </td><td> 7</td><td> 2</td><td> 6</td><td>⋯</td><td>0</td><td>0</td><td>0</td><td>0</td><td>0</td><td>0</td><td>0</td><td>0</td><td>0</td><td>0</td></tr>\n",
       "\t<tr><th scope=row>5</th><td>chr1</td><td>15111</td><td>15407</td><td> 296</td><td>chr1-15111-15407-dreg     </td><td>chr1:15111-15407</td><td>dreg     </td><td> 0</td><td> 0</td><td> 0</td><td>⋯</td><td>1</td><td>0</td><td>0</td><td>0</td><td>0</td><td>0</td><td>0</td><td>0</td><td>0</td><td>0</td></tr>\n",
       "\t<tr><th scope=row>6</th><td>chr1</td><td>16192</td><td>17624</td><td>1432</td><td>chr1-16192-17624-tfit,dreg</td><td>chr1:16192-17624</td><td>tfit,dreg</td><td>24</td><td>16</td><td>18</td><td>⋯</td><td>0</td><td>0</td><td>0</td><td>0</td><td>0</td><td>0</td><td>0</td><td>0</td><td>0</td><td>0</td></tr>\n",
       "</tbody>\n",
       "</table>\n"
      ],
      "text/latex": [
       "A data.frame: 6 × 887\n",
       "\\begin{tabular}{r|lllllllllllllllllllll}\n",
       "  & chromosome & start & end & Length & Geneid & GeneID & Source & SRZ1950491 & SRZ1950493 & SRZ1950495 & ⋯ & SRR9833433 & SRZ9833428 & SRZ9833431 & SRZ9833434 & SRR11793825 & SRR11793826 & SRR11793827 & SRR11793828 & SRR11793829 & SRR11793830\\\\\n",
       "  & <fct> & <fct> & <fct> & <dbl> & <fct> & <chr> & <chr> & <int> & <int> & <int> & ⋯ & <int> & <int> & <int> & <int> & <int> & <int> & <int> & <int> & <int> & <int>\\\\\n",
       "\\hline\n",
       "\t1 & chr1 & 3730  & 7399  & 3669 & chr1-3730-7399-dreg        & chr1:3730-7399   & dreg      &  0 &  0 &  0 & ⋯ & 0 & 0 & 0 & 0 & 0 & 0 & 0 & 0 & 0 & 0\\\\\n",
       "\t2 & chr1 & 10152 & 11370 & 1218 & chr1-10152-11370-tfit,dreg & chr1:10152-11370 & tfit,dreg &  3 &  1 &  2 & ⋯ & 0 & 0 & 1 & 0 & 0 & 0 & 0 & 0 & 0 & 0\\\\\n",
       "\t3 & chr1 & 12345 & 12711 &  366 & chr1-12345-12711-dreg      & chr1:12345-12711 & dreg      &  0 &  0 &  0 & ⋯ & 0 & 0 & 0 & 0 & 0 & 0 & 0 & 0 & 0 & 0\\\\\n",
       "\t4 & chr1 & 13250 & 13756 &  506 & chr1-13250-13756-dreg      & chr1:13250-13756 & dreg      &  7 &  2 &  6 & ⋯ & 0 & 0 & 0 & 0 & 0 & 0 & 0 & 0 & 0 & 0\\\\\n",
       "\t5 & chr1 & 15111 & 15407 &  296 & chr1-15111-15407-dreg      & chr1:15111-15407 & dreg      &  0 &  0 &  0 & ⋯ & 1 & 0 & 0 & 0 & 0 & 0 & 0 & 0 & 0 & 0\\\\\n",
       "\t6 & chr1 & 16192 & 17624 & 1432 & chr1-16192-17624-tfit,dreg & chr1:16192-17624 & tfit,dreg & 24 & 16 & 18 & ⋯ & 0 & 0 & 0 & 0 & 0 & 0 & 0 & 0 & 0 & 0\\\\\n",
       "\\end{tabular}\n"
      ],
      "text/markdown": [
       "\n",
       "A data.frame: 6 × 887\n",
       "\n",
       "| <!--/--> | chromosome &lt;fct&gt; | start &lt;fct&gt; | end &lt;fct&gt; | Length &lt;dbl&gt; | Geneid &lt;fct&gt; | GeneID &lt;chr&gt; | Source &lt;chr&gt; | SRZ1950491 &lt;int&gt; | SRZ1950493 &lt;int&gt; | SRZ1950495 &lt;int&gt; | ⋯ ⋯ | SRR9833433 &lt;int&gt; | SRZ9833428 &lt;int&gt; | SRZ9833431 &lt;int&gt; | SRZ9833434 &lt;int&gt; | SRR11793825 &lt;int&gt; | SRR11793826 &lt;int&gt; | SRR11793827 &lt;int&gt; | SRR11793828 &lt;int&gt; | SRR11793829 &lt;int&gt; | SRR11793830 &lt;int&gt; |\n",
       "|---|---|---|---|---|---|---|---|---|---|---|---|---|---|---|---|---|---|---|---|---|---|\n",
       "| 1 | chr1 | 3730  | 7399  | 3669 | chr1-3730-7399-dreg        | chr1:3730-7399   | dreg      |  0 |  0 |  0 | ⋯ | 0 | 0 | 0 | 0 | 0 | 0 | 0 | 0 | 0 | 0 |\n",
       "| 2 | chr1 | 10152 | 11370 | 1218 | chr1-10152-11370-tfit,dreg | chr1:10152-11370 | tfit,dreg |  3 |  1 |  2 | ⋯ | 0 | 0 | 1 | 0 | 0 | 0 | 0 | 0 | 0 | 0 |\n",
       "| 3 | chr1 | 12345 | 12711 |  366 | chr1-12345-12711-dreg      | chr1:12345-12711 | dreg      |  0 |  0 |  0 | ⋯ | 0 | 0 | 0 | 0 | 0 | 0 | 0 | 0 | 0 | 0 |\n",
       "| 4 | chr1 | 13250 | 13756 |  506 | chr1-13250-13756-dreg      | chr1:13250-13756 | dreg      |  7 |  2 |  6 | ⋯ | 0 | 0 | 0 | 0 | 0 | 0 | 0 | 0 | 0 | 0 |\n",
       "| 5 | chr1 | 15111 | 15407 |  296 | chr1-15111-15407-dreg      | chr1:15111-15407 | dreg      |  0 |  0 |  0 | ⋯ | 1 | 0 | 0 | 0 | 0 | 0 | 0 | 0 | 0 | 0 |\n",
       "| 6 | chr1 | 16192 | 17624 | 1432 | chr1-16192-17624-tfit,dreg | chr1:16192-17624 | tfit,dreg | 24 | 16 | 18 | ⋯ | 0 | 0 | 0 | 0 | 0 | 0 | 0 | 0 | 0 | 0 |\n",
       "\n"
      ],
      "text/plain": [
       "  chromosome start end   Length Geneid                     GeneID          \n",
       "1 chr1       3730  7399  3669   chr1-3730-7399-dreg        chr1:3730-7399  \n",
       "2 chr1       10152 11370 1218   chr1-10152-11370-tfit,dreg chr1:10152-11370\n",
       "3 chr1       12345 12711  366   chr1-12345-12711-dreg      chr1:12345-12711\n",
       "4 chr1       13250 13756  506   chr1-13250-13756-dreg      chr1:13250-13756\n",
       "5 chr1       15111 15407  296   chr1-15111-15407-dreg      chr1:15111-15407\n",
       "6 chr1       16192 17624 1432   chr1-16192-17624-tfit,dreg chr1:16192-17624\n",
       "  Source    SRZ1950491 SRZ1950493 SRZ1950495 ⋯ SRR9833433 SRZ9833428 SRZ9833431\n",
       "1 dreg       0          0          0         ⋯ 0          0          0         \n",
       "2 tfit,dreg  3          1          2         ⋯ 0          0          1         \n",
       "3 dreg       0          0          0         ⋯ 0          0          0         \n",
       "4 dreg       7          2          6         ⋯ 0          0          0         \n",
       "5 dreg       0          0          0         ⋯ 1          0          0         \n",
       "6 tfit,dreg 24         16         18         ⋯ 0          0          0         \n",
       "  SRZ9833434 SRR11793825 SRR11793826 SRR11793827 SRR11793828 SRR11793829\n",
       "1 0          0           0           0           0           0          \n",
       "2 0          0           0           0           0           0          \n",
       "3 0          0           0           0           0           0          \n",
       "4 0          0           0           0           0           0          \n",
       "5 0          0           0           0           0           0          \n",
       "6 0          0           0           0           0           0          \n",
       "  SRR11793830\n",
       "1 0          \n",
       "2 0          \n",
       "3 0          \n",
       "4 0          \n",
       "5 0          \n",
       "6 0          "
      ]
     },
     "metadata": {},
     "output_type": "display_data"
    }
   ],
   "source": [
    "counts_bidir_neg_merge <- dplyr::bind_cols(counts_bidir_neg)\n",
    "counts_bidir_neg_newnames <- setnames(counts_bidir_neg_merge, names(counts_bidir_neg_merge),\n",
    "                               as.character(lapply(strsplit(names(counts_bidir_neg_merge), '\\\\.'), `[`, 1)))\n",
    "counts_bidir_neg_newnames_txpts <- cbind(bidir_coord,\n",
    "                                         example_pos[,c('GeneID', 'Source')],\n",
    "                                         counts_bidir_neg_newnames)\n",
    "dim(counts_bidir_neg_newnames_txpts)\n",
    "head(counts_bidir_neg_newnames_txpts)\n"
   ]
  },
  {
   "cell_type": "code",
   "execution_count": 29,
   "metadata": {},
   "outputs": [
    {
     "data": {
      "text/html": [
       "<style>\n",
       ".list-inline {list-style: none; margin:0; padding: 0}\n",
       ".list-inline>li {display: inline-block}\n",
       ".list-inline>li:not(:last-child)::after {content: \"\\00b7\"; padding: 0 .5ex}\n",
       "</style>\n",
       "<ol class=list-inline><li>652281</li><li>880</li></ol>\n"
      ],
      "text/latex": [
       "\\begin{enumerate*}\n",
       "\\item 652281\n",
       "\\item 880\n",
       "\\end{enumerate*}\n"
      ],
      "text/markdown": [
       "1. 652281\n",
       "2. 880\n",
       "\n",
       "\n"
      ],
      "text/plain": [
       "[1] 652281    880"
      ]
     },
     "metadata": {},
     "output_type": "display_data"
    },
    {
     "data": {
      "text/html": [
       "<table class=\"dataframe\">\n",
       "<caption>A data.frame: 6 × 880</caption>\n",
       "<thead>\n",
       "\t<tr><th></th><th scope=col>SRZ1950491</th><th scope=col>SRZ1950493</th><th scope=col>SRZ1950495</th><th scope=col>SRZ1950497</th><th scope=col>SRZ1950499</th><th scope=col>SRZ1950501</th><th scope=col>SRZ1950503</th><th scope=col>SRZ1950505</th><th scope=col>SRZ1950507</th><th scope=col>SRZ1950509</th><th scope=col>⋯</th><th scope=col>SRR9833433</th><th scope=col>SRZ9833428</th><th scope=col>SRZ9833431</th><th scope=col>SRZ9833434</th><th scope=col>SRR11793825</th><th scope=col>SRR11793826</th><th scope=col>SRR11793827</th><th scope=col>SRR11793828</th><th scope=col>SRR11793829</th><th scope=col>SRR11793830</th></tr>\n",
       "\t<tr><th></th><th scope=col>&lt;int&gt;</th><th scope=col>&lt;int&gt;</th><th scope=col>&lt;int&gt;</th><th scope=col>&lt;int&gt;</th><th scope=col>&lt;int&gt;</th><th scope=col>&lt;int&gt;</th><th scope=col>&lt;int&gt;</th><th scope=col>&lt;int&gt;</th><th scope=col>&lt;int&gt;</th><th scope=col>&lt;int&gt;</th><th scope=col>⋯</th><th scope=col>&lt;int&gt;</th><th scope=col>&lt;int&gt;</th><th scope=col>&lt;int&gt;</th><th scope=col>&lt;int&gt;</th><th scope=col>&lt;int&gt;</th><th scope=col>&lt;int&gt;</th><th scope=col>&lt;int&gt;</th><th scope=col>&lt;int&gt;</th><th scope=col>&lt;int&gt;</th><th scope=col>&lt;int&gt;</th></tr>\n",
       "</thead>\n",
       "<tbody>\n",
       "\t<tr><th scope=row>1</th><td> 0</td><td> 0</td><td> 0</td><td> 0</td><td> 0</td><td> 0</td><td> 0</td><td> 0</td><td> 0</td><td> 0</td><td>⋯</td><td> 0</td><td>  0</td><td> 0</td><td> 0</td><td>0</td><td> 0</td><td> 0</td><td> 0</td><td>0</td><td> 0</td></tr>\n",
       "\t<tr><th scope=row>2</th><td> 3</td><td> 1</td><td> 2</td><td> 1</td><td> 0</td><td> 0</td><td> 1</td><td> 1</td><td> 1</td><td> 0</td><td>⋯</td><td> 1</td><td>  2</td><td> 6</td><td>16</td><td>0</td><td> 0</td><td> 0</td><td> 0</td><td>0</td><td> 0</td></tr>\n",
       "\t<tr><th scope=row>3</th><td> 0</td><td> 0</td><td> 0</td><td> 0</td><td> 0</td><td> 0</td><td> 0</td><td> 0</td><td> 0</td><td> 0</td><td>⋯</td><td> 0</td><td>  0</td><td> 0</td><td> 0</td><td>0</td><td> 0</td><td> 0</td><td> 0</td><td>0</td><td> 0</td></tr>\n",
       "\t<tr><th scope=row>4</th><td> 7</td><td> 2</td><td> 6</td><td> 1</td><td> 3</td><td> 2</td><td> 4</td><td> 0</td><td> 5</td><td> 1</td><td>⋯</td><td> 5</td><td> 38</td><td> 5</td><td>12</td><td>6</td><td> 7</td><td> 8</td><td>10</td><td>0</td><td> 5</td></tr>\n",
       "\t<tr><th scope=row>5</th><td> 0</td><td> 0</td><td> 0</td><td> 0</td><td> 1</td><td> 0</td><td> 0</td><td> 0</td><td> 0</td><td> 0</td><td>⋯</td><td> 4</td><td> 22</td><td> 3</td><td> 2</td><td>0</td><td> 1</td><td> 3</td><td> 0</td><td>0</td><td> 2</td></tr>\n",
       "\t<tr><th scope=row>6</th><td>28</td><td>16</td><td>18</td><td>15</td><td>25</td><td>14</td><td>22</td><td>16</td><td>27</td><td>26</td><td>⋯</td><td>28</td><td>181</td><td>27</td><td>75</td><td>5</td><td>12</td><td>22</td><td>18</td><td>0</td><td>10</td></tr>\n",
       "</tbody>\n",
       "</table>\n"
      ],
      "text/latex": [
       "A data.frame: 6 × 880\n",
       "\\begin{tabular}{r|lllllllllllllllllllll}\n",
       "  & SRZ1950491 & SRZ1950493 & SRZ1950495 & SRZ1950497 & SRZ1950499 & SRZ1950501 & SRZ1950503 & SRZ1950505 & SRZ1950507 & SRZ1950509 & ⋯ & SRR9833433 & SRZ9833428 & SRZ9833431 & SRZ9833434 & SRR11793825 & SRR11793826 & SRR11793827 & SRR11793828 & SRR11793829 & SRR11793830\\\\\n",
       "  & <int> & <int> & <int> & <int> & <int> & <int> & <int> & <int> & <int> & <int> & ⋯ & <int> & <int> & <int> & <int> & <int> & <int> & <int> & <int> & <int> & <int>\\\\\n",
       "\\hline\n",
       "\t1 &  0 &  0 &  0 &  0 &  0 &  0 &  0 &  0 &  0 &  0 & ⋯ &  0 &   0 &  0 &  0 & 0 &  0 &  0 &  0 & 0 &  0\\\\\n",
       "\t2 &  3 &  1 &  2 &  1 &  0 &  0 &  1 &  1 &  1 &  0 & ⋯ &  1 &   2 &  6 & 16 & 0 &  0 &  0 &  0 & 0 &  0\\\\\n",
       "\t3 &  0 &  0 &  0 &  0 &  0 &  0 &  0 &  0 &  0 &  0 & ⋯ &  0 &   0 &  0 &  0 & 0 &  0 &  0 &  0 & 0 &  0\\\\\n",
       "\t4 &  7 &  2 &  6 &  1 &  3 &  2 &  4 &  0 &  5 &  1 & ⋯ &  5 &  38 &  5 & 12 & 6 &  7 &  8 & 10 & 0 &  5\\\\\n",
       "\t5 &  0 &  0 &  0 &  0 &  1 &  0 &  0 &  0 &  0 &  0 & ⋯ &  4 &  22 &  3 &  2 & 0 &  1 &  3 &  0 & 0 &  2\\\\\n",
       "\t6 & 28 & 16 & 18 & 15 & 25 & 14 & 22 & 16 & 27 & 26 & ⋯ & 28 & 181 & 27 & 75 & 5 & 12 & 22 & 18 & 0 & 10\\\\\n",
       "\\end{tabular}\n"
      ],
      "text/markdown": [
       "\n",
       "A data.frame: 6 × 880\n",
       "\n",
       "| <!--/--> | SRZ1950491 &lt;int&gt; | SRZ1950493 &lt;int&gt; | SRZ1950495 &lt;int&gt; | SRZ1950497 &lt;int&gt; | SRZ1950499 &lt;int&gt; | SRZ1950501 &lt;int&gt; | SRZ1950503 &lt;int&gt; | SRZ1950505 &lt;int&gt; | SRZ1950507 &lt;int&gt; | SRZ1950509 &lt;int&gt; | ⋯ ⋯ | SRR9833433 &lt;int&gt; | SRZ9833428 &lt;int&gt; | SRZ9833431 &lt;int&gt; | SRZ9833434 &lt;int&gt; | SRR11793825 &lt;int&gt; | SRR11793826 &lt;int&gt; | SRR11793827 &lt;int&gt; | SRR11793828 &lt;int&gt; | SRR11793829 &lt;int&gt; | SRR11793830 &lt;int&gt; |\n",
       "|---|---|---|---|---|---|---|---|---|---|---|---|---|---|---|---|---|---|---|---|---|---|\n",
       "| 1 |  0 |  0 |  0 |  0 |  0 |  0 |  0 |  0 |  0 |  0 | ⋯ |  0 |   0 |  0 |  0 | 0 |  0 |  0 |  0 | 0 |  0 |\n",
       "| 2 |  3 |  1 |  2 |  1 |  0 |  0 |  1 |  1 |  1 |  0 | ⋯ |  1 |   2 |  6 | 16 | 0 |  0 |  0 |  0 | 0 |  0 |\n",
       "| 3 |  0 |  0 |  0 |  0 |  0 |  0 |  0 |  0 |  0 |  0 | ⋯ |  0 |   0 |  0 |  0 | 0 |  0 |  0 |  0 | 0 |  0 |\n",
       "| 4 |  7 |  2 |  6 |  1 |  3 |  2 |  4 |  0 |  5 |  1 | ⋯ |  5 |  38 |  5 | 12 | 6 |  7 |  8 | 10 | 0 |  5 |\n",
       "| 5 |  0 |  0 |  0 |  0 |  1 |  0 |  0 |  0 |  0 |  0 | ⋯ |  4 |  22 |  3 |  2 | 0 |  1 |  3 |  0 | 0 |  2 |\n",
       "| 6 | 28 | 16 | 18 | 15 | 25 | 14 | 22 | 16 | 27 | 26 | ⋯ | 28 | 181 | 27 | 75 | 5 | 12 | 22 | 18 | 0 | 10 |\n",
       "\n"
      ],
      "text/plain": [
       "  SRZ1950491 SRZ1950493 SRZ1950495 SRZ1950497 SRZ1950499 SRZ1950501 SRZ1950503\n",
       "1  0          0          0          0          0          0          0        \n",
       "2  3          1          2          1          0          0          1        \n",
       "3  0          0          0          0          0          0          0        \n",
       "4  7          2          6          1          3          2          4        \n",
       "5  0          0          0          0          1          0          0        \n",
       "6 28         16         18         15         25         14         22        \n",
       "  SRZ1950505 SRZ1950507 SRZ1950509 ⋯ SRR9833433 SRZ9833428 SRZ9833431\n",
       "1  0          0          0         ⋯  0           0         0        \n",
       "2  1          1          0         ⋯  1           2         6        \n",
       "3  0          0          0         ⋯  0           0         0        \n",
       "4  0          5          1         ⋯  5          38         5        \n",
       "5  0          0          0         ⋯  4          22         3        \n",
       "6 16         27         26         ⋯ 28         181        27        \n",
       "  SRZ9833434 SRR11793825 SRR11793826 SRR11793827 SRR11793828 SRR11793829\n",
       "1  0         0            0           0           0          0          \n",
       "2 16         0            0           0           0          0          \n",
       "3  0         0            0           0           0          0          \n",
       "4 12         6            7           8          10          0          \n",
       "5  2         0            1           3           0          0          \n",
       "6 75         5           12          22          18          0          \n",
       "  SRR11793830\n",
       "1  0         \n",
       "2  0         \n",
       "3  0         \n",
       "4  5         \n",
       "5  2         \n",
       "6 10         "
      ]
     },
     "metadata": {},
     "output_type": "display_data"
    }
   ],
   "source": [
    "# sum positive and negative counts\n",
    "## NOTE. data.table or matris does not allow for summing counts by sample and transcript\n",
    "counts_bidir_neg_pos <- as.data.frame(counts_bidir_pos) + as.data.frame(counts_bidir_neg)\n",
    "colnames(counts_bidir_neg_pos) <- as.character(lapply(strsplit(colnames(counts_bidir_neg_pos),\n",
    "                                                               '\\\\.'), `[`, 1))\n",
    "dim(counts_bidir_neg_pos)\n",
    "head(counts_bidir_neg_pos)"
   ]
  },
  {
   "cell_type": "code",
   "execution_count": 30,
   "metadata": {},
   "outputs": [
    {
     "data": {
      "text/html": [
       "<table class=\"dataframe\">\n",
       "<caption>A data.frame: 6 × 887</caption>\n",
       "<thead>\n",
       "\t<tr><th></th><th scope=col>chromosome</th><th scope=col>start</th><th scope=col>end</th><th scope=col>Length</th><th scope=col>Geneid</th><th scope=col>GeneID</th><th scope=col>Source</th><th scope=col>SRZ1950491</th><th scope=col>SRZ1950493</th><th scope=col>SRZ1950495</th><th scope=col>⋯</th><th scope=col>SRR9833433</th><th scope=col>SRZ9833428</th><th scope=col>SRZ9833431</th><th scope=col>SRZ9833434</th><th scope=col>SRR11793825</th><th scope=col>SRR11793826</th><th scope=col>SRR11793827</th><th scope=col>SRR11793828</th><th scope=col>SRR11793829</th><th scope=col>SRR11793830</th></tr>\n",
       "\t<tr><th></th><th scope=col>&lt;fct&gt;</th><th scope=col>&lt;fct&gt;</th><th scope=col>&lt;fct&gt;</th><th scope=col>&lt;dbl&gt;</th><th scope=col>&lt;fct&gt;</th><th scope=col>&lt;chr&gt;</th><th scope=col>&lt;chr&gt;</th><th scope=col>&lt;int&gt;</th><th scope=col>&lt;int&gt;</th><th scope=col>&lt;int&gt;</th><th scope=col>⋯</th><th scope=col>&lt;int&gt;</th><th scope=col>&lt;int&gt;</th><th scope=col>&lt;int&gt;</th><th scope=col>&lt;int&gt;</th><th scope=col>&lt;int&gt;</th><th scope=col>&lt;int&gt;</th><th scope=col>&lt;int&gt;</th><th scope=col>&lt;int&gt;</th><th scope=col>&lt;int&gt;</th><th scope=col>&lt;int&gt;</th></tr>\n",
       "</thead>\n",
       "<tbody>\n",
       "\t<tr><th scope=row>1</th><td>chr1</td><td>3730 </td><td>7399 </td><td>3669</td><td>chr1-3730-7399-dreg       </td><td>chr1:3730-7399  </td><td>dreg     </td><td> 0</td><td> 0</td><td> 0</td><td>⋯</td><td> 0</td><td>  0</td><td> 0</td><td> 0</td><td>0</td><td> 0</td><td> 0</td><td> 0</td><td>0</td><td> 0</td></tr>\n",
       "\t<tr><th scope=row>2</th><td>chr1</td><td>10152</td><td>11370</td><td>1218</td><td>chr1-10152-11370-tfit,dreg</td><td>chr1:10152-11370</td><td>tfit,dreg</td><td> 3</td><td> 1</td><td> 2</td><td>⋯</td><td> 1</td><td>  2</td><td> 6</td><td>16</td><td>0</td><td> 0</td><td> 0</td><td> 0</td><td>0</td><td> 0</td></tr>\n",
       "\t<tr><th scope=row>3</th><td>chr1</td><td>12345</td><td>12711</td><td> 366</td><td>chr1-12345-12711-dreg     </td><td>chr1:12345-12711</td><td>dreg     </td><td> 0</td><td> 0</td><td> 0</td><td>⋯</td><td> 0</td><td>  0</td><td> 0</td><td> 0</td><td>0</td><td> 0</td><td> 0</td><td> 0</td><td>0</td><td> 0</td></tr>\n",
       "\t<tr><th scope=row>4</th><td>chr1</td><td>13250</td><td>13756</td><td> 506</td><td>chr1-13250-13756-dreg     </td><td>chr1:13250-13756</td><td>dreg     </td><td> 7</td><td> 2</td><td> 6</td><td>⋯</td><td> 5</td><td> 38</td><td> 5</td><td>12</td><td>6</td><td> 7</td><td> 8</td><td>10</td><td>0</td><td> 5</td></tr>\n",
       "\t<tr><th scope=row>5</th><td>chr1</td><td>15111</td><td>15407</td><td> 296</td><td>chr1-15111-15407-dreg     </td><td>chr1:15111-15407</td><td>dreg     </td><td> 0</td><td> 0</td><td> 0</td><td>⋯</td><td> 4</td><td> 22</td><td> 3</td><td> 2</td><td>0</td><td> 1</td><td> 3</td><td> 0</td><td>0</td><td> 2</td></tr>\n",
       "\t<tr><th scope=row>6</th><td>chr1</td><td>16192</td><td>17624</td><td>1432</td><td>chr1-16192-17624-tfit,dreg</td><td>chr1:16192-17624</td><td>tfit,dreg</td><td>28</td><td>16</td><td>18</td><td>⋯</td><td>28</td><td>181</td><td>27</td><td>75</td><td>5</td><td>12</td><td>22</td><td>18</td><td>0</td><td>10</td></tr>\n",
       "</tbody>\n",
       "</table>\n"
      ],
      "text/latex": [
       "A data.frame: 6 × 887\n",
       "\\begin{tabular}{r|lllllllllllllllllllll}\n",
       "  & chromosome & start & end & Length & Geneid & GeneID & Source & SRZ1950491 & SRZ1950493 & SRZ1950495 & ⋯ & SRR9833433 & SRZ9833428 & SRZ9833431 & SRZ9833434 & SRR11793825 & SRR11793826 & SRR11793827 & SRR11793828 & SRR11793829 & SRR11793830\\\\\n",
       "  & <fct> & <fct> & <fct> & <dbl> & <fct> & <chr> & <chr> & <int> & <int> & <int> & ⋯ & <int> & <int> & <int> & <int> & <int> & <int> & <int> & <int> & <int> & <int>\\\\\n",
       "\\hline\n",
       "\t1 & chr1 & 3730  & 7399  & 3669 & chr1-3730-7399-dreg        & chr1:3730-7399   & dreg      &  0 &  0 &  0 & ⋯ &  0 &   0 &  0 &  0 & 0 &  0 &  0 &  0 & 0 &  0\\\\\n",
       "\t2 & chr1 & 10152 & 11370 & 1218 & chr1-10152-11370-tfit,dreg & chr1:10152-11370 & tfit,dreg &  3 &  1 &  2 & ⋯ &  1 &   2 &  6 & 16 & 0 &  0 &  0 &  0 & 0 &  0\\\\\n",
       "\t3 & chr1 & 12345 & 12711 &  366 & chr1-12345-12711-dreg      & chr1:12345-12711 & dreg      &  0 &  0 &  0 & ⋯ &  0 &   0 &  0 &  0 & 0 &  0 &  0 &  0 & 0 &  0\\\\\n",
       "\t4 & chr1 & 13250 & 13756 &  506 & chr1-13250-13756-dreg      & chr1:13250-13756 & dreg      &  7 &  2 &  6 & ⋯ &  5 &  38 &  5 & 12 & 6 &  7 &  8 & 10 & 0 &  5\\\\\n",
       "\t5 & chr1 & 15111 & 15407 &  296 & chr1-15111-15407-dreg      & chr1:15111-15407 & dreg      &  0 &  0 &  0 & ⋯ &  4 &  22 &  3 &  2 & 0 &  1 &  3 &  0 & 0 &  2\\\\\n",
       "\t6 & chr1 & 16192 & 17624 & 1432 & chr1-16192-17624-tfit,dreg & chr1:16192-17624 & tfit,dreg & 28 & 16 & 18 & ⋯ & 28 & 181 & 27 & 75 & 5 & 12 & 22 & 18 & 0 & 10\\\\\n",
       "\\end{tabular}\n"
      ],
      "text/markdown": [
       "\n",
       "A data.frame: 6 × 887\n",
       "\n",
       "| <!--/--> | chromosome &lt;fct&gt; | start &lt;fct&gt; | end &lt;fct&gt; | Length &lt;dbl&gt; | Geneid &lt;fct&gt; | GeneID &lt;chr&gt; | Source &lt;chr&gt; | SRZ1950491 &lt;int&gt; | SRZ1950493 &lt;int&gt; | SRZ1950495 &lt;int&gt; | ⋯ ⋯ | SRR9833433 &lt;int&gt; | SRZ9833428 &lt;int&gt; | SRZ9833431 &lt;int&gt; | SRZ9833434 &lt;int&gt; | SRR11793825 &lt;int&gt; | SRR11793826 &lt;int&gt; | SRR11793827 &lt;int&gt; | SRR11793828 &lt;int&gt; | SRR11793829 &lt;int&gt; | SRR11793830 &lt;int&gt; |\n",
       "|---|---|---|---|---|---|---|---|---|---|---|---|---|---|---|---|---|---|---|---|---|---|\n",
       "| 1 | chr1 | 3730  | 7399  | 3669 | chr1-3730-7399-dreg        | chr1:3730-7399   | dreg      |  0 |  0 |  0 | ⋯ |  0 |   0 |  0 |  0 | 0 |  0 |  0 |  0 | 0 |  0 |\n",
       "| 2 | chr1 | 10152 | 11370 | 1218 | chr1-10152-11370-tfit,dreg | chr1:10152-11370 | tfit,dreg |  3 |  1 |  2 | ⋯ |  1 |   2 |  6 | 16 | 0 |  0 |  0 |  0 | 0 |  0 |\n",
       "| 3 | chr1 | 12345 | 12711 |  366 | chr1-12345-12711-dreg      | chr1:12345-12711 | dreg      |  0 |  0 |  0 | ⋯ |  0 |   0 |  0 |  0 | 0 |  0 |  0 |  0 | 0 |  0 |\n",
       "| 4 | chr1 | 13250 | 13756 |  506 | chr1-13250-13756-dreg      | chr1:13250-13756 | dreg      |  7 |  2 |  6 | ⋯ |  5 |  38 |  5 | 12 | 6 |  7 |  8 | 10 | 0 |  5 |\n",
       "| 5 | chr1 | 15111 | 15407 |  296 | chr1-15111-15407-dreg      | chr1:15111-15407 | dreg      |  0 |  0 |  0 | ⋯ |  4 |  22 |  3 |  2 | 0 |  1 |  3 |  0 | 0 |  2 |\n",
       "| 6 | chr1 | 16192 | 17624 | 1432 | chr1-16192-17624-tfit,dreg | chr1:16192-17624 | tfit,dreg | 28 | 16 | 18 | ⋯ | 28 | 181 | 27 | 75 | 5 | 12 | 22 | 18 | 0 | 10 |\n",
       "\n"
      ],
      "text/plain": [
       "  chromosome start end   Length Geneid                     GeneID          \n",
       "1 chr1       3730  7399  3669   chr1-3730-7399-dreg        chr1:3730-7399  \n",
       "2 chr1       10152 11370 1218   chr1-10152-11370-tfit,dreg chr1:10152-11370\n",
       "3 chr1       12345 12711  366   chr1-12345-12711-dreg      chr1:12345-12711\n",
       "4 chr1       13250 13756  506   chr1-13250-13756-dreg      chr1:13250-13756\n",
       "5 chr1       15111 15407  296   chr1-15111-15407-dreg      chr1:15111-15407\n",
       "6 chr1       16192 17624 1432   chr1-16192-17624-tfit,dreg chr1:16192-17624\n",
       "  Source    SRZ1950491 SRZ1950493 SRZ1950495 ⋯ SRR9833433 SRZ9833428 SRZ9833431\n",
       "1 dreg       0          0          0         ⋯  0           0         0        \n",
       "2 tfit,dreg  3          1          2         ⋯  1           2         6        \n",
       "3 dreg       0          0          0         ⋯  0           0         0        \n",
       "4 dreg       7          2          6         ⋯  5          38         5        \n",
       "5 dreg       0          0          0         ⋯  4          22         3        \n",
       "6 tfit,dreg 28         16         18         ⋯ 28         181        27        \n",
       "  SRZ9833434 SRR11793825 SRR11793826 SRR11793827 SRR11793828 SRR11793829\n",
       "1  0         0            0           0           0          0          \n",
       "2 16         0            0           0           0          0          \n",
       "3  0         0            0           0           0          0          \n",
       "4 12         6            7           8          10          0          \n",
       "5  2         0            1           3           0          0          \n",
       "6 75         5           12          22          18          0          \n",
       "  SRR11793830\n",
       "1  0         \n",
       "2  0         \n",
       "3  0         \n",
       "4  5         \n",
       "5  2         \n",
       "6 10         "
      ]
     },
     "metadata": {},
     "output_type": "display_data"
    },
    {
     "data": {
      "text/html": [
       "<style>\n",
       ".list-inline {list-style: none; margin:0; padding: 0}\n",
       ".list-inline>li {display: inline-block}\n",
       ".list-inline>li:not(:last-child)::after {content: \"\\00b7\"; padding: 0 .5ex}\n",
       "</style>\n",
       "<ol class=list-inline><li>652281</li><li>887</li></ol>\n"
      ],
      "text/latex": [
       "\\begin{enumerate*}\n",
       "\\item 652281\n",
       "\\item 887\n",
       "\\end{enumerate*}\n"
      ],
      "text/markdown": [
       "1. 652281\n",
       "2. 887\n",
       "\n",
       "\n"
      ],
      "text/plain": [
       "[1] 652281    887"
      ]
     },
     "metadata": {},
     "output_type": "display_data"
    }
   ],
   "source": [
    "counts_bidir <- cbind(bidir_coord,\n",
    "                      example_pos[,c('GeneID', 'Source')], \n",
    "                      counts_bidir_neg_pos)\n",
    "head(counts_bidir)\n",
    "dim(counts_bidir)"
   ]
  },
  {
   "cell_type": "markdown",
   "metadata": {},
   "source": [
    "# Save counts\n",
    "\n",
    "## Genes"
   ]
  },
  {
   "cell_type": "code",
   "execution_count": 31,
   "metadata": {},
   "outputs": [],
   "source": [
    "data.table::fwrite(counts_DT_genes,\n",
    "           \"/Users/rusi2317/projects/DBNascent_Analysis/data/final_counts/counts_genes.tsv.gz\",\n",
    "           sep='\\t')"
   ]
  },
  {
   "cell_type": "code",
   "execution_count": 32,
   "metadata": {},
   "outputs": [],
   "source": [
    "data.table::fwrite(trunc_counts_DT_genes,\n",
    "           \"/Users/rusi2317/projects/DBNascent_Analysis/data/final_counts/counts_genes_5ptrunc.tsv.gz\",\n",
    "           sep='\\t')\n"
   ]
  },
  {
   "cell_type": "markdown",
   "metadata": {},
   "source": [
    "## Bidirectionals "
   ]
  },
  {
   "cell_type": "code",
   "execution_count": 33,
   "metadata": {},
   "outputs": [],
   "source": [
    "data.table::fwrite(counts_bidir_pos_newnames_txpts,\n",
    "           \"/Users/rusi2317/projects/DBNascent_Analysis/data/final_counts/counts_bidirs_pos.tsv.gz\",\n",
    "           sep='\\t')\n",
    "\n",
    "data.table::fwrite(counts_bidir_neg_newnames_txpts,\n",
    "           \"/Users/rusi2317/projects/DBNascent_Analysis/data/final_counts/counts_bidirs_neg.tsv.gz\",\n",
    "           sep='\\t')\n",
    "\n",
    "data.table::fwrite(counts_bidir,\n",
    "           \"/Users/rusi2317/projects/DBNascent_Analysis/data/final_counts/counts_bidirs.tsv.gz\",\n",
    "           sep='\\t')"
   ]
  },
  {
   "cell_type": "markdown",
   "metadata": {},
   "source": [
    "# Session Information"
   ]
  },
  {
   "cell_type": "code",
   "execution_count": 34,
   "metadata": {},
   "outputs": [
    {
     "data": {
      "text/plain": [
       "R version 3.6.0 (2019-04-26)\n",
       "Platform: x86_64-redhat-linux-gnu (64-bit)\n",
       "Running under: CentOS Linux 7 (Core)\n",
       "\n",
       "Matrix products: default\n",
       "BLAS/LAPACK: /usr/lib64/R/lib/libRblas.so\n",
       "\n",
       "locale:\n",
       " [1] LC_CTYPE=en_US.UTF-8       LC_NUMERIC=C              \n",
       " [3] LC_TIME=en_US.UTF-8        LC_COLLATE=en_US.UTF-8    \n",
       " [5] LC_MONETARY=en_US.UTF-8    LC_MESSAGES=en_US.UTF-8   \n",
       " [7] LC_PAPER=en_US.UTF-8       LC_NAME=C                 \n",
       " [9] LC_ADDRESS=C               LC_TELEPHONE=C            \n",
       "[11] LC_MEASUREMENT=en_US.UTF-8 LC_IDENTIFICATION=C       \n",
       "\n",
       "attached base packages:\n",
       "[1] stats     graphics  grDevices utils     datasets  methods   base     \n",
       "\n",
       "other attached packages:\n",
       "[1] data.table_1.14.2 tidyr_1.2.1       dplyr_1.0.10     \n",
       "\n",
       "loaded via a namespace (and not attached):\n",
       " [1] magrittr_2.0.3   tidyselect_1.1.2 uuid_1.1-0       R6_2.5.1        \n",
       " [5] rlang_1.0.6      fastmap_1.1.0    fansi_1.0.3      tools_3.6.0     \n",
       " [9] utf8_1.2.2       DBI_1.1.3        cli_3.4.1        htmltools_0.5.2 \n",
       "[13] assertthat_0.2.1 digest_0.6.29    tibble_3.1.8     lifecycle_1.0.3 \n",
       "[17] crayon_1.5.1     IRdisplay_1.1    purrr_0.3.4      repr_1.1.4      \n",
       "[21] base64enc_0.1-3  vctrs_0.5.0      IRkernel_1.3     glue_1.6.2      \n",
       "[25] evaluate_0.16    pbdZMQ_0.3-7     compiler_3.6.0   pillar_1.8.1    \n",
       "[29] generics_0.1.3   jsonlite_1.8.0   pkgconfig_2.0.3 "
      ]
     },
     "metadata": {},
     "output_type": "display_data"
    }
   ],
   "source": [
    "sessionInfo()"
   ]
  },
  {
   "cell_type": "code",
   "execution_count": null,
   "metadata": {},
   "outputs": [],
   "source": []
  }
 ],
 "metadata": {
  "kernelspec": {
   "display_name": "R",
   "language": "R",
   "name": "ir"
  },
  "language_info": {
   "codemirror_mode": "r",
   "file_extension": ".r",
   "mimetype": "text/x-r-source",
   "name": "R",
   "pygments_lexer": "r",
   "version": "3.6.0"
  },
  "toc": {
   "base_numbering": 1,
   "nav_menu": {},
   "number_sections": true,
   "sideBar": true,
   "skip_h1_title": false,
   "title_cell": "Table of Contents",
   "title_sidebar": "Contents",
   "toc_cell": false,
   "toc_position": {
    "height": "calc(100% - 180px)",
    "left": "10px",
    "top": "150px",
    "width": "334px"
   },
   "toc_section_display": true,
   "toc_window_display": true
  }
 },
 "nbformat": 4,
 "nbformat_minor": 2
}
