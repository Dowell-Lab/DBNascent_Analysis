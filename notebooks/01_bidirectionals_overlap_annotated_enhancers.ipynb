{
 "cells": [
  {
   "cell_type": "markdown",
   "metadata": {},
   "source": [
    "**Author :** Rutendo F. Sigauke\n",
    "\n",
    "**Input  :** \n",
    "1. Overlap files between Candidate Cis-regulatory Element (cCRE) database and DBNascent Bidirectionals\n",
    "2. Multi-bed overlap summary\n",
    "3. Each database bed file\n",
    "\n",
    "**Output :**\n",
    "\n",
    "Figures"
   ]
  },
  {
   "cell_type": "markdown",
   "metadata": {},
   "source": [
    "# Load libraries"
   ]
  },
  {
   "cell_type": "code",
   "execution_count": 1,
   "metadata": {
    "scrolled": true
   },
   "outputs": [
    {
     "name": "stderr",
     "output_type": "stream",
     "text": [
      "\n",
      "Attaching package: ‘dplyr’\n",
      "\n",
      "\n",
      "The following objects are masked from ‘package:stats’:\n",
      "\n",
      "    filter, lag\n",
      "\n",
      "\n",
      "The following objects are masked from ‘package:base’:\n",
      "\n",
      "    intersect, setdiff, setequal, union\n",
      "\n",
      "\n",
      "\n",
      "Attaching package: ‘scales’\n",
      "\n",
      "\n",
      "The following object is masked from ‘package:purrr’:\n",
      "\n",
      "    discard\n",
      "\n",
      "\n",
      "\n",
      "Attaching package: ‘data.table’\n",
      "\n",
      "\n",
      "The following object is masked from ‘package:purrr’:\n",
      "\n",
      "    transpose\n",
      "\n",
      "\n",
      "The following objects are masked from ‘package:dplyr’:\n",
      "\n",
      "    between, first, last\n",
      "\n",
      "\n"
     ]
    }
   ],
   "source": [
    "library(ggplot2) \n",
    "library(cowplot) \n",
    "library(dplyr) \n",
    "library(tidyr) \n",
    "library(purrr)\n",
    "library(stringr) \n",
    "library(scales)\n",
    "library(UpSetR)\n",
    "library(data.table)\n",
    "library(epitools)"
   ]
  },
  {
   "cell_type": "markdown",
   "metadata": {},
   "source": [
    "# Candicate Cis Regulatory Elements (cCRE) overlapping bidirectionals\n",
    "\n",
    "## Human"
   ]
  },
  {
   "cell_type": "code",
   "execution_count": 2,
   "metadata": {},
   "outputs": [
    {
     "data": {
      "text/html": [
       "<style>\n",
       ".list-inline {list-style: none; margin:0; padding: 0}\n",
       ".list-inline>li {display: inline-block}\n",
       ".list-inline>li:not(:last-child)::after {content: \"\\00b7\"; padding: 0 .5ex}\n",
       "</style>\n",
       "<ol class=list-inline><li>'/Users/rusi2317/projects/meta_analysis_qc/hg38/processed_data/annotated_enhancers_bidir_overlaps/gtex_eqtl/gtex_bidirectional_overlap.bed'</li><li>'/Users/rusi2317/projects/meta_analysis_qc/hg38/processed_data/annotated_enhancers_bidir_overlaps/fantom5/fantom5_bidirectional_overlap.bed'</li><li>'/Users/rusi2317/projects/meta_analysis_qc/hg38/processed_data/annotated_enhancers_bidir_overlaps/encode/encode_bidirectional_overlap.bed'</li><li>'/Users/rusi2317/projects/meta_analysis_qc/hg38/processed_data/annotated_enhancers_bidir_overlaps/enhancer_atlas/enhancer_atlas_bidirectional_overlap.bed'</li></ol>\n"
      ],
      "text/latex": [
       "\\begin{enumerate*}\n",
       "\\item '/Users/rusi2317/projects/meta\\_analysis\\_qc/hg38/processed\\_data/annotated\\_enhancers\\_bidir\\_overlaps/gtex\\_eqtl/gtex\\_bidirectional\\_overlap.bed'\n",
       "\\item '/Users/rusi2317/projects/meta\\_analysis\\_qc/hg38/processed\\_data/annotated\\_enhancers\\_bidir\\_overlaps/fantom5/fantom5\\_bidirectional\\_overlap.bed'\n",
       "\\item '/Users/rusi2317/projects/meta\\_analysis\\_qc/hg38/processed\\_data/annotated\\_enhancers\\_bidir\\_overlaps/encode/encode\\_bidirectional\\_overlap.bed'\n",
       "\\item '/Users/rusi2317/projects/meta\\_analysis\\_qc/hg38/processed\\_data/annotated\\_enhancers\\_bidir\\_overlaps/enhancer\\_atlas/enhancer\\_atlas\\_bidirectional\\_overlap.bed'\n",
       "\\end{enumerate*}\n"
      ],
      "text/markdown": [
       "1. '/Users/rusi2317/projects/meta_analysis_qc/hg38/processed_data/annotated_enhancers_bidir_overlaps/gtex_eqtl/gtex_bidirectional_overlap.bed'\n",
       "2. '/Users/rusi2317/projects/meta_analysis_qc/hg38/processed_data/annotated_enhancers_bidir_overlaps/fantom5/fantom5_bidirectional_overlap.bed'\n",
       "3. '/Users/rusi2317/projects/meta_analysis_qc/hg38/processed_data/annotated_enhancers_bidir_overlaps/encode/encode_bidirectional_overlap.bed'\n",
       "4. '/Users/rusi2317/projects/meta_analysis_qc/hg38/processed_data/annotated_enhancers_bidir_overlaps/enhancer_atlas/enhancer_atlas_bidirectional_overlap.bed'\n",
       "\n",
       "\n"
      ],
      "text/plain": [
       "[1] \"/Users/rusi2317/projects/meta_analysis_qc/hg38/processed_data/annotated_enhancers_bidir_overlaps/gtex_eqtl/gtex_bidirectional_overlap.bed\"               \n",
       "[2] \"/Users/rusi2317/projects/meta_analysis_qc/hg38/processed_data/annotated_enhancers_bidir_overlaps/fantom5/fantom5_bidirectional_overlap.bed\"              \n",
       "[3] \"/Users/rusi2317/projects/meta_analysis_qc/hg38/processed_data/annotated_enhancers_bidir_overlaps/encode/encode_bidirectional_overlap.bed\"                \n",
       "[4] \"/Users/rusi2317/projects/meta_analysis_qc/hg38/processed_data/annotated_enhancers_bidir_overlaps/enhancer_atlas/enhancer_atlas_bidirectional_overlap.bed\""
      ]
     },
     "metadata": {},
     "output_type": "display_data"
    }
   ],
   "source": [
    "wd <- '/Users/rusi2317/projects/meta_analysis_qc/hg38/processed_data/annotated_enhancers_bidir_overlaps/'\n",
    "hg38_overlap_files <- c(paste0(wd,'gtex_eqtl/gtex_bidirectional_overlap.bed'),\n",
    "                        paste0(wd,'fantom5/fantom5_bidirectional_overlap.bed'),\n",
    "                        paste0(wd,'encode/encode_bidirectional_overlap.bed'),\n",
    "                        paste0(wd,'enhancer_atlas/enhancer_atlas_bidirectional_overlap.bed'))\n",
    "hg38_overlap_files"
   ]
  },
  {
   "cell_type": "code",
   "execution_count": 3,
   "metadata": {},
   "outputs": [],
   "source": [
    "hg38_overlap_list <- lapply(hg38_overlap_files, data.table::fread)\n",
    "overlaps <- as.numeric(lapply(hg38_overlap_list, nrow))"
   ]
  },
  {
   "cell_type": "code",
   "execution_count": 4,
   "metadata": {
    "scrolled": true
   },
   "outputs": [
    {
     "data": {
      "text/html": [
       "<style>\n",
       ".list-inline {list-style: none; margin:0; padding: 0}\n",
       ".list-inline>li {display: inline-block}\n",
       ".list-inline>li:not(:last-child)::after {content: \"\\00b7\"; padding: 0 .5ex}\n",
       "</style>\n",
       "<ol class=list-inline><li>745092</li><li>36840</li><li>419497</li><li>126480</li></ol>\n"
      ],
      "text/latex": [
       "\\begin{enumerate*}\n",
       "\\item 745092\n",
       "\\item 36840\n",
       "\\item 419497\n",
       "\\item 126480\n",
       "\\end{enumerate*}\n"
      ],
      "text/markdown": [
       "1. 745092\n",
       "2. 36840\n",
       "3. 419497\n",
       "4. 126480\n",
       "\n",
       "\n"
      ],
      "text/plain": [
       "[1] 745092  36840 419497 126480"
      ]
     },
     "metadata": {},
     "output_type": "display_data"
    }
   ],
   "source": [
    "overlaps"
   ]
  },
  {
   "cell_type": "code",
   "execution_count": 5,
   "metadata": {},
   "outputs": [
    {
     "data": {
      "text/html": [
       "<table class=\"dataframe\">\n",
       "<caption>A data.frame: 4 × 5</caption>\n",
       "<thead>\n",
       "\t<tr><th scope=col>hg38_reg_database</th><th scope=col>total_reg</th><th scope=col>overlap_reg</th><th scope=col>percent_overlap</th><th scope=col>reg_database</th></tr>\n",
       "\t<tr><th scope=col>&lt;fct&gt;</th><th scope=col>&lt;dbl&gt;</th><th scope=col>&lt;dbl&gt;</th><th scope=col>&lt;dbl&gt;</th><th scope=col>&lt;fct&gt;</th></tr>\n",
       "</thead>\n",
       "<tbody>\n",
       "\t<tr><td>GTEx          </td><td>4631659</td><td>745092</td><td>16.08694</td><td>GTEx          </td></tr>\n",
       "\t<tr><td>FANTOM5       </td><td>  63285</td><td> 36840</td><td>58.21285</td><td>FANTOM5       </td></tr>\n",
       "\t<tr><td>ENCODE        </td><td> 926535</td><td>419497</td><td>45.27589</td><td>ENCODE        </td></tr>\n",
       "\t<tr><td>Enhancer Atlas</td><td> 192173</td><td>126480</td><td>65.81570</td><td>Enhancer Atlas</td></tr>\n",
       "</tbody>\n",
       "</table>\n"
      ],
      "text/latex": [
       "A data.frame: 4 × 5\n",
       "\\begin{tabular}{lllll}\n",
       " hg38\\_reg\\_database & total\\_reg & overlap\\_reg & percent\\_overlap & reg\\_database\\\\\n",
       " <fct> & <dbl> & <dbl> & <dbl> & <fct>\\\\\n",
       "\\hline\n",
       "\t GTEx           & 4631659 & 745092 & 16.08694 & GTEx          \\\\\n",
       "\t FANTOM5        &   63285 &  36840 & 58.21285 & FANTOM5       \\\\\n",
       "\t ENCODE         &  926535 & 419497 & 45.27589 & ENCODE        \\\\\n",
       "\t Enhancer Atlas &  192173 & 126480 & 65.81570 & Enhancer Atlas\\\\\n",
       "\\end{tabular}\n"
      ],
      "text/markdown": [
       "\n",
       "A data.frame: 4 × 5\n",
       "\n",
       "| hg38_reg_database &lt;fct&gt; | total_reg &lt;dbl&gt; | overlap_reg &lt;dbl&gt; | percent_overlap &lt;dbl&gt; | reg_database &lt;fct&gt; |\n",
       "|---|---|---|---|---|\n",
       "| GTEx           | 4631659 | 745092 | 16.08694 | GTEx           |\n",
       "| FANTOM5        |   63285 |  36840 | 58.21285 | FANTOM5        |\n",
       "| ENCODE         |  926535 | 419497 | 45.27589 | ENCODE         |\n",
       "| Enhancer Atlas |  192173 | 126480 | 65.81570 | Enhancer Atlas |\n",
       "\n"
      ],
      "text/plain": [
       "  hg38_reg_database total_reg overlap_reg percent_overlap reg_database  \n",
       "1 GTEx              4631659   745092      16.08694        GTEx          \n",
       "2 FANTOM5             63285    36840      58.21285        FANTOM5       \n",
       "3 ENCODE             926535   419497      45.27589        ENCODE        \n",
       "4 Enhancer Atlas     192173   126480      65.81570        Enhancer Atlas"
      ]
     },
     "metadata": {},
     "output_type": "display_data"
    }
   ],
   "source": [
    "hg38_reg_database <- c('GTEx','FANTOM5','ENCODE','Enhancer Atlas')\n",
    "hg38_total_reg <- c(4631659, 63285, 926535, 192173)\n",
    "hg38_overlap_reg <- overlaps \n",
    "\n",
    "hg38_summary_overlaps <- as.data.frame(hg38_reg_database)\n",
    "hg38_summary_overlaps$total_reg <- hg38_total_reg\n",
    "hg38_summary_overlaps$overlap_reg <- hg38_overlap_reg\n",
    "hg38_summary_overlaps$percent_overlap <- (hg38_summary_overlaps$overlap_reg/hg38_summary_overlaps$total_reg)*100\n",
    "hg38_summary_overlaps$reg_database <- factor(hg38_summary_overlaps$hg38_reg_database,\n",
    "                                        levels=c('GTEx', 'ENCODE','FANTOM5','Enhancer Atlas'))\n",
    "hg38_summary_overlaps"
   ]
  },
  {
   "cell_type": "code",
   "execution_count": 6,
   "metadata": {},
   "outputs": [
    {
     "data": {
      "image/png": "[encoded data removed]",
      "text/plain": [
       "plot without title"
      ]
     },
     "metadata": {
      "image/png": {
       "height": 420,
       "width": 480
      }
     },
     "output_type": "display_data"
    }
   ],
   "source": [
    "options(repr.plot.width=8, repr.plot.height=7)\n",
    "\n",
    "h1 <- ggplot(hg38_summary_overlaps, aes(x=reg_database, y=percent_overlap)) +\n",
    "  geom_point(size=14, \n",
    "             color=\"gray45\",\n",
    "             fill=\"gray65\", \n",
    "             shape=21) +\n",
    "ylab('Overlap with \\n DBNascent (%)') + xlab(' ') +\n",
    "theme_cowplot(44) +\n",
    "#ggtitle(expression(paste(\"dbNascent Overlaps\"))) +\n",
    "theme(plot.title = element_text(size = 35, hjust = 0.5, face='bold'),\n",
    "                  #title = element_text(face = \"bold\"), \n",
    "                  axis.title = element_text(size = 30), \n",
    "                  axis.text.x = element_text(size = 22, \n",
    "                                             angle=45, \n",
    "                                             vjust=0.95,\n",
    "                                             hjust=0.91),\n",
    "                  axis.text = element_text(size = 22)) +\n",
    "scale_y_continuous(limits = c(0,75), expand = c(0, 0))  +            \n",
    "theme(panel.background = element_rect(fill = \"transparent\"), \n",
    "      plot.background = element_rect(fill = \"transparent\", color = NA),\n",
    "      legend.key = element_rect(colour = \"transparent\", fill = \"transparent\"),\n",
    "      legend.background = element_rect(fill = \"transparent\"), \n",
    "      legend.box.background = element_rect(fill = \"transparent\"))\n",
    "\n",
    "h1"
   ]
  },
  {
   "cell_type": "code",
   "execution_count": 7,
   "metadata": {},
   "outputs": [],
   "source": [
    "ggsave(h1, width = 8, height = 6,\n",
    "       filename = \"/Users/rusi2317/projects/meta_analysis_qc/hg38/paper_figures/hg38_db_overlap_with_dbnascent.pdf\", \n",
    "       bg = \"transparent\")\n",
    "\n",
    "ggsave(h1, width = 8, height = 6,\n",
    "       filename = \"/Users/rusi2317/projects/meta_analysis_qc/hg38/paper_figures/hg38_db_overlap_with_dbnascent.png\", \n",
    "       bg = \"transparent\")"
   ]
  },
  {
   "cell_type": "markdown",
   "metadata": {},
   "source": [
    "## Mouse"
   ]
  },
  {
   "cell_type": "code",
   "execution_count": 8,
   "metadata": {},
   "outputs": [
    {
     "data": {
      "text/html": [
       "<style>\n",
       ".list-inline {list-style: none; margin:0; padding: 0}\n",
       ".list-inline>li {display: inline-block}\n",
       ".list-inline>li:not(:last-child)::after {content: \"\\00b7\"; padding: 0 .5ex}\n",
       "</style>\n",
       "<ol class=list-inline><li>'/scratch/Users/rusi2317/projects/meta_analysis_qc/mm10/processed_data/annotated_enhancers_bidir_overlaps/eqtl/eqtl_brain_bidirectional_overlap.bed'</li><li>'/scratch/Users/rusi2317/projects/meta_analysis_qc/mm10/processed_data/annotated_enhancers_bidir_overlaps/fantom5/fantom5_bidirectional_overlap.bed'</li><li>'/scratch/Users/rusi2317/projects/meta_analysis_qc/mm10/processed_data/annotated_enhancers_bidir_overlaps/encode/encode_bidirectional_overlap.bed'</li><li>'/scratch/Users/rusi2317/projects/meta_analysis_qc/mm10/processed_data/annotated_enhancers_bidir_overlaps/enhancer_atlas/enhancer_atlas_bidirectional_overlap.bed'</li></ol>\n"
      ],
      "text/latex": [
       "\\begin{enumerate*}\n",
       "\\item '/scratch/Users/rusi2317/projects/meta\\_analysis\\_qc/mm10/processed\\_data/annotated\\_enhancers\\_bidir\\_overlaps/eqtl/eqtl\\_brain\\_bidirectional\\_overlap.bed'\n",
       "\\item '/scratch/Users/rusi2317/projects/meta\\_analysis\\_qc/mm10/processed\\_data/annotated\\_enhancers\\_bidir\\_overlaps/fantom5/fantom5\\_bidirectional\\_overlap.bed'\n",
       "\\item '/scratch/Users/rusi2317/projects/meta\\_analysis\\_qc/mm10/processed\\_data/annotated\\_enhancers\\_bidir\\_overlaps/encode/encode\\_bidirectional\\_overlap.bed'\n",
       "\\item '/scratch/Users/rusi2317/projects/meta\\_analysis\\_qc/mm10/processed\\_data/annotated\\_enhancers\\_bidir\\_overlaps/enhancer\\_atlas/enhancer\\_atlas\\_bidirectional\\_overlap.bed'\n",
       "\\end{enumerate*}\n"
      ],
      "text/markdown": [
       "1. '/scratch/Users/rusi2317/projects/meta_analysis_qc/mm10/processed_data/annotated_enhancers_bidir_overlaps/eqtl/eqtl_brain_bidirectional_overlap.bed'\n",
       "2. '/scratch/Users/rusi2317/projects/meta_analysis_qc/mm10/processed_data/annotated_enhancers_bidir_overlaps/fantom5/fantom5_bidirectional_overlap.bed'\n",
       "3. '/scratch/Users/rusi2317/projects/meta_analysis_qc/mm10/processed_data/annotated_enhancers_bidir_overlaps/encode/encode_bidirectional_overlap.bed'\n",
       "4. '/scratch/Users/rusi2317/projects/meta_analysis_qc/mm10/processed_data/annotated_enhancers_bidir_overlaps/enhancer_atlas/enhancer_atlas_bidirectional_overlap.bed'\n",
       "\n",
       "\n"
      ],
      "text/plain": [
       "[1] \"/scratch/Users/rusi2317/projects/meta_analysis_qc/mm10/processed_data/annotated_enhancers_bidir_overlaps/eqtl/eqtl_brain_bidirectional_overlap.bed\"              \n",
       "[2] \"/scratch/Users/rusi2317/projects/meta_analysis_qc/mm10/processed_data/annotated_enhancers_bidir_overlaps/fantom5/fantom5_bidirectional_overlap.bed\"              \n",
       "[3] \"/scratch/Users/rusi2317/projects/meta_analysis_qc/mm10/processed_data/annotated_enhancers_bidir_overlaps/encode/encode_bidirectional_overlap.bed\"                \n",
       "[4] \"/scratch/Users/rusi2317/projects/meta_analysis_qc/mm10/processed_data/annotated_enhancers_bidir_overlaps/enhancer_atlas/enhancer_atlas_bidirectional_overlap.bed\""
      ]
     },
     "metadata": {},
     "output_type": "display_data"
    }
   ],
   "source": [
    "wd_mm10 <- '/scratch/Users/rusi2317/projects/meta_analysis_qc/mm10/processed_data/annotated_enhancers_bidir_overlaps/'\n",
    "mm10_overlap_files <- c(paste0(wd_mm10,'eqtl/eqtl_brain_bidirectional_overlap.bed'),\n",
    "                        paste0(wd_mm10,'fantom5/fantom5_bidirectional_overlap.bed'),\n",
    "                        paste0(wd_mm10,'encode/encode_bidirectional_overlap.bed'),\n",
    "                        paste0(wd_mm10,'enhancer_atlas/enhancer_atlas_bidirectional_overlap.bed'))\n",
    "mm10_overlap_files"
   ]
  },
  {
   "cell_type": "code",
   "execution_count": 9,
   "metadata": {},
   "outputs": [],
   "source": [
    "mm10_overlap_list <- lapply(mm10_overlap_files, data.table::fread)\n",
    "mm10_overlaps <- as.numeric(lapply(mm10_overlap_list, nrow))"
   ]
  },
  {
   "cell_type": "code",
   "execution_count": 10,
   "metadata": {},
   "outputs": [
    {
     "data": {
      "text/html": [
       "<style>\n",
       ".list-inline {list-style: none; margin:0; padding: 0}\n",
       ".list-inline>li {display: inline-block}\n",
       ".list-inline>li:not(:last-child)::after {content: \"\\00b7\"; padding: 0 .5ex}\n",
       "</style>\n",
       "<ol class=list-inline><li>1089</li><li>32840</li><li>202706</li><li>198380</li></ol>\n"
      ],
      "text/latex": [
       "\\begin{enumerate*}\n",
       "\\item 1089\n",
       "\\item 32840\n",
       "\\item 202706\n",
       "\\item 198380\n",
       "\\end{enumerate*}\n"
      ],
      "text/markdown": [
       "1. 1089\n",
       "2. 32840\n",
       "3. 202706\n",
       "4. 198380\n",
       "\n",
       "\n"
      ],
      "text/plain": [
       "[1]   1089  32840 202706 198380"
      ]
     },
     "metadata": {},
     "output_type": "display_data"
    }
   ],
   "source": [
    "mm10_overlaps"
   ]
  },
  {
   "cell_type": "code",
   "execution_count": 11,
   "metadata": {},
   "outputs": [
    {
     "data": {
      "text/html": [
       "<table class=\"dataframe\">\n",
       "<caption>A data.frame: 4 × 5</caption>\n",
       "<thead>\n",
       "\t<tr><th scope=col>mm10_reg_database</th><th scope=col>total_reg</th><th scope=col>overlap_reg</th><th scope=col>percent_overlap</th><th scope=col>reg_database</th></tr>\n",
       "\t<tr><th scope=col>&lt;fct&gt;</th><th scope=col>&lt;dbl&gt;</th><th scope=col>&lt;dbl&gt;</th><th scope=col>&lt;dbl&gt;</th><th scope=col>&lt;fct&gt;</th></tr>\n",
       "</thead>\n",
       "<tbody>\n",
       "\t<tr><td>eQTLs         </td><td>  5531</td><td>  1089</td><td>19.68903</td><td>eQTLs         </td></tr>\n",
       "\t<tr><td>FANTOM5       </td><td> 49797</td><td> 32840</td><td>65.94775</td><td>FANTOM5       </td></tr>\n",
       "\t<tr><td>ENCODE        </td><td>343731</td><td>202706</td><td>58.97228</td><td>ENCODE        </td></tr>\n",
       "\t<tr><td>Enhancer Atlas</td><td>519730</td><td>198380</td><td>38.16982</td><td>Enhancer Atlas</td></tr>\n",
       "</tbody>\n",
       "</table>\n"
      ],
      "text/latex": [
       "A data.frame: 4 × 5\n",
       "\\begin{tabular}{lllll}\n",
       " mm10\\_reg\\_database & total\\_reg & overlap\\_reg & percent\\_overlap & reg\\_database\\\\\n",
       " <fct> & <dbl> & <dbl> & <dbl> & <fct>\\\\\n",
       "\\hline\n",
       "\t eQTLs          &   5531 &   1089 & 19.68903 & eQTLs         \\\\\n",
       "\t FANTOM5        &  49797 &  32840 & 65.94775 & FANTOM5       \\\\\n",
       "\t ENCODE         & 343731 & 202706 & 58.97228 & ENCODE        \\\\\n",
       "\t Enhancer Atlas & 519730 & 198380 & 38.16982 & Enhancer Atlas\\\\\n",
       "\\end{tabular}\n"
      ],
      "text/markdown": [
       "\n",
       "A data.frame: 4 × 5\n",
       "\n",
       "| mm10_reg_database &lt;fct&gt; | total_reg &lt;dbl&gt; | overlap_reg &lt;dbl&gt; | percent_overlap &lt;dbl&gt; | reg_database &lt;fct&gt; |\n",
       "|---|---|---|---|---|\n",
       "| eQTLs          |   5531 |   1089 | 19.68903 | eQTLs          |\n",
       "| FANTOM5        |  49797 |  32840 | 65.94775 | FANTOM5        |\n",
       "| ENCODE         | 343731 | 202706 | 58.97228 | ENCODE         |\n",
       "| Enhancer Atlas | 519730 | 198380 | 38.16982 | Enhancer Atlas |\n",
       "\n"
      ],
      "text/plain": [
       "  mm10_reg_database total_reg overlap_reg percent_overlap reg_database  \n",
       "1 eQTLs               5531      1089      19.68903        eQTLs         \n",
       "2 FANTOM5            49797     32840      65.94775        FANTOM5       \n",
       "3 ENCODE            343731    202706      58.97228        ENCODE        \n",
       "4 Enhancer Atlas    519730    198380      38.16982        Enhancer Atlas"
      ]
     },
     "metadata": {},
     "output_type": "display_data"
    }
   ],
   "source": [
    "mm10_reg_database <- c('eQTLs','FANTOM5','ENCODE','Enhancer Atlas')\n",
    "mm10_total_reg <- c(5531, 49797, 343731, 519730) \n",
    "mm10_overlap_reg <- mm10_overlaps \n",
    "\n",
    "mm10_summary_overlaps <- as.data.frame(mm10_reg_database)\n",
    "mm10_summary_overlaps$total_reg <- mm10_total_reg\n",
    "mm10_summary_overlaps$overlap_reg <- mm10_overlap_reg\n",
    "mm10_summary_overlaps$percent_overlap <- (mm10_summary_overlaps$overlap_reg/mm10_summary_overlaps$total_reg)*100\n",
    "mm10_summary_overlaps$reg_database <- factor(mm10_summary_overlaps$mm10_reg_database,\n",
    "                                        levels=c('eQTLs', 'ENCODE','FANTOM5','Enhancer Atlas'))\n",
    "mm10_summary_overlaps"
   ]
  },
  {
   "cell_type": "code",
   "execution_count": 12,
   "metadata": {},
   "outputs": [
    {
     "data": {
      "image/png": "[encoded data removed]",
      "text/plain": [
       "plot without title"
      ]
     },
     "metadata": {
      "image/png": {
       "height": 420,
       "width": 480
      }
     },
     "output_type": "display_data"
    }
   ],
   "source": [
    "options(repr.plot.width=8, repr.plot.height=7)\n",
    "\n",
    "m1 <- ggplot(mm10_summary_overlaps, aes(x=reg_database, y=percent_overlap)) +\n",
    "  geom_point(size=14, \n",
    "             color=\"gray45\",\n",
    "             fill=\"gray65\", \n",
    "             shape=21) +\n",
    "ylab('Overlap with \\n DBNascent (%)') + xlab(' ') +\n",
    "theme_cowplot(44) +\n",
    "#ggtitle(expression(paste(\"dbNascent Overlaps\"))) +\n",
    "theme(plot.title = element_text(size = 35, hjust = 0.5, face='bold'),\n",
    "                  #title = element_text(face = \"bold\"), \n",
    "                  axis.title = element_text(size = 30), \n",
    "                  axis.text.x = element_text(size = 22, \n",
    "                                             angle=45, \n",
    "                                             vjust=0.95,\n",
    "                                             hjust=0.91),\n",
    "                  axis.text = element_text(size = 22)) +\n",
    "scale_y_continuous(limits = c(0,75), expand = c(0, 0))  +            \n",
    "theme(panel.background = element_rect(fill = \"transparent\"), \n",
    "      plot.background = element_rect(fill = \"transparent\", color = NA),\n",
    "      legend.key = element_rect(colour = \"transparent\", fill = \"transparent\"),\n",
    "      legend.background = element_rect(fill = \"transparent\"), \n",
    "      legend.box.background = element_rect(fill = \"transparent\"))\n",
    "\n",
    "m1"
   ]
  },
  {
   "cell_type": "code",
   "execution_count": 13,
   "metadata": {},
   "outputs": [],
   "source": [
    "ggsave(m1, width = 8, height = 6,\n",
    "       filename = \"/Users/rusi2317/projects/meta_analysis_qc/mm10/paper_figures/mm10_db_overlap_with_dbnascent.pdf\", \n",
    "       bg = \"transparent\")\n",
    "\n",
    "ggsave(m1, width = 8, height = 6,\n",
    "       filename = \"/Users/rusi2317/projects/meta_analysis_qc/mm10/paper_figures/mm10_db_overlap_with_dbnascent.png\", \n",
    "       bg = \"transparent\")"
   ]
  },
  {
   "cell_type": "markdown",
   "metadata": {},
   "source": [
    "# Overlaps of all cCRE databases\n",
    "\n",
    "## Human"
   ]
  },
  {
   "cell_type": "code",
   "execution_count": 14,
   "metadata": {},
   "outputs": [
    {
     "data": {
      "text/html": [
       "<table class=\"dataframe\">\n",
       "<caption>A data.frame: 15 × 2</caption>\n",
       "<thead>\n",
       "\t<tr><th scope=col>combinations</th><th scope=col>count</th></tr>\n",
       "\t<tr><th scope=col>&lt;chr&gt;</th><th scope=col>&lt;int&gt;</th></tr>\n",
       "</thead>\n",
       "<tbody>\n",
       "\t<tr><td>DBNascent                             </td><td> 51514</td></tr>\n",
       "\t<tr><td>EnhancerAtlas                         </td><td> 43507</td></tr>\n",
       "\t<tr><td>FANTOM5                               </td><td>   883</td></tr>\n",
       "\t<tr><td>ENCODE                                </td><td> 64558</td></tr>\n",
       "\t<tr><td><span style=white-space:pre-wrap>DBNascent&amp;EnhancerAtlas               </span></td><td>450889</td></tr>\n",
       "\t<tr><td><span style=white-space:pre-wrap>DBNascent&amp;FANTOM5                     </span></td><td><span style=white-space:pre-wrap>   447</span></td></tr>\n",
       "\t<tr><td><span style=white-space:pre-wrap>DBNascent&amp;ENCODE                      </span></td><td> 42739</td></tr>\n",
       "\t<tr><td><span style=white-space:pre-wrap>EnhancerAtlas&amp;FANTOM5                 </span></td><td> 14570</td></tr>\n",
       "\t<tr><td><span style=white-space:pre-wrap>FANTOM5&amp;ENCODE                        </span></td><td><span style=white-space:pre-wrap>  1618</span></td></tr>\n",
       "\t<tr><td><span style=white-space:pre-wrap>EnhancerAtlas&amp;ENCODE                  </span></td><td> 21006</td></tr>\n",
       "\t<tr><td><span style=white-space:pre-wrap>DBNascent&amp;EnhancerAtlas&amp;FANTOM5       </span></td><td><span style=white-space:pre-wrap>  5078</span></td></tr>\n",
       "\t<tr><td><span style=white-space:pre-wrap>EnhancerAtlas&amp;FANTOM5&amp;ENCODE          </span></td><td><span style=white-space:pre-wrap>   848</span></td></tr>\n",
       "\t<tr><td><span style=white-space:pre-wrap>DBNascent&amp;FANTOM5&amp;ENCODE              </span></td><td><span style=white-space:pre-wrap>  3417</span></td></tr>\n",
       "\t<tr><td><span style=white-space:pre-wrap>DBNascent&amp;EnhancerAtlas&amp;ENCODE        </span></td><td>264331</td></tr>\n",
       "\t<tr><td>DBNascent&amp;EnhancerAtlas&amp;FANTOM5&amp;ENCODE</td><td> 29106</td></tr>\n",
       "</tbody>\n",
       "</table>\n"
      ],
      "text/latex": [
       "A data.frame: 15 × 2\n",
       "\\begin{tabular}{ll}\n",
       " combinations & count\\\\\n",
       " <chr> & <int>\\\\\n",
       "\\hline\n",
       "\t DBNascent                              &  51514\\\\\n",
       "\t EnhancerAtlas                          &  43507\\\\\n",
       "\t FANTOM5                                &    883\\\\\n",
       "\t ENCODE                                 &  64558\\\\\n",
       "\t DBNascent\\&EnhancerAtlas                & 450889\\\\\n",
       "\t DBNascent\\&FANTOM5                      &    447\\\\\n",
       "\t DBNascent\\&ENCODE                       &  42739\\\\\n",
       "\t EnhancerAtlas\\&FANTOM5                  &  14570\\\\\n",
       "\t FANTOM5\\&ENCODE                         &   1618\\\\\n",
       "\t EnhancerAtlas\\&ENCODE                   &  21006\\\\\n",
       "\t DBNascent\\&EnhancerAtlas\\&FANTOM5        &   5078\\\\\n",
       "\t EnhancerAtlas\\&FANTOM5\\&ENCODE           &    848\\\\\n",
       "\t DBNascent\\&FANTOM5\\&ENCODE               &   3417\\\\\n",
       "\t DBNascent\\&EnhancerAtlas\\&ENCODE         & 264331\\\\\n",
       "\t DBNascent\\&EnhancerAtlas\\&FANTOM5\\&ENCODE &  29106\\\\\n",
       "\\end{tabular}\n"
      ],
      "text/markdown": [
       "\n",
       "A data.frame: 15 × 2\n",
       "\n",
       "| combinations &lt;chr&gt; | count &lt;int&gt; |\n",
       "|---|---|\n",
       "| DBNascent                              |  51514 |\n",
       "| EnhancerAtlas                          |  43507 |\n",
       "| FANTOM5                                |    883 |\n",
       "| ENCODE                                 |  64558 |\n",
       "| DBNascent&amp;EnhancerAtlas                | 450889 |\n",
       "| DBNascent&amp;FANTOM5                      |    447 |\n",
       "| DBNascent&amp;ENCODE                       |  42739 |\n",
       "| EnhancerAtlas&amp;FANTOM5                  |  14570 |\n",
       "| FANTOM5&amp;ENCODE                         |   1618 |\n",
       "| EnhancerAtlas&amp;ENCODE                   |  21006 |\n",
       "| DBNascent&amp;EnhancerAtlas&amp;FANTOM5        |   5078 |\n",
       "| EnhancerAtlas&amp;FANTOM5&amp;ENCODE           |    848 |\n",
       "| DBNascent&amp;FANTOM5&amp;ENCODE               |   3417 |\n",
       "| DBNascent&amp;EnhancerAtlas&amp;ENCODE         | 264331 |\n",
       "| DBNascent&amp;EnhancerAtlas&amp;FANTOM5&amp;ENCODE |  29106 |\n",
       "\n"
      ],
      "text/plain": [
       "   combinations                           count \n",
       "1  DBNascent                               51514\n",
       "2  EnhancerAtlas                           43507\n",
       "3  FANTOM5                                   883\n",
       "4  ENCODE                                  64558\n",
       "5  DBNascent&EnhancerAtlas                450889\n",
       "6  DBNascent&FANTOM5                         447\n",
       "7  DBNascent&ENCODE                        42739\n",
       "8  EnhancerAtlas&FANTOM5                   14570\n",
       "9  FANTOM5&ENCODE                           1618\n",
       "10 EnhancerAtlas&ENCODE                    21006\n",
       "11 DBNascent&EnhancerAtlas&FANTOM5          5078\n",
       "12 EnhancerAtlas&FANTOM5&ENCODE              848\n",
       "13 DBNascent&FANTOM5&ENCODE                 3417\n",
       "14 DBNascent&EnhancerAtlas&ENCODE         264331\n",
       "15 DBNascent&EnhancerAtlas&FANTOM5&ENCODE  29106"
      ]
     },
     "metadata": {},
     "output_type": "display_data"
    }
   ],
   "source": [
    "hg38_bidir_overlaps <- read.table('/Users/rusi2317/projects/meta_analysis_qc/hg38/processed_data/annotated_enhancers_bidir_overlaps/multiway_venn.txt',\n",
    "                             sep='\\t', header=T)\n",
    "hg38_bidir_overlaps$combinations <- gsub(\"dbNascent\",\n",
    "                                         \"DBNascent\", \n",
    "                                         hg38_bidir_overlaps$combinations)\n",
    "hg38_bidir_overlaps"
   ]
  },
  {
   "cell_type": "code",
   "execution_count": 15,
   "metadata": {},
   "outputs": [
    {
     "data": {
      "text/html": [
       "<style>\n",
       ".dl-inline {width: auto; margin:0; padding: 0}\n",
       ".dl-inline>dt, .dl-inline>dd {float: none; width: auto; display: inline-block}\n",
       ".dl-inline>dt::after {content: \":\\0020\"; padding-right: .5ex}\n",
       ".dl-inline>dt:not(:first-of-type) {padding-left: .5ex}\n",
       "</style><dl class=dl-inline><dt>DBNascent</dt><dd>51514</dd><dt>EnhancerAtlas</dt><dd>43507</dd><dt>FANTOM5</dt><dd>883</dd><dt>ENCODE</dt><dd>64558</dd><dt>DBNascent&amp;EnhancerAtlas</dt><dd>450889</dd><dt>DBNascent&amp;FANTOM5</dt><dd>447</dd><dt>DBNascent&amp;ENCODE</dt><dd>42739</dd><dt>EnhancerAtlas&amp;FANTOM5</dt><dd>14570</dd><dt>FANTOM5&amp;ENCODE</dt><dd>1618</dd><dt>EnhancerAtlas&amp;ENCODE</dt><dd>21006</dd><dt>DBNascent&amp;EnhancerAtlas&amp;FANTOM5</dt><dd>5078</dd><dt>EnhancerAtlas&amp;FANTOM5&amp;ENCODE</dt><dd>848</dd><dt>DBNascent&amp;FANTOM5&amp;ENCODE</dt><dd>3417</dd><dt>DBNascent&amp;EnhancerAtlas&amp;ENCODE</dt><dd>264331</dd><dt>DBNascent&amp;EnhancerAtlas&amp;FANTOM5&amp;ENCODE</dt><dd>29106</dd></dl>\n"
      ],
      "text/latex": [
       "\\begin{description*}\n",
       "\\item[DBNascent] 51514\n",
       "\\item[EnhancerAtlas] 43507\n",
       "\\item[FANTOM5] 883\n",
       "\\item[ENCODE] 64558\n",
       "\\item[DBNascent\\textbackslash{}\\&EnhancerAtlas] 450889\n",
       "\\item[DBNascent\\textbackslash{}\\&FANTOM5] 447\n",
       "\\item[DBNascent\\textbackslash{}\\&ENCODE] 42739\n",
       "\\item[EnhancerAtlas\\textbackslash{}\\&FANTOM5] 14570\n",
       "\\item[FANTOM5\\textbackslash{}\\&ENCODE] 1618\n",
       "\\item[EnhancerAtlas\\textbackslash{}\\&ENCODE] 21006\n",
       "\\item[DBNascent\\textbackslash{}\\&EnhancerAtlas\\textbackslash{}\\&FANTOM5] 5078\n",
       "\\item[EnhancerAtlas\\textbackslash{}\\&FANTOM5\\textbackslash{}\\&ENCODE] 848\n",
       "\\item[DBNascent\\textbackslash{}\\&FANTOM5\\textbackslash{}\\&ENCODE] 3417\n",
       "\\item[DBNascent\\textbackslash{}\\&EnhancerAtlas\\textbackslash{}\\&ENCODE] 264331\n",
       "\\item[DBNascent\\textbackslash{}\\&EnhancerAtlas\\textbackslash{}\\&FANTOM5\\textbackslash{}\\&ENCODE] 29106\n",
       "\\end{description*}\n"
      ],
      "text/markdown": [
       "DBNascent\n",
       ":   51514EnhancerAtlas\n",
       ":   43507FANTOM5\n",
       ":   883ENCODE\n",
       ":   64558DBNascent&amp;amp;EnhancerAtlas\n",
       ":   450889DBNascent&amp;amp;FANTOM5\n",
       ":   447DBNascent&amp;amp;ENCODE\n",
       ":   42739EnhancerAtlas&amp;amp;FANTOM5\n",
       ":   14570FANTOM5&amp;amp;ENCODE\n",
       ":   1618EnhancerAtlas&amp;amp;ENCODE\n",
       ":   21006DBNascent&amp;amp;EnhancerAtlas&amp;amp;FANTOM5\n",
       ":   5078EnhancerAtlas&amp;amp;FANTOM5&amp;amp;ENCODE\n",
       ":   848DBNascent&amp;amp;FANTOM5&amp;amp;ENCODE\n",
       ":   3417DBNascent&amp;amp;EnhancerAtlas&amp;amp;ENCODE\n",
       ":   264331DBNascent&amp;amp;EnhancerAtlas&amp;amp;FANTOM5&amp;amp;ENCODE\n",
       ":   29106\n",
       "\n"
      ],
      "text/plain": [
       "                             DBNascent                          EnhancerAtlas \n",
       "                                 51514                                  43507 \n",
       "                               FANTOM5                                 ENCODE \n",
       "                                   883                                  64558 \n",
       "               DBNascent&EnhancerAtlas                      DBNascent&FANTOM5 \n",
       "                                450889                                    447 \n",
       "                      DBNascent&ENCODE                  EnhancerAtlas&FANTOM5 \n",
       "                                 42739                                  14570 \n",
       "                        FANTOM5&ENCODE                   EnhancerAtlas&ENCODE \n",
       "                                  1618                                  21006 \n",
       "       DBNascent&EnhancerAtlas&FANTOM5           EnhancerAtlas&FANTOM5&ENCODE \n",
       "                                  5078                                    848 \n",
       "              DBNascent&FANTOM5&ENCODE         DBNascent&EnhancerAtlas&ENCODE \n",
       "                                  3417                                 264331 \n",
       "DBNascent&EnhancerAtlas&FANTOM5&ENCODE \n",
       "                                 29106 "
      ]
     },
     "metadata": {},
     "output_type": "display_data"
    }
   ],
   "source": [
    "hg38_bidirInput <- hg38_bidir_overlaps$count\n",
    "names(hg38_bidirInput) <- hg38_bidir_overlaps$combinations\n",
    "hg38_bidirInput"
   ]
  },
  {
   "cell_type": "code",
   "execution_count": 16,
   "metadata": {},
   "outputs": [],
   "source": [
    "enhancers <- c(\"DBNascent\",\"EnhancerAtlas\",\"FANTOM5\",\"ENCODE\")"
   ]
  },
  {
   "cell_type": "code",
   "execution_count": 17,
   "metadata": {},
   "outputs": [
    {
     "name": "stderr",
     "output_type": "stream",
     "text": [
      "\u001b[1m\u001b[22mNew names:\n",
      "\u001b[36m•\u001b[39m `` -> `...1`\n",
      "\u001b[36m•\u001b[39m `` -> `...2`\n",
      "\u001b[36m•\u001b[39m `` -> `...3`\n",
      "\u001b[36m•\u001b[39m `` -> `...4`\n",
      "\u001b[36m•\u001b[39m `` -> `...5`\n",
      "\u001b[36m•\u001b[39m `` -> `...6`\n",
      "\u001b[36m•\u001b[39m `` -> `...7`\n",
      "\u001b[36m•\u001b[39m `` -> `...8`\n",
      "\u001b[36m•\u001b[39m `` -> `...9`\n",
      "\u001b[36m•\u001b[39m `` -> `...10`\n",
      "\u001b[36m•\u001b[39m `` -> `...11`\n",
      "\u001b[36m•\u001b[39m `` -> `...12`\n",
      "\u001b[36m•\u001b[39m `` -> `...13`\n",
      "\u001b[36m•\u001b[39m `` -> `...14`\n",
      "\u001b[36m•\u001b[39m `` -> `...15`\n",
      "Warning message:\n",
      "“\u001b[1m\u001b[22mThe `x` argument of `as_tibble.matrix()` must have unique column names if\n",
      "`.name_repair` is omitted as of tibble 2.0.0.\n",
      "\u001b[36mℹ\u001b[39m Using compatibility `.name_repair`.”\n"
     ]
    },
    {
     "name": "stdout",
     "output_type": "stream",
     "text": [
      "\u001b[90m# A tibble: 15 × 5\u001b[39m\n",
      "   DBNascent EnhancerAtlas FANTOM5 ENCODE  count\n",
      "   \u001b[3m\u001b[90m<lgl>\u001b[39m\u001b[23m     \u001b[3m\u001b[90m<lgl>\u001b[39m\u001b[23m         \u001b[3m\u001b[90m<lgl>\u001b[39m\u001b[23m   \u001b[3m\u001b[90m<lgl>\u001b[39m\u001b[23m   \u001b[3m\u001b[90m<int>\u001b[39m\u001b[23m\n",
      "\u001b[90m 1\u001b[39m TRUE      FALSE         FALSE   FALSE   \u001b[4m5\u001b[24m\u001b[4m1\u001b[24m514\n",
      "\u001b[90m 2\u001b[39m FALSE     TRUE          FALSE   FALSE   \u001b[4m4\u001b[24m\u001b[4m3\u001b[24m507\n",
      "\u001b[90m 3\u001b[39m FALSE     FALSE         TRUE    FALSE     883\n",
      "\u001b[90m 4\u001b[39m FALSE     FALSE         FALSE   TRUE    \u001b[4m6\u001b[24m\u001b[4m4\u001b[24m558\n",
      "\u001b[90m 5\u001b[39m TRUE      TRUE          FALSE   FALSE  \u001b[4m4\u001b[24m\u001b[4m5\u001b[24m\u001b[4m0\u001b[24m889\n",
      "\u001b[90m 6\u001b[39m TRUE      FALSE         TRUE    FALSE     447\n",
      "\u001b[90m 7\u001b[39m TRUE      FALSE         FALSE   TRUE    \u001b[4m4\u001b[24m\u001b[4m2\u001b[24m739\n",
      "\u001b[90m 8\u001b[39m FALSE     TRUE          TRUE    FALSE   \u001b[4m1\u001b[24m\u001b[4m4\u001b[24m570\n",
      "\u001b[90m 9\u001b[39m FALSE     FALSE         TRUE    TRUE     \u001b[4m1\u001b[24m618\n",
      "\u001b[90m10\u001b[39m FALSE     TRUE          FALSE   TRUE    \u001b[4m2\u001b[24m\u001b[4m1\u001b[24m006\n",
      "\u001b[90m11\u001b[39m TRUE      TRUE          TRUE    FALSE    \u001b[4m5\u001b[24m078\n",
      "\u001b[90m12\u001b[39m FALSE     TRUE          TRUE    TRUE      848\n",
      "\u001b[90m13\u001b[39m TRUE      FALSE         TRUE    TRUE     \u001b[4m3\u001b[24m417\n",
      "\u001b[90m14\u001b[39m TRUE      TRUE          FALSE   TRUE   \u001b[4m2\u001b[24m\u001b[4m6\u001b[24m\u001b[4m4\u001b[24m331\n",
      "\u001b[90m15\u001b[39m TRUE      TRUE          TRUE    TRUE    \u001b[4m2\u001b[24m\u001b[4m9\u001b[24m106\n"
     ]
    }
   ],
   "source": [
    "hg38_subsets <- hg38_bidir_overlaps$combination\n",
    "## Check if each subset\n",
    "hg38_enhancer_mat <- map_dfc(hg38_subsets, str_detect, enhancers) %>%\n",
    "    data.frame() %>%\n",
    "    t() %>% # transpose the result\n",
    "    as_tibble()\n",
    "colnames(hg38_enhancer_mat)  <- enhancers\n",
    "hg38_enhancer_mat$count <- hg38_bidir_overlaps$count\n",
    "hg38_enhancer_mat %>% print(n = nrow(hg38_enhancer_mat))"
   ]
  },
  {
   "cell_type": "code",
   "execution_count": 18,
   "metadata": {},
   "outputs": [
    {
     "data": {
      "text/html": [
       "<table class=\"dataframe\">\n",
       "<caption>A tibble: 994511 × 4</caption>\n",
       "<thead>\n",
       "\t<tr><th scope=col>DBNascent</th><th scope=col>EnhancerAtlas</th><th scope=col>FANTOM5</th><th scope=col>ENCODE</th></tr>\n",
       "\t<tr><th scope=col>&lt;lgl&gt;</th><th scope=col>&lt;lgl&gt;</th><th scope=col>&lt;lgl&gt;</th><th scope=col>&lt;lgl&gt;</th></tr>\n",
       "</thead>\n",
       "<tbody>\n",
       "\t<tr><td>TRUE</td><td>FALSE</td><td>FALSE</td><td>FALSE</td></tr>\n",
       "\t<tr><td>TRUE</td><td>FALSE</td><td>FALSE</td><td>FALSE</td></tr>\n",
       "\t<tr><td>TRUE</td><td>FALSE</td><td>FALSE</td><td>FALSE</td></tr>\n",
       "\t<tr><td>TRUE</td><td>FALSE</td><td>FALSE</td><td>FALSE</td></tr>\n",
       "\t<tr><td>TRUE</td><td>FALSE</td><td>FALSE</td><td>FALSE</td></tr>\n",
       "\t<tr><td>TRUE</td><td>FALSE</td><td>FALSE</td><td>FALSE</td></tr>\n",
       "\t<tr><td>TRUE</td><td>FALSE</td><td>FALSE</td><td>FALSE</td></tr>\n",
       "\t<tr><td>TRUE</td><td>FALSE</td><td>FALSE</td><td>FALSE</td></tr>\n",
       "\t<tr><td>TRUE</td><td>FALSE</td><td>FALSE</td><td>FALSE</td></tr>\n",
       "\t<tr><td>TRUE</td><td>FALSE</td><td>FALSE</td><td>FALSE</td></tr>\n",
       "\t<tr><td>TRUE</td><td>FALSE</td><td>FALSE</td><td>FALSE</td></tr>\n",
       "\t<tr><td>TRUE</td><td>FALSE</td><td>FALSE</td><td>FALSE</td></tr>\n",
       "\t<tr><td>TRUE</td><td>FALSE</td><td>FALSE</td><td>FALSE</td></tr>\n",
       "\t<tr><td>TRUE</td><td>FALSE</td><td>FALSE</td><td>FALSE</td></tr>\n",
       "\t<tr><td>TRUE</td><td>FALSE</td><td>FALSE</td><td>FALSE</td></tr>\n",
       "\t<tr><td>TRUE</td><td>FALSE</td><td>FALSE</td><td>FALSE</td></tr>\n",
       "\t<tr><td>TRUE</td><td>FALSE</td><td>FALSE</td><td>FALSE</td></tr>\n",
       "\t<tr><td>TRUE</td><td>FALSE</td><td>FALSE</td><td>FALSE</td></tr>\n",
       "\t<tr><td>TRUE</td><td>FALSE</td><td>FALSE</td><td>FALSE</td></tr>\n",
       "\t<tr><td>TRUE</td><td>FALSE</td><td>FALSE</td><td>FALSE</td></tr>\n",
       "\t<tr><td>TRUE</td><td>FALSE</td><td>FALSE</td><td>FALSE</td></tr>\n",
       "\t<tr><td>TRUE</td><td>FALSE</td><td>FALSE</td><td>FALSE</td></tr>\n",
       "\t<tr><td>TRUE</td><td>FALSE</td><td>FALSE</td><td>FALSE</td></tr>\n",
       "\t<tr><td>TRUE</td><td>FALSE</td><td>FALSE</td><td>FALSE</td></tr>\n",
       "\t<tr><td>TRUE</td><td>FALSE</td><td>FALSE</td><td>FALSE</td></tr>\n",
       "\t<tr><td>TRUE</td><td>FALSE</td><td>FALSE</td><td>FALSE</td></tr>\n",
       "\t<tr><td>TRUE</td><td>FALSE</td><td>FALSE</td><td>FALSE</td></tr>\n",
       "\t<tr><td>TRUE</td><td>FALSE</td><td>FALSE</td><td>FALSE</td></tr>\n",
       "\t<tr><td>TRUE</td><td>FALSE</td><td>FALSE</td><td>FALSE</td></tr>\n",
       "\t<tr><td>TRUE</td><td>FALSE</td><td>FALSE</td><td>FALSE</td></tr>\n",
       "\t<tr><td>⋮</td><td>⋮</td><td>⋮</td><td>⋮</td></tr>\n",
       "\t<tr><td>TRUE</td><td>TRUE</td><td>TRUE</td><td>TRUE</td></tr>\n",
       "\t<tr><td>TRUE</td><td>TRUE</td><td>TRUE</td><td>TRUE</td></tr>\n",
       "\t<tr><td>TRUE</td><td>TRUE</td><td>TRUE</td><td>TRUE</td></tr>\n",
       "\t<tr><td>TRUE</td><td>TRUE</td><td>TRUE</td><td>TRUE</td></tr>\n",
       "\t<tr><td>TRUE</td><td>TRUE</td><td>TRUE</td><td>TRUE</td></tr>\n",
       "\t<tr><td>TRUE</td><td>TRUE</td><td>TRUE</td><td>TRUE</td></tr>\n",
       "\t<tr><td>TRUE</td><td>TRUE</td><td>TRUE</td><td>TRUE</td></tr>\n",
       "\t<tr><td>TRUE</td><td>TRUE</td><td>TRUE</td><td>TRUE</td></tr>\n",
       "\t<tr><td>TRUE</td><td>TRUE</td><td>TRUE</td><td>TRUE</td></tr>\n",
       "\t<tr><td>TRUE</td><td>TRUE</td><td>TRUE</td><td>TRUE</td></tr>\n",
       "\t<tr><td>TRUE</td><td>TRUE</td><td>TRUE</td><td>TRUE</td></tr>\n",
       "\t<tr><td>TRUE</td><td>TRUE</td><td>TRUE</td><td>TRUE</td></tr>\n",
       "\t<tr><td>TRUE</td><td>TRUE</td><td>TRUE</td><td>TRUE</td></tr>\n",
       "\t<tr><td>TRUE</td><td>TRUE</td><td>TRUE</td><td>TRUE</td></tr>\n",
       "\t<tr><td>TRUE</td><td>TRUE</td><td>TRUE</td><td>TRUE</td></tr>\n",
       "\t<tr><td>TRUE</td><td>TRUE</td><td>TRUE</td><td>TRUE</td></tr>\n",
       "\t<tr><td>TRUE</td><td>TRUE</td><td>TRUE</td><td>TRUE</td></tr>\n",
       "\t<tr><td>TRUE</td><td>TRUE</td><td>TRUE</td><td>TRUE</td></tr>\n",
       "\t<tr><td>TRUE</td><td>TRUE</td><td>TRUE</td><td>TRUE</td></tr>\n",
       "\t<tr><td>TRUE</td><td>TRUE</td><td>TRUE</td><td>TRUE</td></tr>\n",
       "\t<tr><td>TRUE</td><td>TRUE</td><td>TRUE</td><td>TRUE</td></tr>\n",
       "\t<tr><td>TRUE</td><td>TRUE</td><td>TRUE</td><td>TRUE</td></tr>\n",
       "\t<tr><td>TRUE</td><td>TRUE</td><td>TRUE</td><td>TRUE</td></tr>\n",
       "\t<tr><td>TRUE</td><td>TRUE</td><td>TRUE</td><td>TRUE</td></tr>\n",
       "\t<tr><td>TRUE</td><td>TRUE</td><td>TRUE</td><td>TRUE</td></tr>\n",
       "\t<tr><td>TRUE</td><td>TRUE</td><td>TRUE</td><td>TRUE</td></tr>\n",
       "\t<tr><td>TRUE</td><td>TRUE</td><td>TRUE</td><td>TRUE</td></tr>\n",
       "\t<tr><td>TRUE</td><td>TRUE</td><td>TRUE</td><td>TRUE</td></tr>\n",
       "\t<tr><td>TRUE</td><td>TRUE</td><td>TRUE</td><td>TRUE</td></tr>\n",
       "\t<tr><td>TRUE</td><td>TRUE</td><td>TRUE</td><td>TRUE</td></tr>\n",
       "</tbody>\n",
       "</table>\n"
      ],
      "text/latex": [
       "A tibble: 994511 × 4\n",
       "\\begin{tabular}{llll}\n",
       " DBNascent & EnhancerAtlas & FANTOM5 & ENCODE\\\\\n",
       " <lgl> & <lgl> & <lgl> & <lgl>\\\\\n",
       "\\hline\n",
       "\t TRUE & FALSE & FALSE & FALSE\\\\\n",
       "\t TRUE & FALSE & FALSE & FALSE\\\\\n",
       "\t TRUE & FALSE & FALSE & FALSE\\\\\n",
       "\t TRUE & FALSE & FALSE & FALSE\\\\\n",
       "\t TRUE & FALSE & FALSE & FALSE\\\\\n",
       "\t TRUE & FALSE & FALSE & FALSE\\\\\n",
       "\t TRUE & FALSE & FALSE & FALSE\\\\\n",
       "\t TRUE & FALSE & FALSE & FALSE\\\\\n",
       "\t TRUE & FALSE & FALSE & FALSE\\\\\n",
       "\t TRUE & FALSE & FALSE & FALSE\\\\\n",
       "\t TRUE & FALSE & FALSE & FALSE\\\\\n",
       "\t TRUE & FALSE & FALSE & FALSE\\\\\n",
       "\t TRUE & FALSE & FALSE & FALSE\\\\\n",
       "\t TRUE & FALSE & FALSE & FALSE\\\\\n",
       "\t TRUE & FALSE & FALSE & FALSE\\\\\n",
       "\t TRUE & FALSE & FALSE & FALSE\\\\\n",
       "\t TRUE & FALSE & FALSE & FALSE\\\\\n",
       "\t TRUE & FALSE & FALSE & FALSE\\\\\n",
       "\t TRUE & FALSE & FALSE & FALSE\\\\\n",
       "\t TRUE & FALSE & FALSE & FALSE\\\\\n",
       "\t TRUE & FALSE & FALSE & FALSE\\\\\n",
       "\t TRUE & FALSE & FALSE & FALSE\\\\\n",
       "\t TRUE & FALSE & FALSE & FALSE\\\\\n",
       "\t TRUE & FALSE & FALSE & FALSE\\\\\n",
       "\t TRUE & FALSE & FALSE & FALSE\\\\\n",
       "\t TRUE & FALSE & FALSE & FALSE\\\\\n",
       "\t TRUE & FALSE & FALSE & FALSE\\\\\n",
       "\t TRUE & FALSE & FALSE & FALSE\\\\\n",
       "\t TRUE & FALSE & FALSE & FALSE\\\\\n",
       "\t TRUE & FALSE & FALSE & FALSE\\\\\n",
       "\t ⋮ & ⋮ & ⋮ & ⋮\\\\\n",
       "\t TRUE & TRUE & TRUE & TRUE\\\\\n",
       "\t TRUE & TRUE & TRUE & TRUE\\\\\n",
       "\t TRUE & TRUE & TRUE & TRUE\\\\\n",
       "\t TRUE & TRUE & TRUE & TRUE\\\\\n",
       "\t TRUE & TRUE & TRUE & TRUE\\\\\n",
       "\t TRUE & TRUE & TRUE & TRUE\\\\\n",
       "\t TRUE & TRUE & TRUE & TRUE\\\\\n",
       "\t TRUE & TRUE & TRUE & TRUE\\\\\n",
       "\t TRUE & TRUE & TRUE & TRUE\\\\\n",
       "\t TRUE & TRUE & TRUE & TRUE\\\\\n",
       "\t TRUE & TRUE & TRUE & TRUE\\\\\n",
       "\t TRUE & TRUE & TRUE & TRUE\\\\\n",
       "\t TRUE & TRUE & TRUE & TRUE\\\\\n",
       "\t TRUE & TRUE & TRUE & TRUE\\\\\n",
       "\t TRUE & TRUE & TRUE & TRUE\\\\\n",
       "\t TRUE & TRUE & TRUE & TRUE\\\\\n",
       "\t TRUE & TRUE & TRUE & TRUE\\\\\n",
       "\t TRUE & TRUE & TRUE & TRUE\\\\\n",
       "\t TRUE & TRUE & TRUE & TRUE\\\\\n",
       "\t TRUE & TRUE & TRUE & TRUE\\\\\n",
       "\t TRUE & TRUE & TRUE & TRUE\\\\\n",
       "\t TRUE & TRUE & TRUE & TRUE\\\\\n",
       "\t TRUE & TRUE & TRUE & TRUE\\\\\n",
       "\t TRUE & TRUE & TRUE & TRUE\\\\\n",
       "\t TRUE & TRUE & TRUE & TRUE\\\\\n",
       "\t TRUE & TRUE & TRUE & TRUE\\\\\n",
       "\t TRUE & TRUE & TRUE & TRUE\\\\\n",
       "\t TRUE & TRUE & TRUE & TRUE\\\\\n",
       "\t TRUE & TRUE & TRUE & TRUE\\\\\n",
       "\t TRUE & TRUE & TRUE & TRUE\\\\\n",
       "\\end{tabular}\n"
      ],
      "text/markdown": [
       "\n",
       "A tibble: 994511 × 4\n",
       "\n",
       "| DBNascent &lt;lgl&gt; | EnhancerAtlas &lt;lgl&gt; | FANTOM5 &lt;lgl&gt; | ENCODE &lt;lgl&gt; |\n",
       "|---|---|---|---|\n",
       "| TRUE | FALSE | FALSE | FALSE |\n",
       "| TRUE | FALSE | FALSE | FALSE |\n",
       "| TRUE | FALSE | FALSE | FALSE |\n",
       "| TRUE | FALSE | FALSE | FALSE |\n",
       "| TRUE | FALSE | FALSE | FALSE |\n",
       "| TRUE | FALSE | FALSE | FALSE |\n",
       "| TRUE | FALSE | FALSE | FALSE |\n",
       "| TRUE | FALSE | FALSE | FALSE |\n",
       "| TRUE | FALSE | FALSE | FALSE |\n",
       "| TRUE | FALSE | FALSE | FALSE |\n",
       "| TRUE | FALSE | FALSE | FALSE |\n",
       "| TRUE | FALSE | FALSE | FALSE |\n",
       "| TRUE | FALSE | FALSE | FALSE |\n",
       "| TRUE | FALSE | FALSE | FALSE |\n",
       "| TRUE | FALSE | FALSE | FALSE |\n",
       "| TRUE | FALSE | FALSE | FALSE |\n",
       "| TRUE | FALSE | FALSE | FALSE |\n",
       "| TRUE | FALSE | FALSE | FALSE |\n",
       "| TRUE | FALSE | FALSE | FALSE |\n",
       "| TRUE | FALSE | FALSE | FALSE |\n",
       "| TRUE | FALSE | FALSE | FALSE |\n",
       "| TRUE | FALSE | FALSE | FALSE |\n",
       "| TRUE | FALSE | FALSE | FALSE |\n",
       "| TRUE | FALSE | FALSE | FALSE |\n",
       "| TRUE | FALSE | FALSE | FALSE |\n",
       "| TRUE | FALSE | FALSE | FALSE |\n",
       "| TRUE | FALSE | FALSE | FALSE |\n",
       "| TRUE | FALSE | FALSE | FALSE |\n",
       "| TRUE | FALSE | FALSE | FALSE |\n",
       "| TRUE | FALSE | FALSE | FALSE |\n",
       "| ⋮ | ⋮ | ⋮ | ⋮ |\n",
       "| TRUE | TRUE | TRUE | TRUE |\n",
       "| TRUE | TRUE | TRUE | TRUE |\n",
       "| TRUE | TRUE | TRUE | TRUE |\n",
       "| TRUE | TRUE | TRUE | TRUE |\n",
       "| TRUE | TRUE | TRUE | TRUE |\n",
       "| TRUE | TRUE | TRUE | TRUE |\n",
       "| TRUE | TRUE | TRUE | TRUE |\n",
       "| TRUE | TRUE | TRUE | TRUE |\n",
       "| TRUE | TRUE | TRUE | TRUE |\n",
       "| TRUE | TRUE | TRUE | TRUE |\n",
       "| TRUE | TRUE | TRUE | TRUE |\n",
       "| TRUE | TRUE | TRUE | TRUE |\n",
       "| TRUE | TRUE | TRUE | TRUE |\n",
       "| TRUE | TRUE | TRUE | TRUE |\n",
       "| TRUE | TRUE | TRUE | TRUE |\n",
       "| TRUE | TRUE | TRUE | TRUE |\n",
       "| TRUE | TRUE | TRUE | TRUE |\n",
       "| TRUE | TRUE | TRUE | TRUE |\n",
       "| TRUE | TRUE | TRUE | TRUE |\n",
       "| TRUE | TRUE | TRUE | TRUE |\n",
       "| TRUE | TRUE | TRUE | TRUE |\n",
       "| TRUE | TRUE | TRUE | TRUE |\n",
       "| TRUE | TRUE | TRUE | TRUE |\n",
       "| TRUE | TRUE | TRUE | TRUE |\n",
       "| TRUE | TRUE | TRUE | TRUE |\n",
       "| TRUE | TRUE | TRUE | TRUE |\n",
       "| TRUE | TRUE | TRUE | TRUE |\n",
       "| TRUE | TRUE | TRUE | TRUE |\n",
       "| TRUE | TRUE | TRUE | TRUE |\n",
       "| TRUE | TRUE | TRUE | TRUE |\n",
       "\n"
      ],
      "text/plain": [
       "       DBNascent EnhancerAtlas FANTOM5 ENCODE\n",
       "1      TRUE      FALSE         FALSE   FALSE \n",
       "2      TRUE      FALSE         FALSE   FALSE \n",
       "3      TRUE      FALSE         FALSE   FALSE \n",
       "4      TRUE      FALSE         FALSE   FALSE \n",
       "5      TRUE      FALSE         FALSE   FALSE \n",
       "6      TRUE      FALSE         FALSE   FALSE \n",
       "7      TRUE      FALSE         FALSE   FALSE \n",
       "8      TRUE      FALSE         FALSE   FALSE \n",
       "9      TRUE      FALSE         FALSE   FALSE \n",
       "10     TRUE      FALSE         FALSE   FALSE \n",
       "11     TRUE      FALSE         FALSE   FALSE \n",
       "12     TRUE      FALSE         FALSE   FALSE \n",
       "13     TRUE      FALSE         FALSE   FALSE \n",
       "14     TRUE      FALSE         FALSE   FALSE \n",
       "15     TRUE      FALSE         FALSE   FALSE \n",
       "16     TRUE      FALSE         FALSE   FALSE \n",
       "17     TRUE      FALSE         FALSE   FALSE \n",
       "18     TRUE      FALSE         FALSE   FALSE \n",
       "19     TRUE      FALSE         FALSE   FALSE \n",
       "20     TRUE      FALSE         FALSE   FALSE \n",
       "21     TRUE      FALSE         FALSE   FALSE \n",
       "22     TRUE      FALSE         FALSE   FALSE \n",
       "23     TRUE      FALSE         FALSE   FALSE \n",
       "24     TRUE      FALSE         FALSE   FALSE \n",
       "25     TRUE      FALSE         FALSE   FALSE \n",
       "26     TRUE      FALSE         FALSE   FALSE \n",
       "27     TRUE      FALSE         FALSE   FALSE \n",
       "28     TRUE      FALSE         FALSE   FALSE \n",
       "29     TRUE      FALSE         FALSE   FALSE \n",
       "30     TRUE      FALSE         FALSE   FALSE \n",
       "⋮      ⋮         ⋮             ⋮       ⋮     \n",
       "994482 TRUE      TRUE          TRUE    TRUE  \n",
       "994483 TRUE      TRUE          TRUE    TRUE  \n",
       "994484 TRUE      TRUE          TRUE    TRUE  \n",
       "994485 TRUE      TRUE          TRUE    TRUE  \n",
       "994486 TRUE      TRUE          TRUE    TRUE  \n",
       "994487 TRUE      TRUE          TRUE    TRUE  \n",
       "994488 TRUE      TRUE          TRUE    TRUE  \n",
       "994489 TRUE      TRUE          TRUE    TRUE  \n",
       "994490 TRUE      TRUE          TRUE    TRUE  \n",
       "994491 TRUE      TRUE          TRUE    TRUE  \n",
       "994492 TRUE      TRUE          TRUE    TRUE  \n",
       "994493 TRUE      TRUE          TRUE    TRUE  \n",
       "994494 TRUE      TRUE          TRUE    TRUE  \n",
       "994495 TRUE      TRUE          TRUE    TRUE  \n",
       "994496 TRUE      TRUE          TRUE    TRUE  \n",
       "994497 TRUE      TRUE          TRUE    TRUE  \n",
       "994498 TRUE      TRUE          TRUE    TRUE  \n",
       "994499 TRUE      TRUE          TRUE    TRUE  \n",
       "994500 TRUE      TRUE          TRUE    TRUE  \n",
       "994501 TRUE      TRUE          TRUE    TRUE  \n",
       "994502 TRUE      TRUE          TRUE    TRUE  \n",
       "994503 TRUE      TRUE          TRUE    TRUE  \n",
       "994504 TRUE      TRUE          TRUE    TRUE  \n",
       "994505 TRUE      TRUE          TRUE    TRUE  \n",
       "994506 TRUE      TRUE          TRUE    TRUE  \n",
       "994507 TRUE      TRUE          TRUE    TRUE  \n",
       "994508 TRUE      TRUE          TRUE    TRUE  \n",
       "994509 TRUE      TRUE          TRUE    TRUE  \n",
       "994510 TRUE      TRUE          TRUE    TRUE  \n",
       "994511 TRUE      TRUE          TRUE    TRUE  "
      ]
     },
     "metadata": {},
     "output_type": "display_data"
    }
   ],
   "source": [
    "hg38_indvs <- hg38_enhancer_mat %>%\n",
    "    uncount(count) \n",
    "colnames(hg38_indvs) <- c('DBNascent','EnhancerAtlas', 'FANTOM5','ENCODE')\n",
    "hg38_indvs"
   ]
  },
  {
   "cell_type": "code",
   "execution_count": 19,
   "metadata": {},
   "outputs": [],
   "source": [
    "enhancers2 <- c('DBNascent','EnhancerAtlas', 'FANTOM5','ENCODE')"
   ]
  },
  {
   "cell_type": "code",
   "execution_count": 20,
   "metadata": {},
   "outputs": [
    {
     "data": {
      "image/png": "[encoded data removed]",
      "text/plain": [
       "plot without title"
      ]
     },
     "metadata": {
      "image/png": {
       "height": 360,
       "width": 960
      }
     },
     "output_type": "display_data"
    }
   ],
   "source": [
    "options(repr.plot.width=16, repr.plot.height=6)\n",
    "\n",
    "hu <- UpSetR::upset(fromExpression(hg38_bidirInput), \n",
    "                    main.bar.color = \"gray65\",\n",
    "                    sets.bar.color = \"gray25\",\n",
    "                    order.by = \"freq\",\n",
    "                    mb.ratio = c(0.7, 0.3),\n",
    "                    point.size = 5,\n",
    "                    line.size = 1.7 ,\n",
    "                    text.scale = 2.5,\n",
    "                    mainbar.y.label = \"Intersection Size\", \n",
    "                    sets.x.label = \"Database Set Size\",\n",
    "                    set_size.show = FALSE)\n",
    "hu"
   ]
  },
  {
   "cell_type": "code",
   "execution_count": 21,
   "metadata": {},
   "outputs": [
    {
     "data": {
      "text/html": [
       "<strong>png:</strong> 2"
      ],
      "text/latex": [
       "\\textbf{png:} 2"
      ],
      "text/markdown": [
       "**png:** 2"
      ],
      "text/plain": [
       "png \n",
       "  2 "
      ]
     },
     "metadata": {},
     "output_type": "display_data"
    }
   ],
   "source": [
    "pdf(file=\"/Users/rusi2317/projects/meta_analysis_qc/hg38/paper_figures/hg38_enhancer_db_overlaps.pdf\", \n",
    "    width = 16,\n",
    "    height = 6) \n",
    "hu\n",
    "dev.off()"
   ]
  },
  {
   "cell_type": "markdown",
   "metadata": {},
   "source": [
    "## Mouse"
   ]
  },
  {
   "cell_type": "code",
   "execution_count": 22,
   "metadata": {},
   "outputs": [
    {
     "data": {
      "text/html": [
       "<table class=\"dataframe\">\n",
       "<caption>A data.frame: 15 × 2</caption>\n",
       "<thead>\n",
       "\t<tr><th scope=col>combinations</th><th scope=col>count</th></tr>\n",
       "\t<tr><th scope=col>&lt;chr&gt;</th><th scope=col>&lt;int&gt;</th></tr>\n",
       "</thead>\n",
       "<tbody>\n",
       "\t<tr><td>DBNascent                             </td><td> 47723</td></tr>\n",
       "\t<tr><td>EnhancerAtlas                         </td><td>309892</td></tr>\n",
       "\t<tr><td>FANTOM5                               </td><td>   681</td></tr>\n",
       "\t<tr><td>ENCODE                                </td><td> 14185</td></tr>\n",
       "\t<tr><td><span style=white-space:pre-wrap>DBNascent&amp;EnhancerAtlas               </span></td><td>447001</td></tr>\n",
       "\t<tr><td><span style=white-space:pre-wrap>DBNascent&amp;FANTOM5                     </span></td><td><span style=white-space:pre-wrap>   644</span></td></tr>\n",
       "\t<tr><td><span style=white-space:pre-wrap>DBNascent&amp;ENCODE                      </span></td><td><span style=white-space:pre-wrap>  9596</span></td></tr>\n",
       "\t<tr><td><span style=white-space:pre-wrap>EnhancerAtlas&amp;FANTOM5                 </span></td><td> 11127</td></tr>\n",
       "\t<tr><td><span style=white-space:pre-wrap>FANTOM5&amp;ENCODE                        </span></td><td><span style=white-space:pre-wrap>   336</span></td></tr>\n",
       "\t<tr><td><span style=white-space:pre-wrap>EnhancerAtlas&amp;ENCODE                  </span></td><td><span style=white-space:pre-wrap>  9655</span></td></tr>\n",
       "\t<tr><td><span style=white-space:pre-wrap>DBNascent&amp;EnhancerAtlas&amp;FANTOM5       </span></td><td> 10280</td></tr>\n",
       "\t<tr><td><span style=white-space:pre-wrap>EnhancerAtlas&amp;FANTOM5&amp;ENCODE          </span></td><td><span style=white-space:pre-wrap>   452</span></td></tr>\n",
       "\t<tr><td><span style=white-space:pre-wrap>DBNascent&amp;FANTOM5&amp;ENCODE              </span></td><td><span style=white-space:pre-wrap>   908</span></td></tr>\n",
       "\t<tr><td><span style=white-space:pre-wrap>DBNascent&amp;EnhancerAtlas&amp;ENCODE        </span></td><td>142584</td></tr>\n",
       "\t<tr><td>DBNascent&amp;EnhancerAtlas&amp;FANTOM5&amp;ENCODE</td><td> 21999</td></tr>\n",
       "</tbody>\n",
       "</table>\n"
      ],
      "text/latex": [
       "A data.frame: 15 × 2\n",
       "\\begin{tabular}{ll}\n",
       " combinations & count\\\\\n",
       " <chr> & <int>\\\\\n",
       "\\hline\n",
       "\t DBNascent                              &  47723\\\\\n",
       "\t EnhancerAtlas                          & 309892\\\\\n",
       "\t FANTOM5                                &    681\\\\\n",
       "\t ENCODE                                 &  14185\\\\\n",
       "\t DBNascent\\&EnhancerAtlas                & 447001\\\\\n",
       "\t DBNascent\\&FANTOM5                      &    644\\\\\n",
       "\t DBNascent\\&ENCODE                       &   9596\\\\\n",
       "\t EnhancerAtlas\\&FANTOM5                  &  11127\\\\\n",
       "\t FANTOM5\\&ENCODE                         &    336\\\\\n",
       "\t EnhancerAtlas\\&ENCODE                   &   9655\\\\\n",
       "\t DBNascent\\&EnhancerAtlas\\&FANTOM5        &  10280\\\\\n",
       "\t EnhancerAtlas\\&FANTOM5\\&ENCODE           &    452\\\\\n",
       "\t DBNascent\\&FANTOM5\\&ENCODE               &    908\\\\\n",
       "\t DBNascent\\&EnhancerAtlas\\&ENCODE         & 142584\\\\\n",
       "\t DBNascent\\&EnhancerAtlas\\&FANTOM5\\&ENCODE &  21999\\\\\n",
       "\\end{tabular}\n"
      ],
      "text/markdown": [
       "\n",
       "A data.frame: 15 × 2\n",
       "\n",
       "| combinations &lt;chr&gt; | count &lt;int&gt; |\n",
       "|---|---|\n",
       "| DBNascent                              |  47723 |\n",
       "| EnhancerAtlas                          | 309892 |\n",
       "| FANTOM5                                |    681 |\n",
       "| ENCODE                                 |  14185 |\n",
       "| DBNascent&amp;EnhancerAtlas                | 447001 |\n",
       "| DBNascent&amp;FANTOM5                      |    644 |\n",
       "| DBNascent&amp;ENCODE                       |   9596 |\n",
       "| EnhancerAtlas&amp;FANTOM5                  |  11127 |\n",
       "| FANTOM5&amp;ENCODE                         |    336 |\n",
       "| EnhancerAtlas&amp;ENCODE                   |   9655 |\n",
       "| DBNascent&amp;EnhancerAtlas&amp;FANTOM5        |  10280 |\n",
       "| EnhancerAtlas&amp;FANTOM5&amp;ENCODE           |    452 |\n",
       "| DBNascent&amp;FANTOM5&amp;ENCODE               |    908 |\n",
       "| DBNascent&amp;EnhancerAtlas&amp;ENCODE         | 142584 |\n",
       "| DBNascent&amp;EnhancerAtlas&amp;FANTOM5&amp;ENCODE |  21999 |\n",
       "\n"
      ],
      "text/plain": [
       "   combinations                           count \n",
       "1  DBNascent                               47723\n",
       "2  EnhancerAtlas                          309892\n",
       "3  FANTOM5                                   681\n",
       "4  ENCODE                                  14185\n",
       "5  DBNascent&EnhancerAtlas                447001\n",
       "6  DBNascent&FANTOM5                         644\n",
       "7  DBNascent&ENCODE                         9596\n",
       "8  EnhancerAtlas&FANTOM5                   11127\n",
       "9  FANTOM5&ENCODE                            336\n",
       "10 EnhancerAtlas&ENCODE                     9655\n",
       "11 DBNascent&EnhancerAtlas&FANTOM5         10280\n",
       "12 EnhancerAtlas&FANTOM5&ENCODE              452\n",
       "13 DBNascent&FANTOM5&ENCODE                  908\n",
       "14 DBNascent&EnhancerAtlas&ENCODE         142584\n",
       "15 DBNascent&EnhancerAtlas&FANTOM5&ENCODE  21999"
      ]
     },
     "metadata": {},
     "output_type": "display_data"
    }
   ],
   "source": [
    "mm10_bidir_overlaps <- read.table('/Users/rusi2317/projects/meta_analysis_qc/mm10/processed_data/annotated_enhancers_bidir_overlaps/multiway_venn.txt',\n",
    "                             sep='\\t', header=T)\n",
    "mm10_bidir_overlaps$combinations <- gsub(\"dbNascent\",\n",
    "                                         \"DBNascent\", \n",
    "                                         mm10_bidir_overlaps$combinations)\n",
    "mm10_bidir_overlaps"
   ]
  },
  {
   "cell_type": "code",
   "execution_count": 23,
   "metadata": {},
   "outputs": [
    {
     "data": {
      "text/html": [
       "<style>\n",
       ".dl-inline {width: auto; margin:0; padding: 0}\n",
       ".dl-inline>dt, .dl-inline>dd {float: none; width: auto; display: inline-block}\n",
       ".dl-inline>dt::after {content: \":\\0020\"; padding-right: .5ex}\n",
       ".dl-inline>dt:not(:first-of-type) {padding-left: .5ex}\n",
       "</style><dl class=dl-inline><dt>DBNascent</dt><dd>47723</dd><dt>EnhancerAtlas</dt><dd>309892</dd><dt>FANTOM5</dt><dd>681</dd><dt>ENCODE</dt><dd>14185</dd><dt>DBNascent&amp;EnhancerAtlas</dt><dd>447001</dd><dt>DBNascent&amp;FANTOM5</dt><dd>644</dd><dt>DBNascent&amp;ENCODE</dt><dd>9596</dd><dt>EnhancerAtlas&amp;FANTOM5</dt><dd>11127</dd><dt>FANTOM5&amp;ENCODE</dt><dd>336</dd><dt>EnhancerAtlas&amp;ENCODE</dt><dd>9655</dd><dt>DBNascent&amp;EnhancerAtlas&amp;FANTOM5</dt><dd>10280</dd><dt>EnhancerAtlas&amp;FANTOM5&amp;ENCODE</dt><dd>452</dd><dt>DBNascent&amp;FANTOM5&amp;ENCODE</dt><dd>908</dd><dt>DBNascent&amp;EnhancerAtlas&amp;ENCODE</dt><dd>142584</dd><dt>DBNascent&amp;EnhancerAtlas&amp;FANTOM5&amp;ENCODE</dt><dd>21999</dd></dl>\n"
      ],
      "text/latex": [
       "\\begin{description*}\n",
       "\\item[DBNascent] 47723\n",
       "\\item[EnhancerAtlas] 309892\n",
       "\\item[FANTOM5] 681\n",
       "\\item[ENCODE] 14185\n",
       "\\item[DBNascent\\textbackslash{}\\&EnhancerAtlas] 447001\n",
       "\\item[DBNascent\\textbackslash{}\\&FANTOM5] 644\n",
       "\\item[DBNascent\\textbackslash{}\\&ENCODE] 9596\n",
       "\\item[EnhancerAtlas\\textbackslash{}\\&FANTOM5] 11127\n",
       "\\item[FANTOM5\\textbackslash{}\\&ENCODE] 336\n",
       "\\item[EnhancerAtlas\\textbackslash{}\\&ENCODE] 9655\n",
       "\\item[DBNascent\\textbackslash{}\\&EnhancerAtlas\\textbackslash{}\\&FANTOM5] 10280\n",
       "\\item[EnhancerAtlas\\textbackslash{}\\&FANTOM5\\textbackslash{}\\&ENCODE] 452\n",
       "\\item[DBNascent\\textbackslash{}\\&FANTOM5\\textbackslash{}\\&ENCODE] 908\n",
       "\\item[DBNascent\\textbackslash{}\\&EnhancerAtlas\\textbackslash{}\\&ENCODE] 142584\n",
       "\\item[DBNascent\\textbackslash{}\\&EnhancerAtlas\\textbackslash{}\\&FANTOM5\\textbackslash{}\\&ENCODE] 21999\n",
       "\\end{description*}\n"
      ],
      "text/markdown": [
       "DBNascent\n",
       ":   47723EnhancerAtlas\n",
       ":   309892FANTOM5\n",
       ":   681ENCODE\n",
       ":   14185DBNascent&amp;amp;EnhancerAtlas\n",
       ":   447001DBNascent&amp;amp;FANTOM5\n",
       ":   644DBNascent&amp;amp;ENCODE\n",
       ":   9596EnhancerAtlas&amp;amp;FANTOM5\n",
       ":   11127FANTOM5&amp;amp;ENCODE\n",
       ":   336EnhancerAtlas&amp;amp;ENCODE\n",
       ":   9655DBNascent&amp;amp;EnhancerAtlas&amp;amp;FANTOM5\n",
       ":   10280EnhancerAtlas&amp;amp;FANTOM5&amp;amp;ENCODE\n",
       ":   452DBNascent&amp;amp;FANTOM5&amp;amp;ENCODE\n",
       ":   908DBNascent&amp;amp;EnhancerAtlas&amp;amp;ENCODE\n",
       ":   142584DBNascent&amp;amp;EnhancerAtlas&amp;amp;FANTOM5&amp;amp;ENCODE\n",
       ":   21999\n",
       "\n"
      ],
      "text/plain": [
       "                             DBNascent                          EnhancerAtlas \n",
       "                                 47723                                 309892 \n",
       "                               FANTOM5                                 ENCODE \n",
       "                                   681                                  14185 \n",
       "               DBNascent&EnhancerAtlas                      DBNascent&FANTOM5 \n",
       "                                447001                                    644 \n",
       "                      DBNascent&ENCODE                  EnhancerAtlas&FANTOM5 \n",
       "                                  9596                                  11127 \n",
       "                        FANTOM5&ENCODE                   EnhancerAtlas&ENCODE \n",
       "                                   336                                   9655 \n",
       "       DBNascent&EnhancerAtlas&FANTOM5           EnhancerAtlas&FANTOM5&ENCODE \n",
       "                                 10280                                    452 \n",
       "              DBNascent&FANTOM5&ENCODE         DBNascent&EnhancerAtlas&ENCODE \n",
       "                                   908                                 142584 \n",
       "DBNascent&EnhancerAtlas&FANTOM5&ENCODE \n",
       "                                 21999 "
      ]
     },
     "metadata": {},
     "output_type": "display_data"
    }
   ],
   "source": [
    "mm10_bidirInput <- mm10_bidir_overlaps$count\n",
    "names(mm10_bidirInput) <- mm10_bidir_overlaps$combinations\n",
    "mm10_bidirInput"
   ]
  },
  {
   "cell_type": "code",
   "execution_count": 24,
   "metadata": {},
   "outputs": [],
   "source": [
    "enhancers <- c(\"DBNascent\",\"EnhancerAtlas\",\"FANTOM5\",\"ENCODE\")"
   ]
  },
  {
   "cell_type": "code",
   "execution_count": 25,
   "metadata": {},
   "outputs": [
    {
     "name": "stderr",
     "output_type": "stream",
     "text": [
      "\u001b[1m\u001b[22mNew names:\n",
      "\u001b[36m•\u001b[39m `` -> `...1`\n",
      "\u001b[36m•\u001b[39m `` -> `...2`\n",
      "\u001b[36m•\u001b[39m `` -> `...3`\n",
      "\u001b[36m•\u001b[39m `` -> `...4`\n",
      "\u001b[36m•\u001b[39m `` -> `...5`\n",
      "\u001b[36m•\u001b[39m `` -> `...6`\n",
      "\u001b[36m•\u001b[39m `` -> `...7`\n",
      "\u001b[36m•\u001b[39m `` -> `...8`\n",
      "\u001b[36m•\u001b[39m `` -> `...9`\n",
      "\u001b[36m•\u001b[39m `` -> `...10`\n",
      "\u001b[36m•\u001b[39m `` -> `...11`\n",
      "\u001b[36m•\u001b[39m `` -> `...12`\n",
      "\u001b[36m•\u001b[39m `` -> `...13`\n",
      "\u001b[36m•\u001b[39m `` -> `...14`\n",
      "\u001b[36m•\u001b[39m `` -> `...15`\n"
     ]
    },
    {
     "name": "stdout",
     "output_type": "stream",
     "text": [
      "\u001b[90m# A tibble: 15 × 5\u001b[39m\n",
      "   DBNascent EnhancerAtlas FANTOM5 ENCODE  count\n",
      "   \u001b[3m\u001b[90m<lgl>\u001b[39m\u001b[23m     \u001b[3m\u001b[90m<lgl>\u001b[39m\u001b[23m         \u001b[3m\u001b[90m<lgl>\u001b[39m\u001b[23m   \u001b[3m\u001b[90m<lgl>\u001b[39m\u001b[23m   \u001b[3m\u001b[90m<int>\u001b[39m\u001b[23m\n",
      "\u001b[90m 1\u001b[39m TRUE      FALSE         FALSE   FALSE   \u001b[4m4\u001b[24m\u001b[4m7\u001b[24m723\n",
      "\u001b[90m 2\u001b[39m FALSE     TRUE          FALSE   FALSE  \u001b[4m3\u001b[24m\u001b[4m0\u001b[24m\u001b[4m9\u001b[24m892\n",
      "\u001b[90m 3\u001b[39m FALSE     FALSE         TRUE    FALSE     681\n",
      "\u001b[90m 4\u001b[39m FALSE     FALSE         FALSE   TRUE    \u001b[4m1\u001b[24m\u001b[4m4\u001b[24m185\n",
      "\u001b[90m 5\u001b[39m TRUE      TRUE          FALSE   FALSE  \u001b[4m4\u001b[24m\u001b[4m4\u001b[24m\u001b[4m7\u001b[24m001\n",
      "\u001b[90m 6\u001b[39m TRUE      FALSE         TRUE    FALSE     644\n",
      "\u001b[90m 7\u001b[39m TRUE      FALSE         FALSE   TRUE     \u001b[4m9\u001b[24m596\n",
      "\u001b[90m 8\u001b[39m FALSE     TRUE          TRUE    FALSE   \u001b[4m1\u001b[24m\u001b[4m1\u001b[24m127\n",
      "\u001b[90m 9\u001b[39m FALSE     FALSE         TRUE    TRUE      336\n",
      "\u001b[90m10\u001b[39m FALSE     TRUE          FALSE   TRUE     \u001b[4m9\u001b[24m655\n",
      "\u001b[90m11\u001b[39m TRUE      TRUE          TRUE    FALSE   \u001b[4m1\u001b[24m\u001b[4m0\u001b[24m280\n",
      "\u001b[90m12\u001b[39m FALSE     TRUE          TRUE    TRUE      452\n",
      "\u001b[90m13\u001b[39m TRUE      FALSE         TRUE    TRUE      908\n",
      "\u001b[90m14\u001b[39m TRUE      TRUE          FALSE   TRUE   \u001b[4m1\u001b[24m\u001b[4m4\u001b[24m\u001b[4m2\u001b[24m584\n",
      "\u001b[90m15\u001b[39m TRUE      TRUE          TRUE    TRUE    \u001b[4m2\u001b[24m\u001b[4m1\u001b[24m999\n"
     ]
    }
   ],
   "source": [
    "mm10_subsets <- mm10_bidir_overlaps$combination\n",
    "## Check if each subset mentions each symptom or not\n",
    "mm10_enhancer_mat <- map_dfc(mm10_subsets, str_detect, enhancers) %>%\n",
    "    data.frame() %>%\n",
    "    t() %>% # transpose the result, ugh\n",
    "    as_tibble()\n",
    "colnames(mm10_enhancer_mat)  <- enhancers\n",
    "mm10_enhancer_mat$count <- mm10_bidir_overlaps$count\n",
    "mm10_enhancer_mat %>% print(n = nrow(mm10_enhancer_mat))"
   ]
  },
  {
   "cell_type": "code",
   "execution_count": 26,
   "metadata": {},
   "outputs": [
    {
     "data": {
      "text/html": [
       "<table class=\"dataframe\">\n",
       "<caption>A tibble: 1027063 × 4</caption>\n",
       "<thead>\n",
       "\t<tr><th scope=col>DBNascent</th><th scope=col>EnhancerAtlas</th><th scope=col>FANTOM5</th><th scope=col>ENCODE</th></tr>\n",
       "\t<tr><th scope=col>&lt;lgl&gt;</th><th scope=col>&lt;lgl&gt;</th><th scope=col>&lt;lgl&gt;</th><th scope=col>&lt;lgl&gt;</th></tr>\n",
       "</thead>\n",
       "<tbody>\n",
       "\t<tr><td>TRUE</td><td>FALSE</td><td>FALSE</td><td>FALSE</td></tr>\n",
       "\t<tr><td>TRUE</td><td>FALSE</td><td>FALSE</td><td>FALSE</td></tr>\n",
       "\t<tr><td>TRUE</td><td>FALSE</td><td>FALSE</td><td>FALSE</td></tr>\n",
       "\t<tr><td>TRUE</td><td>FALSE</td><td>FALSE</td><td>FALSE</td></tr>\n",
       "\t<tr><td>TRUE</td><td>FALSE</td><td>FALSE</td><td>FALSE</td></tr>\n",
       "\t<tr><td>TRUE</td><td>FALSE</td><td>FALSE</td><td>FALSE</td></tr>\n",
       "\t<tr><td>TRUE</td><td>FALSE</td><td>FALSE</td><td>FALSE</td></tr>\n",
       "\t<tr><td>TRUE</td><td>FALSE</td><td>FALSE</td><td>FALSE</td></tr>\n",
       "\t<tr><td>TRUE</td><td>FALSE</td><td>FALSE</td><td>FALSE</td></tr>\n",
       "\t<tr><td>TRUE</td><td>FALSE</td><td>FALSE</td><td>FALSE</td></tr>\n",
       "\t<tr><td>TRUE</td><td>FALSE</td><td>FALSE</td><td>FALSE</td></tr>\n",
       "\t<tr><td>TRUE</td><td>FALSE</td><td>FALSE</td><td>FALSE</td></tr>\n",
       "\t<tr><td>TRUE</td><td>FALSE</td><td>FALSE</td><td>FALSE</td></tr>\n",
       "\t<tr><td>TRUE</td><td>FALSE</td><td>FALSE</td><td>FALSE</td></tr>\n",
       "\t<tr><td>TRUE</td><td>FALSE</td><td>FALSE</td><td>FALSE</td></tr>\n",
       "\t<tr><td>TRUE</td><td>FALSE</td><td>FALSE</td><td>FALSE</td></tr>\n",
       "\t<tr><td>TRUE</td><td>FALSE</td><td>FALSE</td><td>FALSE</td></tr>\n",
       "\t<tr><td>TRUE</td><td>FALSE</td><td>FALSE</td><td>FALSE</td></tr>\n",
       "\t<tr><td>TRUE</td><td>FALSE</td><td>FALSE</td><td>FALSE</td></tr>\n",
       "\t<tr><td>TRUE</td><td>FALSE</td><td>FALSE</td><td>FALSE</td></tr>\n",
       "\t<tr><td>TRUE</td><td>FALSE</td><td>FALSE</td><td>FALSE</td></tr>\n",
       "\t<tr><td>TRUE</td><td>FALSE</td><td>FALSE</td><td>FALSE</td></tr>\n",
       "\t<tr><td>TRUE</td><td>FALSE</td><td>FALSE</td><td>FALSE</td></tr>\n",
       "\t<tr><td>TRUE</td><td>FALSE</td><td>FALSE</td><td>FALSE</td></tr>\n",
       "\t<tr><td>TRUE</td><td>FALSE</td><td>FALSE</td><td>FALSE</td></tr>\n",
       "\t<tr><td>TRUE</td><td>FALSE</td><td>FALSE</td><td>FALSE</td></tr>\n",
       "\t<tr><td>TRUE</td><td>FALSE</td><td>FALSE</td><td>FALSE</td></tr>\n",
       "\t<tr><td>TRUE</td><td>FALSE</td><td>FALSE</td><td>FALSE</td></tr>\n",
       "\t<tr><td>TRUE</td><td>FALSE</td><td>FALSE</td><td>FALSE</td></tr>\n",
       "\t<tr><td>TRUE</td><td>FALSE</td><td>FALSE</td><td>FALSE</td></tr>\n",
       "\t<tr><td>⋮</td><td>⋮</td><td>⋮</td><td>⋮</td></tr>\n",
       "\t<tr><td>TRUE</td><td>TRUE</td><td>TRUE</td><td>TRUE</td></tr>\n",
       "\t<tr><td>TRUE</td><td>TRUE</td><td>TRUE</td><td>TRUE</td></tr>\n",
       "\t<tr><td>TRUE</td><td>TRUE</td><td>TRUE</td><td>TRUE</td></tr>\n",
       "\t<tr><td>TRUE</td><td>TRUE</td><td>TRUE</td><td>TRUE</td></tr>\n",
       "\t<tr><td>TRUE</td><td>TRUE</td><td>TRUE</td><td>TRUE</td></tr>\n",
       "\t<tr><td>TRUE</td><td>TRUE</td><td>TRUE</td><td>TRUE</td></tr>\n",
       "\t<tr><td>TRUE</td><td>TRUE</td><td>TRUE</td><td>TRUE</td></tr>\n",
       "\t<tr><td>TRUE</td><td>TRUE</td><td>TRUE</td><td>TRUE</td></tr>\n",
       "\t<tr><td>TRUE</td><td>TRUE</td><td>TRUE</td><td>TRUE</td></tr>\n",
       "\t<tr><td>TRUE</td><td>TRUE</td><td>TRUE</td><td>TRUE</td></tr>\n",
       "\t<tr><td>TRUE</td><td>TRUE</td><td>TRUE</td><td>TRUE</td></tr>\n",
       "\t<tr><td>TRUE</td><td>TRUE</td><td>TRUE</td><td>TRUE</td></tr>\n",
       "\t<tr><td>TRUE</td><td>TRUE</td><td>TRUE</td><td>TRUE</td></tr>\n",
       "\t<tr><td>TRUE</td><td>TRUE</td><td>TRUE</td><td>TRUE</td></tr>\n",
       "\t<tr><td>TRUE</td><td>TRUE</td><td>TRUE</td><td>TRUE</td></tr>\n",
       "\t<tr><td>TRUE</td><td>TRUE</td><td>TRUE</td><td>TRUE</td></tr>\n",
       "\t<tr><td>TRUE</td><td>TRUE</td><td>TRUE</td><td>TRUE</td></tr>\n",
       "\t<tr><td>TRUE</td><td>TRUE</td><td>TRUE</td><td>TRUE</td></tr>\n",
       "\t<tr><td>TRUE</td><td>TRUE</td><td>TRUE</td><td>TRUE</td></tr>\n",
       "\t<tr><td>TRUE</td><td>TRUE</td><td>TRUE</td><td>TRUE</td></tr>\n",
       "\t<tr><td>TRUE</td><td>TRUE</td><td>TRUE</td><td>TRUE</td></tr>\n",
       "\t<tr><td>TRUE</td><td>TRUE</td><td>TRUE</td><td>TRUE</td></tr>\n",
       "\t<tr><td>TRUE</td><td>TRUE</td><td>TRUE</td><td>TRUE</td></tr>\n",
       "\t<tr><td>TRUE</td><td>TRUE</td><td>TRUE</td><td>TRUE</td></tr>\n",
       "\t<tr><td>TRUE</td><td>TRUE</td><td>TRUE</td><td>TRUE</td></tr>\n",
       "\t<tr><td>TRUE</td><td>TRUE</td><td>TRUE</td><td>TRUE</td></tr>\n",
       "\t<tr><td>TRUE</td><td>TRUE</td><td>TRUE</td><td>TRUE</td></tr>\n",
       "\t<tr><td>TRUE</td><td>TRUE</td><td>TRUE</td><td>TRUE</td></tr>\n",
       "\t<tr><td>TRUE</td><td>TRUE</td><td>TRUE</td><td>TRUE</td></tr>\n",
       "\t<tr><td>TRUE</td><td>TRUE</td><td>TRUE</td><td>TRUE</td></tr>\n",
       "</tbody>\n",
       "</table>\n"
      ],
      "text/latex": [
       "A tibble: 1027063 × 4\n",
       "\\begin{tabular}{llll}\n",
       " DBNascent & EnhancerAtlas & FANTOM5 & ENCODE\\\\\n",
       " <lgl> & <lgl> & <lgl> & <lgl>\\\\\n",
       "\\hline\n",
       "\t TRUE & FALSE & FALSE & FALSE\\\\\n",
       "\t TRUE & FALSE & FALSE & FALSE\\\\\n",
       "\t TRUE & FALSE & FALSE & FALSE\\\\\n",
       "\t TRUE & FALSE & FALSE & FALSE\\\\\n",
       "\t TRUE & FALSE & FALSE & FALSE\\\\\n",
       "\t TRUE & FALSE & FALSE & FALSE\\\\\n",
       "\t TRUE & FALSE & FALSE & FALSE\\\\\n",
       "\t TRUE & FALSE & FALSE & FALSE\\\\\n",
       "\t TRUE & FALSE & FALSE & FALSE\\\\\n",
       "\t TRUE & FALSE & FALSE & FALSE\\\\\n",
       "\t TRUE & FALSE & FALSE & FALSE\\\\\n",
       "\t TRUE & FALSE & FALSE & FALSE\\\\\n",
       "\t TRUE & FALSE & FALSE & FALSE\\\\\n",
       "\t TRUE & FALSE & FALSE & FALSE\\\\\n",
       "\t TRUE & FALSE & FALSE & FALSE\\\\\n",
       "\t TRUE & FALSE & FALSE & FALSE\\\\\n",
       "\t TRUE & FALSE & FALSE & FALSE\\\\\n",
       "\t TRUE & FALSE & FALSE & FALSE\\\\\n",
       "\t TRUE & FALSE & FALSE & FALSE\\\\\n",
       "\t TRUE & FALSE & FALSE & FALSE\\\\\n",
       "\t TRUE & FALSE & FALSE & FALSE\\\\\n",
       "\t TRUE & FALSE & FALSE & FALSE\\\\\n",
       "\t TRUE & FALSE & FALSE & FALSE\\\\\n",
       "\t TRUE & FALSE & FALSE & FALSE\\\\\n",
       "\t TRUE & FALSE & FALSE & FALSE\\\\\n",
       "\t TRUE & FALSE & FALSE & FALSE\\\\\n",
       "\t TRUE & FALSE & FALSE & FALSE\\\\\n",
       "\t TRUE & FALSE & FALSE & FALSE\\\\\n",
       "\t TRUE & FALSE & FALSE & FALSE\\\\\n",
       "\t TRUE & FALSE & FALSE & FALSE\\\\\n",
       "\t ⋮ & ⋮ & ⋮ & ⋮\\\\\n",
       "\t TRUE & TRUE & TRUE & TRUE\\\\\n",
       "\t TRUE & TRUE & TRUE & TRUE\\\\\n",
       "\t TRUE & TRUE & TRUE & TRUE\\\\\n",
       "\t TRUE & TRUE & TRUE & TRUE\\\\\n",
       "\t TRUE & TRUE & TRUE & TRUE\\\\\n",
       "\t TRUE & TRUE & TRUE & TRUE\\\\\n",
       "\t TRUE & TRUE & TRUE & TRUE\\\\\n",
       "\t TRUE & TRUE & TRUE & TRUE\\\\\n",
       "\t TRUE & TRUE & TRUE & TRUE\\\\\n",
       "\t TRUE & TRUE & TRUE & TRUE\\\\\n",
       "\t TRUE & TRUE & TRUE & TRUE\\\\\n",
       "\t TRUE & TRUE & TRUE & TRUE\\\\\n",
       "\t TRUE & TRUE & TRUE & TRUE\\\\\n",
       "\t TRUE & TRUE & TRUE & TRUE\\\\\n",
       "\t TRUE & TRUE & TRUE & TRUE\\\\\n",
       "\t TRUE & TRUE & TRUE & TRUE\\\\\n",
       "\t TRUE & TRUE & TRUE & TRUE\\\\\n",
       "\t TRUE & TRUE & TRUE & TRUE\\\\\n",
       "\t TRUE & TRUE & TRUE & TRUE\\\\\n",
       "\t TRUE & TRUE & TRUE & TRUE\\\\\n",
       "\t TRUE & TRUE & TRUE & TRUE\\\\\n",
       "\t TRUE & TRUE & TRUE & TRUE\\\\\n",
       "\t TRUE & TRUE & TRUE & TRUE\\\\\n",
       "\t TRUE & TRUE & TRUE & TRUE\\\\\n",
       "\t TRUE & TRUE & TRUE & TRUE\\\\\n",
       "\t TRUE & TRUE & TRUE & TRUE\\\\\n",
       "\t TRUE & TRUE & TRUE & TRUE\\\\\n",
       "\t TRUE & TRUE & TRUE & TRUE\\\\\n",
       "\t TRUE & TRUE & TRUE & TRUE\\\\\n",
       "\t TRUE & TRUE & TRUE & TRUE\\\\\n",
       "\\end{tabular}\n"
      ],
      "text/markdown": [
       "\n",
       "A tibble: 1027063 × 4\n",
       "\n",
       "| DBNascent &lt;lgl&gt; | EnhancerAtlas &lt;lgl&gt; | FANTOM5 &lt;lgl&gt; | ENCODE &lt;lgl&gt; |\n",
       "|---|---|---|---|\n",
       "| TRUE | FALSE | FALSE | FALSE |\n",
       "| TRUE | FALSE | FALSE | FALSE |\n",
       "| TRUE | FALSE | FALSE | FALSE |\n",
       "| TRUE | FALSE | FALSE | FALSE |\n",
       "| TRUE | FALSE | FALSE | FALSE |\n",
       "| TRUE | FALSE | FALSE | FALSE |\n",
       "| TRUE | FALSE | FALSE | FALSE |\n",
       "| TRUE | FALSE | FALSE | FALSE |\n",
       "| TRUE | FALSE | FALSE | FALSE |\n",
       "| TRUE | FALSE | FALSE | FALSE |\n",
       "| TRUE | FALSE | FALSE | FALSE |\n",
       "| TRUE | FALSE | FALSE | FALSE |\n",
       "| TRUE | FALSE | FALSE | FALSE |\n",
       "| TRUE | FALSE | FALSE | FALSE |\n",
       "| TRUE | FALSE | FALSE | FALSE |\n",
       "| TRUE | FALSE | FALSE | FALSE |\n",
       "| TRUE | FALSE | FALSE | FALSE |\n",
       "| TRUE | FALSE | FALSE | FALSE |\n",
       "| TRUE | FALSE | FALSE | FALSE |\n",
       "| TRUE | FALSE | FALSE | FALSE |\n",
       "| TRUE | FALSE | FALSE | FALSE |\n",
       "| TRUE | FALSE | FALSE | FALSE |\n",
       "| TRUE | FALSE | FALSE | FALSE |\n",
       "| TRUE | FALSE | FALSE | FALSE |\n",
       "| TRUE | FALSE | FALSE | FALSE |\n",
       "| TRUE | FALSE | FALSE | FALSE |\n",
       "| TRUE | FALSE | FALSE | FALSE |\n",
       "| TRUE | FALSE | FALSE | FALSE |\n",
       "| TRUE | FALSE | FALSE | FALSE |\n",
       "| TRUE | FALSE | FALSE | FALSE |\n",
       "| ⋮ | ⋮ | ⋮ | ⋮ |\n",
       "| TRUE | TRUE | TRUE | TRUE |\n",
       "| TRUE | TRUE | TRUE | TRUE |\n",
       "| TRUE | TRUE | TRUE | TRUE |\n",
       "| TRUE | TRUE | TRUE | TRUE |\n",
       "| TRUE | TRUE | TRUE | TRUE |\n",
       "| TRUE | TRUE | TRUE | TRUE |\n",
       "| TRUE | TRUE | TRUE | TRUE |\n",
       "| TRUE | TRUE | TRUE | TRUE |\n",
       "| TRUE | TRUE | TRUE | TRUE |\n",
       "| TRUE | TRUE | TRUE | TRUE |\n",
       "| TRUE | TRUE | TRUE | TRUE |\n",
       "| TRUE | TRUE | TRUE | TRUE |\n",
       "| TRUE | TRUE | TRUE | TRUE |\n",
       "| TRUE | TRUE | TRUE | TRUE |\n",
       "| TRUE | TRUE | TRUE | TRUE |\n",
       "| TRUE | TRUE | TRUE | TRUE |\n",
       "| TRUE | TRUE | TRUE | TRUE |\n",
       "| TRUE | TRUE | TRUE | TRUE |\n",
       "| TRUE | TRUE | TRUE | TRUE |\n",
       "| TRUE | TRUE | TRUE | TRUE |\n",
       "| TRUE | TRUE | TRUE | TRUE |\n",
       "| TRUE | TRUE | TRUE | TRUE |\n",
       "| TRUE | TRUE | TRUE | TRUE |\n",
       "| TRUE | TRUE | TRUE | TRUE |\n",
       "| TRUE | TRUE | TRUE | TRUE |\n",
       "| TRUE | TRUE | TRUE | TRUE |\n",
       "| TRUE | TRUE | TRUE | TRUE |\n",
       "| TRUE | TRUE | TRUE | TRUE |\n",
       "| TRUE | TRUE | TRUE | TRUE |\n",
       "| TRUE | TRUE | TRUE | TRUE |\n",
       "\n"
      ],
      "text/plain": [
       "        DBNascent EnhancerAtlas FANTOM5 ENCODE\n",
       "1       TRUE      FALSE         FALSE   FALSE \n",
       "2       TRUE      FALSE         FALSE   FALSE \n",
       "3       TRUE      FALSE         FALSE   FALSE \n",
       "4       TRUE      FALSE         FALSE   FALSE \n",
       "5       TRUE      FALSE         FALSE   FALSE \n",
       "6       TRUE      FALSE         FALSE   FALSE \n",
       "7       TRUE      FALSE         FALSE   FALSE \n",
       "8       TRUE      FALSE         FALSE   FALSE \n",
       "9       TRUE      FALSE         FALSE   FALSE \n",
       "10      TRUE      FALSE         FALSE   FALSE \n",
       "11      TRUE      FALSE         FALSE   FALSE \n",
       "12      TRUE      FALSE         FALSE   FALSE \n",
       "13      TRUE      FALSE         FALSE   FALSE \n",
       "14      TRUE      FALSE         FALSE   FALSE \n",
       "15      TRUE      FALSE         FALSE   FALSE \n",
       "16      TRUE      FALSE         FALSE   FALSE \n",
       "17      TRUE      FALSE         FALSE   FALSE \n",
       "18      TRUE      FALSE         FALSE   FALSE \n",
       "19      TRUE      FALSE         FALSE   FALSE \n",
       "20      TRUE      FALSE         FALSE   FALSE \n",
       "21      TRUE      FALSE         FALSE   FALSE \n",
       "22      TRUE      FALSE         FALSE   FALSE \n",
       "23      TRUE      FALSE         FALSE   FALSE \n",
       "24      TRUE      FALSE         FALSE   FALSE \n",
       "25      TRUE      FALSE         FALSE   FALSE \n",
       "26      TRUE      FALSE         FALSE   FALSE \n",
       "27      TRUE      FALSE         FALSE   FALSE \n",
       "28      TRUE      FALSE         FALSE   FALSE \n",
       "29      TRUE      FALSE         FALSE   FALSE \n",
       "30      TRUE      FALSE         FALSE   FALSE \n",
       "⋮       ⋮         ⋮             ⋮       ⋮     \n",
       "1027034 TRUE      TRUE          TRUE    TRUE  \n",
       "1027035 TRUE      TRUE          TRUE    TRUE  \n",
       "1027036 TRUE      TRUE          TRUE    TRUE  \n",
       "1027037 TRUE      TRUE          TRUE    TRUE  \n",
       "1027038 TRUE      TRUE          TRUE    TRUE  \n",
       "1027039 TRUE      TRUE          TRUE    TRUE  \n",
       "1027040 TRUE      TRUE          TRUE    TRUE  \n",
       "1027041 TRUE      TRUE          TRUE    TRUE  \n",
       "1027042 TRUE      TRUE          TRUE    TRUE  \n",
       "1027043 TRUE      TRUE          TRUE    TRUE  \n",
       "1027044 TRUE      TRUE          TRUE    TRUE  \n",
       "1027045 TRUE      TRUE          TRUE    TRUE  \n",
       "1027046 TRUE      TRUE          TRUE    TRUE  \n",
       "1027047 TRUE      TRUE          TRUE    TRUE  \n",
       "1027048 TRUE      TRUE          TRUE    TRUE  \n",
       "1027049 TRUE      TRUE          TRUE    TRUE  \n",
       "1027050 TRUE      TRUE          TRUE    TRUE  \n",
       "1027051 TRUE      TRUE          TRUE    TRUE  \n",
       "1027052 TRUE      TRUE          TRUE    TRUE  \n",
       "1027053 TRUE      TRUE          TRUE    TRUE  \n",
       "1027054 TRUE      TRUE          TRUE    TRUE  \n",
       "1027055 TRUE      TRUE          TRUE    TRUE  \n",
       "1027056 TRUE      TRUE          TRUE    TRUE  \n",
       "1027057 TRUE      TRUE          TRUE    TRUE  \n",
       "1027058 TRUE      TRUE          TRUE    TRUE  \n",
       "1027059 TRUE      TRUE          TRUE    TRUE  \n",
       "1027060 TRUE      TRUE          TRUE    TRUE  \n",
       "1027061 TRUE      TRUE          TRUE    TRUE  \n",
       "1027062 TRUE      TRUE          TRUE    TRUE  \n",
       "1027063 TRUE      TRUE          TRUE    TRUE  "
      ]
     },
     "metadata": {},
     "output_type": "display_data"
    }
   ],
   "source": [
    "mm10_indvs <- mm10_enhancer_mat %>%\n",
    "    uncount(count) \n",
    "colnames(mm10_indvs) <- c('DBNascent','EnhancerAtlas', 'FANTOM5','ENCODE')\n",
    "mm10_indvs"
   ]
  },
  {
   "cell_type": "code",
   "execution_count": 27,
   "metadata": {},
   "outputs": [],
   "source": [
    "enhancers2 <- c('DBNascent','EnhancerAtlas', 'FANTOM5','ENCODE')"
   ]
  },
  {
   "cell_type": "code",
   "execution_count": 28,
   "metadata": {},
   "outputs": [
    {
     "data": {
      "image/png": "[encoded data removed]",
      "text/plain": [
       "plot without title"
      ]
     },
     "metadata": {
      "image/png": {
       "height": 360,
       "width": 960
      }
     },
     "output_type": "display_data"
    }
   ],
   "source": [
    "options(repr.plot.width=16, repr.plot.height=6)\n",
    "\n",
    "mu <- UpSetR::upset(fromExpression(mm10_bidirInput), \n",
    "                    main.bar.color = \"gray65\",\n",
    "                    sets.bar.color = \"gray25\",\n",
    "                    order.by = \"freq\",\n",
    "                    point.size = 5,\n",
    "                    line.size = 1.7 ,\n",
    "                    text.scale = 2.5,\n",
    "                    scale.sets = \"log10\",\n",
    "                    mb.ratio = c(0.7, 0.3),\n",
    "                    number.angles=0,\n",
    "                    set_size.show = FALSE,\n",
    "                    set_size.numbers_size = 4,\n",
    "                    mainbar.y.label = \"Intersection Size\", \n",
    "                    sets.x.label = \"Database Set Size\") \n",
    "mu"
   ]
  },
  {
   "cell_type": "code",
   "execution_count": 29,
   "metadata": {},
   "outputs": [
    {
     "data": {
      "text/html": [
       "<strong>png:</strong> 2"
      ],
      "text/latex": [
       "\\textbf{png:} 2"
      ],
      "text/markdown": [
       "**png:** 2"
      ],
      "text/plain": [
       "png \n",
       "  2 "
      ]
     },
     "metadata": {},
     "output_type": "display_data"
    }
   ],
   "source": [
    "pdf(file=\"/Users/rusi2317/projects/meta_analysis_qc/mm10/paper_figures/mm10_enhancer_db_overlaps.pdf\", \n",
    "    width = 16,\n",
    "    height = 6) \n",
    "mu\n",
    "dev.off()"
   ]
  },
  {
   "cell_type": "markdown",
   "metadata": {},
   "source": [
    "# Length distributions"
   ]
  },
  {
   "cell_type": "markdown",
   "metadata": {},
   "source": [
    "## Human"
   ]
  },
  {
   "cell_type": "code",
   "execution_count": 30,
   "metadata": {},
   "outputs": [
    {
     "data": {
      "text/html": [
       "<style>\n",
       ".list-inline {list-style: none; margin:0; padding: 0}\n",
       ".list-inline>li {display: inline-block}\n",
       ".list-inline>li:not(:last-child)::after {content: \"\\00b7\"; padding: 0 .5ex}\n",
       "</style>\n",
       "<ol class=list-inline><li>192173</li><li>5</li></ol>\n"
      ],
      "text/latex": [
       "\\begin{enumerate*}\n",
       "\\item 192173\n",
       "\\item 5\n",
       "\\end{enumerate*}\n"
      ],
      "text/markdown": [
       "1. 192173\n",
       "2. 5\n",
       "\n",
       "\n"
      ],
      "text/plain": [
       "[1] 192173      5"
      ]
     },
     "metadata": {},
     "output_type": "display_data"
    },
    {
     "data": {
      "text/html": [
       "<table class=\"dataframe\">\n",
       "<caption>A data.table: 6 × 5</caption>\n",
       "<thead>\n",
       "\t<tr><th scope=col>V1</th><th scope=col>V2</th><th scope=col>V3</th><th scope=col>width</th><th scope=col>type</th></tr>\n",
       "\t<tr><th scope=col>&lt;chr&gt;</th><th scope=col>&lt;int&gt;</th><th scope=col>&lt;int&gt;</th><th scope=col>&lt;dbl&gt;</th><th scope=col>&lt;chr&gt;</th></tr>\n",
       "</thead>\n",
       "<tbody>\n",
       "\t<tr><td>chr1</td><td>12230</td><td>12610</td><td>381</td><td>EnhancerAtlas</td></tr>\n",
       "\t<tr><td>chr1</td><td>12720</td><td>13220</td><td>501</td><td>EnhancerAtlas</td></tr>\n",
       "\t<tr><td>chr1</td><td>14830</td><td>14960</td><td>131</td><td>EnhancerAtlas</td></tr>\n",
       "\t<tr><td>chr1</td><td>15040</td><td>15790</td><td>751</td><td>EnhancerAtlas</td></tr>\n",
       "\t<tr><td>chr1</td><td>15950</td><td>16600</td><td>651</td><td>EnhancerAtlas</td></tr>\n",
       "\t<tr><td>chr1</td><td>16770</td><td>16850</td><td> 81</td><td>EnhancerAtlas</td></tr>\n",
       "</tbody>\n",
       "</table>\n"
      ],
      "text/latex": [
       "A data.table: 6 × 5\n",
       "\\begin{tabular}{lllll}\n",
       " V1 & V2 & V3 & width & type\\\\\n",
       " <chr> & <int> & <int> & <dbl> & <chr>\\\\\n",
       "\\hline\n",
       "\t chr1 & 12230 & 12610 & 381 & EnhancerAtlas\\\\\n",
       "\t chr1 & 12720 & 13220 & 501 & EnhancerAtlas\\\\\n",
       "\t chr1 & 14830 & 14960 & 131 & EnhancerAtlas\\\\\n",
       "\t chr1 & 15040 & 15790 & 751 & EnhancerAtlas\\\\\n",
       "\t chr1 & 15950 & 16600 & 651 & EnhancerAtlas\\\\\n",
       "\t chr1 & 16770 & 16850 &  81 & EnhancerAtlas\\\\\n",
       "\\end{tabular}\n"
      ],
      "text/markdown": [
       "\n",
       "A data.table: 6 × 5\n",
       "\n",
       "| V1 &lt;chr&gt; | V2 &lt;int&gt; | V3 &lt;int&gt; | width &lt;dbl&gt; | type &lt;chr&gt; |\n",
       "|---|---|---|---|---|\n",
       "| chr1 | 12230 | 12610 | 381 | EnhancerAtlas |\n",
       "| chr1 | 12720 | 13220 | 501 | EnhancerAtlas |\n",
       "| chr1 | 14830 | 14960 | 131 | EnhancerAtlas |\n",
       "| chr1 | 15040 | 15790 | 751 | EnhancerAtlas |\n",
       "| chr1 | 15950 | 16600 | 651 | EnhancerAtlas |\n",
       "| chr1 | 16770 | 16850 |  81 | EnhancerAtlas |\n",
       "\n"
      ],
      "text/plain": [
       "  V1   V2    V3    width type         \n",
       "1 chr1 12230 12610 381   EnhancerAtlas\n",
       "2 chr1 12720 13220 501   EnhancerAtlas\n",
       "3 chr1 14830 14960 131   EnhancerAtlas\n",
       "4 chr1 15040 15790 751   EnhancerAtlas\n",
       "5 chr1 15950 16600 651   EnhancerAtlas\n",
       "6 chr1 16770 16850  81   EnhancerAtlas"
      ]
     },
     "metadata": {},
     "output_type": "display_data"
    }
   ],
   "source": [
    "EnhancerAtlas <- data.table::fread(\"/scratch/Users/rusi2317/projects/meta_analysis_qc/hg38/enhancers/Enhancer_Atlas_species_enh_bed/hg38_liftOverFrom_hg19.bed\")\n",
    "EnhancerAtlas$width <- EnhancerAtlas$V3 - EnhancerAtlas$V2 +1\n",
    "EnhancerAtlas$type <- \"EnhancerAtlas\"\n",
    "dim(EnhancerAtlas)\n",
    "head(EnhancerAtlas)\n"
   ]
  },
  {
   "cell_type": "code",
   "execution_count": 31,
   "metadata": {},
   "outputs": [
    {
     "data": {
      "text/html": [
       "<style>\n",
       ".list-inline {list-style: none; margin:0; padding: 0}\n",
       ".list-inline>li {display: inline-block}\n",
       ".list-inline>li:not(:last-child)::after {content: \"\\00b7\"; padding: 0 .5ex}\n",
       "</style>\n",
       "<ol class=list-inline><li>926535</li><li>5</li></ol>\n"
      ],
      "text/latex": [
       "\\begin{enumerate*}\n",
       "\\item 926535\n",
       "\\item 5\n",
       "\\end{enumerate*}\n"
      ],
      "text/markdown": [
       "1. 926535\n",
       "2. 5\n",
       "\n",
       "\n"
      ],
      "text/plain": [
       "[1] 926535      5"
      ]
     },
     "metadata": {},
     "output_type": "display_data"
    },
    {
     "data": {
      "text/html": [
       "<table class=\"dataframe\">\n",
       "<caption>A data.table: 6 × 5</caption>\n",
       "<thead>\n",
       "\t<tr><th scope=col>V1</th><th scope=col>V2</th><th scope=col>V3</th><th scope=col>width</th><th scope=col>type</th></tr>\n",
       "\t<tr><th scope=col>&lt;chr&gt;</th><th scope=col>&lt;int&gt;</th><th scope=col>&lt;int&gt;</th><th scope=col>&lt;dbl&gt;</th><th scope=col>&lt;chr&gt;</th></tr>\n",
       "</thead>\n",
       "<tbody>\n",
       "\t<tr><td>chr1</td><td>181251</td><td>181601</td><td>351</td><td>ENCODE</td></tr>\n",
       "\t<tr><td>chr1</td><td>190865</td><td>191071</td><td>207</td><td>ENCODE</td></tr>\n",
       "\t<tr><td>chr1</td><td>778562</td><td>778912</td><td>351</td><td>ENCODE</td></tr>\n",
       "\t<tr><td>chr1</td><td>779086</td><td>779355</td><td>270</td><td>ENCODE</td></tr>\n",
       "\t<tr><td>chr1</td><td>779727</td><td>780060</td><td>334</td><td>ENCODE</td></tr>\n",
       "\t<tr><td>chr1</td><td>790397</td><td>790626</td><td>230</td><td>ENCODE</td></tr>\n",
       "</tbody>\n",
       "</table>\n"
      ],
      "text/latex": [
       "A data.table: 6 × 5\n",
       "\\begin{tabular}{lllll}\n",
       " V1 & V2 & V3 & width & type\\\\\n",
       " <chr> & <int> & <int> & <dbl> & <chr>\\\\\n",
       "\\hline\n",
       "\t chr1 & 181251 & 181601 & 351 & ENCODE\\\\\n",
       "\t chr1 & 190865 & 191071 & 207 & ENCODE\\\\\n",
       "\t chr1 & 778562 & 778912 & 351 & ENCODE\\\\\n",
       "\t chr1 & 779086 & 779355 & 270 & ENCODE\\\\\n",
       "\t chr1 & 779727 & 780060 & 334 & ENCODE\\\\\n",
       "\t chr1 & 790397 & 790626 & 230 & ENCODE\\\\\n",
       "\\end{tabular}\n"
      ],
      "text/markdown": [
       "\n",
       "A data.table: 6 × 5\n",
       "\n",
       "| V1 &lt;chr&gt; | V2 &lt;int&gt; | V3 &lt;int&gt; | width &lt;dbl&gt; | type &lt;chr&gt; |\n",
       "|---|---|---|---|---|\n",
       "| chr1 | 181251 | 181601 | 351 | ENCODE |\n",
       "| chr1 | 190865 | 191071 | 207 | ENCODE |\n",
       "| chr1 | 778562 | 778912 | 351 | ENCODE |\n",
       "| chr1 | 779086 | 779355 | 270 | ENCODE |\n",
       "| chr1 | 779727 | 780060 | 334 | ENCODE |\n",
       "| chr1 | 790397 | 790626 | 230 | ENCODE |\n",
       "\n"
      ],
      "text/plain": [
       "  V1   V2     V3     width type  \n",
       "1 chr1 181251 181601 351   ENCODE\n",
       "2 chr1 190865 191071 207   ENCODE\n",
       "3 chr1 778562 778912 351   ENCODE\n",
       "4 chr1 779086 779355 270   ENCODE\n",
       "5 chr1 779727 780060 334   ENCODE\n",
       "6 chr1 790397 790626 230   ENCODE"
      ]
     },
     "metadata": {},
     "output_type": "display_data"
    }
   ],
   "source": [
    "encode_all <- data.table::fread(\"/scratch/Users/rusi2317/projects/meta_analysis_qc/hg38/enhancers/ENCODE/encodeCcreCombined_sorted.bed\")\n",
    "encode <- encode_all[,c(1:3)]\n",
    "encode$width <- encode$V3 - encode$V2 + 1\n",
    "encode$type <- \"ENCODE\"\n",
    "dim(encode)\n",
    "head(encode)"
   ]
  },
  {
   "cell_type": "code",
   "execution_count": 32,
   "metadata": {},
   "outputs": [
    {
     "data": {
      "text/html": [
       "<style>\n",
       ".list-inline {list-style: none; margin:0; padding: 0}\n",
       ".list-inline>li {display: inline-block}\n",
       ".list-inline>li:not(:last-child)::after {content: \"\\00b7\"; padding: 0 .5ex}\n",
       "</style>\n",
       "<ol class=list-inline><li>63285</li><li>5</li></ol>\n"
      ],
      "text/latex": [
       "\\begin{enumerate*}\n",
       "\\item 63285\n",
       "\\item 5\n",
       "\\end{enumerate*}\n"
      ],
      "text/markdown": [
       "1. 63285\n",
       "2. 5\n",
       "\n",
       "\n"
      ],
      "text/plain": [
       "[1] 63285     5"
      ]
     },
     "metadata": {},
     "output_type": "display_data"
    },
    {
     "data": {
      "text/html": [
       "<table class=\"dataframe\">\n",
       "<caption>A data.table: 6 × 5</caption>\n",
       "<thead>\n",
       "\t<tr><th scope=col>V1</th><th scope=col>V2</th><th scope=col>V3</th><th scope=col>width</th><th scope=col>type</th></tr>\n",
       "\t<tr><th scope=col>&lt;chr&gt;</th><th scope=col>&lt;int&gt;</th><th scope=col>&lt;int&gt;</th><th scope=col>&lt;dbl&gt;</th><th scope=col>&lt;chr&gt;</th></tr>\n",
       "</thead>\n",
       "<tbody>\n",
       "\t<tr><td>chr1</td><td>905311</td><td>906011</td><td>701</td><td>FANTOM5</td></tr>\n",
       "\t<tr><td>chr1</td><td>906863</td><td>906986</td><td>124</td><td>FANTOM5</td></tr>\n",
       "\t<tr><td>chr1</td><td>920384</td><td>920777</td><td>394</td><td>FANTOM5</td></tr>\n",
       "\t<tr><td>chr1</td><td>921159</td><td>921377</td><td>219</td><td>FANTOM5</td></tr>\n",
       "\t<tr><td>chr1</td><td>922829</td><td>923779</td><td>951</td><td>FANTOM5</td></tr>\n",
       "\t<tr><td>chr1</td><td>933185</td><td>933304</td><td>120</td><td>FANTOM5</td></tr>\n",
       "</tbody>\n",
       "</table>\n"
      ],
      "text/latex": [
       "A data.table: 6 × 5\n",
       "\\begin{tabular}{lllll}\n",
       " V1 & V2 & V3 & width & type\\\\\n",
       " <chr> & <int> & <int> & <dbl> & <chr>\\\\\n",
       "\\hline\n",
       "\t chr1 & 905311 & 906011 & 701 & FANTOM5\\\\\n",
       "\t chr1 & 906863 & 906986 & 124 & FANTOM5\\\\\n",
       "\t chr1 & 920384 & 920777 & 394 & FANTOM5\\\\\n",
       "\t chr1 & 921159 & 921377 & 219 & FANTOM5\\\\\n",
       "\t chr1 & 922829 & 923779 & 951 & FANTOM5\\\\\n",
       "\t chr1 & 933185 & 933304 & 120 & FANTOM5\\\\\n",
       "\\end{tabular}\n"
      ],
      "text/markdown": [
       "\n",
       "A data.table: 6 × 5\n",
       "\n",
       "| V1 &lt;chr&gt; | V2 &lt;int&gt; | V3 &lt;int&gt; | width &lt;dbl&gt; | type &lt;chr&gt; |\n",
       "|---|---|---|---|---|\n",
       "| chr1 | 905311 | 906011 | 701 | FANTOM5 |\n",
       "| chr1 | 906863 | 906986 | 124 | FANTOM5 |\n",
       "| chr1 | 920384 | 920777 | 394 | FANTOM5 |\n",
       "| chr1 | 921159 | 921377 | 219 | FANTOM5 |\n",
       "| chr1 | 922829 | 923779 | 951 | FANTOM5 |\n",
       "| chr1 | 933185 | 933304 | 120 | FANTOM5 |\n",
       "\n"
      ],
      "text/plain": [
       "  V1   V2     V3     width type   \n",
       "1 chr1 905311 906011 701   FANTOM5\n",
       "2 chr1 906863 906986 124   FANTOM5\n",
       "3 chr1 920384 920777 394   FANTOM5\n",
       "4 chr1 921159 921377 219   FANTOM5\n",
       "5 chr1 922829 923779 951   FANTOM5\n",
       "6 chr1 933185 933304 120   FANTOM5"
      ]
     },
     "metadata": {},
     "output_type": "display_data"
    }
   ],
   "source": [
    "fantom_all <- data.table::fread(\"/scratch/Users/rusi2317/projects/meta_analysis_qc/hg38/enhancers/F5.hg38.enhancers_sorted.bed\")\n",
    "fantom <- fantom_all[,c(1:3)]\n",
    "fantom$width <- fantom$V3 - fantom$V2 + 1\n",
    "fantom$type <- \"FANTOM5\"\n",
    "dim(fantom)\n",
    "head(fantom)"
   ]
  },
  {
   "cell_type": "code",
   "execution_count": 33,
   "metadata": {},
   "outputs": [
    {
     "data": {
      "text/html": [
       "<style>\n",
       ".list-inline {list-style: none; margin:0; padding: 0}\n",
       ".list-inline>li {display: inline-block}\n",
       ".list-inline>li:not(:last-child)::after {content: \"\\00b7\"; padding: 0 .5ex}\n",
       "</style>\n",
       "<ol class=list-inline><li>847521</li><li>5</li></ol>\n"
      ],
      "text/latex": [
       "\\begin{enumerate*}\n",
       "\\item 847521\n",
       "\\item 5\n",
       "\\end{enumerate*}\n"
      ],
      "text/markdown": [
       "1. 847521\n",
       "2. 5\n",
       "\n",
       "\n"
      ],
      "text/plain": [
       "[1] 847521      5"
      ]
     },
     "metadata": {},
     "output_type": "display_data"
    },
    {
     "data": {
      "text/html": [
       "<table class=\"dataframe\">\n",
       "<caption>A data.table: 6 × 5</caption>\n",
       "<thead>\n",
       "\t<tr><th scope=col>V1</th><th scope=col>V2</th><th scope=col>V3</th><th scope=col>width</th><th scope=col>type</th></tr>\n",
       "\t<tr><th scope=col>&lt;chr&gt;</th><th scope=col>&lt;int&gt;</th><th scope=col>&lt;int&gt;</th><th scope=col>&lt;dbl&gt;</th><th scope=col>&lt;chr&gt;</th></tr>\n",
       "</thead>\n",
       "<tbody>\n",
       "\t<tr><td>chr1</td><td> 3917</td><td> 4919</td><td>1003</td><td>DBNascent</td></tr>\n",
       "\t<tr><td>chr1</td><td> 5632</td><td> 6042</td><td> 411</td><td>DBNascent</td></tr>\n",
       "\t<tr><td>chr1</td><td> 6132</td><td> 6486</td><td> 355</td><td>DBNascent</td></tr>\n",
       "\t<tr><td>chr1</td><td> 7207</td><td> 7841</td><td> 635</td><td>DBNascent</td></tr>\n",
       "\t<tr><td>chr1</td><td>10945</td><td>11371</td><td> 427</td><td>DBNascent</td></tr>\n",
       "\t<tr><td>chr1</td><td>12182</td><td>12456</td><td> 275</td><td>DBNascent</td></tr>\n",
       "</tbody>\n",
       "</table>\n"
      ],
      "text/latex": [
       "A data.table: 6 × 5\n",
       "\\begin{tabular}{lllll}\n",
       " V1 & V2 & V3 & width & type\\\\\n",
       " <chr> & <int> & <int> & <dbl> & <chr>\\\\\n",
       "\\hline\n",
       "\t chr1 &  3917 &  4919 & 1003 & DBNascent\\\\\n",
       "\t chr1 &  5632 &  6042 &  411 & DBNascent\\\\\n",
       "\t chr1 &  6132 &  6486 &  355 & DBNascent\\\\\n",
       "\t chr1 &  7207 &  7841 &  635 & DBNascent\\\\\n",
       "\t chr1 & 10945 & 11371 &  427 & DBNascent\\\\\n",
       "\t chr1 & 12182 & 12456 &  275 & DBNascent\\\\\n",
       "\\end{tabular}\n"
      ],
      "text/markdown": [
       "\n",
       "A data.table: 6 × 5\n",
       "\n",
       "| V1 &lt;chr&gt; | V2 &lt;int&gt; | V3 &lt;int&gt; | width &lt;dbl&gt; | type &lt;chr&gt; |\n",
       "|---|---|---|---|---|\n",
       "| chr1 |  3917 |  4919 | 1003 | DBNascent |\n",
       "| chr1 |  5632 |  6042 |  411 | DBNascent |\n",
       "| chr1 |  6132 |  6486 |  355 | DBNascent |\n",
       "| chr1 |  7207 |  7841 |  635 | DBNascent |\n",
       "| chr1 | 10945 | 11371 |  427 | DBNascent |\n",
       "| chr1 | 12182 | 12456 |  275 | DBNascent |\n",
       "\n"
      ],
      "text/plain": [
       "  V1   V2    V3    width type     \n",
       "1 chr1  3917  4919 1003  DBNascent\n",
       "2 chr1  5632  6042  411  DBNascent\n",
       "3 chr1  6132  6486  355  DBNascent\n",
       "4 chr1  7207  7841  635  DBNascent\n",
       "5 chr1 10945 11371  427  DBNascent\n",
       "6 chr1 12182 12456  275  DBNascent"
      ]
     },
     "metadata": {},
     "output_type": "display_data"
    }
   ],
   "source": [
    "bidir_all <- data.table::fread(\"/scratch/Users/rusi2317/projects/meta_analysis_qc/hg38/annotations/hg38_tfit_dreg_bidirectionals.bed\")\n",
    "bidir <- bidir_all[,c(1:3)]\n",
    "bidir$width <- bidir$V3 - bidir$V2 + 1\n",
    "bidir$type <- \"DBNascent\"\n",
    "dim(bidir)\n",
    "head(bidir)"
   ]
  },
  {
   "cell_type": "code",
   "execution_count": 34,
   "metadata": {},
   "outputs": [
    {
     "data": {
      "text/html": [
       "<style>\n",
       ".list-inline {list-style: none; margin:0; padding: 0}\n",
       ".list-inline>li {display: inline-block}\n",
       ".list-inline>li:not(:last-child)::after {content: \"\\00b7\"; padding: 0 .5ex}\n",
       "</style>\n",
       "<ol class=list-inline><li>2029514</li><li>5</li></ol>\n"
      ],
      "text/latex": [
       "\\begin{enumerate*}\n",
       "\\item 2029514\n",
       "\\item 5\n",
       "\\end{enumerate*}\n"
      ],
      "text/markdown": [
       "1. 2029514\n",
       "2. 5\n",
       "\n",
       "\n"
      ],
      "text/plain": [
       "[1] 2029514       5"
      ]
     },
     "metadata": {},
     "output_type": "display_data"
    }
   ],
   "source": [
    "ccres <- rbind(bidir, fantom, encode, EnhancerAtlas)\n",
    "dim(ccres)"
   ]
  },
  {
   "cell_type": "code",
   "execution_count": 35,
   "metadata": {},
   "outputs": [
    {
     "data": {
      "image/png": "[encoded data removed]",
      "text/plain": [
       "plot without title"
      ]
     },
     "metadata": {
      "image/png": {
       "height": 480,
       "width": 720
      }
     },
     "output_type": "display_data"
    }
   ],
   "source": [
    "options(repr.plot.width=12, repr.plot.height=8)\n",
    "\n",
    "ccres_widths <- ggplot(ccres,\n",
    "       aes(x=type, \n",
    "           y=log(width, base=10))) +\n",
    "  geom_violin(trim=FALSE, alpha=0.95, aes(fill=type)) +\n",
    "  geom_boxplot(width=0.05, fill=\"white\") +\n",
    "labs(title=\"Human cCREs Widths\",\n",
    "     x=\" \", \n",
    "     y = expression(paste(log[10],\" Width (bp)\", sep=' ')) )+\n",
    "theme_cowplot(24) +\n",
    "theme(plot.title = element_text(hjust = 0.5),\n",
    "      title = element_text(size = 30), \n",
    "      axis.title = element_text(size = 30), \n",
    "      axis.text = element_text(size = 20),\n",
    "     axis.text.x = element_text(size = 20, angle=45, hjust=0.95),\n",
    "     legend.position=\"none\") \n",
    "\n",
    "ccres_widths"
   ]
  },
  {
   "cell_type": "code",
   "execution_count": 36,
   "metadata": {
    "scrolled": false
   },
   "outputs": [
    {
     "data": {
      "image/png": "[encoded data removed]",
      "text/plain": [
       "plot without title"
      ]
     },
     "metadata": {
      "image/png": {
       "height": 480,
       "width": 720
      }
     },
     "output_type": "display_data"
    }
   ],
   "source": [
    "options(repr.plot.width=12, repr.plot.height=8)\n",
    "\n",
    "ccres_widths_hist <- ggplot(ccres,\n",
    "       aes(x=log(width, base=10), fill=type)) +\n",
    "  geom_histogram(alpha=0.7, position=\"identity\", bins = 50, color=\"gray40\") +\n",
    "labs(title=\"Human cCREs Widths\",\n",
    "     y=\"Count\", \n",
    "     x = expression(paste(log[10],\" Width (bp)\", sep=' ')),\n",
    "    fill=\" \")+\n",
    "theme_cowplot(24) +\n",
    "scale_y_continuous(labels = scales::label_comma(), expand = c(0, 0)) +\n",
    "theme(plot.title = element_text(hjust = 0.5),\n",
    "      title = element_text(size = 30), \n",
    "      axis.title = element_text(size = 30), \n",
    "      axis.text = element_text(size = 20),\n",
    "     axis.text.x = element_text(size = 20),\n",
    "     legend.position=\"top\") \n",
    "\n",
    "ccres_widths_hist"
   ]
  },
  {
   "cell_type": "markdown",
   "metadata": {},
   "source": [
    "## Mouse"
   ]
  },
  {
   "cell_type": "code",
   "execution_count": 37,
   "metadata": {},
   "outputs": [
    {
     "data": {
      "text/html": [
       "<style>\n",
       ".list-inline {list-style: none; margin:0; padding: 0}\n",
       ".list-inline>li {display: inline-block}\n",
       ".list-inline>li:not(:last-child)::after {content: \"\\00b7\"; padding: 0 .5ex}\n",
       "</style>\n",
       "<ol class=list-inline><li>519730</li><li>5</li></ol>\n"
      ],
      "text/latex": [
       "\\begin{enumerate*}\n",
       "\\item 519730\n",
       "\\item 5\n",
       "\\end{enumerate*}\n"
      ],
      "text/markdown": [
       "1. 519730\n",
       "2. 5\n",
       "\n",
       "\n"
      ],
      "text/plain": [
       "[1] 519730      5"
      ]
     },
     "metadata": {},
     "output_type": "display_data"
    },
    {
     "data": {
      "text/html": [
       "<table class=\"dataframe\">\n",
       "<caption>A data.table: 6 × 5</caption>\n",
       "<thead>\n",
       "\t<tr><th scope=col>V1</th><th scope=col>V2</th><th scope=col>V3</th><th scope=col>width</th><th scope=col>type</th></tr>\n",
       "\t<tr><th scope=col>&lt;chr&gt;</th><th scope=col>&lt;int&gt;</th><th scope=col>&lt;int&gt;</th><th scope=col>&lt;dbl&gt;</th><th scope=col>&lt;chr&gt;</th></tr>\n",
       "</thead>\n",
       "<tbody>\n",
       "\t<tr><td>chr1</td><td>3009939</td><td>3015775</td><td> 5837</td><td>EnhancerAtlas</td></tr>\n",
       "\t<tr><td>chr1</td><td>3019162</td><td>3019521</td><td>  360</td><td>EnhancerAtlas</td></tr>\n",
       "\t<tr><td>chr1</td><td>3019767</td><td>3020200</td><td>  434</td><td>EnhancerAtlas</td></tr>\n",
       "\t<tr><td>chr1</td><td>3020451</td><td>3022525</td><td> 2075</td><td>EnhancerAtlas</td></tr>\n",
       "\t<tr><td>chr1</td><td>3022564</td><td>3032563</td><td>10000</td><td>EnhancerAtlas</td></tr>\n",
       "\t<tr><td>chr1</td><td>3032770</td><td>3038350</td><td> 5581</td><td>EnhancerAtlas</td></tr>\n",
       "</tbody>\n",
       "</table>\n"
      ],
      "text/latex": [
       "A data.table: 6 × 5\n",
       "\\begin{tabular}{lllll}\n",
       " V1 & V2 & V3 & width & type\\\\\n",
       " <chr> & <int> & <int> & <dbl> & <chr>\\\\\n",
       "\\hline\n",
       "\t chr1 & 3009939 & 3015775 &  5837 & EnhancerAtlas\\\\\n",
       "\t chr1 & 3019162 & 3019521 &   360 & EnhancerAtlas\\\\\n",
       "\t chr1 & 3019767 & 3020200 &   434 & EnhancerAtlas\\\\\n",
       "\t chr1 & 3020451 & 3022525 &  2075 & EnhancerAtlas\\\\\n",
       "\t chr1 & 3022564 & 3032563 & 10000 & EnhancerAtlas\\\\\n",
       "\t chr1 & 3032770 & 3038350 &  5581 & EnhancerAtlas\\\\\n",
       "\\end{tabular}\n"
      ],
      "text/markdown": [
       "\n",
       "A data.table: 6 × 5\n",
       "\n",
       "| V1 &lt;chr&gt; | V2 &lt;int&gt; | V3 &lt;int&gt; | width &lt;dbl&gt; | type &lt;chr&gt; |\n",
       "|---|---|---|---|---|\n",
       "| chr1 | 3009939 | 3015775 |  5837 | EnhancerAtlas |\n",
       "| chr1 | 3019162 | 3019521 |   360 | EnhancerAtlas |\n",
       "| chr1 | 3019767 | 3020200 |   434 | EnhancerAtlas |\n",
       "| chr1 | 3020451 | 3022525 |  2075 | EnhancerAtlas |\n",
       "| chr1 | 3022564 | 3032563 | 10000 | EnhancerAtlas |\n",
       "| chr1 | 3032770 | 3038350 |  5581 | EnhancerAtlas |\n",
       "\n"
      ],
      "text/plain": [
       "  V1   V2      V3      width type         \n",
       "1 chr1 3009939 3015775  5837 EnhancerAtlas\n",
       "2 chr1 3019162 3019521   360 EnhancerAtlas\n",
       "3 chr1 3019767 3020200   434 EnhancerAtlas\n",
       "4 chr1 3020451 3022525  2075 EnhancerAtlas\n",
       "5 chr1 3022564 3032563 10000 EnhancerAtlas\n",
       "6 chr1 3032770 3038350  5581 EnhancerAtlas"
      ]
     },
     "metadata": {},
     "output_type": "display_data"
    }
   ],
   "source": [
    "EnhancerAtlas <- data.table::fread(\"/scratch/Users/rusi2317/projects/meta_analysis_qc/mm10/enhancers/Enhancer_Atlas_species_enh_bed/mm10_liftOverFrom_mm9_sorted.bed\")\n",
    "EnhancerAtlas$width <- EnhancerAtlas$V3 -EnhancerAtlas$V2 +1\n",
    "EnhancerAtlas$type <- \"EnhancerAtlas\"\n",
    "dim(EnhancerAtlas)\n",
    "head(EnhancerAtlas)"
   ]
  },
  {
   "cell_type": "code",
   "execution_count": 38,
   "metadata": {},
   "outputs": [
    {
     "data": {
      "text/html": [
       "<style>\n",
       ".list-inline {list-style: none; margin:0; padding: 0}\n",
       ".list-inline>li {display: inline-block}\n",
       ".list-inline>li:not(:last-child)::after {content: \"\\00b7\"; padding: 0 .5ex}\n",
       "</style>\n",
       "<ol class=list-inline><li>343731</li><li>5</li></ol>\n"
      ],
      "text/latex": [
       "\\begin{enumerate*}\n",
       "\\item 343731\n",
       "\\item 5\n",
       "\\end{enumerate*}\n"
      ],
      "text/markdown": [
       "1. 343731\n",
       "2. 5\n",
       "\n",
       "\n"
      ],
      "text/plain": [
       "[1] 343731      5"
      ]
     },
     "metadata": {},
     "output_type": "display_data"
    },
    {
     "data": {
      "text/html": [
       "<table class=\"dataframe\">\n",
       "<caption>A data.table: 6 × 5</caption>\n",
       "<thead>\n",
       "\t<tr><th scope=col>V1</th><th scope=col>V2</th><th scope=col>V3</th><th scope=col>width</th><th scope=col>type</th></tr>\n",
       "\t<tr><th scope=col>&lt;chr&gt;</th><th scope=col>&lt;int&gt;</th><th scope=col>&lt;int&gt;</th><th scope=col>&lt;dbl&gt;</th><th scope=col>&lt;chr&gt;</th></tr>\n",
       "</thead>\n",
       "<tbody>\n",
       "\t<tr><td>chr1</td><td>3119617</td><td>3119911</td><td>295</td><td>ENCODE</td></tr>\n",
       "\t<tr><td>chr1</td><td>3119914</td><td>3120120</td><td>207</td><td>ENCODE</td></tr>\n",
       "\t<tr><td>chr1</td><td>3120346</td><td>3120662</td><td>317</td><td>ENCODE</td></tr>\n",
       "\t<tr><td>chr1</td><td>3292622</td><td>3292971</td><td>350</td><td>ENCODE</td></tr>\n",
       "\t<tr><td>chr1</td><td>3322453</td><td>3322797</td><td>345</td><td>ENCODE</td></tr>\n",
       "\t<tr><td>chr1</td><td>3399871</td><td>3400218</td><td>348</td><td>ENCODE</td></tr>\n",
       "</tbody>\n",
       "</table>\n"
      ],
      "text/latex": [
       "A data.table: 6 × 5\n",
       "\\begin{tabular}{lllll}\n",
       " V1 & V2 & V3 & width & type\\\\\n",
       " <chr> & <int> & <int> & <dbl> & <chr>\\\\\n",
       "\\hline\n",
       "\t chr1 & 3119617 & 3119911 & 295 & ENCODE\\\\\n",
       "\t chr1 & 3119914 & 3120120 & 207 & ENCODE\\\\\n",
       "\t chr1 & 3120346 & 3120662 & 317 & ENCODE\\\\\n",
       "\t chr1 & 3292622 & 3292971 & 350 & ENCODE\\\\\n",
       "\t chr1 & 3322453 & 3322797 & 345 & ENCODE\\\\\n",
       "\t chr1 & 3399871 & 3400218 & 348 & ENCODE\\\\\n",
       "\\end{tabular}\n"
      ],
      "text/markdown": [
       "\n",
       "A data.table: 6 × 5\n",
       "\n",
       "| V1 &lt;chr&gt; | V2 &lt;int&gt; | V3 &lt;int&gt; | width &lt;dbl&gt; | type &lt;chr&gt; |\n",
       "|---|---|---|---|---|\n",
       "| chr1 | 3119617 | 3119911 | 295 | ENCODE |\n",
       "| chr1 | 3119914 | 3120120 | 207 | ENCODE |\n",
       "| chr1 | 3120346 | 3120662 | 317 | ENCODE |\n",
       "| chr1 | 3292622 | 3292971 | 350 | ENCODE |\n",
       "| chr1 | 3322453 | 3322797 | 345 | ENCODE |\n",
       "| chr1 | 3399871 | 3400218 | 348 | ENCODE |\n",
       "\n"
      ],
      "text/plain": [
       "  V1   V2      V3      width type  \n",
       "1 chr1 3119617 3119911 295   ENCODE\n",
       "2 chr1 3119914 3120120 207   ENCODE\n",
       "3 chr1 3120346 3120662 317   ENCODE\n",
       "4 chr1 3292622 3292971 350   ENCODE\n",
       "5 chr1 3322453 3322797 345   ENCODE\n",
       "6 chr1 3399871 3400218 348   ENCODE"
      ]
     },
     "metadata": {},
     "output_type": "display_data"
    }
   ],
   "source": [
    "encode_all <- data.table::fread(\"/scratch/Users/rusi2317/projects/meta_analysis_qc/mm10/enhancers/ENCODE/mm10_encodeCcreCombined.bed\")\n",
    "encode <- encode_all[,c(1:3)]\n",
    "encode$width <- encode$V3 - encode$V2 + 1\n",
    "encode$type <- \"ENCODE\"\n",
    "dim(encode)\n",
    "head(encode)"
   ]
  },
  {
   "cell_type": "code",
   "execution_count": 39,
   "metadata": {},
   "outputs": [
    {
     "data": {
      "text/html": [
       "<style>\n",
       ".list-inline {list-style: none; margin:0; padding: 0}\n",
       ".list-inline>li {display: inline-block}\n",
       ".list-inline>li:not(:last-child)::after {content: \"\\00b7\"; padding: 0 .5ex}\n",
       "</style>\n",
       "<ol class=list-inline><li>49797</li><li>5</li></ol>\n"
      ],
      "text/latex": [
       "\\begin{enumerate*}\n",
       "\\item 49797\n",
       "\\item 5\n",
       "\\end{enumerate*}\n"
      ],
      "text/markdown": [
       "1. 49797\n",
       "2. 5\n",
       "\n",
       "\n"
      ],
      "text/plain": [
       "[1] 49797     5"
      ]
     },
     "metadata": {},
     "output_type": "display_data"
    },
    {
     "data": {
      "text/html": [
       "<table class=\"dataframe\">\n",
       "<caption>A data.table: 6 × 5</caption>\n",
       "<thead>\n",
       "\t<tr><th scope=col>V1</th><th scope=col>V2</th><th scope=col>V3</th><th scope=col>width</th><th scope=col>type</th></tr>\n",
       "\t<tr><th scope=col>&lt;chr&gt;</th><th scope=col>&lt;int&gt;</th><th scope=col>&lt;int&gt;</th><th scope=col>&lt;dbl&gt;</th><th scope=col>&lt;chr&gt;</th></tr>\n",
       "</thead>\n",
       "<tbody>\n",
       "\t<tr><td>chr1</td><td>3210826</td><td>3210847</td><td> 22</td><td>FANTOM5</td></tr>\n",
       "\t<tr><td>chr1</td><td>3318911</td><td>3319261</td><td>351</td><td>FANTOM5</td></tr>\n",
       "\t<tr><td>chr1</td><td>3468075</td><td>3468325</td><td>251</td><td>FANTOM5</td></tr>\n",
       "\t<tr><td>chr1</td><td>3635524</td><td>3635845</td><td>322</td><td>FANTOM5</td></tr>\n",
       "\t<tr><td>chr1</td><td>3672526</td><td>3672630</td><td>105</td><td>FANTOM5</td></tr>\n",
       "\t<tr><td>chr1</td><td>3928654</td><td>3928920</td><td>267</td><td>FANTOM5</td></tr>\n",
       "</tbody>\n",
       "</table>\n"
      ],
      "text/latex": [
       "A data.table: 6 × 5\n",
       "\\begin{tabular}{lllll}\n",
       " V1 & V2 & V3 & width & type\\\\\n",
       " <chr> & <int> & <int> & <dbl> & <chr>\\\\\n",
       "\\hline\n",
       "\t chr1 & 3210826 & 3210847 &  22 & FANTOM5\\\\\n",
       "\t chr1 & 3318911 & 3319261 & 351 & FANTOM5\\\\\n",
       "\t chr1 & 3468075 & 3468325 & 251 & FANTOM5\\\\\n",
       "\t chr1 & 3635524 & 3635845 & 322 & FANTOM5\\\\\n",
       "\t chr1 & 3672526 & 3672630 & 105 & FANTOM5\\\\\n",
       "\t chr1 & 3928654 & 3928920 & 267 & FANTOM5\\\\\n",
       "\\end{tabular}\n"
      ],
      "text/markdown": [
       "\n",
       "A data.table: 6 × 5\n",
       "\n",
       "| V1 &lt;chr&gt; | V2 &lt;int&gt; | V3 &lt;int&gt; | width &lt;dbl&gt; | type &lt;chr&gt; |\n",
       "|---|---|---|---|---|\n",
       "| chr1 | 3210826 | 3210847 |  22 | FANTOM5 |\n",
       "| chr1 | 3318911 | 3319261 | 351 | FANTOM5 |\n",
       "| chr1 | 3468075 | 3468325 | 251 | FANTOM5 |\n",
       "| chr1 | 3635524 | 3635845 | 322 | FANTOM5 |\n",
       "| chr1 | 3672526 | 3672630 | 105 | FANTOM5 |\n",
       "| chr1 | 3928654 | 3928920 | 267 | FANTOM5 |\n",
       "\n"
      ],
      "text/plain": [
       "  V1   V2      V3      width type   \n",
       "1 chr1 3210826 3210847  22   FANTOM5\n",
       "2 chr1 3318911 3319261 351   FANTOM5\n",
       "3 chr1 3468075 3468325 251   FANTOM5\n",
       "4 chr1 3635524 3635845 322   FANTOM5\n",
       "5 chr1 3672526 3672630 105   FANTOM5\n",
       "6 chr1 3928654 3928920 267   FANTOM5"
      ]
     },
     "metadata": {},
     "output_type": "display_data"
    }
   ],
   "source": [
    "fantom_all <- data.table::fread(\"/scratch/Users/rusi2317/projects/meta_analysis_qc/mm10/enhancers/F5.mm10.enhancers_sorted.bed\")\n",
    "fantom <- fantom_all[,c(1:3)]\n",
    "fantom$width <- fantom$V3 - fantom$V2 + 1\n",
    "fantom$type <- \"FANTOM5\"\n",
    "dim(fantom)\n",
    "head(fantom)"
   ]
  },
  {
   "cell_type": "code",
   "execution_count": 40,
   "metadata": {},
   "outputs": [
    {
     "data": {
      "text/html": [
       "<style>\n",
       ".list-inline {list-style: none; margin:0; padding: 0}\n",
       ".list-inline>li {display: inline-block}\n",
       ".list-inline>li:not(:last-child)::after {content: \"\\00b7\"; padding: 0 .5ex}\n",
       "</style>\n",
       "<ol class=list-inline><li>680735</li><li>5</li></ol>\n"
      ],
      "text/latex": [
       "\\begin{enumerate*}\n",
       "\\item 680735\n",
       "\\item 5\n",
       "\\end{enumerate*}\n"
      ],
      "text/markdown": [
       "1. 680735\n",
       "2. 5\n",
       "\n",
       "\n"
      ],
      "text/plain": [
       "[1] 680735      5"
      ]
     },
     "metadata": {},
     "output_type": "display_data"
    },
    {
     "data": {
      "text/html": [
       "<table class=\"dataframe\">\n",
       "<caption>A data.table: 6 × 5</caption>\n",
       "<thead>\n",
       "\t<tr><th scope=col>V1</th><th scope=col>V2</th><th scope=col>V3</th><th scope=col>width</th><th scope=col>type</th></tr>\n",
       "\t<tr><th scope=col>&lt;chr&gt;</th><th scope=col>&lt;int&gt;</th><th scope=col>&lt;int&gt;</th><th scope=col>&lt;dbl&gt;</th><th scope=col>&lt;chr&gt;</th></tr>\n",
       "</thead>\n",
       "<tbody>\n",
       "\t<tr><td>chr1</td><td>6234</td><td>6612</td><td>379</td><td>DBNascent</td></tr>\n",
       "\t<tr><td>chr1</td><td>6855</td><td>7341</td><td>487</td><td>DBNascent</td></tr>\n",
       "\t<tr><td>chr1</td><td>7420</td><td>8220</td><td>801</td><td>DBNascent</td></tr>\n",
       "\t<tr><td>chr1</td><td>8419</td><td>8749</td><td>331</td><td>DBNascent</td></tr>\n",
       "\t<tr><td>chr1</td><td>8885</td><td>9199</td><td>315</td><td>DBNascent</td></tr>\n",
       "\t<tr><td>chr1</td><td>9679</td><td>9991</td><td>313</td><td>DBNascent</td></tr>\n",
       "</tbody>\n",
       "</table>\n"
      ],
      "text/latex": [
       "A data.table: 6 × 5\n",
       "\\begin{tabular}{lllll}\n",
       " V1 & V2 & V3 & width & type\\\\\n",
       " <chr> & <int> & <int> & <dbl> & <chr>\\\\\n",
       "\\hline\n",
       "\t chr1 & 6234 & 6612 & 379 & DBNascent\\\\\n",
       "\t chr1 & 6855 & 7341 & 487 & DBNascent\\\\\n",
       "\t chr1 & 7420 & 8220 & 801 & DBNascent\\\\\n",
       "\t chr1 & 8419 & 8749 & 331 & DBNascent\\\\\n",
       "\t chr1 & 8885 & 9199 & 315 & DBNascent\\\\\n",
       "\t chr1 & 9679 & 9991 & 313 & DBNascent\\\\\n",
       "\\end{tabular}\n"
      ],
      "text/markdown": [
       "\n",
       "A data.table: 6 × 5\n",
       "\n",
       "| V1 &lt;chr&gt; | V2 &lt;int&gt; | V3 &lt;int&gt; | width &lt;dbl&gt; | type &lt;chr&gt; |\n",
       "|---|---|---|---|---|\n",
       "| chr1 | 6234 | 6612 | 379 | DBNascent |\n",
       "| chr1 | 6855 | 7341 | 487 | DBNascent |\n",
       "| chr1 | 7420 | 8220 | 801 | DBNascent |\n",
       "| chr1 | 8419 | 8749 | 331 | DBNascent |\n",
       "| chr1 | 8885 | 9199 | 315 | DBNascent |\n",
       "| chr1 | 9679 | 9991 | 313 | DBNascent |\n",
       "\n"
      ],
      "text/plain": [
       "  V1   V2   V3   width type     \n",
       "1 chr1 6234 6612 379   DBNascent\n",
       "2 chr1 6855 7341 487   DBNascent\n",
       "3 chr1 7420 8220 801   DBNascent\n",
       "4 chr1 8419 8749 331   DBNascent\n",
       "5 chr1 8885 9199 315   DBNascent\n",
       "6 chr1 9679 9991 313   DBNascent"
      ]
     },
     "metadata": {},
     "output_type": "display_data"
    }
   ],
   "source": [
    "bidir_all <- data.table::fread(\"/scratch/Users/rusi2317/projects/meta_analysis_qc/mm10/annotations/mm10_tfit_dreg_bidirectionals.bed\")\n",
    "bidir <- bidir_all[,c(1:3)]\n",
    "bidir$width <- bidir$V3 - bidir$V2 + 1\n",
    "bidir$type <- \"DBNascent\"\n",
    "dim(bidir)\n",
    "head(bidir)"
   ]
  },
  {
   "cell_type": "code",
   "execution_count": 41,
   "metadata": {},
   "outputs": [
    {
     "data": {
      "text/html": [
       "<style>\n",
       ".list-inline {list-style: none; margin:0; padding: 0}\n",
       ".list-inline>li {display: inline-block}\n",
       ".list-inline>li:not(:last-child)::after {content: \"\\00b7\"; padding: 0 .5ex}\n",
       "</style>\n",
       "<ol class=list-inline><li>1593993</li><li>5</li></ol>\n"
      ],
      "text/latex": [
       "\\begin{enumerate*}\n",
       "\\item 1593993\n",
       "\\item 5\n",
       "\\end{enumerate*}\n"
      ],
      "text/markdown": [
       "1. 1593993\n",
       "2. 5\n",
       "\n",
       "\n"
      ],
      "text/plain": [
       "[1] 1593993       5"
      ]
     },
     "metadata": {},
     "output_type": "display_data"
    }
   ],
   "source": [
    "ccres <- rbind(bidir, fantom, encode, EnhancerAtlas)\n",
    "dim(ccres)"
   ]
  },
  {
   "cell_type": "code",
   "execution_count": 42,
   "metadata": {},
   "outputs": [
    {
     "data": {
      "image/png": "[encoded data removed]",
      "text/plain": [
       "plot without title"
      ]
     },
     "metadata": {
      "image/png": {
       "height": 480,
       "width": 720
      }
     },
     "output_type": "display_data"
    }
   ],
   "source": [
    "options(repr.plot.width=12, repr.plot.height=8)\n",
    "\n",
    "ccres_widths <- ggplot(ccres,\n",
    "       aes(x=type, \n",
    "           y=log(width, base=10))) +\n",
    "  geom_violin(trim=FALSE, alpha=0.95, aes(fill=type)) +\n",
    "  geom_boxplot(width=0.05, fill=\"white\") +\n",
    "labs(title=\"Mouse cCREs Widths\",\n",
    "     x=\" \", \n",
    "     y = expression(paste(log[10],\" Width (bp)\", sep=' ')) )+\n",
    "theme_cowplot(24) +\n",
    "theme(plot.title = element_text(hjust = 0.5),\n",
    "      title = element_text(size = 30), \n",
    "      axis.title = element_text(size = 30), \n",
    "      axis.text = element_text(size = 20),\n",
    "     axis.text.x = element_text(size = 20, angle=45, hjust=0.95),\n",
    "     legend.position=\"none\") \n",
    "\n",
    "ccres_widths"
   ]
  },
  {
   "cell_type": "code",
   "execution_count": 43,
   "metadata": {},
   "outputs": [
    {
     "data": {
      "image/png": "[encoded data removed]",
      "text/plain": [
       "plot without title"
      ]
     },
     "metadata": {
      "image/png": {
       "height": 480,
       "width": 720
      }
     },
     "output_type": "display_data"
    }
   ],
   "source": [
    "options(repr.plot.width=12, repr.plot.height=8)\n",
    "\n",
    "ccres_widths_hist <- ggplot(ccres,\n",
    "       aes(x=log(width, base=10), fill=type)) +\n",
    "  geom_histogram(alpha=0.7, position=\"identity\", bins = 50, color=\"gray40\") +\n",
    "labs(title=\"Mouse cCREs Widths\",\n",
    "     y=\"Count\", \n",
    "     x = expression(paste(log[10],\" Width (bp)\", sep=' ')),\n",
    "    fill=\" \")+\n",
    "theme_cowplot(24) +\n",
    "scale_y_continuous(labels = scales::label_comma(), expand = c(0, 0)) +\n",
    "theme(plot.title = element_text(hjust = 0.5),\n",
    "      title = element_text(size = 30), \n",
    "      axis.title = element_text(size = 30), \n",
    "      axis.text = element_text(size = 20),\n",
    "     axis.text.x = element_text(size = 20),\n",
    "     legend.position=\"top\") \n",
    "\n",
    "ccres_widths_hist"
   ]
  },
  {
   "cell_type": "markdown",
   "metadata": {},
   "source": [
    "# Session Information"
   ]
  },
  {
   "cell_type": "code",
   "execution_count": 44,
   "metadata": {},
   "outputs": [
    {
     "data": {
      "text/plain": [
       "R version 3.6.0 (2019-04-26)\n",
       "Platform: x86_64-redhat-linux-gnu (64-bit)\n",
       "Running under: CentOS Linux 7 (Core)\n",
       "\n",
       "Matrix products: default\n",
       "BLAS/LAPACK: /usr/lib64/R/lib/libRblas.so\n",
       "\n",
       "locale:\n",
       " [1] LC_CTYPE=en_US.UTF-8       LC_NUMERIC=C              \n",
       " [3] LC_TIME=en_US.UTF-8        LC_COLLATE=en_US.UTF-8    \n",
       " [5] LC_MONETARY=en_US.UTF-8    LC_MESSAGES=en_US.UTF-8   \n",
       " [7] LC_PAPER=en_US.UTF-8       LC_NAME=C                 \n",
       " [9] LC_ADDRESS=C               LC_TELEPHONE=C            \n",
       "[11] LC_MEASUREMENT=en_US.UTF-8 LC_IDENTIFICATION=C       \n",
       "\n",
       "attached base packages:\n",
       "[1] stats     graphics  grDevices utils     datasets  methods   base     \n",
       "\n",
       "other attached packages:\n",
       " [1] epitools_0.5-10.1 data.table_1.14.2 UpSetR_1.4.0      scales_1.2.1     \n",
       " [5] stringr_1.4.1     purrr_0.3.4       tidyr_1.2.1       dplyr_1.0.10     \n",
       " [9] cowplot_1.1.1     ggplot2_3.3.6    \n",
       "\n",
       "loaded via a namespace (and not attached):\n",
       " [1] Rcpp_1.0.8.3      plyr_1.8.7        pillar_1.8.1      compiler_3.6.0   \n",
       " [5] base64enc_0.1-3   tools_3.6.0       digest_0.6.29     uuid_1.1-0       \n",
       " [9] jsonlite_1.8.0    evaluate_0.16     lifecycle_1.0.3   tibble_3.1.8     \n",
       "[13] gtable_0.3.1      pkgconfig_2.0.3   rlang_1.0.6       IRdisplay_1.1    \n",
       "[17] cli_3.4.1         DBI_1.1.3         IRkernel_1.3.2    fastmap_1.1.0    \n",
       "[21] gridExtra_2.3     withr_2.5.0       repr_1.1.4        systemfonts_1.0.4\n",
       "[25] generics_0.1.3    vctrs_0.5.0       grid_3.6.0        tidyselect_1.1.2 \n",
       "[29] glue_1.6.2        R6_2.5.1          textshaping_0.3.6 fansi_1.0.3      \n",
       "[33] pbdZMQ_0.3-7      farver_2.1.1      magrittr_2.0.3    htmltools_0.5.2  \n",
       "[37] assertthat_0.2.1  colorspace_2.0-3  ragg_1.2.2        labeling_0.4.2   \n",
       "[41] utf8_1.2.2        stringi_1.7.8     munsell_0.5.0     crayon_1.5.1     "
      ]
     },
     "metadata": {},
     "output_type": "display_data"
    }
   ],
   "source": [
    "sessionInfo()"
   ]
  }
 ],
 "metadata": {
  "kernelspec": {
   "display_name": "R",
   "language": "R",
   "name": "ir"
  },
  "language_info": {
   "codemirror_mode": "r",
   "file_extension": ".r",
   "mimetype": "text/x-r-source",
   "name": "R",
   "pygments_lexer": "r",
   "version": "3.6.0"
  },
  "toc": {
   "base_numbering": 1,
   "nav_menu": {},
   "number_sections": true,
   "sideBar": true,
   "skip_h1_title": false,
   "title_cell": "Table of Contents",
   "title_sidebar": "Contents",
   "toc_cell": false,
   "toc_position": {
    "height": "calc(100% - 180px)",
    "left": "10px",
    "top": "150px",
    "width": "326px"
   },
   "toc_section_display": true,
   "toc_window_display": true
  }
 },
 "nbformat": 4,
 "nbformat_minor": 2
}
